{
 "cells": [
  {
   "cell_type": "markdown",
   "metadata": {},
   "source": [
    "# Australian Ecosystem Models\n",
    "\n",
    "A notebook to take the LCCS classification and layers and convert to Australian Ecosystem types. The associated paper is available at: https://docs.google.com/document/d/1Utlqi5493sKQ2zyexroxspw8a3HahF92/edit\n",
    "\n",
    "## Requirements ##\n",
    "\n",
    "The notebook requires the following repost to be cloned into the `~/development` folder:\n",
    "\n",
    "* https://bitbucket.org/au-eoed/livingearth_lccs\n",
    "* https://bitbucket.org/au-eoed/livingearth_australia/\n",
    "* https://github.com/GeoscienceAustralia/dea-notebooks\n",
    "\n",
    "And this repo to be cloned into the home folder.\n",
    "\n",
    "To get the other repos, open a terminal window and run the following commands:\n",
    "```\n",
    "mkdir ~/development\n",
    "cd ~/development\n",
    "git clone https://bitbucket.org/au-eoed/livingearth_lccs.git\n",
    "git clone https://bitbucket.org/au-eoed/livingearth_australia.git\n",
    "https://github.com/GeoscienceAustralia/dea-notebooks.git\n",
    "```\n",
    "\n",
    "If you already have these repos checked out, make sure they are using the latest version of the master branch:\n",
    "```\n",
    "cd ~/development/livingearth_lccs\n",
    "git checkout master\n",
    "git pull\n",
    "\n",
    "cd ~/development/livingearth_australia\n",
    "git checkout master\n",
    "git pull\n",
    "```\n",
    "\n",
    "Most layers are loaded from the data cube but there are a couple of static layers. For convenience these are loaded from a server at Plymouth Marine Laboratory in the UK as needed.\n",
    "\n",
    "To test, you can access these OK, try running:\n",
    "```\n",
    "gdalinfo /vsicurl/https://rsg.pml.ac.uk/shared_files/dac/dea/TCW_GKP_Average_2013-2016.tif\n",
    "```\n",
    "Which should print details about the file.\n",
    "\n",
    "### Git Hints ###\n",
    "\n",
    "The Bitbucket repository https://bitbucket.org/au-eoed/australia_ecosystems_notebooks/src/master/\n",
    "\n",
    "from bitbucket, paste into terminal window:\n",
    "```\n",
    "cd ~/\n",
    "git clone https://richardmlucas@bitbucket.org/au-eoed/australia_ecosystems_notebooks.git\n",
    "```\n",
    "Put in the password for bitbucket, note you will need to change to include your username in the link.\n",
    "\n",
    "Type pwd (should be in /home/jovyan) cd australia_ecosystems_notebooks/ cp ../dev/AEM/Ecosystem_Attributes.ipynb ./ git diff (this shows differences from the pre-changed version)\n",
    "\n",
    "Go to the git menu at the top (next to Kernel) >. Git interface Selected Ecosystem Attributes.ipynb (note the checkpoint is an autosave file that does not need sharing so ignore) Then add (+)- the equivalent command in the terminal is git add Ecosystem_Attributes.ipynb Add in a summary and then select commit (make sure you are on the Ecosystem_Attributes.ipynb file above.\n",
    "\n",
    "Then, go back to the file, refresh and hit the git tab at the top of the file. then need to push up changes using the cloud ^ on the left hand vertical menu\n",
    "\n",
    "To get changes made, use the down cloud arrow."
   ]
  },
  {
   "cell_type": "markdown",
   "metadata": {},
   "source": [
    "## General set up\n",
    "\n",
    "Import all relevant libraries. Need to download and install the latest version of `le_lccs` from: https://bitbucket.org/au-eoed/livingearth_lccs"
   ]
  },
  {
   "cell_type": "code",
   "execution_count": 2,
   "metadata": {},
   "outputs": [],
   "source": [
    "import argparse\n",
    "import logging\n",
    "import os\n",
    "import sys\n",
    "import yaml\n",
    "\n",
    "import numpy\n",
    "import xarray\n",
    "from matplotlib import pyplot\n",
    "\n",
    "from datacube.utils import cog\n",
    "\n",
    "# Import le_lccs modules (added from DPSIR.ipynb to allow export)\n",
    "sys.path.append(\"/home/jovyan/development/livingearth_lccs\")\n",
    "from le_lccs import le_ingest\n",
    "from le_lccs import le_export\n",
    "\n",
    "sys.path.append(os.path.abspath(\"/home/jovyan/development/livingearth_australia/le_plugins\"))\n",
    "sys.path.append(\"/home/jovyan/development/livingearth_lccs\")\n",
    "sys.path.append(\"/home/jovyan/development/dea-notebooks/Scripts\")\n",
    "sys.path.append(\"/home/jovyan/development/livingearth_australia\")\n",
    "\n",
    "os.environ[\"LE_LCCS_PLUGINS_PATH\"] = \"/home/jovyan/development/livingearth_australia/le_plugins\"\n",
    "\n",
    "# Import le_lccs modules\n",
    "from le_lccs.le_classification import lccs_l3\n",
    "from le_lccs.le_classification import lccs_l4\n",
    "from le_lccs.le_classification import simple_change\n",
    "from le_lccs.le_utils import gridded_classification\n",
    "from le_lccs.le_classification import simple_change\n",
    "from le_lccs.le_classification import evidence_based_change"
   ]
  },
  {
   "cell_type": "code",
   "execution_count": 3,
   "metadata": {},
   "outputs": [],
   "source": [
    "# Set up logger\n",
    "logging.basicConfig(stream=sys.stdout, level=logging.ERROR)\n",
    "\n",
    "## Set up some useful functions\n",
    "def update_config_year(in_config, in_year, out_year):\n",
    "    \"\"\"\n",
    "    Set up function to replace year in config file\n",
    "    \"\"\"\n",
    "    # If no change to config is required just return\n",
    "    if in_year == out_year:\n",
    "        return in_config\n",
    "    \n",
    "    with open(in_config, \"r\") as f:\n",
    "        config_text = f.read()\n",
    "    config_text = config_text.replace(in_year, out_year)\n",
    "    \n",
    "    out_config = in_config.replace(in_year, out_year)\n",
    "    \n",
    "    with open(out_config, \"w\") as f:\n",
    "        f.write(config_text)\n",
    "    \n",
    "    return out_config\n",
    "\n",
    "def write_compressed_netcdf(data_xarray, output_file):\n",
    "    \"\"\"\n",
    "    Write out a compressed netCDF file\n",
    "    \"\"\"\n",
    "    # Get a list of variables\n",
    "    variable_names_list  = [var for var in data_xarray.data_vars]\n",
    "\n",
    "    # Set up encoding options for output\n",
    "    out_encoding_options={\"zlib\" : True, \"complevel\" : 4}\n",
    "    out_nc_encoding = {}\n",
    "    for var_name in variable_names_list:\n",
    "        out_nc_encoding[var_name] = out_encoding_options\n",
    "\n",
    "        data_xarray[variable_names_list].to_netcdf(\n",
    "            output_file, format=\"NETCDF4\", engine=\"netcdf4\",\n",
    "            encoding=out_nc_encoding)"
   ]
  },
  {
   "cell_type": "markdown",
   "metadata": {},
   "source": [
    "## Set up extent and resolution for study site\n",
    "\n",
    "The yaml file contains a bounding box for each if the sites we are using as a test. Can add new sites to this or define bounding box below."
   ]
  },
  {
   "cell_type": "code",
   "execution_count": 4,
   "metadata": {},
   "outputs": [],
   "source": [
    "# Set up base config file (from 2015). Will create a copy of this for each year\n",
    "config_file_2015 = \"./configs/l4_vp_2015.yaml\""
   ]
  },
  {
   "cell_type": "code",
   "execution_count": 5,
   "metadata": {},
   "outputs": [],
   "source": [
    "# Set up parameters for specific site\n",
    "site_name = \"Murray Valley\"\n",
    "# Set up extent (min_x, max_x, min_y, max_y)\n",
    "\n",
    "site_config = {}\n",
    "site_config[\"Murray Valley\"] = {}\n",
    "site_config[\"Murray Valley\"] = {\n",
    "    \"min_x\" : 1090000,\n",
    "    \"max_x\": 1130000,\n",
    "    \"min_y\": -3980000,\n",
    "    \"max_y\": -3930000\n",
    "}\n",
    "\n",
    "extent = [site_config[site_name][\"min_x\"],\n",
    "          site_config[site_name][\"min_y\"],\n",
    "          site_config[site_name][\"max_x\"],\n",
    "          site_config[site_name][\"max_y\"]]\n",
    "\n",
    "# Try to make directory for outputs, if it exists then pass\n",
    "output_dir = \"./outputs\"\n",
    "try:\n",
    "    os.makedirs(output_dir)\n",
    "except FileExistsError:\n",
    "    pass"
   ]
  },
  {
   "cell_type": "code",
   "execution_count": 6,
   "metadata": {},
   "outputs": [],
   "source": [
    "# Set up dictionary to define size parameters\n",
    "target_size = {}\n",
    "\n",
    "target_size[\"target_min_x\"] = extent[0]\n",
    "target_size[\"target_max_x\"] = extent[2]\n",
    "target_size[\"target_min_y\"] = extent[1]\n",
    "target_size[\"target_max_y\"] = extent[3]\n",
    "\n",
    "# Set target size, use 100 for testing 25 for highest res.\n",
    "target_size[\"target_pixel_size_x\"] = 1000\n",
    "target_size[\"target_pixel_size_y\"] = -1000\n",
    "\n",
    "target_size[\"target_crs\"] = \"EPSG:3577\""
   ]
  },
  {
   "cell_type": "code",
   "execution_count": 9,
   "metadata": {},
   "outputs": [
    {
     "name": "stdout",
     "output_type": "stream",
     "text": [
      "Running for 2005\n",
      "Running classification, may take a while...\n"
     ]
    },
    {
     "name": "stderr",
     "output_type": "stream",
     "text": [
      "/env/lib/python3.6/site-packages/datacube/storage/masking.py:4: DeprecationWarning: datacube.storage.masking has moved to datacube.utils.masking\n",
      "  category=DeprecationWarning)\n",
      "/env/lib/python3.6/site-packages/numpy/lib/nanfunctions.py:1114: RuntimeWarning: All-NaN slice encountered\n",
      "  overwrite_input=overwrite_input)\n",
      "/env/lib/python3.6/site-packages/numpy/lib/nanfunctions.py:1114: RuntimeWarning: All-NaN slice encountered\n",
      "  overwrite_input=overwrite_input)\n",
      "/env/lib/python3.6/site-packages/sklearn/utils/deprecation.py:143: FutureWarning: The sklearn.ensemble.forest module is  deprecated in version 0.22 and will be removed in version 0.24. The corresponding classes / functions should instead be imported from sklearn.ensemble. Anything that cannot be imported from sklearn.ensemble is now part of the private API.\n",
      "  warnings.warn(message, FutureWarning)\n",
      "/env/lib/python3.6/site-packages/sklearn/utils/deprecation.py:143: FutureWarning: The sklearn.tree.tree module is  deprecated in version 0.22 and will be removed in version 0.24. The corresponding classes / functions should instead be imported from sklearn.tree. Anything that cannot be imported from sklearn.tree is now part of the private API.\n",
      "  warnings.warn(message, FutureWarning)\n",
      "/env/lib/python3.6/site-packages/sklearn/base.py:334: UserWarning: Trying to unpickle estimator DecisionTreeClassifier from version 0.21.3 when using version 0.23.1. This might lead to breaking code or invalid results. Use at your own risk.\n",
      "  UserWarning)\n",
      "/env/lib/python3.6/site-packages/sklearn/base.py:334: UserWarning: Trying to unpickle estimator RandomForestClassifier from version 0.21.3 when using version 0.23.1. This might lead to breaking code or invalid results. Use at your own risk.\n",
      "  UserWarning)\n",
      "/env/lib/python3.6/site-packages/sklearn/base.py:334: UserWarning: Trying to unpickle estimator DecisionTreeRegressor from version 0.21.3 when using version 0.23.1. This might lead to breaking code or invalid results. Use at your own risk.\n",
      "  UserWarning)\n",
      "/env/lib/python3.6/site-packages/sklearn/base.py:334: UserWarning: Trying to unpickle estimator RandomForestRegressor from version 0.21.3 when using version 0.23.1. This might lead to breaking code or invalid results. Use at your own risk.\n",
      "  UserWarning)\n",
      "/env/lib/python3.6/site-packages/sklearn/base.py:334: UserWarning: Trying to unpickle estimator DecisionTreeRegressor from version 0.21.3 when using version 0.23.1. This might lead to breaking code or invalid results. Use at your own risk.\n",
      "  UserWarning)\n",
      "/env/lib/python3.6/site-packages/sklearn/base.py:334: UserWarning: Trying to unpickle estimator RandomForestRegressor from version 0.21.3 when using version 0.23.1. This might lead to breaking code or invalid results. Use at your own risk.\n",
      "  UserWarning)\n"
     ]
    },
    {
     "name": "stdout",
     "output_type": "stream",
     "text": [
      "Running for 2010\n",
      "Running classification, may take a while...\n"
     ]
    },
    {
     "name": "stderr",
     "output_type": "stream",
     "text": [
      "/env/lib/python3.6/site-packages/numpy/lib/nanfunctions.py:1114: RuntimeWarning: All-NaN slice encountered\n",
      "  overwrite_input=overwrite_input)\n",
      "/env/lib/python3.6/site-packages/numpy/lib/nanfunctions.py:1114: RuntimeWarning: All-NaN slice encountered\n",
      "  overwrite_input=overwrite_input)\n",
      "/env/lib/python3.6/site-packages/sklearn/base.py:334: UserWarning: Trying to unpickle estimator DecisionTreeClassifier from version 0.21.3 when using version 0.23.1. This might lead to breaking code or invalid results. Use at your own risk.\n",
      "  UserWarning)\n",
      "/env/lib/python3.6/site-packages/sklearn/base.py:334: UserWarning: Trying to unpickle estimator RandomForestClassifier from version 0.21.3 when using version 0.23.1. This might lead to breaking code or invalid results. Use at your own risk.\n",
      "  UserWarning)\n",
      "/env/lib/python3.6/site-packages/sklearn/base.py:334: UserWarning: Trying to unpickle estimator DecisionTreeRegressor from version 0.21.3 when using version 0.23.1. This might lead to breaking code or invalid results. Use at your own risk.\n",
      "  UserWarning)\n",
      "/env/lib/python3.6/site-packages/sklearn/base.py:334: UserWarning: Trying to unpickle estimator RandomForestRegressor from version 0.21.3 when using version 0.23.1. This might lead to breaking code or invalid results. Use at your own risk.\n",
      "  UserWarning)\n",
      "/env/lib/python3.6/site-packages/sklearn/base.py:334: UserWarning: Trying to unpickle estimator DecisionTreeRegressor from version 0.21.3 when using version 0.23.1. This might lead to breaking code or invalid results. Use at your own risk.\n",
      "  UserWarning)\n",
      "/env/lib/python3.6/site-packages/sklearn/base.py:334: UserWarning: Trying to unpickle estimator RandomForestRegressor from version 0.21.3 when using version 0.23.1. This might lead to breaking code or invalid results. Use at your own risk.\n",
      "  UserWarning)\n",
      "/env/lib/python3.6/site-packages/numpy/lib/nanfunctions.py:1114: RuntimeWarning: All-NaN slice encountered\n",
      "  overwrite_input=overwrite_input)\n",
      "/env/lib/python3.6/site-packages/numpy/lib/nanfunctions.py:1114: RuntimeWarning: All-NaN slice encountered\n",
      "  overwrite_input=overwrite_input)\n"
     ]
    },
    {
     "name": "stdout",
     "output_type": "stream",
     "text": [
      "Running for 2015\n",
      "Running classification, may take a while...\n"
     ]
    },
    {
     "name": "stderr",
     "output_type": "stream",
     "text": [
      "/env/lib/python3.6/site-packages/numpy/lib/nanfunctions.py:1114: RuntimeWarning: All-NaN slice encountered\n",
      "  overwrite_input=overwrite_input)\n",
      "/env/lib/python3.6/site-packages/numpy/lib/nanfunctions.py:1114: RuntimeWarning: All-NaN slice encountered\n",
      "  overwrite_input=overwrite_input)\n",
      "/env/lib/python3.6/site-packages/sklearn/base.py:334: UserWarning: Trying to unpickle estimator DecisionTreeClassifier from version 0.21.3 when using version 0.23.1. This might lead to breaking code or invalid results. Use at your own risk.\n",
      "  UserWarning)\n",
      "/env/lib/python3.6/site-packages/sklearn/base.py:334: UserWarning: Trying to unpickle estimator RandomForestClassifier from version 0.21.3 when using version 0.23.1. This might lead to breaking code or invalid results. Use at your own risk.\n",
      "  UserWarning)\n",
      "/env/lib/python3.6/site-packages/sklearn/base.py:334: UserWarning: Trying to unpickle estimator DecisionTreeRegressor from version 0.21.3 when using version 0.23.1. This might lead to breaking code or invalid results. Use at your own risk.\n",
      "  UserWarning)\n",
      "/env/lib/python3.6/site-packages/sklearn/base.py:334: UserWarning: Trying to unpickle estimator RandomForestRegressor from version 0.21.3 when using version 0.23.1. This might lead to breaking code or invalid results. Use at your own risk.\n",
      "  UserWarning)\n",
      "/env/lib/python3.6/site-packages/sklearn/base.py:334: UserWarning: Trying to unpickle estimator DecisionTreeRegressor from version 0.21.3 when using version 0.23.1. This might lead to breaking code or invalid results. Use at your own risk.\n",
      "  UserWarning)\n",
      "/env/lib/python3.6/site-packages/sklearn/base.py:334: UserWarning: Trying to unpickle estimator RandomForestRegressor from version 0.21.3 when using version 0.23.1. This might lead to breaking code or invalid results. Use at your own risk.\n",
      "  UserWarning)\n",
      "/env/lib/python3.6/site-packages/numpy/lib/nanfunctions.py:1114: RuntimeWarning: All-NaN slice encountered\n",
      "  overwrite_input=overwrite_input)\n",
      "/env/lib/python3.6/site-packages/numpy/lib/nanfunctions.py:1114: RuntimeWarning: All-NaN slice encountered\n",
      "  overwrite_input=overwrite_input)\n"
     ]
    },
    {
     "name": "stdout",
     "output_type": "stream",
     "text": [
      "Running for 2017\n",
      "Running classification, may take a while...\n"
     ]
    },
    {
     "name": "stderr",
     "output_type": "stream",
     "text": [
      "/env/lib/python3.6/site-packages/numpy/lib/nanfunctions.py:1114: RuntimeWarning: All-NaN slice encountered\n",
      "  overwrite_input=overwrite_input)\n",
      "/env/lib/python3.6/site-packages/numpy/lib/nanfunctions.py:1114: RuntimeWarning: All-NaN slice encountered\n",
      "  overwrite_input=overwrite_input)\n",
      "/env/lib/python3.6/site-packages/sklearn/base.py:334: UserWarning: Trying to unpickle estimator DecisionTreeClassifier from version 0.21.3 when using version 0.23.1. This might lead to breaking code or invalid results. Use at your own risk.\n",
      "  UserWarning)\n",
      "/env/lib/python3.6/site-packages/sklearn/base.py:334: UserWarning: Trying to unpickle estimator RandomForestClassifier from version 0.21.3 when using version 0.23.1. This might lead to breaking code or invalid results. Use at your own risk.\n",
      "  UserWarning)\n",
      "/env/lib/python3.6/site-packages/sklearn/base.py:334: UserWarning: Trying to unpickle estimator DecisionTreeRegressor from version 0.21.3 when using version 0.23.1. This might lead to breaking code or invalid results. Use at your own risk.\n",
      "  UserWarning)\n",
      "/env/lib/python3.6/site-packages/sklearn/base.py:334: UserWarning: Trying to unpickle estimator RandomForestRegressor from version 0.21.3 when using version 0.23.1. This might lead to breaking code or invalid results. Use at your own risk.\n",
      "  UserWarning)\n",
      "/env/lib/python3.6/site-packages/sklearn/base.py:334: UserWarning: Trying to unpickle estimator DecisionTreeRegressor from version 0.21.3 when using version 0.23.1. This might lead to breaking code or invalid results. Use at your own risk.\n",
      "  UserWarning)\n",
      "/env/lib/python3.6/site-packages/sklearn/base.py:334: UserWarning: Trying to unpickle estimator RandomForestRegressor from version 0.21.3 when using version 0.23.1. This might lead to breaking code or invalid results. Use at your own risk.\n",
      "  UserWarning)\n",
      "/env/lib/python3.6/site-packages/numpy/lib/nanfunctions.py:1114: RuntimeWarning: All-NaN slice encountered\n",
      "  overwrite_input=overwrite_input)\n",
      "/env/lib/python3.6/site-packages/numpy/lib/nanfunctions.py:1114: RuntimeWarning: All-NaN slice encountered\n",
      "  overwrite_input=overwrite_input)\n"
     ]
    }
   ],
   "source": [
    "classification_all_outputs_list = []\n",
    "classification_years = [\"2005\", \"2010\", \"2015\", \"2017\"]\n",
    "\n",
    "for year in classification_years:\n",
    "\n",
    "    print(f\"Running for {year}\")\n",
    "    config_file_year = update_config_year(config_file_2015, \"2015\", year)\n",
    "\n",
    "    out_name_base = \"lccs_l4_tests_{}_{}\".format(site_name.replace(\" \",\"_\"), year)\n",
    "    output_l3_file_name = os.path.join(output_dir, \"{}_level3.tif\".format(out_name_base))\n",
    "    output_l3_rgb_file_name = os.path.join(output_dir, \"{}_level3_rgb.tif\".format(out_name_base))\n",
    "    output_l4_file_name = os.path.join(output_dir, \"{}_level4.tif\".format(out_name_base))\n",
    "    output_l4_rgb_file_name = os.path.join(output_dir, \"{}_level4_rgb.tif\".format(out_name_base))\n",
    "    output_classification_data_file = os.path.join(output_dir, \"{}_classification_data.nc\".format(out_name_base))\n",
    "    \n",
    "    # If output from previous run exists load this, else run classification\n",
    "    if os.path.isfile(output_classification_data_file):\n",
    "        classification_year = xarray.open_dataset(output_classification_data_file)\n",
    "        print(f\"Loaded existing classification from {output_l4_file_name}\")\n",
    "    else:\n",
    "        print(\"Running classification, may take a while...\")\n",
    "        classification_year = gridded_classification.run_classification(config_file_year, extent=extent,\n",
    "                                                                        output_l3_file_name=output_l3_file_name, output_l3_rgb_file_name=output_l3_rgb_file_name,\n",
    "                                                                        output_l4_file_name=output_l4_file_name, output_l4_rgb_file_name=output_l4_rgb_file_name)\n",
    "        # Save to netCDF for faster loading in future\n",
    "        write_compressed_netcdf(classification_year, output_classification_data_file)\n",
    "    classification_all_outputs_list.append(classification_year)"
   ]
  },
  {
   "cell_type": "code",
   "execution_count": 10,
   "metadata": {},
   "outputs": [],
   "source": [
    "# The cool part - merge two years together as one x array with a time dimension\n",
    "classification_all = xarray.merge(classification_all_outputs_list)"
   ]
  },
  {
   "cell_type": "code",
   "execution_count": 11,
   "metadata": {},
   "outputs": [
    {
     "data": {
      "text/html": [
       "<div><svg style=\"position: absolute; width: 0; height: 0; overflow: hidden\">\n",
       "<defs>\n",
       "<symbol id=\"icon-database\" viewBox=\"0 0 32 32\">\n",
       "<title>Show/Hide data repr</title>\n",
       "<path d=\"M16 0c-8.837 0-16 2.239-16 5v4c0 2.761 7.163 5 16 5s16-2.239 16-5v-4c0-2.761-7.163-5-16-5z\"></path>\n",
       "<path d=\"M16 17c-8.837 0-16-2.239-16-5v6c0 2.761 7.163 5 16 5s16-2.239 16-5v-6c0 2.761-7.163 5-16 5z\"></path>\n",
       "<path d=\"M16 26c-8.837 0-16-2.239-16-5v6c0 2.761 7.163 5 16 5s16-2.239 16-5v-6c0 2.761-7.163 5-16 5z\"></path>\n",
       "</symbol>\n",
       "<symbol id=\"icon-file-text2\" viewBox=\"0 0 32 32\">\n",
       "<title>Show/Hide attributes</title>\n",
       "<path d=\"M28.681 7.159c-0.694-0.947-1.662-2.053-2.724-3.116s-2.169-2.030-3.116-2.724c-1.612-1.182-2.393-1.319-2.841-1.319h-15.5c-1.378 0-2.5 1.121-2.5 2.5v27c0 1.378 1.122 2.5 2.5 2.5h23c1.378 0 2.5-1.122 2.5-2.5v-19.5c0-0.448-0.137-1.23-1.319-2.841zM24.543 5.457c0.959 0.959 1.712 1.825 2.268 2.543h-4.811v-4.811c0.718 0.556 1.584 1.309 2.543 2.268zM28 29.5c0 0.271-0.229 0.5-0.5 0.5h-23c-0.271 0-0.5-0.229-0.5-0.5v-27c0-0.271 0.229-0.5 0.5-0.5 0 0 15.499-0 15.5 0v7c0 0.552 0.448 1 1 1h7v19.5z\"></path>\n",
       "<path d=\"M23 26h-14c-0.552 0-1-0.448-1-1s0.448-1 1-1h14c0.552 0 1 0.448 1 1s-0.448 1-1 1z\"></path>\n",
       "<path d=\"M23 22h-14c-0.552 0-1-0.448-1-1s0.448-1 1-1h14c0.552 0 1 0.448 1 1s-0.448 1-1 1z\"></path>\n",
       "<path d=\"M23 18h-14c-0.552 0-1-0.448-1-1s0.448-1 1-1h14c0.552 0 1 0.448 1 1s-0.448 1-1 1z\"></path>\n",
       "</symbol>\n",
       "</defs>\n",
       "</svg>\n",
       "<style>/* CSS stylesheet for displaying xarray objects in jupyterlab.\n",
       " *\n",
       " */\n",
       "\n",
       ":root {\n",
       "  --xr-font-color0: var(--jp-content-font-color0, rgba(0, 0, 0, 1));\n",
       "  --xr-font-color2: var(--jp-content-font-color2, rgba(0, 0, 0, 0.54));\n",
       "  --xr-font-color3: var(--jp-content-font-color3, rgba(0, 0, 0, 0.38));\n",
       "  --xr-border-color: var(--jp-border-color2, #e0e0e0);\n",
       "  --xr-disabled-color: var(--jp-layout-color3, #bdbdbd);\n",
       "  --xr-background-color: var(--jp-layout-color0, white);\n",
       "  --xr-background-color-row-even: var(--jp-layout-color1, white);\n",
       "  --xr-background-color-row-odd: var(--jp-layout-color2, #eeeeee);\n",
       "}\n",
       "\n",
       ".xr-wrap {\n",
       "  min-width: 300px;\n",
       "  max-width: 700px;\n",
       "}\n",
       "\n",
       ".xr-header {\n",
       "  padding-top: 6px;\n",
       "  padding-bottom: 6px;\n",
       "  margin-bottom: 4px;\n",
       "  border-bottom: solid 1px var(--xr-border-color);\n",
       "}\n",
       "\n",
       ".xr-header > div,\n",
       ".xr-header > ul {\n",
       "  display: inline;\n",
       "  margin-top: 0;\n",
       "  margin-bottom: 0;\n",
       "}\n",
       "\n",
       ".xr-obj-type,\n",
       ".xr-array-name {\n",
       "  margin-left: 2px;\n",
       "  margin-right: 10px;\n",
       "}\n",
       "\n",
       ".xr-obj-type {\n",
       "  color: var(--xr-font-color2);\n",
       "}\n",
       "\n",
       ".xr-sections {\n",
       "  padding-left: 0 !important;\n",
       "  display: grid;\n",
       "  grid-template-columns: 150px auto auto 1fr 20px 20px;\n",
       "}\n",
       "\n",
       ".xr-section-item {\n",
       "  display: contents;\n",
       "}\n",
       "\n",
       ".xr-section-item input {\n",
       "  display: none;\n",
       "}\n",
       "\n",
       ".xr-section-item input + label {\n",
       "  color: var(--xr-disabled-color);\n",
       "}\n",
       "\n",
       ".xr-section-item input:enabled + label {\n",
       "  cursor: pointer;\n",
       "  color: var(--xr-font-color2);\n",
       "}\n",
       "\n",
       ".xr-section-item input:enabled + label:hover {\n",
       "  color: var(--xr-font-color0);\n",
       "}\n",
       "\n",
       ".xr-section-summary {\n",
       "  grid-column: 1;\n",
       "  color: var(--xr-font-color2);\n",
       "  font-weight: 500;\n",
       "}\n",
       "\n",
       ".xr-section-summary > span {\n",
       "  display: inline-block;\n",
       "  padding-left: 0.5em;\n",
       "}\n",
       "\n",
       ".xr-section-summary-in:disabled + label {\n",
       "  color: var(--xr-font-color2);\n",
       "}\n",
       "\n",
       ".xr-section-summary-in + label:before {\n",
       "  display: inline-block;\n",
       "  content: '►';\n",
       "  font-size: 11px;\n",
       "  width: 15px;\n",
       "  text-align: center;\n",
       "}\n",
       "\n",
       ".xr-section-summary-in:disabled + label:before {\n",
       "  color: var(--xr-disabled-color);\n",
       "}\n",
       "\n",
       ".xr-section-summary-in:checked + label:before {\n",
       "  content: '▼';\n",
       "}\n",
       "\n",
       ".xr-section-summary-in:checked + label > span {\n",
       "  display: none;\n",
       "}\n",
       "\n",
       ".xr-section-summary,\n",
       ".xr-section-inline-details {\n",
       "  padding-top: 4px;\n",
       "  padding-bottom: 4px;\n",
       "}\n",
       "\n",
       ".xr-section-inline-details {\n",
       "  grid-column: 2 / -1;\n",
       "}\n",
       "\n",
       ".xr-section-details {\n",
       "  display: none;\n",
       "  grid-column: 1 / -1;\n",
       "  margin-bottom: 5px;\n",
       "}\n",
       "\n",
       ".xr-section-summary-in:checked ~ .xr-section-details {\n",
       "  display: contents;\n",
       "}\n",
       "\n",
       ".xr-array-wrap {\n",
       "  grid-column: 1 / -1;\n",
       "  display: grid;\n",
       "  grid-template-columns: 20px auto;\n",
       "}\n",
       "\n",
       ".xr-array-wrap > label {\n",
       "  grid-column: 1;\n",
       "  vertical-align: top;\n",
       "}\n",
       "\n",
       ".xr-preview {\n",
       "  color: var(--xr-font-color3);\n",
       "}\n",
       "\n",
       ".xr-array-preview,\n",
       ".xr-array-data {\n",
       "  padding: 0 5px !important;\n",
       "  grid-column: 2;\n",
       "}\n",
       "\n",
       ".xr-array-data,\n",
       ".xr-array-in:checked ~ .xr-array-preview {\n",
       "  display: none;\n",
       "}\n",
       "\n",
       ".xr-array-in:checked ~ .xr-array-data,\n",
       ".xr-array-preview {\n",
       "  display: inline-block;\n",
       "}\n",
       "\n",
       ".xr-dim-list {\n",
       "  display: inline-block !important;\n",
       "  list-style: none;\n",
       "  padding: 0 !important;\n",
       "  margin: 0;\n",
       "}\n",
       "\n",
       ".xr-dim-list li {\n",
       "  display: inline-block;\n",
       "  padding: 0;\n",
       "  margin: 0;\n",
       "}\n",
       "\n",
       ".xr-dim-list:before {\n",
       "  content: '(';\n",
       "}\n",
       "\n",
       ".xr-dim-list:after {\n",
       "  content: ')';\n",
       "}\n",
       "\n",
       ".xr-dim-list li:not(:last-child):after {\n",
       "  content: ',';\n",
       "  padding-right: 5px;\n",
       "}\n",
       "\n",
       ".xr-has-index {\n",
       "  font-weight: bold;\n",
       "}\n",
       "\n",
       ".xr-var-list,\n",
       ".xr-var-item {\n",
       "  display: contents;\n",
       "}\n",
       "\n",
       ".xr-var-item > div,\n",
       ".xr-var-item label,\n",
       ".xr-var-item > .xr-var-name span {\n",
       "  background-color: var(--xr-background-color-row-even);\n",
       "  margin-bottom: 0;\n",
       "}\n",
       "\n",
       ".xr-var-item > .xr-var-name:hover span {\n",
       "  padding-right: 5px;\n",
       "}\n",
       "\n",
       ".xr-var-list > li:nth-child(odd) > div,\n",
       ".xr-var-list > li:nth-child(odd) > label,\n",
       ".xr-var-list > li:nth-child(odd) > .xr-var-name span {\n",
       "  background-color: var(--xr-background-color-row-odd);\n",
       "}\n",
       "\n",
       ".xr-var-name {\n",
       "  grid-column: 1;\n",
       "}\n",
       "\n",
       ".xr-var-dims {\n",
       "  grid-column: 2;\n",
       "}\n",
       "\n",
       ".xr-var-dtype {\n",
       "  grid-column: 3;\n",
       "  text-align: right;\n",
       "  color: var(--xr-font-color2);\n",
       "}\n",
       "\n",
       ".xr-var-preview {\n",
       "  grid-column: 4;\n",
       "}\n",
       "\n",
       ".xr-var-name,\n",
       ".xr-var-dims,\n",
       ".xr-var-dtype,\n",
       ".xr-preview,\n",
       ".xr-attrs dt {\n",
       "  white-space: nowrap;\n",
       "  overflow: hidden;\n",
       "  text-overflow: ellipsis;\n",
       "  padding-right: 10px;\n",
       "}\n",
       "\n",
       ".xr-var-name:hover,\n",
       ".xr-var-dims:hover,\n",
       ".xr-var-dtype:hover,\n",
       ".xr-attrs dt:hover {\n",
       "  overflow: visible;\n",
       "  width: auto;\n",
       "  z-index: 1;\n",
       "}\n",
       "\n",
       ".xr-var-attrs,\n",
       ".xr-var-data {\n",
       "  display: none;\n",
       "  background-color: var(--xr-background-color) !important;\n",
       "  padding-bottom: 5px !important;\n",
       "}\n",
       "\n",
       ".xr-var-attrs-in:checked ~ .xr-var-attrs,\n",
       ".xr-var-data-in:checked ~ .xr-var-data {\n",
       "  display: block;\n",
       "}\n",
       "\n",
       ".xr-var-data > table {\n",
       "  float: right;\n",
       "}\n",
       "\n",
       ".xr-var-name span,\n",
       ".xr-var-data,\n",
       ".xr-attrs {\n",
       "  padding-left: 25px !important;\n",
       "}\n",
       "\n",
       ".xr-attrs,\n",
       ".xr-var-attrs,\n",
       ".xr-var-data {\n",
       "  grid-column: 1 / -1;\n",
       "}\n",
       "\n",
       "dl.xr-attrs {\n",
       "  padding: 0;\n",
       "  margin: 0;\n",
       "  display: grid;\n",
       "  grid-template-columns: 125px auto;\n",
       "}\n",
       "\n",
       ".xr-attrs dt, dd {\n",
       "  padding: 0;\n",
       "  margin: 0;\n",
       "  float: left;\n",
       "  padding-right: 10px;\n",
       "  width: auto;\n",
       "}\n",
       "\n",
       ".xr-attrs dt {\n",
       "  font-weight: normal;\n",
       "  grid-column: 1;\n",
       "}\n",
       "\n",
       ".xr-attrs dt:hover span {\n",
       "  display: inline-block;\n",
       "  background: var(--xr-background-color);\n",
       "  padding-right: 10px;\n",
       "}\n",
       "\n",
       ".xr-attrs dd {\n",
       "  grid-column: 2;\n",
       "  white-space: pre-wrap;\n",
       "  word-break: break-all;\n",
       "}\n",
       "\n",
       ".xr-icon-database,\n",
       ".xr-icon-file-text2 {\n",
       "  display: inline-block;\n",
       "  vertical-align: middle;\n",
       "  width: 1em;\n",
       "  height: 1.5em !important;\n",
       "  stroke-width: 0;\n",
       "  stroke: currentColor;\n",
       "  fill: currentColor;\n",
       "}\n",
       "</style><div class='xr-wrap'><div class='xr-header'><div class='xr-obj-type'>xarray.Dataset</div></div><ul class='xr-sections'><li class='xr-section-item'><input id='section-7eed8fa8-ecc3-483b-99eb-ed89bb7d36ec' class='xr-section-summary-in' type='checkbox' disabled ><label for='section-7eed8fa8-ecc3-483b-99eb-ed89bb7d36ec' class='xr-section-summary'  title='Expand/collapse section'>Dimensions:</label><div class='xr-section-inline-details'><ul class='xr-dim-list'><li><span class='xr-has-index'>time</span>: 4</li><li><span class='xr-has-index'>x</span>: 400</li><li><span class='xr-has-index'>y</span>: 500</li></ul></div><div class='xr-section-details'></div></li><li class='xr-section-item'><input id='section-aeedd62a-4a6b-4d80-a39c-f1d4f188cf04' class='xr-section-summary-in' type='checkbox'  checked><label for='section-aeedd62a-4a6b-4d80-a39c-f1d4f188cf04' class='xr-section-summary' >Coordinates: <span>(4)</span></label><div class='xr-section-inline-details'></div><div class='xr-section-details'><ul class='xr-var-list'><li class='xr-var-item'><div class='xr-var-name'><span class='xr-has-index'>time</span></div><div class='xr-var-dims'>(time)</div><div class='xr-var-dtype'>datetime64[ns]</div><div class='xr-var-preview xr-preview'>2005-12-31 ... 2017-12-31</div><input id='attrs-00392d64-8083-4376-b1d4-76ea4f27116c' class='xr-var-attrs-in' type='checkbox' disabled><label for='attrs-00392d64-8083-4376-b1d4-76ea4f27116c' title='Show/Hide attributes'><svg class='icon xr-icon-file-text2'><use xlink:href='#icon-file-text2'></use></svg></label><input id='data-13ebd0fc-3897-4d0d-b767-1b5fc4ef18c3' class='xr-var-data-in' type='checkbox'><label for='data-13ebd0fc-3897-4d0d-b767-1b5fc4ef18c3' title='Show/Hide data repr'><svg class='icon xr-icon-database'><use xlink:href='#icon-database'></use></svg></label><div class='xr-var-attrs'><dl class='xr-attrs'></dl></div><pre class='xr-var-data'>array([&#x27;2005-12-31T00:00:00.000000000&#x27;, &#x27;2010-12-31T00:00:00.000000000&#x27;,\n",
       "       &#x27;2015-12-31T00:00:00.000000000&#x27;, &#x27;2017-12-31T00:00:00.000000000&#x27;],\n",
       "      dtype=&#x27;datetime64[ns]&#x27;)</pre></li><li class='xr-var-item'><div class='xr-var-name'><span>spatial_ref</span></div><div class='xr-var-dims'>()</div><div class='xr-var-dtype'>int32</div><div class='xr-var-preview xr-preview'>3577</div><input id='attrs-423a03b9-c1c6-46d5-a4ea-0a81cfd07375' class='xr-var-attrs-in' type='checkbox' ><label for='attrs-423a03b9-c1c6-46d5-a4ea-0a81cfd07375' title='Show/Hide attributes'><svg class='icon xr-icon-file-text2'><use xlink:href='#icon-file-text2'></use></svg></label><input id='data-0de0f387-1c3a-48d5-bab0-c2f45bca99fb' class='xr-var-data-in' type='checkbox'><label for='data-0de0f387-1c3a-48d5-bab0-c2f45bca99fb' title='Show/Hide data repr'><svg class='icon xr-icon-database'><use xlink:href='#icon-database'></use></svg></label><div class='xr-var-attrs'><dl class='xr-attrs'><dt><span>spatial_ref :</span></dt><dd>PROJCS[&quot;GDA94 / Australian Albers&quot;,GEOGCS[&quot;GDA94&quot;,DATUM[&quot;Geocentric_Datum_of_Australia_1994&quot;,SPHEROID[&quot;GRS 1980&quot;,6378137,298.257222101,AUTHORITY[&quot;EPSG&quot;,&quot;7019&quot;]],AUTHORITY[&quot;EPSG&quot;,&quot;6283&quot;]],PRIMEM[&quot;Greenwich&quot;,0,AUTHORITY[&quot;EPSG&quot;,&quot;8901&quot;]],UNIT[&quot;degree&quot;,0.0174532925199433,AUTHORITY[&quot;EPSG&quot;,&quot;9122&quot;]],AUTHORITY[&quot;EPSG&quot;,&quot;4283&quot;]],PROJECTION[&quot;Albers_Conic_Equal_Area&quot;],PARAMETER[&quot;latitude_of_center&quot;,0],PARAMETER[&quot;longitude_of_center&quot;,132],PARAMETER[&quot;standard_parallel_1&quot;,-18],PARAMETER[&quot;standard_parallel_2&quot;,-36],PARAMETER[&quot;false_easting&quot;,0],PARAMETER[&quot;false_northing&quot;,0],UNIT[&quot;metre&quot;,1,AUTHORITY[&quot;EPSG&quot;,&quot;9001&quot;]],AXIS[&quot;Easting&quot;,EAST],AXIS[&quot;Northing&quot;,NORTH],AUTHORITY[&quot;EPSG&quot;,&quot;3577&quot;]]</dd><dt><span>grid_mapping_name :</span></dt><dd>albers_conical_equal_area</dd></dl></div><pre class='xr-var-data'>array(3577, dtype=int32)</pre></li><li class='xr-var-item'><div class='xr-var-name'><span class='xr-has-index'>y</span></div><div class='xr-var-dims'>(y)</div><div class='xr-var-dtype'>float64</div><div class='xr-var-preview xr-preview'>-3.93e+06 -3.93e+06 ... -3.98e+06</div><input id='attrs-1ff6eb78-0f5c-4536-8ca7-fe6fef1d75b1' class='xr-var-attrs-in' type='checkbox' ><label for='attrs-1ff6eb78-0f5c-4536-8ca7-fe6fef1d75b1' title='Show/Hide attributes'><svg class='icon xr-icon-file-text2'><use xlink:href='#icon-file-text2'></use></svg></label><input id='data-37d70e6b-74ce-4a21-a38d-b3f6a0e65fa9' class='xr-var-data-in' type='checkbox'><label for='data-37d70e6b-74ce-4a21-a38d-b3f6a0e65fa9' title='Show/Hide data repr'><svg class='icon xr-icon-database'><use xlink:href='#icon-database'></use></svg></label><div class='xr-var-attrs'><dl class='xr-attrs'><dt><span>units :</span></dt><dd>metre</dd><dt><span>resolution :</span></dt><dd>-100.0</dd><dt><span>crs :</span></dt><dd>EPSG:3577</dd></dl></div><pre class='xr-var-data'>array([-3930050., -3930150., -3930250., ..., -3979750., -3979850., -3979950.])</pre></li><li class='xr-var-item'><div class='xr-var-name'><span class='xr-has-index'>x</span></div><div class='xr-var-dims'>(x)</div><div class='xr-var-dtype'>float64</div><div class='xr-var-preview xr-preview'>1.09e+06 1.09e+06 ... 1.13e+06</div><input id='attrs-bc07f994-4d89-4bd6-9d79-ecc67853b6d9' class='xr-var-attrs-in' type='checkbox' ><label for='attrs-bc07f994-4d89-4bd6-9d79-ecc67853b6d9' title='Show/Hide attributes'><svg class='icon xr-icon-file-text2'><use xlink:href='#icon-file-text2'></use></svg></label><input id='data-0fdd6c9d-b43c-47d3-b018-8fcada1807ba' class='xr-var-data-in' type='checkbox'><label for='data-0fdd6c9d-b43c-47d3-b018-8fcada1807ba' title='Show/Hide data repr'><svg class='icon xr-icon-database'><use xlink:href='#icon-database'></use></svg></label><div class='xr-var-attrs'><dl class='xr-attrs'><dt><span>units :</span></dt><dd>metre</dd><dt><span>resolution :</span></dt><dd>100.0</dd><dt><span>crs :</span></dt><dd>EPSG:3577</dd></dl></div><pre class='xr-var-data'>array([1090050., 1090150., 1090250., ..., 1129750., 1129850., 1129950.])</pre></li></ul></div></li><li class='xr-section-item'><input id='section-62122e9e-dd2d-443b-b3f0-746e5b352d5e' class='xr-section-summary-in' type='checkbox'  ><label for='section-62122e9e-dd2d-443b-b3f0-746e5b352d5e' class='xr-section-summary' >Data variables: <span>(35)</span></label><div class='xr-section-inline-details'></div><div class='xr-section-details'><ul class='xr-var-list'><li class='xr-var-item'><div class='xr-var-name'><span>fc_veg</span></div><div class='xr-var-dims'>(time, y, x)</div><div class='xr-var-dtype'>float32</div><div class='xr-var-preview xr-preview'>1.0 1.0 1.0 1.0 ... 1.0 1.0 1.0 1.0</div><input id='attrs-99741ddc-b490-4536-81d5-3021f004ab3e' class='xr-var-attrs-in' type='checkbox' ><label for='attrs-99741ddc-b490-4536-81d5-3021f004ab3e' title='Show/Hide attributes'><svg class='icon xr-icon-file-text2'><use xlink:href='#icon-file-text2'></use></svg></label><input id='data-6ce4b2b0-9051-4178-82ef-cedc95ba3c19' class='xr-var-data-in' type='checkbox'><label for='data-6ce4b2b0-9051-4178-82ef-cedc95ba3c19' title='Show/Hide data repr'><svg class='icon xr-icon-database'><use xlink:href='#icon-database'></use></svg></label><div class='xr-var-attrs'><dl class='xr-attrs'><dt><span>crs :</span></dt><dd>EPSG:3577</dd></dl></div><pre class='xr-var-data'>array([[[1., 1., 1., ..., 1., 1., 1.],\n",
       "        [1., 1., 1., ..., 1., 1., 1.],\n",
       "        [1., 1., 1., ..., 1., 1., 1.],\n",
       "        ...,\n",
       "        [1., 1., 1., ..., 1., 1., 1.],\n",
       "        [1., 1., 1., ..., 1., 1., 1.],\n",
       "        [1., 1., 1., ..., 1., 1., 1.]],\n",
       "\n",
       "       [[1., 1., 1., ..., 1., 1., 1.],\n",
       "        [1., 1., 1., ..., 1., 1., 1.],\n",
       "        [1., 1., 1., ..., 1., 1., 1.],\n",
       "        ...,\n",
       "        [1., 1., 1., ..., 1., 1., 1.],\n",
       "        [1., 1., 1., ..., 1., 1., 1.],\n",
       "        [1., 1., 1., ..., 1., 1., 1.]],\n",
       "\n",
       "       [[1., 0., 1., ..., 1., 1., 1.],\n",
       "        [0., 0., 1., ..., 1., 1., 1.],\n",
       "        [0., 1., 1., ..., 1., 1., 1.],\n",
       "        ...,\n",
       "        [1., 1., 1., ..., 1., 1., 1.],\n",
       "        [1., 1., 1., ..., 1., 1., 1.],\n",
       "        [1., 1., 1., ..., 1., 1., 1.]],\n",
       "\n",
       "       [[1., 1., 1., ..., 1., 1., 1.],\n",
       "        [1., 1., 1., ..., 1., 1., 1.],\n",
       "        [1., 1., 1., ..., 1., 1., 1.],\n",
       "        ...,\n",
       "        [1., 1., 1., ..., 1., 1., 1.],\n",
       "        [1., 1., 1., ..., 1., 1., 1.],\n",
       "        [1., 1., 1., ..., 1., 1., 1.]]], dtype=float32)</pre></li><li class='xr-var-item'><div class='xr-var-name'><span>saltpan_mask</span></div><div class='xr-var-dims'>(time, y, x)</div><div class='xr-var-dtype'>float64</div><div class='xr-var-preview xr-preview'>1.0 1.0 1.0 1.0 ... 1.0 1.0 1.0 1.0</div><input id='attrs-0013d3c8-88ff-4f38-b146-4a90f78792c3' class='xr-var-attrs-in' type='checkbox' ><label for='attrs-0013d3c8-88ff-4f38-b146-4a90f78792c3' title='Show/Hide attributes'><svg class='icon xr-icon-file-text2'><use xlink:href='#icon-file-text2'></use></svg></label><input id='data-6257933c-efb3-4741-bc85-fe69fe699ce0' class='xr-var-data-in' type='checkbox'><label for='data-6257933c-efb3-4741-bc85-fe69fe699ce0' title='Show/Hide data repr'><svg class='icon xr-icon-database'><use xlink:href='#icon-database'></use></svg></label><div class='xr-var-attrs'><dl class='xr-attrs'><dt><span>crs :</span></dt><dd>EPSG:3577</dd></dl></div><pre class='xr-var-data'>array([[[1., 1., 1., ..., 1., 1., 1.],\n",
       "        [1., 1., 1., ..., 1., 1., 1.],\n",
       "        [1., 1., 1., ..., 1., 1., 1.],\n",
       "        ...,\n",
       "        [1., 1., 1., ..., 1., 1., 1.],\n",
       "        [1., 1., 1., ..., 1., 1., 1.],\n",
       "        [1., 1., 1., ..., 1., 1., 1.]],\n",
       "\n",
       "       [[1., 1., 1., ..., 1., 1., 1.],\n",
       "        [1., 1., 1., ..., 1., 1., 1.],\n",
       "        [1., 1., 1., ..., 1., 1., 1.],\n",
       "        ...,\n",
       "        [1., 1., 1., ..., 1., 1., 1.],\n",
       "        [1., 1., 1., ..., 1., 1., 1.],\n",
       "        [1., 1., 1., ..., 1., 1., 1.]],\n",
       "\n",
       "       [[1., 1., 1., ..., 1., 1., 1.],\n",
       "        [1., 1., 1., ..., 1., 1., 1.],\n",
       "        [1., 1., 1., ..., 1., 1., 1.],\n",
       "        ...,\n",
       "        [1., 1., 1., ..., 1., 1., 1.],\n",
       "        [1., 1., 1., ..., 1., 1., 1.],\n",
       "        [1., 1., 1., ..., 1., 1., 1.]],\n",
       "\n",
       "       [[1., 1., 1., ..., 1., 1., 1.],\n",
       "        [1., 1., 1., ..., 1., 1., 1.],\n",
       "        [1., 1., 1., ..., 1., 1., 1.],\n",
       "        ...,\n",
       "        [1., 1., 1., ..., 1., 1., 1.],\n",
       "        [1., 1., 1., ..., 1., 1., 1.],\n",
       "        [1., 1., 1., ..., 1., 1., 1.]]])</pre></li><li class='xr-var-item'><div class='xr-var-name'><span>mudflat_mask</span></div><div class='xr-var-dims'>(time, y, x)</div><div class='xr-var-dtype'>float64</div><div class='xr-var-preview xr-preview'>0.0 0.0 0.0 0.0 ... 1.0 0.0 0.0 0.0</div><input id='attrs-3c20dba4-22ce-46e2-8de4-1048703ab3b0' class='xr-var-attrs-in' type='checkbox' ><label for='attrs-3c20dba4-22ce-46e2-8de4-1048703ab3b0' title='Show/Hide attributes'><svg class='icon xr-icon-file-text2'><use xlink:href='#icon-file-text2'></use></svg></label><input id='data-bee67630-c35f-46ee-9c86-dc6697d9e566' class='xr-var-data-in' type='checkbox'><label for='data-bee67630-c35f-46ee-9c86-dc6697d9e566' title='Show/Hide data repr'><svg class='icon xr-icon-database'><use xlink:href='#icon-database'></use></svg></label><div class='xr-var-attrs'><dl class='xr-attrs'><dt><span>crs :</span></dt><dd>EPSG:3577</dd></dl></div><pre class='xr-var-data'>array([[[0., 0., 0., ..., 0., 0., 0.],\n",
       "        [0., 0., 0., ..., 0., 0., 0.],\n",
       "        [0., 0., 0., ..., 0., 0., 0.],\n",
       "        ...,\n",
       "        [0., 0., 0., ..., 0., 0., 0.],\n",
       "        [0., 0., 0., ..., 0., 0., 0.],\n",
       "        [0., 0., 0., ..., 0., 0., 0.]],\n",
       "\n",
       "       [[1., 0., 0., ..., 0., 0., 0.],\n",
       "        [1., 0., 0., ..., 0., 0., 0.],\n",
       "        [1., 0., 0., ..., 0., 0., 0.],\n",
       "        ...,\n",
       "        [0., 0., 0., ..., 0., 0., 0.],\n",
       "        [0., 0., 0., ..., 0., 0., 0.],\n",
       "        [0., 0., 0., ..., 0., 0., 0.]],\n",
       "\n",
       "       [[1., 0., 0., ..., 0., 1., 0.],\n",
       "        [1., 1., 0., ..., 0., 0., 1.],\n",
       "        [1., 1., 0., ..., 0., 0., 1.],\n",
       "        ...,\n",
       "        [0., 0., 0., ..., 1., 0., 1.],\n",
       "        [0., 0., 0., ..., 0., 1., 1.],\n",
       "        [0., 0., 0., ..., 1., 1., 1.]],\n",
       "\n",
       "       [[1., 0., 0., ..., 0., 0., 0.],\n",
       "        [1., 0., 0., ..., 0., 0., 0.],\n",
       "        [1., 0., 0., ..., 0., 0., 0.],\n",
       "        ...,\n",
       "        [0., 0., 0., ..., 1., 0., 0.],\n",
       "        [0., 0., 0., ..., 0., 0., 0.],\n",
       "        [0., 0., 0., ..., 0., 0., 0.]]])</pre></li><li class='xr-var-item'><div class='xr-var-name'><span>DEM</span></div><div class='xr-var-dims'>(time, y, x)</div><div class='xr-var-dtype'>float64</div><div class='xr-var-preview xr-preview'>0.0 0.0 0.0 0.0 ... 0.0 0.0 0.0 0.0</div><input id='attrs-903008a7-9e0c-4573-b022-eb5571942e4e' class='xr-var-attrs-in' type='checkbox' disabled><label for='attrs-903008a7-9e0c-4573-b022-eb5571942e4e' title='Show/Hide attributes'><svg class='icon xr-icon-file-text2'><use xlink:href='#icon-file-text2'></use></svg></label><input id='data-db1e4561-b1c8-4082-9d3a-ae1871fa2b37' class='xr-var-data-in' type='checkbox'><label for='data-db1e4561-b1c8-4082-9d3a-ae1871fa2b37' title='Show/Hide data repr'><svg class='icon xr-icon-database'><use xlink:href='#icon-database'></use></svg></label><div class='xr-var-attrs'><dl class='xr-attrs'></dl></div><pre class='xr-var-data'>array([[[0., 0., 0., ..., 0., 0., 0.],\n",
       "        [0., 0., 0., ..., 0., 0., 0.],\n",
       "        [0., 0., 0., ..., 0., 0., 0.],\n",
       "        ...,\n",
       "        [0., 0., 0., ..., 0., 0., 0.],\n",
       "        [0., 0., 0., ..., 0., 0., 0.],\n",
       "        [0., 0., 0., ..., 0., 0., 0.]],\n",
       "\n",
       "       [[0., 0., 0., ..., 0., 0., 0.],\n",
       "        [0., 0., 0., ..., 0., 0., 0.],\n",
       "        [0., 0., 0., ..., 0., 0., 0.],\n",
       "        ...,\n",
       "        [0., 0., 0., ..., 0., 0., 0.],\n",
       "        [0., 0., 0., ..., 0., 0., 0.],\n",
       "        [0., 0., 0., ..., 0., 0., 0.]],\n",
       "\n",
       "       [[0., 0., 0., ..., 0., 0., 0.],\n",
       "        [0., 0., 0., ..., 0., 0., 0.],\n",
       "        [0., 0., 0., ..., 0., 0., 0.],\n",
       "        ...,\n",
       "        [0., 0., 0., ..., 0., 0., 0.],\n",
       "        [0., 0., 0., ..., 0., 0., 0.],\n",
       "        [0., 0., 0., ..., 0., 0., 0.]],\n",
       "\n",
       "       [[0., 0., 0., ..., 0., 0., 0.],\n",
       "        [0., 0., 0., ..., 0., 0., 0.],\n",
       "        [0., 0., 0., ..., 0., 0., 0.],\n",
       "        ...,\n",
       "        [0., 0., 0., ..., 0., 0., 0.],\n",
       "        [0., 0., 0., ..., 0., 0., 0.],\n",
       "        [0., 0., 0., ..., 0., 0., 0.]]])</pre></li><li class='xr-var-item'><div class='xr-var-name'><span>wofs_mask</span></div><div class='xr-var-dims'>(time, y, x)</div><div class='xr-var-dtype'>float64</div><div class='xr-var-preview xr-preview'>0.0 0.0 0.0 0.0 ... 0.0 0.0 0.0 0.0</div><input id='attrs-b20b9096-b8f9-42d1-8be2-aa6908f39d27' class='xr-var-attrs-in' type='checkbox' disabled><label for='attrs-b20b9096-b8f9-42d1-8be2-aa6908f39d27' title='Show/Hide attributes'><svg class='icon xr-icon-file-text2'><use xlink:href='#icon-file-text2'></use></svg></label><input id='data-e5bb532e-ac2c-47f0-94f2-05af2509cb0a' class='xr-var-data-in' type='checkbox'><label for='data-e5bb532e-ac2c-47f0-94f2-05af2509cb0a' title='Show/Hide data repr'><svg class='icon xr-icon-database'><use xlink:href='#icon-database'></use></svg></label><div class='xr-var-attrs'><dl class='xr-attrs'></dl></div><pre class='xr-var-data'>array([[[0., 0., 0., ..., 0., 0., 0.],\n",
       "        [0., 0., 0., ..., 1., 0., 1.],\n",
       "        [0., 0., 0., ..., 0., 0., 1.],\n",
       "        ...,\n",
       "        [0., 0., 0., ..., 0., 0., 0.],\n",
       "        [0., 0., 0., ..., 0., 0., 0.],\n",
       "        [0., 0., 0., ..., 0., 0., 0.]],\n",
       "\n",
       "       [[0., 0., 0., ..., 0., 0., 0.],\n",
       "        [0., 0., 0., ..., 0., 1., 1.],\n",
       "        [0., 0., 0., ..., 0., 1., 1.],\n",
       "        ...,\n",
       "        [0., 0., 0., ..., 0., 0., 0.],\n",
       "        [0., 0., 0., ..., 0., 0., 0.],\n",
       "        [0., 0., 0., ..., 0., 0., 0.]],\n",
       "\n",
       "       [[0., 0., 0., ..., 0., 0., 0.],\n",
       "        [0., 0., 0., ..., 0., 0., 0.],\n",
       "        [0., 0., 0., ..., 0., 0., 0.],\n",
       "        ...,\n",
       "        [0., 0., 0., ..., 0., 0., 0.],\n",
       "        [0., 0., 0., ..., 0., 0., 0.],\n",
       "        [0., 0., 0., ..., 0., 0., 0.]],\n",
       "\n",
       "       [[0., 0., 0., ..., 0., 0., 0.],\n",
       "        [0., 0., 0., ..., 0., 0., 0.],\n",
       "        [0., 0., 0., ..., 0., 0., 0.],\n",
       "        ...,\n",
       "        [0., 0., 0., ..., 0., 0., 0.],\n",
       "        [0., 0., 0., ..., 0., 0., 0.],\n",
       "        [0., 0., 0., ..., 0., 0., 0.]]])</pre></li><li class='xr-var-item'><div class='xr-var-name'><span>item_v2_mask</span></div><div class='xr-var-dims'>(time, y, x)</div><div class='xr-var-dtype'>float64</div><div class='xr-var-preview xr-preview'>0.0 0.0 0.0 0.0 ... 0.0 0.0 0.0 0.0</div><input id='attrs-6252fa6f-62f3-4019-8791-bb9dc0f568a1' class='xr-var-attrs-in' type='checkbox' disabled><label for='attrs-6252fa6f-62f3-4019-8791-bb9dc0f568a1' title='Show/Hide attributes'><svg class='icon xr-icon-file-text2'><use xlink:href='#icon-file-text2'></use></svg></label><input id='data-27233469-87b4-4019-898e-22d3e75d8eb5' class='xr-var-data-in' type='checkbox'><label for='data-27233469-87b4-4019-898e-22d3e75d8eb5' title='Show/Hide data repr'><svg class='icon xr-icon-database'><use xlink:href='#icon-database'></use></svg></label><div class='xr-var-attrs'><dl class='xr-attrs'></dl></div><pre class='xr-var-data'>array([[[0., 0., 0., ..., 0., 0., 0.],\n",
       "        [0., 0., 0., ..., 0., 0., 0.],\n",
       "        [0., 0., 0., ..., 0., 0., 0.],\n",
       "        ...,\n",
       "        [0., 0., 0., ..., 0., 0., 0.],\n",
       "        [0., 0., 0., ..., 0., 0., 0.],\n",
       "        [0., 0., 0., ..., 0., 0., 0.]],\n",
       "\n",
       "       [[0., 0., 0., ..., 0., 0., 0.],\n",
       "        [0., 0., 0., ..., 0., 0., 0.],\n",
       "        [0., 0., 0., ..., 0., 0., 0.],\n",
       "        ...,\n",
       "        [0., 0., 0., ..., 0., 0., 0.],\n",
       "        [0., 0., 0., ..., 0., 0., 0.],\n",
       "        [0., 0., 0., ..., 0., 0., 0.]],\n",
       "\n",
       "       [[0., 0., 0., ..., 0., 0., 0.],\n",
       "        [0., 0., 0., ..., 0., 0., 0.],\n",
       "        [0., 0., 0., ..., 0., 0., 0.],\n",
       "        ...,\n",
       "        [0., 0., 0., ..., 0., 0., 0.],\n",
       "        [0., 0., 0., ..., 0., 0., 0.],\n",
       "        [0., 0., 0., ..., 0., 0., 0.]],\n",
       "\n",
       "       [[0., 0., 0., ..., 0., 0., 0.],\n",
       "        [0., 0., 0., ..., 0., 0., 0.],\n",
       "        [0., 0., 0., ..., 0., 0., 0.],\n",
       "        ...,\n",
       "        [0., 0., 0., ..., 0., 0., 0.],\n",
       "        [0., 0., 0., ..., 0., 0., 0.],\n",
       "        [0., 0., 0., ..., 0., 0., 0.]]])</pre></li><li class='xr-var-item'><div class='xr-var-name'><span>mangrove</span></div><div class='xr-var-dims'>(time, y, x)</div><div class='xr-var-dtype'>float64</div><div class='xr-var-preview xr-preview'>0.0 0.0 0.0 0.0 ... 0.0 0.0 0.0 0.0</div><input id='attrs-3049d92e-c910-4e00-84b2-1c493f83165c' class='xr-var-attrs-in' type='checkbox' disabled><label for='attrs-3049d92e-c910-4e00-84b2-1c493f83165c' title='Show/Hide attributes'><svg class='icon xr-icon-file-text2'><use xlink:href='#icon-file-text2'></use></svg></label><input id='data-2e74965f-077c-4543-a0a4-7fbe23829ccc' class='xr-var-data-in' type='checkbox'><label for='data-2e74965f-077c-4543-a0a4-7fbe23829ccc' title='Show/Hide data repr'><svg class='icon xr-icon-database'><use xlink:href='#icon-database'></use></svg></label><div class='xr-var-attrs'><dl class='xr-attrs'></dl></div><pre class='xr-var-data'>array([[[0., 0., 0., ..., 0., 0., 0.],\n",
       "        [0., 0., 0., ..., 0., 0., 0.],\n",
       "        [0., 0., 0., ..., 0., 0., 0.],\n",
       "        ...,\n",
       "        [0., 0., 0., ..., 0., 0., 0.],\n",
       "        [0., 0., 0., ..., 0., 0., 0.],\n",
       "        [0., 0., 0., ..., 0., 0., 0.]],\n",
       "\n",
       "       [[0., 0., 0., ..., 0., 0., 0.],\n",
       "        [0., 0., 0., ..., 0., 0., 0.],\n",
       "        [0., 0., 0., ..., 0., 0., 0.],\n",
       "        ...,\n",
       "        [0., 0., 0., ..., 0., 0., 0.],\n",
       "        [0., 0., 0., ..., 0., 0., 0.],\n",
       "        [0., 0., 0., ..., 0., 0., 0.]],\n",
       "\n",
       "       [[0., 0., 0., ..., 0., 0., 0.],\n",
       "        [0., 0., 0., ..., 0., 0., 0.],\n",
       "        [0., 0., 0., ..., 0., 0., 0.],\n",
       "        ...,\n",
       "        [0., 0., 0., ..., 0., 0., 0.],\n",
       "        [0., 0., 0., ..., 0., 0., 0.],\n",
       "        [0., 0., 0., ..., 0., 0., 0.]],\n",
       "\n",
       "       [[0., 0., 0., ..., 0., 0., 0.],\n",
       "        [0., 0., 0., ..., 0., 0., 0.],\n",
       "        [0., 0., 0., ..., 0., 0., 0.],\n",
       "        ...,\n",
       "        [0., 0., 0., ..., 0., 0., 0.],\n",
       "        [0., 0., 0., ..., 0., 0., 0.],\n",
       "        [0., 0., 0., ..., 0., 0., 0.]]])</pre></li><li class='xr-var-item'><div class='xr-var-name'><span>cultman_agr_cat</span></div><div class='xr-var-dims'>(time, y, x)</div><div class='xr-var-dtype'>float64</div><div class='xr-var-preview xr-preview'>0.0 0.0 0.0 0.0 ... 0.0 0.0 0.0 1.0</div><input id='attrs-87b8920f-d128-4c3e-a318-7473e0cba403' class='xr-var-attrs-in' type='checkbox' ><label for='attrs-87b8920f-d128-4c3e-a318-7473e0cba403' title='Show/Hide attributes'><svg class='icon xr-icon-file-text2'><use xlink:href='#icon-file-text2'></use></svg></label><input id='data-eeb68e7c-e9e7-44b1-97bc-10a5d6c3dea2' class='xr-var-data-in' type='checkbox'><label for='data-eeb68e7c-e9e7-44b1-97bc-10a5d6c3dea2' title='Show/Hide data repr'><svg class='icon xr-icon-database'><use xlink:href='#icon-database'></use></svg></label><div class='xr-var-attrs'><dl class='xr-attrs'><dt><span>crs :</span></dt><dd>EPSG:3577</dd><dt><span>units :</span></dt><dd>1</dd></dl></div><pre class='xr-var-data'>array([[[0., 0., 0., ..., 0., 0., 0.],\n",
       "        [0., 0., 0., ..., 0., 0., 0.],\n",
       "        [1., 0., 0., ..., 0., 0., 0.],\n",
       "        ...,\n",
       "        [1., 1., 1., ..., 0., 0., 0.],\n",
       "        [1., 1., 0., ..., 0., 0., 0.],\n",
       "        [0., 1., 0., ..., 0., 0., 0.]],\n",
       "\n",
       "       [[1., 0., 0., ..., 1., 1., 1.],\n",
       "        [1., 0., 0., ..., 1., 1., 1.],\n",
       "        [1., 0., 0., ..., 1., 1., 1.],\n",
       "        ...,\n",
       "        [1., 1., 1., ..., 1., 1., 1.],\n",
       "        [1., 1., 1., ..., 0., 1., 1.],\n",
       "        [1., 1., 1., ..., 1., 1., 1.]],\n",
       "\n",
       "       [[1., 0., 0., ..., 1., 0., 0.],\n",
       "        [0., 0., 0., ..., 1., 0., 0.],\n",
       "        [0., 0., 0., ..., 0., 0., 0.],\n",
       "        ...,\n",
       "        [0., 0., 0., ..., 0., 0., 1.],\n",
       "        [0., 0., 0., ..., 0., 0., 1.],\n",
       "        [0., 0., 0., ..., 0., 0., 1.]],\n",
       "\n",
       "       [[0., 0., 0., ..., 1., 1., 1.],\n",
       "        [0., 0., 0., ..., 0., 1., 1.],\n",
       "        [0., 0., 0., ..., 0., 0., 1.],\n",
       "        ...,\n",
       "        [1., 1., 1., ..., 0., 0., 0.],\n",
       "        [1., 1., 1., ..., 0., 0., 1.],\n",
       "        [1., 1., 1., ..., 0., 0., 1.]]])</pre></li><li class='xr-var-item'><div class='xr-var-name'><span>tf_urban_classification</span></div><div class='xr-var-dims'>(time, y, x)</div><div class='xr-var-dtype'>float64</div><div class='xr-var-preview xr-preview'>0.0 0.0 1.0 0.0 ... 0.0 0.0 0.0 0.0</div><input id='attrs-714cd663-5fb9-4f3f-90dc-d8323e4a9fd9' class='xr-var-attrs-in' type='checkbox' ><label for='attrs-714cd663-5fb9-4f3f-90dc-d8323e4a9fd9' title='Show/Hide attributes'><svg class='icon xr-icon-file-text2'><use xlink:href='#icon-file-text2'></use></svg></label><input id='data-1c768f8e-5027-4fd1-8039-b7d7788b6e12' class='xr-var-data-in' type='checkbox'><label for='data-1c768f8e-5027-4fd1-8039-b7d7788b6e12' title='Show/Hide data repr'><svg class='icon xr-icon-database'><use xlink:href='#icon-database'></use></svg></label><div class='xr-var-attrs'><dl class='xr-attrs'><dt><span>crs :</span></dt><dd>EPSG:3577</dd></dl></div><pre class='xr-var-data'>array([[[0., 0., 1., ..., 0., 0., 0.],\n",
       "        [0., 0., 0., ..., 0., 0., 0.],\n",
       "        [0., 0., 0., ..., 0., 0., 0.],\n",
       "        ...,\n",
       "        [0., 0., 0., ..., 0., 0., 0.],\n",
       "        [0., 0., 0., ..., 0., 0., 0.],\n",
       "        [0., 0., 0., ..., 0., 0., 0.]],\n",
       "\n",
       "       [[0., 1., 1., ..., 1., 1., 1.],\n",
       "        [0., 0., 1., ..., 1., 1., 1.],\n",
       "        [0., 0., 1., ..., 1., 1., 1.],\n",
       "        ...,\n",
       "        [0., 0., 0., ..., 1., 1., 0.],\n",
       "        [0., 0., 0., ..., 1., 0., 0.],\n",
       "        [0., 0., 0., ..., 1., 1., 0.]],\n",
       "\n",
       "       [[0., 0., 0., ..., 1., 0., 0.],\n",
       "        [0., 0., 0., ..., 1., 0., 0.],\n",
       "        [0., 0., 0., ..., 1., 0., 0.],\n",
       "        ...,\n",
       "        [0., 0., 0., ..., 0., 0., 0.],\n",
       "        [0., 0., 0., ..., 0., 0., 0.],\n",
       "        [0., 0., 0., ..., 0., 0., 0.]],\n",
       "\n",
       "       [[0., 0., 1., ..., 0., 0., 0.],\n",
       "        [0., 0., 0., ..., 0., 0., 0.],\n",
       "        [0., 0., 0., ..., 0., 0., 0.],\n",
       "        ...,\n",
       "        [0., 0., 0., ..., 0., 0., 0.],\n",
       "        [1., 1., 1., ..., 0., 0., 0.],\n",
       "        [0., 0., 1., ..., 0., 0., 0.]]])</pre></li><li class='xr-var-item'><div class='xr-var-name'><span>mads_urban_mask_sdev</span></div><div class='xr-var-dims'>(time, y, x)</div><div class='xr-var-dtype'>float64</div><div class='xr-var-preview xr-preview'>0.0 0.0 0.0 0.0 ... 0.0 0.0 0.0 0.0</div><input id='attrs-cba9f98e-dd41-46a6-948d-a4df8e9d2df4' class='xr-var-attrs-in' type='checkbox' disabled><label for='attrs-cba9f98e-dd41-46a6-948d-a4df8e9d2df4' title='Show/Hide attributes'><svg class='icon xr-icon-file-text2'><use xlink:href='#icon-file-text2'></use></svg></label><input id='data-336e0e36-0e56-4848-aa07-3f2b282ad04e' class='xr-var-data-in' type='checkbox'><label for='data-336e0e36-0e56-4848-aa07-3f2b282ad04e' title='Show/Hide data repr'><svg class='icon xr-icon-database'><use xlink:href='#icon-database'></use></svg></label><div class='xr-var-attrs'><dl class='xr-attrs'></dl></div><pre class='xr-var-data'>array([[[0., 0., 0., ..., 0., 0., 0.],\n",
       "        [0., 0., 0., ..., 0., 0., 0.],\n",
       "        [0., 0., 0., ..., 0., 0., 0.],\n",
       "        ...,\n",
       "        [0., 0., 0., ..., 0., 0., 0.],\n",
       "        [0., 0., 0., ..., 0., 0., 0.],\n",
       "        [0., 0., 0., ..., 0., 0., 0.]],\n",
       "\n",
       "       [[0., 0., 0., ..., 0., 0., 0.],\n",
       "        [0., 0., 0., ..., 0., 0., 0.],\n",
       "        [0., 0., 0., ..., 0., 0., 0.],\n",
       "        ...,\n",
       "        [0., 0., 0., ..., 0., 0., 0.],\n",
       "        [0., 0., 0., ..., 0., 0., 0.],\n",
       "        [0., 0., 0., ..., 0., 0., 0.]],\n",
       "\n",
       "       [[0., 0., 0., ..., 0., 0., 0.],\n",
       "        [0., 0., 0., ..., 0., 0., 0.],\n",
       "        [0., 0., 0., ..., 0., 0., 0.],\n",
       "        ...,\n",
       "        [0., 0., 0., ..., 0., 0., 0.],\n",
       "        [0., 0., 0., ..., 0., 0., 0.],\n",
       "        [0., 0., 0., ..., 0., 0., 0.]],\n",
       "\n",
       "       [[0., 0., 0., ..., 0., 0., 0.],\n",
       "        [0., 0., 0., ..., 0., 0., 0.],\n",
       "        [0., 0., 0., ..., 0., 0., 0.],\n",
       "        ...,\n",
       "        [0., 0., 0., ..., 0., 0., 0.],\n",
       "        [0., 0., 0., ..., 0., 0., 0.],\n",
       "        [0., 0., 0., ..., 0., 0., 0.]]])</pre></li><li class='xr-var-item'><div class='xr-var-name'><span>mads_urban_mask_edev</span></div><div class='xr-var-dims'>(time, y, x)</div><div class='xr-var-dtype'>float64</div><div class='xr-var-preview xr-preview'>0.0 0.0 0.0 0.0 ... 1.0 1.0 1.0 1.0</div><input id='attrs-910625a8-c009-407c-9698-ab589e1a1e20' class='xr-var-attrs-in' type='checkbox' disabled><label for='attrs-910625a8-c009-407c-9698-ab589e1a1e20' title='Show/Hide attributes'><svg class='icon xr-icon-file-text2'><use xlink:href='#icon-file-text2'></use></svg></label><input id='data-86185a06-2254-4e93-8baf-0f78bd5b55ae' class='xr-var-data-in' type='checkbox'><label for='data-86185a06-2254-4e93-8baf-0f78bd5b55ae' title='Show/Hide data repr'><svg class='icon xr-icon-database'><use xlink:href='#icon-database'></use></svg></label><div class='xr-var-attrs'><dl class='xr-attrs'></dl></div><pre class='xr-var-data'>array([[[0., 0., 0., ..., 1., 1., 1.],\n",
       "        [0., 0., 0., ..., 1., 1., 1.],\n",
       "        [0., 0., 0., ..., 1., 1., 1.],\n",
       "        ...,\n",
       "        [1., 1., 1., ..., 1., 1., 1.],\n",
       "        [1., 1., 1., ..., 1., 1., 1.],\n",
       "        [1., 1., 1., ..., 1., 1., 1.]],\n",
       "\n",
       "       [[0., 0., 0., ..., 1., 1., 1.],\n",
       "        [0., 0., 0., ..., 1., 1., 1.],\n",
       "        [0., 0., 0., ..., 1., 1., 1.],\n",
       "        ...,\n",
       "        [1., 1., 1., ..., 1., 1., 1.],\n",
       "        [1., 1., 1., ..., 1., 1., 1.],\n",
       "        [1., 1., 1., ..., 1., 1., 1.]],\n",
       "\n",
       "       [[0., 0., 0., ..., 1., 1., 1.],\n",
       "        [0., 0., 0., ..., 1., 1., 1.],\n",
       "        [0., 0., 0., ..., 1., 1., 1.],\n",
       "        ...,\n",
       "        [1., 1., 1., ..., 1., 1., 1.],\n",
       "        [1., 1., 1., ..., 1., 1., 1.],\n",
       "        [1., 1., 1., ..., 1., 1., 1.]],\n",
       "\n",
       "       [[0., 0., 0., ..., 1., 1., 1.],\n",
       "        [0., 0., 0., ..., 1., 1., 1.],\n",
       "        [0., 0., 0., ..., 1., 1., 1.],\n",
       "        ...,\n",
       "        [1., 1., 1., ..., 1., 1., 1.],\n",
       "        [1., 1., 1., ..., 1., 1., 1.],\n",
       "        [1., 1., 1., ..., 1., 1., 1.]]])</pre></li><li class='xr-var-item'><div class='xr-var-name'><span>wcf_mask</span></div><div class='xr-var-dims'>(time, y, x)</div><div class='xr-var-dtype'>float64</div><div class='xr-var-preview xr-preview'>1.0 1.0 1.0 1.0 ... 1.0 1.0 1.0 1.0</div><input id='attrs-26806dcb-a18d-42cd-a20a-6d3fd89e0297' class='xr-var-attrs-in' type='checkbox' ><label for='attrs-26806dcb-a18d-42cd-a20a-6d3fd89e0297' title='Show/Hide attributes'><svg class='icon xr-icon-file-text2'><use xlink:href='#icon-file-text2'></use></svg></label><input id='data-06231fa2-2693-4564-abf7-27d7c3c8178b' class='xr-var-data-in' type='checkbox'><label for='data-06231fa2-2693-4564-abf7-27d7c3c8178b' title='Show/Hide data repr'><svg class='icon xr-icon-database'><use xlink:href='#icon-database'></use></svg></label><div class='xr-var-attrs'><dl class='xr-attrs'><dt><span>crs :</span></dt><dd>EPSG:3577</dd></dl></div><pre class='xr-var-data'>array([[[1., 1., 1., ..., 1., 1., 1.],\n",
       "        [1., 1., 1., ..., 1., 1., 1.],\n",
       "        [0., 1., 1., ..., 1., 1., 1.],\n",
       "        ...,\n",
       "        [1., 1., 1., ..., 1., 1., 1.],\n",
       "        [1., 1., 1., ..., 1., 1., 0.],\n",
       "        [1., 1., 1., ..., 1., 1., 0.]],\n",
       "\n",
       "       [[0., 1., 1., ..., 1., 1., 1.],\n",
       "        [0., 1., 1., ..., 1., 1., 1.],\n",
       "        [0., 1., 1., ..., 1., 1., 1.],\n",
       "        ...,\n",
       "        [1., 1., 1., ..., 1., 1., 1.],\n",
       "        [1., 1., 1., ..., 1., 1., 1.],\n",
       "        [1., 1., 1., ..., 1., 1., 1.]],\n",
       "\n",
       "       [[0., 1., 1., ..., 1., 1., 1.],\n",
       "        [0., 0., 1., ..., 1., 1., 1.],\n",
       "        [0., 0., 1., ..., 1., 1., 1.],\n",
       "        ...,\n",
       "        [1., 0., 0., ..., 1., 1., 1.],\n",
       "        [0., 1., 1., ..., 1., 1., 1.],\n",
       "        [0., 0., 1., ..., 1., 1., 1.]],\n",
       "\n",
       "       [[1., 1., 1., ..., 1., 1., 1.],\n",
       "        [1., 1., 1., ..., 1., 1., 1.],\n",
       "        [1., 1., 1., ..., 1., 1., 1.],\n",
       "        ...,\n",
       "        [1., 1., 1., ..., 1., 1., 1.],\n",
       "        [1., 1., 1., ..., 1., 1., 1.],\n",
       "        [1., 1., 1., ..., 1., 1., 1.]]])</pre></li><li class='xr-var-item'><div class='xr-var-name'><span>lifeform_veg_cat</span></div><div class='xr-var-dims'>(time, y, x)</div><div class='xr-var-dtype'>float64</div><div class='xr-var-preview xr-preview'>2.0 2.0 1.0 2.0 ... 2.0 2.0 2.0 2.0</div><input id='attrs-07a61d50-cdc0-40f8-b564-5626113fbcc1' class='xr-var-attrs-in' type='checkbox' ><label for='attrs-07a61d50-cdc0-40f8-b564-5626113fbcc1' title='Show/Hide attributes'><svg class='icon xr-icon-file-text2'><use xlink:href='#icon-file-text2'></use></svg></label><input id='data-2528548e-f412-4263-83f8-912c08326876' class='xr-var-data-in' type='checkbox'><label for='data-2528548e-f412-4263-83f8-912c08326876' title='Show/Hide data repr'><svg class='icon xr-icon-database'><use xlink:href='#icon-database'></use></svg></label><div class='xr-var-attrs'><dl class='xr-attrs'><dt><span>crs :</span></dt><dd>EPSG:3577</dd></dl></div><pre class='xr-var-data'>array([[[2., 2., 1., ..., 2., 2., 2.],\n",
       "        [2., 2., 2., ..., 2., 2., 2.],\n",
       "        [2., 2., 2., ..., 2., 2., 2.],\n",
       "        ...,\n",
       "        [2., 2., 2., ..., 2., 2., 2.],\n",
       "        [2., 2., 2., ..., 2., 2., 2.],\n",
       "        [2., 2., 2., ..., 2., 2., 2.]],\n",
       "\n",
       "       [[2., 2., 1., ..., 2., 2., 2.],\n",
       "        [2., 2., 2., ..., 2., 1., 1.],\n",
       "        [2., 2., 2., ..., 1., 1., 1.],\n",
       "        ...,\n",
       "        [2., 2., 2., ..., 2., 2., 2.],\n",
       "        [2., 2., 2., ..., 2., 2., 2.],\n",
       "        [2., 2., 2., ..., 2., 2., 2.]],\n",
       "\n",
       "       [[2., 2., 2., ..., 2., 2., 2.],\n",
       "        [2., 2., 2., ..., 2., 2., 2.],\n",
       "        [2., 2., 2., ..., 2., 2., 2.],\n",
       "        ...,\n",
       "        [2., 2., 2., ..., 2., 2., 2.],\n",
       "        [2., 2., 2., ..., 2., 2., 2.],\n",
       "        [2., 2., 2., ..., 2., 2., 2.]],\n",
       "\n",
       "       [[2., 2., 1., ..., 2., 2., 2.],\n",
       "        [2., 2., 2., ..., 2., 2., 2.],\n",
       "        [2., 2., 2., ..., 2., 2., 2.],\n",
       "        ...,\n",
       "        [2., 2., 2., ..., 2., 2., 2.],\n",
       "        [2., 2., 2., ..., 2., 2., 2.],\n",
       "        [2., 2., 2., ..., 2., 2., 2.]]])</pre></li><li class='xr-var-item'><div class='xr-var-name'><span>canopyco_veg_con</span></div><div class='xr-var-dims'>(time, y, x)</div><div class='xr-var-dtype'>float64</div><div class='xr-var-preview xr-preview'>24.5 30.0 38.0 ... 17.0 19.0 25.0</div><input id='attrs-64fd7835-b352-4338-8560-4002ccbfce62' class='xr-var-attrs-in' type='checkbox' ><label for='attrs-64fd7835-b352-4338-8560-4002ccbfce62' title='Show/Hide attributes'><svg class='icon xr-icon-file-text2'><use xlink:href='#icon-file-text2'></use></svg></label><input id='data-a6ef3242-abaa-47d6-8448-c60f74787618' class='xr-var-data-in' type='checkbox'><label for='data-a6ef3242-abaa-47d6-8448-c60f74787618' title='Show/Hide data repr'><svg class='icon xr-icon-database'><use xlink:href='#icon-database'></use></svg></label><div class='xr-var-attrs'><dl class='xr-attrs'><dt><span>crs :</span></dt><dd>EPSG:3577</dd></dl></div><pre class='xr-var-data'>array([[[24.5, 30. , 38. , ..., 41. , 40. , 47. ],\n",
       "        [19. , 27. , 34.5, ..., 37. , 36.5, 40. ],\n",
       "        [16. , 30. , 37. , ..., 35. , 36. , 37.5],\n",
       "        ...,\n",
       "        [55.5, 60.5, 59. , ..., 22. , 24. , 29.5],\n",
       "        [51. , 56. , 47. , ..., 19. , 20. , 21.5],\n",
       "        [51. , 63. , 56. , ..., 22.5, 16. , 21. ]],\n",
       "\n",
       "       [[14. , 30. , 41. , ..., 27. , 43. , 35. ],\n",
       "        [13. , 30.5, 42. , ..., 28. , 58. , 52.5],\n",
       "        [15. , 34. , 42. , ..., 36. , 64. , 53. ],\n",
       "        ...,\n",
       "        [59. , 65. , 63. , ..., 19. , 24. , 24. ],\n",
       "        [56.5, 62. , 61.5, ..., 20.5, 28. , 34. ],\n",
       "        [56. , 61. , 57. , ..., 42.5, 39. , 57. ]],\n",
       "\n",
       "       [[12.5, 21. , 31.5, ..., 44.5, 17.5, 21. ],\n",
       "        [12. , 16. , 22. , ..., 34. , 11. ,  9.5],\n",
       "        [10. , 15. , 18. , ..., 27. , 11. ,  9.5],\n",
       "        ...,\n",
       "        [21. , 15. , 17. , ...,  6. , 13. , 11. ],\n",
       "        [17. , 17. , 18. , ...,  7. , 16. ,  9.5],\n",
       "        [19. , 17. , 19. , ...,  5. , 10. , 12. ]],\n",
       "\n",
       "       [[16. , 28. , 40.5, ..., 55. , 56. , 40. ],\n",
       "        [16. , 26.5, 32. , ..., 52.5, 52. , 49. ],\n",
       "        [19. , 27. , 33. , ..., 56. , 51. , 59. ],\n",
       "        ...,\n",
       "        [55. , 53. , 39.5, ..., 15. , 22. , 22. ],\n",
       "        [55.5, 54. , 50. , ..., 11. , 23. , 21. ],\n",
       "        [55. , 58. , 54. , ..., 17. , 19. , 25. ]]])</pre></li><li class='xr-var-item'><div class='xr-var-name'><span>watersea_veg_cat</span></div><div class='xr-var-dims'>(time, y, x)</div><div class='xr-var-dtype'>float64</div><div class='xr-var-preview xr-preview'>0.0 0.0 0.0 0.0 ... 0.0 0.0 0.0 0.0</div><input id='attrs-35712070-8c30-475d-9a4b-3fbc3aa22710' class='xr-var-attrs-in' type='checkbox' ><label for='attrs-35712070-8c30-475d-9a4b-3fbc3aa22710' title='Show/Hide attributes'><svg class='icon xr-icon-file-text2'><use xlink:href='#icon-file-text2'></use></svg></label><input id='data-9d3e2380-456d-4620-8757-8bd55ce73b04' class='xr-var-data-in' type='checkbox'><label for='data-9d3e2380-456d-4620-8757-8bd55ce73b04' title='Show/Hide data repr'><svg class='icon xr-icon-database'><use xlink:href='#icon-database'></use></svg></label><div class='xr-var-attrs'><dl class='xr-attrs'><dt><span>units :</span></dt><dd>1</dd><dt><span>nodata :</span></dt><dd>-1</dd><dt><span>crs :</span></dt><dd>EPSG:3577</dd><dt><span>grid_mapping :</span></dt><dd>spatial_ref</dd></dl></div><pre class='xr-var-data'>array([[[0., 0., 0., ..., 0., 0., 0.],\n",
       "        [0., 0., 0., ..., 2., 2., 2.],\n",
       "        [0., 0., 0., ..., 2., 2., 2.],\n",
       "        ...,\n",
       "        [0., 0., 0., ..., 0., 0., 0.],\n",
       "        [0., 0., 0., ..., 0., 0., 0.],\n",
       "        [0., 0., 0., ..., 0., 0., 0.]],\n",
       "\n",
       "       [[0., 0., 0., ..., 0., 0., 0.],\n",
       "        [0., 0., 0., ..., 0., 2., 1.],\n",
       "        [0., 0., 0., ..., 0., 2., 1.],\n",
       "        ...,\n",
       "        [0., 0., 0., ..., 0., 0., 0.],\n",
       "        [0., 0., 0., ..., 0., 0., 0.],\n",
       "        [0., 0., 0., ..., 0., 0., 0.]],\n",
       "\n",
       "       [[0., 0., 0., ..., 0., 0., 0.],\n",
       "        [0., 0., 0., ..., 0., 2., 2.],\n",
       "        [0., 0., 0., ..., 0., 2., 2.],\n",
       "        ...,\n",
       "        [0., 0., 0., ..., 0., 0., 0.],\n",
       "        [0., 0., 0., ..., 0., 0., 0.],\n",
       "        [0., 0., 0., ..., 0., 0., 0.]],\n",
       "\n",
       "       [[0., 0., 0., ..., 0., 0., 0.],\n",
       "        [0., 0., 0., ..., 0., 0., 0.],\n",
       "        [0., 0., 0., ..., 0., 0., 0.],\n",
       "        ...,\n",
       "        [0., 0., 0., ..., 0., 0., 0.],\n",
       "        [0., 0., 0., ..., 0., 0., 0.],\n",
       "        [0., 0., 0., ..., 0., 0., 0.]]])</pre></li><li class='xr-var-item'><div class='xr-var-name'><span>waterper_wat_cin</span></div><div class='xr-var-dims'>(time, y, x)</div><div class='xr-var-dtype'>float64</div><div class='xr-var-preview xr-preview'>0.0 0.0 0.0 0.0 ... 0.0 0.0 0.0 0.0</div><input id='attrs-977a704a-d949-40da-a1a9-802cc6760082' class='xr-var-attrs-in' type='checkbox' ><label for='attrs-977a704a-d949-40da-a1a9-802cc6760082' title='Show/Hide attributes'><svg class='icon xr-icon-file-text2'><use xlink:href='#icon-file-text2'></use></svg></label><input id='data-9741feaf-31c7-4f94-9a36-952292fe6344' class='xr-var-data-in' type='checkbox'><label for='data-9741feaf-31c7-4f94-9a36-952292fe6344' title='Show/Hide data repr'><svg class='icon xr-icon-database'><use xlink:href='#icon-database'></use></svg></label><div class='xr-var-attrs'><dl class='xr-attrs'><dt><span>crs :</span></dt><dd>EPSG:3577</dd></dl></div><pre class='xr-var-data'>array([[[  0.        ,   0.        ,   0.        , ...,   0.        ,\n",
       "           0.        ,   0.        ],\n",
       "        [  0.        ,   0.        ,   0.        , ...,  72.        ,\n",
       "          60.        ,  80.        ],\n",
       "        [  0.        ,   0.        ,   0.        , ...,  56.84210205,\n",
       "          60.        ,  75.78947449],\n",
       "        ...,\n",
       "        [  0.        ,   0.        ,   0.        , ...,   0.        ,\n",
       "           0.        ,   0.        ],\n",
       "        [  0.        ,   0.        ,   0.        , ...,   0.        ,\n",
       "           0.        ,   0.        ],\n",
       "        [  0.        ,   0.        ,   0.        , ...,   0.        ,\n",
       "           0.        ,   0.        ]],\n",
       "\n",
       "       [[  0.        ,   0.        ,   0.        , ...,   0.        ,\n",
       "           0.        ,   0.        ],\n",
       "        [  0.        ,   0.        ,   0.        , ...,   0.        ,\n",
       "          90.        , 130.90908813],\n",
       "        [  0.        ,   0.        ,   0.        , ...,   0.        ,\n",
       "          90.        , 102.85714722],\n",
       "        ...,\n",
       "        [  0.        ,   0.        ,   0.        , ...,   0.        ,\n",
       "           0.        ,   0.        ],\n",
       "        [  0.        ,   0.        ,   0.        , ...,   0.        ,\n",
       "           0.        ,   0.        ],\n",
       "        [  0.        ,   0.        ,   0.        , ...,   0.        ,\n",
       "           0.        ,   0.        ]],\n",
       "\n",
       "       [[  0.        ,   0.        ,   0.        , ...,   0.        ,\n",
       "           0.        ,   0.        ],\n",
       "        [  0.        ,   0.        ,   0.        , ...,   0.        ,\n",
       "          13.33333302,  12.41379261],\n",
       "        [  0.        ,   0.        ,   0.        , ...,   0.        ,\n",
       "          27.69231033,  13.33333302],\n",
       "        ...,\n",
       "        [  0.        ,   0.        ,   0.        , ...,   0.        ,\n",
       "           0.        ,   0.        ],\n",
       "        [  0.        ,   0.        ,   0.        , ...,   0.        ,\n",
       "           0.        ,   0.        ],\n",
       "        [  0.        ,   0.        ,   0.        , ...,   0.        ,\n",
       "           0.        ,   0.        ]],\n",
       "\n",
       "       [[  0.        ,   0.        ,   0.        , ...,   0.        ,\n",
       "           0.        ,   0.        ],\n",
       "        [  0.        ,   0.        ,   0.        , ...,   0.        ,\n",
       "           0.        ,   0.        ],\n",
       "        [  0.        ,   0.        ,   0.        , ...,   0.        ,\n",
       "           0.        ,   0.        ],\n",
       "        ...,\n",
       "        [  0.        ,   0.        ,   0.        , ...,   0.        ,\n",
       "           0.        ,   0.        ],\n",
       "        [  0.        ,   0.        ,   0.        , ...,   0.        ,\n",
       "           0.        ,   0.        ],\n",
       "        [  0.        ,   0.        ,   0.        , ...,   0.        ,\n",
       "           0.        ,   0.        ]]])</pre></li><li class='xr-var-item'><div class='xr-var-name'><span>npv_pv_90</span></div><div class='xr-var-dims'>(time, y, x)</div><div class='xr-var-dtype'>float64</div><div class='xr-var-preview xr-preview'>52.0 53.0 55.0 ... 79.0 74.0 75.0</div><input id='attrs-3ae688ee-306e-4872-a596-6a0b240b9bd7' class='xr-var-attrs-in' type='checkbox' ><label for='attrs-3ae688ee-306e-4872-a596-6a0b240b9bd7' title='Show/Hide attributes'><svg class='icon xr-icon-file-text2'><use xlink:href='#icon-file-text2'></use></svg></label><input id='data-e3d57877-c415-4281-a49f-665699a8cbec' class='xr-var-data-in' type='checkbox'><label for='data-e3d57877-c415-4281-a49f-665699a8cbec' title='Show/Hide data repr'><svg class='icon xr-icon-database'><use xlink:href='#icon-database'></use></svg></label><div class='xr-var-attrs'><dl class='xr-attrs'><dt><span>units :</span></dt><dd>percent</dd><dt><span>nodata :</span></dt><dd>-1</dd><dt><span>crs :</span></dt><dd>EPSG:3577</dd><dt><span>grid_mapping :</span></dt><dd>spatial_ref</dd></dl></div><pre class='xr-var-data'>array([[[52., 53., 55., ..., 59., 54., 51.],\n",
       "        [50., 52., 60., ..., 60., 56., 54.],\n",
       "        [47., 58., 66., ..., 63., 59., 58.],\n",
       "        ...,\n",
       "        [59., 65., 60., ..., 66., 65., 67.],\n",
       "        [58., 61., 58., ..., 73., 66., 64.],\n",
       "        [56., 54., 53., ..., 69., 72., 65.]],\n",
       "\n",
       "       [[59., 49., 51., ..., 55., 53., 53.],\n",
       "        [61., 51., 53., ..., 65., 52., 51.],\n",
       "        [64., 55., 55., ..., 56., 48., 51.],\n",
       "        ...,\n",
       "        [49., 53., 58., ..., 69., 66., 72.],\n",
       "        [49., 52., 51., ..., 64., 65., 74.],\n",
       "        [47., 47., 50., ..., 67., 67., 75.]],\n",
       "\n",
       "       [[32., 46., 58., ..., 57., 61., 63.],\n",
       "        [25., 41., 58., ..., 64., 65., 70.],\n",
       "        [34., 50., 61., ..., 60., 69., 68.],\n",
       "        ...,\n",
       "        [61., 67., 65., ..., 59., 61., 54.],\n",
       "        [62., 64., 64., ..., 69., 58., 50.],\n",
       "        [61., 64., 61., ..., 65., 62., 51.]],\n",
       "\n",
       "       [[62., 53., 54., ..., 66., 62., 61.],\n",
       "        [57., 47., 52., ..., 75., 66., 65.],\n",
       "        [55., 52., 54., ..., 70., 67., 68.],\n",
       "        ...,\n",
       "        [64., 66., 63., ..., 77., 73., 73.],\n",
       "        [66., 66., 65., ..., 79., 69., 78.],\n",
       "        [66., 65., 66., ..., 79., 74., 75.]]])</pre></li><li class='xr-var-item'><div class='xr-var-name'><span>pv_90</span></div><div class='xr-var-dims'>(time, y, x)</div><div class='xr-var-dtype'>float64</div><div class='xr-var-preview xr-preview'>55.0 46.0 49.0 ... 37.0 42.0 62.0</div><input id='attrs-37d301e7-c7ca-4fad-89f2-da7c695033db' class='xr-var-attrs-in' type='checkbox' ><label for='attrs-37d301e7-c7ca-4fad-89f2-da7c695033db' title='Show/Hide attributes'><svg class='icon xr-icon-file-text2'><use xlink:href='#icon-file-text2'></use></svg></label><input id='data-1c115d7b-2828-4cbf-8eb1-93134c6d25d8' class='xr-var-data-in' type='checkbox'><label for='data-1c115d7b-2828-4cbf-8eb1-93134c6d25d8' title='Show/Hide data repr'><svg class='icon xr-icon-database'><use xlink:href='#icon-database'></use></svg></label><div class='xr-var-attrs'><dl class='xr-attrs'><dt><span>units :</span></dt><dd>percent</dd><dt><span>nodata :</span></dt><dd>-1</dd><dt><span>crs :</span></dt><dd>EPSG:3577</dd><dt><span>grid_mapping :</span></dt><dd>spatial_ref</dd></dl></div><pre class='xr-var-data'>array([[[55., 46., 49., ..., 50., 52., 61.],\n",
       "        [53., 52., 56., ..., 40., 44., 47.],\n",
       "        [60., 58., 60., ..., 40., 44., 42.],\n",
       "        ...,\n",
       "        [77., 86., 82., ..., 58., 67., 65.],\n",
       "        [73., 82., 73., ..., 53., 64., 64.],\n",
       "        [69., 80., 74., ..., 56., 53., 67.]],\n",
       "\n",
       "       [[57., 54., 58., ..., 60., 60., 59.],\n",
       "        [59., 56., 63., ..., 63., 68., 69.],\n",
       "        [58., 59., 64., ..., 64., 77., 68.],\n",
       "        ...,\n",
       "        [78., 83., 82., ..., 65., 72., 72.],\n",
       "        [76., 79., 75., ..., 58., 70., 74.],\n",
       "        [72., 76., 72., ..., 55., 57., 76.]],\n",
       "\n",
       "       [[51., 36., 38., ..., 65., 57., 62.],\n",
       "        [43., 31., 30., ..., 64., 57., 60.],\n",
       "        [43., 35., 31., ..., 64., 61., 61.],\n",
       "        ...,\n",
       "        [53., 46., 46., ..., 17., 27., 51.],\n",
       "        [55., 53., 51., ..., 16., 24., 45.],\n",
       "        [55., 60., 57., ..., 18., 19., 38.]],\n",
       "\n",
       "       [[36., 35., 46., ..., 63., 68., 69.],\n",
       "        [27., 34., 47., ..., 68., 71., 76.],\n",
       "        [28., 44., 52., ..., 68., 68., 70.],\n",
       "        ...,\n",
       "        [73., 75., 75., ..., 45., 55., 61.],\n",
       "        [73., 74., 69., ..., 40., 53., 67.],\n",
       "        [71., 73., 70., ..., 37., 42., 62.]]])</pre></li><li class='xr-var-item'><div class='xr-var-name'><span>cci_biomass</span></div><div class='xr-var-dims'>(time, y, x)</div><div class='xr-var-dtype'>float32</div><div class='xr-var-preview xr-preview'>31.0 0.0 56.0 ... 37.0 42.0 53.0</div><input id='attrs-5e9d9638-27cd-4afb-af5e-ef99790df5c8' class='xr-var-attrs-in' type='checkbox' disabled><label for='attrs-5e9d9638-27cd-4afb-af5e-ef99790df5c8' title='Show/Hide attributes'><svg class='icon xr-icon-file-text2'><use xlink:href='#icon-file-text2'></use></svg></label><input id='data-b8d2bbfc-a8ba-4351-8de5-90b1b41ac958' class='xr-var-data-in' type='checkbox'><label for='data-b8d2bbfc-a8ba-4351-8de5-90b1b41ac958' title='Show/Hide data repr'><svg class='icon xr-icon-database'><use xlink:href='#icon-database'></use></svg></label><div class='xr-var-attrs'><dl class='xr-attrs'></dl></div><pre class='xr-var-data'>array([[[31.,  0., 56., ..., 30., 34., 43.],\n",
       "        [34., 50., 58., ..., 34., 38., 36.],\n",
       "        [33., 38., 38., ..., 40., 52., 43.],\n",
       "        ...,\n",
       "        [25., 27., 26., ..., 48., 51., 51.],\n",
       "        [30., 33., 31., ..., 44., 49., 53.],\n",
       "        [24., 26., 18., ..., 37., 42., 53.]],\n",
       "\n",
       "       [[31.,  0., 56., ..., 30., 34., 43.],\n",
       "        [34., 50., 58., ..., 34., 38., 36.],\n",
       "        [33., 38., 38., ..., 40., 52., 43.],\n",
       "        ...,\n",
       "        [25., 27., 26., ..., 48., 51., 51.],\n",
       "        [30., 33., 31., ..., 44., 49., 53.],\n",
       "        [24., 26., 18., ..., 37., 42., 53.]],\n",
       "\n",
       "       [[31.,  0., 56., ..., 30., 34., 43.],\n",
       "        [34., 50., 58., ..., 34., 38., 36.],\n",
       "        [33., 38., 38., ..., 40., 52., 43.],\n",
       "        ...,\n",
       "        [25., 27., 26., ..., 48., 51., 51.],\n",
       "        [30., 33., 31., ..., 44., 49., 53.],\n",
       "        [24., 26., 18., ..., 37., 42., 53.]],\n",
       "\n",
       "       [[31.,  0., 56., ..., 30., 34., 43.],\n",
       "        [34., 50., 58., ..., 34., 38., 36.],\n",
       "        [33., 38., 38., ..., 40., 52., 43.],\n",
       "        ...,\n",
       "        [25., 27., 26., ..., 48., 51., 51.],\n",
       "        [30., 33., 31., ..., 44., 49., 53.],\n",
       "        [24., 26., 18., ..., 37., 42., 53.]]], dtype=float32)</pre></li><li class='xr-var-item'><div class='xr-var-name'><span>tasscapwetn</span></div><div class='xr-var-dims'>(time, y, x)</div><div class='xr-var-dtype'>float32</div><div class='xr-var-preview xr-preview'>-0.30887842 ... -0.23231816</div><input id='attrs-4eae8f8c-53fd-4caa-8d7d-033b9d86dd30' class='xr-var-attrs-in' type='checkbox' disabled><label for='attrs-4eae8f8c-53fd-4caa-8d7d-033b9d86dd30' title='Show/Hide attributes'><svg class='icon xr-icon-file-text2'><use xlink:href='#icon-file-text2'></use></svg></label><input id='data-7e6fc1ca-7077-40fe-8581-2f573681379c' class='xr-var-data-in' type='checkbox'><label for='data-7e6fc1ca-7077-40fe-8581-2f573681379c' title='Show/Hide data repr'><svg class='icon xr-icon-database'><use xlink:href='#icon-database'></use></svg></label><div class='xr-var-attrs'><dl class='xr-attrs'></dl></div><pre class='xr-var-data'>array([[[-0.30887842, -0.22350694, -0.1449699 , ..., -0.19530337,\n",
       "         -0.15649444, -0.18663873],\n",
       "        [-0.32348526, -0.25724593, -0.26099202, ..., -0.16786137,\n",
       "         -0.13425139, -0.15336286],\n",
       "        [-0.28800118, -0.27079493, -0.23848502, ..., -0.16167568,\n",
       "         -0.14283036, -0.1532129 ],\n",
       "        ...,\n",
       "        [-0.21021615, -0.22219998, -0.23561595, ..., -0.22807996,\n",
       "         -0.24241632, -0.26105154],\n",
       "        [-0.22338928, -0.21464711, -0.2419276 , ..., -0.18484055,\n",
       "         -0.23474817, -0.24257475],\n",
       "        [-0.25065193, -0.22693577, -0.23164903, ..., -0.21899574,\n",
       "         -0.24423164, -0.23231816]],\n",
       "\n",
       "       [[-0.30887842, -0.22350694, -0.1449699 , ..., -0.19530337,\n",
       "         -0.15649444, -0.18663873],\n",
       "        [-0.32348526, -0.25724593, -0.26099202, ..., -0.16786137,\n",
       "         -0.13425139, -0.15336286],\n",
       "        [-0.28800118, -0.27079493, -0.23848502, ..., -0.16167568,\n",
       "         -0.14283036, -0.1532129 ],\n",
       "        ...,\n",
       "        [-0.21021615, -0.22219998, -0.23561595, ..., -0.22807996,\n",
       "         -0.24241632, -0.26105154],\n",
       "        [-0.22338928, -0.21464711, -0.2419276 , ..., -0.18484055,\n",
       "         -0.23474817, -0.24257475],\n",
       "        [-0.25065193, -0.22693577, -0.23164903, ..., -0.21899574,\n",
       "         -0.24423164, -0.23231816]],\n",
       "\n",
       "       [[-0.30887842, -0.22350694, -0.1449699 , ..., -0.19530337,\n",
       "         -0.15649444, -0.18663873],\n",
       "        [-0.32348526, -0.25724593, -0.26099202, ..., -0.16786137,\n",
       "         -0.13425139, -0.15336286],\n",
       "        [-0.28800118, -0.27079493, -0.23848502, ..., -0.16167568,\n",
       "         -0.14283036, -0.1532129 ],\n",
       "        ...,\n",
       "        [-0.21021615, -0.22219998, -0.23561595, ..., -0.22807996,\n",
       "         -0.24241632, -0.26105154],\n",
       "        [-0.22338928, -0.21464711, -0.2419276 , ..., -0.18484055,\n",
       "         -0.23474817, -0.24257475],\n",
       "        [-0.25065193, -0.22693577, -0.23164903, ..., -0.21899574,\n",
       "         -0.24423164, -0.23231816]],\n",
       "\n",
       "       [[-0.30887842, -0.22350694, -0.1449699 , ..., -0.19530337,\n",
       "         -0.15649444, -0.18663873],\n",
       "        [-0.32348526, -0.25724593, -0.26099202, ..., -0.16786137,\n",
       "         -0.13425139, -0.15336286],\n",
       "        [-0.28800118, -0.27079493, -0.23848502, ..., -0.16167568,\n",
       "         -0.14283036, -0.1532129 ],\n",
       "        ...,\n",
       "        [-0.21021615, -0.22219998, -0.23561595, ..., -0.22807996,\n",
       "         -0.24241632, -0.26105154],\n",
       "        [-0.22338928, -0.21464711, -0.2419276 , ..., -0.18484055,\n",
       "         -0.23474817, -0.24257475],\n",
       "        [-0.25065193, -0.22693577, -0.23164903, ..., -0.21899574,\n",
       "         -0.24423164, -0.23231816]]], dtype=float32)</pre></li><li class='xr-var-item'><div class='xr-var-name'><span>vegetat_veg_cat</span></div><div class='xr-var-dims'>(time, y, x)</div><div class='xr-var-dtype'>float64</div><div class='xr-var-preview xr-preview'>1.0 1.0 1.0 1.0 ... 1.0 1.0 1.0 1.0</div><input id='attrs-5015fb9f-2cdf-4905-aede-ca7722e112f3' class='xr-var-attrs-in' type='checkbox' disabled><label for='attrs-5015fb9f-2cdf-4905-aede-ca7722e112f3' title='Show/Hide attributes'><svg class='icon xr-icon-file-text2'><use xlink:href='#icon-file-text2'></use></svg></label><input id='data-80be2295-e915-4912-b3b1-532c68e2a62f' class='xr-var-data-in' type='checkbox'><label for='data-80be2295-e915-4912-b3b1-532c68e2a62f' title='Show/Hide data repr'><svg class='icon xr-icon-database'><use xlink:href='#icon-database'></use></svg></label><div class='xr-var-attrs'><dl class='xr-attrs'></dl></div><pre class='xr-var-data'>array([[[1., 1., 1., ..., 1., 1., 1.],\n",
       "        [1., 1., 1., ..., 0., 1., 0.],\n",
       "        [1., 1., 1., ..., 1., 1., 0.],\n",
       "        ...,\n",
       "        [1., 1., 1., ..., 1., 1., 1.],\n",
       "        [1., 1., 1., ..., 1., 1., 1.],\n",
       "        [1., 1., 1., ..., 1., 1., 1.]],\n",
       "\n",
       "       [[1., 1., 1., ..., 1., 1., 1.],\n",
       "        [1., 1., 1., ..., 1., 0., 0.],\n",
       "        [1., 1., 1., ..., 1., 0., 0.],\n",
       "        ...,\n",
       "        [1., 1., 1., ..., 1., 1., 1.],\n",
       "        [1., 1., 1., ..., 1., 1., 1.],\n",
       "        [1., 1., 1., ..., 1., 1., 1.]],\n",
       "\n",
       "       [[1., 0., 1., ..., 1., 1., 1.],\n",
       "        [0., 0., 1., ..., 1., 1., 1.],\n",
       "        [0., 1., 1., ..., 1., 1., 1.],\n",
       "        ...,\n",
       "        [1., 1., 1., ..., 1., 1., 1.],\n",
       "        [1., 1., 1., ..., 1., 1., 1.],\n",
       "        [1., 1., 1., ..., 1., 1., 1.]],\n",
       "\n",
       "       [[1., 1., 1., ..., 1., 1., 1.],\n",
       "        [1., 1., 1., ..., 1., 1., 1.],\n",
       "        [1., 1., 1., ..., 1., 1., 1.],\n",
       "        ...,\n",
       "        [1., 1., 1., ..., 1., 1., 1.],\n",
       "        [1., 1., 1., ..., 1., 1., 1.],\n",
       "        [1., 1., 1., ..., 1., 1., 1.]]])</pre></li><li class='xr-var-item'><div class='xr-var-name'><span>aquatic_wat_cat</span></div><div class='xr-var-dims'>(time, y, x)</div><div class='xr-var-dtype'>float64</div><div class='xr-var-preview xr-preview'>0.0 0.0 0.0 0.0 ... 0.0 0.0 0.0 0.0</div><input id='attrs-f8d99a1d-ccac-4e66-a99c-d3481ebf26c0' class='xr-var-attrs-in' type='checkbox' disabled><label for='attrs-f8d99a1d-ccac-4e66-a99c-d3481ebf26c0' title='Show/Hide attributes'><svg class='icon xr-icon-file-text2'><use xlink:href='#icon-file-text2'></use></svg></label><input id='data-6a7844ea-5de2-459c-a0fa-f41c66b0f5f3' class='xr-var-data-in' type='checkbox'><label for='data-6a7844ea-5de2-459c-a0fa-f41c66b0f5f3' title='Show/Hide data repr'><svg class='icon xr-icon-database'><use xlink:href='#icon-database'></use></svg></label><div class='xr-var-attrs'><dl class='xr-attrs'></dl></div><pre class='xr-var-data'>array([[[0., 0., 0., ..., 0., 0., 0.],\n",
       "        [0., 0., 0., ..., 1., 0., 1.],\n",
       "        [0., 0., 0., ..., 0., 0., 1.],\n",
       "        ...,\n",
       "        [0., 0., 0., ..., 0., 0., 0.],\n",
       "        [0., 0., 0., ..., 0., 0., 0.],\n",
       "        [0., 0., 0., ..., 0., 0., 0.]],\n",
       "\n",
       "       [[0., 0., 0., ..., 0., 0., 0.],\n",
       "        [0., 0., 0., ..., 0., 1., 1.],\n",
       "        [0., 0., 0., ..., 0., 1., 1.],\n",
       "        ...,\n",
       "        [0., 0., 0., ..., 0., 0., 0.],\n",
       "        [0., 0., 0., ..., 0., 0., 0.],\n",
       "        [0., 0., 0., ..., 0., 0., 0.]],\n",
       "\n",
       "       [[0., 0., 0., ..., 0., 0., 0.],\n",
       "        [0., 0., 0., ..., 0., 0., 0.],\n",
       "        [0., 0., 0., ..., 0., 0., 0.],\n",
       "        ...,\n",
       "        [0., 0., 0., ..., 0., 0., 0.],\n",
       "        [0., 0., 0., ..., 0., 0., 0.],\n",
       "        [0., 0., 0., ..., 0., 0., 0.]],\n",
       "\n",
       "       [[0., 0., 0., ..., 0., 0., 0.],\n",
       "        [0., 0., 0., ..., 0., 0., 0.],\n",
       "        [0., 0., 0., ..., 0., 0., 0.],\n",
       "        ...,\n",
       "        [0., 0., 0., ..., 0., 0., 0.],\n",
       "        [0., 0., 0., ..., 0., 0., 0.],\n",
       "        [0., 0., 0., ..., 0., 0., 0.]]])</pre></li><li class='xr-var-item'><div class='xr-var-name'><span>artific_urb_cat</span></div><div class='xr-var-dims'>(time, y, x)</div><div class='xr-var-dtype'>float64</div><div class='xr-var-preview xr-preview'>0.0 0.0 1.0 0.0 ... 0.0 0.0 0.0 0.0</div><input id='attrs-868c294d-f46f-4046-bee9-a191368822bd' class='xr-var-attrs-in' type='checkbox' disabled><label for='attrs-868c294d-f46f-4046-bee9-a191368822bd' title='Show/Hide attributes'><svg class='icon xr-icon-file-text2'><use xlink:href='#icon-file-text2'></use></svg></label><input id='data-7f10d363-42e1-4760-a2ff-ba7dceb58e79' class='xr-var-data-in' type='checkbox'><label for='data-7f10d363-42e1-4760-a2ff-ba7dceb58e79' title='Show/Hide data repr'><svg class='icon xr-icon-database'><use xlink:href='#icon-database'></use></svg></label><div class='xr-var-attrs'><dl class='xr-attrs'></dl></div><pre class='xr-var-data'>array([[[0., 0., 1., ..., 0., 0., 0.],\n",
       "        [0., 0., 0., ..., 0., 0., 0.],\n",
       "        [0., 0., 0., ..., 0., 0., 0.],\n",
       "        ...,\n",
       "        [0., 0., 0., ..., 0., 0., 0.],\n",
       "        [0., 0., 0., ..., 0., 0., 0.],\n",
       "        [0., 0., 0., ..., 0., 0., 0.]],\n",
       "\n",
       "       [[0., 1., 1., ..., 0., 0., 0.],\n",
       "        [0., 0., 1., ..., 0., 0., 0.],\n",
       "        [0., 0., 1., ..., 0., 0., 0.],\n",
       "        ...,\n",
       "        [0., 0., 0., ..., 0., 0., 0.],\n",
       "        [0., 0., 0., ..., 0., 0., 0.],\n",
       "        [0., 0., 0., ..., 0., 0., 0.]],\n",
       "\n",
       "       [[0., 0., 0., ..., 0., 0., 0.],\n",
       "        [0., 0., 0., ..., 0., 0., 0.],\n",
       "        [0., 0., 0., ..., 0., 0., 0.],\n",
       "        ...,\n",
       "        [0., 0., 0., ..., 0., 0., 0.],\n",
       "        [0., 0., 0., ..., 0., 0., 0.],\n",
       "        [0., 0., 0., ..., 0., 0., 0.]],\n",
       "\n",
       "       [[0., 0., 1., ..., 0., 0., 0.],\n",
       "        [0., 0., 0., ..., 0., 0., 0.],\n",
       "        [0., 0., 0., ..., 0., 0., 0.],\n",
       "        ...,\n",
       "        [0., 0., 0., ..., 0., 0., 0.],\n",
       "        [0., 0., 0., ..., 0., 0., 0.],\n",
       "        [0., 0., 0., ..., 0., 0., 0.]]])</pre></li><li class='xr-var-item'><div class='xr-var-name'><span>waterstt_wat_cat</span></div><div class='xr-var-dims'>(time, y, x)</div><div class='xr-var-dtype'>float64</div><div class='xr-var-preview xr-preview'>0.0 0.0 0.0 0.0 ... 0.0 0.0 0.0 0.0</div><input id='attrs-563c40ae-1842-41d5-8b22-9ca20fe05a35' class='xr-var-attrs-in' type='checkbox' disabled><label for='attrs-563c40ae-1842-41d5-8b22-9ca20fe05a35' title='Show/Hide attributes'><svg class='icon xr-icon-file-text2'><use xlink:href='#icon-file-text2'></use></svg></label><input id='data-49e550dd-48f8-4b49-9352-7aa40fc49ddc' class='xr-var-data-in' type='checkbox'><label for='data-49e550dd-48f8-4b49-9352-7aa40fc49ddc' title='Show/Hide data repr'><svg class='icon xr-icon-database'><use xlink:href='#icon-database'></use></svg></label><div class='xr-var-attrs'><dl class='xr-attrs'></dl></div><pre class='xr-var-data'>array([[[0., 0., 0., ..., 0., 0., 0.],\n",
       "        [0., 0., 0., ..., 1., 0., 1.],\n",
       "        [0., 0., 0., ..., 0., 0., 1.],\n",
       "        ...,\n",
       "        [0., 0., 0., ..., 0., 0., 0.],\n",
       "        [0., 0., 0., ..., 0., 0., 0.],\n",
       "        [0., 0., 0., ..., 0., 0., 0.]],\n",
       "\n",
       "       [[0., 0., 0., ..., 0., 0., 0.],\n",
       "        [0., 0., 0., ..., 0., 1., 1.],\n",
       "        [0., 0., 0., ..., 0., 1., 1.],\n",
       "        ...,\n",
       "        [0., 0., 0., ..., 0., 0., 0.],\n",
       "        [0., 0., 0., ..., 0., 0., 0.],\n",
       "        [0., 0., 0., ..., 0., 0., 0.]],\n",
       "\n",
       "       [[0., 0., 0., ..., 0., 0., 0.],\n",
       "        [0., 0., 0., ..., 0., 0., 0.],\n",
       "        [0., 0., 0., ..., 0., 0., 0.],\n",
       "        ...,\n",
       "        [0., 0., 0., ..., 0., 0., 0.],\n",
       "        [0., 0., 0., ..., 0., 0., 0.],\n",
       "        [0., 0., 0., ..., 0., 0., 0.]],\n",
       "\n",
       "       [[0., 0., 0., ..., 0., 0., 0.],\n",
       "        [0., 0., 0., ..., 0., 0., 0.],\n",
       "        [0., 0., 0., ..., 0., 0., 0.],\n",
       "        ...,\n",
       "        [0., 0., 0., ..., 0., 0., 0.],\n",
       "        [0., 0., 0., ..., 0., 0., 0.],\n",
       "        [0., 0., 0., ..., 0., 0., 0.]]])</pre></li><li class='xr-var-item'><div class='xr-var-name'><span>inttidal_wat_cat</span></div><div class='xr-var-dims'>(time, y, x)</div><div class='xr-var-dtype'>float64</div><div class='xr-var-preview xr-preview'>0.0 0.0 0.0 0.0 ... 0.0 0.0 0.0 0.0</div><input id='attrs-3d03ff56-4d19-443f-a949-42d309d4991b' class='xr-var-attrs-in' type='checkbox' disabled><label for='attrs-3d03ff56-4d19-443f-a949-42d309d4991b' title='Show/Hide attributes'><svg class='icon xr-icon-file-text2'><use xlink:href='#icon-file-text2'></use></svg></label><input id='data-3b88cd82-92c6-4c1d-95c5-bcd0d832a681' class='xr-var-data-in' type='checkbox'><label for='data-3b88cd82-92c6-4c1d-95c5-bcd0d832a681' title='Show/Hide data repr'><svg class='icon xr-icon-database'><use xlink:href='#icon-database'></use></svg></label><div class='xr-var-attrs'><dl class='xr-attrs'></dl></div><pre class='xr-var-data'>array([[[0., 0., 0., ..., 0., 0., 0.],\n",
       "        [0., 0., 0., ..., 0., 0., 0.],\n",
       "        [0., 0., 0., ..., 0., 0., 0.],\n",
       "        ...,\n",
       "        [0., 0., 0., ..., 0., 0., 0.],\n",
       "        [0., 0., 0., ..., 0., 0., 0.],\n",
       "        [0., 0., 0., ..., 0., 0., 0.]],\n",
       "\n",
       "       [[0., 0., 0., ..., 0., 0., 0.],\n",
       "        [0., 0., 0., ..., 0., 0., 0.],\n",
       "        [0., 0., 0., ..., 0., 0., 0.],\n",
       "        ...,\n",
       "        [0., 0., 0., ..., 0., 0., 0.],\n",
       "        [0., 0., 0., ..., 0., 0., 0.],\n",
       "        [0., 0., 0., ..., 0., 0., 0.]],\n",
       "\n",
       "       [[0., 0., 0., ..., 0., 0., 0.],\n",
       "        [0., 0., 0., ..., 0., 0., 0.],\n",
       "        [0., 0., 0., ..., 0., 0., 0.],\n",
       "        ...,\n",
       "        [0., 0., 0., ..., 0., 0., 0.],\n",
       "        [0., 0., 0., ..., 0., 0., 0.],\n",
       "        [0., 0., 0., ..., 0., 0., 0.]],\n",
       "\n",
       "       [[0., 0., 0., ..., 0., 0., 0.],\n",
       "        [0., 0., 0., ..., 0., 0., 0.],\n",
       "        [0., 0., 0., ..., 0., 0., 0.],\n",
       "        ...,\n",
       "        [0., 0., 0., ..., 0., 0., 0.],\n",
       "        [0., 0., 0., ..., 0., 0., 0.],\n",
       "        [0., 0., 0., ..., 0., 0., 0.]]])</pre></li><li class='xr-var-item'><div class='xr-var-name'><span>level3</span></div><div class='xr-var-dims'>(time, y, x)</div><div class='xr-var-dtype'>float64</div><div class='xr-var-preview xr-preview'>112.0 112.0 112.0 ... 112.0 111.0</div><input id='attrs-9211a338-2590-47dd-8560-6e9b5aab19b1' class='xr-var-attrs-in' type='checkbox' disabled><label for='attrs-9211a338-2590-47dd-8560-6e9b5aab19b1' title='Show/Hide attributes'><svg class='icon xr-icon-file-text2'><use xlink:href='#icon-file-text2'></use></svg></label><input id='data-5804b7d1-d178-4f12-9a44-16e781941e1b' class='xr-var-data-in' type='checkbox'><label for='data-5804b7d1-d178-4f12-9a44-16e781941e1b' title='Show/Hide data repr'><svg class='icon xr-icon-database'><use xlink:href='#icon-database'></use></svg></label><div class='xr-var-attrs'><dl class='xr-attrs'></dl></div><pre class='xr-var-data'>array([[[112., 112., 112., ..., 112., 112., 112.],\n",
       "        [112., 112., 112., ..., 220., 112., 220.],\n",
       "        [111., 112., 112., ..., 112., 112., 220.],\n",
       "        ...,\n",
       "        [111., 111., 111., ..., 112., 112., 112.],\n",
       "        [111., 111., 112., ..., 112., 112., 112.],\n",
       "        [112., 111., 112., ..., 112., 112., 112.]],\n",
       "\n",
       "       [[111., 112., 112., ..., 111., 111., 111.],\n",
       "        [111., 112., 112., ..., 111., 220., 220.],\n",
       "        [111., 112., 112., ..., 111., 220., 220.],\n",
       "        ...,\n",
       "        [111., 111., 111., ..., 111., 111., 111.],\n",
       "        [111., 111., 111., ..., 112., 111., 111.],\n",
       "        [111., 111., 111., ..., 111., 111., 111.]],\n",
       "\n",
       "       [[111., 216., 112., ..., 111., 112., 112.],\n",
       "        [216., 216., 112., ..., 111., 112., 112.],\n",
       "        [216., 112., 112., ..., 112., 112., 112.],\n",
       "        ...,\n",
       "        [112., 112., 112., ..., 112., 112., 111.],\n",
       "        [112., 112., 112., ..., 112., 112., 111.],\n",
       "        [112., 112., 112., ..., 112., 112., 111.]],\n",
       "\n",
       "       [[112., 112., 112., ..., 111., 111., 111.],\n",
       "        [112., 112., 112., ..., 112., 111., 111.],\n",
       "        [112., 112., 112., ..., 112., 112., 111.],\n",
       "        ...,\n",
       "        [111., 111., 111., ..., 112., 112., 112.],\n",
       "        [111., 111., 111., ..., 112., 112., 111.],\n",
       "        [111., 111., 111., ..., 112., 112., 111.]]])</pre></li><li class='xr-var-item'><div class='xr-var-name'><span>lifeform_veg_cat_l4a</span></div><div class='xr-var-dims'>(time, y, x)</div><div class='xr-var-dtype'>float64</div><div class='xr-var-preview xr-preview'>2.0 2.0 1.0 2.0 ... 2.0 2.0 2.0 2.0</div><input id='attrs-bbc938b7-bb0c-4c8a-94e1-7cff57bffcc9' class='xr-var-attrs-in' type='checkbox' disabled><label for='attrs-bbc938b7-bb0c-4c8a-94e1-7cff57bffcc9' title='Show/Hide attributes'><svg class='icon xr-icon-file-text2'><use xlink:href='#icon-file-text2'></use></svg></label><input id='data-4d5951e1-a194-4d2e-831d-2e2f235f6593' class='xr-var-data-in' type='checkbox'><label for='data-4d5951e1-a194-4d2e-831d-2e2f235f6593' title='Show/Hide data repr'><svg class='icon xr-icon-database'><use xlink:href='#icon-database'></use></svg></label><div class='xr-var-attrs'><dl class='xr-attrs'></dl></div><pre class='xr-var-data'>array([[[2., 2., 1., ..., 2., 2., 2.],\n",
       "        [2., 2., 2., ..., 0., 2., 0.],\n",
       "        [2., 2., 2., ..., 2., 2., 0.],\n",
       "        ...,\n",
       "        [2., 2., 2., ..., 2., 2., 2.],\n",
       "        [2., 2., 2., ..., 2., 2., 2.],\n",
       "        [2., 2., 2., ..., 2., 2., 2.]],\n",
       "\n",
       "       [[2., 2., 1., ..., 2., 2., 2.],\n",
       "        [2., 2., 2., ..., 2., 0., 0.],\n",
       "        [2., 2., 2., ..., 1., 0., 0.],\n",
       "        ...,\n",
       "        [2., 2., 2., ..., 2., 2., 2.],\n",
       "        [2., 2., 2., ..., 2., 2., 2.],\n",
       "        [2., 2., 2., ..., 2., 2., 2.]],\n",
       "\n",
       "       [[2., 0., 2., ..., 2., 2., 2.],\n",
       "        [0., 0., 2., ..., 2., 2., 2.],\n",
       "        [0., 2., 2., ..., 2., 2., 2.],\n",
       "        ...,\n",
       "        [2., 2., 2., ..., 2., 2., 2.],\n",
       "        [2., 2., 2., ..., 2., 2., 2.],\n",
       "        [2., 2., 2., ..., 2., 2., 2.]],\n",
       "\n",
       "       [[2., 2., 1., ..., 2., 2., 2.],\n",
       "        [2., 2., 2., ..., 2., 2., 2.],\n",
       "        [2., 2., 2., ..., 2., 2., 2.],\n",
       "        ...,\n",
       "        [2., 2., 2., ..., 2., 2., 2.],\n",
       "        [2., 2., 2., ..., 2., 2., 2.],\n",
       "        [2., 2., 2., ..., 2., 2., 2.]]])</pre></li><li class='xr-var-item'><div class='xr-var-name'><span>canopyco_veg_cat_l4d</span></div><div class='xr-var-dims'>(time, y, x)</div><div class='xr-var-dtype'>float64</div><div class='xr-var-preview xr-preview'>13.0 13.0 13.0 ... 13.0 13.0 13.0</div><input id='attrs-4f8ad07b-4872-43e9-8449-a4402860991d' class='xr-var-attrs-in' type='checkbox' disabled><label for='attrs-4f8ad07b-4872-43e9-8449-a4402860991d' title='Show/Hide attributes'><svg class='icon xr-icon-file-text2'><use xlink:href='#icon-file-text2'></use></svg></label><input id='data-02d250a7-c3ac-433a-a908-bd39a21ad7bd' class='xr-var-data-in' type='checkbox'><label for='data-02d250a7-c3ac-433a-a908-bd39a21ad7bd' title='Show/Hide data repr'><svg class='icon xr-icon-database'><use xlink:href='#icon-database'></use></svg></label><div class='xr-var-attrs'><dl class='xr-attrs'></dl></div><pre class='xr-var-data'>array([[[13., 13., 13., ..., 12., 12., 12.],\n",
       "        [13., 13., 13., ...,  0., 13.,  0.],\n",
       "        [13., 13., 13., ..., 13., 13.,  0.],\n",
       "        ...,\n",
       "        [12., 12., 12., ..., 13., 13., 13.],\n",
       "        [12., 12., 12., ..., 13., 13., 13.],\n",
       "        [12., 12., 12., ..., 13., 13., 13.]],\n",
       "\n",
       "       [[15., 13., 12., ..., 13., 12., 13.],\n",
       "        [15., 13., 12., ..., 13.,  0.,  0.],\n",
       "        [13., 13., 12., ..., 13.,  0.,  0.],\n",
       "        ...,\n",
       "        [12., 10., 12., ..., 13., 13., 13.],\n",
       "        [12., 12., 12., ..., 13., 13., 13.],\n",
       "        [12., 12., 12., ..., 12., 13., 12.]],\n",
       "\n",
       "       [[15.,  0., 13., ..., 12., 13., 13.],\n",
       "        [ 0.,  0., 13., ..., 13., 15., 15.],\n",
       "        [ 0., 13., 13., ..., 13., 15., 15.],\n",
       "        ...,\n",
       "        [13., 13., 13., ..., 15., 15., 15.],\n",
       "        [13., 13., 13., ..., 15., 13., 15.],\n",
       "        [13., 13., 13., ..., 15., 15., 15.]],\n",
       "\n",
       "       [[13., 13., 12., ..., 12., 12., 12.],\n",
       "        [13., 13., 13., ..., 12., 12., 12.],\n",
       "        [13., 13., 13., ..., 12., 12., 12.],\n",
       "        ...,\n",
       "        [12., 12., 13., ..., 13., 13., 13.],\n",
       "        [12., 12., 12., ..., 15., 13., 13.],\n",
       "        [12., 12., 12., ..., 13., 13., 13.]]])</pre></li><li class='xr-var-item'><div class='xr-var-name'><span>watersea_veg_cat_l4a_au</span></div><div class='xr-var-dims'>(time, y, x)</div><div class='xr-var-dtype'>float64</div><div class='xr-var-preview xr-preview'>0.0 0.0 0.0 0.0 ... 0.0 0.0 0.0 0.0</div><input id='attrs-ea705cda-e003-44f8-be29-1abb3861b6a7' class='xr-var-attrs-in' type='checkbox' disabled><label for='attrs-ea705cda-e003-44f8-be29-1abb3861b6a7' title='Show/Hide attributes'><svg class='icon xr-icon-file-text2'><use xlink:href='#icon-file-text2'></use></svg></label><input id='data-aec48283-c927-4557-8d2e-666a907a0ddd' class='xr-var-data-in' type='checkbox'><label for='data-aec48283-c927-4557-8d2e-666a907a0ddd' title='Show/Hide data repr'><svg class='icon xr-icon-database'><use xlink:href='#icon-database'></use></svg></label><div class='xr-var-attrs'><dl class='xr-attrs'></dl></div><pre class='xr-var-data'>array([[[0., 0., 0., ..., 0., 0., 0.],\n",
       "        [0., 0., 0., ..., 0., 0., 0.],\n",
       "        [0., 0., 0., ..., 0., 0., 0.],\n",
       "        ...,\n",
       "        [0., 0., 0., ..., 0., 0., 0.],\n",
       "        [0., 0., 0., ..., 0., 0., 0.],\n",
       "        [0., 0., 0., ..., 0., 0., 0.]],\n",
       "\n",
       "       [[0., 0., 0., ..., 0., 0., 0.],\n",
       "        [0., 0., 0., ..., 0., 0., 0.],\n",
       "        [0., 0., 0., ..., 0., 0., 0.],\n",
       "        ...,\n",
       "        [0., 0., 0., ..., 0., 0., 0.],\n",
       "        [0., 0., 0., ..., 0., 0., 0.],\n",
       "        [0., 0., 0., ..., 0., 0., 0.]],\n",
       "\n",
       "       [[0., 0., 0., ..., 0., 0., 0.],\n",
       "        [0., 0., 0., ..., 0., 0., 0.],\n",
       "        [0., 0., 0., ..., 0., 0., 0.],\n",
       "        ...,\n",
       "        [0., 0., 0., ..., 0., 0., 0.],\n",
       "        [0., 0., 0., ..., 0., 0., 0.],\n",
       "        [0., 0., 0., ..., 0., 0., 0.]],\n",
       "\n",
       "       [[0., 0., 0., ..., 0., 0., 0.],\n",
       "        [0., 0., 0., ..., 0., 0., 0.],\n",
       "        [0., 0., 0., ..., 0., 0., 0.],\n",
       "        ...,\n",
       "        [0., 0., 0., ..., 0., 0., 0.],\n",
       "        [0., 0., 0., ..., 0., 0., 0.],\n",
       "        [0., 0., 0., ..., 0., 0., 0.]]])</pre></li><li class='xr-var-item'><div class='xr-var-name'><span>waterstt_wat_cat_l4a</span></div><div class='xr-var-dims'>(time, y, x)</div><div class='xr-var-dtype'>float64</div><div class='xr-var-preview xr-preview'>0.0 0.0 0.0 0.0 ... 0.0 0.0 0.0 0.0</div><input id='attrs-0dfa2365-ee0a-4178-8fa1-c2c57b9ae8ad' class='xr-var-attrs-in' type='checkbox' disabled><label for='attrs-0dfa2365-ee0a-4178-8fa1-c2c57b9ae8ad' title='Show/Hide attributes'><svg class='icon xr-icon-file-text2'><use xlink:href='#icon-file-text2'></use></svg></label><input id='data-6de1e0e0-184e-4929-a5bd-baa243195d5e' class='xr-var-data-in' type='checkbox'><label for='data-6de1e0e0-184e-4929-a5bd-baa243195d5e' title='Show/Hide data repr'><svg class='icon xr-icon-database'><use xlink:href='#icon-database'></use></svg></label><div class='xr-var-attrs'><dl class='xr-attrs'></dl></div><pre class='xr-var-data'>array([[[0., 0., 0., ..., 0., 0., 0.],\n",
       "        [0., 0., 0., ..., 1., 0., 1.],\n",
       "        [0., 0., 0., ..., 0., 0., 1.],\n",
       "        ...,\n",
       "        [0., 0., 0., ..., 0., 0., 0.],\n",
       "        [0., 0., 0., ..., 0., 0., 0.],\n",
       "        [0., 0., 0., ..., 0., 0., 0.]],\n",
       "\n",
       "       [[0., 0., 0., ..., 0., 0., 0.],\n",
       "        [0., 0., 0., ..., 0., 1., 1.],\n",
       "        [0., 0., 0., ..., 0., 1., 1.],\n",
       "        ...,\n",
       "        [0., 0., 0., ..., 0., 0., 0.],\n",
       "        [0., 0., 0., ..., 0., 0., 0.],\n",
       "        [0., 0., 0., ..., 0., 0., 0.]],\n",
       "\n",
       "       [[0., 0., 0., ..., 0., 0., 0.],\n",
       "        [0., 0., 0., ..., 0., 0., 0.],\n",
       "        [0., 0., 0., ..., 0., 0., 0.],\n",
       "        ...,\n",
       "        [0., 0., 0., ..., 0., 0., 0.],\n",
       "        [0., 0., 0., ..., 0., 0., 0.],\n",
       "        [0., 0., 0., ..., 0., 0., 0.]],\n",
       "\n",
       "       [[0., 0., 0., ..., 0., 0., 0.],\n",
       "        [0., 0., 0., ..., 0., 0., 0.],\n",
       "        [0., 0., 0., ..., 0., 0., 0.],\n",
       "        ...,\n",
       "        [0., 0., 0., ..., 0., 0., 0.],\n",
       "        [0., 0., 0., ..., 0., 0., 0.],\n",
       "        [0., 0., 0., ..., 0., 0., 0.]]])</pre></li><li class='xr-var-item'><div class='xr-var-name'><span>inttidal_wat_cat_l4a</span></div><div class='xr-var-dims'>(time, y, x)</div><div class='xr-var-dtype'>float64</div><div class='xr-var-preview xr-preview'>0.0 0.0 0.0 0.0 ... 0.0 0.0 0.0 0.0</div><input id='attrs-2556b5fc-778f-4dbb-8c28-8778f02aac50' class='xr-var-attrs-in' type='checkbox' disabled><label for='attrs-2556b5fc-778f-4dbb-8c28-8778f02aac50' title='Show/Hide attributes'><svg class='icon xr-icon-file-text2'><use xlink:href='#icon-file-text2'></use></svg></label><input id='data-90ba5e1b-acde-42cc-9d9d-c39517d21a7b' class='xr-var-data-in' type='checkbox'><label for='data-90ba5e1b-acde-42cc-9d9d-c39517d21a7b' title='Show/Hide data repr'><svg class='icon xr-icon-database'><use xlink:href='#icon-database'></use></svg></label><div class='xr-var-attrs'><dl class='xr-attrs'></dl></div><pre class='xr-var-data'>array([[[0., 0., 0., ..., 0., 0., 0.],\n",
       "        [0., 0., 0., ..., 0., 0., 0.],\n",
       "        [0., 0., 0., ..., 0., 0., 0.],\n",
       "        ...,\n",
       "        [0., 0., 0., ..., 0., 0., 0.],\n",
       "        [0., 0., 0., ..., 0., 0., 0.],\n",
       "        [0., 0., 0., ..., 0., 0., 0.]],\n",
       "\n",
       "       [[0., 0., 0., ..., 0., 0., 0.],\n",
       "        [0., 0., 0., ..., 0., 0., 0.],\n",
       "        [0., 0., 0., ..., 0., 0., 0.],\n",
       "        ...,\n",
       "        [0., 0., 0., ..., 0., 0., 0.],\n",
       "        [0., 0., 0., ..., 0., 0., 0.],\n",
       "        [0., 0., 0., ..., 0., 0., 0.]],\n",
       "\n",
       "       [[0., 0., 0., ..., 0., 0., 0.],\n",
       "        [0., 0., 0., ..., 0., 0., 0.],\n",
       "        [0., 0., 0., ..., 0., 0., 0.],\n",
       "        ...,\n",
       "        [0., 0., 0., ..., 0., 0., 0.],\n",
       "        [0., 0., 0., ..., 0., 0., 0.],\n",
       "        [0., 0., 0., ..., 0., 0., 0.]],\n",
       "\n",
       "       [[0., 0., 0., ..., 0., 0., 0.],\n",
       "        [0., 0., 0., ..., 0., 0., 0.],\n",
       "        [0., 0., 0., ..., 0., 0., 0.],\n",
       "        ...,\n",
       "        [0., 0., 0., ..., 0., 0., 0.],\n",
       "        [0., 0., 0., ..., 0., 0., 0.],\n",
       "        [0., 0., 0., ..., 0., 0., 0.]]])</pre></li><li class='xr-var-item'><div class='xr-var-name'><span>waterper_wat_cat_l4d</span></div><div class='xr-var-dims'>(time, y, x)</div><div class='xr-var-dtype'>float64</div><div class='xr-var-preview xr-preview'>0.0 0.0 0.0 0.0 ... 0.0 0.0 0.0 0.0</div><input id='attrs-76194074-1328-4cae-8eeb-ef2395549b7a' class='xr-var-attrs-in' type='checkbox' disabled><label for='attrs-76194074-1328-4cae-8eeb-ef2395549b7a' title='Show/Hide attributes'><svg class='icon xr-icon-file-text2'><use xlink:href='#icon-file-text2'></use></svg></label><input id='data-ebc6940c-a99c-4075-bdd6-14d4ea3c9bf0' class='xr-var-data-in' type='checkbox'><label for='data-ebc6940c-a99c-4075-bdd6-14d4ea3c9bf0' title='Show/Hide data repr'><svg class='icon xr-icon-database'><use xlink:href='#icon-database'></use></svg></label><div class='xr-var-attrs'><dl class='xr-attrs'></dl></div><pre class='xr-var-data'>array([[[0., 0., 0., ..., 0., 0., 0.],\n",
       "        [0., 0., 0., ..., 9., 0., 9.],\n",
       "        [0., 0., 0., ..., 0., 0., 9.],\n",
       "        ...,\n",
       "        [0., 0., 0., ..., 0., 0., 0.],\n",
       "        [0., 0., 0., ..., 0., 0., 0.],\n",
       "        [0., 0., 0., ..., 0., 0., 0.]],\n",
       "\n",
       "       [[0., 0., 0., ..., 0., 0., 0.],\n",
       "        [0., 0., 0., ..., 0., 9., 8.],\n",
       "        [0., 0., 0., ..., 0., 9., 9.],\n",
       "        ...,\n",
       "        [0., 0., 0., ..., 0., 0., 0.],\n",
       "        [0., 0., 0., ..., 0., 0., 0.],\n",
       "        [0., 0., 0., ..., 0., 0., 0.]],\n",
       "\n",
       "       [[0., 0., 0., ..., 0., 0., 0.],\n",
       "        [0., 0., 0., ..., 0., 0., 0.],\n",
       "        [0., 0., 0., ..., 0., 0., 0.],\n",
       "        ...,\n",
       "        [0., 0., 0., ..., 0., 0., 0.],\n",
       "        [0., 0., 0., ..., 0., 0., 0.],\n",
       "        [0., 0., 0., ..., 0., 0., 0.]],\n",
       "\n",
       "       [[0., 0., 0., ..., 0., 0., 0.],\n",
       "        [0., 0., 0., ..., 0., 0., 0.],\n",
       "        [0., 0., 0., ..., 0., 0., 0.],\n",
       "        ...,\n",
       "        [0., 0., 0., ..., 0., 0., 0.],\n",
       "        [0., 0., 0., ..., 0., 0., 0.],\n",
       "        [0., 0., 0., ..., 0., 0., 0.]]])</pre></li><li class='xr-var-item'><div class='xr-var-name'><span>Red</span></div><div class='xr-var-dims'>(time, y, x)</div><div class='xr-var-dtype'>float64</div><div class='xr-var-preview xr-preview'>153.0 153.0 80.0 ... 153.0 242.0</div><input id='attrs-966a3159-aaef-49a5-b6bb-48991db87b8f' class='xr-var-attrs-in' type='checkbox' disabled><label for='attrs-966a3159-aaef-49a5-b6bb-48991db87b8f' title='Show/Hide attributes'><svg class='icon xr-icon-file-text2'><use xlink:href='#icon-file-text2'></use></svg></label><input id='data-a08b1eef-7eb8-4d48-81c2-0c391a8e35e4' class='xr-var-data-in' type='checkbox'><label for='data-a08b1eef-7eb8-4d48-81c2-0c391a8e35e4' title='Show/Hide data repr'><svg class='icon xr-icon-database'><use xlink:href='#icon-database'></use></svg></label><div class='xr-var-attrs'><dl class='xr-attrs'></dl></div><pre class='xr-var-data'>array([[[153., 153.,  80., ..., 136., 136., 136.],\n",
       "        [153., 153., 153., ..., 133., 153., 133.],\n",
       "        [242., 153., 153., ..., 153., 153., 133.],\n",
       "        ...,\n",
       "        [235., 235., 235., ..., 153., 153., 153.],\n",
       "        [235., 235., 136., ..., 153., 153., 153.],\n",
       "        [136., 235., 136., ..., 153., 153., 153.]],\n",
       "\n",
       "       [[249., 153.,  45., ..., 242., 235., 242.],\n",
       "        [249., 153., 136., ..., 242., 133.,  79.],\n",
       "        [242., 153., 136., ..., 213., 133., 133.],\n",
       "        ...,\n",
       "        [235., 228., 235., ..., 242., 242., 242.],\n",
       "        [235., 235., 235., ..., 153., 242., 242.],\n",
       "        [235., 235., 235., ..., 235., 242., 235.]],\n",
       "\n",
       "       [[249., 243., 153., ..., 235., 153., 153.],\n",
       "        [243., 243., 153., ..., 242., 170., 170.],\n",
       "        [243., 153., 153., ..., 153., 170., 170.],\n",
       "        ...,\n",
       "        [153., 153., 153., ..., 170., 170., 249.],\n",
       "        [153., 153., 153., ..., 170., 153., 249.],\n",
       "        [153., 153., 153., ..., 170., 170., 249.]],\n",
       "\n",
       "       [[153., 153.,  45., ..., 235., 235., 235.],\n",
       "        [153., 153., 153., ..., 136., 235., 235.],\n",
       "        [153., 153., 153., ..., 136., 136., 235.],\n",
       "        ...,\n",
       "        [235., 235., 242., ..., 153., 153., 153.],\n",
       "        [235., 235., 235., ..., 170., 153., 242.],\n",
       "        [235., 235., 235., ..., 153., 153., 242.]]])</pre></li><li class='xr-var-item'><div class='xr-var-name'><span>Green</span></div><div class='xr-var-dims'>(time, y, x)</div><div class='xr-var-dtype'>float64</div><div class='xr-var-preview xr-preview'>196.0 196.0 160.0 ... 196.0 240.0</div><input id='attrs-865be9ba-b5ea-4429-a220-837342796e42' class='xr-var-attrs-in' type='checkbox' disabled><label for='attrs-865be9ba-b5ea-4429-a220-837342796e42' title='Show/Hide attributes'><svg class='icon xr-icon-file-text2'><use xlink:href='#icon-file-text2'></use></svg></label><input id='data-84617f87-dada-4b5a-a335-449d4512beb8' class='xr-var-data-in' type='checkbox'><label for='data-84617f87-dada-4b5a-a335-449d4512beb8' title='Show/Hide data repr'><svg class='icon xr-icon-database'><use xlink:href='#icon-database'></use></svg></label><div class='xr-var-attrs'><dl class='xr-attrs'></dl></div><pre class='xr-var-data'>array([[[196., 196., 160., ..., 182., 182., 182.],\n",
       "        [196., 196., 196., ..., 202., 196., 202.],\n",
       "        [240., 196., 196., ..., 196., 196., 202.],\n",
       "        ...,\n",
       "        [232., 232., 232., ..., 196., 196., 196.],\n",
       "        [232., 232., 182., ..., 196., 196., 196.],\n",
       "        [182., 232., 182., ..., 196., 196., 196.]],\n",
       "\n",
       "       [[247., 196., 141., ..., 240., 232., 240.],\n",
       "        [247., 196., 182., ..., 240., 202., 157.],\n",
       "        [240., 196., 182., ..., 193., 202., 202.],\n",
       "        ...,\n",
       "        [232., 224., 232., ..., 240., 240., 240.],\n",
       "        [232., 232., 232., ..., 196., 240., 240.],\n",
       "        [232., 232., 232., ..., 232., 240., 232.]],\n",
       "\n",
       "       [[247., 171., 196., ..., 232., 196., 196.],\n",
       "        [171., 171., 196., ..., 240., 212., 212.],\n",
       "        [171., 196., 196., ..., 196., 212., 212.],\n",
       "        ...,\n",
       "        [196., 196., 196., ..., 212., 212., 247.],\n",
       "        [196., 196., 196., ..., 212., 196., 247.],\n",
       "        [196., 196., 196., ..., 212., 212., 247.]],\n",
       "\n",
       "       [[196., 196., 141., ..., 232., 232., 232.],\n",
       "        [196., 196., 196., ..., 182., 232., 232.],\n",
       "        [196., 196., 196., ..., 182., 182., 232.],\n",
       "        ...,\n",
       "        [232., 232., 240., ..., 196., 196., 196.],\n",
       "        [232., 232., 232., ..., 212., 196., 240.],\n",
       "        [232., 232., 232., ..., 196., 196., 240.]]])</pre></li><li class='xr-var-item'><div class='xr-var-name'><span>Blue</span></div><div class='xr-var-dims'>(time, y, x)</div><div class='xr-var-dtype'>float64</div><div class='xr-var-preview xr-preview'>80.0 80.0 82.0 ... 80.0 80.0 127.0</div><input id='attrs-aa659577-51f7-4a70-b460-5568449960b5' class='xr-var-attrs-in' type='checkbox' disabled><label for='attrs-aa659577-51f7-4a70-b460-5568449960b5' title='Show/Hide attributes'><svg class='icon xr-icon-file-text2'><use xlink:href='#icon-file-text2'></use></svg></label><input id='data-40f5ff10-857f-4b34-956e-7793161d5f96' class='xr-var-data-in' type='checkbox'><label for='data-40f5ff10-857f-4b34-956e-7793161d5f96' title='Show/Hide data repr'><svg class='icon xr-icon-database'><use xlink:href='#icon-database'></use></svg></label><div class='xr-var-attrs'><dl class='xr-attrs'></dl></div><pre class='xr-var-data'>array([[[ 80.,  80.,  82., ...,  51.,  51.,  51.],\n",
       "        [ 80.,  80.,  80., ..., 253.,  80., 253.],\n",
       "        [127.,  80.,  80., ...,  80.,  80., 253.],\n",
       "        ...,\n",
       "        [ 84.,  84.,  84., ...,  80.,  80.,  80.],\n",
       "        [ 84.,  84.,  51., ...,  80.,  80.,  80.],\n",
       "        [ 51.,  84.,  51., ...,  80.,  80.,  80.]],\n",
       "\n",
       "       [[174.,  80.,  47., ..., 127.,  84., 127.],\n",
       "        [174.,  80.,  51., ..., 127., 253., 217.],\n",
       "        [127.,  80.,  51., ...,  79., 253., 253.],\n",
       "        ...,\n",
       "        [ 84.,  52.,  84., ..., 127., 127., 127.],\n",
       "        [ 84.,  84.,  84., ...,  80., 127., 127.],\n",
       "        [ 84.,  84.,  84., ...,  84., 127.,  84.]],\n",
       "\n",
       "       [[174., 105.,  80., ...,  84.,  80.,  80.],\n",
       "        [105., 105.,  80., ..., 127., 113., 113.],\n",
       "        [105.,  80.,  80., ...,  80., 113., 113.],\n",
       "        ...,\n",
       "        [ 80.,  80.,  80., ..., 113., 113., 174.],\n",
       "        [ 80.,  80.,  80., ..., 113.,  80., 174.],\n",
       "        [ 80.,  80.,  80., ..., 113., 113., 174.]],\n",
       "\n",
       "       [[ 80.,  80.,  47., ...,  84.,  84.,  84.],\n",
       "        [ 80.,  80.,  80., ...,  51.,  84.,  84.],\n",
       "        [ 80.,  80.,  80., ...,  51.,  51.,  84.],\n",
       "        ...,\n",
       "        [ 84.,  84., 127., ...,  80.,  80.,  80.],\n",
       "        [ 84.,  84.,  84., ..., 113.,  80., 127.],\n",
       "        [ 84.,  84.,  84., ...,  80.,  80., 127.]]])</pre></li></ul></div></li><li class='xr-section-item'><input id='section-e28fac1f-bfb1-4535-b5ca-76915978ad06' class='xr-section-summary-in' type='checkbox' disabled ><label for='section-e28fac1f-bfb1-4535-b5ca-76915978ad06' class='xr-section-summary'  title='Expand/collapse section'>Attributes: <span>(0)</span></label><div class='xr-section-inline-details'></div><div class='xr-section-details'><dl class='xr-attrs'></dl></div></li></ul></div></div>"
      ],
      "text/plain": [
       "<xarray.Dataset>\n",
       "Dimensions:                  (time: 4, x: 400, y: 500)\n",
       "Coordinates:\n",
       "  * time                     (time) datetime64[ns] 2005-12-31 ... 2017-12-31\n",
       "    spatial_ref              int32 3577\n",
       "  * y                        (y) float64 -3.93e+06 -3.93e+06 ... -3.98e+06\n",
       "  * x                        (x) float64 1.09e+06 1.09e+06 ... 1.13e+06 1.13e+06\n",
       "Data variables:\n",
       "    fc_veg                   (time, y, x) float32 1.0 1.0 1.0 ... 1.0 1.0 1.0\n",
       "    saltpan_mask             (time, y, x) float64 1.0 1.0 1.0 ... 1.0 1.0 1.0\n",
       "    mudflat_mask             (time, y, x) float64 0.0 0.0 0.0 ... 0.0 0.0 0.0\n",
       "    DEM                      (time, y, x) float64 0.0 0.0 0.0 ... 0.0 0.0 0.0\n",
       "    wofs_mask                (time, y, x) float64 0.0 0.0 0.0 ... 0.0 0.0 0.0\n",
       "    item_v2_mask             (time, y, x) float64 0.0 0.0 0.0 ... 0.0 0.0 0.0\n",
       "    mangrove                 (time, y, x) float64 0.0 0.0 0.0 ... 0.0 0.0 0.0\n",
       "    cultman_agr_cat          (time, y, x) float64 0.0 0.0 0.0 ... 0.0 0.0 1.0\n",
       "    tf_urban_classification  (time, y, x) float64 0.0 0.0 1.0 ... 0.0 0.0 0.0\n",
       "    mads_urban_mask_sdev     (time, y, x) float64 0.0 0.0 0.0 ... 0.0 0.0 0.0\n",
       "    mads_urban_mask_edev     (time, y, x) float64 0.0 0.0 0.0 ... 1.0 1.0 1.0\n",
       "    wcf_mask                 (time, y, x) float64 1.0 1.0 1.0 ... 1.0 1.0 1.0\n",
       "    lifeform_veg_cat         (time, y, x) float64 2.0 2.0 1.0 ... 2.0 2.0 2.0\n",
       "    canopyco_veg_con         (time, y, x) float64 24.5 30.0 38.0 ... 19.0 25.0\n",
       "    watersea_veg_cat         (time, y, x) float64 0.0 0.0 0.0 ... 0.0 0.0 0.0\n",
       "    waterper_wat_cin         (time, y, x) float64 0.0 0.0 0.0 ... 0.0 0.0 0.0\n",
       "    npv_pv_90                (time, y, x) float64 52.0 53.0 55.0 ... 74.0 75.0\n",
       "    pv_90                    (time, y, x) float64 55.0 46.0 49.0 ... 42.0 62.0\n",
       "    cci_biomass              (time, y, x) float32 31.0 0.0 56.0 ... 42.0 53.0\n",
       "    tasscapwetn              (time, y, x) float32 -0.30887842 ... -0.23231816\n",
       "    vegetat_veg_cat          (time, y, x) float64 1.0 1.0 1.0 ... 1.0 1.0 1.0\n",
       "    aquatic_wat_cat          (time, y, x) float64 0.0 0.0 0.0 ... 0.0 0.0 0.0\n",
       "    artific_urb_cat          (time, y, x) float64 0.0 0.0 1.0 ... 0.0 0.0 0.0\n",
       "    waterstt_wat_cat         (time, y, x) float64 0.0 0.0 0.0 ... 0.0 0.0 0.0\n",
       "    inttidal_wat_cat         (time, y, x) float64 0.0 0.0 0.0 ... 0.0 0.0 0.0\n",
       "    level3                   (time, y, x) float64 112.0 112.0 ... 112.0 111.0\n",
       "    lifeform_veg_cat_l4a     (time, y, x) float64 2.0 2.0 1.0 ... 2.0 2.0 2.0\n",
       "    canopyco_veg_cat_l4d     (time, y, x) float64 13.0 13.0 13.0 ... 13.0 13.0\n",
       "    watersea_veg_cat_l4a_au  (time, y, x) float64 0.0 0.0 0.0 ... 0.0 0.0 0.0\n",
       "    waterstt_wat_cat_l4a     (time, y, x) float64 0.0 0.0 0.0 ... 0.0 0.0 0.0\n",
       "    inttidal_wat_cat_l4a     (time, y, x) float64 0.0 0.0 0.0 ... 0.0 0.0 0.0\n",
       "    waterper_wat_cat_l4d     (time, y, x) float64 0.0 0.0 0.0 ... 0.0 0.0 0.0\n",
       "    Red                      (time, y, x) float64 153.0 153.0 ... 153.0 242.0\n",
       "    Green                    (time, y, x) float64 196.0 196.0 ... 196.0 240.0\n",
       "    Blue                     (time, y, x) float64 80.0 80.0 82.0 ... 80.0 127.0"
      ]
     },
     "execution_count": 11,
     "metadata": {},
     "output_type": "execute_result"
    }
   ],
   "source": [
    "classification_all"
   ]
  },
  {
   "cell_type": "markdown",
   "metadata": {},
   "source": [
    "## Data Input"
   ]
  },
  {
   "cell_type": "markdown",
   "metadata": {},
   "source": [
    "#### Mapping Ecosystems using available data\n",
    "Within Digital Earth Australia (DEA), categorical and continuous environmental descriptors (EDs) with pre-defined codes or units and (currently) retreived from Landsat sensor data are combined within the hierarchical and modular framework of the Food and Agriculture Organisation (FAO) Land Cover Classification System (LCCS) to generate continental (Australia-wide) maps of land cover for different years.  Those EDs that are needed for the LCCS are defined as essential (EEDs; e.g., canopy cover) whilst several are additional (AEDs; e.g., woody fraction or biomass).  \n",
    "\n",
    "The FAO LCCS taxonomy is beneficial as many classes can be directly translated to habitat or ecosystem categories and this can be facilitated by integrating a range of specific AEDs.  This Jupyter notebook  allows exploration of the land cover maps, the EEDs used in their generation and AEDS for further descrioption for mapping ecosystems and habitats occuring in Australia.  AEDs and other information can be uploaded as needed. The exploration and mapping is undertaken within the sandbox, which provides direct access to the data and Open Data Cube (ODC) environment. "
   ]
  },
  {
   "cell_type": "markdown",
   "metadata": {},
   "source": [
    "#### Gunbower-Koondrook-Perricoota Forest as an example\n",
    "The Gunbower-Koondrook-Perricoota Forest is one of six icon sites along the Murray River identified as a priority under The Living Murray (TLM) river restoration program.  The main ecosystems occuring are floodplain eucalypt woodlands and forests, re-sprouter temperate and subtropical eucalyptus woodlands, callitris woodlands, wetland and lowland streams.  These are present in both reference and modified states (Table 1).\n",
    "\n",
    "Table 1.  Reference and modified states for ecosystems in the Gunbower-Koondrook-Perricoota Forest \n",
    "\n",
    "<img src=\"Illustrations/Table1.jpg\" style=\"width:800px;height:700px\"/>\n",
    "\n",
    "Through consultation with experts, each of these was described on the basis of the EEDs and AEDs and these were then combined to indicate the land cover classes with which they are best aligned.\n",
    "\n",
    "Figure 1.  An overview of the EEDs and AEDs associated with FAO LCCS land cover classification\n",
    "\n",
    "<img src=\"Illustrations/LCCS_AEM_Hierarchy.jpg\" style=\"width:800px;height:700px\"/>\n",
    "\n",
    "The notebook focuses on mapping the five main ecosystems but specifically those indicated with an asterisk in Table 1.\n",
    "\n",
    "### AEM: Floodplain Eucalypt Woodlands and Forests\n",
    "\n",
    "https://australia.livingearth.online/themes/australian-ecosystems/eucalypt-woodlands/floodplain-eucalypt-woodlands-and-forests/\n",
    "\n",
    "Archetype: The mature forms of these ecosystems grade in structure from open eucalypt forests close to large watercourses, to open eucalypt woodland on drier floodplains. Understorey composition also varies along this moisture gradient, being dominated by reeds, sedges, rushes and forbs in the most frequently flooded areas and grading to dominance by grasses, forbs and chenopods in less frequently flooded areas. Shrubs, including Lignum (Duma florulenta) and Melaleuca and Acacia species, can be present. The dynamics of the floodplain eucalypt woodlands and forests are controlled by hydrological regime, with less-well understood influence of fire. Many of the established trees use ground water if it is accessible and of adequate quality, and are susceptible to mortality if ground water declines and rainfall is low."
   ]
  },
  {
   "cell_type": "markdown",
   "metadata": {},
   "source": [
    "### State - Reference or Reduced tree canopy cover over invaded understorey \n",
    "#### Expression - Mature floodplain eucalypt forest/woodland\n",
    "<img src=\"Illustrations/Floodplain_eucalypt_woodlands_and_forests.jpg\" style=\"width:300px;height:200px\"/>\n",
    "Germination of floodplain eucalypt seed is promoted by episodic flooding, leading to dense stands or patches of seedling eucalypts. These may be associated with reduced density of overstorey trees if the mature trees were damaged by floods. Flooding may also promote a temporary shift towards more aquatic plant species in the understorey.\n",
    "\n",
    "https://australia.livingearth.online/themes/australian-ecosystems/eucalypt-woodlands/floodplain-eucalypt-woodlands-and-forests/mature-floodplain-eucalypt-forest-woodland/\n",
    "\n",
    "\n",
    "|   |   |\n",
    "|---|---|\n",
    "| NTV  | 112  |\n",
    "| Water Persistence  |2 weeks to 6 months (4-6 months at wettest end) in at least 1 in 15-20 years (dry Black box) in most years for wettest red gum  |\n",
    "| Water seasonality   |spring snowmelt (late winter) to spring  |\n",
    "| No layers   |3  |   \n",
    "\n",
    "|LAYER|LIFEFORM|AQU LIFEFORM|AV COVER (%)|AV HEIGHT (m)|LEAF TYPE|PHENOLOGY|SPATIAL DIST.|DOMINANT SPECIES|BIOMASS Mgha|\n",
    "|----------|--|----------|---------|----------|---------- |----------|-------------|-----------------------------|--|\n",
    "|1|Trees|na|10-70|> 3|Broadleaf|Evergreen|Continuous|Euc. camaldulensis or E. largiflorens|148-375|\n",
    "|2|Shrubs|na|0- 5|1-5|Broadleaf to Aphyllous |Evergreen and drought deciduous (if lignum) |Scattered (clustered to isolated)   |Acacia dealbata, Exocarpos strictus (occasionally riverbanks), Acacia salicina (occasionally in black box), Duma florulenta||\n",
    "|3|Mixed Forbs and graminoids subshrub incl low chenopods in dry |includes both|10-90|1.5|Monocot and Broadleaf|Mixed annual/perennial|Continuous|Carex tereticaulis, Eleocharis acuta, Cycnogeton sp., Paspalidium jubiflorum, Centipeda cunninghamii, Poa labillardieri, Alternanthera denticulata, Marsilea drummondii, Amphibromus sp., Rytidosperma sp.||  \n",
    "  \n",
    "\n",
    "AVAILABLE DATA\n",
    "level3, \n",
    "lifeform_veg_cat_l4a, \n",
    "canopyco_veg_cat_l4d, \n",
    "watersea_veg_cat_l4a, \n",
    "waterstt_wat_cat_l4a, \n",
    "waterper_wat_cat_l4d, \n",
    "inttidal_wat_cat_l4a, \n",
    "cci_biomass, \n",
    "woodyfractn, \n",
    "burnedareas, \n",
    "waterpersis, \n",
    "hgt25pccov, \n",
    "hgt50pccov, \n",
    "hgt75pccov, \n",
    "hgt95pccov, \n",
    "hgtpeakccov, \n",
    "fraccovlt5m, \n",
    "fraccov510m, \n",
    "fraccov1030m, \n",
    "fraccovgt30m, \n",
    "totalfraccov, \n",
    "npvpercov50,\n",
    "pvpercov50,\n",
    "woodyfracav\n",
    "\n",
    "<img src=\"Illustrations/LUTLCCSCodes.jpg\" style=\"width:320px;height:140px\"/>\n",
    "Woody Fraction (%): 0 to 0.1 (representing 0 to 100 %), Above ground biomass (Mg ha-1): 0 to 300 Mg ha-1,Frequency of burn (number): 0 to 35+, Time since last burn (years): 0 to 35 years"
   ]
  },
  {
   "cell_type": "code",
   "execution_count": 23,
   "metadata": {},
   "outputs": [],
   "source": [
    "#  Illustrates the first step in classification\n",
    "#mature_floodpln_euc = numpy.where((classification_all[\"level3\"].values == 112) & \n",
    "#                    (classification_all[\"wcf_mask\"].values >= 0.2), 1, 0)"
   ]
  },
  {
   "cell_type": "code",
   "execution_count": 26,
   "metadata": {},
   "outputs": [],
   "source": [
    "#  Combined with the second\n",
    "#mature_floodpln_euc = numpy.where((classification_all[\"level3\"].values == 112) & \n",
    "#                                  (classification_all[\"wcf_mask\"].values == 1) &                             \n",
    "#                                  (classification_all[\"canopyco_veg_con\"].values >= 65), 1, 0)"
   ]
  },
  {
   "cell_type": "code",
   "execution_count": null,
   "metadata": {},
   "outputs": [],
   "source": [
    "#mature_floodpln_euc = numpy.where((classification_all[\"level3\"].values == 112) & \n",
    "#                                  (classification_all[\"woody_cover\"].values >= 0.2) &\n",
    "#                                 (classification_all[\"canopyco_veg_con\"].values >= 65) &\n",
    "#                                 ((classification_all[\"cci_biomass\"].values >=32) & (classification_all[\"cci_biomass\"].values >=32)), 1, 0)"
   ]
  },
  {
   "cell_type": "code",
   "execution_count": 38,
   "metadata": {},
   "outputs": [],
   "source": [
    "# Convert to xarray\n",
    "mature_floodpln_euc_xarray = xarray.Dataset(\n",
    "    {\"mature_floodpln_euc\" : (classification_all[\"level3\"].dims, mature_floodpln_euc)},\n",
    "    coords=classification_all.coords)"
   ]
  },
  {
   "cell_type": "code",
   "execution_count": 39,
   "metadata": {},
   "outputs": [
    {
     "data": {
      "text/plain": [
       "<matplotlib.image.AxesImage at 0x7ff2d80d7cc0>"
      ]
     },
     "execution_count": 39,
     "metadata": {},
     "output_type": "execute_result"
    },
    {
     "data": {
      "image/png": "[encoded data removed]",
      "text/plain": [
       "<Figure size 432x288 with 1 Axes>"
      ]
     },
     "metadata": {
      "needs_background": "light"
     },
     "output_type": "display_data"
    }
   ],
   "source": [
    "# Plot first year in time seroes\n",
    "pyplot.imshow(mature_floodpln_euc[0])"
   ]
  },
  {
   "cell_type": "code",
   "execution_count": 41,
   "metadata": {},
   "outputs": [],
   "source": [
    "# Export data as a GeoTiff\n",
    "for i, year in enumerate(classification_years):\n",
    "    cog.write_cog(mature_floodpln_euc_xarray[\"mature_floodpln_euc\"].isel(time=i).astype(numpy.uint8),\n",
    "                  os.path.join(output_dir, '{}-Mature_floodplain_euc_{}.tif'.format(site_name.replace(\" \",\"_\"), year)))"
   ]
  },
  {
   "cell_type": "code",
   "execution_count": 42,
   "metadata": {},
   "outputs": [
    {
     "name": "stdout",
     "output_type": "stream",
     "text": [
      "2005: 547 pixels, 547000000 m2\n",
      "2010: 877 pixels, 877000000 m2\n",
      "2015: 233 pixels, 233000000 m2\n",
      "2017: 782 pixels, 782000000 m2\n"
     ]
    }
   ],
   "source": [
    "for i, year in enumerate(classification_years):\n",
    "    pixels_class = mature_floodpln_euc[i][mature_floodpln_euc[i] == 1].size\n",
    "    area_class = pixels_class * (target_size[\"target_pixel_size_x\"] * abs(target_size[\"target_pixel_size_y\"]))\n",
    "    print(\"{}: {} pixels, {} m2\".format(year, pixels_class, area_class))"
   ]
  },
  {
   "cell_type": "markdown",
   "metadata": {},
   "source": [
    "### State - Reference\n",
    "#### Expression - Reduced tree canopy with wetland, grassland or chenopod understorey\n",
    "<img src=\"Illustrations/Floodplain_eucalypt_woodlands_and_forests.jpg\" style=\"width:300px;height:200px\"/>\n",
    "Dominated by Eucalyptus camaldulensis or E. largiflorens with a shrub layer of Exocarpus strictus and lignum species. the herbaceous layer typically includes Carex tereticaulis, Paspalidium jubiflorum, Centipeda cunninghamii, Alternanthera denticulata, Marsilea drummondii, Amphibromus sp. and Rytidosperma sp.\n",
    "\n",
    "\n",
    "https://australia.livingearth.online/themes/australian-ecosystems/eucalypt-woodlands/floodplain-eucalypt-woodlands-and-forests/partial-tree-canopy/\n",
    "\n",
    "|   |   |\n",
    "|---|---|\n",
    "| NTV|112|\n",
    "| Water Persistence|0 weeks to <1 month (drought causing tree death)|\n",
    "| Water seasonality|Spring snowmelt (late winter) to spring|\n",
    "| No layers|3| \n",
    "\n",
    "\n",
    "   \n",
    "|LAYER|LIFEFORM|AQU LIFEFORM|AV COVER (%)|AV HEIGHT (m)|LEAF TYPE|PHENOLOGY|SPATIAL DIST.|DOMINANT SPECIES|BIOMASS Mgha|\n",
    "|----------|--|----------|---------|----------|---------- |----------|-------------|-----------------------------|--|\n",
    "|1|Trees|na|10-50|> 3|Broadleaf|Evergreen|Clustered|Euc. camaldulensis or E. largiflorens|32-225|\n",
    "|2|Shrubs|na|0-5|1-2|Aphyllous |Evergreen and drought deciduous (if lignum) |Clustered   |Exocarpus strictus, lignum ||\n",
    "|3|Mixed Forbs and graminoids|includes both (uncommon)|10-50|<1.5|Broadleaf|Mixed annual/perennial|Continuous|Carex tereticaulis, Paspalidium jubiflorum, Centipeda cunninghamii, Alternanthera denticulata, Marsilea drummondii, Amphibromus sp., Rytidosperma sp.|| \n",
    "\n",
    "AVAILABLE DATA\n",
    "level3, \n",
    "lifeform_veg_cat_l4a, \n",
    "canopyco_veg_cat_l4d, \n",
    "watersea_veg_cat_l4a, \n",
    "waterstt_wat_cat_l4a, \n",
    "waterper_wat_cat_l4d, \n",
    "inttidal_wat_cat_l4a, \n",
    "cci_biomass, \n",
    "woodyfractn, \n",
    "burnedareas, \n",
    "waterpersis, \n",
    "hgt25pccov, \n",
    "hgt50pccov, \n",
    "hgt75pccov, \n",
    "hgt95pccov, \n",
    "hgtpeakccov, \n",
    "fraccovlt5m, \n",
    "fraccov510m, \n",
    "fraccov1030m, \n",
    "fraccovgt30m, \n",
    "totalfraccov, \n",
    "npvpercov50,\n",
    "pvpercov50,\n",
    "woodyfracav\n",
    "\n",
    "<img src=\"Illustrations/LUTLCCSCodes.jpg\" style=\"width:320px;height:140px\"/>\n",
    "Woody Fraction (%): 0 to 0.1 (representing 0 to 100 %), Above ground biomass (Mg ha-1): 0 to 300 Mg ha-1,Frequency of burn (number): 0 to 35+, Time since last burn (years): 0 to 35 years"
   ]
  },
  {
   "cell_type": "code",
   "execution_count": null,
   "metadata": {},
   "outputs": [],
   "source": [
    "partial_tree_canopy = numpy.where((classification_all[\"level3\"].values == 112) &\n",
    "                      (classification_all[\"cci_biomass\"].values >= 32) & (classification_all[\"cci_biomass\"].values <= 225) &\n",
    "                      (classification_all[\"canopyco_veg_con\"].values >= 10 ) & (classification_all[\"canopyco_veg_con\"].values <= 50), 1, 0)"
   ]
  },
  {
   "cell_type": "code",
   "execution_count": null,
   "metadata": {},
   "outputs": [],
   "source": [
    " # Convert to xarray\n",
    "partial_tree_canopy_xarray = xarray.Dataset(\n",
    "    {\"partial_tree_canopy\" : (classification_all[\"level3\"].dims, partial_tree_canopy)},\n",
    "    coords=classification_all.coords)"
   ]
  },
  {
   "cell_type": "code",
   "execution_count": null,
   "metadata": {},
   "outputs": [],
   "source": [
    "pyplot.imshow(partial_tree_canopy[0])"
   ]
  },
  {
   "cell_type": "code",
   "execution_count": null,
   "metadata": {},
   "outputs": [],
   "source": [
    "# Export data as a GeoTiff\n",
    "for i, year in enumerate(classification_years):\n",
    "    cog.write_cog(partial_tree_canopy_xarray[\"partial_tree_canopy\"].isel(time=i).astype(numpy.uint8),\n",
    "                  os.path.join(output_dir, '{}-Partial_tree_canopy_{}.tif'.format(site_name.replace(\" \",\"_\"), year)))"
   ]
  },
  {
   "cell_type": "markdown",
   "metadata": {},
   "source": [
    "### State - Reference\n",
    "#### Expression - Dense seedling eucalypts\n",
    "<img src=\"Illustrations/Floodplain_eucalypt_woodlands_and_forests.jpg\" style=\"width:300px;height:200px\"/>\n",
    "Germination of floodplain eucalypt seed is promoted by episodic flooding, leading to dense stands or patches of seedling eucalypts. These may be associated with reduced density of overstorey trees if the mature trees were damaged by floods. Flooding may also promote a temporary shift towards more aquatic plant species in the understorey.\n",
    "\n",
    "https://australia.livingearth.online/themes/australian-ecosystems/eucalypt-woodlands/floodplain-eucalypt-woodlands-and-forests/overview/\n",
    "\n",
    "\n",
    "|   |   |\n",
    "|---|---|\n",
    "| NTV|112|\n",
    "| Water Persistence|2 weeks to 6 months (4-6 months at wettest end) in most years|\n",
    "| Water seasonality|Spring snowmelt (late winter) to spring|\n",
    "| No layers|1| \n",
    "   \n",
    "|LAYER|LIFEFORM|AQU LIFEFORM|AV COVER (%)|AV HEIGHT (m)|LEAF TYPE|PHENOLOGY|SPATIAL DIST.|DOMINANT SPECIES|BIOMASS Mgha|\n",
    "|----------|--|----------|---------|----------|---------- |----------|-------------|-----------------------------|--|\n",
    "|1|Graminoids, forbs, subshrubs|Free-floating forbs and Rooted forbs|0-40|0.03-1.5|Monocot and broadleaf|Annual and perennial|Clustered|Carex tereticaulis, Eleocharis acuta, Cycnogeton sp., Paspalidium jubiflorum, Centipeda cunninghamii, Poa labillardieri, Alternanthera denticulata, Marsilea drummondii, Amphibromus sp., Rytidosperma sp.|3.5-4|\n"
   ]
  },
  {
   "cell_type": "code",
   "execution_count": null,
   "metadata": {},
   "outputs": [],
   "source": [
    "dense_seedling_euc = numpy.where((classification_all[\"level3\"].values == 112) &\n",
    "                     ((classification_all[\"cci_biomass\"].values >= 3.5) & (classification_all[\"cci_biomass\"].values <= 4)) &\n",
    "                      (classification_all[\"canopyco_veg_con\"].values >= 0 ) & (classification_all[\"canopyco_veg_con\"].values <= 40), 1, 0)"
   ]
  },
  {
   "cell_type": "code",
   "execution_count": null,
   "metadata": {},
   "outputs": [],
   "source": [
    " # Convert to xarray\n",
    "dense_seedling_euc_xarray = xarray.Dataset(\n",
    "    {\"dense_seedling_euc\" : (classification_all[\"level3\"].dims, dense_seedling_euc)},\n",
    "    coords=classification_all.coords)"
   ]
  },
  {
   "cell_type": "code",
   "execution_count": null,
   "metadata": {},
   "outputs": [],
   "source": [
    "pyplot.imshow(dense_seedling_euc[0])"
   ]
  },
  {
   "cell_type": "code",
   "execution_count": null,
   "metadata": {},
   "outputs": [],
   "source": [
    "# Export data as a GeoTiff\n",
    "for i, year in enumerate(classification_years):\n",
    "    cog.write_cog(dense_seedling_euc_xarray[\"dense_seedling_euc\"].isel(time=i).astype(numpy.uint8),\n",
    "                  os.path.join(output_dir, '{}-dense_seedling_euc_{}.tif'.format(site_name.replace(\" \",\"_\"), year)))"
   ]
  },
  {
   "cell_type": "markdown",
   "metadata": {},
   "source": [
    "### **State - Reference / Reduced tree canopy cover over invaded understorey / Invaded mature floodplain eucalypt forests and woodlands\n",
    "#### Expression - Dense pole stage eucalypt stands\n",
    "<img src=\"Illustrations/Floodplain_eucalypt_woodlands_and_forests.jpg\" style=\"width:300px;height:200px\"/>\n",
    "Survival of seedlings after mass recruitment events depends on adequate follow-up rainfall, protection from herbivory and subsequent flooding. Low levels of competition from adult trees also promote survival – favouring survival in areas where trees were removed by flooding. These interacting drivers can result in a pattern of patchy stands of pole-stage eucalypts across a landscape. Where there is adequate post-flood moisture for survival, young eucalypts in dense regeneration stands are subject to density dependent thinning, likely expedited during dry periods and eventually resulting in the mature woodland structure.\n",
    "\n",
    "\n",
    "https://australia.livingearth.online/themes/australian-ecosystems/eucalypt-woodlands/floodplain-eucalypt-woodlands-and-forests/dense-pole-stage-eucalypt-stands/\n",
    "\n",
    "\n",
    "|   |   |\n",
    "|---|---|\n",
    "| NTV|112|\n",
    "| Water Persistence|2 weeks to 6 months (4-6 months at wettest end) in most years |\n",
    "| Water seasonality|Spring snowmelt (late winter) to spring|\n",
    "| No layers|1-2| \n",
    "\n",
    "\n",
    "   \n",
    "|LAYER|LIFEFORM|AQU LIFEFORM|AV COVER (%)|AV HEIGHT (m)|LEAF TYPE|PHENOLOGY|SPATIAL DIST.|DOMINANT SPECIES|BIOMASS Mgha|\n",
    "|----------|--|----------|---------|----------|---------- |----------|-------------|-----------------------------|--|\n",
    "|1|Woody|na|20-80|0.25-3|Broadleaf|Evergreen|Fragmented (striped or cellular)|Eucalyptus camaldulensis or E. largiflorens|66-103|\n",
    "|2|Graminoids, forbs, subshrubs|Free-floating forbs and Rooted forbs|0-20|<1.5|Aphyllous |Evergreen and drought deciduous (if lignum) |Scattered (isolated)|Einadia sp.|| "
   ]
  },
  {
   "cell_type": "code",
   "execution_count": 191,
   "metadata": {},
   "outputs": [],
   "source": [
    "dense_pole_euc = numpy.where((classification_all[\"level3\"].values == 112) &\n",
    "                             (classification_all[\"tasscapwetn\"] > -0.1) &\n",
    "                             (classification_all[\"cci_biomass\"].values <=103) &\n",
    "                             (classification_all[\"canopyco_veg_con\"].values >= 20 ) & (classification_all[\"canopyco_veg_con\"].values <= 80), 1, 0)"
   ]
  },
  {
   "cell_type": "code",
   "execution_count": 192,
   "metadata": {},
   "outputs": [],
   "source": [
    "# Convert to xarray\n",
    "dense_pole_euc_xarray = xarray.Dataset(\n",
    "    {\"dense_pole_euc\" : (classification_all[\"level3\"].dims, dense_pole_euc)},\n",
    "    coords=classification_all.coords)"
   ]
  },
  {
   "cell_type": "code",
   "execution_count": 193,
   "metadata": {},
   "outputs": [
    {
     "data": {
      "text/plain": [
       "<matplotlib.image.AxesImage at 0x7ff2a02ddb38>"
      ]
     },
     "execution_count": 193,
     "metadata": {},
     "output_type": "execute_result"
    },
    {
     "data": {
      "image/png": "[encoded data removed]",
      "text/plain": [
       "<Figure size 432x288 with 1 Axes>"
      ]
     },
     "metadata": {
      "needs_background": "light"
     },
     "output_type": "display_data"
    }
   ],
   "source": [
    "pyplot.imshow(dense_pole_euc[0])"
   ]
  },
  {
   "cell_type": "code",
   "execution_count": 190,
   "metadata": {},
   "outputs": [],
   "source": [
    "# Export data as a GeoTiff\n",
    "for i, year in enumerate(classification_years):\n",
    "    cog.write_cog(dense_pole_euc_xarray[\"dense_pole_euc\"].isel(time=i).astype(numpy.uint8),\n",
    "                  os.path.join(output_dir, '{}-dense_pole_euc_{}.tif'.format(site_name.replace(\" \",\"_\"), year)))"
   ]
  },
  {
   "cell_type": "code",
   "execution_count": null,
   "metadata": {},
   "outputs": [],
   "source": []
  },
  {
   "cell_type": "markdown",
   "metadata": {},
   "source": [
    "### **State - Reduced tree canopy over invaded understorey / Invaded mature floodplain eucalypt forests and woodlands / Halophytic state \n",
    "#### Expression - Reduced tree canopy over invaded understorey \n",
    "#<img src=\"Illustrations/Chenopods_shrublands2.jpg\" style=\"width:300px;height:200px\"/> #Update from Susanne\n",
    "\n",
    "This expression is found in three modified states. The key differences from the reference state expression:Reduced tree canopy with wetland, grassland or chenopod understorey are (i) wet or dry understorey invaded by exotic plants (although still typically including hardy and colonising native plants species). Exacerbation of this ‘reduced tree canopy over invaded understorey’ expression is driven by selective logging, ringbarking and/or reduced water availability, with or without livestock grazing where \n",
    "    reduced flooding (both frequency and duration) occurs, an increased proportion of invaded dry (compared with invaded wet) understorey is expected (here ‘dry’ refers to plant species that do not tolerate regular flooding, relative to ‘wet’ plant species adapted to regular flooding). Invasion in wet understoreys may decline with greater frequency and duration of floods.\n",
    "\n",
    "|   |   |\n",
    "|---|---|\n",
    "| NTV|112|\n",
    "| Water Persistence|0 weeks to <1 month (drought causing tree death)|\n",
    "| Water seasonality|spring snowmelt (late winter) to spring|\n",
    "| No layers|3| \n",
    "\n",
    "\n",
    "   \n",
    "|LAYER|LIFEFORM|AQU LIFEFORM|AV COVER (%)|AV HEIGHT (m)|LEAF TYPE|PHENOLOGY|SPATIAL DIST.|DOMINANT SPECIES|BIOMASS Mgha|\n",
    "|----------|--|----------|---------|----------|---------- |----------|-------------|-----------------------------|--|\n",
    "|1|trees|na|10-50|>3m|Broadleaf|Evergreen|Clustered|Eucalyptus camaldulensis or E. largiflorens|32-225| \n",
    "|2|Shrubs|na|0-5|1-2|Broadleaf or Aphyllous |Evergreen and drought deciduous (if lignum) |Clustered to isolated|Blackberry, Exocarpus strictus, lignum||\n",
    "|3|Graminoid and forbs (wet)/chenopods (dry)|Free-floating forbs and Rooted forbs (uncommon)|10-90|<1m|Broadleaf|Mixed (forbs and graminoids)|Continuous|Cirsium, conyza, annual grasses (eg Bromus spp, in drier areas)|| \n",
    "\n",
    "\n",
    "https://australia.livingearth.online/themes/australian-ecosystems/eucalypt-woodlands/floodplain-eucalypt-woodlands-and-forests/"
   ]
  },
  {
   "cell_type": "code",
   "execution_count": 194,
   "metadata": {},
   "outputs": [],
   "source": [
    "redu_tree_cover = numpy.where((classification_all[\"level3\"].values == 112) & \n",
    "                             (classification_all[\"tasscapwetn\"] >= -0.1) &\n",
    "                             (classification_all[\"wcf_mask\"].values ==1) &\n",
    "                             (classification_all[\"canopyco_veg_con\"].values > 15 ) & (classification_all[\"canopyco_veg_con\"].values <= 65) & \n",
    "                             ((classification_all[\"cci_biomass\"].values > 20) & (classification_all[\"cci_biomass\"].values <= 225)), 1, 0)"
   ]
  },
  {
   "cell_type": "code",
   "execution_count": 195,
   "metadata": {},
   "outputs": [],
   "source": [
    "# Convert to xarray\n",
    "redu_tree_cover_xarray = xarray.Dataset(\n",
    "    {\"redu_tree_cover\" : (classification_all[\"level3\"].dims, redu_tree_cover)},\n",
    "    coords=classification_all.coords)"
   ]
  },
  {
   "cell_type": "code",
   "execution_count": 196,
   "metadata": {},
   "outputs": [
    {
     "data": {
      "text/plain": [
       "<matplotlib.image.AxesImage at 0x7ff42e139f28>"
      ]
     },
     "execution_count": 196,
     "metadata": {},
     "output_type": "execute_result"
    },
    {
     "data": {
      "image/png": "[encoded data removed]",
      "text/plain": [
       "<Figure size 432x288 with 1 Axes>"
      ]
     },
     "metadata": {
      "needs_background": "light"
     },
     "output_type": "display_data"
    }
   ],
   "source": [
    "pyplot.imshow(redu_tree_cover[0])"
   ]
  },
  {
   "cell_type": "code",
   "execution_count": 197,
   "metadata": {},
   "outputs": [],
   "source": [
    "# Export data as a GeoTiff\n",
    "for i, year in enumerate(classification_years):\n",
    "    cog.write_cog(redu_tree_cover_xarray[\"redu_tree_cover\"].isel(time=i).astype(numpy.uint8),\n",
    "                  os.path.join(output_dir, '{}-Redu_tree_cover_{}.tif'.format(site_name.replace(\" \",\"_\"), year)))"
   ]
  },
  {
   "cell_type": "code",
   "execution_count": 166,
   "metadata": {},
   "outputs": [
    {
     "name": "stdout",
     "output_type": "stream",
     "text": [
      "2005: 7643 pixels, 7643000000 m2\n",
      "2010: 7269 pixels, 7269000000 m2\n",
      "2015: 7644 pixels, 7644000000 m2\n",
      "2017: 7460 pixels, 7460000000 m2\n"
     ]
    }
   ],
   "source": [
    "for i, year in enumerate(classification_years):\n",
    "    pixels_class = redu_tree_cover[i][redu_tree_cover[i] == 1].size\n",
    "    area_class = pixels_class * (target_size[\"target_pixel_size_x\"] * abs(target_size[\"target_pixel_size_y\"]))\n",
    "    print(\"{}: {} pixels, {} m2\".format(year, pixels_class, area_class))"
   ]
  },
  {
   "cell_type": "markdown",
   "metadata": {},
   "source": [
    "### **State - Invaded mature floodplain eucalypt forests and woodlands\n",
    "#### Expression - Invaded mature floodplain eucalypt forests and woodlands \n",
    "\n",
    "\n",
    "This expression is found in the Invaded mature floodplain eucalypt forests and woodlands state only. The key differences from the reference state expression: Mature floodplain eucalypt forests and woodlands involves exotic plant invasion in the understorey, due to cumulative stressors including recreational use, nutrient input, livestock grazing, kangaroo overgrazing and water stress. If these cumulative stressors are removed, wet invaded understoreys may recover with flooding, and wet or dry invaded understoreys may recover through exclusion of exotic understorey species during dense pole-stage regeneration (this process is unproven but feasible). \n",
    "\n",
    "|   |   |\n",
    "|---|---|\n",
    "| NTV|112|\n",
    "| Water Persistence|2 weeks to 6 months (4-6 months at wettest end) in at least 1 in 15-20 years (dry Black box) in most years for wettest red gum|\n",
    "| Water seasonality|spring snowmelt (late winter) to spring|\n",
    "| No layers|3| \n",
    "\n",
    "\n",
    "   \n",
    "|LAYER|LIFEFORM|AQU LIFEFORM|AV COVER (%)|AV HEIGHT (m)|LEAF TYPE|PHENOLOGY|SPATIAL DIST.|DOMINANT SPECIES|BIOMASS Mgha|\n",
    "|----------|--|----------|---------|----------|---------- |----------|-------------|-----------------------------|--|\n",
    "|1|trees|na|10-70|>3m|Broadleaf|Evergreen|Continuous|Eucalyptus camaldulensis or E. largiflorens|148-375| \n",
    "|2|Shrubs|na|0-5|1-2|Broadleaf or Aphyllous |Evergreen and drought deciduous (if lignum) |Clustered to isolated|Blackberry, Exocarpus strictus, lignum||\n",
    "|3|Graminoid and forbs (wet)/chenopods (dry)|Free-floating forbs and Rooted forbs (uncommon)|10-90|0.01-0.7m|Broadleaf|Mixed (forbs and graminoids)|Continuous|ground cherry (Physalis), Bromus (dry), Fumaria spp, Gallium aparine|| \n",
    "\n",
    "\n",
    "https://australia.livingearth.online/themes/australian-ecosystems/eucalypt-woodlands/floodplain-eucalypt-woodlands-and-forests/"
   ]
  },
  {
   "cell_type": "code",
   "execution_count": 198,
   "metadata": {},
   "outputs": [],
   "source": [
    "invade_mat = numpy.where((classification_all[\"level3\"].values == 112) & \n",
    "                         (classification_all[\"tasscapwetn\"] >= -0.1) &\n",
    "                         (classification_all[\"wcf_mask\"].values >= 0.2) &\n",
    "                         (classification_all[\"canopyco_veg_con\"].values >= 65) &\n",
    "                        ((classification_all[\"cci_biomass\"].values >=32) & (classification_all[\"cci_biomass\"].values >=32)), 1, 0)"
   ]
  },
  {
   "cell_type": "code",
   "execution_count": 199,
   "metadata": {},
   "outputs": [],
   "source": [
    "# Convert to xarray\n",
    "invade_mat_xarray = xarray.Dataset(\n",
    "    {\"invade_mat\" : (classification_all[\"level3\"].dims, invade_mat)},\n",
    "    coords=classification_all.coords)"
   ]
  },
  {
   "cell_type": "code",
   "execution_count": 200,
   "metadata": {},
   "outputs": [
    {
     "data": {
      "text/plain": [
       "<matplotlib.image.AxesImage at 0x7ff2a0634b00>"
      ]
     },
     "execution_count": 200,
     "metadata": {},
     "output_type": "execute_result"
    },
    {
     "data": {
      "image/png": "[encoded data removed]",
      "text/plain": [
       "<Figure size 432x288 with 1 Axes>"
      ]
     },
     "metadata": {
      "needs_background": "light"
     },
     "output_type": "display_data"
    }
   ],
   "source": [
    "pyplot.imshow(invade_mat[0])"
   ]
  },
  {
   "cell_type": "code",
   "execution_count": 201,
   "metadata": {},
   "outputs": [],
   "source": [
    "# Export data as a GeoTiff\n",
    "for i, year in enumerate(classification_years):\n",
    "    cog.write_cog(invade_mat_xarray[\"invade_mat\"].isel(time=i).astype(numpy.uint8),\n",
    "                  os.path.join(output_dir, '{}-Invade_mat_{}.tif'.format(site_name.replace(\" \",\"_\"), year)))"
   ]
  },
  {
   "cell_type": "code",
   "execution_count": 72,
   "metadata": {},
   "outputs": [
    {
     "name": "stdout",
     "output_type": "stream",
     "text": [
      "2005: 547 pixels, 547000000 m2\n",
      "2010: 877 pixels, 877000000 m2\n",
      "2015: 233 pixels, 233000000 m2\n",
      "2017: 782 pixels, 782000000 m2\n"
     ]
    }
   ],
   "source": [
    "for i, year in enumerate(classification_years):\n",
    "    pixels_class = invade_mat[i][invade_mat[i] == 1].size\n",
    "    area_class = pixels_class * (target_size[\"target_pixel_size_x\"] * abs(target_size[\"target_pixel_size_y\"]))\n",
    "    print(\"{}: {} pixels, {} m2\".format(year, pixels_class, area_class))"
   ]
  },
  {
   "cell_type": "markdown",
   "metadata": {},
   "source": [
    "### **State - Reduced tree canopy over invaded understorey / Invaded mature floodplain eucalypt forests and woodlands / Halophytic state\n",
    "#### Expression - Dense seedling eucalypts with invaded understorey\n",
    "\n",
    "\n",
    "This expression is found in all three modified states of the Inland Floodplain eucalypt forests and woodlands. The key differences from the reference state expression involves exotic plant invasion, due to cumulative stressors including recreational use, nutrient input, livestock grazing, kangaroo overgrazing and water stress. If these cumulative stressors are removed, wet invaded understoreys may recover with flooding, and wet or dry invaded understoreys may recover through exclusion of exotic understorey species during dense pole-stage regeneration (this process is unproven but feasible). \n",
    "\n",
    "|   |   |\n",
    "|---|---|\n",
    "| NTV|112|\n",
    "| Water Persistence|2 weeks to 6 months (4-6 months at wettest end)|\n",
    "| Water seasonality|spring snowmelt (late winter) to spring|\n",
    "| No layers|1| \n",
    "\n",
    "\n",
    "   \n",
    "|LAYER|LIFEFORM|AQU LIFEFORM|AV COVER (%)|AV HEIGHT (m)|LEAF TYPE|PHENOLOGY|SPATIAL DIST.|DOMINANT SPECIES|BIOMASS Mgha|\n",
    "|----------|--|----------|---------|----------|---------- |----------|-------------|-----------------------------|--|\n",
    "|1|Herbaceous (graminoids, forbs, subshrubs)/chenopods (dry)|Free-floating forbs and Rooted forbs |0-40|0.03-1.5m|Broadleaf and Monocot|Mixed (forbs and graminoids)|Continuous to scattered|Carex tereticaulis, Eleocharis acuta, Cycnogeton sp., Paspalidium jubiflorum, Centipeda cunninghamii, Poa labillardieri, Alternanthera denticulata, Marsilea drummondii, Amphibromus sp., Rytidosperma sp.|3.5-4| \n",
    "\n",
    "\n",
    "https://australia.livingearth.online/themes/australian-ecosystems/eucalypt-woodlands/floodplain-eucalypt-woodlands-and-forests/\n"
   ]
  },
  {
   "cell_type": "code",
   "execution_count": 202,
   "metadata": {},
   "outputs": [],
   "source": [
    "seedling_invaded = numpy.where((classification_all[\"level3\"].values == 112) & \n",
    "                               (classification_all[\"tasscapwetn\"] >= -0.1) &\n",
    "                               (classification_all[\"wcf_mask\"].values ==1) &\n",
    "                               (classification_all[\"canopyco_veg_con\"].values > 15 ) & (classification_all[\"canopyco_veg_con\"].values <= 65) & \n",
    "                               (classification_all[\"cci_biomass\"].values < 20), 1, 0)"
   ]
  },
  {
   "cell_type": "code",
   "execution_count": 203,
   "metadata": {},
   "outputs": [],
   "source": [
    "# Convert to xarray\n",
    "seedling_invaded_xarray = xarray.Dataset(\n",
    "    {\"seedling_invaded\" : (classification_all[\"level3\"].dims, seedling_invaded)},\n",
    "    coords=classification_all.coords)"
   ]
  },
  {
   "cell_type": "code",
   "execution_count": 204,
   "metadata": {},
   "outputs": [
    {
     "data": {
      "text/plain": [
       "<matplotlib.image.AxesImage at 0x7ff2a011e0f0>"
      ]
     },
     "execution_count": 204,
     "metadata": {},
     "output_type": "execute_result"
    },
    {
     "data": {
      "image/png": "[encoded data removed]",
      "text/plain": [
       "<Figure size 432x288 with 1 Axes>"
      ]
     },
     "metadata": {
      "needs_background": "light"
     },
     "output_type": "display_data"
    }
   ],
   "source": [
    "pyplot.imshow(seedling_invaded[0])"
   ]
  },
  {
   "cell_type": "code",
   "execution_count": 205,
   "metadata": {},
   "outputs": [],
   "source": [
    "# Export data as a GeoTiff\n",
    "for i, year in enumerate(classification_years):\n",
    "    cog.write_cog(seedling_invaded_xarray[\"seedling_invaded\"].isel(time=i).astype(numpy.uint8),\n",
    "                  os.path.join(output_dir, '{}-seedling_invaded_{}.tif'.format(site_name.replace(\" \",\"_\"), year)))"
   ]
  },
  {
   "cell_type": "code",
   "execution_count": 78,
   "metadata": {},
   "outputs": [
    {
     "name": "stdout",
     "output_type": "stream",
     "text": [
      "2005: 25621 pixels, 25621000000 m2\n",
      "2010: 15650 pixels, 15650000000 m2\n",
      "2015: 14996 pixels, 14996000000 m2\n",
      "2017: 21409 pixels, 21409000000 m2\n"
     ]
    }
   ],
   "source": [
    "for i, year in enumerate(classification_years):\n",
    "    pixels_class = seedling_invaded[i][seedling_invaded[i] == 1].size\n",
    "    area_class = pixels_class * (target_size[\"target_pixel_size_x\"] * abs(target_size[\"target_pixel_size_y\"]))\n",
    "    print(\"{}: {} pixels, {} m2\".format(year, pixels_class, area_class))"
   ]
  },
  {
   "cell_type": "markdown",
   "metadata": {},
   "source": [
    "### State - Halophytic state\n",
    "#### Expression - Invaded halophytic shrubland\n",
    "\n",
    "\n",
    "This expression is found only in the halophytic state. Initial salinisation in inland floodplain eucalypt forests and woodlands leads to the expression ‘reduced tree canopy with halophytic and invaded understorey’, stimulated by drivers such as irrigation causing rising saline water tables. Ongoing salinisation leads to eventual complete canopy tree loss, resulting in invaded halophytic shrubland (initially with dead trees persisting). It is uncertain whether lowering the water table (e.g. cessation of regular irrigation) and flushing (e.g. through heavy rains and occasional flooding) can result in recovery to non-saline, invaded wetland (e.g. ‘low condition wetland’ modified state), grassland or chenopod shrubland. If it occurs, it would be over long timeframes.  \n",
    "\n",
    "|   |   |\n",
    "|---|---|\n",
    "| NTV|112|\n",
    "| Water Persistence|no data|\n",
    "| Water seasonality|no data|\n",
    "| No layers|2| \n",
    "\n",
    "\n",
    "   \n",
    "|LAYER|LIFEFORM|AQU LIFEFORM|AV COVER (%)|AV HEIGHT (m)|LEAF TYPE|PHENOLOGY|SPATIAL DIST.|DOMINANT SPECIES|BIOMASS Mgha|\n",
    "|----------|--|----------|---------|----------|---------- |----------|-------------|-----------------------------|--|\n",
    "|1|Shrubs|na|20-50|0.3-1.0m|Broadleaf|Evergreen|Continuous|salt tolerant succulents|no data| \n",
    "|2|Herbaceous (graminoids, forbs, subshrubs)|na|10-50|0-0.3m|Broadleaf|Evergreen|Continuous to scattered|Mesembryanthemum spp.|| \n",
    "\n",
    "\n",
    "https://australia.livingearth.online/themes/australian-ecosystems/eucalypt-woodlands/floodplain-eucalypt-woodlands-and-forests/"
   ]
  },
  {
   "cell_type": "code",
   "execution_count": null,
   "metadata": {},
   "outputs": [],
   "source": [
    "halophytic_shrub = numpy.where((classification_all[\"level3\"].values == 112) &\n",
    "                      (classification_all[\"canopyco_veg_con\"].values >= 20 ) & (classification_all[\"canopyco_veg_con\"].values <= 50), 1, 0)"
   ]
  },
  {
   "cell_type": "code",
   "execution_count": null,
   "metadata": {},
   "outputs": [],
   "source": [
    "# Convert to xarray\n",
    "halophytic_shrub_xarray = xarray.Dataset(\n",
    "    {\"halophytic_shrub\" : (classification_all[\"level3\"].dims, halophytic_shrub)},\n",
    "    coords=classification_all.coords)"
   ]
  },
  {
   "cell_type": "code",
   "execution_count": null,
   "metadata": {},
   "outputs": [],
   "source": [
    "pyplot.imshow(halophytic_shrub[0])"
   ]
  },
  {
   "cell_type": "code",
   "execution_count": null,
   "metadata": {},
   "outputs": [],
   "source": [
    "# Export data as a GeoTiff\n",
    "for i, year in enumerate(classification_years):\n",
    "    cog.write_cog(halophytic_shrub_xarray[\"halophytic_shrub\"].isel(time=i).astype(numpy.uint8),\n",
    "                  os.path.join(output_dir, '{}-halophytic_shrub_{}.tif'.format(site_name.replace(\" \",\"_\"), year)))"
   ]
  },
  {
   "cell_type": "markdown",
   "metadata": {},
   "source": [
    "##### ANNA TO CHECK\n",
    "#extent = halophytic_shrub_xarray.to_dataframe()\n",
    "#extent2 = extent.sum(axis = 0, skipna = True)\n",
    "#extent2"
   ]
  },
  {
   "cell_type": "markdown",
   "metadata": {},
   "source": [
    "## AEM: Re-sprouter subtropical and temperate eucalypt woodlands\n",
    "\n",
    "The archetype Re-sprouter temperate and subtropical eucalypt woodlands are dominated by an open woodland of re-sprouter eucalypts with a mixed-age distribution. Tree stand structures are thought to be typically mixed age through gap-phase recruitment. The understorey can be dominated by shrubs, or by C3 and C4 tussock grasses with diverse native forbs. The probability of shrub dominance in the understorey increases with decreasing ecosystem productivity, related to increasing aridity and/or decreasing soil fertility. Along this productivity gradient, low intensity fires can increase the relative prominence of the grass layer. C3 grasses are more common in southern parts of Australia, and C4 grasses are prominent in the north or with more frequent fire. In mesic areas of eastern Australia, most often west of the Great Divide and associated tablelands, Callitris can become prominent, leading to mixed eucalypt-Callitris woodlands . \n",
    "\n",
    "### **State - Reference\n",
    "#### Expression - Grey box grassy woodlands\n",
    "\n",
    "The ‘grey box grassy woodlands’ expression is characterised by an understorey of tussock grasses with diverse native forbs, scattered or patchy shrubs, and by a suite of re-sprouter eucalypts in the overstorey. At GKP typical genera in the understorey include Austrodanthonia, Themeda, Allocasuarina, Exocarpos and Dodonaea. Broadly, grassy woodlands predominate in mesic parts of the woodland zone, with the grassy understorey likely also promoted by low intensity fires (although Aboriginal burning regimes are not well documented for this expression). Evidence of fire in grey box grassy woodland landscapes at GKP is minimal. It is unclear whether observed scar trees indicate more frequent fires in the past and lower tree density than compared to the present. Fire may have occurred in this expression, but current observed fuel loads are quite low, indicating this is unlikely. This expression does not tolerate regular inundation.\n",
    "\n",
    "https://australia.livingearth.online/themes/australian-ecosystems/eucalypt-woodlands/re-sprouter-temperate-and-subtropical-eucalypt-woodlands/grey-box-regular-inundated/\n",
    "\n",
    "|   |   |\n",
    "|---|---|\n",
    "| NTV|112|\n",
    "| Water Persistence|na|\n",
    "| Water seasonality|na\n",
    "| No layers|3| \n",
    " \n",
    " \n",
    "\n",
    "|LAYER|LIFEFORM|AQU LIFEFORM|AV COVER (%)|AV HEIGHT (m)|LEAF TYPE|PHENOLOGY|SPATIAL DIST.|DOMINANT SPECIES|BIOMASS Mgha|\n",
    "|----------|--|----------|---------|----------|---------- |----------|-------------|-----------------------------|--|\n",
    "|1|Woody|na|10-20|25-30m|Broadleaf|Evergreen|Scattered|Eucalyptus microcarpa|no data|\n",
    "|2|Woody and herbaceous|na|10|2m|Broadleaf|Evergreen|Scattered|Allocasuarina, Senna, Dodonaea, Exocarpos aphyllus||\n",
    "|3|Herbaceous|na|80|0.05-0.25m|Monocot and broadleaf|Evergreen|Continuous|Themeda sp.||\n"
   ]
  },
  {
   "cell_type": "code",
   "execution_count": 206,
   "metadata": {},
   "outputs": [],
   "source": [
    "grey_box_grassy = numpy.where((classification_all[\"level3\"].values == 112) &\n",
    "                             (classification_all[\"tasscapwetn\"] < -0.1) &\n",
    "                             (classification_all[\"wcf_mask\"].values ==1) &\n",
    "                             (classification_all[\"canopyco_veg_con\"].values > 15 ) & (classification_all[\"canopyco_veg_con\"].values <= 65) & \n",
    "                             ((classification_all[\"cci_biomass\"].values >=20) & (classification_all[\"cci_biomass\"].values < 150)), 1, 0)"
   ]
  },
  {
   "cell_type": "code",
   "execution_count": 207,
   "metadata": {},
   "outputs": [],
   "source": [
    "# Convert to xarray\n",
    "grey_box_grassy_xarray = xarray.Dataset(\n",
    "    {\"grey_box_grassy\" : (classification_all[\"level3\"].dims, grey_box_grassy)},\n",
    "    coords=classification_all.coords)"
   ]
  },
  {
   "cell_type": "code",
   "execution_count": 208,
   "metadata": {},
   "outputs": [
    {
     "data": {
      "text/plain": [
       "<matplotlib.image.AxesImage at 0x7ff2b8202e10>"
      ]
     },
     "execution_count": 208,
     "metadata": {},
     "output_type": "execute_result"
    },
    {
     "data": {
      "image/png": "[encoded data removed]",
      "text/plain": [
       "<Figure size 432x288 with 1 Axes>"
      ]
     },
     "metadata": {
      "needs_background": "light"
     },
     "output_type": "display_data"
    }
   ],
   "source": [
    "pyplot.imshow(grey_box_grassy[0])"
   ]
  },
  {
   "cell_type": "code",
   "execution_count": 209,
   "metadata": {},
   "outputs": [],
   "source": [
    "# Export data as a GeoTiff\n",
    "for i, year in enumerate(classification_years):\n",
    "    cog.write_cog(grey_box_grassy_xarray[\"grey_box_grassy\"].isel(time=i).astype(numpy.uint8),\n",
    "                  os.path.join(output_dir, '{}-grey_box_grassy_{}.tif'.format(site_name.replace(\" \",\"_\"), year)))"
   ]
  },
  {
   "cell_type": "code",
   "execution_count": 105,
   "metadata": {},
   "outputs": [
    {
     "name": "stdout",
     "output_type": "stream",
     "text": [
      "2005: 76600 pixels, 76600000000 m2\n",
      "2010: 60378 pixels, 60378000000 m2\n",
      "2015: 63847 pixels, 63847000000 m2\n",
      "2017: 66227 pixels, 66227000000 m2\n"
     ]
    }
   ],
   "source": [
    "for i, year in enumerate(classification_years):\n",
    "    pixels_class = grey_box_grassy[i][grey_box_grassy[i] == 1].size\n",
    "    area_class = pixels_class * (target_size[\"target_pixel_size_x\"] * abs(target_size[\"target_pixel_size_y\"]))\n",
    "    print(\"{}: {} pixels, {} m2\".format(year, pixels_class, area_class))"
   ]
  },
  {
   "cell_type": "markdown",
   "metadata": {},
   "source": [
    "## **State - Reference\n",
    "#### Expression - Grey box shrub-grass woodlands\n",
    "<img src=\"Illustrations/Chenopods_shrublands2.jpg\" style=\"width:300px;height:200px\"/>\n",
    "\n",
    "This ecosystem expression occurs in more arid or less productive environments than the ‘grey box grassy woodlands’ expression. It has a more consistently developed shrub layer above the grassy understorey. Episodic fire after good rains promotes grass growth, preventing the shrub layer from becoming more continuous. At GKP there is scant evidence of historical fire regimes; however, the ‘grey box shrub-grass woodlands’ expression can have higher fuel loads and if fires occurred they may have been hotter, and large trees might have been killed. This expression is maintained by infrequent and short duration inundation events (e.g. one in every 30 years). Common species in the understorey include Myoporum montanum, Exocarpos aphyllus, Acacia oswaldii, A. acinacea, Austrodanthonia sp. and native forbs.  \n",
    "\n",
    "https://australia.livingearth.online/themes/australian-ecosystems/eucalypt-woodlands/re-sprouter-temperate-and-subtropical-eucalypt-woodlands/grey-box-irregular-inundated/\n",
    "\n",
    "|   |   |\n",
    "|---|---|\n",
    "| NTV|112|\n",
    "| Water Persistence|na|\n",
    "| Water seasonality|na\n",
    "| No layers|3| \n",
    " \n",
    " \n",
    "\n",
    "|LAYER|LIFEFORM|AQU LIFEFORM|AV COVER (%)|AV HEIGHT (m)|LEAF TYPE|PHENOLOGY|SPATIAL DIST.|DOMINANT SPECIES|BIOMASS Mgha|\n",
    "|----------|--|----------|---------|----------|---------- |----------|-------------|-----------------------------|--|\n",
    "|1|Woody|na|30|25-30m|Broadleaf|Evergreen|Scattered|Eucalyptus microcarpa|no data|\n",
    "|2|Woody|na|10|2m|Broadleaf|Evergreen|Scattered|Myoporum montanum, Exocarpos aphyllus, Acacia oswaldii, Acacia acinacea||\n",
    "|3|Herbaceous|na|60|0.05-0.25m|Monocot and broadleaf|Evergreen|Continuous but fragmented|Austrodanthonia sp.||"
   ]
  },
  {
   "cell_type": "code",
   "execution_count": 210,
   "metadata": {},
   "outputs": [],
   "source": [
    "grey_box_shrub_grass = numpy.where((classification_all[\"level3\"].values == 112) & \n",
    "                                   (classification_all[\"tasscapwetn\"] < -0.1) &\n",
    "                                   (classification_all[\"wcf_mask\"].values ==1) &\n",
    "                                   (classification_all[\"canopyco_veg_con\"].values > 15 ) & (classification_all[\"canopyco_veg_con\"].values <= 65) & \n",
    "                                  ((classification_all[\"cci_biomass\"].values >=20) & (classification_all[\"cci_biomass\"].values < 150)), 1, 0)"
   ]
  },
  {
   "cell_type": "code",
   "execution_count": 211,
   "metadata": {},
   "outputs": [],
   "source": [
    "# Convert to xarray\n",
    "grey_box_shrub_grass_xarray = xarray.Dataset(\n",
    "    {\"grey_box_shrub_grass\" : (classification_all[\"level3\"].dims, grey_box_shrub_grass)},\n",
    "    coords=classification_all.coords)"
   ]
  },
  {
   "cell_type": "code",
   "execution_count": 212,
   "metadata": {},
   "outputs": [
    {
     "data": {
      "text/plain": [
       "<matplotlib.image.AxesImage at 0x7ff2b84345f8>"
      ]
     },
     "execution_count": 212,
     "metadata": {},
     "output_type": "execute_result"
    },
    {
     "data": {
      "image/png": "[encoded data removed]",
      "text/plain": [
       "<Figure size 432x288 with 1 Axes>"
      ]
     },
     "metadata": {
      "needs_background": "light"
     },
     "output_type": "display_data"
    }
   ],
   "source": [
    "pyplot.imshow(grey_box_shrub_grass[0])"
   ]
  },
  {
   "cell_type": "code",
   "execution_count": 225,
   "metadata": {},
   "outputs": [
    {
     "ename": "OSError",
     "evalue": "File exists",
     "output_type": "error",
     "traceback": [
      "\u001b[0;31m---------------------------------------------------------------------------\u001b[0m",
      "\u001b[0;31mOSError\u001b[0m                                   Traceback (most recent call last)",
      "\u001b[0;32m<ipython-input-225-2051317ce17a>\u001b[0m in \u001b[0;36m<module>\u001b[0;34m\u001b[0m\n\u001b[1;32m      2\u001b[0m \u001b[0;32mfor\u001b[0m \u001b[0mi\u001b[0m\u001b[0;34m,\u001b[0m \u001b[0myear\u001b[0m \u001b[0;32min\u001b[0m \u001b[0menumerate\u001b[0m\u001b[0;34m(\u001b[0m\u001b[0mclassification_years\u001b[0m\u001b[0;34m)\u001b[0m\u001b[0;34m:\u001b[0m\u001b[0;34m\u001b[0m\u001b[0;34m\u001b[0m\u001b[0m\n\u001b[1;32m      3\u001b[0m     cog.write_cog(grey_box_shrub_grass_xarray[\"grey_box_shrub_grass\"].isel(time=i).astype(numpy.uint8),\n\u001b[0;32m----> 4\u001b[0;31m                   os.path.join(output_dir, '{}-grey_box_shrub_grass_{}.tif'.format(site_name.replace(\" \",\"_\"), year)))\n\u001b[0m",
      "\u001b[0;32m/env/lib/python3.6/site-packages/datacube/utils/cog.py\u001b[0m in \u001b[0;36mwrite_cog\u001b[0;34m(geo_im, fname, blocksize, ovr_blocksize, overview_resampling, overview_levels, **extra_rio_opts)\u001b[0m\n\u001b[1;32m    245\u001b[0m         \u001b[0moverview_resampling\u001b[0m\u001b[0;34m=\u001b[0m\u001b[0moverview_resampling\u001b[0m\u001b[0;34m,\u001b[0m\u001b[0;34m\u001b[0m\u001b[0;34m\u001b[0m\u001b[0m\n\u001b[1;32m    246\u001b[0m         \u001b[0moverview_levels\u001b[0m\u001b[0;34m=\u001b[0m\u001b[0moverview_levels\u001b[0m\u001b[0;34m,\u001b[0m\u001b[0;34m\u001b[0m\u001b[0;34m\u001b[0m\u001b[0m\n\u001b[0;32m--> 247\u001b[0;31m         **extra_rio_opts)\n\u001b[0m\u001b[1;32m    248\u001b[0m \u001b[0;34m\u001b[0m\u001b[0m\n\u001b[1;32m    249\u001b[0m \u001b[0;34m\u001b[0m\u001b[0m\n",
      "\u001b[0;32m/env/lib/python3.6/site-packages/datacube/utils/cog.py\u001b[0m in \u001b[0;36m_write_cog\u001b[0;34m(pix, geobox, fname, nodata, overwrite, blocksize, overview_resampling, overview_levels, ovr_blocksize, **extra_rio_opts)\u001b[0m\n\u001b[1;32m     88\u001b[0m     \u001b[0;32mif\u001b[0m \u001b[0mfname\u001b[0m \u001b[0;34m!=\u001b[0m \u001b[0;34m\":mem:\"\u001b[0m\u001b[0;34m:\u001b[0m\u001b[0;34m\u001b[0m\u001b[0;34m\u001b[0m\u001b[0m\n\u001b[1;32m     89\u001b[0m         path = check_write_path(\n\u001b[0;32m---> 90\u001b[0;31m             \u001b[0mfname\u001b[0m\u001b[0;34m,\u001b[0m \u001b[0moverwrite\u001b[0m\u001b[0;34m\u001b[0m\u001b[0;34m\u001b[0m\u001b[0m\n\u001b[0m\u001b[1;32m     91\u001b[0m         )  # aborts if overwrite=False and file exists already\n\u001b[1;32m     92\u001b[0m \u001b[0;34m\u001b[0m\u001b[0m\n",
      "\u001b[0;32m/env/lib/python3.6/site-packages/datacube/utils/io.py\u001b[0m in \u001b[0;36mcheck_write_path\u001b[0;34m(fname, overwrite)\u001b[0m\n\u001b[1;32m     32\u001b[0m             \u001b[0mfname\u001b[0m\u001b[0;34m.\u001b[0m\u001b[0munlink\u001b[0m\u001b[0;34m(\u001b[0m\u001b[0;34m)\u001b[0m\u001b[0;34m\u001b[0m\u001b[0;34m\u001b[0m\u001b[0m\n\u001b[1;32m     33\u001b[0m         \u001b[0;32melse\u001b[0m\u001b[0;34m:\u001b[0m\u001b[0;34m\u001b[0m\u001b[0;34m\u001b[0m\u001b[0m\n\u001b[0;32m---> 34\u001b[0;31m             \u001b[0;32mraise\u001b[0m \u001b[0mIOError\u001b[0m\u001b[0;34m(\u001b[0m\u001b[0;34m\"File exists\"\u001b[0m\u001b[0;34m)\u001b[0m\u001b[0;34m\u001b[0m\u001b[0;34m\u001b[0m\u001b[0m\n\u001b[0m\u001b[1;32m     35\u001b[0m     \u001b[0;32mreturn\u001b[0m \u001b[0mfname\u001b[0m\u001b[0;34m\u001b[0m\u001b[0;34m\u001b[0m\u001b[0m\n\u001b[1;32m     36\u001b[0m \u001b[0;34m\u001b[0m\u001b[0m\n",
      "\u001b[0;31mOSError\u001b[0m: File exists"
     ]
    }
   ],
   "source": [
    "# Export data as a GeoTiff\n",
    "for i, year in enumerate(classification_years):\n",
    "    cog.write_cog(grey_box_shrub_grass_xarray[\"grey_box_shrub_grass\"].isel(time=i).astype(numpy.uint8),\n",
    "                  os.path.join(output_dir, '{}-grey_box_shrub_grass_{}.tif'.format(site_name.replace(\" \",\"_\"), year)))"
   ]
  },
  {
   "cell_type": "code",
   "execution_count": 214,
   "metadata": {},
   "outputs": [
    {
     "name": "stdout",
     "output_type": "stream",
     "text": [
      "2005: 74670 pixels, 74670000000 m2\n",
      "2010: 58516 pixels, 58516000000 m2\n",
      "2015: 61933 pixels, 61933000000 m2\n",
      "2017: 64386 pixels, 64386000000 m2\n"
     ]
    }
   ],
   "source": [
    "for i, year in enumerate(classification_years):\n",
    "    pixels_class = grey_box_shrub_grass[i][grey_box_shrub_grass[i] == 1].size\n",
    "    area_class = pixels_class * (target_size[\"target_pixel_size_x\"] * abs(target_size[\"target_pixel_size_y\"]))\n",
    "    print(\"{}: {} pixels, {} m2\".format(year, pixels_class, area_class))"
   ]
  },
  {
   "cell_type": "markdown",
   "metadata": {},
   "source": [
    "## State - Grey box woodlands with exotic understorey\n",
    "#### Expression - Grey box grassy woodland with exotic understorey\n",
    "<img src=\"Illustrations/Chenopods_shrublands2.jpg\" style=\"width:300px;height:200px\"/>\n",
    "\n",
    "The Grey box woodlands with exotic understory state is predominantly evident in the ‘grey box grassy woodlands with exotic understorey’ expression, where soil disturbance from grazing and recreation has led to the invasion of the understorey by exotic species that do not tolerate frequent inundation. The canopy species (predominantly E. microcarpa) are denser and of a uniform age structure in both expressions of the modified state relative to the reference state. It is unclear what the drivers are of the modified stand structure, although extensive grazing limits further recruitment of overstorey species. Understorey composition in this expression includes exotic understorey species such as Marrubium vulgare, Echium plantagineum, Asparagus asparagoides, Opuntia spp., Heliotropium europaeum, Lolium sp., Hypericum perforatum, Physalis hederifolia, Hordeum leporinum and Genista monspessulana. Fire is no longer present in these woodlands and the understorey tends to be drier and more open than in the reference state. \n",
    "\n",
    "https://australia.livingearth.online/themes/australian-ecosystems/eucalypt-woodlands/re-sprouter-temperate-and-subtropical-eucalypt-woodlands/shrub-grass-woodland/\n",
    "\n",
    "|   |   |\n",
    "|---|---|\n",
    "| NTV|112|\n",
    "| Water Persistence|na|\n",
    "| Water seasonality|na\n",
    "| No layers|3| \n",
    " \n",
    " \n",
    "|LAYER|LIFEFORM|AQU LIFEFORM|AV COVER (%)|AV HEIGHT (m)|LEAF TYPE|PHENOLOGY|SPATIAL DIST.|DOMINANT SPECIES|BIOMASS Mgha|\n",
    "|----------|--|----------|---------|----------|---------- |----------|-------------|-----------------------------|--|\n",
    "|1|Woody|na|10-20|25-30m|Broadleaf|Evergreen|Scattered|Eucalyptus microcarpa|99|\n",
    "|2|Woody and herbaceous|na|1-5|1|Broadleaf|Evergreen|Scattered (clustered)|Opuntia spp., Genista monspessulana||\n",
    "|3|Herbaceous|na|30-50|0.05-0.15|Monocot and broadleaf|Evergreen|Continous with gaps|Marrubium vulgare, Echium plantagineum, Asparagus asparagoides, Heliotropium europaeum||"
   ]
  },
  {
   "cell_type": "code",
   "execution_count": 215,
   "metadata": {},
   "outputs": [],
   "source": [
    "grey_box_grassy_exotic = numpy.where((classification_all[\"level3\"].values == 112) & \n",
    "                                     (classification_all[\"tasscapwetn\"] < -0.1) &\n",
    "                                     (classification_all[\"wcf_mask\"].values ==1) &\n",
    "                                     (classification_all[\"canopyco_veg_con\"].values > 15 ) & (classification_all[\"canopyco_veg_con\"].values <= 65) & \n",
    "                                    ((classification_all[\"cci_biomass\"].values >=20) & (classification_all[\"cci_biomass\"].values < 150)), 1, 0)"
   ]
  },
  {
   "cell_type": "code",
   "execution_count": 216,
   "metadata": {},
   "outputs": [],
   "source": [
    " # Convert to xarray\n",
    "grey_box_grassy_exotic_xarray = xarray.Dataset(\n",
    "    {\"grey_box_grassy_exotic\" : (classification_all[\"level3\"].dims, grey_box_grassy_exotic)},\n",
    "    coords=classification_all.coords)"
   ]
  },
  {
   "cell_type": "code",
   "execution_count": 217,
   "metadata": {},
   "outputs": [
    {
     "data": {
      "text/plain": [
       "<matplotlib.image.AxesImage at 0x7ff2d8045e48>"
      ]
     },
     "execution_count": 217,
     "metadata": {},
     "output_type": "execute_result"
    },
    {
     "data": {
      "image/png": "[encoded data removed]",
      "text/plain": [
       "<Figure size 432x288 with 1 Axes>"
      ]
     },
     "metadata": {
      "needs_background": "light"
     },
     "output_type": "display_data"
    }
   ],
   "source": [
    "pyplot.imshow(grey_box_grassy_exotic[0])"
   ]
  },
  {
   "cell_type": "code",
   "execution_count": 218,
   "metadata": {},
   "outputs": [],
   "source": [
    "# Export data as a GeoTiff\n",
    "for i, year in enumerate(classification_years):\n",
    "    cog.write_cog(grey_box_grassy_exotic_xarray[\"grey_box_grassy_exotic\"].isel(time=i).astype(numpy.uint8),\n",
    "                  os.path.join(output_dir, '{}-grey_box_grassy_exotic_{}.tif'.format(site_name.replace(\" \",\"_\"), year)))"
   ]
  },
  {
   "cell_type": "code",
   "execution_count": 180,
   "metadata": {},
   "outputs": [
    {
     "name": "stdout",
     "output_type": "stream",
     "text": [
      "2005: 74670 pixels, 74670000000 m2\n",
      "2010: 58516 pixels, 58516000000 m2\n",
      "2015: 61933 pixels, 61933000000 m2\n",
      "2017: 64386 pixels, 64386000000 m2\n"
     ]
    }
   ],
   "source": [
    "for i, year in enumerate(classification_years):\n",
    "    pixels_class = grey_box_grassy_exotic[i][grey_box_grassy_exotic[i] == 1].size\n",
    "    area_class = pixels_class * (target_size[\"target_pixel_size_x\"] * abs(target_size[\"target_pixel_size_y\"]))\n",
    "    print(\"{}: {} pixels, {} m2\".format(year, pixels_class, area_class))"
   ]
  },
  {
   "cell_type": "markdown",
   "metadata": {},
   "source": [
    "## State - Grey box woodlands with exotic understorey\n",
    "#### Expression - Grey box shrub-grass woodlands with denuded understorey\n",
    "<img src=\"Illustrations/Chenopods_shrublands2.jpg\" style=\"width:300px;height:200px\"/>\n",
    "\n",
    "In the ‘grey box shrub-grass woodland with denuded understorey’ expression, inundation frequency is of a longer duration than the reference (from weeks to several (2 to 3) months), which may result in the presence of flood-tolerant flora such as sedges and rushes, including exotic species such as Phyla canescens. This expression may have extensive areas with no understorey species (leaf litter and coarse woody debris dominate the understorey below dense canopy cover).  \n",
    "\n",
    "https://australia.livingearth.online/themes/australian-ecosystems/eucalypt-woodlands/re-sprouter-temperate-and-subtropical-eucalypt-woodlands/shrub-grass-woodland/\n",
    "\n",
    "|   |   |\n",
    "|---|---|\n",
    "| NTV|112|\n",
    "| Water Persistence|na|\n",
    "| Water seasonality|na\n",
    "| No layers|1| \n",
    " \n",
    " \n",
    "|LAYER|LIFEFORM|AQU LIFEFORM|AV COVER (%)|AV HEIGHT (m)|LEAF TYPE|PHENOLOGY|SPATIAL DIST.|DOMINANT SPECIES|BIOMASS Mgha|\n",
    "|----------|--|----------|---------|----------|---------- |----------|-------------|-----------------------------|--|\n",
    "|1|Woody|na|30|25-30m|Broadleaf|Evergreen|Continuous|Eucalyptus microcarpa|99|"
   ]
  },
  {
   "cell_type": "code",
   "execution_count": 219,
   "metadata": {},
   "outputs": [],
   "source": [
    "grey_box_shrubby_denuded = numpy.where((classification_all[\"level3\"].values == 112) & \n",
    "                                       (classification_all[\"tasscapwetn\"] < -0.1) &\n",
    "                                       (classification_all[\"wcf_mask\"].values ==1) &\n",
    "                                       (classification_all[\"canopyco_veg_con\"].values > 1 ) & (classification_all[\"canopyco_veg_con\"].values <= 10) & \n",
    "                                       (classification_all[\"cci_biomass\"].values < 99), 1, 0)"
   ]
  },
  {
   "cell_type": "code",
   "execution_count": 220,
   "metadata": {},
   "outputs": [],
   "source": [
    " # Convert to xarray\n",
    "grey_box_shrubby_denuded_xarray = xarray.Dataset(\n",
    "    {\"grey_box_shrubby_denuded\" : (classification_all[\"level3\"].dims, grey_box_shrubby_denuded)},\n",
    "    coords=classification_all.coords)"
   ]
  },
  {
   "cell_type": "code",
   "execution_count": 221,
   "metadata": {},
   "outputs": [
    {
     "data": {
      "text/plain": [
       "<matplotlib.image.AxesImage at 0x7ff2b852b9e8>"
      ]
     },
     "execution_count": 221,
     "metadata": {},
     "output_type": "execute_result"
    },
    {
     "data": {
      "image/png": "[encoded data removed]",
      "text/plain": [
       "<Figure size 432x288 with 1 Axes>"
      ]
     },
     "metadata": {
      "needs_background": "light"
     },
     "output_type": "display_data"
    }
   ],
   "source": [
    "pyplot.imshow(grey_box_shrubby_denuded[0])"
   ]
  },
  {
   "cell_type": "code",
   "execution_count": 222,
   "metadata": {},
   "outputs": [],
   "source": [
    "# Export data as a GeoTiff\n",
    "for i, year in enumerate(classification_years):\n",
    "    cog.write_cog(grey_box_shrubby_denuded_xarray[\"grey_box_shrubby_denuded\"].isel(time=i).astype(numpy.uint8),\n",
    "                  os.path.join(output_dir, '{}-grey_box_shrubby_denuded_{}.tif'.format(site_name.replace(\" \",\"_\"), year)))"
   ]
  },
  {
   "cell_type": "code",
   "execution_count": 223,
   "metadata": {},
   "outputs": [
    {
     "name": "stdout",
     "output_type": "stream",
     "text": [
      "2005: 1490 pixels, 1490000000 m2\n",
      "2010: 32 pixels, 32000000 m2\n",
      "2015: 9703 pixels, 9703000000 m2\n",
      "2017: 2636 pixels, 2636000000 m2\n"
     ]
    }
   ],
   "source": [
    "for i, year in enumerate(classification_years):\n",
    "    pixels_class = grey_box_shrubby_denuded[i][grey_box_shrubby_denuded[i] == 1].size\n",
    "    area_class = pixels_class * (target_size[\"target_pixel_size_x\"] * abs(target_size[\"target_pixel_size_y\"]))\n",
    "    print(\"{}: {} pixels, {} m2\".format(year, pixels_class, area_class))"
   ]
  },
  {
   "cell_type": "markdown",
   "metadata": {},
   "source": [
    "## AEM: Callitris Woodlands\n",
    "\n",
    "The Callitris archetype model reflects two different dynamics for Callitris woodlands. The first dynamic relates to ecosystems dominated by Callitris in areas protected from repeated and severe disturbance. Here, Callitris woodlands may undergo both gap phase and stand recruitment dynamics in response to mild to moderate disturbances. These dynamics are based on our understanding of other obligate seeding species (Gosper et al., 2018) as there is limited knowledge about the validity of these dynamics. Differences in serotiny (ie. degree to which seeds retained in canes until fire causes release) among Callitris species may lead to differences in response to extensive fires. Callitris glaucophylla is purportedly non-serotinous and its seeds are poorly dispersed (Prior & Bowman 2020), hence recruitment may only be stimulated by fire or other disturbance when these are patchy or small enough in area to enable recruitment from nearby mature plants. \n",
    "\n",
    "A second dynamic is represented when Callitris species occur in a matrix of different woodland types; the dynamics of these systems are included in the relevant woodland archetype model (e.g. eucalypt woods, mallee woodlands). A second knowledge gap is whether it is possible to shift between these two dynamics (dominant Callitris stands versus woodlands with co-dominant Callitris species) under endogenous disturbance regimes.  \n",
    "\n",
    "https://australia.livingearth.online/themes/australian-ecosystems/callitris-forests-and-woodlands/\n",
    "\n",
    "\n",
    "### State - Reference\n",
    "#### Expression - Sandhill pine woodlands\n",
    "\n",
    "At GKP, Callitris glaucophylla – dominated woodlands (termed sandhill pine woodlands) occurred on small sand rises across the floodplain. Currently, these woodlands are highly transformed and no longer resemble the reference state. It is likely the occurrence of these woodlands is edaphically driven but it may also be due to protection from fire afforded by their presence within a regularly inundated floodplain. There is no evidence of a fire dynamic between sandhill pine woodlands and the surrounding floodplain wetlands, floodplain eucalypt forests and woodlands, and grey box grassy woodlands; therefore, the reference model for Callitris woodlands (sandhill pine woodlands) retains only the central expressions that represent stand recruitment and gap phase dynamics in woodlands dominated by Callitris. \n",
    "\n",
    "|   |   |\n",
    "|---|---|\n",
    "| NTV|112|\n",
    "| Water Persistence|na|\n",
    "| Water seasonality|na\n",
    "| No layers|3| \n",
    " \n",
    " \n",
    "\n",
    "|LAYER|LIFEFORM|AQU LIFEFORM|AV COVER (%)|AV HEIGHT (m)|LEAF TYPE|PHENOLOGY|SPATIAL DIST.|DOMINANT SPECIES|BIOMASS Mgha|\n",
    "|----------|--|----------|---------|----------|---------- |----------|-------------|-----------------------------|--|\n",
    "|1|Woody|na|15-20|20-25m|Needleleaved|Evergreen|Scattered|Callitris glaucophylla, Callitris gracilis|no data|\n",
    "|2|Woody|na|2-3|5|Broadleaf|Evergreen|Fragmented|Acacia oswaldii, Santalum acuminatum, Senna sp., Pittosporum angustifolium, Dodonaea viscosa, Calytrix tetragona, Santalum lanceolatum||\n",
    "|3|Herbaceous|na|70|0.02m|Monocot|Evergreen|Continous with gaps|Panicum effusum, Austrostipa nodosa, A. platychaeta, Thysanotus baueri, Pterostylis sp.||"
   ]
  },
  {
   "cell_type": "code",
   "execution_count": null,
   "metadata": {},
   "outputs": [],
   "source": [
    "sandhill_pines = numpy.where((classification_all[\"level3\"].values == 112) &\n",
    "                      (classification_all[\"canopyco_veg_con\"].values >=15 ) & (classification_all[\"canopyco_veg_con\"].values <= 20), 1, 0)"
   ]
  },
  {
   "cell_type": "code",
   "execution_count": null,
   "metadata": {},
   "outputs": [],
   "source": [
    " # Convert to xarray\n",
    "sandhill_pines_xarray = xarray.Dataset(\n",
    "    {\"sandhill_pines\" : (classification_all[\"level3\"].dims, sandhill_pines)},\n",
    "    coords=classification_all.coords)"
   ]
  },
  {
   "cell_type": "code",
   "execution_count": null,
   "metadata": {},
   "outputs": [],
   "source": [
    "pyplot.imshow(sandhill_pines[0])"
   ]
  },
  {
   "cell_type": "code",
   "execution_count": null,
   "metadata": {},
   "outputs": [],
   "source": [
    "# Export data as a GeoTiff\n",
    "for i, year in enumerate(classification_years):\n",
    "    cog.write_cog(sandhill_pines_xarray[\"sandhill_pines\"].isel(time=i).astype(numpy.uint8),\n",
    "                  os.path.join(output_dir, '{}-sandhill_pines_{}.tif'.format(site_name.replace(\" \",\"_\"), year)))"
   ]
  },
  {
   "cell_type": "markdown",
   "metadata": {},
   "source": [
    "### State - Low rise sandhill pine woodlands\n",
    "#### Expression - Senescent Allocasuarina over invaded understorey\n",
    "\n",
    "The low rise sandhill pine woodlands occurs only in Gunbower Forest and are more intact (in terms of plant species composition) than the high rise sandhill pine woodlands. However, the dominant Callitris species (C. glaucophylla) has been lost from both states. Both modified states have been impacted due to grazing by introduced herbivores (deer, rabbits); grazing by abundant native grazers, such as kangaroos; and exotic plant invasion. Several grazing enclosures at GKP have been built to study the recovery of these woodlands when grazing is removed. Logging may also have occurred in these woodlands in the past.  \n",
    "\n",
    "The low rise sandhill pine woodlands have a lower elevation above the floodplain and are smaller in area (approximately 5–10 ha) compared to the high rise sandhill pine woodlands (approximately 15–30 ha). The low rise sandhill pine woodlands also have higher clay contents, relative to the high rise woodlands, where soils are almost pure sand. Despite the loss of the dominant Callitris species, the low rise sandhill pine woodlands maintain a relatively intact vegetation structure with three layers: canopy, the understorey and ground layer. Canopy species may include senescent Allocasuarina leuhmannii and the understorey and ground layer are often dominated by exotic species such as Opuntia spp. and Asparagus asparagoides. Again, due to a lack of knowledge on ecosystem expressions under gap phase and stand replacement dynamics, a single expression has been described, representing mature woodlands for both the low rise sandhill pine woodlands (‘senescent Allocasuarina over invaded understorey’ expression). \n",
    "\n",
    "|   |   |\n",
    "|---|---|\n",
    "| NTV|112|\n",
    "| Water Persistence|na|\n",
    "| Water seasonality|na\n",
    "| No layers|3| \n",
    " \n",
    " \n",
    "\n",
    "|LAYER|LIFEFORM|AQU LIFEFORM|AV COVER (%)|AV HEIGHT (m)|LEAF TYPE|PHENOLOGY|SPATIAL DIST.|DOMINANT SPECIES|BIOMASS Mgha|\n",
    "|----------|--|----------|---------|----------|---------- |----------|-------------|-----------------------------|--|\n",
    "|1|Woody|na|10-70|10-15m|Needleleaved|Evergreen|Scattered|Allocasuarina leuhmannii|no data|\n",
    "|2|Woody|na|1-4|2m|Broadleaf|Evergreen|Fragmented|Opuntia spp.||\n",
    "|3|Herbaceous|na|10-70|0.05m|Monocot|Evergreen|Scattered (clustered)|Asparagus asparagoides||"
   ]
  },
  {
   "cell_type": "code",
   "execution_count": null,
   "metadata": {},
   "outputs": [],
   "source": [
    "senes_allocasuarina = numpy.where((classification_all[\"level3\"].values == 112) &\n",
    "                      (classification_all[\"canopyco_veg_con\"].values >=10 ) & (classification_all[\"canopyco_veg_con\"].values <= 70), 1, 0)"
   ]
  },
  {
   "cell_type": "code",
   "execution_count": null,
   "metadata": {},
   "outputs": [],
   "source": [
    " # Convert to xarray\n",
    "senes_allocasuarina_xarray = xarray.Dataset(\n",
    "    {\"senes_allocasuarina\" : (classification_all[\"level3\"].dims, senes_allocasuarina)},\n",
    "    coords=classification_all.coords)"
   ]
  },
  {
   "cell_type": "code",
   "execution_count": null,
   "metadata": {},
   "outputs": [],
   "source": [
    "pyplot.imshow(senes_allocasuarina[0])"
   ]
  },
  {
   "cell_type": "code",
   "execution_count": null,
   "metadata": {},
   "outputs": [],
   "source": [
    "# Export data as a GeoTiff\n",
    "for i, year in enumerate(classification_years):\n",
    "    cog.write_cog(senes_allocasuarina_xarray[\"senes_allocasuarina\"].isel(time=i).astype(numpy.uint8),\n",
    "                  os.path.join(output_dir, '{}-senes_allocasuarina_{}.tif'.format(site_name.replace(\" \",\"_\"), year)))"
   ]
  },
  {
   "cell_type": "markdown",
   "metadata": {},
   "source": [
    "### State - High rise sandhill pine woodlands\n",
    "#### Expression - Denuded canopy and no understorey strata\n",
    "\n",
    "The high rise sandhill pine woodlands are dominated by exotic species and native canopy and mid-storey species are almost absent (occasionally Pittosporum angustifolium and Eucalyptus mellidora occur on the perimeter of the sandhill rises). This has likely resulted from erosion due to motorbikes and four-wheel drive recreational use; logging; and weed invasion associated with grazing by deer, rabbits and past cattle grazing. The high rise woodlands are particularly dominant in Koondrook-Perricoota Forest. Exotic understorey plant species include Marrubium vulgare, Echium plantagineum, Heliotropium europaeum, Asparagus asparagoides and Opuntia spp.\n",
    "\n",
    "|   |   |\n",
    "|---|---|\n",
    "| NTV|112|\n",
    "| Water Persistence|na|\n",
    "| Water seasonality|na\n",
    "| No layers|1| \n",
    " \n",
    " \n",
    "\n",
    "|LAYER|LIFEFORM|AQU LIFEFORM|AV COVER (%)|AV HEIGHT (m)|LEAF TYPE|PHENOLOGY|SPATIAL DIST.|DOMINANT SPECIES|BIOMASS Mgha|\n",
    "|----------|--|----------|---------|----------|---------- |----------|-------------|-----------------------------|--|\n",
    "|1|Woody|na|1-4|25m|Broadleaf|Evergreen|Scattered|Marrubium vulgare, Echium plantagineum, Heliotropium europaeum, Asparagus asparagoides, Opuntia spp.|no data|"
   ]
  },
  {
   "cell_type": "code",
   "execution_count": null,
   "metadata": {},
   "outputs": [],
   "source": [
    "denuded_sandhill = numpy.where((classification_all[\"level3\"].values == 112) &\n",
    "                      (classification_all[\"canopyco_veg_con\"].values >=1 ) & (classification_all[\"canopyco_veg_con\"].values <= 4), 1, 0)"
   ]
  },
  {
   "cell_type": "code",
   "execution_count": null,
   "metadata": {},
   "outputs": [],
   "source": [
    " # Convert to xarray\n",
    "denuded_sandhill_xarray = xarray.Dataset(\n",
    "    {\"denuded_sandhill\" : (classification_all[\"level3\"].dims, denuded_sandhill)},\n",
    "    coords=classification_all.coords)"
   ]
  },
  {
   "cell_type": "code",
   "execution_count": null,
   "metadata": {},
   "outputs": [],
   "source": [
    "pyplot.imshow(denuded_sandhill[0])"
   ]
  },
  {
   "cell_type": "code",
   "execution_count": null,
   "metadata": {},
   "outputs": [],
   "source": [
    "# Export data as a GeoTiff\n",
    "for i, year in enumerate(classification_years):\n",
    "    cog.write_cog(denuded_sandhill_xarray[\"denuded_sandhill\"].isel(time=i).astype(numpy.uint8),\n",
    "                  os.path.join(output_dir, '{}-denuded_sandhill_{}.tif'.format(site_name.replace(\" \",\"_\"), year)))"
   ]
  },
  {
   "cell_type": "markdown",
   "metadata": {},
   "source": [
    "## AEM: Wetlands\n",
    "https://australia.livingearth.online/themes/australian-ecosystems/wetlands/\n",
    "\n",
    "Wetlands are very large and heterogeneous, encompassing different environments, with widely different dynamic drivers. Therefore, the archetype model represents the simplest set of possible dynamics, with transitions identified between open water bodies with submerged/fringing wetland vegetation; ephemeral water bodies and associated species adapted to fluctuating hydrological conditions; and the ultimate conversion to terrestrial vegetation in the absence of the water source. \n",
    "\n",
    "In the context of GKP, the simple archetype model template for wetlands has been modified to include six wetland expressions (these include three broad expressions: permanent, semi-permanent and temporary, which each have a predominantly wet and dry expression) (Figure 19). These broad expressions differ in terms of the frequency, duration, extent, timing and depth of inundation. These flood regimes vary spatially due to changes in the topography of the floodplain, including height and proximity to floodwaters. In addition, temporal changes to floodplain geomorphology over long timeframes through channel blockages, avulsions, anabranching and channel switching can alter water flow pathways and drive a shift between the different wetland expressions or to permanent aquatic systems, such as lowland streams. Geomorphological changes often result from long-term changes in rainfall patterns and combine with local sediment characteristics to determine the manifestation of different wetland expressions over time. Indigenous water management, such as via excavation of wetlands to increase flood duration (Pardoes and Hutton, 2017), can also drive shifts between expressions in the reference state. The different inundation regimes characterised in the model lead to different compositions and abundance of aquatic plants and faunal species in the wet and dry expressions. In particular, re-wetting of built-up litter (leaf, grass, woody debris) carbon during dry expressions can cause blackwater events resulting in an important flush of carbon into the water column in wet expressions.  \n",
    "\n",
    "### State - Reference\n",
    "#### Expression - Permanent wet\n",
    "\n",
    "This expression experiences frequent and long duration flooding with almost permanent open water occurring in most years. As a result, mudflat flora present in the dry expression rarely include perennial species. Drying down generally occurs in GKP over summer and autumn, whereas wetting up occurs in spring. With a sufficient reduction in flood frequency and duration, woody species can colonise the wetland leading to a shift to inland floodplain eucalypt forests and woodlands via the thicket expression. This is most likely to occur at the edges of permanent wetlands, and it is likely that a smaller area of open water would remain. For the permanent wetlands that generally occur on the inner floodplain at GKP, common woody species are Eucalyptus camadulensis and aquatic understorey plants are typically observed in the understorey as waters recede. These species may be replaced by annuals/coloniser species and litter in the dry thicket expression.  \n",
    "\n",
    "|   |   |\n",
    "|---|---|\n",
    "| NAV|124|\n",
    "| Water Persistence|>9 months|\n",
    "| Water Seasonality|semi-permanent|\n",
    "| No layers|2| \n",
    " \n",
    " \n",
    "\n",
    "|LAYER|AQUATIC PLANT LIFEFORM|AQUATIC PLANT PHENOLOGY|WATER DEPTH|WATER MOVEMENT|WATER SEDIMENT/ TURBIDITY|PH|BIOMASS Mgha|\n",
    "|----------|--|----------|---------|----------|---------- |----------|-------------|\n",
    "|1|Rooted forbs|Evergreen|>2m|Flows and stands as it contracts|Almost no sediment|5-7|no data|\n",
    "|2|Floating herbs|Evergreen|||||||"
   ]
  },
  {
   "cell_type": "code",
   "execution_count": null,
   "metadata": {},
   "outputs": [],
   "source": [
    "classification_all"
   ]
  },
  {
   "cell_type": "code",
   "execution_count": null,
   "metadata": {},
   "outputs": [],
   "source": [
    "#FIXME: Modified for Australia specific LCCS classification - Check that the values are still as intended\n",
    "permanent_wet = numpy.where((classification_all[\"level3\"].values == 124) &\n",
    "                               (classification_all[\"waterper_wat_cat_l4d\"].values ==12) &\n",
    "                               (classification_all[\"watersea_veg_cat_l4a_au\"].values ==1), 1, 0)"
   ]
  },
  {
   "cell_type": "code",
   "execution_count": null,
   "metadata": {},
   "outputs": [],
   "source": [
    " # Convert to xarray\n",
    "permanent_wet_xarray = xarray.Dataset(\n",
    "    {\"permanent_wet\" : (classification_all[\"level3\"].dims, permanent_wet)},\n",
    "    coords=classification_all.coords)"
   ]
  },
  {
   "cell_type": "code",
   "execution_count": null,
   "metadata": {},
   "outputs": [],
   "source": [
    "pyplot.imshow(permanent_wet[0])"
   ]
  },
  {
   "cell_type": "code",
   "execution_count": null,
   "metadata": {},
   "outputs": [],
   "source": [
    "# Export data as a GeoTiff\n",
    "for i, year in enumerate(classification_years):\n",
    "    cog.write_cog(permanent_wet_xarray[\"permanent_wet\"].isel(time=i).astype(numpy.uint8),\n",
    "                  os.path.join(output_dir, '{}-permanent_wet_{}.tif'.format(site_name.replace(\" \",\"_\"), year)))"
   ]
  },
  {
   "cell_type": "markdown",
   "metadata": {},
   "source": [
    "### State - Reference\n",
    "#### Expression - Semi-permanent wet\n",
    "\n",
    "This expression has moderately frequent flooding of variable duration and is the most common wetland expression at GKP (on average 1–2 m water depth in the wet expression with duration of inundation between 4–18 months). These expressions have the highest density of vegetation and possibly the best developed mudflat flora, in terms of composition (including perennial mudflat and other amphibious species). Like the permanent wetlands, the semi-permanent wetlands may shift to a thicket expression dominated by E. camadulensis under reduced flood frequency and duration, where all areas of open water may shift to the thicket.    \n",
    "\n",
    "|   |   |\n",
    "|---|---|\n",
    "| NAV|124|\n",
    "| Water Persistence|>9 months|\n",
    "| Water Seasonality|semi-permanent|\n",
    "| No layers|2| \n",
    " \n",
    " \n",
    "\n",
    "|LAYER|AQUATIC PLANT LIFEFORM|AQUATIC PLANT PHENOLOGY|WATER DEPTH|WATER MOVEMENT|WATER SEDIMENT/ TURBIDITY|PH|BIOMASS Mgha|\n",
    "|----------|--|----------|---------|----------|---------- |----------|-------------|\n",
    "|1|Rooted forbs|Evergreen|>2m|Flows and stands as it contracts|Almost no sediment|5-7|no data|\n",
    "|2|Floating herbs|Evergreen|||||||"
   ]
  },
  {
   "cell_type": "code",
   "execution_count": null,
   "metadata": {},
   "outputs": [],
   "source": [
    "#FIXME: Modified for Australia specific LCCS classification - Check that the values are still as intended\n",
    "semi_permanent_wet = numpy.where((classification_all[\"level3\"].values == 124) &\n",
    "                               (classification_all[\"waterper_wat_cat_l4d\"].values ==12) &\n",
    "                               (classification_all[\"watersea_veg_cat_l4a_au\"].values ==1), 1, 0)"
   ]
  },
  {
   "cell_type": "code",
   "execution_count": null,
   "metadata": {},
   "outputs": [],
   "source": [
    " # Convert to xarray\n",
    "semi_permanent_wet_xarray = xarray.Dataset(\n",
    "    {\"semi_permanent_wet\" : (classification_all[\"level3\"].dims, semi_permanent_wet)},\n",
    "    coords=classification_all.coords)"
   ]
  },
  {
   "cell_type": "code",
   "execution_count": null,
   "metadata": {},
   "outputs": [],
   "source": [
    "pyplot.imshow(semi_permanent_wet[0])"
   ]
  },
  {
   "cell_type": "code",
   "execution_count": null,
   "metadata": {},
   "outputs": [],
   "source": [
    "# Export data as a GeoTiff\n",
    "for i, year in enumerate(classification_years):\n",
    "    cog.write_cog(semi_permanent_wet_xarray[\"semi_permanent_wet\"].isel(time=i).astype(numpy.uint8),\n",
    "                  os.path.join(output_dir, '{}-semi_permanent_wet_{}.tif'.format(site_name.replace(\" \",\"_\"), year)))"
   ]
  },
  {
   "cell_type": "markdown",
   "metadata": {},
   "source": [
    "### State - Reference\n",
    "#### Expression - Temporary wet\n",
    "\n",
    "For temporary wetlands, the dry expression dominates and flooding depths are often shallow and of short duration. These wetlands are more common in the outer floodplain and less well connected to other wetlands on the floodplain (through ephemeral flood runners and anabranches). Shifts to the thicket expression may include woody species such as E. largiflorens and E. microcarpa, as well as E. camadulensis.     \n",
    "\n",
    "|   |   |\n",
    "|---|---|\n",
    "| NAV|124|\n",
    "| Water Persistence|1-3 months|\n",
    "| Water Seasonality|temporary (weeks to months every five -nine years)|\n",
    "| No layers|2| \n",
    " \n",
    " \n",
    "\n",
    "|LAYER|AQUATIC PLANT LIFEFORM|AQUATIC PLANT PHENOLOGY|WATER DEPTH|WATER MOVEMENT|WATER SEDIMENT/ TURBIDITY|PH|BIOMASS Mgha|\n",
    "|----------|--|----------|---------|----------|---------- |----------|-------------|\n",
    "|1|Graminoids|Evergreen|<2m|Flows and stands as it contracts|Almost no sediment|5-7|no data|\n",
    "|2|Floating herbs|Evergreen|||||||"
   ]
  },
  {
   "cell_type": "code",
   "execution_count": null,
   "metadata": {},
   "outputs": [],
   "source": [
    "# FIXME: Richard - is it intential to use the level3 from 2017? Previously you've been using 2005.\n",
    "temporary_wet = numpy.where((classification_all[\"level3\"].values == 124) &\n",
    "                               (classification_all[\"waterper_wat_cat_l4d\"].values ==16) &\n",
    "                               (classification_all[\"watersea_veg_cat_l4a_au\"].values ==2), 1, 0)"
   ]
  },
  {
   "cell_type": "code",
   "execution_count": null,
   "metadata": {},
   "outputs": [],
   "source": [
    " # Convert to xarray\n",
    "temporary_wet_xarray = xarray.Dataset(\n",
    "    {\"temporary_wet\" : (classification_all[\"level3\"].dims, temporary_wet)},\n",
    "    coords=classification_all.coords)"
   ]
  },
  {
   "cell_type": "code",
   "execution_count": null,
   "metadata": {},
   "outputs": [],
   "source": [
    "pyplot.imshow(temporary_wet[0])"
   ]
  },
  {
   "cell_type": "code",
   "execution_count": null,
   "metadata": {},
   "outputs": [],
   "source": [
    "# Export data as a GeoTiff\n",
    "for i, year in enumerate(classification_years):\n",
    "    cog.write_cog(temporary_wet_xarray[\"temporary_wet\"].isel(time=i).astype(numpy.uint8),\n",
    "                  os.path.join(output_dir, '{}-temporary_wet_{}.tif'.format(site_name.replace(\" \",\"_\"), year)))"
   ]
  },
  {
   "cell_type": "markdown",
   "metadata": {},
   "source": [
    "### State - Reference\n",
    "#### Expression - Permanent dry\n",
    "\n",
    "This expression experiences frequent and long duration flooding with almost permanent open water occurring in most years. As a result, mudflat flora present in the dry expression rarely include perennial species. Drying down generally occurs in GKP over summer and autumn, whereas wetting up occurs in spring. With a sufficient reduction in flood frequency and duration, woody species can colonise the wetland leading to a shift to inland floodplain eucalypt forests and woodlands via the thicket expression. This is most likely to occur at the edges of permanent wetlands, and it is likely that a smaller area of open water would remain. For the permanent wetlands that generally occur on the inner floodplain at GKP, common woody species are Eucalyptus camadulensis and aquatic understorey plants are typically observed in the understorey as waters recede. These species may be replaced by annuals/coloniser species and litter in the dry thicket expression.    \n",
    "\n",
    "|   |   |\n",
    "|---|---|\n",
    "| NTV|112|\n",
    "| Water Persistence|na|\n",
    "| Water Seasonality|na|\n",
    "| No layers|1| \n",
    " \n",
    " \n",
    "\n",
    "|LAYER|LIFEFORM|AQU LIFEFORM|AV COVER (%)|AV HEIGHT (m)|LEAF TYPE|PHENOLOGY|SPATIAL DIST.|DOMINANT SPECIES|BIOMASS Mgha|\n",
    "|----------|--|----------|---------|----------|---------- |----------|-------------|-----------------------------|--|\n",
    "|1|Herbaceous|na|xxxxx|0.05-0.25m|Monocot and Broadleaf|Evergreen|Continous|XXXXXXX|no data|\n"
   ]
  },
  {
   "cell_type": "code",
   "execution_count": null,
   "metadata": {},
   "outputs": [],
   "source": [
    "permanent_dry = numpy.where((classification_all[\"level3\"].values == 112) &\n",
    "                              (classification_all[\"canopyco_veg_con\"].values >=79 ) & (classification_all[\"canopyco_veg_con\"].values <= 81), 1, 0)"
   ]
  },
  {
   "cell_type": "code",
   "execution_count": null,
   "metadata": {},
   "outputs": [],
   "source": [
    " # Convert to xarray\n",
    "permanent_dry_xarray = xarray.Dataset(\n",
    "    {\"permanent_dry\" : (classification_all[\"level3\"].dims, permanent_dry)},\n",
    "    coords=classification_all.coords)"
   ]
  },
  {
   "cell_type": "code",
   "execution_count": null,
   "metadata": {},
   "outputs": [],
   "source": [
    "pyplot.imshow(permanent_dry[0])"
   ]
  },
  {
   "cell_type": "code",
   "execution_count": null,
   "metadata": {},
   "outputs": [],
   "source": [
    "# Export data as a GeoTiff\n",
    "for i, year in enumerate(classification_years):\n",
    "    cog.write_cog(permanent_dry_xarray[\"permanent_dry\"].isel(time=i).astype(numpy.uint8),\n",
    "                  os.path.join(output_dir, '{}-permanent_dry_{}.tif'.format(site_name.replace(\" \",\"_\"), year)))"
   ]
  },
  {
   "cell_type": "markdown",
   "metadata": {},
   "source": [
    "### State - Reference\n",
    "#### Expression - Semi-permanent dry\n",
    "\n",
    "This expression has moderately frequent flooding of variable duration and is the most common wetland expression at GKP (on average 1–2 m water depth in the wet expression with duration of inundation between 4–18 months). These expressions have the highest density of vegetation and possibly the best developed mudflat flora, in terms of composition (including perennial mudflat and other amphibious species). Like the permanent wetlands, the semi-permanent wetlands may shift to a thicket expression dominated by E. camadulensis under reduced flood frequency and duration, where all areas of open water may shift to the thicket.     \n",
    "\n",
    "|   |   |\n",
    "|---|---|\n",
    "| NTV|112|\n",
    "| Water Persistence|na|\n",
    "| Water Seasonality|na|\n",
    "| No layers|1| \n",
    " \n",
    " \n",
    "\n",
    "|LAYER|LIFEFORM|AQU LIFEFORM|AV COVER (%)|AV HEIGHT (m)|LEAF TYPE|PHENOLOGY|SPATIAL DIST.|DOMINANT SPECIES|BIOMASS Mgha|\n",
    "|----------|--|----------|---------|----------|---------- |----------|-------------|-----------------------------|--|\n",
    "|1|Herbaceous|na|xxxxx|0.05-0.25m|Monocot and Broadleaf|Evergreen|Continous|XXXXXXX|no data|"
   ]
  },
  {
   "cell_type": "code",
   "execution_count": null,
   "metadata": {},
   "outputs": [],
   "source": [
    "semi_permanent_dry = numpy.where((classification_all[\"level3\"].values == 112) &\n",
    "                              (classification_all[\"canopyco_veg_con\"].values >=79 ) & (classification_all[\"canopyco_veg_con\"].values <= 81), 1, 0)"
   ]
  },
  {
   "cell_type": "code",
   "execution_count": null,
   "metadata": {},
   "outputs": [],
   "source": [
    " # Convert to xarray\n",
    "semi_permanent_dry_xarray = xarray.Dataset(\n",
    "    {\"semi_permanent_dry\" : (classification_all[\"level3\"].dims, semi_permanent_dry)},\n",
    "    coords=classification_all.coords)"
   ]
  },
  {
   "cell_type": "code",
   "execution_count": null,
   "metadata": {},
   "outputs": [],
   "source": [
    "pyplot.imshow(semi_permanent_dry[0])"
   ]
  },
  {
   "cell_type": "code",
   "execution_count": null,
   "metadata": {},
   "outputs": [],
   "source": [
    "# Export data as a GeoTiff\n",
    "for i, year in enumerate(classification_years):\n",
    "    cog.write_cog(semi_permanent_dry_xarray[\"semi_permanent_dry\"].isel(time=i).astype(numpy.uint8),\n",
    "                  os.path.join(output_dir, '{}-semi_permanent_dry_{}.tif'.format(site_name.replace(\" \",\"_\"), year)))"
   ]
  },
  {
   "cell_type": "markdown",
   "metadata": {},
   "source": [
    "### State - Reference\n",
    "#### Expression - Temporary dry\n",
    "\n",
    "For temporary wetlands, the dry expression (see Figure 20) dominates and flooding depths are often shallow and of short duration. These wetlands are more common in the outer floodplain and less well connected to other wetlands on the floodplain (through ephemeral flood runners and anabranches). Shifts to the thicket expression may include woody species such as E. largiflorens and E. microcarpa, as well as E. camadulensis. The dry expression is usually dominated by a dense, less flood-tolerant graminoid component.     \n",
    "\n",
    "|   |   |\n",
    "|---|---|\n",
    "| NTV|112|\n",
    "| Water Persistence|na|\n",
    "| Water Seasonality|na|\n",
    "| No layers|1| \n",
    " \n",
    " \n",
    "\n",
    "|LAYER|LIFEFORM|AQU LIFEFORM|AV COVER (%)|AV HEIGHT (m)|LEAF TYPE|PHENOLOGY|SPATIAL DIST.|DOMINANT SPECIES|BIOMASS Mgha|\n",
    "|----------|--|----------|---------|----------|---------- |----------|-------------|-----------------------------|--|\n",
    "|1|Herbaceous|na|xxxxx|0.05-0.25m|Monocot and Broadleaf|Evergreen|Continous|XXXXXXX|no data|\n"
   ]
  },
  {
   "cell_type": "code",
   "execution_count": null,
   "metadata": {},
   "outputs": [],
   "source": [
    "temporary_dry = numpy.where((classification_all[\"level3\"].values == 112) &\n",
    "                              (classification_all[\"canopyco_veg_con\"].values >=79 ) & (classification_all[\"canopyco_veg_con\"].values <= 81), 1, 0)"
   ]
  },
  {
   "cell_type": "code",
   "execution_count": null,
   "metadata": {},
   "outputs": [],
   "source": [
    " # Convert to xarray\n",
    "temporary_dry_xarray = xarray.Dataset(\n",
    "    {\"temporary_dry\" : (classification_all[\"level3\"].dims, temporary_dry)},\n",
    "    coords=classification_all.coords)"
   ]
  },
  {
   "cell_type": "code",
   "execution_count": null,
   "metadata": {},
   "outputs": [],
   "source": [
    "pyplot.imshow(temporary_dry[0])"
   ]
  },
  {
   "cell_type": "code",
   "execution_count": null,
   "metadata": {},
   "outputs": [],
   "source": [
    "# Export data as a GeoTiff\n",
    "for i, year in enumerate(classification_years):\n",
    "    cog.write_cog(temporary_dry_xarray[\"temporary_dry\"].isel(time=i).astype(numpy.uint8),\n",
    "                  os.path.join(output_dir, '{}-temporary_dry_{}.tif'.format(site_name.replace(\" \",\"_\"), year)))"
   ]
  },
  {
   "cell_type": "markdown",
   "metadata": {},
   "source": [
    "### State - High condition wetlands\n",
    "#### Expression - High condition permanent wet\n",
    "\n",
    "This state is similar to the reference state and has low numbers of invasive fish species, such as carp and Gambusia, and may support a high diversity of native small-bodied fish. Many of the high condition wetlands at GKP display evidence of extended occupation and use by Aboriginal people (for 3000–4000 years). This state may have low or high cover of vegetation under wet expressions and, when deeply inundated, this state may have low plant diversity. Wet expressions generally have low levels of turbidity. Few exotic plants species are present in these wetlands and they may have a high cover and richness of terrestrial plant species when shallow or dry (mudflat). Grazing by native and introduced herbivores may reduce the cover and species richness of plants in the dry expression (e.g. through preferential grass removal) – this is the case for all states. Some encroachment of E. camadulensis may be observed on the margins of these wetlands.    \n",
    "\n",
    "|   |   |\n",
    "|---|---|\n",
    "| NAV|124|\n",
    "| Water Persistence|>9 months|\n",
    "| Water Seasonality|semi-permanent|\n",
    "| No layers|2| \n",
    " \n",
    " \n",
    "\n",
    "|LAYER|AQUATIC PLANT LIFEFORM|AQUATIC PLANT PHENOLOGY|WATER DEPTH|WATER MOVEMENT|WATER SEDIMENT/ TURBIDITY|PH|BIOMASS Mgha|\n",
    "|----------|--|----------|---------|----------|---------- |----------|-------------|\n",
    "|1|Rooted forbs|Evergreen|>2m|Flows and stands as it contracts|Low turbidity|no data|no data|\n",
    "|2|Floating herbs|Evergreen|||||||"
   ]
  },
  {
   "cell_type": "code",
   "execution_count": null,
   "metadata": {},
   "outputs": [],
   "source": [
    "high_condition_permanent_wet = numpy.where((classification_all[\"level3\"].values == 124) &\n",
    "                               (classification_all[\"waterper_wat_cat_l4d\"].values ==12) &\n",
    "                               (classification_all[\"watersea_veg_cat_l4a_au\"].values ==1), 1, 0)"
   ]
  },
  {
   "cell_type": "code",
   "execution_count": null,
   "metadata": {},
   "outputs": [],
   "source": [
    " # Convert to xarray\n",
    "high_condition_permanent_wet_xarray = xarray.Dataset(\n",
    "    {\"high_condition_permanent_wet\" : (classification_all[\"level3\"].dims, high_condition_permanent_wet)},\n",
    "    coords=classification_all.coords)"
   ]
  },
  {
   "cell_type": "code",
   "execution_count": null,
   "metadata": {},
   "outputs": [],
   "source": [
    "pyplot.imshow(high_condition_permanent_wet[0])"
   ]
  },
  {
   "cell_type": "code",
   "execution_count": null,
   "metadata": {},
   "outputs": [],
   "source": [
    "# Export data as a GeoTiff\n",
    "for i, year in enumerate(classification_years):\n",
    "    cog.write_cog(high_condition_permanent_wet_xarray[\"high_condition_permanent_wet\"].isel(time=i).astype(numpy.uint8),\n",
    "                  os.path.join(output_dir, '{}-high_condition_permanent_wet_{}.tif'.format(site_name.replace(\" \",\"_\"), year)))"
   ]
  },
  {
   "cell_type": "markdown",
   "metadata": {},
   "source": [
    "### State - High condition wetland\n",
    "#### Expression - High condition semi-permanent wet\n",
    "\n",
    "This state is similar to the reference state and has low numbers of invasive fish species, such as carp and Gambusia, and may support a high diversity of native small-bodied fish. Many of the high condition wetlands at GKP display evidence of extended occupation and use by Aboriginal people (for 3000–4000 years). This state may have low or high cover of vegetation under wet expressions and, when deeply inundated, this state may have low plant diversity. Wet expressions generally have low levels of turbidity. Few exotic plants species are present in these wetlands and they may have a high cover and richness of terrestrial plant species when shallow or dry (mudflat). Grazing by native and introduced herbivores may reduce the cover and species richness of plants in the dry expression (e.g. through preferential grass removal) – this is the case for all states. Some encroachment of E. camadulensis may be observed on the margins of these wetlands.    \n",
    "\n",
    "|   |   |\n",
    "|---|---|\n",
    "| NAV|124|\n",
    "| Water Persistence|>9 months|\n",
    "| Water Seasonality|semi-permanent|\n",
    "| No layers|2| \n",
    " \n",
    " \n",
    "\n",
    "|LAYER|AQUATIC PLANT LIFEFORM|AQUATIC PLANT PHENOLOGY|WATER DEPTH|WATER MOVEMENT|WATER SEDIMENT/ TURBIDITY|PH|BIOMASS Mgha|\n",
    "|----------|--|----------|---------|----------|---------- |----------|-------------|\n",
    "|1|Rooted forbs|Evergreen|>2m|Flows and stands as it contracts|low turbidity|no data|no data|\n",
    "|2|Floating herbs|Evergreen|||||||"
   ]
  },
  {
   "cell_type": "code",
   "execution_count": null,
   "metadata": {},
   "outputs": [],
   "source": [
    "high_condition_semi_permanent_wet = numpy.where((classification_all[\"level3\"].values == 124) &\n",
    "                               (classification_all[\"waterper_wat_cat_l4d\"].values ==12) &\n",
    "                               (classification_all[\"watersea_veg_cat_l4a_au\"].values ==1), 1, 0)"
   ]
  },
  {
   "cell_type": "code",
   "execution_count": null,
   "metadata": {},
   "outputs": [],
   "source": [
    " # Convert to xarray\n",
    "high_condition_semi_permanent_wet_xarray = xarray.Dataset(\n",
    "    {\"high_condition_semi_permanent_wet\" : (classification_all[\"level3\"].dims, high_condition_semi_permanent_wet)},\n",
    "    coords=classification_all.coords)"
   ]
  },
  {
   "cell_type": "code",
   "execution_count": null,
   "metadata": {},
   "outputs": [],
   "source": [
    "pyplot.imshow(high_condition_semi_permanent_wet[0])"
   ]
  },
  {
   "cell_type": "code",
   "execution_count": null,
   "metadata": {},
   "outputs": [],
   "source": [
    "# Export data as a GeoTiff\n",
    "for i, year in enumerate(classification_years):\n",
    "    cog.write_cog(high_condition_semi_permanent_wet_xarray[\"high_condition_semi_permanent_wet\"].isel(time=i).astype(numpy.uint8),\n",
    "                  os.path.join(output_dir, '{}-high_condition_semi_permanent_wet_{}.tif'.format(site_name.replace(\" \",\"_\"), year)))"
   ]
  },
  {
   "cell_type": "markdown",
   "metadata": {},
   "source": [
    "### State - High condition wetland\n",
    "#### Expression - High condition temporary wet\n",
    "\n",
    "This state is similar to the reference state and has low numbers of invasive fish species, such as carp and Gambusia, and may support a high diversity of native small-bodied fish. Many of the high condition wetlands at GKP display evidence of extended occupation and use by Aboriginal people (for 3000–4000 years). This state may have low or high cover of vegetation under wet expressions and, when deeply inundated, this state may have low plant diversity. Wet expressions generally have low levels of turbidity. Few exotic plants species are present in these wetlands and they may have a high cover and richness of terrestrial plant species when shallow or dry (mudflat). Grazing by native and introduced herbivores may reduce the cover and species richness of plants in the dry expression (e.g. through preferential grass removal) – this is the case for all states. Some encroachment of E. camadulensis may be observed on the margins of these wetlands.     \n",
    "\n",
    "|   |   |\n",
    "|---|---|\n",
    "| NAV|124|\n",
    "| Water Persistence|1-3 months|\n",
    "| Water Seasonality|temporary (weeks to months every five -nine years)|\n",
    "| No layers|2| \n",
    " \n",
    " \n",
    "\n",
    "|LAYER|AQUATIC PLANT LIFEFORM|AQUATIC PLANT PHENOLOGY|WATER DEPTH|WATER MOVEMENT|WATER SEDIMENT/ TURBIDITY|PH|BIOMASS Mgha|\n",
    "|----------|--|----------|---------|----------|---------- |----------|-------------|\n",
    "|1|Graminoids|Evergreen|<2m|Flows and stands as it contracts|low turbidity|no data|no data|\n",
    "|2|Floating herbs|Evergreen|||||||"
   ]
  },
  {
   "cell_type": "code",
   "execution_count": null,
   "metadata": {},
   "outputs": [],
   "source": [
    "high_condition_temporary_wet = numpy.where((classification_all[\"level3\"].values == 124) &\n",
    "                               (classification_all[\"waterper_wat_cat_l4d\"].values ==16) &\n",
    "                               (classification_all[\"watersea_veg_cat_l4a_au\"].values ==2), 1, 0)"
   ]
  },
  {
   "cell_type": "code",
   "execution_count": null,
   "metadata": {},
   "outputs": [],
   "source": [
    " # Convert to xarray\n",
    "high_condition_temporary_wet_xarray = xarray.Dataset(\n",
    "    {\"high_condition_temporary_wet\" : (classification_all[\"level3\"].dims, high_condition_temporary_wet)},\n",
    "    coords=classification_all.coords)"
   ]
  },
  {
   "cell_type": "code",
   "execution_count": null,
   "metadata": {},
   "outputs": [],
   "source": [
    "pyplot.imshow(high_condition_temporary_wet[0])"
   ]
  },
  {
   "cell_type": "code",
   "execution_count": null,
   "metadata": {},
   "outputs": [],
   "source": [
    "# Export data as a GeoTiff\n",
    "for i, year in enumerate(classification_years):\n",
    "    cog.write_cog(high_condition_temporary_wet_xarray[\"high_condition_temporary_wet\"].isel(time=i).astype(numpy.uint8),\n",
    "                  os.path.join(output_dir, '{}-high_condition_temporary_wet_{}.tif'.format(site_name.replace(\" \",\"_\"), year)))"
   ]
  },
  {
   "cell_type": "markdown",
   "metadata": {},
   "source": [
    "### State - High condition wetland\n",
    "#### Expression - High condition mudflat\n",
    "\n",
    "This state is similar to the reference state and has low numbers of invasive fish species, such as carp and Gambusia, and may support a high diversity of native small-bodied fish. Many of the high condition wetlands at GKP display evidence of extended occupation and use by Aboriginal people (for 3000–4000 years). This state may have low or high cover of vegetation under wet expressions and, when deeply inundated, this state may have low plant diversity. Wet expressions generally have low levels of turbidity. Few exotic plants species are present in these wetlands and they may have a high cover and richness of terrestrial plant species when shallow or dry (mudflat). Grazing by native and introduced herbivores may reduce the cover and species richness of plants in the dry expression (e.g. through preferential grass removal) – this is the case for all states. Some encroachment of E. camadulensis may be observed on the margins of these wetlands.     \n",
    "\n",
    "|   |   |\n",
    "|---|---|\n",
    "| NTV|112|\n",
    "| Water Persistence|na|\n",
    "| Water seasonality|na|\n",
    "| No layers|1| \n",
    " \n",
    " \n",
    "\n",
    "|LAYER|LIFEFORM|AQU LIFEFORM|AV COVER (%)|AV HEIGHT (m)|LEAF TYPE|PHENOLOGY|SPATIAL DIST.|DOMINANT SPECIES|BIOMASS Mgha|\n",
    "|----------|--|----------|---------|----------|---------- |----------|-------------|-----------------------------|--|\n",
    "|1|Herbaceous|na|xxxxx|0.05-0.25m|Monocot and Broadleaf|Evergreen|Continous|XXXXXXX|no data|\n"
   ]
  },
  {
   "cell_type": "code",
   "execution_count": null,
   "metadata": {},
   "outputs": [],
   "source": [
    "high_condition_mudflat = numpy.where((classification_all[\"level3\"].values == 112) &\n",
    "                      (classification_all[\"canopyco_veg_con\"].values >=79 ) & (classification_all[\"canopyco_veg_con\"].values <= 81), 1, 0)"
   ]
  },
  {
   "cell_type": "code",
   "execution_count": null,
   "metadata": {},
   "outputs": [],
   "source": [
    " # Convert to xarray\n",
    "high_condition_mudflat_xarray = xarray.Dataset(\n",
    "    {\"high_condition_mudflat\" : (classification_all[\"level3\"].dims, high_condition_mudflat)},\n",
    "    coords=classification_all.coords)"
   ]
  },
  {
   "cell_type": "code",
   "execution_count": null,
   "metadata": {},
   "outputs": [],
   "source": [
    "pyplot.imshow(high_condition_mudflat[0])"
   ]
  },
  {
   "cell_type": "code",
   "execution_count": null,
   "metadata": {},
   "outputs": [],
   "source": [
    "# Export data as a GeoTiff\n",
    "for i, year in enumerate(classification_years):\n",
    "    cog.write_cog(high_condition_mudflat_xarray[\"high_condition_mudflat\"].isel(time=i).astype(numpy.uint8),\n",
    "                  os.path.join(output_dir, '{}-high_condition_mudflat_{}.tif'.format(site_name.replace(\" \",\"_\"), year)))"
   ]
  },
  {
   "cell_type": "markdown",
   "metadata": {},
   "source": [
    "### State - Moderate condition wetlands\n",
    "#### Expression - Moderate condition permanent wet\n",
    "\n",
    "This state has a moderate species richness and cover of macrophytes and perennial species in the dry expressions if slower dry down occurs in spring. If water recession occurs in summer, water temperature and turbidity increase (this may be due to carp activity), leading to loss of macrophyte species. These conditions may also promote algae growth leading to low light penetration and low biological activity in the water column. Rates of inundation are likely to be lower than high condition states and encroachment by E. camadulensis may be more extensive in water depths of 2 m or lower. High waterbird diversity and the presence of colonial breeding can be observed in this state, and numbers of invasive carp may be kept low when bird numbers are high. This state may have high or low cover of vegetation in the wet expressions. The main differences between this state and the high condition state are the lower species richness and cover of plant species, either in the wet or dry expressions – or both – from time to time.   \n",
    "\n",
    "|   |   |\n",
    "|---|---|\n",
    "| NAV|124|\n",
    "| Water Persistence|>9 months|\n",
    "| Water Seasonality|semi-permanent|\n",
    "| No layers|2| \n",
    " \n",
    " \n",
    "\n",
    "|LAYER|AQUATIC PLANT LIFEFORM|AQUATIC PLANT PHENOLOGY|WATER DEPTH|WATER MOVEMENT|WATER SEDIMENT/ TURBIDITY|PH|BIOMASS Mgha|\n",
    "|----------|--|----------|---------|----------|---------- |----------|-------------|\n",
    "|1|Rooted forbs|Evergreen|>2m|Flows and stands as it contracts|Low turbidity|no data|no data|\n",
    "|2|Floating herbs|Evergreen|||||||"
   ]
  },
  {
   "cell_type": "code",
   "execution_count": null,
   "metadata": {},
   "outputs": [],
   "source": [
    "moderate_condition_permanent_wet = numpy.where((classification_all[\"level3\"].values == 124) &\n",
    "                               (classification_all[\"waterper_wat_cat_l4d\"].values ==12) &\n",
    "                               (classification_all[\"watersea_veg_cat_l4a_au\"].values ==1), 1, 0)"
   ]
  },
  {
   "cell_type": "code",
   "execution_count": null,
   "metadata": {},
   "outputs": [],
   "source": [
    " # Convert to xarray\n",
    "moderate_condition_permanent_wet_xarray = xarray.Dataset(\n",
    "    {\"moderate_condition_permanent_wet\" : (classification_all[\"level3\"].dims, moderate_condition_permanent_wet)},\n",
    "    coords=classification_all.coords)"
   ]
  },
  {
   "cell_type": "code",
   "execution_count": null,
   "metadata": {},
   "outputs": [],
   "source": [
    "pyplot.imshow(moderate_condition_permanent_wet[0])"
   ]
  },
  {
   "cell_type": "code",
   "execution_count": null,
   "metadata": {},
   "outputs": [],
   "source": [
    "# Export data as a GeoTiff\n",
    "for i, year in enumerate(classification_years):\n",
    "    cog.write_cog(moderate_condition_permanent_wet_xarray[\"moderate_condition_permanent_wet\"].isel(time=i).astype(numpy.uint8),\n",
    "                  os.path.join(output_dir, '{}-moderate_condition_permanent_wet_{}.tif'.format(site_name.replace(\" \",\"_\"), year)))"
   ]
  },
  {
   "cell_type": "markdown",
   "metadata": {},
   "source": [
    "### State - Moderate condition wetland\n",
    "#### Expression - Moderate condition semi-permanent wet\n",
    "\n",
    "This state has a moderate species richness and cover of macrophytes and perennial species in the dry expressions if slower dry down occurs in spring. If water recession occurs in summer, water temperature and turbidity increase (this may be due to carp activity), leading to loss of macrophyte species. These conditions may also promote algae growth leading to low light penetration and low biological activity in the water column. Rates of inundation are likely to be lower than high condition states and encroachment by E. camadulensis may be more extensive in water depths of 2 m or lower. High waterbird diversity and the presence of colonial breeding can be observed in this state, and numbers of invasive carp may be kept low when bird numbers are high. This state may have high or low cover of vegetation in the wet expressions. The main differences between this state and the high condition state are the lower species richness and cover of plant species, either in the wet or dry expressions – or both – from time to time.     \n",
    "\n",
    "|   |   |\n",
    "|---|---|\n",
    "| NAV|124|\n",
    "| Water Persistence|>9 months|\n",
    "| Water Seasonality|semi-permanent|\n",
    "| No layers|2| \n",
    " \n",
    " \n",
    "\n",
    "|LAYER|AQUATIC PLANT LIFEFORM|AQUATIC PLANT PHENOLOGY|WATER DEPTH|WATER MOVEMENT|WATER SEDIMENT/ TURBIDITY|PH|BIOMASS Mgha|\n",
    "|----------|--|----------|---------|----------|---------- |----------|-------------|\n",
    "|1|Rooted forbs|Evergreen|>2m|Flows and stands as it contracts|low turbidity|no data|no data|\n",
    "|2|Floating herbs|Evergreen|||||||"
   ]
  },
  {
   "cell_type": "code",
   "execution_count": null,
   "metadata": {},
   "outputs": [],
   "source": [
    "moderate_condition_semi_permanent_wet = numpy.where((classification_all[\"level3\"].values == 124) &\n",
    "                               (classification_all[\"waterper_wat_cat_l4d\"].values ==12) &\n",
    "                               (classification_all[\"watersea_veg_cat_l4a_au\"].values ==1), 1, 0)"
   ]
  },
  {
   "cell_type": "code",
   "execution_count": null,
   "metadata": {},
   "outputs": [],
   "source": [
    " # Convert to xarray\n",
    "moderate_condition_semi_permanent_wet_xarray = xarray.Dataset(\n",
    "    {\"moderate_condition_semi_permanent_wet\" : (classification_all[\"level3\"].dims, moderate_condition_semi_permanent_wet)},\n",
    "    coords=classification_all.coords)"
   ]
  },
  {
   "cell_type": "code",
   "execution_count": null,
   "metadata": {},
   "outputs": [],
   "source": [
    "pyplot.imshow(moderate_condition_semi_permanent_wet[0])"
   ]
  },
  {
   "cell_type": "code",
   "execution_count": null,
   "metadata": {},
   "outputs": [],
   "source": [
    "# Export data as a GeoTiff\n",
    "for i, year in enumerate(classification_years):\n",
    "    cog.write_cog(moderate_condition_semi_permanent_wet_xarray[\"moderate_condition_semi_permanent_wet\"].isel(time=i).astype(numpy.uint8),\n",
    "                  os.path.join(output_dir, '{}-moderate_condition_permanent_wet_{}.tif'.format(site_name.replace(\" \",\"_\"), year)))"
   ]
  },
  {
   "cell_type": "markdown",
   "metadata": {},
   "source": [
    "### State - Moderate condition wetland\n",
    "#### Expression - Moderate condition temporary wet\n",
    "\n",
    "This state has a moderate species richness and cover of macrophytes and perennial species in the dry expressions if slower dry down occurs in spring. If water recession occurs in summer, water temperature and turbidity increase (this may be due to carp activity), leading to loss of macrophyte species. These conditions may also promote algae growth leading to low light penetration and low biological activity in the water column. Rates of inundation are likely to be lower than high condition states and encroachment by E. camadulensis may be more extensive in water depths of 2 m or lower. High waterbird diversity and the presence of colonial breeding can be observed in this state, and numbers of invasive carp may be kept low when bird numbers are high. This state may have high or low cover of vegetation in the wet expressions. The main differences between this state and the high condition state are the lower species richness and cover of plant species, either in the wet or dry expressions – or both – from time to time.   \n",
    "\n",
    "|   |   |\n",
    "|---|---|\n",
    "| NAV|124|\n",
    "| Water Persistence|1-3 months|\n",
    "| Water Seasonality|temporary (weeks to months every five -nine years)|\n",
    "| No layers|2| \n",
    " \n",
    " \n",
    "\n",
    "|LAYER|AQUATIC PLANT LIFEFORM|AQUATIC PLANT PHENOLOGY|WATER DEPTH|WATER MOVEMENT|WATER SEDIMENT/ TURBIDITY|PH|BIOMASS Mgha|\n",
    "|----------|--|----------|---------|----------|---------- |----------|-------------|\n",
    "|1|Graminoids|Evergreen|<2m|Flows and stands as it contracts|low turbidity|no data|no data|\n",
    "|2|Floating herbs|Evergreen|||||||"
   ]
  },
  {
   "cell_type": "code",
   "execution_count": null,
   "metadata": {},
   "outputs": [],
   "source": [
    "moderate_condition_temporary_wet = numpy.where((classification_all[\"level3\"].values == 124) &\n",
    "                               (classification_all[\"waterper_wat_cat_l4d\"].values ==16) &\n",
    "                               (classification_all[\"watersea_veg_cat_l4a_au\"].values ==2), 1, 0)"
   ]
  },
  {
   "cell_type": "code",
   "execution_count": null,
   "metadata": {},
   "outputs": [],
   "source": [
    " # Convert to xarray\n",
    "moderate_condition_temporary_wet_xarray = xarray.Dataset(\n",
    "    {\"moderate_condition_temporary_wet\" : (classification_all[\"level3\"].dims, moderate_condition_temporary_wet)},\n",
    "    coords=classification_all.coords)"
   ]
  },
  {
   "cell_type": "code",
   "execution_count": null,
   "metadata": {},
   "outputs": [],
   "source": [
    "pyplot.imshow(moderate_condition_temporary_wet[0])"
   ]
  },
  {
   "cell_type": "code",
   "execution_count": null,
   "metadata": {},
   "outputs": [],
   "source": [
    "# Export data as a GeoTiff\n",
    "for i, year in enumerate(classification_years):\n",
    "    cog.write_cog(moderate_condition_temporary_wet_xarray[\"moderate_condition_temporary_wet\"].isel(time=i).astype(numpy.uint8),\n",
    "                  os.path.join(output_dir, '{}-moderate_condition_temporary_wet_{}.tif'.format(site_name.replace(\" \",\"_\"), year)))"
   ]
  },
  {
   "cell_type": "markdown",
   "metadata": {},
   "source": [
    "### State - Moderate condition wetland\n",
    "#### Expression - Moderate condition mudflat \n",
    "\n",
    "This state has a moderate species richness and cover of macrophytes and perennial species in the dry expressions if slower dry down occurs in spring. If water recession occurs in summer, water temperature and turbidity increase (this may be due to carp activity), leading to loss of macrophyte species. These conditions may also promote algae growth leading to low light penetration and low biological activity in the water column. Rates of inundation are likely to be lower than high condition states and encroachment by E. camadulensis may be more extensive in water depths of 2 m or lower. High waterbird diversity and the presence of colonial breeding can be observed in this state, and numbers of invasive carp may be kept low when bird numbers are high. This state may have high or low cover of vegetation in the wet expressions. The main differences between this state and the high condition state are the lower species richness and cover of plant species, either in the wet or dry expressions – or both – from time to time.      \n",
    "\n",
    "|   |   |\n",
    "|---|---|\n",
    "| NTV|112|\n",
    "| Water Persistence|na|\n",
    "| Water seasonality|na|\n",
    "| No layers|1| \n",
    " \n",
    " \n",
    "\n",
    "|LAYER|LIFEFORM|AQU LIFEFORM|AV COVER (%)|AV HEIGHT (m)|LEAF TYPE|PHENOLOGY|SPATIAL DIST.|DOMINANT SPECIES|BIOMASS Mgha|\n",
    "|----------|--|----------|---------|----------|---------- |----------|-------------|-----------------------------|--|\n",
    "|1|Herbaceous|na|xxxxx|0.05-0.25m|Monocot and Broadleaf|Evergreen|Continous|XXXXXXX|no data|"
   ]
  },
  {
   "cell_type": "code",
   "execution_count": null,
   "metadata": {},
   "outputs": [],
   "source": [
    "moderate_condition_mudflat = numpy.where((classification_all[\"level3\"].values == 112) &\n",
    "                      (classification_all[\"canopyco_veg_con\"].values >=79 ) & (classification_all[\"canopyco_veg_con\"].values <= 81), 1, 0)"
   ]
  },
  {
   "cell_type": "code",
   "execution_count": null,
   "metadata": {},
   "outputs": [],
   "source": [
    " # Convert to xarray\n",
    "moderate_condition_mudflat_xarray = xarray.Dataset(\n",
    "    {\"moderate_condition_mudflat\" : (classification_all[\"level3\"].dims, moderate_condition_mudflat)},\n",
    "    coords=classification_all.coords)"
   ]
  },
  {
   "cell_type": "code",
   "execution_count": null,
   "metadata": {},
   "outputs": [],
   "source": [
    "pyplot.imshow(moderate_condition_mudflat[0])"
   ]
  },
  {
   "cell_type": "code",
   "execution_count": null,
   "metadata": {},
   "outputs": [],
   "source": [
    "# Export data as a GeoTiff\n",
    "for i, year in enumerate(classification_years):\n",
    "    cog.write_cog(moderate_condition_mudflat_xarray[\"moderate_condition_mudflat\"].isel(time=i).astype(numpy.uint8),\n",
    "                  os.path.join(output_dir, '{}-moderate_condition_mudflat_{}.tif'.format(site_name.replace(\" \",\"_\"), year)))"
   ]
  },
  {
   "cell_type": "markdown",
   "metadata": {},
   "source": [
    "### State - Moderate condition wetland\n",
    "#### Expression - Dirt \n",
    "\n",
    "This state has a moderate species richness and cover of macrophytes and perennial species in the dry expressions if slower dry down occurs in spring. If water recession occurs in summer, water temperature and turbidity increase (this may be due to carp activity), leading to loss of macrophyte species. These conditions may also promote algae growth leading to low light penetration and low biological activity in the water column. Rates of inundation are likely to be lower than high condition states and encroachment by E. camadulensis may be more extensive in water depths of 2 m or lower. High waterbird diversity and the presence of colonial breeding can be observed in this state, and numbers of invasive carp may be kept low when bird numbers are high. This state may have high or low cover of vegetation in the wet expressions. The main differences between this state and the high condition state are the lower species richness and cover of plant species, either in the wet or dry expressions – or both – from time to time.      \n",
    "\n",
    "|   |   |\n",
    "|---|---|\n",
    "| SVNBS|216|\n",
    "| Water Persistence|na|\n",
    "| Water seasonality|na|\n",
    "| No layers|0| \n",
    " \n",
    " \n",
    "\n",
    "|LAYER|LIFEFORM|AQU LIFEFORM|AV COVER (%)|AV HEIGHT (m)|LEAF TYPE|PHENOLOGY|SPATIAL DIST.|DOMINANT SPECIES|BIOMASS Mgha|\n",
    "|----------|--|----------|---------|----------|---------- |----------|-------------|-----------------------------|--|\n",
    "|1|na|na|na|na|na|na|na|na|na|\n"
   ]
  },
  {
   "cell_type": "code",
   "execution_count": null,
   "metadata": {},
   "outputs": [],
   "source": [
    "dirt = numpy.where((classification_all[\"level3\"].values == 216) &\n",
    "                      (classification_all[\"canopyco_veg_con\"].values ==0 ), 1, 0)"
   ]
  },
  {
   "cell_type": "code",
   "execution_count": null,
   "metadata": {},
   "outputs": [],
   "source": [
    " # Convert to xarray\n",
    "dirt_xarray = xarray.Dataset(\n",
    "    {\"dirt\" : (classification_all[\"level3\"].dims, dirt)},\n",
    "    coords=classification_all.coords)"
   ]
  },
  {
   "cell_type": "code",
   "execution_count": null,
   "metadata": {},
   "outputs": [],
   "source": [
    "pyplot.imshow(dirt[0])"
   ]
  },
  {
   "cell_type": "code",
   "execution_count": null,
   "metadata": {},
   "outputs": [],
   "source": [
    "# Export data as a GeoTiff\n",
    "for i, year in enumerate(classification_years):\n",
    "    cog.write_cog(dirt_xarray[\"dirt\"].isel(time=i).astype(numpy.uint8),\n",
    "                  os.path.join(output_dir, '{}-dirt_{}.tif'.format(site_name.replace(\" \",\"_\"), year)))"
   ]
  },
  {
   "cell_type": "markdown",
   "metadata": {},
   "source": [
    "### State - Low condition wetland\n",
    "#### Expression - Low condition wet\n",
    "\n",
    "Similar to the ‘moderate condition wetlands’ modified state, this state may have low or high cover of vegetation. However, key differences in the wet expression include high turbidity (especially if water is deep), with few to no macrophytes and occasional (low cover) hardy perennial plant species that can float above the turbid water (‘barren wetland’). Light penetration into the water column may also be reduced by the presence of algae and tannins, and pH is usually slightly acidic (5–6). If the wet expression is shallow, then macrophytes may be present, despite the turbid water column. Carp are abundant in this expression. High numbers of exotic plant species and/or terrestrial colonisers are often observed in the dry expression. The floristic richness of native species in the dry expression is low. In the wet expression there may be moderate diversity of fish and macroinvertebrates but no breeding evident and some species guilds will be missing.    \n",
    "\n",
    "|   |   |\n",
    "|---|---|\n",
    "| NAV|124|\n",
    "| Water Persistence|> or < 9 months|\n",
    "| Water Seasonality|permanent to temporary|\n",
    "| No layers|1| \n",
    " \n",
    " \n",
    "\n",
    "|LAYER|AQUATIC PLANT LIFEFORM|AQUATIC PLANT PHENOLOGY|WATER DEPTH|WATER MOVEMENT|WATER SEDIMENT/ TURBIDITY|PH|BIOMASS Mgha|\n",
    "|----------|--|----------|---------|----------|---------- |----------|-------------|\n",
    "|1|Floating herbs|Evergreen|<2m|Flows and stands as it contracts|high turbidity|no data|no data|"
   ]
  },
  {
   "cell_type": "code",
   "execution_count": null,
   "metadata": {},
   "outputs": [],
   "source": [
    "low_condition_wet = numpy.where((classification_all[\"level3\"].values == 124) &\n",
    "                               (classification_all[\"waterper_wat_cat_l4d\"].values ==16) &  (classification_all[\"waterper_wat_cat_l4d\"].values ==15) &  (classification_all[\"waterper_wat_cat_l4d\"].values ==13) &  (classification_all[\"waterper_wat_cat_l4d\"].values ==12) &\n",
    "                               (classification_all[\"watersea_veg_cat_l4a_au\"].values ==1) &  (classification_all[\"watersea_veg_cat_l4a_au\"].values ==2), 1, 0)"
   ]
  },
  {
   "cell_type": "code",
   "execution_count": null,
   "metadata": {},
   "outputs": [],
   "source": [
    " # Convert to xarray\n",
    "low_condition_wet_xarray = xarray.Dataset(\n",
    "    {\"low_condition_wet\" : (classification_all[\"level3\"].dims, low_condition_wet)},\n",
    "    coords=classification_all.coords)"
   ]
  },
  {
   "cell_type": "code",
   "execution_count": null,
   "metadata": {},
   "outputs": [],
   "source": [
    "pyplot.imshow(low_condition_wet[0])"
   ]
  },
  {
   "cell_type": "code",
   "execution_count": null,
   "metadata": {},
   "outputs": [],
   "source": [
    "# Export data as a GeoTiff\n",
    "for i, year in enumerate(classification_years):\n",
    "    cog.write_cog(low_condition_wet_xarray[\"low_condition_wet\"].isel(time=i).astype(numpy.uint8),\n",
    "                  os.path.join(output_dir, '{}-low_condition_wet_{}.tif'.format(site_name.replace(\" \",\"_\"), year)))"
   ]
  },
  {
   "cell_type": "markdown",
   "metadata": {},
   "source": [
    "### State - Low condition wetland\n",
    "#### Expression - Low condition mudflat \n",
    "\n",
    "Similar to the ‘moderate condition wetlands’ modified state, this state may have low or high cover of vegetation. However, key differences in the wet expression include high turbidity (especially if water is deep), with few to no macrophytes and occasional (low cover) hardy perennial plant species that can float above the turbid water (‘barren wetland’). Light penetration into the water column may also be reduced by the presence of algae and tannins, and pH is usually slightly acidic (5–6). If the wet expression is shallow, then macrophytes may be present, despite the turbid water column. Carp are abundant in this expression. High numbers of exotic plant species and/or terrestrial colonisers are often observed in the dry expression. The floristic richness of native species in the dry expression is low. In the wet expression there may be moderate diversity of fish and macroinvertebrates but no breeding evident and some species guilds will be missing.     \n",
    "\n",
    "|   |   |\n",
    "|---|---|\n",
    "| NTV|112|\n",
    "| Water Persistence|na|\n",
    "| Water seasonality|na|\n",
    "| No layers|1| \n",
    " \n",
    " \n",
    "\n",
    "|LAYER|LIFEFORM|AQU LIFEFORM|AV COVER (%)|AV HEIGHT (m)|LEAF TYPE|PHENOLOGY|SPATIAL DIST.|DOMINANT SPECIES|BIOMASS Mgha|\n",
    "|----------|--|----------|---------|----------|---------- |----------|-------------|-----------------------------|--|\n",
    "|1|Herbaceous|na|xxxxx|0.05-0.25m|Monocot and Broadleaf|Evergreen|Continous|XXXXXXX|no data|"
   ]
  },
  {
   "cell_type": "code",
   "execution_count": null,
   "metadata": {},
   "outputs": [],
   "source": [
    "low_condition_mudflat = numpy.where((classification_all[\"level3\"].values == 112) &\n",
    "                      (classification_all[\"canopyco_veg_con\"].values >=79 ) & (classification_all[\"canopyco_veg_con\"].values <= 81), 1, 0)"
   ]
  },
  {
   "cell_type": "code",
   "execution_count": null,
   "metadata": {},
   "outputs": [],
   "source": [
    " # Convert to xarray\n",
    "low_condition_mudflat_xarray = xarray.Dataset(\n",
    "    {\"low_condition_mudflat\" : (classification_all[\"level3\"].dims, low_condition_mudflat)},\n",
    "    coords=classification_all.coords)"
   ]
  },
  {
   "cell_type": "code",
   "execution_count": null,
   "metadata": {},
   "outputs": [],
   "source": [
    "pyplot.imshow(low_condition_mudflat[0])"
   ]
  },
  {
   "cell_type": "code",
   "execution_count": null,
   "metadata": {},
   "outputs": [],
   "source": [
    "# Export data as a GeoTiff\n",
    "for i, year in enumerate(classification_years):\n",
    "    cog.write_cog(low_condition_mudflat_xarray[\"low_condition_mudflat\"].isel(time=i).astype(numpy.uint8),\n",
    "                  os.path.join(output_dir, '{}-low_condition_mudflat_{}.tif'.format(site_name.replace(\" \",\"_\"), year)))"
   ]
  },
  {
   "cell_type": "markdown",
   "metadata": {},
   "source": [
    "## AEM: Lowland streams\n",
    "\n",
    "The dynamic reference state model  for aquatic systems (Figure 24) is based on lowland streams, defined as river systems below 300 m in altitude. These systems are typically allogenic, originating in high-rainfall upland areas, and most of the river flowing through semi-arid to arid landscapes with minimal additional inputs. Lowland streams often experience high evaporation loss, evapotranspiration and groundwater recharge (Thoms and Sheldon, 2000). The floodplains at GKP have a warm, semi-arid climate with hot summers and low annual rainfall (<250 mm/year). Mean daily evaporation for water bodies within this region exceed the mean monthly rainfall, especially during summer (MDBA, 2012c). Historically, flows in the main channel of the River Murray at GKP were high in winter and spring due to seasonal rainfall in the upper catchments on the eastern side of the Great Dividing Range.  \n",
    "\n",
    "<img src=\"Illustrations/Chenopods_shrublands2.jpg\" style=\"width:300px;height:200px\"/>\n",
    "https://australia.livingearth.online/themes/australian-ecosystems/lowland-streams/anabranches-wet/\n",
    "\n",
    "### State - Reference\n",
    "#### Expression - Primary river channel\n",
    "\n",
    "The River Murray (see Figure 25) is a deep-flowing permanent river, both prior to regulation and after. Historically, flows ranged from 35,000–40,000 ML/day during spring, and 5,000–10,000 ML/day during summer (based on MDBA modelled reference flows). The River Murray is typical of many lowland rivers, with a continuous definable bank, no riffle areas, deep water and low water velocity. Water quality in the River Murray is generally very good, and rarely exceeds ANZECC & ARMCANZ 2000 guidelines; however, as with many lowland rivers, the River Murray may endure algal blooms (cyanobacteria) when suitable conditions prevail. Although uncommon, blackwater events may also occur – typically when high flows liberate carbon from the floodplain during warmer periods, elevating concentrations in the river and leading to increased bacterial activity in the water column. In extreme cases, this can lead to fish kills from lack of dissolved oxygen.  \n",
    "\n",
    "\n",
    "|   |   |\n",
    "|---|---|\n",
    "| NAW|220|\n",
    "| Water Persistence|>9 months|\n",
    "| Water seasonality|permanent|\n",
    "| No layers|na| \n",
    " \n",
    "  \n",
    "\n",
    "|LAYER|AQUATIC PLANT LIFEFORM|AQUATIC PLANT PHENOLOGY|WATER DEPTH|WATER MOVEMENT|WATER SEDIMENT/ TURBIDITY|PH|BIOMASS Mgha|\n",
    "|----------|--|----------|---------|----------|---------- |----------|-------------|\n",
    "|1|na|na|na|na|na|na|na|na|"
   ]
  },
  {
   "cell_type": "code",
   "execution_count": null,
   "metadata": {},
   "outputs": [],
   "source": [
    "primary_river_channel = numpy.where((classification_all[\"level3\"].values == 220) &\n",
    "                                (classification_all[\"waterper_wat_cat_l4d\"].values ==12) &\n",
    "                               (classification_all[\"watersea_veg_cat_l4a_au\"].values ==1) &\n",
    "                              (classification_all[\"waterstt_wat_cat_l4a\"].values == 1), 1, 0)"
   ]
  },
  {
   "cell_type": "code",
   "execution_count": null,
   "metadata": {},
   "outputs": [],
   "source": [
    "# Convert to xarray\n",
    "primary_river_channel_xarray = xarray.Dataset(\n",
    "    {\"primary_river_channel\" : (classification_all[\"level3\"].dims, primary_river_channel)},\n",
    "    coords=classification_all.coords)"
   ]
  },
  {
   "cell_type": "code",
   "execution_count": null,
   "metadata": {},
   "outputs": [],
   "source": [
    "pyplot.imshow(primary_river_channel[0])"
   ]
  },
  {
   "cell_type": "code",
   "execution_count": null,
   "metadata": {},
   "outputs": [],
   "source": [
    "# Export data as a GeoTiff\n",
    "for i, year in enumerate(classification_years):\n",
    "    cog.write_cog(primary_river_channel_xarray[\"primary_river_channel\"].isel(time=i).astype(numpy.uint8),\n",
    "                  os.path.join(output_dir, '{}-primary_river_channel_{}.tif'.format(site_name.replace(\" \",\"_\"), year)))"
   ]
  },
  {
   "cell_type": "markdown",
   "metadata": {},
   "source": [
    "### State - Reference\n",
    "#### Expression - Anabranches wet\n",
    "\n",
    "Similar to the main river channel, anabranches have a defined and continuous bank. Water begins to enter the forest when the flows in the main channel are in the 14,000 ML/day range and filling the wetlands in the lower parts of the forest resulting in the wet expression of the anabranch. During the dry months, when flows in the main channel drop below the overbank flow threshold, the anabranches start to dry out, except in reaches with a shallow water table, resulting in the dry-moist expression. Water in the anabranches are usually high in tannins and dissolved organic carbon from leaf litter. Low flows are not able to disperse it, resulting in blackwater, although negative impacts are limited as the riverine fish do not typically use these areas as habitat.   \n",
    "\n",
    "\n",
    "|   |   |\n",
    "|---|---|\n",
    "| NAW|220|\n",
    "| Water Persistence|4-6 months|\n",
    "| Water seasonality|semi-permanent|\n",
    "| No layers|0| \n",
    " \n",
    "  \n",
    "\n",
    "|LAYER|AQUATIC PLANT LIFEFORM|AQUATIC PLANT PHENOLOGY|WATER DEPTH|WATER MOVEMENT|WATER SEDIMENT/ TURBIDITY|PH|BIOMASS Mgha|\n",
    "|----------|--|----------|---------|----------|---------- |----------|-------------|\n",
    "|1|na|na|shallow|flowing|Aug-Sep low turbidity; clearing later|na|na|"
   ]
  },
  {
   "cell_type": "code",
   "execution_count": null,
   "metadata": {},
   "outputs": [],
   "source": [
    "anabranch_wet = numpy.where((classification_all[\"level3\"].values == 220) &\n",
    "                                (classification_all[\"waterper_wat_cat_l4d\"].values ==15) &\n",
    "                               (classification_all[\"watersea_veg_cat_l4a_au\"].values ==1), 1, 0)    "
   ]
  },
  {
   "cell_type": "code",
   "execution_count": null,
   "metadata": {},
   "outputs": [],
   "source": [
    "# Convert to xarray\n",
    "anabranch_wet_xarray = xarray.Dataset(\n",
    "    {\"anabranch_wet\" : (classification_all[\"level3\"].dims, anabranch_wet)},\n",
    "    coords=classification_all.coords)"
   ]
  },
  {
   "cell_type": "code",
   "execution_count": null,
   "metadata": {},
   "outputs": [],
   "source": [
    "pyplot.imshow(anabranch_wet[0])"
   ]
  },
  {
   "cell_type": "code",
   "execution_count": null,
   "metadata": {},
   "outputs": [],
   "source": [
    "# Export data as a GeoTiff\n",
    "for i, year in enumerate(classification_years):\n",
    "    cog.write_cog(anabranch_wet_xarray[\"anabranch_wet\"].isel(time=i).astype(numpy.uint8),\n",
    "                  os.path.join(output_dir, '{}-anabranch_wet_{}.tif'.format(site_name.replace(\" \",\"_\"), year)))"
   ]
  },
  {
   "cell_type": "markdown",
   "metadata": {},
   "source": [
    "## State - Reference\n",
    "#### Expression - Anabranches dry-moist\n",
    "\n",
    "Similar to the main river channel, anabranches have a defined and continuous bank. Water begins to enter the forest when the flows in the main channel are in the 14,000 ML/day range and filling the wetlands in the lower parts of the forest resulting in the wet expression of the anabranch. During the dry months, when flows in the main channel drop below the overbank flow threshold, the anabranches start to dry out, except in reaches with a shallow water table, resulting in the dry-moist expression. Water in the anabranches are usually high in tannins and dissolved organic carbon from leaf litter. Low flows are not able to disperse it, resulting in blackwater, although negative impacts are limited as the riverine fish do not typically use these areas as habitat.   \n",
    "\n",
    "\n",
    "|   |   |\n",
    "|---|---|\n",
    "| NAV|124|\n",
    "| Water Persistence|no data|\n",
    "| Water seasonality|semi-permanent|\n",
    "| No layers|0| \n",
    " \n",
    "  \n",
    "\n",
    "|LAYER|AQUATIC PLANT LIFEFORM|AQUATIC PLANT PHENOLOGY|WATER DEPTH|WATER MOVEMENT|WATER SEDIMENT/ TURBIDITY|PH|BIOMASS Mgha|\n",
    "|----------|--|----------|---------|----------|---------- |----------|-------------|\n",
    "|1|na|na|shallow|standing|XXXXX|na|na|"
   ]
  },
  {
   "cell_type": "code",
   "execution_count": null,
   "metadata": {},
   "outputs": [],
   "source": [
    "anabranch_moist = numpy.where((classification_all[\"level3\"].values == 124) &\n",
    "                               (classification_all[\"watersea_veg_cat_l4a_au\"].values ==1), 1, 0)"
   ]
  },
  {
   "cell_type": "code",
   "execution_count": null,
   "metadata": {},
   "outputs": [],
   "source": [
    "# Convert to xarray\n",
    "anabranch_moist_xarray = xarray.Dataset(\n",
    "    {\"anabranch_moist\" : (classification_all[\"level3\"].dims, anabranch_moist)},\n",
    "    coords=classification_all.coords)"
   ]
  },
  {
   "cell_type": "code",
   "execution_count": null,
   "metadata": {},
   "outputs": [],
   "source": [
    "pyplot.imshow(anabranch_moist[0])"
   ]
  },
  {
   "cell_type": "code",
   "execution_count": null,
   "metadata": {},
   "outputs": [],
   "source": [
    "# Export data as a GeoTiff\n",
    "for i, year in enumerate(classification_years):\n",
    "    cog.write_cog(anabranch_moist_xarray[\"anabranch_moist\"].isel(time=i).astype(numpy.uint8),\n",
    "                  os.path.join(output_dir, '{}-anabranch_moist_{}.tif'.format(site_name.replace(\" \",\"_\"), year)))"
   ]
  },
  {
   "cell_type": "markdown",
   "metadata": {},
   "source": [
    "### State - Reference\n",
    "#### Expression - Anabranches dry \n",
    "\n",
    "Similar to the main river channel, anabranches have a defined and continuous bank. Water begins to enter the forest when the flows in the main channel are in the 14,000 ML/day range and filling the wetlands in the lower parts of the forest resulting in the wet expression of the anabranch. During the dry months, when flows in the main channel drop below the overbank flow threshold, the anabranches start to dry out, except in reaches with a shallow water table, resulting in the dry-moist expression. Water in the anabranches are usually high in tannins and dissolved organic carbon from leaf litter. Low flows are not able to disperse it, resulting in blackwater, although negative impacts are limited as the riverine fish do not typically use these areas as habitat.    \n",
    "\n",
    "|   |   |\n",
    "|---|---|\n",
    "| NTV|112|\n",
    "| Water Persistence|na|\n",
    "| Water seasonality|na|\n",
    "| No layers|1| \n",
    " \n",
    " \n",
    "\n",
    "|LAYER|LIFEFORM|AQU LIFEFORM|AV COVER (%)|AV HEIGHT (m)|LEAF TYPE|PHENOLOGY|SPATIAL DIST.|DOMINANT SPECIES|BIOMASS Mgha|\n",
    "|----------|--|----------|---------|----------|---------- |----------|-------------|-----------------------------|--|\n",
    "|1|Herbaceous|na|xxxxx|0.05-0.25m|Monocot and Broadleaf|Evergreen|Continous|XXXXXXX|no data|"
   ]
  },
  {
   "cell_type": "code",
   "execution_count": null,
   "metadata": {},
   "outputs": [],
   "source": [
    "anabranch_dry = numpy.where((classification_all[\"level3\"].values == 112) &\n",
    "                      (classification_all[\"canopyco_veg_con\"].values >=5 ) & (classification_all[\"canopyco_veg_con\"].values <= 10), 1, 0)"
   ]
  },
  {
   "cell_type": "code",
   "execution_count": null,
   "metadata": {},
   "outputs": [],
   "source": [
    " # Convert to xarray\n",
    "anabranch_dry_xarray = xarray.Dataset(\n",
    "    {\"anabranch_dry\" : (classification_all[\"level3\"].dims, anabranch_dry)},\n",
    "    coords=classification_all.coords)"
   ]
  },
  {
   "cell_type": "code",
   "execution_count": null,
   "metadata": {},
   "outputs": [],
   "source": [
    "pyplot.imshow(anabranch_dry[0])"
   ]
  },
  {
   "cell_type": "code",
   "execution_count": null,
   "metadata": {},
   "outputs": [],
   "source": [
    "# Export data as a GeoTiff\n",
    "for i, year in enumerate(classification_years):\n",
    "    cog.write_cog(anabranch_dry_xarray[\"anabranch_dry\"].isel(time=i).astype(numpy.uint8),\n",
    "                  os.path.join(output_dir, '{}-anabranch_dry_{}.tif'.format(site_name.replace(\" \",\"_\"), year)))"
   ]
  },
  {
   "cell_type": "markdown",
   "metadata": {},
   "source": [
    "### State - Reference\n",
    "#### Expression - Low frequency flood runners wet\n",
    "\n",
    "Wetlands in the GKP are interconnected by a series of flood runners, which receive flows from the larger floods in the main channel (MDBA, 2012c). As expected, these flood runners receive flows at a frequency lower than the anabranches; however, during the large flooding events they will be connected to the anabranches. Low frequency flood runners have a wet expression during the flood event and, in the time following the event, groundwater recharge and evapotranspiration shift it to the dry expression. Since the flood runners are in slightly higher elevation and further away from the main channel, the water table is lower.  \n",
    "\n",
    "|   |   |\n",
    "|---|---|\n",
    "| NAV|124|\n",
    "| Water Persistence|no data|\n",
    "| Water Seasonality|semi-permanent|\n",
    "| No layers|1| \n",
    " \n",
    " \n",
    "\n",
    "|LAYER|AQUATIC PLANT LIFEFORM|AQUATIC PLANT PHENOLOGY|WATER DEPTH|WATER MOVEMENT|WATER SEDIMENT/ TURBIDITY|PH|BIOMASS Mgha|\n",
    "|----------|--|----------|---------|----------|---------- |----------|-------------|\n",
    "|1|xxxxx|na|shallow|flowing|xxxxxx|no data|no data|"
   ]
  },
  {
   "cell_type": "code",
   "execution_count": null,
   "metadata": {},
   "outputs": [],
   "source": [
    "flood_runner_wet = numpy.where((classification_all[\"level3\"].values == 124) &\n",
    "                               (classification_all[\"watersea_veg_cat_l4a_au\"].values ==1), 1, 0)"
   ]
  },
  {
   "cell_type": "code",
   "execution_count": null,
   "metadata": {},
   "outputs": [],
   "source": [
    " # Convert to xarray\n",
    "flood_runner_wet_xarray = xarray.Dataset(\n",
    "    {\"flood_runner_wet\" : (classification_all[\"level3\"].dims, flood_runner_wet)},\n",
    "    coords=classification_all.coords)"
   ]
  },
  {
   "cell_type": "code",
   "execution_count": null,
   "metadata": {},
   "outputs": [],
   "source": [
    "pyplot.imshow(flood_runner_wet[0])"
   ]
  },
  {
   "cell_type": "code",
   "execution_count": null,
   "metadata": {},
   "outputs": [],
   "source": [
    "# Export data as a GeoTiff\n",
    "for i, year in enumerate(classification_years):\n",
    "    cog.write_cog(flood_runner_wet_xarray[\"flood_runner_wet\"].isel(time=i).astype(numpy.uint8),\n",
    "                  os.path.join(output_dir, '{}-flood_runner_wet_{}.tif'.format(site_name.replace(\" \",\"_\"), year)))"
   ]
  },
  {
   "cell_type": "markdown",
   "metadata": {},
   "source": [
    "### State - Reference\n",
    "#### Expression - Low frequency flood runners dry \n",
    "\n",
    "Wetlands in the GKP are interconnected by a series of flood runners, which receive flows from the larger floods in the main channel (MDBA, 2012c). As expected, these flood runners receive flows at a frequency lower than the anabranches; however, during the large flooding events they will be connected to the anabranches. Low frequency flood runners have a wet expression during the flood event and, in the time following the event, groundwater recharge and evapotranspiration shift it to the dry expression. Since the flood runners are in slightly higher elevation and further away from the main channel, the water table is lower.    \n",
    "\n",
    "|   |   |\n",
    "|---|---|\n",
    "| NTV|112|\n",
    "| Water Persistence|na|\n",
    "| Water seasonality|na|\n",
    "| No layers|1| \n",
    " \n",
    " \n",
    "\n",
    "|LAYER|LIFEFORM|AQU LIFEFORM|AV COVER (%)|AV HEIGHT (m)|LEAF TYPE|PHENOLOGY|SPATIAL DIST.|DOMINANT SPECIES|BIOMASS Mgha|\n",
    "|----------|--|----------|---------|----------|---------- |----------|-------------|-----------------------------|--|\n",
    "|1|Herbaceous|na|xxxxx|0.05-0.25m|Monocot and Broadleaf|Evergreen|Continous|XXXXXXX|no data|\n"
   ]
  },
  {
   "cell_type": "code",
   "execution_count": null,
   "metadata": {},
   "outputs": [],
   "source": [
    "flood_runner_dry = numpy.where((classification_all[\"level3\"].values == 112) &\n",
    "                      (classification_all[\"canopyco_veg_con\"].values >=5 ) & (classification_all[\"canopyco_veg_con\"].values <= 10), 1, 0)"
   ]
  },
  {
   "cell_type": "code",
   "execution_count": null,
   "metadata": {},
   "outputs": [],
   "source": [
    " # Convert to xarray\n",
    "flood_runner_dry_xarray = xarray.Dataset(\n",
    "    {\"flood_runner_dry\" : (classification_all[\"level3\"].dims, flood_runner_dry)},\n",
    "    coords=classification_all.coords)"
   ]
  },
  {
   "cell_type": "code",
   "execution_count": null,
   "metadata": {},
   "outputs": [],
   "source": [
    "pyplot.imshow(flood_runner_dry[0])"
   ]
  },
  {
   "cell_type": "code",
   "execution_count": null,
   "metadata": {},
   "outputs": [],
   "source": [
    "# Export data as a GeoTiff\n",
    "for i, year in enumerate(classification_years):\n",
    "    cog.write_cog(flood_runner_dry_xarray[\"flood_runner_dry\"].isel(time=i).astype(numpy.uint8),\n",
    "                  os.path.join(output_dir, '{}-flood_runner_dry_{}.tif'.format(site_name.replace(\" \",\"_\"), year)))"
   ]
  },
  {
   "cell_type": "markdown",
   "metadata": {},
   "source": [
    "### State - Reference\n",
    "#### Expression - Weir pools and permanent waterholes\n",
    "\n",
    "Waterholes in the GKP are a result of seasonal flooding of depressional areas. Often permanent, they are important refugia for fauna, especially waterbirds in the GKP. Riverine waterholes can also be scoured out in the river channels around bends during large floods. While most of these waterholes are episodic, and suffer losses to groundwater and evaporation, in many cases where the water table is high enough or a clay pan bottom exists, water permanence is observed (Bayly, 1999). While there is no direct evidence of Indigenous management of the waterholes in the GKP, it is clear from the recorded cultural heritage and artefacts along the waterholes that Indigenous communities played a major role in their maintenance (NCCMA, 2011). These waterholes fill slowly over the course of large floods, and with limited flushing can be prone to blackwater events and algal blooms. \n",
    "\n",
    "|   |   |\n",
    "|---|---|\n",
    "| NAV|124|\n",
    "| Water Persistence|7-9 months|\n",
    "| Water Seasonality|semi-permanent|\n",
    "| No layers|1| \n",
    " \n",
    " \n",
    "\n",
    "|LAYER|AQUATIC PLANT LIFEFORM|AQUATIC PLANT PHENOLOGY|WATER DEPTH|WATER MOVEMENT|WATER SEDIMENT/ TURBIDITY|PH|BIOMASS Mgha|\n",
    "|----------|--|----------|---------|----------|---------- |----------|-------------|\n",
    "|1|Free-floating forbs and Rooted forbs|Evergreen|>2m|standing|low turbidity|no data|no data|"
   ]
  },
  {
   "cell_type": "code",
   "execution_count": null,
   "metadata": {},
   "outputs": [],
   "source": [
    "weirpool = numpy.where((classification_all[\"level3\"].values == 124) &\n",
    "                                 (classification_all[\"waterper_wat_cat_l4d\"].values ==13) &\n",
    "                               (classification_all[\"watersea_veg_cat_l4a_au\"].values ==1), 1, 0)"
   ]
  },
  {
   "cell_type": "code",
   "execution_count": null,
   "metadata": {},
   "outputs": [],
   "source": [
    " # Convert to xarray\n",
    "weirpool_xarray = xarray.Dataset(\n",
    "    {\"weirpool\" : (classification_all[\"level3\"].dims, weirpool)},\n",
    "    coords=classification_all.coords)"
   ]
  },
  {
   "cell_type": "code",
   "execution_count": null,
   "metadata": {},
   "outputs": [],
   "source": [
    "pyplot.imshow(weirpool[0])"
   ]
  },
  {
   "cell_type": "code",
   "execution_count": null,
   "metadata": {},
   "outputs": [],
   "source": [
    "# Export data as a GeoTiff\n",
    "for i, year in enumerate(classification_years):\n",
    "    cog.write_cog(weirpool_xarray[\"weirpool\"].isel(time=i).astype(numpy.uint8),\n",
    "                  os.path.join(output_dir, '{}-weirpool_{}.tif'.format(site_name.replace(\" \",\"_\"), year)))"
   ]
  },
  {
   "cell_type": "markdown",
   "metadata": {},
   "source": [
    "### State - Managed flows\n",
    "#### Expression - Primary river channel\n",
    "\n",
    "The expressions that were in the reference state remain the same for the modified state, other than the addition of the ‘regulated channel’ expression; however, flow patterns and therefore impacts have undergone a significant change. Flows in the primary channel are modified in terms of frequency, duration and magnitude of medium to large floods. The average and maximum periods between spring–summer floods have more than doubled; for example, the average time between floods has increased from 1.7 to 3.8 years, and the maximum period between medium to large floods events has increased from 4.8 to 11.8 years (Van Dijk et al., 2008; CSIRO, 2008). The average annual flood volumes are approximately less than one-fifth of the volume modelled for the reference state. The primary river channel is still a deep-flowing, permanent system with baseflows except in extreme drought. In the modified state, the anabranches are flooded either naturally or through release of environmental flows. \n",
    "\n",
    "\n",
    "|   |   |\n",
    "|---|---|\n",
    "| NAW|220|\n",
    "| Water Persistence|>9 months|\n",
    "| Water seasonality|permanent|\n",
    "| No layers|na| \n",
    " \n",
    "  \n",
    "\n",
    "|LAYER|AQUATIC PLANT LIFEFORM|AQUATIC PLANT PHENOLOGY|WATER DEPTH|WATER MOVEMENT|WATER SEDIMENT/ TURBIDITY|PH|BIOMASS Mgha|\n",
    "|----------|--|----------|---------|----------|---------- |----------|-------------|\n",
    "|1|na|na|variable|flowing|high turbidity|5.4-9.3|na|\n"
   ]
  },
  {
   "cell_type": "code",
   "execution_count": null,
   "metadata": {},
   "outputs": [],
   "source": [
    "managed_primary_river_channel = numpy.where((classification_all[\"level3\"].values == 220) &\n",
    "                                (classification_all[\"waterper_wat_cat_l4d\"].values ==12) &\n",
    "                               (classification_all[\"watersea_veg_cat_l4a_au\"].values ==1) &\n",
    "                              (classification_all[\"waterstt_wat_cat_l4a\"].values == 1), 1, 0)"
   ]
  },
  {
   "cell_type": "code",
   "execution_count": null,
   "metadata": {},
   "outputs": [],
   "source": [
    "# Convert to xarray\n",
    "managed_primary_river_channel_xarray = xarray.Dataset(\n",
    "    {\"managed_primary_river_channel\" : (classification_all[\"level3\"].dims, managed_primary_river_channel)},\n",
    "    coords=classification_all.coords)"
   ]
  },
  {
   "cell_type": "code",
   "execution_count": null,
   "metadata": {},
   "outputs": [],
   "source": [
    "pyplot.imshow(managed_primary_river_channel[0])"
   ]
  },
  {
   "cell_type": "code",
   "execution_count": null,
   "metadata": {},
   "outputs": [],
   "source": [
    "# Export data as a GeoTiff\n",
    "for i, year in enumerate(classification_years):\n",
    "    cog.write_cog(managed_primary_river_channel_xarray[\"managed_primary_river_channel\"].isel(time=i).astype(numpy.uint8),\n",
    "                  os.path.join(output_dir, '{}-managed_primary_river_channel_{}.tif'.format(site_name.replace(\" \",\"_\"), year)))"
   ]
  },
  {
   "cell_type": "markdown",
   "metadata": {},
   "source": [
    "### State - Managed flows\n",
    "#### Expression - Anabranches wet\n",
    "\n",
    "The expressions that were in the reference state remain the same for the modified state, other than the addition of the ‘regulated channel’ expression; however, flow patterns and therefore impacts have undergone a significant change. Flows in the primary channel are modified in terms of frequency, duration and magnitude of medium to large floods. The average and maximum periods between spring–summer floods have more than doubled; for example, the average time between floods has increased from 1.7 to 3.8 years, and the maximum period between medium to large floods events has increased from 4.8 to 11.8 years (Van Dijk et al., 2008; CSIRO, 2008). The average annual flood volumes are approximately less than one-fifth of the volume modelled for the reference state. The primary river channel is still a deep-flowing, permanent system with baseflows except in extreme drought. In the modified state, the anabranches are flooded either naturally or through release of environmental flows. \n",
    "\n",
    "\n",
    "|   |   |\n",
    "|---|---|\n",
    "| NAW|220|\n",
    "| Water Persistence|4-6 months|\n",
    "| Water seasonality|seasonal or temporary|\n",
    "| No layers|0| \n",
    " \n",
    "  \n",
    "\n",
    "|LAYER|AQUATIC PLANT LIFEFORM|AQUATIC PLANT PHENOLOGY|WATER DEPTH|WATER MOVEMENT|WATER SEDIMENT/ TURBIDITY|PH|BIOMASS Mgha|\n",
    "|----------|--|----------|---------|----------|---------- |----------|-------------|\n",
    "|1|na|na|shallow|flowing|high turbidity|5-9|na|"
   ]
  },
  {
   "cell_type": "code",
   "execution_count": null,
   "metadata": {},
   "outputs": [],
   "source": [
    "managed_anabranch_wet = numpy.where((classification_all[\"level3\"].values == 220) &\n",
    "                                (classification_all[\"waterper_wat_cat_l4d\"].values ==15) &\n",
    "                               (classification_all[\"watersea_veg_cat_l4a_au\"].values ==2), 1, 0) "
   ]
  },
  {
   "cell_type": "code",
   "execution_count": null,
   "metadata": {},
   "outputs": [],
   "source": [
    "# Convert to xarray\n",
    "managed_anabranch_wet_xarray = xarray.Dataset(\n",
    "    {\"managed_anabranch_wet\" : (classification_all[\"level3\"].dims, managed_anabranch_wet)},\n",
    "    coords=classification_all.coords)"
   ]
  },
  {
   "cell_type": "code",
   "execution_count": null,
   "metadata": {},
   "outputs": [],
   "source": [
    "pyplot.imshow(managed_anabranch_wet[0])"
   ]
  },
  {
   "cell_type": "code",
   "execution_count": null,
   "metadata": {},
   "outputs": [],
   "source": [
    "# Export data as a GeoTiff\n",
    "for i, year in enumerate(classification_years):\n",
    "    cog.write_cog(managed_anabranch_wet_xarray[\"managed_anabranch_wet\"].isel(time=i).astype(numpy.uint8),\n",
    "                  os.path.join(output_dir, '{}-managed_anabranch_wet_{}.tif'.format(site_name.replace(\" \",\"_\"), year)))"
   ]
  },
  {
   "cell_type": "markdown",
   "metadata": {},
   "source": [
    "### State - Managed flows\n",
    "#### Expression - Anabranches dry-moist\n",
    "\n",
    "The expressions that were in the reference state remain the same for the modified state, other than the addition of the ‘regulated channel’ expression; however, flow patterns and therefore impacts have undergone a significant change. Flows in the primary channel are modified in terms of frequency, duration and magnitude of medium to large floods. The average and maximum periods between spring–summer floods have more than doubled; for example, the average time between floods has increased from 1.7 to 3.8 years, and the maximum period between medium to large floods events has increased from 4.8 to 11.8 years (Van Dijk et al., 2008; CSIRO, 2008). The average annual flood volumes are approximately less than one-fifth of the volume modelled for the reference state. The primary river channel is still a deep-flowing, permanent system with baseflows except in extreme drought. In the modified state, the anabranches are flooded either naturally or through release of environmental flows. \n",
    "\n",
    "\n",
    "|   |   |\n",
    "|---|---|\n",
    "| NAV|124|\n",
    "| Water Persistence|no data|\n",
    "| Water seasonality|temporary|\n",
    "| No layers|0| \n",
    " \n",
    "  \n",
    "\n",
    "|LAYER|AQUATIC PLANT LIFEFORM|AQUATIC PLANT PHENOLOGY|WATER DEPTH|WATER MOVEMENT|WATER SEDIMENT/ TURBIDITY|PH|BIOMASS Mgha|\n",
    "|----------|--|----------|---------|----------|---------- |----------|-------------|\n",
    "|1|na|na|shallow|standing|XXXXX|na|na|\n"
   ]
  },
  {
   "cell_type": "code",
   "execution_count": null,
   "metadata": {},
   "outputs": [],
   "source": [
    "managed_anabranch_moist = numpy.where((classification_all[\"level3\"].values == 124) &\n",
    "                               (classification_all[\"watersea_veg_cat_l4a_au\"].values ==2), 1, 0)"
   ]
  },
  {
   "cell_type": "code",
   "execution_count": null,
   "metadata": {},
   "outputs": [],
   "source": [
    "# Convert to xarray\n",
    "managed_anabranch_moist_xarray = xarray.Dataset(\n",
    "    {\"managed_anabranch_moist\" : (classification_all[\"level3\"].dims, managed_anabranch_moist)},\n",
    "    coords=classification_all.coords)"
   ]
  },
  {
   "cell_type": "code",
   "execution_count": null,
   "metadata": {},
   "outputs": [],
   "source": [
    "pyplot.imshow(managed_anabranch_moist[0])"
   ]
  },
  {
   "cell_type": "code",
   "execution_count": null,
   "metadata": {},
   "outputs": [],
   "source": [
    "# Export data as a GeoTiff\n",
    "for i, year in enumerate(classification_years):\n",
    "    cog.write_cog(managed_anabranch_moist_xarray[\"managed_anabranch_moist\"].isel(time=i).astype(numpy.uint8),\n",
    "                  os.path.join(output_dir, '{}-managed_anabranch_moist_{}.tif'.format(site_name.replace(\" \",\"_\"), year)))"
   ]
  },
  {
   "cell_type": "markdown",
   "metadata": {},
   "source": [
    "### State - Managed flows\n",
    "#### Expression - Anabranches dry \n",
    "\n",
    "The expressions that were in the reference state remain the same for the modified state, other than the addition of the ‘regulated channel’ expression; however, flow patterns and therefore impacts have undergone a significant change. Flows in the primary channel are modified in terms of frequency, duration and magnitude of medium to large floods. The average and maximum periods between spring–summer floods have more than doubled; for example, the average time between floods has increased from 1.7 to 3.8 years, and the maximum period between medium to large floods events has increased from 4.8 to 11.8 years (Van Dijk et al., 2008; CSIRO, 2008). The average annual flood volumes are approximately less than one-fifth of the volume modelled for the reference state. The primary river channel is still a deep-flowing, permanent system with baseflows except in extreme drought. In the modified state, the anabranches are flooded either naturally or through release of environmental flows.    \n",
    "\n",
    "|   |   |\n",
    "|---|---|\n",
    "| NTV|112|\n",
    "| Water Persistence|na|\n",
    "| Water seasonality|na|\n",
    "| No layers|1| \n",
    " \n",
    " \n",
    "\n",
    "|LAYER|LIFEFORM|AQU LIFEFORM|AV COVER (%)|AV HEIGHT (m)|LEAF TYPE|PHENOLOGY|SPATIAL DIST.|DOMINANT SPECIES|BIOMASS Mgha|\n",
    "|----------|--|----------|---------|----------|---------- |----------|-------------|-----------------------------|--|\n",
    "|1|Herbaceous|na|xxxxx|0.05-0.25m|Monocot and Broadleaf|Evergreen|Continous|XXXXXXX|no data|"
   ]
  },
  {
   "cell_type": "code",
   "execution_count": null,
   "metadata": {},
   "outputs": [],
   "source": [
    "managed_anabranch_dry = numpy.where((classification_all[\"level3\"].values == 112) &\n",
    "                      (classification_all[\"canopyco_veg_con\"].values >=5 ) & (classification_all[\"canopyco_veg_con\"].values <= 10), 1, 0)"
   ]
  },
  {
   "cell_type": "code",
   "execution_count": null,
   "metadata": {},
   "outputs": [],
   "source": [
    " # Convert to xarray\n",
    "managed_anabranch_dry_xarray = xarray.Dataset(\n",
    "    {\"managed_anabranch_dry\" : (classification_all[\"level3\"].dims, managed_anabranch_dry)},\n",
    "    coords=classification_all.coords)"
   ]
  },
  {
   "cell_type": "code",
   "execution_count": null,
   "metadata": {},
   "outputs": [],
   "source": [
    "pyplot.imshow(managed_anabranch_dry[0])"
   ]
  },
  {
   "cell_type": "code",
   "execution_count": null,
   "metadata": {},
   "outputs": [],
   "source": [
    "# Export data as a GeoTiff\n",
    "for i, year in enumerate(classification_years):\n",
    "    cog.write_cog(managed_anabranch_dry_xarray[\"managed_anabranch_dry\"].isel(time=i).astype(numpy.uint8),\n",
    "                  os.path.join(output_dir, '{}-managed_anabranch_dry_{}.tif'.format(site_name.replace(\" \",\"_\"), year)))"
   ]
  },
  {
   "cell_type": "markdown",
   "metadata": {},
   "source": [
    "### State - Managed flows\n",
    "#### Expression - Low frequency flood runners wet\n",
    "\n",
    "The expressions that were in the reference state remain the same for the modified state, other than the addition of the ‘regulated channel’ expression; however, flow patterns and therefore impacts have undergone a significant change. Flows in the primary channel are modified in terms of frequency, duration and magnitude of medium to large floods. The average and maximum periods between spring–summer floods have more than doubled; for example, the average time between floods has increased from 1.7 to 3.8 years, and the maximum period between medium to large floods events has increased from 4.8 to 11.8 years (Van Dijk et al., 2008; CSIRO, 2008). The average annual flood volumes are approximately less than one-fifth of the volume modelled for the reference state. The primary river channel is still a deep-flowing, permanent system with baseflows except in extreme drought. In the modified state, the anabranches are flooded either naturally or through release of environmental flows.  \n",
    "\n",
    "|   |   |\n",
    "|---|---|\n",
    "| NAV|124|\n",
    "| Water Persistence|no data|\n",
    "| Water Seasonality|temporary|\n",
    "| No layers|1| \n",
    " \n",
    " \n",
    "\n",
    "|LAYER|AQUATIC PLANT LIFEFORM|AQUATIC PLANT PHENOLOGY|WATER DEPTH|WATER MOVEMENT|WATER SEDIMENT/ TURBIDITY|PH|BIOMASS Mgha|\n",
    "|----------|--|----------|---------|----------|---------- |----------|-------------|\n",
    "|1|xxxxx|na|shallow|flowing|high turbidity|no data|no data|"
   ]
  },
  {
   "cell_type": "code",
   "execution_count": null,
   "metadata": {},
   "outputs": [],
   "source": [
    "managed_flood_runner_wet = numpy.where((classification_all[\"level3\"].values == 124) &\n",
    "                               (classification_all[\"watersea_veg_cat_l4a_au\"].values ==2), 1, 0)"
   ]
  },
  {
   "cell_type": "code",
   "execution_count": null,
   "metadata": {},
   "outputs": [],
   "source": [
    " # Convert to xarray\n",
    "managed_flood_runner_wet_xarray = xarray.Dataset(\n",
    "    {\"managed_flood_runner_wet\" : (classification_all[\"level3\"].dims, managed_flood_runner_wet)},\n",
    "    coords=classification_all.coords)"
   ]
  },
  {
   "cell_type": "code",
   "execution_count": null,
   "metadata": {},
   "outputs": [],
   "source": [
    "pyplot.imshow(managed_flood_runner_wet[0])"
   ]
  },
  {
   "cell_type": "code",
   "execution_count": null,
   "metadata": {},
   "outputs": [],
   "source": [
    "# Export data as a GeoTiff\n",
    "for i, year in enumerate(classification_years):\n",
    "    cog.write_cog(managed_flood_runner_wet_xarray[\"managed_flood_runner_wet\"].isel(time=i).astype(numpy.uint8),\n",
    "                  os.path.join(output_dir, '{}-managed_flood_runner_wet_{}.tif'.format(site_name.replace(\" \",\"_\"), year)))"
   ]
  },
  {
   "cell_type": "markdown",
   "metadata": {},
   "source": [
    "### State - Managed flows\n",
    "#### Expression - Low frequency flood runners dry \n",
    "\n",
    "The expressions that were in the reference state remain the same for the modified state, other than the addition of the ‘regulated channel’ expression; however, flow patterns and therefore impacts have undergone a significant change. Flows in the primary channel are modified in terms of frequency, duration and magnitude of medium to large floods. The average and maximum periods between spring–summer floods have more than doubled; for example, the average time between floods has increased from 1.7 to 3.8 years, and the maximum period between medium to large floods events has increased from 4.8 to 11.8 years (Van Dijk et al., 2008; CSIRO, 2008). The average annual flood volumes are approximately less than one-fifth of the volume modelled for the reference state. The primary river channel is still a deep-flowing, permanent system with baseflows except in extreme drought. In the modified state, the anabranches are flooded either naturally or through release of environmental flows.   \n",
    "\n",
    "|   |   |\n",
    "|---|---|\n",
    "| NTV|112|\n",
    "| Water Persistence|na|\n",
    "| Water seasonality|na|\n",
    "| No layers|1| \n",
    " \n",
    " \n",
    "\n",
    "|LAYER|LIFEFORM|AQU LIFEFORM|AV COVER (%)|AV HEIGHT (m)|LEAF TYPE|PHENOLOGY|SPATIAL DIST.|DOMINANT SPECIES|BIOMASS Mgha|\n",
    "|----------|--|----------|---------|----------|---------- |----------|-------------|-----------------------------|--|\n",
    "|1|Herbaceous|na|xxxxx|0.05-0.25m|Monocot and Broadleaf|Evergreen|Continous|XXXXXXX|no data|"
   ]
  },
  {
   "cell_type": "code",
   "execution_count": null,
   "metadata": {},
   "outputs": [],
   "source": [
    "managed_flood_runner_dry = numpy.where((classification_all[\"level3\"].values == 112) &\n",
    "                      (classification_all[\"canopyco_veg_con\"].values >=5 ) & (classification_all[\"canopyco_veg_con\"].values <= 10), 1, 0)"
   ]
  },
  {
   "cell_type": "code",
   "execution_count": null,
   "metadata": {},
   "outputs": [],
   "source": [
    " # Convert to xarray\n",
    "managed_flood_runner_dry_xarray = xarray.Dataset(\n",
    "    {\"managed_flood_runner_dry\" : (classification_all[\"level3\"].dims, managed_flood_runner_dry)},\n",
    "    coords=classification_all.coords)"
   ]
  },
  {
   "cell_type": "code",
   "execution_count": null,
   "metadata": {},
   "outputs": [],
   "source": [
    "pyplot.imshow(managed_flood_runner_dry[0])"
   ]
  },
  {
   "cell_type": "code",
   "execution_count": null,
   "metadata": {},
   "outputs": [],
   "source": [
    "# Export data as a GeoTiff\n",
    "for i, year in enumerate(classification_years):\n",
    "    cog.write_cog(managed_flood_runner_dry_xarray[\"managed_flood_runner_dry\"].isel(time=i).astype(numpy.uint8),\n",
    "                  os.path.join(output_dir, '{}-managed_flood_runner_dry_{}.tif'.format(site_name.replace(\" \",\"_\"), year)))"
   ]
  },
  {
   "cell_type": "markdown",
   "metadata": {},
   "source": [
    "### State - Managed flows\n",
    "#### Expression - Weir pools and permanent waterholes\n",
    "\n",
    "The expressions that were in the reference state remain the same for the modified state, other than the addition of the ‘regulated channel’ expression; however, flow patterns and therefore impacts have undergone a significant change. Flows in the primary channel are modified in terms of frequency, duration and magnitude of medium to large floods. The average and maximum periods between spring–summer floods have more than doubled; for example, the average time between floods has increased from 1.7 to 3.8 years, and the maximum period between medium to large floods events has increased from 4.8 to 11.8 years (Van Dijk et al., 2008; CSIRO, 2008). The average annual flood volumes are approximately less than one-fifth of the volume modelled for the reference state. The primary river channel is still a deep-flowing, permanent system with baseflows except in extreme drought. In the modified state, the anabranches are flooded either naturally or through release of environmental flows.   \n",
    "\n",
    "|   |   |\n",
    "|---|---|\n",
    "| NAV|124|\n",
    "| Water Persistence|7-9 months|\n",
    "| Water Seasonality|semi-permanent|\n",
    "| No layers|1| \n",
    " \n",
    " \n",
    "\n",
    "|LAYER|AQUATIC PLANT LIFEFORM|AQUATIC PLANT PHENOLOGY|WATER DEPTH|WATER MOVEMENT|WATER SEDIMENT/ TURBIDITY|PH|BIOMASS Mgha|\n",
    "|----------|--|----------|---------|----------|---------- |----------|-------------|\n",
    "|1|Free-floating forbs and Rooted forbs|Evergreen|>2m|standing|low turbidity|no data|no data|"
   ]
  },
  {
   "cell_type": "code",
   "execution_count": null,
   "metadata": {},
   "outputs": [],
   "source": [
    "managed_weirpool = numpy.where((classification_all[\"level3\"].values == 124) &\n",
    "                                 (classification_all[\"waterper_wat_cat_l4d\"].values ==13) &\n",
    "                               (classification_all[\"watersea_veg_cat_l4a_au\"].values ==1), 1, 0)"
   ]
  },
  {
   "cell_type": "code",
   "execution_count": null,
   "metadata": {},
   "outputs": [],
   "source": [
    " # Convert to xarray\n",
    "managed_weirpool_xarray = xarray.Dataset(\n",
    "    {\"managed_weirpool\" : (classification_all[\"level3\"].dims, managed_weirpool)},\n",
    "    coords=classification_all.coords)"
   ]
  },
  {
   "cell_type": "code",
   "execution_count": null,
   "metadata": {},
   "outputs": [],
   "source": [
    "pyplot.imshow(managed_weirpool[0])"
   ]
  },
  {
   "cell_type": "code",
   "execution_count": null,
   "metadata": {},
   "outputs": [],
   "source": [
    "# Export data as a GeoTiff\n",
    "for i, year in enumerate(classification_years):\n",
    "    cog.write_cog(managed_weirpool_xarray[\"managed_weirpool\"].isel(time=i).astype(numpy.uint8),\n",
    "                  os.path.join(output_dir, '{}-managed_weirpool_{}.tif'.format(site_name.replace(\" \",\"_\"), year)))"
   ]
  },
  {
   "cell_type": "markdown",
   "metadata": {},
   "source": [
    "### State - Managed flows\n",
    "#### Expression - Regulated channel\n",
    "Torrumbarry Weir is the major regulating structure controlling flows into the GKP. Water can be diverted from the weir into the upstream ends of the Koondrook-Perricoota Forest (see example of regulated channel in Figure 30). Flow volume in the River Murray upstream of Torrumbarry Weir is restricted at Barmah by the ‘Barmah Choke’, a geomorphological feature that limits channel capacity to approximately 7,000 ML/day. When volumes in the River Murray exceed this capacity, flows are diverted through the Edward River and Gulpa system that bypass Torrumbarry Weir and GKP. Therefore, flows into the GKP are highly dependent on the flows from the Goulburn, Campaspe and Loddon rivers that join the River Murray downstream of Barmah (CSIRO, 2008). Gunbower Creek, Spur Creek, Yarran Creek and Barham Cut are key to water flowing into the Gunbower Forest. Cameron Creek diverts flows above the Torrumbarry Weir towards Black Charlie Lagoon (Ecological Associates, 2014), which then connects the wetlands through a series of shallow flood runners. A levee interrupts the natural watercourse resulting in pooling, altering the regime. Even with altered regime, GKP remains a site that has high diversity and abundance, though the water quality is impacted seasonally due to algal blooms and blackwater events.  \n",
    "\n",
    "\n",
    "|   |   |\n",
    "|---|---|\n",
    "| NAV|124|\n",
    "| Water Persistence|>9 months|\n",
    "| Water seasonality|permanent|\n",
    "| No layers|1| \n",
    " \n",
    " \n",
    "\n",
    "|LAYER|AQUATIC PLANT LIFEFORM|AQUATIC PLANT PHENOLOGY|WATER DEPTH|WATER MOVEMENT|WATER SEDIMENT/ TURBIDITY|PH|BIOMASS Mgha|\n",
    "|----------|--|----------|---------|----------|---------- |----------|-------------|\n",
    "|1|Free-floating forbs and Rooted forbs|Evergreen|>2m|flowing (slower than primary channel)|high turbidity|no data|no data|"
   ]
  },
  {
   "cell_type": "code",
   "execution_count": null,
   "metadata": {},
   "outputs": [],
   "source": [
    "regulated_channel = numpy.where((classification_all[\"level3\"].values == 124) &\n",
    "                                (classification_all[\"waterper_wat_cat_l4d\"].values ==12) &\n",
    "                               (classification_all[\"watersea_veg_cat_l4a_au\"].values ==1), 1, 0) "
   ]
  },
  {
   "cell_type": "code",
   "execution_count": null,
   "metadata": {},
   "outputs": [],
   "source": [
    "# Convert to xarray\n",
    "regulated_channel_xarray = xarray.Dataset(\n",
    "    {\"regulated_channel\" : (classification_all[\"level3\"].dims, regulated_channel)},\n",
    "    coords=classification_all.coords)"
   ]
  },
  {
   "cell_type": "code",
   "execution_count": null,
   "metadata": {},
   "outputs": [],
   "source": [
    "pyplot.imshow(regulated_channel[0])"
   ]
  },
  {
   "cell_type": "code",
   "execution_count": null,
   "metadata": {},
   "outputs": [],
   "source": [
    "# Export data as a GeoTiff\n",
    "for i, year in enumerate(classification_years):\n",
    "    cog.write_cog(regulated_channel_xarray[\"regulated_channel\"].isel(time=i).astype(numpy.uint8),\n",
    "                  os.path.join(output_dir, '{}-regulated_channel_{}.tif'.format(site_name.replace(\" \",\"_\"), year)))"
   ]
  },
  {
   "cell_type": "code",
   "execution_count": null,
   "metadata": {},
   "outputs": [],
   "source": []
  }
 ],
 "metadata": {
  "kernelspec": {
   "display_name": "Python 3",
   "language": "python",
   "name": "python3"
  },
  "language_info": {
   "codemirror_mode": {
    "name": "ipython",
    "version": 3
   },
   "file_extension": ".py",
   "mimetype": "text/x-python",
   "name": "python",
   "nbconvert_exporter": "python",
   "pygments_lexer": "ipython3",
   "version": "3.6.9"
  }
 },
 "nbformat": 4,
 "nbformat_minor": 4
}
