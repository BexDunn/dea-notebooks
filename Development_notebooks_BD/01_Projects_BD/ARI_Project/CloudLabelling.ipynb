{
 "cells": [
  {
   "cell_type": "markdown",
   "metadata": {},
   "source": [
    "# Cloud labelling\n",
    "\n",
    "**Background**\n",
    "\n",
    "**What does this notebook do?** This notebook helps generate a labelled dataset of cloud and non-cloud pixels from Sentinel 2. We want to label a handful of time slices from a 5 x 5 km cube. We will need pixels representing a wide range of land features, including buildings, water, and terrain; different cubes will be required for different climate zones throughout Australia.\n",
    "\n",
    "**Date**: Aug 2020.\n",
    "\n",
    "**Author**: Matthew Alger"
   ]
  },
  {
   "cell_type": "markdown",
   "metadata": {},
   "source": [
    "## Setup"
   ]
  },
  {
   "cell_type": "code",
   "execution_count": 1,
   "metadata": {},
   "outputs": [
    {
     "name": "stdout",
     "output_type": "stream",
     "text": [
      "Collecting rioxarray\n",
      "  Downloading rioxarray-0.0.31.tar.gz (991 kB)\n",
      "Requirement already satisfied: rasterio in /env/lib/python3.6/site-packages (from rioxarray) (1.1.4)\n",
      "Requirement already satisfied: scipy in /env/lib/python3.6/site-packages (from rioxarray) (1.4.1)\n",
      "Requirement already satisfied: xarray in /env/lib/python3.6/site-packages (from rioxarray) (0.15.1)\n",
      "Requirement already satisfied: pyproj>=2.2 in /env/lib/python3.6/site-packages (from rioxarray) (2.6.1.post1)\n",
      "Requirement already satisfied: cligj>=0.5 in /env/lib/python3.6/site-packages (from rasterio->rioxarray) (0.5.0)\n",
      "Requirement already satisfied: attrs in /env/lib/python3.6/site-packages (from rasterio->rioxarray) (19.3.0)\n",
      "Requirement already satisfied: affine in /env/lib/python3.6/site-packages (from rasterio->rioxarray) (2.3.0)\n",
      "Requirement already satisfied: click-plugins in /env/lib/python3.6/site-packages (from rasterio->rioxarray) (1.1.1)\n",
      "Requirement already satisfied: numpy in /env/lib/python3.6/site-packages (from rasterio->rioxarray) (1.19.0)\n",
      "Requirement already satisfied: click<8,>=4.0 in /env/lib/python3.6/site-packages (from rasterio->rioxarray) (7.1.2)\n",
      "Requirement already satisfied: snuggs>=1.4.1 in /env/lib/python3.6/site-packages (from rasterio->rioxarray) (1.4.7)\n",
      "Requirement already satisfied: setuptools>=41.2 in /env/lib/python3.6/site-packages (from xarray->rioxarray) (49.1.0)\n",
      "Requirement already satisfied: pandas>=0.25 in /env/lib/python3.6/site-packages (from xarray->rioxarray) (1.0.5)\n",
      "Requirement already satisfied: pyparsing>=2.1.6 in /env/lib/python3.6/site-packages (from snuggs>=1.4.1->rasterio->rioxarray) (2.4.7)\n",
      "Requirement already satisfied: python-dateutil>=2.6.1 in /env/lib/python3.6/site-packages (from pandas>=0.25->xarray->rioxarray) (2.8.0)\n",
      "Requirement already satisfied: pytz>=2017.2 in /env/lib/python3.6/site-packages (from pandas>=0.25->xarray->rioxarray) (2020.1)\n",
      "Requirement already satisfied: six>=1.5 in /env/lib/python3.6/site-packages (from python-dateutil>=2.6.1->pandas>=0.25->xarray->rioxarray) (1.15.0)\n",
      "Building wheels for collected packages: rioxarray\n",
      "  Building wheel for rioxarray (setup.py): started\n",
      "  Building wheel for rioxarray (setup.py): finished with status 'done'\n",
      "  Created wheel for rioxarray: filename=rioxarray-0.0.31-py3-none-any.whl size=39287 sha256=53b688ae541f52e260fa27eee7ad65bcdc9129efb1a624b1f34bec5100651581\n",
      "  Stored in directory: /home/jovyan/.cache/pip/wheels/d0/d8/f9/caa0e5b4936f60d2f2156c9092c3c7c4a3abd9c8163c22d2ec\n",
      "Successfully built rioxarray\n",
      "Installing collected packages: rioxarray\n",
      "Successfully installed rioxarray-0.0.31\n"
     ]
    },
    {
     "name": "stderr",
     "output_type": "stream",
     "text": [
      "WARNING: You are using pip version 20.1.1; however, version 20.2.1 is available.\n",
      "You should consider upgrading via the '/env/bin/python3 -m pip install --upgrade pip' command.\n"
     ]
    }
   ],
   "source": [
    "%%bash\n",
    "pip install rioxarray"
   ]
  },
  {
   "cell_type": "code",
   "execution_count": 5,
   "metadata": {},
   "outputs": [],
   "source": [
    "%matplotlib widget\n",
    "\n",
    "import functools\n",
    "import os\n",
    "import sys\n",
    "import datacube\n",
    "from datacube.storage.masking import make_mask\n",
    "import datacube.utils.cog\n",
    "import geopandas as gpd\n",
    "import ipyleaflet\n",
    "from IPython.display import display\n",
    "import ipywidgets as widgets\n",
    "import matplotlib.pyplot as plt\n",
    "import numpy as np\n",
    "import odc.ui\n",
    "from odc.ui import with_ui_cbk\n",
    "import rasterio.features\n",
    "import rioxarray\n",
    "from shapely.geometry import shape\n",
    "import skimage.color as colour\n",
    "import skimage.io\n",
    "from tqdm.notebook import tqdm\n",
    "import xarray\n",
    "\n",
    "sys.path.append('../../../Scripts')\n",
    "from dea_dask import create_local_dask_cluster\n",
    "from dea_datahandling import load_ard, array_to_geotiff\n",
    "from dea_plotting import rgb"
   ]
  },
  {
   "cell_type": "code",
   "execution_count": 6,
   "metadata": {},
   "outputs": [],
   "source": [
    "dc = datacube.Datacube(app='cloud-labelling')"
   ]
  },
  {
   "cell_type": "code",
   "execution_count": 7,
   "metadata": {},
   "outputs": [
    {
     "data": {
      "text/html": [
       "<table style=\"border: 2px solid white;\">\n",
       "<tr>\n",
       "<td style=\"vertical-align: top; border: 0px solid white\">\n",
       "<h3 style=\"text-align: left;\">Client</h3>\n",
       "<ul style=\"text-align: left; list-style: none; margin: 0; padding: 0;\">\n",
       "  <li><b>Scheduler: </b>tcp://127.0.0.1:42153</li>\n",
       "  <li><b>Dashboard: </b><a href='/user/bex/proxy/8787/status' target='_blank'>/user/bex/proxy/8787/status</a></li>\n",
       "</ul>\n",
       "</td>\n",
       "<td style=\"vertical-align: top; border: 0px solid white\">\n",
       "<h3 style=\"text-align: left;\">Cluster</h3>\n",
       "<ul style=\"text-align: left; list-style:none; margin: 0; padding: 0;\">\n",
       "  <li><b>Workers: </b>1</li>\n",
       "  <li><b>Cores: </b>2</li>\n",
       "  <li><b>Memory: </b>14.18 GB</li>\n",
       "</ul>\n",
       "</td>\n",
       "</tr>\n",
       "</table>"
      ],
      "text/plain": [
       "<Client: 'tcp://127.0.0.1:42153' processes=1 threads=2, memory=14.18 GB>"
      ]
     },
     "metadata": {},
     "output_type": "display_data"
    }
   ],
   "source": [
    "create_local_dask_cluster()"
   ]
  },
  {
   "cell_type": "code",
   "execution_count": 8,
   "metadata": {},
   "outputs": [],
   "source": [
    "centre_deg = (lat, lon) = (-35.2809, 149.1300)  # Civic\n",
    "# centre_deg = (lat, lon) = (-35.4244, 149.1300)  # Tuggeranong\n",
    "radius_m = 2500\n",
    "m_to_deg = datacube.utils.geometry.crs_units_per_degree('EPSG:3577', lat=lat, lon=lon)\n",
    "radius_deg = radius_m / m_to_deg\n",
    "\n",
    "bands = ['nbart_red', 'nbart_green', 'nbart_blue', 'fmask']\n",
    "rgb_bands = bands[:3]\n",
    "\n",
    "query = {\n",
    "    'x': (lon - radius_deg, lon + radius_deg),\n",
    "    'y': (lat - radius_deg, lat + radius_deg),\n",
    "    'time': ('2015-01', '2020-08'),\n",
    "    'output_crs': 'EPSG:3577',\n",
    "    'resolution': (-10, 10),\n",
    "    'dask_chunks': {'time': 1, 'x': 3000, 'y': 3000},\n",
    "    'group_by': 'solar_day',\n",
    "     'resampling': {'fmask': 'nearest', '*': 'average'},\n",
    "    'measurements': bands,\n",
    "}"
   ]
  },
  {
   "cell_type": "code",
   "execution_count": 9,
   "metadata": {},
   "outputs": [
    {
     "data": {
      "application/vnd.jupyter.widget-view+json": {
       "model_id": "87c92053e66a4475bf2388017a2d3a63",
       "version_major": 2,
       "version_minor": 0
      },
      "text/plain": [
       "VBox(children=(HBox(children=(Label(value=''), Label(value='')), layout=Layout(justify_content='space-between'…"
      ]
     },
     "metadata": {},
     "output_type": "display_data"
    }
   ],
   "source": [
    "ds = dc.load(product='s2a_ard_granule',\n",
    "             progress_cbk=with_ui_cbk(),\n",
    "             **query)"
   ]
  },
  {
   "cell_type": "code",
   "execution_count": 10,
   "metadata": {},
   "outputs": [
    {
     "data": {
      "application/vnd.jupyter.widget-view+json": {
       "model_id": "9ccefd1b3dd64981b704251695ab88de",
       "version_major": 2,
       "version_minor": 0
      },
      "text/plain": [
       "VBox(children=(HBox(children=(Label(value=''), Label(value='')), layout=Layout(justify_content='space-between'…"
      ]
     },
     "metadata": {},
     "output_type": "display_data"
    }
   ],
   "source": [
    "ds_tsmask = dc.load('s2_tsmask', progress_cbk=with_ui_cbk(), **{k:v for k, v in query.items() if k not in {'measurements'}})"
   ]
  },
  {
   "cell_type": "code",
   "execution_count": 11,
   "metadata": {},
   "outputs": [
    {
     "data": {
      "application/vnd.jupyter.widget-view+json": {
       "model_id": "43c475c1720148398941d986467fcb48",
       "version_major": 2,
       "version_minor": 0
      },
      "text/plain": [
       "Canvas(toolbar=Toolbar(toolitems=[('Home', 'Reset original view', 'home', 'home'), ('Back', 'Back to previous …"
      ]
     },
     "metadata": {},
     "output_type": "display_data"
    },
    {
     "name": "stderr",
     "output_type": "stream",
     "text": [
      "/env/lib/python3.6/site-packages/xarray/plot/facetgrid.py:371: UserWarning: Tight layout not applied. tight_layout cannot make axes width small enough to accommodate all axes decorations\n",
      "  self.fig.tight_layout()\n"
     ]
    }
   ],
   "source": [
    "time_samples = [0, 10, 20, 30, 40, 50]\n",
    "rgb(ds.isel(time=time_samples), bands=rgb_bands, col='time', col_wrap=3, size=1)"
   ]
  },
  {
   "cell_type": "markdown",
   "metadata": {},
   "source": [
    "## Sorting a cube by cloudiness\n",
    "\n",
    "Using fmask, sort a cube by the percentage of each time slice covered by cloud."
   ]
  },
  {
   "cell_type": "code",
   "execution_count": 12,
   "metadata": {},
   "outputs": [],
   "source": [
    "fmask = ds.fmask.load()"
   ]
  },
  {
   "cell_type": "code",
   "execution_count": 13,
   "metadata": {},
   "outputs": [
    {
     "data": {
      "text/plain": [
       "{'0': 'nodata',\n",
       " '1': 'valid',\n",
       " '2': 'cloud',\n",
       " '3': 'shadow',\n",
       " '4': 'snow',\n",
       " '5': 'water'}"
      ]
     },
     "execution_count": 13,
     "metadata": {},
     "output_type": "execute_result"
    }
   ],
   "source": [
    "fmask.attrs['flags_definition']['fmask']['values']"
   ]
  },
  {
   "cell_type": "code",
   "execution_count": 14,
   "metadata": {},
   "outputs": [],
   "source": [
    "pc_cloudy = make_mask(fmask, fmask='cloud').values.mean(axis=(1, 2))"
   ]
  },
  {
   "cell_type": "code",
   "execution_count": 15,
   "metadata": {},
   "outputs": [],
   "source": [
    "ds['cloudiness'] = xarray.DataArray(data=pc_cloudy, coords={'time': ds.time}, dims='time')"
   ]
  },
  {
   "cell_type": "code",
   "execution_count": 16,
   "metadata": {},
   "outputs": [],
   "source": [
    "ds_sorted = ds.sortby('cloudiness')"
   ]
  },
  {
   "cell_type": "markdown",
   "metadata": {},
   "source": [
    "From a histogram of cloudiness, we can see that there is a peak at 0.2. This arises from fmask incorrectly identifying Civic as cloud."
   ]
  },
  {
   "cell_type": "code",
   "execution_count": 17,
   "metadata": {},
   "outputs": [
    {
     "data": {
      "application/vnd.jupyter.widget-view+json": {
       "model_id": "ad94ddf17c484646b1d8dcd7ec60432a",
       "version_major": 2,
       "version_minor": 0
      },
      "text/plain": [
       "Canvas(toolbar=Toolbar(toolitems=[('Home', 'Reset original view', 'home', 'home'), ('Back', 'Back to previous …"
      ]
     },
     "metadata": {},
     "output_type": "display_data"
    },
    {
     "data": {
      "text/plain": [
       "Text(0, 0.5, 'Number of time stamps')"
      ]
     },
     "execution_count": 17,
     "metadata": {},
     "output_type": "execute_result"
    }
   ],
   "source": [
    "plt.figure()\n",
    "plt.hist(pc_cloudy, bins=30)\n",
    "plt.xlabel('Cloud fraction')\n",
    "plt.ylabel('Number of time stamps')"
   ]
  },
  {
   "cell_type": "markdown",
   "metadata": {},
   "source": [
    "Compare the rate at which each pixel is masked with an image from the 0.2 peak."
   ]
  },
  {
   "cell_type": "code",
   "execution_count": 18,
   "metadata": {},
   "outputs": [
    {
     "data": {
      "application/vnd.jupyter.widget-view+json": {
       "model_id": "e3773c7a0cca4f48a78830cd8326e9a9",
       "version_major": 2,
       "version_minor": 0
      },
      "text/plain": [
       "Canvas(toolbar=Toolbar(toolitems=[('Home', 'Reset original view', 'home', 'home'), ('Back', 'Back to previous …"
      ]
     },
     "metadata": {},
     "output_type": "display_data"
    }
   ],
   "source": [
    "plt.figure(figsize=(15, 4))\n",
    "idx = abs(ds_sorted.cloudiness - 0.2).argmin()\n",
    "ax = plt.subplot(1, 3, 1)\n",
    "rgb(ds_sorted.isel(time=idx), ax=ax, bands=rgb_bands)\n",
    "ax.set_title('20% cloudy RGB')\n",
    "ax = plt.subplot(1, 3, 2)\n",
    "ds_sorted.isel(time=idx).fmask.plot()\n",
    "ax.set_title('20% cloudy fmask')\n",
    "ax = plt.subplot(1, 3, 3)\n",
    "make_mask(fmask, fmask='cloud').sum(axis=0).plot(ax=ax)\n",
    "ax.set_title('Number of times masked')\n",
    "plt.tight_layout()"
   ]
  },
  {
   "cell_type": "markdown",
   "metadata": {},
   "source": [
    "## Full-image labels\n",
    "\n",
    "When the full image is cloud-free or cloudy, we can get \"free\" validation data because the whole image gets the same label. This section includes a widget for rapidly labelling the cube."
   ]
  },
  {
   "cell_type": "code",
   "execution_count": null,
   "metadata": {},
   "outputs": [],
   "source": [
    "%matplotlib widget\n",
    "\n",
    "fig = plt.figure()\n",
    "ax = fig.add_subplot(1, 1, 1)\n",
    "current_index = 0\n",
    "labels = []\n",
    "\n",
    "progress_bar = tqdm(total=ds_sorted.fmask.shape[0])\n",
    "\n",
    "def plot_slice(index):\n",
    "    ax.cla()\n",
    "    rgb(ds_sorted.isel(time=index), ax=ax)\n",
    "plot_slice(current_index)\n",
    "\n",
    "def handle_click(button):\n",
    "    global current_index\n",
    "    desc = button.description\n",
    "    labels.append(desc)\n",
    "    current_index += 1\n",
    "    if current_index < len(ds_sorted.fmask):\n",
    "        progress_bar.update(1)\n",
    "        plot_slice(current_index)\n",
    "\n",
    "def handle_undo(button):\n",
    "    global current_index\n",
    "    current_index -= 1\n",
    "    labels.pop()\n",
    "    if current_index < len(ds_sorted.fmask):\n",
    "        progress_bar.update(-1)\n",
    "        plot_slice(current_index)\n",
    "    \n",
    "button_all_clear = widgets.Button(\n",
    "    description='Clear',\n",
    "    button_style='', # 'success', 'info', 'warning', 'danger' or ''\n",
    "    icon='sun')\n",
    "button_all_cloud = widgets.Button(\n",
    "    description='Opaque',\n",
    "    button_style='',\n",
    "    icon='cloud')\n",
    "button_all_trans = widgets.Button(\n",
    "    description='Transparent',\n",
    "    button_style='',\n",
    "    icon='wind')\n",
    "button_mixed = widgets.Button(\n",
    "    description='Mixed',\n",
    "    button_style='',\n",
    "    icon='cloud-sun')\n",
    "button_undo = widgets.Button(\n",
    "    description='Undo',\n",
    "    button_style='info',\n",
    "    icon='undo')\n",
    "buttons = [button_mixed, button_all_clear, button_all_cloud, button_all_trans]\n",
    "for button in buttons:\n",
    "    button.on_click(handle_click)\n",
    "button_undo.on_click(handle_undo)\n",
    "\n",
    "widgets.VBox([widgets.HBox(buttons), button_undo])"
   ]
  },
  {
   "cell_type": "code",
   "execution_count": null,
   "metadata": {},
   "outputs": [],
   "source": [
    "fn = 'full_image_labels_canberra_20200807.txt'\n",
    "if not os.path.exists(fn):\n",
    "    np.savetxt(fn, np.stack([ds_sorted.time.values.astype('<U29'), labels]).T, fmt='%s')"
   ]
  },
  {
   "cell_type": "code",
   "execution_count": null,
   "metadata": {},
   "outputs": [],
   "source": [
    "saved_labels = np.loadtxt('full_image_labels_canberra_20200807.txt', dtype='<U29')\n",
    "assert (saved_labels[:, 0] == ds_sorted.time.values.astype('<U29')).all()\n",
    "labels = saved_labels[:, 1]\n",
    "label_dates = saved_labels[:, 0]"
   ]
  },
  {
   "cell_type": "code",
   "execution_count": null,
   "metadata": {},
   "outputs": [],
   "source": [
    "plt.figure()\n",
    "plt.hist(labels)"
   ]
  },
  {
   "cell_type": "markdown",
   "metadata": {},
   "source": [
    "We can also now look at agreement with fmask."
   ]
  },
  {
   "cell_type": "code",
   "execution_count": null,
   "metadata": {},
   "outputs": [],
   "source": [
    "fmask.flags_definition['fmask']['values']"
   ]
  },
  {
   "cell_type": "code",
   "execution_count": null,
   "metadata": {},
   "outputs": [],
   "source": [
    "fm_cm = np.array([[0, 0], [0, 0]])\n",
    "for label, label_date in zip(labels, label_dates):\n",
    "    fm = fmask.sel(time=label_date)\n",
    "    # How many pixels are masked that should be masked?\n",
    "    if label == 'Clear':\n",
    "        # Clear, so nothing should be masked.\n",
    "        # Clear pixels are true negatives:\n",
    "        fm_cm[0, 0] += (fm == 1).sum()\n",
    "        # Cloud pixels are false positives:\n",
    "        fm_cm[1, 0] += (fm == 2).sum()\n",
    "    elif label in {'Opaque', 'Transparent'}:\n",
    "        # Cloud, so everything should be masked.\n",
    "        # Clear pixels are false negatives:\n",
    "        fm_cm[0, 1] += (fm == 1).sum()\n",
    "        # Cloud pixels are true positives:\n",
    "        fm_cm[1, 1] += (fm == 2).sum()\n",
    "fm_cm / fm_cm.sum(axis=0, keepdims=True)"
   ]
  },
  {
   "cell_type": "markdown",
   "metadata": {},
   "source": [
    "## Partial-image labels"
   ]
  },
  {
   "cell_type": "markdown",
   "metadata": {},
   "source": [
    "Let's sample from the cloudiness axis (for mixed images). Say, 9 samples for each cube, evenly spaced between 0 and 1."
   ]
  },
  {
   "cell_type": "code",
   "execution_count": null,
   "metadata": {},
   "outputs": [],
   "source": [
    "mixed = labels == 'Mixed'"
   ]
  },
  {
   "cell_type": "code",
   "execution_count": null,
   "metadata": {},
   "outputs": [],
   "source": [
    "mixed_dates = label_dates[mixed]"
   ]
  },
  {
   "cell_type": "code",
   "execution_count": null,
   "metadata": {},
   "outputs": [],
   "source": [
    "mixed_cloudiness = np.array([(fmask.sel(time=d) == 2).mean() for d in mixed_dates])\n",
    "selected_dates = []\n",
    "for pc in np.linspace(0, 1, 9):\n",
    "    selected_dates.append(np.datetime64(mixed_dates[abs(mixed_cloudiness - pc).argmin()]))"
   ]
  },
  {
   "cell_type": "code",
   "execution_count": null,
   "metadata": {},
   "outputs": [],
   "source": [
    "rgb(ds_sorted.sel(time=selected_dates), col='time', col_wrap=3, percentile_stretch=[0.02, 0.80], size=2)\n",
    "# for i, ax in enumerate(plt.gcf().axes):\n",
    "#     ax.set_title('{:.02%}'.format(ds_sorted.isel(time=idxs[i]).cloudiness.values))"
   ]
  },
  {
   "cell_type": "markdown",
   "metadata": {},
   "source": [
    "Now let's label these. We'll use an ipyleaflet widget based on `Imagery_on_web_map.ipynb` and `interactive_polygons.ipynb`. At the moment there seems no good way to label multiple different polygons, so we will only fill in opaque cloud on this map."
   ]
  },
  {
   "cell_type": "code",
   "execution_count": null,
   "metadata": {},
   "outputs": [],
   "source": [
    "def get_interactive_map(times, cloud_type='Opaque'):\n",
    "    # Set up the map.\n",
    "    bbox = ds.geobox.extent.to_crs('EPSG:4326').boundingbox\n",
    "    zoom = odc.ui.zoom_from_bbox(bbox)\n",
    "    center = (bbox.bottom + bbox.top) * 0.5, (bbox.right + bbox.left) * 0.5\n",
    "    m = ipyleaflet.Map(\n",
    "        center=center,\n",
    "        zoom=zoom,\n",
    "        scroll_wheel_zoom=True,  # Allow zoom with the mouse scroll wheel\n",
    "        layout=widgets.Layout(\n",
    "            width='600px',   # Set Width of the map to 600 pixels, examples: \"100%\", \"5em\", \"300px\"\n",
    "            height='600px',  # Set height of the map\n",
    "        ))\n",
    "    \n",
    "    def add_image_layer(time):\n",
    "        # Add the image.\n",
    "        # If the time axis has 0 shape, or >1 element, mk_image_overlay fails. https://github.com/opendatacube/odc-tools/issues/75\n",
    "        # rioxarray doesn't like having more than x and y coordinate axes.\n",
    "        img_layer = odc.ui.mk_image_overlay(\n",
    "            ds_sorted.sel(time=time).drop('time').drop('cloudiness').rio.reproject(\n",
    "                dst_crs='EPSG:3857', shape=ds.fmask.shape[1:], resampling=rasterio.warp.Resampling.bilinear),\n",
    "            bands=rgb_bands,\n",
    "            clamp=3000,\n",
    "            fmt='jpeg')\n",
    "        m.add_layer(img_layer)\n",
    "        return img_layer\n",
    "    \n",
    "    idx = 0\n",
    "    img_layer = add_image_layer(times[idx])\n",
    "    \n",
    "    # Add the drawing controls.\n",
    "    fill_colours = {'Opaque': '#BEBEFF', 'Clear': '#BEFFBE', 'Transparent': '#FFBEBE'}\n",
    "    feature_collection = {\n",
    "        'type': 'FeatureCollection',\n",
    "        'features': [],\n",
    "    }\n",
    "    \n",
    "    \n",
    "    for type_ in [cloud_type]:  # This is how I'd like to do multiple types in the one image, but I can't figure out how to label the icons.\n",
    "                              # Update 11/08/20: Found a way to do this with CSS, but it's not pretty! TODO: Figure out a better way.\n",
    "        draw_control = ipyleaflet.DrawControl()\n",
    "        draw_control.polygon = {\n",
    "            \"shapeOptions\": {\n",
    "                \"fillColor\": fill_colours[type_],\n",
    "                \"color\": fill_colours[type_],\n",
    "            },\n",
    "            \"allowIntersection\": False,\n",
    "            'title': type_,\n",
    "        }\n",
    "        # Disable polyline and circlemarker controls so that only polygon remains.\n",
    "        draw_control.polyline = {}\n",
    "        draw_control.circlemarker = {}\n",
    "        def handle_draw(self, action, geo_json):\n",
    "            geo_json['properties']['type'] = type_\n",
    "            geo_json['properties']['index'] = times[idx]\n",
    "            feature_collection['features'].append(geo_json)\n",
    "        draw_control.on_draw(handle_draw)\n",
    "        draw_control.edit = False\n",
    "        draw_control.remove = False\n",
    "        m.add_control(draw_control)\n",
    "        \n",
    "    draw_control.edit = False  # Until syncing works.\n",
    "    draw_control.remove = False  # Until syncing works.\n",
    "    \n",
    "    # Add next button.\n",
    "    button_next = widgets.Button(\n",
    "        description='Next',\n",
    "        button_style='info',\n",
    "        icon='next')\n",
    "    def on_click(self):\n",
    "        nonlocal idx\n",
    "        nonlocal img_layer\n",
    "        if idx + 1 < len(times):\n",
    "            idx += 1\n",
    "            m.remove_layer(img_layer)\n",
    "            img_layer = add_image_layer(times[idx])\n",
    "            draw_control.clear_polygons()\n",
    "    button_next.on_click(on_click)\n",
    "    \n",
    "    # Need to return feature_collection or it will be stuck inside the function.\n",
    "    return widgets.VBox([button_next, m]), feature_collection"
   ]
  },
  {
   "cell_type": "code",
   "execution_count": null,
   "metadata": {},
   "outputs": [],
   "source": [
    "map_, fc_opaque = get_interactive_map(selected_dates, cloud_type='Opaque')\n",
    "\n",
    "# Here's a way to label multiple icons.\n",
    "# from IPython.display import HTML, display\n",
    "# import uuid\n",
    "# map_class = 'cloud-labelling-map-{}'.format(uuid.uuid4())\n",
    "# map_.add_class(map_class)\n",
    "# def on_displayed(widget):\n",
    "#     display(HTML(f'''\n",
    "# <style>\n",
    "# .{map_class} .leaflet-control .leaflet-draw-toolbar {{\n",
    "#     background-color: white;\n",
    "#     width: 80px;\n",
    "# }}\n",
    "# .{map_class} .leaflet-control:nth-of-type(2) .leaflet-draw-section:first-child .leaflet-draw-toolbar:first-child:after {{\n",
    "#     content: 'Opaque';\n",
    "# }}\n",
    "# .{map_class} .leaflet-control:nth-of-type(3) .leaflet-draw-section:first-child .leaflet-draw-toolbar:first-child:after {{\n",
    "#     content: 'Transparent';\n",
    "# }}\n",
    "# .{map_class} .leaflet-control:nth-of-type(4) .leaflet-draw-section:first-child .leaflet-draw-toolbar:first-child:after {{\n",
    "#     content: 'Clear';\n",
    "# }}\n",
    "# </style>\n",
    "# '''))\n",
    "# map_.on_displayed(on_displayed)\n",
    "print('Please label opaque clouds. Including transparent clouds is OK, since transparency will override opacity.')\n",
    "map_"
   ]
  },
  {
   "cell_type": "code",
   "execution_count": null,
   "metadata": {},
   "outputs": [],
   "source": [
    "print('Please label transparent clouds.')\n",
    "map_, fc_transparent = get_interactive_map(selected_dates, cloud_type='Transparent')\n",
    "map_"
   ]
  },
  {
   "cell_type": "markdown",
   "metadata": {},
   "source": [
    "This gives us a GeoJSON FeatureCollection."
   ]
  },
  {
   "cell_type": "code",
   "execution_count": null,
   "metadata": {},
   "outputs": [],
   "source": [
    "fc = fc_opaque + fc_transparent"
   ]
  },
  {
   "cell_type": "code",
   "execution_count": null,
   "metadata": {},
   "outputs": [],
   "source": [
    "fc_ = gpd.GeoDataFrame({'geometry': [shape(s['geometry']) for s in fc['features']], 'time_index': [s['properties']['index'] for s in fc['features']]})"
   ]
  },
  {
   "cell_type": "code",
   "execution_count": null,
   "metadata": {},
   "outputs": [],
   "source": [
    "plt.figure()\n",
    "ax = plt.subplot(1, 1, 1)\n",
    "rgb(ds_sorted.isel(time=idxs[0]), ax=ax)\n",
    "fc_[fc_.time_index == idxs[0]].set_crs('EPSG:4326').to_crs('EPSG:3577').boundary.plot(ax=ax)"
   ]
  },
  {
   "cell_type": "markdown",
   "metadata": {},
   "source": [
    "We can then rasterise the polygons."
   ]
  },
  {
   "cell_type": "code",
   "execution_count": null,
   "metadata": {},
   "outputs": [],
   "source": [
    "rasters = []\n",
    "for i in range(len(idxs)):\n",
    "    sh = fc_[fc_.time_index == idxs[i]].set_crs('EPSG:4326').to_crs('EPSG:3577')\n",
    "    raster_polygons = rasterio.features.rasterize(shapes=sh.geometry,\n",
    "                                                  out_shape=(ds_sorted.y.shape[0], ds_sorted.x.shape[0]),\n",
    "                                                  all_touched=True,\n",
    "                                                  fill=0,\n",
    "                                                  default_value=1,\n",
    "                                                  transform=ds_sorted.fmask.geobox.transform)\n",
    "    rasters.append(raster_polygons)\n",
    "rasters = np.array(rasters)\n",
    "rasters = xarray.DataArray(data=rasters, coords=ds_sorted.fmask.isel(time=idxs).coords)"
   ]
  },
  {
   "cell_type": "code",
   "execution_count": null,
   "metadata": {},
   "outputs": [],
   "source": [
    "rasters.plot(col='time', col_wrap=3)"
   ]
  },
  {
   "cell_type": "markdown",
   "metadata": {},
   "source": [
    "Then we make some xarrays for fully clear and fully opaque or transparent images."
   ]
  },
  {
   "cell_type": "code",
   "execution_count": null,
   "metadata": {},
   "outputs": [],
   "source": [
    "clear_times = saved_labels[labels == 'Clear', 0]\n",
    "clear = [xarray.zeros_like(fmask.sel(time=t)) + 1 for t in clear_times]\n",
    "cloud_times = saved_labels[(labels == 'Transparent') | (labels == 'Opaque'), 0]\n",
    "cloud = [xarray.zeros_like(fmask.sel(time=t)) + 2 for t in cloud_times]\n",
    "full_labels = xarray.concat(clear + cloud, dim='time')"
   ]
  },
  {
   "cell_type": "code",
   "execution_count": null,
   "metadata": {},
   "outputs": [],
   "source": [
    "all_labels = xarray.concat([rasters + 1, full_labels], dim='time')"
   ]
  },
  {
   "cell_type": "code",
   "execution_count": null,
   "metadata": {},
   "outputs": [],
   "source": [
    "datacube.utils.cog.write_cog(all_labels.sortby('time'), 'labels.tif')"
   ]
  },
  {
   "cell_type": "code",
   "execution_count": null,
   "metadata": {},
   "outputs": [],
   "source": [
    "plt.figure()\n",
    "plt.plot(all_labels.sum(dim=('x', 'y')))"
   ]
  },
  {
   "cell_type": "markdown",
   "metadata": {},
   "source": [
    "Let's look at ts_mask and fmask on this same dataset."
   ]
  },
  {
   "cell_type": "code",
   "execution_count": null,
   "metadata": {},
   "outputs": [],
   "source": [
    "test_times = all_labels.time"
   ]
  },
  {
   "cell_type": "code",
   "execution_count": null,
   "metadata": {},
   "outputs": [],
   "source": [
    "plt.figure()\n",
    "ax = plt.subplot(1, 1, 1)\n",
    "rgb(ds_sorted.sel(time=test_times[0]), ax=ax)\n",
    "all_labels.sel(time=test_times[0]).plot.contour(ax=ax)"
   ]
  },
  {
   "cell_type": "code",
   "execution_count": null,
   "metadata": {},
   "outputs": [],
   "source": [
    "%matplotlib inline\n",
    "for t in test_times:\n",
    "    plt.figure(figsize=(9, 3))\n",
    "    ax = plt.subplot(1, 3, 1)\n",
    "    rgb(ds.sel(time=t), ax=ax)\n",
    "    all_labels.sel(time=t).plot.contour(ax=ax)\n",
    "    ax.set_title('RGB')\n",
    "    ax = plt.subplot(1, 3, 2)\n",
    "    (fmask.sel(time=t) == 2).plot(ax=ax, cmap='Greys', add_colorbar=False)\n",
    "    all_labels.sel(time=t).plot.contour(ax=ax)\n",
    "    ax.set_title('fmask')\n",
    "    ax = plt.subplot(1, 3, 3)\n",
    "    (ds_tsmask.classification == 2).sel(time=t).plot(ax=ax, cmap='Greys', add_colorbar=False)\n",
    "    all_labels.sel(time=t).plot.contour(ax=ax)\n",
    "    ax.set_title('tsmask')\n",
    "    plt.tight_layout()\n",
    "    plt.show()"
   ]
  },
  {
   "cell_type": "code",
   "execution_count": null,
   "metadata": {},
   "outputs": [],
   "source": []
  }
 ],
 "metadata": {
  "kernelspec": {
   "display_name": "Python 3",
   "language": "python",
   "name": "python3"
  },
  "language_info": {
   "codemirror_mode": {
    "name": "ipython",
    "version": 3
   },
   "file_extension": ".py",
   "mimetype": "text/x-python",
   "name": "python",
   "nbconvert_exporter": "python",
   "pygments_lexer": "ipython3",
   "version": "3.6.9"
  },
  "widgets": {
   "application/vnd.jupyter.widget-state+json": {
    "state": {},
    "version_major": 2,
    "version_minor": 0
   }
  }
 },
 "nbformat": 4,
 "nbformat_minor": 4
}
