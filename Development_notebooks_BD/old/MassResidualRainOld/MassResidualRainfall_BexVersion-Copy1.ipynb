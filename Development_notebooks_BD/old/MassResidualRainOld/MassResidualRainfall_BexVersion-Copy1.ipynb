{
 "cells": [
  {
   "cell_type": "markdown",
   "metadata": {
    "ExecuteTime": {
     "end_time": "2018-06-28T01:35:53.336872Z",
     "start_time": "2018-06-28T01:35:53.327303Z"
    }
   },
   "source": [
    "Authors: Bex Dunn, Neil Symington, Claire Krause, Leo Lymburner"
   ]
  },
  {
   "cell_type": "markdown",
   "metadata": {
    "ExecuteTime": {
     "end_time": "2018-06-19T03:17:44.341801Z",
     "start_time": "2018-06-19T03:17:44.338622Z"
    }
   },
   "source": [
    "### get some modules"
   ]
  },
  {
   "cell_type": "code",
   "execution_count": 15,
   "metadata": {
    "ExecuteTime": {
     "end_time": "2018-07-05T05:26:57.979542Z",
     "start_time": "2018-07-05T05:26:57.046246Z"
    }
   },
   "outputs": [
    {
     "name": "stdout",
     "output_type": "stream",
     "text": [
      "The autoreload extension is already loaded. To reload it, use:\n",
      "  %reload_ext autoreload\n"
     ]
    }
   ],
   "source": [
    "%load_ext autoreload\n",
    "%autoreload 2\n",
    "\n",
    "from datetime import datetime\n",
    "import matplotlib.pyplot as plt\n",
    "\n",
    "#dealing with system commands\n",
    "import sys\n",
    "import os.path\n",
    "\n",
    "#modules for datacube\n",
    "import datacube\n",
    "from datacube.utils import geometry\n",
    "from datacube.storage.storage import write_dataset_to_netcdf\n",
    "from datacube.helpers import write_geotiff\n",
    "\n",
    "# Import external functions from dea-notebooks\n",
    "sys.path.append(os.path.expanduser('~/dea-notebooks/Scripts/'))\n",
    "from RainfallTools import load_rainfall, calculate_residual_mass_curve"
   ]
  },
  {
   "cell_type": "markdown",
   "metadata": {},
   "source": [
    "## Choose a time period and location to calculate residual mass curve.\n",
    " - Note: please select whole months here, not days, as a month with only two days may negatively affect your mass residual curve"
   ]
  },
  {
   "cell_type": "code",
   "execution_count": 47,
   "metadata": {
    "ExecuteTime": {
     "end_time": "2018-07-05T22:54:59.195452Z",
     "start_time": "2018-07-05T22:54:57.699281Z"
    }
   },
   "outputs": [],
   "source": [
    "## Choose a query area and time\n",
    "##note: datacube is inclusive of both ends of the interval.\n",
    "\n",
    "query = {\n",
    "        'lat': (-35.25, -35.35),\n",
    "        'lon': (149.05, 149.17),\n",
    "        'time':('2010-01-01', '2013-03-31')\n",
    "        }"
   ]
  },
  {
   "cell_type": "markdown",
   "metadata": {
    "ExecuteTime": {
     "end_time": "2018-06-19T03:17:55.964257Z",
     "start_time": "2018-06-19T03:17:55.960083Z"
    }
   },
   "source": [
    "### load rainfall data"
   ]
  },
  {
   "cell_type": "code",
   "execution_count": 48,
   "metadata": {
    "ExecuteTime": {
     "end_time": "2018-07-05T22:54:59.263275Z",
     "start_time": "2018-07-05T22:54:59.201336Z"
    }
   },
   "outputs": [],
   "source": [
    "#using the BoM grids to 2013. These are out by 2.5km, be aware."
   ]
  },
  {
   "cell_type": "code",
   "execution_count": 49,
   "metadata": {
    "ExecuteTime": {
     "end_time": "2018-07-05T22:55:06.252800Z",
     "start_time": "2018-07-05T22:54:59.266434Z"
    }
   },
   "outputs": [],
   "source": [
    "#rainfall = load_rainfall(query)\n",
    "dc = datacube.Datacube(app='dc-BOMrainfall')\n",
    "rainfall = dc.load(product = 'bom_rainfall_grids', **query)"
   ]
  },
  {
   "cell_type": "markdown",
   "metadata": {},
   "source": [
    "## calculate rainfall mass residual"
   ]
  },
  {
   "cell_type": "code",
   "execution_count": 19,
   "metadata": {
    "ExecuteTime": {
     "end_time": "2018-07-05T05:27:06.738242Z",
     "start_time": "2018-07-05T05:27:06.702108Z"
    }
   },
   "outputs": [],
   "source": [
    "'''This function calculates the residual mass rainfall curve ##FIXME\n",
    ":param a: '''\n",
    "import datacube\n",
    "import numpy as np\n",
    "import xarray as xr"
   ]
  },
  {
   "cell_type": "markdown",
   "metadata": {
    "ExecuteTime": {
     "end_time": "2018-06-28T23:43:28.605179Z",
     "start_time": "2018-06-28T23:43:28.351228Z"
    }
   },
   "source": [
    "## resample rainfall data to month start ##FIXME, daily option"
   ]
  },
  {
   "cell_type": "code",
   "execution_count": 50,
   "metadata": {
    "ExecuteTime": {
     "end_time": "2018-07-05T22:55:08.996288Z",
     "start_time": "2018-07-05T22:55:08.957559Z"
    }
   },
   "outputs": [],
   "source": [
    "#we have daily rainfall here."
   ]
  },
  {
   "cell_type": "code",
   "execution_count": 51,
   "metadata": {
    "ExecuteTime": {
     "end_time": "2018-07-05T22:55:09.666941Z",
     "start_time": "2018-07-05T22:55:09.579256Z"
    }
   },
   "outputs": [
    {
     "data": {
      "text/plain": [
       "<xarray.Dataset>\n",
       "Dimensions:    (latitude: 2, longitude: 3, time: 1186)\n",
       "Coordinates:\n",
       "  * time       (time) datetime64[ns] 2010-01-01 2010-01-02 2010-01-03 ...\n",
       "  * latitude   (latitude) float64 -35.27 -35.32\n",
       "  * longitude  (longitude) float64 149.1 149.1 149.2\n",
       "Data variables:\n",
       "    rainfall   (time, latitude, longitude) float32 1.0589818 1.0485023 ...\n",
       "Attributes:\n",
       "    crs:      EPSG:4326"
      ]
     },
     "execution_count": 51,
     "metadata": {},
     "output_type": "execute_result"
    }
   ],
   "source": [
    "rainfall"
   ]
  },
  {
   "cell_type": "code",
   "execution_count": 52,
   "metadata": {
    "ExecuteTime": {
     "end_time": "2018-07-05T22:55:14.111779Z",
     "start_time": "2018-07-05T22:55:14.028157Z"
    }
   },
   "outputs": [
    {
     "data": {
      "text/plain": [
       "<xarray.Dataset>\n",
       "Dimensions:    (latitude: 2, longitude: 3, time: 1186)\n",
       "Coordinates:\n",
       "  * latitude   (latitude) float64 -35.27 -35.32\n",
       "  * longitude  (longitude) float64 149.1 149.1 149.2\n",
       "Dimensions without coordinates: time\n",
       "Data variables:\n",
       "    rainfall   (time, latitude, longitude) float32 1.0589818 1.0485023 ...\n",
       "Attributes:\n",
       "    crs:      EPSG:4326"
      ]
     },
     "execution_count": 52,
     "metadata": {},
     "output_type": "execute_result"
    }
   ],
   "source": [
    "cumulative_rainfall = rainfall.cumsum(dim='time',keep_attrs=True)\n",
    "cumulative_rainfall"
   ]
  },
  {
   "cell_type": "code",
   "execution_count": 23,
   "metadata": {
    "ExecuteTime": {
     "end_time": "2018-07-05T05:27:26.491583Z",
     "start_time": "2018-07-05T05:27:26.450524Z"
    }
   },
   "outputs": [],
   "source": [
    "## Bex version"
   ]
  },
  {
   "cell_type": "code",
   "execution_count": 59,
   "metadata": {
    "ExecuteTime": {
     "end_time": "2018-07-05T23:05:22.319524Z",
     "start_time": "2018-07-05T23:05:22.249734Z"
    }
   },
   "outputs": [],
   "source": [
    "#resample rainfall data to month start\n",
    "dayofyear_rainfall = rainfall.groupby('time.dayofyear')\n",
    "#dayofyear_rainfall.groups #print groups"
   ]
  },
  {
   "cell_type": "code",
   "execution_count": null,
   "metadata": {},
   "outputs": [],
   "source": []
  },
  {
   "cell_type": "code",
   "execution_count": 42,
   "metadata": {
    "ExecuteTime": {
     "end_time": "2018-07-05T05:36:40.467590Z",
     "start_time": "2018-07-05T05:36:33.916757Z"
    }
   },
   "outputs": [
    {
     "data": {
      "text/plain": [
       "<xarray.plot.facetgrid.FacetGrid at 0x7fb746b0f6a0>"
      ]
     },
     "execution_count": 42,
     "metadata": {},
     "output_type": "execute_result"
    },
    {
     "data": {
      "image/png": "[encoded data removed]",
      "text/plain": [
       "<Figure size 1368x1512 with 43 Axes>"
      ]
     },
     "metadata": {},
     "output_type": "display_data"
    }
   ],
   "source": [
    "(monthly_rainfall==monthly_rainfall_mean).rainfall.plot(col='time', col_wrap=6)"
   ]
  },
  {
   "cell_type": "code",
   "execution_count": 38,
   "metadata": {
    "ExecuteTime": {
     "end_time": "2018-07-05T05:35:08.826734Z",
     "start_time": "2018-07-05T05:35:07.573664Z"
    }
   },
   "outputs": [],
   "source": [
    "monthly_rainfall_mean=rainfall.resample(time='MS').mean()"
   ]
  },
  {
   "cell_type": "code",
   "execution_count": 39,
   "metadata": {
    "ExecuteTime": {
     "end_time": "2018-07-05T05:35:14.253950Z",
     "start_time": "2018-07-05T05:35:08.830076Z"
    }
   },
   "outputs": [
    {
     "data": {
      "text/plain": [
       "<xarray.plot.facetgrid.FacetGrid at 0x7fb75a23c0f0>"
      ]
     },
     "execution_count": 39,
     "metadata": {},
     "output_type": "execute_result"
    },
    {
     "data": {
      "image/png": "[encoded data removed]",
      "text/plain": [
       "<Figure size 1368x1512 with 43 Axes>"
      ]
     },
     "metadata": {},
     "output_type": "display_data"
    }
   ],
   "source": [
    "monthly_rainfall_mean.rainfall.plot(col='time', col_wrap=6)"
   ]
  },
  {
   "cell_type": "code",
   "execution_count": 28,
   "metadata": {
    "ExecuteTime": {
     "end_time": "2018-07-05T05:27:53.348601Z",
     "start_time": "2018-07-05T05:27:53.282502Z"
    }
   },
   "outputs": [],
   "source": [
    "# find the number of years in the data\n",
    "years_in_data = len(monthly_rainfall.rainfall.time)/12"
   ]
  },
  {
   "cell_type": "code",
   "execution_count": 187,
   "metadata": {
    "ExecuteTime": {
     "end_time": "2018-07-05T04:42:47.822268Z",
     "start_time": "2018-07-05T04:42:47.754400Z"
    }
   },
   "outputs": [
    {
     "data": {
      "text/plain": [
       "3.0"
      ]
     },
     "execution_count": 187,
     "metadata": {},
     "output_type": "execute_result"
    }
   ],
   "source": [
    "years_in_data"
   ]
  },
  {
   "cell_type": "code",
   "execution_count": 188,
   "metadata": {
    "ExecuteTime": {
     "end_time": "2018-07-05T04:42:59.415247Z",
     "start_time": "2018-07-05T04:42:59.333274Z"
    }
   },
   "outputs": [
    {
     "data": {
      "text/plain": [
       "<xarray.Dataset>\n",
       "Dimensions:    (latitude: 2, longitude: 3, time: 36)\n",
       "Coordinates:\n",
       "  * time       (time) datetime64[ns] 2010-01-01 2010-02-01 2010-03-01 ...\n",
       "  * latitude   (latitude) float64 -35.27 -35.32\n",
       "  * longitude  (longitude) float64 149.1 149.1 149.2\n",
       "Data variables:\n",
       "    rainfall   (time, latitude, longitude) float32 6.088235 7.4755325 ..."
      ]
     },
     "execution_count": 188,
     "metadata": {},
     "output_type": "execute_result"
    }
   ],
   "source": [
    "monthly_rainfall"
   ]
  },
  {
   "cell_type": "code",
   "execution_count": 218,
   "metadata": {
    "ExecuteTime": {
     "end_time": "2018-07-05T04:50:09.934723Z",
     "start_time": "2018-07-05T04:50:08.764532Z"
    }
   },
   "outputs": [],
   "source": [
    "cumulative_rainfall = monthly_rainfall.cumsum(dim='time')"
   ]
  },
  {
   "cell_type": "code",
   "execution_count": 219,
   "metadata": {
    "ExecuteTime": {
     "end_time": "2018-07-05T04:50:10.758316Z",
     "start_time": "2018-07-05T04:50:10.657490Z"
    }
   },
   "outputs": [
    {
     "data": {
      "text/plain": [
       "<xarray.Dataset>\n",
       "Dimensions:    (latitude: 2, longitude: 3, time: 36)\n",
       "Coordinates:\n",
       "  * time       (time) datetime64[ns] 2010-01-01 2010-02-01 2010-03-01 ...\n",
       "  * latitude   (latitude) float64 -35.27 -35.32\n",
       "  * longitude  (longitude) float64 149.1 149.1 149.2\n",
       "Data variables:\n",
       "    rainfall   (time, latitude, longitude) float32 6.088235 7.4755325 ..."
      ]
     },
     "execution_count": 219,
     "metadata": {},
     "output_type": "execute_result"
    }
   ],
   "source": [
    "monthly_rainfall"
   ]
  },
  {
   "cell_type": "code",
   "execution_count": 220,
   "metadata": {
    "ExecuteTime": {
     "end_time": "2018-07-05T04:50:12.090436Z",
     "start_time": "2018-07-05T04:50:12.013848Z"
    }
   },
   "outputs": [
    {
     "data": {
      "text/plain": [
       "<xarray.Dataset>\n",
       "Dimensions:    (latitude: 2, longitude: 3, time: 36)\n",
       "Coordinates:\n",
       "  * latitude   (latitude) float64 -35.27 -35.32\n",
       "  * longitude  (longitude) float64 149.1 149.1 149.2\n",
       "Dimensions without coordinates: time\n",
       "Data variables:\n",
       "    rainfall   (time, latitude, longitude) float32 6.088235 7.4755325 ..."
      ]
     },
     "execution_count": 220,
     "metadata": {},
     "output_type": "execute_result"
    }
   ],
   "source": [
    "cumulative_rainfall"
   ]
  },
  {
   "cell_type": "code",
   "execution_count": 221,
   "metadata": {
    "ExecuteTime": {
     "end_time": "2018-07-05T04:50:13.853602Z",
     "start_time": "2018-07-05T04:50:13.774456Z"
    }
   },
   "outputs": [
    {
     "data": {
      "text/plain": [
       "<xarray.Dataset>\n",
       "Dimensions:    (latitude: 2, longitude: 3, time: 36)\n",
       "Coordinates:\n",
       "  * time       (time) datetime64[ns] 2010-01-01 2010-02-01 2010-03-01 ...\n",
       "  * latitude   (latitude) float64 -35.27 -35.32\n",
       "  * longitude  (longitude) float64 149.1 149.1 149.2\n",
       "Data variables:\n",
       "    rainfall   (time, latitude, longitude) float32 6.088235 7.4755325 ..."
      ]
     },
     "execution_count": 221,
     "metadata": {},
     "output_type": "execute_result"
    }
   ],
   "source": [
    "monthly_rainfall"
   ]
  },
  {
   "cell_type": "code",
   "execution_count": 227,
   "metadata": {
    "ExecuteTime": {
     "end_time": "2018-07-05T04:51:33.768992Z",
     "start_time": "2018-07-05T04:51:33.671020Z"
    }
   },
   "outputs": [
    {
     "data": {
      "text/plain": [
       "<xarray.Dataset>\n",
       "Dimensions:    (latitude: 2, longitude: 3, month: 12)\n",
       "Coordinates:\n",
       "  * latitude   (latitude) float64 -35.27 -35.32\n",
       "  * longitude  (longitude) float64 149.1 149.1 149.2\n",
       "  * month      (month) int64 1 2 3 4 5 6 7 8 9 10 11 12\n",
       "Data variables:\n",
       "    rainfall   (month, latitude, longitude) float32 1.2327089 1.2016234 ...\n",
       "Attributes:\n",
       "    crs:      EPSG:4326"
      ]
     },
     "execution_count": 227,
     "metadata": {},
     "output_type": "execute_result"
    }
   ],
   "source": [
    "monthly_rainfall.resample"
   ]
  },
  {
   "cell_type": "code",
   "execution_count": null,
   "metadata": {},
   "outputs": [],
   "source": [
    "#cumulative rainfall has lost its time coordinates. can we reattach?"
   ]
  },
  {
   "cell_type": "code",
   "execution_count": 223,
   "metadata": {
    "ExecuteTime": {
     "end_time": "2018-07-05T04:50:20.757519Z",
     "start_time": "2018-07-05T04:50:20.686708Z"
    }
   },
   "outputs": [],
   "source": [
    "cumulative_rainfall=cumulative_rainfall.assign_coords(time=monthly_rainfall.coords['time'])"
   ]
  },
  {
   "cell_type": "code",
   "execution_count": 228,
   "metadata": {
    "ExecuteTime": {
     "end_time": "2018-07-05T04:55:38.797171Z",
     "start_time": "2018-07-05T04:55:37.499023Z"
    }
   },
   "outputs": [
    {
     "data": {
      "text/plain": [
       "<xarray.Dataset>\n",
       "Dimensions:    (latitude: 2, longitude: 3, time: 36)\n",
       "Coordinates:\n",
       "  * latitude   (latitude) float64 -35.27 -35.32\n",
       "  * longitude  (longitude) float64 149.1 149.1 149.2\n",
       "  * time       (time) datetime64[ns] 2010-01-01 2010-02-01 2010-03-01 ...\n",
       "Data variables:\n",
       "    rainfall   (time, latitude, longitude) float32 6.088235 7.4755325 ..."
      ]
     },
     "execution_count": 228,
     "metadata": {},
     "output_type": "execute_result"
    }
   ],
   "source": [
    "cumulative_rainfall"
   ]
  },
  {
   "cell_type": "code",
   "execution_count": 232,
   "metadata": {
    "ExecuteTime": {
     "end_time": "2018-07-05T04:56:41.787720Z",
     "start_time": "2018-07-05T04:56:40.536872Z"
    }
   },
   "outputs": [],
   "source": [
    "\n",
    "#arr = monthly_rainfall.rainfall.values\n",
    "\n",
    "#cum_rf = np.cumsum(arr, axis = 0)"
   ]
  },
  {
   "cell_type": "code",
   "execution_count": 233,
   "metadata": {
    "ExecuteTime": {
     "end_time": "2018-07-05T04:56:41.855173Z",
     "start_time": "2018-07-05T04:56:41.792956Z"
    }
   },
   "outputs": [],
   "source": [
    "##cum_rf_xr = xr.DataArray(cum_rf, dims = ('time', 'latitude', 'longitude'),\n",
    "      #                  coords = [monthly_rainfall.time, monthly_rainfall.latitude, monthly_rainfall.longitude])"
   ]
  },
  {
   "cell_type": "code",
   "execution_count": 234,
   "metadata": {
    "ExecuteTime": {
     "end_time": "2018-07-05T04:56:41.904598Z",
     "start_time": "2018-07-05T04:56:41.858738Z"
    }
   },
   "outputs": [],
   "source": [
    "#cum_rf_xr"
   ]
  },
  {
   "cell_type": "code",
   "execution_count": 236,
   "metadata": {
    "ExecuteTime": {
     "end_time": "2018-07-05T04:57:12.180560Z",
     "start_time": "2018-07-05T04:57:12.128328Z"
    }
   },
   "outputs": [],
   "source": [
    "# NOw we will calculate a cumulative rainfall assuming average rainfall on a month by month basis\n",
    "# Find the average of all months\n",
    "ave_months = rainfall.rainfall.groupby('time.month').mean('time').values"
   ]
  },
  {
   "cell_type": "code",
   "execution_count": 238,
   "metadata": {
    "ExecuteTime": {
     "end_time": "2018-07-05T04:57:28.564285Z",
     "start_time": "2018-07-05T04:57:28.488176Z"
    }
   },
   "outputs": [
    {
     "data": {
      "text/plain": [
       "(12, 2, 3)"
      ]
     },
     "execution_count": 238,
     "metadata": {},
     "output_type": "execute_result"
    }
   ],
   "source": [
    "ave_months.shape"
   ]
  },
  {
   "cell_type": "code",
   "execution_count": 99,
   "metadata": {
    "ExecuteTime": {
     "end_time": "2018-07-05T03:45:42.838821Z",
     "start_time": "2018-07-05T03:45:42.780208Z"
    }
   },
   "outputs": [],
   "source": [
    "#d#aily_mean_rainfall.plot(rainfall, time.dayofyear)"
   ]
  },
  {
   "cell_type": "code",
   "execution_count": null,
   "metadata": {},
   "outputs": [],
   "source": []
  },
  {
   "cell_type": "code",
   "execution_count": 240,
   "metadata": {
    "ExecuteTime": {
     "end_time": "2018-07-05T04:57:46.856912Z",
     "start_time": "2018-07-05T04:57:45.335111Z"
    }
   },
   "outputs": [],
   "source": [
    "# In the case that we are not starting from January we will need to reorder the array\n",
    "\n",
    "start_month = rainfall.time[0].dt.month.values - 1\n",
    "\n",
    "ave_month = np.concatenate((ave_months[start_month:,:,:], ave_months[0:start_month,:,:]), axis = 0)"
   ]
  },
  {
   "cell_type": "code",
   "execution_count": 242,
   "metadata": {
    "ExecuteTime": {
     "end_time": "2018-07-05T04:58:01.830507Z",
     "start_time": "2018-07-05T04:58:01.776319Z"
    }
   },
   "outputs": [
    {
     "data": {
      "text/plain": [
       "(12, 2, 3)"
      ]
     },
     "execution_count": 242,
     "metadata": {},
     "output_type": "execute_result"
    }
   ],
   "source": [
    "ave_month.shape"
   ]
  },
  {
   "cell_type": "code",
   "execution_count": 244,
   "metadata": {
    "ExecuteTime": {
     "end_time": "2018-07-05T04:58:24.800138Z",
     "start_time": "2018-07-05T04:58:24.732885Z"
    }
   },
   "outputs": [],
   "source": [
    "# Tile an array so that we can run a cumulative sum on it\n",
    "tiled_ave = np.tile(ave_months, (round(years_in_data), 1, 1))"
   ]
  },
  {
   "cell_type": "code",
   "execution_count": 245,
   "metadata": {
    "ExecuteTime": {
     "end_time": "2018-07-05T04:58:28.833838Z",
     "start_time": "2018-07-05T04:58:28.756299Z"
    },
    "scrolled": false
   },
   "outputs": [
    {
     "data": {
      "text/plain": [
       "array([[[1.2327089 , 1.2016234 , 1.2202531 ],\n",
       "        [1.4278694 , 1.3471347 , 1.3026    ]],\n",
       "\n",
       "       [[5.166558  , 4.991827  , 4.8559637 ],\n",
       "        [5.2595143 , 5.073073  , 4.9466734 ]],\n",
       "\n",
       "       [[4.139104  , 3.9780073 , 3.7854402 ],\n",
       "        [4.4425592 , 4.1761317 , 3.9471548 ]],\n",
       "\n",
       "       [[0.79731786, 0.7169497 , 0.6380627 ],\n",
       "        [0.8234438 , 0.7240107 , 0.65298676]],\n",
       "\n",
       "       [[1.251132  , 1.2921295 , 1.3341397 ],\n",
       "        [1.3422637 , 1.3230679 , 1.3372027 ]],\n",
       "\n",
       "       [[0.9450547 , 0.92879725, 0.8978097 ],\n",
       "        [0.99407595, 0.953655  , 0.91764545]],\n",
       "\n",
       "       [[1.496931  , 1.4604204 , 1.4196259 ],\n",
       "        [1.5561793 , 1.4563824 , 1.3917724 ]],\n",
       "\n",
       "       [[1.7916248 , 1.7248693 , 1.6322174 ],\n",
       "        [1.7331539 , 1.6210798 , 1.5578508 ]],\n",
       "\n",
       "       [[1.7451926 , 1.6850349 , 1.6214226 ],\n",
       "        [1.7765293 , 1.6726191 , 1.5972911 ]],\n",
       "\n",
       "       [[2.1041129 , 2.0080025 , 1.864031  ],\n",
       "        [2.4124365 , 2.2347426 , 2.0712535 ]],\n",
       "\n",
       "       [[3.3124294 , 3.2282143 , 3.2151692 ],\n",
       "        [3.3662214 , 3.2512488 , 3.2158868 ]],\n",
       "\n",
       "       [[2.9030123 , 2.9887676 , 3.0260053 ],\n",
       "        [3.2875977 , 3.2335513 , 3.1861327 ]],\n",
       "\n",
       "       [[1.2327089 , 1.2016234 , 1.2202531 ],\n",
       "        [1.4278694 , 1.3471347 , 1.3026    ]],\n",
       "\n",
       "       [[5.166558  , 4.991827  , 4.8559637 ],\n",
       "        [5.2595143 , 5.073073  , 4.9466734 ]],\n",
       "\n",
       "       [[4.139104  , 3.9780073 , 3.7854402 ],\n",
       "        [4.4425592 , 4.1761317 , 3.9471548 ]],\n",
       "\n",
       "       [[0.79731786, 0.7169497 , 0.6380627 ],\n",
       "        [0.8234438 , 0.7240107 , 0.65298676]],\n",
       "\n",
       "       [[1.251132  , 1.2921295 , 1.3341397 ],\n",
       "        [1.3422637 , 1.3230679 , 1.3372027 ]],\n",
       "\n",
       "       [[0.9450547 , 0.92879725, 0.8978097 ],\n",
       "        [0.99407595, 0.953655  , 0.91764545]],\n",
       "\n",
       "       [[1.496931  , 1.4604204 , 1.4196259 ],\n",
       "        [1.5561793 , 1.4563824 , 1.3917724 ]],\n",
       "\n",
       "       [[1.7916248 , 1.7248693 , 1.6322174 ],\n",
       "        [1.7331539 , 1.6210798 , 1.5578508 ]],\n",
       "\n",
       "       [[1.7451926 , 1.6850349 , 1.6214226 ],\n",
       "        [1.7765293 , 1.6726191 , 1.5972911 ]],\n",
       "\n",
       "       [[2.1041129 , 2.0080025 , 1.864031  ],\n",
       "        [2.4124365 , 2.2347426 , 2.0712535 ]],\n",
       "\n",
       "       [[3.3124294 , 3.2282143 , 3.2151692 ],\n",
       "        [3.3662214 , 3.2512488 , 3.2158868 ]],\n",
       "\n",
       "       [[2.9030123 , 2.9887676 , 3.0260053 ],\n",
       "        [3.2875977 , 3.2335513 , 3.1861327 ]],\n",
       "\n",
       "       [[1.2327089 , 1.2016234 , 1.2202531 ],\n",
       "        [1.4278694 , 1.3471347 , 1.3026    ]],\n",
       "\n",
       "       [[5.166558  , 4.991827  , 4.8559637 ],\n",
       "        [5.2595143 , 5.073073  , 4.9466734 ]],\n",
       "\n",
       "       [[4.139104  , 3.9780073 , 3.7854402 ],\n",
       "        [4.4425592 , 4.1761317 , 3.9471548 ]],\n",
       "\n",
       "       [[0.79731786, 0.7169497 , 0.6380627 ],\n",
       "        [0.8234438 , 0.7240107 , 0.65298676]],\n",
       "\n",
       "       [[1.251132  , 1.2921295 , 1.3341397 ],\n",
       "        [1.3422637 , 1.3230679 , 1.3372027 ]],\n",
       "\n",
       "       [[0.9450547 , 0.92879725, 0.8978097 ],\n",
       "        [0.99407595, 0.953655  , 0.91764545]],\n",
       "\n",
       "       [[1.496931  , 1.4604204 , 1.4196259 ],\n",
       "        [1.5561793 , 1.4563824 , 1.3917724 ]],\n",
       "\n",
       "       [[1.7916248 , 1.7248693 , 1.6322174 ],\n",
       "        [1.7331539 , 1.6210798 , 1.5578508 ]],\n",
       "\n",
       "       [[1.7451926 , 1.6850349 , 1.6214226 ],\n",
       "        [1.7765293 , 1.6726191 , 1.5972911 ]],\n",
       "\n",
       "       [[2.1041129 , 2.0080025 , 1.864031  ],\n",
       "        [2.4124365 , 2.2347426 , 2.0712535 ]],\n",
       "\n",
       "       [[3.3124294 , 3.2282143 , 3.2151692 ],\n",
       "        [3.3662214 , 3.2512488 , 3.2158868 ]],\n",
       "\n",
       "       [[2.9030123 , 2.9887676 , 3.0260053 ],\n",
       "        [3.2875977 , 3.2335513 , 3.1861327 ]]], dtype=float32)"
      ]
     },
     "execution_count": 245,
     "metadata": {},
     "output_type": "execute_result"
    }
   ],
   "source": [
    "tiled_ave"
   ]
  },
  {
   "cell_type": "code",
   "execution_count": 246,
   "metadata": {
    "ExecuteTime": {
     "end_time": "2018-07-05T04:58:59.910166Z",
     "start_time": "2018-07-05T04:58:58.609399Z"
    }
   },
   "outputs": [],
   "source": [
    "# In the case that we have residual months remove them from the tiled array\n",
    "if (years_in_data).is_integer() == False:\n",
    "    month_remainder = int(round((n%1) * 12))\n",
    "\n",
    "    tiled_ave = tiled_ave[:int(-month_remainder),:,:]\n",
    "    "
   ]
  },
  {
   "cell_type": "code",
   "execution_count": 247,
   "metadata": {
    "ExecuteTime": {
     "end_time": "2018-07-05T04:59:14.758459Z",
     "start_time": "2018-07-05T04:59:14.680337Z"
    }
   },
   "outputs": [],
   "source": [
    "# Generate the cumulative sum of rainfall one would get assuming average rainfall every month\n",
    "cum_ave = np.cumsum(tiled_ave, axis = 0)"
   ]
  },
  {
   "cell_type": "code",
   "execution_count": 259,
   "metadata": {
    "ExecuteTime": {
     "end_time": "2018-07-05T05:08:54.009676Z",
     "start_time": "2018-07-05T05:08:53.941466Z"
    }
   },
   "outputs": [
    {
     "data": {
      "text/plain": [
       "(36, 2, 3)"
      ]
     },
     "execution_count": 259,
     "metadata": {},
     "output_type": "execute_result"
    }
   ],
   "source": [
    "cum_ave.shape"
   ]
  },
  {
   "cell_type": "code",
   "execution_count": 260,
   "metadata": {
    "ExecuteTime": {
     "end_time": "2018-07-05T05:09:36.551697Z",
     "start_time": "2018-07-05T05:09:36.456805Z"
    }
   },
   "outputs": [
    {
     "data": {
      "text/plain": [
       "<xarray.Dataset>\n",
       "Dimensions:    (latitude: 2, longitude: 3, time: 36)\n",
       "Coordinates:\n",
       "  * time       (time) datetime64[ns] 2010-01-01 2010-02-01 2010-03-01 ...\n",
       "  * latitude   (latitude) float64 -35.27 -35.32\n",
       "  * longitude  (longitude) float64 149.1 149.1 149.2\n",
       "Data variables:\n",
       "    rainfall   (time, latitude, longitude) float32 6.088235 7.4755325 ..."
      ]
     },
     "execution_count": 260,
     "metadata": {},
     "output_type": "execute_result"
    }
   ],
   "source": [
    "monthly_rainfall"
   ]
  },
  {
   "cell_type": "code",
   "execution_count": 261,
   "metadata": {
    "ExecuteTime": {
     "end_time": "2018-07-05T05:09:55.807600Z",
     "start_time": "2018-07-05T05:09:54.678812Z"
    }
   },
   "outputs": [],
   "source": [
    "cum_ave_xr = xr.DataArray(cum_ave, dims = ('time', 'latitude', 'longitude'),\n",
    "                          coords = [monthly_rainfall.time, monthly_rainfall.latitude, monthly_rainfall.longitude])"
   ]
  },
  {
   "cell_type": "code",
   "execution_count": 263,
   "metadata": {
    "ExecuteTime": {
     "end_time": "2018-07-05T05:10:06.234425Z",
     "start_time": "2018-07-05T05:10:06.177829Z"
    }
   },
   "outputs": [
    {
     "data": {
      "text/plain": [
       "<xarray.DataArray (time: 36, latitude: 2, longitude: 3)>\n",
       "array([[[   4.855526,    6.273909,    7.596483],\n",
       "        [   3.422932,    5.178106,    6.917947]],\n",
       "\n",
       "       [[ 158.71602 ,  153.25311 ,  151.63263 ],\n",
       "        [ 162.77539 ,  156.091   ,  153.32541 ]],\n",
       "\n",
       "       ...,\n",
       "\n",
       "       [[2325.1902  , 2263.5847  , 2200.044   ],\n",
       "        [2463.4146  , 2342.3037  , 2256.1604  ]],\n",
       "\n",
       "       [[2357.9333  , 2298.8062  , 2237.9473  ],\n",
       "        [2495.0093  , 2375.6135  , 2292.475   ]]], dtype=float32)\n",
       "Coordinates:\n",
       "  * time       (time) datetime64[ns] 2010-01-01 2010-02-01 2010-03-01 ...\n",
       "  * latitude   (latitude) float64 -35.27 -35.32\n",
       "  * longitude  (longitude) float64 149.1 149.1 149.2"
      ]
     },
     "execution_count": 263,
     "metadata": {},
     "output_type": "execute_result"
    }
   ],
   "source": [
    "# The mass residual curve is the difference between the cumulative rainfall data and the cumulative\n",
    "# rainfall one would get iff the average always occured\n",
    "mass_res_curve = cum_rf_xr - cum_ave_xr\n",
    "\n",
    "mass_res_curve"
   ]
  },
  {
   "cell_type": "code",
   "execution_count": 46,
   "metadata": {
    "ExecuteTime": {
     "end_time": "2018-07-05T05:39:31.214234Z",
     "start_time": "2018-07-05T05:39:30.069154Z"
    }
   },
   "outputs": [
    {
     "ename": "NameError",
     "evalue": "name 'mass_res_curve' is not defined",
     "output_type": "error",
     "traceback": [
      "\u001b[0;31m---------------------------------------------------------------------------\u001b[0m",
      "\u001b[0;31mNameError\u001b[0m                                 Traceback (most recent call last)",
      "\u001b[0;32m<ipython-input-46-b31bc2a310de>\u001b[0m in \u001b[0;36m<module>\u001b[0;34m()\u001b[0m\n\u001b[1;32m      1\u001b[0m \u001b[0;31m#mass_res_curve.plot(col='time', col_wrap=6)\u001b[0m\u001b[0;34m\u001b[0m\u001b[0;34m\u001b[0m\u001b[0m\n\u001b[0;32m----> 2\u001b[0;31m \u001b[0mmass_res_curve\u001b[0m\u001b[0;34m.\u001b[0m\u001b[0mmean\u001b[0m\u001b[0;34m.\u001b[0m\u001b[0mplot\u001b[0m\u001b[0;34m(\u001b[0m\u001b[0;34m)\u001b[0m\u001b[0;34m\u001b[0m\u001b[0m\n\u001b[0m",
      "\u001b[0;31mNameError\u001b[0m: name 'mass_res_curve' is not defined"
     ]
    }
   ],
   "source": [
    "#mass_res_curve.plot(col='time', col_wrap=6)\n",
    "mass_res_curve.mean.plot()"
   ]
  },
  {
   "cell_type": "code",
   "execution_count": null,
   "metadata": {},
   "outputs": [],
   "source": [
    "xr.broadcast()"
   ]
  },
  {
   "cell_type": "code",
   "execution_count": 25,
   "metadata": {
    "ExecuteTime": {
     "end_time": "2018-07-05T02:15:49.405053Z",
     "start_time": "2018-07-05T02:15:48.173747Z"
    }
   },
   "outputs": [],
   "source": [
    "# def calculate_residual_mass_curve(a):\n",
    "#     '''This function calculates the residual mass rainfall curve\n",
    "#     :param a: '''\n",
    "    \n",
    "#     #resample rainfall data to month start\n",
    "#     a = a.resample('MS', dim='time', how='sum', keep_attrs=True) \n",
    "#     # find the number of time steps (ie. years)\n",
    "#     n = len(a.rainfall.time)/12\n",
    "    \n",
    "#     # First calculate a cumulative rainfall xarray from the rainfall data\n",
    "    \n",
    "#     arr = a.rainfall.values\n",
    "    \n",
    "#     cum_rf = np.cumsum(arr, axis = 0)\n",
    "    \n",
    "#     cum_rf_xr = xr.DataArray(cum_rf, dims = ('time', 'latitude', 'longitude'),\n",
    "#                             coords = [a.time, a.latitude, a.longitude])\n",
    "    \n",
    "#     # NOw we will calculate a cumulative rainfall assuming average rainfall on a month by month basis\n",
    "#     # Find the average of all months\n",
    "#     ave_months = a.rainfall.groupby('time.month').mean('time').values\n",
    "   \n",
    "#     # In the case that we are not starting from January we will need to reorder the array\n",
    "    \n",
    "#     start_month = a.time[0].dt.month.values - 1\n",
    "    \n",
    "#     ave_month = np.concatenate((ave_months[start_month:,:,:], ave_months[0:start_month,:,:]), axis = 0)\n",
    "\n",
    "    \n",
    "#     # Tile an array so that we can run a cumulative sum on it\n",
    "#     tiled_ave = np.tile(ave_months, (round(n), 1, 1))\n",
    "    \n",
    "#     # In the case that we have residual months remove them from the tiled array\n",
    "#     if (n).is_integer() == False:\n",
    "#         month_remainder = int(round((n%1) * 12))\n",
    "\n",
    "#         tiled_ave = tiled_ave[:int(-month_remainder),:,:]\n",
    "        \n",
    "#     # Generate the cumulative sum of rainfall one would get assuming average rainfall every month\n",
    "#     cum_ave = np.cumsum(tiled_ave, axis = 0)\n",
    "    \n",
    "#     cum_ave_xr = xr.DataArray(cum_ave, dims = ('time', 'latitude', 'longitude'),\n",
    "#                               coords = [a.time, a.latitude, a.longitude])\n",
    "    \n",
    "#     # The mass residual curve is the difference between the cumulative rainfall data and the cumulative\n",
    "#     # rainfall one would get iff the average always occured\n",
    "#     mass_res_curve = cum_rf_xr - cum_ave_xr\n",
    "    \n",
    "#     return mass_res_curve\n"
   ]
  },
  {
   "cell_type": "markdown",
   "metadata": {},
   "source": [
    "## calculate metrics based on rainfall\n",
    "- increasing and decreasing periods\n",
    "- wet year after dry years\n",
    "- dry year after wet years\n",
    "-"
   ]
  },
  {
   "cell_type": "markdown",
   "metadata": {},
   "source": [
    "## calculate metrics based on residual rainfall\n",
    "- increasing and decreasing periods\n",
    "- wet year after dry years\n",
    "- dry year after wet years\n"
   ]
  },
  {
   "cell_type": "markdown",
   "metadata": {
    "ExecuteTime": {
     "end_time": "2018-06-19T02:35:14.176120Z",
     "start_time": "2018-06-19T02:35:14.168390Z"
    }
   },
   "source": [
    "## calculate seasonality\n",
    "- Koppen climate region (use notebook to follow decision tree - requires climate data)\n",
    "- Summer dominant, Summer, Uniform, Winter, Winter dominant #\n",
    "- TROP SOI value\n",
    "- IOD /SAM indices\n",
    "\"During El Niño, rainfall in eastern Australian is typically below average during winter and spring. A neutral ENSO phase has little effect on Australian climate.\"Bureau of meteorology http://www.bom.gov.au/climate/enso/  "
   ]
  },
  {
   "cell_type": "code",
   "execution_count": 39,
   "metadata": {
    "ExecuteTime": {
     "end_time": "2018-06-22T01:40:17.240395Z",
     "start_time": "2018-06-22T01:40:17.195266Z"
    }
   },
   "outputs": [],
   "source": [
    "# Calculate failed wet seasons - calculate total wet season + dry season rainfalls\n",
    "# (end of wet season rainfalls?)"
   ]
  }
 ],
 "metadata": {
  "kernelspec": {
   "display_name": "Python 3",
   "language": "python",
   "name": "python3"
  },
  "language_info": {
   "codemirror_mode": {
    "name": "ipython",
    "version": 3
   },
   "file_extension": ".py",
   "mimetype": "text/x-python",
   "name": "python",
   "nbconvert_exporter": "python",
   "pygments_lexer": "ipython3",
   "version": "3.6.5"
  }
 },
 "nbformat": 4,
 "nbformat_minor": 2
}
