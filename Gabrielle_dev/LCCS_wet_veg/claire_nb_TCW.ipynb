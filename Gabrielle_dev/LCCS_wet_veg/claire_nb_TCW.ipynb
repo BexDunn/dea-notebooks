{
 "cells": [
  {
   "cell_type": "markdown",
   "metadata": {},
   "source": [
    "# Create polygons based on TCW"
   ]
  },
  {
   "cell_type": "markdown",
   "metadata": {},
   "source": [
    "- Get tiles\n",
    "- Threshold TCW value\n",
    "- Convert to polygon"
   ]
  },
  {
   "cell_type": "markdown",
   "metadata": {},
   "source": [
    "### May need to run again to install"
   ]
  },
  {
   "cell_type": "code",
   "execution_count": 1,
   "metadata": {},
   "outputs": [
    {
     "name": "stdout",
     "output_type": "stream",
     "text": [
      "Processing /home/jovyan/.cache/pip/wheels/6f/be/45/5e0a0ce5bf42f2081c5b2906d4f1f146f825ec00c3759d1bd3/python_geohash-0.8.5-cp36-cp36m-linux_x86_64.whl\n",
      "Installing collected packages: python-geohash\n",
      "Successfully installed python-geohash-0.8.5\n"
     ]
    }
   ],
   "source": [
    "!pip install python-geohash"
   ]
  },
  {
   "cell_type": "markdown",
   "metadata": {},
   "source": [
    "### Import modules"
   ]
  },
  {
   "cell_type": "code",
   "execution_count": 2,
   "metadata": {},
   "outputs": [],
   "source": [
    "import rasterio\n",
    "from shapely.geometry import Polygon, shape, mapping\n",
    "from shapely.ops import unary_union\n",
    "import geopandas as gp\n",
    "import fiona\n",
    "from fiona.crs import from_epsg\n",
    "import xarray as xr\n",
    "import pandas as pd\n",
    "import glob\n",
    "import os.path\n",
    "import math\n",
    "import geohash as gh\n",
    "import re\n",
    "import numpy as np\n",
    "import matplotlib.pyplot as plt\n",
    "import rasterio.features as ft"
   ]
  },
  {
   "cell_type": "code",
   "execution_count": 3,
   "metadata": {},
   "outputs": [
    {
     "data": {
      "text/plain": [
       "'/home/jovyan/dev/dea-notebooks/Gabrielle_dev/LCCS_wet_veg'"
      ]
     },
     "execution_count": 3,
     "metadata": {},
     "output_type": "execute_result"
    }
   ],
   "source": [
    "pwd"
   ]
  },
  {
   "cell_type": "code",
   "execution_count": 4,
   "metadata": {},
   "outputs": [],
   "source": [
    "# # Open into an xarray.DataArray\n",
    "# tcw_ds = xr.open_dataset('ls_tcw_percentiles/LS_TCW_PC_11_-40_19870101_20181025.nc')\n",
    "# tcw_ds"
   ]
  },
  {
   "cell_type": "code",
   "execution_count": 5,
   "metadata": {},
   "outputs": [],
   "source": [
    "# # Open into an xarray.DataArray\n",
    "# wofs_ds = xr.open_dataset('ls_tcw_percentiles/WOFS_3577_11_-40_summary.nc')\n",
    "# wofs_ds"
   ]
  },
  {
   "cell_type": "code",
   "execution_count": 6,
   "metadata": {},
   "outputs": [],
   "source": [
    "# plt.imshow(wofs_ds.TCW_PC_90.isel(time=0))#.plot()"
   ]
  },
  {
   "cell_type": "markdown",
   "metadata": {},
   "source": [
    "### Set up the functions for this script"
   ]
  },
  {
   "cell_type": "code",
   "execution_count": 7,
   "metadata": {},
   "outputs": [],
   "source": [
    "# # Grab a list of all of the netCDF files in the tile folder\n",
    "# TileFiles = glob.glob(f\"{TileFolder}*.nc\")\n",
    "# print('TileFiles',TileFiles)\n",
    "# print()\n",
    "# CustomRegionAlbersTiles = set()\n",
    "# for filePath in TileFiles:\n",
    "#     AlbersTiles = re.split(\"[_\\.]\", filePath)\n",
    "#     print(AlbersTiles)\n",
    "#     # Test that the albers tile numbers are actually where we expect them to be in the file name\n",
    "#     try:\n",
    "#         int(AlbersTiles[-5])\n",
    "#         int(AlbersTiles[-4])\n",
    "#         print(int(AlbersTiles[-5]),int(AlbersTiles[-4]))\n",
    "#     except ValueError:\n",
    "#         print(\n",
    "#             \"** ERROR ** \\n\"\n",
    "#             'The netCDF files are expected to have the file format \"*/wofs_filtered_summary_8_-37.nc\",\\n'\n",
    "#             \"with the Albers tile numbers in the 2nd and 3rd last positions when separated on `_` and `.`. \\n\"\n",
    "#             \"Please fix the file names, or alter the `Generate_list_of_albers_tiles` function.\"\n",
    "#         )\n",
    "# ThisTile = f\"{AlbersTiles[-5]}_{AlbersTiles[-4]}\"\n",
    "# print('ThisTile',ThisTile)"
   ]
  },
  {
   "cell_type": "code",
   "execution_count": 8,
   "metadata": {},
   "outputs": [],
   "source": [
    "def Generate_list_of_albers_tiles(TileFolder=\"TileFolder\", CustomData=True):\n",
    "    if os.path.exists(TileFolder) == False:\n",
    "        print(\n",
    "            \"** ERROR ** \\n\"\n",
    "            \"You need to specify a folder of files for running a custom region\")\n",
    "        return\n",
    "\n",
    "    # Grab a list of all of the netCDF files in the tile folder\n",
    "    TileFiles = glob.glob(f\"{TileFolder}*.nc\")\n",
    "    print('TileFiles',TileFiles)\n",
    "\n",
    "    CustomRegionAlbersTiles = set()\n",
    "    for filePath in TileFiles:\n",
    "        AlbersTiles = re.split(\"[_\\.]\", filePath)\n",
    "        print()\n",
    "        print('AlbersTiles',AlbersTiles)\n",
    "        print()\n",
    "        if CustomData:\n",
    "            #Test that the albers tile numbers are actually where we expect them to be in the file name\n",
    "            try:\n",
    "                int(AlbersTiles[-5])\n",
    "                int(AlbersTiles[-4])\n",
    "            except ValueError:\n",
    "                print(\n",
    "                    \"** ERROR ** \\n\"\n",
    "                    'The netCDF files are expected to have the file format \"*/wofs_summary_8_-37_{date}.nc\",\\n'\n",
    "                    \"with the Albers tile numbers in the 2nd and 3rd last positions when separated on `_`. \\n\"\n",
    "                    \"Please fix the file names, or alter the `Generate_list_of_albers_tiles` function.\"\n",
    "                )\n",
    "                return\n",
    "\n",
    "            # Now that we're happy that the file is reading the correct Albers tiles\n",
    "            ThisTile = f\"{AlbersTiles[-4]}_{AlbersTiles[-3]}\"\n",
    "        else:\n",
    "            # Test that the albers tile numbers are actually where we expect them to be in the file name\n",
    "            try:\n",
    "                int(AlbersTiles[-5])\n",
    "                int(AlbersTiles[-4])\n",
    "                print(int(AlbersTiles[-5]),int(AlbersTiles[-4]))\n",
    "                print()\n",
    "            except ValueError:\n",
    "                print(\n",
    "                    \"** ERROR ** \\n\"\n",
    "                    'The netCDF files are expected to have the file format \"*/wofs_filtered_summary_8_-37.nc\",\\n'\n",
    "                    \"with the Albers tile numbers in the 2nd and 3rd last positions when separated on `_` and `.`. \\n\"\n",
    "                    \"Please fix the file names, or alter the `Generate_list_of_albers_tiles` function.\"\n",
    "                )\n",
    "                return\n",
    "\n",
    "            # Now that we're happy that the file is reading the correct Albers tiles\n",
    "            ThisTile = f\"{AlbersTiles[-5]}_{AlbersTiles[-4]}\"\n",
    "            print('ThisTile',ThisTile)\n",
    "        CustomRegionAlbersTiles.add(ThisTile)\n",
    "    CustomRegionAlbersTiles = list(CustomRegionAlbersTiles)\n",
    "    return CustomRegionAlbersTiles"
   ]
  },
  {
   "cell_type": "code",
   "execution_count": 9,
   "metadata": {},
   "outputs": [],
   "source": [
    "# CustomData"
   ]
  },
  {
   "cell_type": "code",
   "execution_count": 10,
   "metadata": {},
   "outputs": [],
   "source": [
    "# TileFolder"
   ]
  },
  {
   "cell_type": "code",
   "execution_count": 11,
   "metadata": {},
   "outputs": [],
   "source": [
    "# Generate_list_of_albers_tiles(TileFolder, CustomData)"
   ]
  },
  {
   "cell_type": "code",
   "execution_count": 12,
   "metadata": {},
   "outputs": [],
   "source": [
    "def Generate_list_of_tile_datasets(ListofAlbersTiles,\n",
    "                                   Year,\n",
    "                                   TileFolder=\"TileFolder\",\n",
    "                                   CustomData=True):\n",
    "\n",
    "    if os.path.exists(TileFolder) == False:\n",
    "        print(\n",
    "            \"** ERROR ** \\n\"\n",
    "            \"You need to specify a folder of files for running a custom region\")\n",
    "        raise\n",
    "\n",
    "    Alltilespaths = []\n",
    "\n",
    "    if CustomData:\n",
    "        for tile in ListofAlbersTiles:\n",
    "            Tiles = glob.glob(f\"{TileFolder}*_{tile}_{Year}.nc\")\n",
    "            Alltilespaths.append(\n",
    "                Tiles[0])  # Assumes only one file will be returned\n",
    "    else:\n",
    "        for tile in ListofAlbersTiles:\n",
    "            # Use glob to check that the file actually exists in the format we expect\n",
    "            Tiles = glob.glob(f\"{TileFolder}LS_TCW_PC_{tile}_19870101_20181025.nc\")\n",
    "            print('Tiles',Tiles)\n",
    "            # Check that assumption by seeing if the returned list is empty\n",
    "            if not Tiles:\n",
    "                Tiles = glob.glob(f\"{TileFolder}WOFS_3577_{tile}_summary.nc\") #Gabrielle\n",
    "#                 Tiles = glob.glob(f\"{TileFolder}LS_TCW_PC_{tile}_198710101_20181025.nc\")\n",
    "            # Check that we actually have something now\n",
    "            if not Tiles:\n",
    "                print(\n",
    "                    \"** ERROR ** \\n\"\n",
    "                    \"An assumption in the file naming conventions has gone wrong somewhere.\\n\"\n",
    "                    \"We assume two file naming formats here: {TileFolder}wofs_filtered_summary_{tile}.nc, \\n\"\n",
    "                    \"and {TileFolder}WOFS_3577_{tile}_summary.nc. The files you have directed to don't meet \\n\"\n",
    "                    \"either assumption. Please fix the file names, or alter the `Generate_list_of_albers_tiles` function.\"\n",
    "                )\n",
    "            Alltilespaths.append(\n",
    "                Tiles[0])  # Assumes only one file will be returned\n",
    "\n",
    "    return Alltilespaths"
   ]
  },
  {
   "cell_type": "code",
   "execution_count": 13,
   "metadata": {},
   "outputs": [],
   "source": [
    "# ListofAlbersTiles"
   ]
  },
  {
   "cell_type": "code",
   "execution_count": 14,
   "metadata": {},
   "outputs": [],
   "source": [
    "# Year= '19870101_20181025'"
   ]
  },
  {
   "cell_type": "code",
   "execution_count": 15,
   "metadata": {},
   "outputs": [],
   "source": [
    "# Generate_list_of_tile_datasets(ListofAlbersTiles,\n",
    "#                                    Year,\n",
    "#                                    TileFolder,\n",
    "#                                    CustomData)"
   ]
  },
  {
   "cell_type": "code",
   "execution_count": 16,
   "metadata": {},
   "outputs": [],
   "source": [
    "def Filter_shapefile_by_intersection(gpdData,\n",
    "                                     gpdFilter,\n",
    "                                     filtertype=\"intersects\",\n",
    "                                     invertMask=True,\n",
    "                                     returnInverse=False):\n",
    "    # Check that the coordinate reference systems of both dataframes are the same\n",
    "\n",
    "    # assert gpdData.crs == gpdFilter.crs, 'Make sure the the coordinate reference systems of the two provided dataframes are the same'\n",
    "\n",
    "    Intersections = gp.sjoin(gpdFilter, gpdData, how=\"inner\", op=filtertype)\n",
    "\n",
    "    # Find the index of all the polygons that intersect with the filter\n",
    "    IntersectIndex = sorted(set(Intersections[\"index_right\"]))\n",
    "\n",
    "    # Grab only the polygons NOT in the IntersectIndex\n",
    "    # i.e. that don't intersect with a river\n",
    "    if invertMask:\n",
    "        gpdDataFiltered = gpdData.loc[~gpdData.index.isin(IntersectIndex)]\n",
    "    else:\n",
    "        gpdDataFiltered = gpdData.loc[gpdData.index.isin(IntersectIndex)]\n",
    "\n",
    "    if returnInverse:\n",
    "        # We need to use the indices from IntersectIndex to find the inverse dataset, so we\n",
    "        # will just swap the '~'.\n",
    "\n",
    "        if invertMask:\n",
    "            gpdDataInverse = gpdData.loc[gpdData.index.isin(IntersectIndex)]\n",
    "        else:\n",
    "            gpdDataInverse = gpdData.loc[~gpdData.index.isin(IntersectIndex)]\n",
    "\n",
    "        return gpdDataFiltered, IntersectIndex, gpdDataInverse\n",
    "    else:\n",
    "\n",
    "        return gpdDataFiltered, IntersectIndex"
   ]
  },
  {
   "cell_type": "markdown",
   "metadata": {},
   "source": [
    "### Set switches"
   ]
  },
  {
   "cell_type": "code",
   "execution_count": 17,
   "metadata": {},
   "outputs": [],
   "source": [
    "AllOfAustraliaAllTime = False\n",
    "\n",
    "CustomData = False\n",
    "AutoGenerateTileList = False"
   ]
  },
  {
   "cell_type": "markdown",
   "metadata": {},
   "source": [
    "### Set locations"
   ]
  },
  {
   "cell_type": "code",
   "execution_count": 18,
   "metadata": {},
   "outputs": [],
   "source": [
    "if CustomData:\n",
    "    # Path to the files you would like to use for the analysis\n",
    "    TileFolder = '/g/data/r78/cek156/datacube_stats/WOFSDamsAllTimeNSWMDB/'\n",
    "else:\n",
    "    # Default path to the WOfS summary product\n",
    "    TileFolder = 'ls_tcw_percentiles/'"
   ]
  },
  {
   "cell_type": "code",
   "execution_count": 19,
   "metadata": {},
   "outputs": [],
   "source": [
    "## Set up some file names for the inputs and outputs\n",
    "# The name and filepath of the intermediate output polygon set\n",
    "WaterBodiesShp = f'output/temp/'\n",
    "\n",
    "# The name and filepath of the temp, filtered output polygon set\n",
    "WOFSshpMerged = f'output/'\n",
    "WOFSshpFiltered = 'output/AusWaterBodiesFiltered.shp'\n",
    "\n",
    "# Final shapefile name\n",
    "FinalName = 'output/AusWaterBodies.shp'"
   ]
  },
  {
   "cell_type": "markdown",
   "metadata": {},
   "source": [
    "### Choose aoi"
   ]
  },
  {
   "cell_type": "code",
   "execution_count": 24,
   "metadata": {},
   "outputs": [],
   "source": [
    "# We only want to generate the tile list if we are not doing all of Australia.\n",
    "if not AllOfAustraliaAllTime:\n",
    "    if AutoGenerateTileList:\n",
    "        ListofAlbersTiles = Generate_list_of_albers_tiles(\n",
    "            TileFolder, CustomData)\n",
    "    else:\n",
    "        # Provide you own list of tiles to be run\n",
    "        ListofAlbersTiles = [\n",
    "        '14_-35'\n",
    "        ]"
   ]
  },
  {
   "cell_type": "markdown",
   "metadata": {},
   "source": [
    "### Choose threshold"
   ]
  },
  {
   "cell_type": "code",
   "execution_count": 25,
   "metadata": {},
   "outputs": [],
   "source": [
    "AtLeastThisWet = [-350]"
   ]
  },
  {
   "cell_type": "markdown",
   "metadata": {},
   "source": [
    "### The process"
   ]
  },
  {
   "cell_type": "code",
   "execution_count": 29,
   "metadata": {},
   "outputs": [
    {
     "name": "stdout",
     "output_type": "stream",
     "text": [
      "You have not set up the hybrid threshold option. If you meant to use this option, please \n",
      "set this option by including two wetness thresholds in the `AtLeastThisWet` variable above. \n",
      "The wetness threshold we will use is [-350].\n"
     ]
    }
   ],
   "source": [
    "# First, test whether the wetness threshold has been correctly set\n",
    "if len(AtLeastThisWet) == 2:\n",
    "    print(\n",
    "        f'We will be running a hybrid wetness threshold. Please ensure that the major threshold is \\n'\n",
    "        f'listed second, with the supplementary threshold entered first.'\n",
    "        f'**You have set {AtLeastThisWet[-1]} as the primary threshold,** \\n'\n",
    "        f'**with {AtLeastThisWet[0]} set as the supplementary threshold.**')\n",
    "elif len(AtLeastThisWet) == 1:\n",
    "    print(\n",
    "        f'You have not set up the hybrid threshold option. If you meant to use this option, please \\n'\n",
    "        f'set this option by including two wetness thresholds in the `AtLeastThisWet` variable above. \\n'\n",
    "        f'The wetness threshold we will use is {AtLeastThisWet}.')\n",
    "else:\n",
    "    raise ValueError(\n",
    "        f'There is something wrong with your entered wetness threshold. Please enter a list \\n'\n",
    "        f'of either one or two numbers. You have entered {AtLeastThisWet}. \\n'\n",
    "        f'See above for more information')"
   ]
  },
  {
   "cell_type": "code",
   "execution_count": 30,
   "metadata": {},
   "outputs": [
    {
     "name": "stdout",
     "output_type": "stream",
     "text": [
      "Tiles []\n",
      "2 ['ls_tcw_percentiles/WOFS_3577_14_-35_summary.nc']\n"
     ]
    }
   ],
   "source": [
    "# Now perform the analysis to generate the first iteration of polygons\n",
    "for year in range(1980, 1981):\n",
    "\n",
    "    ### Get the list of netcdf file names to loop through\n",
    "    if AllOfAustraliaAllTime:\n",
    "        # Grab everything from the published WOfS all time summaries\n",
    "        Alltiles = glob.glob(f'{TileFolder}*.nc')\n",
    "        print('1',Alltiles)\n",
    "    else:\n",
    "        Alltiles = Generate_list_of_tile_datasets(ListofAlbersTiles, year,\n",
    "                                                  TileFolder, CustomData)\n",
    "        print('2',Alltiles)\n",
    "        \n",
    "# Check this prints out thing\n",
    "# e.g. 2 ['ls_tcw_percentiles/WOFS_3577_14_-35_summary.nc']"
   ]
  },
  {
   "cell_type": "code",
   "execution_count": 31,
   "metadata": {},
   "outputs": [],
   "source": [
    "MinimumValidObs = 0"
   ]
  },
  {
   "cell_type": "code",
   "execution_count": 32,
   "metadata": {},
   "outputs": [
    {
     "data": {
      "text/plain": [
       "'/home/jovyan/dev/dea-notebooks/Gabrielle_dev/LCCS_wet_veg'"
      ]
     },
     "execution_count": 32,
     "metadata": {},
     "output_type": "execute_result"
    }
   ],
   "source": [
    "pwd"
   ]
  },
  {
   "cell_type": "code",
   "execution_count": 34,
   "metadata": {},
   "outputs": [
    {
     "data": {
      "text/plain": [
       "<matplotlib.colorbar.Colorbar at 0x7fbd887ee5c0>"
      ]
     },
     "execution_count": 34,
     "metadata": {},
     "output_type": "execute_result"
    },
    {
     "data": {
      "image/png": "[encoded data removed]",
      "text/plain": [
       "<Figure size 432x288 with 2 Axes>"
      ]
     },
     "metadata": {
      "needs_background": "light"
     },
     "output_type": "display_data"
    }
   ],
   "source": [
    "# Read in the data\n",
    "# Note that the netCDF files we are using here contain a variable called 'frequency',\n",
    "# which is what we are using to define our water polygons.\n",
    "# If you use a different netCDF input source, you may need to change this variable name here\n",
    "WOFSnetCDFData = xr.open_rasterio(f'NETCDF:ls_tcw_percentiles/WOFS_3577_14_-35_summary.nc:TCW_PC_10') #Gabrielle dev/dea-notebooks/Gabrielle_dev/LCCS_wet_veg/ls_tcw_percentiles/WOFS_3577_11_-40_summary.nc\n",
    "# Remove the superfluous time dimension\n",
    "WOFSnetCDFData = WOFSnetCDFData.squeeze()\n",
    "plt.imshow(WOFSnetCDFData)\n",
    "plt.colorbar()\n",
    "\n",
    "# # Open the clear count variable to generate the minimum observation mask\n",
    "# # If you use a different netCDF input source, you may need to change this variable name here\n",
    "# WOFSvalidcount = xr.open_rasterio(f'NETCDF:{WOFSfile}:count_clear')\n",
    "# WOFSvalidcount = WOFSvalidcount.squeeze()\n",
    "# # plt.imshow(WOFSvalidcount)\n",
    "\n",
    "# # Filter our WOfS classified data layer to remove noise\n",
    "# # Remove any pixels not abserved at least MinimumValidObs times\n",
    "# WOFSValidFiltered = WOFSvalidcount >= MinimumValidObs\n",
    "# # plt.imshow(WOFSValidFiltered)"
   ]
  },
  {
   "cell_type": "code",
   "execution_count": 35,
   "metadata": {},
   "outputs": [],
   "source": [
    "Thresholds = 0"
   ]
  },
  {
   "cell_type": "code",
   "execution_count": 36,
   "metadata": {},
   "outputs": [
    {
     "data": {
      "text/plain": [
       "<matplotlib.image.AxesImage at 0x7fbd808d25f8>"
      ]
     },
     "execution_count": 36,
     "metadata": {},
     "output_type": "execute_result"
    },
    {
     "data": {
      "image/png": "[encoded data removed]",
      "text/plain": [
       "<Figure size 432x288 with 1 Axes>"
      ]
     },
     "metadata": {
      "needs_background": "light"
     },
     "output_type": "display_data"
    }
   ],
   "source": [
    "# Remove any pixels that are wet < AtLeastThisWet% of the time\n",
    "WOFSfiltered = WOFSnetCDFData > Thresholds\n",
    "plt.imshow(WOFSfiltered)"
   ]
  },
  {
   "cell_type": "code",
   "execution_count": 37,
   "metadata": {},
   "outputs": [
    {
     "data": {
      "text/plain": [
       "array([False,  True])"
      ]
     },
     "execution_count": 37,
     "metadata": {},
     "output_type": "execute_result"
    }
   ],
   "source": [
    "np.unique(WOFSfiltered)"
   ]
  },
  {
   "cell_type": "code",
   "execution_count": 38,
   "metadata": {},
   "outputs": [
    {
     "data": {
      "text/plain": [
       "array([ 1., nan, nan, ..., nan, nan, nan])"
      ]
     },
     "execution_count": 38,
     "metadata": {},
     "output_type": "execute_result"
    }
   ],
   "source": [
    "WOFSfiltered = WOFSfiltered.where((WOFSfiltered != 0))\n",
    "np.unique(WOFSfiltered)"
   ]
  },
  {
   "cell_type": "code",
   "execution_count": 39,
   "metadata": {},
   "outputs": [],
   "source": [
    "# # Now find pixels that meet both the MinimumValidObs and AtLeastThisWet criteria\n",
    "# # Change all zeros to NaN to create a nan/1 mask layer\n",
    "# # Pixels == 1 now represent our water bodies\n",
    "# WOFSfiltered = WOFSfiltered.where((WOFSfiltered == 1))\n",
    "# plt.imshow(WOFSfiltered)\n",
    "# plt.colorbar()"
   ]
  },
  {
   "cell_type": "code",
   "execution_count": 40,
   "metadata": {},
   "outputs": [
    {
     "name": "stdout",
     "output_type": "stream",
     "text": [
      "WOFSbreaktuple <generator object <genexpr> at 0x7fbd80817af0>\n",
      "Set geometries bit        type                                        coordinates  \\\n",
      "0   Polygon  [[(1404775.0, -3418700.0), (1404775.0, -341872...   \n",
      "1   Polygon  [[(1404750.0, -3418725.0), (1404750.0, -341875...   \n",
      "2   Polygon  [[(1433100.0, -3421725.0), (1433100.0, -342175...   \n",
      "3   Polygon  [[(1444650.0, -3426200.0), (1444650.0, -342622...   \n",
      "4   Polygon  [[(1435650.0, -3427375.0), (1435650.0, -342740...   \n",
      "5   Polygon  [[(1439325.0, -3427475.0), (1439325.0, -342750...   \n",
      "6   Polygon  [[(1439275.0, -3427500.0), (1439275.0, -342752...   \n",
      "7   Polygon  [[(1435150.0, -3429900.0), (1435150.0, -342992...   \n",
      "8   Polygon  [[(1425450.0, -3433700.0), (1425450.0, -343372...   \n",
      "9   Polygon  [[(1434075.0, -3434975.0), (1434075.0, -343502...   \n",
      "10  Polygon  [[(1415700.0, -3440225.0), (1415700.0, -344025...   \n",
      "11  Polygon  [[(1456975.0, -3497875.0), (1456975.0, -349790...   \n",
      "\n",
      "                                             geometry  \n",
      "0   POLYGON ((1404775.000 -3418700.000, 1404775.00...  \n",
      "1   POLYGON ((1404750.000 -3418725.000, 1404750.00...  \n",
      "2   POLYGON ((1433100.000 -3421725.000, 1433100.00...  \n",
      "3   POLYGON ((1444650.000 -3426200.000, 1444650.00...  \n",
      "4   POLYGON ((1435650.000 -3427375.000, 1435650.00...  \n",
      "5   POLYGON ((1439325.000 -3427475.000, 1439325.00...  \n",
      "6   POLYGON ((1439275.000 -3427500.000, 1439275.00...  \n",
      "7   POLYGON ((1435150.000 -3429900.000, 1435150.00...  \n",
      "8   POLYGON ((1425450.000 -3433700.000, 1425450.00...  \n",
      "9   POLYGON ((1434075.000 -3434975.000, 1434075.00...  \n",
      "10  POLYGON ((1415700.000 -3440225.000, 1415700.00...  \n",
      "11  POLYGON ((1456975.000 -3497875.000, 1456975.00...  \n",
      "0      625.0\n",
      "1      625.0\n",
      "2      625.0\n",
      "3      625.0\n",
      "4      625.0\n",
      "5      625.0\n",
      "6     3750.0\n",
      "7      625.0\n",
      "8      625.0\n",
      "9     1250.0\n",
      "10     625.0\n",
      "11     625.0\n",
      "Name: area, dtype: float64\n"
     ]
    }
   ],
   "source": [
    "# Convert the raster to polygons\n",
    "# We use a mask of '1' to only generate polygons around values of '1' (not NaNs)\n",
    "WOFSpolygons = ft.shapes(\n",
    "    WOFSfiltered.data.astype('float32'),\n",
    "    mask=WOFSfiltered.data.astype('float32') == 1,\n",
    "    transform=WOFSnetCDFData.transform)\n",
    "# The rasterio.features.shapes returns a tuple. We only want to keep the geometry portion,\n",
    "# not the value of each polygon (which here is just 1 for everything)\n",
    "WOFSbreaktuple = (a for a, b in WOFSpolygons)\n",
    "print('WOFSbreaktuple',WOFSbreaktuple)\n",
    "\n",
    "# Put our polygons into a geopandas geodataframe\n",
    "PolygonGP = gp.GeoDataFrame(list(WOFSbreaktuple))\n",
    "# print('PolygonGP',PolygonGP)\n",
    "\n",
    "# Grab the geometries and convert into a shapely geometry\n",
    "# so we can quickly calcuate the area of each polygon\n",
    "# PolygonGP['geometry'] = None\n",
    "# for ix, poly in PolygonGP.iterrows():\n",
    "#     poly['geometry'] = shape(poly)\n",
    "PolygonGP['geometry'] = None\n",
    "for i, row in PolygonGP.iterrows():\n",
    "    PolygonGP.at[i,'geometry'] = shape(row)\n",
    "print('Set geometries bit',PolygonGP)\n",
    "\n",
    "# Set the geometry of the dataframe to be the shapely geometry we just created\n",
    "PolygonGP = PolygonGP.set_geometry('geometry')\n",
    "# We need to add the crs back onto the dataframe\n",
    "PolygonGP.crs = ('EPSG:3577')\n",
    "\n",
    "# print('PolygonGP',PolygonGP)\n",
    "\n",
    "# # Combine any overlapping polygons\n",
    "# MergedPolygonsGeoms = unary_union(PolygonGP['geometry'])\n",
    "# print('MergedPolygonsGeoms',MergedPolygonsGeoms)\n",
    "\n",
    "MergedPolygonsGPD = PolygonGP\n",
    "\n",
    "# # Turn the combined multipolygon back into a geodataframe\n",
    "# MergedPolygonsGPD = gp.GeoDataFrame(\n",
    "#     [poly for poly in MergedPolygonsGeoms])\n",
    "# # Rename the geometry column\n",
    "# MergedPolygonsGPD.columns = ['geometry']\n",
    "# # We need to add the crs back onto the dataframe\n",
    "# MergedPolygonsGPD.crs = ('EPSG:3577')\n",
    "\n",
    "# Calculate the area of each polygon again now that overlapping polygons\n",
    "# have been merged\n",
    "MergedPolygonsGPD['area'] = MergedPolygonsGPD['geometry'].area\n",
    "print(MergedPolygonsGPD['area'])"
   ]
  },
  {
   "cell_type": "code",
   "execution_count": 41,
   "metadata": {},
   "outputs": [],
   "source": [
    "# # Check area\n",
    "# PolygonGP['geometry'].area.max()"
   ]
  },
  {
   "cell_type": "code",
   "execution_count": 42,
   "metadata": {},
   "outputs": [
    {
     "data": {
      "text/plain": [
       "<matplotlib.axes._subplots.AxesSubplot at 0x7fbd8088f668>"
      ]
     },
     "execution_count": 42,
     "metadata": {},
     "output_type": "execute_result"
    },
    {
     "data": {
      "image/png": "[encoded data removed]",
      "text/plain": [
       "<Figure size 432x288 with 1 Axes>"
      ]
     },
     "metadata": {
      "needs_background": "light"
     },
     "output_type": "display_data"
    }
   ],
   "source": [
    "# Plot polygon to see\n",
    "MergedPolygonsGPD.plot()"
   ]
  },
  {
   "cell_type": "code",
   "execution_count": 43,
   "metadata": {},
   "outputs": [],
   "source": [
    "# PolygonGP['geometry']"
   ]
  },
  {
   "cell_type": "markdown",
   "metadata": {},
   "source": [
    "### Save the polygons to a shapefile"
   ]
  },
  {
   "cell_type": "code",
   "execution_count": 44,
   "metadata": {},
   "outputs": [],
   "source": [
    "# Save the polygons to a shapefile\n",
    "schema = {\n",
    "    'geometry': 'Polygon',\n",
    "    'properties': {\n",
    "        'area': 'float'\n",
    "    }\n",
    "}\n",
    "\n",
    "# Generate our dynamic filename\n",
    "FileName = f'{WaterBodiesShp}Mac_PC10_{Thresholds}.shp'\n",
    "# Append the file name to the list so we can call it later on\n",
    "\n",
    "if os.path.isfile(FileName):\n",
    "    with fiona.open(FileName,\n",
    "                    \"a\",\n",
    "                    crs=from_epsg(3577),\n",
    "                    driver='ESRI Shapefile',\n",
    "                    schema=schema) as output:\n",
    "        for ix, poly in MergedPolygonsGPD.iterrows():\n",
    "            output.write(({\n",
    "                'properties': {\n",
    "                    'area': poly['area']\n",
    "                },\n",
    "                'geometry': mapping(shape(poly['geometry']))\n",
    "            }))\n",
    "else:\n",
    "    with fiona.open(FileName,\n",
    "                    \"w\",\n",
    "                    crs=from_epsg(3577),\n",
    "                    driver='ESRI Shapefile',\n",
    "                    schema=schema) as output: \n",
    "        for ix, poly in MergedPolygonsGPD.iterrows():\n",
    "            output.write(({\n",
    "                'properties': {\n",
    "                    'area': poly['area']\n",
    "                },\n",
    "                'geometry': mapping(shape(poly['geometry']))\n",
    "            }))"
   ]
  },
  {
   "cell_type": "code",
   "execution_count": null,
   "metadata": {},
   "outputs": [],
   "source": [
    "### Whole thing"
   ]
  },
  {
   "cell_type": "code",
   "execution_count": null,
   "metadata": {},
   "outputs": [],
   "source": [
    "# Now perform the analysis to generate the first iteration of polygons\n",
    "for year in range(1980, 1981):\n",
    "\n",
    "    ### Get the list of netcdf file names to loop through\n",
    "    if AllOfAustraliaAllTime:\n",
    "        # Grab everything from the published WOfS all time summaries\n",
    "        Alltiles = glob.glob(f'{TileFolder}*.nc')\n",
    "    else:\n",
    "        Alltiles = Generate_list_of_tile_datasets(ListofAlbersTiles, year,\n",
    "                                                  TileFolder, CustomData)\n",
    "\n",
    "    for WOFSfile in Alltiles:\n",
    "        try:\n",
    "            # Read in the data\n",
    "            # Note that the netCDF files we are using here contain a variable called 'frequency',\n",
    "            # which is what we are using to define our water polygons.\n",
    "            # If you use a different netCDF input source, you may need to change this variable name here\n",
    "            WOFSnetCDFData = xr.open_rasterio(f'NETCDF:{WOFSfile}:frequency')\n",
    "            # Remove the superfluous time dimension\n",
    "            WOFSnetCDFData = WOFSnetCDFData.squeeze()\n",
    "\n",
    "#             # Open the clear count variable to generate the minimum observation mask\n",
    "#             # If you use a different netCDF input source, you may need to change this variable name here\n",
    "#             WOFSvalidcount = xr.open_rasterio(f'NETCDF:{WOFSfile}:count_clear')\n",
    "#             WOFSvalidcount = WOFSvalidcount.squeeze()\n",
    "\n",
    "#             # Filter our WOfS classified data layer to remove noise\n",
    "#             # Remove any pixels not abserved at least MinimumValidObs times\n",
    "#             WOFSValidFiltered = WOFSvalidcount >= MinimumValidObs\n",
    "\n",
    "            for Thresholds in AtLeastThisWet:\n",
    "                # Remove any pixels that are wet < AtLeastThisWet% of the time\n",
    "                WOFSfiltered = WOFSnetCDFData > Thresholds\n",
    "\n",
    "#                 # Now find pixels that meet both the MinimumValidObs and AtLeastThisWet criteria\n",
    "#                 # Change all zeros to NaN to create a nan/1 mask layer\n",
    "#                 # Pixels == 1 now represent our water bodies\n",
    "#                 WOFSfiltered = WOFSfiltered.where((WOFSfiltered != 0) &\n",
    "#                                                   (WOFSValidFiltered != 0))\n",
    "\n",
    "                # Convert the raster to polygons\n",
    "                # We use a mask of '1' to only generate polygons around values of '1' (not NaNs)\n",
    "                WOFSpolygons = ft.shapes(\n",
    "                    WOFSfiltered.data.astype('float32'),\n",
    "                    mask=WOFSfiltered.data.astype('float32') == 1,\n",
    "                    transform=WOFSnetCDFData.transform)\n",
    "                # The rasterio.features.shapes returns a tuple. We only want to keep the geometry portion,\n",
    "                # not the value of each polygon (which here is just 1 for everything)\n",
    "                WOFSbreaktuple = (a for a, b in WOFSpolygons)\n",
    "\n",
    "                # Put our polygons into a geopandas geodataframe\n",
    "                PolygonGP = gp.GeoDataFrame(list(WOFSbreaktuple))\n",
    "\n",
    "                # Grab the geometries and convert into a shapely geometry\n",
    "                # so we can quickly calcuate the area of each polygon\n",
    "                PolygonGP['geometry'] = None\n",
    "                for ix, poly in PolygonGP.iterrows():\n",
    "                    poly['geometry'] = shape(poly)\n",
    "\n",
    "                # Set the geometry of the dataframe to be the shapely geometry we just created\n",
    "                PolygonGP = PolygonGP.set_geometry('geometry')\n",
    "                # We need to add the crs back onto the dataframe\n",
    "                PolygonGP.crs = {'init': 'epsg:3577'}\n",
    "\n",
    "                # Combine any overlapping polygons\n",
    "#                 MergedPolygonsGeoms = unary_union(PolygonGP['geometry'])\n",
    "                MergedPolygonsGPD = PolygonGP\n",
    "\n",
    "#                 # Turn the combined multipolygon back into a geodataframe\n",
    "#                 MergedPolygonsGPD = gp.GeoDataFrame(\n",
    "#                     [poly for poly in MergedPolygonsGeoms])\n",
    "#                 # Rename the geometry column\n",
    "#                 MergedPolygonsGPD.columns = ['geometry']\n",
    "#                 # We need to add the crs back onto the dataframe\n",
    "#                 MergedPolygonsGPD.crs = {'init': 'epsg:3577'}\n",
    "\n",
    "                # Calculate the area of each polygon again now that overlapping polygons\n",
    "                # have been merged\n",
    "                MergedPolygonsGPD['area'] = MergedPolygonsGPD['geometry'].area\n",
    "\n",
    "                # Save the polygons to a shapefile\n",
    "                schema = {\n",
    "                    'geometry': 'Polygon',\n",
    "                    'properties': {\n",
    "                        'area': 'float'\n",
    "                    }\n",
    "                }\n",
    "\n",
    "                # Generate our dynamic filename\n",
    "                FileName = f'{WaterBodiesShp}_{Thresholds}.shp'\n",
    "                # Append the file name to the list so we can call it later on\n",
    "\n",
    "                if os.path.isfile(FileName):\n",
    "                    with fiona.open(FileName,\n",
    "                                    \"a\",\n",
    "                                    crs=from_epsg(3577),\n",
    "                                    driver='ESRI Shapefile',\n",
    "                                    schema=schema) as output:\n",
    "                        for ix, poly in MergedPolygonsGPD.iterrows():\n",
    "                            output.write(({\n",
    "                                'properties': {\n",
    "                                    'area': poly['area']\n",
    "                                },\n",
    "                                'geometry': mapping(shape(poly['geometry']))\n",
    "                            }))\n",
    "                else:\n",
    "                    with fiona.open(FileName,\n",
    "                                    \"w\",\n",
    "                                    crs=from_epsg(3577),\n",
    "                                    driver='ESRI Shapefile',\n",
    "                                    schema=schema) as output:\n",
    "                        for ix, poly in MergedPolygonsGPD.iterrows():\n",
    "                            output.write(({\n",
    "                                'properties': {\n",
    "                                    'area': poly['area']\n",
    "                                },\n",
    "                                'geometry': mapping(shape(poly['geometry']))\n",
    "                            }))\n",
    "\n",
    "        except:\n",
    "            print(\n",
    "                f'{WOFSfile} did not run. \\n'\n",
    "                f'This is probably because there are no waterbodies present in this tile.'\n",
    "            )"
   ]
  },
  {
   "cell_type": "code",
   "execution_count": null,
   "metadata": {},
   "outputs": [],
   "source": [
    "# # Now perform the analysis to generate the first iteration of polygons\n",
    "# for year in range(1980, 1981):\n",
    "\n",
    "#     ### Get the list of netcdf file names to loop through\n",
    "#     if AllOfAustraliaAllTime:\n",
    "#         # Grab everything from the published WOfS all time summaries\n",
    "#         Alltiles = glob.glob(f'{TileFolder}*.nc')\n",
    "#     else:\n",
    "#         Alltiles = Generate_list_of_tile_datasets(ListofAlbersTiles, year,\n",
    "#                                                   TileFolder, CustomData)\n",
    "\n",
    "#     for WOFSfile in Alltiles:\n",
    "#         try:\n",
    "#             # Read in the data\n",
    "#             # Note that the netCDF files we are using here contain a variable called 'frequency',\n",
    "#             # which is what we are using to define our water polygons.\n",
    "#             # If you use a different netCDF input source, you may need to change this variable name here\n",
    "#             WOFSnetCDFData = xr.open_rasterio(f'NETCDF:{WOFSfile}:frequency')\n",
    "#             # Remove the superfluous time dimension\n",
    "#             WOFSnetCDFData = WOFSnetCDFData.squeeze()\n",
    "\n",
    "#             # Open the clear count variable to generate the minimum observation mask\n",
    "#             # If you use a different netCDF input source, you may need to change this variable name here\n",
    "#             WOFSvalidcount = xr.open_rasterio(f'NETCDF:{WOFSfile}:count_clear')\n",
    "#             WOFSvalidcount = WOFSvalidcount.squeeze()\n",
    "\n",
    "#             # Filter our WOfS classified data layer to remove noise\n",
    "#             # Remove any pixels not abserved at least MinimumValidObs times\n",
    "#             WOFSValidFiltered = WOFSvalidcount >= MinimumValidObs\n",
    "\n",
    "#             for Thresholds in AtLeastThisWet:\n",
    "#                 # Remove any pixels that are wet < AtLeastThisWet% of the time\n",
    "#                 WOFSfiltered = WOFSnetCDFData > Thresholds\n",
    "\n",
    "#                 # Now find pixels that meet both the MinimumValidObs and AtLeastThisWet criteria\n",
    "#                 # Change all zeros to NaN to create a nan/1 mask layer\n",
    "#                 # Pixels == 1 now represent our water bodies\n",
    "#                 WOFSfiltered = WOFSfiltered.where((WOFSfiltered != 0) &\n",
    "#                                                   (WOFSValidFiltered != 0))\n",
    "\n",
    "#                 # Convert the raster to polygons\n",
    "#                 # We use a mask of '1' to only generate polygons around values of '1' (not NaNs)\n",
    "#                 WOFSpolygons = ft.shapes(\n",
    "#                     WOFSfiltered.data.astype('float32'),\n",
    "#                     mask=WOFSfiltered.data.astype('float32') == 1,\n",
    "#                     transform=WOFSnetCDFData.transform)\n",
    "#                 # The rasterio.features.shapes returns a tuple. We only want to keep the geometry portion,\n",
    "#                 # not the value of each polygon (which here is just 1 for everything)\n",
    "#                 WOFSbreaktuple = (a for a, b in WOFSpolygons)\n",
    "\n",
    "#                 # Put our polygons into a geopandas geodataframe\n",
    "#                 PolygonGP = gp.GeoDataFrame(list(WOFSbreaktuple))\n",
    "\n",
    "#                 # Grab the geometries and convert into a shapely geometry\n",
    "#                 # so we can quickly calcuate the area of each polygon\n",
    "#                 PolygonGP['geometry'] = None\n",
    "#                 for ix, poly in PolygonGP.iterrows():\n",
    "#                     poly['geometry'] = shape(poly)\n",
    "\n",
    "#                 # Set the geometry of the dataframe to be the shapely geometry we just created\n",
    "#                 PolygonGP = PolygonGP.set_geometry('geometry')\n",
    "#                 # We need to add the crs back onto the dataframe\n",
    "#                 PolygonGP.crs = {'init': 'epsg:3577'}\n",
    "\n",
    "#                 # Combine any overlapping polygons\n",
    "#                 MergedPolygonsGeoms = unary_union(PolygonGP['geometry'])\n",
    "\n",
    "#                 # Turn the combined multipolygon back into a geodataframe\n",
    "#                 MergedPolygonsGPD = gp.GeoDataFrame(\n",
    "#                     [poly for poly in MergedPolygonsGeoms])\n",
    "#                 # Rename the geometry column\n",
    "#                 MergedPolygonsGPD.columns = ['geometry']\n",
    "#                 # We need to add the crs back onto the dataframe\n",
    "#                 MergedPolygonsGPD.crs = {'init': 'epsg:3577'}\n",
    "\n",
    "#                 # Calculate the area of each polygon again now that overlapping polygons\n",
    "#                 # have been merged\n",
    "#                 MergedPolygonsGPD['area'] = MergedPolygonsGPD['geometry'].area\n",
    "\n",
    "#                 # Save the polygons to a shapefile\n",
    "#                 schema = {\n",
    "#                     'geometry': 'Polygon',\n",
    "#                     'properties': {\n",
    "#                         'area': 'float'\n",
    "#                     }\n",
    "#                 }\n",
    "\n",
    "#                 # Generate our dynamic filename\n",
    "#                 FileName = f'{WaterBodiesShp}_{Thresholds}.shp'\n",
    "#                 # Append the file name to the list so we can call it later on\n",
    "\n",
    "#                 if os.path.isfile(FileName):\n",
    "#                     with fiona.open(FileName,\n",
    "#                                     \"a\",\n",
    "#                                     crs=from_epsg(3577),\n",
    "#                                     driver='ESRI Shapefile',\n",
    "#                                     schema=schema) as output:\n",
    "#                         for ix, poly in MergedPolygonsGPD.iterrows():\n",
    "#                             output.write(({\n",
    "#                                 'properties': {\n",
    "#                                     'area': poly['area']\n",
    "#                                 },\n",
    "#                                 'geometry': mapping(shape(poly['geometry']))\n",
    "#                             }))\n",
    "#                 else:\n",
    "#                     with fiona.open(FileName,\n",
    "#                                     \"w\",\n",
    "#                                     crs=from_epsg(3577),\n",
    "#                                     driver='ESRI Shapefile',\n",
    "#                                     schema=schema) as output:\n",
    "#                         for ix, poly in MergedPolygonsGPD.iterrows():\n",
    "#                             output.write(({\n",
    "#                                 'properties': {\n",
    "#                                     'area': poly['area']\n",
    "#                                 },\n",
    "#                                 'geometry': mapping(shape(poly['geometry']))\n",
    "#                             }))\n",
    "\n",
    "#         except:\n",
    "#             print(\n",
    "#                 f'{WOFSfile} did not run. \\n'\n",
    "#                 f'This is probably because there are no waterbodies present in this tile.'\n",
    "#             )"
   ]
  },
  {
   "cell_type": "code",
   "execution_count": null,
   "metadata": {},
   "outputs": [],
   "source": []
  }
 ],
 "metadata": {
  "kernelspec": {
   "display_name": "Python 3",
   "language": "python",
   "name": "python3"
  },
  "language_info": {
   "codemirror_mode": {
    "name": "ipython",
    "version": 3
   },
   "file_extension": ".py",
   "mimetype": "text/x-python",
   "name": "python",
   "nbconvert_exporter": "python",
   "pygments_lexer": "ipython3",
   "version": "3.6.9"
  }
 },
 "nbformat": 4,
 "nbformat_minor": 4
}
