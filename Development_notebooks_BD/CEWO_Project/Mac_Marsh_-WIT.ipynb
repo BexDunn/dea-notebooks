{
 "cells": [
  {
   "cell_type": "markdown",
   "metadata": {},
   "source": [
    "# Run WITMaps for Macquarie Marshes. \n",
    "- 1. Maps for each timestep\n",
    "- 2. For one event:\n",
    "    calculate: \n",
    "        per-pixel!!!!!!!!\n",
    "        -exceedence - eg. threshold each cloudmasked! timeslice (because if you don't have 100% cloudfree images then you'll get crazy noise)\n",
    "        -Drop any pixel using xr.where where there is less than 100%. this should show what is still wet after 9, 7, 5, 3 ,1 months.\n",
    "        \n",
    "        potential issues - no observations in a given month - does this count as continuous or discontinuous>?\n",
    "        \n",
    "        "
   ]
  },
  {
   "cell_type": "code",
   "execution_count": 1,
   "metadata": {},
   "outputs": [],
   "source": [
    "import datacube\n",
    "import datetime\n",
    "import fiona\n",
    "import geopandas as gpd\n",
    "import numpy as np\n",
    "import pandas as pd\n",
    "import rasterio.mask\n",
    "import rasterio.features\n",
    "import seaborn as sns\n",
    "from shapely import geometry\n",
    "import sys\n",
    "import xarray as xr\n",
    "\n",
    "from datetime import datetime, timedelta\n",
    "import matplotlib.dates as mdates\n",
    "import matplotlib.gridspec as gridspec\n",
    "import matplotlib.pyplot as plt\n",
    "from matplotlib.patches import Rectangle\n",
    "from textwrap import wrap\n",
    "\n",
    "from datacube.storage import masking\n",
    "from datacube.utils import geometry\n",
    "from datacube.utils.geometry import CRS\n",
    "from digitalearthau.utils import wofs_fuser\n",
    "\n",
    "sys.path.append('/g/data/r78/rjd547/jupyter_notebooks/dea-notebooks/10_Scripts')\n",
    "import DEADataHandling, DEAPlotting, TasseledCapTools, WetlandsTools, SpatialTools, wetlands_insight\n",
    "\n",
    "dc = datacube.Datacube(app='wetlands insight tool')\n",
    "%load_ext autoreload\n",
    "%autoreload 2"
   ]
  },
  {
   "cell_type": "code",
   "execution_count": 2,
   "metadata": {},
   "outputs": [],
   "source": [
    "#path to hydrograph data\n",
    "flowdata = '/g/data/r78/rjd547/CEWO_Project/Data/flow_data_mac_marsh_2018/FlowData.xlsx'"
   ]
  },
  {
   "cell_type": "code",
   "execution_count": 3,
   "metadata": {},
   "outputs": [],
   "source": [
    "#set output directory\n",
    "global Output_dir\n",
    "Output_dir = '/g/data/r78/rjd547/CEWO_Project/prototyping_outputs/'"
   ]
  },
  {
   "cell_type": "code",
   "execution_count": 4,
   "metadata": {},
   "outputs": [],
   "source": [
    "#set polygon path\n",
    "poly_path='/g/data/r78/rjd547/Ramsar_Wetlands/shapefiles/ExplodedRAMSAR.shp'"
   ]
  },
  {
   "cell_type": "code",
   "execution_count": 5,
   "metadata": {},
   "outputs": [
    {
     "name": "stdout",
     "output_type": "stream",
     "text": [
      "processing polygon The_Macquarie_Marshes-Macquarie_Marshes_Nature_Reserve-NSW-94\n"
     ]
    }
   ],
   "source": [
    "with fiona.open(poly_path) as shapes:\n",
    "    #get crs object from polygon file\n",
    "    crs = geometry.CRS(shapes.crs_wkt)\n",
    "    for feature in shapes:\n",
    "        #print (feature['id'])\n",
    "        if feature['id'] == str(94): #matching this because I know the number for mac marshes\n",
    "            #get feature geometry\n",
    "            feature_geometry=feature['geometry']\n",
    "            polyname =WetlandsTools.get_RAMSAR_polyName(feature)\n",
    "            #print(polyname)\n",
    "            #create datacube geometry.Geometry object\n",
    "            geom = geometry.Geometry(feature_geometry, crs=crs)\n",
    "            query = {'geopolygon': geom}#, 'time': ('2001-01-01', '2003-01-01') }# this should run for all time, if there is no time set?\n",
    "            #load and mask data. selecting data with more than 90% clear for the geobox around the polygon... #FIXME"
   ]
  },
  {
   "cell_type": "code",
   "execution_count": 6,
   "metadata": {},
   "outputs": [],
   "source": [
    "# get the bounding box around the polygon in order to plot our area of interest\n",
    "feature_bounding_box = geometry.Geometry(feature_geometry, crs=crs).boundingbox"
   ]
  },
  {
   "cell_type": "code",
   "execution_count": 7,
   "metadata": {},
   "outputs": [],
   "source": [
    "gauge_data = pd.read_excel(flowdata, \n",
    "                        sheet_name='Sheet1', \n",
    "                        header=(2), \n",
    "                        usecols=('Date','Flow','NSWEW','CEW'),\n",
    "                        index_col='Date',\n",
    "                        parse_dates=True\n",
    "                        )"
   ]
  },
  {
   "cell_type": "code",
   "execution_count": 8,
   "metadata": {},
   "outputs": [],
   "source": [
    "#convert flow data to xarray\n",
    "flow_data=gauge_data.to_xarray()"
   ]
  },
  {
   "cell_type": "code",
   "execution_count": 9,
   "metadata": {},
   "outputs": [],
   "source": [
    "query = {'geopolygon': geom,\n",
    "         #'time': (gauge_data.index[0], gauge_data.index[-1]) #get first and last times for our query from original xlsx\n",
    "         'time':('2019-01-01', '2019-06-01'), \n",
    "         }"
   ]
  },
  {
   "cell_type": "code",
   "execution_count": 10,
   "metadata": {},
   "outputs": [
    {
     "name": "stdout",
     "output_type": "stream",
     "text": [
      "Loading ls5\n",
      "    Skipping ls5; no valid data for query\n",
      "Loading ls7\n",
      "    Ignoring SLC-off observations for ls7\n",
      "    Skipping ls7; no valid data for query\n",
      "Loading ls8\n",
      "    Loading 6 filtered ls8 timesteps\n",
      "Returning ls8 data\n",
      "    Replacing invalid -999 values with NaN (data will be coerced to float64)\n",
      "Loading ls5\n",
      "    Skipping ls5; no valid data for query\n",
      "Loading ls7\n",
      "    Ignoring SLC-off observations for ls7\n",
      "    Skipping ls7; no valid data for query\n",
      "Loading ls8\n",
      "    Loading 6 filtered ls8 timesteps\n",
      "Returning ls8 data\n",
      "    Replacing invalid -999 values with NaN (data will be coerced to float64)\n"
     ]
    }
   ],
   "source": [
    "WITmaps = wetlands_insight.WIT_da(query)"
   ]
  },
  {
   "cell_type": "markdown",
   "metadata": {},
   "source": [
    "## plot WIT maps for the timeseries."
   ]
  },
  {
   "cell_type": "code",
   "execution_count": 11,
   "metadata": {},
   "outputs": [],
   "source": [
    "#usng an appropriate palette\n",
    "pal_opt = [sns.xkcd_rgb[\"cobalt blue\"],\n",
    "       sns.xkcd_rgb[\"neon blue\"],\n",
    "       sns.xkcd_rgb[\"brown\"],  \n",
    "       sns.xkcd_rgb[\"grass\"],\n",
    "       sns.xkcd_rgb[\"beige\"]]"
   ]
  },
  {
   "cell_type": "code",
   "execution_count": 12,
   "metadata": {},
   "outputs": [
    {
     "data": {
      "image/png": "[encoded data removed]",
      "text/plain": [
       "<Figure size 1368x216 with 6 Axes>"
      ]
     },
     "metadata": {
      "needs_background": "light"
     },
     "output_type": "display_data"
    }
   ],
   "source": [
    "WITmaps.plot(col='time', col_wrap=6,vmin = 0, vmax = 4.01, levels=6, colors = pal_opt, add_colorbar=False)#,figsize=(8,12))\n",
    "plt.show()"
   ]
  },
  {
   "cell_type": "code",
   "execution_count": 13,
   "metadata": {},
   "outputs": [],
   "source": [
    "monthWIT=WITmaps.resample(time='MS', skipna=True, keep_attrs=True, restore_coord_dims=True).mean('time')"
   ]
  },
  {
   "cell_type": "code",
   "execution_count": null,
   "metadata": {},
   "outputs": [],
   "source": []
  },
  {
   "cell_type": "code",
   "execution_count": 14,
   "metadata": {},
   "outputs": [
    {
     "data": {
      "image/png": "[encoded data removed]",
      "text/plain": [
       "<Figure size 1152x216 with 5 Axes>"
      ]
     },
     "metadata": {},
     "output_type": "display_data"
    }
   ],
   "source": [
    "#plt.clf()\n",
    "plotwit=monthWIT.plot(col='time', col_wrap=5,vmin = 0, vmax = 4.01, levels=6, colors = pal_opt, add_colorbar=False)#,figsize=(8,12))\n",
    "\n",
    "for i,ax in enumerate(plotwit.axes.flat):\n",
    "        ax.set_title(f'WIT monthly mean {str(monthWIT.isel(time=i).time.data)[0:7]}')\n",
    "        ax.tick_params(which = 'both', labelbottom = False,labelleft = False)\n",
    "        if ax==2:\n",
    "            ax.set_xlabel(f'The Fractional Cover algorithm developed by the Joint Remote'\n",
    "            f' Sensing Research Program and \\n the Water Observations from Space algorithm '\n",
    "            f'developed by Geoscience Australia are used in the production of this data',style='italic')\n",
    "\n",
    "plt.savefig('/g/data/r78/rjd547/CEWO_Project/prototyping_outputs/MacMarsh.png')\n",
    "plt.show()\n"
   ]
  },
  {
   "cell_type": "code",
   "execution_count": 36,
   "metadata": {},
   "outputs": [],
   "source": [
    "query = {'geopolygon': geom,\n",
    "         #'time': (gauge_data.index[0], gauge_data.index[-1]) #get first and last times for our query from original xlsx\n",
    "        # 'time':('2018-01-01', '2019-11-01'), \n",
    "         }"
   ]
  },
  {
   "cell_type": "code",
   "execution_count": null,
   "metadata": {},
   "outputs": [
    {
     "name": "stdout",
     "output_type": "stream",
     "text": [
      "Loading ls5\n",
      "    Loading 274 filtered ls5 timesteps\n"
     ]
    }
   ],
   "source": [
    "WITplots=wetlands_insight.WIT_array(query)"
   ]
  },
  {
   "cell_type": "code",
   "execution_count": null,
   "metadata": {},
   "outputs": [],
   "source": [
    "WITplots"
   ]
  },
  {
   "cell_type": "code",
   "execution_count": null,
   "metadata": {},
   "outputs": [],
   "source": [
    "pal = [sns.xkcd_rgb[\"cobalt blue\"],\n",
    "       sns.xkcd_rgb[\"neon blue\"],\n",
    "       sns.xkcd_rgb[\"grass\"],\n",
    "       sns.xkcd_rgb[\"beige\"],\n",
    "       sns.xkcd_rgb[\"brown\"]]  "
   ]
  },
  {
   "cell_type": "code",
   "execution_count": null,
   "metadata": {},
   "outputs": [],
   "source": [
    "import matplotlib.pyplot as plt\n",
    "#make a stacked area plot\n",
    "plt.clf()\n",
    "fig= plt.figure(figsize = (12,4))\n",
    "plt.stackplot(WITplots.water.time.values, \n",
    "              WITplots.water, \n",
    "              WITplots.wet, \n",
    "              WITplots.green, \n",
    "              WITplots.dry,\n",
    "              WITplots.bare,\n",
    "              labels=['water',\n",
    "                      'wet',\n",
    "                      'green veg',\n",
    "                      'dry veg',\n",
    "                      'bare soil',\n",
    "                     ], colors=pal, alpha = 0.6)\n",
    "\n",
    "\n",
    "#set axis limits to the min and max\n",
    "plt.axis(xmin = WITplots.water.time[0].data, xmax = WITplots.water.time[-1].data, ymin = 0, ymax = 100)\n",
    "\n",
    "#add a legend and a tight plot box\n",
    "plt.legend(loc='lower left', framealpha=0.6)\n",
    "#plt.tight_layout()\n",
    "\n",
    "#create rectangle borders for no-data times (SLC-off only)\n",
    "LS5_8_gap_start = datetime(2011,11,1)\n",
    "LS5_8_gap_end = datetime(2013,4,1)\n",
    "\n",
    "# convert to matplotlib date representation\n",
    "gap_start = mdates.date2num(LS5_8_gap_start)\n",
    "gap_end = mdates.date2num(LS5_8_gap_end)\n",
    "gap = gap_end - gap_start\n",
    "\n",
    "\n",
    "#set date ticks every year\n",
    "#years = mdates.YearLocator(2)\n",
    "#yearsFmt = mdates.DateFormatter('%Y')\n",
    "ax = plt.gca()\n",
    "#ax.xaxis.set_major_locator(years)\n",
    "#ax.xaxis.set_major_formatter(yearsFmt)\n",
    "#ax.yaxis.set_ticks(np.arange(0,110,10))\n",
    "ax.set_xlabel(f'The Fractional Cover algorithm developed by the Joint Remote'\n",
    "f' Sensing Research Program and \\n the Water Observations from Space algorithm '\n",
    "f'developed by Geoscience Australia are used in the production of this data',style='italic')\n",
    "\n",
    "\n",
    "#set up rectangle\n",
    "slc_rectangle= Rectangle((gap_start,0), gap, 100,alpha = 0.5, facecolor=sns.xkcd_rgb['white'],\n",
    "             edgecolor=sns.xkcd_rgb['white'], hatch=\"////\",linewidth=2)\n",
    "ax.add_patch(slc_rectangle)\n",
    "fig.autofmt_xdate()\n",
    "\n",
    "\n",
    "polyName='Macquarie Marshes'\n",
    "\n",
    "polyName=polyName.replace(\"'\",\"\\\\'\")\n",
    "title=ax.set_title(\"\\n\".join(wrap(f'Percentage of area WOfS, Wetness, Fractional Cover for {polyName}')))\n",
    "fig.tight_layout()\n",
    "title.set_y(1.05)\n",
    "\n",
    "#save the figure\n",
    "#4plt.savefig(f'{Output_dir}{polyName}.png')#, transparent=True)\n",
    "plt.show()\n",
    "print(f'plot created for {polyName}')"
   ]
  },
  {
   "cell_type": "code",
   "execution_count": null,
   "metadata": {},
   "outputs": [],
   "source": []
  },
  {
   "cell_type": "code",
   "execution_count": null,
   "metadata": {},
   "outputs": [],
   "source": [
    "flow_data"
   ]
  },
  {
   "cell_type": "code",
   "execution_count": null,
   "metadata": {},
   "outputs": [],
   "source": [
    "some_flow = flow_data.where(flow_data.CEW >0)"
   ]
  },
  {
   "cell_type": "code",
   "execution_count": null,
   "metadata": {},
   "outputs": [],
   "source": [
    "#matplotlib needs asome_flow of help to plot years, months, days\n",
    "plt.clf()\n",
    "flow_data.Flow.plot.line(figsize=(15,5))\n",
    "some_flow.Flow.plot.line()\n",
    "flow_data.CEW.plot.line()\n",
    "#plt.axis(xmin = gauge_data['Flow'].time[0].data, xmax = gauge_data['Flow'].time[-1].data)\n",
    "months = mdates.MonthLocator()\n",
    "monthsFmt = mdates.DateFormatter('%m')\n",
    "years = mdates.YearLocator()\n",
    "years_fmt = mdates.DateFormatter('%Y')\n",
    "\n",
    "ax = plt.gca()\n",
    "ax.xaxis.set_major_locator(years)\n",
    "ax.xaxis.set_major_formatter(years_fmt)\n",
    "ax.xaxis.set_minor_locator(months)\n",
    "ax.xaxis.set_minor_formatter(monthsFmt)\n",
    "plt.show()"
   ]
  },
  {
   "cell_type": "code",
   "execution_count": null,
   "metadata": {},
   "outputs": [],
   "source": [
    "(some_flow.CEW).plot.line()"
   ]
  },
  {
   "cell_type": "code",
   "execution_count": null,
   "metadata": {},
   "outputs": [],
   "source": [
    "## Dates of start \n",
    "bool_flow = xr.ufuncs.isfinite(flow_data.where(flow_data.CEW >0))\n",
    "flow_IO = bool_flow.astype(int)"
   ]
  },
  {
   "cell_type": "code",
   "execution_count": null,
   "metadata": {},
   "outputs": [],
   "source": [
    "plt.plot(flow_IO.Date, flow_IO.CEW)\n",
    "plt.tight_layout()"
   ]
  },
  {
   "cell_type": "markdown",
   "metadata": {},
   "source": [
    "## try and get end of environmental watering event"
   ]
  },
  {
   "cell_type": "code",
   "execution_count": null,
   "metadata": {},
   "outputs": [],
   "source": [
    "end_event=flow_IO.CEW.where(flow_IO.CEW > flow_IO.CEW) "
   ]
  },
  {
   "cell_type": "code",
   "execution_count": null,
   "metadata": {},
   "outputs": [],
   "source": [
    "end_event.max()"
   ]
  },
  {
   "cell_type": "code",
   "execution_count": null,
   "metadata": {},
   "outputs": [],
   "source": [
    "flow_IO"
   ]
  },
  {
   "cell_type": "code",
   "execution_count": null,
   "metadata": {},
   "outputs": [],
   "source": [
    "plt.plot(end_event.Date, end_event)\n",
    "plt.tight_layout()"
   ]
  },
  {
   "cell_type": "code",
   "execution_count": null,
   "metadata": {},
   "outputs": [],
   "source": []
  },
  {
   "cell_type": "code",
   "execution_count": null,
   "metadata": {},
   "outputs": [],
   "source": []
  },
  {
   "cell_type": "code",
   "execution_count": null,
   "metadata": {},
   "outputs": [],
   "source": []
  },
  {
   "cell_type": "code",
   "execution_count": null,
   "metadata": {},
   "outputs": [],
   "source": []
  },
  {
   "cell_type": "code",
   "execution_count": null,
   "metadata": {},
   "outputs": [],
   "source": []
  },
  {
   "cell_type": "code",
   "execution_count": null,
   "metadata": {},
   "outputs": [],
   "source": []
  },
  {
   "cell_type": "code",
   "execution_count": null,
   "metadata": {},
   "outputs": [],
   "source": []
  },
  {
   "cell_type": "code",
   "execution_count": null,
   "metadata": {},
   "outputs": [],
   "source": []
  },
  {
   "cell_type": "code",
   "execution_count": null,
   "metadata": {},
   "outputs": [],
   "source": []
  },
  {
   "cell_type": "code",
   "execution_count": null,
   "metadata": {},
   "outputs": [],
   "source": []
  },
  {
   "cell_type": "code",
   "execution_count": null,
   "metadata": {},
   "outputs": [],
   "source": []
  },
  {
   "cell_type": "code",
   "execution_count": null,
   "metadata": {},
   "outputs": [],
   "source": []
  },
  {
   "cell_type": "code",
   "execution_count": null,
   "metadata": {},
   "outputs": [],
   "source": []
  },
  {
   "cell_type": "code",
   "execution_count": null,
   "metadata": {},
   "outputs": [],
   "source": []
  },
  {
   "cell_type": "code",
   "execution_count": null,
   "metadata": {},
   "outputs": [],
   "source": []
  }
 ],
 "metadata": {
  "kernelspec": {
   "display_name": "Python 3",
   "language": "python",
   "name": "python3"
  },
  "language_info": {
   "codemirror_mode": {
    "name": "ipython",
    "version": 3
   },
   "file_extension": ".py",
   "mimetype": "text/x-python",
   "name": "python",
   "nbconvert_exporter": "python",
   "pygments_lexer": "ipython3",
   "version": "3.6.7"
  }
 },
 "nbformat": 4,
 "nbformat_minor": 4
}
