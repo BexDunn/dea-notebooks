{
 "cells": [
  {
   "cell_type": "code",
   "execution_count": 19,
   "metadata": {},
   "outputs": [
    {
     "name": "stdout",
     "output_type": "stream",
     "text": [
      "The autoreload extension is already loaded. To reload it, use:\n",
      "  %reload_ext autoreload\n"
     ]
    }
   ],
   "source": [
    "%matplotlib inline\n",
    "\n",
    "from copy import deepcopy\n",
    "import cartopy\n",
    "import datetime\n",
    "import matplotlib.gridspec as gridspec\n",
    "from matplotlib.colors import ListedColormap\n",
    "import matplotlib.pyplot as plt\n",
    "import numpy as np\n",
    "import os\n",
    "import sys\n",
    "import seaborn as sns\n",
    "from scipy.stats import ttest_1samp\n",
    "\n",
    "import xarray as xr\n",
    "\n",
    "# modules for datacube\n",
    "import datacube\n",
    "from datacube.utils import masking\n",
    "from datacube.helpers import ga_pq_fuser\n",
    "\n",
    "# Import external functions from dea-notebooks\n",
    "sys.path.append(\"../../Scripts/\")\n",
    "sys.path.append(\"../Development_notebooks_BD/10_Scripts/\")\n",
    "import dea_plotting, dea_datahandling\n",
    "\n",
    "# from dea_dask import create_local_dask_cluster\n",
    "# import DEADataHandling #try and use old function to load, mask and concatenate C2 fractional cover\n",
    "\n",
    "# ignore datacube warnings (needs to be last import statement)\n",
    "import warnings\n",
    "\n",
    "warnings.filterwarnings(\"ignore\", module=\"datacube\")\n",
    "\n",
    "from odc.ui import with_ui_cbk\n",
    "\n",
    "%load_ext autoreload\n",
    "%autoreload 1"
   ]
  },
  {
   "cell_type": "code",
   "execution_count": 20,
   "metadata": {},
   "outputs": [],
   "source": [
    "# #initialise dask cluster\n",
    "# create_local_dask_cluster()"
   ]
  },
  {
   "cell_type": "code",
   "execution_count": 21,
   "metadata": {
    "ExecuteTime": {
     "end_time": "2019-07-09T05:41:38.539143Z",
     "start_time": "2019-07-09T05:41:34.383458Z"
    }
   },
   "outputs": [],
   "source": [
    "# set datacube alias (just a string with what you're doing)\n",
    "dc = datacube.Datacube(app=\"dc-FC\")"
   ]
  },
  {
   "cell_type": "markdown",
   "metadata": {},
   "source": [
    "## Take a look at our dataset density"
   ]
  },
  {
   "cell_type": "markdown",
   "metadata": {},
   "source": [
    "define our query area + time"
   ]
  },
  {
   "cell_type": "code",
   "execution_count": 12,
   "metadata": {},
   "outputs": [],
   "source": [
    "query_c2 = {\n",
    "    \"output_crs\": \"epsg:3577\",\n",
    "    \"resolution\" : (-25,25),\n",
    "    \"group_by\": \"solar_day\",\n",
    "     \"lat\": (-27.31, -27.41),\n",
    "    \"lon\": (151.01, 151.12),\n",
    "    \"time\": (\"2018-05-01\", \"2018-06-01\"),\n",
    "}"
   ]
  },
  {
   "cell_type": "markdown",
   "metadata": {},
   "source": [
    "### Check out how much data we have"
   ]
  },
  {
   "cell_type": "code",
   "execution_count": 13,
   "metadata": {},
   "outputs": [
    {
     "name": "stdout",
     "output_type": "stream",
     "text": [
      "0 4 8\n"
     ]
    }
   ],
   "source": [
    "# count the number of datasets for fc2 ls5\n",
    "datasets_ls5_fc2 = dc.find_datasets(product=\"ls5_fc_albers\", **query_c2)\n",
    "# count the number of datasets for fc2 ls7\n",
    "datasets_ls7_fc2 = dc.find_datasets(product=\"ls7_fc_albers\", **query_c2)\n",
    "# count the number of datasets for fc2 ls8\n",
    "datasets_ls8_fc2 = dc.find_datasets(product=\"ls8_fc_albers\", **query_c2)\n",
    "print(len(datasets_ls5_fc2), len(datasets_ls7_fc2), len(datasets_ls8_fc2))"
   ]
  },
  {
   "cell_type": "markdown",
   "metadata": {},
   "source": [
    "### Load collection 2 fractional cover"
   ]
  },
  {
   "cell_type": "code",
   "execution_count": 14,
   "metadata": {},
   "outputs": [
    {
     "name": "stdout",
     "output_type": "stream",
     "text": [
      "no ls5 fc c2\n"
     ]
    }
   ],
   "source": [
    "if datasets_ls5_fc2:\n",
    "    print(f\"loading {len(datasets_ls5_fc2)} ls5 fc c2\")\n",
    "    ds_fc2_5 = dc.load(\n",
    "        product=\"ls5_fc_albers\", \n",
    "        **query_c2      \n",
    "    )\n",
    "else:\n",
    "    print(\"no ls5 fc c2\")\n",
    "    ds_fc2_5 = None\n"
   ]
  },
  {
   "cell_type": "code",
   "execution_count": 15,
   "metadata": {
    "ExecuteTime": {
     "end_time": "2019-07-09T05:41:38.539143Z",
     "start_time": "2019-07-09T05:41:34.383458Z"
    }
   },
   "outputs": [
    {
     "name": "stdout",
     "output_type": "stream",
     "text": [
      "loading 4 ls7 fc c2\n"
     ]
    },
    {
     "data": {
      "application/vnd.jupyter.widget-view+json": {
       "model_id": "5a0b2f5fbade4c87acfe9a1539ac1083",
       "version_major": 2,
       "version_minor": 0
      },
      "text/plain": [
       "VBox(children=(HBox(children=(Label(value=''), Label(value='')), layout=Layout(justify_content='space-between'…"
      ]
     },
     "metadata": {},
     "output_type": "display_data"
    }
   ],
   "source": [
    "if datasets_ls7_fc2:\n",
    "    print(f\"loading {len(datasets_ls7_fc2)} ls7 fc c2\")\n",
    "    ds_fc2_7 = dc.load(\n",
    "        product=\"ls7_fc_albers\",\n",
    "        **query_c2,\n",
    "        progress_cbk=with_ui_cbk(),\n",
    "    )\n",
    "else:\n",
    "    print(\"no ls7 fc c2\")\n",
    "    ds_fc2_7 = None"
   ]
  },
  {
   "cell_type": "code",
   "execution_count": 30,
   "metadata": {
    "ExecuteTime": {
     "end_time": "2019-07-09T05:41:38.539143Z",
     "start_time": "2019-07-09T05:41:34.383458Z"
    }
   },
   "outputs": [
    {
     "name": "stdout",
     "output_type": "stream",
     "text": [
      "loading 2 ls8 fc c2\n"
     ]
    },
    {
     "data": {
      "application/vnd.jupyter.widget-view+json": {
       "model_id": "66de04a6f9b043f3b9269bc841f514ed",
       "version_major": 2,
       "version_minor": 0
      },
      "text/plain": [
       "VBox(children=(HBox(children=(Label(value=''), Label(value='')), layout=Layout(justify_content='space-between'…"
      ]
     },
     "metadata": {},
     "output_type": "display_data"
    }
   ],
   "source": [
    "if datasets_ls8_fc2:\n",
    "    print(f\"loading {len(datasets_ls8_fc2)} ls8 fc c2\")\n",
    "    ds_fc2_8 = dc.load(\n",
    "        product=\"ls8_fc_albers\",\n",
    "        **query_c2,\n",
    "        progress_cbk=with_ui_cbk(),\n",
    "    )\n",
    "else:\n",
    "    print(\"no ls8 fc c2\")\n",
    "    ds_fc2_8 = None"
   ]
  },
  {
   "cell_type": "code",
   "execution_count": 25,
   "metadata": {},
   "outputs": [],
   "source": [
    "query_c3_ls5 = {\n",
    "    \"output_crs\": \"epsg:3577\",\n",
    "    \"resolution\" : (-25,25),\n",
    "    \"group_by\": \"solar_day\",\n",
    "     \"lat\": (-27.31, -27.41),\n",
    "    \"lon\": (151.01, 151.12),\n",
    "    \"time\": (\"2018-05-01\", \"2018-06-01\"),\n",
    "    \"platform\" : \"landsat-5\"\n",
    "    }"
   ]
  },
  {
   "cell_type": "code",
   "execution_count": 29,
   "metadata": {},
   "outputs": [],
   "source": [
    "query_c3_ls7 = {\n",
    "    \"output_crs\": \"epsg:3577\",\n",
    "    \"resolution\" : (-25,25),\n",
    "    \"group_by\": \"solar_day\",\n",
    "     \"lat\": (-27.31, -27.41),\n",
    "    \"lon\": (151.01, 151.12),\n",
    "    \"time\": (\"2018-05-01\", \"2018-06-01\"),\n",
    "    \"platform\" : \"landsat-7\"\n",
    "    }"
   ]
  },
  {
   "cell_type": "code",
   "execution_count": 28,
   "metadata": {},
   "outputs": [],
   "source": [
    "query_c3_ls8 = {\n",
    "    \"output_crs\": \"epsg:3577\",\n",
    "    \"resolution\" : (-25,25),\n",
    "    \"group_by\": \"solar_day\",\n",
    "     \"lat\": (-27.31, -27.41),\n",
    "    \"lon\": (151.01, 151.12),\n",
    "    \"time\": (\"2018-05-01\", \"2018-06-01\"),\n",
    "    \"platform\" : \"landsat-8\"\n",
    "    }"
   ]
  },
  {
   "cell_type": "code",
   "execution_count": null,
   "metadata": {},
   "outputs": [],
   "source": [
    "query_c3"
   ]
  },
  {
   "cell_type": "code",
   "execution_count": 39,
   "metadata": {},
   "outputs": [
    {
     "data": {
      "text/html": [
       "<div><svg style=\"position: absolute; width: 0; height: 0; overflow: hidden\">\n",
       "<defs>\n",
       "<symbol id=\"icon-database\" viewBox=\"0 0 32 32\">\n",
       "<path d=\"M16 0c-8.837 0-16 2.239-16 5v4c0 2.761 7.163 5 16 5s16-2.239 16-5v-4c0-2.761-7.163-5-16-5z\"></path>\n",
       "<path d=\"M16 17c-8.837 0-16-2.239-16-5v6c0 2.761 7.163 5 16 5s16-2.239 16-5v-6c0 2.761-7.163 5-16 5z\"></path>\n",
       "<path d=\"M16 26c-8.837 0-16-2.239-16-5v6c0 2.761 7.163 5 16 5s16-2.239 16-5v-6c0 2.761-7.163 5-16 5z\"></path>\n",
       "</symbol>\n",
       "<symbol id=\"icon-file-text2\" viewBox=\"0 0 32 32\">\n",
       "<path d=\"M28.681 7.159c-0.694-0.947-1.662-2.053-2.724-3.116s-2.169-2.030-3.116-2.724c-1.612-1.182-2.393-1.319-2.841-1.319h-15.5c-1.378 0-2.5 1.121-2.5 2.5v27c0 1.378 1.122 2.5 2.5 2.5h23c1.378 0 2.5-1.122 2.5-2.5v-19.5c0-0.448-0.137-1.23-1.319-2.841zM24.543 5.457c0.959 0.959 1.712 1.825 2.268 2.543h-4.811v-4.811c0.718 0.556 1.584 1.309 2.543 2.268zM28 29.5c0 0.271-0.229 0.5-0.5 0.5h-23c-0.271 0-0.5-0.229-0.5-0.5v-27c0-0.271 0.229-0.5 0.5-0.5 0 0 15.499-0 15.5 0v7c0 0.552 0.448 1 1 1h7v19.5z\"></path>\n",
       "<path d=\"M23 26h-14c-0.552 0-1-0.448-1-1s0.448-1 1-1h14c0.552 0 1 0.448 1 1s-0.448 1-1 1z\"></path>\n",
       "<path d=\"M23 22h-14c-0.552 0-1-0.448-1-1s0.448-1 1-1h14c0.552 0 1 0.448 1 1s-0.448 1-1 1z\"></path>\n",
       "<path d=\"M23 18h-14c-0.552 0-1-0.448-1-1s0.448-1 1-1h14c0.552 0 1 0.448 1 1s-0.448 1-1 1z\"></path>\n",
       "</symbol>\n",
       "</defs>\n",
       "</svg>\n",
       "<style>/* CSS stylesheet for displaying xarray objects in jupyterlab.\n",
       " *\n",
       " */\n",
       "\n",
       ":root {\n",
       "  --xr-font-color0: var(--jp-content-font-color0, rgba(0, 0, 0, 1));\n",
       "  --xr-font-color2: var(--jp-content-font-color2, rgba(0, 0, 0, 0.54));\n",
       "  --xr-font-color3: var(--jp-content-font-color3, rgba(0, 0, 0, 0.38));\n",
       "  --xr-border-color: var(--jp-border-color2, #e0e0e0);\n",
       "  --xr-disabled-color: var(--jp-layout-color3, #bdbdbd);\n",
       "  --xr-background-color: var(--jp-layout-color0, white);\n",
       "  --xr-background-color-row-even: var(--jp-layout-color1, white);\n",
       "  --xr-background-color-row-odd: var(--jp-layout-color2, #eeeeee);\n",
       "}\n",
       "\n",
       "html[theme=dark],\n",
       "body.vscode-dark {\n",
       "  --xr-font-color0: rgba(255, 255, 255, 1);\n",
       "  --xr-font-color2: rgba(255, 255, 255, 0.54);\n",
       "  --xr-font-color3: rgba(255, 255, 255, 0.38);\n",
       "  --xr-border-color: #1F1F1F;\n",
       "  --xr-disabled-color: #515151;\n",
       "  --xr-background-color: #111111;\n",
       "  --xr-background-color-row-even: #111111;\n",
       "  --xr-background-color-row-odd: #313131;\n",
       "}\n",
       "\n",
       ".xr-wrap {\n",
       "  display: block;\n",
       "  min-width: 300px;\n",
       "  max-width: 700px;\n",
       "}\n",
       "\n",
       ".xr-text-repr-fallback {\n",
       "  /* fallback to plain text repr when CSS is not injected (untrusted notebook) */\n",
       "  display: none;\n",
       "}\n",
       "\n",
       ".xr-header {\n",
       "  padding-top: 6px;\n",
       "  padding-bottom: 6px;\n",
       "  margin-bottom: 4px;\n",
       "  border-bottom: solid 1px var(--xr-border-color);\n",
       "}\n",
       "\n",
       ".xr-header > div,\n",
       ".xr-header > ul {\n",
       "  display: inline;\n",
       "  margin-top: 0;\n",
       "  margin-bottom: 0;\n",
       "}\n",
       "\n",
       ".xr-obj-type,\n",
       ".xr-array-name {\n",
       "  margin-left: 2px;\n",
       "  margin-right: 10px;\n",
       "}\n",
       "\n",
       ".xr-obj-type {\n",
       "  color: var(--xr-font-color2);\n",
       "}\n",
       "\n",
       ".xr-sections {\n",
       "  padding-left: 0 !important;\n",
       "  display: grid;\n",
       "  grid-template-columns: 150px auto auto 1fr 20px 20px;\n",
       "}\n",
       "\n",
       ".xr-section-item {\n",
       "  display: contents;\n",
       "}\n",
       "\n",
       ".xr-section-item input {\n",
       "  display: none;\n",
       "}\n",
       "\n",
       ".xr-section-item input + label {\n",
       "  color: var(--xr-disabled-color);\n",
       "}\n",
       "\n",
       ".xr-section-item input:enabled + label {\n",
       "  cursor: pointer;\n",
       "  color: var(--xr-font-color2);\n",
       "}\n",
       "\n",
       ".xr-section-item input:enabled + label:hover {\n",
       "  color: var(--xr-font-color0);\n",
       "}\n",
       "\n",
       ".xr-section-summary {\n",
       "  grid-column: 1;\n",
       "  color: var(--xr-font-color2);\n",
       "  font-weight: 500;\n",
       "}\n",
       "\n",
       ".xr-section-summary > span {\n",
       "  display: inline-block;\n",
       "  padding-left: 0.5em;\n",
       "}\n",
       "\n",
       ".xr-section-summary-in:disabled + label {\n",
       "  color: var(--xr-font-color2);\n",
       "}\n",
       "\n",
       ".xr-section-summary-in + label:before {\n",
       "  display: inline-block;\n",
       "  content: '►';\n",
       "  font-size: 11px;\n",
       "  width: 15px;\n",
       "  text-align: center;\n",
       "}\n",
       "\n",
       ".xr-section-summary-in:disabled + label:before {\n",
       "  color: var(--xr-disabled-color);\n",
       "}\n",
       "\n",
       ".xr-section-summary-in:checked + label:before {\n",
       "  content: '▼';\n",
       "}\n",
       "\n",
       ".xr-section-summary-in:checked + label > span {\n",
       "  display: none;\n",
       "}\n",
       "\n",
       ".xr-section-summary,\n",
       ".xr-section-inline-details {\n",
       "  padding-top: 4px;\n",
       "  padding-bottom: 4px;\n",
       "}\n",
       "\n",
       ".xr-section-inline-details {\n",
       "  grid-column: 2 / -1;\n",
       "}\n",
       "\n",
       ".xr-section-details {\n",
       "  display: none;\n",
       "  grid-column: 1 / -1;\n",
       "  margin-bottom: 5px;\n",
       "}\n",
       "\n",
       ".xr-section-summary-in:checked ~ .xr-section-details {\n",
       "  display: contents;\n",
       "}\n",
       "\n",
       ".xr-array-wrap {\n",
       "  grid-column: 1 / -1;\n",
       "  display: grid;\n",
       "  grid-template-columns: 20px auto;\n",
       "}\n",
       "\n",
       ".xr-array-wrap > label {\n",
       "  grid-column: 1;\n",
       "  vertical-align: top;\n",
       "}\n",
       "\n",
       ".xr-preview {\n",
       "  color: var(--xr-font-color3);\n",
       "}\n",
       "\n",
       ".xr-array-preview,\n",
       ".xr-array-data {\n",
       "  padding: 0 5px !important;\n",
       "  grid-column: 2;\n",
       "}\n",
       "\n",
       ".xr-array-data,\n",
       ".xr-array-in:checked ~ .xr-array-preview {\n",
       "  display: none;\n",
       "}\n",
       "\n",
       ".xr-array-in:checked ~ .xr-array-data,\n",
       ".xr-array-preview {\n",
       "  display: inline-block;\n",
       "}\n",
       "\n",
       ".xr-dim-list {\n",
       "  display: inline-block !important;\n",
       "  list-style: none;\n",
       "  padding: 0 !important;\n",
       "  margin: 0;\n",
       "}\n",
       "\n",
       ".xr-dim-list li {\n",
       "  display: inline-block;\n",
       "  padding: 0;\n",
       "  margin: 0;\n",
       "}\n",
       "\n",
       ".xr-dim-list:before {\n",
       "  content: '(';\n",
       "}\n",
       "\n",
       ".xr-dim-list:after {\n",
       "  content: ')';\n",
       "}\n",
       "\n",
       ".xr-dim-list li:not(:last-child):after {\n",
       "  content: ',';\n",
       "  padding-right: 5px;\n",
       "}\n",
       "\n",
       ".xr-has-index {\n",
       "  font-weight: bold;\n",
       "}\n",
       "\n",
       ".xr-var-list,\n",
       ".xr-var-item {\n",
       "  display: contents;\n",
       "}\n",
       "\n",
       ".xr-var-item > div,\n",
       ".xr-var-item label,\n",
       ".xr-var-item > .xr-var-name span {\n",
       "  background-color: var(--xr-background-color-row-even);\n",
       "  margin-bottom: 0;\n",
       "}\n",
       "\n",
       ".xr-var-item > .xr-var-name:hover span {\n",
       "  padding-right: 5px;\n",
       "}\n",
       "\n",
       ".xr-var-list > li:nth-child(odd) > div,\n",
       ".xr-var-list > li:nth-child(odd) > label,\n",
       ".xr-var-list > li:nth-child(odd) > .xr-var-name span {\n",
       "  background-color: var(--xr-background-color-row-odd);\n",
       "}\n",
       "\n",
       ".xr-var-name {\n",
       "  grid-column: 1;\n",
       "}\n",
       "\n",
       ".xr-var-dims {\n",
       "  grid-column: 2;\n",
       "}\n",
       "\n",
       ".xr-var-dtype {\n",
       "  grid-column: 3;\n",
       "  text-align: right;\n",
       "  color: var(--xr-font-color2);\n",
       "}\n",
       "\n",
       ".xr-var-preview {\n",
       "  grid-column: 4;\n",
       "}\n",
       "\n",
       ".xr-var-name,\n",
       ".xr-var-dims,\n",
       ".xr-var-dtype,\n",
       ".xr-preview,\n",
       ".xr-attrs dt {\n",
       "  white-space: nowrap;\n",
       "  overflow: hidden;\n",
       "  text-overflow: ellipsis;\n",
       "  padding-right: 10px;\n",
       "}\n",
       "\n",
       ".xr-var-name:hover,\n",
       ".xr-var-dims:hover,\n",
       ".xr-var-dtype:hover,\n",
       ".xr-attrs dt:hover {\n",
       "  overflow: visible;\n",
       "  width: auto;\n",
       "  z-index: 1;\n",
       "}\n",
       "\n",
       ".xr-var-attrs,\n",
       ".xr-var-data {\n",
       "  display: none;\n",
       "  background-color: var(--xr-background-color) !important;\n",
       "  padding-bottom: 5px !important;\n",
       "}\n",
       "\n",
       ".xr-var-attrs-in:checked ~ .xr-var-attrs,\n",
       ".xr-var-data-in:checked ~ .xr-var-data {\n",
       "  display: block;\n",
       "}\n",
       "\n",
       ".xr-var-data > table {\n",
       "  float: right;\n",
       "}\n",
       "\n",
       ".xr-var-name span,\n",
       ".xr-var-data,\n",
       ".xr-attrs {\n",
       "  padding-left: 25px !important;\n",
       "}\n",
       "\n",
       ".xr-attrs,\n",
       ".xr-var-attrs,\n",
       ".xr-var-data {\n",
       "  grid-column: 1 / -1;\n",
       "}\n",
       "\n",
       "dl.xr-attrs {\n",
       "  padding: 0;\n",
       "  margin: 0;\n",
       "  display: grid;\n",
       "  grid-template-columns: 125px auto;\n",
       "}\n",
       "\n",
       ".xr-attrs dt, dd {\n",
       "  padding: 0;\n",
       "  margin: 0;\n",
       "  float: left;\n",
       "  padding-right: 10px;\n",
       "  width: auto;\n",
       "}\n",
       "\n",
       ".xr-attrs dt {\n",
       "  font-weight: normal;\n",
       "  grid-column: 1;\n",
       "}\n",
       "\n",
       ".xr-attrs dt:hover span {\n",
       "  display: inline-block;\n",
       "  background: var(--xr-background-color);\n",
       "  padding-right: 10px;\n",
       "}\n",
       "\n",
       ".xr-attrs dd {\n",
       "  grid-column: 2;\n",
       "  white-space: pre-wrap;\n",
       "  word-break: break-all;\n",
       "}\n",
       "\n",
       ".xr-icon-database,\n",
       ".xr-icon-file-text2 {\n",
       "  display: inline-block;\n",
       "  vertical-align: middle;\n",
       "  width: 1em;\n",
       "  height: 1.5em !important;\n",
       "  stroke-width: 0;\n",
       "  stroke: currentColor;\n",
       "  fill: currentColor;\n",
       "}\n",
       "</style><pre class='xr-text-repr-fallback'>&lt;xarray.Dataset&gt;\n",
       "Dimensions:      (time: 4, x: 492, y: 509)\n",
       "Coordinates:\n",
       "  * time         (time) datetime64[ns] 2018-05-02T23:47:26.500000 ... 2018-05...\n",
       "  * y            (y) float64 -3.1e+06 -3.1e+06 ... -3.112e+06 -3.112e+06\n",
       "  * x            (x) float64 1.85e+06 1.85e+06 1.85e+06 ... 1.862e+06 1.862e+06\n",
       "    spatial_ref  int32 3577\n",
       "Data variables:\n",
       "    BS           (time, y, x) int16 8 7 15 14 8 7 6 8 ... 35 40 37 29 31 9 1 16\n",
       "    PV           (time, y, x) int16 45 48 44 43 48 50 49 ... 13 20 29 26 25 31\n",
       "    NPV          (time, y, x) int16 46 43 40 42 43 43 44 ... 50 50 39 63 73 52\n",
       "    UE           (time, y, x) int16 15 13 13 14 15 17 16 15 ... 8 8 8 9 9 6 6 8\n",
       "Attributes:\n",
       "    crs:           epsg:3577\n",
       "    grid_mapping:  spatial_ref</pre><div class='xr-wrap' hidden><div class='xr-header'><div class='xr-obj-type'>xarray.Dataset</div></div><ul class='xr-sections'><li class='xr-section-item'><input id='section-27f5b457-cb9d-420e-b473-16c82d1002ba' class='xr-section-summary-in' type='checkbox' disabled ><label for='section-27f5b457-cb9d-420e-b473-16c82d1002ba' class='xr-section-summary'  title='Expand/collapse section'>Dimensions:</label><div class='xr-section-inline-details'><ul class='xr-dim-list'><li><span class='xr-has-index'>time</span>: 4</li><li><span class='xr-has-index'>x</span>: 492</li><li><span class='xr-has-index'>y</span>: 509</li></ul></div><div class='xr-section-details'></div></li><li class='xr-section-item'><input id='section-f8d223a8-5980-43b3-b79b-41cd8687e3e4' class='xr-section-summary-in' type='checkbox'  checked><label for='section-f8d223a8-5980-43b3-b79b-41cd8687e3e4' class='xr-section-summary' >Coordinates: <span>(4)</span></label><div class='xr-section-inline-details'></div><div class='xr-section-details'><ul class='xr-var-list'><li class='xr-var-item'><div class='xr-var-name'><span class='xr-has-index'>time</span></div><div class='xr-var-dims'>(time)</div><div class='xr-var-dtype'>datetime64[ns]</div><div class='xr-var-preview xr-preview'>2018-05-02T23:47:26.500000 ... 2...</div><input id='attrs-c5e9dee2-4ebb-4990-8634-e8c728511408' class='xr-var-attrs-in' type='checkbox' ><label for='attrs-c5e9dee2-4ebb-4990-8634-e8c728511408' title='Show/Hide attributes'><svg class='icon xr-icon-file-text2'><use xlink:href='#icon-file-text2'></use></svg></label><input id='data-3d828624-df35-401b-a522-438b430cfabc' class='xr-var-data-in' type='checkbox'><label for='data-3d828624-df35-401b-a522-438b430cfabc' title='Show/Hide data repr'><svg class='icon xr-icon-database'><use xlink:href='#icon-database'></use></svg></label><div class='xr-var-attrs'><dl class='xr-attrs'><dt><span>units :</span></dt><dd>seconds since 1970-01-01 00:00:00</dd></dl></div><div class='xr-var-data'><pre>array([&#x27;2018-05-02T23:47:26.500000000&#x27;, &#x27;2018-05-09T23:53:33.000000000&#x27;,\n",
       "       &#x27;2018-05-18T23:47:16.000000000&#x27;, &#x27;2018-05-25T23:53:21.000000000&#x27;],\n",
       "      dtype=&#x27;datetime64[ns]&#x27;)</pre></div></li><li class='xr-var-item'><div class='xr-var-name'><span class='xr-has-index'>y</span></div><div class='xr-var-dims'>(y)</div><div class='xr-var-dtype'>float64</div><div class='xr-var-preview xr-preview'>-3.1e+06 -3.1e+06 ... -3.112e+06</div><input id='attrs-d7d55c24-300b-404e-8dc9-1d19d1075466' class='xr-var-attrs-in' type='checkbox' ><label for='attrs-d7d55c24-300b-404e-8dc9-1d19d1075466' title='Show/Hide attributes'><svg class='icon xr-icon-file-text2'><use xlink:href='#icon-file-text2'></use></svg></label><input id='data-f170d908-67fb-4fed-9461-f26c181b0a7f' class='xr-var-data-in' type='checkbox'><label for='data-f170d908-67fb-4fed-9461-f26c181b0a7f' title='Show/Hide data repr'><svg class='icon xr-icon-database'><use xlink:href='#icon-database'></use></svg></label><div class='xr-var-attrs'><dl class='xr-attrs'><dt><span>units :</span></dt><dd>metre</dd><dt><span>resolution :</span></dt><dd>-25.0</dd><dt><span>crs :</span></dt><dd>epsg:3577</dd></dl></div><div class='xr-var-data'><pre>array([-3099612.5, -3099637.5, -3099662.5, ..., -3112262.5, -3112287.5,\n",
       "       -3112312.5])</pre></div></li><li class='xr-var-item'><div class='xr-var-name'><span class='xr-has-index'>x</span></div><div class='xr-var-dims'>(x)</div><div class='xr-var-dtype'>float64</div><div class='xr-var-preview xr-preview'>1.85e+06 1.85e+06 ... 1.862e+06</div><input id='attrs-00fe361f-83ee-4ba4-8f6a-b3cfce1d0f62' class='xr-var-attrs-in' type='checkbox' ><label for='attrs-00fe361f-83ee-4ba4-8f6a-b3cfce1d0f62' title='Show/Hide attributes'><svg class='icon xr-icon-file-text2'><use xlink:href='#icon-file-text2'></use></svg></label><input id='data-f460c9d8-d00f-461b-b15c-73996a09b9f9' class='xr-var-data-in' type='checkbox'><label for='data-f460c9d8-d00f-461b-b15c-73996a09b9f9' title='Show/Hide data repr'><svg class='icon xr-icon-database'><use xlink:href='#icon-database'></use></svg></label><div class='xr-var-attrs'><dl class='xr-attrs'><dt><span>units :</span></dt><dd>metre</dd><dt><span>resolution :</span></dt><dd>25.0</dd><dt><span>crs :</span></dt><dd>epsg:3577</dd></dl></div><div class='xr-var-data'><pre>array([1850087.5, 1850112.5, 1850137.5, ..., 1862312.5, 1862337.5, 1862362.5])</pre></div></li><li class='xr-var-item'><div class='xr-var-name'><span>spatial_ref</span></div><div class='xr-var-dims'>()</div><div class='xr-var-dtype'>int32</div><div class='xr-var-preview xr-preview'>3577</div><input id='attrs-686ac23e-0f14-4400-bd16-587162f0c4a2' class='xr-var-attrs-in' type='checkbox' ><label for='attrs-686ac23e-0f14-4400-bd16-587162f0c4a2' title='Show/Hide attributes'><svg class='icon xr-icon-file-text2'><use xlink:href='#icon-file-text2'></use></svg></label><input id='data-defc2192-6cfb-4803-b8b7-f0e4a643f307' class='xr-var-data-in' type='checkbox'><label for='data-defc2192-6cfb-4803-b8b7-f0e4a643f307' title='Show/Hide data repr'><svg class='icon xr-icon-database'><use xlink:href='#icon-database'></use></svg></label><div class='xr-var-attrs'><dl class='xr-attrs'><dt><span>spatial_ref :</span></dt><dd>PROJCS[&quot;GDA94 / Australian Albers&quot;,GEOGCS[&quot;GDA94&quot;,DATUM[&quot;Geocentric_Datum_of_Australia_1994&quot;,SPHEROID[&quot;GRS 1980&quot;,6378137,298.257222101,AUTHORITY[&quot;EPSG&quot;,&quot;7019&quot;]],AUTHORITY[&quot;EPSG&quot;,&quot;6283&quot;]],PRIMEM[&quot;Greenwich&quot;,0,AUTHORITY[&quot;EPSG&quot;,&quot;8901&quot;]],UNIT[&quot;degree&quot;,0.0174532925199433,AUTHORITY[&quot;EPSG&quot;,&quot;9122&quot;]],AUTHORITY[&quot;EPSG&quot;,&quot;4283&quot;]],PROJECTION[&quot;Albers_Conic_Equal_Area&quot;],PARAMETER[&quot;latitude_of_center&quot;,0],PARAMETER[&quot;longitude_of_center&quot;,132],PARAMETER[&quot;standard_parallel_1&quot;,-18],PARAMETER[&quot;standard_parallel_2&quot;,-36],PARAMETER[&quot;false_easting&quot;,0],PARAMETER[&quot;false_northing&quot;,0],UNIT[&quot;metre&quot;,1,AUTHORITY[&quot;EPSG&quot;,&quot;9001&quot;]],AXIS[&quot;Easting&quot;,EAST],AXIS[&quot;Northing&quot;,NORTH],AUTHORITY[&quot;EPSG&quot;,&quot;3577&quot;]]</dd><dt><span>grid_mapping_name :</span></dt><dd>albers_conical_equal_area</dd></dl></div><div class='xr-var-data'><pre>array(3577, dtype=int32)</pre></div></li></ul></div></li><li class='xr-section-item'><input id='section-b50d94ac-937f-4b5e-8666-f149c2993a3d' class='xr-section-summary-in' type='checkbox'  checked><label for='section-b50d94ac-937f-4b5e-8666-f149c2993a3d' class='xr-section-summary' >Data variables: <span>(4)</span></label><div class='xr-section-inline-details'></div><div class='xr-section-details'><ul class='xr-var-list'><li class='xr-var-item'><div class='xr-var-name'><span>BS</span></div><div class='xr-var-dims'>(time, y, x)</div><div class='xr-var-dtype'>int16</div><div class='xr-var-preview xr-preview'>8 7 15 14 8 7 6 ... 37 29 31 9 1 16</div><input id='attrs-26de79fb-45a6-43a1-b781-2cb104779cad' class='xr-var-attrs-in' type='checkbox' ><label for='attrs-26de79fb-45a6-43a1-b781-2cb104779cad' title='Show/Hide attributes'><svg class='icon xr-icon-file-text2'><use xlink:href='#icon-file-text2'></use></svg></label><input id='data-66b208a8-e150-4693-817b-a7d2a43075e9' class='xr-var-data-in' type='checkbox'><label for='data-66b208a8-e150-4693-817b-a7d2a43075e9' title='Show/Hide data repr'><svg class='icon xr-icon-database'><use xlink:href='#icon-database'></use></svg></label><div class='xr-var-attrs'><dl class='xr-attrs'><dt><span>units :</span></dt><dd>percent</dd><dt><span>nodata :</span></dt><dd>-1</dd><dt><span>crs :</span></dt><dd>epsg:3577</dd><dt><span>grid_mapping :</span></dt><dd>spatial_ref</dd></dl></div><div class='xr-var-data'><pre>array([[[ 8,  7, 15, ..., 68, 69, 77],\n",
       "        [16,  6,  4, ..., 65, 63, 73],\n",
       "        [ 9, 13, 12, ..., 63, 72, 71],\n",
       "        ...,\n",
       "        [22, 25, 26, ...,  0,  5,  8],\n",
       "        [18, 24, 23, ...,  0,  0,  0],\n",
       "        [12, 15, 14, ..., 22,  0, 21]],\n",
       "\n",
       "       [[ 4,  3, 11, ..., 77, 79, 85],\n",
       "        [ 7,  8,  9, ..., 77, 85, 88],\n",
       "        [ 8,  8, 10, ..., 67, 81, 72],\n",
       "        ...,\n",
       "        [13, 15, 13, ...,  0,  0,  0],\n",
       "        [11, 11, 12, ...,  0,  0, 23],\n",
       "        [13, 11,  7, ...,  5,  1, 16]],\n",
       "\n",
       "       [[ 7,  8, 10, ..., 86, 91, 88],\n",
       "        [11,  5,  8, ..., 75, 76, 91],\n",
       "        [18,  5,  7, ..., 88, 87, 82],\n",
       "        ...,\n",
       "        [16, 17, 19, ...,  0, 11, 40],\n",
       "        [13, 15, 11, ...,  0,  0, 28],\n",
       "        [18, 13, 10, ..., 20,  0, 13]],\n",
       "\n",
       "       [[ 5,  4, 11, ..., 73, 77, 83],\n",
       "        [ 7,  8, 14, ..., 69, 85, 80],\n",
       "        [12,  4,  7, ..., 72, 68, 78],\n",
       "        ...,\n",
       "        [16, 15, 18, ...,  0,  8, 20],\n",
       "        [12, 13, 11, ...,  0,  0, 27],\n",
       "        [18, 11,  8, ...,  9,  1, 16]]], dtype=int16)</pre></div></li><li class='xr-var-item'><div class='xr-var-name'><span>PV</span></div><div class='xr-var-dims'>(time, y, x)</div><div class='xr-var-dtype'>int16</div><div class='xr-var-preview xr-preview'>45 48 44 43 48 ... 20 29 26 25 31</div><input id='attrs-32f81351-fd3d-4f0e-8119-d7df6d158b37' class='xr-var-attrs-in' type='checkbox' ><label for='attrs-32f81351-fd3d-4f0e-8119-d7df6d158b37' title='Show/Hide attributes'><svg class='icon xr-icon-file-text2'><use xlink:href='#icon-file-text2'></use></svg></label><input id='data-cdc811ae-15b1-436a-9515-39bc729de459' class='xr-var-data-in' type='checkbox'><label for='data-cdc811ae-15b1-436a-9515-39bc729de459' title='Show/Hide data repr'><svg class='icon xr-icon-database'><use xlink:href='#icon-database'></use></svg></label><div class='xr-var-attrs'><dl class='xr-attrs'><dt><span>units :</span></dt><dd>percent</dd><dt><span>nodata :</span></dt><dd>-1</dd><dt><span>crs :</span></dt><dd>epsg:3577</dd><dt><span>grid_mapping :</span></dt><dd>spatial_ref</dd></dl></div><div class='xr-var-data'><pre>array([[[45, 48, 44, ...,  7,  6,  6],\n",
       "        [42, 49, 45, ...,  8,  6,  5],\n",
       "        [40, 46, 43, ...,  6,  8,  9],\n",
       "        ...,\n",
       "        [ 7,  7,  7, ...,  0,  0,  0],\n",
       "        [ 6,  7,  8, ...,  0,  0,  5],\n",
       "        [ 4,  7,  8, ..., 26, 12, 21]],\n",
       "\n",
       "       [[46, 54, 46, ...,  5,  6,  5],\n",
       "        [46, 44, 44, ...,  4,  3,  4],\n",
       "        [43, 45, 42, ...,  5,  5,  5],\n",
       "        ...,\n",
       "        [34, 32, 33, ...,  0,  0,  0],\n",
       "        [33, 36, 33, ...,  0,  0,  0],\n",
       "        [32, 35, 38, ..., 14, 17, 27]],\n",
       "\n",
       "       [[45, 48, 43, ...,  4,  6,  4],\n",
       "        [41, 50, 46, ...,  3,  0,  4],\n",
       "        [41, 47, 43, ...,  5,  5,  4],\n",
       "        ...,\n",
       "        [33, 31, 32, ...,  0,  0,  2],\n",
       "        [33, 34, 35, ...,  0,  0,  2],\n",
       "        [30, 34, 36, ..., 17,  0, 12]],\n",
       "\n",
       "       [[47, 52, 46, ...,  6,  6,  6],\n",
       "        [46, 44, 39, ...,  5,  5,  5],\n",
       "        [40, 54, 49, ...,  4,  6,  4],\n",
       "        ...,\n",
       "        [32, 33, 31, ...,  0,  0,  0],\n",
       "        [34, 35, 35, ...,  0,  0,  0],\n",
       "        [29, 36, 39, ..., 26, 25, 31]]], dtype=int16)</pre></div></li><li class='xr-var-item'><div class='xr-var-name'><span>NPV</span></div><div class='xr-var-dims'>(time, y, x)</div><div class='xr-var-dtype'>int16</div><div class='xr-var-preview xr-preview'>46 43 40 42 43 ... 50 39 63 73 52</div><input id='attrs-8a2471b8-941d-4b41-976b-6801683b86f4' class='xr-var-attrs-in' type='checkbox' ><label for='attrs-8a2471b8-941d-4b41-976b-6801683b86f4' title='Show/Hide attributes'><svg class='icon xr-icon-file-text2'><use xlink:href='#icon-file-text2'></use></svg></label><input id='data-f29ab68d-1159-4a71-8367-2e15ffc6f714' class='xr-var-data-in' type='checkbox'><label for='data-f29ab68d-1159-4a71-8367-2e15ffc6f714' title='Show/Hide data repr'><svg class='icon xr-icon-database'><use xlink:href='#icon-database'></use></svg></label><div class='xr-var-attrs'><dl class='xr-attrs'><dt><span>units :</span></dt><dd>percent</dd><dt><span>nodata :</span></dt><dd>-1</dd><dt><span>crs :</span></dt><dd>epsg:3577</dd><dt><span>grid_mapping :</span></dt><dd>spatial_ref</dd></dl></div><div class='xr-var-data'><pre>array([[[ 46,  43,  40, ...,  24,  23,  15],\n",
       "        [ 40,  44,  49, ...,  26,  30,  20],\n",
       "        [ 49,  40,  43, ...,  30,  19,  19],\n",
       "        ...,\n",
       "        [ 69,  65,  64, ...,  99,  94,  91],\n",
       "        [ 74,  67,  67, ...,  99,  99,  94],\n",
       "        [ 81,  76,  76, ...,  51,  87,  57]],\n",
       "\n",
       "       [[ 48,  41,  42, ...,  16,  14,   9],\n",
       "        [ 46,  47,  45, ...,  18,  10,   6],\n",
       "        [ 48,  46,  47, ...,  27,  12,  22],\n",
       "        ...,\n",
       "        [ 52,  52,  53, ..., 100, 100, 100],\n",
       "        [ 55,  52,  54, ...,  99,  99,  76],\n",
       "        [ 54,  53,  54, ...,  80,  80,  56]],\n",
       "\n",
       "       [[ 46,  43,  45, ...,   8,   1,   6],\n",
       "        [ 46,  43,  45, ...,  21,  22,   4],\n",
       "        [ 40,  47,  49, ...,   6,   7,  13],\n",
       "        ...,\n",
       "        [ 49,  51,  47, ..., 100,  89,  57],\n",
       "        [ 53,  50,  53, ...,  98,  99,  68],\n",
       "        [ 51,  52,  53, ...,  61,  99,  74]],\n",
       "\n",
       "       [[ 46,  43,  42, ...,  19,  16,  10],\n",
       "        [ 45,  47,  46, ...,  25,   9,  13],\n",
       "        [ 46,  41,  42, ...,  22,  24,  17],\n",
       "        ...,\n",
       "        [ 51,  50,  50, ...,  99,  92,  79],\n",
       "        [ 53,  51,  52, ...,  99,  99,  72],\n",
       "        [ 52,  52,  52, ...,  63,  73,  52]]], dtype=int16)</pre></div></li><li class='xr-var-item'><div class='xr-var-name'><span>UE</span></div><div class='xr-var-dims'>(time, y, x)</div><div class='xr-var-dtype'>int16</div><div class='xr-var-preview xr-preview'>15 13 13 14 15 17 ... 8 9 9 6 6 8</div><input id='attrs-c24fc2e2-6cd1-479e-80e0-f93266b65d60' class='xr-var-attrs-in' type='checkbox' ><label for='attrs-c24fc2e2-6cd1-479e-80e0-f93266b65d60' title='Show/Hide attributes'><svg class='icon xr-icon-file-text2'><use xlink:href='#icon-file-text2'></use></svg></label><input id='data-e315a0ba-f799-48da-bdd3-b4e04450220a' class='xr-var-data-in' type='checkbox'><label for='data-e315a0ba-f799-48da-bdd3-b4e04450220a' title='Show/Hide data repr'><svg class='icon xr-icon-database'><use xlink:href='#icon-database'></use></svg></label><div class='xr-var-attrs'><dl class='xr-attrs'><dt><span>units :</span></dt><dd>1</dd><dt><span>nodata :</span></dt><dd>-1</dd><dt><span>crs :</span></dt><dd>epsg:3577</dd><dt><span>grid_mapping :</span></dt><dd>spatial_ref</dd></dl></div><div class='xr-var-data'><pre>array([[[15, 13, 13, ..., 12, 12, 13],\n",
       "        [13, 14, 14, ..., 12, 12, 13],\n",
       "        [13, 14, 14, ..., 13, 12, 12],\n",
       "        ...,\n",
       "        [43, 42, 42, ...,  4,  5,  4],\n",
       "        [44, 43, 43, ...,  5,  4,  5],\n",
       "        [44, 44, 44, ...,  7,  6,  7]],\n",
       "\n",
       "       [[17, 15, 13, ..., 14, 14, 15],\n",
       "        [15, 15, 15, ..., 13, 14, 15],\n",
       "        [13, 14, 15, ..., 14, 14, 14],\n",
       "        ...,\n",
       "        [14, 14, 15, ...,  4,  4,  4],\n",
       "        [15, 14, 16, ...,  4,  4,  6],\n",
       "        [15, 15, 16, ...,  6,  7,  9]],\n",
       "\n",
       "       [[16, 14, 14, ..., 13, 12, 13],\n",
       "        [13, 15, 16, ..., 12, 12, 14],\n",
       "        [13, 14, 15, ..., 13, 13, 13],\n",
       "        ...,\n",
       "        [14, 14, 14, ...,  4,  4,  5],\n",
       "        [15, 14, 15, ...,  4,  4,  5],\n",
       "        [15, 14, 16, ...,  7,  6,  7]],\n",
       "\n",
       "       [[16, 15, 13, ..., 13, 13, 13],\n",
       "        [14, 15, 14, ..., 13, 13, 14],\n",
       "        [12, 13, 14, ..., 13, 13, 13],\n",
       "        ...,\n",
       "        [14, 14, 14, ...,  4,  5,  5],\n",
       "        [15, 14, 15, ...,  4,  5,  6],\n",
       "        [15, 15, 16, ...,  6,  6,  8]]], dtype=int16)</pre></div></li></ul></div></li><li class='xr-section-item'><input id='section-e2347caf-20b4-4c20-bac6-7bc35944f3d6' class='xr-section-summary-in' type='checkbox'  checked><label for='section-e2347caf-20b4-4c20-bac6-7bc35944f3d6' class='xr-section-summary' >Attributes: <span>(2)</span></label><div class='xr-section-inline-details'></div><div class='xr-section-details'><dl class='xr-attrs'><dt><span>crs :</span></dt><dd>epsg:3577</dd><dt><span>grid_mapping :</span></dt><dd>spatial_ref</dd></dl></div></li></ul></div></div>"
      ],
      "text/plain": [
       "<xarray.Dataset>\n",
       "Dimensions:      (time: 4, x: 492, y: 509)\n",
       "Coordinates:\n",
       "  * time         (time) datetime64[ns] 2018-05-02T23:47:26.500000 ... 2018-05...\n",
       "  * y            (y) float64 -3.1e+06 -3.1e+06 ... -3.112e+06 -3.112e+06\n",
       "  * x            (x) float64 1.85e+06 1.85e+06 1.85e+06 ... 1.862e+06 1.862e+06\n",
       "    spatial_ref  int32 3577\n",
       "Data variables:\n",
       "    BS           (time, y, x) int16 8 7 15 14 8 7 6 8 ... 35 40 37 29 31 9 1 16\n",
       "    PV           (time, y, x) int16 45 48 44 43 48 50 49 ... 13 20 29 26 25 31\n",
       "    NPV          (time, y, x) int16 46 43 40 42 43 43 44 ... 50 50 39 63 73 52\n",
       "    UE           (time, y, x) int16 15 13 13 14 15 17 16 15 ... 8 8 8 9 9 6 6 8\n",
       "Attributes:\n",
       "    crs:           epsg:3577\n",
       "    grid_mapping:  spatial_ref"
      ]
     },
     "execution_count": 39,
     "metadata": {},
     "output_type": "execute_result"
    }
   ],
   "source": [
    "ds_fc2_8"
   ]
  },
  {
   "cell_type": "markdown",
   "metadata": {},
   "source": [
    "### Load collection 3 fractional cover"
   ]
  },
  {
   "cell_type": "code",
   "execution_count": 31,
   "metadata": {},
   "outputs": [
    {
     "name": "stdout",
     "output_type": "stream",
     "text": [
      "0 2 2\n"
     ]
    }
   ],
   "source": [
    "# count the number of datasets for fc2 ls5\n",
    "datasets_ls5_fc2 = dc.find_datasets(product=\"ga_ls_fc_3\",  **query_c3_ls5)\n",
    "# count the number of datasets for fc2 ls7\n",
    "datasets_ls7_fc2 = dc.find_datasets(product=\"ga_ls_fc_3\", **query_c3_ls7)\n",
    "# count the number of datasets for fc2 ls8\n",
    "datasets_ls8_fc2 = dc.find_datasets(product=\"ga_ls_fc_3\", **query_c3_ls8)\n",
    "print(len(datasets_ls5_fc2), len(datasets_ls7_fc2), len(datasets_ls8_fc2))"
   ]
  },
  {
   "cell_type": "code",
   "execution_count": null,
   "metadata": {},
   "outputs": [],
   "source": [
    "# ds_fc3_ls5\n",
    "# ds_fc3_ls7"
   ]
  },
  {
   "cell_type": "code",
   "execution_count": 42,
   "metadata": {},
   "outputs": [
    {
     "data": {
      "application/vnd.jupyter.widget-view+json": {
       "model_id": "856ba5c0d97440078558c23e151979aa",
       "version_major": 2,
       "version_minor": 0
      },
      "text/plain": [
       "VBox(children=(HBox(children=(Label(value=''), Label(value='')), layout=Layout(justify_content='space-between'…"
      ]
     },
     "metadata": {},
     "output_type": "display_data"
    }
   ],
   "source": [
    "ds_fc3_ls8 = dc.load(product=\"ga_ls_fc_3\", \n",
    "                     like = ds_fc2_8, \n",
    "                     platform = \"landsat-8\",\n",
    "                     progress_cbk=with_ui_cbk(),\n",
    "                    )"
   ]
  },
  {
   "cell_type": "code",
   "execution_count": null,
   "metadata": {},
   "outputs": [],
   "source": [
    "ds_fc3_ls7\n",
    "\n",
    "ds_fc3_ls8"
   ]
  },
  {
   "cell_type": "markdown",
   "metadata": {},
   "source": [
    "### Load collection 3 wofs to mask both collection 2 and 3 fractional cover (to keep comparison the same)"
   ]
  },
  {
   "cell_type": "code",
   "execution_count": null,
   "metadata": {},
   "outputs": [],
   "source": [
    "# count the number of datasets for wofs3\n",
    "datasets_wofs3 = dc.find_datasets(product=\"ga_ls_wo_3\", **query)\n",
    "len(datasets_wofs3)"
   ]
  },
  {
   "cell_type": "code",
   "execution_count": null,
   "metadata": {},
   "outputs": [],
   "source": [
    "# load the wofs feature layers (wofls) within the same query as Fractional cover\n",
    "wofls = dc.load(\n",
    "    product=\"ga_ls_wo_3\",\n",
    "    **query,\n",
    "    # dask_chunks={\"time\": 1, \"x\": 100, \"y\": 100},\n",
    "    progress_cbk=with_ui_cbk()\n",
    ")"
   ]
  },
  {
   "cell_type": "markdown",
   "metadata": {},
   "source": [
    "### Turn the loaded wofls into a mask for fractional cover"
   ]
  },
  {
   "cell_type": "code",
   "execution_count": null,
   "metadata": {},
   "outputs": [],
   "source": [
    "wofsmask = masking.make_mask(wofls, wet=True)\n",
    "# wofsmask.water.isel(time=0).plot()"
   ]
  },
  {
   "cell_type": "markdown",
   "metadata": {},
   "source": [
    "### Load collection 3 cloud mask to mask both collections 2 and 3 fractional cover"
   ]
  },
  {
   "cell_type": "code",
   "execution_count": null,
   "metadata": {},
   "outputs": [],
   "source": [
    "c3_ard = dea_datahandling.load_ard(\n",
    "    dc,\n",
    "    products=[\"ga_ls5t_ard_3\", \"ga_ls7e_ard_3\", \"ga_ls8c_ard_3\"],\n",
    "    measurements=[\n",
    "        \"nbart_red\",\n",
    "        \"nbart_green\",\n",
    "        \"nbart_blue\",\n",
    "        \"nbart_nir\",\n",
    "        \"nbart_swir_1\",\n",
    "        \"oa_fmask\",\n",
    "    ],\n",
    "    **query,\n",
    "    # dask_chunks={\"time\": 1, \"x\": 3000, \"y\": 3000}, #if you pick too small an area, this won't work\n",
    "    dtype=\"native\",\n",
    "    progress_cbk=with_ui_cbk()\n",
    ")"
   ]
  },
  {
   "cell_type": "markdown",
   "metadata": {},
   "source": [
    "### Match timesteps for all data"
   ]
  },
  {
   "cell_type": "code",
   "execution_count": null,
   "metadata": {},
   "outputs": [],
   "source": [
    "# # Remove milliseconds to make data comparable\n",
    "ds_fc2[\"time\"] = ds_fc2.indexes[\"time\"].normalize()\n",
    "ds_fc3[\"time\"] = ds_fc3.indexes[\"time\"].normalize()\n",
    "wofsmask[\"time\"] = wofsmask.indexes[\"time\"].normalize()\n",
    "c3_ard[\"time\"] = c3_ard.indexes[\"time\"].normalize()"
   ]
  },
  {
   "cell_type": "code",
   "execution_count": null,
   "metadata": {},
   "outputs": [],
   "source": [
    "# Choose matching timesteps to compare\n",
    "ds_compare = ds_fc3[\"time\"].isin(ds_fc2[\"time\"].values)\n",
    "ds_fc3_sel = ds_fc3.sel(time=ds_compare)\n",
    "ds_fc2_sel = ds_fc2.where(ds_fc2.time == ds_fc3.time)"
   ]
  },
  {
   "cell_type": "code",
   "execution_count": null,
   "metadata": {},
   "outputs": [],
   "source": [
    "# free up memory\n",
    "del ds_fc2_5, ds_fc2_7, ds_fc2_8\n",
    "del ds_fc2, ds_fc3, ds_compare, wofls"
   ]
  },
  {
   "cell_type": "markdown",
   "metadata": {},
   "source": [
    "### Rename collection 2 variables to make comparisons easier"
   ]
  },
  {
   "cell_type": "code",
   "execution_count": null,
   "metadata": {},
   "outputs": [],
   "source": [
    "# rename collection 2 variables so we can iterate through both datasets along the same set of variables\n",
    "ds_fc2_sel = ds_fc2_sel.rename_vars({\"BS\": \"bs\", \"PV\": \"pv\", \"NPV\": \"npv\", \"UE\": \"ue\"})"
   ]
  },
  {
   "cell_type": "markdown",
   "metadata": {},
   "source": [
    "### work out what the nodata values are"
   ]
  },
  {
   "cell_type": "code",
   "execution_count": null,
   "metadata": {},
   "outputs": [],
   "source": [
    "print(\n",
    "    ds_fc2_sel.bs.nodata,\n",
    "    ds_fc3_sel.bs.nodata,\n",
    "    c3_ard.nbart_red.nodata,\n",
    "    c3_ard.oa_fmask.nodata,\n",
    ")"
   ]
  },
  {
   "cell_type": "markdown",
   "metadata": {},
   "source": [
    "### Mask everything with everything else"
   ]
  },
  {
   "cell_type": "code",
   "execution_count": null,
   "metadata": {},
   "outputs": [],
   "source": [
    "# replace nodata with NaNs so they plot nicely\n",
    "ds_fc2_sel = ds_fc2_sel.where(ds_fc2_sel != -1)\n",
    "ds_fc3_sel = ds_fc3_sel.where(ds_fc3_sel != 255)\n",
    "\n",
    "# to compare both datasets, take data only where both sets have finite data\n",
    "ds_fc2_sel = ds_fc2_sel.where(ds_fc3_sel.notnull() == True)\n",
    "ds_fc3_sel = ds_fc3_sel.where(ds_fc2_sel.notnull() == True)\n",
    "\n",
    "# turn collection 3 into a boolean mask to remove nodata in the fractional cover collections\n",
    "c3_bool = c3_ard.nbart_red != c3_ard.nbart_red.nodata\n",
    "\n",
    "# to compare both datasets, take data only where both sets have finite data\n",
    "ds_fc2_sel = ds_fc2_sel.where(ds_fc3_sel.notnull())\n",
    "ds_fc3_sel = ds_fc3_sel.where(ds_fc2_sel.notnull())\n",
    "\n",
    "\n",
    "# mask out water from the fractional cover data\n",
    "ds_fc3_sel = ds_fc3_sel.where(wofsmask.water == False)\n",
    "ds_fc2_sel = ds_fc2_sel.where(wofsmask.water == False)\n",
    "\n",
    "\n",
    "# #mask out clouds from the fractional cover data\n",
    "if c3_ard:\n",
    "    ds_fc2_masked = ds_fc2_sel.where(c3_bool == True)\n",
    "    ds_fc3_masked = ds_fc3_sel.where(c3_bool == True)\n",
    "else:\n",
    "    print(\"no cloud mask  found\")"
   ]
  },
  {
   "cell_type": "markdown",
   "metadata": {},
   "source": [
    "### Plot Fractional Cover and Unmixing Error Bands"
   ]
  },
  {
   "cell_type": "code",
   "execution_count": null,
   "metadata": {
    "ExecuteTime": {
     "end_time": "2018-08-29T07:01:27.115536Z",
     "start_time": "2018-08-29T07:01:27.111107Z"
    }
   },
   "outputs": [],
   "source": [
    "# just a scene we want to plot - this can be done other ways\n",
    "scene = 1\n",
    "# get the date of the scene for our output\n",
    "scene_day = np.datetime_as_string(ds_fc3_sel.isel(time=scene).time.values, unit=\"D\")"
   ]
  },
  {
   "cell_type": "markdown",
   "metadata": {},
   "source": [
    "Set up a colormap for the comparison"
   ]
  },
  {
   "cell_type": "code",
   "execution_count": null,
   "metadata": {},
   "outputs": [],
   "source": [
    "# div_cmap = sns.diverging_palette(250, 30, l=65, center=\"dark\", as_cmap=True)\n",
    "div_pal = sns.diverging_palette(250, 30, l=65, n=21, center=\"dark\")\n",
    "# (start=2.8, rot=.1, light=0.9, n_colors=3)\n",
    "div_cmap = ListedColormap(div_pal)\n",
    "ticks = np.linspace(-10, 10, 1)"
   ]
  },
  {
   "cell_type": "code",
   "execution_count": null,
   "metadata": {},
   "outputs": [],
   "source": [
    "# choose values for the comparison visualisation bounds\n",
    "compmin = -10\n",
    "compmax = 10"
   ]
  },
  {
   "cell_type": "code",
   "execution_count": null,
   "metadata": {
    "ExecuteTime": {
     "end_time": "2018-08-29T07:01:29.666056Z",
     "start_time": "2018-08-29T07:01:27.118805Z"
    }
   },
   "outputs": [],
   "source": [
    "# set up our images on a grid using gridspec\n",
    "fig = plt.figure(figsize=(20, 18))\n",
    "gs = gridspec.GridSpec(4, 3)\n",
    "\n",
    "# plot Collection 2 Photosynthetic Veg\n",
    "ax1 = plt.subplot(gs[0, 0])\n",
    "ds_fc2_masked.pv.isel(time=scene).plot.imshow(\n",
    "    interpolation=\"gaussian\", cmap=\"gist_earth_r\", vmin=0, vmax=100\n",
    ")\n",
    "ax1.set_title(\"FC2 PV\")\n",
    "\n",
    "# Plot Collection 3 Photosynthetic Veg\n",
    "ax1 = plt.subplot(gs[0, 1])\n",
    "ds_fc3_masked.pv.isel(time=scene).plot.imshow(\n",
    "    interpolation=\"gaussian\", cmap=\"gist_earth_r\", vmin=0, vmax=100\n",
    ")\n",
    "ax1.set_title(\"FC3 PV\")\n",
    "\n",
    "# Plot the delta\n",
    "ax1 = plt.subplot(gs[0, 2])\n",
    "(10 > abs(ds_fc3_masked.pv.isel(time=scene) - ds_fc2_masked.pv.isel(time=scene))).plot.imshow(\n",
    "    interpolation=\"gaussian\", cmap=div_cmap, vmin=compmin, vmax=compmax\n",
    ")\n",
    "\n",
    "ax1.set_title(\"FC PV 3-2\")\n",
    "\n",
    "# plot Collection 2  Non-Photosynthetic Veg\n",
    "ax3 = plt.subplot(gs[1, 0])\n",
    "ds_fc2_masked.npv.isel(time=scene).plot.imshow(\n",
    "    interpolation=\"gaussian\", cmap=\"copper\", vmin=0, vmax=100\n",
    ")\n",
    "ax3.set_title(\"FC2 NPV\")\n",
    "\n",
    "# plot Collection 3  Non-Photosynthetic Veg\n",
    "ax3 = plt.subplot(gs[1, 1])\n",
    "ds_fc3_masked.npv.isel(time=scene).plot.imshow(\n",
    "    interpolation=\"gaussian\", cmap=\"copper\", vmin=0, vmax=100\n",
    ")\n",
    "ax3.set_title(\"FC3 NPV\")\n",
    "\n",
    "# Plot the delta\n",
    "ax3 = plt.subplot(gs[1, 2])\n",
    "(10 > abs(ds_fc3_masked.npv.isel(time=scene) - ds_fc2_masked.npv.isel(time=scene))).plot.imshow(\n",
    "    interpolation=\"gaussian\", cmap=div_cmap, vmin=compmin, vmax=compmax\n",
    ")\n",
    "ax3.set_title(\"FC NPV 3-2\")\n",
    "\n",
    "# plot Collection 2  Bare Soil\n",
    "ax3 = plt.subplot(gs[2, 0])\n",
    "ds_fc2_masked.bs.isel(time=scene).plot.imshow(\n",
    "    interpolation=\"gaussian\", cmap=\"Oranges\", vmin=0, vmax=100\n",
    ")\n",
    "ax3.set_title(\"FC2 BS\")\n",
    "\n",
    "# plot Collection 3  Bare Soil\n",
    "ax3 = plt.subplot(gs[2, 1])\n",
    "ds_fc2_masked.bs.isel(time=scene).plot.imshow(\n",
    "    interpolation=\"gaussian\", cmap=\"Oranges\", vmin=0, vmax=100\n",
    ")\n",
    "ax3.set_title(\"FC3 BS\")\n",
    "\n",
    "# Plot the delta\n",
    "ax3 = plt.subplot(gs[2, 2])\n",
    "(10 > abs(ds_fc3_masked.bs.isel(time=scene) - ds_fc2_masked.bs.isel(time=scene))).plot.imshow(\n",
    "    interpolation=\"gaussian\", cmap=div_cmap, vmin=compmin, vmax=compmax\n",
    ")\n",
    "ax3.set_title(\"FC BS 3-2\")\n",
    "\n",
    "# plot Collection 2  Unmixing Error\n",
    "ax3 = plt.subplot(gs[3, 0])\n",
    "ds_fc2_masked.ue.isel(time=scene).plot.imshow(\n",
    "    interpolation=\"gaussian\", cmap=\"magma\", vmin=0, vmax=100\n",
    ")\n",
    "ax3.set_title(\"FC2 UE\")\n",
    "\n",
    "# plot Collection 3  Unmixing Error\n",
    "ax3 = plt.subplot(gs[3, 1])\n",
    "ds_fc2_masked.ue.isel(time=scene).plot.imshow(\n",
    "    interpolation=\"gaussian\", cmap=\"magma\", vmin=0, vmax=100\n",
    ")\n",
    "ax3.set_title(\"FC3 UE\")\n",
    "\n",
    "# Plot the delta\n",
    "ax3 = plt.subplot(gs[3, 2])\n",
    "(10 > abs(ds_fc3_masked.ue.isel(time=scene) - ds_fc2_masked.ue.isel(time=scene))).plot.imshow(\n",
    "    interpolation=\"gaussian\", cmap=div_cmap, vmin=compmin, vmax=compmax\n",
    ")\n",
    "ax3.set_title(\"FC UE 3-2\")\n",
    "\n",
    "fig.suptitle(\n",
    "    f\"Visually Comparing Collection 2 and 3 Fractional Cover for {scene_day}\", size=18\n",
    ")\n",
    "gs.tight_layout(fig, rect=[0, 0, 1, 0.97])\n",
    "\n",
    "plt.savefig(fname=f\"../outputs/FC_comparison_511_{scene_day}.png\")\n",
    "plt.show()\n",
    "None"
   ]
  },
  {
   "cell_type": "code",
   "execution_count": null,
   "metadata": {},
   "outputs": [],
   "source": [
    "ds_fc2_masked"
   ]
  },
  {
   "cell_type": "code",
   "execution_count": null,
   "metadata": {},
   "outputs": [],
   "source": [
    "print(scene)"
   ]
  },
  {
   "cell_type": "code",
   "execution_count": null,
   "metadata": {},
   "outputs": [],
   "source": [
    "def scatter_fc(\n",
    "    fc2_dataset, fc3_dataset, fraction: str = \"pv\", timestep: int = scene, **kwargs\n",
    "):\n",
    "    \"\"\"Scatter plot collection 2 fractional cover data against collection 3\n",
    "       fraction is one of pv, npv or bs \"\"\"\n",
    "    plt.figure(figsize=(5, 5))\n",
    "    fc2 = fc2_dataset[fraction].isel(time=timestep)\n",
    "    fc3 = fc3_dataset[fraction].isel(time=timestep)\n",
    "\n",
    "    # add some noise\n",
    "    fc2 = fc2 + np.random.normal(0, 0.5, size=fc2.shape)\n",
    "    fc3 = fc3 + np.random.normal(0, 0.5, size=fc3.shape)\n",
    "    # plt.hexbin(fc2.values.ravel(), fc3.values.ravel(), gridsize=gridsize, extent=(0,100,0,100), **kwargs)\n",
    "    plt.scatter(fc2.values.ravel(), fc3.values.ravel(), s=1, **kwargs)\n",
    "    plt.plot([0, 100], [0, 100], color=\"grey\")\n",
    "    plt.title(fraction)"
   ]
  },
  {
   "cell_type": "code",
   "execution_count": null,
   "metadata": {},
   "outputs": [],
   "source": [
    "print(scene_day)"
   ]
  },
  {
   "cell_type": "code",
   "execution_count": null,
   "metadata": {},
   "outputs": [],
   "source": [
    "for band in [\"pv\", \"bs\", \"npv\", \"ue\"]:\n",
    "    scatter_fc(ds_fc2_masked, ds_fc3_masked, alpha=0.1, edgecolor=\"None\", fraction=band)\n",
    "    plt.savefig(f\"../outputs/FC_comparison_band_{band}_511_{scene_day}.png\")"
   ]
  },
  {
   "cell_type": "code",
   "execution_count": null,
   "metadata": {},
   "outputs": [],
   "source": [
    "def hist_fc(\n",
    "    fc2_dataset,\n",
    "    fc3_dataset,\n",
    "    fraction: str = \"pv\",\n",
    "    timestep: int = scene,\n",
    "    bins=100,\n",
    "    **kwargs\n",
    "):\n",
    "    \"\"\"Histogram plot collection 2 fractional cover data against collection 3\n",
    "       fraction is one of pv, npv or bs \"\"\"\n",
    "    plt.figure(figsize=(10, 5))\n",
    "    fc2 = fc2_dataset[fraction].isel(time=timestep).values\n",
    "    fc3 = fc3_dataset[fraction].isel(time=timestep).values\n",
    "    # getting rid of the nans\n",
    "    fc2 = fc2[~np.isnan(fc2)]\n",
    "    fc3 = fc3[~np.isnan(fc3)]\n",
    "    # difference fc3 - fc2\n",
    "    diff = fc3 - fc2\n",
    "    plt.hist(diff, bins=bins, range=(-100, 100), **kwargs)\n",
    "    mean_diff = np.mean(diff)\n",
    "    std_diff = np.std(diff)\n",
    "    plt.axvline(mean_diff, color=\"k\")\n",
    "    plt.title(fraction)\n",
    "\n",
    "    print(fraction, mean_diff, std_diff, ttest_1samp(diff, 0))"
   ]
  },
  {
   "cell_type": "code",
   "execution_count": null,
   "metadata": {},
   "outputs": [],
   "source": [
    "for band in [\"pv\", \"bs\", \"npv\", \"ue\"]:\n",
    "    hist_fc(ds_fc2_masked, ds_fc3_masked, fraction=band)"
   ]
  },
  {
   "cell_type": "code",
   "execution_count": null,
   "metadata": {},
   "outputs": [],
   "source": [
    "def triangle_fc(fc2_dataset, fc3_dataset, c3_ard, timestep: int=scene, **kwargs):\n",
    "    \"\"\"\n",
    "    \"\"\"\n",
    "    fig, axs = plt.subplots(1, 3, figsize=(15, 5))\n",
    "    fc2 = fc2_dataset.isel(time=timestep)\n",
    "    fc3 = fc3_dataset.isel(time=timestep)\n",
    "\n",
    "    A2 = np.stack([fc2.pv, fc2.npv, fc2.bs])\n",
    "    R = np.array([[0, 1 / 3 ** 0.5], [-0.5, -1 / 3 ** 0.5,], [0.5, -1 / 3 ** 0.5]])\n",
    "    A3 = np.stack([fc3.pv, fc3.npv, fc3.bs])\n",
    "\n",
    "    P2 = np.tensordot(R, A2, (0,0)) \n",
    "    P3 = np.tensordot(R, A3, (0,0))  \n",
    "\n",
    "    key_points = {\n",
    "        'pv': np.array([1, 0, 0]),\n",
    "        'npv': np.array([0, 1, 0]),\n",
    "        'bs': np.array([0, 0, 1]),\n",
    "    }\n",
    "    for name, kp in key_points.items():\n",
    "        transformed = kp @ R * 100\n",
    "        offset = (kp * 20) @ R\n",
    "        for ax in axs:\n",
    "            ax.scatter(transformed[0], transformed[1], s=10, c='k', zorder=10)\n",
    "            ax.annotate(name, transformed, xytext=offset, textcoords='offset points', ha='center', va='center')\n",
    "    \n",
    "    c3_ard = c3_ard.sel(time=fc3.time)\n",
    "    colours = np.transpose(\n",
    "        np.stack([c3_ard.nbart_swir_1.values, c3_ard.nbart_nir.values, c3_ard.nbart_green.values]),\n",
    "        (1, 2, 0)).reshape((-1, 3)).astype(float)\n",
    "    \n",
    "    pc_min, pc_max = np.percentile(colours, [2, 98], axis=0, keepdims=True)\n",
    "    colours = np.clip(colours, pc_min, pc_max)\n",
    "    colours = colours - colours.min()\n",
    "    colours /= colours.max()\n",
    "    \n",
    "    # add some noise\n",
    "    P2 = P2 + np.random.normal(0, 0.5, size=P2.shape)\n",
    "    P3 = P3 + np.random.normal(0, 0.5, size=P3.shape)\n",
    "    axs[0].scatter(P2[0].ravel(),P2[1].ravel(), s=1, c=colours, **kwargs)\n",
    "    axs[1].scatter(P3[0].ravel(),P3[1].ravel(), s=1, c=colours, **kwargs)\n",
    "    axs[2].scatter((P3 - P2)[0].ravel(),(P3 - P2)[1].ravel(), s=1, c=colours, **kwargs)\n",
    "\n",
    "    for ax in axs:\n",
    "        ax.set_xlim(-70, 70)\n",
    "        ax.set_ylim(-70, 70)\n",
    "        ax.set_aspect('equal')\n",
    "    \n",
    "    for ax, title in zip(axs, ['C2', 'C3', 'C3 - C2']):\n",
    "        ax.set_title(title)"
   ]
  },
  {
   "cell_type": "code",
   "execution_count": null,
   "metadata": {},
   "outputs": [],
   "source": [
    "triangle_fc(ds_fc2_masked,ds_fc3_masked, c3_ard, alpha=0.1, edgecolor='None')"
   ]
  },
  {
   "cell_type": "code",
   "execution_count": null,
   "metadata": {},
   "outputs": [],
   "source": [
    "dea_plotting.rgb(c3_ard.sel(time=ds_fc3_masked.isel(time=scene).time), bands=['nbart_swir_1', 'nbart_nir', 'nbart_green'])"
   ]
  },
  {
   "cell_type": "code",
   "execution_count": null,
   "metadata": {},
   "outputs": [],
   "source": []
  }
 ],
 "metadata": {
  "kernelspec": {
   "display_name": "Python 3",
   "language": "python",
   "name": "python3"
  },
  "language_info": {
   "codemirror_mode": {
    "name": "ipython",
    "version": 3
   },
   "file_extension": ".py",
   "mimetype": "text/x-python",
   "name": "python",
   "nbconvert_exporter": "python",
   "pygments_lexer": "ipython3",
   "version": "3.6.9"
  }
 },
 "nbformat": 4,
 "nbformat_minor": 4
}
