{
 "cells": [
  {
   "cell_type": "markdown",
   "metadata": {},
   "source": [
    "## Hovmoller Sites NDVI\n",
    "\n",
    "This notebook opens a shape file of transects, allows you to select a transect by number (or plot all sites), and plot a hovmoller diagram of the site NDVI based on datacube landsat surface reflectance data and BoM rainfall data.\n",
    "\n",
    "Dependencies:\n",
    "\n",
    "  * shapefile of the site transects in EPSG 4326\n",
    "  \n",
    "The following sensors are available for the following time frames:\n",
    "* Landsat 5 - 1986 to April 1999  followed by a gap until May 2003 - November 2011 (data from 2009 onwards becomes less reliable in southern Australia)\n",
    "* Landsat 7 - April 1999 to present, however after May 2003 the scan line corrector (SLC) failed, \n",
    "so data are referred to as SLC-off, meaning they've got a venetian blinds appearance with wedges of missing data\n",
    "  * This data is not well suited for inclusion in composites, but is fine to use in time series analysis\n",
    "* Landsat 8 - April 2013 onwards\n",
    "  \n",
    "Bex Dunn June 2018"
   ]
  },
  {
   "cell_type": "markdown",
   "metadata": {
    "ExecuteTime": {
     "end_time": "2018-06-08T04:27:46.179951Z",
     "start_time": "2018-06-08T04:27:46.176572Z"
    }
   },
   "source": [
    "### Set up modules, functions and libraries"
   ]
  },
  {
   "cell_type": "code",
   "execution_count": null,
   "metadata": {
    "ExecuteTime": {
     "end_time": "2018-06-14T01:07:16.946450Z",
     "start_time": "2018-06-14T01:07:12.828567Z"
    }
   },
   "outputs": [],
   "source": [
    "#in this notebook we want to plot non-interactively\n",
    "%matplotlib inline\n",
    "\n",
    "#suppress warnings thrown when rainfall data is imported\n",
    "# import logging\n",
    "# logging.getLogger('rasterio._gdal').setLevel(logging.ERROR)\n",
    "# import warnings\n",
    "\n",
    "#get standard libraries\n",
    "import datetime as dt\n",
    "import fiona\n",
    "import geopandas as gpd\n",
    "import shapely.geometry\n",
    "from shapely.geometry import shape\n",
    "import matplotlib.gridspec as gridspec\n",
    "import matplotlib as mpl\n",
    "from matplotlib import colors\n",
    "from matplotlib import pyplot as plt\n",
    "import matplotlib.dates\n",
    "import numpy as np\n",
    "import os\n",
    "import pickle\n",
    "import rasterio\n",
    "import rasterio.features\n",
    "import sys\n",
    "import xarray as xr\n",
    "\n",
    "#modules for datacube\n",
    "import datacube\n",
    "from datacube.utils import geometry\n",
    "from datacube.storage.storage import write_dataset_to_netcdf\n",
    "from datacube.helpers import write_geotiff\n",
    "\n",
    "# Import external functions from dea-notebooks\n",
    "sys.path.append(os.path.expanduser('~/dea-notebooks/Scripts/'))\n",
    "import DEAPlotting, DEADataHandling\n",
    "from FileDialogs import *\n",
    "\n",
    "#ignore datacube warnings (needs to be last import statement)\n",
    "import warnings\n",
    "warnings.filterwarnings('ignore', module='datacube')\n",
    "\n",
    "#alias for datacube\n",
    "dc = datacube.Datacube(app='dc-BoMrainfallandNbart')"
   ]
  },
  {
   "cell_type": "markdown",
   "metadata": {},
   "source": [
    "### Set up functions for this notebook"
   ]
  },
  {
   "cell_type": "code",
   "execution_count": null,
   "metadata": {
    "ExecuteTime": {
     "end_time": "2018-06-14T01:07:16.959980Z",
     "start_time": "2018-06-14T01:07:16.949035Z"
    }
   },
   "outputs": [],
   "source": [
    "#This defines the function that converts a linear vector file into a string of x,y coordinates\n",
    "def geom_query(geom, geom_crs='EPSG:4326'):\n",
    "    \"\"\"\n",
    "    Create datacube query snippet for geometry\n",
    "    \"\"\"\n",
    "    return {\n",
    "        'x': (geom.bounds[0], geom.bounds[2]),\n",
    "        'y': (geom.bounds[1], geom.bounds[3]),\n",
    "        'crs': geom_crs\n",
    "    }\n",
    "\n",
    "def warp_geometry(geom, crs_crs, dst_crs):\n",
    "    \"\"\"\n",
    "    warp geometry from crs_crs to dst_crs\n",
    "    \"\"\"\n",
    "    return shapely.geometry.shape(rasterio.warp.transform_geom(crs_crs, dst_crs, shapely.geometry.mapping(geom)))\n",
    "\n",
    "\n",
    "def transect(data, geom, resolution, method='nearest', tolerance=None):\n",
    "    \"\"\"\n",
    "    gets the transect\n",
    "    \"\"\"\n",
    "    #Changed for py3 compatibility 17.03.17\n",
    "    dist = [i for i in range(0, int(geom.length), resolution)]\n",
    "    #points = zip(*[geom.interpolate(d).coords[0] for d in dist]) py2\n",
    "    points = list(zip(*[geom.interpolate(d).coords[0] for d in dist])) #py3\n",
    "    indexers = {\n",
    "        data.crs.dimensions[0]: list(points[1]),\n",
    "        data.crs.dimensions[1]: list(points[0])        \n",
    "    }\n",
    "    return data.sel_points(xr.DataArray(dist, name='distance', dims=['distance']),\n",
    "                           method=method,\n",
    "                           tolerance=tolerance,\n",
    "                           **indexers)\n",
    "def load_rainfall(query):\n",
    "    \n",
    "    dc_rf =datacube.Datacube(config='/g/data/r78/bom_grids/rainfall.conf')\n",
    "    \n",
    "    rf_data = dc_rf.load(product = 'rainfall_grids_1901_2017',**query)\n",
    "\n",
    "    return rf_data"
   ]
  },
  {
   "cell_type": "markdown",
   "metadata": {},
   "source": [
    "## add the path to the input shapefile"
   ]
  },
  {
   "cell_type": "code",
   "execution_count": null,
   "metadata": {
    "ExecuteTime": {
     "end_time": "2018-06-14T01:20:41.645007Z",
     "start_time": "2018-06-14T01:20:41.629008Z"
    },
    "scrolled": true
   },
   "outputs": [],
   "source": [
    "#transects file will be the file containing our transects\n",
    "transects_file = '/g/data/r78/rjd547/groundwater_activities/Burdekin/Burdekin_shapefiles/transects/merged2_hovmoller_transects2.shp'\n",
    "transects_df = gpd.read_file(transects_file)\n",
    "transects_df.crs"
   ]
  },
  {
   "cell_type": "markdown",
   "metadata": {},
   "source": [
    "## Define the epoch"
   ]
  },
  {
   "cell_type": "code",
   "execution_count": null,
   "metadata": {
    "ExecuteTime": {
     "end_time": "2018-06-14T01:07:53.097192Z",
     "start_time": "2018-06-14T01:07:53.092309Z"
    }
   },
   "outputs": [],
   "source": [
    "#Define temporal range\n",
    "start_of_epoch = '2015-10-01' \n",
    "end_of_epoch =  '2017-10-01'\n",
    "print ('temporal range is '+start_of_epoch+' to '+end_of_epoch)"
   ]
  },
  {
   "cell_type": "markdown",
   "metadata": {},
   "source": [
    "### Set up query"
   ]
  },
  {
   "cell_type": "code",
   "execution_count": null,
   "metadata": {
    "ExecuteTime": {
     "end_time": "2018-06-14T01:07:56.205120Z",
     "start_time": "2018-06-14T01:07:54.349812Z"
    }
   },
   "outputs": [],
   "source": [
    "#use fiona module to open the shape file\n",
    "transects = fiona.open(transects_file)\n",
    "\n",
    "#this statement asks you to choose a shapefile. put in a number and press enter.\n",
    "i = int(input(\"choose the index of the transect you would like to plot:\"))\n",
    "#for i in range(len(transects)):\n",
    "\n",
    "geom1 = shape(transects[i]['geometry'])\n",
    "geom_query1 = geom_query(geom1)\n",
    "query = {\n",
    "    'time': (start_of_epoch, end_of_epoch),  \n",
    "}\n",
    "query.update(geom_query(geom1, geom_crs=transects.crs_wkt)) "
   ]
  },
  {
   "cell_type": "markdown",
   "metadata": {},
   "source": [
    "### use the transect dataframe to get transect metadata"
   ]
  },
  {
   "cell_type": "code",
   "execution_count": null,
   "metadata": {
    "ExecuteTime": {
     "end_time": "2018-06-14T01:07:57.086253Z",
     "start_time": "2018-06-14T01:07:57.078687Z"
    }
   },
   "outputs": [],
   "source": [
    "#use the transect dataframe to get transect metadata\n",
    "transect_index = transects_df.index[i]\n",
    "transect_name = transects_df['Name'][i] \n",
    "try:\n",
    "    print(transect_name)\n",
    "except TypeError as err:\n",
    "    print(\"TypeError: {0}\".format(err))\n",
    "    print(transect_name)\n",
    "\n",
    "#create a filename for the transect\n",
    "shape_name = transect_name.split()\n",
    "shape_name ='_'.join(shape_name)\n",
    "shape_name=shape_name+'_ix'+str(transect_index)\n",
    "print(shape_name)\n",
    "\n",
    "#setup a save directory for our data\n",
    "savepath ='/g/data/r78/rjd547/groundwater_activities/Burdekin/Burdekin_Results/HovResults/'+shape_name+'_/'\n",
    "try:\n",
    "        os.mkdir(savepath)\n",
    "except OSError as err:\n",
    "        print(\"OS error: {0}\".format(err))"
   ]
  },
  {
   "cell_type": "markdown",
   "metadata": {},
   "source": [
    "### Check if this notebook has already been run and the data saved:"
   ]
  },
  {
   "cell_type": "code",
   "execution_count": null,
   "metadata": {
    "ExecuteTime": {
     "end_time": "2018-06-14T01:07:58.269028Z",
     "start_time": "2018-06-14T01:07:58.264439Z"
    }
   },
   "outputs": [],
   "source": [
    "print(savepath+'hov_data_{}_{}_{}'.format(shape_name,start_of_epoch,end_of_epoch)+'.pkl')"
   ]
  },
  {
   "cell_type": "markdown",
   "metadata": {},
   "source": [
    "### If not, pull in rainfall and nbar "
   ]
  },
  {
   "cell_type": "code",
   "execution_count": null,
   "metadata": {
    "ExecuteTime": {
     "end_time": "2018-06-14T01:08:35.986659Z",
     "start_time": "2018-06-14T01:07:59.601092Z"
    }
   },
   "outputs": [],
   "source": [
    "if os.path.isfile(savepath+'hov_data_{}_{}_{}'.format(shape_name,start_of_epoch,end_of_epoch)+'.pkl'):\n",
    "    f = open(savepath+'hov_data_{}_{}_{}'.format(shape_name,start_of_epoch,end_of_epoch)+'.pkl', 'rb')\n",
    "    hov_data = pickle.load(f) \n",
    "    f.close()\n",
    "    if hov_data is not None: \n",
    "        print('loaded data from file')\n",
    "        ds = hov_data['ds']\n",
    "        Studysite_rain=hov_data['Studysite_rain']\n",
    "    \n",
    "else:\n",
    "    print('did not load data from previous run')\n",
    "    #use our DEADataHandling function to load landsat data for all sensors in epoch and mask out cloudy scenes\n",
    "    ds = DEADataHandling.load_clearlandsat(dc, query,product='nbart',masked_prop=0.80)\n",
    "    print('loaded data from DEA')\n",
    "    #Grab bom_rainfall_grids from the datacube\n",
    "    Studysite_rain = load_rainfall(query)\n",
    "    print('loaded bom rainfall grids from DEA')"
   ]
  },
  {
   "cell_type": "markdown",
   "metadata": {},
   "source": [
    "### resample gridded rainfall data"
   ]
  },
  {
   "cell_type": "code",
   "execution_count": null,
   "metadata": {
    "ExecuteTime": {
     "end_time": "2018-06-14T01:10:37.433250Z",
     "start_time": "2018-06-14T01:10:37.394636Z"
    }
   },
   "outputs": [],
   "source": [
    "#resample xarray Dataset Studysite_rain by Annual'AS' to get yearly avg with year starting in october\n",
    "#Note that the resampling we did means that each year is labelled according to its first day  \n",
    "rain_sp = Studysite_rain.mean(dim = ('latitude','longitude'))\n",
    "month_sp = rain_sp.resample('MS', dim = 'time', how = 'mean')\n",
    "year_avg = Studysite_rain.resample('AS-OCT', dim='time', how='mean', keep_attrs=True)\n",
    "# Create a spatial average\n",
    "year_avg_sp = year_avg.mean(dim = ('latitude', 'longitude'))"
   ]
  },
  {
   "cell_type": "markdown",
   "metadata": {
    "ExecuteTime": {
     "end_time": "2018-06-08T05:51:43.602480Z",
     "start_time": "2018-06-08T05:51:43.599448Z"
    }
   },
   "source": [
    "### Set up some colour maps for the Hovmoller plots"
   ]
  },
  {
   "cell_type": "code",
   "execution_count": null,
   "metadata": {
    "ExecuteTime": {
     "end_time": "2018-06-14T01:10:38.779715Z",
     "start_time": "2018-06-14T01:10:38.775287Z"
    }
   },
   "outputs": [],
   "source": [
    "#This controls the colour map used for plotting NDVI\n",
    "ndvi_cmap = mpl.colors.ListedColormap(['blue', '#ffcc66','#ffffcc' , '#ccff66' , '#2eb82e', '#009933' , '#006600'])\n",
    "ndvi_bounds = [-1, 0, 0.1, 0.25, 0.35, 0.5, 0.8, 1]\n",
    "#Be aware that clip = True might be causing issues\n",
    "ndvi_norm = mpl.colors.BoundaryNorm(ndvi_bounds, ndvi_cmap.N, clip=True)"
   ]
  },
  {
   "cell_type": "markdown",
   "metadata": {},
   "source": [
    "### Set up data for Hovmoller plots and calculate NDVI"
   ]
  },
  {
   "cell_type": "markdown",
   "metadata": {
    "ExecuteTime": {
     "end_time": "2018-06-13T00:52:05.612181Z",
     "start_time": "2018-06-13T00:52:05.608275Z"
    }
   },
   "source": [
    "#### Build 2D transect dataset for hovmoller plot"
   ]
  },
  {
   "cell_type": "code",
   "execution_count": null,
   "metadata": {
    "ExecuteTime": {
     "end_time": "2018-06-14T01:23:20.337110Z",
     "start_time": "2018-06-14T01:23:20.332096Z"
    }
   },
   "outputs": [],
   "source": [
    "query['crs']\n",
    "#hmmm maybe we want to warp the transect from WGS84 to Albers"
   ]
  },
  {
   "cell_type": "code",
   "execution_count": null,
   "metadata": {
    "ExecuteTime": {
     "end_time": "2018-06-14T01:33:42.376485Z",
     "start_time": "2018-06-14T01:33:42.354588Z"
    }
   },
   "outputs": [],
   "source": [
    "hov_ds"
   ]
  },
  {
   "cell_type": "code",
   "execution_count": null,
   "metadata": {
    "ExecuteTime": {
     "end_time": "2018-06-14T01:32:36.466481Z",
     "start_time": "2018-06-14T01:32:36.423136Z"
    }
   },
   "outputs": [],
   "source": [
    "## Compress \n",
    "try:\n",
    "    ds.crs\n",
    "    crs = ds.crs\n",
    "    crs_wkt = ds.crs.wkt\n",
    "    geom_w = warp_geometry(geom1, query['crs'], crs_wkt)\n",
    "    hov_ds= transect(ds, geom_w, 25)   \n",
    "except:\n",
    "    print ('no crs')\n",
    "    dest_crs = 'EPSG:3577' #assuming our data from the data cube is in Australian Albers\n",
    "    source_crs = 'EPSG:4326' #assuming our input transects are in WGS84\n",
    "    #we want to warp our shape into WGS84\n",
    "#     geom_w = warp_geometry(geom1, source_crs, dest_crs)\n",
    "#     hov_ds= transect(ds, geom_w, 25)"
   ]
  },
  {
   "cell_type": "code",
   "execution_count": null,
   "metadata": {
    "ExecuteTime": {
     "end_time": "2018-06-14T01:34:02.851776Z",
     "start_time": "2018-06-14T01:34:02.841411Z"
    }
   },
   "outputs": [],
   "source": [
    "#calculate NDVI here\n",
    "hov_multi_ndvi = ((hov_ds.nir-hov_ds.red)/(hov_ds.nir+hov_ds.red))\n",
    "hov_multi =hov_ds\n",
    "hov_multi_ndvi_drop = hov_multi_ndvi"
   ]
  },
  {
   "cell_type": "markdown",
   "metadata": {},
   "source": [
    "### Make Hovmoller plot"
   ]
  },
  {
   "cell_type": "code",
   "execution_count": null,
   "metadata": {
    "ExecuteTime": {
     "end_time": "2018-06-14T01:34:04.424102Z",
     "start_time": "2018-06-14T01:34:04.101545Z"
    }
   },
   "outputs": [],
   "source": [
    "with warnings.catch_warnings():\n",
    "    warnings.simplefilter(\"ignore\")\n",
    "    #try plotting the first clean time slice to see where we are\n",
    "    print('transect image: ')\n",
    "    DEAPlotting.three_band_image(ds, bands=['swir1','nir','green'],time =0, contrast_enhance=True)\n",
    "    plt.scatter(x=hov_ds.coords['x'], y=hov_ds.coords['y'], c='r',\n",
    "               linewidths='0.01', alpha = 0.5)\n",
    "    plt.savefig('{}{}_HovImg_{}_{}.png'.format(savepath,shape_name,start_of_epoch,end_of_epoch),\n",
    "            bbox_inches='tight')\n",
    "    plt.show()\n",
    "\n",
    "#Make a hovmoller plot and save it to file.\n",
    "#Use firstyear and last year to zoom into periods of interest\n",
    "firstyearhov = start_of_epoch#'1987-06-01'\n",
    "lastyearhov = end_of_epoch #'2016-12-31'\n",
    "fig = plt.figure(figsize=(11.27,11.69))\n",
    "gs = gridspec.GridSpec(1, 2, width_ratios=[1,3])\n",
    "ax1 = plt.subplot(gs[0, 0])\n",
    "ax1.plot(month_sp.rainfall, month_sp.time, color='b', alpha = 1)\n",
    "ax1.axes.set_xlabel('ave daily rainfall (mm): monthly (blue) yearly (grey)')\n",
    "\n",
    "#set up fill time as a datetime 64 object for matplotlib input\n",
    "#set up variables to plot the fill behind the yearly rain data\n",
    "filltime = (year_avg_sp.time.astype('datetime64'))\n",
    "zeros = np.zeros(shape=(len(filltime)))\n",
    "plt.fill_betweenx(filltime.time.values, zeros, year_avg_sp.rainfall, color ='k', alpha = 0.8)\n",
    "#set up variables to plot the fill behind the months data\n",
    "mzeros = np.zeros(shape=(len(month_sp.rainfall.time.values)))\n",
    "plt.fill_betweenx(month_sp.rainfall.time.values, mzeros, month_sp.rainfall, color ='c', alpha = 1)\n",
    "plt.axis([0, month_sp.rainfall.max(),lastyearhov , firstyearhov])\n",
    "\n",
    "ax2 = plt.subplot(gs[0, 1])\n",
    "hov_multi_ndvi_drop.plot(x='distance', y='time', yincrease = False, cmap = ndvi_cmap, norm = ndvi_norm, vmin=-1, vmax =1)\n",
    "#fig.delaxes(fig.axes[]) #remove current colour bar\n",
    "plt.axis([0, hov_multi_ndvi_drop.distance.max(), lastyearhov , firstyearhov])\n",
    "ax2.set_anchor(\"SE\")\n",
    "#make a title replacing underscores with spaces\n",
    "plt.suptitle(shape_name.replace('_',' '), fontsize ='24')\n",
    "\n",
    "#save plot to file\n",
    "plt.savefig('{}{}_HovPlot_{}_{}.png'.format(savepath,shape_name,start_of_epoch,end_of_epoch),\n",
    "            bbox_inches='tight')\n",
    "plt.show()"
   ]
  },
  {
   "cell_type": "markdown",
   "metadata": {},
   "source": [
    "### Save the data to an output file for future use"
   ]
  },
  {
   "cell_type": "code",
   "execution_count": null,
   "metadata": {
    "ExecuteTime": {
     "end_time": "2018-06-13T10:38:04.590905Z",
     "start_time": "2018-06-13T10:38:04.550994Z"
    }
   },
   "outputs": [],
   "source": [
    "try:\n",
    "    #make a dictionary of the data we want to save\n",
    "    hov_data = {'ds':ds, 'Studysite_rain':Studysite_rain,'rain_sp':rain_sp,'month_sp':month_sp,\n",
    "                'year_avg':year_avg,'year_avg_sp':year_avg_sp,'hov_ds':hov_ds, 'start_of_epoch': start_of_epoch, \n",
    "                'end_of_epoch':end_of_epoch,'ndvi_cmap':ndvi_cmap, 'ndvi_norm':ndvi_norm, 'ndvi_bounds':ndvi_bounds}\n",
    "\n",
    "    f = open(savepath+'hov_data_{}_{}_{}'.format(shape_name,start_of_epoch,end_of_epoch)+'.pkl', 'wb')\n",
    "    pickle.dump(hov_data,f) \n",
    "    print('saved data to file')\n",
    "    #pickle.dump(pickle_vars,f,protocol = 2, fix_imports = True) #maintain compatibility with python 2\n",
    "    f.close()\n",
    "except:\n",
    "    print('did not save to file')"
   ]
  },
  {
   "cell_type": "code",
   "execution_count": null,
   "metadata": {},
   "outputs": [],
   "source": []
  },
  {
   "cell_type": "code",
   "execution_count": null,
   "metadata": {},
   "outputs": [],
   "source": []
  }
 ],
 "metadata": {
  "kernelspec": {
   "display_name": "Python 3",
   "language": "python",
   "name": "python3"
  },
  "language_info": {
   "codemirror_mode": {
    "name": "ipython",
    "version": 3
   },
   "file_extension": ".py",
   "mimetype": "text/x-python",
   "name": "python",
   "nbconvert_exporter": "python",
   "pygments_lexer": "ipython3",
   "version": "3.6.5"
  }
 },
 "nbformat": 4,
 "nbformat_minor": 2
}
