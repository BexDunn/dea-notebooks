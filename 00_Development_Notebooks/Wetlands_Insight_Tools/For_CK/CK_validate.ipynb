{
 "cells": [
  {
   "cell_type": "markdown",
   "metadata": {
    "ExecuteTime": {
     "end_time": "2019-01-04T03:51:22.814165Z",
     "start_time": "2019-01-04T03:51:22.805714Z"
    }
   },
   "source": [
    "### import modules\n"
   ]
  },
  {
   "cell_type": "code",
   "execution_count": 2,
   "metadata": {
    "ExecuteTime": {
     "end_time": "2019-01-10T00:02:49.307359Z",
     "start_time": "2019-01-10T00:02:30.601840Z"
    }
   },
   "outputs": [],
   "source": [
    "import datacube\n",
    "import datetime\n",
    "import fiona\n",
    "import geojson\n",
    "import geopandas as gpd\n",
    "import numpy as np\n",
    "import pandas as pd\n",
    "import rasterio.mask\n",
    "import rasterio.features\n",
    "from shapely import geometry\n",
    "import seaborn as sns\n",
    "import sys\n",
    "import xarray as xr\n",
    "\n",
    "from datetime import datetime, timedelta\n",
    "import matplotlib.dates as mdates\n",
    "import matplotlib.gridspec as gridspec\n",
    "import matplotlib.pyplot as plt\n",
    "from matplotlib.patches import Rectangle\n",
    "from textwrap import wrap\n",
    "\n",
    "from datacube.storage import masking\n",
    "from datacube.utils import geometry\n",
    "from digitalearthau.utils import wofs_fuser\n",
    "\n",
    "sys.path.append('/g/data/r78/rjd547/jupyter_notebooks/dea-notebooks/10_Scripts')\n",
    "import DEADataHandling, DEAPlotting, TasseledCapTools\n",
    "\n",
    "dc = datacube.Datacube(app='wetlands insight tool')\n",
    "\n",
    "global Output_dir\n",
    "Output_dir = '/g/data/r78/rjd547/CK_val/'"
   ]
  },
  {
   "cell_type": "markdown",
   "metadata": {},
   "source": [
    "### Get polygon"
   ]
  },
  {
   "cell_type": "code",
   "execution_count": 3,
   "metadata": {},
   "outputs": [],
   "source": [
    "poly_path = '/g/data/r78/rjd547/shapefiles/additional_full_storage_gwydir_b.shp'"
   ]
  },
  {
   "cell_type": "code",
   "execution_count": 22,
   "metadata": {},
   "outputs": [],
   "source": [
    "def polyName(shpfile):\n",
    "    NAME = shpfile['properties']['OBJECTID']\n",
    "    polyName = f'{NAME}'\n",
    "    print(f'processing polygon {polyName}')\n",
    "    return(polyName)"
   ]
  },
  {
   "cell_type": "markdown",
   "metadata": {
    "ExecuteTime": {
     "end_time": "2019-01-10T00:02:49.408357Z",
     "start_time": "2019-01-10T00:02:49.312080Z"
    }
   },
   "source": [
    "### change the path here if you want a different polygon"
   ]
  },
  {
   "cell_type": "code",
   "execution_count": 23,
   "metadata": {
    "ExecuteTime": {
     "end_time": "2019-01-10T00:02:49.487754Z",
     "start_time": "2019-01-10T00:02:49.412760Z"
    }
   },
   "outputs": [
    {
     "name": "stdout",
     "output_type": "stream",
     "text": [
      "processing polygon 5\n"
     ]
    }
   ],
   "source": [
    "#open the polygon and manually select your favourite polygon the lazy way\n",
    "with fiona.open(poly_path) as features:\n",
    "        crs = geometry.CRS(features.crs_wkt)\n",
    "        first_geometry = next(iter(features))['geometry']\n",
    "        geom = geometry.Geometry(first_geometry, crs=crs)\n",
    "        for feature in features:\n",
    "            if feature['properties']['OBJECTID']==5:\n",
    "                feature_OI = feature\n",
    "                feature_OI_geometry = feature_OI['geometry']\n",
    "                geom = geometry.Geometry(feature_OI_geometry, crs=crs)\n",
    "                try:\n",
    "                    polyName =polyName(feature_OI)\n",
    "                except:\n",
    "                    print (f\"failed for polygon {feature['properties']['OBJECTID']}\")\n",
    "\n"
   ]
  },
  {
   "cell_type": "code",
   "execution_count": 14,
   "metadata": {},
   "outputs": [],
   "source": [
    "def get_masked_ls578_data(query, geom):\n",
    "    '''create a function that takes in the masked proportion, query and geometry and returns the fully masked surface reflectance data'''\n",
    "    ## Set up datasets\n",
    "    #set cloudmasking threshold and load landsat nbart data\n",
    "    landsat_masked_prop = 0.90\n",
    "    ls578_ds = DEADataHandling.load_clearlandsat(dc=dc, query=query, product='nbart',\n",
    "            masked_prop=landsat_masked_prop)\n",
    "\n",
    "    ### mask the data with our original polygon to remove extra data \n",
    "\n",
    "    data = ls578_ds\n",
    "    mask = rasterio.features.geometry_mask([geom.to_crs(data.geobox.crs)for geoms in [geom]],\n",
    "                                               out_shape=data.geobox.shape,\n",
    "                                               transform=data.geobox.affine,\n",
    "                                               all_touched=False,\n",
    "                                               invert=False)\n",
    "\n",
    "    #for some reason xarray is not playing nicely with our old masking function\n",
    "    mask_xr = xr.DataArray(mask, dims = ('y','x'))\n",
    "    ls578_ds = data.where(mask_xr==False)\n",
    "    return ls578_ds, mask_xr"
   ]
  },
  {
   "cell_type": "code",
   "execution_count": 15,
   "metadata": {
    "ExecuteTime": {
     "end_time": "2019-01-10T00:05:10.101788Z",
     "start_time": "2019-01-10T00:05:09.802192Z"
    }
   },
   "outputs": [],
   "source": [
    "def get_masked_tcw(sr_data, mask, threshold=-350):\n",
    "    '''uses TasseledCapTools and an input threshold (defaults to -350) to create masked over-threshold tasseled cap '''\n",
    "\n",
    "    #transform the nbart into tci\n",
    "    tci = TasseledCapTools.thresholded_tasseled_cap(ls578_ds,wetness_threshold=-350, drop=True , drop_tc_bands=True)\n",
    "\n",
    "    #select only finite values (over threshold values)\n",
    "    tcw = xr.ufuncs.isfinite(tci.wetness_thresholded)\n",
    "\n",
    "    # #reapply the polygon mask\n",
    "    tcw = tcw.where(mask_xr==False)\n",
    "\n",
    "    return tcw"
   ]
  },
  {
   "cell_type": "markdown",
   "metadata": {},
   "source": [
    "### Set up query"
   ]
  },
  {
   "cell_type": "code",
   "execution_count": 16,
   "metadata": {
    "ExecuteTime": {
     "end_time": "2019-01-10T00:02:49.940837Z",
     "start_time": "2019-01-10T00:02:49.893687Z"
    }
   },
   "outputs": [],
   "source": [
    "query = {'geopolygon': geom,\n",
    "         'time': ('1990-01-01', '1995-01-01')\n",
    "         }"
   ]
  },
  {
   "cell_type": "markdown",
   "metadata": {
    "ExecuteTime": {
     "end_time": "2019-01-06T23:12:48.634135Z",
     "start_time": "2019-01-06T23:12:48.544858Z"
    }
   },
   "source": [
    "### Load data sets, where 90% of data is unmasked"
   ]
  },
  {
   "cell_type": "markdown",
   "metadata": {},
   "source": [
    "#### Landsat data"
   ]
  },
  {
   "cell_type": "code",
   "execution_count": 17,
   "metadata": {},
   "outputs": [
    {
     "name": "stdout",
     "output_type": "stream",
     "text": [
      "Loading ls5\n",
      "    Loading 81 filtered ls5 timesteps\n",
      "Loading ls7\n",
      "    Skipping ls7; no valid data for query\n",
      "Loading ls8\n",
      "    Skipping ls8; no valid data for query\n",
      "Returning ls5 data\n",
      "    Replacing invalid -999 values with NaN (data will be coerced to float64)\n"
     ]
    }
   ],
   "source": [
    "#load and mask data. selecting data with more than 90% clear for the geobox around the polygon... #FIXME\n",
    "ls578_ds, mask_xr= get_masked_ls578_data(query,geom)"
   ]
  },
  {
   "cell_type": "code",
   "execution_count": 24,
   "metadata": {},
   "outputs": [],
   "source": [
    "#calculate tasselled cap wetness within masked AOI\n",
    "tcw = get_masked_tcw(ls578_ds, mask_xr, threshold=-350)"
   ]
  },
  {
   "cell_type": "code",
   "execution_count": 26,
   "metadata": {
    "ExecuteTime": {
     "end_time": "2019-01-10T00:05:46.308984Z",
     "start_time": "2019-01-10T00:05:10.253994Z"
    }
   },
   "outputs": [],
   "source": [
    "#wofls = dc.load(product = 'wofs_albers', like=ls578_ds, fuse_func=wofs_fuser)\n",
    "wofls = dc.load(product = 'wofs_albers',fuse_func=wofs_fuser, **query)"
   ]
  },
  {
   "cell_type": "markdown",
   "metadata": {},
   "source": [
    "#first, match tcw and wofs"
   ]
  },
  {
   "cell_type": "code",
   "execution_count": 27,
   "metadata": {},
   "outputs": [],
   "source": [
    "wofls = wofls.where(wofls.time==tcw.time)"
   ]
  },
  {
   "cell_type": "code",
   "execution_count": 28,
   "metadata": {},
   "outputs": [],
   "source": [
    "# #reapply the polygon mask\n",
    "wofls = wofls.where(mask_xr==False)"
   ]
  },
  {
   "cell_type": "code",
   "execution_count": 29,
   "metadata": {},
   "outputs": [],
   "source": [
    "wet_wofs = wofls.where(wofls.water==128)"
   ]
  },
  {
   "cell_type": "code",
   "execution_count": 30,
   "metadata": {},
   "outputs": [],
   "source": [
    "shadow_wofs = wofls.where(wofls.water== 136) #use bit values for wet (128) and terrain/low-angle (8)"
   ]
  },
  {
   "cell_type": "code",
   "execution_count": 31,
   "metadata": {},
   "outputs": [],
   "source": [
    "sea_wofs = wofls.where(wofls.water==132) #bit values for wet (128) and sea (4)\n",
    "sea_shadow_wofs = wofls.where(wofls.water==140)# bit values for wet (128) and sea (4) and terrain/low-angle (8)"
   ]
  },
  {
   "cell_type": "markdown",
   "metadata": {},
   "source": [
    "## load in fractional cover data"
   ]
  },
  {
   "cell_type": "code",
   "execution_count": 32,
   "metadata": {
    "ExecuteTime": {
     "end_time": "2019-01-10T00:07:11.799408Z",
     "start_time": "2019-01-10T00:05:47.309406Z"
    }
   },
   "outputs": [
    {
     "name": "stdout",
     "output_type": "stream",
     "text": [
      "Loading ls5\n",
      "    Loading 81 filtered ls5 timesteps\n",
      "Loading ls7\n",
      "    Skipping ls7; no valid data for query\n",
      "Loading ls8\n",
      "    Skipping ls8; no valid data for query\n",
      "Returning ls5 data\n",
      "    Replacing invalid -999 values with NaN (data will be coerced to float64)\n"
     ]
    }
   ],
   "source": [
    "#load the data according to our query\n",
    "#choose a mask proportion to look for a clear timestep\n",
    "fc_ds = DEADataHandling.load_clearlandsat(dc, query,product='fc',masked_prop=0.90)"
   ]
  },
  {
   "cell_type": "markdown",
   "metadata": {},
   "source": [
    "### mask FC with polygon"
   ]
  },
  {
   "cell_type": "code",
   "execution_count": 33,
   "metadata": {
    "ExecuteTime": {
     "end_time": "2019-01-10T00:07:13.120161Z",
     "start_time": "2019-01-10T00:07:11.801994Z"
    }
   },
   "outputs": [],
   "source": [
    "fc_ds = fc_ds.where(mask_xr==False)"
   ]
  },
  {
   "cell_type": "markdown",
   "metadata": {},
   "source": [
    "### mask FC with wetness"
   ]
  },
  {
   "cell_type": "code",
   "execution_count": 34,
   "metadata": {
    "ExecuteTime": {
     "end_time": "2019-01-10T00:07:13.201911Z",
     "start_time": "2019-01-10T00:07:13.123421Z"
    }
   },
   "outputs": [],
   "source": [
    "fc_ds_noTCW=fc_ds.where(tcw==False)\n",
    "#match timesteps\n",
    "fc_ds_noTCW= fc_ds_noTCW.where(fc_ds_noTCW.time==tcw.time)"
   ]
  },
  {
   "cell_type": "markdown",
   "metadata": {},
   "source": [
    "### Calculate the dominant fraction for each pixel in Fractional Cover"
   ]
  },
  {
   "cell_type": "code",
   "execution_count": 35,
   "metadata": {
    "ExecuteTime": {
     "end_time": "2019-01-10T00:07:15.216594Z",
     "start_time": "2019-01-10T00:07:15.088081Z"
    }
   },
   "outputs": [],
   "source": [
    "#drop data percentage and Unmixing Error\n",
    "fc_tester = fc_ds_noTCW.drop(['data_perc','UE'])\n",
    "\n",
    "#following robbi's advice, cast the dataset to a dataarray\n",
    "#maxFC is the fractional cover values for BS, NPV, PV as %s \n",
    "maxFC = fc_tester.to_array(dim='variable', name='maxFC')\n",
    "\n",
    "#turn FC array into integer only as nanargmax doesn't seem to handle floats the way we want it to\n",
    "FC_int = maxFC.astype('int8')\n",
    "\n",
    "#use numpy.nanargmax to get the index of the maximum value along the variable dimension\n",
    "#BSPVNPV=np.nanargmax(FC_int, axis=0)\n",
    "BSPVNPV=FC_int.argmax(dim='variable')\n",
    "\n",
    "FC_mask=xr.ufuncs.isfinite(maxFC).all(dim='variable')\n",
    "\n",
    "# #re-mask with nans to remove no-data\n",
    "BSPVNPV=BSPVNPV.where(FC_mask)\n",
    "\n",
    "#restack the Fractional cover dataset all together\n",
    "FC_dominant = xr.Dataset({\n",
    "    'BS': (BSPVNPV==0).where(FC_mask),\n",
    "    'PV': (BSPVNPV==1).where(FC_mask),\n",
    "    'NPV': (BSPVNPV==2).where(FC_mask),\n",
    "})\n",
    "# count number of Fractional Cover pixels for each cover type in area of interest\n",
    "FC_count = FC_dominant.sum(dim=['x','y'])"
   ]
  },
  {
   "cell_type": "markdown",
   "metadata": {},
   "source": [
    "### Calculate number of pixels in area of interest"
   ]
  },
  {
   "cell_type": "code",
   "execution_count": 36,
   "metadata": {
    "ExecuteTime": {
     "end_time": "2019-01-10T00:07:14.963267Z",
     "start_time": "2019-01-10T00:07:14.912927Z"
    }
   },
   "outputs": [],
   "source": [
    "#number of pixels in area of interest\n",
    "pixels = (mask_xr==0).sum(dim=['x','y'])"
   ]
  },
  {
   "cell_type": "code",
   "execution_count": 37,
   "metadata": {
    "ExecuteTime": {
     "end_time": "2019-01-10T00:07:15.084523Z",
     "start_time": "2019-01-10T00:07:15.017725Z"
    }
   },
   "outputs": [],
   "source": [
    "#count number of tcw pixels\n",
    "tcw_pixel_count = tcw.sum(dim=['x','y'])"
   ]
  },
  {
   "cell_type": "code",
   "execution_count": 38,
   "metadata": {},
   "outputs": [],
   "source": [
    "#count number of wofs pixels\n",
    "wofs_pixels = (wet_wofs.water.count(dim=['x','y'])+shadow_wofs.water.count(dim=['x','y']) +\n",
    "sea_wofs.water.count(dim=['x','y'])+sea_shadow_wofs.water.count(dim=['x','y']))"
   ]
  },
  {
   "cell_type": "code",
   "execution_count": 39,
   "metadata": {},
   "outputs": [],
   "source": [
    "#count percentage of area of wofs\n",
    "wofs_area_percent = (wofs_pixels/pixels)*100"
   ]
  },
  {
   "cell_type": "code",
   "execution_count": 40,
   "metadata": {},
   "outputs": [],
   "source": [
    "#calculate percentage area wet\n",
    "tcw_area_percent = (tcw_pixel_count/pixels)*100"
   ]
  },
  {
   "cell_type": "code",
   "execution_count": 41,
   "metadata": {},
   "outputs": [],
   "source": [
    "#calculate wet not wofs\n",
    "tcw_less_wofs = tcw_area_percent-wofs_area_percent"
   ]
  },
  {
   "cell_type": "code",
   "execution_count": 42,
   "metadata": {},
   "outputs": [],
   "source": [
    "#Fractional cover pixel count method\n",
    "#Get number of FC pixels, divide by total number of pixels per polygon\n",
    "#Work out the number of nodata pixels in the data, so that we can graph the variables by number of observed pixels.\n",
    "\n",
    "Bare_soil_percent=(FC_count.BS/pixels)*100\n",
    "\n",
    "Photosynthetic_veg_percent=(FC_count.PV/pixels)*100\n",
    "\n",
    "NonPhotosynthetic_veg_percent=(FC_count.NPV/pixels)*100\n",
    "\n",
    "NoData = 100 - wofs_area_percent- tcw_less_wofs - Photosynthetic_veg_percent - NonPhotosynthetic_veg_percent - Bare_soil_percent"
   ]
  },
  {
   "cell_type": "code",
   "execution_count": 43,
   "metadata": {},
   "outputs": [],
   "source": [
    "NoDataPixels = (NoData/100) * pixels "
   ]
  },
  {
   "cell_type": "code",
   "execution_count": 44,
   "metadata": {},
   "outputs": [],
   "source": [
    "#Fractional cover pixel count method\n",
    "#Get number of FC pixels, divide by total number of pixels per polygon\n",
    "\n",
    "Bare_soil_percent2=(FC_count.BS/(pixels - NoDataPixels))*100\n",
    "\n",
    "Photosynthetic_veg_percent2=(FC_count.PV/(pixels- NoDataPixels))*100\n",
    "\n",
    "NonPhotosynthetic_veg_percent2=(FC_count.NPV/(pixels- NoDataPixels))*100"
   ]
  },
  {
   "cell_type": "code",
   "execution_count": 45,
   "metadata": {},
   "outputs": [],
   "source": [
    "#count percentage of area of wofs\n",
    "wofs_area_percent2 = (wofs_pixels/(pixels - NoDataPixels))*100\n",
    "#wofs_area_percent"
   ]
  },
  {
   "cell_type": "code",
   "execution_count": 46,
   "metadata": {},
   "outputs": [],
   "source": [
    "#count number of tcw pixels\n",
    "tcw_pixel_count2 = tcw.sum(dim=['x','y'])"
   ]
  },
  {
   "cell_type": "code",
   "execution_count": 47,
   "metadata": {},
   "outputs": [],
   "source": [
    "#calculate percentage area wet\n",
    "tcw_area_percent2 = (tcw_pixel_count2/(pixels - NoDataPixels))*100"
   ]
  },
  {
   "cell_type": "code",
   "execution_count": 48,
   "metadata": {},
   "outputs": [],
   "source": [
    "#calculate wet not wofs\n",
    "tcw_less_wofs2 = tcw_area_percent2-wofs_area_percent2"
   ]
  },
  {
   "cell_type": "code",
   "execution_count": 49,
   "metadata": {},
   "outputs": [],
   "source": [
    "#last check for timestep matching before we plot\n",
    "wofs_area_percent2=wofs_area_percent2.where(wofs_area_percent2.time==Bare_soil_percent2.time)\n",
    "Bare_soil_percent2=Bare_soil_percent2.where(Bare_soil_percent2.time==wofs_area_percent2.time)\n",
    "Photosynthetic_veg_percent2=Photosynthetic_veg_percent2.where(Photosynthetic_veg_percent2.time==wofs_area_percent2.time)\n",
    "NonPhotosynthetic_veg_percent2=NonPhotosynthetic_veg_percent2.where(NonPhotosynthetic_veg_percent2.time==wofs_area_percent2.time)"
   ]
  },
  {
   "cell_type": "code",
   "execution_count": 50,
   "metadata": {},
   "outputs": [
    {
     "ename": "NameError",
     "evalue": "name 'startdate' is not defined",
     "output_type": "error",
     "traceback": [
      "\u001b[0;31m---------------------------------------------------------------------------\u001b[0m",
      "\u001b[0;31mNameError\u001b[0m                                 Traceback (most recent call last)",
      "\u001b[0;32m<ipython-input-50-24ea073a2aad>\u001b[0m in \u001b[0;36m<module>\u001b[0;34m\u001b[0m\n\u001b[1;32m     64\u001b[0m \u001b[0;34m\u001b[0m\u001b[0m\n\u001b[1;32m     65\u001b[0m \u001b[0;31m#save the figure\u001b[0m\u001b[0;34m\u001b[0m\u001b[0;34m\u001b[0m\u001b[0;34m\u001b[0m\u001b[0m\n\u001b[0;32m---> 66\u001b[0;31m \u001b[0mplt\u001b[0m\u001b[0;34m.\u001b[0m\u001b[0msavefig\u001b[0m\u001b[0;34m(\u001b[0m\u001b[0;34mf'{Output_dir}{polyName}_{startdate}_to_{enddate}.png'\u001b[0m\u001b[0;34m)\u001b[0m\u001b[0;31m#, transparent=True)\u001b[0m\u001b[0;34m\u001b[0m\u001b[0;34m\u001b[0m\u001b[0m\n\u001b[0m\u001b[1;32m     67\u001b[0m \u001b[0mplt\u001b[0m\u001b[0;34m.\u001b[0m\u001b[0mshow\u001b[0m\u001b[0;34m(\u001b[0m\u001b[0;34m)\u001b[0m\u001b[0;34m\u001b[0m\u001b[0;34m\u001b[0m\u001b[0m\n\u001b[1;32m     68\u001b[0m \u001b[0mprint\u001b[0m\u001b[0;34m(\u001b[0m\u001b[0;34mf'plot created for {polyName}'\u001b[0m\u001b[0;34m)\u001b[0m\u001b[0;34m\u001b[0m\u001b[0;34m\u001b[0m\u001b[0m\n",
      "\u001b[0;31mNameError\u001b[0m: name 'startdate' is not defined"
     ]
    },
    {
     "data": {
      "text/plain": [
       "<Figure size 432x288 with 0 Axes>"
      ]
     },
     "metadata": {},
     "output_type": "display_data"
    },
    {
     "data": {
      "image/png": "[encoded data removed]",
      "text/plain": [
       "<Figure size 1584x432 with 1 Axes>"
      ]
     },
     "metadata": {
      "needs_background": "light"
     },
     "output_type": "display_data"
    }
   ],
   "source": [
    "\n",
    "#set up color palette\n",
    "pal = [sns.xkcd_rgb[\"cobalt blue\"],\n",
    "       sns.xkcd_rgb[\"neon blue\"],\n",
    "       sns.xkcd_rgb[\"grass\"],\n",
    "       sns.xkcd_rgb[\"beige\"],\n",
    "       sns.xkcd_rgb[\"brown\"]]       \n",
    "\n",
    "#make a stacked area plot\n",
    "plt.clf()\n",
    "fig= plt.figure(figsize = (22,6))\n",
    "plt.stackplot(wofs_area_percent2.time.values, \n",
    "              wofs_area_percent2, \n",
    "              tcw_less_wofs2, \n",
    "              Photosynthetic_veg_percent2, \n",
    "              NonPhotosynthetic_veg_percent2,\n",
    "              Bare_soil_percent2,\n",
    "              labels=['open water',\n",
    "                      'wet',\n",
    "                      'green veg',\n",
    "                      'dry veg',\n",
    "                      'bare soil',\n",
    "                     ], colors=pal, alpha = 0.6)\n",
    "\n",
    "\n",
    "\n",
    "#set axis limits to the min and max\n",
    "plt.axis(xmin = wofs_area_percent2.time[0].data, xmax = wofs_area_percent2.time[-1].data, ymin = 0, ymax = 100)\n",
    "#plt.axis(xmin = datetime(2010,1,1), xmax = wofs_area_percent2.time[-1].data, ymin = 0, ymax = 100)\n",
    "#add a legend and a tight plot box\n",
    "plt.legend(loc='lower left', framealpha=0.6)\n",
    "\n",
    "#create rectangle borders for no-data times (SLC-off only)\n",
    "LS5_8_gap_start = datetime(2011,11,1)\n",
    "LS5_8_gap_end = datetime(2013,4,1)\n",
    "\n",
    "# convert to matplotlib date representation\n",
    "gap_start = mdates.date2num(LS5_8_gap_start)\n",
    "gap_end = mdates.date2num(LS5_8_gap_end)\n",
    "gap = gap_end - gap_start\n",
    "\n",
    "\n",
    "#set date ticks every year\n",
    "years = mdates.YearLocator(1)\n",
    "yearsFmt = mdates.DateFormatter('%Y')\n",
    "ax = plt.gca()\n",
    "ax.xaxis.set_major_locator(years)\n",
    "ax.xaxis.set_major_formatter(yearsFmt)\n",
    "#ax.yaxis.set_ticks(np.arange(0,110,10))\n",
    "ax.set_xlabel(f'The Fractional Cover algorithm developed by the Joint Remote'\n",
    "f' Sensing Research Program and \\n the Water Observations from Space algorithm '\n",
    "f'developed by Geoscience Australia are used in the production of this data',style='italic')\n",
    "\n",
    "\n",
    "#set up rectangle\n",
    "slc_rectangle= Rectangle((gap_start,0), gap, 100,alpha = 0.5, facecolor=sns.xkcd_rgb['white'],\n",
    "             edgecolor=sns.xkcd_rgb['white'], hatch=\"////\",linewidth=2)\n",
    "ax.add_patch(slc_rectangle)\n",
    "\n",
    "polyName=polyName.replace(\"'\",\"\\\\'\")\n",
    "title=ax.set_title(\"\\n\".join(wrap(f'Percentage of area dominated by WOfS, Wetness, Fractional Cover for {polyName}')))\n",
    "fig.tight_layout()\n",
    "title.set_y(1.05)\n",
    "\n",
    "#save the figure\n",
    "plt.savefig(f'{Output_dir}{polyName}_{startdate}_to_{enddate}.png')#, transparent=True)\n",
    "plt.show()\n",
    "print(f'plot created for {polyName}')"
   ]
  },
  {
   "cell_type": "markdown",
   "metadata": {},
   "source": [
    "## test area plot"
   ]
  },
  {
   "cell_type": "code",
   "execution_count": null,
   "metadata": {},
   "outputs": [],
   "source": [
    "#set up color palette for just the fractional cover\n",
    "fc_colors = [sns.xkcd_rgb[\"brown\"], #0\n",
    "       sns.xkcd_rgb[\"grass\"], #1\n",
    "       sns.xkcd_rgb[\"beige\"]] #2\n",
    "fc_norm=mpl.colors.BoundaryNorm([0,1,2,3],3)"
   ]
  },
  {
   "cell_type": "code",
   "execution_count": null,
   "metadata": {},
   "outputs": [],
   "source": [
    "#thresholded TCW is boolean type, so need a two-step color map with transparent and a color\n",
    "tcw_colors = ('#00000000',sns.xkcd_rgb[\"neon blue\"]) #neon blue to transparent\n",
    "#we use \"NoNorm\" because our data should only come in 0 and 1s\n",
    "tcw_norm = mpl.colors.NoNorm(0,1)"
   ]
  },
  {
   "cell_type": "code",
   "execution_count": null,
   "metadata": {},
   "outputs": [],
   "source": [
    "#thresholded wofs is boolean type, so need a two-step color map with transparent and a color\n",
    "wofs_colors = ('#00000000',sns.xkcd_rgb[\"cobalt blue\"]) #cobalt blue to transparent\n",
    "#use the same Norm as tcw\n",
    "wofs_norm = tcw_norm"
   ]
  },
  {
   "cell_type": "code",
   "execution_count": null,
   "metadata": {},
   "outputs": [],
   "source": [
    "import datetime\n",
    "scene=0\n",
    "scene_day= np.datetime_as_string(tcw.isel(time=scene).time.values, unit='D')"
   ]
  },
  {
   "cell_type": "code",
   "execution_count": null,
   "metadata": {},
   "outputs": [],
   "source": [
    "#plot the results to check they look roughly like what we are expecting\n",
    "plt.clf()\n",
    "plt.imshow(BSPVNPV[scene],cmap=mpl.colors.ListedColormap(colors=fc_colors), norm=fc_norm, alpha =0.7)\n",
    "\n",
    "###us numpy to turn data into a float so the colormap doesn't break\n",
    "plt.imshow(tcw.isel(time=scene).astype(np.float32), cmap=mpl.colors.ListedColormap(colors=tcw_colors), norm=tcw_norm, alpha =0.6)\n",
    "plt.imshow(wet_wofs.water.isel(time=scene),cmap=mpl.colors.ListedColormap(colors =wofs_colors), norm = wofs_norm, alpha =0.5 )\n",
    "#note shadow wofs not plotted here!!!!!!! #FIXME\n",
    "plt.tick_params(\n",
    "    axis= 'both', #both x and y\n",
    "    which = 'both', # both major and minor ticks\n",
    "    bottom = False, #turn off ticks on bottom\n",
    "    left = False, # turn off ticks on left\n",
    "    labelbottom = False, #turn off ticklabels on the bottom\n",
    "    labelleft = False        #turn of ticklabels on the left\n",
    "    )\n",
    "plt.title(f'WOfS, Wetness, Fractional Cover for {scene_day}')\n",
    "plt.tight_layout()\n",
    "#plt.savefig(f'/g/data/r78/rjd547/Macquarie_Marsh/Mac_FC_{scene_day}.png')"
   ]
  },
  {
   "cell_type": "code",
   "execution_count": null,
   "metadata": {},
   "outputs": [],
   "source": []
  },
  {
   "cell_type": "code",
   "execution_count": null,
   "metadata": {},
   "outputs": [],
   "source": []
  },
  {
   "cell_type": "code",
   "execution_count": null,
   "metadata": {},
   "outputs": [],
   "source": []
  },
  {
   "cell_type": "code",
   "execution_count": null,
   "metadata": {},
   "outputs": [],
   "source": []
  },
  {
   "cell_type": "code",
   "execution_count": null,
   "metadata": {},
   "outputs": [],
   "source": []
  },
  {
   "cell_type": "code",
   "execution_count": null,
   "metadata": {},
   "outputs": [],
   "source": []
  },
  {
   "cell_type": "code",
   "execution_count": null,
   "metadata": {},
   "outputs": [],
   "source": []
  },
  {
   "cell_type": "code",
   "execution_count": null,
   "metadata": {},
   "outputs": [],
   "source": []
  }
 ],
 "metadata": {
  "celltoolbar": "Raw Cell Format",
  "kernelspec": {
   "display_name": "Python 3",
   "language": "python",
   "name": "python3"
  },
  "language_info": {
   "codemirror_mode": {
    "name": "ipython",
    "version": 3
   },
   "file_extension": ".py",
   "mimetype": "text/x-python",
   "name": "python",
   "nbconvert_exporter": "python",
   "pygments_lexer": "ipython3",
   "version": "3.6.7"
  },
  "widgets": {
   "application/vnd.jupyter.widget-state+json": {
    "state": {},
    "version_major": 2,
    "version_minor": 0
   }
  }
 },
 "nbformat": 4,
 "nbformat_minor": 2
}
