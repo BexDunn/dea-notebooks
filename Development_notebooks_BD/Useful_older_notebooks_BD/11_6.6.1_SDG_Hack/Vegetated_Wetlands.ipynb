{
 "cells": [
  {
   "cell_type": "markdown",
   "metadata": {},
   "source": [
    "# Loading data from the datacube\n",
    "\n",
    "This notebook will briefly discuss how to load data from the datacube.\n",
    "\n",
    "**Requirements:**\n",
    "\n",
    "You need to run the following commands from the command line prior to launching jupyter notebook from the same terminal so that the required libraries and paths are set.\n",
    "\n",
    "`module use /g/data/v10/public/modules/modulefiles` \n",
    "\n",
    "`module load dea`"
   ]
  },
  {
   "cell_type": "markdown",
   "metadata": {},
   "source": [
    "## Importing the datacube module\n",
    "\n",
    "To start with, we'll import the datacube module and load an instance of the datacube and call our application name *load-data-example*."
   ]
  },
  {
   "cell_type": "code",
   "execution_count": 9,
   "metadata": {},
   "outputs": [],
   "source": [
    "import datacube\n",
    "dc = datacube.Datacube(app='load-data-example')"
   ]
  },
  {
   "cell_type": "markdown",
   "metadata": {},
   "source": [
    "## Loading data\n",
    "\n",
    "Loading data from the datacube uses the *load* function.\n",
    "\n",
    "The function takes several arguments:\n",
    "\n",
    "* *product*; A specifc product to load\n",
    "* *x*; Defines the spatial region in the *x* dimension\n",
    "* *y*; Defines the spatial region in the *y* dimension\n",
    "* *time*; Defines the temporal extent.\n",
    "\n",
    "We'll load the Landsat 5-TM, **N**adir **B**i-directional reflectance ristribution function **A**djusted **R**eflectance, for the spatial region covering:\n",
    "\n",
    "* 149.25 -> 149.5 degrees longitude\n",
    "* -36.25 -> -36.5 degrees latitude\n",
    "\n",
    "and a temporal extent covering:\n",
    "\n",
    "* 2008-01-01 -> 2009-01-01"
   ]
  },
  {
   "cell_type": "code",
   "execution_count": 13,
   "metadata": {},
   "outputs": [],
   "source": [
    "data = dc.load(product='wofs_annual_summary', \n",
    "               x=(138.75, 139.03), y=(-35.41, -35.59),\n",
    "               time=('2007-01-01', '2008-01-01'))"
   ]
  },
  {
   "cell_type": "code",
   "execution_count": 14,
   "metadata": {},
   "outputs": [
    {
     "data": {
      "text/plain": [
       "<xarray.Dataset>\n",
       "Dimensions:      (time: 2, x: 1057, y: 855)\n",
       "Coordinates:\n",
       "  * time         (time) datetime64[ns] 2007-01-01 2008-01-01\n",
       "  * y            (y) float64 -3.884e+06 -3.884e+06 ... -3.905e+06 -3.905e+06\n",
       "  * x            (x) float64 6.107e+05 6.108e+05 ... 6.371e+05 6.371e+05\n",
       "Data variables:\n",
       "    count_wet    (time, y, x) int16 0 0 0 0 0 0 0 0 ... 11 11 11 11 11 11 11 10\n",
       "    count_clear  (time, y, x) int16 11 11 11 12 13 13 13 ... 11 11 11 11 11 11\n",
       "    frequency    (time, y, x) float32 0.0 0.0 0.0 0.0 ... 1.0 1.0 1.0 0.90909094\n",
       "Attributes:\n",
       "    crs:      EPSG:3577"
      ]
     },
     "execution_count": 14,
     "metadata": {},
     "output_type": "execute_result"
    }
   ],
   "source": [
    "data"
   ]
  },
  {
   "cell_type": "code",
   "execution_count": 15,
   "metadata": {},
   "outputs": [
    {
     "data": {
      "text/plain": [
       "<xarray.DataArray 'frequency' (time: 2, y: 855, x: 1057)>\n",
       "array([[[0.      , 0.      , ..., 1.      , 1.      ],\n",
       "        [0.      , 0.      , ..., 1.      , 1.      ],\n",
       "        ...,\n",
       "        [1.      , 1.      , ..., 1.      , 1.      ],\n",
       "        [1.      , 1.      , ..., 1.      , 1.      ]],\n",
       "\n",
       "       [[0.      , 0.      , ..., 0.928571, 0.928571],\n",
       "        [0.      , 0.      , ..., 1.      , 1.      ],\n",
       "        ...,\n",
       "        [1.      , 1.      , ..., 0.909091, 0.909091],\n",
       "        [1.      , 1.      , ..., 1.      , 0.909091]]], dtype=float32)\n",
       "Coordinates:\n",
       "  * time     (time) datetime64[ns] 2007-01-01 2008-01-01\n",
       "  * y        (y) float64 -3.884e+06 -3.884e+06 ... -3.905e+06 -3.905e+06\n",
       "  * x        (x) float64 6.107e+05 6.108e+05 6.108e+05 ... 6.371e+05 6.371e+05\n",
       "Attributes:\n",
       "    units:    1\n",
       "    nodata:   -1\n",
       "    crs:      EPSG:3577"
      ]
     },
     "execution_count": 15,
     "metadata": {},
     "output_type": "execute_result"
    }
   ],
   "source": [
    "data.frequency"
   ]
  },
  {
   "cell_type": "code",
   "execution_count": null,
   "metadata": {},
   "outputs": [],
   "source": [
    "data.frequency"
   ]
  }
 ],
 "metadata": {
  "kernelspec": {
   "display_name": "Python [default]",
   "language": "python",
   "name": "python3"
  },
  "language_info": {
   "codemirror_mode": {
    "name": "ipython",
    "version": 3
   },
   "file_extension": ".py",
   "mimetype": "text/x-python",
   "name": "python",
   "nbconvert_exporter": "python",
   "pygments_lexer": "ipython3",
   "version": "3.6.6"
  },
  "toc": {
   "base_numbering": 1,
   "nav_menu": {},
   "number_sections": true,
   "sideBar": true,
   "skip_h1_title": false,
   "title_cell": "Table of Contents",
   "title_sidebar": "Contents",
   "toc_cell": false,
   "toc_position": {},
   "toc_section_display": true,
   "toc_window_display": false
  }
 },
 "nbformat": 4,
 "nbformat_minor": 1
}
