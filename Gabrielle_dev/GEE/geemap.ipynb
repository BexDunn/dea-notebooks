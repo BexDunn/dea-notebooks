{
 "cells": [
  {
   "cell_type": "markdown",
   "metadata": {},
   "source": [
    "<table class=\"ee-notebook-buttons\" align=\"left\">\n",
    "    <td><a target=\"_blank\"  href=\"https://github.com/giswqs/geemap/tree/master/examples/notebooks/ipyleaflet_draw_control.ipynb\"><img width=32px src=\"https://www.tensorflow.org/images/GitHub-Mark-32px.png\" /> View source on GitHub</a></td>\n",
    "    <td><a target=\"_blank\"  href=\"https://nbviewer.jupyter.org/github/giswqs/geemap/blob/master/examples/notebooks/ipyleaflet_draw_control.ipynb\"><img width=26px src=\"https://upload.wikimedia.org/wikipedia/commons/thumb/3/38/Jupyter_logo.svg/883px-Jupyter_logo.svg.png\" />Notebook Viewer</a></td>\n",
    "    <td><a target=\"_blank\"  href=\"https://colab.research.google.com/github/giswqs/geemap/blob/master/examples/notebooks/ipyleaflet_draw_control.ipynb\"><img width=26px src=\"https://www.tensorflow.org/images/colab_logo_32px.png\" /> Run in Google Colab</a></td>\n",
    "</table>"
   ]
  },
  {
   "cell_type": "markdown",
   "metadata": {},
   "source": [
    "# Using ipyleaflet drawing tools to interact with Earth Engine data\n",
    "\n",
    "* [Video demo](https://i.imgur.com/SzauIsZ.gifv)\n",
    "\n",
    "## Install Earth Engine API and geemap\n",
    "Install the [Earth Engine Python API](https://developers.google.com/earth-engine/python_install) and [geemap](https://github.com/giswqs/geemap). The **geemap** Python package is built upon the [ipyleaflet](https://github.com/jupyter-widgets/ipyleaflet) and [folium](https://github.com/python-visualization/folium) packages and implements several methods for interacting with Earth Engine data layers, such as `Map.addLayer()`, `Map.setCenter()`, and `Map.centerObject()`.\n",
    "The following script checks if the geemap package has been installed. If not, it will install geemap, which automatically installs its [dependencies](https://github.com/giswqs/geemap#dependencies), including earthengine-api, folium, and ipyleaflet.\n",
    "\n",
    "**Important note**: A key difference between folium and ipyleaflet is that ipyleaflet is built upon ipywidgets and allows bidirectional communication between the front-end and the backend enabling the use of the map to capture user input, while folium is meant for displaying static data only ([source](https://blog.jupyter.org/interactive-gis-in-jupyter-with-ipyleaflet-52f9657fa7a)). Note that [Google Colab](https://colab.research.google.com/) currently does not support ipyleaflet ([source](https://github.com/googlecolab/colabtools/issues/60#issuecomment-596225619)). Therefore, if you are using geemap with Google Colab, you should use [`import geemap.eefolium`](https://github.com/giswqs/geemap/blob/master/geemap/eefolium.py). If you are using geemap with [binder](https://mybinder.org/) or a local Jupyter notebook server, you can use [`import geemap`](https://github.com/giswqs/geemap/blob/master/geemap/geemap.py), which provides more functionalities for capturing user input (e.g., mouse-clicking and moving)."
   ]
  },
  {
   "cell_type": "code",
   "execution_count": 13,
   "metadata": {},
   "outputs": [
    {
     "name": "stdout",
     "output_type": "stream",
     "text": [
      "Requirement already satisfied: geemap in /env/lib/python3.6/site-packages (0.7.0)\n",
      "Requirement already satisfied: colour in /env/lib/python3.6/site-packages (from geemap) (0.1.5)\n",
      "Requirement already satisfied: ipynb-py-convert in /env/lib/python3.6/site-packages (from geemap) (0.4.5)\n",
      "Requirement already satisfied: matplotlib in /env/lib/python3.6/site-packages (from geemap) (3.2.1)\n",
      "Requirement already satisfied: geeadd>=0.4.8 in /env/lib/python3.6/site-packages (from geemap) (0.5.0)\n",
      "Requirement already satisfied: folium>=0.11.0 in /env/lib/python3.6/site-packages (from geemap) (0.11.0)\n",
      "Requirement already satisfied: pyshp in /env/lib/python3.6/site-packages (from geemap) (2.1.0)\n",
      "Requirement already satisfied: geocoder in /env/lib/python3.6/site-packages (from geemap) (1.38.1)\n",
      "Requirement already satisfied: earthengine-api in /env/lib/python3.6/site-packages (from geemap) (0.1.222)\n",
      "Requirement already satisfied: ipytree in /env/lib/python3.6/site-packages (from geemap) (0.1.8)\n",
      "Requirement already satisfied: pillow in /env/lib/python3.6/site-packages (from geemap) (7.1.1)\n",
      "Requirement already satisfied: ipyleaflet>=0.12.6 in /env/lib/python3.6/site-packages (from geemap) (0.13.0)\n",
      "Requirement already satisfied: bqplot in /env/lib/python3.6/site-packages (from geemap) (0.12.12)\n",
      "Requirement already satisfied: dulwich in /env/lib/python3.6/site-packages (from geemap) (0.19.16)\n",
      "Requirement already satisfied: ipyfilechooser in /env/lib/python3.6/site-packages (from geemap) (0.3.4)\n",
      "Requirement already satisfied: mss in /env/lib/python3.6/site-packages (from geemap) (5.1.0)\n",
      "Requirement already satisfied: click in /env/lib/python3.6/site-packages (from geemap) (7.1.1)\n",
      "Requirement already satisfied: kiwisolver>=1.0.1 in /env/lib/python3.6/site-packages (from matplotlib->geemap) (1.2.0)\n",
      "Requirement already satisfied: pyparsing!=2.0.4,!=2.1.2,!=2.1.6,>=2.0.1 in /env/lib/python3.6/site-packages (from matplotlib->geemap) (2.4.7)\n",
      "Requirement already satisfied: cycler>=0.10 in /env/lib/python3.6/site-packages (from matplotlib->geemap) (0.10.0)\n",
      "Requirement already satisfied: numpy>=1.11 in /env/lib/python3.6/site-packages (from matplotlib->geemap) (1.18.2)\n",
      "Requirement already satisfied: python-dateutil>=2.1 in /env/lib/python3.6/site-packages (from matplotlib->geemap) (2.8.0)\n",
      "Requirement already satisfied: requests>=2.22.0 in /env/lib/python3.6/site-packages (from geeadd>=0.4.8->geemap) (2.23.0)\n",
      "Requirement already satisfied: logzero>=1.5.0 in /env/lib/python3.6/site-packages (from geeadd>=0.4.8->geemap) (1.5.0)\n",
      "Requirement already satisfied: beautifulsoup4>=4.9.0 in /env/lib/python3.6/site-packages (from geeadd>=0.4.8->geemap) (4.9.0)\n",
      "Requirement already satisfied: branca>=0.3.0 in /env/lib/python3.6/site-packages (from folium>=0.11.0->geemap) (0.3.1)\n",
      "Requirement already satisfied: jinja2>=2.9 in /env/lib/python3.6/site-packages (from folium>=0.11.0->geemap) (2.11.2)\n",
      "Requirement already satisfied: future in /env/lib/python3.6/site-packages (from geocoder->geemap) (0.18.2)\n",
      "Requirement already satisfied: six in /env/lib/python3.6/site-packages (from geocoder->geemap) (1.14.0)\n",
      "Requirement already satisfied: ratelim in /env/lib/python3.6/site-packages (from geocoder->geemap) (0.1.6)\n",
      "Requirement already satisfied: google-cloud-storage in /env/lib/python3.6/site-packages (from earthengine-api->geemap) (1.28.1)\n",
      "Requirement already satisfied: google-auth>=1.4.1 in /env/lib/python3.6/site-packages (from earthengine-api->geemap) (1.14.0)\n",
      "Requirement already satisfied: google-api-python-client in /env/lib/python3.6/site-packages (from earthengine-api->geemap) (1.8.3)\n",
      "Requirement already satisfied: httplib2shim in /env/lib/python3.6/site-packages (from earthengine-api->geemap) (0.0.3)\n",
      "Requirement already satisfied: google-auth-httplib2>=0.0.3 in /env/lib/python3.6/site-packages (from earthengine-api->geemap) (0.0.3)\n",
      "Requirement already satisfied: httplib2<1dev,>=0.9.2 in /env/lib/python3.6/site-packages (from earthengine-api->geemap) (0.18.1)\n",
      "Requirement already satisfied: ipywidgets<8,>=7.5.0 in /env/lib/python3.6/site-packages (from ipytree->geemap) (7.5.1)\n",
      "Requirement already satisfied: traittypes<3,>=0.2.1 in /env/lib/python3.6/site-packages (from ipyleaflet>=0.12.6->geemap) (0.2.1)\n",
      "Requirement already satisfied: traitlets>=4.3.0 in /env/lib/python3.6/site-packages (from bqplot->geemap) (4.3.3)\n",
      "Requirement already satisfied: pandas in /env/lib/python3.6/site-packages (from bqplot->geemap) (1.0.3)\n",
      "Requirement already satisfied: urllib3>=1.24.1 in /env/lib/python3.6/site-packages (from dulwich->geemap) (1.24.3)\n",
      "Requirement already satisfied: certifi in /env/lib/python3.6/site-packages (from dulwich->geemap) (2020.4.5.1)\n",
      "Requirement already satisfied: chardet<4,>=3.0.2 in /env/lib/python3.6/site-packages (from requests>=2.22.0->geeadd>=0.4.8->geemap) (3.0.4)\n",
      "Requirement already satisfied: idna<3,>=2.5 in /env/lib/python3.6/site-packages (from requests>=2.22.0->geeadd>=0.4.8->geemap) (2.9)\n",
      "Requirement already satisfied: soupsieve>1.2 in /env/lib/python3.6/site-packages (from beautifulsoup4>=4.9.0->geeadd>=0.4.8->geemap) (2.0)\n",
      "Requirement already satisfied: MarkupSafe>=0.23 in /env/lib/python3.6/site-packages (from jinja2>=2.9->folium>=0.11.0->geemap) (1.1.1)\n",
      "Requirement already satisfied: decorator in /env/lib/python3.6/site-packages (from ratelim->geocoder->geemap) (4.4.2)\n",
      "Requirement already satisfied: google-resumable-media<0.6dev,>=0.5.0 in /env/lib/python3.6/site-packages (from google-cloud-storage->earthengine-api->geemap) (0.5.0)\n",
      "Requirement already satisfied: google-cloud-core<2.0dev,>=1.2.0 in /env/lib/python3.6/site-packages (from google-cloud-storage->earthengine-api->geemap) (1.3.0)\n",
      "Requirement already satisfied: cachetools<5.0,>=2.0.0 in /env/lib/python3.6/site-packages (from google-auth>=1.4.1->earthengine-api->geemap) (4.1.0)\n",
      "Requirement already satisfied: rsa<4.1,>=3.1.4 in /env/lib/python3.6/site-packages (from google-auth>=1.4.1->earthengine-api->geemap) (3.4.2)\n",
      "Requirement already satisfied: setuptools>=40.3.0 in /env/lib/python3.6/site-packages (from google-auth>=1.4.1->earthengine-api->geemap) (46.1.3)\n",
      "Requirement already satisfied: pyasn1-modules>=0.2.1 in /env/lib/python3.6/site-packages (from google-auth>=1.4.1->earthengine-api->geemap) (0.2.8)\n",
      "Requirement already satisfied: google-api-core<2dev,>=1.13.0 in /env/lib/python3.6/site-packages (from google-api-python-client->earthengine-api->geemap) (1.17.0)\n",
      "Requirement already satisfied: uritemplate<4dev,>=3.0.0 in /env/lib/python3.6/site-packages (from google-api-python-client->earthengine-api->geemap) (3.0.1)\n",
      "Requirement already satisfied: nbformat>=4.2.0 in /env/lib/python3.6/site-packages (from ipywidgets<8,>=7.5.0->ipytree->geemap) (5.0.6)\n",
      "Requirement already satisfied: ipython>=4.0.0; python_version >= \"3.3\" in /env/lib/python3.6/site-packages (from ipywidgets<8,>=7.5.0->ipytree->geemap) (7.13.0)\n",
      "Requirement already satisfied: ipykernel>=4.5.1 in /env/lib/python3.6/site-packages (from ipywidgets<8,>=7.5.0->ipytree->geemap) (5.2.1)\n",
      "Requirement already satisfied: widgetsnbextension~=3.5.0 in /env/lib/python3.6/site-packages (from ipywidgets<8,>=7.5.0->ipytree->geemap) (3.5.1)\n",
      "Requirement already satisfied: ipython-genutils in /env/lib/python3.6/site-packages (from traitlets>=4.3.0->bqplot->geemap) (0.2.0)\n",
      "Requirement already satisfied: pytz>=2017.2 in /env/lib/python3.6/site-packages (from pandas->bqplot->geemap) (2019.3)\n",
      "Requirement already satisfied: pyasn1>=0.1.3 in /env/lib/python3.6/site-packages (from rsa<4.1,>=3.1.4->google-auth>=1.4.1->earthengine-api->geemap) (0.4.8)\n",
      "Requirement already satisfied: protobuf>=3.4.0 in /env/lib/python3.6/site-packages (from google-api-core<2dev,>=1.13.0->google-api-python-client->earthengine-api->geemap) (3.11.3)\n",
      "Requirement already satisfied: googleapis-common-protos<2.0dev,>=1.6.0 in /env/lib/python3.6/site-packages (from google-api-core<2dev,>=1.13.0->google-api-python-client->earthengine-api->geemap) (1.51.0)\n",
      "Requirement already satisfied: jupyter-core in /env/lib/python3.6/site-packages (from nbformat>=4.2.0->ipywidgets<8,>=7.5.0->ipytree->geemap) (4.6.3)\n",
      "Requirement already satisfied: jsonschema!=2.5.0,>=2.4 in /env/lib/python3.6/site-packages (from nbformat>=4.2.0->ipywidgets<8,>=7.5.0->ipytree->geemap) (3.2.0)\n",
      "Requirement already satisfied: jedi>=0.10 in /env/lib/python3.6/site-packages (from ipython>=4.0.0; python_version >= \"3.3\"->ipywidgets<8,>=7.5.0->ipytree->geemap) (0.17.0)\n",
      "Requirement already satisfied: pexpect; sys_platform != \"win32\" in /env/lib/python3.6/site-packages (from ipython>=4.0.0; python_version >= \"3.3\"->ipywidgets<8,>=7.5.0->ipytree->geemap) (4.8.0)\n",
      "Requirement already satisfied: backcall in /env/lib/python3.6/site-packages (from ipython>=4.0.0; python_version >= \"3.3\"->ipywidgets<8,>=7.5.0->ipytree->geemap) (0.1.0)\n",
      "Requirement already satisfied: pickleshare in /env/lib/python3.6/site-packages (from ipython>=4.0.0; python_version >= \"3.3\"->ipywidgets<8,>=7.5.0->ipytree->geemap) (0.7.5)\n",
      "Requirement already satisfied: prompt-toolkit!=3.0.0,!=3.0.1,<3.1.0,>=2.0.0 in /env/lib/python3.6/site-packages (from ipython>=4.0.0; python_version >= \"3.3\"->ipywidgets<8,>=7.5.0->ipytree->geemap) (3.0.5)\n",
      "Requirement already satisfied: pygments in /env/lib/python3.6/site-packages (from ipython>=4.0.0; python_version >= \"3.3\"->ipywidgets<8,>=7.5.0->ipytree->geemap) (2.6.1)\n",
      "Requirement already satisfied: tornado>=4.2 in /env/lib/python3.6/site-packages (from ipykernel>=4.5.1->ipywidgets<8,>=7.5.0->ipytree->geemap) (6.0.4)\n",
      "Requirement already satisfied: jupyter-client in /env/lib/python3.6/site-packages (from ipykernel>=4.5.1->ipywidgets<8,>=7.5.0->ipytree->geemap) (6.1.3)\n",
      "Requirement already satisfied: notebook>=4.4.1 in /env/lib/python3.6/site-packages (from widgetsnbextension~=3.5.0->ipywidgets<8,>=7.5.0->ipytree->geemap) (6.0.3)\n",
      "Requirement already satisfied: importlib-metadata; python_version < \"3.8\" in /env/lib/python3.6/site-packages (from jsonschema!=2.5.0,>=2.4->nbformat>=4.2.0->ipywidgets<8,>=7.5.0->ipytree->geemap) (1.6.0)\n",
      "Requirement already satisfied: pyrsistent>=0.14.0 in /env/lib/python3.6/site-packages (from jsonschema!=2.5.0,>=2.4->nbformat>=4.2.0->ipywidgets<8,>=7.5.0->ipytree->geemap) (0.16.0)\n",
      "Requirement already satisfied: attrs>=17.4.0 in /env/lib/python3.6/site-packages (from jsonschema!=2.5.0,>=2.4->nbformat>=4.2.0->ipywidgets<8,>=7.5.0->ipytree->geemap) (19.3.0)\n",
      "Requirement already satisfied: parso>=0.7.0 in /env/lib/python3.6/site-packages (from jedi>=0.10->ipython>=4.0.0; python_version >= \"3.3\"->ipywidgets<8,>=7.5.0->ipytree->geemap) (0.7.0)\n",
      "Requirement already satisfied: ptyprocess>=0.5 in /env/lib/python3.6/site-packages (from pexpect; sys_platform != \"win32\"->ipython>=4.0.0; python_version >= \"3.3\"->ipywidgets<8,>=7.5.0->ipytree->geemap) (0.6.0)\n",
      "Requirement already satisfied: wcwidth in /env/lib/python3.6/site-packages (from prompt-toolkit!=3.0.0,!=3.0.1,<3.1.0,>=2.0.0->ipython>=4.0.0; python_version >= \"3.3\"->ipywidgets<8,>=7.5.0->ipytree->geemap) (0.1.9)\n",
      "Requirement already satisfied: pyzmq>=13 in /env/lib/python3.6/site-packages (from jupyter-client->ipykernel>=4.5.1->ipywidgets<8,>=7.5.0->ipytree->geemap) (19.0.0)\n",
      "Requirement already satisfied: Send2Trash in /env/lib/python3.6/site-packages (from notebook>=4.4.1->widgetsnbextension~=3.5.0->ipywidgets<8,>=7.5.0->ipytree->geemap) (1.5.0)\n",
      "Requirement already satisfied: prometheus-client in /env/lib/python3.6/site-packages (from notebook>=4.4.1->widgetsnbextension~=3.5.0->ipywidgets<8,>=7.5.0->ipytree->geemap) (0.7.1)\n",
      "Requirement already satisfied: nbconvert in /env/lib/python3.6/site-packages (from notebook>=4.4.1->widgetsnbextension~=3.5.0->ipywidgets<8,>=7.5.0->ipytree->geemap) (5.6.1)\n",
      "Requirement already satisfied: terminado>=0.8.1 in /env/lib/python3.6/site-packages (from notebook>=4.4.1->widgetsnbextension~=3.5.0->ipywidgets<8,>=7.5.0->ipytree->geemap) (0.8.3)\n",
      "Requirement already satisfied: zipp>=0.5 in /env/lib/python3.6/site-packages (from importlib-metadata; python_version < \"3.8\"->jsonschema!=2.5.0,>=2.4->nbformat>=4.2.0->ipywidgets<8,>=7.5.0->ipytree->geemap) (3.1.0)\n",
      "Requirement already satisfied: bleach in /env/lib/python3.6/site-packages (from nbconvert->notebook>=4.4.1->widgetsnbextension~=3.5.0->ipywidgets<8,>=7.5.0->ipytree->geemap) (3.1.4)\n",
      "Requirement already satisfied: pandocfilters>=1.4.1 in /env/lib/python3.6/site-packages (from nbconvert->notebook>=4.4.1->widgetsnbextension~=3.5.0->ipywidgets<8,>=7.5.0->ipytree->geemap) (1.4.2)\n",
      "Requirement already satisfied: mistune<2,>=0.8.1 in /env/lib/python3.6/site-packages (from nbconvert->notebook>=4.4.1->widgetsnbextension~=3.5.0->ipywidgets<8,>=7.5.0->ipytree->geemap) (0.8.4)\n",
      "Requirement already satisfied: defusedxml in /env/lib/python3.6/site-packages (from nbconvert->notebook>=4.4.1->widgetsnbextension~=3.5.0->ipywidgets<8,>=7.5.0->ipytree->geemap) (0.6.0)\n",
      "Requirement already satisfied: entrypoints>=0.2.2 in /env/lib/python3.6/site-packages (from nbconvert->notebook>=4.4.1->widgetsnbextension~=3.5.0->ipywidgets<8,>=7.5.0->ipytree->geemap) (0.3)\n",
      "Requirement already satisfied: testpath in /env/lib/python3.6/site-packages (from nbconvert->notebook>=4.4.1->widgetsnbextension~=3.5.0->ipywidgets<8,>=7.5.0->ipytree->geemap) (0.4.4)\n",
      "Requirement already satisfied: webencodings in /env/lib/python3.6/site-packages (from bleach->nbconvert->notebook>=4.4.1->widgetsnbextension~=3.5.0->ipywidgets<8,>=7.5.0->ipytree->geemap) (0.5.1)\n",
      "\u001b[33mWARNING: You are using pip version 20.1; however, version 20.1.1 is available.\n",
      "You should consider upgrading via the '/env/bin/python3 -m pip install --upgrade pip' command.\u001b[0m\n",
      "Note: you may need to restart the kernel to use updated packages.\n"
     ]
    }
   ],
   "source": [
    "pip install geemap"
   ]
  },
  {
   "cell_type": "code",
   "execution_count": 1,
   "metadata": {},
   "outputs": [],
   "source": [
    "# Installs geemap package\n",
    "import subprocess\n",
    "\n",
    "try:\n",
    "    import geemap\n",
    "except ImportError:\n",
    "    print('geemap package not installed. Installing ...')\n",
    "    subprocess.check_call([\"python\", '-m', 'pip', 'install', '-U', 'geemap'])\n",
    "\n",
    "# Checks whether this notebook is running on Google Colab\n",
    "try:\n",
    "    import google.colab\n",
    "    import geemap.eefolium as emap\n",
    "except:\n",
    "    import geemap as emap\n",
    "\n",
    "# Authenticates and initializes Earth Engine\n",
    "import ee\n",
    "\n",
    "try:\n",
    "    ee.Initialize()\n",
    "except Exception as e:\n",
    "    ee.Authenticate()\n",
    "    ee.Initialize()  "
   ]
  },
  {
   "cell_type": "markdown",
   "metadata": {},
   "source": [
    "## Create an interactive map \n",
    "The default basemap is `Google Satellite`. [Additional basemaps](https://github.com/giswqs/geemap/blob/master/geemap/geemap.py#L13) can be added using the `Map.add_basemap()` function. "
   ]
  },
  {
   "cell_type": "code",
   "execution_count": 12,
   "metadata": {},
   "outputs": [
    {
     "name": "stdout",
     "output_type": "stream",
     "text": [
      "layer already on map: TileLayer(attribution='Google', name='Google Maps', options=['attribution', 'detect_retina', 'max_native_zoom', 'max_zoom', 'min_native_zoom', 'min_zoom', 'no_wrap', 'tile_size', 'tms'], url='https://mt1.google.com/vt/lyrs=m&x={x}&y={y}&z={z}')\n",
      "Basemap can only be one of the following:\n",
      "  ROADMAP\n",
      "  SATELLITE\n",
      "  TERRAIN\n",
      "  HYBRID\n",
      "  ESRI\n",
      "  Esri Ocean\n",
      "  Esri Satellite\n",
      "  Esri Standard\n",
      "  Esri Terrain\n",
      "  Esri Transportation\n",
      "  Esri Topo World\n",
      "  Esri National Geographic\n",
      "  Esri Shaded Relief\n",
      "  Esri Physical Map\n",
      "  FWS NWI Wetlands\n",
      "  FWS NWI Wetlands Raster\n",
      "  Google Maps\n",
      "  Google Satellite\n",
      "  Google Terrain\n",
      "  Google Satellite Hybrid\n",
      "  NLCD 2016 CONUS Land Cover\n",
      "  NLCD 2013 CONUS Land Cover\n",
      "  NLCD 2011 CONUS Land Cover\n",
      "  NLCD 2008 CONUS Land Cover\n",
      "  NLCD 2006 CONUS Land Cover\n",
      "  NLCD 2004 CONUS Land Cover\n",
      "  NLCD 2001 CONUS Land Cover\n",
      "  USGS NAIP Imagery\n",
      "  USGS Hydrography\n",
      "  USGS 3DEP Elevation\n",
      "  OpenStreetMap.Mapnik\n",
      "  OpenStreetMap.BlackAndWhite\n",
      "  OpenStreetMap.DE\n",
      "  OpenStreetMap.France\n",
      "  OpenStreetMap.HOT\n",
      "  OpenTopoMap\n",
      "  Hydda.Full\n",
      "  Hydda.Base\n",
      "  Esri.WorldStreetMap\n",
      "  Esri.DeLorme\n",
      "  Esri.WorldTopoMap\n",
      "  Esri.WorldImagery\n",
      "  Esri.NatGeoWorldMap\n",
      "  HikeBike.HikeBike\n",
      "  MtbMap\n",
      "  CartoDB.Positron\n",
      "  CartoDB.DarkMatter\n",
      "  NASAGIBS.ModisTerraTrueColorCR\n",
      "  NASAGIBS.ModisTerraBands367CR\n",
      "  NASAGIBS.ModisTerraBands721CR\n",
      "  NASAGIBS.ModisAquaTrueColorCR\n",
      "  NASAGIBS.ModisAquaBands721CR\n",
      "  NASAGIBS.ViirsTrueColorCR\n",
      "  NASAGIBS.ViirsEarthAtNight2012\n",
      "  NASAGIBS.BlueMarble3413\n",
      "  NASAGIBS.BlueMarble3031\n",
      "  NASAGIBS.BlueMarble\n",
      "  Strava.All\n",
      "  Strava.Ride\n",
      "  Strava.Run\n",
      "  Strava.Water\n",
      "  Strava.Winter\n",
      "  Stamen.Terrain\n",
      "  Stamen.Toner\n",
      "  Stamen.Watercolor\n"
     ]
    },
    {
     "data": {
      "application/vnd.jupyter.widget-view+json": {
       "model_id": "30cc3bb5b90f441fa16adc1f0b1bd02b",
       "version_major": 2,
       "version_minor": 0
      },
      "text/plain": [
       "Map(center=[40, -100], controls=(WidgetControl(options=['position'], widget=HBox(children=(ToggleButton(value=…"
      ]
     },
     "metadata": {},
     "output_type": "display_data"
    }
   ],
   "source": [
    "Map = emap.Map(center=[40,-100], zoom=4)\n",
    "Map.add_basemap('ROADMAP') # Add Google Map\n",
    "Map"
   ]
  },
  {
   "cell_type": "markdown",
   "metadata": {},
   "source": [
    "### Draw any shapes on the map above using the Draw Control."
   ]
  },
  {
   "cell_type": "code",
   "execution_count": 3,
   "metadata": {},
   "outputs": [],
   "source": [
    "# Retrieves ee.Feature() of the last drawing object.\n",
    "Map.draw_last_feature"
   ]
  },
  {
   "cell_type": "code",
   "execution_count": 4,
   "metadata": {},
   "outputs": [
    {
     "data": {
      "text/plain": [
       "[]"
      ]
     },
     "execution_count": 4,
     "metadata": {},
     "output_type": "execute_result"
    }
   ],
   "source": [
    "# Retrieves ee.Feature() of all drawing objects.\n",
    "Map.draw_features"
   ]
  },
  {
   "cell_type": "markdown",
   "metadata": {},
   "source": [
    "## Clipping Earth Engine Image layer with the Draw Control "
   ]
  },
  {
   "cell_type": "code",
   "execution_count": 5,
   "metadata": {},
   "outputs": [
    {
     "name": "stdout",
     "output_type": "stream",
     "text": [
      "layer already on map: TileLayer(attribution='Google', name='Google Maps', options=['attribution', 'detect_retina', 'max_native_zoom', 'max_zoom', 'min_native_zoom', 'min_zoom', 'no_wrap', 'tile_size', 'tms'], url='https://mt1.google.com/vt/lyrs=m&x={x}&y={y}&z={z}')\n",
      "Basemap can only be one of the following:\n",
      "  ROADMAP\n",
      "  SATELLITE\n",
      "  TERRAIN\n",
      "  HYBRID\n",
      "  ESRI\n",
      "  Esri Ocean\n",
      "  Esri Satellite\n",
      "  Esri Standard\n",
      "  Esri Terrain\n",
      "  Esri Transportation\n",
      "  Esri Topo World\n",
      "  Esri National Geographic\n",
      "  Esri Shaded Relief\n",
      "  Esri Physical Map\n",
      "  FWS NWI Wetlands\n",
      "  FWS NWI Wetlands Raster\n",
      "  Google Maps\n",
      "  Google Satellite\n",
      "  Google Terrain\n",
      "  Google Satellite Hybrid\n",
      "  NLCD 2016 CONUS Land Cover\n",
      "  NLCD 2013 CONUS Land Cover\n",
      "  NLCD 2011 CONUS Land Cover\n",
      "  NLCD 2008 CONUS Land Cover\n",
      "  NLCD 2006 CONUS Land Cover\n",
      "  NLCD 2004 CONUS Land Cover\n",
      "  NLCD 2001 CONUS Land Cover\n",
      "  USGS NAIP Imagery\n",
      "  USGS Hydrography\n",
      "  USGS 3DEP Elevation\n",
      "  OpenStreetMap.Mapnik\n",
      "  OpenStreetMap.BlackAndWhite\n",
      "  OpenStreetMap.DE\n",
      "  OpenStreetMap.France\n",
      "  OpenStreetMap.HOT\n",
      "  OpenTopoMap\n",
      "  Hydda.Full\n",
      "  Hydda.Base\n",
      "  Esri.WorldStreetMap\n",
      "  Esri.DeLorme\n",
      "  Esri.WorldTopoMap\n",
      "  Esri.WorldImagery\n",
      "  Esri.NatGeoWorldMap\n",
      "  HikeBike.HikeBike\n",
      "  MtbMap\n",
      "  CartoDB.Positron\n",
      "  CartoDB.DarkMatter\n",
      "  NASAGIBS.ModisTerraTrueColorCR\n",
      "  NASAGIBS.ModisTerraBands367CR\n",
      "  NASAGIBS.ModisTerraBands721CR\n",
      "  NASAGIBS.ModisAquaTrueColorCR\n",
      "  NASAGIBS.ModisAquaBands721CR\n",
      "  NASAGIBS.ViirsTrueColorCR\n",
      "  NASAGIBS.ViirsEarthAtNight2012\n",
      "  NASAGIBS.BlueMarble3413\n",
      "  NASAGIBS.BlueMarble3031\n",
      "  NASAGIBS.BlueMarble\n",
      "  Strava.All\n",
      "  Strava.Ride\n",
      "  Strava.Run\n",
      "  Strava.Water\n",
      "  Strava.Winter\n",
      "  Stamen.Terrain\n",
      "  Stamen.Toner\n",
      "  Stamen.Watercolor\n"
     ]
    },
    {
     "data": {
      "application/vnd.jupyter.widget-view+json": {
       "model_id": "8df239ae76574e6a8f9b035abbdc7f8a",
       "version_major": 2,
       "version_minor": 0
      },
      "text/plain": [
       "Map(center=[40, -100], controls=(WidgetControl(options=['position'], widget=HBox(children=(ToggleButton(value=…"
      ]
     },
     "metadata": {},
     "output_type": "display_data"
    }
   ],
   "source": [
    "import ipywidgets as widgets\n",
    "from ipyleaflet import WidgetControl\n",
    "from geemap import geojson_to_ee\n",
    "\n",
    "Map = emap.Map(center=[40,-100], zoom=4)\n",
    "Map.add_basemap('ROADMAP') # Add \n",
    "\n",
    "# Add Earth Engine dataset\n",
    "image = ee.Image('USGS/SRTMGL1_003')\n",
    "\n",
    "# Set visualization parameters.\n",
    "vis_params = {\n",
    "  'min': 0,\n",
    "  'max': 4000,\n",
    "  'palette': ['006633', 'E5FFCC', '662A00', 'D8D8D8', 'F5F5F5']}\n",
    "\n",
    "# Get basemap layers\n",
    "base_layers = Map.layers\n",
    "\n",
    "# Add Earth Engine DEM to map\n",
    "Map.addLayer(image, vis_params, 'SRTM DEM')\n",
    "\n",
    "# An empty list for storing drawing geometries\n",
    "feat_list = []\n",
    "\n",
    "# Get the DrawControl\n",
    "dc = Map.draw_control\n",
    "\n",
    "# Handle draw events\n",
    "def handle_draw(self, action, geo_json):\n",
    "\n",
    "    geom = geojson_to_ee(geo_json, False)\n",
    "    feature = ee.Feature(geom)\n",
    "    feat_list.append(feature)\n",
    "    collection = ee.FeatureCollection(feat_list)\n",
    "    clip_image = image.clipToCollection(collection)\n",
    "    \n",
    "    Map.layers = base_layers[:3]\n",
    "    Map.addLayer(clip_image, vis_params, 'SRTM DEM')\n",
    "#     Map.addLayer(ee.Image().paint(collection, 0, 2), {'palette': 'red'}, 'EE Geometry')\n",
    "    Map.addLayer(collection, {}, 'Drawing Features')\n",
    "\n",
    "dc.on_draw(handle_draw)\n",
    "\n",
    "# # Add a button to the map\n",
    "# button = widgets.Button(description=\"Clear drawings\")\n",
    "# btn_control = WidgetControl(widget=button, position='bottomright')\n",
    "# Map.add_control(btn_control)\n",
    "\n",
    "# # Handle click event\n",
    "# def on_button_clicked(b):\n",
    "#     dc.clear()\n",
    "\n",
    "# button.on_click(on_button_clicked)\n",
    "\n",
    "Map"
   ]
  },
  {
   "cell_type": "code",
   "execution_count": 6,
   "metadata": {},
   "outputs": [
    {
     "data": {
      "text/plain": [
       "{'type': 'Feature', 'geometry': None}"
      ]
     },
     "execution_count": 6,
     "metadata": {},
     "output_type": "execute_result"
    }
   ],
   "source": [
    "# Print out the geojson of the last drawing object\n",
    "dc.last_draw"
   ]
  },
  {
   "cell_type": "code",
   "execution_count": null,
   "metadata": {},
   "outputs": [],
   "source": []
  }
 ],
 "metadata": {
  "anaconda-cloud": {},
  "kernelspec": {
   "display_name": "Python 3",
   "language": "python",
   "name": "python3"
  },
  "language_info": {
   "codemirror_mode": {
    "name": "ipython",
    "version": 3
   },
   "file_extension": ".py",
   "mimetype": "text/x-python",
   "name": "python",
   "nbconvert_exporter": "python",
   "pygments_lexer": "ipython3",
   "version": "3.6.9"
  }
 },
 "nbformat": 4,
 "nbformat_minor": 4
}
