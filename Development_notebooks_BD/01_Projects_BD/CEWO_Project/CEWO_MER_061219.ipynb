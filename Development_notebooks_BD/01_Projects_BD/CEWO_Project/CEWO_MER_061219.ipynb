{
 "cells": [
  {
   "cell_type": "markdown",
   "metadata": {},
   "source": [
    "Run WIT for the MER shapefile dataset\n",
    "        This notebook:\n",
    "        needs to check for existence, load the shapefile, get the data, run the results, save."
   ]
  },
  {
   "cell_type": "code",
   "execution_count": null,
   "metadata": {},
   "outputs": [],
   "source": [
    "import datacube\n",
    "import datetime\n",
    "import fiona\n",
    "import geopandas as gpd\n",
    "import os\n",
    "import numpy as np\n",
    "import pandas as pd\n",
    "import rasterio.mask\n",
    "import rasterio.features\n",
    "import seaborn as sns\n",
    "from shapely import geometry\n",
    "import sys\n",
    "import xarray as xr\n",
    "\n",
    "from datetime import datetime, timedelta\n",
    "import matplotlib.dates as mdates\n",
    "import matplotlib.gridspec as gridspec\n",
    "import matplotlib.pyplot as plt\n",
    "from matplotlib.patches import Rectangle\n",
    "from textwrap import wrap\n",
    "\n",
    "from datacube.storage import masking\n",
    "from datacube.utils import geometry\n",
    "from datacube.utils.geometry import CRS\n",
    "from digitalearthau.utils import wofs_fuser\n",
    "\n",
    "sys.path.append('/g/data/r78/rjd547/jupyter_notebooks/dea-notebooks/10_Scripts')\n",
    "import DEADataHandling, DEAPlotting, TasseledCapTools, WetlandsTools, SpatialTools, wetlands_insight\n",
    "\n",
    "dc = datacube.Datacube(app='wetlands insight tool')\n",
    "%load_ext autoreload\n",
    "%autoreload 2"
   ]
  },
  {
   "cell_type": "code",
   "execution_count": null,
   "metadata": {},
   "outputs": [],
   "source": [
    "#set output directory\n",
    "global Output_dir\n",
    "Output_dir = '/g/data/r78/rjd547/CEWO_Project/MER_Veg/MER_veg_WIT/'"
   ]
  },
  {
   "cell_type": "code",
   "execution_count": null,
   "metadata": {},
   "outputs": [],
   "source": [
    "#set polygon path\n",
    "poly_path='/g/data/r78/rjd547/CEWO_Project/MER_Veg/Mer_Veg_Sites.shp'"
   ]
  },
  {
   "cell_type": "code",
   "execution_count": null,
   "metadata": {},
   "outputs": [],
   "source": [
    "def get_MER_polyName(shapefile):\n",
    "    ''' function designed specifically for the RAMSAR wetlands australia shapefile. Takes the shapefile and extracts\n",
    "    the ramsar name, wetland name and objectID from the ESRI shapefile format and turns it into a useful string for our output.\n",
    "    :Inputs: shapefile with RAMSAR_NAM, WETLAND_NA, and OBJECTID as properties. \n",
    "    Author: Bex Dunn Last Edited: March 2019'''\n",
    "    # get the ramsar name from the shapes \n",
    "    SAMO_ID = shapefile['properties']['SAMO_ID']\n",
    "    NAME = '_'.join(shapefile['properties']['NAME'].split(' '))\n",
    "    polyname = f'{SAMO_ID}-{NAME}'\n",
    "    print(f'processing polygon {polyname}')\n",
    "    return(polyname)"
   ]
  },
  {
   "cell_type": "code",
   "execution_count": null,
   "metadata": {},
   "outputs": [],
   "source": [
    "# with fiona.open(poly_path) as shapes:\n",
    "#     #get crs object from polygon file\n",
    "#     crs = geometry.CRS(shapes.crs_wkt)\n",
    "#     for feature in shapes:\n",
    "    \n",
    "#         if feature['id'] == str(1): \n",
    "#             feature_geometry=feature['geometry']\n",
    "#             polyname = get_MER_polyName(feature)            \n",
    "#             geom = geometry.Geometry(feature_geometry, crs=crs)\n",
    "#             query = {'geopolygon': geom}\n",
    "            \n",
    "#             #if os.path.exists(f'{Output_dir}{polyName}.csv')==False or os.path.exists(f'{Output_dir}{polyName}.png')==False:"
   ]
  },
  {
   "cell_type": "markdown",
   "metadata": {},
   "source": [
    "## run WIT over each polygon, along with the fast version of the csv writer. "
   ]
  },
  {
   "cell_type": "code",
   "execution_count": null,
   "metadata": {},
   "outputs": [],
   "source": [
    "#set up colour palette for our plots\n",
    "pal = [sns.xkcd_rgb[\"cobalt blue\"],\n",
    "       sns.xkcd_rgb[\"neon blue\"],\n",
    "       sns.xkcd_rgb[\"grass\"],\n",
    "       sns.xkcd_rgb[\"beige\"],\n",
    "       sns.xkcd_rgb[\"brown\"]]  "
   ]
  },
  {
   "cell_type": "code",
   "execution_count": null,
   "metadata": {},
   "outputs": [],
   "source": [
    "with fiona.open(poly_path) as shapes:\n",
    "    #get crs object from polygon file\n",
    "    crs = geometry.CRS(shapes.crs_wkt)\n",
    "    for feature in shapes:\n",
    "        #name our polygon using the get MER polyname function    \n",
    "        feature_geometry=feature['geometry']\n",
    "        polyname = get_MER_polyName(feature)            \n",
    "        geom = geometry.Geometry(feature_geometry, crs=crs)\n",
    "        query = {'geopolygon': geom}\n",
    "        \n",
    "        #if this polyon has already been run, don't run it again!\n",
    "        if os.path.exists(f'{Output_dir}{polyname}.csv')==False or os.path.exists(f'{Output_dir}{polyname}.png')==False:\n",
    "            #get our data\n",
    "            WITplots=wetlands_insight.WIT_array(query)\n",
    "            #make a stacked area plot\n",
    "            plt.clf()\n",
    "            fig= plt.figure(figsize = (12,4))\n",
    "            plt.stackplot(WITplots.water.time.values, \n",
    "                          WITplots.water, \n",
    "                          WITplots.wet, \n",
    "                          WITplots.green, \n",
    "                          WITplots.dry,\n",
    "                          WITplots.bare,\n",
    "                          labels=['water',\n",
    "                                  'wet',\n",
    "                                  'green veg',\n",
    "                                  'dry veg',\n",
    "                                  'bare soil',\n",
    "                                 ], colors=pal, alpha = 0.6)\n",
    "\n",
    "\n",
    "            #set axis limits to the min and max\n",
    "            plt.axis(xmin = WITplots.water.time[0].data, xmax = WITplots.water.time[-1].data, ymin = 0, ymax = 100)\n",
    "\n",
    "            #add a legend and a tight plot box\n",
    "            plt.legend(loc='lower left', framealpha=0.6)\n",
    "            #plt.tight_layout()\n",
    "\n",
    "            #create rectangle borders for no-data times (SLC-off only)\n",
    "            LS5_8_gap_start = datetime(2011,11,1)\n",
    "            LS5_8_gap_end = datetime(2013,4,1)\n",
    "\n",
    "            # convert to matplotlib date representation\n",
    "            gap_start = mdates.date2num(LS5_8_gap_start)\n",
    "            gap_end = mdates.date2num(LS5_8_gap_end)\n",
    "            gap = gap_end - gap_start\n",
    "\n",
    "\n",
    "            #set date ticks every year\n",
    "            #years = mdates.YearLocator(2)\n",
    "            #yearsFmt = mdates.DateFormatter('%Y')\n",
    "            ax = plt.gca()\n",
    "            #ax.xaxis.set_major_locator(years)\n",
    "            #ax.xaxis.set_major_formatter(yearsFmt)\n",
    "            #ax.yaxis.set_ticks(np.arange(0,110,10))\n",
    "            ax.set_xlabel(f'The Fractional Cover algorithm developed by the Joint Remote'\n",
    "            f' Sensing Research Program and \\n the Water Observations from Space algorithm '\n",
    "            f'developed by Geoscience Australia are used in the production of this data',style='italic')\n",
    "\n",
    "\n",
    "            #set up rectangle\n",
    "            slc_rectangle= Rectangle((gap_start,0), gap, 100,alpha = 0.5, facecolor=sns.xkcd_rgb['white'],\n",
    "                         edgecolor=sns.xkcd_rgb['white'], hatch=\"////\",linewidth=2)\n",
    "            ax.add_patch(slc_rectangle)\n",
    "            fig.autofmt_xdate()\n",
    "\n",
    "\n",
    "            polyname=polyname.replace(\"'\",\"\\\\'\")\n",
    "            title=ax.set_title(\"\\n\".join(wrap(f'Percentage of area WOfS, Wetness, Fractional Cover for {polyname}')))\n",
    "            fig.tight_layout()\n",
    "            title.set_y(1.05)\n",
    "\n",
    "            #save the figure\n",
    "            plt.savefig(f'{Output_dir}{polyname}.png')#, transparent=True)\n",
    "            plt.show()\n",
    "            print(f'plot created for {polyname}')\n",
    "\n",
    "            #save a csv for the polygon\n",
    "            WITcsvs= WITplots.to_dataframe().round(2) #turn the xarray into a pandas dataframe and then into a csv!\n",
    "            WITcsvs.to_csv(f'{Output_dir}{polyname}.csv')\n",
    "            print(f'wrote output data to file {Output_dir}{polyname}.csv')            "
   ]
  }
 ],
 "metadata": {
  "kernelspec": {
   "display_name": "Python 3",
   "language": "python",
   "name": "python3"
  },
  "language_info": {
   "codemirror_mode": {
    "name": "ipython",
    "version": 3
   },
   "file_extension": ".py",
   "mimetype": "text/x-python",
   "name": "python",
   "nbconvert_exporter": "python",
   "pygments_lexer": "ipython3",
   "version": "3.6.7"
  }
 },
 "nbformat": 4,
 "nbformat_minor": 4
}
