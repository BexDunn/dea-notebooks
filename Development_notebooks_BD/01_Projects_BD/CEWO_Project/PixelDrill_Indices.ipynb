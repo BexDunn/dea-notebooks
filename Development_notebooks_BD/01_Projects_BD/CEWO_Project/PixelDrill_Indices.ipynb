{
 "cells": [
  {
   "cell_type": "markdown",
   "metadata": {},
   "source": [
    "# Pixel Drill for Indices outputs to CSV"
   ]
  },
  {
   "cell_type": "markdown",
   "metadata": {},
   "source": [
    "| Authors:  | Bex Dunn|\n",
    "|----------|----------------|\n",
    "| Created: | March 6, 2019 |\n",
    "| Last edited: | March 6, 2019 |\n",
    "\n",
    "**Requirements:**\n",
    "\n",
    "You need to run the following commands from the command line prior to launching jupyter notebooks from the same terminal so that the required libraries and paths are set:\n",
    "\n",
    "`module use /g/data/v10/public/modules/modulefiles` \n",
    "\n",
    "`module load dea`\n",
    "\n",
    "If you find an error or bug in this notebook, please either create an 'Issue' in the Github repository, or fix it yourself and create a 'Pull' request to contribute the updated notebook back into the repository (See the repository [README](https://github.com/GeoscienceAustralia/dea-notebooks/blob/master/README.rst) for instructions on creating a Pull request).\n",
    "\n",
    "__Background:__ Data from the [Landsat](https://landsat.usgs.gov/about-landsat) 5,7 and 8 satellite missions are accessible through [Digital Earth Australia](http://www.ga.gov.au/about/projects/geographic/digital-earth-australia) (DEA).\n",
    "\n",
    "__What does this notebook do?:__ This notebook takes a supplied CSV of site points. It runs a pixel drill through surface reflectance, calculates NDVI, Taselled cap wetness and greenness, and outputs a csv of values for each site."
   ]
  },
  {
   "cell_type": "raw",
   "metadata": {},
   "source": [
    "**Tags**: :index:`Landsat`,:index:`Landsat5`,:index:`Landsat7`,:index:`Landsat8`, :index:`pixeldrill`, :index:`DEAPlotting`, :index:`datacube.utils.geometry`, :index:`query`,:index:`Scripts`,:index:`tasseled_cap`, :index:`NDVI`, :index:`csv`, :index:`csv to geopandas` , :index:`lambda`, :index:`to_csv`:index:`from_csv`,                                                                                                          :index:`DEADataHandling`, :index:`DEAPlotting`, :index:`load_clearlandsat`"
   ]
  },
  {
   "cell_type": "markdown",
   "metadata": {},
   "source": [
    "import some modules"
   ]
  },
  {
   "cell_type": "code",
   "execution_count": 1,
   "metadata": {},
   "outputs": [],
   "source": [
    "import datacube\n",
    "import datetime\n",
    "import fiona\n",
    "import geopandas as gpd\n",
    "import numpy as np\n",
    "import pandas as pd\n",
    "import rasterio.mask\n",
    "import rasterio.features\n",
    "import shapely\n",
    "import seaborn as sns\n",
    "import sys\n",
    "import xarray as xr\n",
    "\n",
    "import matplotlib.dates as mdates\n",
    "import matplotlib.gridspec as gridspec\n",
    "import matplotlib.pyplot as plt\n",
    "\n",
    "from datacube.storage import masking\n",
    "from datacube.utils import geometry\n",
    "\n",
    "sys.path.append('../10_Scripts')\n",
    "import DEADataHandling, DEAPlotting, TasseledCapTools, BandIndices\n",
    "\n",
    "dc = datacube.Datacube(app='pixel drill')\n",
    "\n",
    "%load_ext autoreload\n",
    "\n",
    "%autoreload 2"
   ]
  },
  {
   "cell_type": "markdown",
   "metadata": {},
   "source": [
    "### set up file to open "
   ]
  },
  {
   "cell_type": "code",
   "execution_count": 2,
   "metadata": {},
   "outputs": [],
   "source": [
    "inpath = '/g/data/r78/rjd547/LTIM_veg_monitoring/LTIM vegetation monitoring sites.csv'"
   ]
  },
  {
   "cell_type": "markdown",
   "metadata": {},
   "source": [
    "### Convert csv latitude and longitude values into a geopandas geodatafrome"
   ]
  },
  {
   "cell_type": "code",
   "execution_count": 3,
   "metadata": {},
   "outputs": [],
   "source": [
    "veg_sites = pd.read_csv(inpath, delimiter=\",\")\n",
    "#turn csv geometry into geopandas dataframe geometry using lambda functions and shapely\n",
    "veg_sites['geometry']=veg_sites.apply(lambda z: shapely.geometry.Point(z.LATITUDE, z.LONGITUDE), axis=1)\n",
    "veg_sites = gpd.GeoDataFrame(veg_sites)"
   ]
  },
  {
   "cell_type": "code",
   "execution_count": 4,
   "metadata": {},
   "outputs": [],
   "source": [
    "#define an output location\n",
    "output_loc = '/g/data/r78/rjd547/LTIM_veg_monitoring/'"
   ]
  },
  {
   "cell_type": "code",
   "execution_count": 5,
   "metadata": {},
   "outputs": [
    {
     "data": {
      "text/html": [
       "<div>\n",
       "<style scoped>\n",
       "    .dataframe tbody tr th:only-of-type {\n",
       "        vertical-align: middle;\n",
       "    }\n",
       "\n",
       "    .dataframe tbody tr th {\n",
       "        vertical-align: top;\n",
       "    }\n",
       "\n",
       "    .dataframe thead th {\n",
       "        text-align: right;\n",
       "    }\n",
       "</style>\n",
       "<table border=\"1\" class=\"dataframe\">\n",
       "  <thead>\n",
       "    <tr style=\"text-align: right;\">\n",
       "      <th></th>\n",
       "      <th>PROGRAM</th>\n",
       "      <th>NAME</th>\n",
       "      <th>DESCRIPTION</th>\n",
       "      <th>LONGITUDE</th>\n",
       "      <th>LATITUDE</th>\n",
       "      <th>Data collected</th>\n",
       "      <th>sampling dates 2014</th>\n",
       "      <th>sampling dates 2015</th>\n",
       "      <th>sampling dates 2016</th>\n",
       "      <th>sampling dates 2017</th>\n",
       "      <th>sampling dates 2018</th>\n",
       "      <th>geometry</th>\n",
       "    </tr>\n",
       "  </thead>\n",
       "  <tbody>\n",
       "    <tr>\n",
       "      <th>0</th>\n",
       "      <td>,Gwydir River System,</td>\n",
       "      <td>GWY_MUNG1</td>\n",
       "      <td>Mungwonga 1</td>\n",
       "      <td>149.292034</td>\n",
       "      <td>-29.233837</td>\n",
       "      <td>veg community structure, Veg Abundance,</td>\n",
       "      <td>18/11/2014</td>\n",
       "      <td>12/03/2015\\n15/10/2015\\n</td>\n",
       "      <td>14/03/2016\\n28/10/2016\\n</td>\n",
       "      <td>6/03/2017</td>\n",
       "      <td>NaN</td>\n",
       "      <td>POINT (-29.23383652 149.292034)</td>\n",
       "    </tr>\n",
       "    <tr>\n",
       "      <th>1</th>\n",
       "      <td>,Gwydir River System,</td>\n",
       "      <td>GWY_ODB1</td>\n",
       "      <td>Old Dromana Bolboshc</td>\n",
       "      <td>149.299029</td>\n",
       "      <td>-29.341779</td>\n",
       "      <td>veg community structure, Veg Abundance,</td>\n",
       "      <td>NaN</td>\n",
       "      <td>NaN</td>\n",
       "      <td>NaN</td>\n",
       "      <td>NaN</td>\n",
       "      <td>NaN</td>\n",
       "      <td>POINT (-29.34177914 149.299029)</td>\n",
       "    </tr>\n",
       "  </tbody>\n",
       "</table>\n",
       "</div>"
      ],
      "text/plain": [
       "                 PROGRAM       NAME           DESCRIPTION   LONGITUDE  \\\n",
       "0  ,Gwydir River System,  GWY_MUNG1           Mungwonga 1  149.292034   \n",
       "1  ,Gwydir River System,   GWY_ODB1  Old Dromana Bolboshc  149.299029   \n",
       "\n",
       "    LATITUDE                            Data collected sampling dates 2014  \\\n",
       "0 -29.233837  veg community structure, Veg Abundance,           18/11/2014   \n",
       "1 -29.341779  veg community structure, Veg Abundance,                  NaN   \n",
       "\n",
       "        sampling dates 2015       sampling dates 2016 sampling dates 2017  \\\n",
       "0  12/03/2015\\n15/10/2015\\n  14/03/2016\\n28/10/2016\\n           6/03/2017   \n",
       "1                       NaN                       NaN                 NaN   \n",
       "\n",
       "  sampling dates 2018                         geometry  \n",
       "0                 NaN  POINT (-29.23383652 149.292034)  \n",
       "1                 NaN  POINT (-29.34177914 149.299029)  "
      ]
     },
     "execution_count": 5,
     "metadata": {},
     "output_type": "execute_result"
    }
   ],
   "source": [
    "veg_sites.head(2)"
   ]
  },
  {
   "cell_type": "markdown",
   "metadata": {},
   "source": [
    "### use a test index to try running this for only one site"
   ]
  },
  {
   "cell_type": "code",
   "execution_count": 6,
   "metadata": {},
   "outputs": [],
   "source": [
    "test_index=0"
   ]
  },
  {
   "cell_type": "markdown",
   "metadata": {},
   "source": [
    "### use index of site to get query information"
   ]
  },
  {
   "cell_type": "code",
   "execution_count": 7,
   "metadata": {},
   "outputs": [],
   "source": [
    "query = {'lat':(veg_sites['LATITUDE'][test_index]), \n",
    "         'lon':(veg_sites['LONGITUDE'][test_index])}               "
   ]
  },
  {
   "cell_type": "markdown",
   "metadata": {},
   "source": [
    "### get name of site from heading of column"
   ]
  },
  {
   "cell_type": "code",
   "execution_count": 8,
   "metadata": {},
   "outputs": [
    {
     "name": "stdout",
     "output_type": "stream",
     "text": [
      "GWY_MUNG1\n"
     ]
    }
   ],
   "source": [
    "Veg_Site = '_'.join(veg_sites['NAME'][test_index].split(' '))\n",
    "print(Veg_Site)"
   ]
  },
  {
   "cell_type": "code",
   "execution_count": 9,
   "metadata": {},
   "outputs": [
    {
     "name": "stdout",
     "output_type": "stream",
     "text": [
      "/g/data/r78/rjd547/LTIM_veg_monitoring/GWY_MUNG1.csv\n"
     ]
    }
   ],
   "source": [
    "outfilename=output_loc+Veg_Site+'.csv'\n",
    "print (outfilename)"
   ]
  },
  {
   "cell_type": "code",
   "execution_count": 10,
   "metadata": {},
   "outputs": [
    {
     "name": "stdout",
     "output_type": "stream",
     "text": [
      "Loading ls5\n",
      "    Loading 338 filtered ls5 timesteps\n",
      "Loading ls7\n",
      "    Ignoring SLC-off observations for ls7\n",
      "    Loading 73 filtered ls7 timesteps\n",
      "Loading ls8\n",
      "    Loading 131 filtered ls8 timesteps\n",
      "Combining and sorting ls5, ls7, ls8 data\n",
      "    Replacing invalid -999 values with NaN (data will be coerced to float64)\n"
     ]
    }
   ],
   "source": [
    "ls578 = DEADataHandling.load_clearlandsat(dc=dc, query=query, product='nbart')"
   ]
  },
  {
   "cell_type": "markdown",
   "metadata": {},
   "source": [
    "### Calculate NDVI "
   ]
  },
  {
   "cell_type": "markdown",
   "metadata": {},
   "source": [
    "### Calculate the tasseled cap indices"
   ]
  },
  {
   "cell_type": "code",
   "execution_count": 11,
   "metadata": {},
   "outputs": [],
   "source": [
    "#transform the nbart into tci - we want unthresholded, which is why we set drop_tci_bands to False\n",
    "tci = TasseledCapTools.thresholded_tasseled_cap(ls578,wetness_threshold=-350, drop=True , drop_tc_bands=False)"
   ]
  },
  {
   "cell_type": "code",
   "execution_count": 12,
   "metadata": {},
   "outputs": [],
   "source": [
    "tcw = tci.wetness\n",
    "tcg = tci.greenness"
   ]
  },
  {
   "cell_type": "code",
   "execution_count": 13,
   "metadata": {},
   "outputs": [
    {
     "name": "stdout",
     "output_type": "stream",
     "text": [
      "The formula we are using is (nir - red)/(nir + red)\n"
     ]
    }
   ],
   "source": [
    "ndvi = BandIndices.calculate_indices(ls578, index='NDVI')"
   ]
  },
  {
   "cell_type": "markdown",
   "metadata": {},
   "source": [
    "create and fill pandas dataframe to write to csv"
   ]
  },
  {
   "cell_type": "code",
   "execution_count": 14,
   "metadata": {},
   "outputs": [],
   "source": [
    "#drop dimensions of length 1\n",
    "ndvi = ndvi.squeeze('x')\n",
    "ndvi = ndvi.squeeze('y')"
   ]
  },
  {
   "cell_type": "code",
   "execution_count": 15,
   "metadata": {},
   "outputs": [],
   "source": [
    "#make a new dataframe using the data from the xarray of ndvi\n",
    "NDVI = pd.DataFrame(data=ndvi.data, index=ndvi.time,columns=['ndvi'])"
   ]
  },
  {
   "cell_type": "code",
   "execution_count": 16,
   "metadata": {},
   "outputs": [],
   "source": [
    "#rename the dataframe so that we can add the other indexes\n",
    "INDICIES=NDVI"
   ]
  },
  {
   "cell_type": "code",
   "execution_count": 17,
   "metadata": {},
   "outputs": [],
   "source": [
    "#again drop dims\n",
    "TCW = tcw.squeeze().data\n",
    "TCG = tcg.squeeze().data"
   ]
  },
  {
   "cell_type": "code",
   "execution_count": 18,
   "metadata": {},
   "outputs": [],
   "source": [
    "# set up final dataframe to write to file 'INDICES'"
   ]
  },
  {
   "cell_type": "code",
   "execution_count": 19,
   "metadata": {},
   "outputs": [],
   "source": [
    "INDICIES['tcw']=TCW\n",
    "INDICIES['tcg']=TCG\n",
    "#we have some values where the pixel is cloudy. Drop these values\n",
    "INDICIES = INDICIES.dropna(axis='index', thresh =2)"
   ]
  },
  {
   "cell_type": "code",
   "execution_count": 20,
   "metadata": {},
   "outputs": [],
   "source": [
    "INDICIES.to_csv(outfilename)"
   ]
  },
  {
   "cell_type": "code",
   "execution_count": 21,
   "metadata": {},
   "outputs": [
    {
     "data": {
      "text/html": [
       "<div>\n",
       "<style scoped>\n",
       "    .dataframe tbody tr th:only-of-type {\n",
       "        vertical-align: middle;\n",
       "    }\n",
       "\n",
       "    .dataframe tbody tr th {\n",
       "        vertical-align: top;\n",
       "    }\n",
       "\n",
       "    .dataframe thead th {\n",
       "        text-align: right;\n",
       "    }\n",
       "</style>\n",
       "<table border=\"1\" class=\"dataframe\">\n",
       "  <thead>\n",
       "    <tr style=\"text-align: right;\">\n",
       "      <th></th>\n",
       "      <th>ndvi</th>\n",
       "      <th>tcw</th>\n",
       "      <th>tcg</th>\n",
       "    </tr>\n",
       "    <tr>\n",
       "      <th>time</th>\n",
       "      <th></th>\n",
       "      <th></th>\n",
       "      <th></th>\n",
       "    </tr>\n",
       "  </thead>\n",
       "  <tbody>\n",
       "    <tr>\n",
       "      <th>1986-08-21 23:16:16.500</th>\n",
       "      <td>0.282067</td>\n",
       "      <td>-3263.1508</td>\n",
       "      <td>276.9573</td>\n",
       "    </tr>\n",
       "    <tr>\n",
       "      <th>1987-09-09 23:21:35.500</th>\n",
       "      <td>0.488089</td>\n",
       "      <td>-2548.1117</td>\n",
       "      <td>1033.1784</td>\n",
       "    </tr>\n",
       "    <tr>\n",
       "      <th>1987-09-25 23:21:58.000</th>\n",
       "      <td>0.428260</td>\n",
       "      <td>-2480.8821</td>\n",
       "      <td>884.0466</td>\n",
       "    </tr>\n",
       "    <tr>\n",
       "      <th>1987-10-11 23:22:17.000</th>\n",
       "      <td>0.407141</td>\n",
       "      <td>-3039.4717</td>\n",
       "      <td>766.4563</td>\n",
       "    </tr>\n",
       "    <tr>\n",
       "      <th>1987-11-28 23:23:11.000</th>\n",
       "      <td>0.267192</td>\n",
       "      <td>-2302.3268</td>\n",
       "      <td>401.8017</td>\n",
       "    </tr>\n",
       "  </tbody>\n",
       "</table>\n",
       "</div>"
      ],
      "text/plain": [
       "                             ndvi        tcw        tcg\n",
       "time                                                   \n",
       "1986-08-21 23:16:16.500  0.282067 -3263.1508   276.9573\n",
       "1987-09-09 23:21:35.500  0.488089 -2548.1117  1033.1784\n",
       "1987-09-25 23:21:58.000  0.428260 -2480.8821   884.0466\n",
       "1987-10-11 23:22:17.000  0.407141 -3039.4717   766.4563\n",
       "1987-11-28 23:23:11.000  0.267192 -2302.3268   401.8017"
      ]
     },
     "execution_count": 21,
     "metadata": {},
     "output_type": "execute_result"
    }
   ],
   "source": [
    "INDICIES.head()"
   ]
  },
  {
   "cell_type": "code",
   "execution_count": null,
   "metadata": {},
   "outputs": [],
   "source": []
  }
 ],
 "metadata": {
  "kernelspec": {
   "display_name": "Python [default]",
   "language": "python",
   "name": "python3"
  },
  "language_info": {
   "codemirror_mode": {
    "name": "ipython",
    "version": 3
   },
   "file_extension": ".py",
   "mimetype": "text/x-python",
   "name": "python",
   "nbconvert_exporter": "python",
   "pygments_lexer": "ipython3",
   "version": "3.6.6"
  }
 },
 "nbformat": 4,
 "nbformat_minor": 2
}
