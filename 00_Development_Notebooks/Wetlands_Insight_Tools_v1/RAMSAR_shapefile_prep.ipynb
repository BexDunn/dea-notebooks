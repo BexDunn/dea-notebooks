{
 "cells": [
  {
   "cell_type": "code",
   "execution_count": 1,
   "metadata": {},
   "outputs": [],
   "source": [
    "# #!/usr/bin/python\n",
    "\n",
    "\n",
    "# | Authors:  | Bex Dunn|\n",
    "# |----------|----------------|\n",
    "# | Created: | Jan 7, 2019 |\n",
    "# | Last edited: | Jan 22,2019 |\n",
    "\n",
    "\n",
    "#  Before running this script load these modules:\n",
    "# `module use /g/data/v10/public/modules/modulefiles` \n",
    "# `module load dea`\n",
    "# This code is designed to run on raijin, on the Australian NCI. \n",
    "# The shell script to run this code has a *.sh extension\n",
    "\n",
    "\n",
    "# If you find an error in this code, please raise an issue at https://github.com/GeoscienceAustralia/dea-notebooks\n",
    "# \n",
    "# This code is just preparing the shapefile for the wetlands polygon drill over the RAMSAR wetlands\n",
    "\n",
    "import csv\n",
    "import multiprocessing as mp\n",
    "\n",
    "#$#$#$#$#$\n",
    "\n",
    "import datacube\n",
    "import datetime\n",
    "import fiona\n",
    "import geopandas as gpd\n",
    "from math import ceil\n",
    "import numpy as np\n",
    "import pandas as pd\n",
    "import rasterio.mask\n",
    "import rasterio.features\n",
    "from shapely import geometry\n",
    "import seaborn as sns\n",
    "import sys\n",
    "import time\n",
    "import xarray as xr\n",
    "\n",
    "#keep the plotting modules in here as we want to output the stackplots to *.jpg\n",
    "import matplotlib.dates as mdates\n",
    "import matplotlib.gridspec as gridspec\n",
    "import matplotlib.pyplot as plt\n",
    "\n",
    "from datacube.storage import masking\n",
    "from datacube.utils import geometry\n",
    "\n",
    "#append path to dea notebooks scripts to the system so we can access it\n",
    "sys.path.append('/g/data/r78/rjd547/jupyter_notebooks/dea-notebooks/10_Scripts')\n",
    "import DEADataHandling, DEAPlotting, TasseledCapTools\n",
    "\n",
    "# setup the datacube \n",
    "dc = datacube.Datacube(app='asset drill')"
   ]
  },
  {
   "cell_type": "code",
   "execution_count": 3,
   "metadata": {},
   "outputs": [
    {
     "name": "stdout",
     "output_type": "stream",
     "text": [
      "input shape file is /g/data/r78/rjd547/Ramsar_Wetlands/ramsar2015_1.shp\n"
     ]
    }
   ],
   "source": [
    "### Set up polygon\n",
    "poly_path='/g/data/r78/rjd547/Ramsar_Wetlands/ramsar2015_1.shp'\n",
    "print(f'input shape file is {poly_path}')"
   ]
  },
  {
   "cell_type": "code",
   "execution_count": 7,
   "metadata": {},
   "outputs": [],
   "source": [
    "global Output_dir\n",
    "Output_dir = '/g/data/r78/rjd547/Ramsar_Wetlands/'"
   ]
  },
  {
   "cell_type": "markdown",
   "metadata": {},
   "source": [
    "### Get our MultiPolygon"
   ]
  },
  {
   "cell_type": "code",
   "execution_count": 9,
   "metadata": {},
   "outputs": [],
   "source": [
    "# use geopandas to read in the MultiPolygon\n",
    "RAMSARPolygons = gpd.read_file(poly_path)"
   ]
  },
  {
   "cell_type": "code",
   "execution_count": 14,
   "metadata": {},
   "outputs": [],
   "source": [
    "# `Explode` the multipolygon back out into individual polygons\n",
    "ExplodedRAMSAR = RAMSARPolygons.explode()"
   ]
  },
  {
   "cell_type": "code",
   "execution_count": 16,
   "metadata": {},
   "outputs": [
    {
     "data": {
      "text/plain": [
       "270"
      ]
     },
     "execution_count": 16,
     "metadata": {},
     "output_type": "execute_result"
    }
   ],
   "source": [
    "len(ExplodedRAMSAR)"
   ]
  },
  {
   "cell_type": "code",
   "execution_count": 17,
   "metadata": {},
   "outputs": [
    {
     "data": {
      "text/plain": [
       "110"
      ]
     },
     "execution_count": 17,
     "metadata": {},
     "output_type": "execute_result"
    }
   ],
   "source": [
    "len(RAMSARPolygons)"
   ]
  },
  {
   "cell_type": "code",
   "execution_count": 18,
   "metadata": {},
   "outputs": [],
   "source": [
    "ExplodedRAMSAR.to_file(Output_dir+'ExplodedRAMSAR.shp')"
   ]
  }
 ],
 "metadata": {
  "kernelspec": {
   "display_name": "Python [default]",
   "language": "python",
   "name": "python3"
  },
  "language_info": {
   "codemirror_mode": {
    "name": "ipython",
    "version": 3
   },
   "file_extension": ".py",
   "mimetype": "text/x-python",
   "name": "python",
   "nbconvert_exporter": "python",
   "pygments_lexer": "ipython3",
   "version": "3.6.6"
  }
 },
 "nbformat": 4,
 "nbformat_minor": 2
}
