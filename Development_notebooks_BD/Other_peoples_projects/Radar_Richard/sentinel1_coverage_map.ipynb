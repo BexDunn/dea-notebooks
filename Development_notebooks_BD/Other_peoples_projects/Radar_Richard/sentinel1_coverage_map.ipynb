{
 "cells": [
  {
   "cell_type": "code",
   "execution_count": 1,
   "metadata": {},
   "outputs": [],
   "source": [
    "from IPython.display import display\n",
    "import ipyleaflet as L\n",
    "from ipywidgets import widgets as w\n",
    "import numpy as np\n",
    "\n",
    "from datacube import Datacube\n",
    "\n",
    "from odc.ui import show_datasets, mk_image_overlay, with_ui_cbk"
   ]
  },
  {
   "cell_type": "code",
   "execution_count": 2,
   "metadata": {},
   "outputs": [],
   "source": [
    "#Sentinel-1 datacube\n",
    "dc = Datacube(config='radar.conf')\n",
    "\n",
    "#query for the relevant product\n",
    "query = {'lat' : (-44,-9),\n",
    "         'long' : (112,154),\n",
    "         'time': ('2016-09-01','2019-07-01'),\n",
    "         'product' : 's1_gamma0_scene_v2',\n",
    "         'group_by' : 'solar_day',\n",
    "         'output_crs' : 'EPSG:3577',\n",
    "         'resolution' : (25,25)\n",
    "        }\n",
    "\n",
    "dss=dc.find_datasets(**query)\n",
    "\n"
   ]
  },
  {
   "cell_type": "code",
   "execution_count": 22,
   "metadata": {},
   "outputs": [],
   "source": [
    "gj = show_datasets(dss,\n",
    "                  style={'opacity': 0.3, 'fillOpacity': 0},\n",
    "                  width='600px', \n",
    "                  height='600px', \n",
    "                  scroll_wheel_zoom=True,\n",
    "                  mode='geojson')"
   ]
  },
  {
   "cell_type": "code",
   "execution_count": 23,
   "metadata": {},
   "outputs": [],
   "source": [
    "from datacube.utils import geometry\n",
    "from datacube.testutils.geom import epsg4326"
   ]
  },
  {
   "cell_type": "code",
   "execution_count": 81,
   "metadata": {},
   "outputs": [],
   "source": [
    "geoms = [geometry.Geometry(poly,epsg4326) for poly in gj.data]\n",
    "overall_coverage_geom = geometry.unary_union(geoms)\n",
    "\n",
    "#map the overall coverage from this query\n",
    "m = L.Map(center=(-30,133),zoom=3)\n",
    "layer_data = overall_coverage_geom.__geo_interface__\n",
    "gj_layer = L.GeoJSON(data=layer_data)\n",
    "m.add_layer(gj_layer)\n"
   ]
  },
  {
   "cell_type": "code",
   "execution_count": 62,
   "metadata": {},
   "outputs": [
    {
     "data": {
      "application/vnd.jupyter.widget-view+json": {
       "model_id": "2f572a28aed5468489c51a5b73843221",
       "version_major": 2,
       "version_minor": 0
      },
      "text/plain": [
       "Map(basemap={'url': 'https://{s}.tile.openstreetmap.org/{z}/{x}/{y}.png', 'max_zoom': 19, 'attribution': 'Map …"
      ]
     },
     "metadata": {},
     "output_type": "display_data"
    }
   ],
   "source": [
    "display(m)"
   ]
  },
  {
   "cell_type": "code",
   "execution_count": 92,
   "metadata": {},
   "outputs": [],
   "source": [
    "import fiona\n",
    "\n",
    "#open the shapefile with all the Ramsar wetlands\n",
    "shp_path = 'ramsar_wetlands.shp'\n",
    "shapes = fiona.open(shp_path,'r')\n",
    "\n",
    "crs = geometry.CRS(shapes.crs_wkt)\n",
    "\n",
    "geoms = [geometry.Geometry(shape['geometry'],crs=crs).to_crs(epsg4326) for shape in shapes]\n",
    "int_geoms = [geometry.unary_intersection([overall_coverage_geom,shape]) for shape in geoms]\n",
    "#this is a hack because 7 is the type of an empty geometry but isn't mapped to anything in\n",
    "#Geometry's internal dictionary of what the types mean\n",
    "empty_list = [g._geom.GetGeometryType()==7 for g in int_geoms]\n",
    "int_geoms = [shape for i,shape in enumerate(int_geoms) if not empty_list[i]]\n",
    "int_geom = geometry.unary_union(int_geoms)"
   ]
  },
  {
   "cell_type": "code",
   "execution_count": 93,
   "metadata": {},
   "outputs": [],
   "source": [
    "#map the overall coverage from this query\n",
    "m = L.Map(center=(-30,133),zoom=3)\n",
    "layer_data = int_geom.__geo_interface__\n",
    "gj_layer = L.GeoJSON(data=layer_data)\n",
    "m.add_layer(gj_layer)\n"
   ]
  },
  {
   "cell_type": "code",
   "execution_count": 94,
   "metadata": {},
   "outputs": [
    {
     "data": {
      "application/vnd.jupyter.widget-view+json": {
       "model_id": "75dcabb568604a55aebd8084662d20be",
       "version_major": 2,
       "version_minor": 0
      },
      "text/plain": [
       "Map(basemap={'url': 'https://{s}.tile.openstreetmap.org/{z}/{x}/{y}.png', 'max_zoom': 19, 'attribution': 'Map …"
      ]
     },
     "metadata": {},
     "output_type": "display_data"
    }
   ],
   "source": [
    "display(m)"
   ]
  },
  {
   "cell_type": "code",
   "execution_count": null,
   "metadata": {},
   "outputs": [],
   "source": []
  }
 ],
 "metadata": {
  "kernelspec": {
   "display_name": "Python 3",
   "language": "python",
   "name": "python3"
  },
  "language_info": {
   "codemirror_mode": {
    "name": "ipython",
    "version": 3
   },
   "file_extension": ".py",
   "mimetype": "text/x-python",
   "name": "python",
   "nbconvert_exporter": "python",
   "pygments_lexer": "ipython3",
   "version": "3.6.7"
  }
 },
 "nbformat": 4,
 "nbformat_minor": 2
}
