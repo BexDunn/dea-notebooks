{
 "cells": [
  {
   "cell_type": "markdown",
   "metadata": {},
   "source": [
    "# Wetland Metrics Calculation Notebook v1_0"
   ]
  },
  {
   "cell_type": "markdown",
   "metadata": {},
   "source": [
    "This notebook is the first pass at using the outputs of the Wetlands Insight Tool to calculate metrics including:\n",
    "\n",
    " |Metrics | Equations |\n",
    " |------- | --- |\n",
    "| Permanence  | % of time |\n",
    "|%of time dominated by water |\n",
    "| % of time dominated by wet veg | \n",
    "|Commence to fill * |\n",
    "|Number of years in which 'wet = true' at any point |\n",
    "|Number of years in which 'wet AND dry = true' at any points |\n",
    "|Total number of years |\n",
    "| Is there a refugial pool/constant water signal |\n",
    "\n",
    "\n",
    "What are the rules for combining these numbers to differentiate perennial, ephemeral, seasonal\n",
    "*Need an increase by more than something followed by a continuation of more than x periods\n",
    "https://docs.google.com/spreadsheets/d/1neV8biSmtmhEgZlhOglNAEfbcV1EshroPLUa6Bj7t0o/edit#gid=0"
   ]
  },
  {
   "cell_type": "markdown",
   "metadata": {},
   "source": [
    "Pseudocode:"
   ]
  },
  {
   "cell_type": "code",
   "execution_count": 8,
   "metadata": {},
   "outputs": [
    {
     "name": "stdout",
     "output_type": "stream",
     "text": [
      "The autoreload extension is already loaded. To reload it, use:\n",
      "  %reload_ext autoreload\n"
     ]
    }
   ],
   "source": [
    "## Import some packages\n",
    "import datacube\n",
    "import os\n",
    "import pandas as pd\n",
    "import sys\n",
    "#import xarray as xr\n",
    "\n",
    "sys.path.append('../../10_Scripts')\n",
    "#import DEADataHandling, DEAPlotting, TasseledCapTools, BandIndices\n",
    "\n",
    "\n",
    "dc = datacube.Datacube(app='pixel drill')\n",
    "\n",
    "%load_ext autoreload\n",
    "\n",
    "%autoreload 2"
   ]
  },
  {
   "cell_type": "markdown",
   "metadata": {},
   "source": [
    "### Set up paths to data"
   ]
  },
  {
   "cell_type": "code",
   "execution_count": 6,
   "metadata": {},
   "outputs": [],
   "source": [
    "# just starting with a simple csv input here\n",
    "infile = '/g/data/r78/rjd547/DES-QLD_Project/pal_1/9999_DIAMANTINA_RIVER_12c.csv'"
   ]
  },
  {
   "cell_type": "markdown",
   "metadata": {},
   "source": [
    "## Load in the csv from the Wetlands Insight Tool"
   ]
  },
  {
   "cell_type": "code",
   "execution_count": 7,
   "metadata": {},
   "outputs": [
    {
     "name": "stdout",
     "output_type": "stream",
     "text": [
      "/g/data/r78/rjd547/DES-QLD_Project/pal_1/9999_DIAMANTINA_RIVER_12c.csv\n"
     ]
    }
   ],
   "source": [
    "print (infile)"
   ]
  },
  {
   "cell_type": "code",
   "execution_count": 60,
   "metadata": {},
   "outputs": [],
   "source": [
    "#use pandas to take a look at the file\n",
    "in_df = pd.read_csv(infile, index_col=0,parse_dates=True, infer_datetime_format=True)"
   ]
  },
  {
   "cell_type": "code",
   "execution_count": 61,
   "metadata": {},
   "outputs": [
    {
     "data": {
      "text/html": [
       "<div>\n",
       "<style scoped>\n",
       "    .dataframe tbody tr th:only-of-type {\n",
       "        vertical-align: middle;\n",
       "    }\n",
       "\n",
       "    .dataframe tbody tr th {\n",
       "        vertical-align: top;\n",
       "    }\n",
       "\n",
       "    .dataframe thead th {\n",
       "        text-align: right;\n",
       "    }\n",
       "</style>\n",
       "<table border=\"1\" class=\"dataframe\">\n",
       "  <thead>\n",
       "    <tr style=\"text-align: right;\">\n",
       "      <th></th>\n",
       "      <th>wofs_area_percent</th>\n",
       "      <th>wet_percent</th>\n",
       "      <th>green_veg_percent</th>\n",
       "      <th>dry_veg_percent</th>\n",
       "      <th>bare_soil_percent</th>\n",
       "    </tr>\n",
       "  </thead>\n",
       "  <tbody>\n",
       "    <tr>\n",
       "      <td>1987-05-22 00:01:19.500</td>\n",
       "      <td>0.0</td>\n",
       "      <td>0.0</td>\n",
       "      <td>0.0</td>\n",
       "      <td>25.0</td>\n",
       "      <td>75.0</td>\n",
       "    </tr>\n",
       "    <tr>\n",
       "      <td>1987-09-11 00:04:05.500</td>\n",
       "      <td>0.0</td>\n",
       "      <td>0.0</td>\n",
       "      <td>0.0</td>\n",
       "      <td>25.0</td>\n",
       "      <td>75.0</td>\n",
       "    </tr>\n",
       "    <tr>\n",
       "      <td>1987-09-27 00:04:27.500</td>\n",
       "      <td>0.0</td>\n",
       "      <td>0.0</td>\n",
       "      <td>0.0</td>\n",
       "      <td>25.0</td>\n",
       "      <td>75.0</td>\n",
       "    </tr>\n",
       "    <tr>\n",
       "      <td>1987-11-30 00:05:39.500</td>\n",
       "      <td>0.0</td>\n",
       "      <td>0.0</td>\n",
       "      <td>0.0</td>\n",
       "      <td>0.0</td>\n",
       "      <td>100.0</td>\n",
       "    </tr>\n",
       "    <tr>\n",
       "      <td>1988-01-17 00:06:26.500</td>\n",
       "      <td>0.0</td>\n",
       "      <td>0.0</td>\n",
       "      <td>0.0</td>\n",
       "      <td>25.0</td>\n",
       "      <td>75.0</td>\n",
       "    </tr>\n",
       "  </tbody>\n",
       "</table>\n",
       "</div>"
      ],
      "text/plain": [
       "                         wofs_area_percent  wet_percent  green_veg_percent  \\\n",
       "1987-05-22 00:01:19.500                0.0          0.0                0.0   \n",
       "1987-09-11 00:04:05.500                0.0          0.0                0.0   \n",
       "1987-09-27 00:04:27.500                0.0          0.0                0.0   \n",
       "1987-11-30 00:05:39.500                0.0          0.0                0.0   \n",
       "1988-01-17 00:06:26.500                0.0          0.0                0.0   \n",
       "\n",
       "                         dry_veg_percent  bare_soil_percent  \n",
       "1987-05-22 00:01:19.500             25.0               75.0  \n",
       "1987-09-11 00:04:05.500             25.0               75.0  \n",
       "1987-09-27 00:04:27.500             25.0               75.0  \n",
       "1987-11-30 00:05:39.500              0.0              100.0  \n",
       "1988-01-17 00:06:26.500             25.0               75.0  "
      ]
     },
     "execution_count": 61,
     "metadata": {},
     "output_type": "execute_result"
    }
   ],
   "source": [
    "#check out our file\n",
    "in_df.head()"
   ]
  },
  {
   "cell_type": "code",
   "execution_count": 58,
   "metadata": {},
   "outputs": [],
   "source": [
    "in_df = in_df.rename(columns={'Unnamed: 0':'date'})"
   ]
  },
  {
   "cell_type": "code",
   "execution_count": 59,
   "metadata": {},
   "outputs": [
    {
     "data": {
      "text/plain": [
       "date                  object\n",
       "wofs_area_percent    float64\n",
       "wet_percent          float64\n",
       "green_veg_percent    float64\n",
       "dry_veg_percent      float64\n",
       "bare_soil_percent    float64\n",
       "dtype: object"
      ]
     },
     "execution_count": 59,
     "metadata": {},
     "output_type": "execute_result"
    }
   ],
   "source": [
    "in_df.dtypes"
   ]
  },
  {
   "cell_type": "code",
   "execution_count": 55,
   "metadata": {},
   "outputs": [
    {
     "ename": "AttributeError",
     "evalue": "'Timestamp' object has no attribute 'type'",
     "output_type": "error",
     "traceback": [
      "\u001b[0;31m---------------------------------------------------------------------------\u001b[0m",
      "\u001b[0;31mAttributeError\u001b[0m                            Traceback (most recent call last)",
      "\u001b[0;32m<ipython-input-55-b337fd188d7a>\u001b[0m in \u001b[0;36m<module>\u001b[0;34m\u001b[0m\n\u001b[0;32m----> 1\u001b[0;31m \u001b[0min_df\u001b[0m\u001b[0;34m.\u001b[0m\u001b[0mindex\u001b[0m\u001b[0;34m[\u001b[0m\u001b[0;36m0\u001b[0m\u001b[0;34m]\u001b[0m\u001b[0;34m.\u001b[0m\u001b[0mtype\u001b[0m\u001b[0;34m(\u001b[0m\u001b[0;34m)\u001b[0m\u001b[0;34m\u001b[0m\u001b[0;34m\u001b[0m\u001b[0m\n\u001b[0m",
      "\u001b[0;31mAttributeError\u001b[0m: 'Timestamp' object has no attribute 'type'"
     ]
    }
   ],
   "source": [
    "in_df.index[0].type()"
   ]
  },
  {
   "cell_type": "code",
   "execution_count": null,
   "metadata": {},
   "outputs": [],
   "source": []
  }
 ],
 "metadata": {
  "kernelspec": {
   "display_name": "Python 3",
   "language": "python",
   "name": "python3"
  },
  "language_info": {
   "codemirror_mode": {
    "name": "ipython",
    "version": 3
   },
   "file_extension": ".py",
   "mimetype": "text/x-python",
   "name": "python",
   "nbconvert_exporter": "python",
   "pygments_lexer": "ipython3",
   "version": "3.6.7"
  }
 },
 "nbformat": 4,
 "nbformat_minor": 4
}
