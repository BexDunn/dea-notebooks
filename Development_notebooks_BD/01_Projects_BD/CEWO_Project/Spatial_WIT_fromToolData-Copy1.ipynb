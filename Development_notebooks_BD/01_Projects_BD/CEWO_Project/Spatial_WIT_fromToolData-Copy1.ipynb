{
 "cells": [
  {
   "cell_type": "markdown",
   "metadata": {},
   "source": [
    "<!-- ## import the csv of data from a Wetlands Insight Tool plot\n",
    "## render the graph\n",
    "## select the time of interest\n",
    "## plot the spatial distribution of the WIT classification for the time of interest -->\n"
   ]
  },
  {
   "cell_type": "markdown",
   "metadata": {},
   "source": [
    "# Output Spatial Wetlands Insight Maps based off existing Wetlands Insight Tool data\n",
    "\n",
    "- import csv of a given WIT output\n",
    "- render graph\n",
    "- select point on graph \n",
    "- plot spatial wit for point\n",
    "- output to GeoTiff"
   ]
  },
  {
   "cell_type": "code",
   "execution_count": 1,
   "metadata": {},
   "outputs": [],
   "source": [
    " %matplotlib widget"
   ]
  },
  {
   "cell_type": "code",
   "execution_count": 2,
   "metadata": {},
   "outputs": [
    {
     "data": {
      "text/html": [
       "\n",
       "    <div class=\"bk-root\">\n",
       "        <a href=\"https://bokeh.org\" target=\"_blank\" class=\"bk-logo bk-logo-small bk-logo-notebook\"></a>\n",
       "        <span id=\"1001\">Loading BokehJS ...</span>\n",
       "    </div>"
      ]
     },
     "metadata": {},
     "output_type": "display_data"
    },
    {
     "data": {
      "application/javascript": [
       "\n",
       "(function(root) {\n",
       "  function now() {\n",
       "    return new Date();\n",
       "  }\n",
       "\n",
       "  var force = true;\n",
       "\n",
       "  if (typeof root._bokeh_onload_callbacks === \"undefined\" || force === true) {\n",
       "    root._bokeh_onload_callbacks = [];\n",
       "    root._bokeh_is_loading = undefined;\n",
       "  }\n",
       "\n",
       "  var JS_MIME_TYPE = 'application/javascript';\n",
       "  var HTML_MIME_TYPE = 'text/html';\n",
       "  var EXEC_MIME_TYPE = 'application/vnd.bokehjs_exec.v0+json';\n",
       "  var CLASS_NAME = 'output_bokeh rendered_html';\n",
       "\n",
       "  /**\n",
       "   * Render data to the DOM node\n",
       "   */\n",
       "  function render(props, node) {\n",
       "    var script = document.createElement(\"script\");\n",
       "    node.appendChild(script);\n",
       "  }\n",
       "\n",
       "  /**\n",
       "   * Handle when an output is cleared or removed\n",
       "   */\n",
       "  function handleClearOutput(event, handle) {\n",
       "    var cell = handle.cell;\n",
       "\n",
       "    var id = cell.output_area._bokeh_element_id;\n",
       "    var server_id = cell.output_area._bokeh_server_id;\n",
       "    // Clean up Bokeh references\n",
       "    if (id != null && id in Bokeh.index) {\n",
       "      Bokeh.index[id].model.document.clear();\n",
       "      delete Bokeh.index[id];\n",
       "    }\n",
       "\n",
       "    if (server_id !== undefined) {\n",
       "      // Clean up Bokeh references\n",
       "      var cmd = \"from bokeh.io.state import curstate; print(curstate().uuid_to_server['\" + server_id + \"'].get_sessions()[0].document.roots[0]._id)\";\n",
       "      cell.notebook.kernel.execute(cmd, {\n",
       "        iopub: {\n",
       "          output: function(msg) {\n",
       "            var id = msg.content.text.trim();\n",
       "            if (id in Bokeh.index) {\n",
       "              Bokeh.index[id].model.document.clear();\n",
       "              delete Bokeh.index[id];\n",
       "            }\n",
       "          }\n",
       "        }\n",
       "      });\n",
       "      // Destroy server and session\n",
       "      var cmd = \"import bokeh.io.notebook as ion; ion.destroy_server('\" + server_id + \"')\";\n",
       "      cell.notebook.kernel.execute(cmd);\n",
       "    }\n",
       "  }\n",
       "\n",
       "  /**\n",
       "   * Handle when a new output is added\n",
       "   */\n",
       "  function handleAddOutput(event, handle) {\n",
       "    var output_area = handle.output_area;\n",
       "    var output = handle.output;\n",
       "\n",
       "    // limit handleAddOutput to display_data with EXEC_MIME_TYPE content only\n",
       "    if ((output.output_type != \"display_data\") || (!output.data.hasOwnProperty(EXEC_MIME_TYPE))) {\n",
       "      return\n",
       "    }\n",
       "\n",
       "    var toinsert = output_area.element.find(\".\" + CLASS_NAME.split(' ')[0]);\n",
       "\n",
       "    if (output.metadata[EXEC_MIME_TYPE][\"id\"] !== undefined) {\n",
       "      toinsert[toinsert.length - 1].firstChild.textContent = output.data[JS_MIME_TYPE];\n",
       "      // store reference to embed id on output_area\n",
       "      output_area._bokeh_element_id = output.metadata[EXEC_MIME_TYPE][\"id\"];\n",
       "    }\n",
       "    if (output.metadata[EXEC_MIME_TYPE][\"server_id\"] !== undefined) {\n",
       "      var bk_div = document.createElement(\"div\");\n",
       "      bk_div.innerHTML = output.data[HTML_MIME_TYPE];\n",
       "      var script_attrs = bk_div.children[0].attributes;\n",
       "      for (var i = 0; i < script_attrs.length; i++) {\n",
       "        toinsert[toinsert.length - 1].firstChild.setAttribute(script_attrs[i].name, script_attrs[i].value);\n",
       "      }\n",
       "      // store reference to server id on output_area\n",
       "      output_area._bokeh_server_id = output.metadata[EXEC_MIME_TYPE][\"server_id\"];\n",
       "    }\n",
       "  }\n",
       "\n",
       "  function register_renderer(events, OutputArea) {\n",
       "\n",
       "    function append_mime(data, metadata, element) {\n",
       "      // create a DOM node to render to\n",
       "      var toinsert = this.create_output_subarea(\n",
       "        metadata,\n",
       "        CLASS_NAME,\n",
       "        EXEC_MIME_TYPE\n",
       "      );\n",
       "      this.keyboard_manager.register_events(toinsert);\n",
       "      // Render to node\n",
       "      var props = {data: data, metadata: metadata[EXEC_MIME_TYPE]};\n",
       "      render(props, toinsert[toinsert.length - 1]);\n",
       "      element.append(toinsert);\n",
       "      return toinsert\n",
       "    }\n",
       "\n",
       "    /* Handle when an output is cleared or removed */\n",
       "    events.on('clear_output.CodeCell', handleClearOutput);\n",
       "    events.on('delete.Cell', handleClearOutput);\n",
       "\n",
       "    /* Handle when a new output is added */\n",
       "    events.on('output_added.OutputArea', handleAddOutput);\n",
       "\n",
       "    /**\n",
       "     * Register the mime type and append_mime function with output_area\n",
       "     */\n",
       "    OutputArea.prototype.register_mime_type(EXEC_MIME_TYPE, append_mime, {\n",
       "      /* Is output safe? */\n",
       "      safe: true,\n",
       "      /* Index of renderer in `output_area.display_order` */\n",
       "      index: 0\n",
       "    });\n",
       "  }\n",
       "\n",
       "  // register the mime type if in Jupyter Notebook environment and previously unregistered\n",
       "  if (root.Jupyter !== undefined) {\n",
       "    var events = require('base/js/events');\n",
       "    var OutputArea = require('notebook/js/outputarea').OutputArea;\n",
       "\n",
       "    if (OutputArea.prototype.mime_types().indexOf(EXEC_MIME_TYPE) == -1) {\n",
       "      register_renderer(events, OutputArea);\n",
       "    }\n",
       "  }\n",
       "\n",
       "  \n",
       "  if (typeof (root._bokeh_timeout) === \"undefined\" || force === true) {\n",
       "    root._bokeh_timeout = Date.now() + 5000;\n",
       "    root._bokeh_failed_load = false;\n",
       "  }\n",
       "\n",
       "  var NB_LOAD_WARNING = {'data': {'text/html':\n",
       "     \"<div style='background-color: #fdd'>\\n\"+\n",
       "     \"<p>\\n\"+\n",
       "     \"BokehJS does not appear to have successfully loaded. If loading BokehJS from CDN, this \\n\"+\n",
       "     \"may be due to a slow or bad network connection. Possible fixes:\\n\"+\n",
       "     \"</p>\\n\"+\n",
       "     \"<ul>\\n\"+\n",
       "     \"<li>re-rerun `output_notebook()` to attempt to load from CDN again, or</li>\\n\"+\n",
       "     \"<li>use INLINE resources instead, as so:</li>\\n\"+\n",
       "     \"</ul>\\n\"+\n",
       "     \"<code>\\n\"+\n",
       "     \"from bokeh.resources import INLINE\\n\"+\n",
       "     \"output_notebook(resources=INLINE)\\n\"+\n",
       "     \"</code>\\n\"+\n",
       "     \"</div>\"}};\n",
       "\n",
       "  function display_loaded() {\n",
       "    var el = document.getElementById(\"1001\");\n",
       "    if (el != null) {\n",
       "      el.textContent = \"BokehJS is loading...\";\n",
       "    }\n",
       "    if (root.Bokeh !== undefined) {\n",
       "      if (el != null) {\n",
       "        el.textContent = \"BokehJS \" + root.Bokeh.version + \" successfully loaded.\";\n",
       "      }\n",
       "    } else if (Date.now() < root._bokeh_timeout) {\n",
       "      setTimeout(display_loaded, 100)\n",
       "    }\n",
       "  }\n",
       "\n",
       "\n",
       "  function run_callbacks() {\n",
       "    try {\n",
       "      root._bokeh_onload_callbacks.forEach(function(callback) {\n",
       "        if (callback != null)\n",
       "          callback();\n",
       "      });\n",
       "    } finally {\n",
       "      delete root._bokeh_onload_callbacks\n",
       "    }\n",
       "    console.debug(\"Bokeh: all callbacks have finished\");\n",
       "  }\n",
       "\n",
       "  function load_libs(css_urls, js_urls, callback) {\n",
       "    if (css_urls == null) css_urls = [];\n",
       "    if (js_urls == null) js_urls = [];\n",
       "\n",
       "    root._bokeh_onload_callbacks.push(callback);\n",
       "    if (root._bokeh_is_loading > 0) {\n",
       "      console.debug(\"Bokeh: BokehJS is being loaded, scheduling callback at\", now());\n",
       "      return null;\n",
       "    }\n",
       "    if (js_urls == null || js_urls.length === 0) {\n",
       "      run_callbacks();\n",
       "      return null;\n",
       "    }\n",
       "    console.debug(\"Bokeh: BokehJS not loaded, scheduling load and callback at\", now());\n",
       "    root._bokeh_is_loading = css_urls.length + js_urls.length;\n",
       "\n",
       "    function on_load() {\n",
       "      root._bokeh_is_loading--;\n",
       "      if (root._bokeh_is_loading === 0) {\n",
       "        console.debug(\"Bokeh: all BokehJS libraries/stylesheets loaded\");\n",
       "        run_callbacks()\n",
       "      }\n",
       "    }\n",
       "\n",
       "    function on_error() {\n",
       "      console.error(\"failed to load \" + url);\n",
       "    }\n",
       "\n",
       "    for (var i = 0; i < css_urls.length; i++) {\n",
       "      var url = css_urls[i];\n",
       "      const element = document.createElement(\"link\");\n",
       "      element.onload = on_load;\n",
       "      element.onerror = on_error;\n",
       "      element.rel = \"stylesheet\";\n",
       "      element.type = \"text/css\";\n",
       "      element.href = url;\n",
       "      console.debug(\"Bokeh: injecting link tag for BokehJS stylesheet: \", url);\n",
       "      document.body.appendChild(element);\n",
       "    }\n",
       "\n",
       "    for (var i = 0; i < js_urls.length; i++) {\n",
       "      var url = js_urls[i];\n",
       "      var element = document.createElement('script');\n",
       "      element.onload = on_load;\n",
       "      element.onerror = on_error;\n",
       "      element.async = false;\n",
       "      element.src = url;\n",
       "      console.debug(\"Bokeh: injecting script tag for BokehJS library: \", url);\n",
       "      document.head.appendChild(element);\n",
       "    }\n",
       "  };var element = document.getElementById(\"1001\");\n",
       "  if (element == null) {\n",
       "    console.error(\"Bokeh: ERROR: autoload.js configured with elementid '1001' but no matching script tag was found. \")\n",
       "    return false;\n",
       "  }\n",
       "\n",
       "  function inject_raw_css(css) {\n",
       "    const element = document.createElement(\"style\");\n",
       "    element.appendChild(document.createTextNode(css));\n",
       "    document.body.appendChild(element);\n",
       "  }\n",
       "\n",
       "  \n",
       "  var js_urls = [\"https://cdn.pydata.org/bokeh/release/bokeh-1.4.0.min.js\", \"https://cdn.pydata.org/bokeh/release/bokeh-widgets-1.4.0.min.js\", \"https://cdn.pydata.org/bokeh/release/bokeh-tables-1.4.0.min.js\", \"https://cdn.pydata.org/bokeh/release/bokeh-gl-1.4.0.min.js\"];\n",
       "  var css_urls = [];\n",
       "  \n",
       "\n",
       "  var inline_js = [\n",
       "    function(Bokeh) {\n",
       "      Bokeh.set_log_level(\"info\");\n",
       "    },\n",
       "    function(Bokeh) {\n",
       "    \n",
       "    \n",
       "    }\n",
       "  ];\n",
       "\n",
       "  function run_inline_js() {\n",
       "    \n",
       "    if (root.Bokeh !== undefined || force === true) {\n",
       "      \n",
       "    for (var i = 0; i < inline_js.length; i++) {\n",
       "      inline_js[i].call(root, root.Bokeh);\n",
       "    }\n",
       "    if (force === true) {\n",
       "        display_loaded();\n",
       "      }} else if (Date.now() < root._bokeh_timeout) {\n",
       "      setTimeout(run_inline_js, 100);\n",
       "    } else if (!root._bokeh_failed_load) {\n",
       "      console.log(\"Bokeh: BokehJS failed to load within specified timeout.\");\n",
       "      root._bokeh_failed_load = true;\n",
       "    } else if (force !== true) {\n",
       "      var cell = $(document.getElementById(\"1001\")).parents('.cell').data().cell;\n",
       "      cell.output_area.append_execute_result(NB_LOAD_WARNING)\n",
       "    }\n",
       "\n",
       "  }\n",
       "\n",
       "  if (root._bokeh_is_loading === 0) {\n",
       "    console.debug(\"Bokeh: BokehJS loaded, going straight to plotting\");\n",
       "    run_inline_js();\n",
       "  } else {\n",
       "    load_libs(css_urls, js_urls, function() {\n",
       "      console.debug(\"Bokeh: BokehJS plotting callback run at\", now());\n",
       "      run_inline_js();\n",
       "    });\n",
       "  }\n",
       "}(window));"
      ],
      "application/vnd.bokehjs_load.v0+json": "\n(function(root) {\n  function now() {\n    return new Date();\n  }\n\n  var force = true;\n\n  if (typeof root._bokeh_onload_callbacks === \"undefined\" || force === true) {\n    root._bokeh_onload_callbacks = [];\n    root._bokeh_is_loading = undefined;\n  }\n\n  \n\n  \n  if (typeof (root._bokeh_timeout) === \"undefined\" || force === true) {\n    root._bokeh_timeout = Date.now() + 5000;\n    root._bokeh_failed_load = false;\n  }\n\n  var NB_LOAD_WARNING = {'data': {'text/html':\n     \"<div style='background-color: #fdd'>\\n\"+\n     \"<p>\\n\"+\n     \"BokehJS does not appear to have successfully loaded. If loading BokehJS from CDN, this \\n\"+\n     \"may be due to a slow or bad network connection. Possible fixes:\\n\"+\n     \"</p>\\n\"+\n     \"<ul>\\n\"+\n     \"<li>re-rerun `output_notebook()` to attempt to load from CDN again, or</li>\\n\"+\n     \"<li>use INLINE resources instead, as so:</li>\\n\"+\n     \"</ul>\\n\"+\n     \"<code>\\n\"+\n     \"from bokeh.resources import INLINE\\n\"+\n     \"output_notebook(resources=INLINE)\\n\"+\n     \"</code>\\n\"+\n     \"</div>\"}};\n\n  function display_loaded() {\n    var el = document.getElementById(\"1001\");\n    if (el != null) {\n      el.textContent = \"BokehJS is loading...\";\n    }\n    if (root.Bokeh !== undefined) {\n      if (el != null) {\n        el.textContent = \"BokehJS \" + root.Bokeh.version + \" successfully loaded.\";\n      }\n    } else if (Date.now() < root._bokeh_timeout) {\n      setTimeout(display_loaded, 100)\n    }\n  }\n\n\n  function run_callbacks() {\n    try {\n      root._bokeh_onload_callbacks.forEach(function(callback) {\n        if (callback != null)\n          callback();\n      });\n    } finally {\n      delete root._bokeh_onload_callbacks\n    }\n    console.debug(\"Bokeh: all callbacks have finished\");\n  }\n\n  function load_libs(css_urls, js_urls, callback) {\n    if (css_urls == null) css_urls = [];\n    if (js_urls == null) js_urls = [];\n\n    root._bokeh_onload_callbacks.push(callback);\n    if (root._bokeh_is_loading > 0) {\n      console.debug(\"Bokeh: BokehJS is being loaded, scheduling callback at\", now());\n      return null;\n    }\n    if (js_urls == null || js_urls.length === 0) {\n      run_callbacks();\n      return null;\n    }\n    console.debug(\"Bokeh: BokehJS not loaded, scheduling load and callback at\", now());\n    root._bokeh_is_loading = css_urls.length + js_urls.length;\n\n    function on_load() {\n      root._bokeh_is_loading--;\n      if (root._bokeh_is_loading === 0) {\n        console.debug(\"Bokeh: all BokehJS libraries/stylesheets loaded\");\n        run_callbacks()\n      }\n    }\n\n    function on_error() {\n      console.error(\"failed to load \" + url);\n    }\n\n    for (var i = 0; i < css_urls.length; i++) {\n      var url = css_urls[i];\n      const element = document.createElement(\"link\");\n      element.onload = on_load;\n      element.onerror = on_error;\n      element.rel = \"stylesheet\";\n      element.type = \"text/css\";\n      element.href = url;\n      console.debug(\"Bokeh: injecting link tag for BokehJS stylesheet: \", url);\n      document.body.appendChild(element);\n    }\n\n    for (var i = 0; i < js_urls.length; i++) {\n      var url = js_urls[i];\n      var element = document.createElement('script');\n      element.onload = on_load;\n      element.onerror = on_error;\n      element.async = false;\n      element.src = url;\n      console.debug(\"Bokeh: injecting script tag for BokehJS library: \", url);\n      document.head.appendChild(element);\n    }\n  };var element = document.getElementById(\"1001\");\n  if (element == null) {\n    console.error(\"Bokeh: ERROR: autoload.js configured with elementid '1001' but no matching script tag was found. \")\n    return false;\n  }\n\n  function inject_raw_css(css) {\n    const element = document.createElement(\"style\");\n    element.appendChild(document.createTextNode(css));\n    document.body.appendChild(element);\n  }\n\n  \n  var js_urls = [\"https://cdn.pydata.org/bokeh/release/bokeh-1.4.0.min.js\", \"https://cdn.pydata.org/bokeh/release/bokeh-widgets-1.4.0.min.js\", \"https://cdn.pydata.org/bokeh/release/bokeh-tables-1.4.0.min.js\", \"https://cdn.pydata.org/bokeh/release/bokeh-gl-1.4.0.min.js\"];\n  var css_urls = [];\n  \n\n  var inline_js = [\n    function(Bokeh) {\n      Bokeh.set_log_level(\"info\");\n    },\n    function(Bokeh) {\n    \n    \n    }\n  ];\n\n  function run_inline_js() {\n    \n    if (root.Bokeh !== undefined || force === true) {\n      \n    for (var i = 0; i < inline_js.length; i++) {\n      inline_js[i].call(root, root.Bokeh);\n    }\n    if (force === true) {\n        display_loaded();\n      }} else if (Date.now() < root._bokeh_timeout) {\n      setTimeout(run_inline_js, 100);\n    } else if (!root._bokeh_failed_load) {\n      console.log(\"Bokeh: BokehJS failed to load within specified timeout.\");\n      root._bokeh_failed_load = true;\n    } else if (force !== true) {\n      var cell = $(document.getElementById(\"1001\")).parents('.cell').data().cell;\n      cell.output_area.append_execute_result(NB_LOAD_WARNING)\n    }\n\n  }\n\n  if (root._bokeh_is_loading === 0) {\n    console.debug(\"Bokeh: BokehJS loaded, going straight to plotting\");\n    run_inline_js();\n  } else {\n    load_libs(css_urls, js_urls, function() {\n      console.debug(\"Bokeh: BokehJS plotting callback run at\", now());\n      run_inline_js();\n    });\n  }\n}(window));"
     },
     "metadata": {},
     "output_type": "display_data"
    }
   ],
   "source": [
    "#run bokeh\n",
    "from bokeh.plotting import figure,show\n",
    "from bokeh.io import output_notebook #outputs bokeh to notebook\n",
    "output_notebook() #this is the command to tell bokeh to output into the jupyterlab notebook"
   ]
  },
  {
   "cell_type": "markdown",
   "metadata": {},
   "source": [
    "### Import useful libraries"
   ]
  },
  {
   "cell_type": "code",
   "execution_count": 3,
   "metadata": {},
   "outputs": [
    {
     "name": "stdout",
     "output_type": "stream",
     "text": [
      "The autoreload extension is already loaded. To reload it, use:\n",
      "  %reload_ext autoreload\n"
     ]
    }
   ],
   "source": [
    "import datacube\n",
    "import datetime\n",
    "import fiona\n",
    "import geopandas as gpd\n",
    "import os\n",
    "import glob\n",
    "import numpy as np\n",
    "import pandas as pd\n",
    "\n",
    "import rasterio.mask\n",
    "import rasterio.features\n",
    "import seaborn as sns\n",
    "from shapely import geometry\n",
    "import sys\n",
    "import xarray as xr\n",
    "\n",
    "from datetime import datetime, timedelta\n",
    "import matplotlib.dates as mdates\n",
    "import matplotlib.gridspec as gridspec\n",
    "import matplotlib.pyplot as plt\n",
    "from matplotlib.patches import Rectangle\n",
    "from textwrap import wrap\n",
    "\n",
    "from datacube.storage import masking\n",
    "from datacube.utils import geometry\n",
    "from datacube.utils.geometry import CRS\n",
    "from digitalearthau.utils import wofs_fuser\n",
    "\n",
    "\n",
    "dc = datacube.Datacube(app='wetlands insight tool')\n",
    "%load_ext autoreload\n",
    "%autoreload 2\n",
    "\n",
    "# there are functions in here you need\n",
    "sys.path.append('/g/data/r78/rjd547/jupyter_notebooks/dea-notebooks/10_Scripts')\n",
    "import DEADataHandling, DEAPlotting, TasseledCapTools, WetlandsTools, SpatialTools, wetlands_insight\n",
    "\n",
    "#get the newest version of dea_datahandling. You may need to move the pointer below to your version\n",
    "sys.path.append('/g/data/r78/rjd547/jupyter_notebooks/dea-notebooks/Scripts')\n",
    "import dea_datahandling\n",
    "\n",
    "dc = datacube.Datacube(app='wetlands insight tool')\n",
    "%load_ext autoreload\n",
    "%autoreload 2"
   ]
  },
  {
   "cell_type": "code",
   "execution_count": 4,
   "metadata": {},
   "outputs": [],
   "source": [
    "#set input directory\n",
    "# global Input_dir\n",
    "Input_dir = '/g/data/r78/rjd547/Ramsar_Wetlands/Wetlands_Insight_Tool_v2/'"
   ]
  },
  {
   "cell_type": "markdown",
   "metadata": {},
   "source": [
    "### list available sites to plot"
   ]
  },
  {
   "cell_type": "code",
   "execution_count": 5,
   "metadata": {},
   "outputs": [],
   "source": [
    "#change to the input directory\n",
    "os.chdir(Input_dir)"
   ]
  },
  {
   "cell_type": "code",
   "execution_count": 6,
   "metadata": {},
   "outputs": [],
   "source": [
    "# #print all files\n",
    "# for file in glob.glob(\"*.csv\"):\n",
    "#     print(file)  "
   ]
  },
  {
   "cell_type": "markdown",
   "metadata": {},
   "source": [
    "to use Emma's Ramsar runs, go to http://terria-cube.terria.io/#share=s-kdYVC1Nmf22OUh3fDa5fYSOOO1K and use the filename of the csv file you can download to work out which of these is your wetland of choice"
   ]
  },
  {
   "cell_type": "code",
   "execution_count": 7,
   "metadata": {},
   "outputs": [
    {
     "name": "stdout",
     "output_type": "stream",
     "text": [
      "9.csv\n"
     ]
    }
   ],
   "source": [
    "#alternatively, print the files you want only\n",
    "search_term = '9'\n",
    "for file in glob.glob(f\"{search_term}.csv\"):\n",
    "    print(file)"
   ]
  },
  {
   "cell_type": "code",
   "execution_count": 8,
   "metadata": {},
   "outputs": [
    {
     "name": "stdout",
     "output_type": "stream",
     "text": [
      "9.csv\n"
     ]
    }
   ],
   "source": [
    "input_file =  str(file)\n",
    "print(input_file)"
   ]
  },
  {
   "cell_type": "code",
   "execution_count": 9,
   "metadata": {},
   "outputs": [],
   "source": [
    "#read in your desired csv of the WIT data. Rename the columns so they are easier to understand and plot \n",
    "WITdata = pd.read_csv(Input_dir+input_file,\n",
    "                     index_col=0, infer_datetime_format=True)\n",
    "\n",
    "#give the index a name that reflects that it is time, measured in UTC not AEDT/AEST\n",
    "WITdata.index.names = ['utc_time']\n",
    "\n",
    "#format the index of the dataframe as a date, not as a string\n",
    "WITdata.index = pd.to_datetime(WITdata.index)\n",
    "#Rename the columns so they are easier to understand and plot\n",
    "WITdata = WITdata.rename(columns={\"WATER\" : \"water\", \n",
    "                        \"WET\" : \"wet\",\n",
    "                       \"PV\" : \"green\",\n",
    "                       \"NPV\" : \"dry\",\n",
    "                       \"BS\" : \"bare\"}) \n",
    "#WITdata.head()"
   ]
  },
  {
   "cell_type": "code",
   "execution_count": 10,
   "metadata": {},
   "outputs": [],
   "source": [
    "#converting to percentages to make plotting easier\n",
    "WITdata = WITdata*100\n",
    "#WITdata.head()"
   ]
  },
  {
   "cell_type": "code",
   "execution_count": 11,
   "metadata": {},
   "outputs": [],
   "source": [
    "#set up colour palette for our plots\n",
    "pal = [sns.xkcd_rgb[\"cobalt blue\"],\n",
    "       sns.xkcd_rgb[\"neon blue\"],\n",
    "       sns.xkcd_rgb[\"grass\"],\n",
    "       sns.xkcd_rgb[\"beige\"],\n",
    "       sns.xkcd_rgb[\"brown\"]]  "
   ]
  },
  {
   "cell_type": "markdown",
   "metadata": {},
   "source": [
    "### Set up the title for the plot here:"
   ]
  },
  {
   "cell_type": "code",
   "execution_count": 12,
   "metadata": {},
   "outputs": [],
   "source": [
    "polyName = input_file #change this as appropriate"
   ]
  },
  {
   "cell_type": "code",
   "execution_count": 13,
   "metadata": {},
   "outputs": [],
   "source": [
    "# #take the name of the polygon and add something else to it\n",
    "# polyName=search_term+\"?\"\n",
    "# polyName=polyName.replace(\"'\",\"\\\\'\")\n",
    "# title=\"\\n\".join(wrap(f'Percentage of area WOfS, Wetness, Fractional Cover for {polyName}'))"
   ]
  },
  {
   "cell_type": "code",
   "execution_count": 14,
   "metadata": {},
   "outputs": [
    {
     "data": {
      "text/html": [
       "\n",
       "\n",
       "\n",
       "\n",
       "\n",
       "\n",
       "  <div class=\"bk-root\" id=\"f35b1e1c-502b-4bb4-b2dc-0f6888e1f28a\" data-root-id=\"1002\"></div>\n"
      ]
     },
     "metadata": {},
     "output_type": "display_data"
    },
    {
     "data": {
      "application/javascript": [
       "(function(root) {\n",
       "  function embed_document(root) {\n",
       "    \n",
       "  var docs_json = {\"37b89ce4-5ed5-45a5-8170-d88848de1aae\":{\"roots\":{\"references\":[{\"attributes\":{\"below\":[{\"id\":\"1013\",\"type\":\"DatetimeAxis\"},{\"id\":\"1036\",\"type\":\"Label\"}],\"center\":[{\"id\":\"1017\",\"type\":\"Grid\"},{\"id\":\"1022\",\"type\":\"Grid\"},{\"id\":\"1073\",\"type\":\"Legend\"}],\"left\":[{\"id\":\"1018\",\"type\":\"LinearAxis\"}],\"plot_height\":400,\"plot_width\":1200,\"renderers\":[{\"id\":\"1054\",\"type\":\"GlyphRenderer\"},{\"id\":\"1080\",\"type\":\"GlyphRenderer\"},{\"id\":\"1107\",\"type\":\"GlyphRenderer\"},{\"id\":\"1136\",\"type\":\"GlyphRenderer\"},{\"id\":\"1167\",\"type\":\"GlyphRenderer\"},{\"id\":\"1200\",\"type\":\"GlyphRenderer\"}],\"sizing_mode\":\"scale_width\",\"title\":{\"id\":\"1003\",\"type\":\"Title\"},\"toolbar\":{\"id\":\"1029\",\"type\":\"Toolbar\"},\"x_range\":{\"id\":\"1195\",\"type\":\"Range1d\"},\"x_scale\":{\"id\":\"1009\",\"type\":\"LinearScale\"},\"y_range\":{\"id\":\"1196\",\"type\":\"Range1d\"},\"y_scale\":{\"id\":\"1011\",\"type\":\"LinearScale\"}},\"id\":\"1002\",\"subtype\":\"Figure\",\"type\":\"Plot\"},{\"attributes\":{\"fill_alpha\":0.7,\"fill_color\":\"#04d9ff\",\"x\":{\"field\":\"utc_time\"},\"y1\":{\"expr\":{\"id\":\"1041\",\"type\":\"Stack\"}},\"y2\":{\"expr\":{\"id\":\"1042\",\"type\":\"Stack\"}}},\"id\":\"1077\",\"type\":\"VArea\"},{\"attributes\":{\"overlay\":{\"id\":\"1072\",\"type\":\"BoxAnnotation\"}},\"id\":\"1025\",\"type\":\"BoxZoomTool\"},{\"attributes\":{\"fill_alpha\":0.1,\"fill_color\":\"#1f77b4\",\"x\":{\"field\":\"utc_time\"},\"y1\":{\"expr\":{\"id\":\"1041\",\"type\":\"Stack\"}},\"y2\":{\"expr\":{\"id\":\"1042\",\"type\":\"Stack\"}}},\"id\":\"1078\",\"type\":\"VArea\"},{\"attributes\":{},\"id\":\"1026\",\"type\":\"ResetTool\"},{\"attributes\":{\"fill_alpha\":0.2,\"fill_color\":\"grey\",\"x\":{\"field\":\"utc_time\"},\"y1\":{\"expr\":{\"id\":\"1041\",\"type\":\"Stack\"}},\"y2\":{\"expr\":{\"id\":\"1042\",\"type\":\"Stack\"}}},\"id\":\"1079\",\"type\":\"VArea\"},{\"attributes\":{\"callback\":null},\"id\":\"1027\",\"type\":\"TapTool\"},{\"attributes\":{\"data_source\":{\"id\":\"1075\",\"type\":\"ColumnDataSource\"},\"glyph\":{\"id\":\"1077\",\"type\":\"VArea\"},\"hover_glyph\":null,\"muted_glyph\":{\"id\":\"1079\",\"type\":\"VArea\"},\"name\":\"wet\",\"nonselection_glyph\":{\"id\":\"1078\",\"type\":\"VArea\"},\"selection_glyph\":null,\"view\":{\"id\":\"1081\",\"type\":\"CDSView\"}},\"id\":\"1080\",\"type\":\"GlyphRenderer\"},{\"attributes\":{},\"id\":\"1028\",\"type\":\"SaveTool\"},{\"attributes\":{\"source\":{\"id\":\"1075\",\"type\":\"ColumnDataSource\"}},\"id\":\"1081\",\"type\":\"CDSView\"},{\"attributes\":{\"active_drag\":\"auto\",\"active_inspect\":\"auto\",\"active_multi\":null,\"active_scroll\":\"auto\",\"active_tap\":\"auto\",\"tools\":[{\"id\":\"1023\",\"type\":\"PanTool\"},{\"id\":\"1024\",\"type\":\"WheelZoomTool\"},{\"id\":\"1025\",\"type\":\"BoxZoomTool\"},{\"id\":\"1026\",\"type\":\"ResetTool\"},{\"id\":\"1027\",\"type\":\"TapTool\"},{\"id\":\"1028\",\"type\":\"SaveTool\"}]},\"id\":\"1029\",\"type\":\"Toolbar\"},{\"attributes\":{},\"id\":\"1098\",\"type\":\"Selection\"},{\"attributes\":{\"fields\":[\"water\"]},\"id\":\"1041\",\"type\":\"Stack\"},{\"attributes\":{},\"id\":\"1099\",\"type\":\"UnionRenderers\"},{\"attributes\":{\"label\":{\"value\":\"wet\"},\"renderers\":[{\"id\":\"1080\",\"type\":\"GlyphRenderer\"}]},\"id\":\"1101\",\"type\":\"LegendItem\"},{\"attributes\":{\"fields\":[\"water\",\"wet\"]},\"id\":\"1042\",\"type\":\"Stack\"},{\"attributes\":{\"callback\":null,\"data\":{\"bare\":{\"__ndarray__\":\"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\",\"dtype\":\"float64\",\"shape\":[354]},\"dry\":{\"__ndarray__\":\"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\",\"dtype\":\"float64\",\"shape\":[354]},\"green\":{\"__ndarray__\":\"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\",\"dtype\":\"float64\",\"shape\":[354]},\"utc_time\":{\"__ndarray__\":\"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\",\"dtype\":\"float64\",\"shape\":[354]},\"water\":{\"__ndarray__\":\"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\",\"dtype\":\"float64\",\"shape\":[354]},\"wet\":{\"__ndarray__\":\"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\",\"dtype\":\"float64\",\"shape\":[354]}},\"selected\":{\"id\":\"1158\",\"type\":\"Selection\"},\"selection_policy\":{\"id\":\"1159\",\"type\":\"UnionRenderers\"}},\"id\":\"1102\",\"type\":\"ColumnDataSource\"},{\"attributes\":{\"fields\":[\"water\",\"wet\"]},\"id\":\"1043\",\"type\":\"Stack\"},{\"attributes\":{\"fill_alpha\":0.7,\"fill_color\":\"#e6daa6\",\"x\":{\"field\":\"utc_time\"},\"y1\":{\"expr\":{\"id\":\"1045\",\"type\":\"Stack\"}},\"y2\":{\"expr\":{\"id\":\"1046\",\"type\":\"Stack\"}}},\"id\":\"1133\",\"type\":\"VArea\"},{\"attributes\":{\"fields\":[\"water\",\"wet\",\"green\"]},\"id\":\"1044\",\"type\":\"Stack\"},{\"attributes\":{\"fill_alpha\":0.1,\"fill_color\":\"#1f77b4\",\"x\":{\"field\":\"utc_time\"},\"y1\":{\"expr\":{\"id\":\"1043\",\"type\":\"Stack\"}},\"y2\":{\"expr\":{\"id\":\"1044\",\"type\":\"Stack\"}}},\"id\":\"1105\",\"type\":\"VArea\"},{\"attributes\":{\"fields\":[\"water\",\"wet\",\"green\"]},\"id\":\"1045\",\"type\":\"Stack\"},{\"attributes\":{\"fill_alpha\":0.2,\"fill_color\":\"grey\",\"x\":{\"field\":\"utc_time\"},\"y1\":{\"expr\":{\"id\":\"1043\",\"type\":\"Stack\"}},\"y2\":{\"expr\":{\"id\":\"1044\",\"type\":\"Stack\"}}},\"id\":\"1106\",\"type\":\"VArea\"},{\"attributes\":{\"fill_alpha\":0.7,\"fill_color\":\"#5cac2d\",\"x\":{\"field\":\"utc_time\"},\"y1\":{\"expr\":{\"id\":\"1043\",\"type\":\"Stack\"}},\"y2\":{\"expr\":{\"id\":\"1044\",\"type\":\"Stack\"}}},\"id\":\"1104\",\"type\":\"VArea\"},{\"attributes\":{\"fields\":[\"water\",\"wet\",\"green\",\"dry\"]},\"id\":\"1046\",\"type\":\"Stack\"},{\"attributes\":{\"callback\":null,\"data\":{\"bare\":{\"__ndarray__\":\"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\",\"dtype\":\"float64\",\"shape\":[354]},\"dry\":{\"__ndarray__\":\"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\",\"dtype\":\"float64\",\"shape\":[354]},\"green\":{\"__ndarray__\":\"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\",\"dtype\":\"float64\",\"shape\":[354]},\"utc_time\":{\"__ndarray__\":\"AADMLdxGYEIAgCGvdVtgQgCAYnHCZWBCAAAuMUKZYEIAAD9rKLhgQgCA6CZ1wmBCAIDc4MHMYEIAgMScDtdgQgCApllb4WBCAIBw+toUYUIAgOFsdClhQgCA8yHBM2FCAICIRqdSYUIAAOuwQGdhQgCA1hnae2FCAIDuzSaGYUIAgHGFc5BhQgCAoTXAmmFCAICWklmvYUIAgDFGprlhQgCADqc/zmFCAIDsYnL3YUIAgHEYpSBiQgCAfxSLP2JCAIAJbiRUYkIAgPoRV31iQgCA3bmjh2JCAAAFYfCRYkIAgOoSPZxiQgCAzM+JpmJCAIDShtawYkIAgNj1b8ViQgCAbRpW5GJCAIAUPDwDY0IAgLXuiA1jQgCAVhFvLGNCAADzC6JVY0IAgJzH7l9jQgCAVIs7amNCAIBZD9V+Y0IAgBwOCKhjQgCABMpUsmNCAIDIi6G8Y0IAgFx91OVjQgCAi7K6BGRCAICFI1QZZEIAgAi700xkQgCACHMgV2RCAIAIK21hZEIAgERJU4BkQgCA97DslGRCAIDgx9KzZEIAgAR6H75kQgCANCpsyGRCAIALjAXdZEIAgHHrnvFkQgCAoZvr+2RCAICbDIUQZUIAgF+GHiVlQgCAHQG4OWVCAICUugREZUIAgO0wnlhlQgCA1ezqYmVCAIDDpzdtZUIAgLdhhHdlQgCANNIdjGVCAIDJhmqWZUIAgEyuULVlQgCAWBzqyWVCAIBk0jbUZUIAgCPwHPNlQgCA9AoDEmZCAIAYvU8cZkIAgDZwnCZmQgCAZiDpMGZCAIDAgYJFZkIAgPYwz09mQgCAqeAbWmZCAIBckGhkZkIAgJ+YToNmQgCA7UObjWZCAIA77+eXZkIAgACcNKJmQgCAbZ0awWZCAICTlQDgZkIAgEfomfRmQgCAnDUzCWdCAAA9JBkoZ0IAgHDJZTJnQgCA6RD/RmdCAIBts0tRZ0IAgPmaMXBnQgCA++DKhGdCAICMJGSZZ0IAgLhj/a1nQgCAbLaWwmdCAIBN5Rb2Z0IAgAq9YwBoQgCASpSwCmhCAIAoFZcpaEIAgP3o4zNoQgCAuY19SGhCAIBb0LBxaEIAgFOAyrloQgCAPx1kzmhCAIA467DYaEIAgLq3/eJoQgCATU6X92hCAIBeGOQBaUIAgHXhMAxpQgCAD6p9FmlCAIAscsogaUIAgADLsD9pQgCA4CGXXmlCAICWN8qHaUIAgMv7FpJpQgCAib5jnGlCAAD7jOPPaUIAgIZNMNppQgCAr8vJ7mlCAIBmhEkiakIAgKH/4jZqQgCA1jPJVWpCYtDzjMNfakIAgBfWSIlqQgDQwSlDk2pCAIARR+KdakIAgBf+LqhqQgCAF7Z7smpCSJGjew/RakIAgE1F++VqQgCA3Q0uD2tCAID1wXoZa0IAgAcvFC5rQgAAnEc8M2tCAICu4GA4a0IAgM4BiT1rQgCAi4mtQmtCAIBcNPpMa0IAgMJzIlJrQgCAzilvXGtCAIDa37tma0IAgGNOVXtrQgCA1aN5gGtCAIBRCaKFa0IAgGO+7o9rQgAAMSyIpGtCAIAQT27Da0IAgLcAu81rQgCAQLcH2GtCAIBkaVTia0IAgBHS7fZrQgCAHpsgIGxCAIB++7k0bEIAgKjU7F1sQgCAK4w5aGxCAIATANN8bEIAgIS6H4dsQgCAHya5m2xCAICo3AWmbEIAgMaPUrBsQgCAzEafumxCAIDS/evEbEIAgFbIHu5sQgCA+EWeIW1CAICBbIRAbUIAgD9Xt2ltQgCAsBEEdG1CAICky1B+bUIAgJ6EnYhtQgCALTrqkm1CAIC87zadbUIAgD+ng6dtQgCAsGHQsW1CAAAlyWnGbUIAgBbpT+VtQgCAq52c721CAIC3U+n5bUIAgPO5gg5uQgCA7SocI25CAICfXwJCbkIAgAobT0xuQgCAb4/oYG5CAIDOTDVrbkIAgEsFgnVuQgCAyL3Of25CAIBFdhuKbkIAgEUuaJRuQgCAP+e0nm5CAIBRnAGpbkIAAHd6WdduQgCATvAlFW9CAID0br8pb0JoIU6y7FxvQgCA4BNyhm9CAIC1nwubb0IAgGFlWKVvQgCAPPDxuW9CAIDtOdjYb0IAgCL+JONvQgCAY8Bx7W9CAICkgr73b0IAwGABLAZwQgDAlSGfFXBCAIA0QBIlcEIAQAOfOCpwQgDAuPxeL3BCAADMtqs5cEIAQGIU0j5wQgDAlHL4Q3BCAMAFLUVOcEIAQLWLa1NwQgDA5+mRWHBCAMBYpN5icEIAQOP9N5FwQgAAI19elnBCAAAFwISbcEIAQFPh96pwQgCAy59EtXBCAAB1/2q6cEIAQMN8BM9wQgBAsdsq1HBCAECfOlHZcEIAwE6Zd95wQgDAv/ed43BCAEBXEhHzcEIAwADOXf1wQgDAdyuEAnFCAIBSiKoHcUIAAJHk0AxxQgCAUkD3EXFCAEC2mx0XcUIAQLz2QxxxQgCAZFFqIXFCAEBjBLcrcUIAgJpc3TBxQgDA72dQQHFCAEC9wXZFcUIAwA0bnUpxQgCAfz5piHFCAID6l1vLcUIAwEnsgdBxQgDAK2Eb5XFCAIBlw0HqcUIAQJ8laO9xQgAA2YeO9HFCAAC16bT5cUIAQHQNKAlyQgDAZC6bGHJCAAB3bYE3ckIAgKPMpzxyQgBAcivOQXJCAEDjifRGckIAgPbnGkxyQgBAv6NnVnJCAMDlu9plckIAwN8YAWtyQgBAWrvzrXJCAABNcEC4ckIAgBo6ANJyQgDAM6uZ5nJCAED7BcDrckIAQAFh5vByQgBAirsM9nJCAMCfjT8fc0IAQEpI/zhzQgAAamfU3HNCAIA7LXDec0IAQEz08eJzQgDAfmaL93NCAACYe/4GdEIAQDTYJAx0QgAApI1xFnRCAIBxQ74gdEIAgPSe5CV0QgCA+vkKK3RCAIAGVDEwdEIAAFGuVzV0QgAA5gZ+OnRCAIAwYaQ/dEIAwOS5ykR0QgCAWhLxSXRCAADbG2RZdEIAgDF0il50QgAAQFy9h3RCAMCduOOMdEIAALcVCpJ0QgDAGnEwl3RCAAC9zFacdEIAwJ0ofaF0QgCAAYSjpnRCAEDo3smrdEIAgJA58LB0QgAAXu88u3RCAMDNSGPAdEIAAI5X1s90QgAApq/81HRCAICuhLzudEIAwETi4vN0QgCAkJ0v/nRCAABAEMkSdUIAgAFs7xd1QgAAQMgVHXVCAABGf2IndUIAgA3aiCx1QgCAljSvMXVCAADbj9U2dUIAgDGgSEZ1QgCAK1mVUHVCAADPcQhgdUIAgIrOLmV1QgAAwytVanVCAAA6iXtvdUIAAC5XO4l1QgDAkbJhjnVCAAC9aK6YdUIAQGXD1J11QgCAGXghqHVCAADn0UetdUIAgK6cB8d1QgCAJfotzHVCAEB3tHrWdUIAQGVvx+B1QgAANIY68HVCAMAUPof6dUIAgH700wR2QgCAB6sgD3ZCAICouZMedkIAAHYTuiN2QgCAwG3gKHZCAIBPxwYudkIAQDwhLTN2QgAAKTOgQnZCAEAkTRNSdkIAAHAIYFx2QgDAx2WGYXZCAADVINNrdkIAAFJ9+XB2QgBA9NgfdnZCAABYkGyAdkIAwMFGuYp2QgDARKLfj3ZCAIAr/QWVdkIAAPNXLJp2QgAA+bJSn3ZCAMBKycWudkIAgB8n7LN2QgBAd4QSuXZCAABS4Ti+dkIAgIo+X8N2QgCA+/irzXZCAMAUVtLSdkIAQE2z+Nd2QgCA6WtF4nZC\",\"dtype\":\"float64\",\"shape\":[354]},\"water\":{\"__ndarray__\":\"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\",\"dtype\":\"float64\",\"shape\":[354]},\"wet\":{\"__ndarray__\":\"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\",\"dtype\":\"float64\",\"shape\":[354]}},\"selected\":{\"id\":\"1098\",\"type\":\"Selection\"},\"selection_policy\":{\"id\":\"1099\",\"type\":\"UnionRenderers\"}},\"id\":\"1049\",\"type\":\"ColumnDataSource\"},{\"attributes\":{\"data_source\":{\"id\":\"1102\",\"type\":\"ColumnDataSource\"},\"glyph\":{\"id\":\"1104\",\"type\":\"VArea\"},\"hover_glyph\":null,\"muted_glyph\":{\"id\":\"1106\",\"type\":\"VArea\"},\"name\":\"green\",\"nonselection_glyph\":{\"id\":\"1105\",\"type\":\"VArea\"},\"selection_glyph\":null,\"view\":{\"id\":\"1108\",\"type\":\"CDSView\"}},\"id\":\"1107\",\"type\":\"GlyphRenderer\"},{\"attributes\":{\"fields\":[\"water\",\"wet\",\"green\",\"dry\"]},\"id\":\"1047\",\"type\":\"Stack\"},{\"attributes\":{\"fields\":[\"water\",\"wet\",\"green\",\"dry\",\"bare\"]},\"id\":\"1048\",\"type\":\"Stack\"},{\"attributes\":{\"source\":{\"id\":\"1102\",\"type\":\"ColumnDataSource\"}},\"id\":\"1108\",\"type\":\"CDSView\"},{\"attributes\":{},\"id\":\"1128\",\"type\":\"UnionRenderers\"},{\"attributes\":{\"fill_alpha\":0.2,\"fill_color\":\"grey\",\"x\":{\"field\":\"utc_time\"},\"y1\":{\"expr\":{\"id\":\"1039\",\"type\":\"Stack\"}},\"y2\":{\"expr\":{\"id\":\"1040\",\"type\":\"Stack\"}}},\"id\":\"1053\",\"type\":\"VArea\"},{\"attributes\":{\"label\":{\"value\":\"green\"},\"renderers\":[{\"id\":\"1107\",\"type\":\"GlyphRenderer\"}]},\"id\":\"1130\",\"type\":\"LegendItem\"},{\"attributes\":{\"source\":{\"id\":\"1049\",\"type\":\"ColumnDataSource\"}},\"id\":\"1055\",\"type\":\"CDSView\"},{\"attributes\":{\"callback\":null,\"data\":{\"bare\":{\"__ndarray__\":\"7hbiNK2H9T9cBXCV2rr/P20bTc5+TwdAWzGbnjtyMUD9zl8uipZDQN77ziyiihtALyoHI+Q+PkBqqcre6/I7QAXtFNg8mytAccK2C6tgM0AvRZAOwKQcQAL3HFlRXB9A+8MvlJv4JEAn0nVcGUMmQK5DhL/E+j5AyxCnaT0sOkAWjprzpkw+QNTYB9E2mkBA1UmFxMADNUAMq2BKFjQ6QNbE+skwmQ9Ax13v3XyIrj8AAAAAAAAAAPZaoLrl1KA/ldPRAdAxzj8Qt0Vx1Jz3P1tZCk+7k/c/ydD80yirBUDJniR6qs8KQBpWwZQsaPQ/skNn3IpRCUDvZ4rdrDD8P6Aiw2DntQNAAAAAAAAAAAAAAAAAAAAAAODKGLJmS6s/t7S0tLT04j9oAmGhv+HtP7Vn2BUg9/I/zJyj3UrrAkDRcmoIYqYLQM4tiqPmvPk/wmkDnTbQ8T9gl8fP99cPQBn2JNFTfdY/8eoK4Cq19T+RdB1XxpDlP/ki5D6lmfs/+XOM56RCAkCzQHXLqSEAQHX1dn74hQpANY2y2tcCDUBtJkrcbW4TQALjHMZWbxNADbVYXPxf7D+wA6BjPCfFPwAAAAAAAAAAAAAAAAAAAAAAAAAAAAAAACk38UWrmqA/kOmRVzodvT8QHPsg2kbTP7S4+L84h+E/DdE2mpz93j91qHj8pp3fP59FVPFijtQ/vroCuEpt3T93XrJZjDfYP3PGrRiVg7E/AAAAAAAAAAAAAAAAAAAAANj31x+4Z9A/3dQQxEx31T+WCqZkQSO+P07cbW7/buA/DFDKy1fpF0AE0TaanP3uP1gORsh9SvM/KhbVMDs48j8JeoqoXy/2P4ISRTvUP/g/+coYsmZL+z84U+xmheEDQLK878wiqhBAF+cwtno7IUBabNiTRE8vQCtL4Wl38jlAi9erK4ArQUDJLIWn3ck2QK+LOVLnajVA4HV5/Hx/QUADUcWLOVI+QN09oJ0CmxdA3u2pffGKiz/DFhylTSz+P5VXOh0dAM0/HKR3LEvhAUDuMsByTSUIQCzBd0kuGwtAgiNFQ/xxGEALB81fv+sSQI3RKnmzcw5AERQw1hiqEUAAAAAAAAAAAFuC0q8ijcU/bj82CS3c0D8iAB3jOangP+IDwxsOmu8/t3M1PvdG8D9hpsGpXuD+P9zEs6KRgP8/62yG5p9GAUAjOZ2E7Pz8P6WHJWLDngRAeCRdx5UxGEB5PzYJLdwcQM/p6ADoGCFAk8jU8+ASLkD/8RDhL7FCQO9oj9m1I0BALmC5phKUOkCnE5l6Hlw1QCyanP2eXkBA4ArgKrV1QUDoN5+YBpJCQHGP2bUjEkJAe/uUZi64QUDiUZDBznJAQJIVho/2mD9AJ/ItxGnaQUD55hPTQBJBQHye6rM2fTlAXnfyhG0XP0CpuPi/OIdCQNYvsX4yTDNANoS/xPpJQkDQXXXojFtBQLBYXPxfnEJAXZiv6MahREDYoC5yvDVFQNCwCqZkQUZA8qc0c8GxRUAXx1tr8HpFQFSip/qsTUJARNN6WCI2RkC3ck0lKP1EQC9F4GR7aURAyvPDL5QbQECgcjBC7lNAQDCziCpezD5AlDhN62GJNkBeYPNshuYyQPmwJ4me6h9AtSmTlvyZMkBeRBUv5kg2QN6ZRVTxYhZA1IFBQAE/8j970aomhKIRQJaODoCO8QxABh/tMbt2GEB91ogt0a8eQKbyvjOLqBpA1zefmAaSGEBaXPxfnMMUQLaTJ2y7sCBAgVosLv4vLkC7K4Cr1FZBQKQYlYMRcj5Agxtqsbj4PkAXmmI3Kww+QExP9Vmbvj1APrSqCaFoOkDvZ4rdrDA0QFmPvNLp6DdAog+FivqPPECazMsAyzU8QAiUfhVprDlAnjhqzpsyQkAJVLecGoJCQLsD4EiCaD9AbUYfJ/iuQkDLoTNuxahDQFayoBGPgkJARNN6WCI2Q0AkTc5+T69BQHwrRuVghEFA7z29gDzEQUCq1dv54ZdAQKD6rE1fbkFAbCk87U6eM0A941aMysE3QJg3grXM6DxA3so1laD0OUCsHpaIDXs8QKjG594I1j9AY/Jnit2sOkCL/JliNyszQAOlX0UaKzJADmyezdD8MECzvO/MIqpAQL8Ttl1YhUFAZ4X+hnePQUDRlTFkzRZEQEejrPa1wEJAabWvBapbQUAUBRnsLD9AQEDLjD5O8D5AC89JhcTAQECshyViwx5BQPCFchNftEBAr0pt3Y9NM0A2UeJuc/s5QKsArlJb9zRA8IVyE1+0MEDaTJS429z+P2MMWbOlDQhArLbuxyahEUAkRNtocvbrP/Roj9m1I+I/1msuJE2p2D9E80+jrPblP84dOSHWV+Y/PxMl7ja37z/QQJKu48rYP281PvdGsNY/EouL/4tz2D/2R5iv6MbxPyLGVm/nhw9ARkEGO8tv+z+0uPi/OIcBQAUi30KcpgVAmdzEF61q8j85b8qkJX8OQGkuOPZBtBFAtSKNlfedCUB/ACblPTAEQNTc/t0gvQNAcLe5/btBEkCAegF5iPAXQMjN0PzTKCdA7oJjH0TbQUD7SaKn+ixBQCyVvdfl8TtAGs9JhcTAPkB9Q0r5UKg5QFlO8F2SyzdAdeeHXyg3OECr951ZRBU0QN3BJZyJEidAQFrVhFA0/D+sMmnJnyn2P+Rtbv9ukN4/TgROtpce6T8p9De8e0DrP5jauh+bhNY/yj2Dusjx9j+ysEYc2LzyP18jO+hSle0/wTOLqOLFzD/fvRGsZUa/PwAAAAAAAAAAAAAAAAAAAABXE0LRcGCAPyBTz4NLOLM/k7KcdIBr0j8PI+Q+pZkDQDgNQcx0VytAfaD0q0hjK0BfXsyROlclQJUCm2czNDVAHGe0e9j6NECUBXCV2ro3QMOnUVb7WjpAXQgo4EeYOEDCal8LVLfMP5DhwCCggL8/QFrVhFA0jD9P43NvBGvZPwAAAAAAAAAAAAAAAAAAAAAAAAAAAAAAAIoSd5vbv6s/IKNyMELu0z/U8dYavF7dPwAAAAAAAAAAAAAAAAAAAAAAAAAAAAAAAAAAAAAAAAAAAAAAAAAAAAARRsh9SjOXP+vs9/QC8tA/rrfzwy+U2z+IXTsiGQnwP1lDEDPdVQ9A9np1BXCVEkBvns3Q/NMIQPgl1k+GyRRABSLfQpym5T8OGOcwtnr7P5PWwxKxYf8/w7EPom00+T8lX9GNQ0oBQCwHI+Q+pQlAQZiv6MYhEUDPXXXojFsZQHt//YF7BiNA/ItzGFu9JUBDbLuwCqY0QG5OKiQGHi5ADImTFf0iMEAmNP80ymorQNyRE2J9ZRZAbEoWNOJRwD8AAAAAAAAAAAAAAAAAAAAAcPB6dQVw1T8pbcCsE5nqP3H6cofrmwdALx8KFfUfEUD+bpDesSwFQF87IhkJEAFA+btBeseypD8AAAAAAAAAAAAAAAAAAAAAAAAAAAAAAAAAAAAAAAAAAJfQwg21WNw/C0+7kydsE0DHM4uo4sUYQIZYIjbsSR5AJrhnUBc5IEA3z2Zo/mkUQIHklU5HBxBAWKmt+7FJIkClbjk1BDExQCXRGbdi1ENAxaMgg53lQEAgPNBrZAc9QKbesSyFpzxAQsJ8RTcONUA29De8e0A5QC3xLS4l+zpA/OM+pZkLO0DIdw9op8A2QEMmEBb6GzRA71CLxcX/L0A0CS3cUIsrQB57kuipPjRAuX0QbaPJMkCJ45BSPhQ2QJ8icLK99DBA4ifDZF4GOkB6VjUhFA08QCLlWCdhyD1A\",\"dtype\":\"float64\",\"shape\":[354]},\"dry\":{\"__ndarray__\":\"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\",\"dtype\":\"float64\",\"shape\":[354]},\"green\":{\"__ndarray__\":\"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\",\"dtype\":\"float64\",\"shape\":[354]},\"utc_time\":{\"__ndarray__\":\"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\",\"dtype\":\"float64\",\"shape\":[354]},\"water\":{\"__ndarray__\":\"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\",\"dtype\":\"float64\",\"shape\":[354]},\"wet\":{\"__ndarray__\":\"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\",\"dtype\":\"float64\",\"shape\":[354]}},\"selected\":{\"id\":\"1191\",\"type\":\"Selection\"},\"selection_policy\":{\"id\":\"1192\",\"type\":\"UnionRenderers\"}},\"id\":\"1131\",\"type\":\"ColumnDataSource\"},{\"attributes\":{\"data_source\":{\"id\":\"1049\",\"type\":\"ColumnDataSource\"},\"glyph\":{\"id\":\"1051\",\"type\":\"VArea\"},\"hover_glyph\":null,\"muted_glyph\":{\"id\":\"1053\",\"type\":\"VArea\"},\"name\":\"water\",\"nonselection_glyph\":{\"id\":\"1052\",\"type\":\"VArea\"},\"selection_glyph\":null,\"view\":{\"id\":\"1055\",\"type\":\"CDSView\"}},\"id\":\"1054\",\"type\":\"GlyphRenderer\"},{\"attributes\":{},\"id\":\"1227\",\"type\":\"UnionRenderers\"},{\"attributes\":{\"fill_alpha\":0.1,\"fill_color\":\"#1f77b4\",\"x\":{\"field\":\"utc_time\"},\"y1\":{\"expr\":{\"id\":\"1039\",\"type\":\"Stack\"}},\"y2\":{\"expr\":{\"id\":\"1040\",\"type\":\"Stack\"}}},\"id\":\"1052\",\"type\":\"VArea\"},{\"attributes\":{\"fill_alpha\":0.1,\"fill_color\":\"#1f77b4\",\"x\":{\"field\":\"utc_time\"},\"y1\":{\"expr\":{\"id\":\"1045\",\"type\":\"Stack\"}},\"y2\":{\"expr\":{\"id\":\"1046\",\"type\":\"Stack\"}}},\"id\":\"1134\",\"type\":\"VArea\"},{\"attributes\":{\"fill_alpha\":0.2,\"fill_color\":\"grey\",\"x\":{\"field\":\"utc_time\"},\"y1\":{\"expr\":{\"id\":\"1045\",\"type\":\"Stack\"}},\"y2\":{\"expr\":{\"id\":\"1046\",\"type\":\"Stack\"}}},\"id\":\"1135\",\"type\":\"VArea\"},{\"attributes\":{\"base\":60,\"mantissas\":[1,2,5,10,15,20,30],\"max_interval\":1800000.0,\"min_interval\":1000.0,\"num_minor_ticks\":0},\"id\":\"1061\",\"type\":\"AdaptiveTicker\"},{\"attributes\":{\"data_source\":{\"id\":\"1131\",\"type\":\"ColumnDataSource\"},\"glyph\":{\"id\":\"1133\",\"type\":\"VArea\"},\"hover_glyph\":null,\"muted_glyph\":{\"id\":\"1135\",\"type\":\"VArea\"},\"name\":\"dry\",\"nonselection_glyph\":{\"id\":\"1134\",\"type\":\"VArea\"},\"selection_glyph\":null,\"view\":{\"id\":\"1137\",\"type\":\"CDSView\"}},\"id\":\"1136\",\"type\":\"GlyphRenderer\"},{\"attributes\":{\"base\":24,\"mantissas\":[1,2,4,6,8,12],\"max_interval\":43200000.0,\"min_interval\":3600000.0,\"num_minor_ticks\":0},\"id\":\"1062\",\"type\":\"AdaptiveTicker\"},{\"attributes\":{\"source\":{\"id\":\"1131\",\"type\":\"ColumnDataSource\"}},\"id\":\"1137\",\"type\":\"CDSView\"},{\"attributes\":{\"days\":[1,2,3,4,5,6,7,8,9,10,11,12,13,14,15,16,17,18,19,20,21,22,23,24,25,26,27,28,29,30,31]},\"id\":\"1063\",\"type\":\"DaysTicker\"},{\"attributes\":{},\"id\":\"1158\",\"type\":\"Selection\"},{\"attributes\":{\"days\":[1,4,7,10,13,16,19,22,25,28]},\"id\":\"1064\",\"type\":\"DaysTicker\"},{\"attributes\":{\"days\":[1,8,15,22]},\"id\":\"1065\",\"type\":\"DaysTicker\"},{\"attributes\":{},\"id\":\"1159\",\"type\":\"UnionRenderers\"},{\"attributes\":{\"label\":{\"value\":\"dry\"},\"renderers\":[{\"id\":\"1136\",\"type\":\"GlyphRenderer\"}]},\"id\":\"1161\",\"type\":\"LegendItem\"},{\"attributes\":{\"fill_alpha\":0.7,\"fill_color\":\"#030aa7\",\"x\":{\"field\":\"utc_time\"},\"y1\":{\"expr\":{\"id\":\"1039\",\"type\":\"Stack\"}},\"y2\":{\"expr\":{\"id\":\"1040\",\"type\":\"Stack\"}}},\"id\":\"1051\",\"type\":\"VArea\"},{\"attributes\":{\"days\":[1,15]},\"id\":\"1066\",\"type\":\"DaysTicker\"},{\"attributes\":{\"callback\":null,\"data\":{\"bare\":{\"__ndarray__\":\"7hbiNK2H9T9cBXCV2rr/P20bTc5+TwdAWzGbnjtyMUD9zl8uipZDQN77ziyiihtALyoHI+Q+PkBqqcre6/I7QAXtFNg8mytAccK2C6tgM0AvRZAOwKQcQAL3HFlRXB9A+8MvlJv4JEAn0nVcGUMmQK5DhL/E+j5AyxCnaT0sOkAWjprzpkw+QNTYB9E2mkBA1UmFxMADNUAMq2BKFjQ6QNbE+skwmQ9Ax13v3XyIrj8AAAAAAAAAAPZaoLrl1KA/ldPRAdAxzj8Qt0Vx1Jz3P1tZCk+7k/c/ydD80yirBUDJniR6qs8KQBpWwZQsaPQ/skNn3IpRCUDvZ4rdrDD8P6Aiw2DntQNAAAAAAAAAAAAAAAAAAAAAAODKGLJmS6s/t7S0tLT04j9oAmGhv+HtP7Vn2BUg9/I/zJyj3UrrAkDRcmoIYqYLQM4tiqPmvPk/wmkDnTbQ8T9gl8fP99cPQBn2JNFTfdY/8eoK4Cq19T+RdB1XxpDlP/ki5D6lmfs/+XOM56RCAkCzQHXLqSEAQHX1dn74hQpANY2y2tcCDUBtJkrcbW4TQALjHMZWbxNADbVYXPxf7D+wA6BjPCfFPwAAAAAAAAAAAAAAAAAAAAAAAAAAAAAAACk38UWrmqA/kOmRVzodvT8QHPsg2kbTP7S4+L84h+E/DdE2mpz93j91qHj8pp3fP59FVPFijtQ/vroCuEpt3T93XrJZjDfYP3PGrRiVg7E/AAAAAAAAAAAAAAAAAAAAANj31x+4Z9A/3dQQxEx31T+WCqZkQSO+P07cbW7/buA/DFDKy1fpF0AE0TaanP3uP1gORsh9SvM/KhbVMDs48j8JeoqoXy/2P4ISRTvUP/g/+coYsmZL+z84U+xmheEDQLK878wiqhBAF+cwtno7IUBabNiTRE8vQCtL4Wl38jlAi9erK4ArQUDJLIWn3ck2QK+LOVLnajVA4HV5/Hx/QUADUcWLOVI+QN09oJ0CmxdA3u2pffGKiz/DFhylTSz+P5VXOh0dAM0/HKR3LEvhAUDuMsByTSUIQCzBd0kuGwtAgiNFQ/xxGEALB81fv+sSQI3RKnmzcw5AERQw1hiqEUAAAAAAAAAAAFuC0q8ijcU/bj82CS3c0D8iAB3jOangP+IDwxsOmu8/t3M1PvdG8D9hpsGpXuD+P9zEs6KRgP8/62yG5p9GAUAjOZ2E7Pz8P6WHJWLDngRAeCRdx5UxGEB5PzYJLdwcQM/p6ADoGCFAk8jU8+ASLkD/8RDhL7FCQO9oj9m1I0BALmC5phKUOkCnE5l6Hlw1QCyanP2eXkBA4ArgKrV1QUDoN5+YBpJCQHGP2bUjEkJAe/uUZi64QUDiUZDBznJAQJIVho/2mD9AJ/ItxGnaQUD55hPTQBJBQHye6rM2fTlAXnfyhG0XP0CpuPi/OIdCQNYvsX4yTDNANoS/xPpJQkDQXXXojFtBQLBYXPxfnEJAXZiv6MahREDYoC5yvDVFQNCwCqZkQUZA8qc0c8GxRUAXx1tr8HpFQFSip/qsTUJARNN6WCI2RkC3ck0lKP1EQC9F4GR7aURAyvPDL5QbQECgcjBC7lNAQDCziCpezD5AlDhN62GJNkBeYPNshuYyQPmwJ4me6h9AtSmTlvyZMkBeRBUv5kg2QN6ZRVTxYhZA1IFBQAE/8j970aomhKIRQJaODoCO8QxABh/tMbt2GEB91ogt0a8eQKbyvjOLqBpA1zefmAaSGEBaXPxfnMMUQLaTJ2y7sCBAgVosLv4vLkC7K4Cr1FZBQKQYlYMRcj5Agxtqsbj4PkAXmmI3Kww+QExP9Vmbvj1APrSqCaFoOkDvZ4rdrDA0QFmPvNLp6DdAog+FivqPPECazMsAyzU8QAiUfhVprDlAnjhqzpsyQkAJVLecGoJCQLsD4EiCaD9AbUYfJ/iuQkDLoTNuxahDQFayoBGPgkJARNN6WCI2Q0AkTc5+T69BQHwrRuVghEFA7z29gDzEQUCq1dv54ZdAQKD6rE1fbkFAbCk87U6eM0A941aMysE3QJg3grXM6DxA3so1laD0OUCsHpaIDXs8QKjG594I1j9AY/Jnit2sOkCL/JliNyszQAOlX0UaKzJADmyezdD8MECzvO/MIqpAQL8Ttl1YhUFAZ4X+hnePQUDRlTFkzRZEQEejrPa1wEJAabWvBapbQUAUBRnsLD9AQEDLjD5O8D5AC89JhcTAQECshyViwx5BQPCFchNftEBAr0pt3Y9NM0A2UeJuc/s5QKsArlJb9zRA8IVyE1+0MEDaTJS429z+P2MMWbOlDQhArLbuxyahEUAkRNtocvbrP/Roj9m1I+I/1msuJE2p2D9E80+jrPblP84dOSHWV+Y/PxMl7ja37z/QQJKu48rYP281PvdGsNY/EouL/4tz2D/2R5iv6MbxPyLGVm/nhw9ARkEGO8tv+z+0uPi/OIcBQAUi30KcpgVAmdzEF61q8j85b8qkJX8OQGkuOPZBtBFAtSKNlfedCUB/ACblPTAEQNTc/t0gvQNAcLe5/btBEkCAegF5iPAXQMjN0PzTKCdA7oJjH0TbQUD7SaKn+ixBQCyVvdfl8TtAGs9JhcTAPkB9Q0r5UKg5QFlO8F2SyzdAdeeHXyg3OECr951ZRBU0QN3BJZyJEidAQFrVhFA0/D+sMmnJnyn2P+Rtbv9ukN4/TgROtpce6T8p9De8e0DrP5jauh+bhNY/yj2Dusjx9j+ysEYc2LzyP18jO+hSle0/wTOLqOLFzD/fvRGsZUa/PwAAAAAAAAAAAAAAAAAAAABXE0LRcGCAPyBTz4NLOLM/k7KcdIBr0j8PI+Q+pZkDQDgNQcx0VytAfaD0q0hjK0BfXsyROlclQJUCm2czNDVAHGe0e9j6NECUBXCV2ro3QMOnUVb7WjpAXQgo4EeYOEDCal8LVLfMP5DhwCCggL8/QFrVhFA0jD9P43NvBGvZPwAAAAAAAAAAAAAAAAAAAAAAAAAAAAAAAIoSd5vbv6s/IKNyMELu0z/U8dYavF7dPwAAAAAAAAAAAAAAAAAAAAAAAAAAAAAAAAAAAAAAAAAAAAAAAAAAAAARRsh9SjOXP+vs9/QC8tA/rrfzwy+U2z+IXTsiGQnwP1lDEDPdVQ9A9np1BXCVEkBvns3Q/NMIQPgl1k+GyRRABSLfQpym5T8OGOcwtnr7P5PWwxKxYf8/w7EPom00+T8lX9GNQ0oBQCwHI+Q+pQlAQZiv6MYhEUDPXXXojFsZQHt//YF7BiNA/ItzGFu9JUBDbLuwCqY0QG5OKiQGHi5ADImTFf0iMEAmNP80ymorQNyRE2J9ZRZAbEoWNOJRwD8AAAAAAAAAAAAAAAAAAAAAcPB6dQVw1T8pbcCsE5nqP3H6cofrmwdALx8KFfUfEUD+bpDesSwFQF87IhkJEAFA+btBeseypD8AAAAAAAAAAAAAAAAAAAAAAAAAAAAAAAAAAAAAAAAAAJfQwg21WNw/C0+7kydsE0DHM4uo4sUYQIZYIjbsSR5AJrhnUBc5IEA3z2Zo/mkUQIHklU5HBxBAWKmt+7FJIkClbjk1BDExQCXRGbdi1ENAxaMgg53lQEAgPNBrZAc9QKbesSyFpzxAQsJ8RTcONUA29De8e0A5QC3xLS4l+zpA/OM+pZkLO0DIdw9op8A2QEMmEBb6GzRA71CLxcX/L0A0CS3cUIsrQB57kuipPjRAuX0QbaPJMkCJ45BSPhQ2QJ8icLK99DBA4ifDZF4GOkB6VjUhFA08QCLlWCdhyD1A\",\"dtype\":\"float64\",\"shape\":[354]},\"dry\":{\"__ndarray__\":\"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\",\"dtype\":\"float64\",\"shape\":[354]},\"green\":{\"__ndarray__\":\"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\",\"dtype\":\"float64\",\"shape\":[354]},\"utc_time\":{\"__ndarray__\":\"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\",\"dtype\":\"float64\",\"shape\":[354]},\"water\":{\"__ndarray__\":\"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\",\"dtype\":\"float64\",\"shape\":[354]},\"wet\":{\"__ndarray__\":\"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\",\"dtype\":\"float64\",\"shape\":[354]}},\"selected\":{\"id\":\"1226\",\"type\":\"Selection\"},\"selection_policy\":{\"id\":\"1227\",\"type\":\"UnionRenderers\"}},\"id\":\"1162\",\"type\":\"ColumnDataSource\"},{\"attributes\":{\"months\":[0,1,2,3,4,5,6,7,8,9,10,11]},\"id\":\"1067\",\"type\":\"MonthsTicker\"},{\"attributes\":{},\"id\":\"1226\",\"type\":\"Selection\"},{\"attributes\":{\"months\":[0,2,4,6,8,10]},\"id\":\"1068\",\"type\":\"MonthsTicker\"},{\"attributes\":{\"fill_alpha\":0.1,\"fill_color\":\"#1f77b4\",\"x\":{\"field\":\"utc_time\"},\"y1\":{\"expr\":{\"id\":\"1047\",\"type\":\"Stack\"}},\"y2\":{\"expr\":{\"id\":\"1048\",\"type\":\"Stack\"}}},\"id\":\"1165\",\"type\":\"VArea\"},{\"attributes\":{\"fill_alpha\":0.2,\"fill_color\":\"grey\",\"x\":{\"field\":\"utc_time\"},\"y1\":{\"expr\":{\"id\":\"1047\",\"type\":\"Stack\"}},\"y2\":{\"expr\":{\"id\":\"1048\",\"type\":\"Stack\"}}},\"id\":\"1166\",\"type\":\"VArea\"},{\"attributes\":{\"months\":[0,4,8]},\"id\":\"1069\",\"type\":\"MonthsTicker\"},{\"attributes\":{\"fill_alpha\":0.7,\"fill_color\":\"#653700\",\"x\":{\"field\":\"utc_time\"},\"y1\":{\"expr\":{\"id\":\"1047\",\"type\":\"Stack\"}},\"y2\":{\"expr\":{\"id\":\"1048\",\"type\":\"Stack\"}}},\"id\":\"1164\",\"type\":\"VArea\"},{\"attributes\":{\"months\":[0,6]},\"id\":\"1070\",\"type\":\"MonthsTicker\"},{\"attributes\":{\"data_source\":{\"id\":\"1162\",\"type\":\"ColumnDataSource\"},\"glyph\":{\"id\":\"1164\",\"type\":\"VArea\"},\"hover_glyph\":null,\"muted_glyph\":{\"id\":\"1166\",\"type\":\"VArea\"},\"name\":\"bare\",\"nonselection_glyph\":{\"id\":\"1165\",\"type\":\"VArea\"},\"selection_glyph\":null,\"view\":{\"id\":\"1168\",\"type\":\"CDSView\"}},\"id\":\"1167\",\"type\":\"GlyphRenderer\"},{\"attributes\":{\"mantissas\":[1,2,5],\"max_interval\":500.0,\"num_minor_ticks\":0},\"id\":\"1060\",\"type\":\"AdaptiveTicker\"},{\"attributes\":{},\"id\":\"1071\",\"type\":\"YearsTicker\"},{\"attributes\":{\"background_fill_alpha\":{\"value\":0.5},\"click_policy\":\"mute\",\"items\":[{\"id\":\"1074\",\"type\":\"LegendItem\"},{\"id\":\"1101\",\"type\":\"LegendItem\"},{\"id\":\"1130\",\"type\":\"LegendItem\"},{\"id\":\"1161\",\"type\":\"LegendItem\"},{\"id\":\"1194\",\"type\":\"LegendItem\"}],\"label_text_font_size\":{\"value\":\"9pt\"},\"location\":\"bottom_left\"},\"id\":\"1073\",\"type\":\"Legend\"},{\"attributes\":{\"source\":{\"id\":\"1162\",\"type\":\"ColumnDataSource\"}},\"id\":\"1168\",\"type\":\"CDSView\"},{\"attributes\":{\"bottom_units\":\"screen\",\"fill_alpha\":{\"value\":0.5},\"fill_color\":{\"value\":\"lightgrey\"},\"left_units\":\"screen\",\"level\":\"overlay\",\"line_alpha\":{\"value\":1.0},\"line_color\":{\"value\":\"black\"},\"line_dash\":[4,4],\"line_width\":{\"value\":2},\"render_mode\":\"css\",\"right_units\":\"screen\",\"top_units\":\"screen\"},\"id\":\"1072\",\"type\":\"BoxAnnotation\"},{\"attributes\":{\"label\":{\"value\":\"water\"},\"renderers\":[{\"id\":\"1054\",\"type\":\"GlyphRenderer\"}]},\"id\":\"1074\",\"type\":\"LegendItem\"},{\"attributes\":{},\"id\":\"1191\",\"type\":\"Selection\"},{\"attributes\":{\"callback\":null,\"data\":{\"bare\":{\"__ndarray__\":\"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\",\"dtype\":\"float64\",\"shape\":[354]},\"dry\":{\"__ndarray__\":\"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\",\"dtype\":\"float64\",\"shape\":[354]},\"green\":{\"__ndarray__\":\"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\",\"dtype\":\"float64\",\"shape\":[354]},\"utc_time\":{\"__ndarray__\":\"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\",\"dtype\":\"float64\",\"shape\":[354]},\"water\":{\"__ndarray__\":\"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\",\"dtype\":\"float64\",\"shape\":[354]},\"wet\":{\"__ndarray__\":\"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\",\"dtype\":\"float64\",\"shape\":[354]}},\"selected\":{\"id\":\"1127\",\"type\":\"Selection\"},\"selection_policy\":{\"id\":\"1128\",\"type\":\"UnionRenderers\"}},\"id\":\"1075\",\"type\":\"ColumnDataSource\"},{\"attributes\":{},\"id\":\"1192\",\"type\":\"UnionRenderers\"},{\"attributes\":{\"label\":{\"value\":\"bare\"},\"renderers\":[{\"id\":\"1167\",\"type\":\"GlyphRenderer\"}]},\"id\":\"1194\",\"type\":\"LegendItem\"},{\"attributes\":{},\"id\":\"1127\",\"type\":\"Selection\"},{\"attributes\":{\"callback\":null,\"data\":{},\"selected\":{\"id\":\"1228\",\"type\":\"Selection\"},\"selection_policy\":{\"id\":\"1229\",\"type\":\"UnionRenderers\"}},\"id\":\"1197\",\"type\":\"ColumnDataSource\"},{\"attributes\":{\"fill_alpha\":{\"value\":0.1},\"fill_color\":{\"value\":\"#1f77b4\"},\"hatch_alpha\":{\"value\":0.6},\"hatch_color\":{\"value\":\"white\"},\"hatch_pattern\":{\"value\":\"/\"},\"height\":{\"value\":100},\"left\":{\"value\":1320105600000.0},\"line_alpha\":{\"value\":0.1},\"line_color\":{\"value\":\"#1f77b4\"},\"line_width\":{\"value\":2},\"right\":{\"value\":1364774400000.0},\"y\":{\"value\":50}},\"id\":\"1199\",\"type\":\"HBar\"},{\"attributes\":{\"fill_alpha\":{\"value\":0.5},\"fill_color\":{\"value\":\"white\"},\"hatch_alpha\":{\"value\":0.6},\"hatch_color\":{\"value\":\"white\"},\"hatch_pattern\":{\"value\":\"/\"},\"height\":{\"value\":100},\"left\":{\"value\":1320105600000.0},\"line_alpha\":{\"value\":0.6},\"line_color\":{\"value\":\"white\"},\"line_width\":{\"value\":2},\"right\":{\"value\":1364774400000.0},\"y\":{\"value\":50}},\"id\":\"1198\",\"type\":\"HBar\"},{\"attributes\":{\"data_source\":{\"id\":\"1197\",\"type\":\"ColumnDataSource\"},\"glyph\":{\"id\":\"1198\",\"type\":\"HBar\"},\"hover_glyph\":null,\"muted_glyph\":null,\"nonselection_glyph\":{\"id\":\"1199\",\"type\":\"HBar\"},\"selection_glyph\":null,\"view\":{\"id\":\"1201\",\"type\":\"CDSView\"}},\"id\":\"1200\",\"type\":\"GlyphRenderer\"},{\"attributes\":{\"source\":{\"id\":\"1197\",\"type\":\"ColumnDataSource\"}},\"id\":\"1201\",\"type\":\"CDSView\"},{\"attributes\":{},\"id\":\"1228\",\"type\":\"Selection\"},{\"attributes\":{},\"id\":\"1229\",\"type\":\"UnionRenderers\"},{\"attributes\":{\"fields\":[\"water\"]},\"id\":\"1040\",\"type\":\"Stack\"},{\"attributes\":{\"callback\":null,\"end\":100},\"id\":\"1196\",\"type\":\"Range1d\"},{\"attributes\":{\"align\":\"center\",\"text\":\"Percentage of area dominated by WOfS, Wetness, Fractional Cover for 9.csv\",\"text_font_size\":{\"value\":\"12pt\"}},\"id\":\"1003\",\"type\":\"Title\"},{\"attributes\":{},\"id\":\"1009\",\"type\":\"LinearScale\"},{\"attributes\":{},\"id\":\"1058\",\"type\":\"BasicTickFormatter\"},{\"attributes\":{},\"id\":\"1011\",\"type\":\"LinearScale\"},{\"attributes\":{\"bounds\":[559266492000.0,1572567695000.0],\"formatter\":{\"id\":\"1037\",\"type\":\"DatetimeTickFormatter\"},\"major_label_orientation\":45,\"ticker\":{\"id\":\"1014\",\"type\":\"DatetimeTicker\"}},\"id\":\"1013\",\"type\":\"DatetimeAxis\"},{\"attributes\":{\"num_minor_ticks\":5,\"tickers\":[{\"id\":\"1060\",\"type\":\"AdaptiveTicker\"},{\"id\":\"1061\",\"type\":\"AdaptiveTicker\"},{\"id\":\"1062\",\"type\":\"AdaptiveTicker\"},{\"id\":\"1063\",\"type\":\"DaysTicker\"},{\"id\":\"1064\",\"type\":\"DaysTicker\"},{\"id\":\"1065\",\"type\":\"DaysTicker\"},{\"id\":\"1066\",\"type\":\"DaysTicker\"},{\"id\":\"1067\",\"type\":\"MonthsTicker\"},{\"id\":\"1068\",\"type\":\"MonthsTicker\"},{\"id\":\"1069\",\"type\":\"MonthsTicker\"},{\"id\":\"1070\",\"type\":\"MonthsTicker\"},{\"id\":\"1071\",\"type\":\"YearsTicker\"}]},\"id\":\"1014\",\"type\":\"DatetimeTicker\"},{\"attributes\":{\"ticker\":{\"id\":\"1014\",\"type\":\"DatetimeTicker\"}},\"id\":\"1017\",\"type\":\"Grid\"},{\"attributes\":{\"axis_label\":\"percentage of polygon classified as type\",\"axis_label_text_font_size\":{\"value\":\"8pt\"},\"bounds\":[0,100],\"formatter\":{\"id\":\"1058\",\"type\":\"BasicTickFormatter\"},\"ticker\":{\"id\":\"1019\",\"type\":\"BasicTicker\"}},\"id\":\"1018\",\"type\":\"LinearAxis\"},{\"attributes\":{},\"id\":\"1019\",\"type\":\"BasicTicker\"},{\"attributes\":{\"dimension\":1,\"ticker\":{\"id\":\"1019\",\"type\":\"BasicTicker\"}},\"id\":\"1022\",\"type\":\"Grid\"},{\"attributes\":{\"fields\":[]},\"id\":\"1039\",\"type\":\"Stack\"},{\"attributes\":{\"days\":[\"%d/%m/%Y\"],\"months\":[\"%m/%Y\"]},\"id\":\"1037\",\"type\":\"DatetimeTickFormatter\"},{\"attributes\":{\"callback\":null,\"end\":1572567695000.0,\"start\":559266492000.0},\"id\":\"1195\",\"type\":\"Range1d\"},{\"attributes\":{\"text\":\"The Fractional Cover algorithm developed by the Joint Remote Sensing Research Program\\nand the Water Observations from Space algorithm developed by Geoscience Australia are used in the production of this data\",\"text_font_size\":{\"value\":\"8.5pt\"},\"text_font_style\":\"italic\",\"x\":0,\"x_units\":\"screen\",\"y\":0,\"y_units\":\"screen\"},\"id\":\"1036\",\"type\":\"Label\"},{\"attributes\":{},\"id\":\"1023\",\"type\":\"PanTool\"},{\"attributes\":{},\"id\":\"1024\",\"type\":\"WheelZoomTool\"}],\"root_ids\":[\"1002\"]},\"title\":\"Bokeh Application\",\"version\":\"1.4.0\"}};\n",
       "  var render_items = [{\"docid\":\"37b89ce4-5ed5-45a5-8170-d88848de1aae\",\"roots\":{\"1002\":\"f35b1e1c-502b-4bb4-b2dc-0f6888e1f28a\"}}];\n",
       "  root.Bokeh.embed.embed_items_notebook(docs_json, render_items);\n",
       "\n",
       "  }\n",
       "  if (root.Bokeh !== undefined) {\n",
       "    embed_document(root);\n",
       "  } else {\n",
       "    var attempts = 0;\n",
       "    var timer = setInterval(function(root) {\n",
       "      if (root.Bokeh !== undefined) {\n",
       "        clearInterval(timer);\n",
       "        embed_document(root);\n",
       "      } else {\n",
       "        attempts++;\n",
       "        if (attempts > 100) {\n",
       "          clearInterval(timer);\n",
       "          console.log(\"Bokeh: ERROR: Unable to run BokehJS code because BokehJS library is missing\");\n",
       "        }\n",
       "      }\n",
       "    }, 10, root)\n",
       "  }\n",
       "})(window);"
      ],
      "application/vnd.bokehjs_exec.v0+json": ""
     },
     "metadata": {
      "application/vnd.bokehjs_exec.v0+json": {
       "id": "1002"
      }
     },
     "output_type": "display_data"
    }
   ],
   "source": [
    "from bokeh.plotting import figure, output_file, show\n",
    "from bokeh.models import Range1d, Label #use this to set the newWIT graph ranges\n",
    "from bokeh.models.formatters import DatetimeTickFormatter\n",
    "from bokeh.models.glyphs import Text\n",
    "from bokeh.models import ColumnDataSource\n",
    "from bokeh.models.tickers import DatetimeTicker\n",
    "\n",
    "TOOLS = [\"pan, wheel_zoom, box_zoom, reset, tap, save\"]\n",
    "\n",
    "def prettierWITplot():\n",
    "    '''Function to use bokeh to draw a WIT plot.'''\n",
    "    print('stuff')\n",
    "    \n",
    "title =f'Percentage of area dominated by WOfS, Wetness, Fractional Cover for {polyName}'    \n",
    "       \n",
    "#set up the x axis to recognise date and time. Note that you will only see the days when you zoom in.\n",
    "p =figure(plot_width=1200, \n",
    "          plot_height = 400, \n",
    "          x_axis_type='datetime',\n",
    "         title=title, tools=TOOLS)\n",
    "p.sizing_mode = \"scale_width\"\n",
    "#align the title in the centre\n",
    "p.title.align= \"center\"\n",
    "p.title.text_font_size=\"12pt\"\n",
    "\n",
    "#label axes\n",
    "p.yaxis.axis_label=(\"percentage of polygon classified as type\")\n",
    "p.yaxis.axis_label_text_font_size=\"8pt\"\n",
    "\n",
    "\n",
    "# #layout puts things in certain places\n",
    "\n",
    "#we need screen units to put the attribution label under the plot. Don't ask why.\n",
    "label_opts = dict(\n",
    "    x=0, \n",
    "    y=0,\n",
    "    x_units='screen', \n",
    "    y_units='screen',\n",
    "    text_font_style=\"italic\", \n",
    "    text_font_size=\"8.5pt\")\n",
    "\n",
    "\n",
    "\n",
    "msg1 = 'The Fractional Cover algorithm developed by the Joint Remote Sensing Research Program\\n\\\n",
    "and the Water Observations from Space algorithm developed by Geoscience Australia are used in the production of this data'\n",
    "caption1 = Label(text=msg1, **label_opts)\n",
    "\n",
    "p.add_layout(caption1, 'below')\n",
    "\n",
    "p.xaxis.formatter=DatetimeTickFormatter(years =[\"%Y\"], months=[\"%m/%Y\"] ,days=[\"%d/%m/%Y\"])\n",
    "p.xaxis.major_label_orientation = 45\n",
    "\n",
    "#create the actual stack plot using data from the pandas dataframe with the ingested csv.\n",
    "p.varea_stack(['water', \n",
    "              'wet',\n",
    "              'green',\n",
    "              'dry',\n",
    "              'bare'], x= 'utc_time', color=pal, fill_alpha=0.7, source = WITdata, \n",
    "              legend_label=[\"water\",\"wet\",\"green\",\"dry\",\"bare\"], muted_color=\"grey\", muted_alpha=0.2)\n",
    "\n",
    "\t\n",
    "#set the new WIT graph ranges.\n",
    "left, right, bottom, top = WITdata.index[0], WITdata.index[-1], 0, 100 #set \n",
    "p.x_range=Range1d(left, right)\n",
    "p.y_range=Range1d(bottom, top)\n",
    "p.xaxis.bounds=(left,right)\n",
    "p.yaxis.bounds=(bottom,top)\n",
    "\n",
    "#now we want to overplot the data on the plot\n",
    "#create rectangle borders for no-data times (SLC-off only)\n",
    "LS5_8_gap_start = datetime(2011,11,1)\n",
    "LS5_8_gap_end = datetime(2013,4,1)\n",
    "\n",
    "#plot our dead satellite rectangle\n",
    "p.hbar(y=50, \n",
    "       height=100,\n",
    "       left=LS5_8_gap_start, \n",
    "       right=LS5_8_gap_end, \n",
    "       color=\"white\", \n",
    "       alpha=0.5, \n",
    "       hatch_color=\"white\", \n",
    "       hatch_pattern='/',\n",
    "       hatch_alpha=0.6,\n",
    "       line_color=\"white\",\n",
    "       line_width =2,\n",
    "       line_alpha=0.6)\n",
    "\n",
    "p.legend\n",
    "p.legend.location=\"bottom_left\"\n",
    "p.legend.click_policy=\"mute\"\n",
    "p.legend.background_fill_alpha=0.5\n",
    "p.legend.border_line_alpha=0.5\n",
    "p.legend.label_text_font_size=\"9pt\"\n",
    "\n",
    "#display the plot    \n",
    "show(p)   "
   ]
  },
  {
   "cell_type": "markdown",
   "metadata": {},
   "source": [
    "<!-- ### query: setup query as output of javascript picker from bokeh plot -->"
   ]
  },
  {
   "cell_type": "markdown",
   "metadata": {},
   "source": [
    "### query time period from plot. to do so zoom in until you get a date you want"
   ]
  },
  {
   "cell_type": "markdown",
   "metadata": {},
   "source": [
    "### Insert your chosen date in the cell below where it says `chosen_date`"
   ]
  },
  {
   "cell_type": "markdown",
   "metadata": {},
   "source": [
    "### Date needs to be in format: 'YYYY-MM-DD'"
   ]
  },
  {
   "cell_type": "code",
   "execution_count": 15,
   "metadata": {},
   "outputs": [],
   "source": [
    "chosen_date='27-09-2018'"
   ]
  },
  {
   "cell_type": "code",
   "execution_count": 16,
   "metadata": {},
   "outputs": [
    {
     "name": "stdout",
     "output_type": "stream",
     "text": [
      "27-09-2018\n"
     ]
    }
   ],
   "source": [
    "print(chosen_date)"
   ]
  },
  {
   "cell_type": "markdown",
   "metadata": {},
   "source": [
    "### Ok now we have to match the polygon back up with the graph. To do this, set the path to the location of the polygon used to generate the WIT"
   ]
  },
  {
   "cell_type": "markdown",
   "metadata": {},
   "source": [
    "set the path to the location of the polygon. For Wetlands Insight Tool v2, this is `/g/data/r78/rjd547/Ramsar_Wetlands/Wetlands_Insight_Tool_v2/ ramsar_wetlands_2018_exploded_3577.shp`"
   ]
  },
  {
   "cell_type": "code",
   "execution_count": 17,
   "metadata": {},
   "outputs": [],
   "source": [
    "poly_path = '/g/data/r78/rjd547/Ramsar_Wetlands/Wetlands_Insight_Tool_v2/ramsar_wetlands_2018_exploded_3577.shp'"
   ]
  },
  {
   "cell_type": "code",
   "execution_count": 18,
   "metadata": {},
   "outputs": [
    {
     "name": "stdout",
     "output_type": "stream",
     "text": [
      "9\n"
     ]
    }
   ],
   "source": [
    "#this section opens our chosen polygon based off our chosen WIT output\n",
    "with fiona.open(poly_path) as shapes:\n",
    "    #get crs object from polygon file\n",
    "    crs = geometry.CRS(shapes.crs_wkt)\n",
    "    for feature in shapes:\n",
    "        #print (feature['id'])\n",
    "        if feature['id'] == input_file.split('.')[0]: #match the input file number, get the polygon back\n",
    "            #get feature geometry\n",
    "            feature_geometry=feature['geometry']\n",
    "            #create datacube geometry.Geometry object\n",
    "            geom = geometry.Geometry(feature_geometry, crs=crs)\n",
    "            print(feature['id'])"
   ]
  },
  {
   "cell_type": "code",
   "execution_count": 19,
   "metadata": {},
   "outputs": [],
   "source": [
    "### Now set up the query. I recommend picking roughly 10 days either side"
   ]
  },
  {
   "cell_type": "markdown",
   "metadata": {},
   "source": [
    "set a buffer 10 days either side of our chosen date to capture our search"
   ]
  },
  {
   "cell_type": "code",
   "execution_count": 20,
   "metadata": {},
   "outputs": [],
   "source": [
    "#this is our ten day buffer\n",
    "buffer = pd.Timedelta('30 days')"
   ]
  },
  {
   "cell_type": "code",
   "execution_count": 21,
   "metadata": {},
   "outputs": [],
   "source": [
    "chosen_date =pd.to_datetime(chosen_date)"
   ]
  },
  {
   "cell_type": "code",
   "execution_count": 22,
   "metadata": {},
   "outputs": [],
   "source": [
    "early_buffer = chosen_date - buffer\n",
    "late_buffer = chosen_date + buffer"
   ]
  },
  {
   "cell_type": "code",
   "execution_count": 23,
   "metadata": {},
   "outputs": [],
   "source": [
    "#convert back to string\n",
    "early_buffer = str(early_buffer)[:10]\n",
    "late_buffer = str(late_buffer)[:10]"
   ]
  },
  {
   "cell_type": "code",
   "execution_count": 24,
   "metadata": {},
   "outputs": [
    {
     "name": "stdout",
     "output_type": "stream",
     "text": [
      "2018-08-28 2018-10-27\n"
     ]
    }
   ],
   "source": [
    "print(early_buffer, late_buffer)"
   ]
  },
  {
   "cell_type": "code",
   "execution_count": 25,
   "metadata": {},
   "outputs": [],
   "source": [
    "#this sets up our datacube query based off the corresponding polygon and the chosen date. \n",
    "query = {'geopolygon': geom,\n",
    "         'time': (early_buffer,late_buffer),\n",
    "         'output_crs': 'EPSG:3577',\n",
    "         'resolution':(-25,25)\n",
    "        }"
   ]
  },
  {
   "cell_type": "code",
   "execution_count": 26,
   "metadata": {},
   "outputs": [
    {
     "name": "stdout",
     "output_type": "stream",
     "text": [
      "Loading ls5\n",
      "    Skipping ls5; no valid data for query\n",
      "Loading ls7\n",
      "    Ignoring SLC-off observations for ls7\n",
      "    Skipping ls7; no valid data for query\n",
      "Loading ls8\n",
      "    Loading 3 filtered ls8 timesteps\n",
      "Returning ls8 data\n",
      "    Replacing invalid -999 values with NaN (data will be coerced to float32)\n",
      "Loading ls5\n",
      "    Skipping ls5; no valid data for query\n",
      "Loading ls7\n",
      "    Ignoring SLC-off observations for ls7\n",
      "    Skipping ls7; no valid data for query\n",
      "Loading ls8\n",
      "    Loading 3 filtered ls8 timesteps\n",
      "Returning ls8 data\n",
      "    Replacing invalid -999 values with NaN (data will be coerced to float32)\n"
     ]
    }
   ],
   "source": [
    "WITmaps = wetlands_insight.WIT_da(query)"
   ]
  },
  {
   "cell_type": "code",
   "execution_count": 27,
   "metadata": {},
   "outputs": [],
   "source": [
    "#check what the data looks like for the first timestep\n",
    "#WITmaps"
   ]
  },
  {
   "cell_type": "code",
   "execution_count": 42,
   "metadata": {},
   "outputs": [
    {
     "data": {
      "image/png": "[encoded data removed]",
      "text/plain": [
       "<Figure size 936x216 with 4 Axes>"
      ]
     },
     "metadata": {
      "needs_background": "light"
     },
     "output_type": "display_data"
    }
   ],
   "source": [
    "WITmaps.plot(col='time', col_wrap=4,vmin = 1, vmax = 5.01, levels=6, colors = pal, add_colorbar=False)#,figsize=(8,12))\n",
    "plt.savefig(f'/g/data/r78/rjd547/CEWO_Project/prototyping_outputs/{input_file}_{early_buffer}-{late_buffer}.png')\n",
    "plt.show()"
   ]
  },
  {
   "cell_type": "markdown",
   "metadata": {},
   "source": [
    "### Set output file location"
   ]
  },
  {
   "cell_type": "code",
   "execution_count": 29,
   "metadata": {},
   "outputs": [],
   "source": [
    "Output_loc = f'/g/data/r78/rjd547/CEWO_Project/prototyping_outputs/'#'{input_file}_{early_buffer}-{late_buffer}.png'"
   ]
  },
  {
   "cell_type": "markdown",
   "metadata": {},
   "source": [
    "Choose a timestep here"
   ]
  },
  {
   "cell_type": "code",
   "execution_count": 53,
   "metadata": {},
   "outputs": [],
   "source": [
    "image_index = 0"
   ]
  },
  {
   "cell_type": "markdown",
   "metadata": {},
   "source": [
    "get time string"
   ]
  },
  {
   "cell_type": "code",
   "execution_count": 54,
   "metadata": {},
   "outputs": [
    {
     "name": "stdout",
     "output_type": "stream",
     "text": [
      "2018-09-11\n"
     ]
    }
   ],
   "source": [
    "image_date = str(WITmaps[image_index].time.data)[:10]\n",
    "print(image_date)"
   ]
  },
  {
   "cell_type": "code",
   "execution_count": 55,
   "metadata": {},
   "outputs": [],
   "source": [
    "file_num = input_file.split('.')[0]"
   ]
  },
  {
   "cell_type": "code",
   "execution_count": 56,
   "metadata": {},
   "outputs": [
    {
     "name": "stdout",
     "output_type": "stream",
     "text": [
      "9_2018-09-11\n"
     ]
    }
   ],
   "source": [
    "print(f'{file_num}_{image_date}')"
   ]
  },
  {
   "cell_type": "code",
   "execution_count": 58,
   "metadata": {},
   "outputs": [
    {
     "data": {
      "image/png": "[encoded data removed]",
      "text/plain": [
       "<Figure size 432x288 with 2 Axes>"
      ]
     },
     "metadata": {
      "needs_background": "light"
     },
     "output_type": "display_data"
    }
   ],
   "source": [
    "%matplotlib inline\n",
    "WITmaps[image_index].plot(vmin = 1, vmax = 5.01, levels=6, colors = pal)#, add_colorbar=False)#,figsize=(8,12))\n",
    "plt.show()"
   ]
  },
  {
   "cell_type": "code",
   "execution_count": 59,
   "metadata": {},
   "outputs": [],
   "source": [
    "outfilename = f'{file_num}_{image_date}'"
   ]
  },
  {
   "cell_type": "code",
   "execution_count": 61,
   "metadata": {},
   "outputs": [],
   "source": [
    "geotiff_WITmaps = WITmaps.isel(time=image_index).to_dataset()\n",
    "geotiff_WITmaps.attrs = WITmaps.attrs"
   ]
  },
  {
   "cell_type": "code",
   "execution_count": 62,
   "metadata": {},
   "outputs": [],
   "source": [
    "#transfer datatype to uint8 for ArcGIS import\n",
    "geotiff_WITmaps_8 = geotiff_WITmaps.astype('uint8')\n",
    "geotiff_WITmaps_8.attrs = WITmaps.attrs"
   ]
  },
  {
   "cell_type": "code",
   "execution_count": 63,
   "metadata": {},
   "outputs": [
    {
     "data": {
      "text/plain": [
       "'/g/data/r78/rjd547/CEWO_Project/prototyping_outputs/9_2018-09-11'"
      ]
     },
     "execution_count": 63,
     "metadata": {},
     "output_type": "execute_result"
    }
   ],
   "source": [
    "Output_loc+outfilename"
   ]
  },
  {
   "cell_type": "code",
   "execution_count": 64,
   "metadata": {},
   "outputs": [],
   "source": [
    "datacube.helpers.write_geotiff(Output_loc+outfilename+'.tif', geotiff_WITmaps_8)"
   ]
  },
  {
   "cell_type": "code",
   "execution_count": null,
   "metadata": {},
   "outputs": [],
   "source": []
  }
 ],
 "metadata": {
  "kernelspec": {
   "display_name": "Python 3",
   "language": "python",
   "name": "python3"
  },
  "language_info": {
   "codemirror_mode": {
    "name": "ipython",
    "version": 3
   },
   "file_extension": ".py",
   "mimetype": "text/x-python",
   "name": "python",
   "nbconvert_exporter": "python",
   "pygments_lexer": "ipython3",
   "version": "3.6.7"
  },
  "widgets": {
   "application/vnd.jupyter.widget-state+json": {
    "state": {},
    "version_major": 2,
    "version_minor": 0
   }
  }
 },
 "nbformat": 4,
 "nbformat_minor": 4
}
