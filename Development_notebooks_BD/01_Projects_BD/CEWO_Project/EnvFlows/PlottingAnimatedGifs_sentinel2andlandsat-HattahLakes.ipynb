{
 "cells": [
  {
   "cell_type": "markdown",
   "metadata": {},
   "source": [
    "# Sentinel 2 + Landsat animation with hydrograph"
   ]
  },
  {
   "cell_type": "code",
   "execution_count": 1,
   "metadata": {
    "ExecuteTime": {
     "end_time": "2018-08-07T00:49:36.173703Z",
     "start_time": "2018-08-07T00:49:25.688516Z"
    }
   },
   "outputs": [],
   "source": [
    "# Import modules\n",
    "import datacube \n",
    "import sys\n",
    "import xarray as xr\n",
    "import numpy as np\n",
    "import calendar\n",
    "import pandas as pd\n",
    "import matplotlib.pyplot as plt\n",
    "import matplotlib.animation as animation\n",
    "import matplotlib.patheffects as PathEffects\n",
    "import matplotlib.patches as patches\n",
    "import matplotlib.dates as mdates\n",
    "import matplotlib.lines as mlines\n",
    "from skimage import exposure\n",
    "from datacube.utils import geometry\n",
    "from datacube.utils.geometry import CRS\n",
    "from datetime import datetime, timedelta\n",
    "\n",
    "# Import external dea-notebooks functions using relative link to Scripts directory\n",
    "sys.path.append('../Scripts')\n",
    "import DEADataHandling\n",
    "import DEAPlotting\n",
    "import TasseledCapTools\n",
    "\n",
    "# Set up datacube instances\n",
    "dc = datacube.Datacube(app='Time series animation')\n",
    "s2dc = datacube.Datacube(config='/g/data/r78/dc_configs/sentinel2.conf')\n",
    "\n",
    "# Study area name used for output file\n",
    "study_area = 'hattah'\n",
    "\n",
    "# Thresholds used for cloud masking (Sentinel 2 is more aggressive)\n",
    "landsat_masked_prop = 0.99\n",
    "sentinel_masked_prop = 0.90\n",
    "\n",
    "# Set up analysis data query using a buffer around a lat-long point\n",
    "lat, lon, buffer = -34.7275016476, 142.367987284, 5000\n",
    "x, y = geometry.point(lon, lat, CRS('WGS84')).to_crs(CRS('EPSG:3577')).points[0]\n",
    "query = {'x': (x - 10000, x + 10000),\n",
    "         'y': (y - buffer, y + buffer),    \n",
    "         'time': ('2014-01-01', '2018-07-30'),\n",
    "         'crs': 'EPSG:3577'}\n",
    "\n",
    "%load_ext autoreload\n",
    "%autoreload 2"
   ]
  },
  {
   "cell_type": "markdown",
   "metadata": {},
   "source": [
    "## Extract cloud-free clear Landsat and Sentinel observations\n",
    "Use the `load_clearlandsat` function to load Landsat observations and PQ data for multiple sensors (i.e. ls5, ls7, ls8), and return a single xarray dataset containing only observations that contain greater than a specified proportion of clear pixels. \n",
    "\n",
    "Load in Sentinel data for S2A and S2B."
   ]
  },
  {
   "cell_type": "code",
   "execution_count": 2,
   "metadata": {
    "ExecuteTime": {
     "end_time": "2018-08-07T00:50:20.176358Z",
     "start_time": "2018-08-07T00:49:36.177526Z"
    }
   },
   "outputs": [
    {
     "name": "stdout",
     "output_type": "stream",
     "text": [
      "Loading ls5 PQ\n",
      "    Skipping ls5\n",
      "Loading ls7 PQ\n",
      "    Loading 0 filtered ls7 timesteps\n",
      "Loading ls8 PQ\n",
      "    Loading 47 filtered ls8 timesteps\n",
      "Combining and sorting ls5, ls7 and ls8 data\n"
     ]
    }
   ],
   "source": [
    "# Custom mask that includes only cloudy or cloud shadowed pixels with data for all bands\n",
    "custom_mask = {'cloud_acca': 'no_cloud', \n",
    "               'cloud_fmask': 'no_cloud', \n",
    "               'cloud_shadow_acca': 'no_cloud_shadow',\n",
    "               'cloud_shadow_fmask': 'no_cloud_shadow',\n",
    "               'contiguous': True}\n",
    "\n",
    "# Load in data\n",
    "ls578_ds = DEADataHandling.load_clearlandsat(dc=dc, query=query, product='nbart', \n",
    "                                        #bands_of_interest=['green', 'nir', 'swir1', 'red'], \n",
    "                                        masked_prop=landsat_masked_prop, mask_dict=custom_mask, apply_mask=False)  \n",
    "\n",
    "# Remove problematic timesteps\n",
    "problem_times = ['2015-08-02', '2015-08-18', '2016-03-13', '2016-04-30', '2017-05-03', '2015-04-28']\n",
    "times_to_drop = [ls578_ds.time.loc[i].values for i in problem_times]\n",
    "\n",
    "# Remove timesteps\n",
    "ls578_ds = ls578_ds.drop(np.concatenate(times_to_drop), dim=\"time\")\n"
   ]
  },
  {
   "cell_type": "code",
   "execution_count": 27,
   "metadata": {
    "ExecuteTime": {
     "end_time": "2018-08-07T01:11:57.419737Z",
     "start_time": "2018-08-07T01:11:56.307503Z"
    }
   },
   "outputs": [
    {
     "data": {
      "text/plain": [
       "<xarray.Dataset>\n",
       "Dimensions:    (time: 44, x: 801, y: 401)\n",
       "Coordinates:\n",
       "  * y          (y) float64 -3.825e+06 -3.825e+06 -3.825e+06 -3.825e+06 ...\n",
       "  * x          (x) float64 9.353e+05 9.353e+05 9.353e+05 9.353e+05 9.354e+05 ...\n",
       "  * time       (time) datetime64[ns] 2014-01-03T00:22:34 2014-01-19T00:22:20 ...\n",
       "Data variables:\n",
       "    blue       (time, y, x) float64 438.0 440.0 411.0 439.0 452.0 445.0 ...\n",
       "    green      (time, y, x) float64 683.0 679.0 635.0 705.0 669.0 676.0 ...\n",
       "    red        (time, y, x) float64 976.0 987.0 900.0 995.0 967.0 990.0 ...\n",
       "    nir        (time, y, x) float64 2.133e+03 2.145e+03 2.072e+03 2.212e+03 ...\n",
       "    swir1      (time, y, x) float64 2.719e+03 2.739e+03 2.678e+03 2.826e+03 ...\n",
       "    swir2      (time, y, x) float64 1.931e+03 1.94e+03 1.869e+03 1.971e+03 ...\n",
       "    data_perc  (time) float64 0.997 1.0 1.0 1.0 1.0 1.0 0.9995 0.998 1.0 1.0 ...\n",
       "Attributes:\n",
       "    crs:      EPSG:3577"
      ]
     },
     "execution_count": 27,
     "metadata": {},
     "output_type": "execute_result"
    }
   ],
   "source": [
    "ls578_ds"
   ]
  },
  {
   "cell_type": "markdown",
   "metadata": {},
   "source": [
    "## Import Sentinel 2"
   ]
  },
  {
   "cell_type": "code",
   "execution_count": null,
   "metadata": {},
   "outputs": [],
   "source": []
  },
  {
   "cell_type": "code",
   "execution_count": 3,
   "metadata": {
    "ExecuteTime": {
     "end_time": "2018-08-07T00:54:13.319552Z",
     "start_time": "2018-08-07T00:50:20.180489Z"
    }
   },
   "outputs": [
    {
     "name": "stderr",
     "output_type": "stream",
     "text": [
      "/g/data/v10/public/modules/dea/20180705/lib/python3.6/site-packages/datacube/api/query.py:96: FutureWarning: casting an xarray.Dataset to a boolean will change in xarray v0.11 to only include data variables, not coordinates. Cast the Dataset.variables property instead to preserve existing behavior in a forwards compatible manner.\n",
      "  if like:\n",
      "/g/data/v10/public/modules/dea/20180705/lib/python3.6/site-packages/datacube/api/query.py:96: FutureWarning: casting an xarray.Dataset to a boolean will change in xarray v0.11 to only include data variables, not coordinates. Cast the Dataset.variables property instead to preserve existing behavior in a forwards compatible manner.\n",
      "  if like:\n"
     ]
    }
   ],
   "source": [
    "# Load Sentinel\n",
    "s2a_ds = s2dc.load(product='s2a_ard_granule', group_by='solar_day', \n",
    "                          #measurements = ['swir1', 'nir1', 'green', 'pixel_quality'], \n",
    "                   like=ls578_ds)\n",
    "\n",
    "s2b_ds = s2dc.load(product='s2b_ard_granule', group_by='solar_day', \n",
    "                          #measurements = ['swir1', 'nir1', 'green', 'pixel_quality'], \n",
    "                   like=ls578_ds)\n",
    "\n",
    "# Keep only cloud-free Sentinel 2A data\n",
    "PQmask = s2a_ds.where(s2a_ds.pixel_quality == 1)\n",
    "threshold = s2a_ds.x.count() * s2a_ds.y.count() * (1.0 - sentinel_masked_prop)\n",
    "KeepTimeMask = PQmask.green.isnull().sum(axis=(1, 2)) <= int(threshold)\n",
    "s2a_ds = s2a_ds.where(KeepTimeMask).dropna(dim='time')\n",
    "\n",
    "# Keep only cloud-free Sentinel 2B data\n",
    "PQmask = s2b_ds.where(s2b_ds.pixel_quality == 1)\n",
    "threshold = s2b_ds.x.count() * s2b_ds.y.count() * (1.0 - sentinel_masked_prop)\n",
    "KeepTimeMask = PQmask.green.isnull().sum(axis=(1, 2)) <= int(threshold)\n",
    "s2b_ds = s2b_ds.where(KeepTimeMask).dropna(dim='time')\n"
   ]
  },
  {
   "cell_type": "code",
   "execution_count": 4,
   "metadata": {
    "ExecuteTime": {
     "end_time": "2018-08-07T00:55:45.751938Z",
     "start_time": "2018-08-07T00:55:23.803688Z"
    }
   },
   "outputs": [
    {
     "data": {
      "text/plain": [
       "<xarray.Dataset>\n",
       "Dimensions:        (time: 65, x: 801, y: 401)\n",
       "Coordinates:\n",
       "  * time           (time) datetime64[ns] 2014-01-03T00:22:34 ...\n",
       "  * y              (y) float64 -3.825e+06 -3.825e+06 -3.825e+06 -3.825e+06 ...\n",
       "  * x              (x) float64 9.353e+05 9.353e+05 9.353e+05 9.353e+05 ...\n",
       "Data variables:\n",
       "    blue           (time, y, x) float64 438.0 440.0 411.0 439.0 452.0 445.0 ...\n",
       "    green          (time, y, x) float64 683.0 679.0 635.0 705.0 669.0 676.0 ...\n",
       "    red            (time, y, x) float64 976.0 987.0 900.0 995.0 967.0 990.0 ...\n",
       "    nir            (time, y, x) float64 2.133e+03 2.145e+03 2.072e+03 ...\n",
       "    swir1          (time, y, x) float64 2.719e+03 2.739e+03 2.678e+03 ...\n",
       "    swir2          (time, y, x) float64 1.931e+03 1.94e+03 1.869e+03 ...\n",
       "    data_perc      (time) float64 0.997 1.0 1.0 1.0 1.0 1.0 0.9995 0.998 1.0 ...\n",
       "    pixel_quality  (time, y, x) float64 nan nan nan nan nan nan nan nan nan ...\n",
       "    contiguity     (time, y, x) float64 nan nan nan nan nan nan nan nan nan ...\n",
       "    aerosol        (time, y, x) float64 nan nan nan nan nan nan nan nan nan ...\n",
       "    rededge1       (time, y, x) float64 nan nan nan nan nan nan nan nan nan ...\n",
       "    rededge2       (time, y, x) float64 nan nan nan nan nan nan nan nan nan ...\n",
       "    rededge3       (time, y, x) float64 nan nan nan nan nan nan nan nan nan ...\n",
       "    nir2           (time, y, x) float64 nan nan nan nan nan nan nan nan nan ...\n",
       "    t_contiguity   (time, y, x) float64 nan nan nan nan nan nan nan nan nan ...\n",
       "    t_aerosol      (time, y, x) float64 nan nan nan nan nan nan nan nan nan ...\n",
       "    t_blue         (time, y, x) float64 nan nan nan nan nan nan nan nan nan ...\n",
       "    t_green        (time, y, x) float64 nan nan nan nan nan nan nan nan nan ...\n",
       "    t_red          (time, y, x) float64 nan nan nan nan nan nan nan nan nan ...\n",
       "    t_rededge1     (time, y, x) float64 nan nan nan nan nan nan nan nan nan ...\n",
       "    t_rededge2     (time, y, x) float64 nan nan nan nan nan nan nan nan nan ...\n",
       "    t_rededge3     (time, y, x) float64 nan nan nan nan nan nan nan nan nan ...\n",
       "    t_nir1         (time, y, x) float64 nan nan nan nan nan nan nan nan nan ...\n",
       "    t_nir2         (time, y, x) float64 nan nan nan nan nan nan nan nan nan ...\n",
       "    t_swir1        (time, y, x) float64 nan nan nan nan nan nan nan nan nan ...\n",
       "    t_swir2        (time, y, x) float64 nan nan nan nan nan nan nan nan nan ..."
      ]
     },
     "execution_count": 4,
     "metadata": {},
     "output_type": "execute_result"
    }
   ],
   "source": [
    "# Combine into single dataset\n",
    "s2a_ds.rename({'nir1': 'nir'}, inplace=True)\n",
    "s2b_ds.rename({'nir1': 'nir'}, inplace=True)\n",
    "combined_ds = xr.auto_combine([ls578_ds, s2a_ds, s2b_ds])\n",
    "combined_ds = combined_ds.sortby('time')\n",
    "combined_ds"
   ]
  },
  {
   "cell_type": "code",
   "execution_count": 12,
   "metadata": {
    "ExecuteTime": {
     "end_time": "2018-08-07T01:05:34.275747Z",
     "start_time": "2018-08-07T01:05:34.170191Z"
    }
   },
   "outputs": [],
   "source": [
    "from datacube.storage.storage import write_dataset_to_netcdf\n",
    "#drop unitless bands because they don't write to netcdf - other option is to give them a unitless unit\n",
    "combined_ds =combined_ds.drop('data_perc')"
   ]
  },
  {
   "cell_type": "code",
   "execution_count": 24,
   "metadata": {
    "ExecuteTime": {
     "end_time": "2018-08-07T01:08:10.817915Z",
     "start_time": "2018-08-07T01:08:10.734647Z"
    }
   },
   "outputs": [
    {
     "ename": "AttributeError",
     "evalue": "'DataVariables' object has no attribute 'isel'",
     "output_type": "error",
     "traceback": [
      "\u001b[0;31m---------------------------------------------------------------------------\u001b[0m",
      "\u001b[0;31mAttributeError\u001b[0m                            Traceback (most recent call last)",
      "\u001b[0;32m<ipython-input-24-0b612e624b47>\u001b[0m in \u001b[0;36m<module>\u001b[0;34m()\u001b[0m\n\u001b[0;32m----> 1\u001b[0;31m \u001b[0mcombined_ds\u001b[0m\u001b[0;34m.\u001b[0m\u001b[0mdata_vars\u001b[0m\u001b[0;34m.\u001b[0m\u001b[0misel\u001b[0m\u001b[0;34m[\u001b[0m\u001b[0;36m0\u001b[0m\u001b[0;34m:\u001b[0m\u001b[0;36m5\u001b[0m\u001b[0;34m]\u001b[0m\u001b[0;34m\u001b[0m\u001b[0m\n\u001b[0m",
      "\u001b[0;31mAttributeError\u001b[0m: 'DataVariables' object has no attribute 'isel'"
     ]
    }
   ],
   "source": []
  },
  {
   "cell_type": "code",
   "execution_count": 30,
   "metadata": {
    "ExecuteTime": {
     "end_time": "2018-08-07T01:13:01.117133Z",
     "start_time": "2018-08-07T01:13:00.006667Z"
    }
   },
   "outputs": [
    {
     "name": "stdout",
     "output_type": "stream",
     "text": [
      "RuntimeError: Storage Unit already exists: /g/data/r78/tmp/ls578_ds.nc\n",
      "wrote to netCDF\n"
     ]
    }
   ],
   "source": [
    "try:\n",
    "    ls578_ds = ls578_ds.drop('data_perc')\n",
    "    DEADataHandling.write_your_netcdf(ls578_ds, 'ls578_ds', '/g/data/r78/tmp/'+'ls578_ds'+'.nc', crs = ls578_ds.crs)\n",
    "#complain if the file already exists but don't fail    \n",
    "except RuntimeError as err:\n",
    "    print(\"RuntimeError: {0}\".format(err))\n",
    "print('wrote to netCDF' )"
   ]
  },
  {
   "cell_type": "markdown",
   "metadata": {},
   "source": [
    "## Import flow data\n",
    "This is used to plot a line on the right panel of the animation. Must be imported as a geopandas dataframe with a datetime index column"
   ]
  },
  {
   "cell_type": "code",
   "execution_count": null,
   "metadata": {
    "ExecuteTime": {
     "end_time": "2018-08-07T00:44:42.356109Z",
     "start_time": "2018-08-07T00:44:36.875624Z"
    }
   },
   "outputs": [],
   "source": [
    "# Set area over which index values should be averaged\n",
    "line_df = pd.read_csv('/g/data/r78/rt1527/dea-notebooks/Enviroflows/raw_data/euston_flow.csv', index_col='date', parse_dates=True, dayfirst=True)\n",
    "\n",
    "# Subset to time covered by datacube query\n",
    "date_min, date_max = query['time']\n",
    "line_df = line_df[(line_df.index >= date_min) & (line_df.index <= date_max)]\n",
    "\n",
    "# Give informative name\n",
    "# line_df['Max discharge (Ml/d)'] = line_df['mean'] * 2\n",
    "line_df.rename(columns={'mean':'Mean discharge (Ml/d) at Euston, Murray River'}, inplace=True)\n",
    "line_df.plot()\n"
   ]
  },
  {
   "cell_type": "code",
   "execution_count": null,
   "metadata": {},
   "outputs": [],
   "source": []
  },
  {
   "cell_type": "markdown",
   "metadata": {},
   "source": [
    "## Plot data as animation"
   ]
  },
  {
   "cell_type": "code",
   "execution_count": null,
   "metadata": {
    "ExecuteTime": {
     "end_time": "2018-08-07T00:46:35.747181Z",
     "start_time": "2018-08-07T00:44:42.358260Z"
    }
   },
   "outputs": [],
   "source": [
    "# Combine into single dataset\n",
    "s2a_ds.rename({'nir1': 'nir'}, inplace=True)\n",
    "s2b_ds.rename({'nir1': 'nir'}, inplace=True)\n",
    "combined_ds = xr.auto_combine([ls578_ds, s2a_ds, s2b_ds])\n",
    "combined_ds = combined_ds.sortby('time')\n",
    "combined_ds"
   ]
  },
  {
   "cell_type": "code",
   "execution_count": null,
   "metadata": {},
   "outputs": [],
   "source": []
  },
  {
   "cell_type": "code",
   "execution_count": null,
   "metadata": {
    "ExecuteTime": {
     "end_time": "2018-08-07T00:46:35.756530Z",
     "start_time": "2018-08-07T00:32:58.375Z"
    }
   },
   "outputs": [],
   "source": [
    "#run tasselled cap and threshold (non-binary?)"
   ]
  },
  {
   "cell_type": "code",
   "execution_count": null,
   "metadata": {
    "ExecuteTime": {
     "end_time": "2018-08-07T00:46:35.760128Z",
     "start_time": "2018-08-07T00:33:06.770Z"
    }
   },
   "outputs": [],
   "source": [
    "tci = TasseledCapTools.thresholded_tasseled_cap(combined_ds, wetness_threshold=-350, drop_tc_bands=False)"
   ]
  },
  {
   "cell_type": "code",
   "execution_count": null,
   "metadata": {
    "ExecuteTime": {
     "end_time": "2018-08-07T00:46:35.761640Z",
     "start_time": "2018-08-07T00:33:07.385Z"
    }
   },
   "outputs": [],
   "source": [
    "tci.wetness_thresholded.max()"
   ]
  },
  {
   "cell_type": "code",
   "execution_count": null,
   "metadata": {},
   "outputs": [],
   "source": [
    "\n",
    "\n",
    "# Create animation\n",
    "DEAPlotting.animated_timeseriesline(ds=combined_ds, # .isel(time=[0,1,2,3,4,5]), \n",
    "                        df=line_df, \n",
    "                        output_path='{}_audio.gif'.format(study_area), \n",
    "                        bands=['swir1', 'nir', 'green'], \n",
    "                        interval=220, \n",
    "                        annotation_kwargs={'fontsize':17},\n",
    "                        reflect_stand=4200)"
   ]
  },
  {
   "cell_type": "code",
   "execution_count": null,
   "metadata": {
    "ExecuteTime": {
     "end_time": "2018-07-30T01:53:54.618976Z",
     "start_time": "2018-07-30T01:53:32.544118Z"
    }
   },
   "outputs": [],
   "source": [
    "# Create animation\n",
    "DEAPlotting.animated_timeseriesline(ds=tci,#.isel(time=[0,1,2,3,4,5]), \n",
    "                        df=line_df, \n",
    "                        output_path='{}_wetness_sentinel2.gif'.format(study_area), \n",
    "                        bands=['wetness_thresholded'], \n",
    "                        onebandplot_cbar=False, \n",
    "                        onebandplot_kwargs={'cmap':'gist_earth_r','vmin':tci.wetness_thresholded.min(),\n",
    "                                           'vmax':tci.wetness_thresholded.max()},\n",
    "                        interval=220, \n",
    "                        annotation_kwargs={'fontsize':17},\n",
    "                        reflect_stand=4200\n",
    "                                   )"
   ]
  },
  {
   "cell_type": "code",
   "execution_count": null,
   "metadata": {
    "ExecuteTime": {
     "end_time": "2018-08-07T00:46:35.763015Z",
     "start_time": "2018-08-07T00:35:12.664Z"
    }
   },
   "outputs": [],
   "source": []
  },
  {
   "cell_type": "code",
   "execution_count": null,
   "metadata": {},
   "outputs": [],
   "source": []
  }
 ],
 "metadata": {
  "kernelspec": {
   "display_name": "Python 3",
   "language": "python",
   "name": "python3"
  },
  "language_info": {
   "codemirror_mode": {
    "name": "ipython",
    "version": 3
   },
   "file_extension": ".py",
   "mimetype": "text/x-python",
   "name": "python",
   "nbconvert_exporter": "python",
   "pygments_lexer": "ipython3",
   "version": "3.6.5"
  }
 },
 "nbformat": 4,
 "nbformat_minor": 2
}
