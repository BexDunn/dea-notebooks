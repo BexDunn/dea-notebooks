{
 "cells": [
  {
   "cell_type": "markdown",
   "metadata": {},
   "source": [
    "### Import Modules"
   ]
  },
  {
   "cell_type": "code",
   "execution_count": 1,
   "metadata": {},
   "outputs": [
    {
     "name": "stderr",
     "output_type": "stream",
     "text": [
      "/env/lib/python3.6/site-packages/datacube/storage/masking.py:4: DeprecationWarning: datacube.storage.masking has moved to datacube.utils.masking\n",
      "  category=DeprecationWarning)\n"
     ]
    },
    {
     "ename": "ModuleNotFoundError",
     "evalue": "No module named 'dea_bandindices'",
     "output_type": "error",
     "traceback": [
      "\u001b[0;31m---------------------------------------------------------------------------\u001b[0m",
      "\u001b[0;31mModuleNotFoundError\u001b[0m                       Traceback (most recent call last)",
      "\u001b[0;32m<ipython-input-1-06998cf008f7>\u001b[0m in \u001b[0;36m<module>\u001b[0;34m\u001b[0m\n\u001b[1;32m     23\u001b[0m \u001b[0;34m\u001b[0m\u001b[0m\n\u001b[1;32m     24\u001b[0m \u001b[0msys\u001b[0m\u001b[0;34m.\u001b[0m\u001b[0mpath\u001b[0m\u001b[0;34m.\u001b[0m\u001b[0mappend\u001b[0m\u001b[0;34m(\u001b[0m\u001b[0;34m'../Scripts'\u001b[0m\u001b[0;34m)\u001b[0m\u001b[0;34m\u001b[0m\u001b[0;34m\u001b[0m\u001b[0m\n\u001b[0;32m---> 25\u001b[0;31m \u001b[0;32mfrom\u001b[0m \u001b[0mdea_bandindices\u001b[0m \u001b[0;32mimport\u001b[0m \u001b[0mcalculate_indices\u001b[0m\u001b[0;34m\u001b[0m\u001b[0;34m\u001b[0m\u001b[0m\n\u001b[0m\u001b[1;32m     26\u001b[0m \u001b[0;32mfrom\u001b[0m \u001b[0mdea_datahandling\u001b[0m \u001b[0;32mimport\u001b[0m \u001b[0mload_ard\u001b[0m\u001b[0;34m\u001b[0m\u001b[0;34m\u001b[0m\u001b[0m\n\u001b[1;32m     27\u001b[0m \u001b[0;32mfrom\u001b[0m \u001b[0mdea_plotting\u001b[0m \u001b[0;32mimport\u001b[0m \u001b[0mrgb\u001b[0m\u001b[0;34m,\u001b[0m \u001b[0mdisplay_map\u001b[0m\u001b[0;34m\u001b[0m\u001b[0;34m\u001b[0m\u001b[0m\n",
      "\u001b[0;31mModuleNotFoundError\u001b[0m: No module named 'dea_bandindices'"
     ]
    }
   ],
   "source": [
    "%matplotlib inline\n",
    "\n",
    "import datacube\n",
    "import datetime\n",
    "import fiona\n",
    "import geopandas as gpd\n",
    "import numpy as np\n",
    "import pandas as pd\n",
    "import rasterio.mask\n",
    "import rasterio.features\n",
    "from shapely import geometry\n",
    "import seaborn as sns\n",
    "import sys\n",
    "import xarray as xr\n",
    "\n",
    "import matplotlib.dates as mdates\n",
    "import matplotlib.gridspec as gridspec\n",
    "import matplotlib.pyplot as plt\n",
    "\n",
    "from datacube.storage import masking\n",
    "from datacube.utils import geometry\n",
    "from datacube.helpers import write_geotiff, ga_pq_fuser\n",
    "\n",
    "sys.path.append('../Scripts')\n",
    "from dea_bandindices import calculate_indices\n",
    "from dea_datahandling import load_ard\n",
    "from dea_plotting import rgb, display_map\n",
    "\n",
    "dc = datacube.Datacube(app='tcw')\n",
    "\n",
    "# %load_ext autoreload\n",
    "\n",
    "# %autoreload 2"
   ]
  },
  {
   "cell_type": "markdown",
   "metadata": {},
   "source": [
    "### Define a reusable query"
   ]
  },
  {
   "cell_type": "code",
   "execution_count": null,
   "metadata": {},
   "outputs": [],
   "source": [
    "        #Mathoura Large\n",
    "# 'y': (-35.6545, -36.0320),\n",
    "# 'x': (144.8179, 145.4289), \n",
    "    \n",
    "    \n",
    "            #Moria Lakes\n",
    "# 'y': (-35.9634, -35.8515),\n",
    "# 'x': (144.8887, 145.0738),\n",
    "    \n",
    "                #lake Frome\n",
    "# 'y': (-30.354, -30.889),\n",
    "# 'x': (139.482, 140.032),\n",
    "\n",
    "        #lake carnegie\n",
    "# 'y': (-36.900, -36.988),\n",
    "# 'x': (149.800, 149.925),\n",
    "\n",
    "            #lake carnegie Smol\n",
    "#'y': (-26.076, -26.352),\n",
    "#'x': (122.216, 122.552),\n",
    "\n",
    "# mac marshes\n",
    "# central_lat = -30.714398\n",
    "# central_lon = 147.509603\n",
    "\n",
    "# # Canberra\n",
    "# central_lat = -35.28\n",
    "# central_lon = 149.16"
   ]
  },
  {
   "cell_type": "code",
   "execution_count": null,
   "metadata": {},
   "outputs": [],
   "source": [
    "# Set the central latitude and longitude\n",
    "central_lat = -30.714398\n",
    "central_lon = 147.509603\n",
    "\n",
    "# Set the buffer to load around the central coordinates\n",
    "buffer = 0.1\n",
    "\n",
    "# Compute the bounding box for the study area\n",
    "lats = (central_lat - buffer, central_lat + buffer)\n",
    "lons = (central_lon - buffer, central_lon + buffer)\n",
    "\n",
    "display_map(x=lons, y=lats, margin=-0.2)"
   ]
  },
  {
   "cell_type": "code",
   "execution_count": null,
   "metadata": {},
   "outputs": [],
   "source": [
    "# Define area of interest\n",
    "query = { \n",
    "    'time': ('2016-09-01', '2016-12-01'), \n",
    "    'crs': 'EPSG:4326',\n",
    "    'output_crs': 'EPSG: 3577',\n",
    "    'resolution': (-30, 30),\n",
    "    'measurements':['nbart_blue','nbart_green','nbart_red','nbart_nir','nbart_swir_1','nbart_swir_2'],\n",
    "    'x':lons,\n",
    "    'y':lats\n",
    "}"
   ]
  },
  {
   "cell_type": "code",
   "execution_count": null,
   "metadata": {},
   "outputs": [],
   "source": [
    "#list(dc.list_products()['name'])"
   ]
  },
  {
   "cell_type": "code",
   "execution_count": null,
   "metadata": {},
   "outputs": [],
   "source": [
    "# Load in ARD data\n",
    "ds_ard = load_ard(dc, products=['ga_ls8c_ard_3'], group_by='solar_day', min_gooddata=0.5, **query)"
   ]
  },
  {
   "cell_type": "code",
   "execution_count": null,
   "metadata": {},
   "outputs": [],
   "source": [
    "# want_to_mask = (ds_ard == -999).to_array(dim='variables').all(dim='variables')\n",
    "# ds_ard = ds_ard.where(~want_to_mask, np.NaN)"
   ]
  },
  {
   "cell_type": "code",
   "execution_count": null,
   "metadata": {},
   "outputs": [],
   "source": [
    "# ds_ard.isel(time=0)"
   ]
  },
  {
   "cell_type": "code",
   "execution_count": null,
   "metadata": {},
   "outputs": [],
   "source": [
    "# Plot RGB\n",
    "rgb(ds_ard.isel(time=1),size=11)"
   ]
  },
  {
   "cell_type": "code",
   "execution_count": null,
   "metadata": {},
   "outputs": [],
   "source": [
    "# Define area of interest\n",
    "query2 = { \n",
    "    'time':('2016-09-01', '2016-12-01'),\n",
    "    'crs': 'EPSG:4326',\n",
    "     'output_crs': 'EPSG: 3577',\n",
    "     'resolution': (-25, 25),\n",
    "#     'measurements':['nbart_blue','nbart_green','nbart_red','nbart_nir','nbart_swir_1','nbart_swir_2'],\n",
    "    'x':lons,\n",
    "    'y':lats\n",
    "}\n",
    "\n",
    "# Load in WOfS data\n",
    "ds_wofs = dc.load(product='wofs_annual_summary', group_by='solar_day', **query2)\n",
    "ds_wofs.frequency.plot(vmin=0)"
   ]
  },
  {
   "cell_type": "code",
   "execution_count": null,
   "metadata": {},
   "outputs": [],
   "source": [
    "ds_wofs.frequency.nodata"
   ]
  },
  {
   "cell_type": "markdown",
   "metadata": {},
   "source": [
    "### Apply indices\n",
    "- Tasselled Cap Wetness\n",
    "- Fisher Index"
   ]
  },
  {
   "cell_type": "code",
   "execution_count": null,
   "metadata": {},
   "outputs": [],
   "source": [
    "# Calculate TCW using `calculate indices`\n",
    "ds_tcw = calculate_indices(ds_ard, index='TCW', collection='ga_ls_3').TCW\n",
    "\n",
    "# Calculate TCG using `calculate indices`\n",
    "ds_tcg = calculate_indices(ds_ard, index='TCG', collection='ga_ls_3').TCG\n",
    "\n",
    "# Calculate TCG using `calculate indices`\n",
    "ds_tcb = calculate_indices(ds_ard, index='TCB', collection='ga_ls_3').TCB\n",
    "\n",
    "# Calculate FI using `calculate indices`\n",
    "ds_wi = calculate_indices(ds_ard, index='WI', collection='ga_ls_3').WI"
   ]
  },
  {
   "cell_type": "code",
   "execution_count": null,
   "metadata": {},
   "outputs": [],
   "source": [
    "# Plot TCW\n",
    "ds_tcg.isel(time=3).plot(cmap='viridis')"
   ]
  },
  {
   "cell_type": "markdown",
   "metadata": {},
   "source": [
    "#### Plot to check"
   ]
  },
  {
   "cell_type": "code",
   "execution_count": null,
   "metadata": {},
   "outputs": [],
   "source": [
    "# Set up subplots\n",
    "f, axarr = plt.subplots(3, 2, figsize=(20, 20), squeeze=False)\n",
    "\n",
    "# Plot TCW\n",
    "ds_tcw.isel(time=3).plot(cmap='Blues', ax=axarr[0, 0], vmin=-0.4, vmax=0.4)\n",
    "axarr[0, 0].set_title('TCW')\n",
    "\n",
    "# Plot WI\n",
    "ds_wi.isel(time=3).plot(cmap='Blues', ax=axarr[0, 1])\n",
    "axarr[0, 1].set_title('WI')\n",
    "\n",
    "# Plot RGB\n",
    "rgb(ds_ard.isel(time=3),ax=axarr[1, 1],size=11)\n",
    "axarr[1, 1].set_title('RGB')\n",
    "\n",
    "# Plot TCB\n",
    "ds_tcb.isel(time=3).plot(cmap='Reds', ax=axarr[2, 0], vmin=-0.4, vmax=0.4)\n",
    "axarr[2, 0].set_title('TCB')\n",
    "\n",
    "# Plot TCG\n",
    "ds_tcg.isel(time=3).plot(cmap='Greens', ax=axarr[2, 1], vmin=-0.4, vmax=0.4)\n",
    "axarr[2, 1].set_title('TCG')"
   ]
  },
  {
   "cell_type": "markdown",
   "metadata": {},
   "source": [
    "### Create inundated vegetation mask"
   ]
  },
  {
   "cell_type": "code",
   "execution_count": null,
   "metadata": {},
   "outputs": [],
   "source": [
    "# Create inundated veg mask - both water (WI) and wet (TCW)\n",
    "veg_mask = (np.logical_and(ds_wi>=-20,ds_tcw>=-0.2)) # where they are both greater than the minimum possible\n",
    "in_veg = ds_wi.where(veg_mask==True,0)\n",
    "in_veg = in_veg.where(veg_mask==False,1)\n",
    "\n",
    "# Create inundated veg mask - only TCW\n",
    "tcw_mask = ds_tcw>=-0.2\n",
    "\n",
    "# What thresholds to use - Cate's:\n",
    "# WI>=-10\n",
    "# TCW>=-400"
   ]
  },
  {
   "cell_type": "code",
   "execution_count": null,
   "metadata": {},
   "outputs": [],
   "source": [
    "(ds_tcg.isel(time=3)>0.15).plot()"
   ]
  },
  {
   "cell_type": "code",
   "execution_count": null,
   "metadata": {},
   "outputs": [],
   "source": [
    "(ds_tcb.isel(time=3)>0.25).plot()"
   ]
  },
  {
   "cell_type": "markdown",
   "metadata": {},
   "source": [
    "### Count amount of inundated vegetation pixels"
   ]
  },
  {
   "cell_type": "code",
   "execution_count": null,
   "metadata": {},
   "outputs": [],
   "source": [
    "# Count inundated veg pixels\n",
    "veg_count = in_veg.where(in_veg>0).count(dim=['x','y'])\n",
    "\n",
    "# Count inundated veg pixels\n",
    "tcw_count = tcw_mask.where(tcw_mask>0).count(dim=['x','y'])\n",
    "\n",
    "# Set up subplots\n",
    "f, axarr = plt.subplots(1, 2, figsize=(11, 7), squeeze=False)\n",
    "\n",
    "tcw_count.plot(ax=axarr[0,1])\n",
    "axarr[0,1].set_title('TCW')\n",
    "\n",
    "veg_count.plot(ax=axarr[0,0])\n",
    "axarr[0,0].set_title('TCW + WI')"
   ]
  },
  {
   "cell_type": "code",
   "execution_count": null,
   "metadata": {},
   "outputs": [],
   "source": [
    "# Create inundated veg mask - both water (WI) and wet (TCW)\n",
    "bright = ds_tcb>=0.25\n",
    "wet = ds_tcw>=-0.2\n",
    "green = ds_tcg>=0.2\n",
    "jerra = np.logical_and(np.logical_and(wet==True,bright==True),green==True)\n",
    "\n",
    "jerra.isel(time=3).plot()\n",
    "\n",
    "# veg_mask = (np.logical_and(ds_wi>=-20,ds_tcw>=-0.2))\n",
    "# in_veg = ds_wi.where(veg_mask==True,0)\n",
    "# in_veg = in_veg.where(veg_mask==False,1)"
   ]
  },
  {
   "cell_type": "code",
   "execution_count": null,
   "metadata": {},
   "outputs": [],
   "source": [
    "bright.isel(time=3).plot()"
   ]
  },
  {
   "cell_type": "code",
   "execution_count": null,
   "metadata": {},
   "outputs": [],
   "source": [
    "wet.isel(time=3).plot()"
   ]
  },
  {
   "cell_type": "markdown",
   "metadata": {},
   "source": [
    "### Calulate frequncy of inundated vegetation"
   ]
  },
  {
   "cell_type": "code",
   "execution_count": null,
   "metadata": {},
   "outputs": [],
   "source": [
    "veg_freq = in_veg.sum(dim='time')\n",
    "\n",
    "# frequency\n",
    "tcw_freq = tcw_mask.sum(dim='time')\n",
    "\n",
    "# frequency\n",
    "tcb_mask = ds_tcb>0.25\n",
    "tcb_freq = tcb_mask.sum(dim='time')\n",
    "\n",
    "# Set up subplots\n",
    "f, axarr = plt.subplots(3, 2, figsize=(20, 13), squeeze=False)\n",
    "\n",
    "# Plot inundated veg - TCW + WI\n",
    "veg_freq.plot(cmap='viridis', ax=axarr[0, 0])\n",
    "axarr[0, 0].set_title('TCW + WI')\n",
    "\n",
    "# Plot WOfS\n",
    "ds_wofs.frequency.isel(time=0).plot(cmap='viridis', ax=axarr[0, 1], vmin=0)\n",
    "axarr[0, 1].set_title('WOfS')\n",
    "\n",
    "# Plot inundated veg\n",
    "tcw_freq.plot(cmap='viridis', ax=axarr[1, 0])\n",
    "axarr[1, 0].set_title('TCW')\n",
    "\n",
    "# Plot RGB\n",
    "rgb(ds_ard.isel(time=3),ax=axarr[1, 1],size=4)\n",
    "axarr[1, 1].set_title('RGB')\n",
    "\n",
    "# Plot brightness\n",
    "tcb_freq.plot(cmap='viridis', ax=axarr[2, 0])\n",
    "axarr[2, 0].set_title('TCB')"
   ]
  },
  {
   "cell_type": "markdown",
   "metadata": {},
   "source": [
    "### Radar?"
   ]
  },
  {
   "cell_type": "code",
   "execution_count": null,
   "metadata": {},
   "outputs": [],
   "source": [
    "list(dc.list_products()['name'])"
   ]
  },
  {
   "cell_type": "code",
   "execution_count": null,
   "metadata": {},
   "outputs": [],
   "source": [
    "# Specify the parameters to query on\n",
    "query = {\n",
    "    \"x\": lons,\n",
    "    \"y\": lats,\n",
    "    \"time\":('2016-09-01', '2016-12-01'),\n",
    "    \"product\": \"s1_gamma0_geotif_scene\",\n",
    "    \"output_crs\": \"EPSG:4326\",\n",
    "    \"resolution\": (0.0001356, 0.0001356)\n",
    "}\n",
    "\n",
    "# Load the data\n",
    "ds_s1 = dc.load(**query)"
   ]
  },
  {
   "cell_type": "code",
   "execution_count": null,
   "metadata": {},
   "outputs": [],
   "source": [
    "print(ds_s1)"
   ]
  },
  {
   "cell_type": "code",
   "execution_count": null,
   "metadata": {},
   "outputs": [],
   "source": [
    "# Scale to plot data in decibels\n",
    "ds_s1[\"vh_dB\"] = 10 * np.log10(ds_s1.vh)\n",
    "\n",
    "# Plot all VH observations for the year\n",
    "ds_s1.vh_dB.plot(cmap=\"Greys_r\", robust=True, col=\"time\", col_wrap=5)\n",
    "plt.show()"
   ]
  },
  {
   "cell_type": "code",
   "execution_count": null,
   "metadata": {},
   "outputs": [],
   "source": [
    "\n",
    "# Plot the average of all VH observations\n",
    "mean_vh_dB = ds_s1.vh_dB.mean(dim=\"time\")\n",
    "\n",
    "fig = plt.figure(figsize=(7, 9))\n",
    "mean_vh_dB.plot(cmap=\"Greys_r\", robust=True)\n",
    "plt.title(\"Average VH\")\n",
    "plt.show()"
   ]
  },
  {
   "cell_type": "code",
   "execution_count": null,
   "metadata": {},
   "outputs": [],
   "source": []
  },
  {
   "cell_type": "code",
   "execution_count": null,
   "metadata": {},
   "outputs": [],
   "source": []
  },
  {
   "cell_type": "code",
   "execution_count": null,
   "metadata": {},
   "outputs": [],
   "source": []
  },
  {
   "cell_type": "code",
   "execution_count": null,
   "metadata": {},
   "outputs": [],
   "source": []
  },
  {
   "cell_type": "code",
   "execution_count": null,
   "metadata": {},
   "outputs": [],
   "source": []
  },
  {
   "cell_type": "code",
   "execution_count": null,
   "metadata": {},
   "outputs": [],
   "source": []
  },
  {
   "cell_type": "code",
   "execution_count": null,
   "metadata": {},
   "outputs": [],
   "source": []
  },
  {
   "cell_type": "code",
   "execution_count": null,
   "metadata": {},
   "outputs": [],
   "source": []
  },
  {
   "cell_type": "code",
   "execution_count": null,
   "metadata": {},
   "outputs": [],
   "source": []
  },
  {
   "cell_type": "code",
   "execution_count": null,
   "metadata": {},
   "outputs": [],
   "source": []
  },
  {
   "cell_type": "markdown",
   "metadata": {},
   "source": [
    "### Choose location"
   ]
  },
  {
   "cell_type": "markdown",
   "metadata": {},
   "source": [
    "Use custom area of interest:"
   ]
  },
  {
   "cell_type": "code",
   "execution_count": null,
   "metadata": {},
   "outputs": [],
   "source": [
    "# location = 'Canberra'\n",
    "\n",
    "# # Set the central latitude and longitude\n",
    "# central_lat = -35.434967\n",
    "# central_lon = 149.002428\n",
    "\n",
    "# # Set the buffer to load around the central coordinates\n",
    "# buffer = 0.1\n",
    "\n",
    "# # Compute the bounding box for the study area\n",
    "# study_area_lat = (central_lat - buffer, central_lat + buffer)\n",
    "# study_area_lon = (central_lon - buffer, central_lon + buffer)\n",
    "\n",
    "# display_map(x=study_area_lon, y=study_area_lat, margin=-0.2)"
   ]
  },
  {
   "cell_type": "markdown",
   "metadata": {},
   "source": [
    "Use LCCS test areas:"
   ]
  },
  {
   "cell_type": "code",
   "execution_count": null,
   "metadata": {},
   "outputs": [],
   "source": [
    "location = 'Kakadu'\n",
    "min_x = 0\n",
    "max_x = 100000\n",
    "min_y = -1350000\n",
    "max_y = -1250000\n",
    "\n",
    "location = 'Murray Valley'\n",
    "min_x = 1100000\n",
    "max_x = 1200000\n",
    "min_y = -4000000\n",
    "max_y = -3900000\n",
    "\n",
    "location = 'Hobart'\n",
    "min_x = 1200000\n",
    "max_x = 1300000\n",
    "min_y = -4800000\n",
    "max_y = -4700000"
   ]
  },
  {
   "cell_type": "code",
   "execution_count": null,
   "metadata": {},
   "outputs": [],
   "source": [
    "# Make sure to change the location for in the save file\n",
    "location = 'Kakadu'\n",
    "min_x = 0\n",
    "max_x = 100000\n",
    "min_y = -1350000\n",
    "max_y = -1250000\n",
    "\n",
    "\n",
    "x = (min_x, max_x)\n",
    "y = (min_y, max_y)\n",
    "\n",
    "res_x = 100\n",
    "res_y = -100\n",
    "\n",
    "# Display an interactive map\n",
    "display_map(x=x, y=y, crs='EPSG:3577', margin=-0.1) "
   ]
  },
  {
   "cell_type": "markdown",
   "metadata": {},
   "source": [
    "### Load in image collection"
   ]
  },
  {
   "cell_type": "code",
   "execution_count": null,
   "metadata": {},
   "outputs": [],
   "source": [
    "start_date = '2010-01-01'\n",
    "end_date = '2010-12-31' \n",
    "\n",
    "#Load all data in baseline period available from Near Real Time data\n",
    "\n",
    "wofs = dc.load(\n",
    "              product=['wofs_albers'], # appears wofs_albers is daily\n",
    "              x=x, #study_area_lon or x\n",
    "              y=y, #study_area_lat or y\n",
    "              time=(start_date, end_date),\n",
    "              #measurements=['nbar_blue','nbar_green','nbar_red','nbar_nir_1', 'nbar_swir_3'],\n",
    "              output_crs='EPSG:3577',\n",
    "              crs='EPSG:3577',\n",
    "              resolution=(res_x,res_y)\n",
    "              #resolution=(-50, 50),\n",
    "              #group_by='solar_day'\n",
    ")"
   ]
  },
  {
   "cell_type": "code",
   "execution_count": null,
   "metadata": {},
   "outputs": [],
   "source": [
    "wofs"
   ]
  },
  {
   "cell_type": "code",
   "execution_count": null,
   "metadata": {},
   "outputs": [],
   "source": [
    "#wofs.isel(time=0).water.plot()\n",
    "(wofs.isel(time=60).water == 128).plot.imshow()\n",
    "plt.show()"
   ]
  },
  {
   "cell_type": "code",
   "execution_count": null,
   "metadata": {},
   "outputs": [],
   "source": [
    "# empty = np.zeros_like(wofs, dtype='float64')\n",
    "# empty"
   ]
  },
  {
   "cell_type": "code",
   "execution_count": null,
   "metadata": {},
   "outputs": [],
   "source": [
    "water = np.where(wofs.water == 128, 1, 0)\n",
    "water"
   ]
  },
  {
   "cell_type": "code",
   "execution_count": null,
   "metadata": {},
   "outputs": [],
   "source": [
    "clear = np.where((wofs.water == 128)| (wofs.water == 0), 1, 0)\n",
    "clear"
   ]
  },
  {
   "cell_type": "code",
   "execution_count": null,
   "metadata": {},
   "outputs": [],
   "source": [
    "water_month = water.groupby('time.month').sum(dim='time') \n",
    "water_month"
   ]
  },
  {
   "cell_type": "code",
   "execution_count": null,
   "metadata": {},
   "outputs": [],
   "source": [
    "import copy\n",
    "\n",
    "water_wofs = copy.deepcopy(wofs)"
   ]
  },
  {
   "cell_type": "code",
   "execution_count": null,
   "metadata": {},
   "outputs": [],
   "source": [
    "water_wofs"
   ]
  },
  {
   "cell_type": "code",
   "execution_count": null,
   "metadata": {},
   "outputs": [],
   "source": [
    "water_wofs['water'] = wofs.water.where(wofs.water == 128, 0)"
   ]
  },
  {
   "cell_type": "code",
   "execution_count": null,
   "metadata": {},
   "outputs": [],
   "source": [
    "water_wofs['water'] = wofs.water.where(wofs.water == 0, 1)"
   ]
  },
  {
   "cell_type": "code",
   "execution_count": null,
   "metadata": {},
   "outputs": [],
   "source": [
    "water_wofs.isel(time=60).water.plot.imshow()\n",
    "plt.show()"
   ]
  },
  {
   "cell_type": "code",
   "execution_count": null,
   "metadata": {},
   "outputs": [],
   "source": [
    "wofs"
   ]
  },
  {
   "cell_type": "code",
   "execution_count": null,
   "metadata": {},
   "outputs": [],
   "source": []
  }
 ],
 "metadata": {
  "kernelspec": {
   "display_name": "Python 3",
   "language": "python",
   "name": "python3"
  },
  "language_info": {
   "codemirror_mode": {
    "name": "ipython",
    "version": 3
   },
   "file_extension": ".py",
   "mimetype": "text/x-python",
   "name": "python",
   "nbconvert_exporter": "python",
   "pygments_lexer": "ipython3",
   "version": "3.6.9"
  }
 },
 "nbformat": 4,
 "nbformat_minor": 4
}
