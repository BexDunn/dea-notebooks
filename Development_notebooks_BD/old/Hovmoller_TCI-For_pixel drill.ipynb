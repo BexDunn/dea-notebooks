{
 "cells": [
  {
   "cell_type": "markdown",
   "metadata": {},
   "source": [
    "## Hovmoller Sites TCI\n",
    "\n",
    "This notebook opens a shape file of transects, allows you to select a transect by number (or plot all sites), and plot a hovmoller diagram of the site tasselled cap indices based on datacube landsat surface reflectance data and BoM rainfall data.\n",
    "\n",
    "Dependencies:\n",
    "\n",
    "  * shapefile of the site transects in EPSG 4326\n",
    "  \n",
    "The following sensors are available for the following time frames:\n",
    "* Landsat 5 - 1986 to April 1999  followed by a gap until May 2003 - November 2011 (data from 2009 onwards becomes less reliable in southern Australia)\n",
    "* Landsat 7 - April 1999 to present, however after May 2003 the scan line corrector (SLC) failed, \n",
    "so data are referred to as SLC-off, meaning they've got a venetian blinds appearance with wedges of missing data\n",
    "  * This data is not well suited for inclusion in composites, but is fine to use in time series analysis\n",
    "* Landsat 8 - April 2013 onwards\n",
    "  \n",
    "Bex Dunn June 2018"
   ]
  },
  {
   "cell_type": "markdown",
   "metadata": {
    "ExecuteTime": {
     "end_time": "2018-06-08T04:27:46.179951Z",
     "start_time": "2018-06-08T04:27:46.176572Z"
    }
   },
   "source": [
    "### Set up modules, functions and libraries"
   ]
  },
  {
   "cell_type": "code",
   "execution_count": 1,
   "metadata": {
    "ExecuteTime": {
     "end_time": "2018-06-17T07:06:08.230510Z",
     "start_time": "2018-06-17T07:06:03.286436Z"
    }
   },
   "outputs": [],
   "source": [
    "#in this notebook we want to plot non-interactively\n",
    "%matplotlib inline\n",
    "\n",
    "#suppress warnings thrown when rainfall data is imported\n",
    "# import logging\n",
    "# logging.getLogger('rasterio._gdal').setLevel(logging.ERROR)\n",
    "# import warnings\n",
    "\n",
    "#get standard libraries\n",
    "import datetime as dt\n",
    "import fiona\n",
    "import geopandas as gpd\n",
    "import shapely.geometry\n",
    "from shapely.geometry import shape\n",
    "import matplotlib.gridspec as gridspec\n",
    "import matplotlib as mpl\n",
    "from matplotlib import colors\n",
    "from matplotlib import pyplot as plt\n",
    "import matplotlib.dates\n",
    "import numpy as np\n",
    "import os\n",
    "import pickle\n",
    "import rasterio\n",
    "import rasterio.features\n",
    "import sys\n",
    "import xarray as xr\n",
    "\n",
    "#modules for datacube\n",
    "import datacube\n",
    "from datacube.utils import geometry\n",
    "from datacube.storage.storage import write_dataset_to_netcdf\n",
    "from datacube.helpers import write_geotiff\n",
    "\n",
    "# Import external functions from dea-notebooks\n",
    "sys.path.append(os.path.expanduser('~/dea-notebooks/Scripts/'))\n",
    "import DEAPlotting, DEADataHandling\n",
    "from BandIndices import tasseled_cap\n",
    "import TasseledCapTools\n",
    "from FileDialogs import *\n",
    "\n",
    "#ignore datacube warnings (needs to be last import statement)\n",
    "import warnings\n",
    "warnings.filterwarnings('ignore', module='datacube')\n",
    "\n",
    "#alias for datacube\n",
    "dc = datacube.Datacube(app='dc-BoMrainfallandNbart')"
   ]
  },
  {
   "cell_type": "markdown",
   "metadata": {},
   "source": [
    "### Set up functions for this notebook"
   ]
  },
  {
   "cell_type": "code",
   "execution_count": 2,
   "metadata": {
    "ExecuteTime": {
     "end_time": "2018-06-17T07:06:08.243598Z",
     "start_time": "2018-06-17T07:06:08.233060Z"
    }
   },
   "outputs": [],
   "source": [
    "#This defines the function that converts a linear vector file into a string of x,y coordinates\n",
    "def geom_query(geom, geom_crs='EPSG:4326'):\n",
    "    \"\"\"\n",
    "    Create datacube query snippet for geometry\n",
    "    \"\"\"\n",
    "    return {\n",
    "        'x': (geom.bounds[0], geom.bounds[2]),\n",
    "        'y': (geom.bounds[1], geom.bounds[3]),\n",
    "        'crs': geom_crs\n",
    "    }\n",
    "\n",
    "def warp_geometry(geom, crs_crs, dst_crs):\n",
    "    \"\"\"\n",
    "    warp geometry from crs_crs to dst_crs\n",
    "    \"\"\"\n",
    "    return shapely.geometry.shape(rasterio.warp.transform_geom(crs_crs, dst_crs, shapely.geometry.mapping(geom)))\n",
    "\n",
    "\n",
    "def transect(data, geom, resolution, method='nearest', tolerance=None):\n",
    "    \"\"\"\n",
    "    gets the transect\n",
    "    \"\"\"\n",
    "    #Changed for py3 compatibility 17.03.17\n",
    "    dist = [i for i in range(0, int(geom.length), resolution)]\n",
    "    #points = zip(*[geom.interpolate(d).coords[0] for d in dist]) py2\n",
    "    points = list(zip(*[geom.interpolate(d).coords[0] for d in dist])) #py3\n",
    "    indexers = {\n",
    "        data.crs.dimensions[0]: list(points[1]),\n",
    "        data.crs.dimensions[1]: list(points[0])        \n",
    "    }\n",
    "    return data.sel_points(xr.DataArray(dist, name='distance', dims=['distance']),\n",
    "                           method=method,\n",
    "                           tolerance=tolerance,\n",
    "                           **indexers)\n",
    "def load_rainfall(query):\n",
    "    \n",
    "    dc_rf =datacube.Datacube(config='/g/data/r78/bom_grids/rainfall.conf')\n",
    "    \n",
    "    rf_data = dc_rf.load(product = 'rainfall_grids_1901_2017',**query)\n",
    "\n",
    "    return rf_data"
   ]
  },
  {
   "cell_type": "markdown",
   "metadata": {},
   "source": [
    "## add the path to the input shapefile"
   ]
  },
  {
   "cell_type": "code",
   "execution_count": 3,
   "metadata": {
    "ExecuteTime": {
     "end_time": "2018-06-17T07:06:13.315209Z",
     "start_time": "2018-06-17T07:06:13.289810Z"
    },
    "scrolled": true
   },
   "outputs": [],
   "source": [
    "#transects file will be the file containing our transects\n",
    "transects_file = '/g/data/r78/rjd547/groundwater_activities/Burdekin/Burdekin_shapefiles/transects/merged2_hovmoller_transects2.shp'\n",
    "transects_df = gpd.read_file(transects_file)"
   ]
  },
  {
   "cell_type": "markdown",
   "metadata": {},
   "source": [
    "## Define the epoch"
   ]
  },
  {
   "cell_type": "code",
   "execution_count": 4,
   "metadata": {
    "ExecuteTime": {
     "end_time": "2018-06-17T07:06:15.961189Z",
     "start_time": "2018-06-17T07:06:15.955864Z"
    }
   },
   "outputs": [
    {
     "name": "stdout",
     "output_type": "stream",
     "text": [
      "temporal range is 2015-10-01 to 2017-10-01\n"
     ]
    }
   ],
   "source": [
    "#Define temporal range\n",
    "start_of_epoch = '2015-10-01'#'1987-10-01' \n",
    "end_of_epoch =  '2017-10-01'\n",
    "print ('temporal range is '+start_of_epoch+' to '+end_of_epoch)"
   ]
  },
  {
   "cell_type": "markdown",
   "metadata": {},
   "source": [
    "### Set up query"
   ]
  },
  {
   "cell_type": "code",
   "execution_count": 5,
   "metadata": {
    "ExecuteTime": {
     "end_time": "2018-06-17T07:06:20.906586Z",
     "start_time": "2018-06-17T07:06:16.420664Z"
    }
   },
   "outputs": [
    {
     "name": "stdout",
     "output_type": "stream",
     "text": [
      "choose the index of the transect you would like to plot:0\n"
     ]
    }
   ],
   "source": [
    "#use fiona module to open the shape file\n",
    "transects = fiona.open(transects_file)\n",
    "\n",
    "#this statement asks you to choose a shapefile. put in a number and press enter.\n",
    "i = int(input(\"choose the index of the transect you would like to plot:\"))\n",
    "#for i in range(len(transects)):\n",
    "\n",
    "geom1 = shape(transects[i]['geometry'])\n",
    "geom_query1 = geom_query(geom1)\n",
    "query = {\n",
    "    'time': (start_of_epoch, end_of_epoch),  \n",
    "}\n",
    "query.update(geom_query(geom1, geom_crs=transects.crs_wkt)) "
   ]
  },
  {
   "cell_type": "markdown",
   "metadata": {},
   "source": [
    "### use the transect dataframe to get transect metadata"
   ]
  },
  {
   "cell_type": "code",
   "execution_count": 6,
   "metadata": {
    "ExecuteTime": {
     "end_time": "2018-06-17T07:06:23.123783Z",
     "start_time": "2018-06-17T07:06:23.111506Z"
    }
   },
   "outputs": [
    {
     "name": "stdout",
     "output_type": "stream",
     "text": [
      "BasaltR_AmeliaDowns\n",
      "BasaltR_AmeliaDowns_ix0\n",
      "OS error: [Errno 17] File exists: '/g/data/r78/rjd547/groundwater_activities/Burdekin/Burdekin_Results/HovResults/BasaltR_AmeliaDowns_ix0_/'\n"
     ]
    }
   ],
   "source": [
    "#use the transect dataframe to get transect metadata\n",
    "transect_index = transects_df.index[i]\n",
    "transect_name = transects_df['Name'][i] \n",
    "try:\n",
    "    print(transect_name)\n",
    "except TypeError as err:\n",
    "    print(\"TypeError: {0}\".format(err))\n",
    "    print(transect_name)\n",
    "\n",
    "#create a filename for the transect\n",
    "shape_name = transect_name.split()\n",
    "shape_name ='_'.join(shape_name)\n",
    "shape_name=shape_name+'_ix'+str(transect_index)\n",
    "print(shape_name)\n",
    "\n",
    "#setup a save directory for our data\n",
    "savepath ='/g/data/r78/rjd547/groundwater_activities/Burdekin/Burdekin_Results/HovResults/'+shape_name+'_/'\n",
    "try:\n",
    "        os.mkdir(savepath)\n",
    "except OSError as err:\n",
    "        print(\"OS error: {0}\".format(err))"
   ]
  },
  {
   "cell_type": "markdown",
   "metadata": {},
   "source": [
    "### Check if this notebook has already been run and the data saved:"
   ]
  },
  {
   "cell_type": "code",
   "execution_count": 7,
   "metadata": {
    "ExecuteTime": {
     "end_time": "2018-06-17T07:06:25.238504Z",
     "start_time": "2018-06-17T07:06:25.234048Z"
    }
   },
   "outputs": [
    {
     "name": "stdout",
     "output_type": "stream",
     "text": [
      "/g/data/r78/rjd547/groundwater_activities/Burdekin/Burdekin_Results/HovResults/BasaltR_AmeliaDowns_ix0_/hov_data_BasaltR_AmeliaDowns_ix0_2015-10-01_2017-10-01.pkl\n"
     ]
    }
   ],
   "source": [
    "print(savepath+'hov_data_{}_{}_{}'.format(shape_name,start_of_epoch,end_of_epoch)+'.pkl')"
   ]
  },
  {
   "cell_type": "markdown",
   "metadata": {},
   "source": [
    "### If not, pull in rainfall and nbar "
   ]
  },
  {
   "cell_type": "code",
   "execution_count": 9,
   "metadata": {
    "ExecuteTime": {
     "end_time": "2018-06-17T07:07:18.015591Z",
     "start_time": "2018-06-17T07:06:38.214016Z"
    }
   },
   "outputs": [
    {
     "name": "stdout",
     "output_type": "stream",
     "text": [
      "did not load data from previous run\n",
      "Loading ls5 PQ\n",
      "    Skipping ls5\n",
      "Loading ls7 PQ\n",
      "    Loading 14 filtered ls7 timesteps\n",
      "Loading ls8 PQ\n",
      "    Loading 33 filtered ls8 timesteps\n",
      "Combining and sorting ls5, ls7 and ls8 data\n",
      "loaded SR data from DEA, getting rainfall grids\n",
      "loaded bom rainfall grids from DEA\n"
     ]
    }
   ],
   "source": [
    "if os.path.isfile(savepath+'hov_data_{}_{}_{}'.format(shape_name,start_of_epoch,end_of_epoch)+'.pkl'):\n",
    "    f = open(savepath+'hov_data_{}_{}_{}'.format(shape_name,start_of_epoch,end_of_epoch)+'.pkl', 'rb')\n",
    "    hov_data = pickle.load(f) \n",
    "    f.close()\n",
    "    if hov_data is not None: \n",
    "        print('loaded data from file')\n",
    "        ds = hov_data['ds']\n",
    "        Studysite_rain=hov_data['Studysite_rain']\n",
    "    \n",
    "else:\n",
    "    print('did not load data from previous run')\n",
    "    #use our DEADataHandling function to load landsat data for all sensors in epoch and mask out cloudy scenes\n",
    "    ds = DEADataHandling.load_clearlandsat(dc, query,product='nbart',masked_prop=0.80)\n",
    "    print('loaded SR data from DEA, getting rainfall grids')\n",
    "    #Grab bom_rainfall_grids from the datacube\n",
    "    Studysite_rain = load_rainfall(query)\n",
    "    print('loaded bom rainfall grids from DEA')"
   ]
  },
  {
   "cell_type": "markdown",
   "metadata": {},
   "source": [
    "### Run the tasseled cap transform and threshold"
   ]
  },
  {
   "cell_type": "code",
   "execution_count": 13,
   "metadata": {
    "ExecuteTime": {
     "end_time": "2018-06-17T07:09:47.217665Z",
     "start_time": "2018-06-17T07:09:47.179305Z"
    }
   },
   "outputs": [],
   "source": [
    "tci = tasseled_cap(ds)"
   ]
  },
  {
   "cell_type": "markdown",
   "metadata": {},
   "source": [
    "Take a look at some of the tasseled cap results"
   ]
  },
  {
   "cell_type": "code",
   "execution_count": 14,
   "metadata": {
    "ExecuteTime": {
     "end_time": "2018-06-17T07:09:48.300207Z",
     "start_time": "2018-06-17T07:09:47.999063Z"
    }
   },
   "outputs": [
    {
     "data": {
      "text/plain": [
       "<matplotlib.collections.QuadMesh at 0x7f094c202f28>"
      ]
     },
     "execution_count": 14,
     "metadata": {},
     "output_type": "execute_result"
    },
    {
     "data": {
      "image/png": "[encoded data removed]",
      "text/plain": [
       "<Figure size 432x288 with 2 Axes>"
      ]
     },
     "metadata": {},
     "output_type": "display_data"
    }
   ],
   "source": [
    "tci.wetness.isel(time=0).plot()"
   ]
  },
  {
   "cell_type": "code",
   "execution_count": 16,
   "metadata": {
    "ExecuteTime": {
     "end_time": "2018-06-17T07:10:05.471743Z",
     "start_time": "2018-06-17T07:10:05.228205Z"
    }
   },
   "outputs": [],
   "source": [
    "tci_summary= TasseledCapTools.pct_exceedance_tasseled_cap(ds)"
   ]
  },
  {
   "cell_type": "code",
   "execution_count": 17,
   "metadata": {
    "ExecuteTime": {
     "end_time": "2018-06-17T07:10:08.166331Z",
     "start_time": "2018-06-17T07:10:07.862596Z"
    }
   },
   "outputs": [
    {
     "data": {
      "text/plain": [
       "<matplotlib.collections.QuadMesh at 0x7f092c7fe2b0>"
      ]
     },
     "execution_count": 17,
     "metadata": {},
     "output_type": "execute_result"
    },
    {
     "data": {
      "image/png": "[encoded data removed]",
      "text/plain": [
       "<Figure size 432x288 with 2 Axes>"
      ]
     },
     "metadata": {},
     "output_type": "display_data"
    }
   ],
   "source": [
    "tci_summary.brightness_pct_exceedance.plot()"
   ]
  },
  {
   "cell_type": "code",
   "execution_count": 18,
   "metadata": {
    "ExecuteTime": {
     "end_time": "2018-06-17T07:10:16.864278Z",
     "start_time": "2018-06-17T07:10:16.817019Z"
    }
   },
   "outputs": [],
   "source": [
    "thresholded_tci = TasseledCapTools.thresholded_tasseled_cap(ds)"
   ]
  },
  {
   "cell_type": "code",
   "execution_count": 12,
   "metadata": {
    "ExecuteTime": {
     "end_time": "2018-06-17T07:09:39.419093Z",
     "start_time": "2018-06-17T07:09:39.053518Z"
    }
   },
   "outputs": [
    {
     "data": {
      "text/plain": [
       "<matplotlib.collections.QuadMesh at 0x7f092c6e1f98>"
      ]
     },
     "execution_count": 12,
     "metadata": {},
     "output_type": "execute_result"
    },
    {
     "data": {
      "image/png": "[encoded data removed]",
      "text/plain": [
       "<Figure size 432x288 with 2 Axes>"
      ]
     },
     "metadata": {},
     "output_type": "display_data"
    }
   ],
   "source": [
    "thresholded_tci.greenness_thresholded.isel(time=0).plot()"
   ]
  },
  {
   "cell_type": "markdown",
   "metadata": {},
   "source": [
    "### resample gridded rainfall data"
   ]
  },
  {
   "cell_type": "code",
   "execution_count": 20,
   "metadata": {
    "ExecuteTime": {
     "end_time": "2018-06-17T07:10:26.608768Z",
     "start_time": "2018-06-17T07:10:26.549167Z"
    }
   },
   "outputs": [
    {
     "name": "stderr",
     "output_type": "stream",
     "text": [
      "/g/data/v10/public/modules/dea-env/20180405/lib/python3.6/site-packages/ipykernel_launcher.py:4: DeprecationWarning: \n",
      ".resample() has been modified to defer calculations. Instead of passing 'dim' and 'how=\"mean\", instead consider using .resample(time=\"MS\").mean() \n",
      "  after removing the cwd from sys.path.\n",
      "/g/data/v10/public/modules/dea-env/20180405/lib/python3.6/site-packages/ipykernel_launcher.py:5: DeprecationWarning: \n",
      ".resample() has been modified to defer calculations. Instead of passing 'dim' and 'how=\"mean\", instead consider using .resample(time=\"AS-OCT\").mean() \n",
      "  \"\"\"\n"
     ]
    }
   ],
   "source": [
    "#resample xarray Dataset Studysite_rain by Annual'AS' to get yearly avg with year starting in october\n",
    "#Note that the resampling we did means that each year is labelled according to its first day  \n",
    "rain_sp = Studysite_rain.mean(dim = ('latitude','longitude'))\n",
    "month_sp = rain_sp.resample('MS', dim = 'time', how = 'mean')\n",
    "year_avg = Studysite_rain.resample('AS-OCT', dim='time', how='mean', keep_attrs=True)\n",
    "# Create a spatial average\n",
    "year_avg_sp = year_avg.mean(dim = ('latitude', 'longitude'))"
   ]
  },
  {
   "cell_type": "markdown",
   "metadata": {},
   "source": [
    "### Set up data for Hovmoller plots "
   ]
  },
  {
   "cell_type": "markdown",
   "metadata": {
    "ExecuteTime": {
     "end_time": "2018-06-13T00:52:05.612181Z",
     "start_time": "2018-06-13T00:52:05.608275Z"
    }
   },
   "source": [
    "#### Build 2D transect dataset for hovmoller plot"
   ]
  },
  {
   "cell_type": "code",
   "execution_count": 22,
   "metadata": {
    "ExecuteTime": {
     "end_time": "2018-06-17T07:10:37.063119Z",
     "start_time": "2018-06-17T07:10:37.047895Z"
    }
   },
   "outputs": [
    {
     "name": "stderr",
     "output_type": "stream",
     "text": [
      "/g/data/v10/public/modules/dea-env/20180405/lib/python3.6/site-packages/ipykernel_launcher.py:34: DeprecationWarning: Dataset.sel_points is deprecated: use Dataset.sel()instead.\n"
     ]
    }
   ],
   "source": [
    "## Compress #check source and destination crs\n",
    "crs = ds.crs\n",
    "crs_wkt = ds.crs.wkt\n",
    "geom_w = warp_geometry(geom1, query['crs'], crs_wkt)\n",
    "hov_ds= transect(ds, geom_w, 25)"
   ]
  },
  {
   "cell_type": "code",
   "execution_count": 25,
   "metadata": {
    "ExecuteTime": {
     "end_time": "2018-06-17T07:13:39.913545Z",
     "start_time": "2018-06-17T07:13:39.897318Z"
    }
   },
   "outputs": [
    {
     "name": "stderr",
     "output_type": "stream",
     "text": [
      "/g/data/v10/public/modules/dea-env/20180405/lib/python3.6/site-packages/ipykernel_launcher.py:34: DeprecationWarning: Dataset.sel_points is deprecated: use Dataset.sel()instead.\n"
     ]
    }
   ],
   "source": [
    "hov_tci = transect(tci, geom_w,25)\n",
    "hov_thresh_tci =transect(thresholded_tci, geom_w, 25)"
   ]
  },
  {
   "cell_type": "code",
   "execution_count": null,
   "metadata": {
    "ExecuteTime": {
     "end_time": "2018-06-13T10:38:02.758529Z",
     "start_time": "2018-06-13T10:38:02.749255Z"
    }
   },
   "outputs": [],
   "source": [
    "# #calculate NDVI here\n",
    "# hov_multi_ndvi = ((hov_ds.nir-hov_ds.red)/(hov_ds.nir+hov_ds.red))\n",
    "# hov_multi =hov_ds\n",
    "# hov_multi_ndvi_drop = hov_multi_ndvi"
   ]
  },
  {
   "cell_type": "markdown",
   "metadata": {},
   "source": [
    "### Make Hovmoller plot"
   ]
  },
  {
   "cell_type": "code",
   "execution_count": 30,
   "metadata": {
    "ExecuteTime": {
     "end_time": "2018-06-17T07:19:03.280609Z",
     "start_time": "2018-06-17T07:19:01.456307Z"
    }
   },
   "outputs": [
    {
     "name": "stdout",
     "output_type": "stream",
     "text": [
      "transect image: \n"
     ]
    },
    {
     "data": {
      "image/png": "[encoded data removed]",
      "text/plain": [
       "<Figure size 720x720 with 1 Axes>"
      ]
     },
     "metadata": {},
     "output_type": "display_data"
    },
    {
     "data": {
      "image/png": "[encoded data removed]",
      "text/plain": [
       "<Figure size 811.44x841.68 with 3 Axes>"
      ]
     },
     "metadata": {},
     "output_type": "display_data"
    }
   ],
   "source": [
    "with warnings.catch_warnings():\n",
    "    warnings.simplefilter(\"ignore\")\n",
    "    #try plotting the first clean time slice to see where we are\n",
    "    print('transect image: ')\n",
    "    DEAPlotting.three_band_image(ds, bands=['swir1','nir','green'],time =0, contrast_enhance=True)\n",
    "    plt.scatter(x=hov_ds.coords['x'], y=hov_ds.coords['y'], c='r',\n",
    "               linewidths='0.01', alpha = 0.5)\n",
    "    plt.savefig('{}{}_HovImg_{}_{}.png'.format(savepath,shape_name,start_of_epoch,end_of_epoch),\n",
    "            bbox_inches='tight')\n",
    "    plt.show()\n",
    "\n",
    "#Make a hovmoller plot and save it to file.\n",
    "#Use firstyear and last year to zoom into periods of interest\n",
    "firstyearhov = start_of_epoch#'1987-06-01'\n",
    "lastyearhov = end_of_epoch #'2016-12-31'\n",
    "fig = plt.figure(figsize=(11.27,11.69))\n",
    "gs = gridspec.GridSpec(1, 2, width_ratios=[1,3])\n",
    "ax1 = plt.subplot(gs[0, 0])\n",
    "ax1.plot(month_sp.rainfall, month_sp.time, color='b', alpha = 1)\n",
    "ax1.axes.set_xlabel('ave daily rainfall (mm): monthly (blue) yearly (grey)')\n",
    "\n",
    "#set up fill time as a datetime 64 object for matplotlib input\n",
    "#set up variables to plot the fill behind the yearly rain data\n",
    "filltime = (year_avg_sp.time.astype('datetime64'))\n",
    "zeros = np.zeros(shape=(len(filltime)))\n",
    "plt.fill_betweenx(filltime.time.values, zeros, year_avg_sp.rainfall, color ='k', alpha = 0.8)\n",
    "#set up variables to plot the fill behind the months data\n",
    "mzeros = np.zeros(shape=(len(month_sp.rainfall.time.values)))\n",
    "plt.fill_betweenx(month_sp.rainfall.time.values, mzeros, month_sp.rainfall, color ='c', alpha = 1)\n",
    "plt.axis([0, month_sp.rainfall.max(),lastyearhov , firstyearhov])\n",
    "\n",
    "ax2 = plt.subplot(gs[0, 1])\n",
    "hov_tci.wetness.plot(x='distance', y='time', yincrease = False, cmap = 'gist_earth_r')\n",
    "#fig.delaxes(fig.axes[]) #remove current colour bar\n",
    "plt.axis([0, hov_tci.wetness.distance.max(), lastyearhov , firstyearhov])\n",
    "ax2.set_anchor(\"SE\")\n",
    "#make a title replacing underscores with spaces\n",
    "plt.suptitle(shape_name.replace('_',' '), fontsize ='24')\n",
    "\n",
    "#save plot to file\n",
    "plt.savefig('{}{}_HovPlot_TCI_{}_{}.png'.format(savepath,shape_name,start_of_epoch,end_of_epoch),\n",
    "            bbox_inches='tight')\n",
    "plt.show()"
   ]
  },
  {
   "cell_type": "markdown",
   "metadata": {},
   "source": [
    "### Save the data to an output file for future use"
   ]
  },
  {
   "cell_type": "code",
   "execution_count": 31,
   "metadata": {
    "ExecuteTime": {
     "end_time": "2018-06-17T11:38:46.334553Z",
     "start_time": "2018-06-17T11:38:46.296549Z"
    }
   },
   "outputs": [
    {
     "name": "stdout",
     "output_type": "stream",
     "text": [
      "saved data to file\n"
     ]
    }
   ],
   "source": [
    "try:\n",
    "    #make a dictionary of the data we want to save\n",
    "    hov_data = {'ds':ds, 'Studysite_rain':Studysite_rain,'rain_sp':rain_sp,'month_sp':month_sp,\n",
    "                'year_avg':year_avg,'year_avg_sp':year_avg_sp,'hov_tci':hov_tci, 'start_of_epoch': start_of_epoch, \n",
    "                'end_of_epoch':end_of_epoch}\n",
    "\n",
    "    f = open(savepath+'hov_data_tci_{}_{}_{}'.format(shape_name,start_of_epoch,end_of_epoch)+'.pkl', 'wb')\n",
    "    pickle.dump(hov_data,f) \n",
    "    print('saved data to file')\n",
    "    #pickle.dump(pickle_vars,f,protocol = 2, fix_imports = True) #maintain compatibility with python 2\n",
    "    f.close()\n",
    "except:\n",
    "    print('did not save to file')"
   ]
  },
  {
   "cell_type": "code",
   "execution_count": null,
   "metadata": {},
   "outputs": [],
   "source": []
  },
  {
   "cell_type": "code",
   "execution_count": null,
   "metadata": {},
   "outputs": [],
   "source": []
  }
 ],
 "metadata": {
  "kernelspec": {
   "display_name": "Python 3",
   "language": "python",
   "name": "python3"
  },
  "language_info": {
   "codemirror_mode": {
    "name": "ipython",
    "version": 3
   },
   "file_extension": ".py",
   "mimetype": "text/x-python",
   "name": "python",
   "nbconvert_exporter": "python",
   "pygments_lexer": "ipython3",
   "version": "3.6.5"
  }
 },
 "nbformat": 4,
 "nbformat_minor": 2
}
