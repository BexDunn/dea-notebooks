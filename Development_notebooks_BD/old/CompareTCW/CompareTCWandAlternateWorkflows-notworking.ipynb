{
 "cells": [
  {
   "cell_type": "markdown",
   "metadata": {},
   "source": [
    "# Compare TCW rasters with alternate method from CEWO\n"
   ]
  },
  {
   "cell_type": "markdown",
   "metadata": {},
   "source": [
    "**What does this notebook do?**\n",
    "\n",
    "**Required inputs**\n",
    "* geotiffs of thresholded TCW extents\n",
    "* geotiff of \"off-river storages\" identifed by cewo\n",
    "* geotiff of cewo-identified extents\n",
    "\n",
    "**Date** July 2018\n",
    "\n",
    "**Authors** Claire Krause, Bex Dunn"
   ]
  },
  {
   "cell_type": "code",
   "execution_count": null,
   "metadata": {
    "ExecuteTime": {
     "end_time": "2018-07-26T03:59:34.427182Z",
     "start_time": "2018-07-26T03:59:34.423551Z"
    }
   },
   "outputs": [],
   "source": [
    "### trying to remove areas from a shapefile"
   ]
  },
  {
   "cell_type": "code",
   "execution_count": 1,
   "metadata": {
    "ExecuteTime": {
     "end_time": "2018-07-26T04:01:56.953433Z",
     "start_time": "2018-07-26T04:01:53.072781Z"
    }
   },
   "outputs": [
    {
     "name": "stdout",
     "output_type": "stream",
     "text": [
      "Populating the interactive namespace from numpy and matplotlib\n"
     ]
    }
   ],
   "source": [
    "%pylab notebook\n",
    "import xarray as xr\n",
    "import matplotlib.pyplot as plt\n",
    "from datacube.storage import masking"
   ]
  },
  {
   "cell_type": "markdown",
   "metadata": {},
   "source": [
    "## Choose tiff files for input and load in using rasterio"
   ]
  },
  {
   "cell_type": "markdown",
   "metadata": {},
   "source": [
    "offriverfile contains the storages that cewo removes from the prediction; we're removing it from ours as well"
   ]
  },
  {
   "cell_type": "code",
   "execution_count": 2,
   "metadata": {
    "ExecuteTime": {
     "end_time": "2018-07-26T04:01:56.962271Z",
     "start_time": "2018-07-26T04:01:56.957869Z"
    }
   },
   "outputs": [],
   "source": [
    "#offriverFile = '/g/data/r78/rjd547/Macquarie_Marsh/bexnessresults/thresholded_wetness/clipped/off_river_storages.tif'"
   ]
  },
  {
   "cell_type": "markdown",
   "metadata": {},
   "source": [
    "thresholds are our chosen thresholds for the TCW; these need to match the filenames, and are not set here."
   ]
  },
  {
   "cell_type": "code",
   "execution_count": 3,
   "metadata": {
    "ExecuteTime": {
     "end_time": "2018-07-26T04:01:56.970134Z",
     "start_time": "2018-07-26T04:01:56.965304Z"
    }
   },
   "outputs": [],
   "source": [
    "thresholds = ['-0','-100','-200','-300','-400','-500','-600']"
   ]
  },
  {
   "cell_type": "code",
   "execution_count": 4,
   "metadata": {
    "ExecuteTime": {
     "end_time": "2018-07-26T04:01:58.866782Z",
     "start_time": "2018-07-26T04:01:58.862609Z"
    }
   },
   "outputs": [],
   "source": [
    "#make a list of the files corresponding to our set thresholds\n",
    "thresholdFiles =[]\n",
    "for i in range(0, len(thresholds)):\n",
    "    thresholdFiles.append('/g/data/r78/rjd547/Macquarie_Marsh/bexnessresults/thresholded_wetness/clipped/t{0}_Mac_14_-35_20160627__20160629_clipped.tif'.format(thresholds[i]))"
   ]
  },
  {
   "cell_type": "code",
   "execution_count": 5,
   "metadata": {
    "ExecuteTime": {
     "end_time": "2018-07-26T04:01:59.549827Z",
     "start_time": "2018-07-26T04:01:59.542654Z"
    }
   },
   "outputs": [
    {
     "data": {
      "text/plain": [
       "['/g/data/r78/rjd547/Macquarie_Marsh/bexnessresults/thresholded_wetness/clipped/t-0_Mac_14_-35_20160627__20160629_clipped.tif',\n",
       " '/g/data/r78/rjd547/Macquarie_Marsh/bexnessresults/thresholded_wetness/clipped/t-100_Mac_14_-35_20160627__20160629_clipped.tif',\n",
       " '/g/data/r78/rjd547/Macquarie_Marsh/bexnessresults/thresholded_wetness/clipped/t-200_Mac_14_-35_20160627__20160629_clipped.tif',\n",
       " '/g/data/r78/rjd547/Macquarie_Marsh/bexnessresults/thresholded_wetness/clipped/t-300_Mac_14_-35_20160627__20160629_clipped.tif',\n",
       " '/g/data/r78/rjd547/Macquarie_Marsh/bexnessresults/thresholded_wetness/clipped/t-400_Mac_14_-35_20160627__20160629_clipped.tif',\n",
       " '/g/data/r78/rjd547/Macquarie_Marsh/bexnessresults/thresholded_wetness/clipped/t-500_Mac_14_-35_20160627__20160629_clipped.tif',\n",
       " '/g/data/r78/rjd547/Macquarie_Marsh/bexnessresults/thresholded_wetness/clipped/t-600_Mac_14_-35_20160627__20160629_clipped.tif']"
      ]
     },
     "execution_count": 5,
     "metadata": {},
     "output_type": "execute_result"
    }
   ],
   "source": [
    "thresholdFiles"
   ]
  },
  {
   "cell_type": "markdown",
   "metadata": {},
   "source": [
    "cewo file is the file with cewo's scene of the extent of inundation"
   ]
  },
  {
   "cell_type": "code",
   "execution_count": 6,
   "metadata": {
    "ExecuteTime": {
     "end_time": "2018-07-26T04:02:01.339996Z",
     "start_time": "2018-07-26T04:02:01.335203Z"
    }
   },
   "outputs": [
    {
     "data": {
      "text/plain": [
       "'/g/data/r78/rjd547/Macquarie_Marsh/bexnessresults/thresholded_wetness/clipped/t-0_Mac_14_-35_20160627__20160629_clipped.tif'"
      ]
     },
     "execution_count": 6,
     "metadata": {},
     "output_type": "execute_result"
    }
   ],
   "source": [
    "thresholdFiles[0]"
   ]
  },
  {
   "cell_type": "code",
   "execution_count": 20,
   "metadata": {
    "ExecuteTime": {
     "end_time": "2018-07-26T04:06:43.513295Z",
     "start_time": "2018-07-26T04:06:43.509805Z"
    }
   },
   "outputs": [],
   "source": [
    "cewoFile = '/g/data/r78/rjd547/Macquarie_Marsh/bexnessresults/thresholded_wetness/clipped/no_storages/cewo_20160628_tileandclip.tif'"
   ]
  },
  {
   "cell_type": "markdown",
   "metadata": {},
   "source": [
    "## Load in the threshold, off-river storage and extent geotiffs"
   ]
  },
  {
   "cell_type": "code",
   "execution_count": 21,
   "metadata": {
    "ExecuteTime": {
     "end_time": "2018-07-26T04:06:43.534287Z",
     "start_time": "2018-07-26T04:06:43.515708Z"
    }
   },
   "outputs": [],
   "source": [
    "# Open the GeoTIFFs using rasterio\n",
    "cewoData = xr.open_rasterio(cewoFile) #extents file\n",
    "ThresholdData = xr.open_rasterio(thresholdFiles[0]) #thresholded TCW\n",
    "#offriverData = xr.open_rasterio(offriverFile) #offriverstorages only"
   ]
  },
  {
   "cell_type": "code",
   "execution_count": 22,
   "metadata": {
    "ExecuteTime": {
     "end_time": "2018-07-26T04:06:45.203571Z",
     "start_time": "2018-07-26T04:06:43.620958Z"
    }
   },
   "outputs": [
    {
     "data": {
      "application/javascript": [
       "/* Put everything inside the global mpl namespace */\n",
       "window.mpl = {};\n",
       "\n",
       "\n",
       "mpl.get_websocket_type = function() {\n",
       "    if (typeof(WebSocket) !== 'undefined') {\n",
       "        return WebSocket;\n",
       "    } else if (typeof(MozWebSocket) !== 'undefined') {\n",
       "        return MozWebSocket;\n",
       "    } else {\n",
       "        alert('Your browser does not have WebSocket support.' +\n",
       "              'Please try Chrome, Safari or Firefox ≥ 6. ' +\n",
       "              'Firefox 4 and 5 are also supported but you ' +\n",
       "              'have to enable WebSockets in about:config.');\n",
       "    };\n",
       "}\n",
       "\n",
       "mpl.figure = function(figure_id, websocket, ondownload, parent_element) {\n",
       "    this.id = figure_id;\n",
       "\n",
       "    this.ws = websocket;\n",
       "\n",
       "    this.supports_binary = (this.ws.binaryType != undefined);\n",
       "\n",
       "    if (!this.supports_binary) {\n",
       "        var warnings = document.getElementById(\"mpl-warnings\");\n",
       "        if (warnings) {\n",
       "            warnings.style.display = 'block';\n",
       "            warnings.textContent = (\n",
       "                \"This browser does not support binary websocket messages. \" +\n",
       "                    \"Performance may be slow.\");\n",
       "        }\n",
       "    }\n",
       "\n",
       "    this.imageObj = new Image();\n",
       "\n",
       "    this.context = undefined;\n",
       "    this.message = undefined;\n",
       "    this.canvas = undefined;\n",
       "    this.rubberband_canvas = undefined;\n",
       "    this.rubberband_context = undefined;\n",
       "    this.format_dropdown = undefined;\n",
       "\n",
       "    this.image_mode = 'full';\n",
       "\n",
       "    this.root = $('<div/>');\n",
       "    this._root_extra_style(this.root)\n",
       "    this.root.attr('style', 'display: inline-block');\n",
       "\n",
       "    $(parent_element).append(this.root);\n",
       "\n",
       "    this._init_header(this);\n",
       "    this._init_canvas(this);\n",
       "    this._init_toolbar(this);\n",
       "\n",
       "    var fig = this;\n",
       "\n",
       "    this.waiting = false;\n",
       "\n",
       "    this.ws.onopen =  function () {\n",
       "            fig.send_message(\"supports_binary\", {value: fig.supports_binary});\n",
       "            fig.send_message(\"send_image_mode\", {});\n",
       "            if (mpl.ratio != 1) {\n",
       "                fig.send_message(\"set_dpi_ratio\", {'dpi_ratio': mpl.ratio});\n",
       "            }\n",
       "            fig.send_message(\"refresh\", {});\n",
       "        }\n",
       "\n",
       "    this.imageObj.onload = function() {\n",
       "            if (fig.image_mode == 'full') {\n",
       "                // Full images could contain transparency (where diff images\n",
       "                // almost always do), so we need to clear the canvas so that\n",
       "                // there is no ghosting.\n",
       "                fig.context.clearRect(0, 0, fig.canvas.width, fig.canvas.height);\n",
       "            }\n",
       "            fig.context.drawImage(fig.imageObj, 0, 0);\n",
       "        };\n",
       "\n",
       "    this.imageObj.onunload = function() {\n",
       "        fig.ws.close();\n",
       "    }\n",
       "\n",
       "    this.ws.onmessage = this._make_on_message_function(this);\n",
       "\n",
       "    this.ondownload = ondownload;\n",
       "}\n",
       "\n",
       "mpl.figure.prototype._init_header = function() {\n",
       "    var titlebar = $(\n",
       "        '<div class=\"ui-dialog-titlebar ui-widget-header ui-corner-all ' +\n",
       "        'ui-helper-clearfix\"/>');\n",
       "    var titletext = $(\n",
       "        '<div class=\"ui-dialog-title\" style=\"width: 100%; ' +\n",
       "        'text-align: center; padding: 3px;\"/>');\n",
       "    titlebar.append(titletext)\n",
       "    this.root.append(titlebar);\n",
       "    this.header = titletext[0];\n",
       "}\n",
       "\n",
       "\n",
       "\n",
       "mpl.figure.prototype._canvas_extra_style = function(canvas_div) {\n",
       "\n",
       "}\n",
       "\n",
       "\n",
       "mpl.figure.prototype._root_extra_style = function(canvas_div) {\n",
       "\n",
       "}\n",
       "\n",
       "mpl.figure.prototype._init_canvas = function() {\n",
       "    var fig = this;\n",
       "\n",
       "    var canvas_div = $('<div/>');\n",
       "\n",
       "    canvas_div.attr('style', 'position: relative; clear: both; outline: 0');\n",
       "\n",
       "    function canvas_keyboard_event(event) {\n",
       "        return fig.key_event(event, event['data']);\n",
       "    }\n",
       "\n",
       "    canvas_div.keydown('key_press', canvas_keyboard_event);\n",
       "    canvas_div.keyup('key_release', canvas_keyboard_event);\n",
       "    this.canvas_div = canvas_div\n",
       "    this._canvas_extra_style(canvas_div)\n",
       "    this.root.append(canvas_div);\n",
       "\n",
       "    var canvas = $('<canvas/>');\n",
       "    canvas.addClass('mpl-canvas');\n",
       "    canvas.attr('style', \"left: 0; top: 0; z-index: 0; outline: 0\")\n",
       "\n",
       "    this.canvas = canvas[0];\n",
       "    this.context = canvas[0].getContext(\"2d\");\n",
       "\n",
       "    var backingStore = this.context.backingStorePixelRatio ||\n",
       "\tthis.context.webkitBackingStorePixelRatio ||\n",
       "\tthis.context.mozBackingStorePixelRatio ||\n",
       "\tthis.context.msBackingStorePixelRatio ||\n",
       "\tthis.context.oBackingStorePixelRatio ||\n",
       "\tthis.context.backingStorePixelRatio || 1;\n",
       "\n",
       "    mpl.ratio = (window.devicePixelRatio || 1) / backingStore;\n",
       "\n",
       "    var rubberband = $('<canvas/>');\n",
       "    rubberband.attr('style', \"position: absolute; left: 0; top: 0; z-index: 1;\")\n",
       "\n",
       "    var pass_mouse_events = true;\n",
       "\n",
       "    canvas_div.resizable({\n",
       "        start: function(event, ui) {\n",
       "            pass_mouse_events = false;\n",
       "        },\n",
       "        resize: function(event, ui) {\n",
       "            fig.request_resize(ui.size.width, ui.size.height);\n",
       "        },\n",
       "        stop: function(event, ui) {\n",
       "            pass_mouse_events = true;\n",
       "            fig.request_resize(ui.size.width, ui.size.height);\n",
       "        },\n",
       "    });\n",
       "\n",
       "    function mouse_event_fn(event) {\n",
       "        if (pass_mouse_events)\n",
       "            return fig.mouse_event(event, event['data']);\n",
       "    }\n",
       "\n",
       "    rubberband.mousedown('button_press', mouse_event_fn);\n",
       "    rubberband.mouseup('button_release', mouse_event_fn);\n",
       "    // Throttle sequential mouse events to 1 every 20ms.\n",
       "    rubberband.mousemove('motion_notify', mouse_event_fn);\n",
       "\n",
       "    rubberband.mouseenter('figure_enter', mouse_event_fn);\n",
       "    rubberband.mouseleave('figure_leave', mouse_event_fn);\n",
       "\n",
       "    canvas_div.on(\"wheel\", function (event) {\n",
       "        event = event.originalEvent;\n",
       "        event['data'] = 'scroll'\n",
       "        if (event.deltaY < 0) {\n",
       "            event.step = 1;\n",
       "        } else {\n",
       "            event.step = -1;\n",
       "        }\n",
       "        mouse_event_fn(event);\n",
       "    });\n",
       "\n",
       "    canvas_div.append(canvas);\n",
       "    canvas_div.append(rubberband);\n",
       "\n",
       "    this.rubberband = rubberband;\n",
       "    this.rubberband_canvas = rubberband[0];\n",
       "    this.rubberband_context = rubberband[0].getContext(\"2d\");\n",
       "    this.rubberband_context.strokeStyle = \"#000000\";\n",
       "\n",
       "    this._resize_canvas = function(width, height) {\n",
       "        // Keep the size of the canvas, canvas container, and rubber band\n",
       "        // canvas in synch.\n",
       "        canvas_div.css('width', width)\n",
       "        canvas_div.css('height', height)\n",
       "\n",
       "        canvas.attr('width', width * mpl.ratio);\n",
       "        canvas.attr('height', height * mpl.ratio);\n",
       "        canvas.attr('style', 'width: ' + width + 'px; height: ' + height + 'px;');\n",
       "\n",
       "        rubberband.attr('width', width);\n",
       "        rubberband.attr('height', height);\n",
       "    }\n",
       "\n",
       "    // Set the figure to an initial 600x600px, this will subsequently be updated\n",
       "    // upon first draw.\n",
       "    this._resize_canvas(600, 600);\n",
       "\n",
       "    // Disable right mouse context menu.\n",
       "    $(this.rubberband_canvas).bind(\"contextmenu\",function(e){\n",
       "        return false;\n",
       "    });\n",
       "\n",
       "    function set_focus () {\n",
       "        canvas.focus();\n",
       "        canvas_div.focus();\n",
       "    }\n",
       "\n",
       "    window.setTimeout(set_focus, 100);\n",
       "}\n",
       "\n",
       "mpl.figure.prototype._init_toolbar = function() {\n",
       "    var fig = this;\n",
       "\n",
       "    var nav_element = $('<div/>')\n",
       "    nav_element.attr('style', 'width: 100%');\n",
       "    this.root.append(nav_element);\n",
       "\n",
       "    // Define a callback function for later on.\n",
       "    function toolbar_event(event) {\n",
       "        return fig.toolbar_button_onclick(event['data']);\n",
       "    }\n",
       "    function toolbar_mouse_event(event) {\n",
       "        return fig.toolbar_button_onmouseover(event['data']);\n",
       "    }\n",
       "\n",
       "    for(var toolbar_ind in mpl.toolbar_items) {\n",
       "        var name = mpl.toolbar_items[toolbar_ind][0];\n",
       "        var tooltip = mpl.toolbar_items[toolbar_ind][1];\n",
       "        var image = mpl.toolbar_items[toolbar_ind][2];\n",
       "        var method_name = mpl.toolbar_items[toolbar_ind][3];\n",
       "\n",
       "        if (!name) {\n",
       "            // put a spacer in here.\n",
       "            continue;\n",
       "        }\n",
       "        var button = $('<button/>');\n",
       "        button.addClass('ui-button ui-widget ui-state-default ui-corner-all ' +\n",
       "                        'ui-button-icon-only');\n",
       "        button.attr('role', 'button');\n",
       "        button.attr('aria-disabled', 'false');\n",
       "        button.click(method_name, toolbar_event);\n",
       "        button.mouseover(tooltip, toolbar_mouse_event);\n",
       "\n",
       "        var icon_img = $('<span/>');\n",
       "        icon_img.addClass('ui-button-icon-primary ui-icon');\n",
       "        icon_img.addClass(image);\n",
       "        icon_img.addClass('ui-corner-all');\n",
       "\n",
       "        var tooltip_span = $('<span/>');\n",
       "        tooltip_span.addClass('ui-button-text');\n",
       "        tooltip_span.html(tooltip);\n",
       "\n",
       "        button.append(icon_img);\n",
       "        button.append(tooltip_span);\n",
       "\n",
       "        nav_element.append(button);\n",
       "    }\n",
       "\n",
       "    var fmt_picker_span = $('<span/>');\n",
       "\n",
       "    var fmt_picker = $('<select/>');\n",
       "    fmt_picker.addClass('mpl-toolbar-option ui-widget ui-widget-content');\n",
       "    fmt_picker_span.append(fmt_picker);\n",
       "    nav_element.append(fmt_picker_span);\n",
       "    this.format_dropdown = fmt_picker[0];\n",
       "\n",
       "    for (var ind in mpl.extensions) {\n",
       "        var fmt = mpl.extensions[ind];\n",
       "        var option = $(\n",
       "            '<option/>', {selected: fmt === mpl.default_extension}).html(fmt);\n",
       "        fmt_picker.append(option)\n",
       "    }\n",
       "\n",
       "    // Add hover states to the ui-buttons\n",
       "    $( \".ui-button\" ).hover(\n",
       "        function() { $(this).addClass(\"ui-state-hover\");},\n",
       "        function() { $(this).removeClass(\"ui-state-hover\");}\n",
       "    );\n",
       "\n",
       "    var status_bar = $('<span class=\"mpl-message\"/>');\n",
       "    nav_element.append(status_bar);\n",
       "    this.message = status_bar[0];\n",
       "}\n",
       "\n",
       "mpl.figure.prototype.request_resize = function(x_pixels, y_pixels) {\n",
       "    // Request matplotlib to resize the figure. Matplotlib will then trigger a resize in the client,\n",
       "    // which will in turn request a refresh of the image.\n",
       "    this.send_message('resize', {'width': x_pixels, 'height': y_pixels});\n",
       "}\n",
       "\n",
       "mpl.figure.prototype.send_message = function(type, properties) {\n",
       "    properties['type'] = type;\n",
       "    properties['figure_id'] = this.id;\n",
       "    this.ws.send(JSON.stringify(properties));\n",
       "}\n",
       "\n",
       "mpl.figure.prototype.send_draw_message = function() {\n",
       "    if (!this.waiting) {\n",
       "        this.waiting = true;\n",
       "        this.ws.send(JSON.stringify({type: \"draw\", figure_id: this.id}));\n",
       "    }\n",
       "}\n",
       "\n",
       "\n",
       "mpl.figure.prototype.handle_save = function(fig, msg) {\n",
       "    var format_dropdown = fig.format_dropdown;\n",
       "    var format = format_dropdown.options[format_dropdown.selectedIndex].value;\n",
       "    fig.ondownload(fig, format);\n",
       "}\n",
       "\n",
       "\n",
       "mpl.figure.prototype.handle_resize = function(fig, msg) {\n",
       "    var size = msg['size'];\n",
       "    if (size[0] != fig.canvas.width || size[1] != fig.canvas.height) {\n",
       "        fig._resize_canvas(size[0], size[1]);\n",
       "        fig.send_message(\"refresh\", {});\n",
       "    };\n",
       "}\n",
       "\n",
       "mpl.figure.prototype.handle_rubberband = function(fig, msg) {\n",
       "    var x0 = msg['x0'] / mpl.ratio;\n",
       "    var y0 = (fig.canvas.height - msg['y0']) / mpl.ratio;\n",
       "    var x1 = msg['x1'] / mpl.ratio;\n",
       "    var y1 = (fig.canvas.height - msg['y1']) / mpl.ratio;\n",
       "    x0 = Math.floor(x0) + 0.5;\n",
       "    y0 = Math.floor(y0) + 0.5;\n",
       "    x1 = Math.floor(x1) + 0.5;\n",
       "    y1 = Math.floor(y1) + 0.5;\n",
       "    var min_x = Math.min(x0, x1);\n",
       "    var min_y = Math.min(y0, y1);\n",
       "    var width = Math.abs(x1 - x0);\n",
       "    var height = Math.abs(y1 - y0);\n",
       "\n",
       "    fig.rubberband_context.clearRect(\n",
       "        0, 0, fig.canvas.width, fig.canvas.height);\n",
       "\n",
       "    fig.rubberband_context.strokeRect(min_x, min_y, width, height);\n",
       "}\n",
       "\n",
       "mpl.figure.prototype.handle_figure_label = function(fig, msg) {\n",
       "    // Updates the figure title.\n",
       "    fig.header.textContent = msg['label'];\n",
       "}\n",
       "\n",
       "mpl.figure.prototype.handle_cursor = function(fig, msg) {\n",
       "    var cursor = msg['cursor'];\n",
       "    switch(cursor)\n",
       "    {\n",
       "    case 0:\n",
       "        cursor = 'pointer';\n",
       "        break;\n",
       "    case 1:\n",
       "        cursor = 'default';\n",
       "        break;\n",
       "    case 2:\n",
       "        cursor = 'crosshair';\n",
       "        break;\n",
       "    case 3:\n",
       "        cursor = 'move';\n",
       "        break;\n",
       "    }\n",
       "    fig.rubberband_canvas.style.cursor = cursor;\n",
       "}\n",
       "\n",
       "mpl.figure.prototype.handle_message = function(fig, msg) {\n",
       "    fig.message.textContent = msg['message'];\n",
       "}\n",
       "\n",
       "mpl.figure.prototype.handle_draw = function(fig, msg) {\n",
       "    // Request the server to send over a new figure.\n",
       "    fig.send_draw_message();\n",
       "}\n",
       "\n",
       "mpl.figure.prototype.handle_image_mode = function(fig, msg) {\n",
       "    fig.image_mode = msg['mode'];\n",
       "}\n",
       "\n",
       "mpl.figure.prototype.updated_canvas_event = function() {\n",
       "    // Called whenever the canvas gets updated.\n",
       "    this.send_message(\"ack\", {});\n",
       "}\n",
       "\n",
       "// A function to construct a web socket function for onmessage handling.\n",
       "// Called in the figure constructor.\n",
       "mpl.figure.prototype._make_on_message_function = function(fig) {\n",
       "    return function socket_on_message(evt) {\n",
       "        if (evt.data instanceof Blob) {\n",
       "            /* FIXME: We get \"Resource interpreted as Image but\n",
       "             * transferred with MIME type text/plain:\" errors on\n",
       "             * Chrome.  But how to set the MIME type?  It doesn't seem\n",
       "             * to be part of the websocket stream */\n",
       "            evt.data.type = \"image/png\";\n",
       "\n",
       "            /* Free the memory for the previous frames */\n",
       "            if (fig.imageObj.src) {\n",
       "                (window.URL || window.webkitURL).revokeObjectURL(\n",
       "                    fig.imageObj.src);\n",
       "            }\n",
       "\n",
       "            fig.imageObj.src = (window.URL || window.webkitURL).createObjectURL(\n",
       "                evt.data);\n",
       "            fig.updated_canvas_event();\n",
       "            fig.waiting = false;\n",
       "            return;\n",
       "        }\n",
       "        else if (typeof evt.data === 'string' && evt.data.slice(0, 21) == \"data:image/png;base64\") {\n",
       "            fig.imageObj.src = evt.data;\n",
       "            fig.updated_canvas_event();\n",
       "            fig.waiting = false;\n",
       "            return;\n",
       "        }\n",
       "\n",
       "        var msg = JSON.parse(evt.data);\n",
       "        var msg_type = msg['type'];\n",
       "\n",
       "        // Call the  \"handle_{type}\" callback, which takes\n",
       "        // the figure and JSON message as its only arguments.\n",
       "        try {\n",
       "            var callback = fig[\"handle_\" + msg_type];\n",
       "        } catch (e) {\n",
       "            console.log(\"No handler for the '\" + msg_type + \"' message type: \", msg);\n",
       "            return;\n",
       "        }\n",
       "\n",
       "        if (callback) {\n",
       "            try {\n",
       "                // console.log(\"Handling '\" + msg_type + \"' message: \", msg);\n",
       "                callback(fig, msg);\n",
       "            } catch (e) {\n",
       "                console.log(\"Exception inside the 'handler_\" + msg_type + \"' callback:\", e, e.stack, msg);\n",
       "            }\n",
       "        }\n",
       "    };\n",
       "}\n",
       "\n",
       "// from http://stackoverflow.com/questions/1114465/getting-mouse-location-in-canvas\n",
       "mpl.findpos = function(e) {\n",
       "    //this section is from http://www.quirksmode.org/js/events_properties.html\n",
       "    var targ;\n",
       "    if (!e)\n",
       "        e = window.event;\n",
       "    if (e.target)\n",
       "        targ = e.target;\n",
       "    else if (e.srcElement)\n",
       "        targ = e.srcElement;\n",
       "    if (targ.nodeType == 3) // defeat Safari bug\n",
       "        targ = targ.parentNode;\n",
       "\n",
       "    // jQuery normalizes the pageX and pageY\n",
       "    // pageX,Y are the mouse positions relative to the document\n",
       "    // offset() returns the position of the element relative to the document\n",
       "    var x = e.pageX - $(targ).offset().left;\n",
       "    var y = e.pageY - $(targ).offset().top;\n",
       "\n",
       "    return {\"x\": x, \"y\": y};\n",
       "};\n",
       "\n",
       "/*\n",
       " * return a copy of an object with only non-object keys\n",
       " * we need this to avoid circular references\n",
       " * http://stackoverflow.com/a/24161582/3208463\n",
       " */\n",
       "function simpleKeys (original) {\n",
       "  return Object.keys(original).reduce(function (obj, key) {\n",
       "    if (typeof original[key] !== 'object')\n",
       "        obj[key] = original[key]\n",
       "    return obj;\n",
       "  }, {});\n",
       "}\n",
       "\n",
       "mpl.figure.prototype.mouse_event = function(event, name) {\n",
       "    var canvas_pos = mpl.findpos(event)\n",
       "\n",
       "    if (name === 'button_press')\n",
       "    {\n",
       "        this.canvas.focus();\n",
       "        this.canvas_div.focus();\n",
       "    }\n",
       "\n",
       "    var x = canvas_pos.x * mpl.ratio;\n",
       "    var y = canvas_pos.y * mpl.ratio;\n",
       "\n",
       "    this.send_message(name, {x: x, y: y, button: event.button,\n",
       "                             step: event.step,\n",
       "                             guiEvent: simpleKeys(event)});\n",
       "\n",
       "    /* This prevents the web browser from automatically changing to\n",
       "     * the text insertion cursor when the button is pressed.  We want\n",
       "     * to control all of the cursor setting manually through the\n",
       "     * 'cursor' event from matplotlib */\n",
       "    event.preventDefault();\n",
       "    return false;\n",
       "}\n",
       "\n",
       "mpl.figure.prototype._key_event_extra = function(event, name) {\n",
       "    // Handle any extra behaviour associated with a key event\n",
       "}\n",
       "\n",
       "mpl.figure.prototype.key_event = function(event, name) {\n",
       "\n",
       "    // Prevent repeat events\n",
       "    if (name == 'key_press')\n",
       "    {\n",
       "        if (event.which === this._key)\n",
       "            return;\n",
       "        else\n",
       "            this._key = event.which;\n",
       "    }\n",
       "    if (name == 'key_release')\n",
       "        this._key = null;\n",
       "\n",
       "    var value = '';\n",
       "    if (event.ctrlKey && event.which != 17)\n",
       "        value += \"ctrl+\";\n",
       "    if (event.altKey && event.which != 18)\n",
       "        value += \"alt+\";\n",
       "    if (event.shiftKey && event.which != 16)\n",
       "        value += \"shift+\";\n",
       "\n",
       "    value += 'k';\n",
       "    value += event.which.toString();\n",
       "\n",
       "    this._key_event_extra(event, name);\n",
       "\n",
       "    this.send_message(name, {key: value,\n",
       "                             guiEvent: simpleKeys(event)});\n",
       "    return false;\n",
       "}\n",
       "\n",
       "mpl.figure.prototype.toolbar_button_onclick = function(name) {\n",
       "    if (name == 'download') {\n",
       "        this.handle_save(this, null);\n",
       "    } else {\n",
       "        this.send_message(\"toolbar_button\", {name: name});\n",
       "    }\n",
       "};\n",
       "\n",
       "mpl.figure.prototype.toolbar_button_onmouseover = function(tooltip) {\n",
       "    this.message.textContent = tooltip;\n",
       "};\n",
       "mpl.toolbar_items = [[\"Home\", \"Reset original view\", \"fa fa-home icon-home\", \"home\"], [\"Back\", \"Back to  previous view\", \"fa fa-arrow-left icon-arrow-left\", \"back\"], [\"Forward\", \"Forward to next view\", \"fa fa-arrow-right icon-arrow-right\", \"forward\"], [\"\", \"\", \"\", \"\"], [\"Pan\", \"Pan axes with left mouse, zoom with right\", \"fa fa-arrows icon-move\", \"pan\"], [\"Zoom\", \"Zoom to rectangle\", \"fa fa-square-o icon-check-empty\", \"zoom\"], [\"\", \"\", \"\", \"\"], [\"Download\", \"Download plot\", \"fa fa-floppy-o icon-save\", \"download\"]];\n",
       "\n",
       "mpl.extensions = [\"eps\", \"jpeg\", \"pdf\", \"png\", \"ps\", \"raw\", \"svg\", \"tif\"];\n",
       "\n",
       "mpl.default_extension = \"png\";var comm_websocket_adapter = function(comm) {\n",
       "    // Create a \"websocket\"-like object which calls the given IPython comm\n",
       "    // object with the appropriate methods. Currently this is a non binary\n",
       "    // socket, so there is still some room for performance tuning.\n",
       "    var ws = {};\n",
       "\n",
       "    ws.close = function() {\n",
       "        comm.close()\n",
       "    };\n",
       "    ws.send = function(m) {\n",
       "        //console.log('sending', m);\n",
       "        comm.send(m);\n",
       "    };\n",
       "    // Register the callback with on_msg.\n",
       "    comm.on_msg(function(msg) {\n",
       "        //console.log('receiving', msg['content']['data'], msg);\n",
       "        // Pass the mpl event to the overridden (by mpl) onmessage function.\n",
       "        ws.onmessage(msg['content']['data'])\n",
       "    });\n",
       "    return ws;\n",
       "}\n",
       "\n",
       "mpl.mpl_figure_comm = function(comm, msg) {\n",
       "    // This is the function which gets called when the mpl process\n",
       "    // starts-up an IPython Comm through the \"matplotlib\" channel.\n",
       "\n",
       "    var id = msg.content.data.id;\n",
       "    // Get hold of the div created by the display call when the Comm\n",
       "    // socket was opened in Python.\n",
       "    var element = $(\"#\" + id);\n",
       "    var ws_proxy = comm_websocket_adapter(comm)\n",
       "\n",
       "    function ondownload(figure, format) {\n",
       "        window.open(figure.imageObj.src);\n",
       "    }\n",
       "\n",
       "    var fig = new mpl.figure(id, ws_proxy,\n",
       "                           ondownload,\n",
       "                           element.get(0));\n",
       "\n",
       "    // Call onopen now - mpl needs it, as it is assuming we've passed it a real\n",
       "    // web socket which is closed, not our websocket->open comm proxy.\n",
       "    ws_proxy.onopen();\n",
       "\n",
       "    fig.parent_element = element.get(0);\n",
       "    fig.cell_info = mpl.find_output_cell(\"<div id='\" + id + \"'></div>\");\n",
       "    if (!fig.cell_info) {\n",
       "        console.error(\"Failed to find cell for figure\", id, fig);\n",
       "        return;\n",
       "    }\n",
       "\n",
       "    var output_index = fig.cell_info[2]\n",
       "    var cell = fig.cell_info[0];\n",
       "\n",
       "};\n",
       "\n",
       "mpl.figure.prototype.handle_close = function(fig, msg) {\n",
       "    var width = fig.canvas.width/mpl.ratio\n",
       "    fig.root.unbind('remove')\n",
       "\n",
       "    // Update the output cell to use the data from the current canvas.\n",
       "    fig.push_to_output();\n",
       "    var dataURL = fig.canvas.toDataURL();\n",
       "    // Re-enable the keyboard manager in IPython - without this line, in FF,\n",
       "    // the notebook keyboard shortcuts fail.\n",
       "    IPython.keyboard_manager.enable()\n",
       "    $(fig.parent_element).html('<img src=\"' + dataURL + '\" width=\"' + width + '\">');\n",
       "    fig.close_ws(fig, msg);\n",
       "}\n",
       "\n",
       "mpl.figure.prototype.close_ws = function(fig, msg){\n",
       "    fig.send_message('closing', msg);\n",
       "    // fig.ws.close()\n",
       "}\n",
       "\n",
       "mpl.figure.prototype.push_to_output = function(remove_interactive) {\n",
       "    // Turn the data on the canvas into data in the output cell.\n",
       "    var width = this.canvas.width/mpl.ratio\n",
       "    var dataURL = this.canvas.toDataURL();\n",
       "    this.cell_info[1]['text/html'] = '<img src=\"' + dataURL + '\" width=\"' + width + '\">';\n",
       "}\n",
       "\n",
       "mpl.figure.prototype.updated_canvas_event = function() {\n",
       "    // Tell IPython that the notebook contents must change.\n",
       "    IPython.notebook.set_dirty(true);\n",
       "    this.send_message(\"ack\", {});\n",
       "    var fig = this;\n",
       "    // Wait a second, then push the new image to the DOM so\n",
       "    // that it is saved nicely (might be nice to debounce this).\n",
       "    setTimeout(function () { fig.push_to_output() }, 1000);\n",
       "}\n",
       "\n",
       "mpl.figure.prototype._init_toolbar = function() {\n",
       "    var fig = this;\n",
       "\n",
       "    var nav_element = $('<div/>')\n",
       "    nav_element.attr('style', 'width: 100%');\n",
       "    this.root.append(nav_element);\n",
       "\n",
       "    // Define a callback function for later on.\n",
       "    function toolbar_event(event) {\n",
       "        return fig.toolbar_button_onclick(event['data']);\n",
       "    }\n",
       "    function toolbar_mouse_event(event) {\n",
       "        return fig.toolbar_button_onmouseover(event['data']);\n",
       "    }\n",
       "\n",
       "    for(var toolbar_ind in mpl.toolbar_items){\n",
       "        var name = mpl.toolbar_items[toolbar_ind][0];\n",
       "        var tooltip = mpl.toolbar_items[toolbar_ind][1];\n",
       "        var image = mpl.toolbar_items[toolbar_ind][2];\n",
       "        var method_name = mpl.toolbar_items[toolbar_ind][3];\n",
       "\n",
       "        if (!name) { continue; };\n",
       "\n",
       "        var button = $('<button class=\"btn btn-default\" href=\"#\" title=\"' + name + '\"><i class=\"fa ' + image + ' fa-lg\"></i></button>');\n",
       "        button.click(method_name, toolbar_event);\n",
       "        button.mouseover(tooltip, toolbar_mouse_event);\n",
       "        nav_element.append(button);\n",
       "    }\n",
       "\n",
       "    // Add the status bar.\n",
       "    var status_bar = $('<span class=\"mpl-message\" style=\"text-align:right; float: right;\"/>');\n",
       "    nav_element.append(status_bar);\n",
       "    this.message = status_bar[0];\n",
       "\n",
       "    // Add the close button to the window.\n",
       "    var buttongrp = $('<div class=\"btn-group inline pull-right\"></div>');\n",
       "    var button = $('<button class=\"btn btn-mini btn-primary\" href=\"#\" title=\"Stop Interaction\"><i class=\"fa fa-power-off icon-remove icon-large\"></i></button>');\n",
       "    button.click(function (evt) { fig.handle_close(fig, {}); } );\n",
       "    button.mouseover('Stop Interaction', toolbar_mouse_event);\n",
       "    buttongrp.append(button);\n",
       "    var titlebar = this.root.find($('.ui-dialog-titlebar'));\n",
       "    titlebar.prepend(buttongrp);\n",
       "}\n",
       "\n",
       "mpl.figure.prototype._root_extra_style = function(el){\n",
       "    var fig = this\n",
       "    el.on(\"remove\", function(){\n",
       "\tfig.close_ws(fig, {});\n",
       "    });\n",
       "}\n",
       "\n",
       "mpl.figure.prototype._canvas_extra_style = function(el){\n",
       "    // this is important to make the div 'focusable\n",
       "    el.attr('tabindex', 0)\n",
       "    // reach out to IPython and tell the keyboard manager to turn it's self\n",
       "    // off when our div gets focus\n",
       "\n",
       "    // location in version 3\n",
       "    if (IPython.notebook.keyboard_manager) {\n",
       "        IPython.notebook.keyboard_manager.register_events(el);\n",
       "    }\n",
       "    else {\n",
       "        // location in version 2\n",
       "        IPython.keyboard_manager.register_events(el);\n",
       "    }\n",
       "\n",
       "}\n",
       "\n",
       "mpl.figure.prototype._key_event_extra = function(event, name) {\n",
       "    var manager = IPython.notebook.keyboard_manager;\n",
       "    if (!manager)\n",
       "        manager = IPython.keyboard_manager;\n",
       "\n",
       "    // Check for shift+enter\n",
       "    if (event.shiftKey && event.which == 13) {\n",
       "        this.canvas_div.blur();\n",
       "        event.shiftKey = false;\n",
       "        // Send a \"J\" for go to next cell\n",
       "        event.which = 74;\n",
       "        event.keyCode = 74;\n",
       "        manager.command_mode();\n",
       "        manager.handle_keydown(event);\n",
       "    }\n",
       "}\n",
       "\n",
       "mpl.figure.prototype.handle_save = function(fig, msg) {\n",
       "    fig.ondownload(fig, null);\n",
       "}\n",
       "\n",
       "\n",
       "mpl.find_output_cell = function(html_output) {\n",
       "    // Return the cell and output element which can be found *uniquely* in the notebook.\n",
       "    // Note - this is a bit hacky, but it is done because the \"notebook_saving.Notebook\"\n",
       "    // IPython event is triggered only after the cells have been serialised, which for\n",
       "    // our purposes (turning an active figure into a static one), is too late.\n",
       "    var cells = IPython.notebook.get_cells();\n",
       "    var ncells = cells.length;\n",
       "    for (var i=0; i<ncells; i++) {\n",
       "        var cell = cells[i];\n",
       "        if (cell.cell_type === 'code'){\n",
       "            for (var j=0; j<cell.output_area.outputs.length; j++) {\n",
       "                var data = cell.output_area.outputs[j];\n",
       "                if (data.data) {\n",
       "                    // IPython >= 3 moved mimebundle to data attribute of output\n",
       "                    data = data.data;\n",
       "                }\n",
       "                if (data['text/html'] == html_output) {\n",
       "                    return [cell, data, j];\n",
       "                }\n",
       "            }\n",
       "        }\n",
       "    }\n",
       "}\n",
       "\n",
       "// Register the function which deals with the matplotlib target/channel.\n",
       "// The kernel may be null if the page has been refreshed.\n",
       "if (IPython.notebook.kernel != null) {\n",
       "    IPython.notebook.kernel.comm_manager.register_target('matplotlib', mpl.mpl_figure_comm);\n",
       "}\n"
      ],
      "text/plain": [
       "<IPython.core.display.Javascript object>"
      ]
     },
     "metadata": {},
     "output_type": "display_data"
    },
    {
     "data": {
      "text/html": [
       "<img src=\"data:image/png;base64,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\" width=\"639.8333333333334\">"
      ],
      "text/plain": [
       "<IPython.core.display.HTML object>"
      ]
     },
     "metadata": {},
     "output_type": "display_data"
    }
   ],
   "source": [
    "plt.clf()\n",
    "cewoData.plot()\n",
    "plt.show()"
   ]
  },
  {
   "cell_type": "code",
   "execution_count": 23,
   "metadata": {
    "ExecuteTime": {
     "end_time": "2018-07-26T04:06:58.674063Z",
     "start_time": "2018-07-26T04:06:58.654780Z"
    }
   },
   "outputs": [
    {
     "data": {
      "text/plain": [
       "<xarray.DataArray (band: 1, y: 6564, x: 2144)>\n",
       "[14073216 values with dtype=uint16]\n",
       "Coordinates:\n",
       "  * band     (band) int64 1\n",
       "  * y        (y) float64 -3.383e+06 -3.383e+06 -3.383e+06 -3.383e+06 ...\n",
       "  * x        (x) float64 1.438e+06 1.438e+06 1.438e+06 1.439e+06 1.439e+06 ...\n",
       "Attributes:\n",
       "    transform:   (25.0, 0.0, 1438421.001, 0.0, -25.0, -3382788.875, 0.0, 0.0,...\n",
       "    crs:         +init=epsg:3577\n",
       "    res:         (25.0, 25.0)\n",
       "    is_tiled:    0\n",
       "    nodatavals:  (65535.0,)"
      ]
     },
     "execution_count": 23,
     "metadata": {},
     "output_type": "execute_result"
    }
   ],
   "source": [
    "cewoData"
   ]
  },
  {
   "cell_type": "code",
   "execution_count": 25,
   "metadata": {
    "ExecuteTime": {
     "end_time": "2018-07-26T04:10:34.432303Z",
     "start_time": "2018-07-26T04:10:34.414268Z"
    }
   },
   "outputs": [
    {
     "data": {
      "text/plain": [
       "<xarray.DataArray (band: 1, y: 6564, x: 2144)>\n",
       "[14073216 values with dtype=float32]\n",
       "Coordinates:\n",
       "  * band     (band) int64 1\n",
       "  * y        (y) float64 -3.383e+06 -3.383e+06 -3.383e+06 -3.383e+06 ...\n",
       "  * x        (x) float64 1.438e+06 1.438e+06 1.438e+06 1.439e+06 1.439e+06 ...\n",
       "Attributes:\n",
       "    transform:   (25.0, 0.0, 1438421.0013571545, 0.0, -25.0, -3382788.8746242...\n",
       "    crs:         +init=epsg:3577\n",
       "    res:         (25.0, 25.0)\n",
       "    is_tiled:    0\n",
       "    nodatavals:  (-3.4028234663852886e+38,)"
      ]
     },
     "execution_count": 25,
     "metadata": {},
     "output_type": "execute_result"
    }
   ],
   "source": [
    "ThresholdData"
   ]
  },
  {
   "cell_type": "code",
   "execution_count": 14,
   "metadata": {
    "ExecuteTime": {
     "end_time": "2018-07-26T04:04:02.107690Z",
     "start_time": "2018-07-26T04:04:01.943393Z"
    }
   },
   "outputs": [],
   "source": [
    "#filter out both sets of nodata values as defined by CEWO\n",
    "#cewoData = cewoData.where(cewoData!=-3.4028234663852886e+38) #remove no data vals\n",
    "#cewoData = cewoData.where(cewoData!=0) #remove no data vals\n",
    "#cewoData = cewoData.where(cewoData!=65535.) #remove no data vals"
   ]
  },
  {
   "cell_type": "code",
   "execution_count": null,
   "metadata": {
    "ExecuteTime": {
     "end_time": "2018-07-26T04:00:58.000571Z",
     "start_time": "2018-07-26T04:00:57.372953Z"
    }
   },
   "outputs": [],
   "source": [
    "ThresholdData=ThresholdData.where(ThresholdData!=-3.4028234663852886e+38)\n",
    "ThresholdData=ThresholdData.where(ThresholdData!=0)\n",
    "#take off river storages out of the thresholded data\n",
    "ThresholdData=ThresholdData.where(cewoData!=2.0)"
   ]
  },
  {
   "cell_type": "code",
   "execution_count": null,
   "metadata": {
    "ExecuteTime": {
     "end_time": "2018-07-26T03:59:09.005727Z",
     "start_time": "2018-07-26T03:59:08.112670Z"
    }
   },
   "outputs": [],
   "source": [
    "offriverstorages=cewoData.where(cewoData==2.0)\n",
    "cewoData = cewoData.where(cewoData!=2.) #remove off river storages"
   ]
  },
  {
   "cell_type": "code",
   "execution_count": null,
   "metadata": {
    "ExecuteTime": {
     "end_time": "2018-07-26T03:59:26.276724Z",
     "start_time": "2018-07-26T03:59:26.266705Z"
    }
   },
   "outputs": [],
   "source": [
    "ThresholdData"
   ]
  },
  {
   "cell_type": "code",
   "execution_count": null,
   "metadata": {
    "ExecuteTime": {
     "end_time": "2018-07-26T03:59:10.878439Z",
     "start_time": "2018-07-26T03:59:09.716127Z"
    }
   },
   "outputs": [],
   "source": [
    "plt.clf()\n",
    "offriverstorages.plot()\n",
    "plt.show()"
   ]
  },
  {
   "cell_type": "code",
   "execution_count": null,
   "metadata": {
    "ExecuteTime": {
     "end_time": "2018-07-26T03:54:59.431941Z",
     "start_time": "2018-07-26T03:54:58.794537Z"
    }
   },
   "outputs": [],
   "source": [
    "\n"
   ]
  },
  {
   "cell_type": "code",
   "execution_count": null,
   "metadata": {},
   "outputs": [],
   "source": [
    "#ThresholdData=ThresholdData.where(offriverstorages!=2.0)"
   ]
  },
  {
   "cell_type": "code",
   "execution_count": null,
   "metadata": {
    "ExecuteTime": {
     "end_time": "2018-07-26T03:54:14.345295Z",
     "start_time": "2018-07-26T03:54:14.292387Z"
    }
   },
   "outputs": [],
   "source": [
    "ThresholdData.min()"
   ]
  },
  {
   "cell_type": "code",
   "execution_count": null,
   "metadata": {
    "ExecuteTime": {
     "end_time": "2018-07-25T01:11:46.424413Z",
     "start_time": "2018-07-25T01:11:46.287074Z"
    }
   },
   "outputs": [],
   "source": [
    "ThresholdData=ThresholdData.where(ThresholdData!=-3.4028234663852886e+38)\n",
    "ThresholdData=ThresholdData.where(ThresholdData!=0)\n",
    "#ThresholdData=ThresholdData.where(cewoData.data!=2.0)"
   ]
  },
  {
   "cell_type": "code",
   "execution_count": null,
   "metadata": {
    "ExecuteTime": {
     "end_time": "2018-07-25T01:12:00.831455Z",
     "start_time": "2018-07-25T01:11:47.860090Z"
    }
   },
   "outputs": [],
   "source": [
    "plt.clf()\n",
    "ThresholdData.plot()\n",
    "plt.show()"
   ]
  },
  {
   "cell_type": "code",
   "execution_count": null,
   "metadata": {
    "ExecuteTime": {
     "end_time": "2018-07-24T06:52:49.625932Z",
     "start_time": "2018-07-24T06:52:48.828879Z"
    }
   },
   "outputs": [],
   "source": [
    "#cewoData=cewoData.where(cewoData!=65535.0)"
   ]
  },
  {
   "cell_type": "code",
   "execution_count": null,
   "metadata": {
    "ExecuteTime": {
     "end_time": "2018-07-25T01:55:18.238010Z",
     "start_time": "2018-07-25T01:55:18.209700Z"
    }
   },
   "outputs": [],
   "source": [
    "#cewoData"
   ]
  },
  {
   "cell_type": "code",
   "execution_count": null,
   "metadata": {
    "ExecuteTime": {
     "end_time": "2018-07-24T06:52:57.409847Z",
     "start_time": "2018-07-24T06:52:56.311794Z"
    }
   },
   "outputs": [],
   "source": [
    "# cewoData.plot()\n",
    "# plt.show()"
   ]
  },
  {
   "cell_type": "markdown",
   "metadata": {},
   "source": [
    "Trying our first batch of comparisons here:"
   ]
  },
  {
   "cell_type": "code",
   "execution_count": null,
   "metadata": {
    "ExecuteTime": {
     "end_time": "2018-07-26T01:09:40.944844Z",
     "start_time": "2018-07-26T01:09:40.850453Z"
    }
   },
   "outputs": [],
   "source": [
    "ThresholdData.where(ThresholdData==1).count()"
   ]
  },
  {
   "cell_type": "code",
   "execution_count": null,
   "metadata": {
    "ExecuteTime": {
     "end_time": "2018-07-26T01:10:16.504832Z",
     "start_time": "2018-07-26T01:10:16.367646Z"
    }
   },
   "outputs": [],
   "source": [
    "cewoData.where(cewoData==1).count()"
   ]
  },
  {
   "cell_type": "code",
   "execution_count": null,
   "metadata": {},
   "outputs": [],
   "source": []
  },
  {
   "cell_type": "code",
   "execution_count": null,
   "metadata": {},
   "outputs": [],
   "source": []
  },
  {
   "cell_type": "code",
   "execution_count": null,
   "metadata": {},
   "outputs": [],
   "source": []
  },
  {
   "cell_type": "code",
   "execution_count": null,
   "metadata": {},
   "outputs": [],
   "source": []
  },
  {
   "cell_type": "code",
   "execution_count": null,
   "metadata": {},
   "outputs": [],
   "source": []
  },
  {
   "cell_type": "code",
   "execution_count": null,
   "metadata": {},
   "outputs": [],
   "source": []
  },
  {
   "cell_type": "code",
   "execution_count": null,
   "metadata": {},
   "outputs": [],
   "source": []
  },
  {
   "cell_type": "code",
   "execution_count": null,
   "metadata": {},
   "outputs": [],
   "source": []
  },
  {
   "cell_type": "code",
   "execution_count": null,
   "metadata": {},
   "outputs": [],
   "source": [
    "# Make sure all the missing values are taken out\n",
    "NDVIDatamaxNonull = NDVIDatamax.where(NDVIDatamax != -1)\n",
    "NDMIDatamaxNonull = NDMIDatamax.where(NDMIDatamax != -1)"
   ]
  },
  {
   "cell_type": "markdown",
   "metadata": {},
   "source": [
    "## Read in the validation mask and use it to examine the resulting pixel populations"
   ]
  },
  {
   "cell_type": "code",
   "execution_count": null,
   "metadata": {},
   "outputs": [],
   "source": [
    "# Data * mask = data or nan\n",
    "NDVIIrrigated = mask * NDVIDatamaxNonull\n",
    "# Find where the mask is nan, and use this True/False to mask data\n",
    "NDVINonIrrigated = NDVIDatamaxNonull.where(np.isnan(mask))\n",
    "\n",
    "# Data * mask = data or nan\n",
    "NDMIIrrigated = mask * NDMIDatamaxNonull\n",
    "# Find where the mask is nan, and use this True/False to mask data\n",
    "NDMINonIrrigated = NDMIDatamaxNonull.where(np.isnan(mask))"
   ]
  },
  {
   "cell_type": "markdown",
   "metadata": {},
   "source": [
    "## Need to flatten the data so we can plot two single dimension arrays against each other"
   ]
  },
  {
   "cell_type": "code",
   "execution_count": null,
   "metadata": {},
   "outputs": [],
   "source": [
    "NDVIIrrigatedflat = NDVIIrrigated.data.reshape(NDVIIrrigated.x.size * NDVIIrrigated.y.size)\n",
    "NDVINonIrrigatedflat = NDVINonIrrigated.data.reshape(NDVINonIrrigated.x.size * NDVINonIrrigated.y.size)\n",
    "\n",
    "NDMIIrrigatedflat = NDMIIrrigated.data.reshape(NDMIIrrigated.x.size * NDMIIrrigated.y.size)\n",
    "NDMINonIrrigatedflat = NDMINonIrrigated.data.reshape(NDMINonIrrigated.x.size * NDMINonIrrigated.y.size)"
   ]
  },
  {
   "cell_type": "markdown",
   "metadata": {},
   "source": [
    "## Draw a histogram of the two populations\n",
    "\n",
    "Matplotlib histogram doesn't like `nan`, so we need to remove the `nan` values before we can create a histogram. This is done by reshaping the array into a single dimension, then removing the nan values.\n",
    "\n",
    "This histogram will allow us to determine a valid threshold value for the automatic irrigated crop extent layer."
   ]
  },
  {
   "cell_type": "code",
   "execution_count": null,
   "metadata": {
    "scrolled": false
   },
   "outputs": [],
   "source": [
    "bin_values = np.arange(0, 1.0, 0.02)\n",
    "\n",
    "fig, axs = plt.subplots(1, 2, sharex=True, tight_layout=True, figsize = [9,5])\n",
    "axs[0].hist(NDVIIrrigatedflat[np.isfinite(NDVIIrrigatedflat)], bins=bin_values, facecolor = 'blue');\n",
    "axs[0].set_title('{0} for Namoi irrigated fields {0}'.format(Index, year))\n",
    "axs[0].set_xlabel(Index)\n",
    "axs[1].hist(NDVINonIrrigatedflat[np.isfinite(NDVINonIrrigatedflat)], bins=bin_values, facecolor = 'brown');\n",
    "axs[1].set_title('{0} for Namoi non-irrigated fields {0}'.format(Index, year))\n",
    "axs[1].set_xlabel(Index)\n",
    "savefig('/g/data/r78/cek156/dea-notebooks/Crop_mapping/Playing_around/Namoi_NDVI_{1}.jpg'.format(Index, year))"
   ]
  },
  {
   "cell_type": "markdown",
   "metadata": {},
   "source": [
    "## Is there a relationship between a pixel's NDVI and NDMI?"
   ]
  },
  {
   "cell_type": "code",
   "execution_count": null,
   "metadata": {},
   "outputs": [],
   "source": [
    "plt.figure(figsize = [8,8])\n",
    "\n",
    "plt.scatter(NDVINonIrrigatedflat[::10], NDMINonIrrigatedflat[::10], facecolor = 'brown', marker = '.')\n",
    "plt.scatter(NDVIIrrigatedflat[::10], NDMIIrrigatedflat[::10], facecolor = 'blue', marker = '.')\n",
    "plt.xlabel('NDVI')\n",
    "plt.ylabel('NDMI')\n",
    "plt.title('NDVI vs NDMI for every pixel in the Namoi Catchment')\n",
    "plt.legend(['Non-irrigated pixels', 'Irrigated pixels'])\n",
    "savefig('/g/data/r78/cek156/dea-notebooks/Crop_mapping/Playing_around/Namoi_scatter_{0}.jpg'.format(year))"
   ]
  },
  {
   "cell_type": "code",
   "execution_count": null,
   "metadata": {},
   "outputs": [],
   "source": []
  }
 ],
 "metadata": {
  "kernelspec": {
   "display_name": "Python 3",
   "language": "python",
   "name": "python3"
  },
  "language_info": {
   "codemirror_mode": {
    "name": "ipython",
    "version": 3
   },
   "file_extension": ".py",
   "mimetype": "text/x-python",
   "name": "python",
   "nbconvert_exporter": "python",
   "pygments_lexer": "ipython3",
   "version": "3.6.5"
  },
  "toc": {
   "base_numbering": 1,
   "nav_menu": {},
   "number_sections": true,
   "sideBar": true,
   "skip_h1_title": false,
   "title_cell": "Table of Contents",
   "title_sidebar": "Contents",
   "toc_cell": false,
   "toc_position": {},
   "toc_section_display": true,
   "toc_window_display": false
  }
 },
 "nbformat": 4,
 "nbformat_minor": 2
}
