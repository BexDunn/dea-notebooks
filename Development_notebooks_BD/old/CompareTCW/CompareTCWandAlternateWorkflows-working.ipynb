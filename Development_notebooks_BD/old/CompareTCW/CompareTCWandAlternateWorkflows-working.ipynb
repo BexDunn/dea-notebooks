{
 "cells": [
  {
   "cell_type": "markdown",
   "metadata": {},
   "source": [
    "# Compare TCW rasters with alternate method from CEWO\n"
   ]
  },
  {
   "cell_type": "markdown",
   "metadata": {},
   "source": [
    "**What does this notebook do?**\n",
    "\n",
    "**Required inputs**\n",
    "* geotiffs of thresholded TCW extents\n",
    "* geotiff of \"off-river storages\" identifed by cewo\n",
    "* geotiff of cewo-identified extents\n",
    "\n",
    "**Date** July 2018\n",
    "\n",
    "**Authors** Claire Krause, Bex Dunn"
   ]
  },
  {
   "cell_type": "code",
   "execution_count": 1,
   "metadata": {
    "ExecuteTime": {
     "end_time": "2018-07-26T04:08:07.396685Z",
     "start_time": "2018-07-26T04:08:07.388809Z"
    }
   },
   "outputs": [],
   "source": [
    "### trying to remove areas from a shapefile"
   ]
  },
  {
   "cell_type": "markdown",
   "metadata": {},
   "source": [
    "Import some useful modules"
   ]
  },
  {
   "cell_type": "code",
   "execution_count": 64,
   "metadata": {
    "ExecuteTime": {
     "end_time": "2018-07-26T04:38:01.267270Z",
     "start_time": "2018-07-26T04:38:01.190761Z"
    }
   },
   "outputs": [
    {
     "name": "stdout",
     "output_type": "stream",
     "text": [
      "Populating the interactive namespace from numpy and matplotlib\n"
     ]
    }
   ],
   "source": [
    "%pylab notebook\n",
    "import xarray as xr\n",
    "import matplotlib.pyplot as plt\n",
    "#from datacube.storage import masking\n",
    "import os\n",
    "sys.path.append(os.path.expanduser('~/dea-notebooks/Scripts/'))\n",
    "import SpatialTools"
   ]
  },
  {
   "cell_type": "markdown",
   "metadata": {},
   "source": [
    "## Choose tiff files for input and load in using rasterio"
   ]
  },
  {
   "cell_type": "markdown",
   "metadata": {},
   "source": [
    "offriverfile contains the storages that cewo removes from the prediction; we're removing it from ours as well"
   ]
  },
  {
   "cell_type": "code",
   "execution_count": 3,
   "metadata": {
    "ExecuteTime": {
     "end_time": "2018-07-26T04:08:11.775926Z",
     "start_time": "2018-07-26T04:08:11.772558Z"
    }
   },
   "outputs": [],
   "source": [
    "#offriverFile = '/g/data/r78/rjd547/Macquarie_Marsh/bexnessresults/thresholded_wetness/clipped/off_river_storages.tif'"
   ]
  },
  {
   "cell_type": "markdown",
   "metadata": {},
   "source": [
    "thresholds are our chosen thresholds for the TCW; these need to match the filenames, and are not set here."
   ]
  },
  {
   "cell_type": "code",
   "execution_count": 4,
   "metadata": {
    "ExecuteTime": {
     "end_time": "2018-07-26T04:08:13.561415Z",
     "start_time": "2018-07-26T04:08:13.557358Z"
    }
   },
   "outputs": [],
   "source": [
    "thresholds = ['-0','-100','-200','-300','-400','-500','-600']"
   ]
  },
  {
   "cell_type": "code",
   "execution_count": 5,
   "metadata": {
    "ExecuteTime": {
     "end_time": "2018-07-26T04:08:16.247367Z",
     "start_time": "2018-07-26T04:08:16.243334Z"
    }
   },
   "outputs": [],
   "source": [
    "#make a list of the files corresponding to our set thresholds\n",
    "thresholdFiles =[]\n",
    "for i in range(0, len(thresholds)):\n",
    "    thresholdFiles.append('/g/data/r78/rjd547/Macquarie_Marsh/bexnessresults/thresholded_wetness/clipped/t{0}_Mac_14_-35_20160627__20160629_clipped.tif'.format(thresholds[i]))"
   ]
  },
  {
   "cell_type": "code",
   "execution_count": 6,
   "metadata": {
    "ExecuteTime": {
     "end_time": "2018-07-26T04:08:17.081711Z",
     "start_time": "2018-07-26T04:08:17.075520Z"
    }
   },
   "outputs": [
    {
     "data": {
      "text/plain": [
       "['/g/data/r78/rjd547/Macquarie_Marsh/bexnessresults/thresholded_wetness/clipped/t-0_Mac_14_-35_20160627__20160629_clipped.tif',\n",
       " '/g/data/r78/rjd547/Macquarie_Marsh/bexnessresults/thresholded_wetness/clipped/t-100_Mac_14_-35_20160627__20160629_clipped.tif',\n",
       " '/g/data/r78/rjd547/Macquarie_Marsh/bexnessresults/thresholded_wetness/clipped/t-200_Mac_14_-35_20160627__20160629_clipped.tif',\n",
       " '/g/data/r78/rjd547/Macquarie_Marsh/bexnessresults/thresholded_wetness/clipped/t-300_Mac_14_-35_20160627__20160629_clipped.tif',\n",
       " '/g/data/r78/rjd547/Macquarie_Marsh/bexnessresults/thresholded_wetness/clipped/t-400_Mac_14_-35_20160627__20160629_clipped.tif',\n",
       " '/g/data/r78/rjd547/Macquarie_Marsh/bexnessresults/thresholded_wetness/clipped/t-500_Mac_14_-35_20160627__20160629_clipped.tif',\n",
       " '/g/data/r78/rjd547/Macquarie_Marsh/bexnessresults/thresholded_wetness/clipped/t-600_Mac_14_-35_20160627__20160629_clipped.tif']"
      ]
     },
     "execution_count": 6,
     "metadata": {},
     "output_type": "execute_result"
    }
   ],
   "source": [
    "thresholdFiles"
   ]
  },
  {
   "cell_type": "markdown",
   "metadata": {},
   "source": [
    "cewo file is the file with cewo's scene of the extent of inundation"
   ]
  },
  {
   "cell_type": "code",
   "execution_count": 69,
   "metadata": {
    "ExecuteTime": {
     "end_time": "2018-07-26T04:47:38.158067Z",
     "start_time": "2018-07-26T04:47:38.152359Z"
    }
   },
   "outputs": [
    {
     "data": {
      "text/plain": [
       "'/g/data/r78/rjd547/Macquarie_Marsh/bexnessresults/thresholded_wetness/clipped/t-0_Mac_14_-35_20160627__20160629_clipped.tif'"
      ]
     },
     "execution_count": 69,
     "metadata": {},
     "output_type": "execute_result"
    }
   ],
   "source": [
    "thresholdFiles[0]"
   ]
  },
  {
   "cell_type": "code",
   "execution_count": 12,
   "metadata": {
    "ExecuteTime": {
     "end_time": "2018-07-26T04:08:43.952846Z",
     "start_time": "2018-07-26T04:08:43.946814Z"
    }
   },
   "outputs": [],
   "source": [
    "cewoFile = '/g/data/r78/rjd547/Macquarie_Marsh/bexnessresults/thresholded_wetness/clipped/no_storages/cewo_20160628_extents2_newres.tif'"
   ]
  },
  {
   "cell_type": "markdown",
   "metadata": {},
   "source": [
    "cewo comparison file is necessary as we've clipped it to the same extents"
   ]
  },
  {
   "cell_type": "code",
   "execution_count": 39,
   "metadata": {
    "ExecuteTime": {
     "end_time": "2018-07-26T04:24:33.966725Z",
     "start_time": "2018-07-26T04:24:33.962541Z"
    }
   },
   "outputs": [],
   "source": [
    "cewo_compFile = '/g/data/r78/rjd547/Macquarie_Marsh/bexnessresults/thresholded_wetness/clipped/no_storages/cewo_20160628_tileandclip.tif'"
   ]
  },
  {
   "cell_type": "code",
   "execution_count": null,
   "metadata": {},
   "outputs": [],
   "source": []
  },
  {
   "cell_type": "markdown",
   "metadata": {
    "heading_collapsed": true
   },
   "source": [
    "## Load in the threshold, off-river storage and extent geotiffs"
   ]
  },
  {
   "cell_type": "code",
   "execution_count": 40,
   "metadata": {
    "ExecuteTime": {
     "end_time": "2018-07-26T04:24:34.849043Z",
     "start_time": "2018-07-26T04:24:34.819037Z"
    },
    "hidden": true
   },
   "outputs": [],
   "source": [
    "# Open the GeoTIFFs using rasterio\n",
    "cewoData = xr.open_rasterio(cewoFile) #extents file\n",
    "ThresholdData = xr.open_rasterio(thresholdFiles[0]) #thresholded TCW\n",
    "#offriverData = xr.open_rasterio(offriverFile) #offriverstorages only\n",
    "cewo_comp = xr.open_rasterio(cewo_compFile)"
   ]
  },
  {
   "cell_type": "code",
   "execution_count": 67,
   "metadata": {
    "ExecuteTime": {
     "end_time": "2018-07-26T04:40:38.084352Z",
     "start_time": "2018-07-26T04:40:36.000539Z"
    },
    "hidden": true
   },
   "outputs": [
    {
     "data": {
      "application/javascript": [
       "/* Put everything inside the global mpl namespace */\n",
       "window.mpl = {};\n",
       "\n",
       "\n",
       "mpl.get_websocket_type = function() {\n",
       "    if (typeof(WebSocket) !== 'undefined') {\n",
       "        return WebSocket;\n",
       "    } else if (typeof(MozWebSocket) !== 'undefined') {\n",
       "        return MozWebSocket;\n",
       "    } else {\n",
       "        alert('Your browser does not have WebSocket support.' +\n",
       "              'Please try Chrome, Safari or Firefox ≥ 6. ' +\n",
       "              'Firefox 4 and 5 are also supported but you ' +\n",
       "              'have to enable WebSockets in about:config.');\n",
       "    };\n",
       "}\n",
       "\n",
       "mpl.figure = function(figure_id, websocket, ondownload, parent_element) {\n",
       "    this.id = figure_id;\n",
       "\n",
       "    this.ws = websocket;\n",
       "\n",
       "    this.supports_binary = (this.ws.binaryType != undefined);\n",
       "\n",
       "    if (!this.supports_binary) {\n",
       "        var warnings = document.getElementById(\"mpl-warnings\");\n",
       "        if (warnings) {\n",
       "            warnings.style.display = 'block';\n",
       "            warnings.textContent = (\n",
       "                \"This browser does not support binary websocket messages. \" +\n",
       "                    \"Performance may be slow.\");\n",
       "        }\n",
       "    }\n",
       "\n",
       "    this.imageObj = new Image();\n",
       "\n",
       "    this.context = undefined;\n",
       "    this.message = undefined;\n",
       "    this.canvas = undefined;\n",
       "    this.rubberband_canvas = undefined;\n",
       "    this.rubberband_context = undefined;\n",
       "    this.format_dropdown = undefined;\n",
       "\n",
       "    this.image_mode = 'full';\n",
       "\n",
       "    this.root = $('<div/>');\n",
       "    this._root_extra_style(this.root)\n",
       "    this.root.attr('style', 'display: inline-block');\n",
       "\n",
       "    $(parent_element).append(this.root);\n",
       "\n",
       "    this._init_header(this);\n",
       "    this._init_canvas(this);\n",
       "    this._init_toolbar(this);\n",
       "\n",
       "    var fig = this;\n",
       "\n",
       "    this.waiting = false;\n",
       "\n",
       "    this.ws.onopen =  function () {\n",
       "            fig.send_message(\"supports_binary\", {value: fig.supports_binary});\n",
       "            fig.send_message(\"send_image_mode\", {});\n",
       "            if (mpl.ratio != 1) {\n",
       "                fig.send_message(\"set_dpi_ratio\", {'dpi_ratio': mpl.ratio});\n",
       "            }\n",
       "            fig.send_message(\"refresh\", {});\n",
       "        }\n",
       "\n",
       "    this.imageObj.onload = function() {\n",
       "            if (fig.image_mode == 'full') {\n",
       "                // Full images could contain transparency (where diff images\n",
       "                // almost always do), so we need to clear the canvas so that\n",
       "                // there is no ghosting.\n",
       "                fig.context.clearRect(0, 0, fig.canvas.width, fig.canvas.height);\n",
       "            }\n",
       "            fig.context.drawImage(fig.imageObj, 0, 0);\n",
       "        };\n",
       "\n",
       "    this.imageObj.onunload = function() {\n",
       "        fig.ws.close();\n",
       "    }\n",
       "\n",
       "    this.ws.onmessage = this._make_on_message_function(this);\n",
       "\n",
       "    this.ondownload = ondownload;\n",
       "}\n",
       "\n",
       "mpl.figure.prototype._init_header = function() {\n",
       "    var titlebar = $(\n",
       "        '<div class=\"ui-dialog-titlebar ui-widget-header ui-corner-all ' +\n",
       "        'ui-helper-clearfix\"/>');\n",
       "    var titletext = $(\n",
       "        '<div class=\"ui-dialog-title\" style=\"width: 100%; ' +\n",
       "        'text-align: center; padding: 3px;\"/>');\n",
       "    titlebar.append(titletext)\n",
       "    this.root.append(titlebar);\n",
       "    this.header = titletext[0];\n",
       "}\n",
       "\n",
       "\n",
       "\n",
       "mpl.figure.prototype._canvas_extra_style = function(canvas_div) {\n",
       "\n",
       "}\n",
       "\n",
       "\n",
       "mpl.figure.prototype._root_extra_style = function(canvas_div) {\n",
       "\n",
       "}\n",
       "\n",
       "mpl.figure.prototype._init_canvas = function() {\n",
       "    var fig = this;\n",
       "\n",
       "    var canvas_div = $('<div/>');\n",
       "\n",
       "    canvas_div.attr('style', 'position: relative; clear: both; outline: 0');\n",
       "\n",
       "    function canvas_keyboard_event(event) {\n",
       "        return fig.key_event(event, event['data']);\n",
       "    }\n",
       "\n",
       "    canvas_div.keydown('key_press', canvas_keyboard_event);\n",
       "    canvas_div.keyup('key_release', canvas_keyboard_event);\n",
       "    this.canvas_div = canvas_div\n",
       "    this._canvas_extra_style(canvas_div)\n",
       "    this.root.append(canvas_div);\n",
       "\n",
       "    var canvas = $('<canvas/>');\n",
       "    canvas.addClass('mpl-canvas');\n",
       "    canvas.attr('style', \"left: 0; top: 0; z-index: 0; outline: 0\")\n",
       "\n",
       "    this.canvas = canvas[0];\n",
       "    this.context = canvas[0].getContext(\"2d\");\n",
       "\n",
       "    var backingStore = this.context.backingStorePixelRatio ||\n",
       "\tthis.context.webkitBackingStorePixelRatio ||\n",
       "\tthis.context.mozBackingStorePixelRatio ||\n",
       "\tthis.context.msBackingStorePixelRatio ||\n",
       "\tthis.context.oBackingStorePixelRatio ||\n",
       "\tthis.context.backingStorePixelRatio || 1;\n",
       "\n",
       "    mpl.ratio = (window.devicePixelRatio || 1) / backingStore;\n",
       "\n",
       "    var rubberband = $('<canvas/>');\n",
       "    rubberband.attr('style', \"position: absolute; left: 0; top: 0; z-index: 1;\")\n",
       "\n",
       "    var pass_mouse_events = true;\n",
       "\n",
       "    canvas_div.resizable({\n",
       "        start: function(event, ui) {\n",
       "            pass_mouse_events = false;\n",
       "        },\n",
       "        resize: function(event, ui) {\n",
       "            fig.request_resize(ui.size.width, ui.size.height);\n",
       "        },\n",
       "        stop: function(event, ui) {\n",
       "            pass_mouse_events = true;\n",
       "            fig.request_resize(ui.size.width, ui.size.height);\n",
       "        },\n",
       "    });\n",
       "\n",
       "    function mouse_event_fn(event) {\n",
       "        if (pass_mouse_events)\n",
       "            return fig.mouse_event(event, event['data']);\n",
       "    }\n",
       "\n",
       "    rubberband.mousedown('button_press', mouse_event_fn);\n",
       "    rubberband.mouseup('button_release', mouse_event_fn);\n",
       "    // Throttle sequential mouse events to 1 every 20ms.\n",
       "    rubberband.mousemove('motion_notify', mouse_event_fn);\n",
       "\n",
       "    rubberband.mouseenter('figure_enter', mouse_event_fn);\n",
       "    rubberband.mouseleave('figure_leave', mouse_event_fn);\n",
       "\n",
       "    canvas_div.on(\"wheel\", function (event) {\n",
       "        event = event.originalEvent;\n",
       "        event['data'] = 'scroll'\n",
       "        if (event.deltaY < 0) {\n",
       "            event.step = 1;\n",
       "        } else {\n",
       "            event.step = -1;\n",
       "        }\n",
       "        mouse_event_fn(event);\n",
       "    });\n",
       "\n",
       "    canvas_div.append(canvas);\n",
       "    canvas_div.append(rubberband);\n",
       "\n",
       "    this.rubberband = rubberband;\n",
       "    this.rubberband_canvas = rubberband[0];\n",
       "    this.rubberband_context = rubberband[0].getContext(\"2d\");\n",
       "    this.rubberband_context.strokeStyle = \"#000000\";\n",
       "\n",
       "    this._resize_canvas = function(width, height) {\n",
       "        // Keep the size of the canvas, canvas container, and rubber band\n",
       "        // canvas in synch.\n",
       "        canvas_div.css('width', width)\n",
       "        canvas_div.css('height', height)\n",
       "\n",
       "        canvas.attr('width', width * mpl.ratio);\n",
       "        canvas.attr('height', height * mpl.ratio);\n",
       "        canvas.attr('style', 'width: ' + width + 'px; height: ' + height + 'px;');\n",
       "\n",
       "        rubberband.attr('width', width);\n",
       "        rubberband.attr('height', height);\n",
       "    }\n",
       "\n",
       "    // Set the figure to an initial 600x600px, this will subsequently be updated\n",
       "    // upon first draw.\n",
       "    this._resize_canvas(600, 600);\n",
       "\n",
       "    // Disable right mouse context menu.\n",
       "    $(this.rubberband_canvas).bind(\"contextmenu\",function(e){\n",
       "        return false;\n",
       "    });\n",
       "\n",
       "    function set_focus () {\n",
       "        canvas.focus();\n",
       "        canvas_div.focus();\n",
       "    }\n",
       "\n",
       "    window.setTimeout(set_focus, 100);\n",
       "}\n",
       "\n",
       "mpl.figure.prototype._init_toolbar = function() {\n",
       "    var fig = this;\n",
       "\n",
       "    var nav_element = $('<div/>')\n",
       "    nav_element.attr('style', 'width: 100%');\n",
       "    this.root.append(nav_element);\n",
       "\n",
       "    // Define a callback function for later on.\n",
       "    function toolbar_event(event) {\n",
       "        return fig.toolbar_button_onclick(event['data']);\n",
       "    }\n",
       "    function toolbar_mouse_event(event) {\n",
       "        return fig.toolbar_button_onmouseover(event['data']);\n",
       "    }\n",
       "\n",
       "    for(var toolbar_ind in mpl.toolbar_items) {\n",
       "        var name = mpl.toolbar_items[toolbar_ind][0];\n",
       "        var tooltip = mpl.toolbar_items[toolbar_ind][1];\n",
       "        var image = mpl.toolbar_items[toolbar_ind][2];\n",
       "        var method_name = mpl.toolbar_items[toolbar_ind][3];\n",
       "\n",
       "        if (!name) {\n",
       "            // put a spacer in here.\n",
       "            continue;\n",
       "        }\n",
       "        var button = $('<button/>');\n",
       "        button.addClass('ui-button ui-widget ui-state-default ui-corner-all ' +\n",
       "                        'ui-button-icon-only');\n",
       "        button.attr('role', 'button');\n",
       "        button.attr('aria-disabled', 'false');\n",
       "        button.click(method_name, toolbar_event);\n",
       "        button.mouseover(tooltip, toolbar_mouse_event);\n",
       "\n",
       "        var icon_img = $('<span/>');\n",
       "        icon_img.addClass('ui-button-icon-primary ui-icon');\n",
       "        icon_img.addClass(image);\n",
       "        icon_img.addClass('ui-corner-all');\n",
       "\n",
       "        var tooltip_span = $('<span/>');\n",
       "        tooltip_span.addClass('ui-button-text');\n",
       "        tooltip_span.html(tooltip);\n",
       "\n",
       "        button.append(icon_img);\n",
       "        button.append(tooltip_span);\n",
       "\n",
       "        nav_element.append(button);\n",
       "    }\n",
       "\n",
       "    var fmt_picker_span = $('<span/>');\n",
       "\n",
       "    var fmt_picker = $('<select/>');\n",
       "    fmt_picker.addClass('mpl-toolbar-option ui-widget ui-widget-content');\n",
       "    fmt_picker_span.append(fmt_picker);\n",
       "    nav_element.append(fmt_picker_span);\n",
       "    this.format_dropdown = fmt_picker[0];\n",
       "\n",
       "    for (var ind in mpl.extensions) {\n",
       "        var fmt = mpl.extensions[ind];\n",
       "        var option = $(\n",
       "            '<option/>', {selected: fmt === mpl.default_extension}).html(fmt);\n",
       "        fmt_picker.append(option)\n",
       "    }\n",
       "\n",
       "    // Add hover states to the ui-buttons\n",
       "    $( \".ui-button\" ).hover(\n",
       "        function() { $(this).addClass(\"ui-state-hover\");},\n",
       "        function() { $(this).removeClass(\"ui-state-hover\");}\n",
       "    );\n",
       "\n",
       "    var status_bar = $('<span class=\"mpl-message\"/>');\n",
       "    nav_element.append(status_bar);\n",
       "    this.message = status_bar[0];\n",
       "}\n",
       "\n",
       "mpl.figure.prototype.request_resize = function(x_pixels, y_pixels) {\n",
       "    // Request matplotlib to resize the figure. Matplotlib will then trigger a resize in the client,\n",
       "    // which will in turn request a refresh of the image.\n",
       "    this.send_message('resize', {'width': x_pixels, 'height': y_pixels});\n",
       "}\n",
       "\n",
       "mpl.figure.prototype.send_message = function(type, properties) {\n",
       "    properties['type'] = type;\n",
       "    properties['figure_id'] = this.id;\n",
       "    this.ws.send(JSON.stringify(properties));\n",
       "}\n",
       "\n",
       "mpl.figure.prototype.send_draw_message = function() {\n",
       "    if (!this.waiting) {\n",
       "        this.waiting = true;\n",
       "        this.ws.send(JSON.stringify({type: \"draw\", figure_id: this.id}));\n",
       "    }\n",
       "}\n",
       "\n",
       "\n",
       "mpl.figure.prototype.handle_save = function(fig, msg) {\n",
       "    var format_dropdown = fig.format_dropdown;\n",
       "    var format = format_dropdown.options[format_dropdown.selectedIndex].value;\n",
       "    fig.ondownload(fig, format);\n",
       "}\n",
       "\n",
       "\n",
       "mpl.figure.prototype.handle_resize = function(fig, msg) {\n",
       "    var size = msg['size'];\n",
       "    if (size[0] != fig.canvas.width || size[1] != fig.canvas.height) {\n",
       "        fig._resize_canvas(size[0], size[1]);\n",
       "        fig.send_message(\"refresh\", {});\n",
       "    };\n",
       "}\n",
       "\n",
       "mpl.figure.prototype.handle_rubberband = function(fig, msg) {\n",
       "    var x0 = msg['x0'] / mpl.ratio;\n",
       "    var y0 = (fig.canvas.height - msg['y0']) / mpl.ratio;\n",
       "    var x1 = msg['x1'] / mpl.ratio;\n",
       "    var y1 = (fig.canvas.height - msg['y1']) / mpl.ratio;\n",
       "    x0 = Math.floor(x0) + 0.5;\n",
       "    y0 = Math.floor(y0) + 0.5;\n",
       "    x1 = Math.floor(x1) + 0.5;\n",
       "    y1 = Math.floor(y1) + 0.5;\n",
       "    var min_x = Math.min(x0, x1);\n",
       "    var min_y = Math.min(y0, y1);\n",
       "    var width = Math.abs(x1 - x0);\n",
       "    var height = Math.abs(y1 - y0);\n",
       "\n",
       "    fig.rubberband_context.clearRect(\n",
       "        0, 0, fig.canvas.width, fig.canvas.height);\n",
       "\n",
       "    fig.rubberband_context.strokeRect(min_x, min_y, width, height);\n",
       "}\n",
       "\n",
       "mpl.figure.prototype.handle_figure_label = function(fig, msg) {\n",
       "    // Updates the figure title.\n",
       "    fig.header.textContent = msg['label'];\n",
       "}\n",
       "\n",
       "mpl.figure.prototype.handle_cursor = function(fig, msg) {\n",
       "    var cursor = msg['cursor'];\n",
       "    switch(cursor)\n",
       "    {\n",
       "    case 0:\n",
       "        cursor = 'pointer';\n",
       "        break;\n",
       "    case 1:\n",
       "        cursor = 'default';\n",
       "        break;\n",
       "    case 2:\n",
       "        cursor = 'crosshair';\n",
       "        break;\n",
       "    case 3:\n",
       "        cursor = 'move';\n",
       "        break;\n",
       "    }\n",
       "    fig.rubberband_canvas.style.cursor = cursor;\n",
       "}\n",
       "\n",
       "mpl.figure.prototype.handle_message = function(fig, msg) {\n",
       "    fig.message.textContent = msg['message'];\n",
       "}\n",
       "\n",
       "mpl.figure.prototype.handle_draw = function(fig, msg) {\n",
       "    // Request the server to send over a new figure.\n",
       "    fig.send_draw_message();\n",
       "}\n",
       "\n",
       "mpl.figure.prototype.handle_image_mode = function(fig, msg) {\n",
       "    fig.image_mode = msg['mode'];\n",
       "}\n",
       "\n",
       "mpl.figure.prototype.updated_canvas_event = function() {\n",
       "    // Called whenever the canvas gets updated.\n",
       "    this.send_message(\"ack\", {});\n",
       "}\n",
       "\n",
       "// A function to construct a web socket function for onmessage handling.\n",
       "// Called in the figure constructor.\n",
       "mpl.figure.prototype._make_on_message_function = function(fig) {\n",
       "    return function socket_on_message(evt) {\n",
       "        if (evt.data instanceof Blob) {\n",
       "            /* FIXME: We get \"Resource interpreted as Image but\n",
       "             * transferred with MIME type text/plain:\" errors on\n",
       "             * Chrome.  But how to set the MIME type?  It doesn't seem\n",
       "             * to be part of the websocket stream */\n",
       "            evt.data.type = \"image/png\";\n",
       "\n",
       "            /* Free the memory for the previous frames */\n",
       "            if (fig.imageObj.src) {\n",
       "                (window.URL || window.webkitURL).revokeObjectURL(\n",
       "                    fig.imageObj.src);\n",
       "            }\n",
       "\n",
       "            fig.imageObj.src = (window.URL || window.webkitURL).createObjectURL(\n",
       "                evt.data);\n",
       "            fig.updated_canvas_event();\n",
       "            fig.waiting = false;\n",
       "            return;\n",
       "        }\n",
       "        else if (typeof evt.data === 'string' && evt.data.slice(0, 21) == \"data:image/png;base64\") {\n",
       "            fig.imageObj.src = evt.data;\n",
       "            fig.updated_canvas_event();\n",
       "            fig.waiting = false;\n",
       "            return;\n",
       "        }\n",
       "\n",
       "        var msg = JSON.parse(evt.data);\n",
       "        var msg_type = msg['type'];\n",
       "\n",
       "        // Call the  \"handle_{type}\" callback, which takes\n",
       "        // the figure and JSON message as its only arguments.\n",
       "        try {\n",
       "            var callback = fig[\"handle_\" + msg_type];\n",
       "        } catch (e) {\n",
       "            console.log(\"No handler for the '\" + msg_type + \"' message type: \", msg);\n",
       "            return;\n",
       "        }\n",
       "\n",
       "        if (callback) {\n",
       "            try {\n",
       "                // console.log(\"Handling '\" + msg_type + \"' message: \", msg);\n",
       "                callback(fig, msg);\n",
       "            } catch (e) {\n",
       "                console.log(\"Exception inside the 'handler_\" + msg_type + \"' callback:\", e, e.stack, msg);\n",
       "            }\n",
       "        }\n",
       "    };\n",
       "}\n",
       "\n",
       "// from http://stackoverflow.com/questions/1114465/getting-mouse-location-in-canvas\n",
       "mpl.findpos = function(e) {\n",
       "    //this section is from http://www.quirksmode.org/js/events_properties.html\n",
       "    var targ;\n",
       "    if (!e)\n",
       "        e = window.event;\n",
       "    if (e.target)\n",
       "        targ = e.target;\n",
       "    else if (e.srcElement)\n",
       "        targ = e.srcElement;\n",
       "    if (targ.nodeType == 3) // defeat Safari bug\n",
       "        targ = targ.parentNode;\n",
       "\n",
       "    // jQuery normalizes the pageX and pageY\n",
       "    // pageX,Y are the mouse positions relative to the document\n",
       "    // offset() returns the position of the element relative to the document\n",
       "    var x = e.pageX - $(targ).offset().left;\n",
       "    var y = e.pageY - $(targ).offset().top;\n",
       "\n",
       "    return {\"x\": x, \"y\": y};\n",
       "};\n",
       "\n",
       "/*\n",
       " * return a copy of an object with only non-object keys\n",
       " * we need this to avoid circular references\n",
       " * http://stackoverflow.com/a/24161582/3208463\n",
       " */\n",
       "function simpleKeys (original) {\n",
       "  return Object.keys(original).reduce(function (obj, key) {\n",
       "    if (typeof original[key] !== 'object')\n",
       "        obj[key] = original[key]\n",
       "    return obj;\n",
       "  }, {});\n",
       "}\n",
       "\n",
       "mpl.figure.prototype.mouse_event = function(event, name) {\n",
       "    var canvas_pos = mpl.findpos(event)\n",
       "\n",
       "    if (name === 'button_press')\n",
       "    {\n",
       "        this.canvas.focus();\n",
       "        this.canvas_div.focus();\n",
       "    }\n",
       "\n",
       "    var x = canvas_pos.x * mpl.ratio;\n",
       "    var y = canvas_pos.y * mpl.ratio;\n",
       "\n",
       "    this.send_message(name, {x: x, y: y, button: event.button,\n",
       "                             step: event.step,\n",
       "                             guiEvent: simpleKeys(event)});\n",
       "\n",
       "    /* This prevents the web browser from automatically changing to\n",
       "     * the text insertion cursor when the button is pressed.  We want\n",
       "     * to control all of the cursor setting manually through the\n",
       "     * 'cursor' event from matplotlib */\n",
       "    event.preventDefault();\n",
       "    return false;\n",
       "}\n",
       "\n",
       "mpl.figure.prototype._key_event_extra = function(event, name) {\n",
       "    // Handle any extra behaviour associated with a key event\n",
       "}\n",
       "\n",
       "mpl.figure.prototype.key_event = function(event, name) {\n",
       "\n",
       "    // Prevent repeat events\n",
       "    if (name == 'key_press')\n",
       "    {\n",
       "        if (event.which === this._key)\n",
       "            return;\n",
       "        else\n",
       "            this._key = event.which;\n",
       "    }\n",
       "    if (name == 'key_release')\n",
       "        this._key = null;\n",
       "\n",
       "    var value = '';\n",
       "    if (event.ctrlKey && event.which != 17)\n",
       "        value += \"ctrl+\";\n",
       "    if (event.altKey && event.which != 18)\n",
       "        value += \"alt+\";\n",
       "    if (event.shiftKey && event.which != 16)\n",
       "        value += \"shift+\";\n",
       "\n",
       "    value += 'k';\n",
       "    value += event.which.toString();\n",
       "\n",
       "    this._key_event_extra(event, name);\n",
       "\n",
       "    this.send_message(name, {key: value,\n",
       "                             guiEvent: simpleKeys(event)});\n",
       "    return false;\n",
       "}\n",
       "\n",
       "mpl.figure.prototype.toolbar_button_onclick = function(name) {\n",
       "    if (name == 'download') {\n",
       "        this.handle_save(this, null);\n",
       "    } else {\n",
       "        this.send_message(\"toolbar_button\", {name: name});\n",
       "    }\n",
       "};\n",
       "\n",
       "mpl.figure.prototype.toolbar_button_onmouseover = function(tooltip) {\n",
       "    this.message.textContent = tooltip;\n",
       "};\n",
       "mpl.toolbar_items = [[\"Home\", \"Reset original view\", \"fa fa-home icon-home\", \"home\"], [\"Back\", \"Back to  previous view\", \"fa fa-arrow-left icon-arrow-left\", \"back\"], [\"Forward\", \"Forward to next view\", \"fa fa-arrow-right icon-arrow-right\", \"forward\"], [\"\", \"\", \"\", \"\"], [\"Pan\", \"Pan axes with left mouse, zoom with right\", \"fa fa-arrows icon-move\", \"pan\"], [\"Zoom\", \"Zoom to rectangle\", \"fa fa-square-o icon-check-empty\", \"zoom\"], [\"\", \"\", \"\", \"\"], [\"Download\", \"Download plot\", \"fa fa-floppy-o icon-save\", \"download\"]];\n",
       "\n",
       "mpl.extensions = [\"eps\", \"jpeg\", \"pdf\", \"png\", \"ps\", \"raw\", \"svg\", \"tif\"];\n",
       "\n",
       "mpl.default_extension = \"png\";var comm_websocket_adapter = function(comm) {\n",
       "    // Create a \"websocket\"-like object which calls the given IPython comm\n",
       "    // object with the appropriate methods. Currently this is a non binary\n",
       "    // socket, so there is still some room for performance tuning.\n",
       "    var ws = {};\n",
       "\n",
       "    ws.close = function() {\n",
       "        comm.close()\n",
       "    };\n",
       "    ws.send = function(m) {\n",
       "        //console.log('sending', m);\n",
       "        comm.send(m);\n",
       "    };\n",
       "    // Register the callback with on_msg.\n",
       "    comm.on_msg(function(msg) {\n",
       "        //console.log('receiving', msg['content']['data'], msg);\n",
       "        // Pass the mpl event to the overridden (by mpl) onmessage function.\n",
       "        ws.onmessage(msg['content']['data'])\n",
       "    });\n",
       "    return ws;\n",
       "}\n",
       "\n",
       "mpl.mpl_figure_comm = function(comm, msg) {\n",
       "    // This is the function which gets called when the mpl process\n",
       "    // starts-up an IPython Comm through the \"matplotlib\" channel.\n",
       "\n",
       "    var id = msg.content.data.id;\n",
       "    // Get hold of the div created by the display call when the Comm\n",
       "    // socket was opened in Python.\n",
       "    var element = $(\"#\" + id);\n",
       "    var ws_proxy = comm_websocket_adapter(comm)\n",
       "\n",
       "    function ondownload(figure, format) {\n",
       "        window.open(figure.imageObj.src);\n",
       "    }\n",
       "\n",
       "    var fig = new mpl.figure(id, ws_proxy,\n",
       "                           ondownload,\n",
       "                           element.get(0));\n",
       "\n",
       "    // Call onopen now - mpl needs it, as it is assuming we've passed it a real\n",
       "    // web socket which is closed, not our websocket->open comm proxy.\n",
       "    ws_proxy.onopen();\n",
       "\n",
       "    fig.parent_element = element.get(0);\n",
       "    fig.cell_info = mpl.find_output_cell(\"<div id='\" + id + \"'></div>\");\n",
       "    if (!fig.cell_info) {\n",
       "        console.error(\"Failed to find cell for figure\", id, fig);\n",
       "        return;\n",
       "    }\n",
       "\n",
       "    var output_index = fig.cell_info[2]\n",
       "    var cell = fig.cell_info[0];\n",
       "\n",
       "};\n",
       "\n",
       "mpl.figure.prototype.handle_close = function(fig, msg) {\n",
       "    var width = fig.canvas.width/mpl.ratio\n",
       "    fig.root.unbind('remove')\n",
       "\n",
       "    // Update the output cell to use the data from the current canvas.\n",
       "    fig.push_to_output();\n",
       "    var dataURL = fig.canvas.toDataURL();\n",
       "    // Re-enable the keyboard manager in IPython - without this line, in FF,\n",
       "    // the notebook keyboard shortcuts fail.\n",
       "    IPython.keyboard_manager.enable()\n",
       "    $(fig.parent_element).html('<img src=\"' + dataURL + '\" width=\"' + width + '\">');\n",
       "    fig.close_ws(fig, msg);\n",
       "}\n",
       "\n",
       "mpl.figure.prototype.close_ws = function(fig, msg){\n",
       "    fig.send_message('closing', msg);\n",
       "    // fig.ws.close()\n",
       "}\n",
       "\n",
       "mpl.figure.prototype.push_to_output = function(remove_interactive) {\n",
       "    // Turn the data on the canvas into data in the output cell.\n",
       "    var width = this.canvas.width/mpl.ratio\n",
       "    var dataURL = this.canvas.toDataURL();\n",
       "    this.cell_info[1]['text/html'] = '<img src=\"' + dataURL + '\" width=\"' + width + '\">';\n",
       "}\n",
       "\n",
       "mpl.figure.prototype.updated_canvas_event = function() {\n",
       "    // Tell IPython that the notebook contents must change.\n",
       "    IPython.notebook.set_dirty(true);\n",
       "    this.send_message(\"ack\", {});\n",
       "    var fig = this;\n",
       "    // Wait a second, then push the new image to the DOM so\n",
       "    // that it is saved nicely (might be nice to debounce this).\n",
       "    setTimeout(function () { fig.push_to_output() }, 1000);\n",
       "}\n",
       "\n",
       "mpl.figure.prototype._init_toolbar = function() {\n",
       "    var fig = this;\n",
       "\n",
       "    var nav_element = $('<div/>')\n",
       "    nav_element.attr('style', 'width: 100%');\n",
       "    this.root.append(nav_element);\n",
       "\n",
       "    // Define a callback function for later on.\n",
       "    function toolbar_event(event) {\n",
       "        return fig.toolbar_button_onclick(event['data']);\n",
       "    }\n",
       "    function toolbar_mouse_event(event) {\n",
       "        return fig.toolbar_button_onmouseover(event['data']);\n",
       "    }\n",
       "\n",
       "    for(var toolbar_ind in mpl.toolbar_items){\n",
       "        var name = mpl.toolbar_items[toolbar_ind][0];\n",
       "        var tooltip = mpl.toolbar_items[toolbar_ind][1];\n",
       "        var image = mpl.toolbar_items[toolbar_ind][2];\n",
       "        var method_name = mpl.toolbar_items[toolbar_ind][3];\n",
       "\n",
       "        if (!name) { continue; };\n",
       "\n",
       "        var button = $('<button class=\"btn btn-default\" href=\"#\" title=\"' + name + '\"><i class=\"fa ' + image + ' fa-lg\"></i></button>');\n",
       "        button.click(method_name, toolbar_event);\n",
       "        button.mouseover(tooltip, toolbar_mouse_event);\n",
       "        nav_element.append(button);\n",
       "    }\n",
       "\n",
       "    // Add the status bar.\n",
       "    var status_bar = $('<span class=\"mpl-message\" style=\"text-align:right; float: right;\"/>');\n",
       "    nav_element.append(status_bar);\n",
       "    this.message = status_bar[0];\n",
       "\n",
       "    // Add the close button to the window.\n",
       "    var buttongrp = $('<div class=\"btn-group inline pull-right\"></div>');\n",
       "    var button = $('<button class=\"btn btn-mini btn-primary\" href=\"#\" title=\"Stop Interaction\"><i class=\"fa fa-power-off icon-remove icon-large\"></i></button>');\n",
       "    button.click(function (evt) { fig.handle_close(fig, {}); } );\n",
       "    button.mouseover('Stop Interaction', toolbar_mouse_event);\n",
       "    buttongrp.append(button);\n",
       "    var titlebar = this.root.find($('.ui-dialog-titlebar'));\n",
       "    titlebar.prepend(buttongrp);\n",
       "}\n",
       "\n",
       "mpl.figure.prototype._root_extra_style = function(el){\n",
       "    var fig = this\n",
       "    el.on(\"remove\", function(){\n",
       "\tfig.close_ws(fig, {});\n",
       "    });\n",
       "}\n",
       "\n",
       "mpl.figure.prototype._canvas_extra_style = function(el){\n",
       "    // this is important to make the div 'focusable\n",
       "    el.attr('tabindex', 0)\n",
       "    // reach out to IPython and tell the keyboard manager to turn it's self\n",
       "    // off when our div gets focus\n",
       "\n",
       "    // location in version 3\n",
       "    if (IPython.notebook.keyboard_manager) {\n",
       "        IPython.notebook.keyboard_manager.register_events(el);\n",
       "    }\n",
       "    else {\n",
       "        // location in version 2\n",
       "        IPython.keyboard_manager.register_events(el);\n",
       "    }\n",
       "\n",
       "}\n",
       "\n",
       "mpl.figure.prototype._key_event_extra = function(event, name) {\n",
       "    var manager = IPython.notebook.keyboard_manager;\n",
       "    if (!manager)\n",
       "        manager = IPython.keyboard_manager;\n",
       "\n",
       "    // Check for shift+enter\n",
       "    if (event.shiftKey && event.which == 13) {\n",
       "        this.canvas_div.blur();\n",
       "        event.shiftKey = false;\n",
       "        // Send a \"J\" for go to next cell\n",
       "        event.which = 74;\n",
       "        event.keyCode = 74;\n",
       "        manager.command_mode();\n",
       "        manager.handle_keydown(event);\n",
       "    }\n",
       "}\n",
       "\n",
       "mpl.figure.prototype.handle_save = function(fig, msg) {\n",
       "    fig.ondownload(fig, null);\n",
       "}\n",
       "\n",
       "\n",
       "mpl.find_output_cell = function(html_output) {\n",
       "    // Return the cell and output element which can be found *uniquely* in the notebook.\n",
       "    // Note - this is a bit hacky, but it is done because the \"notebook_saving.Notebook\"\n",
       "    // IPython event is triggered only after the cells have been serialised, which for\n",
       "    // our purposes (turning an active figure into a static one), is too late.\n",
       "    var cells = IPython.notebook.get_cells();\n",
       "    var ncells = cells.length;\n",
       "    for (var i=0; i<ncells; i++) {\n",
       "        var cell = cells[i];\n",
       "        if (cell.cell_type === 'code'){\n",
       "            for (var j=0; j<cell.output_area.outputs.length; j++) {\n",
       "                var data = cell.output_area.outputs[j];\n",
       "                if (data.data) {\n",
       "                    // IPython >= 3 moved mimebundle to data attribute of output\n",
       "                    data = data.data;\n",
       "                }\n",
       "                if (data['text/html'] == html_output) {\n",
       "                    return [cell, data, j];\n",
       "                }\n",
       "            }\n",
       "        }\n",
       "    }\n",
       "}\n",
       "\n",
       "// Register the function which deals with the matplotlib target/channel.\n",
       "// The kernel may be null if the page has been refreshed.\n",
       "if (IPython.notebook.kernel != null) {\n",
       "    IPython.notebook.kernel.comm_manager.register_target('matplotlib', mpl.mpl_figure_comm);\n",
       "}\n"
      ],
      "text/plain": [
       "<IPython.core.display.Javascript object>"
      ]
     },
     "metadata": {},
     "output_type": "display_data"
    },
    {
     "data": {
      "text/html": [
       "<img src=\"data:image/png;base64,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\" width=\"639.8333333333334\">"
      ],
      "text/plain": [
       "<IPython.core.display.HTML object>"
      ]
     },
     "metadata": {},
     "output_type": "display_data"
    }
   ],
   "source": [
    "plt.clf()\n",
    "cewo_comp.plot()\n",
    "ThresholdData.plot(cmap='magma')\n",
    "plt.show()"
   ]
  },
  {
   "cell_type": "code",
   "execution_count": 89,
   "metadata": {
    "ExecuteTime": {
     "end_time": "2018-07-26T05:02:37.093665Z",
     "start_time": "2018-07-26T05:02:37.070259Z"
    },
    "hidden": true
   },
   "outputs": [
    {
     "data": {
      "text/plain": [
       "<xarray.DataArray (band: 1, y: 6564, x: 2144)>\n",
       "array([[[nan, nan, ..., nan, nan],\n",
       "        [nan, nan, ..., nan, nan],\n",
       "        ...,\n",
       "        [nan, nan, ..., nan, nan],\n",
       "        [nan, nan, ..., nan, nan]]])\n",
       "Coordinates:\n",
       "  * band     (band) int64 1\n",
       "  * y        (y) float64 -3.383e+06 -3.383e+06 -3.383e+06 -3.383e+06 ...\n",
       "  * x        (x) float64 1.438e+06 1.438e+06 1.438e+06 1.439e+06 1.439e+06 ...\n",
       "Attributes:\n",
       "    transform:   (25.0, 0.0, 1438421.001, 0.0, -25.0, -3382788.875, 0.0, 0.0,...\n",
       "    crs:         +init=epsg:3577\n",
       "    res:         (25.0, 25.0)\n",
       "    is_tiled:    0\n",
       "    nodatavals:  (65535.0,)"
      ]
     },
     "execution_count": 89,
     "metadata": {},
     "output_type": "execute_result"
    }
   ],
   "source": [
    "cewo_comp"
   ]
  },
  {
   "cell_type": "code",
   "execution_count": 96,
   "metadata": {
    "ExecuteTime": {
     "end_time": "2018-07-26T05:08:06.465627Z",
     "start_time": "2018-07-26T05:08:05.808964Z"
    },
    "hidden": true
   },
   "outputs": [
    {
     "name": "stdout",
     "output_type": "stream",
     "text": [
      "Importing raster datasets\n",
      "Reprojecting raster\n",
      "Reprojected raster exported to /g/data/r78/rjd547/Macquarie_Marsh/bexnessresults/thresholded_wetness/clipped/no_storages/cewo_20160628_test.tif\n"
     ]
    }
   ],
   "source": [
    "output = SpatialTools.reproject_to_template(cewo_compFile,thresholdFiles[0],'/g/data/r78/rjd547/Macquarie_Marsh/bexnessresults/thresholded_wetness/clipped/no_storages/cewo_20160628_test.tif')\n",
    "output = None"
   ]
  },
  {
   "cell_type": "code",
   "execution_count": 139,
   "metadata": {
    "ExecuteTime": {
     "end_time": "2018-07-26T05:30:37.437237Z",
     "start_time": "2018-07-26T05:30:37.430358Z"
    },
    "hidden": true
   },
   "outputs": [],
   "source": [
    "test_fix = '/g/data/r78/rjd547/Macquarie_Marsh/bexnessresults/thresholded_wetness/clipped/cewo_20160628_extents_again.tif'"
   ]
  },
  {
   "cell_type": "code",
   "execution_count": 140,
   "metadata": {
    "ExecuteTime": {
     "end_time": "2018-07-26T05:30:38.282151Z",
     "start_time": "2018-07-26T05:30:38.254755Z"
    },
    "hidden": true
   },
   "outputs": [],
   "source": [
    "cewo_fix = xr.open_rasterio(test_fix)"
   ]
  },
  {
   "cell_type": "code",
   "execution_count": 141,
   "metadata": {
    "ExecuteTime": {
     "end_time": "2018-07-26T05:30:38.959370Z",
     "start_time": "2018-07-26T05:30:38.936260Z"
    },
    "hidden": true
   },
   "outputs": [
    {
     "data": {
      "text/plain": [
       "<xarray.DataArray (band: 1, y: 6564, x: 2144)>\n",
       "[14073216 values with dtype=uint16]\n",
       "Coordinates:\n",
       "  * band     (band) int64 1\n",
       "  * y        (y) float64 -3.383e+06 -3.383e+06 -3.383e+06 -3.383e+06 ...\n",
       "  * x        (x) float64 1.438e+06 1.438e+06 1.438e+06 1.439e+06 1.439e+06 ...\n",
       "Attributes:\n",
       "    transform:   (25.0, 0.0, 1438421.0013571545, 0.0, -25.0, -3382788.8746242...\n",
       "    crs:         +init=epsg:3577\n",
       "    res:         (25.0, 25.0)\n",
       "    is_tiled:    0\n",
       "    nodatavals:  (0.0,)"
      ]
     },
     "execution_count": 141,
     "metadata": {},
     "output_type": "execute_result"
    }
   ],
   "source": [
    "cewo_fix"
   ]
  },
  {
   "cell_type": "code",
   "execution_count": null,
   "metadata": {
    "hidden": true
   },
   "outputs": [],
   "source": []
  },
  {
   "cell_type": "code",
   "execution_count": 142,
   "metadata": {
    "ExecuteTime": {
     "end_time": "2018-07-26T05:31:02.902330Z",
     "start_time": "2018-07-26T05:30:49.301138Z"
    },
    "hidden": true
   },
   "outputs": [
    {
     "data": {
      "image/png": "[encoded data removed]",
      "text/plain": [
       "<Figure size 432x288 with 2 Axes>"
      ]
     },
     "metadata": {},
     "output_type": "display_data"
    }
   ],
   "source": [
    "%matplotlib inline\n",
    "plt.clf()\n",
    "cewo_fix.plot(vmin=0, vmax=2, cmap='magma')\n",
    "plt.show()"
   ]
  },
  {
   "cell_type": "code",
   "execution_count": 145,
   "metadata": {
    "ExecuteTime": {
     "end_time": "2018-07-26T05:31:31.473029Z",
     "start_time": "2018-07-26T05:31:31.443219Z"
    },
    "hidden": true
   },
   "outputs": [
    {
     "data": {
      "text/plain": [
       "<xarray.DataArray (band: 1, y: 6564, x: 2144)>\n",
       "array([[[nan, nan, ..., nan, nan],\n",
       "        [nan, nan, ..., nan, nan],\n",
       "        ...,\n",
       "        [nan, nan, ..., nan, nan],\n",
       "        [nan, nan, ..., nan, nan]]])\n",
       "Coordinates:\n",
       "  * band     (band) int64 1\n",
       "  * y        (y) float64 -3.383e+06 -3.383e+06 -3.383e+06 -3.383e+06 ...\n",
       "  * x        (x) float64 1.438e+06 1.438e+06 1.438e+06 1.439e+06 1.439e+06 ...\n",
       "Attributes:\n",
       "    transform:   (25.0, 0.0, 1438421.0013571545, 0.0, -25.0, -3382788.8746242...\n",
       "    crs:         +init=epsg:3577\n",
       "    res:         (25.0, 25.0)\n",
       "    is_tiled:    0\n",
       "    nodatavals:  (0.0,)"
      ]
     },
     "execution_count": 145,
     "metadata": {},
     "output_type": "execute_result"
    }
   ],
   "source": [
    "cewo_fix2"
   ]
  },
  {
   "cell_type": "code",
   "execution_count": 144,
   "metadata": {
    "ExecuteTime": {
     "end_time": "2018-07-26T05:31:29.110587Z",
     "start_time": "2018-07-26T05:31:28.195948Z"
    },
    "hidden": true
   },
   "outputs": [],
   "source": [
    "cewo_fix2 =cewo_fix.where(cewo_fix!=65535.)\n",
    "cewo_fix2=cewo_fix2.where(cewo_fix2!=-3.4028234663852886e+38)\n",
    "cewo_fix2=cewo_fix2.where(cewo_fix2!=0)\n",
    "cewo_fix2=cewo_fix2.where(cewo_fix2!=2)"
   ]
  },
  {
   "cell_type": "code",
   "execution_count": 155,
   "metadata": {
    "ExecuteTime": {
     "end_time": "2018-07-26T05:51:53.635091Z",
     "start_time": "2018-07-26T05:51:53.610595Z"
    },
    "hidden": true
   },
   "outputs": [
    {
     "data": {
      "text/plain": [
       "<xarray.DataArray ()>\n",
       "array(1.)"
      ]
     },
     "execution_count": 155,
     "metadata": {},
     "output_type": "execute_result"
    }
   ],
   "source": [
    "cewo_fix2.max()"
   ]
  },
  {
   "cell_type": "code",
   "execution_count": 146,
   "metadata": {
    "ExecuteTime": {
     "end_time": "2018-07-26T05:31:40.325614Z",
     "start_time": "2018-07-26T05:31:39.782019Z"
    },
    "hidden": true
   },
   "outputs": [
    {
     "data": {
      "text/plain": [
       "<matplotlib.collections.QuadMesh at 0x7fd3889a0550>"
      ]
     },
     "execution_count": 146,
     "metadata": {},
     "output_type": "execute_result"
    },
    {
     "data": {
      "image/png": "[encoded data removed]",
      "text/plain": [
       "<Figure size 432x288 with 2 Axes>"
      ]
     },
     "metadata": {},
     "output_type": "display_data"
    }
   ],
   "source": [
    "cewo_fix2.isel(x=range(0, len(cewo_fix2.x),10), y=range(0, len(cewo_fix2.y),10)).plot()"
   ]
  },
  {
   "cell_type": "code",
   "execution_count": 147,
   "metadata": {
    "ExecuteTime": {
     "end_time": "2018-07-26T05:31:43.810573Z",
     "start_time": "2018-07-26T05:31:43.764362Z"
    },
    "hidden": true
   },
   "outputs": [
    {
     "data": {
      "text/plain": [
       "<xarray.DataArray ()>\n",
       "array(158833)"
      ]
     },
     "execution_count": 147,
     "metadata": {},
     "output_type": "execute_result"
    }
   ],
   "source": [
    "cewo_fix2.count()"
   ]
  },
  {
   "cell_type": "code",
   "execution_count": 160,
   "metadata": {
    "ExecuteTime": {
     "end_time": "2018-07-26T05:52:28.675518Z",
     "start_time": "2018-07-26T05:52:28.634925Z"
    },
    "hidden": true
   },
   "outputs": [
    {
     "data": {
      "text/plain": [
       "<xarray.DataArray ()>\n",
       "array(44768)"
      ]
     },
     "execution_count": 160,
     "metadata": {},
     "output_type": "execute_result"
    }
   ],
   "source": [
    "ThresholdData.count()"
   ]
  },
  {
   "cell_type": "code",
   "execution_count": 162,
   "metadata": {
    "ExecuteTime": {
     "end_time": "2018-07-26T05:52:42.610591Z",
     "start_time": "2018-07-26T05:52:42.563426Z"
    },
    "hidden": true
   },
   "outputs": [],
   "source": [
    "both = cewo_fix2.where(ThresholdData==1)\n"
   ]
  },
  {
   "cell_type": "code",
   "execution_count": 163,
   "metadata": {
    "ExecuteTime": {
     "end_time": "2018-07-26T05:52:43.455726Z",
     "start_time": "2018-07-26T05:52:43.425667Z"
    },
    "hidden": true
   },
   "outputs": [
    {
     "data": {
      "text/plain": [
       "<xarray.DataArray ()>\n",
       "array(38882)"
      ]
     },
     "execution_count": 163,
     "metadata": {},
     "output_type": "execute_result"
    }
   ],
   "source": [
    "both.count()"
   ]
  },
  {
   "cell_type": "code",
   "execution_count": null,
   "metadata": {
    "hidden": true
   },
   "outputs": [],
   "source": [
    "both.plot()"
   ]
  },
  {
   "cell_type": "code",
   "execution_count": 137,
   "metadata": {
    "ExecuteTime": {
     "end_time": "2018-07-26T05:24:31.122272Z",
     "start_time": "2018-07-26T05:24:31.097537Z"
    },
    "hidden": true
   },
   "outputs": [
    {
     "data": {
      "text/plain": [
       "<xarray.DataArray (band: 1, y: 6564, x: 2144)>\n",
       "array([[[nan, nan, ..., nan, nan],\n",
       "        [nan, nan, ..., nan, nan],\n",
       "        ...,\n",
       "        [nan, nan, ..., nan, nan],\n",
       "        [nan, nan, ..., nan, nan]]], dtype=float32)\n",
       "Coordinates:\n",
       "  * band     (band) int64 1\n",
       "  * y        (y) float64 -3.383e+06 -3.383e+06 -3.383e+06 -3.383e+06 ...\n",
       "  * x        (x) float64 1.438e+06 1.438e+06 1.438e+06 1.439e+06 1.439e+06 ...\n",
       "Attributes:\n",
       "    transform:   (25.0, 0.0, 1438421.0013571545, 0.0, -25.0, -3382788.8746242...\n",
       "    crs:         +init=epsg:3577\n",
       "    res:         (25.0, 25.0)\n",
       "    is_tiled:    0\n",
       "    nodatavals:  (-3.4028234663852886e+38,)"
      ]
     },
     "execution_count": 137,
     "metadata": {},
     "output_type": "execute_result"
    }
   ],
   "source": [
    "ThresholdData"
   ]
  },
  {
   "cell_type": "code",
   "execution_count": 12,
   "metadata": {
    "ExecuteTime": {
     "end_time": "2018-07-26T00:42:25.521837Z",
     "start_time": "2018-07-26T00:42:24.806981Z"
    },
    "hidden": true
   },
   "outputs": [],
   "source": [
    "# #filter out both sets of nodata values as defined by CEWO\n",
    "# cewoData = cewoData.where(cewoData!=-3.4028234663852886e+38) #remove no data vals\n",
    "# cewoData = cewoData.where(cewoData!=0) #remove no data vals\n",
    "# cewoData = cewoData.where(cewoData!=65535.) #remove no data vals\n",
    "# #cewoData = cewoData.where(cewoData!=2.) #remove off river storages"
   ]
  },
  {
   "cell_type": "code",
   "execution_count": 23,
   "metadata": {
    "ExecuteTime": {
     "end_time": "2018-07-26T00:47:05.520430Z",
     "start_time": "2018-07-26T00:47:03.897965Z"
    },
    "hidden": true
   },
   "outputs": [],
   "source": [
    "plt.clf()\n",
    "cewoData.plot()\n",
    "plt.show()"
   ]
  },
  {
   "cell_type": "code",
   "execution_count": 15,
   "metadata": {
    "ExecuteTime": {
     "end_time": "2018-07-26T04:09:13.002367Z",
     "start_time": "2018-07-26T04:09:12.979797Z"
    },
    "hidden": true
   },
   "outputs": [
    {
     "data": {
      "text/plain": [
       "<xarray.DataArray (band: 1, y: 6564, x: 2144)>\n",
       "[14073216 values with dtype=uint16]\n",
       "Coordinates:\n",
       "  * band     (band) int64 1\n",
       "  * y        (y) float64 -3.383e+06 -3.383e+06 -3.383e+06 -3.383e+06 ...\n",
       "  * x        (x) float64 1.438e+06 1.438e+06 1.438e+06 1.439e+06 1.439e+06 ...\n",
       "Attributes:\n",
       "    transform:   (25.0, 0.0, 1438421.0013571545, 0.0, -25.0, -3382788.8746242...\n",
       "    crs:         +init=epsg:3577\n",
       "    res:         (25.0, 25.0)\n",
       "    is_tiled:    0\n",
       "    nodatavals:  (65535.0,)"
      ]
     },
     "execution_count": 15,
     "metadata": {},
     "output_type": "execute_result"
    }
   ],
   "source": [
    "cewoData"
   ]
  },
  {
   "cell_type": "code",
   "execution_count": 16,
   "metadata": {
    "ExecuteTime": {
     "end_time": "2018-07-26T04:09:15.278541Z",
     "start_time": "2018-07-26T04:09:15.267045Z"
    },
    "hidden": true
   },
   "outputs": [
    {
     "data": {
      "text/plain": [
       "<xarray.DataArray (band: 1, y: 6564, x: 2144)>\n",
       "[14073216 values with dtype=float32]\n",
       "Coordinates:\n",
       "  * band     (band) int64 1\n",
       "  * y        (y) float64 -3.383e+06 -3.383e+06 -3.383e+06 -3.383e+06 ...\n",
       "  * x        (x) float64 1.438e+06 1.438e+06 1.438e+06 1.439e+06 1.439e+06 ...\n",
       "Attributes:\n",
       "    transform:   (25.0, 0.0, 1438421.0013571545, 0.0, -25.0, -3382788.8746242...\n",
       "    crs:         +init=epsg:3577\n",
       "    res:         (25.0, 25.0)\n",
       "    is_tiled:    0\n",
       "    nodatavals:  (-3.4028234663852886e+38,)"
      ]
     },
     "execution_count": 16,
     "metadata": {},
     "output_type": "execute_result"
    }
   ],
   "source": [
    "ThresholdData"
   ]
  },
  {
   "cell_type": "code",
   "execution_count": 21,
   "metadata": {
    "ExecuteTime": {
     "end_time": "2018-07-26T04:11:31.729488Z",
     "start_time": "2018-07-26T04:11:30.545714Z"
    },
    "hidden": true
   },
   "outputs": [],
   "source": [
    "plt.clf()\n",
    "ThresholdData.plot()\n",
    "plt.show()"
   ]
  },
  {
   "cell_type": "code",
   "execution_count": 44,
   "metadata": {
    "ExecuteTime": {
     "end_time": "2018-07-26T04:25:56.413236Z",
     "start_time": "2018-07-26T04:25:55.754906Z"
    },
    "hidden": true
   },
   "outputs": [],
   "source": [
    "ThresholdData=ThresholdData.where(ThresholdData!=-3.4028234663852886e+38)\n",
    "ThresholdData=ThresholdData.where(ThresholdData!=0)\n",
    "ThresholdData=ThresholdData.where(cewoData.data!=2.0)"
   ]
  },
  {
   "cell_type": "code",
   "execution_count": 45,
   "metadata": {
    "ExecuteTime": {
     "end_time": "2018-07-26T04:25:57.115055Z",
     "start_time": "2018-07-26T04:25:57.090948Z"
    },
    "hidden": true
   },
   "outputs": [
    {
     "data": {
      "text/plain": [
       "<xarray.DataArray (band: 1, y: 6564, x: 2144)>\n",
       "array([[[nan, nan, ..., nan, nan],\n",
       "        [nan, nan, ..., nan, nan],\n",
       "        ...,\n",
       "        [nan, nan, ..., nan, nan],\n",
       "        [nan, nan, ..., nan, nan]]], dtype=float32)\n",
       "Coordinates:\n",
       "  * band     (band) int64 1\n",
       "  * y        (y) float64 -3.383e+06 -3.383e+06 -3.383e+06 -3.383e+06 ...\n",
       "  * x        (x) float64 1.438e+06 1.438e+06 1.438e+06 1.439e+06 1.439e+06 ...\n",
       "Attributes:\n",
       "    transform:   (25.0, 0.0, 1438421.0013571545, 0.0, -25.0, -3382788.8746242...\n",
       "    crs:         +init=epsg:3577\n",
       "    res:         (25.0, 25.0)\n",
       "    is_tiled:    0\n",
       "    nodatavals:  (-3.4028234663852886e+38,)"
      ]
     },
     "execution_count": 45,
     "metadata": {},
     "output_type": "execute_result"
    }
   ],
   "source": [
    "ThresholdData"
   ]
  },
  {
   "cell_type": "code",
   "execution_count": 25,
   "metadata": {
    "ExecuteTime": {
     "end_time": "2018-07-26T04:18:36.476194Z",
     "start_time": "2018-07-26T04:18:36.352520Z"
    },
    "hidden": true
   },
   "outputs": [],
   "source": [
    "#ThresholdData=ThresholdData.where(ThresholdData!=-3.4028234663852886e+38)\n",
    "#ThresholdData=ThresholdData.where(ThresholdData!=0)\n",
    "#ThresholdData=ThresholdData.where(cewoData.data!=2.0)"
   ]
  },
  {
   "cell_type": "code",
   "execution_count": 29,
   "metadata": {
    "ExecuteTime": {
     "end_time": "2018-07-26T04:21:15.484600Z",
     "start_time": "2018-07-26T04:21:14.364610Z"
    },
    "hidden": true
   },
   "outputs": [
    {
     "data": {
      "application/javascript": [
       "/* Put everything inside the global mpl namespace */\n",
       "window.mpl = {};\n",
       "\n",
       "\n",
       "mpl.get_websocket_type = function() {\n",
       "    if (typeof(WebSocket) !== 'undefined') {\n",
       "        return WebSocket;\n",
       "    } else if (typeof(MozWebSocket) !== 'undefined') {\n",
       "        return MozWebSocket;\n",
       "    } else {\n",
       "        alert('Your browser does not have WebSocket support.' +\n",
       "              'Please try Chrome, Safari or Firefox ≥ 6. ' +\n",
       "              'Firefox 4 and 5 are also supported but you ' +\n",
       "              'have to enable WebSockets in about:config.');\n",
       "    };\n",
       "}\n",
       "\n",
       "mpl.figure = function(figure_id, websocket, ondownload, parent_element) {\n",
       "    this.id = figure_id;\n",
       "\n",
       "    this.ws = websocket;\n",
       "\n",
       "    this.supports_binary = (this.ws.binaryType != undefined);\n",
       "\n",
       "    if (!this.supports_binary) {\n",
       "        var warnings = document.getElementById(\"mpl-warnings\");\n",
       "        if (warnings) {\n",
       "            warnings.style.display = 'block';\n",
       "            warnings.textContent = (\n",
       "                \"This browser does not support binary websocket messages. \" +\n",
       "                    \"Performance may be slow.\");\n",
       "        }\n",
       "    }\n",
       "\n",
       "    this.imageObj = new Image();\n",
       "\n",
       "    this.context = undefined;\n",
       "    this.message = undefined;\n",
       "    this.canvas = undefined;\n",
       "    this.rubberband_canvas = undefined;\n",
       "    this.rubberband_context = undefined;\n",
       "    this.format_dropdown = undefined;\n",
       "\n",
       "    this.image_mode = 'full';\n",
       "\n",
       "    this.root = $('<div/>');\n",
       "    this._root_extra_style(this.root)\n",
       "    this.root.attr('style', 'display: inline-block');\n",
       "\n",
       "    $(parent_element).append(this.root);\n",
       "\n",
       "    this._init_header(this);\n",
       "    this._init_canvas(this);\n",
       "    this._init_toolbar(this);\n",
       "\n",
       "    var fig = this;\n",
       "\n",
       "    this.waiting = false;\n",
       "\n",
       "    this.ws.onopen =  function () {\n",
       "            fig.send_message(\"supports_binary\", {value: fig.supports_binary});\n",
       "            fig.send_message(\"send_image_mode\", {});\n",
       "            if (mpl.ratio != 1) {\n",
       "                fig.send_message(\"set_dpi_ratio\", {'dpi_ratio': mpl.ratio});\n",
       "            }\n",
       "            fig.send_message(\"refresh\", {});\n",
       "        }\n",
       "\n",
       "    this.imageObj.onload = function() {\n",
       "            if (fig.image_mode == 'full') {\n",
       "                // Full images could contain transparency (where diff images\n",
       "                // almost always do), so we need to clear the canvas so that\n",
       "                // there is no ghosting.\n",
       "                fig.context.clearRect(0, 0, fig.canvas.width, fig.canvas.height);\n",
       "            }\n",
       "            fig.context.drawImage(fig.imageObj, 0, 0);\n",
       "        };\n",
       "\n",
       "    this.imageObj.onunload = function() {\n",
       "        fig.ws.close();\n",
       "    }\n",
       "\n",
       "    this.ws.onmessage = this._make_on_message_function(this);\n",
       "\n",
       "    this.ondownload = ondownload;\n",
       "}\n",
       "\n",
       "mpl.figure.prototype._init_header = function() {\n",
       "    var titlebar = $(\n",
       "        '<div class=\"ui-dialog-titlebar ui-widget-header ui-corner-all ' +\n",
       "        'ui-helper-clearfix\"/>');\n",
       "    var titletext = $(\n",
       "        '<div class=\"ui-dialog-title\" style=\"width: 100%; ' +\n",
       "        'text-align: center; padding: 3px;\"/>');\n",
       "    titlebar.append(titletext)\n",
       "    this.root.append(titlebar);\n",
       "    this.header = titletext[0];\n",
       "}\n",
       "\n",
       "\n",
       "\n",
       "mpl.figure.prototype._canvas_extra_style = function(canvas_div) {\n",
       "\n",
       "}\n",
       "\n",
       "\n",
       "mpl.figure.prototype._root_extra_style = function(canvas_div) {\n",
       "\n",
       "}\n",
       "\n",
       "mpl.figure.prototype._init_canvas = function() {\n",
       "    var fig = this;\n",
       "\n",
       "    var canvas_div = $('<div/>');\n",
       "\n",
       "    canvas_div.attr('style', 'position: relative; clear: both; outline: 0');\n",
       "\n",
       "    function canvas_keyboard_event(event) {\n",
       "        return fig.key_event(event, event['data']);\n",
       "    }\n",
       "\n",
       "    canvas_div.keydown('key_press', canvas_keyboard_event);\n",
       "    canvas_div.keyup('key_release', canvas_keyboard_event);\n",
       "    this.canvas_div = canvas_div\n",
       "    this._canvas_extra_style(canvas_div)\n",
       "    this.root.append(canvas_div);\n",
       "\n",
       "    var canvas = $('<canvas/>');\n",
       "    canvas.addClass('mpl-canvas');\n",
       "    canvas.attr('style', \"left: 0; top: 0; z-index: 0; outline: 0\")\n",
       "\n",
       "    this.canvas = canvas[0];\n",
       "    this.context = canvas[0].getContext(\"2d\");\n",
       "\n",
       "    var backingStore = this.context.backingStorePixelRatio ||\n",
       "\tthis.context.webkitBackingStorePixelRatio ||\n",
       "\tthis.context.mozBackingStorePixelRatio ||\n",
       "\tthis.context.msBackingStorePixelRatio ||\n",
       "\tthis.context.oBackingStorePixelRatio ||\n",
       "\tthis.context.backingStorePixelRatio || 1;\n",
       "\n",
       "    mpl.ratio = (window.devicePixelRatio || 1) / backingStore;\n",
       "\n",
       "    var rubberband = $('<canvas/>');\n",
       "    rubberband.attr('style', \"position: absolute; left: 0; top: 0; z-index: 1;\")\n",
       "\n",
       "    var pass_mouse_events = true;\n",
       "\n",
       "    canvas_div.resizable({\n",
       "        start: function(event, ui) {\n",
       "            pass_mouse_events = false;\n",
       "        },\n",
       "        resize: function(event, ui) {\n",
       "            fig.request_resize(ui.size.width, ui.size.height);\n",
       "        },\n",
       "        stop: function(event, ui) {\n",
       "            pass_mouse_events = true;\n",
       "            fig.request_resize(ui.size.width, ui.size.height);\n",
       "        },\n",
       "    });\n",
       "\n",
       "    function mouse_event_fn(event) {\n",
       "        if (pass_mouse_events)\n",
       "            return fig.mouse_event(event, event['data']);\n",
       "    }\n",
       "\n",
       "    rubberband.mousedown('button_press', mouse_event_fn);\n",
       "    rubberband.mouseup('button_release', mouse_event_fn);\n",
       "    // Throttle sequential mouse events to 1 every 20ms.\n",
       "    rubberband.mousemove('motion_notify', mouse_event_fn);\n",
       "\n",
       "    rubberband.mouseenter('figure_enter', mouse_event_fn);\n",
       "    rubberband.mouseleave('figure_leave', mouse_event_fn);\n",
       "\n",
       "    canvas_div.on(\"wheel\", function (event) {\n",
       "        event = event.originalEvent;\n",
       "        event['data'] = 'scroll'\n",
       "        if (event.deltaY < 0) {\n",
       "            event.step = 1;\n",
       "        } else {\n",
       "            event.step = -1;\n",
       "        }\n",
       "        mouse_event_fn(event);\n",
       "    });\n",
       "\n",
       "    canvas_div.append(canvas);\n",
       "    canvas_div.append(rubberband);\n",
       "\n",
       "    this.rubberband = rubberband;\n",
       "    this.rubberband_canvas = rubberband[0];\n",
       "    this.rubberband_context = rubberband[0].getContext(\"2d\");\n",
       "    this.rubberband_context.strokeStyle = \"#000000\";\n",
       "\n",
       "    this._resize_canvas = function(width, height) {\n",
       "        // Keep the size of the canvas, canvas container, and rubber band\n",
       "        // canvas in synch.\n",
       "        canvas_div.css('width', width)\n",
       "        canvas_div.css('height', height)\n",
       "\n",
       "        canvas.attr('width', width * mpl.ratio);\n",
       "        canvas.attr('height', height * mpl.ratio);\n",
       "        canvas.attr('style', 'width: ' + width + 'px; height: ' + height + 'px;');\n",
       "\n",
       "        rubberband.attr('width', width);\n",
       "        rubberband.attr('height', height);\n",
       "    }\n",
       "\n",
       "    // Set the figure to an initial 600x600px, this will subsequently be updated\n",
       "    // upon first draw.\n",
       "    this._resize_canvas(600, 600);\n",
       "\n",
       "    // Disable right mouse context menu.\n",
       "    $(this.rubberband_canvas).bind(\"contextmenu\",function(e){\n",
       "        return false;\n",
       "    });\n",
       "\n",
       "    function set_focus () {\n",
       "        canvas.focus();\n",
       "        canvas_div.focus();\n",
       "    }\n",
       "\n",
       "    window.setTimeout(set_focus, 100);\n",
       "}\n",
       "\n",
       "mpl.figure.prototype._init_toolbar = function() {\n",
       "    var fig = this;\n",
       "\n",
       "    var nav_element = $('<div/>')\n",
       "    nav_element.attr('style', 'width: 100%');\n",
       "    this.root.append(nav_element);\n",
       "\n",
       "    // Define a callback function for later on.\n",
       "    function toolbar_event(event) {\n",
       "        return fig.toolbar_button_onclick(event['data']);\n",
       "    }\n",
       "    function toolbar_mouse_event(event) {\n",
       "        return fig.toolbar_button_onmouseover(event['data']);\n",
       "    }\n",
       "\n",
       "    for(var toolbar_ind in mpl.toolbar_items) {\n",
       "        var name = mpl.toolbar_items[toolbar_ind][0];\n",
       "        var tooltip = mpl.toolbar_items[toolbar_ind][1];\n",
       "        var image = mpl.toolbar_items[toolbar_ind][2];\n",
       "        var method_name = mpl.toolbar_items[toolbar_ind][3];\n",
       "\n",
       "        if (!name) {\n",
       "            // put a spacer in here.\n",
       "            continue;\n",
       "        }\n",
       "        var button = $('<button/>');\n",
       "        button.addClass('ui-button ui-widget ui-state-default ui-corner-all ' +\n",
       "                        'ui-button-icon-only');\n",
       "        button.attr('role', 'button');\n",
       "        button.attr('aria-disabled', 'false');\n",
       "        button.click(method_name, toolbar_event);\n",
       "        button.mouseover(tooltip, toolbar_mouse_event);\n",
       "\n",
       "        var icon_img = $('<span/>');\n",
       "        icon_img.addClass('ui-button-icon-primary ui-icon');\n",
       "        icon_img.addClass(image);\n",
       "        icon_img.addClass('ui-corner-all');\n",
       "\n",
       "        var tooltip_span = $('<span/>');\n",
       "        tooltip_span.addClass('ui-button-text');\n",
       "        tooltip_span.html(tooltip);\n",
       "\n",
       "        button.append(icon_img);\n",
       "        button.append(tooltip_span);\n",
       "\n",
       "        nav_element.append(button);\n",
       "    }\n",
       "\n",
       "    var fmt_picker_span = $('<span/>');\n",
       "\n",
       "    var fmt_picker = $('<select/>');\n",
       "    fmt_picker.addClass('mpl-toolbar-option ui-widget ui-widget-content');\n",
       "    fmt_picker_span.append(fmt_picker);\n",
       "    nav_element.append(fmt_picker_span);\n",
       "    this.format_dropdown = fmt_picker[0];\n",
       "\n",
       "    for (var ind in mpl.extensions) {\n",
       "        var fmt = mpl.extensions[ind];\n",
       "        var option = $(\n",
       "            '<option/>', {selected: fmt === mpl.default_extension}).html(fmt);\n",
       "        fmt_picker.append(option)\n",
       "    }\n",
       "\n",
       "    // Add hover states to the ui-buttons\n",
       "    $( \".ui-button\" ).hover(\n",
       "        function() { $(this).addClass(\"ui-state-hover\");},\n",
       "        function() { $(this).removeClass(\"ui-state-hover\");}\n",
       "    );\n",
       "\n",
       "    var status_bar = $('<span class=\"mpl-message\"/>');\n",
       "    nav_element.append(status_bar);\n",
       "    this.message = status_bar[0];\n",
       "}\n",
       "\n",
       "mpl.figure.prototype.request_resize = function(x_pixels, y_pixels) {\n",
       "    // Request matplotlib to resize the figure. Matplotlib will then trigger a resize in the client,\n",
       "    // which will in turn request a refresh of the image.\n",
       "    this.send_message('resize', {'width': x_pixels, 'height': y_pixels});\n",
       "}\n",
       "\n",
       "mpl.figure.prototype.send_message = function(type, properties) {\n",
       "    properties['type'] = type;\n",
       "    properties['figure_id'] = this.id;\n",
       "    this.ws.send(JSON.stringify(properties));\n",
       "}\n",
       "\n",
       "mpl.figure.prototype.send_draw_message = function() {\n",
       "    if (!this.waiting) {\n",
       "        this.waiting = true;\n",
       "        this.ws.send(JSON.stringify({type: \"draw\", figure_id: this.id}));\n",
       "    }\n",
       "}\n",
       "\n",
       "\n",
       "mpl.figure.prototype.handle_save = function(fig, msg) {\n",
       "    var format_dropdown = fig.format_dropdown;\n",
       "    var format = format_dropdown.options[format_dropdown.selectedIndex].value;\n",
       "    fig.ondownload(fig, format);\n",
       "}\n",
       "\n",
       "\n",
       "mpl.figure.prototype.handle_resize = function(fig, msg) {\n",
       "    var size = msg['size'];\n",
       "    if (size[0] != fig.canvas.width || size[1] != fig.canvas.height) {\n",
       "        fig._resize_canvas(size[0], size[1]);\n",
       "        fig.send_message(\"refresh\", {});\n",
       "    };\n",
       "}\n",
       "\n",
       "mpl.figure.prototype.handle_rubberband = function(fig, msg) {\n",
       "    var x0 = msg['x0'] / mpl.ratio;\n",
       "    var y0 = (fig.canvas.height - msg['y0']) / mpl.ratio;\n",
       "    var x1 = msg['x1'] / mpl.ratio;\n",
       "    var y1 = (fig.canvas.height - msg['y1']) / mpl.ratio;\n",
       "    x0 = Math.floor(x0) + 0.5;\n",
       "    y0 = Math.floor(y0) + 0.5;\n",
       "    x1 = Math.floor(x1) + 0.5;\n",
       "    y1 = Math.floor(y1) + 0.5;\n",
       "    var min_x = Math.min(x0, x1);\n",
       "    var min_y = Math.min(y0, y1);\n",
       "    var width = Math.abs(x1 - x0);\n",
       "    var height = Math.abs(y1 - y0);\n",
       "\n",
       "    fig.rubberband_context.clearRect(\n",
       "        0, 0, fig.canvas.width, fig.canvas.height);\n",
       "\n",
       "    fig.rubberband_context.strokeRect(min_x, min_y, width, height);\n",
       "}\n",
       "\n",
       "mpl.figure.prototype.handle_figure_label = function(fig, msg) {\n",
       "    // Updates the figure title.\n",
       "    fig.header.textContent = msg['label'];\n",
       "}\n",
       "\n",
       "mpl.figure.prototype.handle_cursor = function(fig, msg) {\n",
       "    var cursor = msg['cursor'];\n",
       "    switch(cursor)\n",
       "    {\n",
       "    case 0:\n",
       "        cursor = 'pointer';\n",
       "        break;\n",
       "    case 1:\n",
       "        cursor = 'default';\n",
       "        break;\n",
       "    case 2:\n",
       "        cursor = 'crosshair';\n",
       "        break;\n",
       "    case 3:\n",
       "        cursor = 'move';\n",
       "        break;\n",
       "    }\n",
       "    fig.rubberband_canvas.style.cursor = cursor;\n",
       "}\n",
       "\n",
       "mpl.figure.prototype.handle_message = function(fig, msg) {\n",
       "    fig.message.textContent = msg['message'];\n",
       "}\n",
       "\n",
       "mpl.figure.prototype.handle_draw = function(fig, msg) {\n",
       "    // Request the server to send over a new figure.\n",
       "    fig.send_draw_message();\n",
       "}\n",
       "\n",
       "mpl.figure.prototype.handle_image_mode = function(fig, msg) {\n",
       "    fig.image_mode = msg['mode'];\n",
       "}\n",
       "\n",
       "mpl.figure.prototype.updated_canvas_event = function() {\n",
       "    // Called whenever the canvas gets updated.\n",
       "    this.send_message(\"ack\", {});\n",
       "}\n",
       "\n",
       "// A function to construct a web socket function for onmessage handling.\n",
       "// Called in the figure constructor.\n",
       "mpl.figure.prototype._make_on_message_function = function(fig) {\n",
       "    return function socket_on_message(evt) {\n",
       "        if (evt.data instanceof Blob) {\n",
       "            /* FIXME: We get \"Resource interpreted as Image but\n",
       "             * transferred with MIME type text/plain:\" errors on\n",
       "             * Chrome.  But how to set the MIME type?  It doesn't seem\n",
       "             * to be part of the websocket stream */\n",
       "            evt.data.type = \"image/png\";\n",
       "\n",
       "            /* Free the memory for the previous frames */\n",
       "            if (fig.imageObj.src) {\n",
       "                (window.URL || window.webkitURL).revokeObjectURL(\n",
       "                    fig.imageObj.src);\n",
       "            }\n",
       "\n",
       "            fig.imageObj.src = (window.URL || window.webkitURL).createObjectURL(\n",
       "                evt.data);\n",
       "            fig.updated_canvas_event();\n",
       "            fig.waiting = false;\n",
       "            return;\n",
       "        }\n",
       "        else if (typeof evt.data === 'string' && evt.data.slice(0, 21) == \"data:image/png;base64\") {\n",
       "            fig.imageObj.src = evt.data;\n",
       "            fig.updated_canvas_event();\n",
       "            fig.waiting = false;\n",
       "            return;\n",
       "        }\n",
       "\n",
       "        var msg = JSON.parse(evt.data);\n",
       "        var msg_type = msg['type'];\n",
       "\n",
       "        // Call the  \"handle_{type}\" callback, which takes\n",
       "        // the figure and JSON message as its only arguments.\n",
       "        try {\n",
       "            var callback = fig[\"handle_\" + msg_type];\n",
       "        } catch (e) {\n",
       "            console.log(\"No handler for the '\" + msg_type + \"' message type: \", msg);\n",
       "            return;\n",
       "        }\n",
       "\n",
       "        if (callback) {\n",
       "            try {\n",
       "                // console.log(\"Handling '\" + msg_type + \"' message: \", msg);\n",
       "                callback(fig, msg);\n",
       "            } catch (e) {\n",
       "                console.log(\"Exception inside the 'handler_\" + msg_type + \"' callback:\", e, e.stack, msg);\n",
       "            }\n",
       "        }\n",
       "    };\n",
       "}\n",
       "\n",
       "// from http://stackoverflow.com/questions/1114465/getting-mouse-location-in-canvas\n",
       "mpl.findpos = function(e) {\n",
       "    //this section is from http://www.quirksmode.org/js/events_properties.html\n",
       "    var targ;\n",
       "    if (!e)\n",
       "        e = window.event;\n",
       "    if (e.target)\n",
       "        targ = e.target;\n",
       "    else if (e.srcElement)\n",
       "        targ = e.srcElement;\n",
       "    if (targ.nodeType == 3) // defeat Safari bug\n",
       "        targ = targ.parentNode;\n",
       "\n",
       "    // jQuery normalizes the pageX and pageY\n",
       "    // pageX,Y are the mouse positions relative to the document\n",
       "    // offset() returns the position of the element relative to the document\n",
       "    var x = e.pageX - $(targ).offset().left;\n",
       "    var y = e.pageY - $(targ).offset().top;\n",
       "\n",
       "    return {\"x\": x, \"y\": y};\n",
       "};\n",
       "\n",
       "/*\n",
       " * return a copy of an object with only non-object keys\n",
       " * we need this to avoid circular references\n",
       " * http://stackoverflow.com/a/24161582/3208463\n",
       " */\n",
       "function simpleKeys (original) {\n",
       "  return Object.keys(original).reduce(function (obj, key) {\n",
       "    if (typeof original[key] !== 'object')\n",
       "        obj[key] = original[key]\n",
       "    return obj;\n",
       "  }, {});\n",
       "}\n",
       "\n",
       "mpl.figure.prototype.mouse_event = function(event, name) {\n",
       "    var canvas_pos = mpl.findpos(event)\n",
       "\n",
       "    if (name === 'button_press')\n",
       "    {\n",
       "        this.canvas.focus();\n",
       "        this.canvas_div.focus();\n",
       "    }\n",
       "\n",
       "    var x = canvas_pos.x * mpl.ratio;\n",
       "    var y = canvas_pos.y * mpl.ratio;\n",
       "\n",
       "    this.send_message(name, {x: x, y: y, button: event.button,\n",
       "                             step: event.step,\n",
       "                             guiEvent: simpleKeys(event)});\n",
       "\n",
       "    /* This prevents the web browser from automatically changing to\n",
       "     * the text insertion cursor when the button is pressed.  We want\n",
       "     * to control all of the cursor setting manually through the\n",
       "     * 'cursor' event from matplotlib */\n",
       "    event.preventDefault();\n",
       "    return false;\n",
       "}\n",
       "\n",
       "mpl.figure.prototype._key_event_extra = function(event, name) {\n",
       "    // Handle any extra behaviour associated with a key event\n",
       "}\n",
       "\n",
       "mpl.figure.prototype.key_event = function(event, name) {\n",
       "\n",
       "    // Prevent repeat events\n",
       "    if (name == 'key_press')\n",
       "    {\n",
       "        if (event.which === this._key)\n",
       "            return;\n",
       "        else\n",
       "            this._key = event.which;\n",
       "    }\n",
       "    if (name == 'key_release')\n",
       "        this._key = null;\n",
       "\n",
       "    var value = '';\n",
       "    if (event.ctrlKey && event.which != 17)\n",
       "        value += \"ctrl+\";\n",
       "    if (event.altKey && event.which != 18)\n",
       "        value += \"alt+\";\n",
       "    if (event.shiftKey && event.which != 16)\n",
       "        value += \"shift+\";\n",
       "\n",
       "    value += 'k';\n",
       "    value += event.which.toString();\n",
       "\n",
       "    this._key_event_extra(event, name);\n",
       "\n",
       "    this.send_message(name, {key: value,\n",
       "                             guiEvent: simpleKeys(event)});\n",
       "    return false;\n",
       "}\n",
       "\n",
       "mpl.figure.prototype.toolbar_button_onclick = function(name) {\n",
       "    if (name == 'download') {\n",
       "        this.handle_save(this, null);\n",
       "    } else {\n",
       "        this.send_message(\"toolbar_button\", {name: name});\n",
       "    }\n",
       "};\n",
       "\n",
       "mpl.figure.prototype.toolbar_button_onmouseover = function(tooltip) {\n",
       "    this.message.textContent = tooltip;\n",
       "};\n",
       "mpl.toolbar_items = [[\"Home\", \"Reset original view\", \"fa fa-home icon-home\", \"home\"], [\"Back\", \"Back to  previous view\", \"fa fa-arrow-left icon-arrow-left\", \"back\"], [\"Forward\", \"Forward to next view\", \"fa fa-arrow-right icon-arrow-right\", \"forward\"], [\"\", \"\", \"\", \"\"], [\"Pan\", \"Pan axes with left mouse, zoom with right\", \"fa fa-arrows icon-move\", \"pan\"], [\"Zoom\", \"Zoom to rectangle\", \"fa fa-square-o icon-check-empty\", \"zoom\"], [\"\", \"\", \"\", \"\"], [\"Download\", \"Download plot\", \"fa fa-floppy-o icon-save\", \"download\"]];\n",
       "\n",
       "mpl.extensions = [\"eps\", \"jpeg\", \"pdf\", \"png\", \"ps\", \"raw\", \"svg\", \"tif\"];\n",
       "\n",
       "mpl.default_extension = \"png\";var comm_websocket_adapter = function(comm) {\n",
       "    // Create a \"websocket\"-like object which calls the given IPython comm\n",
       "    // object with the appropriate methods. Currently this is a non binary\n",
       "    // socket, so there is still some room for performance tuning.\n",
       "    var ws = {};\n",
       "\n",
       "    ws.close = function() {\n",
       "        comm.close()\n",
       "    };\n",
       "    ws.send = function(m) {\n",
       "        //console.log('sending', m);\n",
       "        comm.send(m);\n",
       "    };\n",
       "    // Register the callback with on_msg.\n",
       "    comm.on_msg(function(msg) {\n",
       "        //console.log('receiving', msg['content']['data'], msg);\n",
       "        // Pass the mpl event to the overridden (by mpl) onmessage function.\n",
       "        ws.onmessage(msg['content']['data'])\n",
       "    });\n",
       "    return ws;\n",
       "}\n",
       "\n",
       "mpl.mpl_figure_comm = function(comm, msg) {\n",
       "    // This is the function which gets called when the mpl process\n",
       "    // starts-up an IPython Comm through the \"matplotlib\" channel.\n",
       "\n",
       "    var id = msg.content.data.id;\n",
       "    // Get hold of the div created by the display call when the Comm\n",
       "    // socket was opened in Python.\n",
       "    var element = $(\"#\" + id);\n",
       "    var ws_proxy = comm_websocket_adapter(comm)\n",
       "\n",
       "    function ondownload(figure, format) {\n",
       "        window.open(figure.imageObj.src);\n",
       "    }\n",
       "\n",
       "    var fig = new mpl.figure(id, ws_proxy,\n",
       "                           ondownload,\n",
       "                           element.get(0));\n",
       "\n",
       "    // Call onopen now - mpl needs it, as it is assuming we've passed it a real\n",
       "    // web socket which is closed, not our websocket->open comm proxy.\n",
       "    ws_proxy.onopen();\n",
       "\n",
       "    fig.parent_element = element.get(0);\n",
       "    fig.cell_info = mpl.find_output_cell(\"<div id='\" + id + \"'></div>\");\n",
       "    if (!fig.cell_info) {\n",
       "        console.error(\"Failed to find cell for figure\", id, fig);\n",
       "        return;\n",
       "    }\n",
       "\n",
       "    var output_index = fig.cell_info[2]\n",
       "    var cell = fig.cell_info[0];\n",
       "\n",
       "};\n",
       "\n",
       "mpl.figure.prototype.handle_close = function(fig, msg) {\n",
       "    var width = fig.canvas.width/mpl.ratio\n",
       "    fig.root.unbind('remove')\n",
       "\n",
       "    // Update the output cell to use the data from the current canvas.\n",
       "    fig.push_to_output();\n",
       "    var dataURL = fig.canvas.toDataURL();\n",
       "    // Re-enable the keyboard manager in IPython - without this line, in FF,\n",
       "    // the notebook keyboard shortcuts fail.\n",
       "    IPython.keyboard_manager.enable()\n",
       "    $(fig.parent_element).html('<img src=\"' + dataURL + '\" width=\"' + width + '\">');\n",
       "    fig.close_ws(fig, msg);\n",
       "}\n",
       "\n",
       "mpl.figure.prototype.close_ws = function(fig, msg){\n",
       "    fig.send_message('closing', msg);\n",
       "    // fig.ws.close()\n",
       "}\n",
       "\n",
       "mpl.figure.prototype.push_to_output = function(remove_interactive) {\n",
       "    // Turn the data on the canvas into data in the output cell.\n",
       "    var width = this.canvas.width/mpl.ratio\n",
       "    var dataURL = this.canvas.toDataURL();\n",
       "    this.cell_info[1]['text/html'] = '<img src=\"' + dataURL + '\" width=\"' + width + '\">';\n",
       "}\n",
       "\n",
       "mpl.figure.prototype.updated_canvas_event = function() {\n",
       "    // Tell IPython that the notebook contents must change.\n",
       "    IPython.notebook.set_dirty(true);\n",
       "    this.send_message(\"ack\", {});\n",
       "    var fig = this;\n",
       "    // Wait a second, then push the new image to the DOM so\n",
       "    // that it is saved nicely (might be nice to debounce this).\n",
       "    setTimeout(function () { fig.push_to_output() }, 1000);\n",
       "}\n",
       "\n",
       "mpl.figure.prototype._init_toolbar = function() {\n",
       "    var fig = this;\n",
       "\n",
       "    var nav_element = $('<div/>')\n",
       "    nav_element.attr('style', 'width: 100%');\n",
       "    this.root.append(nav_element);\n",
       "\n",
       "    // Define a callback function for later on.\n",
       "    function toolbar_event(event) {\n",
       "        return fig.toolbar_button_onclick(event['data']);\n",
       "    }\n",
       "    function toolbar_mouse_event(event) {\n",
       "        return fig.toolbar_button_onmouseover(event['data']);\n",
       "    }\n",
       "\n",
       "    for(var toolbar_ind in mpl.toolbar_items){\n",
       "        var name = mpl.toolbar_items[toolbar_ind][0];\n",
       "        var tooltip = mpl.toolbar_items[toolbar_ind][1];\n",
       "        var image = mpl.toolbar_items[toolbar_ind][2];\n",
       "        var method_name = mpl.toolbar_items[toolbar_ind][3];\n",
       "\n",
       "        if (!name) { continue; };\n",
       "\n",
       "        var button = $('<button class=\"btn btn-default\" href=\"#\" title=\"' + name + '\"><i class=\"fa ' + image + ' fa-lg\"></i></button>');\n",
       "        button.click(method_name, toolbar_event);\n",
       "        button.mouseover(tooltip, toolbar_mouse_event);\n",
       "        nav_element.append(button);\n",
       "    }\n",
       "\n",
       "    // Add the status bar.\n",
       "    var status_bar = $('<span class=\"mpl-message\" style=\"text-align:right; float: right;\"/>');\n",
       "    nav_element.append(status_bar);\n",
       "    this.message = status_bar[0];\n",
       "\n",
       "    // Add the close button to the window.\n",
       "    var buttongrp = $('<div class=\"btn-group inline pull-right\"></div>');\n",
       "    var button = $('<button class=\"btn btn-mini btn-primary\" href=\"#\" title=\"Stop Interaction\"><i class=\"fa fa-power-off icon-remove icon-large\"></i></button>');\n",
       "    button.click(function (evt) { fig.handle_close(fig, {}); } );\n",
       "    button.mouseover('Stop Interaction', toolbar_mouse_event);\n",
       "    buttongrp.append(button);\n",
       "    var titlebar = this.root.find($('.ui-dialog-titlebar'));\n",
       "    titlebar.prepend(buttongrp);\n",
       "}\n",
       "\n",
       "mpl.figure.prototype._root_extra_style = function(el){\n",
       "    var fig = this\n",
       "    el.on(\"remove\", function(){\n",
       "\tfig.close_ws(fig, {});\n",
       "    });\n",
       "}\n",
       "\n",
       "mpl.figure.prototype._canvas_extra_style = function(el){\n",
       "    // this is important to make the div 'focusable\n",
       "    el.attr('tabindex', 0)\n",
       "    // reach out to IPython and tell the keyboard manager to turn it's self\n",
       "    // off when our div gets focus\n",
       "\n",
       "    // location in version 3\n",
       "    if (IPython.notebook.keyboard_manager) {\n",
       "        IPython.notebook.keyboard_manager.register_events(el);\n",
       "    }\n",
       "    else {\n",
       "        // location in version 2\n",
       "        IPython.keyboard_manager.register_events(el);\n",
       "    }\n",
       "\n",
       "}\n",
       "\n",
       "mpl.figure.prototype._key_event_extra = function(event, name) {\n",
       "    var manager = IPython.notebook.keyboard_manager;\n",
       "    if (!manager)\n",
       "        manager = IPython.keyboard_manager;\n",
       "\n",
       "    // Check for shift+enter\n",
       "    if (event.shiftKey && event.which == 13) {\n",
       "        this.canvas_div.blur();\n",
       "        event.shiftKey = false;\n",
       "        // Send a \"J\" for go to next cell\n",
       "        event.which = 74;\n",
       "        event.keyCode = 74;\n",
       "        manager.command_mode();\n",
       "        manager.handle_keydown(event);\n",
       "    }\n",
       "}\n",
       "\n",
       "mpl.figure.prototype.handle_save = function(fig, msg) {\n",
       "    fig.ondownload(fig, null);\n",
       "}\n",
       "\n",
       "\n",
       "mpl.find_output_cell = function(html_output) {\n",
       "    // Return the cell and output element which can be found *uniquely* in the notebook.\n",
       "    // Note - this is a bit hacky, but it is done because the \"notebook_saving.Notebook\"\n",
       "    // IPython event is triggered only after the cells have been serialised, which for\n",
       "    // our purposes (turning an active figure into a static one), is too late.\n",
       "    var cells = IPython.notebook.get_cells();\n",
       "    var ncells = cells.length;\n",
       "    for (var i=0; i<ncells; i++) {\n",
       "        var cell = cells[i];\n",
       "        if (cell.cell_type === 'code'){\n",
       "            for (var j=0; j<cell.output_area.outputs.length; j++) {\n",
       "                var data = cell.output_area.outputs[j];\n",
       "                if (data.data) {\n",
       "                    // IPython >= 3 moved mimebundle to data attribute of output\n",
       "                    data = data.data;\n",
       "                }\n",
       "                if (data['text/html'] == html_output) {\n",
       "                    return [cell, data, j];\n",
       "                }\n",
       "            }\n",
       "        }\n",
       "    }\n",
       "}\n",
       "\n",
       "// Register the function which deals with the matplotlib target/channel.\n",
       "// The kernel may be null if the page has been refreshed.\n",
       "if (IPython.notebook.kernel != null) {\n",
       "    IPython.notebook.kernel.comm_manager.register_target('matplotlib', mpl.mpl_figure_comm);\n",
       "}\n"
      ],
      "text/plain": [
       "<IPython.core.display.Javascript object>"
      ]
     },
     "metadata": {},
     "output_type": "display_data"
    },
    {
     "data": {
      "text/html": [
       "<img src=\"data:image/png;base64,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\" width=\"639.8333333333334\">"
      ],
      "text/plain": [
       "<IPython.core.display.HTML object>"
      ]
     },
     "metadata": {},
     "output_type": "display_data"
    }
   ],
   "source": [
    "plt.clf()\n",
    "ThresholdData.plot()\n",
    "plt.show()"
   ]
  },
  {
   "cell_type": "code",
   "execution_count": 49,
   "metadata": {
    "ExecuteTime": {
     "end_time": "2018-07-26T04:26:45.311215Z",
     "start_time": "2018-07-26T04:26:44.967868Z"
    },
    "hidden": true
   },
   "outputs": [],
   "source": [
    "cewoData2=cewoData.where(cewoData!=65535.)\n",
    "cewoData2 = cewoData2.where(cewoData2!=-3.4028234663852886e+38) #remove no data vals\n",
    "cewoData2 = cewoData2.where(cewoData2!=0) #remove no data vals\n",
    "cewoData2 = cewoData2.where(cewoData2.data!=2.0) #remove storages"
   ]
  },
  {
   "cell_type": "code",
   "execution_count": 58,
   "metadata": {
    "ExecuteTime": {
     "end_time": "2018-07-26T04:28:55.566372Z",
     "start_time": "2018-07-26T04:28:55.222746Z"
    },
    "hidden": true
   },
   "outputs": [
    {
     "name": "stdout",
     "output_type": "stream",
     "text": [
      "<xarray.DataArray ()>\n",
      "array(14073216)\n",
      "<xarray.DataArray ()>\n",
      "array(14073216)\n",
      "<xarray.DataArray ()>\n",
      "array(166880)\n",
      "<xarray.DataArray ()>\n",
      "array(158833)\n"
     ]
    }
   ],
   "source": [
    "cewo_comp = cewo_comp.where(cewo_comp!=-3.4028234663852886e+38)\n",
    "print(cewo_comp.count())\n",
    "cewo_comp = cewo_comp.where(cewo_comp!=0)\n",
    "print(cewo_comp.count())\n",
    "cewo_comp = cewo_comp.where(cewo_comp!=65535.)\n",
    "print(cewo_comp.count())\n",
    "cewo_comp = cewo_comp.where(cewo_comp!=2.0)\n",
    "print(cewo_comp.count())"
   ]
  },
  {
   "cell_type": "code",
   "execution_count": 50,
   "metadata": {
    "ExecuteTime": {
     "end_time": "2018-07-26T04:26:46.086882Z",
     "start_time": "2018-07-26T04:26:46.040873Z"
    },
    "hidden": true
   },
   "outputs": [
    {
     "data": {
      "text/plain": [
       "<xarray.DataArray ()>\n",
       "array(1.)"
      ]
     },
     "execution_count": 50,
     "metadata": {},
     "output_type": "execute_result"
    }
   ],
   "source": [
    "cewoData2.max()"
   ]
  },
  {
   "cell_type": "code",
   "execution_count": 62,
   "metadata": {
    "ExecuteTime": {
     "end_time": "2018-07-26T04:29:44.300009Z",
     "start_time": "2018-07-26T04:29:44.289588Z"
    },
    "hidden": true
   },
   "outputs": [
    {
     "data": {
      "text/plain": [
       "(14073216, 14073216)"
      ]
     },
     "execution_count": 62,
     "metadata": {},
     "output_type": "execute_result"
    }
   ],
   "source": [
    "cewo_comp.size, ThresholdData.size"
   ]
  },
  {
   "cell_type": "code",
   "execution_count": 59,
   "metadata": {
    "ExecuteTime": {
     "end_time": "2018-07-26T04:29:20.748349Z",
     "start_time": "2018-07-26T04:29:20.664450Z"
    },
    "hidden": true
   },
   "outputs": [
    {
     "name": "stdout",
     "output_type": "stream",
     "text": [
      "<xarray.DataArray ()>\n",
      "array(158833) <xarray.DataArray ()>\n",
      "array(44768)\n"
     ]
    }
   ],
   "source": [
    "print(cewo_comp.count(), ThresholdData.count())"
   ]
  },
  {
   "cell_type": "code",
   "execution_count": 52,
   "metadata": {
    "ExecuteTime": {
     "end_time": "2018-07-26T04:26:49.829253Z",
     "start_time": "2018-07-26T04:26:48.720378Z"
    },
    "hidden": true
   },
   "outputs": [],
   "source": [
    "cewoData2.plot() \n",
    "plt.show()"
   ]
  },
  {
   "cell_type": "code",
   "execution_count": null,
   "metadata": {
    "hidden": true
   },
   "outputs": [],
   "source": [
    "cewo"
   ]
  },
  {
   "cell_type": "code",
   "execution_count": null,
   "metadata": {
    "hidden": true
   },
   "outputs": [],
   "source": []
  },
  {
   "cell_type": "code",
   "execution_count": null,
   "metadata": {
    "hidden": true
   },
   "outputs": [],
   "source": []
  },
  {
   "cell_type": "code",
   "execution_count": null,
   "metadata": {
    "hidden": true
   },
   "outputs": [],
   "source": []
  },
  {
   "cell_type": "code",
   "execution_count": null,
   "metadata": {
    "hidden": true
   },
   "outputs": [],
   "source": [
    "# Make sure all the missing values are taken out\n",
    "NDVIDatamaxNonull = NDVIDatamax.where(NDVIDatamax != -1)\n",
    "NDMIDatamaxNonull = NDMIDatamax.where(NDMIDatamax != -1)"
   ]
  },
  {
   "cell_type": "markdown",
   "metadata": {},
   "source": [
    "## Read in the validation mask and use it to examine the resulting pixel populations"
   ]
  },
  {
   "cell_type": "code",
   "execution_count": null,
   "metadata": {},
   "outputs": [],
   "source": [
    "# Data * mask = data or nan\n",
    "NDVIIrrigated = mask * NDVIDatamaxNonull\n",
    "# Find where the mask is nan, and use this True/False to mask data\n",
    "NDVINonIrrigated = NDVIDatamaxNonull.where(np.isnan(mask))\n",
    "\n",
    "# Data * mask = data or nan\n",
    "NDMIIrrigated = mask * NDMIDatamaxNonull\n",
    "# Find where the mask is nan, and use this True/False to mask data\n",
    "NDMINonIrrigated = NDMIDatamaxNonull.where(np.isnan(mask))"
   ]
  },
  {
   "cell_type": "markdown",
   "metadata": {},
   "source": [
    "## Need to flatten the data so we can plot two single dimension arrays against each other"
   ]
  },
  {
   "cell_type": "code",
   "execution_count": null,
   "metadata": {},
   "outputs": [],
   "source": [
    "NDVIIrrigatedflat = NDVIIrrigated.data.reshape(NDVIIrrigated.x.size * NDVIIrrigated.y.size)\n",
    "NDVINonIrrigatedflat = NDVINonIrrigated.data.reshape(NDVINonIrrigated.x.size * NDVINonIrrigated.y.size)\n",
    "\n",
    "NDMIIrrigatedflat = NDMIIrrigated.data.reshape(NDMIIrrigated.x.size * NDMIIrrigated.y.size)\n",
    "NDMINonIrrigatedflat = NDMINonIrrigated.data.reshape(NDMINonIrrigated.x.size * NDMINonIrrigated.y.size)"
   ]
  },
  {
   "cell_type": "markdown",
   "metadata": {},
   "source": [
    "## Draw a histogram of the two populations\n",
    "\n",
    "Matplotlib histogram doesn't like `nan`, so we need to remove the `nan` values before we can create a histogram. This is done by reshaping the array into a single dimension, then removing the nan values.\n",
    "\n",
    "This histogram will allow us to determine a valid threshold value for the automatic irrigated crop extent layer."
   ]
  },
  {
   "cell_type": "code",
   "execution_count": null,
   "metadata": {
    "scrolled": false
   },
   "outputs": [],
   "source": [
    "bin_values = np.arange(0, 1.0, 0.02)\n",
    "\n",
    "fig, axs = plt.subplots(1, 2, sharex=True, tight_layout=True, figsize = [9,5])\n",
    "axs[0].hist(NDVIIrrigatedflat[np.isfinite(NDVIIrrigatedflat)], bins=bin_values, facecolor = 'blue');\n",
    "axs[0].set_title('{0} for Namoi irrigated fields {0}'.format(Index, year))\n",
    "axs[0].set_xlabel(Index)\n",
    "axs[1].hist(NDVINonIrrigatedflat[np.isfinite(NDVINonIrrigatedflat)], bins=bin_values, facecolor = 'brown');\n",
    "axs[1].set_title('{0} for Namoi non-irrigated fields {0}'.format(Index, year))\n",
    "axs[1].set_xlabel(Index)\n",
    "savefig('/g/data/r78/cek156/dea-notebooks/Crop_mapping/Playing_around/Namoi_NDVI_{1}.jpg'.format(Index, year))"
   ]
  },
  {
   "cell_type": "markdown",
   "metadata": {},
   "source": [
    "## Is there a relationship between a pixel's NDVI and NDMI?"
   ]
  },
  {
   "cell_type": "code",
   "execution_count": null,
   "metadata": {},
   "outputs": [],
   "source": [
    "plt.figure(figsize = [8,8])\n",
    "\n",
    "plt.scatter(NDVINonIrrigatedflat[::10], NDMINonIrrigatedflat[::10], facecolor = 'brown', marker = '.')\n",
    "plt.scatter(NDVIIrrigatedflat[::10], NDMIIrrigatedflat[::10], facecolor = 'blue', marker = '.')\n",
    "plt.xlabel('NDVI')\n",
    "plt.ylabel('NDMI')\n",
    "plt.title('NDVI vs NDMI for every pixel in the Namoi Catchment')\n",
    "plt.legend(['Non-irrigated pixels', 'Irrigated pixels'])\n",
    "savefig('/g/data/r78/cek156/dea-notebooks/Crop_mapping/Playing_around/Namoi_scatter_{0}.jpg'.format(year))"
   ]
  },
  {
   "cell_type": "code",
   "execution_count": null,
   "metadata": {},
   "outputs": [],
   "source": []
  }
 ],
 "metadata": {
  "kernelspec": {
   "display_name": "Python 3",
   "language": "python",
   "name": "python3"
  },
  "language_info": {
   "codemirror_mode": {
    "name": "ipython",
    "version": 3
   },
   "file_extension": ".py",
   "mimetype": "text/x-python",
   "name": "python",
   "nbconvert_exporter": "python",
   "pygments_lexer": "ipython3",
   "version": "3.6.5"
  },
  "toc": {
   "base_numbering": 1,
   "nav_menu": {},
   "number_sections": true,
   "sideBar": true,
   "skip_h1_title": false,
   "title_cell": "Table of Contents",
   "title_sidebar": "Contents",
   "toc_cell": false,
   "toc_position": {},
   "toc_section_display": true,
   "toc_window_display": false
  }
 },
 "nbformat": 4,
 "nbformat_minor": 2
}
