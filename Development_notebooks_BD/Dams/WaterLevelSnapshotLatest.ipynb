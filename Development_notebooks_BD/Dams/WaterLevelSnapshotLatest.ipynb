{
 "cells": [
  {
   "cell_type": "code",
   "execution_count": 1,
   "metadata": {},
   "outputs": [],
   "source": [
    "import subprocess\n",
    "import glob\n",
    "import geopandas as gp\n",
    "import re"
   ]
  },
  {
   "cell_type": "code",
   "execution_count": 2,
   "metadata": {},
   "outputs": [],
   "source": [
    "Timeseries_dir = '/g/data/r78/cek156/dea-notebooks/Dams/Dams2000to2018/Timeseries/'\n",
    "Shapefile_to_append = '/g/data/r78/cek156/dea-notebooks/Dams/Dams2000to2018/AllNSW2000to201810LatestSnapshot.shp'"
   ]
  },
  {
   "cell_type": "code",
   "execution_count": 3,
   "metadata": {},
   "outputs": [],
   "source": [
    "## Get a list of all of the files in the folder to loop through\n",
    "TimeSeriesFiles = glob.glob(f'{Timeseries_dir}*.txt')\n",
    "SnapshotShp = gp.read_file(Shapefile_to_append)"
   ]
  },
  {
   "cell_type": "code",
   "execution_count": 4,
   "metadata": {},
   "outputs": [],
   "source": [
    "def find_lastline(fname, linenum = -1):\n",
    "    with open(fname, 'r') as f:\n",
    "        lines = f.read().splitlines()\n",
    "        last_line = lines[linenum]\n",
    "        return last_line"
   ]
  },
  {
   "cell_type": "code",
   "execution_count": 5,
   "metadata": {
    "scrolled": true
   },
   "outputs": [],
   "source": [
    "for file in TimeSeriesFiles:\n",
    "    # Get the ID\n",
    "    NameComponents = re.split('\\.|/', file) # Splitting on '.' and '/'\n",
    "    PolyID = NameComponents[-2]\n",
    "    PolyID = int(PolyID)\n",
    "    lastline = find_lastline(file)\n",
    "    try:\n",
    "        ObsDate, x, Pct = lastline.split(',')\n",
    "    except ValueError:\n",
    "        try:\n",
    "            lastline = find_lastline(file, -2)\n",
    "        except ValueError:\n",
    "            print(f'Something is dodgy with {PolyID}\\'s text file')\n",
    "            continue\n",
    "    Pct = float(Pct)\n",
    "    FindPolyIndex = SnapshotShp.where(SnapshotShp['ID'] == PolyID).dropna(how='all').index.values[0]\n",
    "    SnapshotShp.loc[(FindPolyIndex,'LatestObs')] = ObsDate\n",
    "    SnapshotShp.loc[(FindPolyIndex,'PctArea')] = Pct\n",
    "    "
   ]
  },
  {
   "cell_type": "code",
   "execution_count": 6,
   "metadata": {},
   "outputs": [],
   "source": [
    "SnapshotShp.to_file(Shapefile_to_append)"
   ]
  },
  {
   "cell_type": "code",
   "execution_count": null,
   "metadata": {},
   "outputs": [],
   "source": []
  }
 ],
 "metadata": {
  "kernelspec": {
   "display_name": "Python 3",
   "language": "python",
   "name": "python3"
  },
  "language_info": {
   "codemirror_mode": {
    "name": "ipython",
    "version": 3
   },
   "file_extension": ".py",
   "mimetype": "text/x-python",
   "name": "python",
   "nbconvert_exporter": "python",
   "pygments_lexer": "ipython3",
   "version": "3.6.6"
  }
 },
 "nbformat": 4,
 "nbformat_minor": 2
}
