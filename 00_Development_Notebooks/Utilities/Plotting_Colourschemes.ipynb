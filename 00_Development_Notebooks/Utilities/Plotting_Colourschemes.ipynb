{
 "cells": [
  {
   "cell_type": "markdown",
   "metadata": {},
   "source": [
    "### can set up a color dictionary to specify plotting colors"
   ]
  },
  {
   "cell_type": "code",
   "execution_count": 1,
   "metadata": {
    "ExecuteTime": {
     "end_time": "2019-01-10T22:30:54.908210Z",
     "start_time": "2019-01-10T22:30:53.711468Z"
    }
   },
   "outputs": [],
   "source": [
    "import matplotlib.pyplot as plt\n",
    "import matplotlib.colors"
   ]
  },
  {
   "cell_type": "code",
   "execution_count": null,
   "metadata": {},
   "outputs": [],
   "source": [
    "#https://matplotlib.org/2.0.2/api/colors_api.html\n",
    "cdict3 = {'red':  ((0.0, 0.0, 0.0),\n",
    "                   (0.0, 0.0, 0.0),\n",
    "                   (1.0, 0.0, 0.0)),\n",
    "\n",
    "         'green': ((0.0, 0.0, 0.0),\n",
    "                   (0.25, 0.0, 0.0),\n",
    "                   (0.5, 0.0, 0.0),\n",
    "                   (0.75, 0.0, 0.0),\n",
    "                   (1.0, 0.0, 1.0)),\n",
    "\n",
    "         'blue':  ((0.0, 0.0, 0.0),\n",
    "                  # (0.25, 0.0, 0.0),\n",
    "                  # (0.5, 0.0, 0.0),\n",
    "                  # (0.75, 0.0, 0.0),\n",
    "                   (1.0, 1.0, 1.0))\n",
    "        }\n",
    "\n",
    "# Make a modified version of cdict3 with some transparency\n",
    "# in the middle of the range.\n",
    "cdict4 = {**cdict3,\n",
    "          'alpha': ((0.0, 0.0, 0.0),\n",
    "                #   (0.25,1.0, 1.0),\n",
    "                    (0.5, 0.3, 0.3),\n",
    "                #   (0.75,1.0, 1.0),\n",
    "                    (1.0, 1.0, 1.0)),\n",
    "          }"
   ]
  },
  {
   "cell_type": "code",
   "execution_count": 4,
   "metadata": {
    "ExecuteTime": {
     "end_time": "2019-01-10T22:33:02.323122Z",
     "start_time": "2019-01-10T22:33:02.314036Z"
    }
   },
   "outputs": [],
   "source": [
    "boundaries = (0,1)\n",
    "BN = matplotlib.colors.BoundaryNorm((0,1), 2)"
   ]
  },
  {
   "cell_type": "code",
   "execution_count": 6,
   "metadata": {
    "ExecuteTime": {
     "end_time": "2019-01-10T22:33:07.213146Z",
     "start_time": "2019-01-10T22:33:07.193996Z"
    }
   },
   "outputs": [
    {
     "ename": "TypeError",
     "evalue": "__call__() missing 1 required positional argument: 'value'",
     "output_type": "error",
     "traceback": [
      "\u001b[0;31m---------------------------------------------------------------------------\u001b[0m",
      "\u001b[0;31mTypeError\u001b[0m                                 Traceback (most recent call last)",
      "\u001b[0;32m<ipython-input-6-803621a6c900>\u001b[0m in \u001b[0;36m<module>\u001b[0;34m\u001b[0m\n\u001b[0;32m----> 1\u001b[0;31m \u001b[0mBN\u001b[0m\u001b[0;34m(\u001b[0m\u001b[0;34m)\u001b[0m\u001b[0;34m\u001b[0m\u001b[0m\n\u001b[0m",
      "\u001b[0;31mTypeError\u001b[0m: __call__() missing 1 required positional argument: 'value'"
     ]
    }
   ],
   "source": []
  },
  {
   "cell_type": "code",
   "execution_count": null,
   "metadata": {},
   "outputs": [],
   "source": []
  }
 ],
 "metadata": {
  "kernelspec": {
   "display_name": "Python [default]",
   "language": "python",
   "name": "python3"
  },
  "language_info": {
   "codemirror_mode": {
    "name": "ipython",
    "version": 3
   },
   "file_extension": ".py",
   "mimetype": "text/x-python",
   "name": "python",
   "nbconvert_exporter": "python",
   "pygments_lexer": "ipython3",
   "version": "3.6.6"
  }
 },
 "nbformat": 4,
 "nbformat_minor": 2
}
