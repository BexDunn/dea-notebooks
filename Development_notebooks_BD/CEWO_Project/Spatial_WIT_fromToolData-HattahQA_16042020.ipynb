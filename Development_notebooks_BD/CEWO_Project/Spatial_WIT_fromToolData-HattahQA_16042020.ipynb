{
 "cells": [
  {
   "cell_type": "markdown",
   "metadata": {},
   "source": [
    "<!-- ## import the csv of data from a Wetlands Insight Tool plot\n",
    "## render the graph\n",
    "## select the time of interest\n",
    "## plot the spatial distribution of the WIT classification for the time of interest -->\n"
   ]
  },
  {
   "cell_type": "markdown",
   "metadata": {},
   "source": [
    "# Output Spatial Wetlands Insight Maps based off existing Wetlands Insight Tool data\n",
    "\n",
    "- import csv of a given WIT output\n",
    "- render graph\n",
    "- select point on graph \n",
    "- plot spatial wit for point\n",
    "- output to GeoTiff"
   ]
  },
  {
   "cell_type": "code",
   "execution_count": 1,
   "metadata": {},
   "outputs": [],
   "source": [
    " %matplotlib widget"
   ]
  },
  {
   "cell_type": "code",
   "execution_count": 2,
   "metadata": {},
   "outputs": [
    {
     "data": {
      "text/html": [
       "\n",
       "    <div class=\"bk-root\">\n",
       "        <a href=\"https://bokeh.org\" target=\"_blank\" class=\"bk-logo bk-logo-small bk-logo-notebook\"></a>\n",
       "        <span id=\"1001\">Loading BokehJS ...</span>\n",
       "    </div>"
      ]
     },
     "metadata": {},
     "output_type": "display_data"
    },
    {
     "data": {
      "application/javascript": [
       "\n",
       "(function(root) {\n",
       "  function now() {\n",
       "    return new Date();\n",
       "  }\n",
       "\n",
       "  var force = true;\n",
       "\n",
       "  if (typeof root._bokeh_onload_callbacks === \"undefined\" || force === true) {\n",
       "    root._bokeh_onload_callbacks = [];\n",
       "    root._bokeh_is_loading = undefined;\n",
       "  }\n",
       "\n",
       "  var JS_MIME_TYPE = 'application/javascript';\n",
       "  var HTML_MIME_TYPE = 'text/html';\n",
       "  var EXEC_MIME_TYPE = 'application/vnd.bokehjs_exec.v0+json';\n",
       "  var CLASS_NAME = 'output_bokeh rendered_html';\n",
       "\n",
       "  /**\n",
       "   * Render data to the DOM node\n",
       "   */\n",
       "  function render(props, node) {\n",
       "    var script = document.createElement(\"script\");\n",
       "    node.appendChild(script);\n",
       "  }\n",
       "\n",
       "  /**\n",
       "   * Handle when an output is cleared or removed\n",
       "   */\n",
       "  function handleClearOutput(event, handle) {\n",
       "    var cell = handle.cell;\n",
       "\n",
       "    var id = cell.output_area._bokeh_element_id;\n",
       "    var server_id = cell.output_area._bokeh_server_id;\n",
       "    // Clean up Bokeh references\n",
       "    if (id != null && id in Bokeh.index) {\n",
       "      Bokeh.index[id].model.document.clear();\n",
       "      delete Bokeh.index[id];\n",
       "    }\n",
       "\n",
       "    if (server_id !== undefined) {\n",
       "      // Clean up Bokeh references\n",
       "      var cmd = \"from bokeh.io.state import curstate; print(curstate().uuid_to_server['\" + server_id + \"'].get_sessions()[0].document.roots[0]._id)\";\n",
       "      cell.notebook.kernel.execute(cmd, {\n",
       "        iopub: {\n",
       "          output: function(msg) {\n",
       "            var id = msg.content.text.trim();\n",
       "            if (id in Bokeh.index) {\n",
       "              Bokeh.index[id].model.document.clear();\n",
       "              delete Bokeh.index[id];\n",
       "            }\n",
       "          }\n",
       "        }\n",
       "      });\n",
       "      // Destroy server and session\n",
       "      var cmd = \"import bokeh.io.notebook as ion; ion.destroy_server('\" + server_id + \"')\";\n",
       "      cell.notebook.kernel.execute(cmd);\n",
       "    }\n",
       "  }\n",
       "\n",
       "  /**\n",
       "   * Handle when a new output is added\n",
       "   */\n",
       "  function handleAddOutput(event, handle) {\n",
       "    var output_area = handle.output_area;\n",
       "    var output = handle.output;\n",
       "\n",
       "    // limit handleAddOutput to display_data with EXEC_MIME_TYPE content only\n",
       "    if ((output.output_type != \"display_data\") || (!output.data.hasOwnProperty(EXEC_MIME_TYPE))) {\n",
       "      return\n",
       "    }\n",
       "\n",
       "    var toinsert = output_area.element.find(\".\" + CLASS_NAME.split(' ')[0]);\n",
       "\n",
       "    if (output.metadata[EXEC_MIME_TYPE][\"id\"] !== undefined) {\n",
       "      toinsert[toinsert.length - 1].firstChild.textContent = output.data[JS_MIME_TYPE];\n",
       "      // store reference to embed id on output_area\n",
       "      output_area._bokeh_element_id = output.metadata[EXEC_MIME_TYPE][\"id\"];\n",
       "    }\n",
       "    if (output.metadata[EXEC_MIME_TYPE][\"server_id\"] !== undefined) {\n",
       "      var bk_div = document.createElement(\"div\");\n",
       "      bk_div.innerHTML = output.data[HTML_MIME_TYPE];\n",
       "      var script_attrs = bk_div.children[0].attributes;\n",
       "      for (var i = 0; i < script_attrs.length; i++) {\n",
       "        toinsert[toinsert.length - 1].firstChild.setAttribute(script_attrs[i].name, script_attrs[i].value);\n",
       "      }\n",
       "      // store reference to server id on output_area\n",
       "      output_area._bokeh_server_id = output.metadata[EXEC_MIME_TYPE][\"server_id\"];\n",
       "    }\n",
       "  }\n",
       "\n",
       "  function register_renderer(events, OutputArea) {\n",
       "\n",
       "    function append_mime(data, metadata, element) {\n",
       "      // create a DOM node to render to\n",
       "      var toinsert = this.create_output_subarea(\n",
       "        metadata,\n",
       "        CLASS_NAME,\n",
       "        EXEC_MIME_TYPE\n",
       "      );\n",
       "      this.keyboard_manager.register_events(toinsert);\n",
       "      // Render to node\n",
       "      var props = {data: data, metadata: metadata[EXEC_MIME_TYPE]};\n",
       "      render(props, toinsert[toinsert.length - 1]);\n",
       "      element.append(toinsert);\n",
       "      return toinsert\n",
       "    }\n",
       "\n",
       "    /* Handle when an output is cleared or removed */\n",
       "    events.on('clear_output.CodeCell', handleClearOutput);\n",
       "    events.on('delete.Cell', handleClearOutput);\n",
       "\n",
       "    /* Handle when a new output is added */\n",
       "    events.on('output_added.OutputArea', handleAddOutput);\n",
       "\n",
       "    /**\n",
       "     * Register the mime type and append_mime function with output_area\n",
       "     */\n",
       "    OutputArea.prototype.register_mime_type(EXEC_MIME_TYPE, append_mime, {\n",
       "      /* Is output safe? */\n",
       "      safe: true,\n",
       "      /* Index of renderer in `output_area.display_order` */\n",
       "      index: 0\n",
       "    });\n",
       "  }\n",
       "\n",
       "  // register the mime type if in Jupyter Notebook environment and previously unregistered\n",
       "  if (root.Jupyter !== undefined) {\n",
       "    var events = require('base/js/events');\n",
       "    var OutputArea = require('notebook/js/outputarea').OutputArea;\n",
       "\n",
       "    if (OutputArea.prototype.mime_types().indexOf(EXEC_MIME_TYPE) == -1) {\n",
       "      register_renderer(events, OutputArea);\n",
       "    }\n",
       "  }\n",
       "\n",
       "  \n",
       "  if (typeof (root._bokeh_timeout) === \"undefined\" || force === true) {\n",
       "    root._bokeh_timeout = Date.now() + 5000;\n",
       "    root._bokeh_failed_load = false;\n",
       "  }\n",
       "\n",
       "  var NB_LOAD_WARNING = {'data': {'text/html':\n",
       "     \"<div style='background-color: #fdd'>\\n\"+\n",
       "     \"<p>\\n\"+\n",
       "     \"BokehJS does not appear to have successfully loaded. If loading BokehJS from CDN, this \\n\"+\n",
       "     \"may be due to a slow or bad network connection. Possible fixes:\\n\"+\n",
       "     \"</p>\\n\"+\n",
       "     \"<ul>\\n\"+\n",
       "     \"<li>re-rerun `output_notebook()` to attempt to load from CDN again, or</li>\\n\"+\n",
       "     \"<li>use INLINE resources instead, as so:</li>\\n\"+\n",
       "     \"</ul>\\n\"+\n",
       "     \"<code>\\n\"+\n",
       "     \"from bokeh.resources import INLINE\\n\"+\n",
       "     \"output_notebook(resources=INLINE)\\n\"+\n",
       "     \"</code>\\n\"+\n",
       "     \"</div>\"}};\n",
       "\n",
       "  function display_loaded() {\n",
       "    var el = document.getElementById(\"1001\");\n",
       "    if (el != null) {\n",
       "      el.textContent = \"BokehJS is loading...\";\n",
       "    }\n",
       "    if (root.Bokeh !== undefined) {\n",
       "      if (el != null) {\n",
       "        el.textContent = \"BokehJS \" + root.Bokeh.version + \" successfully loaded.\";\n",
       "      }\n",
       "    } else if (Date.now() < root._bokeh_timeout) {\n",
       "      setTimeout(display_loaded, 100)\n",
       "    }\n",
       "  }\n",
       "\n",
       "\n",
       "  function run_callbacks() {\n",
       "    try {\n",
       "      root._bokeh_onload_callbacks.forEach(function(callback) {\n",
       "        if (callback != null)\n",
       "          callback();\n",
       "      });\n",
       "    } finally {\n",
       "      delete root._bokeh_onload_callbacks\n",
       "    }\n",
       "    console.debug(\"Bokeh: all callbacks have finished\");\n",
       "  }\n",
       "\n",
       "  function load_libs(css_urls, js_urls, callback) {\n",
       "    if (css_urls == null) css_urls = [];\n",
       "    if (js_urls == null) js_urls = [];\n",
       "\n",
       "    root._bokeh_onload_callbacks.push(callback);\n",
       "    if (root._bokeh_is_loading > 0) {\n",
       "      console.debug(\"Bokeh: BokehJS is being loaded, scheduling callback at\", now());\n",
       "      return null;\n",
       "    }\n",
       "    if (js_urls == null || js_urls.length === 0) {\n",
       "      run_callbacks();\n",
       "      return null;\n",
       "    }\n",
       "    console.debug(\"Bokeh: BokehJS not loaded, scheduling load and callback at\", now());\n",
       "    root._bokeh_is_loading = css_urls.length + js_urls.length;\n",
       "\n",
       "    function on_load() {\n",
       "      root._bokeh_is_loading--;\n",
       "      if (root._bokeh_is_loading === 0) {\n",
       "        console.debug(\"Bokeh: all BokehJS libraries/stylesheets loaded\");\n",
       "        run_callbacks()\n",
       "      }\n",
       "    }\n",
       "\n",
       "    function on_error() {\n",
       "      console.error(\"failed to load \" + url);\n",
       "    }\n",
       "\n",
       "    for (var i = 0; i < css_urls.length; i++) {\n",
       "      var url = css_urls[i];\n",
       "      const element = document.createElement(\"link\");\n",
       "      element.onload = on_load;\n",
       "      element.onerror = on_error;\n",
       "      element.rel = \"stylesheet\";\n",
       "      element.type = \"text/css\";\n",
       "      element.href = url;\n",
       "      console.debug(\"Bokeh: injecting link tag for BokehJS stylesheet: \", url);\n",
       "      document.body.appendChild(element);\n",
       "    }\n",
       "\n",
       "    for (var i = 0; i < js_urls.length; i++) {\n",
       "      var url = js_urls[i];\n",
       "      var element = document.createElement('script');\n",
       "      element.onload = on_load;\n",
       "      element.onerror = on_error;\n",
       "      element.async = false;\n",
       "      element.src = url;\n",
       "      console.debug(\"Bokeh: injecting script tag for BokehJS library: \", url);\n",
       "      document.head.appendChild(element);\n",
       "    }\n",
       "  };var element = document.getElementById(\"1001\");\n",
       "  if (element == null) {\n",
       "    console.error(\"Bokeh: ERROR: autoload.js configured with elementid '1001' but no matching script tag was found. \")\n",
       "    return false;\n",
       "  }\n",
       "\n",
       "  function inject_raw_css(css) {\n",
       "    const element = document.createElement(\"style\");\n",
       "    element.appendChild(document.createTextNode(css));\n",
       "    document.body.appendChild(element);\n",
       "  }\n",
       "\n",
       "  \n",
       "  var js_urls = [\"https://cdn.pydata.org/bokeh/release/bokeh-1.4.0.min.js\", \"https://cdn.pydata.org/bokeh/release/bokeh-widgets-1.4.0.min.js\", \"https://cdn.pydata.org/bokeh/release/bokeh-tables-1.4.0.min.js\", \"https://cdn.pydata.org/bokeh/release/bokeh-gl-1.4.0.min.js\"];\n",
       "  var css_urls = [];\n",
       "  \n",
       "\n",
       "  var inline_js = [\n",
       "    function(Bokeh) {\n",
       "      Bokeh.set_log_level(\"info\");\n",
       "    },\n",
       "    function(Bokeh) {\n",
       "    \n",
       "    \n",
       "    }\n",
       "  ];\n",
       "\n",
       "  function run_inline_js() {\n",
       "    \n",
       "    if (root.Bokeh !== undefined || force === true) {\n",
       "      \n",
       "    for (var i = 0; i < inline_js.length; i++) {\n",
       "      inline_js[i].call(root, root.Bokeh);\n",
       "    }\n",
       "    if (force === true) {\n",
       "        display_loaded();\n",
       "      }} else if (Date.now() < root._bokeh_timeout) {\n",
       "      setTimeout(run_inline_js, 100);\n",
       "    } else if (!root._bokeh_failed_load) {\n",
       "      console.log(\"Bokeh: BokehJS failed to load within specified timeout.\");\n",
       "      root._bokeh_failed_load = true;\n",
       "    } else if (force !== true) {\n",
       "      var cell = $(document.getElementById(\"1001\")).parents('.cell').data().cell;\n",
       "      cell.output_area.append_execute_result(NB_LOAD_WARNING)\n",
       "    }\n",
       "\n",
       "  }\n",
       "\n",
       "  if (root._bokeh_is_loading === 0) {\n",
       "    console.debug(\"Bokeh: BokehJS loaded, going straight to plotting\");\n",
       "    run_inline_js();\n",
       "  } else {\n",
       "    load_libs(css_urls, js_urls, function() {\n",
       "      console.debug(\"Bokeh: BokehJS plotting callback run at\", now());\n",
       "      run_inline_js();\n",
       "    });\n",
       "  }\n",
       "}(window));"
      ],
      "application/vnd.bokehjs_load.v0+json": "\n(function(root) {\n  function now() {\n    return new Date();\n  }\n\n  var force = true;\n\n  if (typeof root._bokeh_onload_callbacks === \"undefined\" || force === true) {\n    root._bokeh_onload_callbacks = [];\n    root._bokeh_is_loading = undefined;\n  }\n\n  \n\n  \n  if (typeof (root._bokeh_timeout) === \"undefined\" || force === true) {\n    root._bokeh_timeout = Date.now() + 5000;\n    root._bokeh_failed_load = false;\n  }\n\n  var NB_LOAD_WARNING = {'data': {'text/html':\n     \"<div style='background-color: #fdd'>\\n\"+\n     \"<p>\\n\"+\n     \"BokehJS does not appear to have successfully loaded. If loading BokehJS from CDN, this \\n\"+\n     \"may be due to a slow or bad network connection. Possible fixes:\\n\"+\n     \"</p>\\n\"+\n     \"<ul>\\n\"+\n     \"<li>re-rerun `output_notebook()` to attempt to load from CDN again, or</li>\\n\"+\n     \"<li>use INLINE resources instead, as so:</li>\\n\"+\n     \"</ul>\\n\"+\n     \"<code>\\n\"+\n     \"from bokeh.resources import INLINE\\n\"+\n     \"output_notebook(resources=INLINE)\\n\"+\n     \"</code>\\n\"+\n     \"</div>\"}};\n\n  function display_loaded() {\n    var el = document.getElementById(\"1001\");\n    if (el != null) {\n      el.textContent = \"BokehJS is loading...\";\n    }\n    if (root.Bokeh !== undefined) {\n      if (el != null) {\n        el.textContent = \"BokehJS \" + root.Bokeh.version + \" successfully loaded.\";\n      }\n    } else if (Date.now() < root._bokeh_timeout) {\n      setTimeout(display_loaded, 100)\n    }\n  }\n\n\n  function run_callbacks() {\n    try {\n      root._bokeh_onload_callbacks.forEach(function(callback) {\n        if (callback != null)\n          callback();\n      });\n    } finally {\n      delete root._bokeh_onload_callbacks\n    }\n    console.debug(\"Bokeh: all callbacks have finished\");\n  }\n\n  function load_libs(css_urls, js_urls, callback) {\n    if (css_urls == null) css_urls = [];\n    if (js_urls == null) js_urls = [];\n\n    root._bokeh_onload_callbacks.push(callback);\n    if (root._bokeh_is_loading > 0) {\n      console.debug(\"Bokeh: BokehJS is being loaded, scheduling callback at\", now());\n      return null;\n    }\n    if (js_urls == null || js_urls.length === 0) {\n      run_callbacks();\n      return null;\n    }\n    console.debug(\"Bokeh: BokehJS not loaded, scheduling load and callback at\", now());\n    root._bokeh_is_loading = css_urls.length + js_urls.length;\n\n    function on_load() {\n      root._bokeh_is_loading--;\n      if (root._bokeh_is_loading === 0) {\n        console.debug(\"Bokeh: all BokehJS libraries/stylesheets loaded\");\n        run_callbacks()\n      }\n    }\n\n    function on_error() {\n      console.error(\"failed to load \" + url);\n    }\n\n    for (var i = 0; i < css_urls.length; i++) {\n      var url = css_urls[i];\n      const element = document.createElement(\"link\");\n      element.onload = on_load;\n      element.onerror = on_error;\n      element.rel = \"stylesheet\";\n      element.type = \"text/css\";\n      element.href = url;\n      console.debug(\"Bokeh: injecting link tag for BokehJS stylesheet: \", url);\n      document.body.appendChild(element);\n    }\n\n    for (var i = 0; i < js_urls.length; i++) {\n      var url = js_urls[i];\n      var element = document.createElement('script');\n      element.onload = on_load;\n      element.onerror = on_error;\n      element.async = false;\n      element.src = url;\n      console.debug(\"Bokeh: injecting script tag for BokehJS library: \", url);\n      document.head.appendChild(element);\n    }\n  };var element = document.getElementById(\"1001\");\n  if (element == null) {\n    console.error(\"Bokeh: ERROR: autoload.js configured with elementid '1001' but no matching script tag was found. \")\n    return false;\n  }\n\n  function inject_raw_css(css) {\n    const element = document.createElement(\"style\");\n    element.appendChild(document.createTextNode(css));\n    document.body.appendChild(element);\n  }\n\n  \n  var js_urls = [\"https://cdn.pydata.org/bokeh/release/bokeh-1.4.0.min.js\", \"https://cdn.pydata.org/bokeh/release/bokeh-widgets-1.4.0.min.js\", \"https://cdn.pydata.org/bokeh/release/bokeh-tables-1.4.0.min.js\", \"https://cdn.pydata.org/bokeh/release/bokeh-gl-1.4.0.min.js\"];\n  var css_urls = [];\n  \n\n  var inline_js = [\n    function(Bokeh) {\n      Bokeh.set_log_level(\"info\");\n    },\n    function(Bokeh) {\n    \n    \n    }\n  ];\n\n  function run_inline_js() {\n    \n    if (root.Bokeh !== undefined || force === true) {\n      \n    for (var i = 0; i < inline_js.length; i++) {\n      inline_js[i].call(root, root.Bokeh);\n    }\n    if (force === true) {\n        display_loaded();\n      }} else if (Date.now() < root._bokeh_timeout) {\n      setTimeout(run_inline_js, 100);\n    } else if (!root._bokeh_failed_load) {\n      console.log(\"Bokeh: BokehJS failed to load within specified timeout.\");\n      root._bokeh_failed_load = true;\n    } else if (force !== true) {\n      var cell = $(document.getElementById(\"1001\")).parents('.cell').data().cell;\n      cell.output_area.append_execute_result(NB_LOAD_WARNING)\n    }\n\n  }\n\n  if (root._bokeh_is_loading === 0) {\n    console.debug(\"Bokeh: BokehJS loaded, going straight to plotting\");\n    run_inline_js();\n  } else {\n    load_libs(css_urls, js_urls, function() {\n      console.debug(\"Bokeh: BokehJS plotting callback run at\", now());\n      run_inline_js();\n    });\n  }\n}(window));"
     },
     "metadata": {},
     "output_type": "display_data"
    }
   ],
   "source": [
    "#run bokeh\n",
    "from bokeh.plotting import figure,show\n",
    "from bokeh.io import output_notebook #outputs bokeh to notebook\n",
    "output_notebook() #this is the command to tell bokeh to output into the jupyterlab notebook"
   ]
  },
  {
   "cell_type": "markdown",
   "metadata": {},
   "source": [
    "### Import useful libraries"
   ]
  },
  {
   "cell_type": "code",
   "execution_count": 3,
   "metadata": {},
   "outputs": [
    {
     "name": "stdout",
     "output_type": "stream",
     "text": [
      "The autoreload extension is already loaded. To reload it, use:\n",
      "  %reload_ext autoreload\n"
     ]
    }
   ],
   "source": [
    "import datacube\n",
    "import datetime\n",
    "import fiona\n",
    "import geopandas as gpd\n",
    "import os\n",
    "import glob\n",
    "import numpy as np\n",
    "import pandas as pd\n",
    "\n",
    "import rasterio.mask\n",
    "import rasterio.features\n",
    "import seaborn as sns\n",
    "from shapely import geometry\n",
    "import sys\n",
    "import xarray as xr\n",
    "\n",
    "from datetime import datetime, timedelta\n",
    "import matplotlib.dates as mdates\n",
    "import matplotlib.gridspec as gridspec\n",
    "import matplotlib.pyplot as plt\n",
    "from matplotlib.patches import Rectangle\n",
    "from textwrap import wrap\n",
    "\n",
    "from datacube.storage import masking\n",
    "from datacube.utils import geometry\n",
    "from datacube.utils.geometry import CRS\n",
    "from digitalearthau.utils import wofs_fuser\n",
    "\n",
    "\n",
    "dc = datacube.Datacube(app='wetlands insight tool')\n",
    "%load_ext autoreload\n",
    "%autoreload 2\n",
    "\n",
    "# there are functions in here you need\n",
    "sys.path.append('/g/data/r78/rjd547/jupyter_notebooks/dea-notebooks/10_Scripts')\n",
    "import DEADataHandling, DEAPlotting, TasseledCapTools, WetlandsTools, SpatialTools, wetlands_insight\n",
    "\n",
    "#get the newest version of dea_datahandling. You may need to move the pointer below to your version\n",
    "sys.path.append('/g/data/r78/rjd547/jupyter_notebooks/dea-notebooks/Scripts')\n",
    "import dea_datahandling\n",
    "\n",
    "dc = datacube.Datacube(app='wetlands insight tool')\n",
    "%load_ext autoreload\n",
    "%autoreload 2"
   ]
  },
  {
   "cell_type": "code",
   "execution_count": 21,
   "metadata": {},
   "outputs": [],
   "source": [
    "#set input directory\n",
    "# global Input_dir\n",
    "#Input_dir = '/g/data/r78/rjd547/Ramsar_Wetlands/Wetlands_Insight_Tool_v2/'\n",
    "#lake hattah test\n",
    "Input_dir = '/g/data/u46/users/ea6141/wlinsight/ramsar/test/'\n"
   ]
  },
  {
   "cell_type": "markdown",
   "metadata": {},
   "source": [
    "### list available sites to plot"
   ]
  },
  {
   "cell_type": "code",
   "execution_count": 22,
   "metadata": {},
   "outputs": [],
   "source": [
    "#change to the input directory\n",
    "os.chdir(Input_dir)"
   ]
  },
  {
   "cell_type": "code",
   "execution_count": 23,
   "metadata": {},
   "outputs": [
    {
     "name": "stdout",
     "output_type": "stream",
     "text": [
      "Hattah-Kulkyne Lakes_Lake Hattah_VIC_16.csv\n"
     ]
    }
   ],
   "source": [
    "#print all files\n",
    "for file in glob.glob(\"*.png\"):\n",
    "    print(file)  "
   ]
  },
  {
   "cell_type": "markdown",
   "metadata": {},
   "source": [
    "to use Emma's Ramsar runs, go to http://terria-cube.terria.io/#share=s-kdYVC1Nmf22OUh3fDa5fYSOOO1K and use the filename of the csv file you can download to work out which of these is your wetland of choice"
   ]
  },
  {
   "cell_type": "code",
   "execution_count": 25,
   "metadata": {},
   "outputs": [],
   "source": [
    "#alternatively, print the files you want only\n",
    "search_term = '16'\n",
    "for file in glob.glob(f\"{search_term}.png\"):\n",
    "    print(file)"
   ]
  },
  {
   "cell_type": "code",
   "execution_count": 26,
   "metadata": {},
   "outputs": [
    {
     "name": "stdout",
     "output_type": "stream",
     "text": [
      "Hattah-Kulkyne Lakes_Lake Hattah_VIC_16.csv\n"
     ]
    }
   ],
   "source": [
    "input_file =  str(file)\n",
    "print(input_file)"
   ]
  },
  {
   "cell_type": "code",
   "execution_count": 27,
   "metadata": {},
   "outputs": [],
   "source": [
    "#read in your desired csv of the WIT data. Rename the columns so they are easier to understand and plot \n",
    "WITdata = pd.read_csv(Input_dir+input_file,\n",
    "                     index_col=0, infer_datetime_format=True)\n",
    "\n",
    "#give the index a name that reflects that it is time, measured in UTC not AEDT/AEST\n",
    "WITdata.index.names = ['utc_time']\n",
    "\n",
    "#format the index of the dataframe as a date, not as a string\n",
    "WITdata.index = pd.to_datetime(WITdata.index)\n",
    "#Rename the columns so they are easier to understand and plot\n",
    "WITdata = WITdata.rename(columns={\"WATER\" : \"water\", \n",
    "                        \"WET\" : \"wet\",\n",
    "                       \"PV\" : \"green\",\n",
    "                       \"NPV\" : \"dry\",\n",
    "                       \"BS\" : \"bare\"}) \n",
    "#WITdata.head()"
   ]
  },
  {
   "cell_type": "code",
   "execution_count": 28,
   "metadata": {},
   "outputs": [],
   "source": [
    "#converting to percentages to make plotting easier\n",
    "WITdata = WITdata*100\n",
    "#WITdata.head()"
   ]
  },
  {
   "cell_type": "code",
   "execution_count": 29,
   "metadata": {},
   "outputs": [],
   "source": [
    "#set up colour palette for our plots\n",
    "pal = [sns.xkcd_rgb[\"cobalt blue\"],\n",
    "       sns.xkcd_rgb[\"neon blue\"],\n",
    "       sns.xkcd_rgb[\"grass\"],\n",
    "       sns.xkcd_rgb[\"beige\"],\n",
    "       sns.xkcd_rgb[\"brown\"]]  "
   ]
  },
  {
   "cell_type": "markdown",
   "metadata": {},
   "source": [
    "### Set up the title for the plot here:"
   ]
  },
  {
   "cell_type": "code",
   "execution_count": 30,
   "metadata": {},
   "outputs": [],
   "source": [
    "polyName = input_file #change this as appropriate"
   ]
  },
  {
   "cell_type": "code",
   "execution_count": 31,
   "metadata": {},
   "outputs": [],
   "source": [
    "# #take the name of the polygon and add something else to it\n",
    "# polyName=search_term+\"?\"\n",
    "# polyName=polyName.replace(\"'\",\"\\\\'\")\n",
    "# title=\"\\n\".join(wrap(f'Percentage of area WOfS, Wetness, Fractional Cover for {polyName}'))"
   ]
  },
  {
   "cell_type": "code",
   "execution_count": 32,
   "metadata": {},
   "outputs": [
    {
     "data": {
      "text/html": [
       "\n",
       "\n",
       "\n",
       "\n",
       "\n",
       "\n",
       "  <div class=\"bk-root\" id=\"a9342639-0e9a-45d6-8654-e344a3594817\" data-root-id=\"1002\"></div>\n"
      ]
     },
     "metadata": {},
     "output_type": "display_data"
    },
    {
     "data": {
      "application/javascript": [
       "(function(root) {\n",
       "  function embed_document(root) {\n",
       "    \n",
       "  var docs_json = {\"3755230e-c2e4-4dd4-bec0-5999b31ef1d0\":{\"roots\":{\"references\":[{\"attributes\":{\"below\":[{\"id\":\"1013\",\"type\":\"DatetimeAxis\"},{\"id\":\"1036\",\"type\":\"Label\"}],\"center\":[{\"id\":\"1017\",\"type\":\"Grid\"},{\"id\":\"1022\",\"type\":\"Grid\"},{\"id\":\"1073\",\"type\":\"Legend\"}],\"left\":[{\"id\":\"1018\",\"type\":\"LinearAxis\"}],\"plot_height\":400,\"plot_width\":1200,\"renderers\":[{\"id\":\"1054\",\"type\":\"GlyphRenderer\"},{\"id\":\"1080\",\"type\":\"GlyphRenderer\"},{\"id\":\"1107\",\"type\":\"GlyphRenderer\"},{\"id\":\"1136\",\"type\":\"GlyphRenderer\"},{\"id\":\"1167\",\"type\":\"GlyphRenderer\"},{\"id\":\"1200\",\"type\":\"GlyphRenderer\"}],\"sizing_mode\":\"scale_width\",\"title\":{\"id\":\"1003\",\"type\":\"Title\"},\"toolbar\":{\"id\":\"1029\",\"type\":\"Toolbar\"},\"x_range\":{\"id\":\"1195\",\"type\":\"Range1d\"},\"x_scale\":{\"id\":\"1009\",\"type\":\"LinearScale\"},\"y_range\":{\"id\":\"1196\",\"type\":\"Range1d\"},\"y_scale\":{\"id\":\"1011\",\"type\":\"LinearScale\"}},\"id\":\"1002\",\"subtype\":\"Figure\",\"type\":\"Plot\"},{\"attributes\":{\"fill_alpha\":0.1,\"fill_color\":\"#1f77b4\",\"x\":{\"field\":\"utc_time\"},\"y1\":{\"expr\":{\"id\":\"1041\",\"type\":\"Stack\"}},\"y2\":{\"expr\":{\"id\":\"1042\",\"type\":\"Stack\"}}},\"id\":\"1078\",\"type\":\"VArea\"},{\"attributes\":{\"fill_alpha\":{\"value\":0.1},\"fill_color\":{\"value\":\"#1f77b4\"},\"hatch_alpha\":{\"value\":0.6},\"hatch_color\":{\"value\":\"white\"},\"hatch_pattern\":{\"value\":\"/\"},\"height\":{\"value\":100},\"left\":{\"value\":1320105600000.0},\"line_alpha\":{\"value\":0.1},\"line_color\":{\"value\":\"#1f77b4\"},\"line_width\":{\"value\":2},\"right\":{\"value\":1364774400000.0},\"y\":{\"value\":50}},\"id\":\"1199\",\"type\":\"HBar\"},{\"attributes\":{\"fill_alpha\":{\"value\":0.5},\"fill_color\":{\"value\":\"white\"},\"hatch_alpha\":{\"value\":0.6},\"hatch_color\":{\"value\":\"white\"},\"hatch_pattern\":{\"value\":\"/\"},\"height\":{\"value\":100},\"left\":{\"value\":1320105600000.0},\"line_alpha\":{\"value\":0.6},\"line_color\":{\"value\":\"white\"},\"line_width\":{\"value\":2},\"right\":{\"value\":1364774400000.0},\"y\":{\"value\":50}},\"id\":\"1198\",\"type\":\"HBar\"},{\"attributes\":{\"active_drag\":\"auto\",\"active_inspect\":\"auto\",\"active_multi\":null,\"active_scroll\":\"auto\",\"active_tap\":\"auto\",\"tools\":[{\"id\":\"1023\",\"type\":\"PanTool\"},{\"id\":\"1024\",\"type\":\"WheelZoomTool\"},{\"id\":\"1025\",\"type\":\"BoxZoomTool\"},{\"id\":\"1026\",\"type\":\"ResetTool\"},{\"id\":\"1027\",\"type\":\"TapTool\"},{\"id\":\"1028\",\"type\":\"SaveTool\"}]},\"id\":\"1029\",\"type\":\"Toolbar\"},{\"attributes\":{\"fill_alpha\":0.2,\"fill_color\":\"grey\",\"x\":{\"field\":\"utc_time\"},\"y1\":{\"expr\":{\"id\":\"1041\",\"type\":\"Stack\"}},\"y2\":{\"expr\":{\"id\":\"1042\",\"type\":\"Stack\"}}},\"id\":\"1079\",\"type\":\"VArea\"},{\"attributes\":{\"fields\":[\"water\"]},\"id\":\"1040\",\"type\":\"Stack\"},{\"attributes\":{\"data_source\":{\"id\":\"1075\",\"type\":\"ColumnDataSource\"},\"glyph\":{\"id\":\"1077\",\"type\":\"VArea\"},\"hover_glyph\":null,\"muted_glyph\":{\"id\":\"1079\",\"type\":\"VArea\"},\"name\":\"wet\",\"nonselection_glyph\":{\"id\":\"1078\",\"type\":\"VArea\"},\"selection_glyph\":null,\"view\":{\"id\":\"1081\",\"type\":\"CDSView\"}},\"id\":\"1080\",\"type\":\"GlyphRenderer\"},{\"attributes\":{\"data_source\":{\"id\":\"1197\",\"type\":\"ColumnDataSource\"},\"glyph\":{\"id\":\"1198\",\"type\":\"HBar\"},\"hover_glyph\":null,\"muted_glyph\":null,\"nonselection_glyph\":{\"id\":\"1199\",\"type\":\"HBar\"},\"selection_glyph\":null,\"view\":{\"id\":\"1201\",\"type\":\"CDSView\"}},\"id\":\"1200\",\"type\":\"GlyphRenderer\"},{\"attributes\":{\"source\":{\"id\":\"1075\",\"type\":\"ColumnDataSource\"}},\"id\":\"1081\",\"type\":\"CDSView\"},{\"attributes\":{\"fields\":[\"water\"]},\"id\":\"1041\",\"type\":\"Stack\"},{\"attributes\":{},\"id\":\"1099\",\"type\":\"Selection\"},{\"attributes\":{\"fields\":[\"water\",\"wet\"]},\"id\":\"1042\",\"type\":\"Stack\"},{\"attributes\":{\"source\":{\"id\":\"1197\",\"type\":\"ColumnDataSource\"}},\"id\":\"1201\",\"type\":\"CDSView\"},{\"attributes\":{\"fields\":[\"water\",\"wet\"]},\"id\":\"1043\",\"type\":\"Stack\"},{\"attributes\":{},\"id\":\"1100\",\"type\":\"UnionRenderers\"},{\"attributes\":{\"label\":{\"value\":\"wet\"},\"renderers\":[{\"id\":\"1080\",\"type\":\"GlyphRenderer\"}]},\"id\":\"1101\",\"type\":\"LegendItem\"},{\"attributes\":{\"fields\":[\"water\",\"wet\",\"green\"]},\"id\":\"1044\",\"type\":\"Stack\"},{\"attributes\":{},\"id\":\"1229\",\"type\":\"Selection\"},{\"attributes\":{},\"id\":\"1230\",\"type\":\"UnionRenderers\"},{\"attributes\":{\"callback\":null,\"data\":{\"bare\":{\"__ndarray__\":\"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\",\"dtype\":\"float64\",\"shape\":[386]},\"dry\":{\"__ndarray__\":\"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\",\"dtype\":\"float64\",\"shape\":[386]},\"green\":{\"__ndarray__\":\"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\",\"dtype\":\"float64\",\"shape\":[386]},\"utc_time\":{\"__ndarray__\":\"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\",\"dtype\":\"float64\",\"shape\":[386]},\"water\":{\"__ndarray__\":\"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\",\"dtype\":\"float64\",\"shape\":[386]},\"wet\":{\"__ndarray__\":\"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\",\"dtype\":\"float64\",\"shape\":[386]}},\"selected\":{\"id\":\"1159\",\"type\":\"Selection\"},\"selection_policy\":{\"id\":\"1160\",\"type\":\"UnionRenderers\"}},\"id\":\"1102\",\"type\":\"ColumnDataSource\"},{\"attributes\":{\"fields\":[\"water\",\"wet\",\"green\"]},\"id\":\"1045\",\"type\":\"Stack\"},{\"attributes\":{\"fields\":[\"water\",\"wet\",\"green\",\"dry\"]},\"id\":\"1046\",\"type\":\"Stack\"},{\"attributes\":{},\"id\":\"1228\",\"type\":\"UnionRenderers\"},{\"attributes\":{\"callback\":null,\"data\":{\"bare\":{\"__ndarray__\":\"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\",\"dtype\":\"float64\",\"shape\":[386]},\"dry\":{\"__ndarray__\":\"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\",\"dtype\":\"float64\",\"shape\":[386]},\"green\":{\"__ndarray__\":\"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\",\"dtype\":\"float64\",\"shape\":[386]},\"utc_time\":{\"__ndarray__\":\"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\",\"dtype\":\"float64\",\"shape\":[386]},\"water\":{\"__ndarray__\":\"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\",\"dtype\":\"float64\",\"shape\":[386]},\"wet\":{\"__ndarray__\":\"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\",\"dtype\":\"float64\",\"shape\":[386]}},\"selected\":{\"id\":\"1099\",\"type\":\"Selection\"},\"selection_policy\":{\"id\":\"1100\",\"type\":\"UnionRenderers\"}},\"id\":\"1049\",\"type\":\"ColumnDataSource\"},{\"attributes\":{\"fill_alpha\":0.1,\"fill_color\":\"#1f77b4\",\"x\":{\"field\":\"utc_time\"},\"y1\":{\"expr\":{\"id\":\"1043\",\"type\":\"Stack\"}},\"y2\":{\"expr\":{\"id\":\"1044\",\"type\":\"Stack\"}}},\"id\":\"1105\",\"type\":\"VArea\"},{\"attributes\":{\"fill_alpha\":0.2,\"fill_color\":\"grey\",\"x\":{\"field\":\"utc_time\"},\"y1\":{\"expr\":{\"id\":\"1043\",\"type\":\"Stack\"}},\"y2\":{\"expr\":{\"id\":\"1044\",\"type\":\"Stack\"}}},\"id\":\"1106\",\"type\":\"VArea\"},{\"attributes\":{\"fields\":[\"water\",\"wet\",\"green\",\"dry\"]},\"id\":\"1047\",\"type\":\"Stack\"},{\"attributes\":{\"fill_alpha\":0.7,\"fill_color\":\"#5cac2d\",\"x\":{\"field\":\"utc_time\"},\"y1\":{\"expr\":{\"id\":\"1043\",\"type\":\"Stack\"}},\"y2\":{\"expr\":{\"id\":\"1044\",\"type\":\"Stack\"}}},\"id\":\"1104\",\"type\":\"VArea\"},{\"attributes\":{\"fields\":[\"water\",\"wet\",\"green\",\"dry\",\"bare\"]},\"id\":\"1048\",\"type\":\"Stack\"},{\"attributes\":{\"data_source\":{\"id\":\"1102\",\"type\":\"ColumnDataSource\"},\"glyph\":{\"id\":\"1104\",\"type\":\"VArea\"},\"hover_glyph\":null,\"muted_glyph\":{\"id\":\"1106\",\"type\":\"VArea\"},\"name\":\"green\",\"nonselection_glyph\":{\"id\":\"1105\",\"type\":\"VArea\"},\"selection_glyph\":null,\"view\":{\"id\":\"1108\",\"type\":\"CDSView\"}},\"id\":\"1107\",\"type\":\"GlyphRenderer\"},{\"attributes\":{\"fill_alpha\":0.7,\"fill_color\":\"#030aa7\",\"x\":{\"field\":\"utc_time\"},\"y1\":{\"expr\":{\"id\":\"1039\",\"type\":\"Stack\"}},\"y2\":{\"expr\":{\"id\":\"1040\",\"type\":\"Stack\"}}},\"id\":\"1051\",\"type\":\"VArea\"},{\"attributes\":{\"source\":{\"id\":\"1102\",\"type\":\"ColumnDataSource\"}},\"id\":\"1108\",\"type\":\"CDSView\"},{\"attributes\":{\"data_source\":{\"id\":\"1049\",\"type\":\"ColumnDataSource\"},\"glyph\":{\"id\":\"1051\",\"type\":\"VArea\"},\"hover_glyph\":null,\"muted_glyph\":{\"id\":\"1053\",\"type\":\"VArea\"},\"name\":\"water\",\"nonselection_glyph\":{\"id\":\"1052\",\"type\":\"VArea\"},\"selection_glyph\":null,\"view\":{\"id\":\"1055\",\"type\":\"CDSView\"}},\"id\":\"1054\",\"type\":\"GlyphRenderer\"},{\"attributes\":{\"fill_alpha\":0.1,\"fill_color\":\"#1f77b4\",\"x\":{\"field\":\"utc_time\"},\"y1\":{\"expr\":{\"id\":\"1039\",\"type\":\"Stack\"}},\"y2\":{\"expr\":{\"id\":\"1040\",\"type\":\"Stack\"}}},\"id\":\"1052\",\"type\":\"VArea\"},{\"attributes\":{},\"id\":\"1129\",\"type\":\"UnionRenderers\"},{\"attributes\":{\"label\":{\"value\":\"green\"},\"renderers\":[{\"id\":\"1107\",\"type\":\"GlyphRenderer\"}]},\"id\":\"1130\",\"type\":\"LegendItem\"},{\"attributes\":{\"fill_alpha\":0.2,\"fill_color\":\"grey\",\"x\":{\"field\":\"utc_time\"},\"y1\":{\"expr\":{\"id\":\"1039\",\"type\":\"Stack\"}},\"y2\":{\"expr\":{\"id\":\"1040\",\"type\":\"Stack\"}}},\"id\":\"1053\",\"type\":\"VArea\"},{\"attributes\":{\"source\":{\"id\":\"1049\",\"type\":\"ColumnDataSource\"}},\"id\":\"1055\",\"type\":\"CDSView\"},{\"attributes\":{\"callback\":null,\"data\":{\"bare\":{\"__ndarray__\":\"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\",\"dtype\":\"float64\",\"shape\":[386]},\"dry\":{\"__ndarray__\":\"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\",\"dtype\":\"float64\",\"shape\":[386]},\"green\":{\"__ndarray__\":\"jMbW9v0b/z+6tu/f+OEAQH2ql1qiBwNAhOIVk1kwC0Dv+zd+OLcSQCvPn+qllhZA56QkCJADG0COrl/caVAaQDDTZ2xt3x1Ar2BOSoIAIEA4Jtm89osmQOCJV0xmwR5A8hd3GpTLGkASsAqttAsdQBsHHiNdvxpAQJvpM7a2JUAMc1ISBMgoQJwJO9TZTChAwM/Y2r5/KEDfZ2xt378oQGBInj/VSylAse5tGLCKMkCSAh2xfA04QFiCADnwmDtAwSsms2BO6j+otAsflT3RP7CYzII5Kek/Je3CR2VP9D+bdP3iToPyP9illujB1fw/ZYsCHbF8/T/s7APSY9wGQK1bFOiI5fs/XWilXfioAEDG8jWad1P8PwodsXyN5v0/NGTd2zBgxT90N0VInj/FPxqxfI3m3eQ/+4yt7fs37j/Q2UyfsbXtP5FYvkbzbuo/LtGDqwk79D98Hepsps/4P/5irSI6pf4/gqklenA1+T9QgBx4jHT1PzR+OLco0OE/52rCDnU20z8UIXn+VC/lP5fowdWEHeo/xtb2/Rs/7D+SXIbIurfxP1hk3dswYPU/xLq3YcAq5D/ycG5RoCP2P6npM7a27/c/ppbowdWE9T8AAAAAAADwP1GE5PlTvdQ/bGqJHlxNyD8pXb+406DMP2ExmQVzUuI/ZcAqtNIu7D+70Eq78FHxPwxWoZV24fM/flbahY/K9j/zC/V2QRv5P+vavn/jh/M/CMnzp3qp5T+aVtqFj8q+PwI4fji3KNA//arQSrvwwT+IV0xmwZzkP3walMsQWec/+1QvtUQP7j/REcvXaN7tP4oXvI41efE/OcYYY4wx+z9zADnwGOn6P5UiJM+f6gFAl+jB1YQd+j+q7m0YsAr1P4Y1YYc6m/k/OfNuipA89z8BBTpi+Rr9P6Ifzi0KdPQ/EbNgTkqC+D8bXb+406AAQFTYoc5m+gRAfB3qbKbPDEBAuJqwQ50RQM1m+oyt7RNAXtv3b/xwFkDeUGczfcbGPw1Z9zYMWOU/jwIdsXyN5j9o3k0RkufvPx8olyGy7vU/y35xp0G5/D+1Cx+VPfECQCO00i58VAZAtznzFBu/BkC9fI3m3RQFQFqeP9VLLcE/4sBjpOsX5z8zYBVaaRfeP43KnnjFZOY/d3A1YYc66z/DtAsflT3xP22JHlxN2PE/nF/caVAu8z+rIiTPn+r1P+oZW9v3bwBAZIsCHbF89T/Jat6s5s36PxqxfI3m3fw/qLV9/8YP9z8AAAAAAAD4P/TDuUWBjvg/UZ/N+P5IB0A9ZU+8YjIHQPio7IlXTA5AEK4m7FBnEUCLH84tCnQWQDL91gQBbBRAfTdFSJ4/E0BckOyu2VgSQLNf3GlQLhNASp4/1UstF0Cs53tTpAISQDhE1r0NAxhA+6d6qSV6HkACOfAY6fogQB/QKyT6kiFAbhN2qLOZJECQAavQSrsxQAx0xPI1GjRAKF+jeTdFJkBf8vypXmokQJB0/eJOgx5AlsbW9v0bJ0Bj+RrNuykWQF291BI9uCFAuQqttAsfHUDlhY/KnnggQONpUC5DZCdAZ/io7IlXLEDL2Nq+f2MwQAOYPWD2gC9AFW2vvCXhPUCByp54xeQ/QKdd+KjsiUBA5hYFOmL5QEBv/HBuUaA8QPpwblGgo0RAdOGjsifeQ0AGj5GuX5xCQLsLH5U9sUFA1Uq78FHZOkByADnwGGk7QL0NA1ahVUBAh+bdFCF5PEDJ1vb9G780QO/EKyazYA5ADuiI5Ws0G0DmwdWEHeoeQEK6fnGnQR9AHc27KULyHkDXg6sJO9QgQMS5RYGOWBxAgPm3vmmYLUDwb/xwblEgQMjzp3qpJSBAVYTk+VO9IUBH9VJL9OAlQK+COSkJAixAyYHHSNevMkD2jR/OLQo2QFRpFz4qezlABFn3NgzYPkBc2oWPyh5AQJZeUgcMpjxADnaos5k+PUBIoCOWr1E/QPuneqkl+jJAYN3bMGCVMUCVWqIHVxMxQP+pXmqJHjBA4BI9uJowNkDO2r5/44c7QCF5/lQvtUFAKOn6xZ2GQ0D5b/xwbtFEQJ124aOyZ0RA3TBgFVppQ0CMHlxN2KFDQFsvtUQPLjxA4f0bP5xbNkCslujB1QQzQBPkwy9TKTFAa6Vd+KjsMEC+Y6TrF/cxQHzcUlx/3jVAJFvb92/8MkAT5MBjpGsyQCDsUGcz/TdAcBToiOVrNEACAuTAY6QuQDDlMkTWvSdA3KQkCJADJ0Dxc8TyNZolQGWgI5av0S9AKAkC5MBjMEAkW9v3b/wwQF4xmQVzUjNAehsGrEKrMUB8HHiMdH0yQEuiB1cTdjpAFOUyRNY9OUAFOfAY6XpAQGfKqbstL0RAXZ9pa/xdQECcP9VLLZFAQE26fnGnwT5AHEAOPEa6PkDBEFn3Now7QCKYk5IgQCtAL9L1izsNIUBpwZyUBAEcQNMRy9do3hdAqrInXjGZF0Bu37/xw7kXQPGneqklehxAHrAKrbQLD0B7iwIdsXwNQCrsUGczfRBAtX5xp0G5EEBC1y/uNCgTQPWmCMnzpxxARmNr+/6NF0Dxp3qpJXocQPE0KJchshxA2EyfsbV9KEDHAFGKRcsaQFn2xCsmsxhAGOiI5Ws0G0CVRA+uJuwsQLl9/8YP5x5ANCiXIbLuLkCr6qWW6EE7QOluipA8fzpAtNG8myKkRkBiaRc+KvtIQNegXIbIOkZAlq/RvJsiQUB+/lQvtQRBQA51NtNn7ENAbDmPS9/+NUAKPbiasMNCQGOGyLq3YRpAeTi3KNARHUDjT/VSS/QaQEbWvQ0DVhtAfQA58BjpHkCbeMVkFswgQDOj9l5hJBxAf+OHc4sCI0DM7m0YsAolQClvVAs+8h5AgE2Tqgd8HUBXvdQSPbgQQAaRdW/DgAFAQn44tyjQCUBNKYnqQOT0P4Qwpzs1LS1AuoI5KQkC/D/wUdkTr5jsP1YRkudP9fI/mSGy7m0Y+D9yzgc1nQgAQHHho7InXglAwUJDkYhaFkA2hVArerT/P4WOWL5G8xJAaJBbDjsGCUAUlwzBOloWQCm66KKLLhpA2Qz7xRBhN0CkZcjuVuQtQJ8iJM+f6jVA2qJARyzfNkDT5RS8nEI7QEti+RrNOzdAISIJzol3OUABLk5rts84QFESBMiBxzlATTz6NZIyQUAd696GAStDQArHD+cWBURAe6dBuQyRQUCpz9javn8HQAsIkAOPkf4/OykJAuTA4z9Sn7G1ff/mP5o98YrJLOg/CQLkwGOk6z8u0vWLOw3qPxzqbKbP2Oo/kVi+RvNu6j9tiR5cTdjxPwAAAAAAAAAAGsvXaN5NwT/oiVdMZsHMP5jqpZbowdU/EcvXaN5N4T9B8vypXmrpPzbPn+qllvg/9cjzp3qp/T9x4aOyJ14BQL6Bx0jXLwpAk3bho7InEEBQL7VED64SQMdI1y/uNBZA0y58VPbEEUDobRiwCq0MQBs+KnviFRVA/lO91BI9GEAnJrNgTkoCQCrS9Ys7DQZA5k6DchkiC0ALc1ISBMgZQDxGun5xpxVAiB3qbKbPGEBGDjxGun4iQJ9pB/x4ESBAuL046827JUBPECAHHiMbQEPU2UyfsRlA9pdRENBcHEC/8cO5RYEeQMwlHpHU4BxAcaVd+KjsGUBhMZkFc1LCP3dxp0G5DNE/Ah+VPfGK+T8cBMiBx0j/P9MufFT2xAdAcxqUyxBZD0DXaVAuQ2QhQA3J86d6qQ1AGAU6YvkaEUDhokBHLF/jP1wwFDi4/yZA1jBgFVpppz8EWIVW2oX3P9Mi5lwQTeY/7Ps3fji36D/a3oYBq9D6Pxkkz5/qpQpAprOZPmNrHUCw0Eq78FERQG2JHlxN2BNAeOIVk1kwE0AmenA1YYcSQO4Y6frFnRZAx/I1mndTFkD1NgxYhVYYQIbk+VO91BZAqrInXjGZGUD5izsNymUaQOH5U73UEh1A7U/1Ukv0IUCJ+/6NH84nQPuQdW/DgCdAFpADj5GuLEC1Xfio7IkxQMQo0BHLVzFA8+Bqwg51MUDY9v0bP5wwQLYIyfOnejFAvw51NtNnM0BARUieP1UzQCgJAuTAYzNAoSOWr9G8MEC6yxBZ9zYvQA==\",\"dtype\":\"float64\",\"shape\":[386]},\"utc_time\":{\"__ndarray__\":\"AADMLdxGYEIAgCGvdVtgQgCAYnHCZWBCAAAuMUKZYEIAgBiv261gQgAAP2souGBCAIDoJnXCYEIAgNzgwcxgQgCAxJwO12BCAICmWVvhYEIAADJCjgphQgCAcPraFGFCAIDhbHQpYUIAgPMhwTNhQgCAiEanUmFCAADrsEBnYUIAgLhmjXFhQgCA1hnae2FCAIDuzSaGYUIAgHGFc5BhQgCAoTXAmmFCAICWklmvYUIAgDFGprlhQgCADqc/zmFCAIDsYnL3YUIAgHEYpSBiQgCAfxSLP2JCAIAJbiRUYkIAgPoRV31iQgCA3bmjh2JCAAAFYfCRYkIAgOoSPZxiQgCAzM+JpmJCAIDShtawYkIAgNj1b8ViQgCAbRpW5GJCAIAUPDwDY0IAgLXuiA1jQgCAVhFvLGNCAADzC6JVY0IAgJzH7l9jQgCAVIs7amNCAIBZD9V+Y0IAgBwOCKhjQgCABMpUsmNCAIDIi6G8Y0IAgFx91OVjQgCAi7K6BGRCAICFI1QZZEIAgAi700xkQgCACHMgV2RCAIAIK21hZEIAgERJU4BkQgCA97DslGRCAIAbYzmfZEIAgODH0rNkQgCABHofvmRCAIA0KmzIZEIAgAuMBd1kQgCAceue8WRCAICbDIUQZUIAgF+GHiVlQgCAHQG4OWVCAIDtMJ5YZUIAgNXs6mJlQgCAw6c3bWVCAIC3YYR3ZUIAgDTSHYxlQgCAyYZqlmVCAIBMrlC1ZUIAgGTSNtRlQgCA+YaD3mVCAIAj8BzzZUIAgPQKAxJmQgCAGL1PHGZCAIA2cJwmZkIAgGYg6TBmQgCAwIGCRWZCAID2MM9PZkIAgKngG1pmQgCAXJBoZGZCAICfmE6DZkIAgO1Dm41mQgCAO+/nl2ZCAIAAnDSiZkIAgMVIgaxmQgCAbZ0awWZCAICTlQDgZkIAgEfomfRmQgCAnDUzCWdCAAA9JBkoZ0IAgHDJZTJnQgCA6RD/RmdCAID5mjFwZ0IAgIwkZJlnQgCAuGP9rWdCAIBstpbCZ0IAgE3lFvZnQgCACr1jAGhCAIBKlLAKaEIAgCgVlyloQgCA/ejjM2hCAIC5jX1IaEIAgFvQsHFoQgCAU4DKuWhCAACLThfEaEIAgD8dZM5oQgCAOOuw2GhCAIC6t/3iaEIAgE1Ol/doQgCAXhjkAWlCAIB14TAMaUIAgA+qfRZpQgCAAMuwP2lCAIDgIZdeaUIAgDitMHNpQgCA5HJ9fWlCAICWN8qHaUIAgMv7FpJpQgCAib5jnGlCAAD7jOPPaUIAgIZNMNppQgCAr8vJ7mlCAIA3B7ANakIAgGaESSJqQgCAQkKWLGpCAICh/+I2akIAgHd2fEtqQgCA1jPJVWpCYtDzjMNfakLlcOpFEGpqQgCAF9ZIiWpCANDBKUOTakIAgBFH4p1qQgCAF/4uqGpCAIAXtnuyakJIkaN7D9FqQgCATUX75WpCAIDdDS4Pa0IAgPXBehlrQgCABy8ULmtCAACcRzwza0IAgK7gYDhrQgCAzgGJPWtCAICLia1Ca0IAgFw0+kxrQgCAwnMiUmtCAIDOKW9ca0IAgNrfu2ZrQgAAB0vga2tCAIBjTlV7a0IAgNWjeYBrQgCAUQmihWtCAIBjvu6Pa0IAADEsiKRrQgCAEE9uw2tCAIC3ALvNa0IAgEC3B9hrQgCAZGlU4mtCAIAR0u32a0IAgB6bICBsQgCAfvu5NGxCAICo1OxdbEIAgCuMOWhsQgCAEwDTfGxCAIAfJrmbbEIAgKjcBaZsQgCAzEafumxCAIDS/evEbEIAgHmvOM9sQgCAVsge7mxCAIADMbgCbUIAgPhFniFtQgCAgWyEQG1CAIA/V7dpbUIAgLARBHRtQgCApMtQfm1CAICehJ2IbUIAgC066pJtQgCAvO82nW1CAIA/p4OnbUIAgLBh0LFtQgAAJclpxm1CAIAW6U/lbUIAgKudnO9tQgCA87mCDm5CAIDtKhwjbkIAgJ9fAkJuQgCAChtPTG5CAIBvj+hgbkIAgM5MNWtuQgCASwWCdW5CAIDIvc5/bkIAgEV2G4puQgCARS5olG5CAIA/57SebkIAgFGcAaluQgAAd3pZ125CAIBO8CUVb0IAgPRuvylvQgCAR+ZYPm9CaCFOsuxcb0IAgOATcoZvQgAASNq+kG9CAIC1nwubb0IAgGFlWKVvQgCAPPDxuW9CAIDtOdjYb0IAgCL+JONvQgCAY8Bx7W9CAICkgr73b0IAwGABLAZwQgDAlSGfFXBCAIA0QBIlcEIAwLj8Xi9wQgAAzLarOXBCAEBiFNI+cEIAwJRy+ENwQgDABS1FTnBCAEC1i2tTcEIAwOfpkVhwQgDAWKTeYnBCAIAtFnh3cEIAQOP9N5FwQgAAI19elnBCAAAFwISbcEIAQFPh96pwQgCAy59EtXBCAAB1/2q6cEIAQMN8BM9wQgBAsdsq1HBCAECfOlHZcEIAwE6Zd95wQgDAv/ed43BCAEBXEhHzcEIAwADOXf1wQgDAdyuEAnFCAIBSiKoHcUIAAJHk0AxxQgCAUkD3EXFCAEC2mx0XcUIAQLz2QxxxQgCAZFFqIXFCAEBRq5AmcUIAQGMEtytxQgCAmlzdMHFCAMDvZ1BAcUIAQL3BdkVxQgDADRudSnFCAIB/PmmIcUIAgPqXW8txQgDASeyB0HFCAMArYRvlcUIAgGXDQepxQgBAnyVo73FCAADZh470cUIAALXptPlxQgBAdA0oCXJCAEA+znQTckIAwGQumxhyQgAAd22BN3JCAICjzKc8ckIAQHIrzkFyQgBA44n0RnJCAID25xpMckIAQL+jZ1ZyQgCAB5hHY3JCAMDlu9plckIAwN8YAWtyQgDA8NygkXJCAEAplu2bckIAQFq7861yQgAATXBAuHJCAIAaOgDSckIAgHGYk9RyQgDAtvJM3HJCAMAzq5nmckIAQPsFwOtyQgBAAWHm8HJCAECKuwz2ckIAgE02EwhzQgDAn40/H3NCAABO52Ukc0IAgGu1HyxzQgBASkj/OHNCAIC+LLlAc0IAwEhELFBzQgDA9KH4jXNCAEDHX+vQc0IAwIi7EdZzQgAAamfU3HNCAIA7LXDec0IAwJRxXuBzQgBATPTx4nNCAMCgJ6vqc0IAgNYLZfJzQgDAfmaL93NCAACYe/4GdEIAQDTYJAx0QgAApI1xFnRCAIBxQ74gdEIAgPSe5CV0QgCA+vkKK3RCAABRrlc1dEIAAOYGfjp0QgCAMGGkP3RCAMDkucpEdEIAgFoS8Ul0QgAA2xtkWXRCAIAxdIpedEIAgIT/loJ0QgAAQFy9h3RCAMCduOOMdEIAALcVCpJ0QgDAGnEwl3RCAAC9zFacdEIAwJ0ofaF0QgCAAYSjpnRCAEDo3smrdEIAgJA58LB0QgAAXu88u3RCAMDNSGPAdEIAAI5X1s90QgAApq/81HRCAEC/DCPadEIAgK6EvO50QgDAROLi83RCAICQnS/+dEIAAEAQyRJ1QgCAAWzvF3VCAABAyBUddUIAgAcjPCJ1QgAARn9iJ3VCAIAN2ogsdUIAgJY0rzF1QgAA24/VNnVCAECJ6fs7dUIAgDGgSEZ1QgCAK1mVUHVCAADPcQhgdUIAgIrOLmV1QgAAwytVanVCAAA6iXtvdUIAAC5XO4l1QgDAkbJhjnVCAAC9aK6YdUIAQGXD1J11QgCAGXghqHVCAADn0UetdUIAAI7furx1QgCArpwHx3VCAIAl+i3MdUIAQHe0etZ1QgBAZW/H4HVCAAA0hjrwdUIAwBQ+h/p1QgDAnZit/3VCAIB+9NMEdkIAgAerIA92QgCAqLmTHnZCAAB2E7ojdkIAgMBt4Ch2QgCAT8cGLnZCAEA8IS0zdkIAACkzoEJ2QgBAJE0TUnZCAABwCGBcdkIAwMdlhmF2QgAA1SDTa3ZCAABSfflwdkIAQPTYH3Z2QgAAWJBsgHZCAMDBRrmKdkIAgCv9BZV2QgAA81csmnZCAAD5slKfdkIAwErJxa52QgCAHyfss3ZCAEB3hBK5dkIAAFLhOL52QgCAij5fw3ZCAID7+KvNdkIAwBRW0tJ2QgBATbP413ZCAAAux2vndkIAQFN+uPF2Qg==\",\"dtype\":\"float64\",\"shape\":[386]},\"water\":{\"__ndarray__\":\"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\",\"dtype\":\"float64\",\"shape\":[386]},\"wet\":{\"__ndarray__\":\"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\",\"dtype\":\"float64\",\"shape\":[386]}},\"selected\":{\"id\":\"1192\",\"type\":\"Selection\"},\"selection_policy\":{\"id\":\"1193\",\"type\":\"UnionRenderers\"}},\"id\":\"1131\",\"type\":\"ColumnDataSource\"},{\"attributes\":{\"fill_alpha\":0.1,\"fill_color\":\"#1f77b4\",\"x\":{\"field\":\"utc_time\"},\"y1\":{\"expr\":{\"id\":\"1045\",\"type\":\"Stack\"}},\"y2\":{\"expr\":{\"id\":\"1046\",\"type\":\"Stack\"}}},\"id\":\"1134\",\"type\":\"VArea\"},{\"attributes\":{\"bottom_units\":\"screen\",\"fill_alpha\":{\"value\":0.5},\"fill_color\":{\"value\":\"lightgrey\"},\"left_units\":\"screen\",\"level\":\"overlay\",\"line_alpha\":{\"value\":1.0},\"line_color\":{\"value\":\"black\"},\"line_dash\":[4,4],\"line_width\":{\"value\":2},\"render_mode\":\"css\",\"right_units\":\"screen\",\"top_units\":\"screen\"},\"id\":\"1060\",\"type\":\"BoxAnnotation\"},{\"attributes\":{\"fill_alpha\":0.2,\"fill_color\":\"grey\",\"x\":{\"field\":\"utc_time\"},\"y1\":{\"expr\":{\"id\":\"1045\",\"type\":\"Stack\"}},\"y2\":{\"expr\":{\"id\":\"1046\",\"type\":\"Stack\"}}},\"id\":\"1135\",\"type\":\"VArea\"},{\"attributes\":{\"fill_alpha\":0.7,\"fill_color\":\"#e6daa6\",\"x\":{\"field\":\"utc_time\"},\"y1\":{\"expr\":{\"id\":\"1045\",\"type\":\"Stack\"}},\"y2\":{\"expr\":{\"id\":\"1046\",\"type\":\"Stack\"}}},\"id\":\"1133\",\"type\":\"VArea\"},{\"attributes\":{\"data_source\":{\"id\":\"1131\",\"type\":\"ColumnDataSource\"},\"glyph\":{\"id\":\"1133\",\"type\":\"VArea\"},\"hover_glyph\":null,\"muted_glyph\":{\"id\":\"1135\",\"type\":\"VArea\"},\"name\":\"dry\",\"nonselection_glyph\":{\"id\":\"1134\",\"type\":\"VArea\"},\"selection_glyph\":null,\"view\":{\"id\":\"1137\",\"type\":\"CDSView\"}},\"id\":\"1136\",\"type\":\"GlyphRenderer\"},{\"attributes\":{\"base\":60,\"mantissas\":[1,2,5,10,15,20,30],\"max_interval\":1800000.0,\"min_interval\":1000.0,\"num_minor_ticks\":0},\"id\":\"1062\",\"type\":\"AdaptiveTicker\"},{\"attributes\":{\"source\":{\"id\":\"1131\",\"type\":\"ColumnDataSource\"}},\"id\":\"1137\",\"type\":\"CDSView\"},{\"attributes\":{\"base\":24,\"mantissas\":[1,2,4,6,8,12],\"max_interval\":43200000.0,\"min_interval\":3600000.0,\"num_minor_ticks\":0},\"id\":\"1063\",\"type\":\"AdaptiveTicker\"},{\"attributes\":{\"days\":[1,2,3,4,5,6,7,8,9,10,11,12,13,14,15,16,17,18,19,20,21,22,23,24,25,26,27,28,29,30,31]},\"id\":\"1064\",\"type\":\"DaysTicker\"},{\"attributes\":{},\"id\":\"1159\",\"type\":\"Selection\"},{\"attributes\":{\"days\":[1,4,7,10,13,16,19,22,25,28]},\"id\":\"1065\",\"type\":\"DaysTicker\"},{\"attributes\":{},\"id\":\"1160\",\"type\":\"UnionRenderers\"},{\"attributes\":{\"label\":{\"value\":\"dry\"},\"renderers\":[{\"id\":\"1136\",\"type\":\"GlyphRenderer\"}]},\"id\":\"1161\",\"type\":\"LegendItem\"},{\"attributes\":{\"days\":[1,8,15,22]},\"id\":\"1066\",\"type\":\"DaysTicker\"},{\"attributes\":{\"callback\":null,\"data\":{\"bare\":{\"__ndarray__\":\"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\",\"dtype\":\"float64\",\"shape\":[386]},\"dry\":{\"__ndarray__\":\"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\",\"dtype\":\"float64\",\"shape\":[386]},\"green\":{\"__ndarray__\":\"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\",\"dtype\":\"float64\",\"shape\":[386]},\"utc_time\":{\"__ndarray__\":\"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\",\"dtype\":\"float64\",\"shape\":[386]},\"water\":{\"__ndarray__\":\"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\",\"dtype\":\"float64\",\"shape\":[386]},\"wet\":{\"__ndarray__\":\"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\",\"dtype\":\"float64\",\"shape\":[386]}},\"selected\":{\"id\":\"1227\",\"type\":\"Selection\"},\"selection_policy\":{\"id\":\"1228\",\"type\":\"UnionRenderers\"}},\"id\":\"1162\",\"type\":\"ColumnDataSource\"},{\"attributes\":{\"days\":[1,15]},\"id\":\"1067\",\"type\":\"DaysTicker\"},{\"attributes\":{\"months\":[0,1,2,3,4,5,6,7,8,9,10,11]},\"id\":\"1068\",\"type\":\"MonthsTicker\"},{\"attributes\":{},\"id\":\"1227\",\"type\":\"Selection\"},{\"attributes\":{\"fill_alpha\":0.1,\"fill_color\":\"#1f77b4\",\"x\":{\"field\":\"utc_time\"},\"y1\":{\"expr\":{\"id\":\"1047\",\"type\":\"Stack\"}},\"y2\":{\"expr\":{\"id\":\"1048\",\"type\":\"Stack\"}}},\"id\":\"1165\",\"type\":\"VArea\"},{\"attributes\":{\"months\":[0,2,4,6,8,10]},\"id\":\"1069\",\"type\":\"MonthsTicker\"},{\"attributes\":{\"fill_alpha\":0.2,\"fill_color\":\"grey\",\"x\":{\"field\":\"utc_time\"},\"y1\":{\"expr\":{\"id\":\"1047\",\"type\":\"Stack\"}},\"y2\":{\"expr\":{\"id\":\"1048\",\"type\":\"Stack\"}}},\"id\":\"1166\",\"type\":\"VArea\"},{\"attributes\":{\"fill_alpha\":0.7,\"fill_color\":\"#653700\",\"x\":{\"field\":\"utc_time\"},\"y1\":{\"expr\":{\"id\":\"1047\",\"type\":\"Stack\"}},\"y2\":{\"expr\":{\"id\":\"1048\",\"type\":\"Stack\"}}},\"id\":\"1164\",\"type\":\"VArea\"},{\"attributes\":{\"months\":[0,4,8]},\"id\":\"1070\",\"type\":\"MonthsTicker\"},{\"attributes\":{\"months\":[0,6]},\"id\":\"1071\",\"type\":\"MonthsTicker\"},{\"attributes\":{\"data_source\":{\"id\":\"1162\",\"type\":\"ColumnDataSource\"},\"glyph\":{\"id\":\"1164\",\"type\":\"VArea\"},\"hover_glyph\":null,\"muted_glyph\":{\"id\":\"1166\",\"type\":\"VArea\"},\"name\":\"bare\",\"nonselection_glyph\":{\"id\":\"1165\",\"type\":\"VArea\"},\"selection_glyph\":null,\"view\":{\"id\":\"1168\",\"type\":\"CDSView\"}},\"id\":\"1167\",\"type\":\"GlyphRenderer\"},{\"attributes\":{},\"id\":\"1072\",\"type\":\"YearsTicker\"},{\"attributes\":{\"background_fill_alpha\":{\"value\":0.5},\"click_policy\":\"mute\",\"items\":[{\"id\":\"1074\",\"type\":\"LegendItem\"},{\"id\":\"1101\",\"type\":\"LegendItem\"},{\"id\":\"1130\",\"type\":\"LegendItem\"},{\"id\":\"1161\",\"type\":\"LegendItem\"},{\"id\":\"1194\",\"type\":\"LegendItem\"}],\"label_text_font_size\":{\"value\":\"9pt\"},\"location\":\"bottom_left\"},\"id\":\"1073\",\"type\":\"Legend\"},{\"attributes\":{\"source\":{\"id\":\"1162\",\"type\":\"ColumnDataSource\"}},\"id\":\"1168\",\"type\":\"CDSView\"},{\"attributes\":{\"label\":{\"value\":\"water\"},\"renderers\":[{\"id\":\"1054\",\"type\":\"GlyphRenderer\"}]},\"id\":\"1074\",\"type\":\"LegendItem\"},{\"attributes\":{},\"id\":\"1192\",\"type\":\"Selection\"},{\"attributes\":{\"callback\":null,\"data\":{\"bare\":{\"__ndarray__\":\"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\",\"dtype\":\"float64\",\"shape\":[386]},\"dry\":{\"__ndarray__\":\"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\",\"dtype\":\"float64\",\"shape\":[386]},\"green\":{\"__ndarray__\":\"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\",\"dtype\":\"float64\",\"shape\":[386]},\"utc_time\":{\"__ndarray__\":\"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\",\"dtype\":\"float64\",\"shape\":[386]},\"water\":{\"__ndarray__\":\"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\",\"dtype\":\"float64\",\"shape\":[386]},\"wet\":{\"__ndarray__\":\"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\",\"dtype\":\"float64\",\"shape\":[386]}},\"selected\":{\"id\":\"1128\",\"type\":\"Selection\"},\"selection_policy\":{\"id\":\"1129\",\"type\":\"UnionRenderers\"}},\"id\":\"1075\",\"type\":\"ColumnDataSource\"},{\"attributes\":{},\"id\":\"1193\",\"type\":\"UnionRenderers\"},{\"attributes\":{\"label\":{\"value\":\"bare\"},\"renderers\":[{\"id\":\"1167\",\"type\":\"GlyphRenderer\"}]},\"id\":\"1194\",\"type\":\"LegendItem\"},{\"attributes\":{},\"id\":\"1128\",\"type\":\"Selection\"},{\"attributes\":{\"fill_alpha\":0.7,\"fill_color\":\"#04d9ff\",\"x\":{\"field\":\"utc_time\"},\"y1\":{\"expr\":{\"id\":\"1041\",\"type\":\"Stack\"}},\"y2\":{\"expr\":{\"id\":\"1042\",\"type\":\"Stack\"}}},\"id\":\"1077\",\"type\":\"VArea\"},{\"attributes\":{\"callback\":null,\"data\":{},\"selected\":{\"id\":\"1229\",\"type\":\"Selection\"},\"selection_policy\":{\"id\":\"1230\",\"type\":\"UnionRenderers\"}},\"id\":\"1197\",\"type\":\"ColumnDataSource\"},{\"attributes\":{},\"id\":\"1024\",\"type\":\"WheelZoomTool\"},{\"attributes\":{\"callback\":null,\"end\":100},\"id\":\"1196\",\"type\":\"Range1d\"},{\"attributes\":{\"align\":\"center\",\"text\":\"Percentage of area dominated by WOfS, Wetness, Fractional Cover for Hattah-Kulkyne Lakes_Lake Hattah_VIC_16.csv\",\"text_font_size\":{\"value\":\"12pt\"}},\"id\":\"1003\",\"type\":\"Title\"},{\"attributes\":{},\"id\":\"1009\",\"type\":\"LinearScale\"},{\"attributes\":{},\"id\":\"1011\",\"type\":\"LinearScale\"},{\"attributes\":{\"bounds\":[559266492000.0,1576714888500.0],\"formatter\":{\"id\":\"1037\",\"type\":\"DatetimeTickFormatter\"},\"major_label_orientation\":45,\"ticker\":{\"id\":\"1014\",\"type\":\"DatetimeTicker\"}},\"id\":\"1013\",\"type\":\"DatetimeAxis\"},{\"attributes\":{\"num_minor_ticks\":5,\"tickers\":[{\"id\":\"1061\",\"type\":\"AdaptiveTicker\"},{\"id\":\"1062\",\"type\":\"AdaptiveTicker\"},{\"id\":\"1063\",\"type\":\"AdaptiveTicker\"},{\"id\":\"1064\",\"type\":\"DaysTicker\"},{\"id\":\"1065\",\"type\":\"DaysTicker\"},{\"id\":\"1066\",\"type\":\"DaysTicker\"},{\"id\":\"1067\",\"type\":\"DaysTicker\"},{\"id\":\"1068\",\"type\":\"MonthsTicker\"},{\"id\":\"1069\",\"type\":\"MonthsTicker\"},{\"id\":\"1070\",\"type\":\"MonthsTicker\"},{\"id\":\"1071\",\"type\":\"MonthsTicker\"},{\"id\":\"1072\",\"type\":\"YearsTicker\"}]},\"id\":\"1014\",\"type\":\"DatetimeTicker\"},{\"attributes\":{\"ticker\":{\"id\":\"1014\",\"type\":\"DatetimeTicker\"}},\"id\":\"1017\",\"type\":\"Grid\"},{\"attributes\":{\"axis_label\":\"percentage of polygon classified as type\",\"axis_label_text_font_size\":{\"value\":\"8pt\"},\"bounds\":[0,100],\"formatter\":{\"id\":\"1057\",\"type\":\"BasicTickFormatter\"},\"ticker\":{\"id\":\"1019\",\"type\":\"BasicTicker\"}},\"id\":\"1018\",\"type\":\"LinearAxis\"},{\"attributes\":{},\"id\":\"1019\",\"type\":\"BasicTicker\"},{\"attributes\":{\"dimension\":1,\"ticker\":{\"id\":\"1019\",\"type\":\"BasicTicker\"}},\"id\":\"1022\",\"type\":\"Grid\"},{\"attributes\":{\"fields\":[]},\"id\":\"1039\",\"type\":\"Stack\"},{\"attributes\":{\"mantissas\":[1,2,5],\"max_interval\":500.0,\"num_minor_ticks\":0},\"id\":\"1061\",\"type\":\"AdaptiveTicker\"},{\"attributes\":{\"days\":[\"%d/%m/%Y\"],\"months\":[\"%m/%Y\"]},\"id\":\"1037\",\"type\":\"DatetimeTickFormatter\"},{\"attributes\":{\"callback\":null,\"end\":1576714888500.0,\"start\":559266492000.0},\"id\":\"1195\",\"type\":\"Range1d\"},{\"attributes\":{\"text\":\"The Fractional Cover algorithm developed by the Joint Remote Sensing Research Program\\nand the Water Observations from Space algorithm developed by Geoscience Australia are used in the production of this data\",\"text_font_size\":{\"value\":\"8.5pt\"},\"text_font_style\":\"italic\",\"x\":0,\"x_units\":\"screen\",\"y\":0,\"y_units\":\"screen\"},\"id\":\"1036\",\"type\":\"Label\"},{\"attributes\":{},\"id\":\"1023\",\"type\":\"PanTool\"},{\"attributes\":{\"overlay\":{\"id\":\"1060\",\"type\":\"BoxAnnotation\"}},\"id\":\"1025\",\"type\":\"BoxZoomTool\"},{\"attributes\":{},\"id\":\"1026\",\"type\":\"ResetTool\"},{\"attributes\":{\"callback\":null},\"id\":\"1027\",\"type\":\"TapTool\"},{\"attributes\":{},\"id\":\"1057\",\"type\":\"BasicTickFormatter\"},{\"attributes\":{},\"id\":\"1028\",\"type\":\"SaveTool\"}],\"root_ids\":[\"1002\"]},\"title\":\"Bokeh Application\",\"version\":\"1.4.0\"}};\n",
       "  var render_items = [{\"docid\":\"3755230e-c2e4-4dd4-bec0-5999b31ef1d0\",\"roots\":{\"1002\":\"a9342639-0e9a-45d6-8654-e344a3594817\"}}];\n",
       "  root.Bokeh.embed.embed_items_notebook(docs_json, render_items);\n",
       "\n",
       "  }\n",
       "  if (root.Bokeh !== undefined) {\n",
       "    embed_document(root);\n",
       "  } else {\n",
       "    var attempts = 0;\n",
       "    var timer = setInterval(function(root) {\n",
       "      if (root.Bokeh !== undefined) {\n",
       "        clearInterval(timer);\n",
       "        embed_document(root);\n",
       "      } else {\n",
       "        attempts++;\n",
       "        if (attempts > 100) {\n",
       "          clearInterval(timer);\n",
       "          console.log(\"Bokeh: ERROR: Unable to run BokehJS code because BokehJS library is missing\");\n",
       "        }\n",
       "      }\n",
       "    }, 10, root)\n",
       "  }\n",
       "})(window);"
      ],
      "application/vnd.bokehjs_exec.v0+json": ""
     },
     "metadata": {
      "application/vnd.bokehjs_exec.v0+json": {
       "id": "1002"
      }
     },
     "output_type": "display_data"
    }
   ],
   "source": [
    "from bokeh.plotting import figure, output_file, show\n",
    "from bokeh.models import Range1d, Label #use this to set the newWIT graph ranges\n",
    "from bokeh.models.formatters import DatetimeTickFormatter\n",
    "from bokeh.models.glyphs import Text\n",
    "from bokeh.models import ColumnDataSource\n",
    "from bokeh.models.tickers import DatetimeTicker\n",
    "\n",
    "TOOLS = [\"pan, wheel_zoom, box_zoom, reset, tap, save\"]\n",
    "\n",
    "def prettierWITplot():\n",
    "    '''Function to use bokeh to draw a WIT plot.'''\n",
    "    print('stuff')\n",
    "    \n",
    "title =f'Percentage of area dominated by WOfS, Wetness, Fractional Cover for {polyName}'    \n",
    "       \n",
    "#set up the x axis to recognise date and time. Note that you will only see the days when you zoom in.\n",
    "p =figure(plot_width=1200, \n",
    "          plot_height = 400, \n",
    "          x_axis_type='datetime',\n",
    "         title=title, tools=TOOLS)\n",
    "p.sizing_mode = \"scale_width\"\n",
    "#align the title in the centre\n",
    "p.title.align= \"center\"\n",
    "p.title.text_font_size=\"12pt\"\n",
    "\n",
    "#label axes\n",
    "p.yaxis.axis_label=(\"percentage of polygon classified as type\")\n",
    "p.yaxis.axis_label_text_font_size=\"8pt\"\n",
    "\n",
    "\n",
    "# #layout puts things in certain places\n",
    "\n",
    "#we need screen units to put the attribution label under the plot. Don't ask why.\n",
    "label_opts = dict(\n",
    "    x=0, \n",
    "    y=0,\n",
    "    x_units='screen', \n",
    "    y_units='screen',\n",
    "    text_font_style=\"italic\", \n",
    "    text_font_size=\"8.5pt\")\n",
    "\n",
    "\n",
    "\n",
    "msg1 = 'The Fractional Cover algorithm developed by the Joint Remote Sensing Research Program\\n\\\n",
    "and the Water Observations from Space algorithm developed by Geoscience Australia are used in the production of this data'\n",
    "caption1 = Label(text=msg1, **label_opts)\n",
    "\n",
    "p.add_layout(caption1, 'below')\n",
    "\n",
    "p.xaxis.formatter=DatetimeTickFormatter(years =[\"%Y\"], months=[\"%m/%Y\"] ,days=[\"%d/%m/%Y\"])\n",
    "p.xaxis.major_label_orientation = 45\n",
    "\n",
    "#create the actual stack plot using data from the pandas dataframe with the ingested csv.\n",
    "p.varea_stack(['water', \n",
    "              'wet',\n",
    "              'green',\n",
    "              'dry',\n",
    "              'bare'], x= 'utc_time', color=pal, fill_alpha=0.7, source = WITdata, \n",
    "              legend_label=[\"water\",\"wet\",\"green\",\"dry\",\"bare\"], muted_color=\"grey\", muted_alpha=0.2)\n",
    "\n",
    "\t\n",
    "#set the new WIT graph ranges.\n",
    "left, right, bottom, top = WITdata.index[0], WITdata.index[-1], 0, 100 #set \n",
    "p.x_range=Range1d(left, right)\n",
    "p.y_range=Range1d(bottom, top)\n",
    "p.xaxis.bounds=(left,right)\n",
    "p.yaxis.bounds=(bottom,top)\n",
    "\n",
    "#now we want to overplot the data on the plot\n",
    "#create rectangle borders for no-data times (SLC-off only)\n",
    "LS5_8_gap_start = datetime(2011,11,1)\n",
    "LS5_8_gap_end = datetime(2013,4,1)\n",
    "\n",
    "#plot our dead satellite rectangle\n",
    "p.hbar(y=50, \n",
    "       height=100,\n",
    "       left=LS5_8_gap_start, \n",
    "       right=LS5_8_gap_end, \n",
    "       color=\"white\", \n",
    "       alpha=0.5, \n",
    "       hatch_color=\"white\", \n",
    "       hatch_pattern='/',\n",
    "       hatch_alpha=0.6,\n",
    "       line_color=\"white\",\n",
    "       line_width =2,\n",
    "       line_alpha=0.6)\n",
    "\n",
    "p.legend\n",
    "p.legend.location=\"bottom_left\"\n",
    "p.legend.click_policy=\"mute\"\n",
    "p.legend.background_fill_alpha=0.5\n",
    "p.legend.border_line_alpha=0.5\n",
    "p.legend.label_text_font_size=\"9pt\"\n",
    "\n",
    "#display the plot    \n",
    "show(p)   "
   ]
  },
  {
   "cell_type": "markdown",
   "metadata": {},
   "source": [
    "<!-- ### query: setup query as output of javascript picker from bokeh plot -->"
   ]
  },
  {
   "cell_type": "markdown",
   "metadata": {},
   "source": [
    "### query time period from plot. to do so zoom in until you get a date you want"
   ]
  },
  {
   "cell_type": "markdown",
   "metadata": {},
   "source": [
    "### Insert your chosen date in the cell below where it says `chosen_date`"
   ]
  },
  {
   "cell_type": "markdown",
   "metadata": {},
   "source": [
    "### Date needs to be in format: 'YYYY-MM-DD'"
   ]
  },
  {
   "cell_type": "code",
   "execution_count": 33,
   "metadata": {},
   "outputs": [],
   "source": [
    "chosen_date='22-08-2017'"
   ]
  },
  {
   "cell_type": "code",
   "execution_count": 34,
   "metadata": {},
   "outputs": [
    {
     "name": "stdout",
     "output_type": "stream",
     "text": [
      "22-08-2017\n"
     ]
    }
   ],
   "source": [
    "print(chosen_date)"
   ]
  },
  {
   "cell_type": "markdown",
   "metadata": {},
   "source": [
    "### Ok now we have to match the polygon back up with the graph. To do this, set the path to the location of the polygon used to generate the WIT"
   ]
  },
  {
   "cell_type": "markdown",
   "metadata": {},
   "source": [
    "set the path to the location of the polygon. For Wetlands Insight Tool v2, this is "
   ]
  },
  {
   "cell_type": "code",
   "execution_count": 89,
   "metadata": {},
   "outputs": [],
   "source": [
    "poly_path = '/g/data/r78/DEA_Wetlands/shapefiles/ramsar_wetlands_3577_20190403.shp'"
   ]
  },
  {
   "cell_type": "code",
   "execution_count": 93,
   "metadata": {},
   "outputs": [],
   "source": [
    "#this section opens our chosen polygon based off our chosen WIT output\n",
    "with fiona.open(poly_path) as shapes:\n",
    "    #get crs object from polygon file\n",
    "    crs = geometry.CRS(shapes.crs_wkt)\n",
    "    for feature in shapes:\n",
    "        #print (feature['id'])\n",
    "        if feature['id'] == 16: #match the input file number, get the polygon back\n",
    "            #get feature geometry\n",
    "            feature_geometry=feature['geometry']\n",
    "            #create datacube geometry.Geometry object\n",
    "            geom = geometry.Geometry(feature_geometry, crs=crs)\n",
    "            print(feature[16])"
   ]
  },
  {
   "cell_type": "code",
   "execution_count": 94,
   "metadata": {},
   "outputs": [],
   "source": [
    "### Now set up the query. I recommend picking roughly 10 days either side"
   ]
  },
  {
   "cell_type": "markdown",
   "metadata": {},
   "source": [
    "set a buffer 10 days either side of our chosen date to capture our search"
   ]
  },
  {
   "cell_type": "code",
   "execution_count": 100,
   "metadata": {},
   "outputs": [],
   "source": [
    "#this is our ten day buffer\n",
    "buffer = pd.Timedelta('60 days')"
   ]
  },
  {
   "cell_type": "code",
   "execution_count": 101,
   "metadata": {},
   "outputs": [],
   "source": [
    "chosen_date =pd.to_datetime(chosen_date)"
   ]
  },
  {
   "cell_type": "code",
   "execution_count": 102,
   "metadata": {},
   "outputs": [],
   "source": [
    "early_buffer = chosen_date - buffer\n",
    "late_buffer = chosen_date + buffer"
   ]
  },
  {
   "cell_type": "code",
   "execution_count": 103,
   "metadata": {},
   "outputs": [],
   "source": [
    "#convert back to string\n",
    "early_buffer = str(early_buffer)[:10]\n",
    "late_buffer = str(late_buffer)[:10]"
   ]
  },
  {
   "cell_type": "code",
   "execution_count": 104,
   "metadata": {},
   "outputs": [
    {
     "name": "stdout",
     "output_type": "stream",
     "text": [
      "2017-06-23 2017-10-21\n"
     ]
    }
   ],
   "source": [
    "print(early_buffer, late_buffer)"
   ]
  },
  {
   "cell_type": "code",
   "execution_count": 105,
   "metadata": {},
   "outputs": [],
   "source": [
    "#this sets up our datacube query based off the corresponding polygon and the chosen date. \n",
    "query = {'geopolygon': geom,\n",
    "         'time': (early_buffer,late_buffer),\n",
    "         'output_crs': 'EPSG:3577',\n",
    "         'resolution':(-25,25)\n",
    "        }"
   ]
  },
  {
   "cell_type": "code",
   "execution_count": 106,
   "metadata": {},
   "outputs": [
    {
     "name": "stdout",
     "output_type": "stream",
     "text": [
      "Loading ls5\n",
      "    Skipping ls5; no valid data for query\n",
      "Loading ls7\n",
      "    Ignoring SLC-off observations for ls7\n",
      "    Skipping ls7; no valid data for query\n",
      "Loading ls8\n",
      "    Loading 3 filtered ls8 timesteps\n",
      "Returning ls8 data\n",
      "    Replacing invalid -999 values with NaN (data will be coerced to float32)\n",
      "Loading ls5\n",
      "    Skipping ls5; no valid data for query\n",
      "Loading ls7\n",
      "    Ignoring SLC-off observations for ls7\n",
      "    Skipping ls7; no valid data for query\n",
      "Loading ls8\n",
      "    Loading 3 filtered ls8 timesteps\n",
      "Returning ls8 data\n",
      "    Replacing invalid -999 values with NaN (data will be coerced to float32)\n"
     ]
    }
   ],
   "source": [
    "WITmaps = wetlands_insight.WIT_da(query)"
   ]
  },
  {
   "cell_type": "code",
   "execution_count": 107,
   "metadata": {},
   "outputs": [
    {
     "data": {
      "text/html": [
       "<pre>&lt;xarray.DataArray &#x27;maxFC&#x27; (time: 3, y: 36, x: 46)&gt;\n",
       "array([[[5., 5., 5., ..., 5., 4., 4.],\n",
       "        [4., 5., 5., ..., 4., 5., 4.],\n",
       "        [4., 4., 5., ..., 4., 4., 4.],\n",
       "        ...,\n",
       "        [5., 4., 4., ..., 2., 2., 2.],\n",
       "        [4., 4., 4., ..., 2., 4., 4.],\n",
       "        [4., 4., 4., ..., 4., 4., 4.]],\n",
       "\n",
       "       [[3., 4., 4., ..., 3., 4., 4.],\n",
       "        [3., 4., 3., ..., 4., 4., 4.],\n",
       "        [4., 4., 3., ..., 4., 4., 4.],\n",
       "        ...,\n",
       "        [5., 5., 4., ..., 3., 3., 3.],\n",
       "        [4., 4., 4., ..., 3., 4., 4.],\n",
       "        [4., 4., 4., ..., 3., 3., 4.]],\n",
       "\n",
       "       [[5., 5., 5., ..., 5., 5., 5.],\n",
       "        [5., 5., 5., ..., 5., 5., 5.],\n",
       "        [5., 5., 5., ..., 5., 5., 5.],\n",
       "        ...,\n",
       "        [5., 5., 5., ..., 1., 2., 2.],\n",
       "        [5., 5., 5., ..., 1., 2., 2.],\n",
       "        [5., 5., 5., ..., 1., 2., 5.]]])\n",
       "Coordinates:\n",
       "  * time     (time) datetime64[ns] 2017-07-22T00:21:04.500000 ... 2017-10-10T00:21:28\n",
       "  * y        (y) float64 -3.833e+06 -3.833e+06 ... -3.834e+06 -3.834e+06\n",
       "  * x        (x) float64 9.424e+05 9.425e+05 9.425e+05 ... 9.435e+05 9.436e+05\n",
       "Attributes:\n",
       "    crs:      EPSG:3577</pre>"
      ],
      "text/plain": [
       "<xarray.DataArray 'maxFC' (time: 3, y: 36, x: 46)>\n",
       "array([[[5., 5., 5., ..., 5., 4., 4.],\n",
       "        [4., 5., 5., ..., 4., 5., 4.],\n",
       "        [4., 4., 5., ..., 4., 4., 4.],\n",
       "        ...,\n",
       "        [5., 4., 4., ..., 2., 2., 2.],\n",
       "        [4., 4., 4., ..., 2., 4., 4.],\n",
       "        [4., 4., 4., ..., 4., 4., 4.]],\n",
       "\n",
       "       [[3., 4., 4., ..., 3., 4., 4.],\n",
       "        [3., 4., 3., ..., 4., 4., 4.],\n",
       "        [4., 4., 3., ..., 4., 4., 4.],\n",
       "        ...,\n",
       "        [5., 5., 4., ..., 3., 3., 3.],\n",
       "        [4., 4., 4., ..., 3., 4., 4.],\n",
       "        [4., 4., 4., ..., 3., 3., 4.]],\n",
       "\n",
       "       [[5., 5., 5., ..., 5., 5., 5.],\n",
       "        [5., 5., 5., ..., 5., 5., 5.],\n",
       "        [5., 5., 5., ..., 5., 5., 5.],\n",
       "        ...,\n",
       "        [5., 5., 5., ..., 1., 2., 2.],\n",
       "        [5., 5., 5., ..., 1., 2., 2.],\n",
       "        [5., 5., 5., ..., 1., 2., 5.]]])\n",
       "Coordinates:\n",
       "  * time     (time) datetime64[ns] 2017-07-22T00:21:04.500000 ... 2017-10-10T00:21:28\n",
       "  * y        (y) float64 -3.833e+06 -3.833e+06 ... -3.834e+06 -3.834e+06\n",
       "  * x        (x) float64 9.424e+05 9.425e+05 9.425e+05 ... 9.435e+05 9.436e+05\n",
       "Attributes:\n",
       "    crs:      EPSG:3577"
      ]
     },
     "execution_count": 107,
     "metadata": {},
     "output_type": "execute_result"
    }
   ],
   "source": [
    "#check what the data looks like for the first timestep\n",
    "WITmaps"
   ]
  },
  {
   "cell_type": "code",
   "execution_count": 108,
   "metadata": {},
   "outputs": [
    {
     "data": {
      "application/vnd.jupyter.widget-view+json": {
       "model_id": "8486757cf42643fcb0d2c99e6859a148",
       "version_major": 2,
       "version_minor": 0
      },
      "text/plain": [
       "Canvas(toolbar=Toolbar(toolitems=[('Home', 'Reset original view', 'home', 'home'), ('Back', 'Back to previous …"
      ]
     },
     "metadata": {},
     "output_type": "display_data"
    }
   ],
   "source": [
    "WITmaps.plot(col='time', col_wrap=4,vmin = 1, vmax = 5.01, levels=6, colors = pal, add_colorbar=False)#,figsize=(8,12))\n",
    "plt.savefig(f'/g/data/r78/rjd547/CEWO_Project/prototyping_outputs/{input_file}_{early_buffer}-{late_buffer}.png')\n",
    "plt.show()"
   ]
  },
  {
   "cell_type": "code",
   "execution_count": 109,
   "metadata": {},
   "outputs": [],
   "source": [
    "#load data to check"
   ]
  },
  {
   "cell_type": "code",
   "execution_count": 132,
   "metadata": {},
   "outputs": [
    {
     "name": "stdout",
     "output_type": "stream",
     "text": [
      "Loading ls5\n",
      "    Skipping ls5; no valid data for query\n",
      "Loading ls7\n",
      "    Ignoring SLC-off observations for ls7\n",
      "    Skipping ls7; no valid data for query\n",
      "Loading ls8\n",
      "    Loading 3 filtered ls8 timesteps\n",
      "Returning ls8 data\n",
      "    Replacing invalid -999 values with NaN (data will be coerced to float32)\n"
     ]
    }
   ],
   "source": [
    "rgbcheck = DEADataHandling.load_clearlandsat(dc,query,mask_pixel_quality=False, masked_prop=0.80,\n",
    "    mask_invalid_data=True)"
   ]
  },
  {
   "cell_type": "code",
   "execution_count": 133,
   "metadata": {},
   "outputs": [
    {
     "data": {
      "text/html": [
       "<pre>&lt;xarray.Dataset&gt;\n",
       "Dimensions:          (time: 3, x: 46, y: 36)\n",
       "Coordinates:\n",
       "  * time             (time) datetime64[ns] 2017-07-22T00:21:04.500000 ... 2017-10-10T00:21:28\n",
       "  * y                (y) float64 -3.833e+06 -3.833e+06 ... -3.834e+06 -3.834e+06\n",
       "  * x                (x) float64 9.424e+05 9.425e+05 ... 9.435e+05 9.436e+05\n",
       "Data variables:\n",
       "    coastal_aerosol  (time, y, x) float32 327.0 271.0 291.0 ... 371.0 419.0\n",
       "    blue             (time, y, x) float32 288.0 258.0 247.0 ... 322.0 406.0\n",
       "    green            (time, y, x) float32 543.0 457.0 466.0 ... 421.0 543.0\n",
       "    red              (time, y, x) float32 647.0 508.0 602.0 ... 423.0 621.0\n",
       "    nir              (time, y, x) float32 1993.0 1875.0 1932.0 ... 1368.0 1665.0\n",
       "    swir1            (time, y, x) float32 1996.0 1807.0 1758.0 ... 789.0 1417.0\n",
       "    swir2            (time, y, x) float32 1362.0 1193.0 1272.0 ... 415.0 907.0\n",
       "    data_perc        (time) float32 1.0 0.93417877 1.0\n",
       "Attributes:\n",
       "    crs:      EPSG:3577</pre>"
      ],
      "text/plain": [
       "<xarray.Dataset>\n",
       "Dimensions:          (time: 3, x: 46, y: 36)\n",
       "Coordinates:\n",
       "  * time             (time) datetime64[ns] 2017-07-22T00:21:04.500000 ... 2017-10-10T00:21:28\n",
       "  * y                (y) float64 -3.833e+06 -3.833e+06 ... -3.834e+06 -3.834e+06\n",
       "  * x                (x) float64 9.424e+05 9.425e+05 ... 9.435e+05 9.436e+05\n",
       "Data variables:\n",
       "    coastal_aerosol  (time, y, x) float32 327.0 271.0 291.0 ... 371.0 419.0\n",
       "    blue             (time, y, x) float32 288.0 258.0 247.0 ... 322.0 406.0\n",
       "    green            (time, y, x) float32 543.0 457.0 466.0 ... 421.0 543.0\n",
       "    red              (time, y, x) float32 647.0 508.0 602.0 ... 423.0 621.0\n",
       "    nir              (time, y, x) float32 1993.0 1875.0 1932.0 ... 1368.0 1665.0\n",
       "    swir1            (time, y, x) float32 1996.0 1807.0 1758.0 ... 789.0 1417.0\n",
       "    swir2            (time, y, x) float32 1362.0 1193.0 1272.0 ... 415.0 907.0\n",
       "    data_perc        (time) float32 1.0 0.93417877 1.0\n",
       "Attributes:\n",
       "    crs:      EPSG:3577"
      ]
     },
     "execution_count": 133,
     "metadata": {},
     "output_type": "execute_result"
    }
   ],
   "source": [
    "rgbcheck"
   ]
  },
  {
   "cell_type": "code",
   "execution_count": 134,
   "metadata": {},
   "outputs": [
    {
     "data": {
      "application/vnd.jupyter.widget-view+json": {
       "model_id": "538a9988c8074b2fa7a5af077ad49d63",
       "version_major": 2,
       "version_minor": 0
      },
      "text/plain": [
       "Canvas(toolbar=Toolbar(toolitems=[('Home', 'Reset original view', 'home', 'home'), ('Back', 'Back to previous …"
      ]
     },
     "metadata": {},
     "output_type": "display_data"
    }
   ],
   "source": [
    "DEAPlotting.rgb(rgbcheck, col='time', col_wrap=4)"
   ]
  },
  {
   "cell_type": "code",
   "execution_count": null,
   "metadata": {},
   "outputs": [],
   "source": []
  },
  {
   "cell_type": "markdown",
   "metadata": {},
   "source": [
    "### Set output file location"
   ]
  },
  {
   "cell_type": "code",
   "execution_count": null,
   "metadata": {},
   "outputs": [],
   "source": []
  },
  {
   "cell_type": "code",
   "execution_count": 29,
   "metadata": {},
   "outputs": [],
   "source": [
    "Output_loc = f'/g/data/r78/rjd547/CEWO_Project/prototyping_outputs/'#'{input_file}_{early_buffer}-{late_buffer}.png'"
   ]
  },
  {
   "cell_type": "markdown",
   "metadata": {},
   "source": [
    "Choose a timestep here"
   ]
  },
  {
   "cell_type": "code",
   "execution_count": 53,
   "metadata": {},
   "outputs": [],
   "source": [
    "image_index = 0"
   ]
  },
  {
   "cell_type": "markdown",
   "metadata": {},
   "source": [
    "get time string"
   ]
  },
  {
   "cell_type": "code",
   "execution_count": 54,
   "metadata": {},
   "outputs": [
    {
     "name": "stdout",
     "output_type": "stream",
     "text": [
      "2018-09-11\n"
     ]
    }
   ],
   "source": [
    "image_date = str(WITmaps[image_index].time.data)[:10]\n",
    "print(image_date)"
   ]
  },
  {
   "cell_type": "code",
   "execution_count": 55,
   "metadata": {},
   "outputs": [],
   "source": [
    "file_num = input_file.split('.')[0]"
   ]
  },
  {
   "cell_type": "code",
   "execution_count": 56,
   "metadata": {},
   "outputs": [
    {
     "name": "stdout",
     "output_type": "stream",
     "text": [
      "9_2018-09-11\n"
     ]
    }
   ],
   "source": [
    "print(f'{file_num}_{image_date}')"
   ]
  },
  {
   "cell_type": "code",
   "execution_count": 58,
   "metadata": {},
   "outputs": [
    {
     "data": {
      "image/png": "[encoded data removed]",
      "text/plain": [
       "<Figure size 432x288 with 2 Axes>"
      ]
     },
     "metadata": {
      "needs_background": "light"
     },
     "output_type": "display_data"
    }
   ],
   "source": [
    "%matplotlib inline\n",
    "WITmaps[image_index].plot(vmin = 1, vmax = 5.01, levels=6, colors = pal)#, add_colorbar=False)#,figsize=(8,12))\n",
    "plt.show()"
   ]
  },
  {
   "cell_type": "code",
   "execution_count": 59,
   "metadata": {},
   "outputs": [],
   "source": [
    "outfilename = f'{file_num}_{image_date}'"
   ]
  },
  {
   "cell_type": "code",
   "execution_count": 61,
   "metadata": {},
   "outputs": [],
   "source": [
    "geotiff_WITmaps = WITmaps.isel(time=image_index).to_dataset()\n",
    "geotiff_WITmaps.attrs = WITmaps.attrs"
   ]
  },
  {
   "cell_type": "code",
   "execution_count": 62,
   "metadata": {},
   "outputs": [],
   "source": [
    "#transfer datatype to uint8 for ArcGIS import\n",
    "geotiff_WITmaps_8 = geotiff_WITmaps.astype('uint8')\n",
    "geotiff_WITmaps_8.attrs = WITmaps.attrs"
   ]
  },
  {
   "cell_type": "code",
   "execution_count": 63,
   "metadata": {},
   "outputs": [
    {
     "data": {
      "text/plain": [
       "'/g/data/r78/rjd547/CEWO_Project/prototyping_outputs/9_2018-09-11'"
      ]
     },
     "execution_count": 63,
     "metadata": {},
     "output_type": "execute_result"
    }
   ],
   "source": [
    "Output_loc+outfilename"
   ]
  },
  {
   "cell_type": "code",
   "execution_count": 64,
   "metadata": {},
   "outputs": [],
   "source": [
    "datacube.helpers.write_geotiff(Output_loc+outfilename+'.tif', geotiff_WITmaps_8)"
   ]
  },
  {
   "cell_type": "code",
   "execution_count": null,
   "metadata": {},
   "outputs": [],
   "source": []
  }
 ],
 "metadata": {
  "kernelspec": {
   "display_name": "Python 3",
   "language": "python",
   "name": "python3"
  },
  "language_info": {
   "codemirror_mode": {
    "name": "ipython",
    "version": 3
   },
   "file_extension": ".py",
   "mimetype": "text/x-python",
   "name": "python",
   "nbconvert_exporter": "python",
   "pygments_lexer": "ipython3",
   "version": "3.6.7"
  },
  "widgets": {
   "application/vnd.jupyter.widget-state+json": {
    "state": {
     "13c7873e29554bff92e8095237d49150": {
      "model_module": "jupyter-matplotlib",
      "model_module_version": "^0.4.2",
      "model_name": "MPLCanvasModel",
      "state": {
       "layout": "IPY_MODEL_d3d3041374dd424f91f4d9555cfd8239",
       "toolbar": "IPY_MODEL_2b7dc5d90a1c4f46bd07e519a0882208",
       "toolbar_position": "left"
      }
     },
     "1fdce7860174483bbea8d9659d4dddfa": {
      "model_module": "@jupyter-widgets/base",
      "model_module_version": "1.2.0",
      "model_name": "LayoutModel",
      "state": {}
     },
     "2b7dc5d90a1c4f46bd07e519a0882208": {
      "model_module": "jupyter-matplotlib",
      "model_module_version": "^0.4.2",
      "model_name": "ToolbarModel",
      "state": {
       "layout": "IPY_MODEL_5a011fe9d66b44349c7ab9252ec74704",
       "toolitems": [
        [
         "Home",
         "Reset original view",
         "home",
         "home"
        ],
        [
         "Back",
         "Back to previous view",
         "arrow-left",
         "back"
        ],
        [
         "Forward",
         "Forward to next view",
         "arrow-right",
         "forward"
        ],
        [
         "Pan",
         "Pan axes with left mouse, zoom with right",
         "arrows",
         "pan"
        ],
        [
         "Zoom",
         "Zoom to rectangle",
         "square-o",
         "zoom"
        ],
        [
         "Download",
         "Download plot",
         "floppy-o",
         "save_figure"
        ]
       ]
      }
     },
     "31e10e28f31e4262948d9ca3dccc3171": {
      "model_module": "@jupyter-widgets/base",
      "model_module_version": "1.2.0",
      "model_name": "LayoutModel",
      "state": {}
     },
     "32dac3bb5a4a49e899895c4068bffb1d": {
      "model_module": "jupyter-matplotlib",
      "model_module_version": "^0.4.2",
      "model_name": "MPLCanvasModel",
      "state": {
       "layout": "IPY_MODEL_d45ad38de6284d3f88631a6fd883b534",
       "toolbar": "IPY_MODEL_50e4c5f2e7e14091bef63fda76eb0ff5",
       "toolbar_position": "left"
      }
     },
     "334bb418fef246c0a5b0f4a2466d67f7": {
      "model_module": "jupyter-matplotlib",
      "model_module_version": "^0.4.2",
      "model_name": "MPLCanvasModel",
      "state": {
       "layout": "IPY_MODEL_d3396c0d37404246a7cc76a93cd1ee33",
       "toolbar": "IPY_MODEL_5fbd0710fb084011baefadc6eac37e41",
       "toolbar_position": "left"
      }
     },
     "3a41b4e1db8540de9ed08710fd34dabd": {
      "model_module": "@jupyter-widgets/base",
      "model_module_version": "1.2.0",
      "model_name": "LayoutModel",
      "state": {}
     },
     "4843e92914b44a0b8bee093fddff7387": {
      "model_module": "@jupyter-widgets/base",
      "model_module_version": "1.2.0",
      "model_name": "LayoutModel",
      "state": {}
     },
     "4999542bbb4244fa806b7cab25923caf": {
      "model_module": "jupyter-matplotlib",
      "model_module_version": "^0.4.2",
      "model_name": "ToolbarModel",
      "state": {
       "layout": "IPY_MODEL_4eccef564a174f4fbd1703b38de430de",
       "toolitems": [
        [
         "Home",
         "Reset original view",
         "home",
         "home"
        ],
        [
         "Back",
         "Back to previous view",
         "arrow-left",
         "back"
        ],
        [
         "Forward",
         "Forward to next view",
         "arrow-right",
         "forward"
        ],
        [
         "Pan",
         "Pan axes with left mouse, zoom with right",
         "arrows",
         "pan"
        ],
        [
         "Zoom",
         "Zoom to rectangle",
         "square-o",
         "zoom"
        ],
        [
         "Download",
         "Download plot",
         "floppy-o",
         "save_figure"
        ]
       ]
      }
     },
     "4eccef564a174f4fbd1703b38de430de": {
      "model_module": "@jupyter-widgets/base",
      "model_module_version": "1.2.0",
      "model_name": "LayoutModel",
      "state": {}
     },
     "50e4c5f2e7e14091bef63fda76eb0ff5": {
      "model_module": "jupyter-matplotlib",
      "model_module_version": "^0.4.2",
      "model_name": "ToolbarModel",
      "state": {
       "layout": "IPY_MODEL_31e10e28f31e4262948d9ca3dccc3171",
       "toolitems": [
        [
         "Home",
         "Reset original view",
         "home",
         "home"
        ],
        [
         "Back",
         "Back to previous view",
         "arrow-left",
         "back"
        ],
        [
         "Forward",
         "Forward to next view",
         "arrow-right",
         "forward"
        ],
        [
         "Pan",
         "Pan axes with left mouse, zoom with right",
         "arrows",
         "pan"
        ],
        [
         "Zoom",
         "Zoom to rectangle",
         "square-o",
         "zoom"
        ],
        [
         "Download",
         "Download plot",
         "floppy-o",
         "save_figure"
        ]
       ]
      }
     },
     "538a9988c8074b2fa7a5af077ad49d63": {
      "model_module": "jupyter-matplotlib",
      "model_module_version": "^0.4.2",
      "model_name": "MPLCanvasModel",
      "state": {
       "layout": "IPY_MODEL_4843e92914b44a0b8bee093fddff7387",
       "toolbar": "IPY_MODEL_e15c32c312c842879fc91353866ec73b",
       "toolbar_position": "left"
      }
     },
     "5a011fe9d66b44349c7ab9252ec74704": {
      "model_module": "@jupyter-widgets/base",
      "model_module_version": "1.2.0",
      "model_name": "LayoutModel",
      "state": {}
     },
     "5fbd0710fb084011baefadc6eac37e41": {
      "model_module": "jupyter-matplotlib",
      "model_module_version": "^0.4.2",
      "model_name": "ToolbarModel",
      "state": {
       "layout": "IPY_MODEL_1fdce7860174483bbea8d9659d4dddfa",
       "toolitems": [
        [
         "Home",
         "Reset original view",
         "home",
         "home"
        ],
        [
         "Back",
         "Back to previous view",
         "arrow-left",
         "back"
        ],
        [
         "Forward",
         "Forward to next view",
         "arrow-right",
         "forward"
        ],
        [
         "Pan",
         "Pan axes with left mouse, zoom with right",
         "arrows",
         "pan"
        ],
        [
         "Zoom",
         "Zoom to rectangle",
         "square-o",
         "zoom"
        ],
        [
         "Download",
         "Download plot",
         "floppy-o",
         "save_figure"
        ]
       ]
      }
     },
     "6115be88a6af443495456763c2724165": {
      "model_module": "jupyter-matplotlib",
      "model_module_version": "^0.4.2",
      "model_name": "MPLCanvasModel",
      "state": {
       "layout": "IPY_MODEL_c73347e752a84ea98b77be45092e28a9",
       "toolbar": "IPY_MODEL_a1207dfd770b4ac7b7019b6eff4f79f2",
       "toolbar_position": "left"
      }
     },
     "7bc5ef7b41034c36aa0e9f0830f1c24e": {
      "model_module": "@jupyter-widgets/base",
      "model_module_version": "1.2.0",
      "model_name": "LayoutModel",
      "state": {}
     },
     "8486757cf42643fcb0d2c99e6859a148": {
      "model_module": "jupyter-matplotlib",
      "model_module_version": "^0.4.2",
      "model_name": "MPLCanvasModel",
      "state": {
       "layout": "IPY_MODEL_3a41b4e1db8540de9ed08710fd34dabd",
       "toolbar": "IPY_MODEL_ecdc6b622275442090209fd8697330fd",
       "toolbar_position": "left"
      }
     },
     "8faa2b7261f8474eb391730354948136": {
      "model_module": "@jupyter-widgets/base",
      "model_module_version": "1.2.0",
      "model_name": "LayoutModel",
      "state": {}
     },
     "a1207dfd770b4ac7b7019b6eff4f79f2": {
      "model_module": "jupyter-matplotlib",
      "model_module_version": "^0.4.2",
      "model_name": "ToolbarModel",
      "state": {
       "layout": "IPY_MODEL_e8283ab5b20244b59ba9e79ff13eca34",
       "toolitems": [
        [
         "Home",
         "Reset original view",
         "home",
         "home"
        ],
        [
         "Back",
         "Back to previous view",
         "arrow-left",
         "back"
        ],
        [
         "Forward",
         "Forward to next view",
         "arrow-right",
         "forward"
        ],
        [
         "Pan",
         "Pan axes with left mouse, zoom with right",
         "arrows",
         "pan"
        ],
        [
         "Zoom",
         "Zoom to rectangle",
         "square-o",
         "zoom"
        ],
        [
         "Download",
         "Download plot",
         "floppy-o",
         "save_figure"
        ]
       ]
      }
     },
     "c73347e752a84ea98b77be45092e28a9": {
      "model_module": "@jupyter-widgets/base",
      "model_module_version": "1.2.0",
      "model_name": "LayoutModel",
      "state": {}
     },
     "d3396c0d37404246a7cc76a93cd1ee33": {
      "model_module": "@jupyter-widgets/base",
      "model_module_version": "1.2.0",
      "model_name": "LayoutModel",
      "state": {}
     },
     "d3d3041374dd424f91f4d9555cfd8239": {
      "model_module": "@jupyter-widgets/base",
      "model_module_version": "1.2.0",
      "model_name": "LayoutModel",
      "state": {}
     },
     "d45ad38de6284d3f88631a6fd883b534": {
      "model_module": "@jupyter-widgets/base",
      "model_module_version": "1.2.0",
      "model_name": "LayoutModel",
      "state": {}
     },
     "e15c32c312c842879fc91353866ec73b": {
      "model_module": "jupyter-matplotlib",
      "model_module_version": "^0.4.2",
      "model_name": "ToolbarModel",
      "state": {
       "layout": "IPY_MODEL_7bc5ef7b41034c36aa0e9f0830f1c24e",
       "toolitems": [
        [
         "Home",
         "Reset original view",
         "home",
         "home"
        ],
        [
         "Back",
         "Back to previous view",
         "arrow-left",
         "back"
        ],
        [
         "Forward",
         "Forward to next view",
         "arrow-right",
         "forward"
        ],
        [
         "Pan",
         "Pan axes with left mouse, zoom with right",
         "arrows",
         "pan"
        ],
        [
         "Zoom",
         "Zoom to rectangle",
         "square-o",
         "zoom"
        ],
        [
         "Download",
         "Download plot",
         "floppy-o",
         "save_figure"
        ]
       ]
      }
     },
     "e8283ab5b20244b59ba9e79ff13eca34": {
      "model_module": "@jupyter-widgets/base",
      "model_module_version": "1.2.0",
      "model_name": "LayoutModel",
      "state": {}
     },
     "ecdc6b622275442090209fd8697330fd": {
      "model_module": "jupyter-matplotlib",
      "model_module_version": "^0.4.2",
      "model_name": "ToolbarModel",
      "state": {
       "layout": "IPY_MODEL_f1b2afc71a554bbdbd6569a88d165a21",
       "toolitems": [
        [
         "Home",
         "Reset original view",
         "home",
         "home"
        ],
        [
         "Back",
         "Back to previous view",
         "arrow-left",
         "back"
        ],
        [
         "Forward",
         "Forward to next view",
         "arrow-right",
         "forward"
        ],
        [
         "Pan",
         "Pan axes with left mouse, zoom with right",
         "arrows",
         "pan"
        ],
        [
         "Zoom",
         "Zoom to rectangle",
         "square-o",
         "zoom"
        ],
        [
         "Download",
         "Download plot",
         "floppy-o",
         "save_figure"
        ]
       ]
      }
     },
     "edcd67747bb548729dac0494d82aaa8d": {
      "model_module": "jupyter-matplotlib",
      "model_module_version": "^0.4.2",
      "model_name": "MPLCanvasModel",
      "state": {
       "layout": "IPY_MODEL_8faa2b7261f8474eb391730354948136",
       "toolbar": "IPY_MODEL_4999542bbb4244fa806b7cab25923caf",
       "toolbar_position": "left"
      }
     },
     "f1b2afc71a554bbdbd6569a88d165a21": {
      "model_module": "@jupyter-widgets/base",
      "model_module_version": "1.2.0",
      "model_name": "LayoutModel",
      "state": {}
     }
    },
    "version_major": 2,
    "version_minor": 0
   }
  }
 },
 "nbformat": 4,
 "nbformat_minor": 4
}
