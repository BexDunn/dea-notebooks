{
 "cells": [
  {
   "cell_type": "markdown",
   "metadata": {},
   "source": [
    "# Draft Inundation duration notebook"
   ]
  },
  {
   "cell_type": "markdown",
   "metadata": {},
   "source": [
    "**What does this notebook do?** \n",
    "\n",
    "**Requirements:**\n",
    "\n",
    "You need [data access](http://geoscienceaustralia.github.io/digitalearthau/connect/account.html#data-access) to the following [NCI projects](http://geoscienceaustralia.github.io/digitalearthau/connect/account.html#nci-account-registration) to run this notebook: `rs0` \n",
    "\n",
    "You need to run the following commands from the command line prior to launching jupyter notebooks from the same terminal so that the required libraries and paths are set:\n",
    "\n",
    "`module use /g/data/v10/public/modules/modulefiles` \n",
    "\n",
    "`module load dea`\n",
    "\n",
    "If you find an error or bug in this notebook, please either create an 'Issue' in the Github repository, or fix it yourself and create a 'Pull' request to contribute the updated notebook back into the repository (See the repository [README](https://github.com/GeoscienceAustralia/dea-notebooks/blob/master/README.rst) for instructions on creating a Pull request).\n",
    "\n",
    "**Date:** July 2019\n",
    "\n",
    "**Author:** Bex Dunn"
   ]
  },
  {
   "cell_type": "markdown",
   "metadata": {},
   "source": [
    "#Fixme: update tags index\n",
    "\n",
    "**Tags**: :index:`ITEM`, :index:`ITEM_confidence`, :index:`intertidal_zone`, :index:`masking`, :index:`query`, :index:`dc.load`, :index:`plot`"
   ]
  },
  {
   "cell_type": "markdown",
   "metadata": {},
   "source": [
    "### load modules"
   ]
  },
  {
   "cell_type": "code",
   "execution_count": 10,
   "metadata": {},
   "outputs": [
    {
     "name": "stdout",
     "output_type": "stream",
     "text": [
      "The autoreload extension is already loaded. To reload it, use:\n",
      "  %reload_ext autoreload\n"
     ]
    }
   ],
   "source": [
    "import datacube\n",
    "import datetime\n",
    "import fiona\n",
    "import geopandas as gpd\n",
    "import numpy as np\n",
    "import pandas as pd\n",
    "import rasterio.mask\n",
    "import rasterio.features\n",
    "from shapely import geometry\n",
    "import seaborn as sns\n",
    "import sys\n",
    "import xarray as xr\n",
    "\n",
    "from datetime import datetime, timedelta\n",
    "import matplotlib.dates as mdates\n",
    "import matplotlib.gridspec as gridspec\n",
    "import matplotlib.pyplot as plt\n",
    "from matplotlib.patches import Rectangle\n",
    "from textwrap import wrap\n",
    "\n",
    "from datacube.storage import masking\n",
    "from datacube.utils import geometry\n",
    "from datacube.utils.geometry import CRS\n",
    "from digitalearthau.utils import wofs_fuser\n",
    "\n",
    "sys.path.append('/g/data/r78/rjd547/jupyter_notebooks/dea-notebooks/10_Scripts')\n",
    "import DEADataHandling, DEAPlotting, TasseledCapTools, WetlandsTools\n",
    "\n",
    "dc = datacube.Datacube(app='wetlands insight tool')\n",
    "%load_ext autoreload\n",
    "%autoreload 2"
   ]
  },
  {
   "cell_type": "markdown",
   "metadata": {},
   "source": [
    "## define custom functions only used in this notebook"
   ]
  },
  {
   "cell_type": "markdown",
   "metadata": {},
   "source": [
    "### specify input and output paths"
   ]
  },
  {
   "cell_type": "code",
   "execution_count": 11,
   "metadata": {},
   "outputs": [],
   "source": [
    "#path to hydrograph data\n",
    "flowdata = '/g/data/r78/rjd547/CEWO_Project/Data/flow_data_mac_marsh_2018/FlowData.xlsx'"
   ]
  },
  {
   "cell_type": "code",
   "execution_count": 12,
   "metadata": {},
   "outputs": [],
   "source": [
    "#set output directory\n",
    "global Output_dir\n",
    "Output_dir = '/g/data/r78/rjd547/CEWO_Project/prototyping_outputs/'"
   ]
  },
  {
   "cell_type": "code",
   "execution_count": 13,
   "metadata": {},
   "outputs": [],
   "source": [
    "#set polygon path\n",
    "poly_path='/g/data/r78/rjd547/Ramsar_Wetlands/shapefiles/ExplodedRAMSAR.shp'"
   ]
  },
  {
   "cell_type": "markdown",
   "metadata": {},
   "source": [
    "### define an area to work in"
   ]
  },
  {
   "cell_type": "code",
   "execution_count": 14,
   "metadata": {},
   "outputs": [],
   "source": [
    "# # Set up analysis data query using a buffer around a lat-long point\n",
    "# lat, lon, buffer = -30.72360833, 147.53250000, 5000\n",
    "# x, y = geometry.point(lon, lat, CRS('WGS84')).to_crs(CRS('EPSG:3577')).points[0]\n",
    "# query = {'x': (x - buffer, x + buffer),\n",
    "#          'y': (y - buffer, y + buffer),    \n",
    "#          #'time': ('2015-01-01', '2018-07-30'),\n",
    "#          'time': ('1987-01-01', '2019-01-01'),\n",
    "#          'crs': 'EPSG:3577'}\n"
   ]
  },
  {
   "cell_type": "markdown",
   "metadata": {},
   "source": [
    "## get feature from shapefile to construct query"
   ]
  },
  {
   "cell_type": "code",
   "execution_count": 15,
   "metadata": {},
   "outputs": [
    {
     "name": "stdout",
     "output_type": "stream",
     "text": [
      "processing polygon The_Macquarie_Marshes-Macquarie_Marshes_Nature_Reserve-NSW-94\n",
      "The_Macquarie_Marshes-Macquarie_Marshes_Nature_Reserve-NSW-94\n"
     ]
    }
   ],
   "source": [
    "with fiona.open(poly_path) as shapes:\n",
    "    #get crs object from polygon file\n",
    "    crs = geometry.CRS(shapes.crs_wkt)\n",
    "    for feature in shapes:\n",
    "        #print (feature['id'])\n",
    "        if feature['id'] == str(94): #matching this because I know the number for mac marshes\n",
    "            #get feature geometry\n",
    "            feature_geometry=feature['geometry']\n",
    "            polyname_test =WetlandsTools.get_RAMSAR_polyName(feature)\n",
    "            print(polyname_test)\n",
    "            #create datacube geometry.Geometry object\n",
    "            geom = geometry.Geometry(feature_geometry, crs=crs)\n",
    "            query = {'geopolygon': geom}#, 'time': ('2001-01-01', '2003-01-01') }# this should run for all time, if there is no time set?\n",
    "            #load and mask data. selecting data with more than 90% clear for the geobox around the polygon... #FIXME"
   ]
  },
  {
   "cell_type": "markdown",
   "metadata": {},
   "source": [
    "### show our area of interest on a map"
   ]
  },
  {
   "cell_type": "code",
   "execution_count": 16,
   "metadata": {},
   "outputs": [],
   "source": [
    "# get the bounding box around the polygon in order to plot our area of interest\n",
    "feature_bounding_box = geometry.Geometry(feature_geometry, crs=crs).boundingbox"
   ]
  },
  {
   "cell_type": "code",
   "execution_count": 17,
   "metadata": {},
   "outputs": [],
   "source": [
    "map = DEAPlotting.display_map(y=(feature_bounding_box[1], feature_bounding_box[3]), x = (feature_bounding_box[0], feature_bounding_box[2]))"
   ]
  },
  {
   "cell_type": "code",
   "execution_count": 18,
   "metadata": {},
   "outputs": [
    {
     "data": {
      "text/html": [
       "<div style=\"width:100%;\"><div style=\"position:relative;width:100%;height:0;padding-bottom:60%;\"><iframe src=\"data:text/html;charset=utf-8;base64,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\" style=\"position:absolute;width:100%;height:100%;left:0;top:0;border:none !important;\" allowfullscreen webkitallowfullscreen mozallowfullscreen></iframe></div></div>"
      ],
      "text/plain": [
       "<folium.folium.Map at 0x7fb284f69780>"
      ]
     },
     "execution_count": 18,
     "metadata": {},
     "output_type": "execute_result"
    }
   ],
   "source": [
    "map"
   ]
  },
  {
   "cell_type": "code",
   "execution_count": null,
   "metadata": {},
   "outputs": [],
   "source": [
    "import folium\n",
    "from pyproj import Proj, transform\n",
    "import math\n",
    "\n",
    "# Define function to assist `display_map` in selecting a zoom level for plotting\n",
    "def _degree_to_zoom_level(l1, l2, margin = 0.0):\n",
    "    \n",
    "    \"\"\"\n",
    "    Helper function to set zoom level for `display_map`\n",
    "    \"\"\"\n",
    "    \n",
    "    degree = abs(l1 - l2) * (1 + margin)\n",
    "    zoom_level_int = 0\n",
    "    if degree != 0:\n",
    "        zoom_level_float = math.log(360 / degree) / math.log(2)\n",
    "        zoom_level_int = int(zoom_level_float)\n",
    "    else:\n",
    "        zoom_level_int = 18\n",
    "    return zoom_level_int\n",
    "\n",
    "# def display_map(y, x, crs='EPSG:3577', margin=-0.5, zoom_bias=0):\n",
    "y=(feature_bounding_box[1], feature_bounding_box[3])\n",
    "x = (feature_bounding_box[0], feature_bounding_box[2])\n",
    "crs='EPSG:3577'\n",
    "margin=-0.5\n",
    "zoom_bias=0\n",
    "\n",
    "\"\"\" \n",
    "Given a set of x and y coordinates, this function generates an interactive map with a bounded \n",
    "rectangle overlayed on Google Maps imagery.        \n",
    "\n",
    "Last modified: November 2018\n",
    "Author: Robbi Bishop-Taylor\n",
    "\n",
    "Modified from function written by Otto Wagner available here: \n",
    "https://github.com/ceos-seo/data_cube_utilities/tree/master/data_cube_utilities\n",
    "\n",
    "Parameters\n",
    "----------  \n",
    "x : (float, float)\n",
    "    A tuple of x coordinates in (min, max) format. \n",
    "y : (float, float)\n",
    "    A tuple of y coordinates in (min, max) format.\n",
    "crs : string, optional\n",
    "    A string giving the EPSG CRS code of the supplied coordinates. The default is 'EPSG:3577'.\n",
    "margin : float\n",
    "    A numeric value giving the number of degrees lat-long to pad the edges of the rectangular overlay \n",
    "    polygon. A larger value results more space between the edge of the plot and the sides of the polygon.\n",
    "    Defaults to -0.5.\n",
    "zoom_bias : float or int\n",
    "    A numeric value allowing you to increase or decrease the zoom level by one step. Defaults to 0; set\n",
    "    to greater than 0 to zoom in, and less than 0 to zoom out.\n",
    "\n",
    "Returns\n",
    "-------\n",
    "folium.Map : A map centered on the supplied coordinate bounds. A rectangle is drawn on this map detailing \n",
    "the perimeter of the x, y bounds.  A zoom level is calculated such that the resulting viewport is the\n",
    "closest it can possibly get to the centered bounding rectangle without clipping it. \n",
    "\"\"\"\n",
    "    \n",
    "# Convert each corner coordinates to lat-lon\n",
    "all_x = (x[0], x[1], x[0], x[1])\n",
    "all_y = (y[0], y[0], y[1], y[1])        \n",
    "all_longitude, all_latitude = transform(Proj(init=crs), Proj(init='EPSG:4326'), all_x, all_y) \n",
    "\n",
    "# Calculate zoom level based on coordinates \n",
    "lat_zoom_level = _degree_to_zoom_level(min(all_latitude), max(all_latitude), margin = margin) + zoom_bias\n",
    "lon_zoom_level = _degree_to_zoom_level(min(all_longitude), max(all_longitude), margin = margin) + zoom_bias\n",
    "zoom_level = min(lat_zoom_level, lon_zoom_level) \n",
    "\n",
    "# Identify centre point for plotting\n",
    "center = [np.mean(all_latitude), np.mean(all_longitude)]\n",
    "\n",
    "# Create map\n",
    "interactive_map = folium.Map(location=center,\n",
    "                             zoom_start=zoom_level,\n",
    "                             tiles=\"http://mt1.google.com/vt/lyrs=y&z={z}&x={x}&y={y}\",\n",
    "                             attr=\"Google\") \n",
    "\n",
    "# Create bounding box coordinates to overlay on map\n",
    "line_segments = [(all_latitude[0], all_longitude[0]),\n",
    "                 (all_latitude[1], all_longitude[1]),\n",
    "                 (all_latitude[3], all_longitude[3]),\n",
    "                 (all_latitude[2], all_longitude[2]),\n",
    "                 (all_latitude[0], all_longitude[0])] \n",
    "\n",
    "# Add bounding box as an overlay\n",
    "interactive_map.add_child(folium.features.PolyLine(locations=line_segments,\n",
    "                                                   color='red', opacity=0.8))\n",
    "\n",
    "       \n",
    "map_poly_geom =geom.to_crs(CRS('epsg:4326'))\n",
    "# geom = folium.GeoJson(gg.__geo_interface__) \n",
    "interactive_map.add_child(folium.GeoJson(map_poly_geom.__geo_interface__))"
   ]
  },
  {
   "cell_type": "code",
   "execution_count": null,
   "metadata": {},
   "outputs": [],
   "source": [
    "map_poly_geom =geom.to_crs(CRS('epsg:4326'))"
   ]
  },
  {
   "cell_type": "code",
   "execution_count": 19,
   "metadata": {},
   "outputs": [],
   "source": [
    "def display_map(y, x, crs='EPSG:3577', margin=-0.5, zoom_bias=0):\n",
    "    \n",
    "    \"\"\" \n",
    "    Given a set of x and y coordinates, this function generates an interactive map with a bounded \n",
    "    rectangle overlayed on Google Maps imagery.        \n",
    "    \n",
    "    Last modified: November 2018\n",
    "    Author: Robbi Bishop-Taylor\n",
    "    \n",
    "    Modified from function written by Otto Wagner available here: \n",
    "    https://github.com/ceos-seo/data_cube_utilities/tree/master/data_cube_utilities\n",
    "    \n",
    "    Parameters\n",
    "    ----------  \n",
    "    x : (float, float)\n",
    "        A tuple of x coordinates in (min, max) format. \n",
    "    y : (float, float)\n",
    "        A tuple of y coordinates in (min, max) format.\n",
    "    crs : string, optional\n",
    "        A string giving the EPSG CRS code of the supplied coordinates. The default is 'EPSG:3577'.\n",
    "    margin : float\n",
    "        A numeric value giving the number of degrees lat-long to pad the edges of the rectangular overlay \n",
    "        polygon. A larger value results more space between the edge of the plot and the sides of the polygon.\n",
    "        Defaults to -0.5.\n",
    "    zoom_bias : float or int\n",
    "        A numeric value allowing you to increase or decrease the zoom level by one step. Defaults to 0; set\n",
    "        to greater than 0 to zoom in, and less than 0 to zoom out.\n",
    "        \n",
    "    Returns\n",
    "    -------\n",
    "    folium.Map : A map centered on the supplied coordinate bounds. A rectangle is drawn on this map detailing \n",
    "    the perimeter of the x, y bounds.  A zoom level is calculated such that the resulting viewport is the\n",
    "    closest it can possibly get to the centered bounding rectangle without clipping it. \n",
    "    \"\"\"\n",
    "    \n",
    "    # Convert each corner coordinates to lat-lon\n",
    "    all_x = (x[0], x[1], x[0], x[1])\n",
    "    all_y = (y[0], y[0], y[1], y[1])        \n",
    "    all_longitude, all_latitude = transform(Proj(init=crs), Proj(init='EPSG:4326'), all_x, all_y) \n",
    "\n",
    "    # Calculate zoom level based on coordinates \n",
    "    lat_zoom_level = _degree_to_zoom_level(min(all_latitude), max(all_latitude), margin = margin) + zoom_bias\n",
    "    lon_zoom_level = _degree_to_zoom_level(min(all_longitude), max(all_longitude), margin = margin) + zoom_bias\n",
    "    zoom_level = min(lat_zoom_level, lon_zoom_level) \n",
    "\n",
    "    # Identify centre point for plotting\n",
    "    center = [np.mean(all_latitude), np.mean(all_longitude)]\n",
    "\n",
    "    # Create map\n",
    "    interactive_map = folium.Map(location=center,\n",
    "                                 zoom_start=zoom_level,\n",
    "                                 tiles=\"http://mt1.google.com/vt/lyrs=y&z={z}&x={x}&y={y}\",\n",
    "                                 attr=\"Google\") \n",
    "\n",
    "#     # Create bounding box coordinates to overlay on map\n",
    "#     line_segments = [(all_latitude[0], all_longitude[0]),\n",
    "#                      (all_latitude[1], all_longitude[1]),\n",
    "#                      (all_latitude[3], all_longitude[3]),\n",
    "#                      (all_latitude[2], all_longitude[2]),\n",
    "#                      (all_latitude[0], all_longitude[0])] \n",
    "    \n",
    "#     # Add bounding box as an overlay\n",
    "#     interactive_map.add_child(folium.features.PolyLine(locations=line_segments,\n",
    "#                                                        color='red', opacity=0.8))\n",
    "    \n",
    "    interactive_map.add_child(folium.GeoJson(map_poly_geom.__geo_interface__))\n",
    "\n",
    "    # Add clickable lat-lon popup box\n",
    "    interactive_map.add_child(folium.features.LatLngPopup())        \n",
    "\n",
    "    return interactive_map"
   ]
  },
  {
   "cell_type": "code",
   "execution_count": 22,
   "metadata": {},
   "outputs": [],
   "source": [
    "args= {'overlay':None}"
   ]
  },
  {
   "cell_type": "code",
   "execution_count": 23,
   "metadata": {},
   "outputs": [
    {
     "ename": "TypeError",
     "evalue": "display_map() got an unexpected keyword argument 'overlay'",
     "output_type": "error",
     "traceback": [
      "\u001b[0;31m---------------------------------------------------------------------------\u001b[0m",
      "\u001b[0;31mTypeError\u001b[0m                                 Traceback (most recent call last)",
      "\u001b[0;32m<ipython-input-23-17d204b53e88>\u001b[0m in \u001b[0;36m<module>\u001b[0;34m\u001b[0m\n\u001b[0;32m----> 1\u001b[0;31m \u001b[0mDEAPlotting\u001b[0m\u001b[0;34m.\u001b[0m\u001b[0mdisplay_map\u001b[0m\u001b[0;34m(\u001b[0m\u001b[0my\u001b[0m\u001b[0;34m=\u001b[0m\u001b[0;34m(\u001b[0m\u001b[0mfeature_bounding_box\u001b[0m\u001b[0;34m[\u001b[0m\u001b[0;36m1\u001b[0m\u001b[0;34m]\u001b[0m\u001b[0;34m,\u001b[0m \u001b[0mfeature_bounding_box\u001b[0m\u001b[0;34m[\u001b[0m\u001b[0;36m3\u001b[0m\u001b[0;34m]\u001b[0m\u001b[0;34m)\u001b[0m\u001b[0;34m,\u001b[0m \u001b[0mx\u001b[0m \u001b[0;34m=\u001b[0m \u001b[0;34m(\u001b[0m\u001b[0mfeature_bounding_box\u001b[0m\u001b[0;34m[\u001b[0m\u001b[0;36m0\u001b[0m\u001b[0;34m]\u001b[0m\u001b[0;34m,\u001b[0m \u001b[0mfeature_bounding_box\u001b[0m\u001b[0;34m[\u001b[0m\u001b[0;36m2\u001b[0m\u001b[0;34m]\u001b[0m\u001b[0;34m)\u001b[0m\u001b[0;34m,\u001b[0m \u001b[0;34m**\u001b[0m\u001b[0margs\u001b[0m\u001b[0;34m)\u001b[0m\u001b[0;34m\u001b[0m\u001b[0;34m\u001b[0m\u001b[0m\n\u001b[0m",
      "\u001b[0;31mTypeError\u001b[0m: display_map() got an unexpected keyword argument 'overlay'"
     ]
    }
   ],
   "source": [
    "DEAPlotting.display_map(y=(feature_bounding_box[1], feature_bounding_box[3]), x = (feature_bounding_box[0], feature_bounding_box[2]), **args)"
   ]
  },
  {
   "cell_type": "code",
   "execution_count": null,
   "metadata": {},
   "outputs": [],
   "source": []
  }
 ],
 "metadata": {
  "kernelspec": {
   "display_name": "Python 3",
   "language": "python",
   "name": "python3"
  },
  "language_info": {
   "codemirror_mode": {
    "name": "ipython",
    "version": 3
   },
   "file_extension": ".py",
   "mimetype": "text/x-python",
   "name": "python",
   "nbconvert_exporter": "python",
   "pygments_lexer": "ipython3",
   "version": "3.6.7"
  }
 },
 "nbformat": 4,
 "nbformat_minor": 2
}
