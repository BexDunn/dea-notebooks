{
 "cells": [
  {
   "cell_type": "markdown",
   "metadata": {},
   "source": [
    "## WCF Modelling\n",
    "\n",
    "This code:\n",
    "\n",
    "- Import a CSV and create a random forest model\n",
    "- Choose a location and download some satellite data\n",
    "- Apply model to satellite image\n",
    "- Do some plotting"
   ]
  },
  {
   "cell_type": "markdown",
   "metadata": {},
   "source": [
    "#### Import modules"
   ]
  },
  {
   "cell_type": "code",
   "execution_count": 2,
   "metadata": {},
   "outputs": [],
   "source": [
    "%matplotlib inline\n",
    "\n",
    "import sys\n",
    "import pandas as pd\n",
    "import datacube\n",
    "import matplotlib.pyplot as plt\n",
    "\n",
    "sys.path.append(\"../Scripts\")\n",
    "from datacube.helpers import write_geotiff\n",
    "from dea_datahandling import load_ard\n",
    "from dea_datahandling import mostcommon_crs\n",
    "from dea_plotting import display_map\n",
    "from dea_plotting import rgb\n",
    "from dea_classificationtools import predict_xr\n",
    "from dea_classificationtools import sklearn_unflatten\n",
    "from dea_classificationtools import sklearn_flatten\n",
    "from datacube_stats.statistics import GeoMedian\n",
    "from dea_bandindices import calculate_indices\n",
    "\n",
    "from sklearn.model_selection import train_test_split, GridSearchCV, RandomizedSearchCV\n",
    "from sklearn.ensemble import RandomForestRegressor\n",
    "from sklearn import preprocessing\n",
    "from sklearn import metrics\n",
    "\n",
    "import numpy as np\n",
    "import xarray as xr\n",
    "from sklearn.model_selection import GridSearchCV\n",
    "import pickle"
   ]
  },
  {
   "cell_type": "code",
   "execution_count": 3,
   "metadata": {},
   "outputs": [],
   "source": [
    "dc = datacube.Datacube(app='WCF')"
   ]
  },
  {
   "cell_type": "markdown",
   "metadata": {},
   "source": [
    "#### Import training data csv"
   ]
  },
  {
   "cell_type": "code",
   "execution_count": 25,
   "metadata": {},
   "outputs": [
    {
     "data": {
      "text/html": [
       "<div>\n",
       "<style scoped>\n",
       "    .dataframe tbody tr th:only-of-type {\n",
       "        vertical-align: middle;\n",
       "    }\n",
       "\n",
       "    .dataframe tbody tr th {\n",
       "        vertical-align: top;\n",
       "    }\n",
       "\n",
       "    .dataframe thead th {\n",
       "        text-align: right;\n",
       "    }\n",
       "</style>\n",
       "<table border=\"1\" class=\"dataframe\">\n",
       "  <thead>\n",
       "    <tr style=\"text-align: right;\">\n",
       "      <th></th>\n",
       "      <th>WCF</th>\n",
       "      <th>blue</th>\n",
       "      <th>green</th>\n",
       "      <th>red</th>\n",
       "      <th>nir</th>\n",
       "      <th>swir1</th>\n",
       "      <th>swir2</th>\n",
       "    </tr>\n",
       "  </thead>\n",
       "  <tbody>\n",
       "    <tr>\n",
       "      <th>0</th>\n",
       "      <td>0.680150</td>\n",
       "      <td>0.024840</td>\n",
       "      <td>0.038088</td>\n",
       "      <td>0.041936</td>\n",
       "      <td>0.20717</td>\n",
       "      <td>0.11010</td>\n",
       "      <td>0.062355</td>\n",
       "    </tr>\n",
       "    <tr>\n",
       "      <th>1</th>\n",
       "      <td>0.408790</td>\n",
       "      <td>0.043154</td>\n",
       "      <td>0.063489</td>\n",
       "      <td>0.069489</td>\n",
       "      <td>0.22708</td>\n",
       "      <td>0.17888</td>\n",
       "      <td>0.115670</td>\n",
       "    </tr>\n",
       "    <tr>\n",
       "      <th>2</th>\n",
       "      <td>0.000004</td>\n",
       "      <td>0.034636</td>\n",
       "      <td>0.064774</td>\n",
       "      <td>0.063311</td>\n",
       "      <td>0.32425</td>\n",
       "      <td>0.21022</td>\n",
       "      <td>0.111040</td>\n",
       "    </tr>\n",
       "    <tr>\n",
       "      <th>3</th>\n",
       "      <td>0.216960</td>\n",
       "      <td>0.032932</td>\n",
       "      <td>0.046541</td>\n",
       "      <td>0.050958</td>\n",
       "      <td>0.18029</td>\n",
       "      <td>0.17601</td>\n",
       "      <td>0.108140</td>\n",
       "    </tr>\n",
       "    <tr>\n",
       "      <th>4</th>\n",
       "      <td>0.434480</td>\n",
       "      <td>0.030078</td>\n",
       "      <td>0.046560</td>\n",
       "      <td>0.047636</td>\n",
       "      <td>0.20356</td>\n",
       "      <td>0.12678</td>\n",
       "      <td>0.073669</td>\n",
       "    </tr>\n",
       "  </tbody>\n",
       "</table>\n",
       "</div>"
      ],
      "text/plain": [
       "        WCF      blue     green       red      nir    swir1     swir2\n",
       "0  0.680150  0.024840  0.038088  0.041936  0.20717  0.11010  0.062355\n",
       "1  0.408790  0.043154  0.063489  0.069489  0.22708  0.17888  0.115670\n",
       "2  0.000004  0.034636  0.064774  0.063311  0.32425  0.21022  0.111040\n",
       "3  0.216960  0.032932  0.046541  0.050958  0.18029  0.17601  0.108140\n",
       "4  0.434480  0.030078  0.046560  0.047636  0.20356  0.12678  0.073669"
      ]
     },
     "execution_count": 25,
     "metadata": {},
     "output_type": "execute_result"
    }
   ],
   "source": [
    "path = 'WCF_traindata_14122019.csv'\n",
    "df = pd.read_csv(path)\n",
    "df.head()"
   ]
  },
  {
   "cell_type": "markdown",
   "metadata": {},
   "source": [
    "#### Create and evaluate model\n",
    "\n",
    "https://www.youtube.com/watch?v=YYjvkSJoui4 "
   ]
  },
  {
   "cell_type": "markdown",
   "metadata": {},
   "source": [
    "Training data formatting"
   ]
  },
  {
   "cell_type": "code",
   "execution_count": null,
   "metadata": {},
   "outputs": [],
   "source": [
    "# Handle misisng data\n",
    "df = df.dropna()\n",
    "\n",
    "# Define dependent variable\n",
    "Y = df['WCF']\n",
    "\n",
    "# Define independent variables\n",
    "X = df.drop(labels=['WCF'],axis=1)\n",
    "\n",
    "# Split model into testing and training\n",
    "X_train, X_test, Y_train, Y_test = train_test_split(X, Y, test_size=0.2, random_state=20)"
   ]
  },
  {
   "cell_type": "markdown",
   "metadata": {},
   "source": [
    "Make a model"
   ]
  },
  {
   "cell_type": "code",
   "execution_count": null,
   "metadata": {},
   "outputs": [],
   "source": [
    "# Define model\n",
    "model = RandomForestRegressor(n_estimators=100, # number of trees in forest, is this equal to ensemble?\n",
    "                              #criterion = 'mse', # function to measure the quality of the split\n",
    "                              #max_depth = None, # max depth of tree. If None, then nodes are expanded until all laves are pure, or until all leaves contain less than min_samples_split\n",
    "                              min_samples_split = 2, # Min no. samples required to be at a split node \n",
    "                              min_samples_leaf = 50, # Min no. samples required to be at a leaf node \n",
    "                              #min_weight_fraction_leaf = 0, # The min weighted fraction. Samples have equal weight when 0.\n",
    "                              #max_features = 'auto', # The number of features to consider when looking for the best split\n",
    "                              #max_leaf_nodes = None, # If None, then unlimited number of leaf nodes\n",
    "                              #min_impurity_decrease = 0, # Split nodes to decrease impurity\n",
    "                              #min_impurity_split = 1e-7, # Replaced by min_impurity_decrease\n",
    "                              #bootstrap = true, # Whether to bootstrap samples when building trees. If False, the whole dataset is used ot build each tree.\n",
    "                              #oob_score = False, # Whether to use out-of-bag samples to estimate R^2 on unseen data\n",
    "                              #n_jobs = None, # The number of jobs to run in parallel. None means 1\n",
    "                              random_state=30, # Controls the randomness of bootstrapping and the sampling of features to consider for bets node split\n",
    "                              #verbose = 0, # Controls the verbosity when fititng and predicting\n",
    "                              #warm_start = False, # False - fit new forest, True - reuse solution from previous call amd add more estimators to ensemble\n",
    "                              #ccp_alpha = 0.0, # Complexity parameter\n",
    "                              #max_samples = None, # If bootstrap is True, the numbe rof samples to draw from X to train each base estimator\n",
    "                             )\n",
    "\n",
    "# Fit model\n",
    "model.fit(X_train,Y_train)\n",
    "\n",
    "# Predict test data\n",
    "prediction_test = model.predict(X_test)"
   ]
  },
  {
   "cell_type": "markdown",
   "metadata": {},
   "source": [
    "#### Performance metrics\n",
    "\n",
    "In draft:\n",
    "- Root mean square estimate (RMSE) = 0.061\n",
    "- Coefficient of determination (R^2) = 0.862\n",
    "- Nash-Sutcliffe model efficiency (ME) = 0.862"
   ]
  },
  {
   "cell_type": "code",
   "execution_count": null,
   "metadata": {},
   "outputs": [],
   "source": [
    "# Metrics\n",
    "print('Explained variance score = ')\n",
    "print(metrics.explained_variance_score(Y_test, prediction_test)) # what measure to use https://scikit-learn.org/stable/modules/model_evaluation.html\n",
    "print('R^2 =')\n",
    "print(metrics.r2_score(Y_test, prediction_test))\n",
    "print('RMSE =')\n",
    "print(metrics.mean_squared_error(Y_test, prediction_test))"
   ]
  },
  {
   "cell_type": "markdown",
   "metadata": {},
   "source": [
    "#### Do some pickling"
   ]
  },
  {
   "cell_type": "code",
   "execution_count": null,
   "metadata": {},
   "outputs": [],
   "source": [
    "# # Pickle this model\n",
    "# pickle_out = open('pickled.pickle','wb')\n",
    "# pickle.dump(model,pickle_out)\n",
    "# pickle_out.close()"
   ]
  },
  {
   "cell_type": "code",
   "execution_count": 44,
   "metadata": {},
   "outputs": [
    {
     "name": "stdout",
     "output_type": "stream",
     "text": [
      "RandomForestRegressor(bootstrap=True, ccp_alpha=0.0, criterion='mse',\n",
      "                      max_depth=None, max_features='auto', max_leaf_nodes=None,\n",
      "                      max_samples=None, min_impurity_decrease=0.0,\n",
      "                      min_impurity_split=None, min_samples_leaf=50,\n",
      "                      min_samples_split=2, min_weight_fraction_leaf=0.0,\n",
      "                      n_estimators=100, n_jobs=None, oob_score=False,\n",
      "                      random_state=30, verbose=0, warm_start=False)\n"
     ]
    }
   ],
   "source": [
    "pickle_in = open('wcf_pickle.pickle','rb')\n",
    "improved_grid_model = pickle.load(pickle_in)\n",
    "print(improved_grid_model)"
   ]
  },
  {
   "cell_type": "markdown",
   "metadata": {},
   "source": [
    "## Apply the model to an image"
   ]
  },
  {
   "cell_type": "markdown",
   "metadata": {},
   "source": [
    "### Choose location"
   ]
  },
  {
   "cell_type": "markdown",
   "metadata": {},
   "source": [
    "Use custom area of interest:"
   ]
  },
  {
   "cell_type": "code",
   "execution_count": 4,
   "metadata": {},
   "outputs": [],
   "source": [
    "# location = 'Canberra'\n",
    "\n",
    "# # Set the central latitude and longitude\n",
    "# central_lat = -35.434967\n",
    "# central_lon = 149.002428\n",
    "\n",
    "# # Set the buffer to load around the central coordinates\n",
    "# buffer = 0.1\n",
    "\n",
    "# # Compute the bounding box for the study area\n",
    "# study_area_lat = (central_lat - buffer, central_lat + buffer)\n",
    "# study_area_lon = (central_lon - buffer, central_lon + buffer)\n",
    "\n",
    "# display_map(x=study_area_lon, y=study_area_lat, margin=-0.2)"
   ]
  },
  {
   "cell_type": "markdown",
   "metadata": {},
   "source": [
    "Use LCCS test areas:"
   ]
  },
  {
   "cell_type": "code",
   "execution_count": 4,
   "metadata": {},
   "outputs": [],
   "source": [
    "location = 'Kakadu'\n",
    "min_x = 0\n",
    "max_x = 100000\n",
    "min_y = -1350000\n",
    "max_y = -1250000\n",
    "\n",
    "location = 'Murray Valley'\n",
    "min_x = 1100000\n",
    "max_x = 1200000\n",
    "min_y = -4000000\n",
    "max_y = -3900000\n",
    "\n",
    "location = 'Hobart'\n",
    "min_x = 1200000\n",
    "max_x = 1300000\n",
    "min_y = -4800000\n",
    "max_y = -4700000"
   ]
  },
  {
   "cell_type": "code",
   "execution_count": 48,
   "metadata": {},
   "outputs": [
    {
     "name": "stderr",
     "output_type": "stream",
     "text": [
      "/usr/local/lib/python3.6/dist-packages/pyproj/crs.py:77: FutureWarning: '+init=<authority>:<code>' syntax is deprecated. '<authority>:<code>' is the preferred initialization method.\n",
      "  return _prepare_from_string(\" \".join(pjargs))\n",
      "/usr/local/lib/python3.6/dist-packages/pyproj/crs.py:77: FutureWarning: '+init=<authority>:<code>' syntax is deprecated. '<authority>:<code>' is the preferred initialization method.\n",
      "  return _prepare_from_string(\" \".join(pjargs))\n"
     ]
    },
    {
     "data": {
      "text/html": [
       "<div style=\"width:100%;\"><div style=\"position:relative;width:100%;height:0;padding-bottom:60%;\"><iframe src=\"data:text/html;charset=utf-8;base64,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\" style=\"position:absolute;width:100%;height:100%;left:0;top:0;border:none !important;\" allowfullscreen webkitallowfullscreen mozallowfullscreen></iframe></div></div>"
      ],
      "text/plain": [
       "<folium.folium.Map at 0x7f5335c0bfd0>"
      ]
     },
     "execution_count": 48,
     "metadata": {},
     "output_type": "execute_result"
    }
   ],
   "source": [
    "# Make sure to change the location for in the save file\n",
    "location = 'Hobart'\n",
    "min_x = 1200000\n",
    "max_x = 1300000\n",
    "min_y = -4800000\n",
    "max_y = -4700000\n",
    "\n",
    "x = (min_x, max_x)\n",
    "y = (min_y, max_y)\n",
    "\n",
    "res_x = 25\n",
    "res_y = -25\n",
    "\n",
    "# Display an interactive map\n",
    "display_map(x=x, y=y, crs='EPSG:3577', margin=-0.1) "
   ]
  },
  {
   "cell_type": "markdown",
   "metadata": {},
   "source": [
    "### Load in image collection"
   ]
  },
  {
   "cell_type": "code",
   "execution_count": 49,
   "metadata": {},
   "outputs": [],
   "source": [
    "start_date = '2010'\n",
    "end_date = '2015' \n",
    "\n",
    "#Load all data in baseline period available from Near Real Time data\n",
    "\n",
    "i_col7 = dc.load(\n",
    "              product=['ls7_nbart_geomedian_annual'],\n",
    "              x=x, #study_area_lon or x\n",
    "              y=y, #study_area_lat or y\n",
    "              time=(start_date, end_date),\n",
    "              #measurements=['nbar_blue','nbar_green','nbar_red','nbar_nir_1', 'nbar_swir_3'],\n",
    "              output_crs='EPSG:3577',\n",
    "              crs='EPSG:3577',\n",
    "              resolution=(res_x,res_y)\n",
    "              #resolution=(-50, 50),\n",
    "              #group_by='solar_day'\n",
    ")\n",
    "\n",
    "i_col5 = dc.load(\n",
    "              product=['ls5_nbart_geomedian_annual'],\n",
    "              x=x, #study_area_lon or x\n",
    "              y=y, #study_area_lat or y\n",
    "              time=(start_date, end_date),\n",
    "              #measurements=['nbar_blue','nbar_green','nbar_red','nbar_nir_1', 'nbar_swir_3'],\n",
    "              output_crs='EPSG:3577',\n",
    "              crs='EPSG:3577',\n",
    "              resolution=(res_x,res_y)\n",
    "              #resolution=(-50, 50),\n",
    "              #group_by='solar_day'\n",
    ")"
   ]
  },
  {
   "cell_type": "code",
   "execution_count": 50,
   "metadata": {},
   "outputs": [],
   "source": [
    "# wofs_col = dc.load(\n",
    "#               product=['wofs_annual_summary'],\n",
    "#               x=x, #study_area_lon or x\n",
    "#               y=y, #study_area_lat or y\n",
    "#               time=(start_date, end_date),\n",
    "#               #measurements=['nbar_blue','nbar_green','nbar_red','nbar_nir_1', 'nbar_swir_3'],\n",
    "#               output_crs='EPSG:3577',\n",
    "#               crs='EPSG:3577',\n",
    "#               resolution=(res_x,res_y)\n",
    "#               #resolution=(-50, 50),\n",
    "#               #group_by='solar_day'\n",
    "# )"
   ]
  },
  {
   "cell_type": "code",
   "execution_count": 51,
   "metadata": {},
   "outputs": [],
   "source": [
    "# fc_col = dc.load(\n",
    "#               product=['ls5_fc_albers','ls8_fc_albers'],\n",
    "#               x=x, #study_area_lon or x\n",
    "#               y=y, #study_area_lat or y\n",
    "#               time=(start_date, end_date),\n",
    "#               #measurements=['nbar_blue','nbar_green','nbar_red','nbar_nir_1', 'nbar_swir_3'],\n",
    "#               output_crs='EPSG:3577',\n",
    "#               crs='EPSG:3577',\n",
    "#               resolution=(res_x,res_y)\n",
    "#               #resolution=(-50, 50),\n",
    "#               #group_by='solar_day'\n",
    "# )"
   ]
  },
  {
   "cell_type": "code",
   "execution_count": 52,
   "metadata": {},
   "outputs": [],
   "source": [
    "# fc_2010 = fc_col.sel(time='2010')#.median(dim='time')\n",
    "# fc_2015 = fc_col.sel(time='2015')#.median(dim='time')\n",
    "# fc_2010"
   ]
  },
  {
   "cell_type": "code",
   "execution_count": 53,
   "metadata": {},
   "outputs": [],
   "source": [
    "# rgb(fc_2010.isel(time=0), bands=['BS', 'PV', 'NPV'])"
   ]
  },
  {
   "cell_type": "code",
   "execution_count": 54,
   "metadata": {},
   "outputs": [],
   "source": [
    "# wofs_2010 = wofs_col.sel(time='2010')\n",
    "# wofs_2015 = wofs_col.sel(time='2015')\n",
    "# wofs_2010"
   ]
  },
  {
   "cell_type": "markdown",
   "metadata": {},
   "source": [
    "Select images"
   ]
  },
  {
   "cell_type": "code",
   "execution_count": 55,
   "metadata": {},
   "outputs": [
    {
     "name": "stdout",
     "output_type": "stream",
     "text": [
      "<xarray.Dataset>\n",
      "Dimensions:  (time: 1, x: 4000, y: 4000)\n",
      "Coordinates:\n",
      "  * time     (time) datetime64[ns] 2010-01-01\n",
      "  * y        (y) float64 -4.8e+06 -4.8e+06 -4.8e+06 ... -4.7e+06 -4.7e+06\n",
      "  * x        (x) float64 1.3e+06 1.3e+06 1.3e+06 ... 1.2e+06 1.2e+06 1.2e+06\n",
      "Data variables:\n",
      "    blue     (time, y, x) int16 -999 -999 -999 -999 -999 ... -999 -999 -999 -999\n",
      "    green    (time, y, x) int16 -999 -999 -999 -999 -999 ... -999 -999 -999 -999\n",
      "    red      (time, y, x) int16 -999 -999 -999 -999 -999 ... -999 -999 -999 -999\n",
      "    nir      (time, y, x) int16 -999 -999 -999 -999 -999 ... -999 -999 -999 -999\n",
      "    swir1    (time, y, x) int16 -999 -999 -999 -999 -999 ... -999 -999 -999 -999\n",
      "    swir2    (time, y, x) int16 -999 -999 -999 -999 -999 ... -999 -999 -999 -999\n",
      "Attributes:\n",
      "    crs:      EPSG:3577\n",
      "<xarray.Dataset>\n",
      "Dimensions:  (time: 1, x: 4000, y: 4000)\n",
      "Coordinates:\n",
      "  * time     (time) datetime64[ns] 2010-01-01\n",
      "  * y        (y) float64 -4.8e+06 -4.8e+06 -4.8e+06 ... -4.7e+06 -4.7e+06\n",
      "  * x        (x) float64 1.3e+06 1.3e+06 1.3e+06 ... 1.2e+06 1.2e+06 1.2e+06\n",
      "Data variables:\n",
      "    blue     (time, y, x) int16 277 256 232 262 245 239 ... 301 345 356 369 376\n",
      "    green    (time, y, x) int16 201 188 192 192 172 191 ... 422 424 411 473 507\n",
      "    red      (time, y, x) int16 128 110 96 113 117 126 ... 381 402 384 438 429\n",
      "    nir      (time, y, x) int16 112 111 103 107 94 ... 2068 2168 2233 2203 2243\n",
      "    swir1    (time, y, x) int16 76 65 65 60 67 75 ... 933 863 971 999 989 1006\n",
      "    swir2    (time, y, x) int16 90 76 52 67 57 76 65 ... 410 475 489 415 461 539\n",
      "Attributes:\n",
      "    crs:      EPSG:3577\n"
     ]
    },
    {
     "data": {
      "image/png": "[encoded data removed]",
      "text/plain": [
       "<Figure size 432x432 with 1 Axes>"
      ]
     },
     "metadata": {
      "needs_background": "light"
     },
     "output_type": "display_data"
    }
   ],
   "source": [
    "i_5 = i_col5.sel(time='2010')\n",
    "i_7 = i_col7.sel(time='2010')\n",
    "print(i_5)\n",
    "print(i_7)\n",
    "rgb(i_5, bands=['red','green','blue'])"
   ]
  },
  {
   "cell_type": "code",
   "execution_count": 56,
   "metadata": {},
   "outputs": [
    {
     "data": {
      "text/html": [
       "<pre>&lt;xarray.Dataset&gt;\n",
       "Dimensions:  (time: 1, x: 4000, y: 4000)\n",
       "Coordinates:\n",
       "  * time     (time) datetime64[ns] 2010-01-01\n",
       "  * y        (y) float64 -4.8e+06 -4.8e+06 -4.8e+06 ... -4.7e+06 -4.7e+06\n",
       "  * x        (x) float64 1.3e+06 1.3e+06 1.3e+06 ... 1.2e+06 1.2e+06 1.2e+06\n",
       "Data variables:\n",
       "    blue     (time, y, x) int16 -999 -999 -999 -999 -999 ... -999 -999 -999 -999\n",
       "    green    (time, y, x) int16 -999 -999 -999 -999 -999 ... -999 -999 -999 -999\n",
       "    red      (time, y, x) int16 -999 -999 -999 -999 -999 ... -999 -999 -999 -999\n",
       "    nir      (time, y, x) int16 -999 -999 -999 -999 -999 ... -999 -999 -999 -999\n",
       "    swir1    (time, y, x) int16 -999 -999 -999 -999 -999 ... -999 -999 -999 -999\n",
       "    swir2    (time, y, x) int16 -999 -999 -999 -999 -999 ... -999 -999 -999 -999\n",
       "Attributes:\n",
       "    crs:      EPSG:3577</pre>"
      ],
      "text/plain": [
       "<xarray.Dataset>\n",
       "Dimensions:  (time: 1, x: 4000, y: 4000)\n",
       "Coordinates:\n",
       "  * time     (time) datetime64[ns] 2010-01-01\n",
       "  * y        (y) float64 -4.8e+06 -4.8e+06 -4.8e+06 ... -4.7e+06 -4.7e+06\n",
       "  * x        (x) float64 1.3e+06 1.3e+06 1.3e+06 ... 1.2e+06 1.2e+06 1.2e+06\n",
       "Data variables:\n",
       "    blue     (time, y, x) int16 -999 -999 -999 -999 -999 ... -999 -999 -999 -999\n",
       "    green    (time, y, x) int16 -999 -999 -999 -999 -999 ... -999 -999 -999 -999\n",
       "    red      (time, y, x) int16 -999 -999 -999 -999 -999 ... -999 -999 -999 -999\n",
       "    nir      (time, y, x) int16 -999 -999 -999 -999 -999 ... -999 -999 -999 -999\n",
       "    swir1    (time, y, x) int16 -999 -999 -999 -999 -999 ... -999 -999 -999 -999\n",
       "    swir2    (time, y, x) int16 -999 -999 -999 -999 -999 ... -999 -999 -999 -999\n",
       "Attributes:\n",
       "    crs:      EPSG:3577"
      ]
     },
     "execution_count": 56,
     "metadata": {},
     "output_type": "execute_result"
    }
   ],
   "source": [
    "i_5"
   ]
  },
  {
   "cell_type": "code",
   "execution_count": 57,
   "metadata": {},
   "outputs": [
    {
     "ename": "TypeError",
     "evalue": "cannot directly convert an xarray.Dataset into a numpy array. Instead, create an xarray.DataArray first, either with indexing on the Dataset or by invoking the `to_array()` method.",
     "output_type": "error",
     "traceback": [
      "\u001b[0;31m---------------------------------------------------------------------------\u001b[0m",
      "\u001b[0;31mTypeError\u001b[0m                                 Traceback (most recent call last)",
      "\u001b[0;32m<ipython-input-57-c307d3452a14>\u001b[0m in \u001b[0;36m<module>\u001b[0;34m\u001b[0m\n\u001b[0;32m----> 1\u001b[0;31m \u001b[0ms12\u001b[0m \u001b[0;34m=\u001b[0m \u001b[0mnp\u001b[0m\u001b[0;34m.\u001b[0m\u001b[0mwhere\u001b[0m\u001b[0;34m(\u001b[0m\u001b[0mi_5\u001b[0m\u001b[0;34m.\u001b[0m\u001b[0mred\u001b[0m \u001b[0;34m==\u001b[0m \u001b[0;36m1\u001b[0m\u001b[0;34m,\u001b[0m \u001b[0mi_5\u001b[0m\u001b[0;34m,\u001b[0m \u001b[0;34m-\u001b[0m\u001b[0;36m999\u001b[0m\u001b[0;34m)\u001b[0m\u001b[0;34m\u001b[0m\u001b[0;34m\u001b[0m\u001b[0m\n\u001b[0m",
      "\u001b[0;32m<__array_function__ internals>\u001b[0m in \u001b[0;36mwhere\u001b[0;34m(*args, **kwargs)\u001b[0m\n",
      "\u001b[0;32m/usr/local/lib/python3.6/dist-packages/xarray/core/dataset.py\u001b[0m in \u001b[0;36m__array__\u001b[0;34m(self, dtype)\u001b[0m\n\u001b[1;32m   1215\u001b[0m     \u001b[0;32mdef\u001b[0m \u001b[0m__array__\u001b[0m\u001b[0;34m(\u001b[0m\u001b[0mself\u001b[0m\u001b[0;34m,\u001b[0m \u001b[0mdtype\u001b[0m\u001b[0;34m=\u001b[0m\u001b[0;32mNone\u001b[0m\u001b[0;34m)\u001b[0m\u001b[0;34m:\u001b[0m\u001b[0;34m\u001b[0m\u001b[0;34m\u001b[0m\u001b[0m\n\u001b[1;32m   1216\u001b[0m         raise TypeError(\n\u001b[0;32m-> 1217\u001b[0;31m             \u001b[0;34m\"cannot directly convert an xarray.Dataset into a \"\u001b[0m\u001b[0;34m\u001b[0m\u001b[0;34m\u001b[0m\u001b[0m\n\u001b[0m\u001b[1;32m   1218\u001b[0m             \u001b[0;34m\"numpy array. Instead, create an xarray.DataArray \"\u001b[0m\u001b[0;34m\u001b[0m\u001b[0;34m\u001b[0m\u001b[0m\n\u001b[1;32m   1219\u001b[0m             \u001b[0;34m\"first, either with indexing on the Dataset or by \"\u001b[0m\u001b[0;34m\u001b[0m\u001b[0;34m\u001b[0m\u001b[0m\n",
      "\u001b[0;31mTypeError\u001b[0m: cannot directly convert an xarray.Dataset into a numpy array. Instead, create an xarray.DataArray first, either with indexing on the Dataset or by invoking the `to_array()` method."
     ]
    }
   ],
   "source": [
    "s12 = np.where(i_5.red == 1, i_5, -999)"
   ]
  },
  {
   "cell_type": "markdown",
   "metadata": {},
   "source": [
    "### Predict WCF on image"
   ]
  },
  {
   "cell_type": "markdown",
   "metadata": {},
   "source": [
    "Define a function to format image and run model over it"
   ]
  },
  {
   "cell_type": "code",
   "execution_count": null,
   "metadata": {},
   "outputs": [],
   "source": [
    "def predict_wcf(image,model):\n",
    "    flat = sklearn_flatten(image)\n",
    "    flat = flat/10000\n",
    "    results = model.predict(flat)\n",
    "    print('Results:',results)\n",
    "    unflat = (sklearn_unflatten(results,image).transpose())[0]\n",
    "    return unflat"
   ]
  },
  {
   "cell_type": "code",
   "execution_count": null,
   "metadata": {},
   "outputs": [],
   "source": [
    "wcf_5 = predict_wcf(i_5,improved_grid_model)\n",
    "wcf_7 = predict_wcf(i_7,improved_grid_model)"
   ]
  },
  {
   "cell_type": "code",
   "execution_count": null,
   "metadata": {},
   "outputs": [],
   "source": [
    "i_7"
   ]
  },
  {
   "cell_type": "code",
   "execution_count": null,
   "metadata": {},
   "outputs": [],
   "source": [
    "wcf_7"
   ]
  },
  {
   "cell_type": "code",
   "execution_count": null,
   "metadata": {},
   "outputs": [],
   "source": [
    "i5 = i_5.red.isel(time=0)"
   ]
  },
  {
   "cell_type": "code",
   "execution_count": null,
   "metadata": {},
   "outputs": [],
   "source": [
    "# lifeform.values = np.where(predicted_wcf < 0.2, 2, lifeform.values)\n",
    "wcf_5.values = np.where(i5 == -999, wcf_7.values, wcf_5.values)\n",
    "# wcf_57 = wcf_5.where(i_5.red == -999, wcf_7)\n",
    "wcf_5.plot(figsize=(10,10))"
   ]
  },
  {
   "cell_type": "code",
   "execution_count": null,
   "metadata": {},
   "outputs": [],
   "source": [
    "wcf_7.plot(figsize=(5,5))"
   ]
  },
  {
   "cell_type": "code",
   "execution_count": null,
   "metadata": {},
   "outputs": [],
   "source": [
    "wcf_5.plot(figsize=(5,5))"
   ]
  },
  {
   "cell_type": "code",
   "execution_count": null,
   "metadata": {},
   "outputs": [],
   "source": [
    "masked = wcf_2010.where(i_2010.red != -999)\n",
    "masked.plot(figsize=(10,10))\n",
    "masked = masked.isel(time=0)\n",
    "masked"
   ]
  },
  {
   "cell_type": "code",
   "execution_count": null,
   "metadata": {},
   "outputs": [],
   "source": [
    "# # NBR\n",
    "# nbr_2010 = (i_2010.nir - i_2010.swir2) / (i_2010.nir + i_2010.swir2)\n",
    "# nbr_2015 = (i_2015.nir - i_2015.swir2) / (i_2015.nir + i_2015.swir2)"
   ]
  },
  {
   "cell_type": "code",
   "execution_count": 14,
   "metadata": {},
   "outputs": [],
   "source": [
    "#list(dc.list_products()['name'])"
   ]
  },
  {
   "cell_type": "markdown",
   "metadata": {},
   "source": [
    "### Plot the results\n",
    "\n",
    "Woody cover in training data varies between 0 and 1"
   ]
  },
  {
   "cell_type": "code",
   "execution_count": 15,
   "metadata": {},
   "outputs": [],
   "source": [
    "# fc_2010.median(dim='time')"
   ]
  },
  {
   "cell_type": "code",
   "execution_count": 16,
   "metadata": {},
   "outputs": [
    {
     "ename": "NameError",
     "evalue": "name 'i_2010' is not defined",
     "output_type": "error",
     "traceback": [
      "\u001b[0;31m---------------------------------------------------------------------------\u001b[0m",
      "\u001b[0;31mNameError\u001b[0m                                 Traceback (most recent call last)",
      "\u001b[0;32m<ipython-input-16-2939711f27fb>\u001b[0m in \u001b[0;36m<module>\u001b[0;34m\u001b[0m\n\u001b[1;32m      3\u001b[0m \u001b[0;34m\u001b[0m\u001b[0m\n\u001b[1;32m      4\u001b[0m \u001b[0;31m# before images\u001b[0m\u001b[0;34m\u001b[0m\u001b[0;34m\u001b[0m\u001b[0;34m\u001b[0m\u001b[0m\n\u001b[0;32m----> 5\u001b[0;31m \u001b[0mrgb\u001b[0m\u001b[0;34m(\u001b[0m\u001b[0mi_2010\u001b[0m\u001b[0;34m,\u001b[0m \u001b[0mbands\u001b[0m\u001b[0;34m=\u001b[0m\u001b[0;34m[\u001b[0m\u001b[0;34m'red'\u001b[0m\u001b[0;34m,\u001b[0m \u001b[0;34m'green'\u001b[0m\u001b[0;34m,\u001b[0m \u001b[0;34m'blue'\u001b[0m\u001b[0;34m]\u001b[0m\u001b[0;34m,\u001b[0m \u001b[0max\u001b[0m\u001b[0;34m=\u001b[0m\u001b[0max\u001b[0m\u001b[0;34m[\u001b[0m\u001b[0;36m0\u001b[0m\u001b[0;34m,\u001b[0m\u001b[0;36m0\u001b[0m\u001b[0;34m]\u001b[0m\u001b[0;34m)\u001b[0m\u001b[0;34m\u001b[0m\u001b[0;34m\u001b[0m\u001b[0m\n\u001b[0m\u001b[1;32m      6\u001b[0m \u001b[0mwcf_2010\u001b[0m\u001b[0;34m.\u001b[0m\u001b[0mplot\u001b[0m\u001b[0;34m(\u001b[0m\u001b[0max\u001b[0m\u001b[0;34m=\u001b[0m\u001b[0max\u001b[0m\u001b[0;34m[\u001b[0m\u001b[0;36m1\u001b[0m\u001b[0;34m,\u001b[0m\u001b[0;36m0\u001b[0m\u001b[0;34m]\u001b[0m\u001b[0;34m,\u001b[0m\u001b[0mvmin\u001b[0m\u001b[0;34m=\u001b[0m\u001b[0;36m0\u001b[0m\u001b[0;34m,\u001b[0m\u001b[0mvmax\u001b[0m\u001b[0;34m=\u001b[0m\u001b[0;36m1\u001b[0m\u001b[0;34m)\u001b[0m\u001b[0;34m\u001b[0m\u001b[0;34m\u001b[0m\u001b[0m\n\u001b[1;32m      7\u001b[0m \u001b[0mnbr_2010\u001b[0m\u001b[0;34m.\u001b[0m\u001b[0mplot\u001b[0m\u001b[0;34m(\u001b[0m\u001b[0max\u001b[0m\u001b[0;34m=\u001b[0m\u001b[0max\u001b[0m\u001b[0;34m[\u001b[0m\u001b[0;36m2\u001b[0m\u001b[0;34m,\u001b[0m\u001b[0;36m0\u001b[0m\u001b[0;34m]\u001b[0m\u001b[0;34m,\u001b[0m\u001b[0mvmin\u001b[0m\u001b[0;34m=\u001b[0m\u001b[0;36m0\u001b[0m\u001b[0;34m,\u001b[0m\u001b[0mvmax\u001b[0m\u001b[0;34m=\u001b[0m\u001b[0;36m1\u001b[0m\u001b[0;34m,\u001b[0m\u001b[0mcmap\u001b[0m\u001b[0;34m=\u001b[0m\u001b[0;34m'Reds'\u001b[0m\u001b[0;34m)\u001b[0m\u001b[0;34m\u001b[0m\u001b[0;34m\u001b[0m\u001b[0m\n",
      "\u001b[0;31mNameError\u001b[0m: name 'i_2010' is not defined"
     ]
    },
    {
     "data": {
      "image/png": "[encoded data removed]",
      "text/plain": [
       "<Figure size 720x864 with 10 Axes>"
      ]
     },
     "metadata": {
      "needs_background": "light"
     },
     "output_type": "display_data"
    }
   ],
   "source": [
    "# Set up subplots\n",
    "f, ax = plt.subplots(5, 2, figsize=(10,12), squeeze=False)\n",
    "\n",
    "# before images\n",
    "rgb(i_2010, bands=['red', 'green', 'blue'], ax=ax[0,0])\n",
    "wcf_2010.plot(ax=ax[1,0],vmin=0,vmax=1)\n",
    "nbr_2010.plot(ax=ax[2,0],vmin=0,vmax=1,cmap='Reds')\n",
    "wofs_2010['frequency'].plot(ax=ax[3,0],vmin=0,vmax=1,cmap='Blues')\n",
    "rgb(fc_2010,ax=ax[4,0], bands=['BS', 'PV', 'NPV'])\n",
    "\n",
    "# after images\n",
    "rgb(i_2015, bands=['red', 'green', 'blue'], ax=ax[0,1])\n",
    "wcf_2015.plot(ax=ax[1,1],vmin=0,vmax=1)\n",
    "nbr_2015.plot(ax=ax[2,1],vmin=0,vmax=1,cmap='Reds')\n",
    "wofs_2015['frequency'].plot(ax=ax[3,1],vmin=0,vmax=1,cmap='Blues')\n",
    "rgb(fc_2015, ax=ax[4,1], bands=['BS', 'PV', 'NPV'])\n"
   ]
  },
  {
   "cell_type": "markdown",
   "metadata": {},
   "source": [
    "### Save results to Geotiff\n",
    "To save results to geotiff for use and analysis in GIS software packages un comment the following Write_geotiff comands."
   ]
  },
  {
   "cell_type": "code",
   "execution_count": 29,
   "metadata": {},
   "outputs": [],
   "source": [
    "# 2010\n",
    "wcf_2010_ds = wcf_5.to_dataset(name='wcf_2010').assign_attrs({'crs': 'EPSG:3577'})\n",
    "write_geotiff(location+'_wcf_5.tif', wcf_2010_ds)\n",
    "\n",
    "# 2015\n",
    "wcf_2015_ds = wcf_7.to_dataset(name='wcf_2015').assign_attrs({'crs': 'EPSG:3577'})\n",
    "write_geotiff(location+'_wcf_7.tif', wcf_2015_ds)"
   ]
  },
  {
   "cell_type": "code",
   "execution_count": null,
   "metadata": {},
   "outputs": [],
   "source": [
    "# NBR\n",
    "# 2010\n",
    "nbr_2010_ds = nbr_2010.isel(time=0).to_dataset(name='nbr_2010')\n",
    "write_geotiff(location+'_nbr_2010.tif', nbr_2010_ds)\n",
    "\n",
    "# 2015\n",
    "nbr_2015_ds = nbr_2015.isel(time=0).to_dataset(name='nbr_2015')\n",
    "write_geotiff(location+'_nbr_2015.tif', nbr_2015_ds)"
   ]
  },
  {
   "cell_type": "code",
   "execution_count": null,
   "metadata": {},
   "outputs": [],
   "source": [
    "# Frequency\n",
    "# 2010\n",
    "wofs_2010_ds = wofs_2010['frequency'].isel(time=0).to_dataset(name='wofs_2010')\n",
    "write_geotiff(location+'_wofs_2010.tif', wofs_2010_ds)\n",
    "\n",
    "# 2015\n",
    "wofs_2015_ds = wofs_2015['frequency'].isel(time=0).to_dataset(name='wofs_2015')\n",
    "write_geotiff(location+'_wofs_2015.tif', wofs_2015_ds)"
   ]
  },
  {
   "cell_type": "code",
   "execution_count": null,
   "metadata": {},
   "outputs": [],
   "source": [
    "# Fractional Cover\n",
    "# 2010\n",
    "fc_2010_ds = fc_2010['frequency'].isel(time=0).to_dataset(name='fc_2010')\n",
    "write_geotiff(location+'_fc_2010.tif', fc_2010_ds)\n",
    "\n",
    "# 2015\n",
    "fc_2015_ds = fc_2015['frequency'].isel(time=0).to_dataset(name='fc_2015')\n",
    "write_geotiff(location+'_fc_2015.tif', fc_2015_ds)"
   ]
  },
  {
   "cell_type": "code",
   "execution_count": null,
   "metadata": {},
   "outputs": [],
   "source": []
  },
  {
   "cell_type": "code",
   "execution_count": null,
   "metadata": {},
   "outputs": [],
   "source": []
  },
  {
   "cell_type": "code",
   "execution_count": 41,
   "metadata": {},
   "outputs": [
    {
     "data": {
      "text/html": [
       "<pre>&lt;xarray.DataArray (dim_0: 1, dim_1: 1000, dim_2: 1000)&gt;\n",
       "array([[[0., 0., 0., ..., 0., 0., 0.],\n",
       "        [0., 0., 0., ..., 0., 0., 0.],\n",
       "        [0., 0., 0., ..., 0., 0., 0.],\n",
       "        ...,\n",
       "        [0., 0., 0., ..., 0., 0., 0.],\n",
       "        [0., 0., 0., ..., 0., 0., 0.],\n",
       "        [0., 0., 0., ..., 0., 0., 0.]]])\n",
       "Dimensions without coordinates: dim_0, dim_1, dim_2</pre>"
      ],
      "text/plain": [
       "<xarray.DataArray (dim_0: 1, dim_1: 1000, dim_2: 1000)>\n",
       "array([[[0., 0., 0., ..., 0., 0., 0.],\n",
       "        [0., 0., 0., ..., 0., 0., 0.],\n",
       "        [0., 0., 0., ..., 0., 0., 0.],\n",
       "        ...,\n",
       "        [0., 0., 0., ..., 0., 0., 0.],\n",
       "        [0., 0., 0., ..., 0., 0., 0.],\n",
       "        [0., 0., 0., ..., 0., 0., 0.]]])\n",
       "Dimensions without coordinates: dim_0, dim_1, dim_2"
      ]
     },
     "execution_count": 41,
     "metadata": {},
     "output_type": "execute_result"
    }
   ],
   "source": [
    "data = i_5\n",
    "source_platform = np.zeros_like(data.red, dtype='float64')\n",
    "data['source_platform'] = 0\n",
    "source_platform_array = xr.DataArray(source_platform)\n",
    "source_platform_array "
   ]
  },
  {
   "cell_type": "code",
   "execution_count": null,
   "metadata": {},
   "outputs": [],
   "source": [
    "# the data has bands blue, green, red, nir, swir1, swir2, and source_platform\n",
    "# source_platform 0: ls7, 1: ls5, 2:ls8\n",
    "# but all three should never occur together, so 0: ls7 and 1: ls5 or 8\n",
    "\n",
    "# Why is there two times?\n",
    "#         t1 = data.isel(time=0)\n",
    "#         t2 = data.isel(time=1)\n",
    "\n",
    "# Make a deep copy\n",
    "s0 = copy.deepcopy(data)\n",
    "s12 = copy.deepcopy(data)\n",
    "\n",
    "# Split based on value of source_platform\n",
    "s0.values = np.where(data.source_platform == 0, data.values, -999)\n",
    "s12.values = np.where(data.source_platform == 1, data.values, -999)\n",
    "\n",
    "#         # How to check?\n",
    "#         print('Check all 0', s0.source_platform = 0)      \n",
    "#         print('Check all 0', s12.source_platform = 1)\n",
    "\n",
    "# Drop soure_platform\n",
    "s0 = s0.drop('source_platform')\n",
    "s12 = s12.drop('source_platform')\n",
    "\n",
    "# Perform steps to predict wcf\n",
    "print('s0',s0)\n",
    "flat = sklearn_flatten(s0)\n",
    "flat = flat/10000\n",
    "results = self.ml_model_dict.predict(flat)\n",
    "s0_predicted_wcf = (sklearn_unflatten(results,s0))#.transpose())[0]\n",
    "print('s0_predicted_wcf',s0_predicted_wcf)\n",
    "\n",
    "print('s12',s12)\n",
    "flat = sklearn_flatten(s12)\n",
    "flat = flat/10000\n",
    "results = self.ml_model_dict.predict(flat)\n",
    "s12_predicted_wcf = (sklearn_unflatten(results,s12))#.transpose())[0]\n",
    "print('s12_predicted_wcf',s12_predicted_wcf)\n",
    "\n",
    "# Replace no data in s12 (landsat 5 or 8) with data from s0 (landsat 7)\n",
    "s12_predicted_wcf.values = np.where(s12.red == -999, s0_predicted_wcf.values, s12_predicted_wcf.values)\n",
    "print('Final s12_predicted_wcf',s12_predicted_wcf)\n",
    "\n",
    "dataset = s12_predicted_wcf.to_dataset(name='woody_cover').assign_attrs({'crs': 'EPSG:3577'})\n",
    "print('dataset',dataset)\n"
   ]
  },
  {
   "cell_type": "code",
   "execution_count": null,
   "metadata": {},
   "outputs": [],
   "source": []
  },
  {
   "cell_type": "code",
   "execution_count": null,
   "metadata": {},
   "outputs": [],
   "source": []
  },
  {
   "cell_type": "code",
   "execution_count": null,
   "metadata": {},
   "outputs": [],
   "source": []
  },
  {
   "cell_type": "code",
   "execution_count": null,
   "metadata": {},
   "outputs": [],
   "source": []
  },
  {
   "cell_type": "code",
   "execution_count": null,
   "metadata": {},
   "outputs": [],
   "source": []
  },
  {
   "cell_type": "code",
   "execution_count": null,
   "metadata": {},
   "outputs": [],
   "source": []
  },
  {
   "cell_type": "code",
   "execution_count": 25,
   "metadata": {},
   "outputs": [
    {
     "data": {
      "text/plain": [
       "'1.7+255.gdb5854af.dirty'"
      ]
     },
     "execution_count": 25,
     "metadata": {},
     "output_type": "execute_result"
    }
   ],
   "source": [
    "datacube.__version__"
   ]
  },
  {
   "cell_type": "code",
   "execution_count": 2,
   "metadata": {},
   "outputs": [
    {
     "name": "stdout",
     "output_type": "stream",
     "text": [
      "0\n"
     ]
    }
   ],
   "source": [
    "x = range(1)\n",
    "for n in x:\n",
    "  print(n)"
   ]
  },
  {
   "cell_type": "code",
   "execution_count": null,
   "metadata": {},
   "outputs": [],
   "source": []
  }
 ],
 "metadata": {
  "kernelspec": {
   "display_name": "Python 3",
   "language": "python",
   "name": "python3"
  },
  "language_info": {
   "codemirror_mode": {
    "name": "ipython",
    "version": 3
   },
   "file_extension": ".py",
   "mimetype": "text/x-python",
   "name": "python",
   "nbconvert_exporter": "python",
   "pygments_lexer": "ipython3",
   "version": "3.6.9"
  }
 },
 "nbformat": 4,
 "nbformat_minor": 4
}
