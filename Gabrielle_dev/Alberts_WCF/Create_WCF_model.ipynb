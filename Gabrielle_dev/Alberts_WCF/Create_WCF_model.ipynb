{
 "cells": [
  {
   "cell_type": "markdown",
   "metadata": {},
   "source": [
    "#### Import modules"
   ]
  },
  {
   "cell_type": "code",
   "execution_count": 1,
   "metadata": {},
   "outputs": [],
   "source": [
    "%matplotlib inline\n",
    "\n",
    "import sys\n",
    "import pandas as pd\n",
    "import datacube\n",
    "import matplotlib.pyplot as plt\n",
    "\n",
    "sys.path.append(\"../Scripts\")\n",
    "from datacube.helpers import write_geotiff\n",
    "from dea_datahandling import load_ard\n",
    "from dea_datahandling import mostcommon_crs\n",
    "from dea_plotting import display_map\n",
    "from dea_plotting import rgb\n",
    "from dea_classificationtools import predict_xr\n",
    "from dea_classificationtools import sklearn_unflatten\n",
    "from dea_classificationtools import sklearn_flatten\n",
    "\n",
    "from sklearn.model_selection import train_test_split, GridSearchCV, RandomizedSearchCV\n",
    "from sklearn.ensemble import RandomForestRegressor\n",
    "from sklearn import preprocessing\n",
    "from sklearn import metrics\n",
    "\n",
    "import numpy as np\n",
    "import xarray as xr\n",
    "from sklearn.model_selection import GridSearchCV\n",
    "import pickle\n",
    "from sklearn import linear_model"
   ]
  },
  {
   "cell_type": "code",
   "execution_count": 2,
   "metadata": {},
   "outputs": [],
   "source": [
    "dc = datacube.Datacube(app='Alberts Forest')"
   ]
  },
  {
   "cell_type": "markdown",
   "metadata": {},
   "source": [
    "#### Import training data csv"
   ]
  },
  {
   "cell_type": "code",
   "execution_count": 3,
   "metadata": {},
   "outputs": [
    {
     "data": {
      "text/html": [
       "<div>\n",
       "<style scoped>\n",
       "    .dataframe tbody tr th:only-of-type {\n",
       "        vertical-align: middle;\n",
       "    }\n",
       "\n",
       "    .dataframe tbody tr th {\n",
       "        vertical-align: top;\n",
       "    }\n",
       "\n",
       "    .dataframe thead th {\n",
       "        text-align: right;\n",
       "    }\n",
       "</style>\n",
       "<table border=\"1\" class=\"dataframe\">\n",
       "  <thead>\n",
       "    <tr style=\"text-align: right;\">\n",
       "      <th></th>\n",
       "      <th>WCF</th>\n",
       "      <th>blue</th>\n",
       "      <th>green</th>\n",
       "      <th>red</th>\n",
       "      <th>nir</th>\n",
       "      <th>swir1</th>\n",
       "      <th>swir2</th>\n",
       "    </tr>\n",
       "  </thead>\n",
       "  <tbody>\n",
       "    <tr>\n",
       "      <th>0</th>\n",
       "      <td>0.680150</td>\n",
       "      <td>0.024840</td>\n",
       "      <td>0.038088</td>\n",
       "      <td>0.041936</td>\n",
       "      <td>0.20717</td>\n",
       "      <td>0.11010</td>\n",
       "      <td>0.062355</td>\n",
       "    </tr>\n",
       "    <tr>\n",
       "      <th>1</th>\n",
       "      <td>0.408790</td>\n",
       "      <td>0.043154</td>\n",
       "      <td>0.063489</td>\n",
       "      <td>0.069489</td>\n",
       "      <td>0.22708</td>\n",
       "      <td>0.17888</td>\n",
       "      <td>0.115670</td>\n",
       "    </tr>\n",
       "    <tr>\n",
       "      <th>2</th>\n",
       "      <td>0.000004</td>\n",
       "      <td>0.034636</td>\n",
       "      <td>0.064774</td>\n",
       "      <td>0.063311</td>\n",
       "      <td>0.32425</td>\n",
       "      <td>0.21022</td>\n",
       "      <td>0.111040</td>\n",
       "    </tr>\n",
       "    <tr>\n",
       "      <th>3</th>\n",
       "      <td>0.216960</td>\n",
       "      <td>0.032932</td>\n",
       "      <td>0.046541</td>\n",
       "      <td>0.050958</td>\n",
       "      <td>0.18029</td>\n",
       "      <td>0.17601</td>\n",
       "      <td>0.108140</td>\n",
       "    </tr>\n",
       "    <tr>\n",
       "      <th>4</th>\n",
       "      <td>0.434480</td>\n",
       "      <td>0.030078</td>\n",
       "      <td>0.046560</td>\n",
       "      <td>0.047636</td>\n",
       "      <td>0.20356</td>\n",
       "      <td>0.12678</td>\n",
       "      <td>0.073669</td>\n",
       "    </tr>\n",
       "  </tbody>\n",
       "</table>\n",
       "</div>"
      ],
      "text/plain": [
       "        WCF      blue     green       red      nir    swir1     swir2\n",
       "0  0.680150  0.024840  0.038088  0.041936  0.20717  0.11010  0.062355\n",
       "1  0.408790  0.043154  0.063489  0.069489  0.22708  0.17888  0.115670\n",
       "2  0.000004  0.034636  0.064774  0.063311  0.32425  0.21022  0.111040\n",
       "3  0.216960  0.032932  0.046541  0.050958  0.18029  0.17601  0.108140\n",
       "4  0.434480  0.030078  0.046560  0.047636  0.20356  0.12678  0.073669"
      ]
     },
     "execution_count": 3,
     "metadata": {},
     "output_type": "execute_result"
    }
   ],
   "source": [
    "path = 'WCF_traindata_14122019.csv'\n",
    "df = pd.read_csv(path)\n",
    "df.head()"
   ]
  },
  {
   "cell_type": "markdown",
   "metadata": {},
   "source": [
    "#### Plot training data bands"
   ]
  },
  {
   "cell_type": "code",
   "execution_count": 4,
   "metadata": {},
   "outputs": [],
   "source": [
    "# fig, axs = plt.subplots(2, 3, sharey=True, tight_layout=True)\n",
    "# axs[0,0].hist(df[' red'],bins=30)\n",
    "# axs[0,1].hist(df[' green'],bins=30)\n",
    "# axs[0,2].hist(df['blue'],bins=30)\n",
    "# axs[1,0].hist(df[' nir'],bins=30)\n",
    "# axs[1,1].hist(df[' swir1'],bins=30)\n",
    "# axs[1,2].hist(df[' swir2'],bins=30)"
   ]
  },
  {
   "cell_type": "code",
   "execution_count": 5,
   "metadata": {},
   "outputs": [],
   "source": [
    "# Plot a histogram of WCF values\n",
    "#df['WCF'].hist()"
   ]
  },
  {
   "cell_type": "markdown",
   "metadata": {},
   "source": [
    "#### Create and evaluate model\n",
    "\n",
    "https://www.youtube.com/watch?v=YYjvkSJoui4 "
   ]
  },
  {
   "cell_type": "markdown",
   "metadata": {},
   "source": [
    "Training data formatting"
   ]
  },
  {
   "cell_type": "code",
   "execution_count": 6,
   "metadata": {},
   "outputs": [],
   "source": [
    "# Handle misisng data\n",
    "df = df.dropna()\n",
    "\n",
    "# Define dependent variable\n",
    "Y = df['WCF']\n",
    "\n",
    "# Define independent variables\n",
    "X = df.drop(labels=['WCF'],axis=1)\n",
    "\n",
    "# Split model into testing and training\n",
    "X_train, X_test, Y_train, Y_test = train_test_split(X, Y, test_size=0.3, random_state=20)"
   ]
  },
  {
   "cell_type": "markdown",
   "metadata": {},
   "source": [
    "Make a model"
   ]
  },
  {
   "cell_type": "code",
   "execution_count": 17,
   "metadata": {},
   "outputs": [],
   "source": [
    "# Define model\n",
    "model = RandomForestRegressor(n_estimators=100, # number of trees in forest, is this equal to ensemble?\n",
    "                              #criterion = 'mse', # function to measure the quality of the split\n",
    "                              max_depth = 10, # max depth of tree. If None, then nodes are expanded until all laves are pure, or until all leaves contain less than min_samples_split\n",
    "                              min_samples_split = 2, # Min no. samples required to be at a split node \n",
    "                              min_samples_leaf = 50, # Min no. samples required to be at a leaf node \n",
    "                              #min_weight_fraction_leaf = 0, # The min weighted fraction. Samples have equal weight when 0.\n",
    "                              #max_features = 'auto', # The number of features to consider when looking for the best split\n",
    "                              #max_leaf_nodes = None, # If None, then unlimited number of leaf nodes\n",
    "                              #min_impurity_decrease = 0, # Split nodes to decrease impurity\n",
    "                              #min_impurity_split = 1e-7, # Replaced by min_impurity_decrease\n",
    "                              #bootstrap = true, # Whether to bootstrap samples when building trees. If False, the whole dataset is used ot build each tree.\n",
    "                              #oob_score = False, # Whether to use out-of-bag samples to estimate R^2 on unseen data\n",
    "                              #n_jobs = None, # The number of jobs to run in parallel. None means 1\n",
    "                              random_state=30, # Controls the randomness of bootstrapping and the sampling of features to consider for bets node split\n",
    "                              #verbose = 0, # Controls the verbosity when fititng and predicting\n",
    "                              #warm_start = False, # False - fit new forest, True - reuse solution from previous call amd add more estimators to ensemble\n",
    "                              #ccp_alpha = 0.0, # Complexity parameter\n",
    "                              #max_samples = None, # If bootstrap is True, the numbe rof samples to draw from X to train each base estimator\n",
    "                             )\n",
    "\n",
    "# Fit model\n",
    "model.fit(X_train,Y_train)\n",
    "\n",
    "# Predict test data\n",
    "prediction_test = model.predict(X_test)"
   ]
  },
  {
   "cell_type": "code",
   "execution_count": 18,
   "metadata": {},
   "outputs": [
    {
     "name": "stdout",
     "output_type": "stream",
     "text": [
      "Explained variance score = \n",
      "0.9241241551633879\n",
      "R^2 =\n",
      "0.9241006556310767\n",
      "RMSE =\n",
      "0.00640647587775863\n"
     ]
    }
   ],
   "source": [
    "# Metrics\n",
    "print('Explained variance score = ')\n",
    "print(metrics.explained_variance_score(Y_test, prediction_test)) # what measure to use https://scikit-learn.org/stable/modules/model_evaluation.html\n",
    "print('R^2 =')\n",
    "print(metrics.r2_score(Y_test, prediction_test))\n",
    "print('RMSE =')\n",
    "print(metrics.mean_squared_error(Y_test, prediction_test))"
   ]
  },
  {
   "cell_type": "markdown",
   "metadata": {},
   "source": [
    "#### Linear regression"
   ]
  },
  {
   "cell_type": "code",
   "execution_count": null,
   "metadata": {},
   "outputs": [],
   "source": [
    "linear_model.LinearRegression()"
   ]
  }
 ],
 "metadata": {
  "kernelspec": {
   "display_name": "Python 3",
   "language": "python",
   "name": "python3"
  },
  "language_info": {
   "codemirror_mode": {
    "name": "ipython",
    "version": 3
   },
   "file_extension": ".py",
   "mimetype": "text/x-python",
   "name": "python",
   "nbconvert_exporter": "python",
   "pygments_lexer": "ipython3",
   "version": "3.6.9"
  }
 },
 "nbformat": 4,
 "nbformat_minor": 4
}
