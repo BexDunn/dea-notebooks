{
 "cells": [
  {
   "cell_type": "markdown",
   "metadata": {},
   "source": [
    "# DEA CoastLines validation\n",
    "\n",
    "To do:\n",
    "* [X] Change output CRS to Australian Albers\n",
    "* [X] Discard validation sides with multiple intersects?\n",
    "* [X] Split analysis code into:\n",
    "    * Aggregate multiple profiles and export into single file\n",
    "    * Analyse and plot single file\n",
    "* [ ] Add extraction of environmental data for each profile line"
   ]
  },
  {
   "cell_type": "code",
   "execution_count": null,
   "metadata": {},
   "outputs": [],
   "source": [
    "# import xarray as xr\n",
    "# from shapely.geometry import Point, LineString\n"
   ]
  },
  {
   "cell_type": "markdown",
   "metadata": {},
   "source": [
    "## Load modules/functions\n"
   ]
  },
  {
   "cell_type": "code",
   "execution_count": 826,
   "metadata": {},
   "outputs": [
    {
     "name": "stdout",
     "output_type": "stream",
     "text": [
      "The line_profiler extension is already loaded. To reload it, use:\n",
      "  %reload_ext line_profiler\n",
      "The autoreload extension is already loaded. To reload it, use:\n",
      "  %reload_ext autoreload\n"
     ]
    }
   ],
   "source": [
    "%matplotlib inline\n",
    "%load_ext line_profiler\n",
    "%load_ext autoreload\n",
    "%autoreload 2\n",
    "\n",
    "import sys\n",
    "import glob\n",
    "import numpy as np\n",
    "import geopandas as gpd\n",
    "import pandas as pd\n",
    "import matplotlib.pyplot as plt\n",
    "from shapely.geometry import box\n",
    "\n",
    "sys.path.append('/g/data/r78/rt1527/dea-notebooks/MAHTS/')\n",
    "import deacoastlines_validation as deacl_val\n",
    "import deacoastlines_statistics as deacl_stats\n",
    "\n",
    "def to_vector(df, fname='test.shp', x='x', y='y', crs='EPSG:3577', output_crs='EPSG:3577'):\n",
    "    \n",
    "    # Convert datetimes to strings\n",
    "    is_datetime = df.dtypes == 'datetime64[ns]'\n",
    "    df.loc[:, is_datetime] = df.loc[:, is_datetime].astype(str) \n",
    "    \n",
    "    # Export to file\n",
    "    print('test')\n",
    "    gdf = gpd.GeoDataFrame(data=df.loc[:, df.dtypes != 'datetime64[ns]'],\n",
    "                     geometry=gpd.points_from_xy(x=df[x], y=df[y]),\n",
    "                     crs=crs).to_crs(output_crs).to_file(fname)\n",
    "    \n",
    "    return gdf"
   ]
  },
  {
   "cell_type": "markdown",
   "metadata": {},
   "source": [
    "## Analysis\n",
    "To investigate:\n",
    "* [X] Outlier in Bermagui (Horseshoe Bay)\n",
    "* [X] **Multiple outliers in Boambee Beach**\n",
    "* [X] Single remaining outlier in Bogangar to Kingscliff\n",
    "* [X] **Cluster of outliers in Burgess Beach: caused by one year of channel profiles**\n",
    "* [X] Sporadic outliers in Byron Bay\n",
    "* [X] Two remaining outlier in Corindi Beach\n",
    "* [X] **Major outliers at Crowdy Head**\n",
    "* [X] **String of outliers in opposite direction at Cullendulla**\n",
    "* [X] One remaining outlier at Diamond Beach\n",
    "* [X] One remaining outlier at Eurobadalla Beaches North\n",
    "* [ ] **Cluster of outliers at Evans Head and Broadwater**\n",
    "* [X] Two outliers in Fern Bay\n",
    "* [ ] **Extreme outliers at Flynn's Beach**\n",
    "* [ ] **Skewed result at Gerringong Harbour**\n",
    "* [ ] Outliers in Hargrave's Beach\n",
    "* [ ] Remaining outliers at Jimmy's Beach\n",
    "* [X] **Remaining major outlier at Lake Illawarra**\n",
    "* [X] **Outliers in Manly Beach**\n",
    "* [X] **Outliers at Mooney Beach**\n",
    "* [X] **Major issues with offset shorelines at Narrabeen/Collory**\n",
    "* [X] Outlier at Ocean View Beach\n",
    "* [X] **Outliers in opposite direction at Park's Beach**\n",
    "* [X] Cluster of outliers at Patch's Beach\n",
    "* [X] Outliers at Port Hacking \n",
    "* [X] **Weird line of points at Rainbow Beach**\n",
    "* [X] **No relationship at Sandbar Beach**\n",
    "* [ ] Outliers at Shellharbour Little Lake\n",
    "* [X] One remaining outlier at Stuart's Point\n",
    "* [ ] **Several remaining outliers at Swansea Belmont**\n",
    "* [X] **Cluster of outliers at The Entrance**\n",
    "* [X] Single outlier at Warrain\n",
    "* [ ] **Major issues with Valla Beach**"
   ]
  },
  {
   "cell_type": "code",
   "execution_count": 556,
   "metadata": {},
   "outputs": [
    {
     "name": "stdout",
     "output_type": "stream",
     "text": [
      "output_data/wadot_rottnestisland,carnacisland,gardenisland                                        .csv\r"
     ]
    },
    {
     "data": {
      "text/html": [
       "<div>\n",
       "<style scoped>\n",
       "    .dataframe tbody tr th:only-of-type {\n",
       "        vertical-align: middle;\n",
       "    }\n",
       "\n",
       "    .dataframe tbody tr th {\n",
       "        vertical-align: top;\n",
       "    }\n",
       "\n",
       "    .dataframe thead th {\n",
       "        text-align: right;\n",
       "    }\n",
       "</style>\n",
       "<table border=\"1\" class=\"dataframe\">\n",
       "  <thead>\n",
       "    <tr style=\"text-align: right;\">\n",
       "      <th></th>\n",
       "      <th>id</th>\n",
       "      <th>year</th>\n",
       "      <th>beach</th>\n",
       "      <th>section</th>\n",
       "      <th>profile</th>\n",
       "      <th>source</th>\n",
       "      <th>certainty</th>\n",
       "      <th>n</th>\n",
       "      <th>start_x</th>\n",
       "      <th>start_y</th>\n",
       "      <th>end_x</th>\n",
       "      <th>end_y</th>\n",
       "      <th>val_x</th>\n",
       "      <th>val_y</th>\n",
       "      <th>val_dist</th>\n",
       "      <th>deacl_x</th>\n",
       "      <th>deacl_y</th>\n",
       "      <th>deacl_dist</th>\n",
       "      <th>diff_dist</th>\n",
       "    </tr>\n",
       "  </thead>\n",
       "  <tbody>\n",
       "    <tr>\n",
       "      <th>0</th>\n",
       "      <td>swanbourne_all_0</td>\n",
       "      <td>1990</td>\n",
       "      <td>swanbourne</td>\n",
       "      <td>all</td>\n",
       "      <td>2</td>\n",
       "      <td>photogrammetry</td>\n",
       "      <td>good</td>\n",
       "      <td>1</td>\n",
       "      <td>-1.519258e+06</td>\n",
       "      <td>-3.570231e+06</td>\n",
       "      <td>-1.519631e+06</td>\n",
       "      <td>-3.570086e+06</td>\n",
       "      <td>-1.519418e+06</td>\n",
       "      <td>-3.570169e+06</td>\n",
       "      <td>171.690220</td>\n",
       "      <td>-1.519429e+06</td>\n",
       "      <td>-3.570164e+06</td>\n",
       "      <td>183.532420</td>\n",
       "      <td>-11.842200</td>\n",
       "    </tr>\n",
       "    <tr>\n",
       "      <th>1</th>\n",
       "      <td>swanbourne_all_1</td>\n",
       "      <td>1990</td>\n",
       "      <td>swanbourne</td>\n",
       "      <td>all</td>\n",
       "      <td>2</td>\n",
       "      <td>photogrammetry</td>\n",
       "      <td>good</td>\n",
       "      <td>1</td>\n",
       "      <td>-1.521260e+06</td>\n",
       "      <td>-3.564154e+06</td>\n",
       "      <td>-1.521386e+06</td>\n",
       "      <td>-3.564533e+06</td>\n",
       "      <td>-1.521328e+06</td>\n",
       "      <td>-3.564358e+06</td>\n",
       "      <td>214.756983</td>\n",
       "      <td>-1.521326e+06</td>\n",
       "      <td>-3.564354e+06</td>\n",
       "      <td>210.878625</td>\n",
       "      <td>3.878358</td>\n",
       "    </tr>\n",
       "    <tr>\n",
       "      <th>2</th>\n",
       "      <td>swanbourne_all_10</td>\n",
       "      <td>1990</td>\n",
       "      <td>swanbourne</td>\n",
       "      <td>all</td>\n",
       "      <td>2</td>\n",
       "      <td>photogrammetry</td>\n",
       "      <td>good</td>\n",
       "      <td>1</td>\n",
       "      <td>-1.519163e+06</td>\n",
       "      <td>-3.570394e+06</td>\n",
       "      <td>-1.519540e+06</td>\n",
       "      <td>-3.570528e+06</td>\n",
       "      <td>-1.519343e+06</td>\n",
       "      <td>-3.570458e+06</td>\n",
       "      <td>191.058209</td>\n",
       "      <td>-1.519348e+06</td>\n",
       "      <td>-3.570460e+06</td>\n",
       "      <td>196.316419</td>\n",
       "      <td>-5.258210</td>\n",
       "    </tr>\n",
       "    <tr>\n",
       "      <th>3</th>\n",
       "      <td>swanbourne_all_11</td>\n",
       "      <td>1990</td>\n",
       "      <td>swanbourne</td>\n",
       "      <td>all</td>\n",
       "      <td>2</td>\n",
       "      <td>photogrammetry</td>\n",
       "      <td>good</td>\n",
       "      <td>1</td>\n",
       "      <td>-1.519096e+06</td>\n",
       "      <td>-3.570582e+06</td>\n",
       "      <td>-1.519472e+06</td>\n",
       "      <td>-3.570716e+06</td>\n",
       "      <td>-1.519302e+06</td>\n",
       "      <td>-3.570656e+06</td>\n",
       "      <td>219.292582</td>\n",
       "      <td>-1.519298e+06</td>\n",
       "      <td>-3.570654e+06</td>\n",
       "      <td>214.363724</td>\n",
       "      <td>4.928858</td>\n",
       "    </tr>\n",
       "    <tr>\n",
       "      <th>4</th>\n",
       "      <td>swanbourne_all_12</td>\n",
       "      <td>1990</td>\n",
       "      <td>swanbourne</td>\n",
       "      <td>all</td>\n",
       "      <td>2</td>\n",
       "      <td>photogrammetry</td>\n",
       "      <td>good</td>\n",
       "      <td>1</td>\n",
       "      <td>-1.519205e+06</td>\n",
       "      <td>-3.570090e+06</td>\n",
       "      <td>-1.519594e+06</td>\n",
       "      <td>-3.569999e+06</td>\n",
       "      <td>-1.519405e+06</td>\n",
       "      <td>-3.570043e+06</td>\n",
       "      <td>205.778339</td>\n",
       "      <td>-1.519405e+06</td>\n",
       "      <td>-3.570043e+06</td>\n",
       "      <td>205.952880</td>\n",
       "      <td>-0.174541</td>\n",
       "    </tr>\n",
       "  </tbody>\n",
       "</table>\n",
       "</div>"
      ],
      "text/plain": [
       "                  id  year       beach section  profile          source  \\\n",
       "0   swanbourne_all_0  1990  swanbourne     all        2  photogrammetry   \n",
       "1   swanbourne_all_1  1990  swanbourne     all        2  photogrammetry   \n",
       "2  swanbourne_all_10  1990  swanbourne     all        2  photogrammetry   \n",
       "3  swanbourne_all_11  1990  swanbourne     all        2  photogrammetry   \n",
       "4  swanbourne_all_12  1990  swanbourne     all        2  photogrammetry   \n",
       "\n",
       "  certainty  n       start_x       start_y         end_x         end_y  \\\n",
       "0      good  1 -1.519258e+06 -3.570231e+06 -1.519631e+06 -3.570086e+06   \n",
       "1      good  1 -1.521260e+06 -3.564154e+06 -1.521386e+06 -3.564533e+06   \n",
       "2      good  1 -1.519163e+06 -3.570394e+06 -1.519540e+06 -3.570528e+06   \n",
       "3      good  1 -1.519096e+06 -3.570582e+06 -1.519472e+06 -3.570716e+06   \n",
       "4      good  1 -1.519205e+06 -3.570090e+06 -1.519594e+06 -3.569999e+06   \n",
       "\n",
       "          val_x         val_y    val_dist       deacl_x       deacl_y  \\\n",
       "0 -1.519418e+06 -3.570169e+06  171.690220 -1.519429e+06 -3.570164e+06   \n",
       "1 -1.521328e+06 -3.564358e+06  214.756983 -1.521326e+06 -3.564354e+06   \n",
       "2 -1.519343e+06 -3.570458e+06  191.058209 -1.519348e+06 -3.570460e+06   \n",
       "3 -1.519302e+06 -3.570656e+06  219.292582 -1.519298e+06 -3.570654e+06   \n",
       "4 -1.519405e+06 -3.570043e+06  205.778339 -1.519405e+06 -3.570043e+06   \n",
       "\n",
       "   deacl_dist  diff_dist  \n",
       "0  183.532420 -11.842200  \n",
       "1  210.878625   3.878358  \n",
       "2  196.316419  -5.258210  \n",
       "3  214.363724   4.928858  \n",
       "4  205.952880  -0.174541  "
      ]
     },
     "execution_count": 556,
     "metadata": {},
     "output_type": "execute_result"
    }
   ],
   "source": [
    "from sklearn.metrics import mean_squared_error\n",
    "from sklearn.metrics import mean_absolute_error\n",
    "\n",
    "val_paths = glob.glob('output_data/wadot_*.csv')\n",
    "deacl_path = '../packages/DEACoastLines_v0.2.0/DEACoastLines_coastlines_v0.2.0.shp'\n",
    "# deacl_path = '../DEACoastLines_coastlines_v0.2.0_0.20.shp'\n",
    "\n",
    "stats_list = []\n",
    "\n",
    "for val_path in val_paths:\n",
    "    \n",
    "    # Run analysis and close resulting figure\n",
    "    print(f'{val_path:<80}', end='\\r')\n",
    "    output_stats = deacl_val.deacl_validation(val_path, \n",
    "                                              deacl_path,\n",
    "                                              datum=0)\n",
    "    # Close figure if plotting over 10\n",
    "    if len(stats_list) > 10: plt.close()\n",
    "    \n",
    "    # Append stats to list\n",
    "    stats_list.append(output_stats)\n",
    "    \n",
    "# Combine stats into a dataframe\n",
    "stats_df = pd.concat(stats_list)\n",
    "stats_df.head()\n"
   ]
  },
  {
   "cell_type": "code",
   "execution_count": 561,
   "metadata": {},
   "outputs": [],
   "source": [
    "from shapely.geometry import box, Point, LineString\n",
    "\n",
    "def export_eval(df, output_name, output_crs='EPSG:3577'):\n",
    "\n",
    "    # Extract geometries\n",
    "    val_points = gpd.points_from_xy(x=df.val_x, y=df.val_y)\n",
    "    deacl_points = gpd.points_from_xy(x=df.deacl_x, y=df.deacl_y)\n",
    "    df_profiles = df.groupby('id').first()\n",
    "    profile_lines = df_profiles.apply(\n",
    "        lambda x: LineString([(x.start_x, x.start_y), (x.end_x, x.end_y)]), axis=1)\n",
    "\n",
    "    # Export validation points\n",
    "    val_gdf = gpd.GeoDataFrame(data=df,\n",
    "                               geometry=val_points,\n",
    "                               crs=output_crs).to_crs('EPSG:4326')\n",
    "    val_gdf.to_file(f'figures/eval/{output_name}_val.geojson', driver='GeoJSON')\n",
    "\n",
    "    # Export DEACL points\n",
    "    deacl_gdf = gpd.GeoDataFrame(data=df,\n",
    "                                 geometry=deacl_points,\n",
    "                                 crs=output_crs).to_crs('EPSG:4326')\n",
    "    deacl_gdf.to_file(f'figures/eval/{output_name}_deacl.geojson', driver='GeoJSON')\n",
    "\n",
    "    # Export profiles\n",
    "    profile_gdf = gpd.GeoDataFrame(data=df_profiles,\n",
    "                                 geometry=profile_lines,\n",
    "                                 crs=output_crs).to_crs('EPSG:4326')\n",
    "    profile_gdf.to_file(f'figures/eval/{output_name}_profiles.geojson', driver='GeoJSON')\n",
    "    "
   ]
  },
  {
   "cell_type": "code",
   "execution_count": 562,
   "metadata": {},
   "outputs": [],
   "source": [
    "export_eval(stats_df, output_name)\n",
    "# stats_df.groupby('beach').apply(lambda x: export_eval(x, x.beach.iloc[0]))"
   ]
  },
  {
   "cell_type": "code",
   "execution_count": 617,
   "metadata": {},
   "outputs": [
    {
     "name": "stdout",
     "output_type": "stream",
     "text": [
      "MAE: 11.50 m\n",
      "RMSE: 13.37 m\n",
      "StDev: 8.00\n",
      "Corr: 0.985\n",
      "Mean offset: 10.72 m\n",
      "50th perc diff: 10.92 m\n"
     ]
    }
   ],
   "source": [
    "stats_subset = stats_df.loc[stats_df.beach=='wreckpoint']\n",
    "print(f'MAE: {mean_absolute_error(stats_subset.val_dist, stats_subset.deacl_dist):.2f} m\\n'\n",
    "      f'RMSE: {mean_squared_error(stats_subset.val_dist, stats_subset.deacl_dist)**0.5:.2f} m\\n'\n",
    "      f'StDev: {stats_subset[[\"diff_dist\"]].std().iloc[0]:.2f}\\n'\n",
    "      f'Corr: {stats_subset[[\"val_dist\", \"deacl_dist\"]].corr().iloc[0, 1]:.3f}\\n'\n",
    "      f'Mean offset: {stats_subset[[\"diff_dist\"]].mean().iloc[0]:.2f} m\\n'\n",
    "      f'50th perc diff: {stats_subset[\"diff_dist\"].abs().quantile(0.50):.2f} m')\n"
   ]
  },
  {
   "cell_type": "code",
   "execution_count": 618,
   "metadata": {},
   "outputs": [
    {
     "data": {
      "text/plain": [
       "<matplotlib.axes._subplots.AxesSubplot at 0x7f5ad0fc39b0>"
      ]
     },
     "execution_count": 618,
     "metadata": {},
     "output_type": "execute_result"
    },
    {
     "data": {
      "image/png": "[encoded data removed]",
      "text/plain": [
       "<Figure size 432x288 with 1 Axes>"
      ]
     },
     "metadata": {
      "needs_background": "light"
     },
     "output_type": "display_data"
    }
   ],
   "source": [
    "stats_subset = stats_df.loc[stats_df.beach=='wreckpoint']\n",
    "stats_subset.plot.scatter(x='val_dist',\n",
    "                      y='deacl_dist',\n",
    "                      c=stats_subset.year,\n",
    "                      s=25,\n",
    "#                       cmap='YlOrRd',\n",
    "                      vmin=1987,\n",
    "                      vmax=2018,\n",
    "                      edgecolors='black',\n",
    "                      linewidth=0.5)"
   ]
  },
  {
   "cell_type": "code",
   "execution_count": 621,
   "metadata": {},
   "outputs": [],
   "source": [
    "test = gpd.read_file('/g/data/r78/rt1527/dea-notebooks/MAHTS/test2.geojson')"
   ]
  },
  {
   "cell_type": "code",
   "execution_count": 662,
   "metadata": {},
   "outputs": [
    {
     "data": {
      "text/html": [
       "<div>\n",
       "<style scoped>\n",
       "    .dataframe tbody tr th:only-of-type {\n",
       "        vertical-align: middle;\n",
       "    }\n",
       "\n",
       "    .dataframe tbody tr th {\n",
       "        vertical-align: top;\n",
       "    }\n",
       "\n",
       "    .dataframe thead th {\n",
       "        text-align: right;\n",
       "    }\n",
       "</style>\n",
       "<table border=\"1\" class=\"dataframe\">\n",
       "  <thead>\n",
       "    <tr style=\"text-align: right;\">\n",
       "      <th></th>\n",
       "      <th>fid</th>\n",
       "      <th>handle</th>\n",
       "      <th>block</th>\n",
       "      <th>etype</th>\n",
       "      <th>space</th>\n",
       "      <th>layer</th>\n",
       "      <th>olinetype</th>\n",
       "      <th>linetype</th>\n",
       "      <th>color</th>\n",
       "      <th>ocolor</th>\n",
       "      <th>...</th>\n",
       "      <th>transparency</th>\n",
       "      <th>lweight</th>\n",
       "      <th>linewidth</th>\n",
       "      <th>ltscale</th>\n",
       "      <th>visible</th>\n",
       "      <th>width</th>\n",
       "      <th>thickness</th>\n",
       "      <th>ext</th>\n",
       "      <th>orig_ogc_fid</th>\n",
       "      <th>geometry</th>\n",
       "    </tr>\n",
       "  </thead>\n",
       "  <tbody>\n",
       "    <tr>\n",
       "      <th>0</th>\n",
       "      <td>229</td>\n",
       "      <td>10028</td>\n",
       "      <td>-1</td>\n",
       "      <td>25</td>\n",
       "      <td>0</td>\n",
       "      <td>G1_LongSection</td>\n",
       "      <td>bylayer</td>\n",
       "      <td></td>\n",
       "      <td>0,0,0,7</td>\n",
       "      <td>256</td>\n",
       "      <td>...</td>\n",
       "      <td>0</td>\n",
       "      <td>-1</td>\n",
       "      <td>0.0</td>\n",
       "      <td>1.0</td>\n",
       "      <td>1</td>\n",
       "      <td>0.0</td>\n",
       "      <td>0.0</td>\n",
       "      <td>(3:0.03372145206021413,-0.9994312701086308,3.7...</td>\n",
       "      <td>229</td>\n",
       "      <td>LINESTRING Z (47968.862 4.890 -293069.676, 479...</td>\n",
       "    </tr>\n",
       "  </tbody>\n",
       "</table>\n",
       "<p>1 rows × 21 columns</p>\n",
       "</div>"
      ],
      "text/plain": [
       "   fid  handle  block  etype  space           layer olinetype linetype  \\\n",
       "0  229   10028     -1     25      0  G1_LongSection   bylayer            \n",
       "\n",
       "     color  ocolor  ...  transparency  lweight  linewidth  ltscale  visible  \\\n",
       "0  0,0,0,7     256  ...             0       -1        0.0      1.0        1   \n",
       "\n",
       "   width  thickness                                                ext  \\\n",
       "0    0.0        0.0  (3:0.03372145206021413,-0.9994312701086308,3.7...   \n",
       "\n",
       "  orig_ogc_fid                                           geometry  \n",
       "0          229  LINESTRING Z (47968.862 4.890 -293069.676, 479...  \n",
       "\n",
       "[1 rows x 21 columns]"
      ]
     },
     "execution_count": 662,
     "metadata": {},
     "output_type": "execute_result"
    }
   ],
   "source": [
    "test"
   ]
  },
  {
   "cell_type": "code",
   "execution_count": 637,
   "metadata": {},
   "outputs": [],
   "source": [
    "out = test.geometry.iloc[0].coords"
   ]
  },
  {
   "cell_type": "code",
   "execution_count": 656,
   "metadata": {},
   "outputs": [],
   "source": [
    "x_vals = [x for (x, z, y) in out]\n",
    "z_vals = [z for (x, z, y) in out]\n",
    "y_vals = [y for (x, z, y) in out]"
   ]
  },
  {
   "cell_type": "code",
   "execution_count": 848,
   "metadata": {},
   "outputs": [
    {
     "data": {
      "text/plain": [
       "(-1520243.7099064293, -3565693.2914547483)"
      ]
     },
     "execution_count": 848,
     "metadata": {},
     "output_type": "execute_result"
    }
   ],
   "source": [
    "from pyproj import Transformer\n",
    "\n",
    "yy, xx = 276444.433, 43560.933\n",
    "\n",
    "\n",
    "\n",
    "\n",
    "\n",
    "\n",
    "\n",
    "trans = Transformer.from_crs('+proj=tmerc +lat_0=0 +lon_0=115.8166666666667 +k=0.9999990600000001 +x_0=50000 +y_0=3800000 +ellps=GRS80 +towgs84=0,0,0,0,0,0,0 +units=m +no_defs', \n",
    "                             'EPSG:3577', always_xy=True)\n",
    "trans.transform(xx, yy)"
   ]
  },
  {
   "cell_type": "code",
   "execution_count": 883,
   "metadata": {},
   "outputs": [
    {
     "data": {
      "text/plain": [
       "array([268463.493,  44234.447])"
      ]
     },
     "execution_count": 883,
     "metadata": {},
     "output_type": "execute_result"
    }
   ],
   "source": [
    "pd.read_excel(test['fname'],\n",
    "              sheet_name=profile_id, \n",
    "              nrows=test['meta_nrows'], \n",
    "              skiprows=test['meta_skiprows'],\n",
    "              usecols=test['meta_usecols'], \n",
    "              header=None, \n",
    "              on_demand=True).values[0]"
   ]
  },
  {
   "cell_type": "code",
   "execution_count": 1055,
   "metadata": {},
   "outputs": [
    {
     "name": "stdout",
     "output_type": "stream",
     "text": [
      "1\n",
      "2\n",
      "3\n",
      "4\n",
      "5\n",
      "6\n",
      "7\n",
      "8\n",
      "9\n",
      "10\n",
      "11\n",
      "12\n",
      "13\n",
      "14\n",
      "15\n",
      "16\n",
      "17\n",
      "18\n",
      "19\n",
      "1\n",
      "2\n",
      "3\n",
      "4\n",
      "5\n",
      "6\n",
      "7\n",
      "8\n",
      "9\n",
      "10\n",
      "11\n",
      "12\n",
      "13\n",
      "14\n",
      "15\n",
      "16\n",
      "17\n",
      "18\n",
      "19\n",
      "1\n",
      "2\n",
      "3\n",
      "4\n",
      "5\n",
      "6\n",
      "7\n",
      "8\n",
      "9\n",
      "10\n",
      "11\n",
      "12\n",
      "13\n",
      "14\n",
      "15\n",
      "16\n",
      "17\n",
      "18\n",
      "19\n",
      "1\n",
      "2\n",
      "3\n",
      "4\n",
      "5\n",
      "6\n",
      "7\n",
      "8\n",
      "9\n",
      "10\n",
      "11\n",
      "12\n",
      "13\n",
      "14\n",
      "15\n",
      "16\n",
      "17\n",
      "18\n",
      "19\n",
      "1\n",
      "2\n",
      "3\n",
      "4\n",
      "5\n",
      "6\n",
      "7\n",
      "8\n",
      "9\n",
      "10\n",
      "11\n",
      "12\n",
      "13\n",
      "14\n",
      "15\n",
      "16\n",
      "17\n",
      "18\n",
      "19\n"
     ]
    }
   ],
   "source": [
    "survey_xl = [{'fname': '/g/data/r78/rt1527/dea-notebooks/MAHTS/validation/input_data/stirling/2015 05 28 - From Stirling - Coastal Profiles 2014-2015 April-Feb with updated reef#2.xlsm',\n",
    "              'skiprows': 2,\n",
    "              'skipcols': 5,\n",
    "              'nrows': 100, \n",
    "              'meta_skiprows': 0,\n",
    "              'meta_nrows': 1,\n",
    "              'meta_usecols': [6, 7]}, \n",
    "             {'fname': '/g/data/r78/rt1527/dea-notebooks/MAHTS/validation/input_data/stirling/Coastal Profiles 2013-2014 JUL-MAY#2.xlsx',\n",
    "              'skiprows': 2,\n",
    "              'skipcols': 5,\n",
    "              'nrows': 100, \n",
    "              'meta_skiprows': 0,\n",
    "              'meta_nrows': 1,\n",
    "              'meta_usecols': [6, 7]}, \n",
    "             {'fname': '/g/data/r78/rt1527/dea-notebooks/MAHTS/validation/input_data/stirling/COASTAL PROFILES 2013 JAN - JUNE#2.xls',\n",
    "              'skiprows': 3,\n",
    "              'skipcols': 0,\n",
    "              'nrows': 40, \n",
    "              'meta_skiprows': 1,\n",
    "              'meta_nrows': 2,\n",
    "              'meta_usecols': [1, 2]}, \n",
    "             {'fname': '/g/data/r78/rt1527/dea-notebooks/MAHTS/validation/input_data/stirling/COASTAL PROFILES 2012 JUN - DEC#2.xls',\n",
    "              'skiprows': 3,\n",
    "              'skipcols': 0,\n",
    "              'nrows': 40, \n",
    "              'meta_skiprows': 1,\n",
    "              'meta_nrows': 2,\n",
    "              'meta_usecols': [1, 2]}, \n",
    "             {'fname': '/g/data/r78/rt1527/dea-notebooks/MAHTS/validation/input_data/stirling/COASTAL PROFILES 2011-2012 NOV - MAY#2.xls',\n",
    "              'skiprows': 3,\n",
    "              'skipcols': 0,\n",
    "              'nrows': 40, \n",
    "              'meta_skiprows': 1,\n",
    "              'meta_nrows': 2,\n",
    "              'meta_usecols': [1, 2]}]\n",
    "\n",
    "output = []\n",
    "\n",
    "for test in survey_xl:\n",
    "\n",
    "    # Get metadata\n",
    "    all_meta = pd.read_excel(test['fname'],\n",
    "                             sheet_name=None, \n",
    "                             nrows=test['meta_nrows'], \n",
    "                             skiprows=test['meta_skiprows'],\n",
    "                             usecols=test['meta_usecols'], \n",
    "                             header=None, \n",
    "                             on_demand=True)\n",
    "\n",
    "    # Load data\n",
    "    all_sheets = pd.read_excel(test['fname'],\n",
    "                               sheet_name=None, \n",
    "                               skiprows=test['skiprows'], \n",
    "                               nrows=test['nrows'], \n",
    "                               parse_dates=False,\n",
    "                               usecols=lambda x: 'Unnamed' not in str(x))\n",
    "\n",
    "    # Iterate through each profile in survey data\n",
    "    for profile_id in np.arange(1, 20).astype('str'):\n",
    "\n",
    "        # Get metadata and data    \n",
    "        start_x, start_y = all_meta[profile_id].values[0]\n",
    "        sheet = all_sheets[profile_id].iloc[:,test['skipcols']:]\n",
    "\n",
    "        # First set columns to strings\n",
    "        sheet.columns = sheet.columns.astype(str).str.slice(0, 10)\n",
    "\n",
    "        # Drop note columns and distance/angle offset\n",
    "        sheet = sheet.loc[:,~sheet.columns.str.lower().str.contains('note|notes')]\n",
    "        sheet = sheet.drop(['dist', 'angle dd'], axis=1, errors='ignore')\n",
    "\n",
    "        # Expand dates into rows for each profile/sampling\n",
    "        sheet.loc[:,sheet.columns[::4]] = sheet.columns[::4]\n",
    "\n",
    "        # Number date columns incrementally to match other fields\n",
    "        start_num = 1 if test['skipcols'] > 0 else 0\n",
    "        rename_dict = {name: f'date.{i + start_num}' for \n",
    "                       i, name in enumerate(sheet.columns[::4])}\n",
    "        sheet = sheet.rename(rename_dict, axis=1).reset_index()\n",
    "        sheet = sheet.rename({'X': 'X.0', 'Y': 'Y.0', 'Z': 'Z.0', 'note': 'note.0'}, axis=1)\n",
    "\n",
    "        # Reshape data into long format\n",
    "        profile_df = pd.wide_to_long(sheet, \n",
    "                                     stubnames=['date', 'X', 'Y', 'Z'], \n",
    "                                     i='index', \n",
    "                                     j='dropme', \n",
    "                                     sep='.').reset_index(drop=True)\n",
    "\n",
    "        # Set datetimes\n",
    "        profile_df['date'] = pd.to_datetime(profile_df.date, errors='coerce')\n",
    "\n",
    "        # Add profile metadaa\n",
    "        profile_df['profile'] = profile_id\n",
    "        profile_df['start_x'] = start_x\n",
    "        profile_df['start_y'] = start_y\n",
    "\n",
    "        # Reproject coordinates into Australian Albers\n",
    "        pcg_crs = '+proj=tmerc +lat_0=0 +lon_0=115.8166666666667 ' \\\n",
    "                  '+k=0.9999990600000001 +x_0=50000 +y_0=3800000 ' \\\n",
    "                  '+ellps=GRS80 +towgs84=0,0,0,0,0,0,0 +units=m +no_defs'\n",
    "        trans = Transformer.from_crs(pcg_crs, \n",
    "                                     'EPSG:3577', always_xy=True)\n",
    "        profile_df['X'], profile_df['Y'] =  trans.transform(\n",
    "            profile_df.Y.values, profile_df.X.values)\n",
    "        profile_df['start_x'], profile_df['start_y'] =  trans.transform(\n",
    "            profile_df.start_y.values, profile_df.start_x.values)\n",
    "\n",
    "        # Add results to list\n",
    "        output.append(profile_df.dropna())\n",
    "\n",
    "# Combine all survey and profile data\n",
    "profiles_df = pd.concat(output)"
   ]
  },
  {
   "cell_type": "code",
   "execution_count": 1057,
   "metadata": {},
   "outputs": [
    {
     "name": "stdout",
     "output_type": "stream",
     "text": [
      "test\n"
     ]
    }
   ],
   "source": [
    "out = to_vector(profiles_df, fname='test11.shp', \n",
    "                x='X', \n",
    "                y='Y')"
   ]
  },
  {
   "cell_type": "code",
   "execution_count": 844,
   "metadata": {},
   "outputs": [],
   "source": [
    "out"
   ]
  },
  {
   "cell_type": "code",
   "execution_count": 817,
   "metadata": {},
   "outputs": [
    {
     "data": {
      "text/plain": [
       "<matplotlib.axes._subplots.AxesSubplot at 0x7f5acc989240>"
      ]
     },
     "execution_count": 817,
     "metadata": {},
     "output_type": "execute_result"
    },
    {
     "data": {
      "image/png": "[encoded data removed]",
      "text/plain": [
       "<Figure size 432x288 with 1 Axes>"
      ]
     },
     "metadata": {
      "needs_background": "light"
     },
     "output_type": "display_data"
    }
   ],
   "source": [
    "profile_df.plot.scatter(x='X', y='Y')"
   ]
  },
  {
   "cell_type": "code",
   "execution_count": 794,
   "metadata": {},
   "outputs": [],
   "source": []
  },
  {
   "cell_type": "code",
   "execution_count": 793,
   "metadata": {},
   "outputs": [
    {
     "data": {
      "text/html": [
       "<div>\n",
       "<style scoped>\n",
       "    .dataframe tbody tr th:only-of-type {\n",
       "        vertical-align: middle;\n",
       "    }\n",
       "\n",
       "    .dataframe tbody tr th {\n",
       "        vertical-align: top;\n",
       "    }\n",
       "\n",
       "    .dataframe thead th {\n",
       "        text-align: right;\n",
       "    }\n",
       "</style>\n",
       "<table border=\"1\" class=\"dataframe\">\n",
       "  <thead>\n",
       "    <tr style=\"text-align: right;\">\n",
       "      <th></th>\n",
       "      <th>6</th>\n",
       "      <th>7</th>\n",
       "    </tr>\n",
       "  </thead>\n",
       "  <tbody>\n",
       "    <tr>\n",
       "      <th>0</th>\n",
       "      <td>276453.443</td>\n",
       "      <td>43578.765</td>\n",
       "    </tr>\n",
       "  </tbody>\n",
       "</table>\n",
       "</div>"
      ],
      "text/plain": [
       "            6          7\n",
       "0  276453.443  43578.765"
      ]
     },
     "execution_count": 793,
     "metadata": {},
     "output_type": "execute_result"
    }
   ],
   "source": [
    "sheet"
   ]
  },
  {
   "cell_type": "code",
   "execution_count": 787,
   "metadata": {},
   "outputs": [],
   "source": [
    "start_x, start_y = sheet"
   ]
  },
  {
   "cell_type": "code",
   "execution_count": 774,
   "metadata": {},
   "outputs": [
    {
     "data": {
      "text/html": [
       "<div>\n",
       "<style scoped>\n",
       "    .dataframe tbody tr th:only-of-type {\n",
       "        vertical-align: middle;\n",
       "    }\n",
       "\n",
       "    .dataframe tbody tr th {\n",
       "        vertical-align: top;\n",
       "    }\n",
       "\n",
       "    .dataframe thead th {\n",
       "        text-align: right;\n",
       "    }\n",
       "</style>\n",
       "<table border=\"1\" class=\"dataframe\">\n",
       "  <thead>\n",
       "    <tr style=\"text-align: right;\">\n",
       "      <th></th>\n",
       "      <th>date</th>\n",
       "      <th>X</th>\n",
       "      <th>Y</th>\n",
       "      <th>Z</th>\n",
       "      <th>note</th>\n",
       "    </tr>\n",
       "  </thead>\n",
       "  <tbody>\n",
       "    <tr>\n",
       "      <th>0</th>\n",
       "      <td>21/03/2014</td>\n",
       "      <td>268463.498</td>\n",
       "      <td>44245.473</td>\n",
       "      <td>8.653</td>\n",
       "      <td>Sand</td>\n",
       "    </tr>\n",
       "    <tr>\n",
       "      <th>1</th>\n",
       "      <td>21/03/2014</td>\n",
       "      <td>268463.439</td>\n",
       "      <td>44243.441</td>\n",
       "      <td>8.753</td>\n",
       "      <td>Sand</td>\n",
       "    </tr>\n",
       "    <tr>\n",
       "      <th>2</th>\n",
       "      <td>21/03/2014</td>\n",
       "      <td>268463.522</td>\n",
       "      <td>44241.398</td>\n",
       "      <td>8.156</td>\n",
       "      <td>Sand</td>\n",
       "    </tr>\n",
       "    <tr>\n",
       "      <th>3</th>\n",
       "      <td>21/03/2014</td>\n",
       "      <td>268463.485</td>\n",
       "      <td>44241.002</td>\n",
       "      <td>8.356</td>\n",
       "      <td>Sand</td>\n",
       "    </tr>\n",
       "    <tr>\n",
       "      <th>4</th>\n",
       "      <td>21/03/2014</td>\n",
       "      <td>268463.511</td>\n",
       "      <td>44240.130</td>\n",
       "      <td>9.244</td>\n",
       "      <td>veg</td>\n",
       "    </tr>\n",
       "    <tr>\n",
       "      <th>...</th>\n",
       "      <td>...</td>\n",
       "      <td>...</td>\n",
       "      <td>...</td>\n",
       "      <td>...</td>\n",
       "      <td>...</td>\n",
       "    </tr>\n",
       "    <tr>\n",
       "      <th>1131</th>\n",
       "      <td>17/02/2015</td>\n",
       "      <td>268463.330</td>\n",
       "      <td>44172.151</td>\n",
       "      <td>-0.404</td>\n",
       "      <td>SAND</td>\n",
       "    </tr>\n",
       "    <tr>\n",
       "      <th>1132</th>\n",
       "      <td>17/02/2015</td>\n",
       "      <td>268463.288</td>\n",
       "      <td>44155.329</td>\n",
       "      <td>-0.830</td>\n",
       "      <td>SAND</td>\n",
       "    </tr>\n",
       "    <tr>\n",
       "      <th>1133</th>\n",
       "      <td>17/02/2015</td>\n",
       "      <td>268463.073</td>\n",
       "      <td>44145.129</td>\n",
       "      <td>-1.378</td>\n",
       "      <td>SAND</td>\n",
       "    </tr>\n",
       "    <tr>\n",
       "      <th>1134</th>\n",
       "      <td>17/02/2015</td>\n",
       "      <td>268463.600</td>\n",
       "      <td>44130.078</td>\n",
       "      <td>-2.048</td>\n",
       "      <td>SAND</td>\n",
       "    </tr>\n",
       "    <tr>\n",
       "      <th>1135</th>\n",
       "      <td>17/02/2015</td>\n",
       "      <td>268463.330</td>\n",
       "      <td>44123.610</td>\n",
       "      <td>-2.559</td>\n",
       "      <td>SAND</td>\n",
       "    </tr>\n",
       "  </tbody>\n",
       "</table>\n",
       "<p>362 rows × 5 columns</p>\n",
       "</div>"
      ],
      "text/plain": [
       "            date           X          Y      Z  note\n",
       "0     21/03/2014  268463.498  44245.473  8.653  Sand\n",
       "1     21/03/2014  268463.439  44243.441  8.753  Sand\n",
       "2     21/03/2014  268463.522  44241.398  8.156  Sand\n",
       "3     21/03/2014  268463.485  44241.002  8.356  Sand\n",
       "4     21/03/2014  268463.511  44240.130  9.244   veg\n",
       "...          ...         ...        ...    ...   ...\n",
       "1131  17/02/2015  268463.330  44172.151 -0.404  SAND\n",
       "1132  17/02/2015  268463.288  44155.329 -0.830  SAND\n",
       "1133  17/02/2015  268463.073  44145.129 -1.378  SAND\n",
       "1134  17/02/2015  268463.600  44130.078 -2.048  SAND\n",
       "1135  17/02/2015  268463.330  44123.610 -2.559  SAND\n",
       "\n",
       "[362 rows x 5 columns]"
      ]
     },
     "execution_count": 774,
     "metadata": {},
     "output_type": "execute_result"
    }
   ],
   "source": [
    "pd.wide_to_long(sheet, stubnames=['date', 'X', 'Y', 'Z', 'note'], \n",
    "                i='index', \n",
    "                j='dropme', \n",
    "                sep='.').reset_index(drop=True).dropna()"
   ]
  },
  {
   "cell_type": "code",
   "execution_count": 767,
   "metadata": {},
   "outputs": [
    {
     "data": {
      "text/html": [
       "<div>\n",
       "<style scoped>\n",
       "    .dataframe tbody tr th:only-of-type {\n",
       "        vertical-align: middle;\n",
       "    }\n",
       "\n",
       "    .dataframe tbody tr th {\n",
       "        vertical-align: top;\n",
       "    }\n",
       "\n",
       "    .dataframe thead th {\n",
       "        text-align: right;\n",
       "    }\n",
       "</style>\n",
       "<table border=\"1\" class=\"dataframe\">\n",
       "  <thead>\n",
       "    <tr style=\"text-align: right;\">\n",
       "      <th></th>\n",
       "      <th>index</th>\n",
       "      <th>date.1</th>\n",
       "      <th>X.1</th>\n",
       "      <th>Y.1</th>\n",
       "      <th>Z.1</th>\n",
       "      <th>note.1</th>\n",
       "      <th>date.2</th>\n",
       "      <th>X.2</th>\n",
       "      <th>Y.2</th>\n",
       "      <th>Z.2</th>\n",
       "      <th>...</th>\n",
       "      <th>date.11</th>\n",
       "      <th>X.11</th>\n",
       "      <th>Y.11</th>\n",
       "      <th>Z.11</th>\n",
       "      <th>note.11</th>\n",
       "      <th>date.12</th>\n",
       "      <th>X.12</th>\n",
       "      <th>Y.12</th>\n",
       "      <th>Z.12</th>\n",
       "      <th>note.12</th>\n",
       "    </tr>\n",
       "  </thead>\n",
       "  <tbody>\n",
       "    <tr>\n",
       "      <th>0</th>\n",
       "      <td>0</td>\n",
       "      <td>21/03/2014</td>\n",
       "      <td>268463.498</td>\n",
       "      <td>44245.473</td>\n",
       "      <td>8.653</td>\n",
       "      <td>Sand</td>\n",
       "      <td>10/04/2014</td>\n",
       "      <td>268463.474</td>\n",
       "      <td>44246.353</td>\n",
       "      <td>8.519</td>\n",
       "      <td>...</td>\n",
       "      <td>13/01/2015</td>\n",
       "      <td>268463.375</td>\n",
       "      <td>44247.596</td>\n",
       "      <td>8.065</td>\n",
       "      <td>PSM</td>\n",
       "      <td>17/02/2015</td>\n",
       "      <td>268463.479</td>\n",
       "      <td>44247.754</td>\n",
       "      <td>8.024</td>\n",
       "      <td>VEG</td>\n",
       "    </tr>\n",
       "    <tr>\n",
       "      <th>1</th>\n",
       "      <td>1</td>\n",
       "      <td>21/03/2014</td>\n",
       "      <td>268463.439</td>\n",
       "      <td>44243.441</td>\n",
       "      <td>8.753</td>\n",
       "      <td>Sand</td>\n",
       "      <td>10/04/2014</td>\n",
       "      <td>268463.445</td>\n",
       "      <td>44244.022</td>\n",
       "      <td>8.668</td>\n",
       "      <td>...</td>\n",
       "      <td>13/01/2015</td>\n",
       "      <td>268463.397</td>\n",
       "      <td>44246.309</td>\n",
       "      <td>8.638</td>\n",
       "      <td>VEG</td>\n",
       "      <td>17/02/2015</td>\n",
       "      <td>268463.490</td>\n",
       "      <td>44247.752</td>\n",
       "      <td>8.017</td>\n",
       "      <td>VEG</td>\n",
       "    </tr>\n",
       "    <tr>\n",
       "      <th>2</th>\n",
       "      <td>2</td>\n",
       "      <td>21/03/2014</td>\n",
       "      <td>268463.522</td>\n",
       "      <td>44241.398</td>\n",
       "      <td>8.156</td>\n",
       "      <td>Sand</td>\n",
       "      <td>10/04/2014</td>\n",
       "      <td>268463.399</td>\n",
       "      <td>44242.870</td>\n",
       "      <td>8.567</td>\n",
       "      <td>...</td>\n",
       "      <td>13/01/2015</td>\n",
       "      <td>268463.460</td>\n",
       "      <td>44244.671</td>\n",
       "      <td>8.298</td>\n",
       "      <td>SAND</td>\n",
       "      <td>17/02/2015</td>\n",
       "      <td>268463.401</td>\n",
       "      <td>44246.351</td>\n",
       "      <td>8.622</td>\n",
       "      <td>VEG SAND</td>\n",
       "    </tr>\n",
       "    <tr>\n",
       "      <th>3</th>\n",
       "      <td>3</td>\n",
       "      <td>21/03/2014</td>\n",
       "      <td>268463.485</td>\n",
       "      <td>44241.002</td>\n",
       "      <td>8.356</td>\n",
       "      <td>Sand</td>\n",
       "      <td>10/04/2014</td>\n",
       "      <td>268463.353</td>\n",
       "      <td>44241.453</td>\n",
       "      <td>8.322</td>\n",
       "      <td>...</td>\n",
       "      <td>13/01/2015</td>\n",
       "      <td>268463.433</td>\n",
       "      <td>44243.158</td>\n",
       "      <td>7.998</td>\n",
       "      <td>SAND</td>\n",
       "      <td>17/02/2015</td>\n",
       "      <td>268463.503</td>\n",
       "      <td>44245.772</td>\n",
       "      <td>8.484</td>\n",
       "      <td>SAND</td>\n",
       "    </tr>\n",
       "    <tr>\n",
       "      <th>4</th>\n",
       "      <td>4</td>\n",
       "      <td>21/03/2014</td>\n",
       "      <td>268463.511</td>\n",
       "      <td>44240.130</td>\n",
       "      <td>9.244</td>\n",
       "      <td>veg</td>\n",
       "      <td>10/04/2014</td>\n",
       "      <td>268463.337</td>\n",
       "      <td>44240.867</td>\n",
       "      <td>8.520</td>\n",
       "      <td>...</td>\n",
       "      <td>13/01/2015</td>\n",
       "      <td>268463.403</td>\n",
       "      <td>44241.719</td>\n",
       "      <td>7.824</td>\n",
       "      <td>SAND</td>\n",
       "      <td>17/02/2015</td>\n",
       "      <td>268463.495</td>\n",
       "      <td>44243.423</td>\n",
       "      <td>8.257</td>\n",
       "      <td>SAND</td>\n",
       "    </tr>\n",
       "  </tbody>\n",
       "</table>\n",
       "<p>5 rows × 61 columns</p>\n",
       "</div>"
      ],
      "text/plain": [
       "   index      date.1         X.1        Y.1    Z.1 note.1      date.2  \\\n",
       "0      0  21/03/2014  268463.498  44245.473  8.653   Sand  10/04/2014   \n",
       "1      1  21/03/2014  268463.439  44243.441  8.753   Sand  10/04/2014   \n",
       "2      2  21/03/2014  268463.522  44241.398  8.156   Sand  10/04/2014   \n",
       "3      3  21/03/2014  268463.485  44241.002  8.356   Sand  10/04/2014   \n",
       "4      4  21/03/2014  268463.511  44240.130  9.244    veg  10/04/2014   \n",
       "\n",
       "          X.2        Y.2    Z.2  ...     date.11        X.11       Y.11  \\\n",
       "0  268463.474  44246.353  8.519  ...  13/01/2015  268463.375  44247.596   \n",
       "1  268463.445  44244.022  8.668  ...  13/01/2015  268463.397  44246.309   \n",
       "2  268463.399  44242.870  8.567  ...  13/01/2015  268463.460  44244.671   \n",
       "3  268463.353  44241.453  8.322  ...  13/01/2015  268463.433  44243.158   \n",
       "4  268463.337  44240.867  8.520  ...  13/01/2015  268463.403  44241.719   \n",
       "\n",
       "    Z.11  note.11     date.12        X.12       Y.12   Z.12   note.12  \n",
       "0  8.065      PSM  17/02/2015  268463.479  44247.754  8.024       VEG  \n",
       "1  8.638      VEG  17/02/2015  268463.490  44247.752  8.017       VEG  \n",
       "2  8.298     SAND  17/02/2015  268463.401  44246.351  8.622  VEG SAND  \n",
       "3  7.998     SAND  17/02/2015  268463.503  44245.772  8.484      SAND  \n",
       "4  7.824     SAND  17/02/2015  268463.495  44243.423  8.257      SAND  \n",
       "\n",
       "[5 rows x 61 columns]"
      ]
     },
     "execution_count": 767,
     "metadata": {},
     "output_type": "execute_result"
    }
   ],
   "source": [
    "sheet.head(5)"
   ]
  },
  {
   "cell_type": "code",
   "execution_count": 722,
   "metadata": {},
   "outputs": [],
   "source": [
    "df = pd.DataFrame({'site': [0, 0, 0],\n",
    "                   'A': [1, 2, 3], \n",
    "                   'B': [1, 2, 3],\n",
    "                   'site.1': [1, 1, 1],\n",
    "                   'A.1': [4, 5, 6], \n",
    "                   'B.1': [4, 5, 6],\n",
    "                   'site.2': [2, 2, 2],\n",
    "                   'A.2': [7, 8, 9], \n",
    "                   'B.2': [7, 8, 9]})"
   ]
  },
  {
   "cell_type": "code",
   "execution_count": 725,
   "metadata": {},
   "outputs": [
    {
     "data": {
      "text/html": [
       "<div>\n",
       "<style scoped>\n",
       "    .dataframe tbody tr th:only-of-type {\n",
       "        vertical-align: middle;\n",
       "    }\n",
       "\n",
       "    .dataframe tbody tr th {\n",
       "        vertical-align: top;\n",
       "    }\n",
       "\n",
       "    .dataframe thead th {\n",
       "        text-align: right;\n",
       "    }\n",
       "</style>\n",
       "<table border=\"1\" class=\"dataframe\">\n",
       "  <thead>\n",
       "    <tr style=\"text-align: right;\">\n",
       "      <th></th>\n",
       "      <th>site</th>\n",
       "      <th>A</th>\n",
       "      <th>B</th>\n",
       "    </tr>\n",
       "  </thead>\n",
       "  <tbody>\n",
       "    <tr>\n",
       "      <th>0</th>\n",
       "      <td>0</td>\n",
       "      <td>1</td>\n",
       "      <td>1</td>\n",
       "    </tr>\n",
       "    <tr>\n",
       "      <th>1</th>\n",
       "      <td>0</td>\n",
       "      <td>2</td>\n",
       "      <td>2</td>\n",
       "    </tr>\n",
       "    <tr>\n",
       "      <th>2</th>\n",
       "      <td>0</td>\n",
       "      <td>3</td>\n",
       "      <td>3</td>\n",
       "    </tr>\n",
       "    <tr>\n",
       "      <th>3</th>\n",
       "      <td>1</td>\n",
       "      <td>4</td>\n",
       "      <td>4</td>\n",
       "    </tr>\n",
       "    <tr>\n",
       "      <th>4</th>\n",
       "      <td>1</td>\n",
       "      <td>5</td>\n",
       "      <td>5</td>\n",
       "    </tr>\n",
       "    <tr>\n",
       "      <th>5</th>\n",
       "      <td>1</td>\n",
       "      <td>6</td>\n",
       "      <td>6</td>\n",
       "    </tr>\n",
       "    <tr>\n",
       "      <th>6</th>\n",
       "      <td>2</td>\n",
       "      <td>7</td>\n",
       "      <td>7</td>\n",
       "    </tr>\n",
       "    <tr>\n",
       "      <th>7</th>\n",
       "      <td>2</td>\n",
       "      <td>8</td>\n",
       "      <td>8</td>\n",
       "    </tr>\n",
       "    <tr>\n",
       "      <th>8</th>\n",
       "      <td>2</td>\n",
       "      <td>9</td>\n",
       "      <td>9</td>\n",
       "    </tr>\n",
       "  </tbody>\n",
       "</table>\n",
       "</div>"
      ],
      "text/plain": [
       "   site  A  B\n",
       "0     0  1  1\n",
       "1     0  2  2\n",
       "2     0  3  3\n",
       "3     1  4  4\n",
       "4     1  5  5\n",
       "5     1  6  6\n",
       "6     2  7  7\n",
       "7     2  8  8\n",
       "8     2  9  9"
      ]
     },
     "execution_count": 725,
     "metadata": {},
     "output_type": "execute_result"
    }
   ],
   "source": [
    "pd.DataFrame({'site': [0, 0, 0, 1, 1, 1, 2, 2, 2],\n",
    "              'A': [1, 2, 3, 4, 5, 6, 7, 8, 9], \n",
    "              'B': [1, 2, 3, 4, 5, 6, 7, 8, 9]})"
   ]
  },
  {
   "cell_type": "code",
   "execution_count": 730,
   "metadata": {},
   "outputs": [
    {
     "ename": "TypeError",
     "evalue": "wide_to_long() missing 2 required positional arguments: 'i' and 'j'",
     "output_type": "error",
     "traceback": [
      "\u001b[0;31m---------------------------------------------------------------------------\u001b[0m",
      "\u001b[0;31mTypeError\u001b[0m                                 Traceback (most recent call last)",
      "\u001b[0;32m<ipython-input-730-bcb87b8cfcb0>\u001b[0m in \u001b[0;36m<module>\u001b[0;34m\u001b[0m\n\u001b[0;32m----> 1\u001b[0;31m \u001b[0mpd\u001b[0m\u001b[0;34m.\u001b[0m\u001b[0mwide_to_long\u001b[0m\u001b[0;34m(\u001b[0m\u001b[0mdf\u001b[0m\u001b[0;34m,\u001b[0m \u001b[0mstubnames\u001b[0m\u001b[0;34m=\u001b[0m\u001b[0;34m[\u001b[0m\u001b[0;34m'A'\u001b[0m\u001b[0;34m,\u001b[0m \u001b[0;34m'B'\u001b[0m\u001b[0;34m]\u001b[0m\u001b[0;34m)\u001b[0m\u001b[0;34m\u001b[0m\u001b[0;34m\u001b[0m\u001b[0m\n\u001b[0m",
      "\u001b[0;31mTypeError\u001b[0m: wide_to_long() missing 2 required positional arguments: 'i' and 'j'"
     ]
    }
   ],
   "source": [
    "pd.wide_to_long(df, stubnames=['A', 'B'])"
   ]
  },
  {
   "cell_type": "code",
   "execution_count": 592,
   "metadata": {},
   "outputs": [
    {
     "data": {
      "text/plain": [
       "<matplotlib.axes._subplots.AxesSubplot at 0x7f5ad0dab9e8>"
      ]
     },
     "execution_count": 592,
     "metadata": {},
     "output_type": "execute_result"
    },
    {
     "data": {
      "image/png": "[encoded data removed]",
      "text/plain": [
       "<Figure size 432x288 with 1 Axes>"
      ]
     },
     "metadata": {
      "needs_background": "light"
     },
     "output_type": "display_data"
    }
   ],
   "source": [
    "stats_df.diff_dist.plot.hist(bins=100)"
   ]
  },
  {
   "cell_type": "code",
   "execution_count": 583,
   "metadata": {},
   "outputs": [
    {
     "data": {
      "text/plain": [
       "[<matplotlib.lines.Line2D at 0x7f5ad178f278>]"
      ]
     },
     "execution_count": 583,
     "metadata": {},
     "output_type": "execute_result"
    },
    {
     "data": {
      "image/png": "[encoded data removed]",
      "text/plain": [
       "<Figure size 576x576 with 1 Axes>"
      ]
     },
     "metadata": {
      "needs_background": "light"
     },
     "output_type": "display_data"
    }
   ],
   "source": [
    "import seaborn as sns\n",
    "\n",
    "extent = (70, 270)\n",
    "\n",
    "fig, ax = plt.subplots(figsize=(8, 8))\n",
    "sns.kdeplot(ax=ax,\n",
    "            data=stats_df.val_dist,\n",
    "            data2=stats_df.deacl_dist, \n",
    "            cmap='magma', \n",
    "            shade=True,\n",
    "#             shade_lowest=False,\n",
    "            clip=(extent, extent)\n",
    "           )\n",
    "plt.gca().plot(np.linspace(*extent), \n",
    "               np.linspace(*extent),\n",
    "               color='white',\n",
    "               linestyle='dashed')"
   ]
  },
  {
   "cell_type": "code",
   "execution_count": 585,
   "metadata": {},
   "outputs": [
    {
     "data": {
      "text/plain": [
       "beach\n",
       "binningup                                   -0.499022\n",
       "bussleton                                    7.452548\n",
       "capebouvard                                  1.131666\n",
       "capelrivermouth                              2.062693\n",
       "capenaturaliste                             10.491268\n",
       "capeperon                                   -0.002389\n",
       "challengerbeach                              0.606451\n",
       "guilderton                                   9.783573\n",
       "pinnaroopoint                               12.891125\n",
       "pointcasuarina                              -0.177246\n",
       "pointdaking                                 10.922081\n",
       "quinnsrocks                                 13.299416\n",
       "robertpoint                                  0.740145\n",
       "rottnestisland,carnacisland,gardenisland     1.816183\n",
       "roushead                                     9.869428\n",
       "swanbourne                                  10.980073\n",
       "wreckpoint                                  10.724270\n",
       "Name: diff_dist, dtype: float64"
      ]
     },
     "execution_count": 585,
     "metadata": {},
     "output_type": "execute_result"
    }
   ],
   "source": [
    "stats_df.groupby('beach')['diff_dist'].mean()"
   ]
  },
  {
   "cell_type": "code",
   "execution_count": 587,
   "metadata": {},
   "outputs": [
    {
     "data": {
      "text/plain": [
       "<matplotlib.axes._subplots.AxesSubplot at 0x7f5ad189eba8>"
      ]
     },
     "execution_count": 587,
     "metadata": {},
     "output_type": "execute_result"
    },
    {
     "data": {
      "image/png": "[encoded data removed]",
      "text/plain": [
       "<Figure size 216x360 with 1 Axes>"
      ]
     },
     "metadata": {
      "needs_background": "light"
     },
     "output_type": "display_data"
    }
   ],
   "source": [
    "stats_df.boxplot(column='diff_dist', by='year', figsize=(3, 5), showfliers=False)"
   ]
  },
  {
   "cell_type": "code",
   "execution_count": 588,
   "metadata": {},
   "outputs": [
    {
     "data": {
      "text/plain": [
       "<matplotlib.axes._subplots.AxesSubplot at 0x7f5ad1219748>"
      ]
     },
     "execution_count": 588,
     "metadata": {},
     "output_type": "execute_result"
    },
    {
     "data": {
      "image/png": "[encoded data removed]",
      "text/plain": [
       "<Figure size 432x288 with 1 Axes>"
      ]
     },
     "metadata": {
      "needs_background": "light"
     },
     "output_type": "display_data"
    }
   ],
   "source": [
    "sns.regplot(x='year', y='diff_dist', data=stats_df)"
   ]
  },
  {
   "cell_type": "code",
   "execution_count": 745,
   "metadata": {},
   "outputs": [],
   "source": [
    "to_vector(output_stats, fname='test6.shp', x='0_x', y='0_y', crs='EPSG:3577')"
   ]
  },
  {
   "cell_type": "markdown",
   "metadata": {},
   "source": [
    "## Pre-processing\n"
   ]
  },
  {
   "cell_type": "markdown",
   "metadata": {},
   "source": [
    "### Victoria/Deakin\n",
    "* [X] Renovated"
   ]
  },
  {
   "cell_type": "code",
   "execution_count": null,
   "metadata": {},
   "outputs": [],
   "source": [
    "deacl_val.preprocess_vicdeakin(fname='input_data/vicdeakin/z_data_10cm_VIC.csv',\n",
    "                               datum=0)"
   ]
  },
  {
   "cell_type": "markdown",
   "metadata": {},
   "source": [
    "### WRL Narrabeen \n",
    "* [X] Renovated"
   ]
  },
  {
   "cell_type": "code",
   "execution_count": null,
   "metadata": {},
   "outputs": [],
   "source": [
    "deacl_val.preprocess_narrabeen(fname='input_data/wrl/Narrabeen_Profiles_2018.csv',\n",
    "                               datum=0,\n",
    "                               overwrite=True)\n"
   ]
  },
  {
   "cell_type": "markdown",
   "metadata": {},
   "source": [
    "### NSW Beach Profile Database\n",
    "* [X] Renovated"
   ]
  },
  {
   "cell_type": "code",
   "execution_count": 143,
   "metadata": {},
   "outputs": [
    {
     "name": "stdout",
     "output_type": "stream",
     "text": [
      "Processing output_data/nswbpd_lennoxhead.csv                                               \r"
     ]
    },
    {
     "name": "stderr",
     "output_type": "stream",
     "text": [
      "/g/data/v10/public/modules/dea-env/20200526/lib/python3.6/site-packages/IPython/core/interactiveshell.py:3254: DtypeWarning: Columns (1) have mixed types.Specify dtype option on import or set low_memory=False.\n",
      "  if (await self.run_code(code, result,  async_=asy)):\n"
     ]
    },
    {
     "name": "stdout",
     "output_type": "stream",
     "text": [
      "\n",
      "Dropping invalid profiles: 19                                                                              \n",
      "Processing output_data/nswbpd_brunswick.csv                                                \n",
      "Dropping invalid profiles: 1                                                                               \n",
      "Processing output_data/nswbpd_saphirebeach.csv                                             \n",
      "Dropping invalid profiles: 13                                                                              \n",
      "Processing output_data/nswbpd_ballina.csv                                                  \n",
      "Dropping invalid profiles: 1                                                                               \n",
      "Processing output_data/nswbpd_boambeebeach.csv                                             \n",
      "Dropping invalid profiles: 9                                                                               \n",
      "Processing output_data/nswbpd_saltsbay.csv                                                 \n",
      "Dropping invalid profiles: 6                                                                               \n",
      "Processing output_data/nswbpd_oldbar.csv                                                   \n",
      "Dropping invalid profiles: 4                                                                               \n",
      "Processing output_data/nswbpd_diamondbeach.csv                                             \n",
      "Dropping invalid profiles: 2                                                                               \n",
      "Processing output_data/nswbpd_kingscliff.csv                                               \n",
      "Dropping invalid profiles: 2                                                                               \n",
      "Processing output_data/nswbpd_byronbay.csv                                                 \n",
      "Dropping invalid profiles: 14                                                                              \n",
      "Processing output_data/nswbpd_minnamurra.csv                                               \n",
      "Dropping invalid profiles: 1                                                                               \n",
      "Processing output_data/nswbpd_nambucca.csv                                                 \n",
      "Dropping invalid profiles: 18                                                                              \n",
      "Processing output_data/nswbpd_uminabeach.csv                                               \n",
      "Dropping invalid profiles: 1                                                                               \n",
      "Processing output_data/nswbpd_sealrocks.csv                                                \n",
      "Dropping invalid profiles: 6                                                                               \n",
      "Processing output_data/nswbpd_fiddamansbeachheadland.csv                                   \n",
      "Dropping invalid profiles: 14                                                                              \n",
      "Processing output_data/nswbpd_macauleysbeach.csv                                           \n",
      "Dropping invalid profiles: 9                                                                               \n",
      "Processing output_data/nswbpd_kendalls.csv                                                 \n",
      "Dropping invalid profiles: 7                                                                               \n",
      "Processing output_data/nswbpd_woolibeach.csv                                               \n",
      "Dropping invalid profiles: 19                                                                              \n",
      "Processing output_data/nswbpd_swanseabelmont.csv                                           \n",
      "Dropping invalid profiles: 6                                                                               \n",
      "Processing output_data/nswbpd_mullaway.csv                                                 \n",
      "Dropping invalid profiles: 4                                                                               \n",
      "Processing output_data/nswbpd_porthacking,cornullaandkurnell.csv                           \n",
      "Dropping invalid profiles: 11                                                                              \n",
      "Processing output_data/nswbpd_flynnsbeach.csv                                              \n",
      "Dropping invalid profiles: 8                                                                               \n",
      "Processing output_data/nswbpd_yamba.csv                                                    \n",
      "Dropping invalid profiles: 11                                                                              \n",
      "Processing output_data/nswbpd_macmastersforresters.csv                                     \n",
      "Dropping invalid profiles: 6                                                                               \n",
      "Processing output_data/nswbpd_mollymook&narrawally&collers.csv                             \n",
      "Dropping invalid profiles: 8                                                                               \n",
      "Processing output_data/nswbpd_burrillakeandracecoursebeach.csv                             \n",
      "Dropping invalid profiles: 14                                                                              \n",
      "Processing output_data/nswbpd_parksbeach.csv                                               \n",
      "Dropping invalid profiles: 6                                                                               \n",
      "Processing output_data/nswbpd_eurobodallabeachessouth.csv                                  \n",
      "Dropping invalid profiles: 4                                                                               \n",
      "Processing output_data/nswbpd_patchsbeach.csv                                              \n",
      "Dropping invalid profiles: 5                                                                               \n",
      "Processing output_data/nswbpd_monavale.csv                                                 \r"
     ]
    }
   ],
   "source": [
    "for fname in glob.glob('input_data/nswbpd/*.csv'):\n",
    "    profiles_df = deacl_val.preprocess_nswbpd(fname, \n",
    "                                              datum=0, \n",
    "                                              overwrite=True)     \n"
   ]
  },
  {
   "cell_type": "code",
   "execution_count": 142,
   "metadata": {},
   "outputs": [
    {
     "data": {
      "text/plain": [
       "['input_data/nswbpd/photogrammetry_Xsections_Port Macquarie.csv',\n",
       " 'input_data/nswbpd/photogrammetry_Xsections_Hungry Head and Repton.csv',\n",
       " 'input_data/nswbpd/photogrammetry_Xsections_Cresent Head.csv',\n",
       " 'input_data/nswbpd/photogrammetry_Xsections_Corindi to Red Rock.csv',\n",
       " 'input_data/nswbpd/photogrammetry_Xsections_Lennox Head.csv',\n",
       " 'input_data/nswbpd/photogrammetry_Xsections_South West Rocks.csv',\n",
       " 'input_data/nswbpd/photogrammetry_Xsections_Hearns Lake and Back Beach.csv',\n",
       " 'input_data/nswbpd/photogrammetry_Xsections_Tuncurry and Failford.csv',\n",
       " 'input_data/nswbpd/photogrammetry_Xsections_Brunswick.csv',\n",
       " 'input_data/nswbpd/photogrammetry_Xsections_Boambee North.csv',\n",
       " 'input_data/nswbpd/photogrammetry_Xsections_Fern Bay.csv',\n",
       " 'input_data/nswbpd/photogrammetry_Xsections_Farquar Inlet to Harrington.csv',\n",
       " 'input_data/nswbpd/photogrammetry_Xsections_Saphire Beach.csv',\n",
       " 'input_data/nswbpd/photogrammetry_Xsections_Broulee Beach .csv',\n",
       " 'input_data/nswbpd/photogrammetry_Xsections_Evans Head and Broadwater.csv',\n",
       " 'input_data/nswbpd/photogrammetry_Xsections_Point Plomer.csv',\n",
       " 'input_data/nswbpd/photogrammetry_Xsections_Bungan.csv',\n",
       " 'input_data/nswbpd/photogrammetry_Xsections_Shark Bay.csv',\n",
       " 'input_data/nswbpd/photogrammetry_Xsections_Botany Bay.csv',\n",
       " 'input_data/nswbpd/photogrammetry_Xsections_Boydtown Beach.csv',\n",
       " 'input_data/nswbpd/photogrammetry_Xsections_Ballina.csv',\n",
       " 'input_data/nswbpd/photogrammetry_Xsections_Anna Bay .csv',\n",
       " 'input_data/nswbpd/photogrammetry_Xsections_Austinmeer.csv',\n",
       " 'input_data/nswbpd/photogrammetry_Xsections_Brooms Head.csv',\n",
       " 'input_data/nswbpd/photogrammetry_Xsections_Aslings Beach.csv',\n",
       " 'input_data/nswbpd/photogrammetry_Xsections_Blackhead Beach.csv',\n",
       " 'input_data/nswbpd/photogrammetry_Xsections_Boambee Beach.csv',\n",
       " 'input_data/nswbpd/photogrammetry_Xsections_Clontarf.csv',\n",
       " 'input_data/nswbpd/photogrammetry_Xsections_Corrigans Beach.csv',\n",
       " 'input_data/nswbpd/photogrammetry_Xsections_Booti Booti.csv',\n",
       " 'input_data/nswbpd/photogrammetry_Xsections_Curl Curl.csv',\n",
       " 'input_data/nswbpd/photogrammetry_Xsections_Cuttagee.csv',\n",
       " 'input_data/nswbpd/photogrammetry_Xsections_Corindi Beach North.csv',\n",
       " 'input_data/nswbpd/photogrammetry_Xsections_Lake Conjola.csv',\n",
       " 'input_data/nswbpd/photogrammetry_Xsections_Stockton.csv',\n",
       " 'input_data/nswbpd/photogrammetry_Xsections_Pottsville.csv',\n",
       " 'input_data/nswbpd/photogrammetry_Xsections_Shoalhaven Heads.csv',\n",
       " 'input_data/nswbpd/photogrammetry_Xsections_Red Rock to Station Creek.csv',\n",
       " 'input_data/nswbpd/photogrammetry_Xsections_Lake Illawarra.csv',\n",
       " 'input_data/nswbpd/photogrammetry_Xsections_Manly & Manly Cove.csv',\n",
       " 'input_data/nswbpd/photogrammetry_Xsections_Terrigal Haven.csv',\n",
       " 'input_data/nswbpd/photogrammetry_Xsections_Hills Beach.csv',\n",
       " 'input_data/nswbpd/photogrammetry_Xsections_Salts Bay .csv',\n",
       " 'input_data/nswbpd/photogrammetry_Xsections_Whale Beach.csv',\n",
       " 'input_data/nswbpd/photogrammetry_Xsections_Old Bar.csv',\n",
       " 'input_data/nswbpd/photogrammetry_Xsections_Woolgoolga Creeks.csv',\n",
       " 'input_data/nswbpd/photogrammetry_Xsections_Merimbula.csv',\n",
       " 'input_data/nswbpd/photogrammetry_Xsections_Sawtell.csv',\n",
       " 'input_data/nswbpd/photogrammetry_Xsections_Kiama.csv',\n",
       " 'input_data/nswbpd/photogrammetry_Xsections_The Entrance.csv',\n",
       " 'input_data/nswbpd/photogrammetry_Xsections_Callala Beach.csv',\n",
       " 'input_data/nswbpd/photogrammetry_Xsections_Shelly Beach (The Entrance).csv',\n",
       " 'input_data/nswbpd/photogrammetry_Xsections_Collingwood Beach.csv',\n",
       " 'input_data/nswbpd/photogrammetry_Xsections_Moonee Beach.csv',\n",
       " 'input_data/nswbpd/photogrammetry_Xsections_Freshwater Beach.csv',\n",
       " 'input_data/nswbpd/photogrammetry_Xsections_Diamond Beach.csv',\n",
       " 'input_data/nswbpd/photogrammetry_Xsections_Easts.csv',\n",
       " 'input_data/nswbpd/photogrammetry_Xsections_The Basin.csv',\n",
       " 'input_data/nswbpd/photogrammetry_Xsections_Hams Beach.csv',\n",
       " 'input_data/nswbpd/photogrammetry_Xsections_Seven Mile North.csv',\n",
       " 'input_data/nswbpd/photogrammetry_Xsections_Fairy Meadow.csv',\n",
       " 'input_data/nswbpd/photogrammetry_Xsections_Kingscliff.csv',\n",
       " 'input_data/nswbpd/photogrammetry_Xsections_Vaucluse Bay .csv',\n",
       " 'input_data/nswbpd/photogrammetry_Xsections_Palm Beach.csv',\n",
       " 'input_data/nswbpd/photogrammetry_Xsections_Moruya.csv',\n",
       " 'input_data/nswbpd/photogrammetry_Xsections_Rainbow Beach.csv',\n",
       " 'input_data/nswbpd/photogrammetry_Xsections_Jimmys Beach.csv',\n",
       " 'input_data/nswbpd/photogrammetry_Xsections_Coniston.csv',\n",
       " 'input_data/nswbpd/photogrammetry_Xsections_Wallabi Point.csv',\n",
       " 'input_data/nswbpd/photogrammetry_Xsections_Culburra.csv',\n",
       " 'input_data/nswbpd/photogrammetry_Xsections_Byron Bay.csv',\n",
       " 'input_data/nswbpd/photogrammetry_Xsections_Bogangar to Kingscliff.csv',\n",
       " 'input_data/nswbpd/photogrammetry_Xsections_Cresent Head South.csv',\n",
       " 'input_data/nswbpd/photogrammetry_Xsections_Patonga.csv',\n",
       " 'input_data/nswbpd/photogrammetry_Xsections_Jetty Beach.csv',\n",
       " 'input_data/nswbpd/photogrammetry_Xsections_Stanwell Park.csv',\n",
       " 'input_data/nswbpd/photogrammetry_Xsections_Cullendulla.csv',\n",
       " 'input_data/nswbpd/photogrammetry_Xsections_Stuarts Point.csv',\n",
       " 'input_data/nswbpd/photogrammetry_Xsections_Hat Head.csv',\n",
       " 'input_data/nswbpd/photogrammetry_Xsections_Minnamurra.csv',\n",
       " 'input_data/nswbpd/photogrammetry_Xsections_Warriewood.csv',\n",
       " 'input_data/nswbpd/photogrammetry_Xsections_Currarong.csv',\n",
       " 'input_data/nswbpd/photogrammetry_Xsections_Bermagui (Horseshoe Bay).csv',\n",
       " 'input_data/nswbpd/photogrammetry_Xsections_Moorhead Beach.csv',\n",
       " 'input_data/nswbpd/photogrammetry_Xsections_Treachery Beach.csv',\n",
       " 'input_data/nswbpd/photogrammetry_Xsections_Nambucca.csv',\n",
       " 'input_data/nswbpd/photogrammetry_Xsections_Fairy Creek.csv',\n",
       " 'input_data/nswbpd/photogrammetry_Xsections_Tweed Entrance.csv',\n",
       " 'input_data/nswbpd/photogrammetry_Xsections_Umina Beach.csv',\n",
       " 'input_data/nswbpd/photogrammetry_Xsections_Tallow.csv',\n",
       " 'input_data/nswbpd/photogrammetry_Xsections_Warrain.csv',\n",
       " 'input_data/nswbpd/photogrammetry_Xsections_Scotts Head.csv',\n",
       " 'input_data/nswbpd/photogrammetry_Xsections_Corrimal.csv',\n",
       " 'input_data/nswbpd/photogrammetry_Xsections_Narrabeen Collaroy.csv',\n",
       " 'input_data/nswbpd/photogrammetry_Xsections_Great Mackeral.csv',\n",
       " 'input_data/nswbpd/photogrammetry_Xsections_Jones Boyd.csv',\n",
       " 'input_data/nswbpd/photogrammetry_Xsections_Burgess Beach.csv',\n",
       " 'input_data/nswbpd/photogrammetry_Xsections_Kilcare Beach.csv',\n",
       " 'input_data/nswbpd/photogrammetry_Xsections_Newport.csv',\n",
       " 'input_data/nswbpd/photogrammetry_Xsections_Bellambi Lake.csv',\n",
       " 'input_data/nswbpd/photogrammetry_Xsections_Fishermans Beach.csv',\n",
       " 'input_data/nswbpd/photogrammetry_Xsections_Wamberal and Terrigal.csv',\n",
       " 'input_data/nswbpd/photogrammetry_Xsections_Elliots Lake.csv',\n",
       " 'input_data/nswbpd/photogrammetry_Xsections_Wooyung and Mooball.csv',\n",
       " 'input_data/nswbpd/photogrammetry_Xsections_Bombo.csv',\n",
       " 'input_data/nswbpd/photogrammetry_Xsections_Seal Rocks.csv',\n",
       " 'input_data/nswbpd/photogrammetry_Xsections_Sandbar Beach.csv',\n",
       " 'input_data/nswbpd/photogrammetry_Xsections_Fiddamans Beach Headland.csv',\n",
       " 'input_data/nswbpd/photogrammetry_Xsections_Tweed Entrance Breakwaters.csv',\n",
       " 'input_data/nswbpd/photogrammetry_Xsections_Tanilba Bay.csv',\n",
       " 'input_data/nswbpd/photogrammetry_Xsections_Shoalhaven Entrance.csv',\n",
       " 'input_data/nswbpd/photogrammetry_Xsections_Avoca.csv',\n",
       " 'input_data/nswbpd/photogrammetry_Xsections_Hargraves Beach.csv',\n",
       " 'input_data/nswbpd/photogrammetry_Xsections_Avalon.csv',\n",
       " 'input_data/nswbpd/photogrammetry_Xsections_Corindi Beach.csv',\n",
       " 'input_data/nswbpd/photogrammetry_Xsections_Macauleys Beach.csv',\n",
       " 'input_data/nswbpd/photogrammetry_Xsections_Coledale Beach.csv',\n",
       " 'input_data/nswbpd/photogrammetry_Xsections_Long Beach.csv',\n",
       " 'input_data/nswbpd/photogrammetry_Xsections_Kendalls.csv',\n",
       " 'input_data/nswbpd/photogrammetry_Xsections_Crowdy Head.csv',\n",
       " 'input_data/nswbpd/photogrammetry_Xsections_Warilla.csv',\n",
       " 'input_data/nswbpd/photogrammetry_Xsections_Wooli Beach.csv',\n",
       " 'input_data/nswbpd/photogrammetry_Xsections_Narooma.csv',\n",
       " 'input_data/nswbpd/photogrammetry_Xsections_Ettalong.csv',\n",
       " 'input_data/nswbpd/photogrammetry_Xsections_Toowoon Blue Bay.csv',\n",
       " 'input_data/nswbpd/photogrammetry_Xsections_Bondi Seawall.csv',\n",
       " 'input_data/nswbpd/photogrammetry_Xsections_Swansea Belmont.csv',\n",
       " 'input_data/nswbpd/photogrammetry_Xsections_Sandys Beach.csv',\n",
       " 'input_data/nswbpd/photogrammetry_Xsections_Tathra.csv',\n",
       " 'input_data/nswbpd/photogrammetry_Xsections_Fiddamans Beach.csv',\n",
       " 'input_data/nswbpd/photogrammetry_Xsections_Dark Point.csv',\n",
       " 'input_data/nswbpd/photogrammetry_Xsections_Barlings Beach.csv',\n",
       " 'input_data/nswbpd/photogrammetry_Xsections_Mullaway.csv',\n",
       " 'input_data/nswbpd/photogrammetry_Xsections_Port Hacking, Cornulla and Kurnell.csv',\n",
       " 'input_data/nswbpd/photogrammetry_Xsections_Bellinger River.csv',\n",
       " 'input_data/nswbpd/photogrammetry_Xsections_Mosman Beaches.csv',\n",
       " 'input_data/nswbpd/photogrammetry_Xsections_Forresters.csv',\n",
       " 'input_data/nswbpd/photogrammetry_Xsections_Hastings Point.csv',\n",
       " 'input_data/nswbpd/photogrammetry_Xsections_Rowland Park.csv',\n",
       " 'input_data/nswbpd/photogrammetry_Xsections_Woody Head.csv',\n",
       " 'input_data/nswbpd/photogrammetry_Xsections_Werri.csv',\n",
       " 'input_data/nswbpd/photogrammetry_Xsections_Newcastle Beaches.csv',\n",
       " 'input_data/nswbpd/photogrammetry_Xsections_Turimetta.csv',\n",
       " 'input_data/nswbpd/photogrammetry_Xsections_Shoal.csv',\n",
       " 'input_data/nswbpd/photogrammetry_Xsections_Pearl Beach.csv',\n",
       " 'input_data/nswbpd/photogrammetry_Xsections_Lighthouse Beach.csv',\n",
       " 'input_data/nswbpd/photogrammetry_Xsections_Belmont North.csv',\n",
       " 'input_data/nswbpd/photogrammetry_Xsections_Ocean Beach.csv',\n",
       " 'input_data/nswbpd/photogrammetry_Xsections_Batemans Bay Wharf Rd.csv',\n",
       " 'input_data/nswbpd/photogrammetry_Xsections_Flynns Beach.csv',\n",
       " 'input_data/nswbpd/photogrammetry_Xsections_Gerringong Harbour.csv',\n",
       " 'input_data/nswbpd/photogrammetry_Xsections_Yamba.csv',\n",
       " 'input_data/nswbpd/photogrammetry_Xsections_Soldiers Beach.csv',\n",
       " 'input_data/nswbpd/photogrammetry_Xsections_Valla Beach.csv',\n",
       " 'input_data/nswbpd/photogrammetry_Xsections_Macmasters Forresters.csv',\n",
       " 'input_data/nswbpd/photogrammetry_Xsections_Eurobodalla Beaches North.csv',\n",
       " 'input_data/nswbpd/photogrammetry_Xsections_Emerald Beach.csv',\n",
       " 'input_data/nswbpd/photogrammetry_Xsections_Minnie Water.csv',\n",
       " 'input_data/nswbpd/photogrammetry_Xsections_Mollymook & Narrawally & Collers.csv',\n",
       " 'input_data/nswbpd/photogrammetry_Xsections_Burril Lake and Racecourse Beach.csv',\n",
       " 'input_data/nswbpd/photogrammetry_Xsections_Killick Beach.csv',\n",
       " 'input_data/nswbpd/photogrammetry_Xsections_Parks Beach.csv',\n",
       " 'input_data/nswbpd/photogrammetry_Xsections_Eurobodalla Beaches South.csv',\n",
       " 'input_data/nswbpd/photogrammetry_Xsections_Lord Howe.csv',\n",
       " 'input_data/nswbpd/photogrammetry_Xsections_Thirroul.csv',\n",
       " 'input_data/nswbpd/photogrammetry_Xsections_Campbells Beach.csv',\n",
       " 'input_data/nswbpd/photogrammetry_Xsections_Catherine Hill Bay.csv',\n",
       " 'input_data/nswbpd/photogrammetry_Xsections_Lakes Beach.csv',\n",
       " 'input_data/nswbpd/photogrammetry_Xsections_Shellhabour Little Lake.csv',\n",
       " 'input_data/nswbpd/photogrammetry_Xsections_Woonona.csv',\n",
       " 'input_data/nswbpd/photogrammetry_Xsections_Oceanview Beach.csv',\n",
       " 'input_data/nswbpd/photogrammetry_Xsections_Manly Wharf.csv',\n",
       " 'input_data/nswbpd/photogrammetry_Xsections_Bilgola.csv',\n",
       " 'input_data/nswbpd/photogrammetry_Xsections_Patchs Beach.csv',\n",
       " 'input_data/nswbpd/photogrammetry_Xsections_Elizabeth Beach.csv',\n",
       " 'input_data/nswbpd/photogrammetry_Xsections_Sandon Point to Waniora Point.csv',\n",
       " 'input_data/nswbpd/photogrammetry_Xsections_Bennets Beach.csv',\n",
       " 'input_data/nswbpd/photogrammetry_Xsections_Dee Why and Long Reef.csv',\n",
       " 'input_data/nswbpd/photogrammetry_Xsections_Boomerang Beach and Blueys Beach.csv',\n",
       " 'input_data/nswbpd/photogrammetry_Xsections_Yamba Hill.csv',\n",
       " 'input_data/nswbpd/photogrammetry_Xsections_Snappermans.csv',\n",
       " 'input_data/nswbpd/photogrammetry_Xsections_Mona Vale.csv']"
      ]
     },
     "execution_count": 142,
     "metadata": {},
     "output_type": "execute_result"
    }
   ],
   "source": [
    "glob.glob('input_data/nswbpd/*.csv')\n",
    "# fname = 'input_data/nswbpd/photogrammetry_Xsections_The Entrance.csv'\n",
    "# fname = 'input_data/nswbpd/photogrammetry_Xsections_Booti Booti.csv'\n",
    "# fname = 'input_data/nswbpd/photogrammetry_Xsections_Tweed Entrance Breakwaters.csv'\n",
    "# fname = 'input_data/nswbpd/photogrammetry_Xsections_Port Hacking, Cornulla and Kurnell.csv'\n",
    "# fname = 'input_data/nswbpd/photogrammetry_Xsections_Jimmys Beach.csv'"
   ]
  },
  {
   "cell_type": "code",
   "execution_count": 141,
   "metadata": {},
   "outputs": [
    {
     "name": "stdout",
     "output_type": "stream",
     "text": [
      "Processing output_data/nswbpd_tweedentrancebreakwaters.csv                                 \r"
     ]
    }
   ],
   "source": [
    "profiles_df = deacl_val.preprocess_nswbpd(fname, \n",
    "                                          datum=0, \n",
    "                                          overwrite=True)    "
   ]
  },
  {
   "cell_type": "code",
   "execution_count": 134,
   "metadata": {},
   "outputs": [
    {
     "data": {
      "text/html": [
       "<div>\n",
       "<style scoped>\n",
       "    .dataframe tbody tr th:only-of-type {\n",
       "        vertical-align: middle;\n",
       "    }\n",
       "\n",
       "    .dataframe tbody tr th {\n",
       "        vertical-align: top;\n",
       "    }\n",
       "\n",
       "    .dataframe thead th {\n",
       "        text-align: right;\n",
       "    }\n",
       "</style>\n",
       "<table border=\"1\" class=\"dataframe\">\n",
       "  <thead>\n",
       "    <tr style=\"text-align: right;\">\n",
       "      <th></th>\n",
       "      <th>beach</th>\n",
       "      <th>section</th>\n",
       "      <th>profile</th>\n",
       "      <th>date</th>\n",
       "      <th>distance</th>\n",
       "      <th>z</th>\n",
       "      <th>x</th>\n",
       "      <th>y</th>\n",
       "      <th>source</th>\n",
       "      <th>id</th>\n",
       "      <th>start_x</th>\n",
       "      <th>start_y</th>\n",
       "      <th>end_x</th>\n",
       "      <th>end_y</th>\n",
       "    </tr>\n",
       "  </thead>\n",
       "  <tbody>\n",
       "  </tbody>\n",
       "</table>\n",
       "</div>"
      ],
      "text/plain": [
       "Empty DataFrame\n",
       "Columns: [beach, section, profile, date, distance, z, x, y, source, id, start_x, start_y, end_x, end_y]\n",
       "Index: []"
      ]
     },
     "execution_count": 134,
     "metadata": {},
     "output_type": "execute_result"
    }
   ],
   "source": [
    "profiles_df"
   ]
  },
  {
   "cell_type": "code",
   "execution_count": 105,
   "metadata": {},
   "outputs": [],
   "source": [
    "foredune_dist = profiles_df.groupby(['id', 'date']).apply(\n",
    "    lambda x: x.distance.loc[x.z.idxmax()]).reset_index(name='foredune_dist')\n",
    "profiles_df = pd.merge(left=profiles_df, right=foredune_dist) \n",
    "profiles_df = profiles_df.loc[(profiles_df.distance >= \n",
    "                               profiles_df.foredune_dist)]\n"
   ]
  },
  {
   "cell_type": "code",
   "execution_count": 136,
   "metadata": {},
   "outputs": [
    {
     "ename": "TypeError",
     "evalue": "reset_index() got an unexpected keyword argument 'name'",
     "output_type": "error",
     "traceback": [
      "\u001b[0;31m---------------------------------------------------------------------------\u001b[0m",
      "\u001b[0;31mTypeError\u001b[0m                                 Traceback (most recent call last)",
      "\u001b[0;32m<ipython-input-136-5038403c3cad>\u001b[0m in \u001b[0;36m<module>\u001b[0;34m\u001b[0m\n\u001b[1;32m      1\u001b[0m foredune_dist = profiles_df.groupby(['id', 'date']).apply(\n\u001b[0;32m----> 2\u001b[0;31m             lambda x: x.distance.loc[x.z.idxmax()]).reset_index(name='foredune_dist')\n\u001b[0m",
      "\u001b[0;31mTypeError\u001b[0m: reset_index() got an unexpected keyword argument 'name'"
     ]
    }
   ],
   "source": [
    "foredune_dist = profiles_df.groupby(['id', 'date']).apply(\n",
    "            lambda x: x.distance.loc[x.z.idxmax()])\n",
    ".reset_index(name='foredune_dist')"
   ]
  },
  {
   "cell_type": "code",
   "execution_count": 138,
   "metadata": {},
   "outputs": [],
   "source": [
    "foredune_dist.name = 'hello'"
   ]
  },
  {
   "cell_type": "code",
   "execution_count": 140,
   "metadata": {},
   "outputs": [
    {
     "ename": "MergeError",
     "evalue": "No common columns to perform merge on. Merge options: left_on=None, right_on=None, left_index=False, right_index=False",
     "output_type": "error",
     "traceback": [
      "\u001b[0;31m---------------------------------------------------------------------------\u001b[0m",
      "\u001b[0;31mMergeError\u001b[0m                                Traceback (most recent call last)",
      "\u001b[0;32m<ipython-input-140-cbee4492f389>\u001b[0m in \u001b[0;36m<module>\u001b[0;34m\u001b[0m\n\u001b[0;32m----> 1\u001b[0;31m \u001b[0mprofiles_df\u001b[0m \u001b[0;34m=\u001b[0m \u001b[0mpd\u001b[0m\u001b[0;34m.\u001b[0m\u001b[0mmerge\u001b[0m\u001b[0;34m(\u001b[0m\u001b[0mleft\u001b[0m\u001b[0;34m=\u001b[0m\u001b[0mprofiles_df\u001b[0m\u001b[0;34m,\u001b[0m \u001b[0mright\u001b[0m\u001b[0;34m=\u001b[0m\u001b[0mforedune_dist\u001b[0m\u001b[0;34m)\u001b[0m\u001b[0;34m\u001b[0m\u001b[0;34m\u001b[0m\u001b[0m\n\u001b[0m\u001b[1;32m      2\u001b[0m profiles_df = profiles_df.loc[(profiles_df.distance >= \n\u001b[1;32m      3\u001b[0m                                profiles_df.foredune_dist)]\n",
      "\u001b[0;32m/g/data/v10/public/modules/dea-env/20200526/lib/python3.6/site-packages/pandas/core/reshape/merge.py\u001b[0m in \u001b[0;36mmerge\u001b[0;34m(left, right, how, on, left_on, right_on, left_index, right_index, sort, suffixes, copy, indicator, validate)\u001b[0m\n\u001b[1;32m     84\u001b[0m         \u001b[0mcopy\u001b[0m\u001b[0;34m=\u001b[0m\u001b[0mcopy\u001b[0m\u001b[0;34m,\u001b[0m\u001b[0;34m\u001b[0m\u001b[0;34m\u001b[0m\u001b[0m\n\u001b[1;32m     85\u001b[0m         \u001b[0mindicator\u001b[0m\u001b[0;34m=\u001b[0m\u001b[0mindicator\u001b[0m\u001b[0;34m,\u001b[0m\u001b[0;34m\u001b[0m\u001b[0;34m\u001b[0m\u001b[0m\n\u001b[0;32m---> 86\u001b[0;31m         \u001b[0mvalidate\u001b[0m\u001b[0;34m=\u001b[0m\u001b[0mvalidate\u001b[0m\u001b[0;34m,\u001b[0m\u001b[0;34m\u001b[0m\u001b[0;34m\u001b[0m\u001b[0m\n\u001b[0m\u001b[1;32m     87\u001b[0m     )\n\u001b[1;32m     88\u001b[0m     \u001b[0;32mreturn\u001b[0m \u001b[0mop\u001b[0m\u001b[0;34m.\u001b[0m\u001b[0mget_result\u001b[0m\u001b[0;34m(\u001b[0m\u001b[0;34m)\u001b[0m\u001b[0;34m\u001b[0m\u001b[0;34m\u001b[0m\u001b[0m\n",
      "\u001b[0;32m/g/data/v10/public/modules/dea-env/20200526/lib/python3.6/site-packages/pandas/core/reshape/merge.py\u001b[0m in \u001b[0;36m__init__\u001b[0;34m(self, left, right, how, on, left_on, right_on, axis, left_index, right_index, sort, suffixes, copy, indicator, validate)\u001b[0m\n\u001b[1;32m    618\u001b[0m             \u001b[0mwarnings\u001b[0m\u001b[0;34m.\u001b[0m\u001b[0mwarn\u001b[0m\u001b[0;34m(\u001b[0m\u001b[0mmsg\u001b[0m\u001b[0;34m,\u001b[0m \u001b[0mUserWarning\u001b[0m\u001b[0;34m)\u001b[0m\u001b[0;34m\u001b[0m\u001b[0;34m\u001b[0m\u001b[0m\n\u001b[1;32m    619\u001b[0m \u001b[0;34m\u001b[0m\u001b[0m\n\u001b[0;32m--> 620\u001b[0;31m         \u001b[0mself\u001b[0m\u001b[0;34m.\u001b[0m\u001b[0m_validate_specification\u001b[0m\u001b[0;34m(\u001b[0m\u001b[0;34m)\u001b[0m\u001b[0;34m\u001b[0m\u001b[0;34m\u001b[0m\u001b[0m\n\u001b[0m\u001b[1;32m    621\u001b[0m \u001b[0;34m\u001b[0m\u001b[0m\n\u001b[1;32m    622\u001b[0m         \u001b[0;31m# note this function has side effects\u001b[0m\u001b[0;34m\u001b[0m\u001b[0;34m\u001b[0m\u001b[0;34m\u001b[0m\u001b[0m\n",
      "\u001b[0;32m/g/data/v10/public/modules/dea-env/20200526/lib/python3.6/site-packages/pandas/core/reshape/merge.py\u001b[0m in \u001b[0;36m_validate_specification\u001b[0;34m(self)\u001b[0m\n\u001b[1;32m   1196\u001b[0m                             \u001b[0mron\u001b[0m\u001b[0;34m=\u001b[0m\u001b[0mself\u001b[0m\u001b[0;34m.\u001b[0m\u001b[0mright_on\u001b[0m\u001b[0;34m,\u001b[0m\u001b[0;34m\u001b[0m\u001b[0;34m\u001b[0m\u001b[0m\n\u001b[1;32m   1197\u001b[0m                             \u001b[0mlidx\u001b[0m\u001b[0;34m=\u001b[0m\u001b[0mself\u001b[0m\u001b[0;34m.\u001b[0m\u001b[0mleft_index\u001b[0m\u001b[0;34m,\u001b[0m\u001b[0;34m\u001b[0m\u001b[0;34m\u001b[0m\u001b[0m\n\u001b[0;32m-> 1198\u001b[0;31m                             \u001b[0mridx\u001b[0m\u001b[0;34m=\u001b[0m\u001b[0mself\u001b[0m\u001b[0;34m.\u001b[0m\u001b[0mright_index\u001b[0m\u001b[0;34m,\u001b[0m\u001b[0;34m\u001b[0m\u001b[0;34m\u001b[0m\u001b[0m\n\u001b[0m\u001b[1;32m   1199\u001b[0m                         )\n\u001b[1;32m   1200\u001b[0m                     )\n",
      "\u001b[0;31mMergeError\u001b[0m: No common columns to perform merge on. Merge options: left_on=None, right_on=None, left_index=False, right_index=False"
     ]
    }
   ],
   "source": [
    "profiles_df = pd.merge(left=profiles_df, right=foredune_dist) \n",
    "profiles_df = profiles_df.loc[(profiles_df.distance >= \n",
    "                               profiles_df.foredune_dist)]"
   ]
  },
  {
   "cell_type": "code",
   "execution_count": 76,
   "metadata": {},
   "outputs": [
    {
     "data": {
      "text/plain": [
       "7.0        97.342\n",
       "7.0        97.342\n",
       "7.0        97.342\n",
       "7.0        97.342\n",
       "7.0        97.342\n",
       "            ...  \n",
       "34801.0    66.237\n",
       "34801.0    66.237\n",
       "34801.0    66.237\n",
       "34801.0    66.237\n",
       "34801.0    66.237\n",
       "Name: distance, Length: 28157, dtype: float64"
      ]
     },
     "execution_count": 76,
     "metadata": {},
     "output_type": "execute_result"
    }
   ],
   "source": [
    "profiles_df.distance.loc[test]"
   ]
  },
  {
   "cell_type": "code",
   "execution_count": 17,
   "metadata": {},
   "outputs": [],
   "source": [
    "after_foredune = lambda x: x[x.distance >= x.distance.loc[x.z.idxmax()]]\n",
    "profiles_df = (profiles_df.groupby(['id', 'date'])\n",
    "               .apply(after_foredune)\n",
    "               .reset_index(drop=True))   \n",
    "        "
   ]
  },
  {
   "cell_type": "code",
   "execution_count": 27,
   "metadata": {},
   "outputs": [],
   "source": [
    "after_foredune = lambda x: x.distance.loc[x.z.idxmax()]"
   ]
  },
  {
   "cell_type": "code",
   "execution_count": 32,
   "metadata": {},
   "outputs": [
    {
     "data": {
      "text/plain": [
       "15595"
      ]
     },
     "execution_count": 32,
     "metadata": {},
     "output_type": "execute_result"
    }
   ],
   "source": [
    "test.z.idxmax()"
   ]
  },
  {
   "cell_type": "code",
   "execution_count": 37,
   "metadata": {},
   "outputs": [],
   "source": [
    "to_vector(test, fname='test6.shp', x='x', y='y', crs='EPSG:3577')"
   ]
  },
  {
   "cell_type": "code",
   "execution_count": 64,
   "metadata": {},
   "outputs": [
    {
     "name": "stdout",
     "output_type": "stream",
     "text": [
      "parksbeach_4n_1 0.9999870671625477\n",
      "parksbeach_4n_2 0.9999831792738936\n",
      "parksbeach_4n_3 0.9999843443742671\n",
      "parksbeach_4n_4 0.9999805569482376\n",
      "parksbeach_4n_5 0.9999792403715323\n",
      "parksbeach_4n_6 0.9999780817412312\n",
      "parksbeach_4s_1 0.9999995021881485\n",
      "parksbeach_4s_2 0.9999994051000238\n",
      "parksbeach_5n_1 0.9999940974463946\n",
      "parksbeach_5n_2 0.9999941943990835\n",
      "parksbeach_5n_3 0.9999946312088894\n",
      "parksbeach_5n_4 0.9999951454515699\n",
      "parksbeach_5n_5 0.9999957742040945\n",
      "parksbeach_5n_6 0.9999944954805143\n",
      "parksbeach_5n_7 0.9999955489013144\n",
      "parksbeach_5n_8 0.9999715662974179\n",
      "parksbeach_5n_9 0.9999913034350315\n",
      "parksbeach_5n_10 0.9999885032420782\n",
      "parksbeach_5n_11 0.9999321275313309\n",
      "parksbeach_5n_12 0.9999945824657207\n",
      "parksbeach_5s_1 0.9826456439303526\n",
      "parksbeach_5s_2 0.9851913245699951\n",
      "parksbeach_5s_3 0.9842135645909544\n",
      "parksbeach_5s_4 0.9805595893024284\n",
      "parksbeach_5s_5 0.976032049151572\n",
      "parksbeach_5s_6 0.9812462624907385\n",
      "parksbeach_5s_7 0.9987404304916732\n",
      "parksbeach_5s_8 0.9986130753563565\n",
      "parksbeach_5s_9 0.9983527351016247\n",
      "parksbeach_5s_10 0.9980861925331983\n",
      "parksbeach_5s_11 0.9981043900525731\n",
      "parksbeach_5s_12 0.9986795893082216\n"
     ]
    }
   ],
   "source": [
    "for id_var in profiles_df.id.unique():\n",
    "    test = profiles_df.loc[(profiles_df.id == id_var) ]\n",
    "    print(id_var, test[['x', 'y']].corr().abs().iloc[0, 1])\n",
    "    # test.plot(x='x', y='y', figsize=(10, 5))"
   ]
  },
  {
   "cell_type": "code",
   "execution_count": 66,
   "metadata": {},
   "outputs": [
    {
     "name": "stdout",
     "output_type": "stream",
     "text": [
      "parksbeach_5s_12 0.9999999945174645\n"
     ]
    },
    {
     "data": {
      "text/plain": [
       "<matplotlib.axes._subplots.AxesSubplot at 0x7f5ad539bba8>"
      ]
     },
     "execution_count": 66,
     "metadata": {},
     "output_type": "execute_result"
    },
    {
     "data": {
      "image/png": "[encoded data removed]",
      "text/plain": [
       "<Figure size 720x360 with 1 Axes>"
      ]
     },
     "metadata": {
      "needs_background": "light"
     },
     "output_type": "display_data"
    },
    {
     "data": {
      "image/png": "[encoded data removed]",
      "text/plain": [
       "<Figure size 720x360 with 2 Axes>"
      ]
     },
     "metadata": {
      "needs_background": "light"
     },
     "output_type": "display_data"
    }
   ],
   "source": [
    "test = profiles_df.loc[(profiles_df.id == 'parksbeach_4s_1') ]\n",
    "test = test.loc[(profiles_df.date.dt.year == 1989)]\n",
    "print(id_var, test[['x', 'y']].corr().abs().iloc[0, 1])\n",
    "test.plot.scatter(x='x', y='y', figsize=(10, 5), c=test.distance)\n",
    "test.plot.scatter(x='distance', y='z', figsize=(10, 5), c=test.date.dt.year, cmap='rainbow')"
   ]
  },
  {
   "cell_type": "code",
   "execution_count": 18,
   "metadata": {},
   "outputs": [
    {
     "name": "stdout",
     "output_type": "stream",
     "text": [
      "jimmysbeach_5_24 0.9999999687274194\n"
     ]
    },
    {
     "data": {
      "text/plain": [
       "<matplotlib.axes._subplots.AxesSubplot at 0x7f5b2d9076d8>"
      ]
     },
     "execution_count": 18,
     "metadata": {},
     "output_type": "execute_result"
    },
    {
     "data": {
      "image/png": "[encoded data removed]",
      "text/plain": [
       "<Figure size 720x360 with 1 Axes>"
      ]
     },
     "metadata": {
      "needs_background": "light"
     },
     "output_type": "display_data"
    },
    {
     "data": {
      "image/png": "[encoded data removed]",
      "text/plain": [
       "<Figure size 720x360 with 1 Axes>"
      ]
     },
     "metadata": {
      "needs_background": "light"
     },
     "output_type": "display_data"
    }
   ],
   "source": [
    "test = profiles_df.loc[(profiles_df.id == 'jimmysbeach_1_11') ]\n",
    "test = test.loc[(profiles_df.date.dt.year == 1994)]\n",
    "print(id_var, test[['x', 'y']].corr().abs().iloc[0, 1])\n",
    "test.plot.scatter(x='x', y='y', figsize=(10, 5), c=test.z)\n",
    "test.plot(x='x', y='z', figsize=(10, 5))"
   ]
  },
  {
   "cell_type": "code",
   "execution_count": 664,
   "metadata": {},
   "outputs": [],
   "source": [
    "test = profiles_df.loc[(profiles_df.id == 'porthacking,cornullaandkurnell_6_1') ]"
   ]
  },
  {
   "cell_type": "code",
   "execution_count": null,
   "metadata": {},
   "outputs": [],
   "source": [
    "valid_profiles(test)"
   ]
  },
  {
   "cell_type": "code",
   "execution_count": 558,
   "metadata": {},
   "outputs": [],
   "source": [
    "test = profiles_df.loc[(profiles_df.id == 'theentrance_f_27') & (profiles_df.date.dt.year == 2016)]"
   ]
  },
  {
   "cell_type": "code",
   "execution_count": 630,
   "metadata": {},
   "outputs": [
    {
     "data": {
      "text/plain": [
       "<matplotlib.axes._subplots.AxesSubplot at 0x7fd29ed91ba8>"
      ]
     },
     "execution_count": 630,
     "metadata": {},
     "output_type": "execute_result"
    },
    {
     "data": {
      "image/png": "[encoded data removed]",
      "text/plain": [
       "<Figure size 720x360 with 1 Axes>"
      ]
     },
     "metadata": {
      "needs_background": "light"
     },
     "output_type": "display_data"
    }
   ],
   "source": [
    "test.plot(x='x', y='y', figsize=(10, 5))"
   ]
  },
  {
   "cell_type": "code",
   "execution_count": 631,
   "metadata": {},
   "outputs": [],
   "source": [
    "from sklearn.metrics import mean_squared_error"
   ]
  },
  {
   "cell_type": "code",
   "execution_count": 667,
   "metadata": {},
   "outputs": [],
   "source": [
    "# valid_profiles = lambda x: mean_squared_error(x.x, x.y) ** 0.5  # < 50\n",
    "# drop = (~profiles_df.groupby('id').apply(valid_profiles)).sum()\n",
    "valid_profiles = lambda x: x[['x', 'y']].corr().abs().iloc[0, 1] \n",
    "test2 = profiles_df.groupby('id').apply(valid_profiles)        \n",
    "# if drop.sum() > 0: print(f'\\nDropping invalid profiles: {drop:<80}')"
   ]
  },
  {
   "cell_type": "code",
   "execution_count": 668,
   "metadata": {},
   "outputs": [
    {
     "data": {
      "text/plain": [
       "id\n",
       "porthacking,cornullaandkurnell_0_1     0.999998\n",
       "porthacking,cornullaandkurnell_0_10    0.999997\n",
       "porthacking,cornullaandkurnell_0_11    0.999995\n",
       "porthacking,cornullaandkurnell_0_12    0.999995\n",
       "porthacking,cornullaandkurnell_0_2     0.999997\n",
       "                                         ...   \n",
       "porthacking,cornullaandkurnell_9_5     0.999995\n",
       "porthacking,cornullaandkurnell_9_6     0.999995\n",
       "porthacking,cornullaandkurnell_9_7     0.999988\n",
       "porthacking,cornullaandkurnell_9_8     0.999981\n",
       "porthacking,cornullaandkurnell_9_9     0.999993\n",
       "Length: 235, dtype: float64"
      ]
     },
     "execution_count": 668,
     "metadata": {},
     "output_type": "execute_result"
    }
   ],
   "source": [
    "test2 "
   ]
  },
  {
   "cell_type": "code",
   "execution_count": 641,
   "metadata": {},
   "outputs": [
    {
     "data": {
      "text/plain": [
       "5601097.35611594"
      ]
     },
     "execution_count": 641,
     "metadata": {},
     "output_type": "execute_result"
    }
   ],
   "source": [
    "test2.min()"
   ]
  },
  {
   "cell_type": "code",
   "execution_count": 571,
   "metadata": {},
   "outputs": [
    {
     "ename": "TypeError",
     "evalue": "filter function returned a ndarray, but expected a scalar bool",
     "output_type": "error",
     "traceback": [
      "\u001b[0;31m---------------------------------------------------------------------------\u001b[0m",
      "\u001b[0;31mTypeError\u001b[0m                                 Traceback (most recent call last)",
      "\u001b[0;32m<ipython-input-571-d12d4b574acd>\u001b[0m in \u001b[0;36m<module>\u001b[0;34m\u001b[0m\n\u001b[1;32m      1\u001b[0m \u001b[0mafter_foredune\u001b[0m \u001b[0;34m=\u001b[0m \u001b[0;32mlambda\u001b[0m \u001b[0mx\u001b[0m\u001b[0;34m:\u001b[0m \u001b[0mx\u001b[0m\u001b[0;34m.\u001b[0m\u001b[0mdistance\u001b[0m\u001b[0;34m.\u001b[0m\u001b[0mvalues\u001b[0m \u001b[0;34m>=\u001b[0m \u001b[0mx\u001b[0m\u001b[0;34m.\u001b[0m\u001b[0mdistance\u001b[0m\u001b[0;34m.\u001b[0m\u001b[0mloc\u001b[0m\u001b[0;34m[\u001b[0m\u001b[0mx\u001b[0m\u001b[0;34m.\u001b[0m\u001b[0mz\u001b[0m\u001b[0;34m.\u001b[0m\u001b[0midxmax\u001b[0m\u001b[0;34m(\u001b[0m\u001b[0;34m)\u001b[0m\u001b[0;34m]\u001b[0m\u001b[0;34m\u001b[0m\u001b[0;34m\u001b[0m\u001b[0m\n\u001b[0;32m----> 2\u001b[0;31m \u001b[0mprofiles_df\u001b[0m\u001b[0;34m.\u001b[0m\u001b[0mgroupby\u001b[0m\u001b[0;34m(\u001b[0m\u001b[0;34m[\u001b[0m\u001b[0;34m'id'\u001b[0m\u001b[0;34m,\u001b[0m \u001b[0;34m'date'\u001b[0m\u001b[0;34m]\u001b[0m\u001b[0;34m)\u001b[0m\u001b[0;34m.\u001b[0m\u001b[0mfilter\u001b[0m\u001b[0;34m(\u001b[0m\u001b[0mafter_foredune\u001b[0m\u001b[0;34m)\u001b[0m\u001b[0;34m\u001b[0m\u001b[0;34m\u001b[0m\u001b[0m\n\u001b[0m",
      "\u001b[0;32m/g/data/v10/public/modules/dea-env/20200526/lib/python3.6/site-packages/pandas/core/groupby/generic.py\u001b[0m in \u001b[0;36mfilter\u001b[0;34m(self, func, dropna, *args, **kwargs)\u001b[0m\n\u001b[1;32m   1584\u001b[0m                 \u001b[0;31m# non scalars aren't allowed\u001b[0m\u001b[0;34m\u001b[0m\u001b[0;34m\u001b[0m\u001b[0;34m\u001b[0m\u001b[0m\n\u001b[1;32m   1585\u001b[0m                 raise TypeError(\n\u001b[0;32m-> 1586\u001b[0;31m                     \u001b[0;34mf\"filter function returned a {type(res).__name__}, \"\u001b[0m\u001b[0;34m\u001b[0m\u001b[0;34m\u001b[0m\u001b[0m\n\u001b[0m\u001b[1;32m   1587\u001b[0m                     \u001b[0;34m\"but expected a scalar bool\"\u001b[0m\u001b[0;34m\u001b[0m\u001b[0;34m\u001b[0m\u001b[0m\n\u001b[1;32m   1588\u001b[0m                 )\n",
      "\u001b[0;31mTypeError\u001b[0m: filter function returned a ndarray, but expected a scalar bool"
     ]
    }
   ],
   "source": [
    "after_foredune = lambda x: x.distance.values >= x.distance.loc[x.z.idxmax()]\n",
    "profiles_df.groupby(['id', 'date']).filter(after_foredune)"
   ]
  },
  {
   "cell_type": "code",
   "execution_count": 548,
   "metadata": {},
   "outputs": [],
   "source": [
    "# test = profiles_df.loc[(profiles_df.id == 'byronbay_c_2') & (profiles_df.date.dt.year == 2012)]  #.plot.scatter(x='x', y='z')"
   ]
  },
  {
   "cell_type": "code",
   "execution_count": 559,
   "metadata": {},
   "outputs": [
    {
     "data": {
      "text/plain": [
       "<matplotlib.axes._subplots.AxesSubplot at 0x7fd2b4478940>"
      ]
     },
     "execution_count": 559,
     "metadata": {},
     "output_type": "execute_result"
    },
    {
     "data": {
      "image/png": "[encoded data removed]",
      "text/plain": [
       "<Figure size 720x360 with 1 Axes>"
      ]
     },
     "metadata": {
      "needs_background": "light"
     },
     "output_type": "display_data"
    }
   ],
   "source": [
    "test.plot(x='x', y='z', figsize=(10, 5))\n"
   ]
  },
  {
   "cell_type": "code",
   "execution_count": 498,
   "metadata": {},
   "outputs": [],
   "source": [
    "# profiles_df.loc[profiles_df['0_dist'] > profiles_df['foredune_dist']]"
   ]
  },
  {
   "cell_type": "code",
   "execution_count": 515,
   "metadata": {},
   "outputs": [
    {
     "data": {
      "text/plain": [
       "nan"
      ]
     },
     "execution_count": 515,
     "metadata": {},
     "output_type": "execute_result"
    }
   ],
   "source": [
    "# profiles_df\n"
   ]
  },
  {
   "cell_type": "code",
   "execution_count": 500,
   "metadata": {},
   "outputs": [],
   "source": [
    "# foredune_dist.name = 'test'"
   ]
  },
  {
   "cell_type": "code",
   "execution_count": 522,
   "metadata": {},
   "outputs": [
    {
     "name": "stdout",
     "output_type": "stream",
     "text": [
      "78.76812499999998 281.19960000000003\n",
      "Sad!\n"
     ]
    },
    {
     "data": {
      "text/plain": [
       "0_dist   NaN\n",
       "0_x      NaN\n",
       "0_y      NaN\n",
       "dtype: float64"
      ]
     },
     "execution_count": 522,
     "metadata": {},
     "output_type": "execute_result"
    }
   ],
   "source": [
    "deacl_val.waterline_intercept(test, z_val=0)"
   ]
  },
  {
   "cell_type": "code",
   "execution_count": 505,
   "metadata": {},
   "outputs": [
    {
     "data": {
      "text/plain": [
       "255.14600000000002"
      ]
     },
     "execution_count": 505,
     "metadata": {},
     "output_type": "execute_result"
    }
   ],
   "source": [
    "x=test \n",
    "dist_col='distance'\n",
    "x_col='x'\n",
    "y_col='y'\n",
    "z_col='z'\n",
    "z_val=0\n",
    "    \n",
    "deacl_val.interp_intercept(x[dist_col].values, x[z_col].values, z_val, reverse=True)"
   ]
  },
  {
   "cell_type": "code",
   "execution_count": 623,
   "metadata": {},
   "outputs": [],
   "source": [
    "to_vector(profiles_df, fname='test5.shp', x='x', y='y', crs='EPSG:3577')"
   ]
  },
  {
   "cell_type": "markdown",
   "metadata": {},
   "source": [
    "### City of Gold Coast\n",
    "* [X] Renovated"
   ]
  },
  {
   "cell_type": "code",
   "execution_count": null,
   "metadata": {},
   "outputs": [],
   "source": [
    "# List of sites to iterate over\n",
    "all_profiles = glob.glob(f'input_data/cityofgoldcoast/*.txt')\n",
    "sites = np.unique([i.split(' - ')[0].split('/')[-1] for i in all_profiles])\n",
    "sites = ['SOUTH STRADBROKE']\n",
    "\n",
    "for site in sites:\n",
    "    deacl_val.preprocess_cgc(site=site, \n",
    "                             datum=0,\n",
    "                             overwrite=True)"
   ]
  },
  {
   "cell_type": "markdown",
   "metadata": {},
   "source": [
    "### TASMARC\n",
    "* [X] Renovated"
   ]
  },
  {
   "cell_type": "code",
   "execution_count": null,
   "metadata": {},
   "outputs": [],
   "source": [
    "# List of sites to iterate over\n",
    "sites = [i.split('/')[2] for i in glob.glob('input_data/tasmarc/*/')]\n",
    "\n",
    "for site in sites[3:4]:\n",
    "    deacl_val.preprocess_tasmarc(site, overwrite=True) \n"
   ]
  },
  {
   "cell_type": "markdown",
   "metadata": {},
   "source": [
    "### WA DoT\n",
    "* [X] Renovated"
   ]
  },
  {
   "cell_type": "code",
   "execution_count": 554,
   "metadata": {},
   "outputs": [
    {
     "name": "stdout",
     "output_type": "stream",
     "text": [
      "Processing binningup 2016                                                                                                           \r"
     ]
    }
   ],
   "source": [
    "# Read in tertiary compartment file to regionalise results\n",
    "# tertiary_gdf = gpd.read_file('input_data/WA_tertiaryCC.shp').to_crs('EPSG:3577')\n",
    "tertiary_gdf = gpd.read_file('input_data/wa_sw.geojson').to_crs('EPSG:3577')\n",
    "tertiary_gdf = tertiary_gdf.set_index('FROM_')\n",
    "\n",
    "# Extract transects and validation distances\n",
    "deacl_val.preprocess_wadot(regions_gdf=tertiary_gdf, \n",
    "                           fname='input_data/wadot/Coastline_Movements_20190819.gdb',\n",
    "                           smartline='../input_data/Smartline.gdb',\n",
    "                           aus_poly='/g/data/r78/rt1527/shapefiles/australia/australia/cstauscd_r.shp')"
   ]
  },
  {
   "cell_type": "markdown",
   "metadata": {},
   "source": [
    "### SA Department of Environment and Water"
   ]
  },
  {
   "cell_type": "code",
   "execution_count": null,
   "metadata": {},
   "outputs": [],
   "source": [
    "import math\n",
    "from pyproj import Transformer\n",
    "\n",
    "# Load data and set nodata values to NaN\n",
    "wide_df = pd.read_csv('input_data/sadew/200011.CSV', na_values=[-9999])\n",
    "\n",
    "# Reproject coords to Albers and create geodataframe\n",
    "trans = Transformer.from_crs(\"EPSG:28354\", \"EPSG:28356\", always_xy=True)\n",
    "wide_df['EASTING'], wide_df['NORTHING'] = trans.transform(\n",
    "    wide_df.EASTING.values, wide_df.NORTHING.values)\n",
    "\n",
    "# Reshape into long format with each observation on a new row\n",
    "profile_df = pd.melt(wide_df.drop('SAMPLE_NO', axis=1), \n",
    "                     id_vars=['EASTING', 'NORTHING', 'PROFILE'],\n",
    "                     value_name='elevation').dropna()\n",
    "\n",
    "# Set column names to lower case\n",
    "profile_df.columns = profile_df.columns.str.lower()\n",
    "\n",
    "# Extract date info\n",
    "profile_df['date'] = profile_df['variable'].str[1:].str.strip()\n",
    "profile_df['date'] = pd.to_datetime(profile_df['date'], format='%d%m%Y')\n",
    "\n",
    "# Restrict to post 1987\n",
    "profile_df = profile_df[(profile_df.date.dt.year > 1987)]\n",
    "\n",
    "# Add unique ID column\n",
    "profile_df['beach'] = 'sadew'\n",
    "profile_df['section'] = 'all'\n",
    "profile_df['profile'] = profile_df['profile'].astype(str)\n",
    "profile_df['site'] = profile_df[['beach', 'section', 'profile']].apply('_'.join, 1)\n",
    "profile_df['source'] = 'sadew'\n",
    "\n",
    "# Compute origin points for each profile\n",
    "profile_df = profile_df.assign(start_x=wide_df.iloc[0, 2], \n",
    "                               start_y=wide_df.iloc[0, 3],\n",
    "                               end_x=wide_df.iloc[-1, 2],\n",
    "                               end_y=wide_df.iloc[-1, 3])\n",
    "\n",
    "# Compute chainage\n",
    "profile_df['chainage'] = profile_df.apply(\n",
    "    lambda x: math.hypot(x.easting - x.start_x, x.northing - x.start_y), axis=1)"
   ]
  },
  {
   "cell_type": "code",
   "execution_count": null,
   "metadata": {},
   "outputs": [],
   "source": [
    "# Find location and distance to water for datum height (0 m AHD)\n",
    "out = profile_df.groupby(['site', 'date']).apply(deacl_val.waterline_intercept, \n",
    "                                                  dist_col='chainage',\n",
    "                                                  x_col='easting', \n",
    "                                                  y_col='northing', \n",
    "                                                  z_col='elevation', \n",
    "                                                  z_val=0).dropna()\n",
    "\n",
    "# If the output contains data\n",
    "if len(out.index):\n",
    "\n",
    "    # Join into dataframe\n",
    "    shoreline_dist = out.join(\n",
    "        profile_df.groupby(['site', 'date']).first())\n",
    "\n",
    "    # Keep required columns\n",
    "    shoreline_dist = shoreline_dist[['beach', 'section', 'profile',  \n",
    "                                     'source', 'start_x', 'start_y', \n",
    "                                     'end_x', 'end_y', '0_dist', \n",
    "                                     '0_x', '0_y']]\n",
    "\n",
    "    # Export to file\n",
    "    shoreline_dist.to_csv(f'output_data/satest.csv')"
   ]
  },
  {
   "cell_type": "markdown",
   "metadata": {},
   "source": [
    "## Testing NSWBPD"
   ]
  },
  {
   "cell_type": "code",
   "execution_count": null,
   "metadata": {},
   "outputs": [],
   "source": [
    "fname = 'input_data/nswbpd/photogrammetry_Xsections_Burril Lake and Racecourse Beach.csv'\n",
    "\n",
    "# Get output filename\n",
    "name = Path(fname).stem.split('_')[-1].lower().replace(' ', '')\n",
    "fname_out = f'output_data/nswbpd_{name}.csv'\n",
    "\n",
    "# Read in data\n",
    "print(f'Processing {fname_out}             ', end='\\r')            \n",
    "profiles_df = pd.read_csv(fname, skiprows=5)\n",
    "profiles_df['Year/Date'] = pd.to_datetime(profiles_df['Year/Date'],\n",
    "                                          dayfirst=True,\n",
    "                                          errors='coerce')\n",
    "\n",
    "# Restrict to post 1987\n",
    "profiles_df = profiles_df[profiles_df['Year/Date'] > '1987']\n",
    "\n",
    "# Convert columns to strings and add unique ID column\n",
    "profiles_df['Beach'] = profiles_df['Beach'].str.lower().str.replace(' ', '')\n",
    "profiles_df['Block'] = profiles_df['Block'].astype(str).str.lower()\n",
    "profiles_df['Profile'] = profiles_df['Profile'].astype(str).str.lower()\n",
    "profiles_df['site'] = profiles_df[['Beach', 'Block',\n",
    "                                   'Profile']].apply('_'.join, 1)\n",
    "\n",
    "# Rename columns\n",
    "profiles_df.columns = ['beach', 'section', 'profile', 'date', 'chainage', \n",
    "                       'elevation', 'easting', 'northing', 'source', 'site']\n",
    "\n",
    "# # Compute origin points for each profile\n",
    "# start_xy = profiles_df.loc[profiles_df.groupby(['site']).chainage.idxmin(), \n",
    "#                             ['site', 'easting', 'northing']]\n",
    "# start_xy = start_xy.rename({'easting': 'start_x', \n",
    "#                             'northing': 'start_y'}, axis=1)\n",
    "# start_xy = start_xy.reset_index(drop=True)\n",
    "\n",
    "# # Compute end points for each profile\n",
    "# end_xy = profiles_df.loc[profiles_df.groupby(['site']).chainage.idxmax(), \n",
    "#                          ['site', 'easting', 'northing']]\n",
    "# end_xy = end_xy.rename({'easting': 'end_x', \n",
    "#                         'northing': 'end_y'}, axis=1)\n",
    "# end_xy = end_xy.reset_index(drop=True)\n",
    "\n",
    "# # Join origin and end points into dataframe\n",
    "# profiles_df = pd.merge(left=profiles_df, right=start_xy)\n",
    "# profiles_df = pd.merge(left=profiles_df, right=end_xy)\n",
    "\n",
    "# # Find location and distance to water for datum height (0 m AHD)\n",
    "# out = profiles_df.groupby(['site', 'date']).apply(deacl_val.waterline_intercept, \n",
    "#                                                   dist_col='chainage',\n",
    "#                                                   x_col='easting', \n",
    "#                                                   y_col='northing', \n",
    "#                                                   z_col='elevation', \n",
    "#                                                   z_val=0).dropna()"
   ]
  },
  {
   "cell_type": "code",
   "execution_count": null,
   "metadata": {},
   "outputs": [],
   "source": [
    "profiles_sub = profiles_df[(profiles_df.site == 'burrillakeandracecoursebeach_1_5') & (profiles_df.date == '1993-05-14') ]  "
   ]
  },
  {
   "cell_type": "code",
   "execution_count": null,
   "metadata": {},
   "outputs": [],
   "source": [
    "burrillakeandracecoursebeach_1_5"
   ]
  },
  {
   "cell_type": "code",
   "execution_count": null,
   "metadata": {},
   "outputs": [],
   "source": [
    "to_vector(profiles_df, x='easting', y='northing', fname='test6.shp')"
   ]
  },
  {
   "cell_type": "markdown",
   "metadata": {},
   "source": [
    "## Testing GCC"
   ]
  },
  {
   "cell_type": "code",
   "execution_count": null,
   "metadata": {},
   "outputs": [],
   "source": [
    "results_df\n",
    "\n",
    "\n",
    "results_df[(results_df.site == 'broadbeach_eta_59') ]"
   ]
  },
  {
   "cell_type": "code",
   "execution_count": null,
   "metadata": {},
   "outputs": [],
   "source": []
  },
  {
   "cell_type": "code",
   "execution_count": null,
   "metadata": {},
   "outputs": [],
   "source": [
    "pd.read_csv(val_paths[0], parse_dates=['date'], index_col='site').loc['broadbeach_eta_58.50']"
   ]
  },
  {
   "cell_type": "code",
   "execution_count": null,
   "metadata": {},
   "outputs": [],
   "source": [
    " x.geometry_val.intersection(x.geometry_deacl)\n",
    "            .hausdorff_distance(Point(x.start_x, x.start_y)), axis=1)\n"
   ]
  },
  {
   "cell_type": "code",
   "execution_count": null,
   "metadata": {},
   "outputs": [],
   "source": [
    "gpd.GeoSeries(results_df.loc[results_df.site == 'broadbeach_eta_59'].iloc[0].geometry_val).plot()\n",
    "\n",
    "\n",
    "gpd.GeoSeries(results_df.loc[results_df.site == 'broadbeach_eta_59'].iloc[0].geometry_val.interpolate(219)).plot(ax=plt.gca())"
   ]
  },
  {
   "cell_type": "code",
   "execution_count": null,
   "metadata": {},
   "outputs": [],
   "source": [
    "results_df.loc[results_df.site == 'broadbeach_eta_59'].iloc[0].geometry_val.length"
   ]
  },
  {
   "cell_type": "code",
   "execution_count": null,
   "metadata": {},
   "outputs": [],
   "source": [
    "profile_i = '/g/data/r78/rt1527/dea-notebooks/MAHTS/validation/input_data/cityofgoldcoast/BROADBEACH - ETA 59 - (13474) 1996-06-05.txt'\n",
    "\n",
    "\n",
    "pd.read_csv(profile_i,\n",
    "                                 usecols=[1, 2, 3],\n",
    "                                 delim_whitespace=True, \n",
    "                                 names=['x', 'y', 'z']).plot.scatter(x='x', y='z')"
   ]
  },
  {
   "cell_type": "code",
   "execution_count": null,
   "metadata": {},
   "outputs": [],
   "source": [
    "profile_list "
   ]
  },
  {
   "cell_type": "code",
   "execution_count": null,
   "metadata": {},
   "outputs": [],
   "source": [
    "profile_list = glob.glob(f'input_data/cityofgoldcoast/SOUTH STRADBROKE - SSI 09 *.txt')\n",
    "\n",
    "# Output list to hold data\n",
    "site_profiles = []\n",
    "\n",
    "for profile_i in profile_list:\n",
    "\n",
    "    # Identify unique field values from file string\n",
    "    profile_string = os.path.basename(profile_i)\n",
    "\n",
    "    # Treat data file string differently depending on format\n",
    "    if len(profile_string.split(' - ')) > 3:\n",
    "        beach, section, profile, id_date = profile_string.split(' - ')            \n",
    "\n",
    "    else:\n",
    "        beach, section_profile, id_date = profile_string.split(' - ')\n",
    "\n",
    "        if len(section_profile.split(' ')) == 2:\n",
    "            section, profile = section_profile.split(' ')\n",
    "\n",
    "        else:\n",
    "            section, profile = 'none', section_profile\n",
    "\n",
    "    # If beach name is in the list of problematic names, replace\n",
    "    beach = manual_rename[beach] if beach in manual_rename.keys() else beach\n",
    "\n",
    "    # Remove any special characters from beach/section/profile names and create ID \n",
    "    profile_df = pd.read_csv(profile_i,\n",
    "                             usecols=[1, 2, 3],\n",
    "                             delim_whitespace=True, \n",
    "                             names=['x', 'y', 'z'])\n",
    "    profile_df['date'] = pd.to_datetime(id_date[-14:-4]) \n",
    "    profile_df['source'] = 'hydrographic survey'\n",
    "    profile_df['profile'] = profile.lower()\n",
    "    profile_df['section'] = section.lower()\n",
    "    profile_df['beach'] = beach.replace(' ', '').lower()\n",
    "    profile_df['site'] = profile_df[['beach', 'section', 'profile']].apply('_'.join, 1)\n",
    "\n",
    "    # Filter to drop pre-1987 and deep water samples, add to list if any \n",
    "    # data is available above 0 MSL\n",
    "    profile_df = profile_df[profile_df.z > -3.0]\n",
    "    profile_df = profile_df[profile_df.date > '1987']    \n",
    "    if profile_df.z.max() > 0:\n",
    "        site_profiles.append(profile_df)\n",
    "\n",
    "# Combine into a single dataframe\n",
    "profiles_df = pd.concat(site_profiles)\n",
    "\n",
    "# Compute origin and end points for each profile\n",
    "start_xy = profiles_df.groupby(['site'], as_index=False).first()[['site', 'x', 'y']]\n",
    "end_xy = profiles_df.groupby(['site'], as_index=False).last()[['site', 'x', 'y']]\n",
    "start_xy = start_xy.rename({'x': 'start_x', 'y': 'start_y'}, axis=1)\n",
    "end_xy = end_xy.rename({'x': 'end_x', 'y': 'end_y'}, axis=1)\n",
    "\n",
    "# Join origin and end points into dataframe\n",
    "profiles_df = pd.merge(left=profiles_df, right=start_xy)\n",
    "profiles_df = pd.merge(left=profiles_df, right=end_xy)\n",
    "\n",
    "# # Compute chainage\n",
    "# profiles_df['chainage'] = profiles_df.apply(\n",
    "#     lambda x: math.hypot(x.x - x.start_x, x.y - x.start_y), axis = 1)\n",
    "\n",
    "# # Find location and distance to water for datum height (0 m AHD)\n",
    "# out = profiles_df.groupby(['site', 'date']).apply(deacl_val.waterline_intercept, \n",
    "#                                                   dist_col='chainage',\n",
    "#                                                   x_col='x', \n",
    "#                                                   y_col='y', \n",
    "#                                                   z_col='z', \n",
    "#                                                   z_val=0).dropna()"
   ]
  },
  {
   "cell_type": "code",
   "execution_count": null,
   "metadata": {},
   "outputs": [],
   "source": [
    "profiles_subset = profiles_df.loc[profiles_df.date.dt.year == 2013]\n",
    "profiles_subset.plot(x='x', y='z')"
   ]
  },
  {
   "cell_type": "code",
   "execution_count": null,
   "metadata": {},
   "outputs": [],
   "source": [
    "to_vector(profiles_df.loc[profiles_df.date.dt.year == 2013], fname='test4.shp')\n",
    "\n",
    "\n",
    "\n",
    "    "
   ]
  },
  {
   "cell_type": "code",
   "execution_count": null,
   "metadata": {},
   "outputs": [],
   "source": []
  },
  {
   "cell_type": "code",
   "execution_count": null,
   "metadata": {},
   "outputs": [],
   "source": [
    "merge_test.groupby('year').median().reset_index().plot(x='year', y='DEA CoastLines beach width (m)')\n",
    "merge_test.groupby('year').median().reset_index().plot(x='year', y='Validation beach width (m)', ax=plt.gca())"
   ]
  },
  {
   "cell_type": "markdown",
   "metadata": {},
   "source": [
    "***\n",
    "\n",
    "## Additional information"
   ]
  },
  {
   "cell_type": "markdown",
   "metadata": {},
   "source": [
    "**License:** The code in this notebook is licensed under the [Apache License, Version 2.0](https://www.apache.org/licenses/LICENSE-2.0). \n",
    "Digital Earth Australia data is licensed under the [Creative Commons by Attribution 4.0](https://creativecommons.org/licenses/by/4.0/) license.\n",
    "\n",
    "**Contact:** If you need assistance, please post a question on the [Open Data Cube Slack channel](http://slack.opendatacube.org/) or on the [GIS Stack Exchange](https://gis.stackexchange.com/questions/ask?tags=open-data-cube) using the `open-data-cube` tag (you can view previously asked questions [here](https://gis.stackexchange.com/questions/tagged/open-data-cube)).\n",
    "If you would like to report an issue with this notebook, you can file one on [Github](https://github.com/GeoscienceAustralia/dea-notebooks).\n",
    "\n",
    "**Last modified:** May 2020"
   ]
  }
 ],
 "metadata": {
  "kernelspec": {
   "display_name": "Python 3",
   "language": "python",
   "name": "python3"
  },
  "language_info": {
   "codemirror_mode": {
    "name": "ipython",
    "version": 3
   },
   "file_extension": ".py",
   "mimetype": "text/x-python",
   "name": "python",
   "nbconvert_exporter": "python",
   "pygments_lexer": "ipython3",
   "version": "3.6.10"
  },
  "widgets": {
   "application/vnd.jupyter.widget-state+json": {
    "state": {},
    "version_major": 2,
    "version_minor": 0
   }
  }
 },
 "nbformat": 4,
 "nbformat_minor": 4
}
