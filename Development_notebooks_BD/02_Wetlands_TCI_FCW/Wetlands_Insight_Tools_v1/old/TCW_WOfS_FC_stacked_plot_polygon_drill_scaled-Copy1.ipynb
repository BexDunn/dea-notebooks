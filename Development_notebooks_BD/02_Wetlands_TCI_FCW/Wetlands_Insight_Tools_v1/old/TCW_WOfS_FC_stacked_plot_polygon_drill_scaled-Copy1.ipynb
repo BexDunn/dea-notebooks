{
 "cells": [
  {
   "cell_type": "code",
   "execution_count": 1,
   "metadata": {
    "ExecuteTime": {
     "end_time": "2019-02-19T22:48:07.501507Z",
     "start_time": "2019-02-19T22:48:07.425278Z"
    }
   },
   "outputs": [],
   "source": [
    "# #!/usr/bin/python\n",
    "\n",
    "\n",
    "# | Authors:  | Bex Dunn|\n",
    "# |----------|----------------|\n",
    "# | Created: | Jan 7, 2019 |\n",
    "# | Last edited: | Jan 22,2019 |\n",
    "\n",
    "\n",
    "#  Before running this script load these modules:\n",
    "# `module use /g/data/v10/public/modules/modulefiles` \n",
    "# `module load dea`\n",
    "# This code is designed to run on raijin, on the Australian NCI. \n",
    "# The shell script to run this code has a *.sh extension\n",
    "\n",
    "\n",
    "# If you find an error in this code, please raise an issue at https://github.com/GeoscienceAustralia/dea-notebooks\n",
    "# \n",
    "# This code takes a supplied shapefile of a polygon and queries Digital Earth\n",
    "# Australia http://geoscienceaustralia.github.io/digitalearthau/\n",
    "# for WOfS, Fractional Cover and NBART. It calculates thresholded tasselled cap wetness. The dominant result for\n",
    "# each pixel is calculated and the percentage area of the polygon covered by water, wet vegetation, \n",
    "# photosynthetic vegetation, non-photosynthetic vegetation and bare soil is output into a jpg stacked plot and to\n",
    "# csv. The resulting data can be used to monitor changes in wetland behaviour spatiotemporally. \n",
    "\n",
    "# - Input Datasets:\n",
    "# - Landsat 5\n",
    "# - Landsat 7\n",
    "# - Landsat 8\n",
    "\n",
    "# -- Fractional Cover --\n",
    "# - PV - Photosythetic vegetation\n",
    "# - NPV - Non-Photosythetic vegetation\n",
    "# - BS - Bare Soil\n",
    "\n",
    "# - WOfS Feature Layers (WOFLs)\n",
    "\n",
    "# __Future Work:__ \n",
    "# - do this by max extent of wetness\n",
    "# - add rainfall for context -- waiting on an update as to availability of data        \n",
    "\n",
    "### Import Statements: import the modules we need ------------------------------\n",
    "\n",
    "#$#$#$#$#$ bunch of modules from CK -- may not need\n",
    "\n",
    "import csv\n",
    "import multiprocessing\n",
    "from math import ceil\n",
    "#$#$#$#$#$\n",
    "\n",
    "import datacube\n",
    "import datetime\n",
    "import fiona\n",
    "import geopandas as gpd\n",
    "import numpy as np\n",
    "import pandas as pd\n",
    "import rasterio.mask\n",
    "import rasterio.features\n",
    "from shapely import geometry\n",
    "import seaborn as sns\n",
    "import sys\n",
    "import time\n",
    "import xarray as xr\n",
    "\n",
    "#keep the plotting modules in here as we want to output the stackplots to *.jpg\n",
    "import matplotlib.dates as mdates\n",
    "import matplotlib.gridspec as gridspec\n",
    "import matplotlib.pyplot as plt\n",
    "\n",
    "from datacube.storage import masking\n",
    "from datacube.utils import geometry\n",
    "\n",
    "#append path to dea notebooks scripts to the system so we can access it\n",
    "sys.path.append('/g/data/r78/rjd547/jupyter_notebooks/dea-notebooks/10_Scripts')\n",
    "import DEADataHandling, DEAPlotting, TasseledCapTools\n",
    "\n",
    "# setup the datacube \n",
    "dc = datacube.Datacube(app='asset drill')"
   ]
  },
  {
   "cell_type": "markdown",
   "metadata": {},
   "source": [
    "### Running into wonderful shapefile complexities here"
   ]
  },
  {
   "cell_type": "code",
   "execution_count": 2,
   "metadata": {
    "ExecuteTime": {
     "end_time": "2019-02-19T04:39:13.864806Z",
     "start_time": "2019-02-19T04:39:08.471629Z"
    }
   },
   "outputs": [
    {
     "name": "stdout",
     "output_type": "stream",
     "text": [
      "Shape file is /g/data/r78/rjd547/Ramsar_Wetlands/ramsar2015_1.shp\n",
      "system argument received is 1\n",
      "chunk size is 4\n",
      "There are 27 generated chunks\n",
      "Running for polygon IDs in the range 0 to 4\n"
     ]
    }
   ],
   "source": [
    "### Set up polygon\n",
    "poly_path='/g/data/r78/rjd547/Ramsar_Wetlands/ramsar2015_1.shp'\n",
    "print(f'Shape file is {poly_path}')\n",
    "\n",
    "#part = sys.argv[1] ###FIXME: update before running on raijin\n",
    "part = 1\n",
    "part = int(part)\n",
    "print(f'system argument received is {part}')\n",
    "\n",
    "global Output_dir\n",
    "Output_dir = '/g/data/r78/rjd547/Ramsar_Wetlands/Ramsar_Outputs_1/'\n",
    "\n",
    "# add in a delay between dc.load calls to avoid overloading the database - 5 seconds in this case\n",
    "time.sleep(5*part)\n",
    "#open the polygon\n",
    "\n",
    "\n",
    "with fiona.open(poly_path) as shapes:\n",
    "        crs = geometry.CRS(shapes.crs_wkt)\n",
    "        #get the list of all the shapes in the shapefile\n",
    "        ShapesList = list(shapes)\n",
    "        #Desired number of chunks\n",
    "        #Set this to 32 because we have 32 CPUs that we'd like to run across\n",
    "        DesiredChunks = 32\n",
    "        ChunkSize = ceil(len(ShapesList)/DesiredChunks) #this was set due to Claire having 64000 polygons in her code\n",
    "        print(f'chunk size is {ChunkSize}')\n",
    "        print(f'There are {int(len(ShapesList)/ChunkSize)} generated chunks')\n",
    "        shapessubset = shapes[(part - 1) * ChunkSize: part * ChunkSize]\n",
    "        print(f'Running for polygon IDs in the range {(part - 1) * ChunkSize} to {part * ChunkSize}')        "
   ]
  },
  {
   "cell_type": "markdown",
   "metadata": {},
   "source": [
    "### realise shapes is actually shapessubset now"
   ]
  },
  {
   "cell_type": "code",
   "execution_count": 3,
   "metadata": {
    "ExecuteTime": {
     "end_time": "2019-02-19T04:39:13.883879Z",
     "start_time": "2019-02-19T04:39:13.870957Z"
    }
   },
   "outputs": [
    {
     "data": {
      "text/plain": [
       "OrderedDict([('OBJECTID', 1),\n",
       "             ('REFCODE', 1),\n",
       "             ('RAMSAR_NAM', 'Cobourg Peninsula'),\n",
       "             ('WETLAND_NA', 'Cobourg Peninsula'),\n",
       "             ('STATE', 'NT'),\n",
       "             ('JURISDICTI', 'NT'),\n",
       "             ('DESIGNATIO', '1974-05-08'),\n",
       "             ('TOTAL_SITE', 226481.0),\n",
       "             ('GAZETTED_A', 220700.0),\n",
       "             ('SOURCE', 'State agencies; 1:100 000 to satellite imagery'),\n",
       "             ('Metadata_U',\n",
       "              'http://www.environment.gov.au/fed/catalog/main/home.page'),\n",
       "             ('WetlandsDB',\n",
       "              'http://www.environment.gov.au/cgi-bin/wetlands/ramsardetails.pl?refcode=1'),\n",
       "             ('SHAPE_Leng', 6.81510482166),\n",
       "             ('SHAPE_Area', 0.18756577947),\n",
       "             ('AREA_HA', 226480.681675)])"
      ]
     },
     "execution_count": 3,
     "metadata": {},
     "output_type": "execute_result"
    }
   ],
   "source": [
    "shapessubset[0]['properties']"
   ]
  },
  {
   "cell_type": "code",
   "execution_count": 4,
   "metadata": {
    "ExecuteTime": {
     "end_time": "2019-02-19T04:39:13.892819Z",
     "start_time": "2019-02-19T04:39:13.887845Z"
    }
   },
   "outputs": [],
   "source": [
    "attempt_count =0\n",
    "#     first_geometry = shapes['geometry']\n",
    "#     polyName = shapes['properties']['ID']\n",
    "#     #print(polyName)\n",
    "# #    polyArea = shapes['properties']['area']\n",
    "#     geom = geometry.Geometry(first_geometry, crs=crs)\n",
    "\n",
    "#     ## Set up the query, and load in all of the WOFS layers\n",
    "#     query = {'geopolygon': geom}\n",
    "#     WOFL = dc.load(product='wofs_albers', **query)"
   ]
  },
  {
   "cell_type": "code",
   "execution_count": 5,
   "metadata": {
    "ExecuteTime": {
     "end_time": "2019-02-19T04:39:13.908542Z",
     "start_time": "2019-02-19T04:39:13.896091Z"
    }
   },
   "outputs": [
    {
     "name": "stdout",
     "output_type": "stream",
     "text": [
      "PROJCS[\"GDA94_Australian_Albers\",GEOGCS[\"GCS_GDA_1994\",DATUM[\"Geocentric_Datum_of_Australia_1994\",SPHEROID[\"GRS_1980\",6378137,298.257222101]],PRIMEM[\"Greenwich\",0],UNIT[\"Degree\",0.017453292519943295]],PROJECTION[\"Albers_Conic_Equal_Area\"],PARAMETER[\"standard_parallel_1\",-18],PARAMETER[\"standard_parallel_2\",-36],PARAMETER[\"latitude_of_center\",0],PARAMETER[\"longitude_of_center\",132],PARAMETER[\"false_easting\",0],PARAMETER[\"false_northing\",0],UNIT[\"Meter\",1]]\n"
     ]
    }
   ],
   "source": [
    "#open the polygon\n",
    "with fiona.open(poly_path) as shapes: #shapes is a fiona.ogrext.Iterator object and is not subscriptable\n",
    "        #crs = geometry.CRS(shapes.crs_wkt)\n",
    "        print(crs)\n",
    "        first_geometry = shapes['geometry']\n"
   ]
  },
  {
   "cell_type": "code",
   "execution_count": 6,
   "metadata": {
    "ExecuteTime": {
     "end_time": "2019-02-19T04:39:13.929642Z",
     "start_time": "2019-02-19T04:39:13.911758Z"
    }
   },
   "outputs": [
    {
     "name": "stdout",
     "output_type": "stream",
     "text": [
      "MultiPolygon\n"
     ]
    }
   ],
   "source": [
    "#open the polygon\n",
    "with fiona.open(poly_path) as shapes:\n",
    "        crs = geometry.CRS(shapes.crs_wkt)\n",
    "        # if our geometry type is a MultiPolygon, which we strongly suspect it is...\n",
    "        if ((next(iter(shapes))['geometry']['type'])) == 'MultiPolygon':\n",
    "            print((next(iter(shapes))['geometry']['type']))\n",
    "            \n",
    "         "
   ]
  },
  {
   "cell_type": "code",
   "execution_count": 7,
   "metadata": {
    "ExecuteTime": {
     "end_time": "2019-02-19T04:39:13.961966Z",
     "start_time": "2019-02-19T04:39:13.932411Z"
    }
   },
   "outputs": [
    {
     "name": "stdout",
     "output_type": "stream",
     "text": [
      "0 ramsar2015_1 <fiona.ogrext.Iterator object at 0x7fa2589f7938>\n"
     ]
    }
   ],
   "source": [
    "for i,layername in enumerate(fiona.listlayers(poly_path)):\n",
    "    with fiona.open(poly_path, layer=i) as shapes:\n",
    "        print(i,layername, shapes.values())\n",
    "        #print(shapes['properties'])"
   ]
  },
  {
   "cell_type": "code",
   "execution_count": 8,
   "metadata": {
    "ExecuteTime": {
     "end_time": "2019-02-19T04:39:14.119402Z",
     "start_time": "2019-02-19T04:39:13.965989Z"
    }
   },
   "outputs": [
    {
     "name": "stdout",
     "output_type": "stream",
     "text": [
      "0                                      Cobourg Peninsula\n",
      "1                                   Kakadu National Park\n",
      "2                                        Moulting Lagoon\n",
      "3                                           Logan Lagoon\n",
      "4                                                Lavinia\n",
      "5                             Pitt Water-Orielton Lagoon\n",
      "6                                         Apsley Marshes\n",
      "7                  East Coast Cape Barren Island Lagoons\n",
      "8                     Flood Plain Lower Ringarooma River\n",
      "9                                           Jocks Lagoon\n",
      "10                            Interlaken (Lake Crescent)\n",
      "11                                Little Waterhouse Lake\n",
      "12                                          Corner Inlet\n",
      "13                                         Barmah Forest\n",
      "14                                       Gunbower Forest\n",
      "15                                           Lake Arawak\n",
      "16                                        Lake Bitterang\n",
      "17                                          Lake Brockie\n",
      "18                                            Lake Bulla\n",
      "19                                          Lake Cantala\n",
      "20                                           Lake Hattah\n",
      "21                                         Lake Konardin\n",
      "22                                           Lake Kramen\n",
      "23                                           Lake Lockie\n",
      "24                                        Lake Mournpall\n",
      "25                                          Lake Yelwell\n",
      "26                                           Lake Yerang\n",
      "27                                        Cemetery Swamp\n",
      "28                                         Fosters Swamp\n",
      "29                                            Hird Swamp\n",
      "                             ...                        \n",
      "80                                              Crinolyn\n",
      "81                                       Goddard's Lease\n",
      "82                                           Old Dromana\n",
      "83                                              Windella\n",
      "84     Great Sandy Strait (including Great Sandy Stra...\n",
      "85                          Corrie Island Nature Reserve\n",
      "86                Little Broughton Island Nature Reserve\n",
      "87                             Myall Lakes National Park\n",
      "88                         Myall Lakes NP (Broughton Is)\n",
      "89                            Myall Lakes NP (Fame Cove)\n",
      "90                         Myall Lakes NP (Yacaaba Head)\n",
      "91                            Narran Lake Nature Reserve\n",
      "92                                 Becher Point Wetlands\n",
      "93                                             Lake Gore\n",
      "94                                    Muir-Byenup System\n",
      "95                                             Edithvale\n",
      "96                                               Seaford\n",
      "97                  Ashmore Reef National Nature Reserve\n",
      "98     Coral Sea Reserves (Coringa-Herald and Lihou R...\n",
      "99     Elizabeth and Middleton Reefs Marine National ...\n",
      "100                                            The Dales\n",
      "101                                      Fivebough Swamp\n",
      "102                                      Tuckerbil Swamp\n",
      "103                      Banrock Station Wetland Complex\n",
      "104                               Koondrook Forest Group\n",
      "105                           Millewa State Forest Group\n",
      "106                                   Werai Forest Group\n",
      "107                             Nocoleche Nature Reserve\n",
      "108                                                Peery\n",
      "109                     Piccaninnie Ponds Karst Wetlands\n",
      "Name: WETLAND_NA, Length: 110, dtype: object\n",
      "0        1\n",
      "1        2\n",
      "2        3\n",
      "3        4\n",
      "4        5\n",
      "5        6\n",
      "6        7\n",
      "7        8\n",
      "8        9\n",
      "9       10\n",
      "10      11\n",
      "11      12\n",
      "12      13\n",
      "13      14\n",
      "14      15\n",
      "15      16\n",
      "16      17\n",
      "17      18\n",
      "18      19\n",
      "19      20\n",
      "20      21\n",
      "21      22\n",
      "22      23\n",
      "23      24\n",
      "24      25\n",
      "25      26\n",
      "26      27\n",
      "27      28\n",
      "28      29\n",
      "29      30\n",
      "      ... \n",
      "80      81\n",
      "81      82\n",
      "82      83\n",
      "83      84\n",
      "84      85\n",
      "85      86\n",
      "86      87\n",
      "87      88\n",
      "88      89\n",
      "89      90\n",
      "90      91\n",
      "91      92\n",
      "92      93\n",
      "93      94\n",
      "94      95\n",
      "95      96\n",
      "96      97\n",
      "97      98\n",
      "98      99\n",
      "99     100\n",
      "100    101\n",
      "101    102\n",
      "102    103\n",
      "103    104\n",
      "104    105\n",
      "105    106\n",
      "106    107\n",
      "107    108\n",
      "108    109\n",
      "109    110\n",
      "Name: OBJECTID, Length: 110, dtype: int64\n"
     ]
    },
    {
     "data": {
      "text/plain": [
       "<Figure size 432x288 with 0 Axes>"
      ]
     },
     "metadata": {},
     "output_type": "display_data"
    }
   ],
   "source": [
    "#plot polygon to check it looks ok\n",
    "plt.clf()\n",
    "shape_plot = gpd.read_file(poly_path)\n",
    "print(shape_plot.WETLAND_NA)\n",
    "#plt.show()\n",
    "print(shape_plot.OBJECTID)"
   ]
  },
  {
   "cell_type": "code",
   "execution_count": null,
   "metadata": {
    "ExecuteTime": {
     "start_time": "2019-02-19T04:39:08.477Z"
    }
   },
   "outputs": [
    {
     "name": "stdout",
     "output_type": "stream",
     "text": [
      "1\n"
     ]
    }
   ],
   "source": [
    "print(shape_plot.OBJECTID[0])"
   ]
  },
  {
   "cell_type": "markdown",
   "metadata": {},
   "source": [
    "### Set up query"
   ]
  },
  {
   "cell_type": "code",
   "execution_count": null,
   "metadata": {
    "ExecuteTime": {
     "start_time": "2019-02-19T04:39:08.483Z"
    }
   },
   "outputs": [],
   "source": [
    "with fiona.open(poly_path) as shapes:\n",
    "    crs = geometry.CRS(shapes.crs_wkt)\n",
    "    first_geometry = next(iter(shapes))['geometry']\n",
    "    geom = geometry.Geometry(first_geometry, crs=crs)"
   ]
  },
  {
   "cell_type": "code",
   "execution_count": null,
   "metadata": {
    "ExecuteTime": {
     "start_time": "2019-02-19T04:39:08.488Z"
    }
   },
   "outputs": [],
   "source": [
    "\n",
    "\n",
    "query = {'geopolygon': geom,\n",
    "         #'time': ('2016-01-01', '2018-06-30')\n",
    "         #'time': ('2007-01-01', '2007-06-30')\n",
    "         'time': ('1987-01-01', '2019-01-01')\n",
    "         }"
   ]
  },
  {
   "cell_type": "markdown",
   "metadata": {},
   "source": [
    "## Set up datasets"
   ]
  },
  {
   "cell_type": "markdown",
   "metadata": {
    "ExecuteTime": {
     "end_time": "2019-01-06T23:12:48.634135Z",
     "start_time": "2019-01-06T23:12:48.544858Z"
    }
   },
   "source": [
    "### set cloudmasking threshold and load landsat nbart data"
   ]
  },
  {
   "cell_type": "code",
   "execution_count": null,
   "metadata": {
    "ExecuteTime": {
     "start_time": "2019-02-19T04:39:08.494Z"
    }
   },
   "outputs": [
    {
     "name": "stdout",
     "output_type": "stream",
     "text": [
      "Loading ls5 pixel quality\n",
      "    Loading 160 filtered ls5 timesteps\n"
     ]
    }
   ],
   "source": [
    "#set cloudmasking threshold and load landsat nbart data\n",
    "landsat_masked_prop = 0.90\n",
    "ls578_ds = DEADataHandling.load_clearlandsat(dc=dc, query=query, product='nbart',\n",
    "        masked_prop=landsat_masked_prop)"
   ]
  },
  {
   "cell_type": "markdown",
   "metadata": {
    "ExecuteTime": {
     "end_time": "2019-01-08T02:38:19.805949Z",
     "start_time": "2019-01-08T02:38:18.089945Z"
    }
   },
   "source": [
    "### mask the data with our original polygon to remove extra data "
   ]
  },
  {
   "cell_type": "code",
   "execution_count": null,
   "metadata": {
    "ExecuteTime": {
     "start_time": "2019-02-19T04:39:08.498Z"
    }
   },
   "outputs": [],
   "source": [
    "data = ls578_ds\n",
    "mask = rasterio.features.geometry_mask([geom.to_crs(data.geobox.crs)for geoms in [geom]],\n",
    "                                           out_shape=data.geobox.shape,\n",
    "                                           transform=data.geobox.affine,\n",
    "                                           all_touched=False,\n",
    "                                           invert=False)"
   ]
  },
  {
   "cell_type": "code",
   "execution_count": null,
   "metadata": {
    "ExecuteTime": {
     "start_time": "2019-02-19T04:39:08.500Z"
    }
   },
   "outputs": [],
   "source": [
    "#for some reason xarray is not playing nicely with our old masking function\n",
    "mask_xr = xr.DataArray(mask, dims = ('y','x'))\n",
    "ls578_ds = data.where(mask_xr==False)"
   ]
  },
  {
   "cell_type": "code",
   "execution_count": null,
   "metadata": {
    "ExecuteTime": {
     "start_time": "2019-02-19T04:39:08.503Z"
    }
   },
   "outputs": [],
   "source": [
    "#transform the nbart into tci\n",
    "tci = TasseledCapTools.thresholded_tasseled_cap(ls578_ds,wetness_threshold=-350, drop=True , drop_tc_bands=True)"
   ]
  },
  {
   "cell_type": "markdown",
   "metadata": {},
   "source": [
    "### create a masked version of the extent of overthreshold wetness"
   ]
  },
  {
   "cell_type": "code",
   "execution_count": null,
   "metadata": {
    "ExecuteTime": {
     "start_time": "2019-02-19T04:39:08.508Z"
    }
   },
   "outputs": [],
   "source": [
    "#select only finite values (over threshold values)\n",
    "tcw = xr.ufuncs.isfinite(tci.wetness_thresholded)"
   ]
  },
  {
   "cell_type": "code",
   "execution_count": null,
   "metadata": {
    "ExecuteTime": {
     "start_time": "2019-02-19T04:39:08.512Z"
    }
   },
   "outputs": [],
   "source": [
    "# #reapply the polygon mask\n",
    "tcw = tcw.where(mask_xr==False)"
   ]
  },
  {
   "cell_type": "markdown",
   "metadata": {
    "ExecuteTime": {
     "end_time": "2019-01-06T23:01:16.380099Z",
     "start_time": "2019-01-06T23:01:14.739350Z"
    }
   },
   "source": [
    "### load wofls and select only wet pixels"
   ]
  },
  {
   "cell_type": "code",
   "execution_count": null,
   "metadata": {
    "ExecuteTime": {
     "start_time": "2019-02-19T04:39:08.519Z"
    }
   },
   "outputs": [],
   "source": [
    "#load wofs\n",
    "wofls = dc.load(product = 'wofs_albers', like=ls578_ds)"
   ]
  },
  {
   "cell_type": "code",
   "execution_count": null,
   "metadata": {
    "ExecuteTime": {
     "start_time": "2019-02-19T04:39:08.524Z"
    }
   },
   "outputs": [],
   "source": [
    "#only get wet obs\n",
    "wetwofl = masking.make_mask(wofls, wet=True)"
   ]
  },
  {
   "cell_type": "code",
   "execution_count": null,
   "metadata": {
    "ExecuteTime": {
     "start_time": "2019-02-19T04:39:08.529Z"
    }
   },
   "outputs": [],
   "source": [
    "#match the wofs observations to the nbart\n",
    "wetwofl=wetwofl.where(wofls.time==ls578_ds.time)"
   ]
  },
  {
   "cell_type": "markdown",
   "metadata": {
    "ExecuteTime": {
     "end_time": "2019-01-09T01:48:09.915423Z",
     "start_time": "2019-01-09T01:48:09.867490Z"
    }
   },
   "source": [
    "### mask the wofs obs"
   ]
  },
  {
   "cell_type": "code",
   "execution_count": null,
   "metadata": {
    "ExecuteTime": {
     "start_time": "2019-02-19T04:39:08.533Z"
    }
   },
   "outputs": [],
   "source": [
    "#mask the wofs obs with the polygon mask\n",
    "wetwofl = wetwofl.where(mask_xr==False)"
   ]
  },
  {
   "cell_type": "markdown",
   "metadata": {},
   "source": [
    "### load in fractional cover data"
   ]
  },
  {
   "cell_type": "code",
   "execution_count": null,
   "metadata": {
    "ExecuteTime": {
     "start_time": "2019-02-19T04:39:08.536Z"
    }
   },
   "outputs": [],
   "source": [
    "#load the data according to our query\n",
    "#choose a mask proportion to look for a clear timestep\n",
    "fc_ds = DEADataHandling.load_clearlandsat(dc, query,product='fc',masked_prop=0.90)"
   ]
  },
  {
   "cell_type": "markdown",
   "metadata": {},
   "source": [
    "### mask FC with polygon"
   ]
  },
  {
   "cell_type": "code",
   "execution_count": null,
   "metadata": {
    "ExecuteTime": {
     "start_time": "2019-02-19T04:39:08.541Z"
    }
   },
   "outputs": [],
   "source": [
    "fc_ds = fc_ds.where(mask_xr==False)"
   ]
  },
  {
   "cell_type": "markdown",
   "metadata": {},
   "source": [
    "### mask FC with wetness"
   ]
  },
  {
   "cell_type": "code",
   "execution_count": null,
   "metadata": {
    "ExecuteTime": {
     "start_time": "2019-02-19T04:39:08.546Z"
    }
   },
   "outputs": [],
   "source": [
    "fc_ds_noTCW=fc_ds.where(tcw==False)"
   ]
  },
  {
   "cell_type": "code",
   "execution_count": null,
   "metadata": {
    "ExecuteTime": {
     "start_time": "2019-02-19T04:39:08.548Z"
    }
   },
   "outputs": [],
   "source": [
    "#set scene to plot\n",
    "scene =2"
   ]
  },
  {
   "cell_type": "code",
   "execution_count": null,
   "metadata": {
    "ExecuteTime": {
     "start_time": "2019-02-19T04:39:08.554Z"
    }
   },
   "outputs": [],
   "source": [
    "#set up our images on a grid using gridspec\n",
    "plt.clf()\n",
    "plt.figure(figsize=(12,8))\n",
    "gs = gridspec.GridSpec(2,2) # set up a 2 x 2 grid of 4 images for better presentation\n",
    "\n",
    "ax1=plt.subplot(gs[0,0])\n",
    "fc_ds_noTCW.PV.isel(time=scene).plot(cmap='gist_earth_r')\n",
    "ax1.set_title('PV')\n",
    "\n",
    "ax2=plt.subplot(gs[1,0])\n",
    "fc_ds_noTCW.BS.isel(time=scene).plot(cmap='Oranges')\n",
    "ax2.set_title('BS')\n",
    "\n",
    "ax3=plt.subplot(gs[0,1])\n",
    "fc_ds_noTCW.NPV.isel(time=scene).plot(cmap='copper')\n",
    "ax3.set_title('NPV')\n",
    "\n",
    "ax4=plt.subplot(gs[1,1])\n",
    "fc_ds_noTCW.UE.isel(time=scene).plot(cmap='magma')\n",
    "ax4.set_title('UE')\n",
    "\n",
    "plt.tight_layout()\n",
    "plt.show()"
   ]
  },
  {
   "cell_type": "markdown",
   "metadata": {},
   "source": [
    "### Calculate number of pixels in area of interest"
   ]
  },
  {
   "cell_type": "code",
   "execution_count": null,
   "metadata": {
    "ExecuteTime": {
     "start_time": "2019-02-19T04:39:08.558Z"
    }
   },
   "outputs": [],
   "source": [
    "#number of pixels in area of interest\n",
    "pixels = (mask_xr==0).sum(dim=['x','y'])"
   ]
  },
  {
   "cell_type": "code",
   "execution_count": null,
   "metadata": {
    "ExecuteTime": {
     "start_time": "2019-02-19T04:39:08.560Z"
    }
   },
   "outputs": [],
   "source": [
    "mask_xr==0\n",
    "mask_xr.count(dim=['x','y'])"
   ]
  },
  {
   "cell_type": "code",
   "execution_count": null,
   "metadata": {
    "ExecuteTime": {
     "start_time": "2019-02-19T04:39:08.563Z"
    }
   },
   "outputs": [],
   "source": [
    "#count number of wofs pixels\n",
    "wofs_pixels = wetwofl.water.sum(dim=['x','y'])\n",
    "\n",
    "#count percentage of area of wofs\n",
    "wofs_area_percent = (wofs_pixels/pixels)*100\n",
    "\n",
    "#count number of tcw pixels\n",
    "tcw_pixel_count = tcw.sum(dim=['x','y'])\n",
    "\n",
    "#calculate percentage area wet\n",
    "tcw_area_percent = (tcw_pixel_count/pixels)*100\n",
    "\n",
    "#calculate wet not wofs\n",
    "tcw_less_wofs = tcw_area_percent-wofs_area_percent"
   ]
  },
  {
   "cell_type": "markdown",
   "metadata": {},
   "source": [
    "### Calculate the dominant fraction for each pixel in Fractional Cover"
   ]
  },
  {
   "cell_type": "code",
   "execution_count": null,
   "metadata": {
    "ExecuteTime": {
     "start_time": "2019-02-19T04:39:08.566Z"
    }
   },
   "outputs": [],
   "source": [
    "#drop data percentage and Unmixing Error\n",
    "fc_tester = fc_ds_noTCW.drop(['data_perc','UE'])\n",
    "\n",
    "#following robbi's advice, cast the dataset to a dataarray\n",
    "maxFC = fc_tester.to_array(dim='variable', name='maxFC')\n",
    "\n",
    "#turn FC array into integer only as nanargmax doesn't seem to handle floats the way we want it to\n",
    "FC_int = maxFC.astype('int8')\n",
    "\n",
    "#use numpy.nanargmax to get the index of the maximum value along the variable dimension\n",
    "#BSPVNPV=np.nanargmax(FC_int, axis=0)\n",
    "BSPVNPV=FC_int.argmax(dim='variable')\n",
    "\n",
    "FC_mask=xr.ufuncs.isfinite(maxFC).all(dim='variable')\n",
    "\n",
    "# #re-mask with nans to remove no-data\n",
    "BSPVNPV=BSPVNPV.where(FC_mask)"
   ]
  },
  {
   "cell_type": "code",
   "execution_count": null,
   "metadata": {
    "ExecuteTime": {
     "start_time": "2019-02-19T04:39:08.571Z"
    }
   },
   "outputs": [],
   "source": [
    "#plot the results to check they look roughly like what we are expecting\n",
    "plt.clf()\n",
    "plt.imshow(BSPVNPV[2])\n",
    "plt.colorbar()"
   ]
  },
  {
   "cell_type": "code",
   "execution_count": null,
   "metadata": {
    "ExecuteTime": {
     "start_time": "2019-02-19T04:39:08.574Z"
    }
   },
   "outputs": [],
   "source": [
    "FC_dominant = xr.Dataset({\n",
    "    'BS': (BSPVNPV==0).where(FC_mask),\n",
    "    'PV': (BSPVNPV==1).where(FC_mask),\n",
    "    'NPV': (BSPVNPV==2).where(FC_mask),\n",
    "})"
   ]
  },
  {
   "cell_type": "code",
   "execution_count": null,
   "metadata": {
    "ExecuteTime": {
     "start_time": "2019-02-19T04:39:08.576Z"
    }
   },
   "outputs": [],
   "source": [
    "FC_count = FC_dominant.sum(dim=['x','y'])"
   ]
  },
  {
   "cell_type": "code",
   "execution_count": null,
   "metadata": {
    "ExecuteTime": {
     "start_time": "2019-02-19T04:39:08.579Z"
    }
   },
   "outputs": [],
   "source": [
    "#Fractional cover pixel count method\n",
    "#Get number of FC pixels, divide by total number of pixels per polygon\n",
    "\n",
    "Bare_soil_percent=(FC_count.BS/pixels)*100\n",
    "\n",
    "Photosynthetic_veg_percent=(FC_count.PV/pixels)*100\n",
    "\n",
    "NonPhotosynthetic_veg_percent=(FC_count.NPV/pixels)*100\n",
    "\n",
    "NoData = 100 - wofs_area_percent- tcw_less_wofs - Photosynthetic_veg_percent - NonPhotosynthetic_veg_percent - Bare_soil_percent"
   ]
  },
  {
   "cell_type": "code",
   "execution_count": null,
   "metadata": {
    "ExecuteTime": {
     "start_time": "2019-02-19T04:39:08.583Z"
    }
   },
   "outputs": [],
   "source": [
    "query['time'][0]"
   ]
  },
  {
   "cell_type": "code",
   "execution_count": null,
   "metadata": {
    "ExecuteTime": {
     "start_time": "2019-02-19T04:39:08.585Z"
    },
    "scrolled": false
   },
   "outputs": [],
   "source": [
    "#set up color palette\n",
    "pal = [sns.xkcd_rgb[\"cobalt blue\"],\n",
    "       sns.xkcd_rgb[\"neon blue\"],\n",
    "       sns.xkcd_rgb[\"grass\"],\n",
    "       sns.xkcd_rgb[\"beige\"],\n",
    "       sns.xkcd_rgb[\"brown\"]]#,\n",
    "      #sns.xkcd_rgb[\"grey\"]]\n",
    "\n",
    "#make a stacked area plot\n",
    "plt.clf()\n",
    "plt.figure(figsize = (12,6))\n",
    "plt.stackplot(wofs_area_percent.time.values, \n",
    "              wofs_area_percent, \n",
    "              tcw_less_wofs, \n",
    "              Photosynthetic_veg_percent, \n",
    "              NonPhotosynthetic_veg_percent,\n",
    "              Bare_soil_percent,\n",
    "              NoData,\n",
    "              labels=['open water',\n",
    "                      'wet',\n",
    "                      'PV',\n",
    "                      'NPV',\n",
    "                      'BS'#,\n",
    "                      #'NoData'\n",
    "                     ], colors=pal, alpha = 0.6)\n",
    "\n",
    "plt.title('Percentage of area WOfS, Wetness, Fractional Cover')\n",
    "\n",
    "#set axis limits to the min and max\n",
    "plt.axis(xmin = query['time'][0], xmax = query['time'][1], ymin = 0, ymax = 100)\n",
    "\n",
    "#set date ticks every year\n",
    "years = mdates.YearLocator(2)\n",
    "yearsFmt = mdates.DateFormatter('%Y')\n",
    "ax = plt.gca()\n",
    "ax.xaxis.set_major_locator(years)\n",
    "ax.xaxis.set_major_formatter(yearsFmt)\n",
    "\n",
    "#add a legend and a tight plot box\n",
    "plt.legend(loc='upper right')\n",
    "plt.tight_layout()\n",
    "\n",
    "#save the figure\n",
    "#plt.savefig('/g/data/r78/rjd547/SA_mound_springs/Big_Blythe_small_all2.png')#, transparent=True)\n",
    "plt.show()"
   ]
  },
  {
   "cell_type": "code",
   "execution_count": null,
   "metadata": {},
   "outputs": [],
   "source": []
  },
  {
   "cell_type": "code",
   "execution_count": null,
   "metadata": {},
   "outputs": [],
   "source": []
  }
 ],
 "metadata": {
  "celltoolbar": "Raw Cell Format",
  "kernelspec": {
   "display_name": "Python [default]",
   "language": "python",
   "name": "python3"
  },
  "language_info": {
   "codemirror_mode": {
    "name": "ipython",
    "version": 3
   },
   "file_extension": ".py",
   "mimetype": "text/x-python",
   "name": "python",
   "nbconvert_exporter": "python",
   "pygments_lexer": "ipython3",
   "version": "3.6.6"
  },
  "widgets": {
   "application/vnd.jupyter.widget-state+json": {
    "state": {},
    "version_major": 2,
    "version_minor": 0
   }
  }
 },
 "nbformat": 4,
 "nbformat_minor": 2
}
