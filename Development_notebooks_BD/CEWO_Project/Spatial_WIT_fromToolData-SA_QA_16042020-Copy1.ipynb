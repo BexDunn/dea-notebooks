{
 "cells": [
  {
   "cell_type": "markdown",
   "metadata": {},
   "source": [
    "<!-- ## import the csv of data from a Wetlands Insight Tool plot\n",
    "## render the graph\n",
    "## select the time of interest\n",
    "## plot the spatial distribution of the WIT classification for the time of interest -->\n"
   ]
  },
  {
   "cell_type": "markdown",
   "metadata": {},
   "source": [
    "# Output Spatial Wetlands Insight Maps based off existing Wetlands Insight Tool data\n",
    "\n",
    "- import csv of a given WIT output\n",
    "- render graph\n",
    "- select point on graph \n",
    "- plot spatial wit for point\n",
    "- output to GeoTiff"
   ]
  },
  {
   "cell_type": "code",
   "execution_count": 1,
   "metadata": {},
   "outputs": [],
   "source": [
    " %matplotlib widget"
   ]
  },
  {
   "cell_type": "code",
   "execution_count": 2,
   "metadata": {},
   "outputs": [
    {
     "data": {
      "text/html": [
       "\n",
       "    <div class=\"bk-root\">\n",
       "        <a href=\"https://bokeh.org\" target=\"_blank\" class=\"bk-logo bk-logo-small bk-logo-notebook\"></a>\n",
       "        <span id=\"1001\">Loading BokehJS ...</span>\n",
       "    </div>"
      ]
     },
     "metadata": {},
     "output_type": "display_data"
    },
    {
     "data": {
      "application/javascript": [
       "\n",
       "(function(root) {\n",
       "  function now() {\n",
       "    return new Date();\n",
       "  }\n",
       "\n",
       "  var force = true;\n",
       "\n",
       "  if (typeof root._bokeh_onload_callbacks === \"undefined\" || force === true) {\n",
       "    root._bokeh_onload_callbacks = [];\n",
       "    root._bokeh_is_loading = undefined;\n",
       "  }\n",
       "\n",
       "  var JS_MIME_TYPE = 'application/javascript';\n",
       "  var HTML_MIME_TYPE = 'text/html';\n",
       "  var EXEC_MIME_TYPE = 'application/vnd.bokehjs_exec.v0+json';\n",
       "  var CLASS_NAME = 'output_bokeh rendered_html';\n",
       "\n",
       "  /**\n",
       "   * Render data to the DOM node\n",
       "   */\n",
       "  function render(props, node) {\n",
       "    var script = document.createElement(\"script\");\n",
       "    node.appendChild(script);\n",
       "  }\n",
       "\n",
       "  /**\n",
       "   * Handle when an output is cleared or removed\n",
       "   */\n",
       "  function handleClearOutput(event, handle) {\n",
       "    var cell = handle.cell;\n",
       "\n",
       "    var id = cell.output_area._bokeh_element_id;\n",
       "    var server_id = cell.output_area._bokeh_server_id;\n",
       "    // Clean up Bokeh references\n",
       "    if (id != null && id in Bokeh.index) {\n",
       "      Bokeh.index[id].model.document.clear();\n",
       "      delete Bokeh.index[id];\n",
       "    }\n",
       "\n",
       "    if (server_id !== undefined) {\n",
       "      // Clean up Bokeh references\n",
       "      var cmd = \"from bokeh.io.state import curstate; print(curstate().uuid_to_server['\" + server_id + \"'].get_sessions()[0].document.roots[0]._id)\";\n",
       "      cell.notebook.kernel.execute(cmd, {\n",
       "        iopub: {\n",
       "          output: function(msg) {\n",
       "            var id = msg.content.text.trim();\n",
       "            if (id in Bokeh.index) {\n",
       "              Bokeh.index[id].model.document.clear();\n",
       "              delete Bokeh.index[id];\n",
       "            }\n",
       "          }\n",
       "        }\n",
       "      });\n",
       "      // Destroy server and session\n",
       "      var cmd = \"import bokeh.io.notebook as ion; ion.destroy_server('\" + server_id + \"')\";\n",
       "      cell.notebook.kernel.execute(cmd);\n",
       "    }\n",
       "  }\n",
       "\n",
       "  /**\n",
       "   * Handle when a new output is added\n",
       "   */\n",
       "  function handleAddOutput(event, handle) {\n",
       "    var output_area = handle.output_area;\n",
       "    var output = handle.output;\n",
       "\n",
       "    // limit handleAddOutput to display_data with EXEC_MIME_TYPE content only\n",
       "    if ((output.output_type != \"display_data\") || (!output.data.hasOwnProperty(EXEC_MIME_TYPE))) {\n",
       "      return\n",
       "    }\n",
       "\n",
       "    var toinsert = output_area.element.find(\".\" + CLASS_NAME.split(' ')[0]);\n",
       "\n",
       "    if (output.metadata[EXEC_MIME_TYPE][\"id\"] !== undefined) {\n",
       "      toinsert[toinsert.length - 1].firstChild.textContent = output.data[JS_MIME_TYPE];\n",
       "      // store reference to embed id on output_area\n",
       "      output_area._bokeh_element_id = output.metadata[EXEC_MIME_TYPE][\"id\"];\n",
       "    }\n",
       "    if (output.metadata[EXEC_MIME_TYPE][\"server_id\"] !== undefined) {\n",
       "      var bk_div = document.createElement(\"div\");\n",
       "      bk_div.innerHTML = output.data[HTML_MIME_TYPE];\n",
       "      var script_attrs = bk_div.children[0].attributes;\n",
       "      for (var i = 0; i < script_attrs.length; i++) {\n",
       "        toinsert[toinsert.length - 1].firstChild.setAttribute(script_attrs[i].name, script_attrs[i].value);\n",
       "      }\n",
       "      // store reference to server id on output_area\n",
       "      output_area._bokeh_server_id = output.metadata[EXEC_MIME_TYPE][\"server_id\"];\n",
       "    }\n",
       "  }\n",
       "\n",
       "  function register_renderer(events, OutputArea) {\n",
       "\n",
       "    function append_mime(data, metadata, element) {\n",
       "      // create a DOM node to render to\n",
       "      var toinsert = this.create_output_subarea(\n",
       "        metadata,\n",
       "        CLASS_NAME,\n",
       "        EXEC_MIME_TYPE\n",
       "      );\n",
       "      this.keyboard_manager.register_events(toinsert);\n",
       "      // Render to node\n",
       "      var props = {data: data, metadata: metadata[EXEC_MIME_TYPE]};\n",
       "      render(props, toinsert[toinsert.length - 1]);\n",
       "      element.append(toinsert);\n",
       "      return toinsert\n",
       "    }\n",
       "\n",
       "    /* Handle when an output is cleared or removed */\n",
       "    events.on('clear_output.CodeCell', handleClearOutput);\n",
       "    events.on('delete.Cell', handleClearOutput);\n",
       "\n",
       "    /* Handle when a new output is added */\n",
       "    events.on('output_added.OutputArea', handleAddOutput);\n",
       "\n",
       "    /**\n",
       "     * Register the mime type and append_mime function with output_area\n",
       "     */\n",
       "    OutputArea.prototype.register_mime_type(EXEC_MIME_TYPE, append_mime, {\n",
       "      /* Is output safe? */\n",
       "      safe: true,\n",
       "      /* Index of renderer in `output_area.display_order` */\n",
       "      index: 0\n",
       "    });\n",
       "  }\n",
       "\n",
       "  // register the mime type if in Jupyter Notebook environment and previously unregistered\n",
       "  if (root.Jupyter !== undefined) {\n",
       "    var events = require('base/js/events');\n",
       "    var OutputArea = require('notebook/js/outputarea').OutputArea;\n",
       "\n",
       "    if (OutputArea.prototype.mime_types().indexOf(EXEC_MIME_TYPE) == -1) {\n",
       "      register_renderer(events, OutputArea);\n",
       "    }\n",
       "  }\n",
       "\n",
       "  \n",
       "  if (typeof (root._bokeh_timeout) === \"undefined\" || force === true) {\n",
       "    root._bokeh_timeout = Date.now() + 5000;\n",
       "    root._bokeh_failed_load = false;\n",
       "  }\n",
       "\n",
       "  var NB_LOAD_WARNING = {'data': {'text/html':\n",
       "     \"<div style='background-color: #fdd'>\\n\"+\n",
       "     \"<p>\\n\"+\n",
       "     \"BokehJS does not appear to have successfully loaded. If loading BokehJS from CDN, this \\n\"+\n",
       "     \"may be due to a slow or bad network connection. Possible fixes:\\n\"+\n",
       "     \"</p>\\n\"+\n",
       "     \"<ul>\\n\"+\n",
       "     \"<li>re-rerun `output_notebook()` to attempt to load from CDN again, or</li>\\n\"+\n",
       "     \"<li>use INLINE resources instead, as so:</li>\\n\"+\n",
       "     \"</ul>\\n\"+\n",
       "     \"<code>\\n\"+\n",
       "     \"from bokeh.resources import INLINE\\n\"+\n",
       "     \"output_notebook(resources=INLINE)\\n\"+\n",
       "     \"</code>\\n\"+\n",
       "     \"</div>\"}};\n",
       "\n",
       "  function display_loaded() {\n",
       "    var el = document.getElementById(\"1001\");\n",
       "    if (el != null) {\n",
       "      el.textContent = \"BokehJS is loading...\";\n",
       "    }\n",
       "    if (root.Bokeh !== undefined) {\n",
       "      if (el != null) {\n",
       "        el.textContent = \"BokehJS \" + root.Bokeh.version + \" successfully loaded.\";\n",
       "      }\n",
       "    } else if (Date.now() < root._bokeh_timeout) {\n",
       "      setTimeout(display_loaded, 100)\n",
       "    }\n",
       "  }\n",
       "\n",
       "\n",
       "  function run_callbacks() {\n",
       "    try {\n",
       "      root._bokeh_onload_callbacks.forEach(function(callback) {\n",
       "        if (callback != null)\n",
       "          callback();\n",
       "      });\n",
       "    } finally {\n",
       "      delete root._bokeh_onload_callbacks\n",
       "    }\n",
       "    console.debug(\"Bokeh: all callbacks have finished\");\n",
       "  }\n",
       "\n",
       "  function load_libs(css_urls, js_urls, callback) {\n",
       "    if (css_urls == null) css_urls = [];\n",
       "    if (js_urls == null) js_urls = [];\n",
       "\n",
       "    root._bokeh_onload_callbacks.push(callback);\n",
       "    if (root._bokeh_is_loading > 0) {\n",
       "      console.debug(\"Bokeh: BokehJS is being loaded, scheduling callback at\", now());\n",
       "      return null;\n",
       "    }\n",
       "    if (js_urls == null || js_urls.length === 0) {\n",
       "      run_callbacks();\n",
       "      return null;\n",
       "    }\n",
       "    console.debug(\"Bokeh: BokehJS not loaded, scheduling load and callback at\", now());\n",
       "    root._bokeh_is_loading = css_urls.length + js_urls.length;\n",
       "\n",
       "    function on_load() {\n",
       "      root._bokeh_is_loading--;\n",
       "      if (root._bokeh_is_loading === 0) {\n",
       "        console.debug(\"Bokeh: all BokehJS libraries/stylesheets loaded\");\n",
       "        run_callbacks()\n",
       "      }\n",
       "    }\n",
       "\n",
       "    function on_error() {\n",
       "      console.error(\"failed to load \" + url);\n",
       "    }\n",
       "\n",
       "    for (var i = 0; i < css_urls.length; i++) {\n",
       "      var url = css_urls[i];\n",
       "      const element = document.createElement(\"link\");\n",
       "      element.onload = on_load;\n",
       "      element.onerror = on_error;\n",
       "      element.rel = \"stylesheet\";\n",
       "      element.type = \"text/css\";\n",
       "      element.href = url;\n",
       "      console.debug(\"Bokeh: injecting link tag for BokehJS stylesheet: \", url);\n",
       "      document.body.appendChild(element);\n",
       "    }\n",
       "\n",
       "    for (var i = 0; i < js_urls.length; i++) {\n",
       "      var url = js_urls[i];\n",
       "      var element = document.createElement('script');\n",
       "      element.onload = on_load;\n",
       "      element.onerror = on_error;\n",
       "      element.async = false;\n",
       "      element.src = url;\n",
       "      console.debug(\"Bokeh: injecting script tag for BokehJS library: \", url);\n",
       "      document.head.appendChild(element);\n",
       "    }\n",
       "  };var element = document.getElementById(\"1001\");\n",
       "  if (element == null) {\n",
       "    console.error(\"Bokeh: ERROR: autoload.js configured with elementid '1001' but no matching script tag was found. \")\n",
       "    return false;\n",
       "  }\n",
       "\n",
       "  function inject_raw_css(css) {\n",
       "    const element = document.createElement(\"style\");\n",
       "    element.appendChild(document.createTextNode(css));\n",
       "    document.body.appendChild(element);\n",
       "  }\n",
       "\n",
       "  \n",
       "  var js_urls = [\"https://cdn.pydata.org/bokeh/release/bokeh-1.4.0.min.js\", \"https://cdn.pydata.org/bokeh/release/bokeh-widgets-1.4.0.min.js\", \"https://cdn.pydata.org/bokeh/release/bokeh-tables-1.4.0.min.js\", \"https://cdn.pydata.org/bokeh/release/bokeh-gl-1.4.0.min.js\"];\n",
       "  var css_urls = [];\n",
       "  \n",
       "\n",
       "  var inline_js = [\n",
       "    function(Bokeh) {\n",
       "      Bokeh.set_log_level(\"info\");\n",
       "    },\n",
       "    function(Bokeh) {\n",
       "    \n",
       "    \n",
       "    }\n",
       "  ];\n",
       "\n",
       "  function run_inline_js() {\n",
       "    \n",
       "    if (root.Bokeh !== undefined || force === true) {\n",
       "      \n",
       "    for (var i = 0; i < inline_js.length; i++) {\n",
       "      inline_js[i].call(root, root.Bokeh);\n",
       "    }\n",
       "    if (force === true) {\n",
       "        display_loaded();\n",
       "      }} else if (Date.now() < root._bokeh_timeout) {\n",
       "      setTimeout(run_inline_js, 100);\n",
       "    } else if (!root._bokeh_failed_load) {\n",
       "      console.log(\"Bokeh: BokehJS failed to load within specified timeout.\");\n",
       "      root._bokeh_failed_load = true;\n",
       "    } else if (force !== true) {\n",
       "      var cell = $(document.getElementById(\"1001\")).parents('.cell').data().cell;\n",
       "      cell.output_area.append_execute_result(NB_LOAD_WARNING)\n",
       "    }\n",
       "\n",
       "  }\n",
       "\n",
       "  if (root._bokeh_is_loading === 0) {\n",
       "    console.debug(\"Bokeh: BokehJS loaded, going straight to plotting\");\n",
       "    run_inline_js();\n",
       "  } else {\n",
       "    load_libs(css_urls, js_urls, function() {\n",
       "      console.debug(\"Bokeh: BokehJS plotting callback run at\", now());\n",
       "      run_inline_js();\n",
       "    });\n",
       "  }\n",
       "}(window));"
      ],
      "application/vnd.bokehjs_load.v0+json": "\n(function(root) {\n  function now() {\n    return new Date();\n  }\n\n  var force = true;\n\n  if (typeof root._bokeh_onload_callbacks === \"undefined\" || force === true) {\n    root._bokeh_onload_callbacks = [];\n    root._bokeh_is_loading = undefined;\n  }\n\n  \n\n  \n  if (typeof (root._bokeh_timeout) === \"undefined\" || force === true) {\n    root._bokeh_timeout = Date.now() + 5000;\n    root._bokeh_failed_load = false;\n  }\n\n  var NB_LOAD_WARNING = {'data': {'text/html':\n     \"<div style='background-color: #fdd'>\\n\"+\n     \"<p>\\n\"+\n     \"BokehJS does not appear to have successfully loaded. If loading BokehJS from CDN, this \\n\"+\n     \"may be due to a slow or bad network connection. Possible fixes:\\n\"+\n     \"</p>\\n\"+\n     \"<ul>\\n\"+\n     \"<li>re-rerun `output_notebook()` to attempt to load from CDN again, or</li>\\n\"+\n     \"<li>use INLINE resources instead, as so:</li>\\n\"+\n     \"</ul>\\n\"+\n     \"<code>\\n\"+\n     \"from bokeh.resources import INLINE\\n\"+\n     \"output_notebook(resources=INLINE)\\n\"+\n     \"</code>\\n\"+\n     \"</div>\"}};\n\n  function display_loaded() {\n    var el = document.getElementById(\"1001\");\n    if (el != null) {\n      el.textContent = \"BokehJS is loading...\";\n    }\n    if (root.Bokeh !== undefined) {\n      if (el != null) {\n        el.textContent = \"BokehJS \" + root.Bokeh.version + \" successfully loaded.\";\n      }\n    } else if (Date.now() < root._bokeh_timeout) {\n      setTimeout(display_loaded, 100)\n    }\n  }\n\n\n  function run_callbacks() {\n    try {\n      root._bokeh_onload_callbacks.forEach(function(callback) {\n        if (callback != null)\n          callback();\n      });\n    } finally {\n      delete root._bokeh_onload_callbacks\n    }\n    console.debug(\"Bokeh: all callbacks have finished\");\n  }\n\n  function load_libs(css_urls, js_urls, callback) {\n    if (css_urls == null) css_urls = [];\n    if (js_urls == null) js_urls = [];\n\n    root._bokeh_onload_callbacks.push(callback);\n    if (root._bokeh_is_loading > 0) {\n      console.debug(\"Bokeh: BokehJS is being loaded, scheduling callback at\", now());\n      return null;\n    }\n    if (js_urls == null || js_urls.length === 0) {\n      run_callbacks();\n      return null;\n    }\n    console.debug(\"Bokeh: BokehJS not loaded, scheduling load and callback at\", now());\n    root._bokeh_is_loading = css_urls.length + js_urls.length;\n\n    function on_load() {\n      root._bokeh_is_loading--;\n      if (root._bokeh_is_loading === 0) {\n        console.debug(\"Bokeh: all BokehJS libraries/stylesheets loaded\");\n        run_callbacks()\n      }\n    }\n\n    function on_error() {\n      console.error(\"failed to load \" + url);\n    }\n\n    for (var i = 0; i < css_urls.length; i++) {\n      var url = css_urls[i];\n      const element = document.createElement(\"link\");\n      element.onload = on_load;\n      element.onerror = on_error;\n      element.rel = \"stylesheet\";\n      element.type = \"text/css\";\n      element.href = url;\n      console.debug(\"Bokeh: injecting link tag for BokehJS stylesheet: \", url);\n      document.body.appendChild(element);\n    }\n\n    for (var i = 0; i < js_urls.length; i++) {\n      var url = js_urls[i];\n      var element = document.createElement('script');\n      element.onload = on_load;\n      element.onerror = on_error;\n      element.async = false;\n      element.src = url;\n      console.debug(\"Bokeh: injecting script tag for BokehJS library: \", url);\n      document.head.appendChild(element);\n    }\n  };var element = document.getElementById(\"1001\");\n  if (element == null) {\n    console.error(\"Bokeh: ERROR: autoload.js configured with elementid '1001' but no matching script tag was found. \")\n    return false;\n  }\n\n  function inject_raw_css(css) {\n    const element = document.createElement(\"style\");\n    element.appendChild(document.createTextNode(css));\n    document.body.appendChild(element);\n  }\n\n  \n  var js_urls = [\"https://cdn.pydata.org/bokeh/release/bokeh-1.4.0.min.js\", \"https://cdn.pydata.org/bokeh/release/bokeh-widgets-1.4.0.min.js\", \"https://cdn.pydata.org/bokeh/release/bokeh-tables-1.4.0.min.js\", \"https://cdn.pydata.org/bokeh/release/bokeh-gl-1.4.0.min.js\"];\n  var css_urls = [];\n  \n\n  var inline_js = [\n    function(Bokeh) {\n      Bokeh.set_log_level(\"info\");\n    },\n    function(Bokeh) {\n    \n    \n    }\n  ];\n\n  function run_inline_js() {\n    \n    if (root.Bokeh !== undefined || force === true) {\n      \n    for (var i = 0; i < inline_js.length; i++) {\n      inline_js[i].call(root, root.Bokeh);\n    }\n    if (force === true) {\n        display_loaded();\n      }} else if (Date.now() < root._bokeh_timeout) {\n      setTimeout(run_inline_js, 100);\n    } else if (!root._bokeh_failed_load) {\n      console.log(\"Bokeh: BokehJS failed to load within specified timeout.\");\n      root._bokeh_failed_load = true;\n    } else if (force !== true) {\n      var cell = $(document.getElementById(\"1001\")).parents('.cell').data().cell;\n      cell.output_area.append_execute_result(NB_LOAD_WARNING)\n    }\n\n  }\n\n  if (root._bokeh_is_loading === 0) {\n    console.debug(\"Bokeh: BokehJS loaded, going straight to plotting\");\n    run_inline_js();\n  } else {\n    load_libs(css_urls, js_urls, function() {\n      console.debug(\"Bokeh: BokehJS plotting callback run at\", now());\n      run_inline_js();\n    });\n  }\n}(window));"
     },
     "metadata": {},
     "output_type": "display_data"
    }
   ],
   "source": [
    "#run bokeh\n",
    "from bokeh.plotting import figure,show\n",
    "from bokeh.io import output_notebook #outputs bokeh to notebook\n",
    "output_notebook() #this is the command to tell bokeh to output into the jupyterlab notebook"
   ]
  },
  {
   "cell_type": "markdown",
   "metadata": {},
   "source": [
    "### Import useful libraries"
   ]
  },
  {
   "cell_type": "code",
   "execution_count": 3,
   "metadata": {},
   "outputs": [
    {
     "name": "stdout",
     "output_type": "stream",
     "text": [
      "The autoreload extension is already loaded. To reload it, use:\n",
      "  %reload_ext autoreload\n"
     ]
    }
   ],
   "source": [
    "import datacube\n",
    "import datetime\n",
    "import fiona\n",
    "import geopandas as gpd\n",
    "import os\n",
    "import glob\n",
    "import numpy as np\n",
    "import pandas as pd\n",
    "\n",
    "import rasterio.mask\n",
    "import rasterio.features\n",
    "import seaborn as sns\n",
    "from shapely import geometry\n",
    "import sys\n",
    "import xarray as xr\n",
    "\n",
    "from datetime import datetime, timedelta\n",
    "import matplotlib.dates as mdates\n",
    "import matplotlib.gridspec as gridspec\n",
    "import matplotlib.pyplot as plt\n",
    "from matplotlib.patches import Rectangle\n",
    "from textwrap import wrap\n",
    "\n",
    "from datacube.storage import masking\n",
    "from datacube.utils import geometry\n",
    "from datacube.utils.geometry import CRS\n",
    "from digitalearthau.utils import wofs_fuser\n",
    "\n",
    "\n",
    "dc = datacube.Datacube(app='wetlands insight tool')\n",
    "%load_ext autoreload\n",
    "%autoreload 2\n",
    "\n",
    "# there are functions in here you need\n",
    "sys.path.append('/g/data/r78/rjd547/jupyter_notebooks/dea-notebooks/10_Scripts')\n",
    "import DEADataHandling, DEAPlotting, TasseledCapTools, WetlandsTools, SpatialTools, wetlands_insight\n",
    "\n",
    "#get the newest version of dea_datahandling. You may need to move the pointer below to your version\n",
    "sys.path.append('/g/data/r78/rjd547/jupyter_notebooks/dea-notebooks/Scripts')\n",
    "import dea_datahandling\n",
    "\n",
    "dc = datacube.Datacube(app='wetlands insight tool')\n",
    "%load_ext autoreload\n",
    "%autoreload 2"
   ]
  },
  {
   "cell_type": "code",
   "execution_count": 25,
   "metadata": {},
   "outputs": [],
   "source": [
    "#set input directory\n",
    "# global Input_dir\n",
    "#Input_dir = '/g/data/r78/rjd547/Ramsar_Wetlands/Wetlands_Insight_Tool_v2/'\n",
    "#lake hattah test\n",
    "#Input_dir = '/g/data/u46/users/ea6141/wlinsight/ramsar/test/'\n",
    "\n",
    "Input_dir = '/g/data1a/u46/users/ea6141/wlinsight/sadew/results/'\n"
   ]
  },
  {
   "cell_type": "markdown",
   "metadata": {},
   "source": [
    "### list available sites to plot"
   ]
  },
  {
   "cell_type": "code",
   "execution_count": 26,
   "metadata": {},
   "outputs": [],
   "source": [
    "#change to the input directory\n",
    "os.chdir(Input_dir)"
   ]
  },
  {
   "cell_type": "code",
   "execution_count": 27,
   "metadata": {},
   "outputs": [
    {
     "name": "stdout",
     "output_type": "stream",
     "text": [
      "59_Lake Cantara North.png\n",
      "59_Lake Cantara North.csv\n"
     ]
    }
   ],
   "source": [
    "#print all files\n",
    "for file in glob.glob(\"*.*\"):\n",
    "    print(file)  "
   ]
  },
  {
   "cell_type": "markdown",
   "metadata": {},
   "source": [
    "to use Emma's Ramsar runs, go to http://terria-cube.terria.io/#share=s-kdYVC1Nmf22OUh3fDa5fYSOOO1K and use the filename of the csv file you can download to work out which of these is your wetland of choice"
   ]
  },
  {
   "cell_type": "code",
   "execution_count": 28,
   "metadata": {},
   "outputs": [],
   "source": [
    "#alternatively, print the files you want only\n",
    "search_term = '59'\n",
    "for file in glob.glob(f\"{search_term}.csv\"):\n",
    "    print(file)"
   ]
  },
  {
   "cell_type": "code",
   "execution_count": 29,
   "metadata": {},
   "outputs": [
    {
     "name": "stdout",
     "output_type": "stream",
     "text": [
      "59_Lake Cantara North.csv\n"
     ]
    }
   ],
   "source": [
    "input_file = '59_Lake Cantara North.csv'\n",
    "print(input_file)"
   ]
  },
  {
   "cell_type": "code",
   "execution_count": 33,
   "metadata": {},
   "outputs": [],
   "source": [
    "#read in your desired csv of the WIT data. Rename the columns so they are easier to understand and plot \n",
    "WITdata = pd.read_csv(Input_dir+input_file,\n",
    "                     index_col=0, infer_datetime_format=True)\n",
    "\n",
    "#give the index a name that reflects that it is time, measured in UTC not AEDT/AEST\n",
    "WITdata.index.names = ['utc_time']\n",
    "\n",
    "#format the index of the dataframe as a date, not as a string\n",
    "WITdata.index = pd.to_datetime(WITdata.index)\n",
    "#Rename the columns so they are easier to understand and plot\n",
    "WITdata = WITdata.rename(columns={\"WATER\" : \"water\", \n",
    "                        \"WET\" : \"wet\",\n",
    "                       \"PV\" : \"green\",\n",
    "                       \"NPV\" : \"dry\",\n",
    "                       \"BS\" : \"bare\"}) \n",
    "#WITdata.head()"
   ]
  },
  {
   "cell_type": "code",
   "execution_count": 34,
   "metadata": {},
   "outputs": [],
   "source": [
    "#converting to percentages to make plotting easier\n",
    "WITdata = WITdata*100\n",
    "#WITdata.head()"
   ]
  },
  {
   "cell_type": "code",
   "execution_count": 42,
   "metadata": {},
   "outputs": [],
   "source": [
    "#set up colour palette for our plots\n",
    "pal = [sns.xkcd_rgb[\"cobalt blue\"],\n",
    "       sns.xkcd_rgb[\"neon blue\"],\n",
    "       sns.xkcd_rgb[\"grass\"],\n",
    "       sns.xkcd_rgb[\"beige\"],\n",
    "       sns.xkcd_rgb[\"brown\"]]  "
   ]
  },
  {
   "cell_type": "markdown",
   "metadata": {},
   "source": [
    "### Set up the title for the plot here:"
   ]
  },
  {
   "cell_type": "code",
   "execution_count": 36,
   "metadata": {},
   "outputs": [],
   "source": [
    "polyName = input_file #change this as appropriate"
   ]
  },
  {
   "cell_type": "code",
   "execution_count": 37,
   "metadata": {},
   "outputs": [],
   "source": [
    "# #take the name of the polygon and add something else to it\n",
    "# polyName=search_term+\"?\"\n",
    "# polyName=polyName.replace(\"'\",\"\\\\'\")\n",
    "# title=\"\\n\".join(wrap(f'Percentage of area WOfS, Wetness, Fractional Cover for {polyName}'))"
   ]
  },
  {
   "cell_type": "code",
   "execution_count": 38,
   "metadata": {},
   "outputs": [
    {
     "data": {
      "text/html": [
       "\n",
       "\n",
       "\n",
       "\n",
       "\n",
       "\n",
       "  <div class=\"bk-root\" id=\"45071e7b-b376-4c0d-830f-a96f40775b3a\" data-root-id=\"1002\"></div>\n"
      ]
     },
     "metadata": {},
     "output_type": "display_data"
    },
    {
     "data": {
      "application/javascript": [
       "(function(root) {\n",
       "  function embed_document(root) {\n",
       "    \n",
       "  var docs_json = {\"cc9cc5f1-3f35-40e6-b07f-1183a8237682\":{\"roots\":{\"references\":[{\"attributes\":{\"below\":[{\"id\":\"1013\",\"type\":\"DatetimeAxis\"},{\"id\":\"1036\",\"type\":\"Label\"}],\"center\":[{\"id\":\"1017\",\"type\":\"Grid\"},{\"id\":\"1022\",\"type\":\"Grid\"},{\"id\":\"1073\",\"type\":\"Legend\"}],\"left\":[{\"id\":\"1018\",\"type\":\"LinearAxis\"}],\"plot_height\":400,\"plot_width\":1200,\"renderers\":[{\"id\":\"1054\",\"type\":\"GlyphRenderer\"},{\"id\":\"1080\",\"type\":\"GlyphRenderer\"},{\"id\":\"1107\",\"type\":\"GlyphRenderer\"},{\"id\":\"1136\",\"type\":\"GlyphRenderer\"},{\"id\":\"1167\",\"type\":\"GlyphRenderer\"},{\"id\":\"1200\",\"type\":\"GlyphRenderer\"}],\"sizing_mode\":\"scale_width\",\"title\":{\"id\":\"1003\",\"type\":\"Title\"},\"toolbar\":{\"id\":\"1029\",\"type\":\"Toolbar\"},\"x_range\":{\"id\":\"1195\",\"type\":\"Range1d\"},\"x_scale\":{\"id\":\"1009\",\"type\":\"LinearScale\"},\"y_range\":{\"id\":\"1196\",\"type\":\"Range1d\"},\"y_scale\":{\"id\":\"1011\",\"type\":\"LinearScale\"}},\"id\":\"1002\",\"subtype\":\"Figure\",\"type\":\"Plot\"},{\"attributes\":{\"source\":{\"id\":\"1075\",\"type\":\"ColumnDataSource\"}},\"id\":\"1081\",\"type\":\"CDSView\"},{\"attributes\":{\"fields\":[\"water\"]},\"id\":\"1041\",\"type\":\"Stack\"},{\"attributes\":{},\"id\":\"1228\",\"type\":\"UnionRenderers\"},{\"attributes\":{},\"id\":\"1099\",\"type\":\"Selection\"},{\"attributes\":{\"fields\":[\"water\",\"wet\"]},\"id\":\"1042\",\"type\":\"Stack\"},{\"attributes\":{\"fields\":[\"water\",\"wet\"]},\"id\":\"1043\",\"type\":\"Stack\"},{\"attributes\":{},\"id\":\"1229\",\"type\":\"Selection\"},{\"attributes\":{\"fields\":[\"water\",\"wet\",\"green\"]},\"id\":\"1044\",\"type\":\"Stack\"},{\"attributes\":{},\"id\":\"1158\",\"type\":\"UnionRenderers\"},{\"attributes\":{\"fill_alpha\":0.1,\"fill_color\":\"#1f77b4\",\"x\":{\"field\":\"utc_time\"},\"y1\":{\"expr\":{\"id\":\"1043\",\"type\":\"Stack\"}},\"y2\":{\"expr\":{\"id\":\"1044\",\"type\":\"Stack\"}}},\"id\":\"1105\",\"type\":\"VArea\"},{\"attributes\":{\"fields\":[\"water\",\"wet\",\"green\"]},\"id\":\"1045\",\"type\":\"Stack\"},{\"attributes\":{\"fill_alpha\":0.2,\"fill_color\":\"grey\",\"x\":{\"field\":\"utc_time\"},\"y1\":{\"expr\":{\"id\":\"1043\",\"type\":\"Stack\"}},\"y2\":{\"expr\":{\"id\":\"1044\",\"type\":\"Stack\"}}},\"id\":\"1106\",\"type\":\"VArea\"},{\"attributes\":{\"fill_alpha\":0.7,\"fill_color\":\"#5cac2d\",\"x\":{\"field\":\"utc_time\"},\"y1\":{\"expr\":{\"id\":\"1043\",\"type\":\"Stack\"}},\"y2\":{\"expr\":{\"id\":\"1044\",\"type\":\"Stack\"}}},\"id\":\"1104\",\"type\":\"VArea\"},{\"attributes\":{\"fields\":[\"water\",\"wet\",\"green\",\"dry\"]},\"id\":\"1046\",\"type\":\"Stack\"},{\"attributes\":{\"callback\":null,\"data\":{\"bare\":{\"__ndarray__\":\"4enW/LBIaT/XrFK0PO/qP5q4bATVM8Y/oZ63TdLt0j+Gdl9o8FG1P7YOjHHTnP4/neJNJoShwz9SuB6F61HUPzXGXf61mtM/KqHymHs1zD+7EURaL2DLPxymUO3mnq8/Hq1ob/1PoT82IRZk7UjbPzOm40fu7NQ//8Om0pBz3z/h1N2W92+tP6SAhJ9ciOo/AAAAAAAAAAAQ54V8YpHTPyjENq24d+4/LLTbZP4I1D+dyGxRq/HtPx7uggK559g/ec8kes8kCkDYWmuttdbqP26rKGv54ts/n+KLfnxo9T8PMHgs79XmP+w4juM4jtc/q95Dkeo9xD9TXTm3fkTgP9iZ1VP3luI/teMscvt50z/71Ufok9F9P6Oxi9c/b5A/ybe6ZFuW7j/YbydMILHnPygha1F7U+o/FbKQhSxk7z8FQ77HtNrmPwuOekLBreU/T2gvob2E1j/phGf6G3TTP3Yzmc1kNvM/mpmZmZmZyT/c3+U7OOn4P7WGv00xavA/fLo1PyxSFkBV6yCG0ywEQCFx2QiqZxBAwekkZOdn0D8IlH+8z9UBQN9ocl+FOQdAb6mDS3C24z8bTTHY7mbmP704638Me/o/Sgi60gB5+z+AfqCzMITUP9hMYTpWzeQ/zYkOBRjyAUA3juM4juMOQAAAAAAAAAAABogqaiJM4z9Wzdrb+dDzP1+kDDzdmglA1yCcpZK4CkDCzpNEMmkEQLG7X69MWwRA\",\"dtype\":\"float64\",\"shape\":[69]},\"dry\":{\"__ndarray__\":\"Ewz5HtNqyz/b2wWss/ARQOeFfI9ptb0/PVodsCDEEEDlCIhhw5TBP+mpSNMHhdU/Ml2OkVz/wD9I4XoUrsf0PwflunhDPfc/mpmZmZmZ+T/R5I1da2e/P9iy4OupSNM/gvzNl1E/+T8TWTvSNs8mQPPq0JLCm/k/sHR+GtvkCEBzE+07Qi64P2e+NHEYqwxAAAAAAAAAAAAv9AY73dgZQEa/GhPpGVJAokfViM7hBUBGZotajS8SQNtzrErS2BFA1NbW1tZWM0CBBRZYYGEgQAc2wCEYFSVA4HHWqkGAOkAK1P9amm8SQCbm7QyJ+RNAK9V7KFK9B0BytO4i7KsEQE4Ayyi1PBVAJD0sqHmOGEBnLexCQ5XZPwCSda48ILk/rnDwDCMeIEAroYa0vfIcQD6ht+d84VZAkSELWcidVkDUCKpn7OL1P9EnfdInfR5AeWt+WKTMOkAGul0rJxwxQL4sUQiadiFAKd9jWm1H0z94zpB18oISQLv+eYNwluI/oRl4ujXPVUDsBHa9masWQOeZmZmZSVZAy2PMEs1I1z+jQ0sKb2YnQCDG6583uFZAGLKy/mct9T+NuKzzSUT2P13gCnWX4xJAEGU+B1wLAUDgYXcfw1r2Px7hUzIeEhJA5W7ND4vUUkCobUeT+xpWQAAAAAAAAAAA87db09pcBEBc1cD3lBUTQIZQPWMXf1ZA3nrGLl5vVkABCeVQDdgdQAorFu8wmhNA\",\"dtype\":\"float64\",\"shape\":[69]},\"green\":{\"__ndarray__\":\"ZCOonrGLtz8sgmBDOhIAQOXp1vywSMk/EOhwpeBD9z8/63GUg53CP7g/O+/iEeA/eQsOSszAwj/hehSuR+HlP4u8wqgp3+Y/5W2/ZUgC6T9vicyUW0fGP8kJgUg+/sg/wne5F9xf4j9v2ckUnEsDQCKe00LEqeo/RGIlVmIl9j8hIRcMr1WrP5e6GbTsePg/AAAAAAAAAAD2Q2SsCqL6Pyn3TrLUEQxAKYmZCitC6j/82Fsbprn7Pz/7+9cm2P0/Z1VVVVVVKUC0yy677DILQAhuxMT6ugxAD8geLC5CGUCBBaC0DLIBQJxArV8pUAJACvFXW8fs8D88y+t5iNX3PwQrQlrTxgFAqVDY3RLiA0CGMe040NW+P4NwlkrisrE/Yd42Iwv0CkCSLE3tpmUJQM9vQBJB/hZACwAAAABAHkAkr3/eIJzxP5McMGjp/AxAi8RlI6ieGkC1Vk54pj8cQASebs0PixBAQL7HtNqO1j/3d/kOTjoGQAzmRIcCDPE/ArgpRg1/FkA8/ZdK8Z0LQGhyX4U50RRAIQWV/PGszj8Ww+z5M3wQQGk7mtxXYRNAwbAaLN2d7j+6Ug+kJxLzP/2HKmoiTAtA4lsmbROO+z/PBjdMqqnlP4+/PyZK+QNAntc/bxDOHEC3T/qkT/oYQAAAAAAAAAAAu3wAtR0h9D8D8LiWR/gDQLZsBNUzdhZAqzLwdGt+F0C413iVP0EUQIoVi3cYzQlA\",\"dtype\":\"float64\",\"shape\":[69]},\"utc_time\":{\"__ndarray__\":\"AIBwZirwYEIAgMm89i1hQgCALlxBBmJCAABTXQ1EYkIAgH+LvgdjQgCAJj0LEmNCAIAV4CPBY0IAgCbSVupjQgCAKHjuzGRCAIDPKTvXZEIAgAXZh+FkQgCAR4bU62RCAIBfOiH2ZEIAgNYbVB9lQgCAKNjsmmVCAIAujzmlZUIAgDptbM5lQgCAIuTQh2ZCAIDzjh2SZkIAgEiUA7FmQgCAFuGC5GZCAIATKU2JZ0IAgEC6TFdoQgCAZQ2yRWpCAIAd+eRuakIAgK4s4zxrQgCAu4V8UWtCAABAJ29ibEIAgMfO7fxsQgCAY4WF321CAIACz9vbbkIAAF5PdfBuQgCAcg7C+m5CAIBOzA4Fb0IAQDj5X0twQgDAXrWsVXBCAECLKEZqcEIAAO/fknRwQgDAJ8dSjnBCAEDO3SvwcEIAQKWPkUJxQgDAjLM1SXJCAEBCEVxOckIAwC0GG89yQgCAhg6nJnNCAMBAZs0rc0IAAIwzpvRzQgBAq+vy/nNCAADsh+VBdEIAALEo2IR0QgAAz7tXuHRCAADhUNfrdEIAwCZpSvt0QgCAcvBWH3VCAAAoDuN2dUIAAJ9rCXx1QgCAJWgixHVCAIANgJXTdUIAgHg74t11QgAAIq978nVCAACxeDsMdkIAwD7h1CB2QgCA0lzhRHZCAABeMaFedkIAAMns7Wh2QgAAzxPUh3ZCAEB3yiCSdkIAQGtQLbZ2QgCA6SHtz3ZC\",\"dtype\":\"float64\",\"shape\":[69]},\"water\":{\"__ndarray__\":\"xHEcx3EcT0CugllSDohSQHDND4uUgVhATcKNUu+bU0AoSr60EN9WQJ1RayAnmVZA8ZfyRFQ8UkAAAAAAAMBVQFIZ+yHQOlRAKL38aQsNVUCteBqjoDNXQFVMNuS5fFdAmMJqXq9CVkDRxby2slpRQMA+PKeFiDdAal3XdV3XOUDml0ls/oRPQJEUkPCTi0VA2WRW2VqdTUCD3mCnG7sVQAAAAAAAAAAAGcgFRt68VUBz3yFsCnA1QE+OnvWtuU1AnPJHnfJH3T9da6211jpQQLgPz2kh4k5AMBUkdQuFSkDRIfk3HnBRQDkk5u0MSUZA4d3HiZbrJ0AfKXD3HRc7QG/RBOVjnR5AZiQwZIQTNEDMBmhWrs1KQLFIGXi69VVASPh8X7sYR0BZzeRPZbZRQAAAAAAAAAAAAAAAAAAAAACKMvB0a340QNt1Xdd1XVFAQCxSBp5uTkD4PsUlQzBAQC2ltZTWUlJAC9pLaC+hPUB0UEFq87hLQJEfFikDTzRAAAAAAAAAAAA36RJ+SOM1QAAAAAAAAAAAYxAQ9Z9cRUDb9k26cHQ+QAAAAAAAAAAApOt45SZ9VkDsfgbZ6YRVQD4Hm73wLSVAncCa3KxCPUCA55jDyWxXQC61bHTf0lJAAAAAAAAAAAAAAAAAAAAAAOLA0635YS1AvBtNnV97REDxl+qdlAsaQAAAAAAAAAAAAAAAAAAAAACaYN5k0YskQA0WlsL5yT5A\",\"dtype\":\"float64\",\"shape\":[69]},\"wet\":{\"__ndarray__\":\"Z35YpAy8QkBPtiAr638yQDx7Ce0ltPc/pd43T9sjL0BcegdJjUggQAvJxx/TchtAd1eHbPaeOkAAAAAAAGAlQAyzSF2blzBAW1towJJeKkDYtXb20bcaQHU6BrN19RVAU++HcGqIIUCyjSXgsT0wQLUqr3qtbFJAkCRJkiRJUUBTtO8IuWBCQL8rMl+aeElAJpupJqViREBr3OOxjIZVQCK2acW9EzZA7HSkAJZRIkDe6ZEg3tNRQGEq27sO6EBA+PX19fX1T0CPUkoppZQ2QPNpPMJlmTdAPURZ5oXZKEBdEvd7Wqs2QFl00UUX3UdAukUm/6T2VEBEk/wL1hJRQPdPc600DFVAssjt5829UUCvPkKfjO5GQIaUgadb8ydABS+zzlaqREDbLQk1pO0xQAAAAAAAAAAAAAAAAAAAAAAvob2E9hJTQJgoiqIoijJAAAAAAAAAFEA271NcMoRFQJVm3e/KFClAXfPDImVgUUAW4S0gGsRBQJAy8HRrPlNAAAAAAAAAAAC9VIrvPJZQQAAAAAAAAAAApjWPMUs0TEDHusEU+axJQAAAAAAAAAAA1W7LRgl7HEDkV/BdzDUlQAy5rBgo4VNAw5rcrEJJUECRAlAiXSEPQJTvwkH0+DBACykDT7fmK0AAAAAAAAAAAOSHRcrAU1VAJmuMh3VMS0AgNE2Y9DpVQAAAAAAAAAAAAAAAAAAAAAAD7zJnyqBSQPl9p5yqN01A\",\"dtype\":\"float64\",\"shape\":[69]}},\"selected\":{\"id\":\"1099\",\"type\":\"Selection\"},\"selection_policy\":{\"id\":\"1098\",\"type\":\"UnionRenderers\"}},\"id\":\"1049\",\"type\":\"ColumnDataSource\"},{\"attributes\":{\"data_source\":{\"id\":\"1102\",\"type\":\"ColumnDataSource\"},\"glyph\":{\"id\":\"1104\",\"type\":\"VArea\"},\"hover_glyph\":null,\"muted_glyph\":{\"id\":\"1106\",\"type\":\"VArea\"},\"name\":\"green\",\"nonselection_glyph\":{\"id\":\"1105\",\"type\":\"VArea\"},\"selection_glyph\":null,\"view\":{\"id\":\"1108\",\"type\":\"CDSView\"}},\"id\":\"1107\",\"type\":\"GlyphRenderer\"},{\"attributes\":{\"fields\":[\"water\",\"wet\",\"green\",\"dry\"]},\"id\":\"1047\",\"type\":\"Stack\"},{\"attributes\":{\"fields\":[\"water\",\"wet\",\"green\",\"dry\",\"bare\"]},\"id\":\"1048\",\"type\":\"Stack\"},{\"attributes\":{\"source\":{\"id\":\"1102\",\"type\":\"ColumnDataSource\"}},\"id\":\"1108\",\"type\":\"CDSView\"},{\"attributes\":{\"fill_alpha\":0.1,\"fill_color\":\"#1f77b4\",\"x\":{\"field\":\"utc_time\"},\"y1\":{\"expr\":{\"id\":\"1039\",\"type\":\"Stack\"}},\"y2\":{\"expr\":{\"id\":\"1040\",\"type\":\"Stack\"}}},\"id\":\"1052\",\"type\":\"VArea\"},{\"attributes\":{},\"id\":\"1128\",\"type\":\"Selection\"},{\"attributes\":{\"data_source\":{\"id\":\"1049\",\"type\":\"ColumnDataSource\"},\"glyph\":{\"id\":\"1051\",\"type\":\"VArea\"},\"hover_glyph\":null,\"muted_glyph\":{\"id\":\"1053\",\"type\":\"VArea\"},\"name\":\"water\",\"nonselection_glyph\":{\"id\":\"1052\",\"type\":\"VArea\"},\"selection_glyph\":null,\"view\":{\"id\":\"1055\",\"type\":\"CDSView\"}},\"id\":\"1054\",\"type\":\"GlyphRenderer\"},{\"attributes\":{\"label\":{\"value\":\"green\"},\"renderers\":[{\"id\":\"1107\",\"type\":\"GlyphRenderer\"}]},\"id\":\"1130\",\"type\":\"LegendItem\"},{\"attributes\":{\"callback\":null,\"data\":{\"bare\":{\"__ndarray__\":\"4enW/LBIaT/XrFK0PO/qP5q4bATVM8Y/oZ63TdLt0j+Gdl9o8FG1P7YOjHHTnP4/neJNJoShwz9SuB6F61HUPzXGXf61mtM/KqHymHs1zD+7EURaL2DLPxymUO3mnq8/Hq1ob/1PoT82IRZk7UjbPzOm40fu7NQ//8Om0pBz3z/h1N2W92+tP6SAhJ9ciOo/AAAAAAAAAAAQ54V8YpHTPyjENq24d+4/LLTbZP4I1D+dyGxRq/HtPx7uggK559g/ec8kes8kCkDYWmuttdbqP26rKGv54ts/n+KLfnxo9T8PMHgs79XmP+w4juM4jtc/q95Dkeo9xD9TXTm3fkTgP9iZ1VP3luI/teMscvt50z/71Ufok9F9P6Oxi9c/b5A/ybe6ZFuW7j/YbydMILHnPygha1F7U+o/FbKQhSxk7z8FQ77HtNrmPwuOekLBreU/T2gvob2E1j/phGf6G3TTP3Yzmc1kNvM/mpmZmZmZyT/c3+U7OOn4P7WGv00xavA/fLo1PyxSFkBV6yCG0ywEQCFx2QiqZxBAwekkZOdn0D8IlH+8z9UBQN9ocl+FOQdAb6mDS3C24z8bTTHY7mbmP704638Me/o/Sgi60gB5+z+AfqCzMITUP9hMYTpWzeQ/zYkOBRjyAUA3juM4juMOQAAAAAAAAAAABogqaiJM4z9Wzdrb+dDzP1+kDDzdmglA1yCcpZK4CkDCzpNEMmkEQLG7X69MWwRA\",\"dtype\":\"float64\",\"shape\":[69]},\"dry\":{\"__ndarray__\":\"Ewz5HtNqyz/b2wWss/ARQOeFfI9ptb0/PVodsCDEEEDlCIhhw5TBP+mpSNMHhdU/Ml2OkVz/wD9I4XoUrsf0PwflunhDPfc/mpmZmZmZ+T/R5I1da2e/P9iy4OupSNM/gvzNl1E/+T8TWTvSNs8mQPPq0JLCm/k/sHR+GtvkCEBzE+07Qi64P2e+NHEYqwxAAAAAAAAAAAAv9AY73dgZQEa/GhPpGVJAokfViM7hBUBGZotajS8SQNtzrErS2BFA1NbW1tZWM0CBBRZYYGEgQAc2wCEYFSVA4HHWqkGAOkAK1P9amm8SQCbm7QyJ+RNAK9V7KFK9B0BytO4i7KsEQE4Ayyi1PBVAJD0sqHmOGEBnLexCQ5XZPwCSda48ILk/rnDwDCMeIEAroYa0vfIcQD6ht+d84VZAkSELWcidVkDUCKpn7OL1P9EnfdInfR5AeWt+WKTMOkAGul0rJxwxQL4sUQiadiFAKd9jWm1H0z94zpB18oISQLv+eYNwluI/oRl4ujXPVUDsBHa9masWQOeZmZmZSVZAy2PMEs1I1z+jQ0sKb2YnQCDG6583uFZAGLKy/mct9T+NuKzzSUT2P13gCnWX4xJAEGU+B1wLAUDgYXcfw1r2Px7hUzIeEhJA5W7ND4vUUkCobUeT+xpWQAAAAAAAAAAA87db09pcBEBc1cD3lBUTQIZQPWMXf1ZA3nrGLl5vVkABCeVQDdgdQAorFu8wmhNA\",\"dtype\":\"float64\",\"shape\":[69]},\"green\":{\"__ndarray__\":\"ZCOonrGLtz8sgmBDOhIAQOXp1vywSMk/EOhwpeBD9z8/63GUg53CP7g/O+/iEeA/eQsOSszAwj/hehSuR+HlP4u8wqgp3+Y/5W2/ZUgC6T9vicyUW0fGP8kJgUg+/sg/wne5F9xf4j9v2ckUnEsDQCKe00LEqeo/RGIlVmIl9j8hIRcMr1WrP5e6GbTsePg/AAAAAAAAAAD2Q2SsCqL6Pyn3TrLUEQxAKYmZCitC6j/82Fsbprn7Pz/7+9cm2P0/Z1VVVVVVKUC0yy677DILQAhuxMT6ugxAD8geLC5CGUCBBaC0DLIBQJxArV8pUAJACvFXW8fs8D88y+t5iNX3PwQrQlrTxgFAqVDY3RLiA0CGMe040NW+P4NwlkrisrE/Yd42Iwv0CkCSLE3tpmUJQM9vQBJB/hZACwAAAABAHkAkr3/eIJzxP5McMGjp/AxAi8RlI6ieGkC1Vk54pj8cQASebs0PixBAQL7HtNqO1j/3d/kOTjoGQAzmRIcCDPE/ArgpRg1/FkA8/ZdK8Z0LQGhyX4U50RRAIQWV/PGszj8Ww+z5M3wQQGk7mtxXYRNAwbAaLN2d7j+6Ug+kJxLzP/2HKmoiTAtA4lsmbROO+z/PBjdMqqnlP4+/PyZK+QNAntc/bxDOHEC3T/qkT/oYQAAAAAAAAAAAu3wAtR0h9D8D8LiWR/gDQLZsBNUzdhZAqzLwdGt+F0C413iVP0EUQIoVi3cYzQlA\",\"dtype\":\"float64\",\"shape\":[69]},\"utc_time\":{\"__ndarray__\":\"AIBwZirwYEIAgMm89i1hQgCALlxBBmJCAABTXQ1EYkIAgH+LvgdjQgCAJj0LEmNCAIAV4CPBY0IAgCbSVupjQgCAKHjuzGRCAIDPKTvXZEIAgAXZh+FkQgCAR4bU62RCAIBfOiH2ZEIAgNYbVB9lQgCAKNjsmmVCAIAujzmlZUIAgDptbM5lQgCAIuTQh2ZCAIDzjh2SZkIAgEiUA7FmQgCAFuGC5GZCAIATKU2JZ0IAgEC6TFdoQgCAZQ2yRWpCAIAd+eRuakIAgK4s4zxrQgCAu4V8UWtCAABAJ29ibEIAgMfO7fxsQgCAY4WF321CAIACz9vbbkIAAF5PdfBuQgCAcg7C+m5CAIBOzA4Fb0IAQDj5X0twQgDAXrWsVXBCAECLKEZqcEIAAO/fknRwQgDAJ8dSjnBCAEDO3SvwcEIAQKWPkUJxQgDAjLM1SXJCAEBCEVxOckIAwC0GG89yQgCAhg6nJnNCAMBAZs0rc0IAAIwzpvRzQgBAq+vy/nNCAADsh+VBdEIAALEo2IR0QgAAz7tXuHRCAADhUNfrdEIAwCZpSvt0QgCAcvBWH3VCAAAoDuN2dUIAAJ9rCXx1QgCAJWgixHVCAIANgJXTdUIAgHg74t11QgAAIq978nVCAACxeDsMdkIAwD7h1CB2QgCA0lzhRHZCAABeMaFedkIAAMns7Wh2QgAAzxPUh3ZCAEB3yiCSdkIAQGtQLbZ2QgCA6SHtz3ZC\",\"dtype\":\"float64\",\"shape\":[69]},\"water\":{\"__ndarray__\":\"xHEcx3EcT0CugllSDohSQHDND4uUgVhATcKNUu+bU0AoSr60EN9WQJ1RayAnmVZA8ZfyRFQ8UkAAAAAAAMBVQFIZ+yHQOlRAKL38aQsNVUCteBqjoDNXQFVMNuS5fFdAmMJqXq9CVkDRxby2slpRQMA+PKeFiDdAal3XdV3XOUDml0ls/oRPQJEUkPCTi0VA2WRW2VqdTUCD3mCnG7sVQAAAAAAAAAAAGcgFRt68VUBz3yFsCnA1QE+OnvWtuU1AnPJHnfJH3T9da6211jpQQLgPz2kh4k5AMBUkdQuFSkDRIfk3HnBRQDkk5u0MSUZA4d3HiZbrJ0AfKXD3HRc7QG/RBOVjnR5AZiQwZIQTNEDMBmhWrs1KQLFIGXi69VVASPh8X7sYR0BZzeRPZbZRQAAAAAAAAAAAAAAAAAAAAACKMvB0a340QNt1Xdd1XVFAQCxSBp5uTkD4PsUlQzBAQC2ltZTWUlJAC9pLaC+hPUB0UEFq87hLQJEfFikDTzRAAAAAAAAAAAA36RJ+SOM1QAAAAAAAAAAAYxAQ9Z9cRUDb9k26cHQ+QAAAAAAAAAAApOt45SZ9VkDsfgbZ6YRVQD4Hm73wLSVAncCa3KxCPUCA55jDyWxXQC61bHTf0lJAAAAAAAAAAAAAAAAAAAAAAOLA0635YS1AvBtNnV97REDxl+qdlAsaQAAAAAAAAAAAAAAAAAAAAACaYN5k0YskQA0WlsL5yT5A\",\"dtype\":\"float64\",\"shape\":[69]},\"wet\":{\"__ndarray__\":\"Z35YpAy8QkBPtiAr638yQDx7Ce0ltPc/pd43T9sjL0BcegdJjUggQAvJxx/TchtAd1eHbPaeOkAAAAAAAGAlQAyzSF2blzBAW1towJJeKkDYtXb20bcaQHU6BrN19RVAU++HcGqIIUCyjSXgsT0wQLUqr3qtbFJAkCRJkiRJUUBTtO8IuWBCQL8rMl+aeElAJpupJqViREBr3OOxjIZVQCK2acW9EzZA7HSkAJZRIkDe6ZEg3tNRQGEq27sO6EBA+PX19fX1T0CPUkoppZQ2QPNpPMJlmTdAPURZ5oXZKEBdEvd7Wqs2QFl00UUX3UdAukUm/6T2VEBEk/wL1hJRQPdPc600DFVAssjt5829UUCvPkKfjO5GQIaUgadb8ydABS+zzlaqREDbLQk1pO0xQAAAAAAAAAAAAAAAAAAAAAAvob2E9hJTQJgoiqIoijJAAAAAAAAAFEA271NcMoRFQJVm3e/KFClAXfPDImVgUUAW4S0gGsRBQJAy8HRrPlNAAAAAAAAAAAC9VIrvPJZQQAAAAAAAAAAApjWPMUs0TEDHusEU+axJQAAAAAAAAAAA1W7LRgl7HEDkV/BdzDUlQAy5rBgo4VNAw5rcrEJJUECRAlAiXSEPQJTvwkH0+DBACykDT7fmK0AAAAAAAAAAAOSHRcrAU1VAJmuMh3VMS0AgNE2Y9DpVQAAAAAAAAAAAAAAAAAAAAAAD7zJnyqBSQPl9p5yqN01A\",\"dtype\":\"float64\",\"shape\":[69]}},\"selected\":{\"id\":\"1192\",\"type\":\"Selection\"},\"selection_policy\":{\"id\":\"1191\",\"type\":\"UnionRenderers\"}},\"id\":\"1131\",\"type\":\"ColumnDataSource\"},{\"attributes\":{\"callback\":null,\"end\":100},\"id\":\"1196\",\"type\":\"Range1d\"},{\"attributes\":{},\"id\":\"1058\",\"type\":\"BasicTickFormatter\"},{\"attributes\":{\"source\":{\"id\":\"1049\",\"type\":\"ColumnDataSource\"}},\"id\":\"1055\",\"type\":\"CDSView\"},{\"attributes\":{},\"id\":\"1098\",\"type\":\"UnionRenderers\"},{\"attributes\":{},\"id\":\"1227\",\"type\":\"Selection\"},{\"attributes\":{\"fill_alpha\":0.2,\"fill_color\":\"grey\",\"x\":{\"field\":\"utc_time\"},\"y1\":{\"expr\":{\"id\":\"1039\",\"type\":\"Stack\"}},\"y2\":{\"expr\":{\"id\":\"1040\",\"type\":\"Stack\"}}},\"id\":\"1053\",\"type\":\"VArea\"},{\"attributes\":{\"fill_alpha\":0.1,\"fill_color\":\"#1f77b4\",\"x\":{\"field\":\"utc_time\"},\"y1\":{\"expr\":{\"id\":\"1045\",\"type\":\"Stack\"}},\"y2\":{\"expr\":{\"id\":\"1046\",\"type\":\"Stack\"}}},\"id\":\"1134\",\"type\":\"VArea\"},{\"attributes\":{\"fill_alpha\":0.2,\"fill_color\":\"grey\",\"x\":{\"field\":\"utc_time\"},\"y1\":{\"expr\":{\"id\":\"1045\",\"type\":\"Stack\"}},\"y2\":{\"expr\":{\"id\":\"1046\",\"type\":\"Stack\"}}},\"id\":\"1135\",\"type\":\"VArea\"},{\"attributes\":{\"fill_alpha\":0.7,\"fill_color\":\"#e6daa6\",\"x\":{\"field\":\"utc_time\"},\"y1\":{\"expr\":{\"id\":\"1045\",\"type\":\"Stack\"}},\"y2\":{\"expr\":{\"id\":\"1046\",\"type\":\"Stack\"}}},\"id\":\"1133\",\"type\":\"VArea\"},{\"attributes\":{\"data_source\":{\"id\":\"1131\",\"type\":\"ColumnDataSource\"},\"glyph\":{\"id\":\"1133\",\"type\":\"VArea\"},\"hover_glyph\":null,\"muted_glyph\":{\"id\":\"1135\",\"type\":\"VArea\"},\"name\":\"dry\",\"nonselection_glyph\":{\"id\":\"1134\",\"type\":\"VArea\"},\"selection_glyph\":null,\"view\":{\"id\":\"1137\",\"type\":\"CDSView\"}},\"id\":\"1136\",\"type\":\"GlyphRenderer\"},{\"attributes\":{},\"id\":\"1009\",\"type\":\"LinearScale\"},{\"attributes\":{\"base\":60,\"mantissas\":[1,2,5,10,15,20,30],\"max_interval\":1800000.0,\"min_interval\":1000.0,\"num_minor_ticks\":0},\"id\":\"1061\",\"type\":\"AdaptiveTicker\"},{\"attributes\":{\"base\":24,\"mantissas\":[1,2,4,6,8,12],\"max_interval\":43200000.0,\"min_interval\":3600000.0,\"num_minor_ticks\":0},\"id\":\"1062\",\"type\":\"AdaptiveTicker\"},{\"attributes\":{\"source\":{\"id\":\"1131\",\"type\":\"ColumnDataSource\"}},\"id\":\"1137\",\"type\":\"CDSView\"},{\"attributes\":{},\"id\":\"1011\",\"type\":\"LinearScale\"},{\"attributes\":{\"bounds\":[581990298500.0,1567643279000.0],\"formatter\":{\"id\":\"1037\",\"type\":\"DatetimeTickFormatter\"},\"major_label_orientation\":45,\"ticker\":{\"id\":\"1014\",\"type\":\"DatetimeTicker\"}},\"id\":\"1013\",\"type\":\"DatetimeAxis\"},{\"attributes\":{\"days\":[1,2,3,4,5,6,7,8,9,10,11,12,13,14,15,16,17,18,19,20,21,22,23,24,25,26,27,28,29,30,31]},\"id\":\"1063\",\"type\":\"DaysTicker\"},{\"attributes\":{},\"id\":\"1159\",\"type\":\"Selection\"},{\"attributes\":{\"num_minor_ticks\":5,\"tickers\":[{\"id\":\"1060\",\"type\":\"AdaptiveTicker\"},{\"id\":\"1061\",\"type\":\"AdaptiveTicker\"},{\"id\":\"1062\",\"type\":\"AdaptiveTicker\"},{\"id\":\"1063\",\"type\":\"DaysTicker\"},{\"id\":\"1064\",\"type\":\"DaysTicker\"},{\"id\":\"1065\",\"type\":\"DaysTicker\"},{\"id\":\"1066\",\"type\":\"DaysTicker\"},{\"id\":\"1067\",\"type\":\"MonthsTicker\"},{\"id\":\"1068\",\"type\":\"MonthsTicker\"},{\"id\":\"1069\",\"type\":\"MonthsTicker\"},{\"id\":\"1070\",\"type\":\"MonthsTicker\"},{\"id\":\"1071\",\"type\":\"YearsTicker\"}]},\"id\":\"1014\",\"type\":\"DatetimeTicker\"},{\"attributes\":{\"label\":{\"value\":\"dry\"},\"renderers\":[{\"id\":\"1136\",\"type\":\"GlyphRenderer\"}]},\"id\":\"1161\",\"type\":\"LegendItem\"},{\"attributes\":{\"days\":[1,4,7,10,13,16,19,22,25,28]},\"id\":\"1064\",\"type\":\"DaysTicker\"},{\"attributes\":{\"ticker\":{\"id\":\"1014\",\"type\":\"DatetimeTicker\"}},\"id\":\"1017\",\"type\":\"Grid\"},{\"attributes\":{\"callback\":null,\"data\":{\"bare\":{\"__ndarray__\":\"4enW/LBIaT/XrFK0PO/qP5q4bATVM8Y/oZ63TdLt0j+Gdl9o8FG1P7YOjHHTnP4/neJNJoShwz9SuB6F61HUPzXGXf61mtM/KqHymHs1zD+7EURaL2DLPxymUO3mnq8/Hq1ob/1PoT82IRZk7UjbPzOm40fu7NQ//8Om0pBz3z/h1N2W92+tP6SAhJ9ciOo/AAAAAAAAAAAQ54V8YpHTPyjENq24d+4/LLTbZP4I1D+dyGxRq/HtPx7uggK559g/ec8kes8kCkDYWmuttdbqP26rKGv54ts/n+KLfnxo9T8PMHgs79XmP+w4juM4jtc/q95Dkeo9xD9TXTm3fkTgP9iZ1VP3luI/teMscvt50z/71Ufok9F9P6Oxi9c/b5A/ybe6ZFuW7j/YbydMILHnPygha1F7U+o/FbKQhSxk7z8FQ77HtNrmPwuOekLBreU/T2gvob2E1j/phGf6G3TTP3Yzmc1kNvM/mpmZmZmZyT/c3+U7OOn4P7WGv00xavA/fLo1PyxSFkBV6yCG0ywEQCFx2QiqZxBAwekkZOdn0D8IlH+8z9UBQN9ocl+FOQdAb6mDS3C24z8bTTHY7mbmP704638Me/o/Sgi60gB5+z+AfqCzMITUP9hMYTpWzeQ/zYkOBRjyAUA3juM4juMOQAAAAAAAAAAABogqaiJM4z9Wzdrb+dDzP1+kDDzdmglA1yCcpZK4CkDCzpNEMmkEQLG7X69MWwRA\",\"dtype\":\"float64\",\"shape\":[69]},\"dry\":{\"__ndarray__\":\"Ewz5HtNqyz/b2wWss/ARQOeFfI9ptb0/PVodsCDEEEDlCIhhw5TBP+mpSNMHhdU/Ml2OkVz/wD9I4XoUrsf0PwflunhDPfc/mpmZmZmZ+T/R5I1da2e/P9iy4OupSNM/gvzNl1E/+T8TWTvSNs8mQPPq0JLCm/k/sHR+GtvkCEBzE+07Qi64P2e+NHEYqwxAAAAAAAAAAAAv9AY73dgZQEa/GhPpGVJAokfViM7hBUBGZotajS8SQNtzrErS2BFA1NbW1tZWM0CBBRZYYGEgQAc2wCEYFSVA4HHWqkGAOkAK1P9amm8SQCbm7QyJ+RNAK9V7KFK9B0BytO4i7KsEQE4Ayyi1PBVAJD0sqHmOGEBnLexCQ5XZPwCSda48ILk/rnDwDCMeIEAroYa0vfIcQD6ht+d84VZAkSELWcidVkDUCKpn7OL1P9EnfdInfR5AeWt+WKTMOkAGul0rJxwxQL4sUQiadiFAKd9jWm1H0z94zpB18oISQLv+eYNwluI/oRl4ujXPVUDsBHa9masWQOeZmZmZSVZAy2PMEs1I1z+jQ0sKb2YnQCDG6583uFZAGLKy/mct9T+NuKzzSUT2P13gCnWX4xJAEGU+B1wLAUDgYXcfw1r2Px7hUzIeEhJA5W7ND4vUUkCobUeT+xpWQAAAAAAAAAAA87db09pcBEBc1cD3lBUTQIZQPWMXf1ZA3nrGLl5vVkABCeVQDdgdQAorFu8wmhNA\",\"dtype\":\"float64\",\"shape\":[69]},\"green\":{\"__ndarray__\":\"ZCOonrGLtz8sgmBDOhIAQOXp1vywSMk/EOhwpeBD9z8/63GUg53CP7g/O+/iEeA/eQsOSszAwj/hehSuR+HlP4u8wqgp3+Y/5W2/ZUgC6T9vicyUW0fGP8kJgUg+/sg/wne5F9xf4j9v2ckUnEsDQCKe00LEqeo/RGIlVmIl9j8hIRcMr1WrP5e6GbTsePg/AAAAAAAAAAD2Q2SsCqL6Pyn3TrLUEQxAKYmZCitC6j/82Fsbprn7Pz/7+9cm2P0/Z1VVVVVVKUC0yy677DILQAhuxMT6ugxAD8geLC5CGUCBBaC0DLIBQJxArV8pUAJACvFXW8fs8D88y+t5iNX3PwQrQlrTxgFAqVDY3RLiA0CGMe040NW+P4NwlkrisrE/Yd42Iwv0CkCSLE3tpmUJQM9vQBJB/hZACwAAAABAHkAkr3/eIJzxP5McMGjp/AxAi8RlI6ieGkC1Vk54pj8cQASebs0PixBAQL7HtNqO1j/3d/kOTjoGQAzmRIcCDPE/ArgpRg1/FkA8/ZdK8Z0LQGhyX4U50RRAIQWV/PGszj8Ww+z5M3wQQGk7mtxXYRNAwbAaLN2d7j+6Ug+kJxLzP/2HKmoiTAtA4lsmbROO+z/PBjdMqqnlP4+/PyZK+QNAntc/bxDOHEC3T/qkT/oYQAAAAAAAAAAAu3wAtR0h9D8D8LiWR/gDQLZsBNUzdhZAqzLwdGt+F0C413iVP0EUQIoVi3cYzQlA\",\"dtype\":\"float64\",\"shape\":[69]},\"utc_time\":{\"__ndarray__\":\"AIBwZirwYEIAgMm89i1hQgCALlxBBmJCAABTXQ1EYkIAgH+LvgdjQgCAJj0LEmNCAIAV4CPBY0IAgCbSVupjQgCAKHjuzGRCAIDPKTvXZEIAgAXZh+FkQgCAR4bU62RCAIBfOiH2ZEIAgNYbVB9lQgCAKNjsmmVCAIAujzmlZUIAgDptbM5lQgCAIuTQh2ZCAIDzjh2SZkIAgEiUA7FmQgCAFuGC5GZCAIATKU2JZ0IAgEC6TFdoQgCAZQ2yRWpCAIAd+eRuakIAgK4s4zxrQgCAu4V8UWtCAABAJ29ibEIAgMfO7fxsQgCAY4WF321CAIACz9vbbkIAAF5PdfBuQgCAcg7C+m5CAIBOzA4Fb0IAQDj5X0twQgDAXrWsVXBCAECLKEZqcEIAAO/fknRwQgDAJ8dSjnBCAEDO3SvwcEIAQKWPkUJxQgDAjLM1SXJCAEBCEVxOckIAwC0GG89yQgCAhg6nJnNCAMBAZs0rc0IAAIwzpvRzQgBAq+vy/nNCAADsh+VBdEIAALEo2IR0QgAAz7tXuHRCAADhUNfrdEIAwCZpSvt0QgCAcvBWH3VCAAAoDuN2dUIAAJ9rCXx1QgCAJWgixHVCAIANgJXTdUIAgHg74t11QgAAIq978nVCAACxeDsMdkIAwD7h1CB2QgCA0lzhRHZCAABeMaFedkIAAMns7Wh2QgAAzxPUh3ZCAEB3yiCSdkIAQGtQLbZ2QgCA6SHtz3ZC\",\"dtype\":\"float64\",\"shape\":[69]},\"water\":{\"__ndarray__\":\"xHEcx3EcT0CugllSDohSQHDND4uUgVhATcKNUu+bU0AoSr60EN9WQJ1RayAnmVZA8ZfyRFQ8UkAAAAAAAMBVQFIZ+yHQOlRAKL38aQsNVUCteBqjoDNXQFVMNuS5fFdAmMJqXq9CVkDRxby2slpRQMA+PKeFiDdAal3XdV3XOUDml0ls/oRPQJEUkPCTi0VA2WRW2VqdTUCD3mCnG7sVQAAAAAAAAAAAGcgFRt68VUBz3yFsCnA1QE+OnvWtuU1AnPJHnfJH3T9da6211jpQQLgPz2kh4k5AMBUkdQuFSkDRIfk3HnBRQDkk5u0MSUZA4d3HiZbrJ0AfKXD3HRc7QG/RBOVjnR5AZiQwZIQTNEDMBmhWrs1KQLFIGXi69VVASPh8X7sYR0BZzeRPZbZRQAAAAAAAAAAAAAAAAAAAAACKMvB0a340QNt1Xdd1XVFAQCxSBp5uTkD4PsUlQzBAQC2ltZTWUlJAC9pLaC+hPUB0UEFq87hLQJEfFikDTzRAAAAAAAAAAAA36RJ+SOM1QAAAAAAAAAAAYxAQ9Z9cRUDb9k26cHQ+QAAAAAAAAAAApOt45SZ9VkDsfgbZ6YRVQD4Hm73wLSVAncCa3KxCPUCA55jDyWxXQC61bHTf0lJAAAAAAAAAAAAAAAAAAAAAAOLA0635YS1AvBtNnV97REDxl+qdlAsaQAAAAAAAAAAAAAAAAAAAAACaYN5k0YskQA0WlsL5yT5A\",\"dtype\":\"float64\",\"shape\":[69]},\"wet\":{\"__ndarray__\":\"Z35YpAy8QkBPtiAr638yQDx7Ce0ltPc/pd43T9sjL0BcegdJjUggQAvJxx/TchtAd1eHbPaeOkAAAAAAAGAlQAyzSF2blzBAW1towJJeKkDYtXb20bcaQHU6BrN19RVAU++HcGqIIUCyjSXgsT0wQLUqr3qtbFJAkCRJkiRJUUBTtO8IuWBCQL8rMl+aeElAJpupJqViREBr3OOxjIZVQCK2acW9EzZA7HSkAJZRIkDe6ZEg3tNRQGEq27sO6EBA+PX19fX1T0CPUkoppZQ2QPNpPMJlmTdAPURZ5oXZKEBdEvd7Wqs2QFl00UUX3UdAukUm/6T2VEBEk/wL1hJRQPdPc600DFVAssjt5829UUCvPkKfjO5GQIaUgadb8ydABS+zzlaqREDbLQk1pO0xQAAAAAAAAAAAAAAAAAAAAAAvob2E9hJTQJgoiqIoijJAAAAAAAAAFEA271NcMoRFQJVm3e/KFClAXfPDImVgUUAW4S0gGsRBQJAy8HRrPlNAAAAAAAAAAAC9VIrvPJZQQAAAAAAAAAAApjWPMUs0TEDHusEU+axJQAAAAAAAAAAA1W7LRgl7HEDkV/BdzDUlQAy5rBgo4VNAw5rcrEJJUECRAlAiXSEPQJTvwkH0+DBACykDT7fmK0AAAAAAAAAAAOSHRcrAU1VAJmuMh3VMS0AgNE2Y9DpVQAAAAAAAAAAAAAAAAAAAAAAD7zJnyqBSQPl9p5yqN01A\",\"dtype\":\"float64\",\"shape\":[69]}},\"selected\":{\"id\":\"1227\",\"type\":\"Selection\"},\"selection_policy\":{\"id\":\"1226\",\"type\":\"UnionRenderers\"}},\"id\":\"1162\",\"type\":\"ColumnDataSource\"},{\"attributes\":{\"days\":[1,8,15,22]},\"id\":\"1065\",\"type\":\"DaysTicker\"},{\"attributes\":{\"axis_label\":\"percentage of polygon classified as type\",\"axis_label_text_font_size\":{\"value\":\"8pt\"},\"bounds\":[0,100],\"formatter\":{\"id\":\"1058\",\"type\":\"BasicTickFormatter\"},\"ticker\":{\"id\":\"1019\",\"type\":\"BasicTicker\"}},\"id\":\"1018\",\"type\":\"LinearAxis\"},{\"attributes\":{\"days\":[1,15]},\"id\":\"1066\",\"type\":\"DaysTicker\"},{\"attributes\":{},\"id\":\"1226\",\"type\":\"UnionRenderers\"},{\"attributes\":{},\"id\":\"1019\",\"type\":\"BasicTicker\"},{\"attributes\":{\"fill_alpha\":0.1,\"fill_color\":\"#1f77b4\",\"x\":{\"field\":\"utc_time\"},\"y1\":{\"expr\":{\"id\":\"1047\",\"type\":\"Stack\"}},\"y2\":{\"expr\":{\"id\":\"1048\",\"type\":\"Stack\"}}},\"id\":\"1165\",\"type\":\"VArea\"},{\"attributes\":{\"months\":[0,1,2,3,4,5,6,7,8,9,10,11]},\"id\":\"1067\",\"type\":\"MonthsTicker\"},{\"attributes\":{\"fill_alpha\":0.2,\"fill_color\":\"grey\",\"x\":{\"field\":\"utc_time\"},\"y1\":{\"expr\":{\"id\":\"1047\",\"type\":\"Stack\"}},\"y2\":{\"expr\":{\"id\":\"1048\",\"type\":\"Stack\"}}},\"id\":\"1166\",\"type\":\"VArea\"},{\"attributes\":{\"dimension\":1,\"ticker\":{\"id\":\"1019\",\"type\":\"BasicTicker\"}},\"id\":\"1022\",\"type\":\"Grid\"},{\"attributes\":{\"fill_alpha\":0.7,\"fill_color\":\"#653700\",\"x\":{\"field\":\"utc_time\"},\"y1\":{\"expr\":{\"id\":\"1047\",\"type\":\"Stack\"}},\"y2\":{\"expr\":{\"id\":\"1048\",\"type\":\"Stack\"}}},\"id\":\"1164\",\"type\":\"VArea\"},{\"attributes\":{\"months\":[0,2,4,6,8,10]},\"id\":\"1068\",\"type\":\"MonthsTicker\"},{\"attributes\":{\"active_drag\":\"auto\",\"active_inspect\":\"auto\",\"active_multi\":null,\"active_scroll\":\"auto\",\"active_tap\":\"auto\",\"tools\":[{\"id\":\"1023\",\"type\":\"PanTool\"},{\"id\":\"1024\",\"type\":\"WheelZoomTool\"},{\"id\":\"1025\",\"type\":\"BoxZoomTool\"},{\"id\":\"1026\",\"type\":\"ResetTool\"},{\"id\":\"1027\",\"type\":\"TapTool\"},{\"id\":\"1028\",\"type\":\"SaveTool\"}]},\"id\":\"1029\",\"type\":\"Toolbar\"},{\"attributes\":{\"months\":[0,4,8]},\"id\":\"1069\",\"type\":\"MonthsTicker\"},{\"attributes\":{\"data_source\":{\"id\":\"1162\",\"type\":\"ColumnDataSource\"},\"glyph\":{\"id\":\"1164\",\"type\":\"VArea\"},\"hover_glyph\":null,\"muted_glyph\":{\"id\":\"1166\",\"type\":\"VArea\"},\"name\":\"bare\",\"nonselection_glyph\":{\"id\":\"1165\",\"type\":\"VArea\"},\"selection_glyph\":null,\"view\":{\"id\":\"1168\",\"type\":\"CDSView\"}},\"id\":\"1167\",\"type\":\"GlyphRenderer\"},{\"attributes\":{\"days\":[\"%d/%m/%Y\"],\"months\":[\"%m/%Y\"]},\"id\":\"1037\",\"type\":\"DatetimeTickFormatter\"},{\"attributes\":{\"months\":[0,6]},\"id\":\"1070\",\"type\":\"MonthsTicker\"},{\"attributes\":{\"text\":\"The Fractional Cover algorithm developed by the Joint Remote Sensing Research Program\\nand the Water Observations from Space algorithm developed by Geoscience Australia are used in the production of this data\",\"text_font_size\":{\"value\":\"8.5pt\"},\"text_font_style\":\"italic\",\"x\":0,\"x_units\":\"screen\",\"y\":0,\"y_units\":\"screen\"},\"id\":\"1036\",\"type\":\"Label\"},{\"attributes\":{\"source\":{\"id\":\"1162\",\"type\":\"ColumnDataSource\"}},\"id\":\"1168\",\"type\":\"CDSView\"},{\"attributes\":{},\"id\":\"1071\",\"type\":\"YearsTicker\"},{\"attributes\":{},\"id\":\"1023\",\"type\":\"PanTool\"},{\"attributes\":{},\"id\":\"1191\",\"type\":\"UnionRenderers\"},{\"attributes\":{\"bottom_units\":\"screen\",\"fill_alpha\":{\"value\":0.5},\"fill_color\":{\"value\":\"lightgrey\"},\"left_units\":\"screen\",\"level\":\"overlay\",\"line_alpha\":{\"value\":1.0},\"line_color\":{\"value\":\"black\"},\"line_dash\":[4,4],\"line_width\":{\"value\":2},\"render_mode\":\"css\",\"right_units\":\"screen\",\"top_units\":\"screen\"},\"id\":\"1072\",\"type\":\"BoxAnnotation\"},{\"attributes\":{},\"id\":\"1024\",\"type\":\"WheelZoomTool\"},{\"attributes\":{\"background_fill_alpha\":{\"value\":0.5},\"click_policy\":\"mute\",\"items\":[{\"id\":\"1074\",\"type\":\"LegendItem\"},{\"id\":\"1101\",\"type\":\"LegendItem\"},{\"id\":\"1130\",\"type\":\"LegendItem\"},{\"id\":\"1161\",\"type\":\"LegendItem\"},{\"id\":\"1194\",\"type\":\"LegendItem\"}],\"label_text_font_size\":{\"value\":\"9pt\"},\"location\":\"bottom_left\"},\"id\":\"1073\",\"type\":\"Legend\"},{\"attributes\":{\"overlay\":{\"id\":\"1072\",\"type\":\"BoxAnnotation\"}},\"id\":\"1025\",\"type\":\"BoxZoomTool\"},{\"attributes\":{},\"id\":\"1192\",\"type\":\"Selection\"},{\"attributes\":{\"label\":{\"value\":\"water\"},\"renderers\":[{\"id\":\"1054\",\"type\":\"GlyphRenderer\"}]},\"id\":\"1074\",\"type\":\"LegendItem\"},{\"attributes\":{\"label\":{\"value\":\"bare\"},\"renderers\":[{\"id\":\"1167\",\"type\":\"GlyphRenderer\"}]},\"id\":\"1194\",\"type\":\"LegendItem\"},{\"attributes\":{},\"id\":\"1026\",\"type\":\"ResetTool\"},{\"attributes\":{\"callback\":null,\"data\":{\"bare\":{\"__ndarray__\":\"4enW/LBIaT/XrFK0PO/qP5q4bATVM8Y/oZ63TdLt0j+Gdl9o8FG1P7YOjHHTnP4/neJNJoShwz9SuB6F61HUPzXGXf61mtM/KqHymHs1zD+7EURaL2DLPxymUO3mnq8/Hq1ob/1PoT82IRZk7UjbPzOm40fu7NQ//8Om0pBz3z/h1N2W92+tP6SAhJ9ciOo/AAAAAAAAAAAQ54V8YpHTPyjENq24d+4/LLTbZP4I1D+dyGxRq/HtPx7uggK559g/ec8kes8kCkDYWmuttdbqP26rKGv54ts/n+KLfnxo9T8PMHgs79XmP+w4juM4jtc/q95Dkeo9xD9TXTm3fkTgP9iZ1VP3luI/teMscvt50z/71Ufok9F9P6Oxi9c/b5A/ybe6ZFuW7j/YbydMILHnPygha1F7U+o/FbKQhSxk7z8FQ77HtNrmPwuOekLBreU/T2gvob2E1j/phGf6G3TTP3Yzmc1kNvM/mpmZmZmZyT/c3+U7OOn4P7WGv00xavA/fLo1PyxSFkBV6yCG0ywEQCFx2QiqZxBAwekkZOdn0D8IlH+8z9UBQN9ocl+FOQdAb6mDS3C24z8bTTHY7mbmP704638Me/o/Sgi60gB5+z+AfqCzMITUP9hMYTpWzeQ/zYkOBRjyAUA3juM4juMOQAAAAAAAAAAABogqaiJM4z9Wzdrb+dDzP1+kDDzdmglA1yCcpZK4CkDCzpNEMmkEQLG7X69MWwRA\",\"dtype\":\"float64\",\"shape\":[69]},\"dry\":{\"__ndarray__\":\"Ewz5HtNqyz/b2wWss/ARQOeFfI9ptb0/PVodsCDEEEDlCIhhw5TBP+mpSNMHhdU/Ml2OkVz/wD9I4XoUrsf0PwflunhDPfc/mpmZmZmZ+T/R5I1da2e/P9iy4OupSNM/gvzNl1E/+T8TWTvSNs8mQPPq0JLCm/k/sHR+GtvkCEBzE+07Qi64P2e+NHEYqwxAAAAAAAAAAAAv9AY73dgZQEa/GhPpGVJAokfViM7hBUBGZotajS8SQNtzrErS2BFA1NbW1tZWM0CBBRZYYGEgQAc2wCEYFSVA4HHWqkGAOkAK1P9amm8SQCbm7QyJ+RNAK9V7KFK9B0BytO4i7KsEQE4Ayyi1PBVAJD0sqHmOGEBnLexCQ5XZPwCSda48ILk/rnDwDCMeIEAroYa0vfIcQD6ht+d84VZAkSELWcidVkDUCKpn7OL1P9EnfdInfR5AeWt+WKTMOkAGul0rJxwxQL4sUQiadiFAKd9jWm1H0z94zpB18oISQLv+eYNwluI/oRl4ujXPVUDsBHa9masWQOeZmZmZSVZAy2PMEs1I1z+jQ0sKb2YnQCDG6583uFZAGLKy/mct9T+NuKzzSUT2P13gCnWX4xJAEGU+B1wLAUDgYXcfw1r2Px7hUzIeEhJA5W7ND4vUUkCobUeT+xpWQAAAAAAAAAAA87db09pcBEBc1cD3lBUTQIZQPWMXf1ZA3nrGLl5vVkABCeVQDdgdQAorFu8wmhNA\",\"dtype\":\"float64\",\"shape\":[69]},\"green\":{\"__ndarray__\":\"ZCOonrGLtz8sgmBDOhIAQOXp1vywSMk/EOhwpeBD9z8/63GUg53CP7g/O+/iEeA/eQsOSszAwj/hehSuR+HlP4u8wqgp3+Y/5W2/ZUgC6T9vicyUW0fGP8kJgUg+/sg/wne5F9xf4j9v2ckUnEsDQCKe00LEqeo/RGIlVmIl9j8hIRcMr1WrP5e6GbTsePg/AAAAAAAAAAD2Q2SsCqL6Pyn3TrLUEQxAKYmZCitC6j/82Fsbprn7Pz/7+9cm2P0/Z1VVVVVVKUC0yy677DILQAhuxMT6ugxAD8geLC5CGUCBBaC0DLIBQJxArV8pUAJACvFXW8fs8D88y+t5iNX3PwQrQlrTxgFAqVDY3RLiA0CGMe040NW+P4NwlkrisrE/Yd42Iwv0CkCSLE3tpmUJQM9vQBJB/hZACwAAAABAHkAkr3/eIJzxP5McMGjp/AxAi8RlI6ieGkC1Vk54pj8cQASebs0PixBAQL7HtNqO1j/3d/kOTjoGQAzmRIcCDPE/ArgpRg1/FkA8/ZdK8Z0LQGhyX4U50RRAIQWV/PGszj8Ww+z5M3wQQGk7mtxXYRNAwbAaLN2d7j+6Ug+kJxLzP/2HKmoiTAtA4lsmbROO+z/PBjdMqqnlP4+/PyZK+QNAntc/bxDOHEC3T/qkT/oYQAAAAAAAAAAAu3wAtR0h9D8D8LiWR/gDQLZsBNUzdhZAqzLwdGt+F0C413iVP0EUQIoVi3cYzQlA\",\"dtype\":\"float64\",\"shape\":[69]},\"utc_time\":{\"__ndarray__\":\"AIBwZirwYEIAgMm89i1hQgCALlxBBmJCAABTXQ1EYkIAgH+LvgdjQgCAJj0LEmNCAIAV4CPBY0IAgCbSVupjQgCAKHjuzGRCAIDPKTvXZEIAgAXZh+FkQgCAR4bU62RCAIBfOiH2ZEIAgNYbVB9lQgCAKNjsmmVCAIAujzmlZUIAgDptbM5lQgCAIuTQh2ZCAIDzjh2SZkIAgEiUA7FmQgCAFuGC5GZCAIATKU2JZ0IAgEC6TFdoQgCAZQ2yRWpCAIAd+eRuakIAgK4s4zxrQgCAu4V8UWtCAABAJ29ibEIAgMfO7fxsQgCAY4WF321CAIACz9vbbkIAAF5PdfBuQgCAcg7C+m5CAIBOzA4Fb0IAQDj5X0twQgDAXrWsVXBCAECLKEZqcEIAAO/fknRwQgDAJ8dSjnBCAEDO3SvwcEIAQKWPkUJxQgDAjLM1SXJCAEBCEVxOckIAwC0GG89yQgCAhg6nJnNCAMBAZs0rc0IAAIwzpvRzQgBAq+vy/nNCAADsh+VBdEIAALEo2IR0QgAAz7tXuHRCAADhUNfrdEIAwCZpSvt0QgCAcvBWH3VCAAAoDuN2dUIAAJ9rCXx1QgCAJWgixHVCAIANgJXTdUIAgHg74t11QgAAIq978nVCAACxeDsMdkIAwD7h1CB2QgCA0lzhRHZCAABeMaFedkIAAMns7Wh2QgAAzxPUh3ZCAEB3yiCSdkIAQGtQLbZ2QgCA6SHtz3ZC\",\"dtype\":\"float64\",\"shape\":[69]},\"water\":{\"__ndarray__\":\"xHEcx3EcT0CugllSDohSQHDND4uUgVhATcKNUu+bU0AoSr60EN9WQJ1RayAnmVZA8ZfyRFQ8UkAAAAAAAMBVQFIZ+yHQOlRAKL38aQsNVUCteBqjoDNXQFVMNuS5fFdAmMJqXq9CVkDRxby2slpRQMA+PKeFiDdAal3XdV3XOUDml0ls/oRPQJEUkPCTi0VA2WRW2VqdTUCD3mCnG7sVQAAAAAAAAAAAGcgFRt68VUBz3yFsCnA1QE+OnvWtuU1AnPJHnfJH3T9da6211jpQQLgPz2kh4k5AMBUkdQuFSkDRIfk3HnBRQDkk5u0MSUZA4d3HiZbrJ0AfKXD3HRc7QG/RBOVjnR5AZiQwZIQTNEDMBmhWrs1KQLFIGXi69VVASPh8X7sYR0BZzeRPZbZRQAAAAAAAAAAAAAAAAAAAAACKMvB0a340QNt1Xdd1XVFAQCxSBp5uTkD4PsUlQzBAQC2ltZTWUlJAC9pLaC+hPUB0UEFq87hLQJEfFikDTzRAAAAAAAAAAAA36RJ+SOM1QAAAAAAAAAAAYxAQ9Z9cRUDb9k26cHQ+QAAAAAAAAAAApOt45SZ9VkDsfgbZ6YRVQD4Hm73wLSVAncCa3KxCPUCA55jDyWxXQC61bHTf0lJAAAAAAAAAAAAAAAAAAAAAAOLA0635YS1AvBtNnV97REDxl+qdlAsaQAAAAAAAAAAAAAAAAAAAAACaYN5k0YskQA0WlsL5yT5A\",\"dtype\":\"float64\",\"shape\":[69]},\"wet\":{\"__ndarray__\":\"Z35YpAy8QkBPtiAr638yQDx7Ce0ltPc/pd43T9sjL0BcegdJjUggQAvJxx/TchtAd1eHbPaeOkAAAAAAAGAlQAyzSF2blzBAW1towJJeKkDYtXb20bcaQHU6BrN19RVAU++HcGqIIUCyjSXgsT0wQLUqr3qtbFJAkCRJkiRJUUBTtO8IuWBCQL8rMl+aeElAJpupJqViREBr3OOxjIZVQCK2acW9EzZA7HSkAJZRIkDe6ZEg3tNRQGEq27sO6EBA+PX19fX1T0CPUkoppZQ2QPNpPMJlmTdAPURZ5oXZKEBdEvd7Wqs2QFl00UUX3UdAukUm/6T2VEBEk/wL1hJRQPdPc600DFVAssjt5829UUCvPkKfjO5GQIaUgadb8ydABS+zzlaqREDbLQk1pO0xQAAAAAAAAAAAAAAAAAAAAAAvob2E9hJTQJgoiqIoijJAAAAAAAAAFEA271NcMoRFQJVm3e/KFClAXfPDImVgUUAW4S0gGsRBQJAy8HRrPlNAAAAAAAAAAAC9VIrvPJZQQAAAAAAAAAAApjWPMUs0TEDHusEU+axJQAAAAAAAAAAA1W7LRgl7HEDkV/BdzDUlQAy5rBgo4VNAw5rcrEJJUECRAlAiXSEPQJTvwkH0+DBACykDT7fmK0AAAAAAAAAAAOSHRcrAU1VAJmuMh3VMS0AgNE2Y9DpVQAAAAAAAAAAAAAAAAAAAAAAD7zJnyqBSQPl9p5yqN01A\",\"dtype\":\"float64\",\"shape\":[69]}},\"selected\":{\"id\":\"1128\",\"type\":\"Selection\"},\"selection_policy\":{\"id\":\"1127\",\"type\":\"UnionRenderers\"}},\"id\":\"1075\",\"type\":\"ColumnDataSource\"},{\"attributes\":{\"callback\":null,\"data\":{},\"selected\":{\"id\":\"1229\",\"type\":\"Selection\"},\"selection_policy\":{\"id\":\"1228\",\"type\":\"UnionRenderers\"}},\"id\":\"1197\",\"type\":\"ColumnDataSource\"},{\"attributes\":{\"callback\":null},\"id\":\"1027\",\"type\":\"TapTool\"},{\"attributes\":{},\"id\":\"1127\",\"type\":\"UnionRenderers\"},{\"attributes\":{},\"id\":\"1028\",\"type\":\"SaveTool\"},{\"attributes\":{\"fill_alpha\":0.1,\"fill_color\":\"#1f77b4\",\"x\":{\"field\":\"utc_time\"},\"y1\":{\"expr\":{\"id\":\"1041\",\"type\":\"Stack\"}},\"y2\":{\"expr\":{\"id\":\"1042\",\"type\":\"Stack\"}}},\"id\":\"1078\",\"type\":\"VArea\"},{\"attributes\":{\"callback\":null,\"data\":{\"bare\":{\"__ndarray__\":\"4enW/LBIaT/XrFK0PO/qP5q4bATVM8Y/oZ63TdLt0j+Gdl9o8FG1P7YOjHHTnP4/neJNJoShwz9SuB6F61HUPzXGXf61mtM/KqHymHs1zD+7EURaL2DLPxymUO3mnq8/Hq1ob/1PoT82IRZk7UjbPzOm40fu7NQ//8Om0pBz3z/h1N2W92+tP6SAhJ9ciOo/AAAAAAAAAAAQ54V8YpHTPyjENq24d+4/LLTbZP4I1D+dyGxRq/HtPx7uggK559g/ec8kes8kCkDYWmuttdbqP26rKGv54ts/n+KLfnxo9T8PMHgs79XmP+w4juM4jtc/q95Dkeo9xD9TXTm3fkTgP9iZ1VP3luI/teMscvt50z/71Ufok9F9P6Oxi9c/b5A/ybe6ZFuW7j/YbydMILHnPygha1F7U+o/FbKQhSxk7z8FQ77HtNrmPwuOekLBreU/T2gvob2E1j/phGf6G3TTP3Yzmc1kNvM/mpmZmZmZyT/c3+U7OOn4P7WGv00xavA/fLo1PyxSFkBV6yCG0ywEQCFx2QiqZxBAwekkZOdn0D8IlH+8z9UBQN9ocl+FOQdAb6mDS3C24z8bTTHY7mbmP704638Me/o/Sgi60gB5+z+AfqCzMITUP9hMYTpWzeQ/zYkOBRjyAUA3juM4juMOQAAAAAAAAAAABogqaiJM4z9Wzdrb+dDzP1+kDDzdmglA1yCcpZK4CkDCzpNEMmkEQLG7X69MWwRA\",\"dtype\":\"float64\",\"shape\":[69]},\"dry\":{\"__ndarray__\":\"Ewz5HtNqyz/b2wWss/ARQOeFfI9ptb0/PVodsCDEEEDlCIhhw5TBP+mpSNMHhdU/Ml2OkVz/wD9I4XoUrsf0PwflunhDPfc/mpmZmZmZ+T/R5I1da2e/P9iy4OupSNM/gvzNl1E/+T8TWTvSNs8mQPPq0JLCm/k/sHR+GtvkCEBzE+07Qi64P2e+NHEYqwxAAAAAAAAAAAAv9AY73dgZQEa/GhPpGVJAokfViM7hBUBGZotajS8SQNtzrErS2BFA1NbW1tZWM0CBBRZYYGEgQAc2wCEYFSVA4HHWqkGAOkAK1P9amm8SQCbm7QyJ+RNAK9V7KFK9B0BytO4i7KsEQE4Ayyi1PBVAJD0sqHmOGEBnLexCQ5XZPwCSda48ILk/rnDwDCMeIEAroYa0vfIcQD6ht+d84VZAkSELWcidVkDUCKpn7OL1P9EnfdInfR5AeWt+WKTMOkAGul0rJxwxQL4sUQiadiFAKd9jWm1H0z94zpB18oISQLv+eYNwluI/oRl4ujXPVUDsBHa9masWQOeZmZmZSVZAy2PMEs1I1z+jQ0sKb2YnQCDG6583uFZAGLKy/mct9T+NuKzzSUT2P13gCnWX4xJAEGU+B1wLAUDgYXcfw1r2Px7hUzIeEhJA5W7ND4vUUkCobUeT+xpWQAAAAAAAAAAA87db09pcBEBc1cD3lBUTQIZQPWMXf1ZA3nrGLl5vVkABCeVQDdgdQAorFu8wmhNA\",\"dtype\":\"float64\",\"shape\":[69]},\"green\":{\"__ndarray__\":\"ZCOonrGLtz8sgmBDOhIAQOXp1vywSMk/EOhwpeBD9z8/63GUg53CP7g/O+/iEeA/eQsOSszAwj/hehSuR+HlP4u8wqgp3+Y/5W2/ZUgC6T9vicyUW0fGP8kJgUg+/sg/wne5F9xf4j9v2ckUnEsDQCKe00LEqeo/RGIlVmIl9j8hIRcMr1WrP5e6GbTsePg/AAAAAAAAAAD2Q2SsCqL6Pyn3TrLUEQxAKYmZCitC6j/82Fsbprn7Pz/7+9cm2P0/Z1VVVVVVKUC0yy677DILQAhuxMT6ugxAD8geLC5CGUCBBaC0DLIBQJxArV8pUAJACvFXW8fs8D88y+t5iNX3PwQrQlrTxgFAqVDY3RLiA0CGMe040NW+P4NwlkrisrE/Yd42Iwv0CkCSLE3tpmUJQM9vQBJB/hZACwAAAABAHkAkr3/eIJzxP5McMGjp/AxAi8RlI6ieGkC1Vk54pj8cQASebs0PixBAQL7HtNqO1j/3d/kOTjoGQAzmRIcCDPE/ArgpRg1/FkA8/ZdK8Z0LQGhyX4U50RRAIQWV/PGszj8Ww+z5M3wQQGk7mtxXYRNAwbAaLN2d7j+6Ug+kJxLzP/2HKmoiTAtA4lsmbROO+z/PBjdMqqnlP4+/PyZK+QNAntc/bxDOHEC3T/qkT/oYQAAAAAAAAAAAu3wAtR0h9D8D8LiWR/gDQLZsBNUzdhZAqzLwdGt+F0C413iVP0EUQIoVi3cYzQlA\",\"dtype\":\"float64\",\"shape\":[69]},\"utc_time\":{\"__ndarray__\":\"AIBwZirwYEIAgMm89i1hQgCALlxBBmJCAABTXQ1EYkIAgH+LvgdjQgCAJj0LEmNCAIAV4CPBY0IAgCbSVupjQgCAKHjuzGRCAIDPKTvXZEIAgAXZh+FkQgCAR4bU62RCAIBfOiH2ZEIAgNYbVB9lQgCAKNjsmmVCAIAujzmlZUIAgDptbM5lQgCAIuTQh2ZCAIDzjh2SZkIAgEiUA7FmQgCAFuGC5GZCAIATKU2JZ0IAgEC6TFdoQgCAZQ2yRWpCAIAd+eRuakIAgK4s4zxrQgCAu4V8UWtCAABAJ29ibEIAgMfO7fxsQgCAY4WF321CAIACz9vbbkIAAF5PdfBuQgCAcg7C+m5CAIBOzA4Fb0IAQDj5X0twQgDAXrWsVXBCAECLKEZqcEIAAO/fknRwQgDAJ8dSjnBCAEDO3SvwcEIAQKWPkUJxQgDAjLM1SXJCAEBCEVxOckIAwC0GG89yQgCAhg6nJnNCAMBAZs0rc0IAAIwzpvRzQgBAq+vy/nNCAADsh+VBdEIAALEo2IR0QgAAz7tXuHRCAADhUNfrdEIAwCZpSvt0QgCAcvBWH3VCAAAoDuN2dUIAAJ9rCXx1QgCAJWgixHVCAIANgJXTdUIAgHg74t11QgAAIq978nVCAACxeDsMdkIAwD7h1CB2QgCA0lzhRHZCAABeMaFedkIAAMns7Wh2QgAAzxPUh3ZCAEB3yiCSdkIAQGtQLbZ2QgCA6SHtz3ZC\",\"dtype\":\"float64\",\"shape\":[69]},\"water\":{\"__ndarray__\":\"xHEcx3EcT0CugllSDohSQHDND4uUgVhATcKNUu+bU0AoSr60EN9WQJ1RayAnmVZA8ZfyRFQ8UkAAAAAAAMBVQFIZ+yHQOlRAKL38aQsNVUCteBqjoDNXQFVMNuS5fFdAmMJqXq9CVkDRxby2slpRQMA+PKeFiDdAal3XdV3XOUDml0ls/oRPQJEUkPCTi0VA2WRW2VqdTUCD3mCnG7sVQAAAAAAAAAAAGcgFRt68VUBz3yFsCnA1QE+OnvWtuU1AnPJHnfJH3T9da6211jpQQLgPz2kh4k5AMBUkdQuFSkDRIfk3HnBRQDkk5u0MSUZA4d3HiZbrJ0AfKXD3HRc7QG/RBOVjnR5AZiQwZIQTNEDMBmhWrs1KQLFIGXi69VVASPh8X7sYR0BZzeRPZbZRQAAAAAAAAAAAAAAAAAAAAACKMvB0a340QNt1Xdd1XVFAQCxSBp5uTkD4PsUlQzBAQC2ltZTWUlJAC9pLaC+hPUB0UEFq87hLQJEfFikDTzRAAAAAAAAAAAA36RJ+SOM1QAAAAAAAAAAAYxAQ9Z9cRUDb9k26cHQ+QAAAAAAAAAAApOt45SZ9VkDsfgbZ6YRVQD4Hm73wLSVAncCa3KxCPUCA55jDyWxXQC61bHTf0lJAAAAAAAAAAAAAAAAAAAAAAOLA0635YS1AvBtNnV97REDxl+qdlAsaQAAAAAAAAAAAAAAAAAAAAACaYN5k0YskQA0WlsL5yT5A\",\"dtype\":\"float64\",\"shape\":[69]},\"wet\":{\"__ndarray__\":\"Z35YpAy8QkBPtiAr638yQDx7Ce0ltPc/pd43T9sjL0BcegdJjUggQAvJxx/TchtAd1eHbPaeOkAAAAAAAGAlQAyzSF2blzBAW1towJJeKkDYtXb20bcaQHU6BrN19RVAU++HcGqIIUCyjSXgsT0wQLUqr3qtbFJAkCRJkiRJUUBTtO8IuWBCQL8rMl+aeElAJpupJqViREBr3OOxjIZVQCK2acW9EzZA7HSkAJZRIkDe6ZEg3tNRQGEq27sO6EBA+PX19fX1T0CPUkoppZQ2QPNpPMJlmTdAPURZ5oXZKEBdEvd7Wqs2QFl00UUX3UdAukUm/6T2VEBEk/wL1hJRQPdPc600DFVAssjt5829UUCvPkKfjO5GQIaUgadb8ydABS+zzlaqREDbLQk1pO0xQAAAAAAAAAAAAAAAAAAAAAAvob2E9hJTQJgoiqIoijJAAAAAAAAAFEA271NcMoRFQJVm3e/KFClAXfPDImVgUUAW4S0gGsRBQJAy8HRrPlNAAAAAAAAAAAC9VIrvPJZQQAAAAAAAAAAApjWPMUs0TEDHusEU+axJQAAAAAAAAAAA1W7LRgl7HEDkV/BdzDUlQAy5rBgo4VNAw5rcrEJJUECRAlAiXSEPQJTvwkH0+DBACykDT7fmK0AAAAAAAAAAAOSHRcrAU1VAJmuMh3VMS0AgNE2Y9DpVQAAAAAAAAAAAAAAAAAAAAAAD7zJnyqBSQPl9p5yqN01A\",\"dtype\":\"float64\",\"shape\":[69]}},\"selected\":{\"id\":\"1159\",\"type\":\"Selection\"},\"selection_policy\":{\"id\":\"1158\",\"type\":\"UnionRenderers\"}},\"id\":\"1102\",\"type\":\"ColumnDataSource\"},{\"attributes\":{\"fill_alpha\":0.2,\"fill_color\":\"grey\",\"x\":{\"field\":\"utc_time\"},\"y1\":{\"expr\":{\"id\":\"1041\",\"type\":\"Stack\"}},\"y2\":{\"expr\":{\"id\":\"1042\",\"type\":\"Stack\"}}},\"id\":\"1079\",\"type\":\"VArea\"},{\"attributes\":{\"fill_alpha\":{\"value\":0.1},\"fill_color\":{\"value\":\"#1f77b4\"},\"hatch_alpha\":{\"value\":0.6},\"hatch_color\":{\"value\":\"white\"},\"hatch_pattern\":{\"value\":\"/\"},\"height\":{\"value\":100},\"left\":{\"value\":1320105600000.0},\"line_alpha\":{\"value\":0.1},\"line_color\":{\"value\":\"#1f77b4\"},\"line_width\":{\"value\":2},\"right\":{\"value\":1364774400000.0},\"y\":{\"value\":50}},\"id\":\"1199\",\"type\":\"HBar\"},{\"attributes\":{\"callback\":null,\"end\":1567643279000.0,\"start\":581990298500.0},\"id\":\"1195\",\"type\":\"Range1d\"},{\"attributes\":{\"fill_alpha\":0.7,\"fill_color\":\"#04d9ff\",\"x\":{\"field\":\"utc_time\"},\"y1\":{\"expr\":{\"id\":\"1041\",\"type\":\"Stack\"}},\"y2\":{\"expr\":{\"id\":\"1042\",\"type\":\"Stack\"}}},\"id\":\"1077\",\"type\":\"VArea\"},{\"attributes\":{\"fill_alpha\":{\"value\":0.5},\"fill_color\":{\"value\":\"white\"},\"hatch_alpha\":{\"value\":0.6},\"hatch_color\":{\"value\":\"white\"},\"hatch_pattern\":{\"value\":\"/\"},\"height\":{\"value\":100},\"left\":{\"value\":1320105600000.0},\"line_alpha\":{\"value\":0.6},\"line_color\":{\"value\":\"white\"},\"line_width\":{\"value\":2},\"right\":{\"value\":1364774400000.0},\"y\":{\"value\":50}},\"id\":\"1198\",\"type\":\"HBar\"},{\"attributes\":{\"fields\":[]},\"id\":\"1039\",\"type\":\"Stack\"},{\"attributes\":{\"data_source\":{\"id\":\"1197\",\"type\":\"ColumnDataSource\"},\"glyph\":{\"id\":\"1198\",\"type\":\"HBar\"},\"hover_glyph\":null,\"muted_glyph\":null,\"nonselection_glyph\":{\"id\":\"1199\",\"type\":\"HBar\"},\"selection_glyph\":null,\"view\":{\"id\":\"1201\",\"type\":\"CDSView\"}},\"id\":\"1200\",\"type\":\"GlyphRenderer\"},{\"attributes\":{\"data_source\":{\"id\":\"1075\",\"type\":\"ColumnDataSource\"},\"glyph\":{\"id\":\"1077\",\"type\":\"VArea\"},\"hover_glyph\":null,\"muted_glyph\":{\"id\":\"1079\",\"type\":\"VArea\"},\"name\":\"wet\",\"nonselection_glyph\":{\"id\":\"1078\",\"type\":\"VArea\"},\"selection_glyph\":null,\"view\":{\"id\":\"1081\",\"type\":\"CDSView\"}},\"id\":\"1080\",\"type\":\"GlyphRenderer\"},{\"attributes\":{\"fields\":[\"water\"]},\"id\":\"1040\",\"type\":\"Stack\"},{\"attributes\":{\"source\":{\"id\":\"1197\",\"type\":\"ColumnDataSource\"}},\"id\":\"1201\",\"type\":\"CDSView\"},{\"attributes\":{\"fill_alpha\":0.7,\"fill_color\":\"#030aa7\",\"x\":{\"field\":\"utc_time\"},\"y1\":{\"expr\":{\"id\":\"1039\",\"type\":\"Stack\"}},\"y2\":{\"expr\":{\"id\":\"1040\",\"type\":\"Stack\"}}},\"id\":\"1051\",\"type\":\"VArea\"},{\"attributes\":{\"align\":\"center\",\"text\":\"Percentage of area dominated by WOfS, Wetness, Fractional Cover for 59_Lake Cantara North.csv\",\"text_font_size\":{\"value\":\"12pt\"}},\"id\":\"1003\",\"type\":\"Title\"},{\"attributes\":{\"label\":{\"value\":\"wet\"},\"renderers\":[{\"id\":\"1080\",\"type\":\"GlyphRenderer\"}]},\"id\":\"1101\",\"type\":\"LegendItem\"},{\"attributes\":{\"mantissas\":[1,2,5],\"max_interval\":500.0,\"num_minor_ticks\":0},\"id\":\"1060\",\"type\":\"AdaptiveTicker\"}],\"root_ids\":[\"1002\"]},\"title\":\"Bokeh Application\",\"version\":\"1.4.0\"}};\n",
       "  var render_items = [{\"docid\":\"cc9cc5f1-3f35-40e6-b07f-1183a8237682\",\"roots\":{\"1002\":\"45071e7b-b376-4c0d-830f-a96f40775b3a\"}}];\n",
       "  root.Bokeh.embed.embed_items_notebook(docs_json, render_items);\n",
       "\n",
       "  }\n",
       "  if (root.Bokeh !== undefined) {\n",
       "    embed_document(root);\n",
       "  } else {\n",
       "    var attempts = 0;\n",
       "    var timer = setInterval(function(root) {\n",
       "      if (root.Bokeh !== undefined) {\n",
       "        clearInterval(timer);\n",
       "        embed_document(root);\n",
       "      } else {\n",
       "        attempts++;\n",
       "        if (attempts > 100) {\n",
       "          clearInterval(timer);\n",
       "          console.log(\"Bokeh: ERROR: Unable to run BokehJS code because BokehJS library is missing\");\n",
       "        }\n",
       "      }\n",
       "    }, 10, root)\n",
       "  }\n",
       "})(window);"
      ],
      "application/vnd.bokehjs_exec.v0+json": ""
     },
     "metadata": {
      "application/vnd.bokehjs_exec.v0+json": {
       "id": "1002"
      }
     },
     "output_type": "display_data"
    }
   ],
   "source": [
    "from bokeh.plotting import figure, output_file, show\n",
    "from bokeh.models import Range1d, Label #use this to set the newWIT graph ranges\n",
    "from bokeh.models.formatters import DatetimeTickFormatter\n",
    "from bokeh.models.glyphs import Text\n",
    "from bokeh.models import ColumnDataSource\n",
    "from bokeh.models.tickers import DatetimeTicker\n",
    "\n",
    "TOOLS = [\"pan, wheel_zoom, box_zoom, reset, tap, save\"]\n",
    "\n",
    "def prettierWITplot():\n",
    "    '''Function to use bokeh to draw a WIT plot.'''\n",
    "    print('stuff')\n",
    "    \n",
    "title =f'Percentage of area dominated by WOfS, Wetness, Fractional Cover for {polyName}'    \n",
    "       \n",
    "#set up the x axis to recognise date and time. Note that you will only see the days when you zoom in.\n",
    "p =figure(plot_width=1200, \n",
    "          plot_height = 400, \n",
    "          x_axis_type='datetime',\n",
    "         title=title, tools=TOOLS)\n",
    "p.sizing_mode = \"scale_width\"\n",
    "#align the title in the centre\n",
    "p.title.align= \"center\"\n",
    "p.title.text_font_size=\"12pt\"\n",
    "\n",
    "#label axes\n",
    "p.yaxis.axis_label=(\"percentage of polygon classified as type\")\n",
    "p.yaxis.axis_label_text_font_size=\"8pt\"\n",
    "\n",
    "\n",
    "# #layout puts things in certain places\n",
    "\n",
    "#we need screen units to put the attribution label under the plot. Don't ask why.\n",
    "label_opts = dict(\n",
    "    x=0, \n",
    "    y=0,\n",
    "    x_units='screen', \n",
    "    y_units='screen',\n",
    "    text_font_style=\"italic\", \n",
    "    text_font_size=\"8.5pt\")\n",
    "\n",
    "\n",
    "\n",
    "msg1 = 'The Fractional Cover algorithm developed by the Joint Remote Sensing Research Program\\n\\\n",
    "and the Water Observations from Space algorithm developed by Geoscience Australia are used in the production of this data'\n",
    "caption1 = Label(text=msg1, **label_opts)\n",
    "\n",
    "p.add_layout(caption1, 'below')\n",
    "\n",
    "p.xaxis.formatter=DatetimeTickFormatter(years =[\"%Y\"], months=[\"%m/%Y\"] ,days=[\"%d/%m/%Y\"])\n",
    "p.xaxis.major_label_orientation = 45\n",
    "\n",
    "#create the actual stack plot using data from the pandas dataframe with the ingested csv.\n",
    "p.varea_stack(['water', \n",
    "              'wet',\n",
    "              'green',\n",
    "              'dry',\n",
    "              'bare'], x= 'utc_time', color=pal, fill_alpha=0.7, source = WITdata, \n",
    "              legend_label=[\"water\",\"wet\",\"green\",\"dry\",\"bare\"], muted_color=\"grey\", muted_alpha=0.2)\n",
    "\n",
    "\t\n",
    "#set the new WIT graph ranges.\n",
    "left, right, bottom, top = WITdata.index[0], WITdata.index[-1], 0, 100 #set \n",
    "p.x_range=Range1d(left, right)\n",
    "p.y_range=Range1d(bottom, top)\n",
    "p.xaxis.bounds=(left,right)\n",
    "p.yaxis.bounds=(bottom,top)\n",
    "\n",
    "#now we want to overplot the data on the plot\n",
    "#create rectangle borders for no-data times (SLC-off only)\n",
    "LS5_8_gap_start = datetime(2011,11,1)\n",
    "LS5_8_gap_end = datetime(2013,4,1)\n",
    "\n",
    "#plot our dead satellite rectangle\n",
    "p.hbar(y=50, \n",
    "       height=100,\n",
    "       left=LS5_8_gap_start, \n",
    "       right=LS5_8_gap_end, \n",
    "       color=\"white\", \n",
    "       alpha=0.5, \n",
    "       hatch_color=\"white\", \n",
    "       hatch_pattern='/',\n",
    "       hatch_alpha=0.6,\n",
    "       line_color=\"white\",\n",
    "       line_width =2,\n",
    "       line_alpha=0.6)\n",
    "\n",
    "p.legend\n",
    "p.legend.location=\"bottom_left\"\n",
    "p.legend.click_policy=\"mute\"\n",
    "p.legend.background_fill_alpha=0.5\n",
    "p.legend.border_line_alpha=0.5\n",
    "p.legend.label_text_font_size=\"9pt\"\n",
    "\n",
    "#display the plot    \n",
    "show(p)   "
   ]
  },
  {
   "cell_type": "markdown",
   "metadata": {},
   "source": [
    "<!-- ### query: setup query as output of javascript picker from bokeh plot -->"
   ]
  },
  {
   "cell_type": "markdown",
   "metadata": {},
   "source": [
    "### query time period from plot. to do so zoom in until you get a date you want"
   ]
  },
  {
   "cell_type": "markdown",
   "metadata": {},
   "source": [
    "### Insert your chosen date in the cell below where it says `chosen_date`"
   ]
  },
  {
   "cell_type": "markdown",
   "metadata": {},
   "source": [
    "### Date needs to be in format: 'YYYY-MM-DD'"
   ]
  },
  {
   "cell_type": "code",
   "execution_count": 39,
   "metadata": {},
   "outputs": [],
   "source": [
    "chosen_date='24-07-2015'"
   ]
  },
  {
   "cell_type": "code",
   "execution_count": 40,
   "metadata": {},
   "outputs": [
    {
     "name": "stdout",
     "output_type": "stream",
     "text": [
      "24-07-2015\n"
     ]
    }
   ],
   "source": [
    "print(chosen_date)"
   ]
  },
  {
   "cell_type": "markdown",
   "metadata": {},
   "source": [
    "### Ok now we have to match the polygon back up with the graph. To do this, set the path to the location of the polygon used to generate the WIT"
   ]
  },
  {
   "cell_type": "markdown",
   "metadata": {},
   "source": [
    "set the path to the location of the polygon. For Wetlands Insight Tool v2, this is "
   ]
  },
  {
   "cell_type": "code",
   "execution_count": 51,
   "metadata": {},
   "outputs": [],
   "source": [
    "poly_path = '/g/data/r78/DEA_Wetlands/shapefiles/waterfowlandwetlands_3577.shp'"
   ]
  },
  {
   "cell_type": "code",
   "execution_count": 53,
   "metadata": {},
   "outputs": [
    {
     "name": "stdout",
     "output_type": "stream",
     "text": [
      "59_Lake Cantara North\n"
     ]
    }
   ],
   "source": [
    "#this section opens our chosen polygon based off our chosen WIT output\n",
    "with fiona.open(poly_path) as shapes:\n",
    "    #get crs object from polygon file\n",
    "    crs = geometry.CRS(shapes.crs_wkt)\n",
    "    for feature in shapes:\n",
    "        #print (feature['properties']['Site_Name'])\n",
    "        if feature['properties']['Site_Name'] == '59_Lake Cantara North':\n",
    "            print (feature['properties']['Site_Name'])\n",
    "            #get feature geometry\n",
    "            feature_geometry=feature['geometry']\n",
    "            #create datacube geometry.Geometry object\n",
    "            geom = geometry.Geometry(feature_geometry, crs=crs)\n",
    "            #print(geom)"
   ]
  },
  {
   "cell_type": "code",
   "execution_count": 54,
   "metadata": {},
   "outputs": [],
   "source": [
    "### Now set up the query. I recommend picking roughly 10 days either side"
   ]
  },
  {
   "cell_type": "markdown",
   "metadata": {},
   "source": [
    "set a buffer 10 days either side of our chosen date to capture our search"
   ]
  },
  {
   "cell_type": "code",
   "execution_count": 65,
   "metadata": {},
   "outputs": [],
   "source": [
    "#this is our ten day buffer\n",
    "buffer = pd.Timedelta('120 days')"
   ]
  },
  {
   "cell_type": "code",
   "execution_count": 66,
   "metadata": {},
   "outputs": [],
   "source": [
    "chosen_date =pd.to_datetime(chosen_date)"
   ]
  },
  {
   "cell_type": "code",
   "execution_count": 67,
   "metadata": {},
   "outputs": [],
   "source": [
    "early_buffer = chosen_date - buffer\n",
    "late_buffer = chosen_date + buffer"
   ]
  },
  {
   "cell_type": "code",
   "execution_count": 68,
   "metadata": {},
   "outputs": [],
   "source": [
    "#convert back to string\n",
    "early_buffer = str(early_buffer)[:10]\n",
    "late_buffer = str(late_buffer)[:10]"
   ]
  },
  {
   "cell_type": "code",
   "execution_count": 69,
   "metadata": {},
   "outputs": [
    {
     "name": "stdout",
     "output_type": "stream",
     "text": [
      "2015-03-26 2015-11-21\n"
     ]
    }
   ],
   "source": [
    "print(early_buffer, late_buffer)"
   ]
  },
  {
   "cell_type": "code",
   "execution_count": 70,
   "metadata": {},
   "outputs": [],
   "source": [
    "#this sets up our datacube query based off the corresponding polygon and the chosen date. \n",
    "query = {'geopolygon': geom,\n",
    "         'time': (early_buffer,late_buffer),\n",
    "         'output_crs': 'EPSG:3577',\n",
    "         'resolution':(-25,25)\n",
    "        }"
   ]
  },
  {
   "cell_type": "code",
   "execution_count": 71,
   "metadata": {},
   "outputs": [
    {
     "name": "stdout",
     "output_type": "stream",
     "text": [
      "Loading ls5\n",
      "    Skipping ls5; no valid data for query\n",
      "Loading ls7\n",
      "    Ignoring SLC-off observations for ls7\n",
      "    Skipping ls7; no valid data for query\n",
      "Loading ls8\n",
      "    Loading 3 filtered ls8 timesteps\n",
      "Returning ls8 data\n",
      "    Replacing invalid -999 values with NaN (data will be coerced to float32)\n",
      "Loading ls5\n",
      "    Skipping ls5; no valid data for query\n",
      "Loading ls7\n",
      "    Ignoring SLC-off observations for ls7\n",
      "    Skipping ls7; no valid data for query\n",
      "Loading ls8\n",
      "    Loading 3 filtered ls8 timesteps\n",
      "Returning ls8 data\n",
      "    Replacing invalid -999 values with NaN (data will be coerced to float32)\n"
     ]
    }
   ],
   "source": [
    "WITmaps = wetlands_insight.WIT_da(query)"
   ]
  },
  {
   "cell_type": "code",
   "execution_count": 72,
   "metadata": {},
   "outputs": [],
   "source": [
    "#check what the data looks like for the first timestep\n",
    "#WITmaps"
   ]
  },
  {
   "cell_type": "code",
   "execution_count": 73,
   "metadata": {},
   "outputs": [
    {
     "data": {
      "application/vnd.jupyter.widget-view+json": {
       "model_id": "7d60a84e60d043bfadb9ba01460283d7",
       "version_major": 2,
       "version_minor": 0
      },
      "text/plain": [
       "Canvas(toolbar=Toolbar(toolitems=[('Home', 'Reset original view', 'home', 'home'), ('Back', 'Back to previous …"
      ]
     },
     "metadata": {},
     "output_type": "display_data"
    }
   ],
   "source": [
    "WITmaps.plot(col='time', col_wrap=4,vmin = 1, vmax = 5.01, levels=6, colors = pal, add_colorbar=False)#,figsize=(8,12))\n",
    "#plt.savefig(f'/g/data/r78/rjd547/CEWO_Project/prototyping_outputs/{input_file}_{early_buffer}-{late_buffer}.png')\n",
    "plt.show()"
   ]
  },
  {
   "cell_type": "code",
   "execution_count": 74,
   "metadata": {},
   "outputs": [],
   "source": [
    "#load data to check"
   ]
  },
  {
   "cell_type": "code",
   "execution_count": 75,
   "metadata": {},
   "outputs": [
    {
     "name": "stdout",
     "output_type": "stream",
     "text": [
      "Loading ls5\n",
      "    Skipping ls5; no valid data for query\n",
      "Loading ls7\n",
      "    Ignoring SLC-off observations for ls7\n",
      "    Skipping ls7; no valid data for query\n",
      "Loading ls8\n",
      "    Loading 5 filtered ls8 timesteps\n",
      "Returning ls8 data\n",
      "    Replacing invalid -999 values with NaN (data will be coerced to float32)\n"
     ]
    }
   ],
   "source": [
    "rgbcheck = DEADataHandling.load_clearlandsat(dc,query,mask_pixel_quality=False, masked_prop=0.80,\n",
    "    mask_invalid_data=True)"
   ]
  },
  {
   "cell_type": "code",
   "execution_count": 76,
   "metadata": {},
   "outputs": [
    {
     "data": {
      "text/html": [
       "<pre>&lt;xarray.Dataset&gt;\n",
       "Dimensions:          (time: 5, x: 48, y: 79)\n",
       "Coordinates:\n",
       "  * time             (time) datetime64[ns] 2015-06-06T00:26:58 ... 2015-09-26T00:27:46\n",
       "  * y                (y) float64 -3.989e+06 -3.989e+06 ... -3.991e+06 -3.991e+06\n",
       "  * x                (x) float64 6.95e+05 6.95e+05 ... 6.962e+05 6.962e+05\n",
       "Data variables:\n",
       "    coastal_aerosol  (time, y, x) float32 989.0 664.0 659.0 ... 2322.0 2288.0\n",
       "    blue             (time, y, x) float32 995.0 612.0 652.0 ... 2453.0 2459.0\n",
       "    green            (time, y, x) float32 1255.0 762.0 805.0 ... 3142.0 3125.0\n",
       "    red              (time, y, x) float32 1372.0 871.0 920.0 ... 3595.0 3502.0\n",
       "    nir              (time, y, x) float32 2242.0 1806.0 1890.0 ... 4245.0 4220.0\n",
       "    swir1            (time, y, x) float32 1994.0 1512.0 1519.0 ... 2709.0 2645.0\n",
       "    swir2            (time, y, x) float32 1224.0 1024.0 1012.0 ... 1109.0 1113.0\n",
       "    data_perc        (time) float32 0.8201477 0.9514768 ... 0.9657173 0.8037975\n",
       "Attributes:\n",
       "    crs:      EPSG:3577</pre>"
      ],
      "text/plain": [
       "<xarray.Dataset>\n",
       "Dimensions:          (time: 5, x: 48, y: 79)\n",
       "Coordinates:\n",
       "  * time             (time) datetime64[ns] 2015-06-06T00:26:58 ... 2015-09-26T00:27:46\n",
       "  * y                (y) float64 -3.989e+06 -3.989e+06 ... -3.991e+06 -3.991e+06\n",
       "  * x                (x) float64 6.95e+05 6.95e+05 ... 6.962e+05 6.962e+05\n",
       "Data variables:\n",
       "    coastal_aerosol  (time, y, x) float32 989.0 664.0 659.0 ... 2322.0 2288.0\n",
       "    blue             (time, y, x) float32 995.0 612.0 652.0 ... 2453.0 2459.0\n",
       "    green            (time, y, x) float32 1255.0 762.0 805.0 ... 3142.0 3125.0\n",
       "    red              (time, y, x) float32 1372.0 871.0 920.0 ... 3595.0 3502.0\n",
       "    nir              (time, y, x) float32 2242.0 1806.0 1890.0 ... 4245.0 4220.0\n",
       "    swir1            (time, y, x) float32 1994.0 1512.0 1519.0 ... 2709.0 2645.0\n",
       "    swir2            (time, y, x) float32 1224.0 1024.0 1012.0 ... 1109.0 1113.0\n",
       "    data_perc        (time) float32 0.8201477 0.9514768 ... 0.9657173 0.8037975\n",
       "Attributes:\n",
       "    crs:      EPSG:3577"
      ]
     },
     "execution_count": 76,
     "metadata": {},
     "output_type": "execute_result"
    }
   ],
   "source": [
    "rgbcheck"
   ]
  },
  {
   "cell_type": "code",
   "execution_count": 79,
   "metadata": {},
   "outputs": [
    {
     "data": {
      "application/vnd.jupyter.widget-view+json": {
       "model_id": "e6592847fc8547d094257aa2b5473f5f",
       "version_major": 2,
       "version_minor": 0
      },
      "text/plain": [
       "Canvas(toolbar=Toolbar(toolitems=[('Home', 'Reset original view', 'home', 'home'), ('Back', 'Back to previous …"
      ]
     },
     "metadata": {},
     "output_type": "display_data"
    }
   ],
   "source": [
    "DEAPlotting.rgb(rgbcheck, col='time', col_wrap=5)"
   ]
  },
  {
   "cell_type": "code",
   "execution_count": 83,
   "metadata": {},
   "outputs": [
    {
     "data": {
      "application/vnd.jupyter.widget-view+json": {
       "model_id": "34923d1735644b14a488925a4c57f3c9",
       "version_major": 2,
       "version_minor": 0
      },
      "text/plain": [
       "Canvas(toolbar=Toolbar(toolitems=[('Home', 'Reset original view', 'home', 'home'), ('Back', 'Back to previous …"
      ]
     },
     "metadata": {},
     "output_type": "display_data"
    }
   ],
   "source": [
    "DEAPlotting.rgb(rgbcheck, bands = ['swir1','nir','green'], col='time', col_wrap=5)"
   ]
  },
  {
   "cell_type": "markdown",
   "metadata": {},
   "source": [
    "### Set output file location"
   ]
  },
  {
   "cell_type": "code",
   "execution_count": null,
   "metadata": {},
   "outputs": [],
   "source": []
  },
  {
   "cell_type": "code",
   "execution_count": 29,
   "metadata": {},
   "outputs": [],
   "source": [
    "Output_loc = f'/g/data/r78/rjd547/CEWO_Project/prototyping_outputs/'#'{input_file}_{early_buffer}-{late_buffer}.png'"
   ]
  },
  {
   "cell_type": "markdown",
   "metadata": {},
   "source": [
    "Choose a timestep here"
   ]
  },
  {
   "cell_type": "code",
   "execution_count": 53,
   "metadata": {},
   "outputs": [],
   "source": [
    "image_index = 0"
   ]
  },
  {
   "cell_type": "markdown",
   "metadata": {},
   "source": [
    "get time string"
   ]
  },
  {
   "cell_type": "code",
   "execution_count": 54,
   "metadata": {},
   "outputs": [
    {
     "name": "stdout",
     "output_type": "stream",
     "text": [
      "2018-09-11\n"
     ]
    }
   ],
   "source": [
    "image_date = str(WITmaps[image_index].time.data)[:10]\n",
    "print(image_date)"
   ]
  },
  {
   "cell_type": "code",
   "execution_count": 55,
   "metadata": {},
   "outputs": [],
   "source": [
    "file_num = input_file.split('.')[0]"
   ]
  },
  {
   "cell_type": "code",
   "execution_count": 56,
   "metadata": {},
   "outputs": [
    {
     "name": "stdout",
     "output_type": "stream",
     "text": [
      "9_2018-09-11\n"
     ]
    }
   ],
   "source": [
    "print(f'{file_num}_{image_date}')"
   ]
  },
  {
   "cell_type": "code",
   "execution_count": 58,
   "metadata": {},
   "outputs": [
    {
     "data": {
      "image/png": "[encoded data removed]",
      "text/plain": [
       "<Figure size 432x288 with 2 Axes>"
      ]
     },
     "metadata": {
      "needs_background": "light"
     },
     "output_type": "display_data"
    }
   ],
   "source": [
    "%matplotlib inline\n",
    "WITmaps[image_index].plot(vmin = 1, vmax = 5.01, levels=6, colors = pal)#, add_colorbar=False)#,figsize=(8,12))\n",
    "plt.show()"
   ]
  },
  {
   "cell_type": "code",
   "execution_count": 59,
   "metadata": {},
   "outputs": [],
   "source": [
    "outfilename = f'{file_num}_{image_date}'"
   ]
  },
  {
   "cell_type": "code",
   "execution_count": 61,
   "metadata": {},
   "outputs": [],
   "source": [
    "geotiff_WITmaps = WITmaps.isel(time=image_index).to_dataset()\n",
    "geotiff_WITmaps.attrs = WITmaps.attrs"
   ]
  },
  {
   "cell_type": "code",
   "execution_count": 62,
   "metadata": {},
   "outputs": [],
   "source": [
    "#transfer datatype to uint8 for ArcGIS import\n",
    "geotiff_WITmaps_8 = geotiff_WITmaps.astype('uint8')\n",
    "geotiff_WITmaps_8.attrs = WITmaps.attrs"
   ]
  },
  {
   "cell_type": "code",
   "execution_count": 63,
   "metadata": {},
   "outputs": [
    {
     "data": {
      "text/plain": [
       "'/g/data/r78/rjd547/CEWO_Project/prototyping_outputs/9_2018-09-11'"
      ]
     },
     "execution_count": 63,
     "metadata": {},
     "output_type": "execute_result"
    }
   ],
   "source": [
    "Output_loc+outfilename"
   ]
  },
  {
   "cell_type": "code",
   "execution_count": 64,
   "metadata": {},
   "outputs": [],
   "source": [
    "datacube.helpers.write_geotiff(Output_loc+outfilename+'.tif', geotiff_WITmaps_8)"
   ]
  },
  {
   "cell_type": "code",
   "execution_count": null,
   "metadata": {},
   "outputs": [],
   "source": []
  }
 ],
 "metadata": {
  "kernelspec": {
   "display_name": "Python 3",
   "language": "python",
   "name": "python3"
  },
  "language_info": {
   "codemirror_mode": {
    "name": "ipython",
    "version": 3
   },
   "file_extension": ".py",
   "mimetype": "text/x-python",
   "name": "python",
   "nbconvert_exporter": "python",
   "pygments_lexer": "ipython3",
   "version": "3.6.7"
  },
  "widgets": {
   "application/vnd.jupyter.widget-state+json": {
    "state": {},
    "version_major": 2,
    "version_minor": 0
   }
  }
 },
 "nbformat": 4,
 "nbformat_minor": 4
}
