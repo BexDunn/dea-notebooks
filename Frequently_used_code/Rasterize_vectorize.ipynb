{
 "cells": [
  {
   "cell_type": "markdown",
   "metadata": {},
   "source": [
<<<<<<< HEAD
    "# Rasterizing vectors & vectorizing rasters"
   ]
  },
  {
   "cell_type": "markdown",
   "metadata": {},
   "source": [
    "**Notebook currently compatible with both the `NCI` and `DEA Sandbox` environments**"
=======
    "# Rasterizing vectors & vectorizing rasters <img align=\"right\" src=\"../Supplementary_data/dea_logo.jpg\">\n",
    "\n",
    "* **Compatability:** Notebook currently compatible with both the `NCI` and `DEA Sandbox` environments\n",
    "* **Products used:** \n",
    "[wofs_annual_summary](https://explorer.sandbox.dea.ga.gov.au/wofs_annual_summary)"
>>>>>>> origin/develop
   ]
  },
  {
   "cell_type": "markdown",
   "metadata": {},
   "source": [
<<<<<<< HEAD
    "### Background\n",
    "\n",
    "Many remote sensing and/or geospatial workflows require converting between vector data (e.g. shapefiles) and raster data (e.g. pixel-based data like that in an `xarray.DataArray`).  \n",
=======
    "## Background\n",
    "\n",
    "Many remote sensing and/or geospatial workflows require converting between vector data (e.g. shapefiles) and raster data (e.g. pixel-based data like that in an `xarray.DataArray`).\n",
>>>>>>> origin/develop
    "For example, we may need to use a shapefile as a mask to limit the analysis extent of a raster, or have raster data that we want to convert into vector data to allow for easy geometry operations."
   ]
  },
  {
   "cell_type": "markdown",
   "metadata": {},
   "source": [
<<<<<<< HEAD
    "### Description\n",
    "This notebook demonstrates the use of the python package [rasterio](https://rasterio.readthedocs.io/en/stable/index.html) to convert between raster and vector data.  \n",
    "\n",
    "The first section loads in [Water Observations from Space (WOfS)](https://www.ga.gov.au/scientific-topics/community-safety/flood/wofs/about-wofs) data from the `datacube`, and vectorises the pixel-based `xarray.DataArray` object into a vector-based `geopandas.GeoDataFrame` object containing persistent water-bodies as polygons. \n",
    "We then export the `GeoDataframe` as a shapefile.  \n",
    "\n",
    "The second section rasterises the vector data we created in the first section back into an `xarray.DataArray`, and exports the results as a GeoTIFF.\n"
   ]
  },
  {
   "cell_type": "markdown",
   "metadata": {},
   "source": [
    "### Technical details\n",
    "* **Products used:** [`wofs_annual_summary`](https://explorer.sandbox.dea.ga.gov.au/wofs_annual_summary)\n",
    "* **Analyses used:** `rasterio.features.rasterize`, `rasterio.features.shapes`, `geopandas.GeoDataFrame`\n",
    "* **Special requirements:** In order for geopandas plotting methods to work on the DEA Sandbox, the `descartes` Python package needs to be manually installed.\n",
    "This can be done by running the following command in a cell:\n",
    "    - `!pip install --user descartes`"
=======
    "## Description\n",
    "This notebook demonstrates the use of the DEA function `xr_rasterize` and `xr_vectorize` in [Scripts/dea_spatialtools.py](../Scripts/dea_spatialtools.py). \n",
    "\n",
    "The first section loads in [Water Observations from Space (WOfS)](https://www.ga.gov.au/scientific-topics/community-safety/flood/wofs/about-wofs) data from Digital Earth Australia, and vectorises the pixel-based `xarray.DataArray` object into a vector-based `geopandas.GeoDataFrame` object containing persistent water-bodies as polygons. \n",
    "We then export the `GeoDataframe` as a shapefile.  \n",
    "\n",
    "The second section rasterises the vector data we created in the first section back into an `xarray.DataArray`, and exports the results as a GeoTIFF."
>>>>>>> origin/develop
   ]
  },
  {
   "cell_type": "markdown",
   "metadata": {},
   "source": [
    "## Getting started\n",
    "To run this analysis, run all the cells in the notebook, starting with the \"Load packages\" cell. "
   ]
  },
  {
   "cell_type": "markdown",
   "metadata": {},
   "source": [
    "### Load packages\n"
   ]
  },
  {
   "cell_type": "code",
   "execution_count": 1,
   "metadata": {},
   "outputs": [],
   "source": [
    "%matplotlib inline\n",
    "\n",
<<<<<<< HEAD
    "import datacube\n",
    "import pprint\n",
    "import shapely\n",
    "import rasterio.features\n",
    "import numpy as np\n",
    "import xarray as xr\n",
    "import geopandas as gpd\n",
    "from datacube.helpers import write_geotiff\n"
=======
    "import sys\n",
    "import datacube\n",
    "\n",
    "sys.path.append(\"../Scripts\")\n",
    "from dea_spatialtools import xr_vectorize, xr_rasterize"
>>>>>>> origin/develop
   ]
  },
  {
   "cell_type": "markdown",
   "metadata": {},
   "source": [
    "### Connect to the datacube"
   ]
  },
  {
   "cell_type": "code",
   "execution_count": 2,
   "metadata": {},
   "outputs": [],
   "source": [
<<<<<<< HEAD
    "dc = datacube.Datacube(app=\"Rasterize_vectorize\")"
=======
    "dc = datacube.Datacube(app='Rasterize_vectorize')"
>>>>>>> origin/develop
   ]
  },
  {
   "cell_type": "markdown",
   "metadata": {},
   "source": [
    "## Load WOfS data from the datacube\n",
    "\n",
<<<<<<< HEAD
    "We will load in an annual summary from the [Water Observations from Space (WOfS)](https://www.ga.gov.au/scientific-topics/community-safety/flood/wofs/about-wofs) product to provide us with some data to work with. The query below will load the 2000 annual summary of `WOfS` for the region around the Menindee Lakes."
=======
    "We will load in an annual summary from the [Water Observations from Space (WOfS)](https://www.ga.gov.au/scientific-topics/community-safety/flood/wofs/about-wofs) product to provide us with some data to work with. The query below will load the 2000 annual summary of WOfS for the region around the Menindee Lakes."
>>>>>>> origin/develop
   ]
  },
  {
   "cell_type": "code",
   "execution_count": 3,
   "metadata": {},
   "outputs": [
    {
     "name": "stdout",
     "output_type": "stream",
     "text": [
      "<xarray.Dataset>\n",
      "Dimensions:      (time: 1, x: 2789, y: 2443)\n",
      "Coordinates:\n",
      "  * time         (time) datetime64[ns] 2000-01-01\n",
      "  * y            (y) float64 -3.536e+06 -3.536e+06 ... -3.597e+06 -3.597e+06\n",
      "  * x            (x) float64 9.396e+05 9.396e+05 ... 1.009e+06 1.009e+06\n",
<<<<<<< HEAD
=======
      "    spatial_ref  int32 3577\n",
>>>>>>> origin/develop
      "Data variables:\n",
      "    count_wet    (time, y, x) int16 0 0 0 0 0 0 0 0 0 0 ... 0 0 0 0 0 0 0 0 0 0\n",
      "    count_clear  (time, y, x) int16 24 24 23 23 23 24 24 ... 12 12 12 12 12 12\n",
      "    frequency    (time, y, x) float32 0.0 0.0 0.0 0.0 0.0 ... 0.0 0.0 0.0 0.0\n",
      "Attributes:\n",
<<<<<<< HEAD
      "    crs:      EPSG:3577\n"
=======
      "    crs:           EPSG:3577\n",
      "    grid_mapping:  spatial_ref\n"
>>>>>>> origin/develop
     ]
    }
   ],
   "source": [
    "# Create a query object\n",
    "query = {\n",
    "    'x': (142.1, 142.80),\n",
    "    'y': (-32.1, -32.6),\n",
    "    'time': ('2000')\n",
    "}\n",
    "\n",
    "# Load WoFS through the datacube\n",
    "ds = dc.load(product='wofs_annual_summary', \n",
    "             **query)\n",
    "\n",
    "print(ds)\n"
   ]
  },
  {
   "cell_type": "markdown",
   "metadata": {},
   "source": [
    "### Plot the WOfS summary\n",
    "\n",
<<<<<<< HEAD
    "Let's plot the `WOfS` data to get an idea of the objects we will be transforming. \n",
=======
    "Let's plot the WOfS data to get an idea of the objects we will be transforming. \n",
>>>>>>> origin/develop
    "In the code below, we first select the pixels where the satellite has observed water at least 25% of the year, this is so we can isolate the more persistent water bodies and reduce some of the noise before we vectorize the raster."
   ]
  },
  {
   "cell_type": "code",
   "execution_count": 4,
   "metadata": {},
   "outputs": [
    {
     "data": {
      "text/plain": [
<<<<<<< HEAD
       "<matplotlib.collections.QuadMesh at 0x7f4cc4b13a20>"
=======
       "<matplotlib.collections.QuadMesh at 0x7f776833d828>"
>>>>>>> origin/develop
      ]
     },
     "execution_count": 4,
     "metadata": {},
     "output_type": "execute_result"
    },
    {
     "data": {
<<<<<<< HEAD
      "image/png": "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\n",
=======
      "image/png": "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\n",
>>>>>>> origin/develop
      "text/plain": [
       "<Figure size 540x360 with 2 Axes>"
      ]
     },
     "metadata": {
      "needs_background": "light"
     },
     "output_type": "display_data"
    }
   ],
   "source": [
    "# Select pixels that are classified as water > 25 % of the time\n",
    "water_bodies = ds.frequency > 0.25\n",
    "\n",
    "# Plot the data\n",
    "water_bodies.plot(size=5)"
   ]
  },
  {
   "cell_type": "markdown",
   "metadata": {},
   "source": [
    "## Vectorizing an `xarray.DataArray`\n",
    "\n",
<<<<<<< HEAD
    "Using [rasterio.features.shape](https://rasterio.readthedocs.io/en/stable/api/rasterio.features.html), we will turn our `xarray.DataArray` of the persistent water bodies into a shapefile:\n",
    "- The `source` parameter requires a simple `numpy` array, with the datatype explicitly set. \n",
    "- We can use the `mask` parameter to set which values in the array we want to convert to vectors. \n",
    "In this instance, we want to convert only the values of 1, which correspond to the persistent water bodies in the array. \n",
    "- The `transform` parameter provides the geospatial coordinates to transform the array into a geo-located shapefile. \n",
    "We can get this from our original `xarray.Dataset`."
   ]
  },
  {
   "cell_type": "code",
   "execution_count": 5,
   "metadata": {},
   "outputs": [],
   "source": [
    "# First grab the spatial information from our datacube xarray object\n",
    "transform = ds.geobox.transform\n",
    "\n",
    "# Run the vectorizing function\n",
    "vectors = rasterio.features.shapes(source=water_bodies.data.astype('int16'),\n",
    "                                   mask=(water_bodies.data == 1),\n",
    "                                   transform=transform)\n"
   ]
  },
  {
   "cell_type": "markdown",
   "metadata": {},
   "source": [
    "The returned object is a `generator` that contains the `(polygon, value)` pair for each unique feature in the array. \n",
    "Before we can create a shapefile, we can unpack the generator objects into lists which are easier to manipulate.\n",
    "\n",
    "The last part of the code will print the first `(polygon, value)` pair to show what these objects look like."
=======
    "To convert our xarray.DataArray object into a vector based `geopandas geodataframe`, we can use the DEA function `xr_vectorize` in the script [Scripts/dea_spatialtools.py](../Scripts/dea_spatialtools.py). This tool is based on the [rasterio.features.shape](https://rasterio.readthedocs.io/en/stable/api/rasterio.features.html) function, and can accept any of the arguments in `rasterio.features.shape` using the same syntax.\n",
    "\n",
    "In the cell below, we use the argument `mask=water_bodies.values==1` to indicate we only want to convert the values in the xarray object that are equal to 1."
>>>>>>> origin/develop
   ]
  },
  {
   "cell_type": "code",
<<<<<<< HEAD
   "execution_count": 6,
=======
   "execution_count": 5,
>>>>>>> origin/develop
   "metadata": {},
   "outputs": [
    {
     "name": "stdout",
     "output_type": "stream",
     "text": [
<<<<<<< HEAD
      "Image value: 1.0\n",
      "Geometry:\n",
      "{'coordinates': [[(943150.0, -3535850.0),\n",
      "                  (943150.0, -3535875.0),\n",
      "                  (943125.0, -3535875.0),\n",
      "                  (943125.0, -3535925.0),\n",
      "                  (943175.0, -3535925.0),\n",
      "                  (943175.0, -3535900.0),\n",
      "                  (943200.0, -3535900.0),\n",
      "                  (943200.0, -3535850.0),\n",
      "                  (943150.0, -3535850.0)]],\n",
      " 'type': 'Polygon'}\n"
=======
      "      attribute                                           geometry\n",
      "0           1.0  POLYGON ((943150.000 -3535850.000, 943150.000 ...\n",
      "1           1.0  POLYGON ((950575.000 -3535900.000, 950575.000 ...\n",
      "2           1.0  POLYGON ((942800.000 -3535850.000, 942800.000 ...\n",
      "3           1.0  POLYGON ((1000550.000 -3535850.000, 1000550.00...\n",
      "4           1.0  POLYGON ((942950.000 -3535850.000, 942950.000 ...\n",
      "...         ...                                                ...\n",
      "1344        1.0  POLYGON ((947025.000 -3592675.000, 947025.000 ...\n",
      "1345        1.0  POLYGON ((939950.000 -3596875.000, 939950.000 ...\n",
      "1346        1.0  POLYGON ((950575.000 -3596875.000, 950575.000 ...\n",
      "1347        1.0  POLYGON ((939975.000 -3596900.000, 939975.000 ...\n",
      "1348        1.0  POLYGON ((964625.000 -3596700.000, 964625.000 ...\n",
      "\n",
      "[1349 rows x 2 columns]\n"
     ]
    },
    {
     "name": "stderr",
     "output_type": "stream",
     "text": [
      "/g/data/v10/public/modules/dea-env/20200526/lib/python3.6/site-packages/pyproj/crs/crs.py:53: FutureWarning: '+init=<authority>:<code>' syntax is deprecated. '<authority>:<code>' is the preferred initialization method. When making the change, be mindful of axis order changes: https://pyproj4.github.io/pyproj/stable/gotchas.html#axis-order-changes-in-proj-6\n",
      "  return _prepare_from_string(\" \".join(pjargs))\n"
>>>>>>> origin/develop
     ]
    }
   ],
   "source": [
<<<<<<< HEAD
    "# First convert the genertor into a list, as a generator can only be consumed once\n",
    "vectors = list(vectors)\n",
    "\n",
    "# Extract the polygon coordinates and values from the list using list comprehension\n",
    "polygons = [polygon for polygon, value in vectors]\n",
    "values = [value for polygon, value in vectors]\n",
    "\n",
    "print('Image value: ' + str(values[0]))\n",
    "print('Geometry:')\n",
    "pprint.pprint(polygons[0])\n"
   ]
  },
  {
   "cell_type": "markdown",
   "metadata": {},
   "source": [
    "Now that we have a list of geometries and values, we can add these to a [geopandas.GeoDataFrame](http://geopandas.org/). \n",
    "`geopandas` is a very useful library for handling vector data as it extends `pandas` to allow spatial operations.\n",
    "\n",
    "Before we create the `geopandas.GeoDataFrame`, we need to convert the polygon coordinates we extracted above into spatial `shapely.geometry` polygon shape features.\n",
    "This is required in order for `geopandas` to be able to be used for spatial analyses."
   ]
  },
  {
   "cell_type": "code",
   "execution_count": 7,
   "metadata": {},
   "outputs": [],
   "source": [
    "# First we need to convert our polygon coordinates into polygon shapes\n",
    "polygons = [shapely.geometry.shape(polygon) for polygon in polygons]\n",
    "\n",
    "# Create a geopandas dataframe populated with the polygon shapes\n",
    "gdf = gpd.GeoDataFrame(data={'attributes': values},\n",
    "                       geometry=polygons,\n",
    "                       crs=str(ds.crs))\n"
=======
    "gdf = xr_vectorize(water_bodies,\n",
    "                   crs=ds.crs,\n",
    "                   mask=water_bodies.values==1)\n",
    "\n",
    "print(gdf)"
>>>>>>> origin/develop
   ]
  },
  {
   "cell_type": "markdown",
   "metadata": {},
   "source": [
    "### Plot our vectorised raster "
   ]
  },
  {
   "cell_type": "code",
<<<<<<< HEAD
   "execution_count": 8,
=======
   "execution_count": 6,
>>>>>>> origin/develop
   "metadata": {},
   "outputs": [
    {
     "data": {
      "text/plain": [
<<<<<<< HEAD
       "<matplotlib.axes._subplots.AxesSubplot at 0x7f4c7921f4a8>"
      ]
     },
     "execution_count": 8,
=======
       "<matplotlib.axes._subplots.AxesSubplot at 0x7f776457d518>"
      ]
     },
     "execution_count": 6,
>>>>>>> origin/develop
     "metadata": {},
     "output_type": "execute_result"
    },
    {
     "data": {
<<<<<<< HEAD
      "image/png": "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\n",
=======
      "image/png": "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\n",
>>>>>>> origin/develop
      "text/plain": [
       "<Figure size 432x432 with 1 Axes>"
      ]
     },
     "metadata": {
      "needs_background": "light"
     },
     "output_type": "display_data"
    }
   ],
   "source": [
    "gdf.plot(figsize=(6, 6))"
   ]
  },
  {
   "cell_type": "markdown",
   "metadata": {},
   "source": [
    "### Export as shapefile\n",
    "\n",
<<<<<<< HEAD
    "`geopandas` allows us to very easily export the `GeoDataFrame` as a shapefile for use in other applications."
=======
    "Our function also allows us to very easily export the `GeoDataFrame` as a `shapefile`for use in other applications using the `export_shp` parameter:"
>>>>>>> origin/develop
   ]
  },
  {
   "cell_type": "code",
<<<<<<< HEAD
   "execution_count": 9,
   "metadata": {},
   "outputs": [],
   "source": [
    "gdf.to_file('water_bodies.shp')"
=======
   "execution_count": 7,
   "metadata": {},
   "outputs": [
    {
     "name": "stderr",
     "output_type": "stream",
     "text": [
      "/g/data/v10/public/modules/dea-env/20200526/lib/python3.6/site-packages/pyproj/crs/crs.py:53: FutureWarning: '+init=<authority>:<code>' syntax is deprecated. '<authority>:<code>' is the preferred initialization method. When making the change, be mindful of axis order changes: https://pyproj4.github.io/pyproj/stable/gotchas.html#axis-order-changes-in-proj-6\n",
      "  return _prepare_from_string(\" \".join(pjargs))\n"
     ]
    }
   ],
   "source": [
    "gdf = xr_vectorize(da=water_bodies,\n",
    "                   crs=ds.crs,\n",
    "                   mask=water_bodies.values == 1.,\n",
    "                   export_shp='test.shp')\n"
>>>>>>> origin/develop
   ]
  },
  {
   "cell_type": "markdown",
   "metadata": {},
   "source": [
<<<<<<< HEAD
    "## Rasterizing a shapefile\n",
    "\n",
    "Using [rasterio.features.rasterize](https://rasterio.readthedocs.io/en/stable/api/rasterio.features.html) we can turn the `geopandas.GeoDataFrame` back into a `xarray.Dataset`. \n",
    "As we already have the `GeoDataFrame` loaded we don't need to read in the shapefile, but if we wanted to read in a shapefile first we can use [gpd.read_file()](http://geopandas.org/reference/geopandas.read_file.html).   \n",
    "\n",
    "The first step is to extract an iterable of `(geometry, value)` pairs from the `gdf` object:"
   ]
  },
  {
   "cell_type": "code",
   "execution_count": 10,
   "metadata": {},
   "outputs": [],
   "source": [
    "# Use the geometry and attributes from `gdf` to create an iterable\n",
    "# zip of `(geometry, value)` pairs\n",
    "shapes = zip(gdf['geometry'], gdf['attributes'])\n"
   ]
  },
  {
   "cell_type": "markdown",
   "metadata": {},
   "source": [
    "We can now use the `(geometry, value)` iterable `shapes` to rasterize the polygons using `rasterio.features.rasterize`.  \n",
    "We also need to extract a `transform` object and the `x, y` length of the output array; this information we can grab from the intial `WOfS` dataset."
=======
    "***\n",
    "## Rasterizing a shapefile\n",
    "\n",
    "Using the `xr_rasterize` function in [Scripts/dea_spatialtools.py](../Scripts/dea_spatialtools.py) (based on the rasterio function: [rasterio.features.rasterize](https://rasterio.readthedocs.io/en/stable/api/rasterio.features.html), and can accept any of the arguments in `rasterio.features.rasterize` using the same syntax) we can turn the `geopandas.GeoDataFrame` back into a `xarray.Dataset`. \n",
    "\n",
    "As we already have the `GeoDataFrame` loaded we don't need to read in the shapefile, but if we wanted to read in a shapefile first we can use [gpd.read_file()](http://geopandas.org/reference/geopandas.read_file.html).   \n",
    "\n",
    "This function uses an `xarray.datarray` object as a template for converting the geodataframe into a raster object (the template provides the size, crs, dimensions, and attributes of the output array)."
>>>>>>> origin/develop
   ]
  },
  {
   "cell_type": "code",
<<<<<<< HEAD
   "execution_count": 11,
   "metadata": {},
   "outputs": [],
   "source": [
    "# First grab the spatial information from our datacube xarray object\n",
    "transform = ds.geobox.transform\n",
    "y, x = ds.frequency.squeeze().values.shape\n",
    "\n",
    "# Now convert the polgons into a numpy array\n",
    "water_bodies_again = rasterio.features.rasterize(shapes=shapes,\n",
    "                                                 out_shape=(y, x),\n",
    "                                                 all_touched=False,\n",
    "                                                 fill=np.nan,\n",
    "                                                 transform=transform)\n"
=======
   "execution_count": 8,
   "metadata": {},
   "outputs": [
    {
     "name": "stdout",
     "output_type": "stream",
     "text": [
      "Rasterizing to match xarray.DataArray dimensions (2443, 2789) and projection system/CRS (e.g. PROJCS[\"GDA94 / Australian Albers\",GEOGCS[\"GDA94\",DATUM[\"Geocentric_Datum_of_Australia_1994\",SPHEROID[\"GRS 1980\",6378137,298.257222101,AUTHORITY[\"EPSG\",\"7019\"]],AUTHORITY[\"EPSG\",\"6283\"]],PRIMEM[\"Greenwich\",0,AUTHORITY[\"EPSG\",\"8901\"]],UNIT[\"degree\",0.0174532925199433,AUTHORITY[\"EPSG\",\"9122\"]],AUTHORITY[\"EPSG\",\"4283\"]],PROJECTION[\"Albers_Conic_Equal_Area\"],PARAMETER[\"latitude_of_center\",0],PARAMETER[\"longitude_of_center\",132],PARAMETER[\"standard_parallel_1\",-18],PARAMETER[\"standard_parallel_2\",-36],PARAMETER[\"false_easting\",0],PARAMETER[\"false_northing\",0],UNIT[\"metre\",1,AUTHORITY[\"EPSG\",\"9001\"]],AXIS[\"Easting\",EAST],AXIS[\"Northing\",NORTH],AUTHORITY[\"EPSG\",\"3577\"]])\n",
      "<xarray.DataArray (y: 2443, x: 2789)>\n",
      "array([[0, 0, 0, ..., 0, 0, 0],\n",
      "       [0, 0, 0, ..., 0, 0, 0],\n",
      "       [0, 0, 0, ..., 0, 0, 0],\n",
      "       ...,\n",
      "       [0, 0, 0, ..., 0, 0, 0],\n",
      "       [0, 0, 0, ..., 0, 0, 0],\n",
      "       [0, 0, 0, ..., 0, 0, 0]], dtype=uint8)\n",
      "Coordinates:\n",
      "  * y        (y) float64 -3.536e+06 -3.536e+06 ... -3.597e+06 -3.597e+06\n",
      "  * x        (x) float64 9.396e+05 9.396e+05 9.397e+05 ... 1.009e+06 1.009e+06\n",
      "Attributes:\n",
      "    crs:      PROJCS[\"GDA94 / Australian Albers\",GEOGCS[\"GDA94\",DATUM[\"Geocen...\n"
     ]
    }
   ],
   "source": [
    "water_bodies_again = xr_rasterize(gdf=gdf,\n",
    "                                  da=water_bodies,\n",
    "                                  crs=ds.crs)\n",
    "\n",
    "print(water_bodies_again)"
>>>>>>> origin/develop
   ]
  },
  {
   "cell_type": "markdown",
   "metadata": {},
   "source": [
<<<<<<< HEAD
    "Finally, we can convert our array back into an `xarray.Dataset` object for plotting and exporting as a GeoTIFF."
=======
    "We can plot out rasterised data to verify it looks identical to the `water_bodies` data we previously plotted:"
>>>>>>> origin/develop
   ]
  },
  {
   "cell_type": "code",
<<<<<<< HEAD
   "execution_count": 12,
=======
   "execution_count": 9,
>>>>>>> origin/develop
   "metadata": {},
   "outputs": [
    {
     "data": {
      "text/plain": [
<<<<<<< HEAD
       "<matplotlib.collections.QuadMesh at 0x7f4c7910b860>"
      ]
     },
     "execution_count": 12,
=======
       "<matplotlib.collections.QuadMesh at 0x7f7764aa91d0>"
      ]
     },
     "execution_count": 9,
>>>>>>> origin/develop
     "metadata": {},
     "output_type": "execute_result"
    },
    {
     "data": {
<<<<<<< HEAD
      "image/png": "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\n",
=======
      "image/png": "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\n",
>>>>>>> origin/develop
      "text/plain": [
       "<Figure size 540x360 with 2 Axes>"
      ]
     },
     "metadata": {
      "needs_background": "light"
     },
     "output_type": "display_data"
    }
   ],
   "source": [
<<<<<<< HEAD
    "# Convert result to a xarray.DataArray using coords etc from original dc.load dataset\n",
    "water_bodies_again = xr.DataArray(water_bodies_again,\n",
    "                                  coords=[ds.y, ds.x],\n",
    "                                  dims=['y', 'x'],\n",
    "                                  name='water_bodies',\n",
    "                                  attrs=ds.attrs)\n",
    "\n",
    "# Convert to xarray dataset to assist with writing to GeoTIFF\n",
    "water_bodies_again = water_bodies_again.to_dataset()\n",
    "water_bodies_again.attrs = ds.attrs\n",
    "\n",
    "# Plot the result\n",
    "water_bodies_again.water_bodies.plot(size=5)\n"
=======
    "water_bodies_again.plot(size=5)"
>>>>>>> origin/develop
   ]
  },
  {
   "cell_type": "markdown",
   "metadata": {},
   "source": [
<<<<<<< HEAD
    "### Export as GeoTIFF"
=======
    "### Export as GeoTIFF\n",
    "\n",
    "`xr_rasterize` also allows for exporting the results as a GeoTIFF.  To do this, a named array is required. If a name is not provided using the `name` parameter, the function will provide a default name."
>>>>>>> origin/develop
   ]
  },
  {
   "cell_type": "code",
<<<<<<< HEAD
   "execution_count": 13,
   "metadata": {},
   "outputs": [],
   "source": [
    "write_geotiff('water_bodies_again.tif', water_bodies_again)"
   ]
  },
  {
   "cell_type": "markdown",
   "metadata": {},
   "source": [
    "## Additional information"
=======
   "execution_count": 10,
   "metadata": {},
   "outputs": [
    {
     "name": "stdout",
     "output_type": "stream",
     "text": [
      "Rasterizing to match xarray.DataArray dimensions (2443, 2789) and projection system/CRS (e.g. PROJCS[\"GDA94 / Australian Albers\",GEOGCS[\"GDA94\",DATUM[\"Geocentric_Datum_of_Australia_1994\",SPHEROID[\"GRS 1980\",6378137,298.257222101,AUTHORITY[\"EPSG\",\"7019\"]],AUTHORITY[\"EPSG\",\"6283\"]],PRIMEM[\"Greenwich\",0,AUTHORITY[\"EPSG\",\"8901\"]],UNIT[\"degree\",0.0174532925199433,AUTHORITY[\"EPSG\",\"9122\"]],AUTHORITY[\"EPSG\",\"4283\"]],PROJECTION[\"Albers_Conic_Equal_Area\"],PARAMETER[\"latitude_of_center\",0],PARAMETER[\"longitude_of_center\",132],PARAMETER[\"standard_parallel_1\",-18],PARAMETER[\"standard_parallel_2\",-36],PARAMETER[\"false_easting\",0],PARAMETER[\"false_northing\",0],UNIT[\"metre\",1,AUTHORITY[\"EPSG\",\"9001\"]],AXIS[\"Easting\",EAST],AXIS[\"Northing\",NORTH],AUTHORITY[\"EPSG\",\"3577\"]])\n",
      "Exporting GeoTIFF to test.tif\n"
     ]
    },
    {
     "name": "stderr",
     "output_type": "stream",
     "text": [
      "/g/data/v10/public/modules/dea/20200526/lib/python3.6/site-packages/datacube/helpers.py:34: DeprecationWarning: Function datacube.helpers.write_geotiff is deprecated,\n",
      "please use datacube.utils.cog.write_cog instead\n",
      "  category=DeprecationWarning)\n"
     ]
    }
   ],
   "source": [
    "water_bodies_again = xr_rasterize(gdf=gdf,\n",
    "                                  da=water_bodies,\n",
    "                                  crs=ds.crs,\n",
    "                                  export_tiff='test.tif')\n"
>>>>>>> origin/develop
   ]
  },
  {
   "cell_type": "markdown",
   "metadata": {},
   "source": [
<<<<<<< HEAD
=======
    "---\n",
    "\n",
    "## Additional information\n",
    "\n",
>>>>>>> origin/develop
    "**License:** The code in this notebook is licensed under the [Apache License, Version 2.0](https://www.apache.org/licenses/LICENSE-2.0). \n",
    "Digital Earth Australia data is licensed under the [Creative Commons by Attribution 4.0](https://creativecommons.org/licenses/by/4.0/) license.\n",
    "\n",
    "**Contact:** If you need assistance, please post a question on the [Open Data Cube Slack channel](http://slack.opendatacube.org/) or on the [GIS Stack Exchange](https://gis.stackexchange.com/questions/ask?tags=open-data-cube) using the `open-data-cube` tag (you can view previously asked questions [here](https://gis.stackexchange.com/questions/tagged/open-data-cube)).\n",
    "If you would like to report an issue with this notebook, you can file one on [Github](https://github.com/GeoscienceAustralia/dea-notebooks).\n",
    "\n",
<<<<<<< HEAD
    "**Last modified:** October 2019\n",
    "\n",
    "**Compatible `datacube` version:** "
=======
    "**Last modified:** June 2020\n",
    "\n",
    "**Compatible datacube version:** "
>>>>>>> origin/develop
   ]
  },
  {
   "cell_type": "code",
<<<<<<< HEAD
   "execution_count": 14,
=======
   "execution_count": 11,
>>>>>>> origin/develop
   "metadata": {},
   "outputs": [
    {
     "name": "stdout",
     "output_type": "stream",
     "text": [
<<<<<<< HEAD
      "1.7+43.gc873f3ea.dirty\n"
=======
      "1.8.0\n"
>>>>>>> origin/develop
     ]
    }
   ],
   "source": [
    "print(datacube.__version__)"
   ]
  },
  {
   "cell_type": "markdown",
   "metadata": {},
   "source": [
    "## Tags\n",
    "Browse all available tags on the DEA User Guide's [Tags Index](https://docs.dea.ga.gov.au/genindex.html)"
   ]
  },
  {
   "cell_type": "raw",
   "metadata": {
    "raw_mimetype": "text/restructuredtext"
   },
   "source": [
<<<<<<< HEAD
    "**Tags**: :index:`sandbox_compatible`, :index:`nci_compatible`, :index:`WOfS`, :index:`rasterize`, :index:`rasterio.features.shapes`, :index:`rasterio.features.rasterize`, :index:`write_geotiff`, :index:`geopandas`, :index:`vectorize`"
=======
    "**Tags**: :index:`sandbox compatible`, :index:`NCI compatible`, :index:`WOfS`, :index:`rasterize`, :index:`rasterio.features.shapes`, :index:`rasterio.features.rasterize`, :index:`write_geotiff`, :index:`GeoPandas`, :index:`vectorize`, :index:`GeoTIFF`, :index:`shapefile`, :index:`xr_rasterize`, :index:`xr_vectorize`"
>>>>>>> origin/develop
   ]
  }
 ],
 "metadata": {
  "kernelspec": {
   "display_name": "Python 3",
   "language": "python",
   "name": "python3"
  },
  "language_info": {
   "codemirror_mode": {
    "name": "ipython",
    "version": 3
   },
   "file_extension": ".py",
   "mimetype": "text/x-python",
   "name": "python",
   "nbconvert_exporter": "python",
   "pygments_lexer": "ipython3",
<<<<<<< HEAD
   "version": "3.6.8"
=======
   "version": "3.6.10"
  },
  "widgets": {
   "application/vnd.jupyter.widget-state+json": {
    "state": {},
    "version_major": 2,
    "version_minor": 0
   }
>>>>>>> origin/develop
  }
 },
 "nbformat": 4,
 "nbformat_minor": 4
}
