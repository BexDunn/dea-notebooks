{
 "cells": [
  {
   "cell_type": "markdown",
   "metadata": {},
   "source": [
    "# DEA CoastLines validation\n",
    "\n",
    "To do:\n",
    "* [X] Change output CRS to Australian Albers\n",
    "* [X] Discard validation sides with multiple intersects?\n",
    "* [X] Split analysis code into:\n",
    "    * Aggregate multiple profiles and export into single file\n",
    "    * Analyse and plot single file\n",
    "* [ ] Add extraction of environmental data for each profile line"
   ]
  },
  {
   "cell_type": "code",
   "execution_count": null,
   "metadata": {},
   "outputs": [],
   "source": [
    "# import xarray as xr\n",
    "# from shapely.geometry import Point, LineString\n"
   ]
  },
  {
   "cell_type": "markdown",
   "metadata": {},
   "source": [
    "## Load modules/functions\n"
   ]
  },
  {
   "cell_type": "code",
   "execution_count": 158,
   "metadata": {},
   "outputs": [
    {
     "name": "stdout",
     "output_type": "stream",
     "text": [
      "The line_profiler extension is already loaded. To reload it, use:\n",
      "  %reload_ext line_profiler\n",
      "The autoreload extension is already loaded. To reload it, use:\n",
      "  %reload_ext autoreload\n"
     ]
    }
   ],
   "source": [
    "%matplotlib inline\n",
    "%load_ext line_profiler\n",
    "%load_ext autoreload\n",
    "%autoreload 2\n",
    "\n",
    "import sys\n",
    "import glob\n",
    "import numpy as np\n",
    "import geopandas as gpd\n",
    "import pandas as pd\n",
    "import matplotlib.pyplot as plt\n",
    "from shapely.geometry import box\n",
    "\n",
    "sys.path.append('/g/data/r78/rt1527/dea-notebooks/MAHTS/')\n",
    "import deacoastlines_validation as deacl_val\n",
    "import deacoastlines_statistics as deacl_stats\n",
    "\n",
    "def to_vector(df, fname='test.shp', x='x', y='y', crs='EPSG:3577', output_crs='EPSG:3577'):\n",
    "    \n",
    "    # Convert datetimes to strings\n",
    "    is_datetime = df.dtypes == 'datetime64[ns]'\n",
    "    df.loc[:, is_datetime] = df.loc[:, is_datetime].astype(str) \n",
    "    \n",
    "    # Export to file\n",
    "    print('test')\n",
    "    gdf = gpd.GeoDataFrame(data=df.loc[:, df.dtypes != 'datetime64[ns]'],\n",
    "                     geometry=gpd.points_from_xy(x=df[x], y=df[y]),\n",
    "                     crs=crs).to_crs(output_crs).to_file(fname)\n",
    "    \n",
    "    return gdf\n",
    "\n",
    "\n",
    "def export_eval(df, output_name, output_crs='EPSG:3577'):\n",
    "    \n",
    "    from shapely.geometry import box, Point, LineString\n",
    "\n",
    "    # Extract geometries\n",
    "    val_points = gpd.points_from_xy(x=df.val_x, y=df.val_y)\n",
    "    deacl_points = gpd.points_from_xy(x=df.deacl_x, y=df.deacl_y)\n",
    "    df_profiles = df.groupby('id').first()\n",
    "    profile_lines = df_profiles.apply(\n",
    "        lambda x: LineString([(x.start_x, x.start_y), (x.end_x, x.end_y)]), axis=1)\n",
    "\n",
    "    # Export validation points\n",
    "    val_gdf = gpd.GeoDataFrame(data=df,\n",
    "                               geometry=val_points,\n",
    "                               crs=output_crs).to_crs('EPSG:4326')\n",
    "    val_gdf.to_file(f'figures/eval/{output_name}_val.geojson', driver='GeoJSON')\n",
    "\n",
    "    # Export DEACL points\n",
    "    deacl_gdf = gpd.GeoDataFrame(data=df,\n",
    "                                 geometry=deacl_points,\n",
    "                                 crs=output_crs).to_crs('EPSG:4326')\n",
    "    deacl_gdf.to_file(f'figures/eval/{output_name}_deacl.geojson', driver='GeoJSON')\n",
    "\n",
    "    # Export profiles\n",
    "    profile_gdf = gpd.GeoDataFrame(data=df_profiles,\n",
    "                                 geometry=profile_lines,\n",
    "                                 crs=output_crs).to_crs('EPSG:4326')\n",
    "    profile_gdf.to_file(f'figures/eval/{output_name}_profiles.geojson', driver='GeoJSON')\n",
    "    "
   ]
  },
  {
   "cell_type": "markdown",
   "metadata": {},
   "source": [
    "## Analysis\n",
    "To investigate:\n",
    "* [X] Outlier in Bermagui (Horseshoe Bay)\n",
    "* [X] **Multiple outliers in Boambee Beach**\n",
    "* [X] Single remaining outlier in Bogangar to Kingscliff\n",
    "* [X] **Cluster of outliers in Burgess Beach: caused by one year of channel profiles**\n",
    "* [X] Sporadic outliers in Byron Bay\n",
    "* [X] Two remaining outlier in Corindi Beach\n",
    "* [X] **Major outliers at Crowdy Head**\n",
    "* [X] **String of outliers in opposite direction at Cullendulla**\n",
    "* [X] One remaining outlier at Diamond Beach\n",
    "* [X] One remaining outlier at Eurobadalla Beaches North\n",
    "* [ ] **Cluster of outliers at Evans Head and Broadwater**\n",
    "* [X] Two outliers in Fern Bay\n",
    "* [ ] **Extreme outliers at Flynn's Beach**\n",
    "* [ ] **Skewed result at Gerringong Harbour**\n",
    "* [ ] Outliers in Hargrave's Beach\n",
    "* [ ] Remaining outliers at Jimmy's Beach\n",
    "* [X] **Remaining major outlier at Lake Illawarra**\n",
    "* [X] **Outliers in Manly Beach**\n",
    "* [X] **Outliers at Mooney Beach**\n",
    "* [X] **Major issues with offset shorelines at Narrabeen/Collory**\n",
    "* [X] Outlier at Ocean View Beach\n",
    "* [X] **Outliers in opposite direction at Park's Beach**\n",
    "* [X] Cluster of outliers at Patch's Beach\n",
    "* [X] Outliers at Port Hacking \n",
    "* [X] **Weird line of points at Rainbow Beach**\n",
    "* [X] **No relationship at Sandbar Beach**\n",
    "* [ ] Outliers at Shellharbour Little Lake\n",
    "* [X] One remaining outlier at Stuart's Point\n",
    "* [ ] **Several remaining outliers at Swansea Belmont**\n",
    "* [X] **Cluster of outliers at The Entrance**\n",
    "* [X] Single outlier at Warrain\n",
    "* [ ] **Major issues with Valla Beach**"
   ]
  },
  {
   "cell_type": "code",
   "execution_count": 157,
   "metadata": {},
   "outputs": [
    {
     "name": "stdout",
     "output_type": "stream",
     "text": [
      "output_data/stirling_stirling.csv                                               \r"
     ]
    },
    {
     "data": {
      "text/html": [
       "<div>\n",
       "<style scoped>\n",
       "    .dataframe tbody tr th:only-of-type {\n",
       "        vertical-align: middle;\n",
       "    }\n",
       "\n",
       "    .dataframe tbody tr th {\n",
       "        vertical-align: top;\n",
       "    }\n",
       "\n",
       "    .dataframe thead th {\n",
       "        text-align: right;\n",
       "    }\n",
       "</style>\n",
       "<table border=\"1\" class=\"dataframe\">\n",
       "  <thead>\n",
       "    <tr style=\"text-align: right;\">\n",
       "      <th></th>\n",
       "      <th>id</th>\n",
       "      <th>year</th>\n",
       "      <th>beach</th>\n",
       "      <th>section</th>\n",
       "      <th>profile</th>\n",
       "      <th>source</th>\n",
       "      <th>certainty</th>\n",
       "      <th>n</th>\n",
       "      <th>start_x</th>\n",
       "      <th>start_y</th>\n",
       "      <th>end_x</th>\n",
       "      <th>end_y</th>\n",
       "      <th>val_x</th>\n",
       "      <th>val_y</th>\n",
       "      <th>val_dist</th>\n",
       "      <th>deacl_x</th>\n",
       "      <th>deacl_y</th>\n",
       "      <th>deacl_dist</th>\n",
       "      <th>diff_dist</th>\n",
       "    </tr>\n",
       "  </thead>\n",
       "  <tbody>\n",
       "    <tr>\n",
       "      <th>0</th>\n",
       "      <td>stirling_all_1</td>\n",
       "      <td>2011</td>\n",
       "      <td>stirling</td>\n",
       "      <td>all</td>\n",
       "      <td>4</td>\n",
       "      <td>GPS survey</td>\n",
       "      <td>good</td>\n",
       "      <td>2</td>\n",
       "      <td>-1.518565e+06</td>\n",
       "      <td>-3.573599e+06</td>\n",
       "      <td>-1.518711e+06</td>\n",
       "      <td>-3.573616e+06</td>\n",
       "      <td>-1.518610e+06</td>\n",
       "      <td>-3.573604e+06</td>\n",
       "      <td>45.147290</td>\n",
       "      <td>-1.518611e+06</td>\n",
       "      <td>-3.573604e+06</td>\n",
       "      <td>46.343058</td>\n",
       "      <td>-1.195768</td>\n",
       "    </tr>\n",
       "    <tr>\n",
       "      <th>1</th>\n",
       "      <td>stirling_all_10</td>\n",
       "      <td>2011</td>\n",
       "      <td>stirling</td>\n",
       "      <td>all</td>\n",
       "      <td>4</td>\n",
       "      <td>GPS survey</td>\n",
       "      <td>good</td>\n",
       "      <td>2</td>\n",
       "      <td>-1.519493e+06</td>\n",
       "      <td>-3.568528e+06</td>\n",
       "      <td>-1.519646e+06</td>\n",
       "      <td>-3.568546e+06</td>\n",
       "      <td>-1.519560e+06</td>\n",
       "      <td>-3.568536e+06</td>\n",
       "      <td>68.192225</td>\n",
       "      <td>-1.519558e+06</td>\n",
       "      <td>-3.568536e+06</td>\n",
       "      <td>65.877669</td>\n",
       "      <td>2.314556</td>\n",
       "    </tr>\n",
       "    <tr>\n",
       "      <th>2</th>\n",
       "      <td>stirling_all_11</td>\n",
       "      <td>2011</td>\n",
       "      <td>stirling</td>\n",
       "      <td>all</td>\n",
       "      <td>4</td>\n",
       "      <td>GPS survey</td>\n",
       "      <td>good</td>\n",
       "      <td>2</td>\n",
       "      <td>-1.519566e+06</td>\n",
       "      <td>-3.568234e+06</td>\n",
       "      <td>-1.519692e+06</td>\n",
       "      <td>-3.568252e+06</td>\n",
       "      <td>-1.519613e+06</td>\n",
       "      <td>-3.568240e+06</td>\n",
       "      <td>47.271982</td>\n",
       "      <td>-1.519604e+06</td>\n",
       "      <td>-3.568240e+06</td>\n",
       "      <td>38.957281</td>\n",
       "      <td>8.314701</td>\n",
       "    </tr>\n",
       "    <tr>\n",
       "      <th>3</th>\n",
       "      <td>stirling_all_12</td>\n",
       "      <td>2011</td>\n",
       "      <td>stirling</td>\n",
       "      <td>all</td>\n",
       "      <td>4</td>\n",
       "      <td>GPS survey</td>\n",
       "      <td>good</td>\n",
       "      <td>2</td>\n",
       "      <td>-1.519606e+06</td>\n",
       "      <td>-3.567935e+06</td>\n",
       "      <td>-1.519759e+06</td>\n",
       "      <td>-3.567957e+06</td>\n",
       "      <td>-1.519667e+06</td>\n",
       "      <td>-3.567943e+06</td>\n",
       "      <td>61.566078</td>\n",
       "      <td>-1.519661e+06</td>\n",
       "      <td>-3.567943e+06</td>\n",
       "      <td>55.844770</td>\n",
       "      <td>5.721307</td>\n",
       "    </tr>\n",
       "    <tr>\n",
       "      <th>4</th>\n",
       "      <td>stirling_all_13</td>\n",
       "      <td>2011</td>\n",
       "      <td>stirling</td>\n",
       "      <td>all</td>\n",
       "      <td>4</td>\n",
       "      <td>GPS survey</td>\n",
       "      <td>good</td>\n",
       "      <td>1</td>\n",
       "      <td>-1.519688e+06</td>\n",
       "      <td>-3.567729e+06</td>\n",
       "      <td>-1.519740e+06</td>\n",
       "      <td>-3.567736e+06</td>\n",
       "      <td>-1.519719e+06</td>\n",
       "      <td>-3.567733e+06</td>\n",
       "      <td>32.030295</td>\n",
       "      <td>-1.519710e+06</td>\n",
       "      <td>-3.567732e+06</td>\n",
       "      <td>22.738480</td>\n",
       "      <td>9.291816</td>\n",
       "    </tr>\n",
       "  </tbody>\n",
       "</table>\n",
       "</div>"
      ],
      "text/plain": [
       "                id  year     beach section  profile      source certainty  n  \\\n",
       "0   stirling_all_1  2011  stirling     all        4  GPS survey      good  2   \n",
       "1  stirling_all_10  2011  stirling     all        4  GPS survey      good  2   \n",
       "2  stirling_all_11  2011  stirling     all        4  GPS survey      good  2   \n",
       "3  stirling_all_12  2011  stirling     all        4  GPS survey      good  2   \n",
       "4  stirling_all_13  2011  stirling     all        4  GPS survey      good  1   \n",
       "\n",
       "        start_x       start_y         end_x         end_y         val_x  \\\n",
       "0 -1.518565e+06 -3.573599e+06 -1.518711e+06 -3.573616e+06 -1.518610e+06   \n",
       "1 -1.519493e+06 -3.568528e+06 -1.519646e+06 -3.568546e+06 -1.519560e+06   \n",
       "2 -1.519566e+06 -3.568234e+06 -1.519692e+06 -3.568252e+06 -1.519613e+06   \n",
       "3 -1.519606e+06 -3.567935e+06 -1.519759e+06 -3.567957e+06 -1.519667e+06   \n",
       "4 -1.519688e+06 -3.567729e+06 -1.519740e+06 -3.567736e+06 -1.519719e+06   \n",
       "\n",
       "          val_y   val_dist       deacl_x       deacl_y  deacl_dist  diff_dist  \n",
       "0 -3.573604e+06  45.147290 -1.518611e+06 -3.573604e+06   46.343058  -1.195768  \n",
       "1 -3.568536e+06  68.192225 -1.519558e+06 -3.568536e+06   65.877669   2.314556  \n",
       "2 -3.568240e+06  47.271982 -1.519604e+06 -3.568240e+06   38.957281   8.314701  \n",
       "3 -3.567943e+06  61.566078 -1.519661e+06 -3.567943e+06   55.844770   5.721307  \n",
       "4 -3.567733e+06  32.030295 -1.519710e+06 -3.567732e+06   22.738480   9.291816  "
      ]
     },
     "execution_count": 157,
     "metadata": {},
     "output_type": "execute_result"
    }
   ],
   "source": [
    "from sklearn.metrics import mean_squared_error\n",
    "from sklearn.metrics import mean_absolute_error\n",
    "\n",
    "val_paths = glob.glob('output_data/stirling_*.csv')\n",
    "deacl_path = '../packages/DEACoastLines_v0.2.0/DEACoastLines_coastlines_v0.2.0.shp'\n",
    "# deacl_path = '../DEACoastLines_coastlines_v0.2.0_0.20.shp'\n",
    "\n",
    "stats_list = []\n",
    "\n",
    "for val_path in val_paths:\n",
    "    \n",
    "    # Run analysis and close resulting figure\n",
    "    print(f'{val_path:<80}', end='\\r')\n",
    "    output_stats = deacl_val.deacl_validation(val_path, \n",
    "                                              deacl_path,\n",
    "                                              datum=0)\n",
    "    # Close figure if plotting over 10\n",
    "    if len(stats_list) > 10: plt.close()\n",
    "    \n",
    "    # Append stats to list\n",
    "    stats_list.append(output_stats)\n",
    "    \n",
    "# Combine stats into a dataframe\n",
    "stats_df = pd.concat(stats_list)\n",
    "stats_df.head()\n"
   ]
  },
  {
   "cell_type": "code",
   "execution_count": 148,
   "metadata": {},
   "outputs": [],
   "source": [
    "# Export evaluation vectord\n",
    "output_name = 'stirling'\n",
    "export_eval(stats_df, output_name)\n",
    "# stats_df.groupby('beach').apply(lambda x: export_eval(x, x.beach.iloc[0]))"
   ]
  },
  {
   "cell_type": "code",
   "execution_count": 164,
   "metadata": {},
   "outputs": [
    {
     "name": "stdout",
     "output_type": "stream",
     "text": [
      "MAE: 4.86 m\n",
      "RMSE: 7.76 m\n",
      "StDev: 7.66\n",
      "Corr: 0.924\n",
      "Mean offset: 8.54 m\n",
      "50th perc diff: 9.29 m\n"
     ]
    },
    {
     "data": {
      "text/plain": [
       "<matplotlib.axes._subplots.AxesSubplot at 0x7f4f27dc7630>"
      ]
     },
     "execution_count": 164,
     "metadata": {},
     "output_type": "execute_result"
    },
    {
     "data": {
      "image/png": "[encoded data removed]",
      "text/plain": [
       "<Figure size 432x288 with 2 Axes>"
      ]
     },
     "metadata": {
      "needs_background": "light"
     },
     "output_type": "display_data"
    }
   ],
   "source": [
    "# Print stats and plot scatterplot\n",
    "stats_subset = stats_df  #.loc[stats_df.beach=='wreckpoint']\n",
    "# stats_subset['deacl_dist'] += 10\n",
    "print(f'MAE: {mean_absolute_error(stats_subset.val_dist, stats_subset.deacl_dist):.2f} m\\n'\n",
    "      f'RMSE: {mean_squared_error(stats_subset.val_dist, stats_subset.deacl_dist)**0.5:.2f} m\\n'\n",
    "      f'StDev: {stats_subset[[\"diff_dist\"]].std().iloc[0]:.2f}\\n'\n",
    "      f'Corr: {stats_subset[[\"val_dist\", \"deacl_dist\"]].corr().iloc[0, 1]:.3f}\\n'\n",
    "      f'Mean offset: {stats_subset[[\"diff_dist\"]].mean().iloc[0]:.2f} m\\n'\n",
    "      f'50th perc diff: {stats_subset[\"diff_dist\"].abs().quantile(0.50):.2f} m')\n",
    "\n",
    "stats_subset.plot.scatter(x='val_dist',\n",
    "                      y='deacl_dist',\n",
    "                      c=stats_subset.year,\n",
    "                      s=25,\n",
    "                      cmap='YlOrRd',\n",
    "#                       vmin=1987,\n",
    "#                       vmax=2018,\n",
    "                      edgecolors='black',\n",
    "                      linewidth=0.5)\n"
   ]
  },
  {
   "cell_type": "code",
   "execution_count": 162,
   "metadata": {},
   "outputs": [
    {
     "data": {
      "text/plain": [
       "[<matplotlib.lines.Line2D at 0x7f4f288e9400>]"
      ]
     },
     "execution_count": 162,
     "metadata": {},
     "output_type": "execute_result"
    },
    {
     "data": {
      "image/png": "[encoded data removed]",
      "text/plain": [
       "<Figure size 576x576 with 1 Axes>"
      ]
     },
     "metadata": {
      "needs_background": "light"
     },
     "output_type": "display_data"
    }
   ],
   "source": [
    "import seaborn as sns\n",
    "\n",
    "extent = (0, 120)\n",
    "fig, ax = plt.subplots(figsize=(8, 8))\n",
    "\n",
    "sns.kdeplot(ax=ax,\n",
    "            data=stats_df.val_dist,\n",
    "            data2=stats_df.deacl_dist, \n",
    "            cmap='magma', \n",
    "            shade=True,\n",
    "            clip=(extent, extent)\n",
    "           )\n",
    "plt.gca().plot(np.linspace(*extent), \n",
    "               np.linspace(*extent),\n",
    "               color='white',\n",
    "               linestyle='dashed')"
   ]
  },
  {
   "cell_type": "code",
   "execution_count": 745,
   "metadata": {},
   "outputs": [],
   "source": [
    "to_vector(output_stats, fname='test6.shp', x='0_x', y='0_y', crs='EPSG:3577')"
   ]
  },
  {
   "cell_type": "markdown",
   "metadata": {},
   "source": [
    "## Pre-processing\n"
   ]
  },
  {
   "cell_type": "markdown",
   "metadata": {},
   "source": [
    "### Victoria/Deakin\n",
    "* [X] Renovated"
   ]
  },
  {
   "cell_type": "code",
   "execution_count": null,
   "metadata": {},
   "outputs": [],
   "source": [
    "deacl_val.preprocess_vicdeakin(fname='input_data/vicdeakin/z_data_10cm_VIC.csv',\n",
    "                               datum=0)"
   ]
  },
  {
   "cell_type": "markdown",
   "metadata": {},
   "source": [
    "### WRL Narrabeen \n",
    "* [X] Renovated"
   ]
  },
  {
   "cell_type": "code",
   "execution_count": null,
   "metadata": {},
   "outputs": [],
   "source": [
    "deacl_val.preprocess_narrabeen(fname='input_data/wrl/Narrabeen_Profiles_2018.csv',\n",
    "                               datum=0,\n",
    "                               overwrite=True)\n"
   ]
  },
  {
   "cell_type": "markdown",
   "metadata": {},
   "source": [
    "### NSW Beach Profile Database\n",
    "* [X] Renovated"
   ]
  },
  {
   "cell_type": "code",
   "execution_count": 143,
   "metadata": {},
   "outputs": [
    {
     "name": "stdout",
     "output_type": "stream",
     "text": [
      "Processing output_data/nswbpd_lennoxhead.csv                                               \r"
     ]
    },
    {
     "name": "stderr",
     "output_type": "stream",
     "text": [
      "/g/data/v10/public/modules/dea-env/20200526/lib/python3.6/site-packages/IPython/core/interactiveshell.py:3254: DtypeWarning: Columns (1) have mixed types.Specify dtype option on import or set low_memory=False.\n",
      "  if (await self.run_code(code, result,  async_=asy)):\n"
     ]
    },
    {
     "name": "stdout",
     "output_type": "stream",
     "text": [
      "\n",
      "Dropping invalid profiles: 19                                                                              \n",
      "Processing output_data/nswbpd_brunswick.csv                                                \n",
      "Dropping invalid profiles: 1                                                                               \n",
      "Processing output_data/nswbpd_saphirebeach.csv                                             \n",
      "Dropping invalid profiles: 13                                                                              \n",
      "Processing output_data/nswbpd_ballina.csv                                                  \n",
      "Dropping invalid profiles: 1                                                                               \n",
      "Processing output_data/nswbpd_boambeebeach.csv                                             \n",
      "Dropping invalid profiles: 9                                                                               \n",
      "Processing output_data/nswbpd_saltsbay.csv                                                 \n",
      "Dropping invalid profiles: 6                                                                               \n",
      "Processing output_data/nswbpd_oldbar.csv                                                   \n",
      "Dropping invalid profiles: 4                                                                               \n",
      "Processing output_data/nswbpd_diamondbeach.csv                                             \n",
      "Dropping invalid profiles: 2                                                                               \n",
      "Processing output_data/nswbpd_kingscliff.csv                                               \n",
      "Dropping invalid profiles: 2                                                                               \n",
      "Processing output_data/nswbpd_byronbay.csv                                                 \n",
      "Dropping invalid profiles: 14                                                                              \n",
      "Processing output_data/nswbpd_minnamurra.csv                                               \n",
      "Dropping invalid profiles: 1                                                                               \n",
      "Processing output_data/nswbpd_nambucca.csv                                                 \n",
      "Dropping invalid profiles: 18                                                                              \n",
      "Processing output_data/nswbpd_uminabeach.csv                                               \n",
      "Dropping invalid profiles: 1                                                                               \n",
      "Processing output_data/nswbpd_sealrocks.csv                                                \n",
      "Dropping invalid profiles: 6                                                                               \n",
      "Processing output_data/nswbpd_fiddamansbeachheadland.csv                                   \n",
      "Dropping invalid profiles: 14                                                                              \n",
      "Processing output_data/nswbpd_macauleysbeach.csv                                           \n",
      "Dropping invalid profiles: 9                                                                               \n",
      "Processing output_data/nswbpd_kendalls.csv                                                 \n",
      "Dropping invalid profiles: 7                                                                               \n",
      "Processing output_data/nswbpd_woolibeach.csv                                               \n",
      "Dropping invalid profiles: 19                                                                              \n",
      "Processing output_data/nswbpd_swanseabelmont.csv                                           \n",
      "Dropping invalid profiles: 6                                                                               \n",
      "Processing output_data/nswbpd_mullaway.csv                                                 \n",
      "Dropping invalid profiles: 4                                                                               \n",
      "Processing output_data/nswbpd_porthacking,cornullaandkurnell.csv                           \n",
      "Dropping invalid profiles: 11                                                                              \n",
      "Processing output_data/nswbpd_flynnsbeach.csv                                              \n",
      "Dropping invalid profiles: 8                                                                               \n",
      "Processing output_data/nswbpd_yamba.csv                                                    \n",
      "Dropping invalid profiles: 11                                                                              \n",
      "Processing output_data/nswbpd_macmastersforresters.csv                                     \n",
      "Dropping invalid profiles: 6                                                                               \n",
      "Processing output_data/nswbpd_mollymook&narrawally&collers.csv                             \n",
      "Dropping invalid profiles: 8                                                                               \n",
      "Processing output_data/nswbpd_burrillakeandracecoursebeach.csv                             \n",
      "Dropping invalid profiles: 14                                                                              \n",
      "Processing output_data/nswbpd_parksbeach.csv                                               \n",
      "Dropping invalid profiles: 6                                                                               \n",
      "Processing output_data/nswbpd_eurobodallabeachessouth.csv                                  \n",
      "Dropping invalid profiles: 4                                                                               \n",
      "Processing output_data/nswbpd_patchsbeach.csv                                              \n",
      "Dropping invalid profiles: 5                                                                               \n",
      "Processing output_data/nswbpd_monavale.csv                                                 \r"
     ]
    }
   ],
   "source": [
    "for fname in glob.glob('input_data/nswbpd/*.csv'):\n",
    "    profiles_df = deacl_val.preprocess_nswbpd(fname, \n",
    "                                              datum=0, \n",
    "                                              overwrite=True)     \n"
   ]
  },
  {
   "cell_type": "code",
   "execution_count": 154,
   "metadata": {},
   "outputs": [],
   "source": [
    "# glob.glob('input_data/nswbpd/*.csv')\n",
    "# fname = 'input_data/nswbpd/photogrammetry_Xsections_The Entrance.csv'\n",
    "# fname = 'input_data/nswbpd/photogrammetry_Xsections_Booti Booti.csv'\n",
    "# fname = 'input_data/nswbpd/photogrammetry_Xsections_Tweed Entrance Breakwaters.csv'\n",
    "# fname = 'input_data/nswbpd/photogrammetry_Xsections_Port Hacking, Cornulla and Kurnell.csv'\n",
    "# fname = 'input_data/nswbpd/photogrammetry_Xsections_Jimmys Beach.csv'"
   ]
  },
  {
   "cell_type": "code",
   "execution_count": 141,
   "metadata": {},
   "outputs": [
    {
     "name": "stdout",
     "output_type": "stream",
     "text": [
      "Processing output_data/nswbpd_tweedentrancebreakwaters.csv                                 \r"
     ]
    }
   ],
   "source": [
    "profiles_df = deacl_val.preprocess_nswbpd(fname, \n",
    "                                          datum=0, \n",
    "                                          overwrite=True)    "
   ]
  },
  {
   "cell_type": "code",
   "execution_count": 134,
   "metadata": {},
   "outputs": [
    {
     "data": {
      "text/html": [
       "<div>\n",
       "<style scoped>\n",
       "    .dataframe tbody tr th:only-of-type {\n",
       "        vertical-align: middle;\n",
       "    }\n",
       "\n",
       "    .dataframe tbody tr th {\n",
       "        vertical-align: top;\n",
       "    }\n",
       "\n",
       "    .dataframe thead th {\n",
       "        text-align: right;\n",
       "    }\n",
       "</style>\n",
       "<table border=\"1\" class=\"dataframe\">\n",
       "  <thead>\n",
       "    <tr style=\"text-align: right;\">\n",
       "      <th></th>\n",
       "      <th>beach</th>\n",
       "      <th>section</th>\n",
       "      <th>profile</th>\n",
       "      <th>date</th>\n",
       "      <th>distance</th>\n",
       "      <th>z</th>\n",
       "      <th>x</th>\n",
       "      <th>y</th>\n",
       "      <th>source</th>\n",
       "      <th>id</th>\n",
       "      <th>start_x</th>\n",
       "      <th>start_y</th>\n",
       "      <th>end_x</th>\n",
       "      <th>end_y</th>\n",
       "    </tr>\n",
       "  </thead>\n",
       "  <tbody>\n",
       "  </tbody>\n",
       "</table>\n",
       "</div>"
      ],
      "text/plain": [
       "Empty DataFrame\n",
       "Columns: [beach, section, profile, date, distance, z, x, y, source, id, start_x, start_y, end_x, end_y]\n",
       "Index: []"
      ]
     },
     "execution_count": 134,
     "metadata": {},
     "output_type": "execute_result"
    }
   ],
   "source": [
    "profiles_df"
   ]
  },
  {
   "cell_type": "code",
   "execution_count": 105,
   "metadata": {},
   "outputs": [],
   "source": [
    "foredune_dist = profiles_df.groupby(['id', 'date']).apply(\n",
    "    lambda x: x.distance.loc[x.z.idxmax()]).reset_index(name='foredune_dist')\n",
    "profiles_df = pd.merge(left=profiles_df, right=foredune_dist) \n",
    "profiles_df = profiles_df.loc[(profiles_df.distance >= \n",
    "                               profiles_df.foredune_dist)]\n"
   ]
  },
  {
   "cell_type": "code",
   "execution_count": 136,
   "metadata": {},
   "outputs": [
    {
     "ename": "TypeError",
     "evalue": "reset_index() got an unexpected keyword argument 'name'",
     "output_type": "error",
     "traceback": [
      "\u001b[0;31m---------------------------------------------------------------------------\u001b[0m",
      "\u001b[0;31mTypeError\u001b[0m                                 Traceback (most recent call last)",
      "\u001b[0;32m<ipython-input-136-5038403c3cad>\u001b[0m in \u001b[0;36m<module>\u001b[0;34m\u001b[0m\n\u001b[1;32m      1\u001b[0m foredune_dist = profiles_df.groupby(['id', 'date']).apply(\n\u001b[0;32m----> 2\u001b[0;31m             lambda x: x.distance.loc[x.z.idxmax()]).reset_index(name='foredune_dist')\n\u001b[0m",
      "\u001b[0;31mTypeError\u001b[0m: reset_index() got an unexpected keyword argument 'name'"
     ]
    }
   ],
   "source": [
    "foredune_dist = profiles_df.groupby(['id', 'date']).apply(\n",
    "            lambda x: x.distance.loc[x.z.idxmax()])\n",
    ".reset_index(name='foredune_dist')"
   ]
  },
  {
   "cell_type": "code",
   "execution_count": 138,
   "metadata": {},
   "outputs": [],
   "source": [
    "foredune_dist.name = 'hello'"
   ]
  },
  {
   "cell_type": "code",
   "execution_count": 140,
   "metadata": {},
   "outputs": [
    {
     "ename": "MergeError",
     "evalue": "No common columns to perform merge on. Merge options: left_on=None, right_on=None, left_index=False, right_index=False",
     "output_type": "error",
     "traceback": [
      "\u001b[0;31m---------------------------------------------------------------------------\u001b[0m",
      "\u001b[0;31mMergeError\u001b[0m                                Traceback (most recent call last)",
      "\u001b[0;32m<ipython-input-140-cbee4492f389>\u001b[0m in \u001b[0;36m<module>\u001b[0;34m\u001b[0m\n\u001b[0;32m----> 1\u001b[0;31m \u001b[0mprofiles_df\u001b[0m \u001b[0;34m=\u001b[0m \u001b[0mpd\u001b[0m\u001b[0;34m.\u001b[0m\u001b[0mmerge\u001b[0m\u001b[0;34m(\u001b[0m\u001b[0mleft\u001b[0m\u001b[0;34m=\u001b[0m\u001b[0mprofiles_df\u001b[0m\u001b[0;34m,\u001b[0m \u001b[0mright\u001b[0m\u001b[0;34m=\u001b[0m\u001b[0mforedune_dist\u001b[0m\u001b[0;34m)\u001b[0m\u001b[0;34m\u001b[0m\u001b[0;34m\u001b[0m\u001b[0m\n\u001b[0m\u001b[1;32m      2\u001b[0m profiles_df = profiles_df.loc[(profiles_df.distance >= \n\u001b[1;32m      3\u001b[0m                                profiles_df.foredune_dist)]\n",
      "\u001b[0;32m/g/data/v10/public/modules/dea-env/20200526/lib/python3.6/site-packages/pandas/core/reshape/merge.py\u001b[0m in \u001b[0;36mmerge\u001b[0;34m(left, right, how, on, left_on, right_on, left_index, right_index, sort, suffixes, copy, indicator, validate)\u001b[0m\n\u001b[1;32m     84\u001b[0m         \u001b[0mcopy\u001b[0m\u001b[0;34m=\u001b[0m\u001b[0mcopy\u001b[0m\u001b[0;34m,\u001b[0m\u001b[0;34m\u001b[0m\u001b[0;34m\u001b[0m\u001b[0m\n\u001b[1;32m     85\u001b[0m         \u001b[0mindicator\u001b[0m\u001b[0;34m=\u001b[0m\u001b[0mindicator\u001b[0m\u001b[0;34m,\u001b[0m\u001b[0;34m\u001b[0m\u001b[0;34m\u001b[0m\u001b[0m\n\u001b[0;32m---> 86\u001b[0;31m         \u001b[0mvalidate\u001b[0m\u001b[0;34m=\u001b[0m\u001b[0mvalidate\u001b[0m\u001b[0;34m,\u001b[0m\u001b[0;34m\u001b[0m\u001b[0;34m\u001b[0m\u001b[0m\n\u001b[0m\u001b[1;32m     87\u001b[0m     )\n\u001b[1;32m     88\u001b[0m     \u001b[0;32mreturn\u001b[0m \u001b[0mop\u001b[0m\u001b[0;34m.\u001b[0m\u001b[0mget_result\u001b[0m\u001b[0;34m(\u001b[0m\u001b[0;34m)\u001b[0m\u001b[0;34m\u001b[0m\u001b[0;34m\u001b[0m\u001b[0m\n",
      "\u001b[0;32m/g/data/v10/public/modules/dea-env/20200526/lib/python3.6/site-packages/pandas/core/reshape/merge.py\u001b[0m in \u001b[0;36m__init__\u001b[0;34m(self, left, right, how, on, left_on, right_on, axis, left_index, right_index, sort, suffixes, copy, indicator, validate)\u001b[0m\n\u001b[1;32m    618\u001b[0m             \u001b[0mwarnings\u001b[0m\u001b[0;34m.\u001b[0m\u001b[0mwarn\u001b[0m\u001b[0;34m(\u001b[0m\u001b[0mmsg\u001b[0m\u001b[0;34m,\u001b[0m \u001b[0mUserWarning\u001b[0m\u001b[0;34m)\u001b[0m\u001b[0;34m\u001b[0m\u001b[0;34m\u001b[0m\u001b[0m\n\u001b[1;32m    619\u001b[0m \u001b[0;34m\u001b[0m\u001b[0m\n\u001b[0;32m--> 620\u001b[0;31m         \u001b[0mself\u001b[0m\u001b[0;34m.\u001b[0m\u001b[0m_validate_specification\u001b[0m\u001b[0;34m(\u001b[0m\u001b[0;34m)\u001b[0m\u001b[0;34m\u001b[0m\u001b[0;34m\u001b[0m\u001b[0m\n\u001b[0m\u001b[1;32m    621\u001b[0m \u001b[0;34m\u001b[0m\u001b[0m\n\u001b[1;32m    622\u001b[0m         \u001b[0;31m# note this function has side effects\u001b[0m\u001b[0;34m\u001b[0m\u001b[0;34m\u001b[0m\u001b[0;34m\u001b[0m\u001b[0m\n",
      "\u001b[0;32m/g/data/v10/public/modules/dea-env/20200526/lib/python3.6/site-packages/pandas/core/reshape/merge.py\u001b[0m in \u001b[0;36m_validate_specification\u001b[0;34m(self)\u001b[0m\n\u001b[1;32m   1196\u001b[0m                             \u001b[0mron\u001b[0m\u001b[0;34m=\u001b[0m\u001b[0mself\u001b[0m\u001b[0;34m.\u001b[0m\u001b[0mright_on\u001b[0m\u001b[0;34m,\u001b[0m\u001b[0;34m\u001b[0m\u001b[0;34m\u001b[0m\u001b[0m\n\u001b[1;32m   1197\u001b[0m                             \u001b[0mlidx\u001b[0m\u001b[0;34m=\u001b[0m\u001b[0mself\u001b[0m\u001b[0;34m.\u001b[0m\u001b[0mleft_index\u001b[0m\u001b[0;34m,\u001b[0m\u001b[0;34m\u001b[0m\u001b[0;34m\u001b[0m\u001b[0m\n\u001b[0;32m-> 1198\u001b[0;31m                             \u001b[0mridx\u001b[0m\u001b[0;34m=\u001b[0m\u001b[0mself\u001b[0m\u001b[0;34m.\u001b[0m\u001b[0mright_index\u001b[0m\u001b[0;34m,\u001b[0m\u001b[0;34m\u001b[0m\u001b[0;34m\u001b[0m\u001b[0m\n\u001b[0m\u001b[1;32m   1199\u001b[0m                         )\n\u001b[1;32m   1200\u001b[0m                     )\n",
      "\u001b[0;31mMergeError\u001b[0m: No common columns to perform merge on. Merge options: left_on=None, right_on=None, left_index=False, right_index=False"
     ]
    }
   ],
   "source": [
    "profiles_df = pd.merge(left=profiles_df, right=foredune_dist) \n",
    "profiles_df = profiles_df.loc[(profiles_df.distance >= \n",
    "                               profiles_df.foredune_dist)]"
   ]
  },
  {
   "cell_type": "code",
   "execution_count": 76,
   "metadata": {},
   "outputs": [
    {
     "data": {
      "text/plain": [
       "7.0        97.342\n",
       "7.0        97.342\n",
       "7.0        97.342\n",
       "7.0        97.342\n",
       "7.0        97.342\n",
       "            ...  \n",
       "34801.0    66.237\n",
       "34801.0    66.237\n",
       "34801.0    66.237\n",
       "34801.0    66.237\n",
       "34801.0    66.237\n",
       "Name: distance, Length: 28157, dtype: float64"
      ]
     },
     "execution_count": 76,
     "metadata": {},
     "output_type": "execute_result"
    }
   ],
   "source": [
    "profiles_df.distance.loc[test]"
   ]
  },
  {
   "cell_type": "code",
   "execution_count": 17,
   "metadata": {},
   "outputs": [],
   "source": [
    "after_foredune = lambda x: x[x.distance >= x.distance.loc[x.z.idxmax()]]\n",
    "profiles_df = (profiles_df.groupby(['id', 'date'])\n",
    "               .apply(after_foredune)\n",
    "               .reset_index(drop=True))   \n",
    "        "
   ]
  },
  {
   "cell_type": "code",
   "execution_count": 27,
   "metadata": {},
   "outputs": [],
   "source": [
    "after_foredune = lambda x: x.distance.loc[x.z.idxmax()]"
   ]
  },
  {
   "cell_type": "code",
   "execution_count": 32,
   "metadata": {},
   "outputs": [
    {
     "data": {
      "text/plain": [
       "15595"
      ]
     },
     "execution_count": 32,
     "metadata": {},
     "output_type": "execute_result"
    }
   ],
   "source": [
    "test.z.idxmax()"
   ]
  },
  {
   "cell_type": "code",
   "execution_count": 37,
   "metadata": {},
   "outputs": [],
   "source": [
    "to_vector(test, fname='test6.shp', x='x', y='y', crs='EPSG:3577')"
   ]
  },
  {
   "cell_type": "code",
   "execution_count": 64,
   "metadata": {},
   "outputs": [
    {
     "name": "stdout",
     "output_type": "stream",
     "text": [
      "parksbeach_4n_1 0.9999870671625477\n",
      "parksbeach_4n_2 0.9999831792738936\n",
      "parksbeach_4n_3 0.9999843443742671\n",
      "parksbeach_4n_4 0.9999805569482376\n",
      "parksbeach_4n_5 0.9999792403715323\n",
      "parksbeach_4n_6 0.9999780817412312\n",
      "parksbeach_4s_1 0.9999995021881485\n",
      "parksbeach_4s_2 0.9999994051000238\n",
      "parksbeach_5n_1 0.9999940974463946\n",
      "parksbeach_5n_2 0.9999941943990835\n",
      "parksbeach_5n_3 0.9999946312088894\n",
      "parksbeach_5n_4 0.9999951454515699\n",
      "parksbeach_5n_5 0.9999957742040945\n",
      "parksbeach_5n_6 0.9999944954805143\n",
      "parksbeach_5n_7 0.9999955489013144\n",
      "parksbeach_5n_8 0.9999715662974179\n",
      "parksbeach_5n_9 0.9999913034350315\n",
      "parksbeach_5n_10 0.9999885032420782\n",
      "parksbeach_5n_11 0.9999321275313309\n",
      "parksbeach_5n_12 0.9999945824657207\n",
      "parksbeach_5s_1 0.9826456439303526\n",
      "parksbeach_5s_2 0.9851913245699951\n",
      "parksbeach_5s_3 0.9842135645909544\n",
      "parksbeach_5s_4 0.9805595893024284\n",
      "parksbeach_5s_5 0.976032049151572\n",
      "parksbeach_5s_6 0.9812462624907385\n",
      "parksbeach_5s_7 0.9987404304916732\n",
      "parksbeach_5s_8 0.9986130753563565\n",
      "parksbeach_5s_9 0.9983527351016247\n",
      "parksbeach_5s_10 0.9980861925331983\n",
      "parksbeach_5s_11 0.9981043900525731\n",
      "parksbeach_5s_12 0.9986795893082216\n"
     ]
    }
   ],
   "source": [
    "for id_var in profiles_df.id.unique():\n",
    "    test = profiles_df.loc[(profiles_df.id == id_var) ]\n",
    "    print(id_var, test[['x', 'y']].corr().abs().iloc[0, 1])\n",
    "    # test.plot(x='x', y='y', figsize=(10, 5))"
   ]
  },
  {
   "cell_type": "code",
   "execution_count": 66,
   "metadata": {},
   "outputs": [
    {
     "name": "stdout",
     "output_type": "stream",
     "text": [
      "parksbeach_5s_12 0.9999999945174645\n"
     ]
    },
    {
     "data": {
      "text/plain": [
       "<matplotlib.axes._subplots.AxesSubplot at 0x7f5ad539bba8>"
      ]
     },
     "execution_count": 66,
     "metadata": {},
     "output_type": "execute_result"
    },
    {
     "data": {
      "image/png": "[encoded data removed]",
      "text/plain": [
       "<Figure size 720x360 with 1 Axes>"
      ]
     },
     "metadata": {
      "needs_background": "light"
     },
     "output_type": "display_data"
    },
    {
     "data": {
      "image/png": "[encoded data removed]",
      "text/plain": [
       "<Figure size 720x360 with 2 Axes>"
      ]
     },
     "metadata": {
      "needs_background": "light"
     },
     "output_type": "display_data"
    }
   ],
   "source": [
    "test = profiles_df.loc[(profiles_df.id == 'parksbeach_4s_1') ]\n",
    "test = test.loc[(profiles_df.date.dt.year == 1989)]\n",
    "print(id_var, test[['x', 'y']].corr().abs().iloc[0, 1])\n",
    "test.plot.scatter(x='x', y='y', figsize=(10, 5), c=test.distance)\n",
    "test.plot.scatter(x='distance', y='z', figsize=(10, 5), c=test.date.dt.year, cmap='rainbow')"
   ]
  },
  {
   "cell_type": "code",
   "execution_count": 18,
   "metadata": {},
   "outputs": [
    {
     "name": "stdout",
     "output_type": "stream",
     "text": [
      "jimmysbeach_5_24 0.9999999687274194\n"
     ]
    },
    {
     "data": {
      "text/plain": [
       "<matplotlib.axes._subplots.AxesSubplot at 0x7f5b2d9076d8>"
      ]
     },
     "execution_count": 18,
     "metadata": {},
     "output_type": "execute_result"
    },
    {
     "data": {
      "image/png": "[encoded data removed]",
      "text/plain": [
       "<Figure size 720x360 with 1 Axes>"
      ]
     },
     "metadata": {
      "needs_background": "light"
     },
     "output_type": "display_data"
    },
    {
     "data": {
      "image/png": "[encoded data removed]",
      "text/plain": [
       "<Figure size 720x360 with 1 Axes>"
      ]
     },
     "metadata": {
      "needs_background": "light"
     },
     "output_type": "display_data"
    }
   ],
   "source": [
    "test = profiles_df.loc[(profiles_df.id == 'jimmysbeach_1_11') ]\n",
    "test = test.loc[(profiles_df.date.dt.year == 1994)]\n",
    "print(id_var, test[['x', 'y']].corr().abs().iloc[0, 1])\n",
    "test.plot.scatter(x='x', y='y', figsize=(10, 5), c=test.z)\n",
    "test.plot(x='x', y='z', figsize=(10, 5))"
   ]
  },
  {
   "cell_type": "code",
   "execution_count": 664,
   "metadata": {},
   "outputs": [],
   "source": [
    "test = profiles_df.loc[(profiles_df.id == 'porthacking,cornullaandkurnell_6_1') ]"
   ]
  },
  {
   "cell_type": "code",
   "execution_count": null,
   "metadata": {},
   "outputs": [],
   "source": [
    "valid_profiles(test)"
   ]
  },
  {
   "cell_type": "code",
   "execution_count": 558,
   "metadata": {},
   "outputs": [],
   "source": [
    "test = profiles_df.loc[(profiles_df.id == 'theentrance_f_27') & (profiles_df.date.dt.year == 2016)]"
   ]
  },
  {
   "cell_type": "code",
   "execution_count": 630,
   "metadata": {},
   "outputs": [
    {
     "data": {
      "text/plain": [
       "<matplotlib.axes._subplots.AxesSubplot at 0x7fd29ed91ba8>"
      ]
     },
     "execution_count": 630,
     "metadata": {},
     "output_type": "execute_result"
    },
    {
     "data": {
      "image/png": "[encoded data removed]",
      "text/plain": [
       "<Figure size 720x360 with 1 Axes>"
      ]
     },
     "metadata": {
      "needs_background": "light"
     },
     "output_type": "display_data"
    }
   ],
   "source": [
    "test.plot(x='x', y='y', figsize=(10, 5))"
   ]
  },
  {
   "cell_type": "code",
   "execution_count": 631,
   "metadata": {},
   "outputs": [],
   "source": [
    "from sklearn.metrics import mean_squared_error"
   ]
  },
  {
   "cell_type": "code",
   "execution_count": 667,
   "metadata": {},
   "outputs": [],
   "source": [
    "# valid_profiles = lambda x: mean_squared_error(x.x, x.y) ** 0.5  # < 50\n",
    "# drop = (~profiles_df.groupby('id').apply(valid_profiles)).sum()\n",
    "valid_profiles = lambda x: x[['x', 'y']].corr().abs().iloc[0, 1] \n",
    "test2 = profiles_df.groupby('id').apply(valid_profiles)        \n",
    "# if drop.sum() > 0: print(f'\\nDropping invalid profiles: {drop:<80}')"
   ]
  },
  {
   "cell_type": "code",
   "execution_count": 668,
   "metadata": {},
   "outputs": [
    {
     "data": {
      "text/plain": [
       "id\n",
       "porthacking,cornullaandkurnell_0_1     0.999998\n",
       "porthacking,cornullaandkurnell_0_10    0.999997\n",
       "porthacking,cornullaandkurnell_0_11    0.999995\n",
       "porthacking,cornullaandkurnell_0_12    0.999995\n",
       "porthacking,cornullaandkurnell_0_2     0.999997\n",
       "                                         ...   \n",
       "porthacking,cornullaandkurnell_9_5     0.999995\n",
       "porthacking,cornullaandkurnell_9_6     0.999995\n",
       "porthacking,cornullaandkurnell_9_7     0.999988\n",
       "porthacking,cornullaandkurnell_9_8     0.999981\n",
       "porthacking,cornullaandkurnell_9_9     0.999993\n",
       "Length: 235, dtype: float64"
      ]
     },
     "execution_count": 668,
     "metadata": {},
     "output_type": "execute_result"
    }
   ],
   "source": [
    "test2 "
   ]
  },
  {
   "cell_type": "code",
   "execution_count": 641,
   "metadata": {},
   "outputs": [
    {
     "data": {
      "text/plain": [
       "5601097.35611594"
      ]
     },
     "execution_count": 641,
     "metadata": {},
     "output_type": "execute_result"
    }
   ],
   "source": [
    "test2.min()"
   ]
  },
  {
   "cell_type": "code",
   "execution_count": 571,
   "metadata": {},
   "outputs": [
    {
     "ename": "TypeError",
     "evalue": "filter function returned a ndarray, but expected a scalar bool",
     "output_type": "error",
     "traceback": [
      "\u001b[0;31m---------------------------------------------------------------------------\u001b[0m",
      "\u001b[0;31mTypeError\u001b[0m                                 Traceback (most recent call last)",
      "\u001b[0;32m<ipython-input-571-d12d4b574acd>\u001b[0m in \u001b[0;36m<module>\u001b[0;34m\u001b[0m\n\u001b[1;32m      1\u001b[0m \u001b[0mafter_foredune\u001b[0m \u001b[0;34m=\u001b[0m \u001b[0;32mlambda\u001b[0m \u001b[0mx\u001b[0m\u001b[0;34m:\u001b[0m \u001b[0mx\u001b[0m\u001b[0;34m.\u001b[0m\u001b[0mdistance\u001b[0m\u001b[0;34m.\u001b[0m\u001b[0mvalues\u001b[0m \u001b[0;34m>=\u001b[0m \u001b[0mx\u001b[0m\u001b[0;34m.\u001b[0m\u001b[0mdistance\u001b[0m\u001b[0;34m.\u001b[0m\u001b[0mloc\u001b[0m\u001b[0;34m[\u001b[0m\u001b[0mx\u001b[0m\u001b[0;34m.\u001b[0m\u001b[0mz\u001b[0m\u001b[0;34m.\u001b[0m\u001b[0midxmax\u001b[0m\u001b[0;34m(\u001b[0m\u001b[0;34m)\u001b[0m\u001b[0;34m]\u001b[0m\u001b[0;34m\u001b[0m\u001b[0;34m\u001b[0m\u001b[0m\n\u001b[0;32m----> 2\u001b[0;31m \u001b[0mprofiles_df\u001b[0m\u001b[0;34m.\u001b[0m\u001b[0mgroupby\u001b[0m\u001b[0;34m(\u001b[0m\u001b[0;34m[\u001b[0m\u001b[0;34m'id'\u001b[0m\u001b[0;34m,\u001b[0m \u001b[0;34m'date'\u001b[0m\u001b[0;34m]\u001b[0m\u001b[0;34m)\u001b[0m\u001b[0;34m.\u001b[0m\u001b[0mfilter\u001b[0m\u001b[0;34m(\u001b[0m\u001b[0mafter_foredune\u001b[0m\u001b[0;34m)\u001b[0m\u001b[0;34m\u001b[0m\u001b[0;34m\u001b[0m\u001b[0m\n\u001b[0m",
      "\u001b[0;32m/g/data/v10/public/modules/dea-env/20200526/lib/python3.6/site-packages/pandas/core/groupby/generic.py\u001b[0m in \u001b[0;36mfilter\u001b[0;34m(self, func, dropna, *args, **kwargs)\u001b[0m\n\u001b[1;32m   1584\u001b[0m                 \u001b[0;31m# non scalars aren't allowed\u001b[0m\u001b[0;34m\u001b[0m\u001b[0;34m\u001b[0m\u001b[0;34m\u001b[0m\u001b[0m\n\u001b[1;32m   1585\u001b[0m                 raise TypeError(\n\u001b[0;32m-> 1586\u001b[0;31m                     \u001b[0;34mf\"filter function returned a {type(res).__name__}, \"\u001b[0m\u001b[0;34m\u001b[0m\u001b[0;34m\u001b[0m\u001b[0m\n\u001b[0m\u001b[1;32m   1587\u001b[0m                     \u001b[0;34m\"but expected a scalar bool\"\u001b[0m\u001b[0;34m\u001b[0m\u001b[0;34m\u001b[0m\u001b[0m\n\u001b[1;32m   1588\u001b[0m                 )\n",
      "\u001b[0;31mTypeError\u001b[0m: filter function returned a ndarray, but expected a scalar bool"
     ]
    }
   ],
   "source": [
    "after_foredune = lambda x: x.distance.values >= x.distance.loc[x.z.idxmax()]\n",
    "profiles_df.groupby(['id', 'date']).filter(after_foredune)"
   ]
  },
  {
   "cell_type": "code",
   "execution_count": 548,
   "metadata": {},
   "outputs": [],
   "source": [
    "# test = profiles_df.loc[(profiles_df.id == 'byronbay_c_2') & (profiles_df.date.dt.year == 2012)]  #.plot.scatter(x='x', y='z')"
   ]
  },
  {
   "cell_type": "code",
   "execution_count": 559,
   "metadata": {},
   "outputs": [
    {
     "data": {
      "text/plain": [
       "<matplotlib.axes._subplots.AxesSubplot at 0x7fd2b4478940>"
      ]
     },
     "execution_count": 559,
     "metadata": {},
     "output_type": "execute_result"
    },
    {
     "data": {
      "image/png": "[encoded data removed]",
      "text/plain": [
       "<Figure size 720x360 with 1 Axes>"
      ]
     },
     "metadata": {
      "needs_background": "light"
     },
     "output_type": "display_data"
    }
   ],
   "source": [
    "test.plot(x='x', y='z', figsize=(10, 5))\n"
   ]
  },
  {
   "cell_type": "code",
   "execution_count": 498,
   "metadata": {},
   "outputs": [],
   "source": [
    "# profiles_df.loc[profiles_df['0_dist'] > profiles_df['foredune_dist']]"
   ]
  },
  {
   "cell_type": "code",
   "execution_count": 515,
   "metadata": {},
   "outputs": [
    {
     "data": {
      "text/plain": [
       "nan"
      ]
     },
     "execution_count": 515,
     "metadata": {},
     "output_type": "execute_result"
    }
   ],
   "source": [
    "# profiles_df\n"
   ]
  },
  {
   "cell_type": "code",
   "execution_count": 500,
   "metadata": {},
   "outputs": [],
   "source": [
    "# foredune_dist.name = 'test'"
   ]
  },
  {
   "cell_type": "code",
   "execution_count": 522,
   "metadata": {},
   "outputs": [
    {
     "name": "stdout",
     "output_type": "stream",
     "text": [
      "78.76812499999998 281.19960000000003\n",
      "Sad!\n"
     ]
    },
    {
     "data": {
      "text/plain": [
       "0_dist   NaN\n",
       "0_x      NaN\n",
       "0_y      NaN\n",
       "dtype: float64"
      ]
     },
     "execution_count": 522,
     "metadata": {},
     "output_type": "execute_result"
    }
   ],
   "source": [
    "deacl_val.waterline_intercept(test, z_val=0)"
   ]
  },
  {
   "cell_type": "code",
   "execution_count": 505,
   "metadata": {},
   "outputs": [
    {
     "data": {
      "text/plain": [
       "255.14600000000002"
      ]
     },
     "execution_count": 505,
     "metadata": {},
     "output_type": "execute_result"
    }
   ],
   "source": [
    "x=test \n",
    "dist_col='distance'\n",
    "x_col='x'\n",
    "y_col='y'\n",
    "z_col='z'\n",
    "z_val=0\n",
    "    \n",
    "deacl_val.interp_intercept(x[dist_col].values, x[z_col].values, z_val, reverse=True)"
   ]
  },
  {
   "cell_type": "code",
   "execution_count": 623,
   "metadata": {},
   "outputs": [],
   "source": [
    "to_vector(profiles_df, fname='test5.shp', x='x', y='y', crs='EPSG:3577')"
   ]
  },
  {
   "cell_type": "markdown",
   "metadata": {},
   "source": [
    "### City of Gold Coast\n",
    "* [X] Renovated"
   ]
  },
  {
   "cell_type": "code",
   "execution_count": null,
   "metadata": {},
   "outputs": [],
   "source": [
    "# List of sites to iterate over\n",
    "all_profiles = glob.glob(f'input_data/cityofgoldcoast/*.txt')\n",
    "sites = np.unique([i.split(' - ')[0].split('/')[-1] for i in all_profiles])\n",
    "sites = ['SOUTH STRADBROKE']\n",
    "\n",
    "for site in sites:\n",
    "    deacl_val.preprocess_cgc(site=site, \n",
    "                             datum=0,\n",
    "                             overwrite=True)"
   ]
  },
  {
   "cell_type": "markdown",
   "metadata": {},
   "source": [
    "### TASMARC\n",
    "* [X] Renovated"
   ]
  },
  {
   "cell_type": "code",
   "execution_count": null,
   "metadata": {},
   "outputs": [],
   "source": [
    "# List of sites to iterate over\n",
    "sites = [i.split('/')[2] for i in glob.glob('input_data/tasmarc/*/')]\n",
    "\n",
    "for site in sites[3:4]:\n",
    "    deacl_val.preprocess_tasmarc(site, overwrite=True) \n"
   ]
  },
  {
   "cell_type": "markdown",
   "metadata": {},
   "source": [
    "### WA DoT\n",
    "* [X] Renovated"
   ]
  },
  {
   "cell_type": "code",
   "execution_count": 554,
   "metadata": {},
   "outputs": [
    {
     "name": "stdout",
     "output_type": "stream",
     "text": [
      "Processing binningup 2016                                                                                                           \r"
     ]
    }
   ],
   "source": [
    "# Read in tertiary compartment file to regionalise results\n",
    "# tertiary_gdf = gpd.read_file('input_data/WA_tertiaryCC.shp').to_crs('EPSG:3577')\n",
    "tertiary_gdf = gpd.read_file('input_data/wa_sw.geojson').to_crs('EPSG:3577')\n",
    "tertiary_gdf = tertiary_gdf.set_index('FROM_')\n",
    "\n",
    "# Extract transects and validation distances\n",
    "deacl_val.preprocess_wadot(regions_gdf=tertiary_gdf, \n",
    "                           fname='input_data/wadot/Coastline_Movements_20190819.gdb',\n",
    "                           smartline='../input_data/Smartline.gdb',\n",
    "                           aus_poly='/g/data/r78/rt1527/shapefiles/australia/australia/cstauscd_r.shp')"
   ]
  },
  {
   "cell_type": "markdown",
   "metadata": {},
   "source": [
    "### WA DoT - Stirling"
   ]
  },
  {
   "cell_type": "code",
   "execution_count": 156,
   "metadata": {},
   "outputs": [],
   "source": [
    "deacl_val.preprocess_stirling(fname_out='output_data/stirling_stirling.csv',\n",
    "                              datum=0)"
   ]
  },
  {
   "cell_type": "markdown",
   "metadata": {},
   "source": [
    "### SA Department of Environment and Water"
   ]
  },
  {
   "cell_type": "code",
   "execution_count": null,
   "metadata": {},
   "outputs": [],
   "source": [
    "import math\n",
    "from pyproj import Transformer\n",
    "\n",
    "# Load data and set nodata values to NaN\n",
    "wide_df = pd.read_csv('input_data/sadew/200011.CSV', na_values=[-9999])\n",
    "\n",
    "# Reproject coords to Albers and create geodataframe\n",
    "trans = Transformer.from_crs(\"EPSG:28354\", \"EPSG:28356\", always_xy=True)\n",
    "wide_df['EASTING'], wide_df['NORTHING'] = trans.transform(\n",
    "    wide_df.EASTING.values, wide_df.NORTHING.values)\n",
    "\n",
    "# Reshape into long format with each observation on a new row\n",
    "profile_df = pd.melt(wide_df.drop('SAMPLE_NO', axis=1), \n",
    "                     id_vars=['EASTING', 'NORTHING', 'PROFILE'],\n",
    "                     value_name='elevation').dropna()\n",
    "\n",
    "# Set column names to lower case\n",
    "profile_df.columns = profile_df.columns.str.lower()\n",
    "\n",
    "# Extract date info\n",
    "profile_df['date'] = profile_df['variable'].str[1:].str.strip()\n",
    "profile_df['date'] = pd.to_datetime(profile_df['date'], format='%d%m%Y')\n",
    "\n",
    "# Restrict to post 1987\n",
    "profile_df = profile_df[(profile_df.date.dt.year > 1987)]\n",
    "\n",
    "# Add unique ID column\n",
    "profile_df['beach'] = 'sadew'\n",
    "profile_df['section'] = 'all'\n",
    "profile_df['profile'] = profile_df['profile'].astype(str)\n",
    "profile_df['site'] = profile_df[['beach', 'section', 'profile']].apply('_'.join, 1)\n",
    "profile_df['source'] = 'sadew'\n",
    "\n",
    "# Compute origin points for each profile\n",
    "profile_df = profile_df.assign(start_x=wide_df.iloc[0, 2], \n",
    "                               start_y=wide_df.iloc[0, 3],\n",
    "                               end_x=wide_df.iloc[-1, 2],\n",
    "                               end_y=wide_df.iloc[-1, 3])\n",
    "\n",
    "# Compute chainage\n",
    "profile_df['chainage'] = profile_df.apply(\n",
    "    lambda x: math.hypot(x.easting - x.start_x, x.northing - x.start_y), axis=1)"
   ]
  },
  {
   "cell_type": "code",
   "execution_count": null,
   "metadata": {},
   "outputs": [],
   "source": [
    "# Find location and distance to water for datum height (0 m AHD)\n",
    "out = profile_df.groupby(['site', 'date']).apply(deacl_val.waterline_intercept, \n",
    "                                                  dist_col='chainage',\n",
    "                                                  x_col='easting', \n",
    "                                                  y_col='northing', \n",
    "                                                  z_col='elevation', \n",
    "                                                  z_val=0).dropna()\n",
    "\n",
    "# If the output contains data\n",
    "if len(out.index):\n",
    "\n",
    "    # Join into dataframe\n",
    "    shoreline_dist = out.join(\n",
    "        profile_df.groupby(['site', 'date']).first())\n",
    "\n",
    "    # Keep required columns\n",
    "    shoreline_dist = shoreline_dist[['beach', 'section', 'profile',  \n",
    "                                     'source', 'start_x', 'start_y', \n",
    "                                     'end_x', 'end_y', '0_dist', \n",
    "                                     '0_x', '0_y']]\n",
    "\n",
    "    # Export to file\n",
    "    shoreline_dist.to_csv(f'output_data/satest.csv')"
   ]
  },
  {
   "cell_type": "markdown",
   "metadata": {},
   "source": [
    "## Testing NSWBPD"
   ]
  },
  {
   "cell_type": "code",
   "execution_count": null,
   "metadata": {},
   "outputs": [],
   "source": [
    "fname = 'input_data/nswbpd/photogrammetry_Xsections_Burril Lake and Racecourse Beach.csv'\n",
    "\n",
    "# Get output filename\n",
    "name = Path(fname).stem.split('_')[-1].lower().replace(' ', '')\n",
    "fname_out = f'output_data/nswbpd_{name}.csv'\n",
    "\n",
    "# Read in data\n",
    "print(f'Processing {fname_out}             ', end='\\r')            \n",
    "profiles_df = pd.read_csv(fname, skiprows=5)\n",
    "profiles_df['Year/Date'] = pd.to_datetime(profiles_df['Year/Date'],\n",
    "                                          dayfirst=True,\n",
    "                                          errors='coerce')\n",
    "\n",
    "# Restrict to post 1987\n",
    "profiles_df = profiles_df[profiles_df['Year/Date'] > '1987']\n",
    "\n",
    "# Convert columns to strings and add unique ID column\n",
    "profiles_df['Beach'] = profiles_df['Beach'].str.lower().str.replace(' ', '')\n",
    "profiles_df['Block'] = profiles_df['Block'].astype(str).str.lower()\n",
    "profiles_df['Profile'] = profiles_df['Profile'].astype(str).str.lower()\n",
    "profiles_df['site'] = profiles_df[['Beach', 'Block',\n",
    "                                   'Profile']].apply('_'.join, 1)\n",
    "\n",
    "# Rename columns\n",
    "profiles_df.columns = ['beach', 'section', 'profile', 'date', 'chainage', \n",
    "                       'elevation', 'easting', 'northing', 'source', 'site']\n",
    "\n",
    "# # Compute origin points for each profile\n",
    "# start_xy = profiles_df.loc[profiles_df.groupby(['site']).chainage.idxmin(), \n",
    "#                             ['site', 'easting', 'northing']]\n",
    "# start_xy = start_xy.rename({'easting': 'start_x', \n",
    "#                             'northing': 'start_y'}, axis=1)\n",
    "# start_xy = start_xy.reset_index(drop=True)\n",
    "\n",
    "# # Compute end points for each profile\n",
    "# end_xy = profiles_df.loc[profiles_df.groupby(['site']).chainage.idxmax(), \n",
    "#                          ['site', 'easting', 'northing']]\n",
    "# end_xy = end_xy.rename({'easting': 'end_x', \n",
    "#                         'northing': 'end_y'}, axis=1)\n",
    "# end_xy = end_xy.reset_index(drop=True)\n",
    "\n",
    "# # Join origin and end points into dataframe\n",
    "# profiles_df = pd.merge(left=profiles_df, right=start_xy)\n",
    "# profiles_df = pd.merge(left=profiles_df, right=end_xy)\n",
    "\n",
    "# # Find location and distance to water for datum height (0 m AHD)\n",
    "# out = profiles_df.groupby(['site', 'date']).apply(deacl_val.waterline_intercept, \n",
    "#                                                   dist_col='chainage',\n",
    "#                                                   x_col='easting', \n",
    "#                                                   y_col='northing', \n",
    "#                                                   z_col='elevation', \n",
    "#                                                   z_val=0).dropna()"
   ]
  },
  {
   "cell_type": "code",
   "execution_count": null,
   "metadata": {},
   "outputs": [],
   "source": [
    "profiles_sub = profiles_df[(profiles_df.site == 'burrillakeandracecoursebeach_1_5') & (profiles_df.date == '1993-05-14') ]  "
   ]
  },
  {
   "cell_type": "code",
   "execution_count": null,
   "metadata": {},
   "outputs": [],
   "source": [
    "burrillakeandracecoursebeach_1_5"
   ]
  },
  {
   "cell_type": "code",
   "execution_count": null,
   "metadata": {},
   "outputs": [],
   "source": [
    "to_vector(profiles_df, x='easting', y='northing', fname='test6.shp')"
   ]
  },
  {
   "cell_type": "markdown",
   "metadata": {},
   "source": [
    "## Testing GCC"
   ]
  },
  {
   "cell_type": "code",
   "execution_count": null,
   "metadata": {},
   "outputs": [],
   "source": [
    "results_df\n",
    "\n",
    "\n",
    "results_df[(results_df.site == 'broadbeach_eta_59') ]"
   ]
  },
  {
   "cell_type": "code",
   "execution_count": null,
   "metadata": {},
   "outputs": [],
   "source": []
  },
  {
   "cell_type": "code",
   "execution_count": null,
   "metadata": {},
   "outputs": [],
   "source": [
    "pd.read_csv(val_paths[0], parse_dates=['date'], index_col='site').loc['broadbeach_eta_58.50']"
   ]
  },
  {
   "cell_type": "code",
   "execution_count": null,
   "metadata": {},
   "outputs": [],
   "source": [
    " x.geometry_val.intersection(x.geometry_deacl)\n",
    "            .hausdorff_distance(Point(x.start_x, x.start_y)), axis=1)\n"
   ]
  },
  {
   "cell_type": "code",
   "execution_count": null,
   "metadata": {},
   "outputs": [],
   "source": [
    "gpd.GeoSeries(results_df.loc[results_df.site == 'broadbeach_eta_59'].iloc[0].geometry_val).plot()\n",
    "\n",
    "\n",
    "gpd.GeoSeries(results_df.loc[results_df.site == 'broadbeach_eta_59'].iloc[0].geometry_val.interpolate(219)).plot(ax=plt.gca())"
   ]
  },
  {
   "cell_type": "code",
   "execution_count": null,
   "metadata": {},
   "outputs": [],
   "source": [
    "results_df.loc[results_df.site == 'broadbeach_eta_59'].iloc[0].geometry_val.length"
   ]
  },
  {
   "cell_type": "code",
   "execution_count": null,
   "metadata": {},
   "outputs": [],
   "source": [
    "profile_i = '/g/data/r78/rt1527/dea-notebooks/MAHTS/validation/input_data/cityofgoldcoast/BROADBEACH - ETA 59 - (13474) 1996-06-05.txt'\n",
    "\n",
    "\n",
    "pd.read_csv(profile_i,\n",
    "                                 usecols=[1, 2, 3],\n",
    "                                 delim_whitespace=True, \n",
    "                                 names=['x', 'y', 'z']).plot.scatter(x='x', y='z')"
   ]
  },
  {
   "cell_type": "code",
   "execution_count": null,
   "metadata": {},
   "outputs": [],
   "source": [
    "profile_list "
   ]
  },
  {
   "cell_type": "code",
   "execution_count": null,
   "metadata": {},
   "outputs": [],
   "source": [
    "profile_list = glob.glob(f'input_data/cityofgoldcoast/SOUTH STRADBROKE - SSI 09 *.txt')\n",
    "\n",
    "# Output list to hold data\n",
    "site_profiles = []\n",
    "\n",
    "for profile_i in profile_list:\n",
    "\n",
    "    # Identify unique field values from file string\n",
    "    profile_string = os.path.basename(profile_i)\n",
    "\n",
    "    # Treat data file string differently depending on format\n",
    "    if len(profile_string.split(' - ')) > 3:\n",
    "        beach, section, profile, id_date = profile_string.split(' - ')            \n",
    "\n",
    "    else:\n",
    "        beach, section_profile, id_date = profile_string.split(' - ')\n",
    "\n",
    "        if len(section_profile.split(' ')) == 2:\n",
    "            section, profile = section_profile.split(' ')\n",
    "\n",
    "        else:\n",
    "            section, profile = 'none', section_profile\n",
    "\n",
    "    # If beach name is in the list of problematic names, replace\n",
    "    beach = manual_rename[beach] if beach in manual_rename.keys() else beach\n",
    "\n",
    "    # Remove any special characters from beach/section/profile names and create ID \n",
    "    profile_df = pd.read_csv(profile_i,\n",
    "                             usecols=[1, 2, 3],\n",
    "                             delim_whitespace=True, \n",
    "                             names=['x', 'y', 'z'])\n",
    "    profile_df['date'] = pd.to_datetime(id_date[-14:-4]) \n",
    "    profile_df['source'] = 'hydrographic survey'\n",
    "    profile_df['profile'] = profile.lower()\n",
    "    profile_df['section'] = section.lower()\n",
    "    profile_df['beach'] = beach.replace(' ', '').lower()\n",
    "    profile_df['site'] = profile_df[['beach', 'section', 'profile']].apply('_'.join, 1)\n",
    "\n",
    "    # Filter to drop pre-1987 and deep water samples, add to list if any \n",
    "    # data is available above 0 MSL\n",
    "    profile_df = profile_df[profile_df.z > -3.0]\n",
    "    profile_df = profile_df[profile_df.date > '1987']    \n",
    "    if profile_df.z.max() > 0:\n",
    "        site_profiles.append(profile_df)\n",
    "\n",
    "# Combine into a single dataframe\n",
    "profiles_df = pd.concat(site_profiles)\n",
    "\n",
    "# Compute origin and end points for each profile\n",
    "start_xy = profiles_df.groupby(['site'], as_index=False).first()[['site', 'x', 'y']]\n",
    "end_xy = profiles_df.groupby(['site'], as_index=False).last()[['site', 'x', 'y']]\n",
    "start_xy = start_xy.rename({'x': 'start_x', 'y': 'start_y'}, axis=1)\n",
    "end_xy = end_xy.rename({'x': 'end_x', 'y': 'end_y'}, axis=1)\n",
    "\n",
    "# Join origin and end points into dataframe\n",
    "profiles_df = pd.merge(left=profiles_df, right=start_xy)\n",
    "profiles_df = pd.merge(left=profiles_df, right=end_xy)\n",
    "\n",
    "# # Compute chainage\n",
    "# profiles_df['chainage'] = profiles_df.apply(\n",
    "#     lambda x: math.hypot(x.x - x.start_x, x.y - x.start_y), axis = 1)\n",
    "\n",
    "# # Find location and distance to water for datum height (0 m AHD)\n",
    "# out = profiles_df.groupby(['site', 'date']).apply(deacl_val.waterline_intercept, \n",
    "#                                                   dist_col='chainage',\n",
    "#                                                   x_col='x', \n",
    "#                                                   y_col='y', \n",
    "#                                                   z_col='z', \n",
    "#                                                   z_val=0).dropna()"
   ]
  },
  {
   "cell_type": "code",
   "execution_count": null,
   "metadata": {},
   "outputs": [],
   "source": [
    "profiles_subset = profiles_df.loc[profiles_df.date.dt.year == 2013]\n",
    "profiles_subset.plot(x='x', y='z')"
   ]
  },
  {
   "cell_type": "code",
   "execution_count": null,
   "metadata": {},
   "outputs": [],
   "source": [
    "to_vector(profiles_df.loc[profiles_df.date.dt.year == 2013], fname='test4.shp')\n",
    "\n",
    "\n",
    "\n",
    "    "
   ]
  },
  {
   "cell_type": "code",
   "execution_count": null,
   "metadata": {},
   "outputs": [],
   "source": []
  },
  {
   "cell_type": "code",
   "execution_count": null,
   "metadata": {},
   "outputs": [],
   "source": [
    "merge_test.groupby('year').median().reset_index().plot(x='year', y='DEA CoastLines beach width (m)')\n",
    "merge_test.groupby('year').median().reset_index().plot(x='year', y='Validation beach width (m)', ax=plt.gca())"
   ]
  },
  {
   "cell_type": "markdown",
   "metadata": {},
   "source": [
    "***\n",
    "\n",
    "## Additional information"
   ]
  },
  {
   "cell_type": "markdown",
   "metadata": {},
   "source": [
    "**License:** The code in this notebook is licensed under the [Apache License, Version 2.0](https://www.apache.org/licenses/LICENSE-2.0). \n",
    "Digital Earth Australia data is licensed under the [Creative Commons by Attribution 4.0](https://creativecommons.org/licenses/by/4.0/) license.\n",
    "\n",
    "**Contact:** If you need assistance, please post a question on the [Open Data Cube Slack channel](http://slack.opendatacube.org/) or on the [GIS Stack Exchange](https://gis.stackexchange.com/questions/ask?tags=open-data-cube) using the `open-data-cube` tag (you can view previously asked questions [here](https://gis.stackexchange.com/questions/tagged/open-data-cube)).\n",
    "If you would like to report an issue with this notebook, you can file one on [Github](https://github.com/GeoscienceAustralia/dea-notebooks).\n",
    "\n",
    "**Last modified:** May 2020"
   ]
  }
 ],
 "metadata": {
  "kernelspec": {
   "display_name": "Python 3",
   "language": "python",
   "name": "python3"
  },
  "language_info": {
   "codemirror_mode": {
    "name": "ipython",
    "version": 3
   },
   "file_extension": ".py",
   "mimetype": "text/x-python",
   "name": "python",
   "nbconvert_exporter": "python",
   "pygments_lexer": "ipython3",
   "version": "3.6.10"
  },
  "widgets": {
   "application/vnd.jupyter.widget-state+json": {
    "state": {},
    "version_major": 2,
    "version_minor": 0
   }
  }
 },
 "nbformat": 4,
 "nbformat_minor": 4
}
