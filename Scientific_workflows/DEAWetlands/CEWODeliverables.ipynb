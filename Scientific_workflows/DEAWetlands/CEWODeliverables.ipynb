{
 "cells": [
  {
   "cell_type": "markdown",
   "metadata": {},
   "source": [
    "# Wetland water depth outputs<img align=\"right\" src=\"../../Supplementary_data/dea_logo.jpg\">\n",
    "\n",
    "* **Compatability:** Notebook currently compatible with the `NCI` and `DEA Sandbox` environment \n",
    "* **Products used:** \n",
    "* **Special requirements:** \n",
    "* **Prerequisites:** This notebook assumes you have previously run the [WetlandWaterDepthAnalyses.ipynb](./WetlandWaterDepthAnalyses.ipynb) notebook and saved out a netCDF file containing all the variables at the end of the notebook. A csv file containing the daily maximum water discharge of a relevant stream gauge is also required. The gauge data can be downloaded via the Bureau of Meteorology's [Water Data Online](http://www.bom.gov.au/waterdata/) portal."
   ]
  },
  {
   "cell_type": "markdown",
   "metadata": {},
   "source": [
    "## Background\n",
    "The Commonwealth Environmental Water Office (CEWO) is obliged to act in accordance with the Water Act and the Basin Plan.  This requires Basin water resources to be managed in a way that gives effect to relevant international agreements (to the extent to which those agreements are relevant to the use and management of the Basin water resources). The Basin Plan has a specific objective to protect and restore a subset of all water-dependent ecosystems of the Murray-Darling Bain including by ensuring that: \n",
    "* Declared Ramsar wetlands that depend on Basin water resources maintain their ecological character. "
   ]
  },
  {
   "cell_type": "markdown",
   "metadata": {},
   "source": [
    "## Description\n",
    "This notebook produces the following deliverables for each Ramsar site for each 10 year time period: \n",
    "\n",
    "* Maps in the form of .jpg, polygons and rasters showing: (these maps should also include key vegetation types, including open water, as provided by the CEWO and also the Ramsar site boundary.)\n",
    "    1. Inundation extent for each month across the time period. (This could be presented so that you can slide along a hydrograph and see the resultant inundation extent on a map below. This should also identify key vegetation types. \n",
    "    2. Inundation extent for each vegetation type for each event (an event comprises the time between commencement of inundation of the vegetation type and conclusion of inundation of the vegetation type i.e. vegetation type completely dry) across the period event for critical durations (1, 3, 5, 7, >9 months)(these inundation extents are critical for different types of vegetation) \n",
    "        * Derived from remote sensing <img align='right' src=\"./InputData/TOR-AttachmentA.png\" style=\"width: 400px;\"/>\n",
    "        2.a. Comparison of remotely sensed data with ground-truthed data and OEH datasets (NSW only). \n",
    "    3. Maps of depth for critical durations, only if DEM data is available within GA or supplied by CEWO (1, 3, 5, 7, >9 months)  \n",
    "    4. Vegetation condition over the entire four year period. \n",
    "5. Graph and .csv file of inundation duration for each different vegetation type, for all natural and environmental flows, as per image to the right\n",
    "6. Table identifying: \n",
    "    * % of different vegetation classes inundated for each specified time period for each event and maximum and average depth of inundation.\n",
    "    * Time between each inundation event for 10%, 25%, 50%, 75% and 100% of each vegetation type \n",
    "e.g. \n",
    "\n",
    "| Site | Sub-site | Decade | Vegetation Type | % inundated 1 month | % inundated 3 months | % inundated 5 months | % inundated 7 months | % inundated > 9 months | Max depth | Average depth |\n",
    "|-----|----|----|----|----|----|----|----|----|----|----|\n",
    "|Banrock Station | | |River redgum | | | | | | |\n",
    "| | | |Black box | | | | | | |\n",
    "| | | |Lignum| | | | | | |\n",
    "| | | |Saltmarsh| | | | | | |\n",
    "| | | |Tall emergent aquatics| | | | | | |\n",
    "| | | |Grass/forb | | | | | | |\n",
    "\n",
    "\n",
    "7. Annual vegetation condition for each Ramsar site for the whole archive period\n",
    "***"
   ]
  },
  {
   "cell_type": "markdown",
   "metadata": {},
   "source": [
    "## Table of Contents:\n",
    "* **[Code Assumptions](#CodeAssumptions)**\n",
    "    * Some assumptions and decisions made within the code that may affect the results\n",
    "* **[(Progress Tracking)](#ProgressTracking)**\n",
    "    * Summary of what data has been processed so far\n",
    "* **[Getting Started](#GettingStarted)**\n",
    "    * Load in packages and functions needed for this analysis\n",
    "* **[Analysis Parameters](#AnalysisParameters)**\n",
    "    * Variables, datasets and file names used throughout the code. All of the options that can be changed within this code should be changed within these parameters. The rest of the code just runs the analysis, taking in the chosen parameters like event thresholds and output file names.\n",
    "* **[Load in the pre-analysed datasets](#LoadData)**\n",
    "    * Load in the datasets we have already produced using the [WetlandWaterDepthAnalyses.ipynb](./WetlandWaterDepthAnalyses.ipynb) notebook. This is a prerequisite for this notebook to run.\n",
    "* **[Calculate the water level for each inundated area across all time](#CalculateDepthPerTime)**\n",
    "    * Combine LiDAR data with Landsat surface 'wet' observations to calculate estimated water depth for each Landsat time step.\n",
    "* **[Identify 'events' within the wetland](#IdentifyEvents)**\n",
    "    * A csv of events within the wetland is produced and saved out for later use. Check out the [Code Assumptions](#CodeAssumptions) section for some discussion around the definition of an 'event'.\n",
    "* **[Calculate the per event pixel inundation duration](#InundationDuration)**\n",
    "    * \n",
    "* **[1. Maps of inundation extent across the time period 2014-2019](#InundationExtent)**"
   ]
  },
  {
   "cell_type": "markdown",
   "metadata": {},
   "source": [
    "<a id='CodeAssumptions'></a>\n",
    "## Code assumptions\n",
    "\n",
    "* **Event definition**\n",
    "    * Events were defined as starting when at least `EventThreshold`(defined below)% of the total wetland area is seen as wet, and ends when no more than `EventThreshold`% of the wetland remains 'wet'. \n",
    "    * If the wetland drops below the `EventThreshold` and then back up above it within `CloseEnoughTogether` days, then we combine the two events into a single event. This is done to account for errors introduced by the Landsat 7 SLC-off period, where strips of no-data exist across the scenes. \n",
    "    * If the first time a wetland is observed by Landsat 5 (1986/7), the wetland meets the event threshold, we choose NOT to include this event in the list of events\n",
    "        * We don't know how long the wetland was wet before we first observed it, and so can't provide uncertainties on event duration, so we do not include it in the results\n",
    "* **Event inundation duration**\n",
    "    * For analysis of inundation duration WITHIN an event, we assume that if a single pixels wets, dries, wets etc more than once, it's all related to the same wetland-wide event (which is defined above). e.g. If a pixel has a within event inundation history of 5 days wet, then is dry for 5 days, then wet for 45 days, then we consider this pixel to have been wet for 50 days during this event. \n",
    "    \n",
    "1. Maps of inundation extent across the time period 2014-2019\n",
    "2. Maps of inundation extent for each vegetation type for each event\n",
    "    a. Comparison of remotely sensed data maps with ground-truthed data and OEH datasets \n",
    "3. Maps of depth for critical durations\n",
    "4. Vegetation condition over the entire four year period\n",
    "5. Graph and .csv file of inundation duration for each different vegetation type\n",
    "6. Table identifying % of different vegetation classes inundated for each specified time period for each event and maximum and average depth of inundation and Time between each inundation event for 10%, 25%, 50%, 75% and 100% of each vegetation type\n",
    "    * We use days to define the requested metric periods, so 1 month = 30 days, 3 months = 90 days etc.\n",
    "    * Metrics for wet percentage for the 30, 90, 150, 210 and 270 day periods are calculated using >= each period. For example, a pixel that was wet for 110 days during an event will be counted in the 30 and 90 day metrics, but not the 150 day metric. \n",
    "    * Results for the duration of different percentages of inundation are presented in days. \n",
    "7. Annual vegetation condition for each Ramsar site for the whole archive period"
   ]
  },
  {
   "cell_type": "markdown",
   "metadata": {},
   "source": [
    "<a id='ProgressTracking'></a>\n",
    "## (Progress tracking)\n",
    "\n",
    "| Wetland | LiDAR DEM | Vegetation shapefile | NetCDF created? | Event Area Threshold |\n",
    "|---------|-----------|----------------------|-----------------|------------------|\n",
    "| Narran Lake | <ul><li>Data are a combination of [GA's aggregated 5m DEM product](https://ecat.ga.gov.au/geonetwork/srv/eng/catalog.search#/metadata/89644), and NSW Spatial Services 5m DEM scenes from the couple of bits of the eastern edge of the Ramsar polygon that are cut out of the GA product</li><li>The combination happened by clipping the GA and required additional NSW scenes to the extent of the Ramsar polygon.</li><li> These were then merged together using the `mosaic` tool in ArcGIS, where the GA scene was given preference over the NSW scenes where data existed in both</li></ul>  | `VegShapeFileVegNameColumn = 'AggCOMM'` `VegShapeFileVegNameUIDColumn = None` | Yes | 5% area |\n",
    "| Gwydir - Crinolyn | [GA's aggregated 5m DEM product](https://ecat.ga.gov.au/geonetwork/srv/eng/catalog.search#/metadata/89644) | `VegShapeFileVegNameColumn = 'AggComm'` `VegShapeFileVegNameUIDColumn = None` | | 7% area |\n",
    "\n",
    "***"
   ]
  },
  {
   "cell_type": "markdown",
   "metadata": {},
   "source": [
    "<a id='GettingStarted'></a>\n",
    "## Getting started\n",
    "\n",
    "Provide any particular instructions that the user might need, e.g. To run this analysis, run all the cells in the notebook, starting with the \"Load packages\" cell. "
   ]
  },
  {
   "cell_type": "markdown",
   "metadata": {},
   "source": [
    "### Load packages\n",
    "Import Python packages that are used for the analysis.\n",
    "\n",
    "Use standard import commands; some are shown below. \n",
    "Begin with any `iPython` magic commands, followed by standard Python packages, then any additional functionality you need from the `Scripts` directory."
   ]
  },
  {
   "cell_type": "code",
   "execution_count": 100,
   "metadata": {},
   "outputs": [],
   "source": [
    "%matplotlib inline\n",
    "import matplotlib.pyplot as plt\n",
    "import seaborn as sns\n",
    "import matplotlib as mpl\n",
    "\n",
    "import sys\n",
    "import glob\n",
    "import itertools\n",
    "import xarray as xr\n",
    "import numpy as np\n",
    "import pandas as pd\n",
    "from rasterio import features, transform\n",
    "import geopandas as gpd\n",
    "from shapely.geometry import shape as shapelyshape\n",
    "\n",
    "import pickle\n",
    "import warnings\n",
    "warnings.simplefilter(\"ignore\")"
   ]
  },
  {
   "cell_type": "markdown",
   "metadata": {},
   "source": [
    "### Load functions\n",
    "These functions are required for the analyses below."
   ]
  },
  {
   "cell_type": "code",
   "execution_count": 2,
   "metadata": {},
   "outputs": [],
   "source": [
    "def get_water_level(geom, dem, height_percentile=90, x_offsets=[0], y_offsets=[0]):  \n",
    "        \n",
    "    '''\n",
    "    Takes a shapely geometry (either LineString or MultiLineString) and a Digital Elevation\n",
    "    Model (DEM), and samples values from the DEM based on line vertices. These values are used\n",
    "    to return the median and standard deviation of elevation, which can subsequently be used\n",
    "    to compute volume (and uncertainty) based on the same DEM.\n",
    "    \n",
    "    Optionally, this function can be run with a set of x and y offset values, which shuffle \n",
    "    the geometry object left, right, up and down, and returns values for the combination \n",
    "    with the lowest standard deviation. This is intended to account for 'jitter' caused by \n",
    "    poor co-registration/georeferencing in the Sentinel 2 imagery. This is experimental, and\n",
    "    should be used with caution.\n",
    "    \n",
    "    Last modified: March 2019\n",
    "    Author: Robbi Bishop-Taylor\n",
    "    \n",
    "    Parameters\n",
    "    ----------    \n",
    "    geom : Shapely LineString or MultiLineString\n",
    "        Shapely geometry for the waterline being analysed\n",
    "    dem : array\n",
    "        A 2D digital elevation model (DEM) in the form of a numpy or xarray array.\n",
    "    x_offsets : list, optional\n",
    "        A list giving a series of amounts in metre units to shuffle the geometry east and west.\n",
    "        The default is [0], which does no shuffling. E.g. setting `x_offsets=[-10, 0, 10]`\n",
    "        will shuffle the geometry west and east by 10 m, and return results for the offset which\n",
    "        produces the lowest standard deviation in extracted elevation values.\n",
    "    y_offsets : list, optional\n",
    "        A list giving a series of amounts in metre units to shuffle the geometry north and south.\n",
    "        The default is [0], which does no shuffling. E.g. setting `y_offsets=[-10, 0, 10]`\n",
    "        will shuffle the geometry north and south by 10 m, and return results for the offset which\n",
    "        produces the lowest standard deviation in extracted elevation values.\n",
    "        \n",
    "    Returns\n",
    "    -------\n",
    "    offset_min_std : Pandas DataFrame\n",
    "        A Pandas dataframe with columns giving `x_offset', 'y_offset`, `water_level` and \n",
    "        `water_level_std` values. `x_offset', 'y_offset` give the offset values which resulted\n",
    "        in the lowest standard deviation of elevation values, while `water_level` and \n",
    "        `water_level_std` return the corresponding median and standard deviation elevation values\n",
    "        themselves.\n",
    "    '''\n",
    "    \n",
    "    # First try extracting line vertex coordinates from a Shapely LineString\n",
    "    try: \n",
    "        xx, yy = geom.exterior.coords.xy\n",
    "        xx = np.array(xx)\n",
    "        yy = np.array(yy)\n",
    "\n",
    "    # If this fails, extract line vertex coordinates as if data is a Shapely MultiLineString\n",
    "    except:\n",
    "        xx = np.concatenate([i.coords.xy[0] for i in geom])\n",
    "        yy = np.concatenate([i.coords.xy[1] for i in geom]) \n",
    "        \n",
    "    # Convert coordinates to xarray DataArrays to facilitate fast extraction of elevation values\n",
    "    xx = xr.DataArray(xx, dims='z')\n",
    "    yy = xr.DataArray(yy, dims='z')\n",
    "    \n",
    "    # Iterate through all combinations of x and y offsets\n",
    "    all_offsets = []    \n",
    "\n",
    "    for x_offset, y_offset in itertools.product(x_offsets, y_offsets):    \n",
    "        \n",
    "         # Sample DEM to extract elevations for each vertex coordinate\n",
    "        sampled_elevs = dem.interp(x=xx + x_offset, y=yy + y_offset).values\n",
    "\n",
    "        # Compute median and standard deviation elevation values, and add to list\n",
    "        all_offsets.append(((x_offset, y_offset, np.nanpercentile(sampled_elevs, height_percentile), np.nanstd(sampled_elevs))))\n",
    "\n",
    "    # From the dataframe of resulting water_levels and water_level_stds for different xy offsets, \n",
    "    # select the row with the lowest standard deviation in elevation values.\n",
    "    offset_df = pd.DataFrame(all_offsets, columns=['x_offset', 'y_offset', \n",
    "                                                   'water_level', 'water_level_std'])\n",
    "\n",
    "    # Check that we haven't returned all empty data. If we have, it means there was no DEM value for our wet blob\n",
    "    if np.isfinite(offset_df.water_level_std.idxmin()):\n",
    "        offset_min_std = offset_df.iloc[offset_df.water_level_std.idxmin()]\n",
    "    else:\n",
    "        # if there wasn't valid data calculated, then just return the first row, which will be nan.\n",
    "        offset_min_std = offset_df.iloc[0]\n",
    "    return offset_min_std "
   ]
  },
  {
   "cell_type": "markdown",
   "metadata": {},
   "source": [
    "<a id='AnalysisParameters'></a>\n",
    "## Analysis parameters\n",
    "\n",
    "* `AnalysisLocation`: A string descriptor of the analysis region used to label graphs.\n",
    "* `StreamGaugeName`: A string name of the stream gauge used in the analysis, used to label graphs.\n",
    "* `OutSaveLocation`: A string folder structure for the location of files written out by the [WetlandWaterDepthAnalyses.ipynb](./WetlandWaterDepthAnalyses.ipynb) notebook, and this notebook. It makes use of the `AnalysisLocation` string to generate the filepath.\n",
    "\n",
    "### Files to analyse\n",
    "* `DatasetToLoad`: The filename of the netCDF written out by the [first notebook](./WetlandWaterDepthAnalyses.ipynb) to read in here. Note that this file must have been written out by the first notebook, as we assume the variables created in that notebook exist here. If you try to read in something else, this code will fail.\n",
    "* `SpeciesDictToLoad`: The filename of the text file written out by the [first notebook](./WetlandWaterDepthAnalyses.ipynb) that contains the species dictionary of vegetation type and numerical ID. This is used to label plots.\n",
    "* `StreamGaugeToLoad`: The filename of a csv file containing the daily maximum water discharge of a relevant stream gauge. The gauge data can be downloaded via the Bureau of Meteorology's [Water Data Online](http://www.bom.gov.au/waterdata/) portal. The code below assumes that commented lines begin with `#`. \n",
    "\n",
    "### Analysis options\n",
    "* `HeightPercentile`: e.g. 90. The wetland water depth is calculated by intersecting the outline of wet pixel 'blobs' identified by Landsat with a LiDAR DEM. The values within the DEM are then sampled to determine the water height. This is done by using the `HeightPercentile` percentile of these sampled values. This allows us to discard the hightest DEM pixels, which may result from the mismatch between the Landsat and LiDAR resolutions, e.g. if there is a stream bank in the same cell as the stream, taking a percentile value will help to remove the erroneously high values of the stream bank.\n",
    "* `EventThreshold`: e.g. 5. Used to determine the threshold for starting/ending a watering event. Watering events are defined as starting when at least `EventThreshold`(defined below)% of the total wetland area is seen as wet, and ends when no more than `EventThreshold`% of the wetland remains 'wet'. If the wetland completely dries out between events, set this threshold low e.g. 5. If the wetland contains refugial pools that rarely dry out, a wet event may need to be defined using a higher threshold. \n",
    "* `ShortEventThreshold`: e.g. 30. Number of days an event needs to be less than, to be considered a short event that may need to be combined with the previous or next event. This is particularly important where a wet event is broken by only one observation below the `EventThreshold`, before returning above it. \n",
    "* `CloseEnoughTogether`: e.g. 16. Number of days that two separate events need to be separated by before they are combined and considered a single long event. \n",
    "* `AreasToCalc`: e.g. [0.1, 0.25, 0.50, 0.75, 0.100]. A list of numbers of the decimal vegetation area thresholds to calculate. E.g. 0.1 will calculate a value for 10% of the vegetation area. These are used in section 6 below.\n",
    "* `Colormaps`: e.g. ['Blues', 'YlOrBr', 'Greens', 'Purples', 'Reds']. A list of [Matplotlib named colormaps](https://matplotlib.org/3.2.1/tutorials/colors/colormaps.html) to use to plot the different vegetation communities. \n",
    "\n",
    "### Output filenames\n",
    "\n",
    "#### Section 2\n",
    "* `EventMapsFileName` : e.g. string. File path for the output plots for each wet event. The complete file path is created in the code below, since it adds in the event dates as it plots. \n",
    "\n",
    "#### Section 5\n",
    "* `InundationPctPerVegFigFileName`: e.g. string.jpg Output file name for the all time vegetation community based inundation plot.\n",
    "* `InundationPctPerVegDataFileName`: e.g. string.csv Output file name for the all time vegetation community based inundation csv.\n",
    "\n",
    "#### Section 6\n",
    "* `EventListFileName`: e.g. string.csv Output file name for the start and end dates and duration of each defined watering event.\n",
    "* `EventInundationTableFileName`: e.g. string.csv Output file name for the event-based inundation % metrics for each vegetation community.\n",
    "* `EventDurationTableFileName` : e.g. string.csv Output file name for the event-based duration metrics for each vegetation community."
   ]
  },
  {
   "cell_type": "code",
   "execution_count": 113,
   "metadata": {},
   "outputs": [],
   "source": [
    "# Note, if your `AnalysisLocation` contains special characters other than spaces, you will\n",
    "# need to modify the `replace` function used to generate the output file names.\n",
    "AnalysisLocation = 'Gwydir - Crinolyn'\n",
    "StreamGaugeName = 'Gingham Channel'\n",
    "OutSaveLocation = f'OutputData/Gwydir/'\n",
    "\n",
    "DatasetToLoad = f'{OutSaveLocation}AllDataCombined{AnalysisLocation.replace(\" \", \"\")}.nc'\n",
    "HighResDatasetToLoad = LidarVegOutputName = f'{OutSaveLocation}LiDARVeg{AnalysisLocation.replace(\" \", \"\")}.nc'\n",
    "SpeciesDictToLoad = f'{OutSaveLocation}SpeciesDict{AnalysisLocation.replace(\" \", \"\")}.txt'\n",
    "StreamGaugeToLoad = 'InputData/Gwydir/Gwydir_GinghamChannel_418079DailyMaxMetre.csv'\n",
    "RamsarBoundaryFile = 'InputData/Gwydir/GwydirCrinolynRamsar.shp'\n",
    "\n",
    "HeightPercentile = 90\n",
    "\n",
    "EventThreshold = 7\n",
    "ShortEventThreshold = 30\n",
    "CloseEnoughTogether = 16\n",
    "AreasToCalc = [0.1, 0.25, 0.50, 0.75, 1]\n",
    "Colormaps = ['Blues', 'YlOrBr', 'Greens', 'Purples', 'Reds', 'Greys']\n",
    "\n",
    "# Depth netCDF output file name\n",
    "WetlandWaterDepthsFileName = f'{OutSaveLocation}WetlandWaterDepths{AnalysisLocation.replace(\" \", \"\")}.nc'\n",
    "WetEventsLinePlot = f'{OutSaveLocation}PercentofWetlandThatsWet{AnalysisLocation.replace(\" \", \"\")}.jpg'\n",
    "WetEventsHistogram = f'{OutSaveLocation}PercentofWetlandThatsWetHistogram{AnalysisLocation.replace(\" \", \"\")}.jpg'\n",
    "\n",
    "# Outputs for section 2\n",
    "EventMapsFileName = f'{OutSaveLocation}EventMaps/{AnalysisLocation}Event' # Name completed and appended in the script below\n",
    "\n",
    "# Outputs for section 5\n",
    "InundationPctPerVegFigFileName = f'{OutSaveLocation}InundationPctPerVeg{AnalysisLocation.replace(\" \", \"\")}.jpg'\n",
    "InundationPctPerVegDataFileName = f'{OutSaveLocation}InundationPctPerVeg{AnalysisLocation.replace(\" \", \"\")}.csv'\n",
    "# Outputs for section 6\n",
    "EventListFileName = f'{OutSaveLocation}WetEventsIn{AnalysisLocation.replace(\" \", \"\")}With{str(EventThreshold)}%AreaThreshold.csv'\n",
    "EventInundationTableFileName = f'{OutSaveLocation}EventInundationMetricsFor{AnalysisLocation.replace(\" \", \"\")}.csv'\n",
    "EventDurationTableFileName = f'{OutSaveLocation}EventDurationMetricsFor{AnalysisLocation.replace(\" \", \"\")}.csv'\n",
    "EventResultsPickleFileName = f'{OutSaveLocation}EventResults/' # Name completed and appended in the script below"
   ]
  },
  {
   "cell_type": "markdown",
   "metadata": {},
   "source": [
    "<a id='LoadData'></a>\n",
    "## Load in our pre-analysed datasets\n",
    "\n",
    "### Starting with our giant all together netCDF"
   ]
  },
  {
   "cell_type": "code",
   "execution_count": 4,
   "metadata": {},
   "outputs": [],
   "source": [
    "AllDataCombined = xr.open_dataset(DatasetToLoad)"
   ]
  },
  {
   "cell_type": "markdown",
   "metadata": {},
   "source": [
    "We need to create a transform object from our dataset so that we can do some of the code calculations later on."
   ]
  },
  {
   "cell_type": "code",
   "execution_count": 5,
   "metadata": {},
   "outputs": [],
   "source": [
    "AllDataCombined.attrs['transform'] = transform.from_bounds(AllDataCombined.x.min().item(),\n",
    "                                                           AllDataCombined.y.min().item(), \n",
    "                                                           AllDataCombined.x.max().item(), \n",
    "                                                           AllDataCombined.y.max().item(),\n",
    "                                                           len(AllDataCombined.x),\n",
    "                                                           len(AllDataCombined.y)\n",
    "                                                          )"
   ]
  },
  {
   "cell_type": "code",
   "execution_count": 6,
   "metadata": {},
   "outputs": [
    {
     "data": {
      "text/html": [
       "<div><svg style=\"position: absolute; width: 0; height: 0; overflow: hidden\">\n",
       "<defs>\n",
       "<symbol id=\"icon-database\" viewBox=\"0 0 32 32\">\n",
       "<title>Show/Hide data repr</title>\n",
       "<path d=\"M16 0c-8.837 0-16 2.239-16 5v4c0 2.761 7.163 5 16 5s16-2.239 16-5v-4c0-2.761-7.163-5-16-5z\"></path>\n",
       "<path d=\"M16 17c-8.837 0-16-2.239-16-5v6c0 2.761 7.163 5 16 5s16-2.239 16-5v-6c0 2.761-7.163 5-16 5z\"></path>\n",
       "<path d=\"M16 26c-8.837 0-16-2.239-16-5v6c0 2.761 7.163 5 16 5s16-2.239 16-5v-6c0 2.761-7.163 5-16 5z\"></path>\n",
       "</symbol>\n",
       "<symbol id=\"icon-file-text2\" viewBox=\"0 0 32 32\">\n",
       "<title>Show/Hide attributes</title>\n",
       "<path d=\"M28.681 7.159c-0.694-0.947-1.662-2.053-2.724-3.116s-2.169-2.030-3.116-2.724c-1.612-1.182-2.393-1.319-2.841-1.319h-15.5c-1.378 0-2.5 1.121-2.5 2.5v27c0 1.378 1.122 2.5 2.5 2.5h23c1.378 0 2.5-1.122 2.5-2.5v-19.5c0-0.448-0.137-1.23-1.319-2.841zM24.543 5.457c0.959 0.959 1.712 1.825 2.268 2.543h-4.811v-4.811c0.718 0.556 1.584 1.309 2.543 2.268zM28 29.5c0 0.271-0.229 0.5-0.5 0.5h-23c-0.271 0-0.5-0.229-0.5-0.5v-27c0-0.271 0.229-0.5 0.5-0.5 0 0 15.499-0 15.5 0v7c0 0.552 0.448 1 1 1h7v19.5z\"></path>\n",
       "<path d=\"M23 26h-14c-0.552 0-1-0.448-1-1s0.448-1 1-1h14c0.552 0 1 0.448 1 1s-0.448 1-1 1z\"></path>\n",
       "<path d=\"M23 22h-14c-0.552 0-1-0.448-1-1s0.448-1 1-1h14c0.552 0 1 0.448 1 1s-0.448 1-1 1z\"></path>\n",
       "<path d=\"M23 18h-14c-0.552 0-1-0.448-1-1s0.448-1 1-1h14c0.552 0 1 0.448 1 1s-0.448 1-1 1z\"></path>\n",
       "</symbol>\n",
       "</defs>\n",
       "</svg>\n",
       "<style>/* CSS stylesheet for displaying xarray objects in jupyterlab.\n",
       " *\n",
       " */\n",
       "\n",
       ":root {\n",
       "  --xr-font-color0: var(--jp-content-font-color0, rgba(0, 0, 0, 1));\n",
       "  --xr-font-color2: var(--jp-content-font-color2, rgba(0, 0, 0, 0.54));\n",
       "  --xr-font-color3: var(--jp-content-font-color3, rgba(0, 0, 0, 0.38));\n",
       "  --xr-border-color: var(--jp-border-color2, #e0e0e0);\n",
       "  --xr-disabled-color: var(--jp-layout-color3, #bdbdbd);\n",
       "  --xr-background-color: var(--jp-layout-color0, white);\n",
       "  --xr-background-color-row-even: var(--jp-layout-color1, white);\n",
       "  --xr-background-color-row-odd: var(--jp-layout-color2, #eeeeee);\n",
       "}\n",
       "\n",
       ".xr-wrap {\n",
       "  min-width: 300px;\n",
       "  max-width: 700px;\n",
       "}\n",
       "\n",
       ".xr-header {\n",
       "  padding-top: 6px;\n",
       "  padding-bottom: 6px;\n",
       "  margin-bottom: 4px;\n",
       "  border-bottom: solid 1px var(--xr-border-color);\n",
       "}\n",
       "\n",
       ".xr-header > div,\n",
       ".xr-header > ul {\n",
       "  display: inline;\n",
       "  margin-top: 0;\n",
       "  margin-bottom: 0;\n",
       "}\n",
       "\n",
       ".xr-obj-type,\n",
       ".xr-array-name {\n",
       "  margin-left: 2px;\n",
       "  margin-right: 10px;\n",
       "}\n",
       "\n",
       ".xr-obj-type {\n",
       "  color: var(--xr-font-color2);\n",
       "}\n",
       "\n",
       ".xr-sections {\n",
       "  padding-left: 0 !important;\n",
       "  display: grid;\n",
       "  grid-template-columns: 150px auto auto 1fr 20px 20px;\n",
       "}\n",
       "\n",
       ".xr-section-item {\n",
       "  display: contents;\n",
       "}\n",
       "\n",
       ".xr-section-item input {\n",
       "  display: none;\n",
       "}\n",
       "\n",
       ".xr-section-item input + label {\n",
       "  color: var(--xr-disabled-color);\n",
       "}\n",
       "\n",
       ".xr-section-item input:enabled + label {\n",
       "  cursor: pointer;\n",
       "  color: var(--xr-font-color2);\n",
       "}\n",
       "\n",
       ".xr-section-item input:enabled + label:hover {\n",
       "  color: var(--xr-font-color0);\n",
       "}\n",
       "\n",
       ".xr-section-summary {\n",
       "  grid-column: 1;\n",
       "  color: var(--xr-font-color2);\n",
       "  font-weight: 500;\n",
       "}\n",
       "\n",
       ".xr-section-summary > span {\n",
       "  display: inline-block;\n",
       "  padding-left: 0.5em;\n",
       "}\n",
       "\n",
       ".xr-section-summary-in:disabled + label {\n",
       "  color: var(--xr-font-color2);\n",
       "}\n",
       "\n",
       ".xr-section-summary-in + label:before {\n",
       "  display: inline-block;\n",
       "  content: '►';\n",
       "  font-size: 11px;\n",
       "  width: 15px;\n",
       "  text-align: center;\n",
       "}\n",
       "\n",
       ".xr-section-summary-in:disabled + label:before {\n",
       "  color: var(--xr-disabled-color);\n",
       "}\n",
       "\n",
       ".xr-section-summary-in:checked + label:before {\n",
       "  content: '▼';\n",
       "}\n",
       "\n",
       ".xr-section-summary-in:checked + label > span {\n",
       "  display: none;\n",
       "}\n",
       "\n",
       ".xr-section-summary,\n",
       ".xr-section-inline-details {\n",
       "  padding-top: 4px;\n",
       "  padding-bottom: 4px;\n",
       "}\n",
       "\n",
       ".xr-section-inline-details {\n",
       "  grid-column: 2 / -1;\n",
       "}\n",
       "\n",
       ".xr-section-details {\n",
       "  display: none;\n",
       "  grid-column: 1 / -1;\n",
       "  margin-bottom: 5px;\n",
       "}\n",
       "\n",
       ".xr-section-summary-in:checked ~ .xr-section-details {\n",
       "  display: contents;\n",
       "}\n",
       "\n",
       ".xr-array-wrap {\n",
       "  grid-column: 1 / -1;\n",
       "  display: grid;\n",
       "  grid-template-columns: 20px auto;\n",
       "}\n",
       "\n",
       ".xr-array-wrap > label {\n",
       "  grid-column: 1;\n",
       "  vertical-align: top;\n",
       "}\n",
       "\n",
       ".xr-preview {\n",
       "  color: var(--xr-font-color3);\n",
       "}\n",
       "\n",
       ".xr-array-preview,\n",
       ".xr-array-data {\n",
       "  padding: 0 5px !important;\n",
       "  grid-column: 2;\n",
       "}\n",
       "\n",
       ".xr-array-data,\n",
       ".xr-array-in:checked ~ .xr-array-preview {\n",
       "  display: none;\n",
       "}\n",
       "\n",
       ".xr-array-in:checked ~ .xr-array-data,\n",
       ".xr-array-preview {\n",
       "  display: inline-block;\n",
       "}\n",
       "\n",
       ".xr-dim-list {\n",
       "  display: inline-block !important;\n",
       "  list-style: none;\n",
       "  padding: 0 !important;\n",
       "  margin: 0;\n",
       "}\n",
       "\n",
       ".xr-dim-list li {\n",
       "  display: inline-block;\n",
       "  padding: 0;\n",
       "  margin: 0;\n",
       "}\n",
       "\n",
       ".xr-dim-list:before {\n",
       "  content: '(';\n",
       "}\n",
       "\n",
       ".xr-dim-list:after {\n",
       "  content: ')';\n",
       "}\n",
       "\n",
       ".xr-dim-list li:not(:last-child):after {\n",
       "  content: ',';\n",
       "  padding-right: 5px;\n",
       "}\n",
       "\n",
       ".xr-has-index {\n",
       "  font-weight: bold;\n",
       "}\n",
       "\n",
       ".xr-var-list,\n",
       ".xr-var-item {\n",
       "  display: contents;\n",
       "}\n",
       "\n",
       ".xr-var-item > div,\n",
       ".xr-var-item label,\n",
       ".xr-var-item > .xr-var-name span {\n",
       "  background-color: var(--xr-background-color-row-even);\n",
       "  margin-bottom: 0;\n",
       "}\n",
       "\n",
       ".xr-var-item > .xr-var-name:hover span {\n",
       "  padding-right: 5px;\n",
       "}\n",
       "\n",
       ".xr-var-list > li:nth-child(odd) > div,\n",
       ".xr-var-list > li:nth-child(odd) > label,\n",
       ".xr-var-list > li:nth-child(odd) > .xr-var-name span {\n",
       "  background-color: var(--xr-background-color-row-odd);\n",
       "}\n",
       "\n",
       ".xr-var-name {\n",
       "  grid-column: 1;\n",
       "}\n",
       "\n",
       ".xr-var-dims {\n",
       "  grid-column: 2;\n",
       "}\n",
       "\n",
       ".xr-var-dtype {\n",
       "  grid-column: 3;\n",
       "  text-align: right;\n",
       "  color: var(--xr-font-color2);\n",
       "}\n",
       "\n",
       ".xr-var-preview {\n",
       "  grid-column: 4;\n",
       "}\n",
       "\n",
       ".xr-var-name,\n",
       ".xr-var-dims,\n",
       ".xr-var-dtype,\n",
       ".xr-preview,\n",
       ".xr-attrs dt {\n",
       "  white-space: nowrap;\n",
       "  overflow: hidden;\n",
       "  text-overflow: ellipsis;\n",
       "  padding-right: 10px;\n",
       "}\n",
       "\n",
       ".xr-var-name:hover,\n",
       ".xr-var-dims:hover,\n",
       ".xr-var-dtype:hover,\n",
       ".xr-attrs dt:hover {\n",
       "  overflow: visible;\n",
       "  width: auto;\n",
       "  z-index: 1;\n",
       "}\n",
       "\n",
       ".xr-var-attrs,\n",
       ".xr-var-data {\n",
       "  display: none;\n",
       "  background-color: var(--xr-background-color) !important;\n",
       "  padding-bottom: 5px !important;\n",
       "}\n",
       "\n",
       ".xr-var-attrs-in:checked ~ .xr-var-attrs,\n",
       ".xr-var-data-in:checked ~ .xr-var-data {\n",
       "  display: block;\n",
       "}\n",
       "\n",
       ".xr-var-data > table {\n",
       "  float: right;\n",
       "}\n",
       "\n",
       ".xr-var-name span,\n",
       ".xr-var-data,\n",
       ".xr-attrs {\n",
       "  padding-left: 25px !important;\n",
       "}\n",
       "\n",
       ".xr-attrs,\n",
       ".xr-var-attrs,\n",
       ".xr-var-data {\n",
       "  grid-column: 1 / -1;\n",
       "}\n",
       "\n",
       "dl.xr-attrs {\n",
       "  padding: 0;\n",
       "  margin: 0;\n",
       "  display: grid;\n",
       "  grid-template-columns: 125px auto;\n",
       "}\n",
       "\n",
       ".xr-attrs dt, dd {\n",
       "  padding: 0;\n",
       "  margin: 0;\n",
       "  float: left;\n",
       "  padding-right: 10px;\n",
       "  width: auto;\n",
       "}\n",
       "\n",
       ".xr-attrs dt {\n",
       "  font-weight: normal;\n",
       "  grid-column: 1;\n",
       "}\n",
       "\n",
       ".xr-attrs dt:hover span {\n",
       "  display: inline-block;\n",
       "  background: var(--xr-background-color);\n",
       "  padding-right: 10px;\n",
       "}\n",
       "\n",
       ".xr-attrs dd {\n",
       "  grid-column: 2;\n",
       "  white-space: pre-wrap;\n",
       "  word-break: break-all;\n",
       "}\n",
       "\n",
       ".xr-icon-database,\n",
       ".xr-icon-file-text2 {\n",
       "  display: inline-block;\n",
       "  vertical-align: middle;\n",
       "  width: 1em;\n",
       "  height: 1.5em !important;\n",
       "  stroke-width: 0;\n",
       "  stroke: currentColor;\n",
       "  fill: currentColor;\n",
       "}\n",
       "</style><div class='xr-wrap'><div class='xr-header'><div class='xr-obj-type'>xarray.Dataset</div></div><ul class='xr-sections'><li class='xr-section-item'><input id='section-b797e5df-e4af-43d3-8cc9-f1cb6b15ddd8' class='xr-section-summary-in' type='checkbox' disabled ><label for='section-b797e5df-e4af-43d3-8cc9-f1cb6b15ddd8' class='xr-section-summary'  title='Expand/collapse section'>Dimensions:</label><div class='xr-section-inline-details'><ul class='xr-dim-list'><li><span class='xr-has-index'>time</span>: 1052</li><li><span class='xr-has-index'>x</span>: 64</li><li><span class='xr-has-index'>y</span>: 77</li></ul></div><div class='xr-section-details'></div></li><li class='xr-section-item'><input id='section-dc77993c-525b-40a6-b113-a5afcc8b65ec' class='xr-section-summary-in' type='checkbox'  checked><label for='section-dc77993c-525b-40a6-b113-a5afcc8b65ec' class='xr-section-summary' >Coordinates: <span>(4)</span></label><div class='xr-section-inline-details'></div><div class='xr-section-details'><ul class='xr-var-list'><li class='xr-var-item'><div class='xr-var-name'><span>spatial_ref</span></div><div class='xr-var-dims'>()</div><div class='xr-var-dtype'>int32</div><div class='xr-var-preview xr-preview'>...</div><input id='attrs-6a3c2edf-e433-4478-a708-3506d15577bd' class='xr-var-attrs-in' type='checkbox' ><label for='attrs-6a3c2edf-e433-4478-a708-3506d15577bd' title='Show/Hide attributes'><svg class='icon xr-icon-file-text2'><use xlink:href='#icon-file-text2'></use></svg></label><input id='data-09c6ee83-6249-49f9-8618-e1c260c8d610' class='xr-var-data-in' type='checkbox'><label for='data-09c6ee83-6249-49f9-8618-e1c260c8d610' title='Show/Hide data repr'><svg class='icon xr-icon-database'><use xlink:href='#icon-database'></use></svg></label><div class='xr-var-attrs'><dl class='xr-attrs'><dt><span>spatial_ref :</span></dt><dd>PROJCS[&quot;unknown&quot;,GEOGCS[&quot;unknown&quot;,DATUM[&quot;Unknown_based_on_GRS80_ellipsoid&quot;,SPHEROID[&quot;GRS 1980&quot;,6378137,298.257222101,AUTHORITY[&quot;EPSG&quot;,&quot;7019&quot;]]],PRIMEM[&quot;Greenwich&quot;,0,AUTHORITY[&quot;EPSG&quot;,&quot;8901&quot;]],UNIT[&quot;degree&quot;,0.0174532925199433,AUTHORITY[&quot;EPSG&quot;,&quot;9122&quot;]]],PROJECTION[&quot;Albers_Conic_Equal_Area&quot;],PARAMETER[&quot;latitude_of_center&quot;,0],PARAMETER[&quot;longitude_of_center&quot;,132],PARAMETER[&quot;standard_parallel_1&quot;,-18],PARAMETER[&quot;standard_parallel_2&quot;,-36],PARAMETER[&quot;false_easting&quot;,0],PARAMETER[&quot;false_northing&quot;,0],UNIT[&quot;metre&quot;,1,AUTHORITY[&quot;EPSG&quot;,&quot;9001&quot;]],AXIS[&quot;Easting&quot;,EAST],AXIS[&quot;Northing&quot;,NORTH]]</dd><dt><span>grid_mapping_name :</span></dt><dd>albers_conical_equal_area</dd></dl></div><pre class='xr-var-data'>array(3577, dtype=int32)</pre></li><li class='xr-var-item'><div class='xr-var-name'><span class='xr-has-index'>x</span></div><div class='xr-var-dims'>(x)</div><div class='xr-var-dtype'>float64</div><div class='xr-var-preview xr-preview'>1.64e+06 1.64e+06 ... 1.641e+06</div><input id='attrs-2ee1566a-79c3-4c1e-8878-6b84397c00d0' class='xr-var-attrs-in' type='checkbox' ><label for='attrs-2ee1566a-79c3-4c1e-8878-6b84397c00d0' title='Show/Hide attributes'><svg class='icon xr-icon-file-text2'><use xlink:href='#icon-file-text2'></use></svg></label><input id='data-f091854b-f945-43b6-9334-4754b797f5ea' class='xr-var-data-in' type='checkbox'><label for='data-f091854b-f945-43b6-9334-4754b797f5ea' title='Show/Hide data repr'><svg class='icon xr-icon-database'><use xlink:href='#icon-database'></use></svg></label><div class='xr-var-attrs'><dl class='xr-attrs'><dt><span>units :</span></dt><dd>metre</dd><dt><span>resolution :</span></dt><dd>25.0</dd><dt><span>crs :</span></dt><dd>+proj=aea +lat_0=0 +lon_0=132 +lat_1=-18 +lat_2=-36 +x_0=0 +y_0=0 +ellps=GRS80 +units=m +no_defs</dd></dl></div><pre class='xr-var-data'>array([1639537.5, 1639562.5, 1639587.5, 1639612.5, 1639637.5, 1639662.5,\n",
       "       1639687.5, 1639712.5, 1639737.5, 1639762.5, 1639787.5, 1639812.5,\n",
       "       1639837.5, 1639862.5, 1639887.5, 1639912.5, 1639937.5, 1639962.5,\n",
       "       1639987.5, 1640012.5, 1640037.5, 1640062.5, 1640087.5, 1640112.5,\n",
       "       1640137.5, 1640162.5, 1640187.5, 1640212.5, 1640237.5, 1640262.5,\n",
       "       1640287.5, 1640312.5, 1640337.5, 1640362.5, 1640387.5, 1640412.5,\n",
       "       1640437.5, 1640462.5, 1640487.5, 1640512.5, 1640537.5, 1640562.5,\n",
       "       1640587.5, 1640612.5, 1640637.5, 1640662.5, 1640687.5, 1640712.5,\n",
       "       1640737.5, 1640762.5, 1640787.5, 1640812.5, 1640837.5, 1640862.5,\n",
       "       1640887.5, 1640912.5, 1640937.5, 1640962.5, 1640987.5, 1641012.5,\n",
       "       1641037.5, 1641062.5, 1641087.5, 1641112.5])</pre></li><li class='xr-var-item'><div class='xr-var-name'><span class='xr-has-index'>y</span></div><div class='xr-var-dims'>(y)</div><div class='xr-var-dtype'>float64</div><div class='xr-var-preview xr-preview'>-3.285e+06 ... -3.287e+06</div><input id='attrs-8b275e2f-3527-4dc8-9d23-32c26b9dea4e' class='xr-var-attrs-in' type='checkbox' ><label for='attrs-8b275e2f-3527-4dc8-9d23-32c26b9dea4e' title='Show/Hide attributes'><svg class='icon xr-icon-file-text2'><use xlink:href='#icon-file-text2'></use></svg></label><input id='data-c0dc5faa-714e-4f0a-932b-6893f5711ead' class='xr-var-data-in' type='checkbox'><label for='data-c0dc5faa-714e-4f0a-932b-6893f5711ead' title='Show/Hide data repr'><svg class='icon xr-icon-database'><use xlink:href='#icon-database'></use></svg></label><div class='xr-var-attrs'><dl class='xr-attrs'><dt><span>units :</span></dt><dd>metre</dd><dt><span>resolution :</span></dt><dd>-25.0</dd><dt><span>crs :</span></dt><dd>+proj=aea +lat_0=0 +lon_0=132 +lat_1=-18 +lat_2=-36 +x_0=0 +y_0=0 +ellps=GRS80 +units=m +no_defs</dd></dl></div><pre class='xr-var-data'>array([-3284737.5, -3284762.5, -3284787.5, -3284812.5, -3284837.5, -3284862.5,\n",
       "       -3284887.5, -3284912.5, -3284937.5, -3284962.5, -3284987.5, -3285012.5,\n",
       "       -3285037.5, -3285062.5, -3285087.5, -3285112.5, -3285137.5, -3285162.5,\n",
       "       -3285187.5, -3285212.5, -3285237.5, -3285262.5, -3285287.5, -3285312.5,\n",
       "       -3285337.5, -3285362.5, -3285387.5, -3285412.5, -3285437.5, -3285462.5,\n",
       "       -3285487.5, -3285512.5, -3285537.5, -3285562.5, -3285587.5, -3285612.5,\n",
       "       -3285637.5, -3285662.5, -3285687.5, -3285712.5, -3285737.5, -3285762.5,\n",
       "       -3285787.5, -3285812.5, -3285837.5, -3285862.5, -3285887.5, -3285912.5,\n",
       "       -3285937.5, -3285962.5, -3285987.5, -3286012.5, -3286037.5, -3286062.5,\n",
       "       -3286087.5, -3286112.5, -3286137.5, -3286162.5, -3286187.5, -3286212.5,\n",
       "       -3286237.5, -3286262.5, -3286287.5, -3286312.5, -3286337.5, -3286362.5,\n",
       "       -3286387.5, -3286412.5, -3286437.5, -3286462.5, -3286487.5, -3286512.5,\n",
       "       -3286537.5, -3286562.5, -3286587.5, -3286612.5, -3286637.5])</pre></li><li class='xr-var-item'><div class='xr-var-name'><span class='xr-has-index'>time</span></div><div class='xr-var-dims'>(time)</div><div class='xr-var-dtype'>datetime64[ns]</div><div class='xr-var-preview xr-preview'>1986-08-21T23:16:16.640546 ... 2019-08-15T23:48:14.574313040</div><input id='attrs-b1e6be0b-d4e9-4dd6-b66a-3a66e62071ec' class='xr-var-attrs-in' type='checkbox' disabled><label for='attrs-b1e6be0b-d4e9-4dd6-b66a-3a66e62071ec' title='Show/Hide attributes'><svg class='icon xr-icon-file-text2'><use xlink:href='#icon-file-text2'></use></svg></label><input id='data-d2a33eb1-c512-40e9-a624-3ad09888ccc3' class='xr-var-data-in' type='checkbox'><label for='data-d2a33eb1-c512-40e9-a624-3ad09888ccc3' title='Show/Hide data repr'><svg class='icon xr-icon-database'><use xlink:href='#icon-database'></use></svg></label><div class='xr-var-attrs'><dl class='xr-attrs'></dl></div><pre class='xr-var-data'>array([&#x27;1986-08-21T23:16:16.640546000&#x27;, &#x27;1987-08-31T23:27:33.214374000&#x27;,\n",
       "       &#x27;1987-09-09T23:21:36.223292000&#x27;, ..., &#x27;2019-07-30T23:48:54.197206992&#x27;,\n",
       "       &#x27;2019-08-08T23:42:21.260121040&#x27;, &#x27;2019-08-15T23:48:14.574313040&#x27;],\n",
       "      dtype=&#x27;datetime64[ns]&#x27;)</pre></li></ul></div></li><li class='xr-section-item'><input id='section-40f63e01-dfe0-4df9-aa48-00fc2dea8783' class='xr-section-summary-in' type='checkbox'  ><label for='section-40f63e01-dfe0-4df9-aa48-00fc2dea8783' class='xr-section-summary' >Data variables: <span>(19)</span></label><div class='xr-section-inline-details'></div><div class='xr-section-details'><ul class='xr-var-list'><li class='xr-var-item'><div class='xr-var-name'><span>nbart_red</span></div><div class='xr-var-dims'>(time, y, x)</div><div class='xr-var-dtype'>float32</div><div class='xr-var-preview xr-preview'>...</div><input id='attrs-8005063b-78f3-4688-af8a-b52d498ebac8' class='xr-var-attrs-in' type='checkbox' ><label for='attrs-8005063b-78f3-4688-af8a-b52d498ebac8' title='Show/Hide attributes'><svg class='icon xr-icon-file-text2'><use xlink:href='#icon-file-text2'></use></svg></label><input id='data-1e80f9b0-805f-4a50-b197-db156c916470' class='xr-var-data-in' type='checkbox'><label for='data-1e80f9b0-805f-4a50-b197-db156c916470' title='Show/Hide data repr'><svg class='icon xr-icon-database'><use xlink:href='#icon-database'></use></svg></label><div class='xr-var-attrs'><dl class='xr-attrs'><dt><span>units :</span></dt><dd>1</dd><dt><span>crs :</span></dt><dd>+proj=aea +lat_0=0 +lon_0=132 +lat_1=-18 +lat_2=-36 +x_0=0 +y_0=0 +ellps=GRS80 +units=m +no_defs</dd><dt><span>grid_mapping :</span></dt><dd>spatial_ref</dd></dl></div><pre class='xr-var-data'>[5184256 values with dtype=float32]</pre></li><li class='xr-var-item'><div class='xr-var-name'><span>nbart_blue</span></div><div class='xr-var-dims'>(time, y, x)</div><div class='xr-var-dtype'>float32</div><div class='xr-var-preview xr-preview'>...</div><input id='attrs-e22c02cd-ac09-450b-a208-8a41b723c1d7' class='xr-var-attrs-in' type='checkbox' ><label for='attrs-e22c02cd-ac09-450b-a208-8a41b723c1d7' title='Show/Hide attributes'><svg class='icon xr-icon-file-text2'><use xlink:href='#icon-file-text2'></use></svg></label><input id='data-f28f9c7b-d055-43c1-9b3e-91e1191935dd' class='xr-var-data-in' type='checkbox'><label for='data-f28f9c7b-d055-43c1-9b3e-91e1191935dd' title='Show/Hide data repr'><svg class='icon xr-icon-database'><use xlink:href='#icon-database'></use></svg></label><div class='xr-var-attrs'><dl class='xr-attrs'><dt><span>units :</span></dt><dd>1</dd><dt><span>crs :</span></dt><dd>+proj=aea +lat_0=0 +lon_0=132 +lat_1=-18 +lat_2=-36 +x_0=0 +y_0=0 +ellps=GRS80 +units=m +no_defs</dd><dt><span>grid_mapping :</span></dt><dd>spatial_ref</dd></dl></div><pre class='xr-var-data'>[5184256 values with dtype=float32]</pre></li><li class='xr-var-item'><div class='xr-var-name'><span>nbart_green</span></div><div class='xr-var-dims'>(time, y, x)</div><div class='xr-var-dtype'>float32</div><div class='xr-var-preview xr-preview'>...</div><input id='attrs-6063c7cd-3c64-4fcb-9180-849f109ae67e' class='xr-var-attrs-in' type='checkbox' ><label for='attrs-6063c7cd-3c64-4fcb-9180-849f109ae67e' title='Show/Hide attributes'><svg class='icon xr-icon-file-text2'><use xlink:href='#icon-file-text2'></use></svg></label><input id='data-db1c0bc1-0ddf-4682-b6b3-c6be6d3f44f6' class='xr-var-data-in' type='checkbox'><label for='data-db1c0bc1-0ddf-4682-b6b3-c6be6d3f44f6' title='Show/Hide data repr'><svg class='icon xr-icon-database'><use xlink:href='#icon-database'></use></svg></label><div class='xr-var-attrs'><dl class='xr-attrs'><dt><span>units :</span></dt><dd>1</dd><dt><span>crs :</span></dt><dd>+proj=aea +lat_0=0 +lon_0=132 +lat_1=-18 +lat_2=-36 +x_0=0 +y_0=0 +ellps=GRS80 +units=m +no_defs</dd><dt><span>grid_mapping :</span></dt><dd>spatial_ref</dd></dl></div><pre class='xr-var-data'>[5184256 values with dtype=float32]</pre></li><li class='xr-var-item'><div class='xr-var-name'><span>nbart_nir</span></div><div class='xr-var-dims'>(time, y, x)</div><div class='xr-var-dtype'>float32</div><div class='xr-var-preview xr-preview'>...</div><input id='attrs-071bafc9-cb7a-4a95-ba5b-cbf86f9e4e26' class='xr-var-attrs-in' type='checkbox' ><label for='attrs-071bafc9-cb7a-4a95-ba5b-cbf86f9e4e26' title='Show/Hide attributes'><svg class='icon xr-icon-file-text2'><use xlink:href='#icon-file-text2'></use></svg></label><input id='data-ae172747-a3e1-431d-954f-91ccfb1a376e' class='xr-var-data-in' type='checkbox'><label for='data-ae172747-a3e1-431d-954f-91ccfb1a376e' title='Show/Hide data repr'><svg class='icon xr-icon-database'><use xlink:href='#icon-database'></use></svg></label><div class='xr-var-attrs'><dl class='xr-attrs'><dt><span>units :</span></dt><dd>1</dd><dt><span>crs :</span></dt><dd>+proj=aea +lat_0=0 +lon_0=132 +lat_1=-18 +lat_2=-36 +x_0=0 +y_0=0 +ellps=GRS80 +units=m +no_defs</dd><dt><span>grid_mapping :</span></dt><dd>spatial_ref</dd></dl></div><pre class='xr-var-data'>[5184256 values with dtype=float32]</pre></li><li class='xr-var-item'><div class='xr-var-name'><span>nbart_swir_1</span></div><div class='xr-var-dims'>(time, y, x)</div><div class='xr-var-dtype'>float32</div><div class='xr-var-preview xr-preview'>...</div><input id='attrs-087d18b2-fa4b-46c1-bafd-3074d5c91fc5' class='xr-var-attrs-in' type='checkbox' ><label for='attrs-087d18b2-fa4b-46c1-bafd-3074d5c91fc5' title='Show/Hide attributes'><svg class='icon xr-icon-file-text2'><use xlink:href='#icon-file-text2'></use></svg></label><input id='data-b5418676-611f-4f60-b529-038b9b7e305a' class='xr-var-data-in' type='checkbox'><label for='data-b5418676-611f-4f60-b529-038b9b7e305a' title='Show/Hide data repr'><svg class='icon xr-icon-database'><use xlink:href='#icon-database'></use></svg></label><div class='xr-var-attrs'><dl class='xr-attrs'><dt><span>units :</span></dt><dd>1</dd><dt><span>crs :</span></dt><dd>+proj=aea +lat_0=0 +lon_0=132 +lat_1=-18 +lat_2=-36 +x_0=0 +y_0=0 +ellps=GRS80 +units=m +no_defs</dd><dt><span>grid_mapping :</span></dt><dd>spatial_ref</dd></dl></div><pre class='xr-var-data'>[5184256 values with dtype=float32]</pre></li><li class='xr-var-item'><div class='xr-var-name'><span>nbart_swir_2</span></div><div class='xr-var-dims'>(time, y, x)</div><div class='xr-var-dtype'>float32</div><div class='xr-var-preview xr-preview'>...</div><input id='attrs-393d1688-bb74-4855-bf47-5313583b483c' class='xr-var-attrs-in' type='checkbox' ><label for='attrs-393d1688-bb74-4855-bf47-5313583b483c' title='Show/Hide attributes'><svg class='icon xr-icon-file-text2'><use xlink:href='#icon-file-text2'></use></svg></label><input id='data-a446373c-54a8-4c7c-b6ed-c5726c772b18' class='xr-var-data-in' type='checkbox'><label for='data-a446373c-54a8-4c7c-b6ed-c5726c772b18' title='Show/Hide data repr'><svg class='icon xr-icon-database'><use xlink:href='#icon-database'></use></svg></label><div class='xr-var-attrs'><dl class='xr-attrs'><dt><span>units :</span></dt><dd>1</dd><dt><span>crs :</span></dt><dd>+proj=aea +lat_0=0 +lon_0=132 +lat_1=-18 +lat_2=-36 +x_0=0 +y_0=0 +ellps=GRS80 +units=m +no_defs</dd><dt><span>grid_mapping :</span></dt><dd>spatial_ref</dd></dl></div><pre class='xr-var-data'>[5184256 values with dtype=float32]</pre></li><li class='xr-var-item'><div class='xr-var-name'><span>TCW</span></div><div class='xr-var-dims'>(time, y, x)</div><div class='xr-var-dtype'>float32</div><div class='xr-var-preview xr-preview'>...</div><input id='attrs-26109b5d-01b8-4c02-a48e-6cc3b0041232' class='xr-var-attrs-in' type='checkbox' disabled><label for='attrs-26109b5d-01b8-4c02-a48e-6cc3b0041232' title='Show/Hide attributes'><svg class='icon xr-icon-file-text2'><use xlink:href='#icon-file-text2'></use></svg></label><input id='data-b9ac4eb6-84fb-4fc4-9b99-fdc2d5a44571' class='xr-var-data-in' type='checkbox'><label for='data-b9ac4eb6-84fb-4fc4-9b99-fdc2d5a44571' title='Show/Hide data repr'><svg class='icon xr-icon-database'><use xlink:href='#icon-database'></use></svg></label><div class='xr-var-attrs'><dl class='xr-attrs'></dl></div><pre class='xr-var-data'>[5184256 values with dtype=float32]</pre></li><li class='xr-var-item'><div class='xr-var-name'><span>product</span></div><div class='xr-var-dims'>(time, y, x)</div><div class='xr-var-dtype'>object</div><div class='xr-var-preview xr-preview'>...</div><input id='attrs-9f94018b-bd43-48a3-9c34-aab7b42a3932' class='xr-var-attrs-in' type='checkbox' disabled><label for='attrs-9f94018b-bd43-48a3-9c34-aab7b42a3932' title='Show/Hide attributes'><svg class='icon xr-icon-file-text2'><use xlink:href='#icon-file-text2'></use></svg></label><input id='data-f86169cc-e6f9-43d5-ad4a-b90dbd85887e' class='xr-var-data-in' type='checkbox'><label for='data-f86169cc-e6f9-43d5-ad4a-b90dbd85887e' title='Show/Hide data repr'><svg class='icon xr-icon-database'><use xlink:href='#icon-database'></use></svg></label><div class='xr-var-attrs'><dl class='xr-attrs'></dl></div><pre class='xr-var-data'>[5184256 values with dtype=object]</pre></li><li class='xr-var-item'><div class='xr-var-name'><span>wet</span></div><div class='xr-var-dims'>(time, y, x)</div><div class='xr-var-dtype'>float32</div><div class='xr-var-preview xr-preview'>...</div><input id='attrs-c474bbff-f8d0-43c2-a18b-3888a56dead4' class='xr-var-attrs-in' type='checkbox' disabled><label for='attrs-c474bbff-f8d0-43c2-a18b-3888a56dead4' title='Show/Hide attributes'><svg class='icon xr-icon-file-text2'><use xlink:href='#icon-file-text2'></use></svg></label><input id='data-72e8abdc-a021-4532-81a8-80f1a5c763a4' class='xr-var-data-in' type='checkbox'><label for='data-72e8abdc-a021-4532-81a8-80f1a5c763a4' title='Show/Hide data repr'><svg class='icon xr-icon-database'><use xlink:href='#icon-database'></use></svg></label><div class='xr-var-attrs'><dl class='xr-attrs'></dl></div><pre class='xr-var-data'>[5184256 values with dtype=float32]</pre></li><li class='xr-var-item'><div class='xr-var-name'><span>wetCount</span></div><div class='xr-var-dims'>(time, y, x)</div><div class='xr-var-dtype'>bool</div><div class='xr-var-preview xr-preview'>...</div><input id='attrs-b6b1b872-c8a8-457b-b2de-7a03a66a56d8' class='xr-var-attrs-in' type='checkbox' disabled><label for='attrs-b6b1b872-c8a8-457b-b2de-7a03a66a56d8' title='Show/Hide attributes'><svg class='icon xr-icon-file-text2'><use xlink:href='#icon-file-text2'></use></svg></label><input id='data-bc335375-7250-46e6-bf53-f5952a74e748' class='xr-var-data-in' type='checkbox'><label for='data-bc335375-7250-46e6-bf53-f5952a74e748' title='Show/Hide data repr'><svg class='icon xr-icon-database'><use xlink:href='#icon-database'></use></svg></label><div class='xr-var-attrs'><dl class='xr-attrs'></dl></div><pre class='xr-var-data'>[5184256 values with dtype=bool]</pre></li><li class='xr-var-item'><div class='xr-var-name'><span>wetFreq</span></div><div class='xr-var-dims'>(y, x)</div><div class='xr-var-dtype'>float64</div><div class='xr-var-preview xr-preview'>...</div><input id='attrs-09ed405c-9f15-4460-ad70-fc29369ec23a' class='xr-var-attrs-in' type='checkbox' disabled><label for='attrs-09ed405c-9f15-4460-ad70-fc29369ec23a' title='Show/Hide attributes'><svg class='icon xr-icon-file-text2'><use xlink:href='#icon-file-text2'></use></svg></label><input id='data-17f1cab1-6fbd-46de-ae67-7a00f5798917' class='xr-var-data-in' type='checkbox'><label for='data-17f1cab1-6fbd-46de-ae67-7a00f5798917' title='Show/Hide data repr'><svg class='icon xr-icon-database'><use xlink:href='#icon-database'></use></svg></label><div class='xr-var-attrs'><dl class='xr-attrs'></dl></div><pre class='xr-var-data'>array([[nan, nan, nan, ..., nan, nan, nan],\n",
       "       [nan, nan, nan, ..., nan, nan, nan],\n",
       "       [nan, nan, nan, ..., nan, nan, nan],\n",
       "       ...,\n",
       "       [nan, nan, nan, ..., nan, nan, nan],\n",
       "       [nan, nan, nan, ..., nan, nan, nan],\n",
       "       [nan, nan, nan, ..., nan, nan, nan]])</pre></li><li class='xr-var-item'><div class='xr-var-name'><span>wetFreqPct</span></div><div class='xr-var-dims'>(y, x)</div><div class='xr-var-dtype'>float64</div><div class='xr-var-preview xr-preview'>...</div><input id='attrs-eed27ad6-29a4-4cb6-be61-1f2e00dc96da' class='xr-var-attrs-in' type='checkbox' disabled><label for='attrs-eed27ad6-29a4-4cb6-be61-1f2e00dc96da' title='Show/Hide attributes'><svg class='icon xr-icon-file-text2'><use xlink:href='#icon-file-text2'></use></svg></label><input id='data-66ec28a8-635c-4a26-a717-f90754a3067e' class='xr-var-data-in' type='checkbox'><label for='data-66ec28a8-635c-4a26-a717-f90754a3067e' title='Show/Hide data repr'><svg class='icon xr-icon-database'><use xlink:href='#icon-database'></use></svg></label><div class='xr-var-attrs'><dl class='xr-attrs'></dl></div><pre class='xr-var-data'>array([[nan, nan, nan, ..., nan, nan, nan],\n",
       "       [nan, nan, nan, ..., nan, nan, nan],\n",
       "       [nan, nan, nan, ..., nan, nan, nan],\n",
       "       ...,\n",
       "       [nan, nan, nan, ..., nan, nan, nan],\n",
       "       [nan, nan, nan, ..., nan, nan, nan],\n",
       "       [nan, nan, nan, ..., nan, nan, nan]])</pre></li><li class='xr-var-item'><div class='xr-var-name'><span>justwetHAND</span></div><div class='xr-var-dims'>(y, x, time)</div><div class='xr-var-dtype'>float64</div><div class='xr-var-preview xr-preview'>...</div><input id='attrs-d0e468a3-4310-49ba-a17c-783eeaa25487' class='xr-var-attrs-in' type='checkbox' disabled><label for='attrs-d0e468a3-4310-49ba-a17c-783eeaa25487' title='Show/Hide attributes'><svg class='icon xr-icon-file-text2'><use xlink:href='#icon-file-text2'></use></svg></label><input id='data-1d18b8fb-fcad-4ba9-a780-0a8d21f77603' class='xr-var-data-in' type='checkbox'><label for='data-1d18b8fb-fcad-4ba9-a780-0a8d21f77603' title='Show/Hide data repr'><svg class='icon xr-icon-database'><use xlink:href='#icon-database'></use></svg></label><div class='xr-var-attrs'><dl class='xr-attrs'></dl></div><pre class='xr-var-data'>[5184256 values with dtype=float64]</pre></li><li class='xr-var-item'><div class='xr-var-name'><span>veg_randomUID</span></div><div class='xr-var-dims'>(y, x)</div><div class='xr-var-dtype'>float64</div><div class='xr-var-preview xr-preview'>...</div><input id='attrs-792fe4c9-17eb-4b97-af0d-1d473d490cfe' class='xr-var-attrs-in' type='checkbox' ><label for='attrs-792fe4c9-17eb-4b97-af0d-1d473d490cfe' title='Show/Hide attributes'><svg class='icon xr-icon-file-text2'><use xlink:href='#icon-file-text2'></use></svg></label><input id='data-cbf1992b-c771-4358-a1ef-7ac03d6c2319' class='xr-var-data-in' type='checkbox'><label for='data-cbf1992b-c771-4358-a1ef-7ac03d6c2319' title='Show/Hide data repr'><svg class='icon xr-icon-database'><use xlink:href='#icon-database'></use></svg></label><div class='xr-var-attrs'><dl class='xr-attrs'><dt><span>affine :</span></dt><dd>[ 5.06479075e+00  0.00000000e+00  1.63954861e+06  0.00000000e+00\n",
       " -5.06479075e+00 -3.28474557e+06  0.00000000e+00  0.00000000e+00\n",
       "  1.00000000e+00]</dd></dl></div><pre class='xr-var-data'>array([[nan, nan, nan, ..., nan, nan, nan],\n",
       "       [nan, nan, nan, ..., nan, nan, nan],\n",
       "       [nan, nan, nan, ..., nan, nan, nan],\n",
       "       ...,\n",
       "       [nan, nan, nan, ..., nan, nan, nan],\n",
       "       [nan, nan, nan, ..., nan, nan, nan],\n",
       "       [nan, nan, nan, ..., nan, nan, nan]])</pre></li><li class='xr-var-item'><div class='xr-var-name'><span>HAND</span></div><div class='xr-var-dims'>(y, x)</div><div class='xr-var-dtype'>float64</div><div class='xr-var-preview xr-preview'>...</div><input id='attrs-77462a27-d994-48f4-96aa-bfafb454aa76' class='xr-var-attrs-in' type='checkbox' disabled><label for='attrs-77462a27-d994-48f4-96aa-bfafb454aa76' title='Show/Hide attributes'><svg class='icon xr-icon-file-text2'><use xlink:href='#icon-file-text2'></use></svg></label><input id='data-b67be874-31d7-4f7c-bc58-5ebccee06165' class='xr-var-data-in' type='checkbox'><label for='data-b67be874-31d7-4f7c-bc58-5ebccee06165' title='Show/Hide data repr'><svg class='icon xr-icon-database'><use xlink:href='#icon-database'></use></svg></label><div class='xr-var-attrs'><dl class='xr-attrs'></dl></div><pre class='xr-var-data'>array([[nan, nan, nan, ..., nan, nan, nan],\n",
       "       [nan, nan, nan, ..., nan, nan, nan],\n",
       "       [nan, nan, nan, ..., nan, nan, nan],\n",
       "       ...,\n",
       "       [nan, nan, nan, ..., nan, nan, nan],\n",
       "       [nan, nan, nan, ..., nan, nan, nan],\n",
       "       [nan, nan, nan, ..., nan, nan, nan]])</pre></li><li class='xr-var-item'><div class='xr-var-name'><span>DEM</span></div><div class='xr-var-dims'>(y, x)</div><div class='xr-var-dtype'>float32</div><div class='xr-var-preview xr-preview'>...</div><input id='attrs-292b121f-f042-4376-b50e-0a7bc5c8bd2d' class='xr-var-attrs-in' type='checkbox' disabled><label for='attrs-292b121f-f042-4376-b50e-0a7bc5c8bd2d' title='Show/Hide attributes'><svg class='icon xr-icon-file-text2'><use xlink:href='#icon-file-text2'></use></svg></label><input id='data-c6790522-3441-4851-9576-40e3e60db79d' class='xr-var-data-in' type='checkbox'><label for='data-c6790522-3441-4851-9576-40e3e60db79d' title='Show/Hide data repr'><svg class='icon xr-icon-database'><use xlink:href='#icon-database'></use></svg></label><div class='xr-var-attrs'><dl class='xr-attrs'></dl></div><pre class='xr-var-data'>array([[nan, nan, nan, ..., nan, nan, nan],\n",
       "       [nan, nan, nan, ..., nan, nan, nan],\n",
       "       [nan, nan, nan, ..., nan, nan, nan],\n",
       "       ...,\n",
       "       [nan, nan, nan, ..., nan, nan, nan],\n",
       "       [nan, nan, nan, ..., nan, nan, nan],\n",
       "       [nan, nan, nan, ..., nan, nan, nan]], dtype=float32)</pre></li><li class='xr-var-item'><div class='xr-var-name'><span>DEMCorr</span></div><div class='xr-var-dims'>(y, x)</div><div class='xr-var-dtype'>float64</div><div class='xr-var-preview xr-preview'>...</div><input id='attrs-729dcb75-5c77-4173-b0ff-ef03fbea7475' class='xr-var-attrs-in' type='checkbox' disabled><label for='attrs-729dcb75-5c77-4173-b0ff-ef03fbea7475' title='Show/Hide attributes'><svg class='icon xr-icon-file-text2'><use xlink:href='#icon-file-text2'></use></svg></label><input id='data-a55fe34e-8f65-4fd7-893f-96c4f6000282' class='xr-var-data-in' type='checkbox'><label for='data-a55fe34e-8f65-4fd7-893f-96c4f6000282' title='Show/Hide data repr'><svg class='icon xr-icon-database'><use xlink:href='#icon-database'></use></svg></label><div class='xr-var-attrs'><dl class='xr-attrs'></dl></div><pre class='xr-var-data'>array([[nan, nan, nan, ..., nan, nan, nan],\n",
       "       [nan, nan, nan, ..., nan, nan, nan],\n",
       "       [nan, nan, nan, ..., nan, nan, nan],\n",
       "       ...,\n",
       "       [nan, nan, nan, ..., nan, nan, nan],\n",
       "       [nan, nan, nan, ..., nan, nan, nan],\n",
       "       [nan, nan, nan, ..., nan, nan, nan]])</pre></li><li class='xr-var-item'><div class='xr-var-name'><span>DEMDir</span></div><div class='xr-var-dims'>(y, x)</div><div class='xr-var-dtype'>float64</div><div class='xr-var-preview xr-preview'>...</div><input id='attrs-be84955b-c55f-4640-a861-4087920e3c77' class='xr-var-attrs-in' type='checkbox' disabled><label for='attrs-be84955b-c55f-4640-a861-4087920e3c77' title='Show/Hide attributes'><svg class='icon xr-icon-file-text2'><use xlink:href='#icon-file-text2'></use></svg></label><input id='data-f5254728-504e-4e08-a355-345a10aaf602' class='xr-var-data-in' type='checkbox'><label for='data-f5254728-504e-4e08-a355-345a10aaf602' title='Show/Hide data repr'><svg class='icon xr-icon-database'><use xlink:href='#icon-database'></use></svg></label><div class='xr-var-attrs'><dl class='xr-attrs'></dl></div><pre class='xr-var-data'>array([[nan, nan, nan, ..., nan, nan, nan],\n",
       "       [nan,  0.,  0., ...,  0.,  0.,  0.],\n",
       "       [nan,  0.,  0., ...,  0.,  0.,  0.],\n",
       "       ...,\n",
       "       [nan,  0.,  0., ...,  0.,  0.,  0.],\n",
       "       [nan,  0.,  0., ...,  0.,  0.,  0.],\n",
       "       [nan, nan, nan, ..., nan, nan, nan]])</pre></li><li class='xr-var-item'><div class='xr-var-name'><span>DEMAcc</span></div><div class='xr-var-dims'>(y, x)</div><div class='xr-var-dtype'>float64</div><div class='xr-var-preview xr-preview'>...</div><input id='attrs-974e0ec8-b3fa-4e7a-bebf-6f5995a867c5' class='xr-var-attrs-in' type='checkbox' disabled><label for='attrs-974e0ec8-b3fa-4e7a-bebf-6f5995a867c5' title='Show/Hide attributes'><svg class='icon xr-icon-file-text2'><use xlink:href='#icon-file-text2'></use></svg></label><input id='data-e9af0138-3a26-4604-aeed-8c2b36fc54f6' class='xr-var-data-in' type='checkbox'><label for='data-e9af0138-3a26-4604-aeed-8c2b36fc54f6' title='Show/Hide data repr'><svg class='icon xr-icon-database'><use xlink:href='#icon-database'></use></svg></label><div class='xr-var-attrs'><dl class='xr-attrs'></dl></div><pre class='xr-var-data'>array([[nan, nan, nan, ..., nan, nan, nan],\n",
       "       [nan,  1.,  1., ...,  1.,  1.,  1.],\n",
       "       [nan,  1.,  1., ...,  1.,  1.,  1.],\n",
       "       ...,\n",
       "       [nan,  1.,  1., ...,  1.,  1.,  1.],\n",
       "       [nan,  1.,  1., ...,  1.,  1.,  1.],\n",
       "       [nan, nan, nan, ..., nan, nan, nan]])</pre></li></ul></div></li><li class='xr-section-item'><input id='section-df321a4f-4af0-42c8-b23c-11d13d56c3aa' class='xr-section-summary-in' type='checkbox'  checked><label for='section-df321a4f-4af0-42c8-b23c-11d13d56c3aa' class='xr-section-summary' >Attributes: <span>(3)</span></label><div class='xr-section-inline-details'></div><div class='xr-section-details'><dl class='xr-attrs'><dt><span>crs :</span></dt><dd>+proj=aea +lat_0=0 +lon_0=132 +lat_1=-18 +lat_2=-36 +x_0=0 +y_0=0 +ellps=GRS80 +units=m +no_defs</dd><dt><span>grid_mapping :</span></dt><dd>spatial_ref</dd><dt><span>transform :</span></dt><dd>| 24.61, 0.00, 1639537.50|\n",
       "| 0.00,-24.68,-3284737.50|\n",
       "| 0.00, 0.00, 1.00|</dd></dl></div></li></ul></div></div>"
      ],
      "text/plain": [
       "<xarray.Dataset>\n",
       "Dimensions:        (time: 1052, x: 64, y: 77)\n",
       "Coordinates:\n",
       "    spatial_ref    int32 ...\n",
       "  * x              (x) float64 1.64e+06 1.64e+06 ... 1.641e+06 1.641e+06\n",
       "  * y              (y) float64 -3.285e+06 -3.285e+06 ... -3.287e+06 -3.287e+06\n",
       "  * time           (time) datetime64[ns] 1986-08-21T23:16:16.640546 ... 2019-08-15T23:48:14.574313040\n",
       "Data variables:\n",
       "    nbart_red      (time, y, x) float32 ...\n",
       "    nbart_blue     (time, y, x) float32 ...\n",
       "    nbart_green    (time, y, x) float32 ...\n",
       "    nbart_nir      (time, y, x) float32 ...\n",
       "    nbart_swir_1   (time, y, x) float32 ...\n",
       "    nbart_swir_2   (time, y, x) float32 ...\n",
       "    TCW            (time, y, x) float32 ...\n",
       "    product        (time, y, x) object ...\n",
       "    wet            (time, y, x) float32 ...\n",
       "    wetCount       (time, y, x) bool ...\n",
       "    wetFreq        (y, x) float64 ...\n",
       "    wetFreqPct     (y, x) float64 ...\n",
       "    justwetHAND    (y, x, time) float64 ...\n",
       "    veg_randomUID  (y, x) float64 ...\n",
       "    HAND           (y, x) float64 ...\n",
       "    DEM            (y, x) float32 ...\n",
       "    DEMCorr        (y, x) float64 ...\n",
       "    DEMDir         (y, x) float64 ...\n",
       "    DEMAcc         (y, x) float64 ...\n",
       "Attributes:\n",
       "    crs:           +proj=aea +lat_0=0 +lon_0=132 +lat_1=-18 +lat_2=-36 +x_0=0...\n",
       "    grid_mapping:  spatial_ref\n",
       "    transform:     | 24.61, 0.00, 1639537.50|\\n| 0.00,-24.68,-3284737.50|\\n| ..."
      ]
     },
     "execution_count": 6,
     "metadata": {},
     "output_type": "execute_result"
    }
   ],
   "source": [
    "AllDataCombined"
   ]
  },
  {
   "cell_type": "markdown",
   "metadata": {},
   "source": [
    "### Load in the high res version of the LiDAR data"
   ]
  },
  {
   "cell_type": "code",
   "execution_count": 7,
   "metadata": {},
   "outputs": [],
   "source": [
    "HighResLidar = xr.open_dataset(HighResDatasetToLoad)"
   ]
  },
  {
   "cell_type": "code",
   "execution_count": 8,
   "metadata": {},
   "outputs": [],
   "source": [
    "HighResLidar.attrs['transform'] = transform.from_bounds(HighResLidar.x.min().item(),\n",
    "                                                           HighResLidar.y.min().item(), \n",
    "                                                           HighResLidar.x.max().item(), \n",
    "                                                           HighResLidar.y.max().item(),\n",
    "                                                           len(HighResLidar.x),\n",
    "                                                           len(HighResLidar.y)\n",
    "                                                          )"
   ]
  },
  {
   "cell_type": "markdown",
   "metadata": {},
   "source": [
    "### We also need to load in the species dictionary we saved out"
   ]
  },
  {
   "cell_type": "code",
   "execution_count": 9,
   "metadata": {},
   "outputs": [],
   "source": [
    "with open(SpeciesDictToLoad, 'r') as f: \n",
    "    content = f.read()\n",
    "    SpeciesDict = eval(content)"
   ]
  },
  {
   "cell_type": "markdown",
   "metadata": {},
   "source": [
    "#### We need to regenerate the order of vegetation communities by mean HAND, and then match up that order with the `SpeciesDict` to get the tick labels."
   ]
  },
  {
   "cell_type": "code",
   "execution_count": 10,
   "metadata": {},
   "outputs": [],
   "source": [
    "# Now recalculate our median HAND values and sort the data based on this\n",
    "MedianHAND = AllDataCombined.HAND.groupby(AllDataCombined['veg_randomUID']).median()\n",
    "myorder = MedianHAND.sortby(MedianHAND)['veg_randomUID'].values"
   ]
  },
  {
   "cell_type": "code",
   "execution_count": 11,
   "metadata": {},
   "outputs": [],
   "source": [
    "# Grab the correct vegetation labels in the right order\n",
    "XTickNames = []\n",
    "for vegvalue in myorder:\n",
    "    VegName = SpeciesDict[int(vegvalue)]\n",
    "    # Check how long the veg name is and if it's longer than 20 char, shorten.\n",
    "    if len(VegName) > 20:\n",
    "        XTickNames.append(VegName[:20])\n",
    "    else:\n",
    "        XTickNames.append(VegName)"
   ]
  },
  {
   "cell_type": "markdown",
   "metadata": {},
   "source": [
    "### Read in the Ramsar boundary shapefile"
   ]
  },
  {
   "cell_type": "code",
   "execution_count": 12,
   "metadata": {},
   "outputs": [],
   "source": [
    "RamsarBoundary = gpd.read_file(RamsarBoundaryFile)\n",
    "RamsarBoundary = RamsarBoundary.to_crs(AllDataCombined.crs)"
   ]
  },
  {
   "cell_type": "code",
   "execution_count": 13,
   "metadata": {},
   "outputs": [
    {
     "data": {
      "image/png": "[encoded data removed]",
      "text/plain": [
       "<Figure size 432x288 with 1 Axes>"
      ]
     },
     "metadata": {
      "needs_background": "light"
     },
     "output_type": "display_data"
    }
   ],
   "source": [
    "RamsarBoundary.geometry.boundary.plot(color=None,edgecolor='k',linewidth = 2);"
   ]
  },
  {
   "cell_type": "markdown",
   "metadata": {},
   "source": [
    "<a id='CalculateDepthPerTime'></a>\n",
    "## Calculate the water level for each inundated area across all time\n",
    "\n",
    "TO DO: The code at the moment takes the `HeightPercentile` percentile of LiDAR heights intersected by a wet 'blob'. If the blob sits over a sloped relief, then the results are biased towards the higher part of the scene. This results in incorrectly deep water depths for these locations. FIX THIS.\n",
    "\n",
    "We calculate the depth of water across the wetland at each Landsat timestep by combining the Landsat wet observations with a LiDAR DEM. For each time step, the discrete wet blobs are polygonised, so that we can get the outline of the water extent for each patch of wet area. Once we have this outline, we use it to sample the values from the underlying DEM. We take the `HeightPercentile` percentile of all of these sampled DEM values, and assume that this represent the height on the DEM to which water has filled. \n",
    "\n",
    "We then subtract this height from the DEM, and crop it back to just our small wet blob. This blob of water heights is then put back into a dataframe.\n",
    "\n",
    "Note that if the value in the LiDAR DEM is higher than the calculated water height, then a nan is returned for that pixel.This may occur if there is noise in the LiDAR data, like a tree or bush, or if the course Landsat wet area includes areas of heigh relief, like a stream bank. "
   ]
  },
  {
   "cell_type": "markdown",
   "metadata": {},
   "source": [
    "### Create an empty data array to put our inundation results in to"
   ]
  },
  {
   "cell_type": "code",
   "execution_count": 14,
   "metadata": {},
   "outputs": [],
   "source": [
    "WetlandWaterDepths = HighResLidar['DEM'].copy()\n",
    "WetlandWaterDepths[:] = np.nan\n",
    "WetlandWaterDepths = WetlandWaterDepths.expand_dims({'time': AllDataCombined.time}).copy()\n",
    "# WetlandWaterDepths = WetlandWaterDepths.expand_dims({'time': AllDataCombined.time.isel(time=range(0,1))}).copy()"
   ]
  },
  {
   "cell_type": "markdown",
   "metadata": {},
   "source": [
    "### Loop through each time step and calculate the water inundation height\n",
    "\n",
    "Loop through all timesteps, then all individual wet blobs within that timestep. We want to treat each individual wet blob as separate from the rest of the scene, so that we can calculate a local water height. "
   ]
  },
  {
   "cell_type": "code",
   "execution_count": 15,
   "metadata": {},
   "outputs": [
    {
     "name": "stdout",
     "output_type": "stream",
     "text": [
      "Working on 1986-08-21T23:16:16.640546000\n",
      "Working on 1989-09-14T23:20:42.106106000\n",
      "Working on 1992-09-13T23:23:10.992894992\n",
      "Working on 1994-07-17T23:19:07.580589008\n",
      "Working on 1996-10-10T23:20:08.747154000\n",
      "Working on 1998-12-03T23:40:00.995968016\n",
      "Working on 2000-06-23T23:52:49.231301968\n",
      "Working on 2002-03-18T23:43:39.253472016\n",
      "Working on 2003-10-15T23:43:03.951326992\n",
      "Working on 2004-11-02T23:43:45.582506000\n",
      "Working on 2005-09-26T23:42:59.549638992\n",
      "Working on 2006-11-07T23:55:25.343765968\n",
      "Working on 2008-03-10T23:44:59.571389008\n",
      "Working on 2009-04-30T23:42:21.388907984\n",
      "Working on 2010-06-12T23:47:01.072137040\n",
      "Working on 2011-09-18T23:49:30.620566992\n",
      "Working on 2013-08-14T23:56:20.230874960\n",
      "Working on 2014-08-26T00:01:08.381210064\n",
      "Working on 2015-10-08T23:54:53.898777040\n",
      "Working on 2017-03-27T00:00:40.127125968\n",
      "Working on 2018-06-26T00:00:33.711983952\n",
      "Working on 2019-08-08T23:42:21.260121040\n"
     ]
    }
   ],
   "source": [
    "# Loop through each time step\n",
    "for ix in range(0, len(WetlandWaterDepths.time)):\n",
    "    # print out an update every 50 timesteps\n",
    "    if ix/50 == int(ix/50):\n",
    "        print(f'Working on {WetlandWaterDepths.time[ix].data}')\n",
    "    # Interpolate the satellite data onto the grid of the Lidar\n",
    "    WetonLidar = AllDataCombined['wet'].isel(time=ix).interp(x = HighResLidar.x, y= HighResLidar.y, method='nearest')\n",
    "    # Convert to a boolean wet/not wet\n",
    "    WetonLidar = np.isfinite(WetonLidar)\n",
    "    # Check for a completely dry timestep. If it is completely dry, ignore it.\n",
    "    if WetonLidar.sum() > 0:\n",
    "        # Polygonize the wet bits in the timestep to turn them into polygons\n",
    "        WetPolygons = features.shapes(WetonLidar.data.astype('float32'),\n",
    "                                      transform=HighResLidar.attrs['transform'],\n",
    "                                     connectivity=8)\n",
    "        # Convert polygons into a geodataframe\n",
    "        DiscreteWetPolygons = gpd.GeoDataFrame(WetPolygons, columns =['stringgeom', 'wetyes'])\n",
    "        # Fix up the geometry attribute\n",
    "        DiscreteWetPolygons['geometry'] = None\n",
    "        for idx, poly in DiscreteWetPolygons.iterrows():\n",
    "            DiscreteWetPolygons.loc[idx,'geometry'] = shapelyshape(poly[0])\n",
    "        # Set the geometry of the dataframe to be the shapely geometry we just created\n",
    "        DiscreteWetPolygons = DiscreteWetPolygons.set_geometry('geometry')\n",
    "        # We need to add the crs back onto the dataframe\n",
    "        DiscreteWetPolygons.crs = 'EPSG:3577'\n",
    "        # Drop the nan polygon created from the nan values\n",
    "        DiscreteWetPolygons = DiscreteWetPolygons.loc[DiscreteWetPolygons['wetyes'] == 1]\n",
    "        # And drop the temporary stringgeom\n",
    "        DiscreteWetPolygons.drop('stringgeom', axis=1, inplace=True)\n",
    "        \n",
    "        # Now loop through each polygon shape to calculate a water surface height\n",
    "        for shapez in DiscreteWetPolygons.iterrows():\n",
    "            # Sample the LiDAR array that intersects with the outline of each wet polygon\n",
    "            # then create a 2D interpolated smooth surface from the DEM values to simulate water inundating it\n",
    "            EstWaterLevel = get_water_level(shapez[1]['geometry'], HighResLidar.DEM, height_percentile = HeightPercentile)\n",
    "            # Subtract \n",
    "            EstWaterHeight = EstWaterLevel['water_level'] - HighResLidar.DEM\n",
    "            EstWaterHeight.attrs['transform'] = HighResLidar.attrs['transform']\n",
    "            y, x = HighResLidar.DEM.values.shape\n",
    "            # Now convert the polgons into a numpy array\n",
    "            RasterWetPoly = features.rasterize(shapes=shapez[1],\n",
    "                                                    out_shape=(y, x),\n",
    "                                                    all_touched=False,\n",
    "                                                    fill=np.nan,\n",
    "                                                    transform=HighResLidar.attrs['transform'])\n",
    "            # Convert result to a xarray.DataArray using coords etc from the LiDAR data\n",
    "            RasterWetPoly = xr.DataArray(RasterWetPoly,\n",
    "                                     coords=[HighResLidar.y, HighResLidar.x],\n",
    "                                     dims=['y', 'x'],\n",
    "                                     name='wetBits',\n",
    "                                     attrs=HighResLidar.attrs)\n",
    "            WaterBodyHeight = EstWaterHeight.where((RasterWetPoly == 1) & (EstWaterHeight >= 0))\n",
    "            WetlandWaterDepths.loc[{'time': WetlandWaterDepths['time'][ix]}] = xr.where(np.isfinite(WaterBodyHeight), WaterBodyHeight, \n",
    "                                                                          WetlandWaterDepths.loc[{'time': WetlandWaterDepths['time'][ix]}])"
   ]
  },
  {
   "cell_type": "markdown",
   "metadata": {},
   "source": [
    "### Write out to netCDF"
   ]
  },
  {
   "cell_type": "code",
   "execution_count": 11,
   "metadata": {},
   "outputs": [],
   "source": [
    "WetlandWaterDepths.to_netcdf(WetlandWaterDepthsFileName)"
   ]
  },
  {
   "cell_type": "markdown",
   "metadata": {},
   "source": [
    "### Compare the depth results with the Landsat wet obs"
   ]
  },
  {
   "cell_type": "code",
   "execution_count": 17,
   "metadata": {},
   "outputs": [
    {
     "data": {
      "image/png": "[encoded data removed]",
      "text/plain": [
       "<Figure size 864x432 with 4 Axes>"
      ]
     },
     "metadata": {
      "needs_background": "light"
     },
     "output_type": "display_data"
    }
   ],
   "source": [
    "# Find a time where there was wet areas\n",
    "wettime = 1\n",
    "\n",
    "fig, ax = plt.subplots(1,2, figsize=[12, 6]);\n",
    "WetlandWaterDepths.isel(time=wettime).plot(ax=ax[0]);\n",
    "AllDataCombined['wetCount'].isel(time=wettime).plot(ax=ax[1]);"
   ]
  },
  {
   "cell_type": "code",
   "execution_count": 20,
   "metadata": {},
   "outputs": [
    {
     "data": {
      "image/png": "[encoded data removed]",
      "text/plain": [
       "<Figure size 936x576 with 4 Axes>"
      ]
     },
     "metadata": {
      "needs_background": "light"
     },
     "output_type": "display_data"
    }
   ],
   "source": [
    "fig, ax = plt.subplots(1,1, figsize=[13, 8]);\n",
    "HighResLidar.DEM.plot(cmap='plasma', alpha = 0.6);\n",
    "AllDataCombined['wet'].isel(time=wettime).plot(cmap='Blues')\n",
    "WetlandWaterDepths.isel(time=wettime).plot()\n",
    "plt.ticklabel_format(useOffset=False, style='plain');\n",
    "plt.xlabel('Longitude (EPSG:3577)', fontsize=14);\n",
    "plt.ylabel('Latitude (EPSG:3577)', fontsize=14);"
   ]
  },
  {
   "cell_type": "markdown",
   "metadata": {},
   "source": [
    "<a id='IdentifyEvents'></a>\n",
    "## Identify 'events' within the wetland\n",
    "\n",
    "Here an 'event' starts when `EventThreshold`% of the total wetland area seen as wet, and ends when no more than `EventThreshold`% of the wetland remains 'wet'. Additional steps to refine the definition of an event are applied. The process involves:\n",
    "* Count the wet pixels across the whole wetland per time step, and find where at least `EventThreshold`% of the wetland is 'wet'\n",
    "    * If a timestep is above the threshold, it will be 'True'/1\n",
    "    * If a timestep is below the threshold, it will be 'False'/0\n",
    "* Identify times when the wetland switches from above to below (or below to above) the threshold\n",
    "    * This is done by subtracting each time step from the subsequent timestep\n",
    "    * If it equals 1, then the array has moved from False to True\n",
    "        * e.g. if timestep one is True, and timestep two is False, then timestep one minus timestep two = 1.\n",
    "    * If it equals -1, then the array has moved from True to False\n",
    "* Check whether the first obervation of the wetland was wet\n",
    "    * If it was, we can't say for sure how long prior to the start of LS obs it was wet, so we throw this wet event out. If it wasn't wet then we don't need to worry. \n",
    "* Calculate the length (in days) of each event\n",
    "* Find short events and see whether we can combine them with the previous or next event\n",
    "    * Since we have Landsat 7 data in here, the SLC-off issue results in some scenes where < `EventThreshold`% of the wetland area is observed as wet, then when the next Landsat 8 scene comes in, it jumps back up over the threshold. We want to deal with these by seeing if another observation above the chosen `EventThreshold` occurs within `CloseEnoughTogether` days so that we can assume the event actually continues. \n",
    "    * TO DO: for now, this check is only applied to short events. We really should just check each event and see whether it can be joined to the previous or next event.\n",
    "* Write the events out to csv"
   ]
  },
  {
   "cell_type": "code",
   "execution_count": 114,
   "metadata": {},
   "outputs": [
    {
     "data": {
      "image/png": "[encoded data removed]",
      "text/plain": [
       "<Figure size 576x432 with 1 Axes>"
      ]
     },
     "metadata": {
      "needs_background": "light"
     },
     "output_type": "display_data"
    }
   ],
   "source": [
    "# See how much of the wetland is inundated at each time step\n",
    "WetArea = (AllDataCombined['wetCount'].sum(dim=['x', 'y']) / (np.isfinite(AllDataCombined['TCW']).sum(dim=['x', 'y']))) * 100\n",
    "\n",
    "WetArea.plot(figsize=([8,6]), color='k');\n",
    "plt.axhline(EventThreshold, color='r', linestyle='--', label=f'Event threshold: {EventThreshold}%');\n",
    "plt.ylabel('Percentage of wetland identified as wet');\n",
    "plt.title(f'Percentage of {AnalysisLocation} identified as wet at each timestep');\n",
    "plt.legend();\n",
    "plt.savefig(WetEventsLinePlot, bbox_inches='tight');"
   ]
  },
  {
   "cell_type": "code",
   "execution_count": 115,
   "metadata": {},
   "outputs": [
    {
     "data": {
      "image/png": "[encoded data removed]",
      "text/plain": [
       "<Figure size 576x432 with 1 Axes>"
      ]
     },
     "metadata": {
      "needs_background": "light"
     },
     "output_type": "display_data"
    }
   ],
   "source": [
    "fig = plt.figure(figsize=([8,6]))\n",
    "plt.hist(WetArea[WetArea > 1], bins = 99, color='k');\n",
    "plt.axvline(EventThreshold, color='r', linestyle='--', label=f'Event threshold: {EventThreshold}%');\n",
    "plt.ylabel('Count');\n",
    "plt.xlabel('Percentage of wetland identified as wet');\n",
    "plt.title(f'Histogram of the percentage of {AnalysisLocation} identified as wet across all time');\n",
    "plt.legend();\n",
    "plt.savefig(WetEventsHistogram, bbox_inches='tight');"
   ]
  },
  {
   "cell_type": "code",
   "execution_count": 88,
   "metadata": {},
   "outputs": [],
   "source": [
    "# Count the wet pixels per time step, and find where at least `EventThreshold`% of the wetland is 'wet'\n",
    "ThresholdBooleanPctTimestepWet = AllDataCombined['wetCount'].sum(dim=['x', 'y']\n",
    "                                                                ) > (np.isfinite(AllDataCombined['TCW']).sum(dim=['x', 'y']\n",
    "                                                                                                            ) / 100 * EventThreshold)"
   ]
  },
  {
   "cell_type": "code",
   "execution_count": 90,
   "metadata": {},
   "outputs": [
    {
     "data": {
      "text/html": [
       "<div><svg style=\"position: absolute; width: 0; height: 0; overflow: hidden\">\n",
       "<defs>\n",
       "<symbol id=\"icon-database\" viewBox=\"0 0 32 32\">\n",
       "<title>Show/Hide data repr</title>\n",
       "<path d=\"M16 0c-8.837 0-16 2.239-16 5v4c0 2.761 7.163 5 16 5s16-2.239 16-5v-4c0-2.761-7.163-5-16-5z\"></path>\n",
       "<path d=\"M16 17c-8.837 0-16-2.239-16-5v6c0 2.761 7.163 5 16 5s16-2.239 16-5v-6c0 2.761-7.163 5-16 5z\"></path>\n",
       "<path d=\"M16 26c-8.837 0-16-2.239-16-5v6c0 2.761 7.163 5 16 5s16-2.239 16-5v-6c0 2.761-7.163 5-16 5z\"></path>\n",
       "</symbol>\n",
       "<symbol id=\"icon-file-text2\" viewBox=\"0 0 32 32\">\n",
       "<title>Show/Hide attributes</title>\n",
       "<path d=\"M28.681 7.159c-0.694-0.947-1.662-2.053-2.724-3.116s-2.169-2.030-3.116-2.724c-1.612-1.182-2.393-1.319-2.841-1.319h-15.5c-1.378 0-2.5 1.121-2.5 2.5v27c0 1.378 1.122 2.5 2.5 2.5h23c1.378 0 2.5-1.122 2.5-2.5v-19.5c0-0.448-0.137-1.23-1.319-2.841zM24.543 5.457c0.959 0.959 1.712 1.825 2.268 2.543h-4.811v-4.811c0.718 0.556 1.584 1.309 2.543 2.268zM28 29.5c0 0.271-0.229 0.5-0.5 0.5h-23c-0.271 0-0.5-0.229-0.5-0.5v-27c0-0.271 0.229-0.5 0.5-0.5 0 0 15.499-0 15.5 0v7c0 0.552 0.448 1 1 1h7v19.5z\"></path>\n",
       "<path d=\"M23 26h-14c-0.552 0-1-0.448-1-1s0.448-1 1-1h14c0.552 0 1 0.448 1 1s-0.448 1-1 1z\"></path>\n",
       "<path d=\"M23 22h-14c-0.552 0-1-0.448-1-1s0.448-1 1-1h14c0.552 0 1 0.448 1 1s-0.448 1-1 1z\"></path>\n",
       "<path d=\"M23 18h-14c-0.552 0-1-0.448-1-1s0.448-1 1-1h14c0.552 0 1 0.448 1 1s-0.448 1-1 1z\"></path>\n",
       "</symbol>\n",
       "</defs>\n",
       "</svg>\n",
       "<style>/* CSS stylesheet for displaying xarray objects in jupyterlab.\n",
       " *\n",
       " */\n",
       "\n",
       ":root {\n",
       "  --xr-font-color0: var(--jp-content-font-color0, rgba(0, 0, 0, 1));\n",
       "  --xr-font-color2: var(--jp-content-font-color2, rgba(0, 0, 0, 0.54));\n",
       "  --xr-font-color3: var(--jp-content-font-color3, rgba(0, 0, 0, 0.38));\n",
       "  --xr-border-color: var(--jp-border-color2, #e0e0e0);\n",
       "  --xr-disabled-color: var(--jp-layout-color3, #bdbdbd);\n",
       "  --xr-background-color: var(--jp-layout-color0, white);\n",
       "  --xr-background-color-row-even: var(--jp-layout-color1, white);\n",
       "  --xr-background-color-row-odd: var(--jp-layout-color2, #eeeeee);\n",
       "}\n",
       "\n",
       ".xr-wrap {\n",
       "  min-width: 300px;\n",
       "  max-width: 700px;\n",
       "}\n",
       "\n",
       ".xr-header {\n",
       "  padding-top: 6px;\n",
       "  padding-bottom: 6px;\n",
       "  margin-bottom: 4px;\n",
       "  border-bottom: solid 1px var(--xr-border-color);\n",
       "}\n",
       "\n",
       ".xr-header > div,\n",
       ".xr-header > ul {\n",
       "  display: inline;\n",
       "  margin-top: 0;\n",
       "  margin-bottom: 0;\n",
       "}\n",
       "\n",
       ".xr-obj-type,\n",
       ".xr-array-name {\n",
       "  margin-left: 2px;\n",
       "  margin-right: 10px;\n",
       "}\n",
       "\n",
       ".xr-obj-type {\n",
       "  color: var(--xr-font-color2);\n",
       "}\n",
       "\n",
       ".xr-sections {\n",
       "  padding-left: 0 !important;\n",
       "  display: grid;\n",
       "  grid-template-columns: 150px auto auto 1fr 20px 20px;\n",
       "}\n",
       "\n",
       ".xr-section-item {\n",
       "  display: contents;\n",
       "}\n",
       "\n",
       ".xr-section-item input {\n",
       "  display: none;\n",
       "}\n",
       "\n",
       ".xr-section-item input + label {\n",
       "  color: var(--xr-disabled-color);\n",
       "}\n",
       "\n",
       ".xr-section-item input:enabled + label {\n",
       "  cursor: pointer;\n",
       "  color: var(--xr-font-color2);\n",
       "}\n",
       "\n",
       ".xr-section-item input:enabled + label:hover {\n",
       "  color: var(--xr-font-color0);\n",
       "}\n",
       "\n",
       ".xr-section-summary {\n",
       "  grid-column: 1;\n",
       "  color: var(--xr-font-color2);\n",
       "  font-weight: 500;\n",
       "}\n",
       "\n",
       ".xr-section-summary > span {\n",
       "  display: inline-block;\n",
       "  padding-left: 0.5em;\n",
       "}\n",
       "\n",
       ".xr-section-summary-in:disabled + label {\n",
       "  color: var(--xr-font-color2);\n",
       "}\n",
       "\n",
       ".xr-section-summary-in + label:before {\n",
       "  display: inline-block;\n",
       "  content: '►';\n",
       "  font-size: 11px;\n",
       "  width: 15px;\n",
       "  text-align: center;\n",
       "}\n",
       "\n",
       ".xr-section-summary-in:disabled + label:before {\n",
       "  color: var(--xr-disabled-color);\n",
       "}\n",
       "\n",
       ".xr-section-summary-in:checked + label:before {\n",
       "  content: '▼';\n",
       "}\n",
       "\n",
       ".xr-section-summary-in:checked + label > span {\n",
       "  display: none;\n",
       "}\n",
       "\n",
       ".xr-section-summary,\n",
       ".xr-section-inline-details {\n",
       "  padding-top: 4px;\n",
       "  padding-bottom: 4px;\n",
       "}\n",
       "\n",
       ".xr-section-inline-details {\n",
       "  grid-column: 2 / -1;\n",
       "}\n",
       "\n",
       ".xr-section-details {\n",
       "  display: none;\n",
       "  grid-column: 1 / -1;\n",
       "  margin-bottom: 5px;\n",
       "}\n",
       "\n",
       ".xr-section-summary-in:checked ~ .xr-section-details {\n",
       "  display: contents;\n",
       "}\n",
       "\n",
       ".xr-array-wrap {\n",
       "  grid-column: 1 / -1;\n",
       "  display: grid;\n",
       "  grid-template-columns: 20px auto;\n",
       "}\n",
       "\n",
       ".xr-array-wrap > label {\n",
       "  grid-column: 1;\n",
       "  vertical-align: top;\n",
       "}\n",
       "\n",
       ".xr-preview {\n",
       "  color: var(--xr-font-color3);\n",
       "}\n",
       "\n",
       ".xr-array-preview,\n",
       ".xr-array-data {\n",
       "  padding: 0 5px !important;\n",
       "  grid-column: 2;\n",
       "}\n",
       "\n",
       ".xr-array-data,\n",
       ".xr-array-in:checked ~ .xr-array-preview {\n",
       "  display: none;\n",
       "}\n",
       "\n",
       ".xr-array-in:checked ~ .xr-array-data,\n",
       ".xr-array-preview {\n",
       "  display: inline-block;\n",
       "}\n",
       "\n",
       ".xr-dim-list {\n",
       "  display: inline-block !important;\n",
       "  list-style: none;\n",
       "  padding: 0 !important;\n",
       "  margin: 0;\n",
       "}\n",
       "\n",
       ".xr-dim-list li {\n",
       "  display: inline-block;\n",
       "  padding: 0;\n",
       "  margin: 0;\n",
       "}\n",
       "\n",
       ".xr-dim-list:before {\n",
       "  content: '(';\n",
       "}\n",
       "\n",
       ".xr-dim-list:after {\n",
       "  content: ')';\n",
       "}\n",
       "\n",
       ".xr-dim-list li:not(:last-child):after {\n",
       "  content: ',';\n",
       "  padding-right: 5px;\n",
       "}\n",
       "\n",
       ".xr-has-index {\n",
       "  font-weight: bold;\n",
       "}\n",
       "\n",
       ".xr-var-list,\n",
       ".xr-var-item {\n",
       "  display: contents;\n",
       "}\n",
       "\n",
       ".xr-var-item > div,\n",
       ".xr-var-item label,\n",
       ".xr-var-item > .xr-var-name span {\n",
       "  background-color: var(--xr-background-color-row-even);\n",
       "  margin-bottom: 0;\n",
       "}\n",
       "\n",
       ".xr-var-item > .xr-var-name:hover span {\n",
       "  padding-right: 5px;\n",
       "}\n",
       "\n",
       ".xr-var-list > li:nth-child(odd) > div,\n",
       ".xr-var-list > li:nth-child(odd) > label,\n",
       ".xr-var-list > li:nth-child(odd) > .xr-var-name span {\n",
       "  background-color: var(--xr-background-color-row-odd);\n",
       "}\n",
       "\n",
       ".xr-var-name {\n",
       "  grid-column: 1;\n",
       "}\n",
       "\n",
       ".xr-var-dims {\n",
       "  grid-column: 2;\n",
       "}\n",
       "\n",
       ".xr-var-dtype {\n",
       "  grid-column: 3;\n",
       "  text-align: right;\n",
       "  color: var(--xr-font-color2);\n",
       "}\n",
       "\n",
       ".xr-var-preview {\n",
       "  grid-column: 4;\n",
       "}\n",
       "\n",
       ".xr-var-name,\n",
       ".xr-var-dims,\n",
       ".xr-var-dtype,\n",
       ".xr-preview,\n",
       ".xr-attrs dt {\n",
       "  white-space: nowrap;\n",
       "  overflow: hidden;\n",
       "  text-overflow: ellipsis;\n",
       "  padding-right: 10px;\n",
       "}\n",
       "\n",
       ".xr-var-name:hover,\n",
       ".xr-var-dims:hover,\n",
       ".xr-var-dtype:hover,\n",
       ".xr-attrs dt:hover {\n",
       "  overflow: visible;\n",
       "  width: auto;\n",
       "  z-index: 1;\n",
       "}\n",
       "\n",
       ".xr-var-attrs,\n",
       ".xr-var-data {\n",
       "  display: none;\n",
       "  background-color: var(--xr-background-color) !important;\n",
       "  padding-bottom: 5px !important;\n",
       "}\n",
       "\n",
       ".xr-var-attrs-in:checked ~ .xr-var-attrs,\n",
       ".xr-var-data-in:checked ~ .xr-var-data {\n",
       "  display: block;\n",
       "}\n",
       "\n",
       ".xr-var-data > table {\n",
       "  float: right;\n",
       "}\n",
       "\n",
       ".xr-var-name span,\n",
       ".xr-var-data,\n",
       ".xr-attrs {\n",
       "  padding-left: 25px !important;\n",
       "}\n",
       "\n",
       ".xr-attrs,\n",
       ".xr-var-attrs,\n",
       ".xr-var-data {\n",
       "  grid-column: 1 / -1;\n",
       "}\n",
       "\n",
       "dl.xr-attrs {\n",
       "  padding: 0;\n",
       "  margin: 0;\n",
       "  display: grid;\n",
       "  grid-template-columns: 125px auto;\n",
       "}\n",
       "\n",
       ".xr-attrs dt, dd {\n",
       "  padding: 0;\n",
       "  margin: 0;\n",
       "  float: left;\n",
       "  padding-right: 10px;\n",
       "  width: auto;\n",
       "}\n",
       "\n",
       ".xr-attrs dt {\n",
       "  font-weight: normal;\n",
       "  grid-column: 1;\n",
       "}\n",
       "\n",
       ".xr-attrs dt:hover span {\n",
       "  display: inline-block;\n",
       "  background: var(--xr-background-color);\n",
       "  padding-right: 10px;\n",
       "}\n",
       "\n",
       ".xr-attrs dd {\n",
       "  grid-column: 2;\n",
       "  white-space: pre-wrap;\n",
       "  word-break: break-all;\n",
       "}\n",
       "\n",
       ".xr-icon-database,\n",
       ".xr-icon-file-text2 {\n",
       "  display: inline-block;\n",
       "  vertical-align: middle;\n",
       "  width: 1em;\n",
       "  height: 1.5em !important;\n",
       "  stroke-width: 0;\n",
       "  stroke: currentColor;\n",
       "  fill: currentColor;\n",
       "}\n",
       "</style><div class='xr-wrap'><div class='xr-header'><div class='xr-obj-type'>xarray.DataArray</div><div class='xr-array-name'></div><ul class='xr-dim-list'><li><span class='xr-has-index'>time</span>: 1052</li></ul></div><ul class='xr-sections'><li class='xr-section-item'><div class='xr-array-wrap'><input id='section-a09b68b4-0719-47ce-b100-59f0fca00620' class='xr-array-in' type='checkbox' ><label for='section-a09b68b4-0719-47ce-b100-59f0fca00620' title='Show/hide data repr'><svg class='icon xr-icon-database'><use xlink:href='#icon-database'></use></svg></label><div class='xr-array-preview xr-preview'><span>False True False False False False ... False False False False False</span></div><pre class='xr-array-data'>array([False,  True, False, ..., False, False, False])</pre></div></li><li class='xr-section-item'><input id='section-a274dd8f-979e-484b-8340-1d95e37c5acf' class='xr-section-summary-in' type='checkbox'  checked><label for='section-a274dd8f-979e-484b-8340-1d95e37c5acf' class='xr-section-summary' >Coordinates: <span>(2)</span></label><div class='xr-section-inline-details'></div><div class='xr-section-details'><ul class='xr-var-list'><li class='xr-var-item'><div class='xr-var-name'><span>spatial_ref</span></div><div class='xr-var-dims'>()</div><div class='xr-var-dtype'>int32</div><div class='xr-var-preview xr-preview'>3577</div><input id='attrs-ab09fea2-498e-42c8-b2ac-d33ca9fcca53' class='xr-var-attrs-in' type='checkbox' ><label for='attrs-ab09fea2-498e-42c8-b2ac-d33ca9fcca53' title='Show/Hide attributes'><svg class='icon xr-icon-file-text2'><use xlink:href='#icon-file-text2'></use></svg></label><input id='data-849e9923-b120-4d60-8390-a782ccca170f' class='xr-var-data-in' type='checkbox'><label for='data-849e9923-b120-4d60-8390-a782ccca170f' title='Show/Hide data repr'><svg class='icon xr-icon-database'><use xlink:href='#icon-database'></use></svg></label><div class='xr-var-attrs'><dl class='xr-attrs'><dt><span>spatial_ref :</span></dt><dd>PROJCS[&quot;unknown&quot;,GEOGCS[&quot;unknown&quot;,DATUM[&quot;Unknown_based_on_GRS80_ellipsoid&quot;,SPHEROID[&quot;GRS 1980&quot;,6378137,298.257222101,AUTHORITY[&quot;EPSG&quot;,&quot;7019&quot;]]],PRIMEM[&quot;Greenwich&quot;,0,AUTHORITY[&quot;EPSG&quot;,&quot;8901&quot;]],UNIT[&quot;degree&quot;,0.0174532925199433,AUTHORITY[&quot;EPSG&quot;,&quot;9122&quot;]]],PROJECTION[&quot;Albers_Conic_Equal_Area&quot;],PARAMETER[&quot;latitude_of_center&quot;,0],PARAMETER[&quot;longitude_of_center&quot;,132],PARAMETER[&quot;standard_parallel_1&quot;,-18],PARAMETER[&quot;standard_parallel_2&quot;,-36],PARAMETER[&quot;false_easting&quot;,0],PARAMETER[&quot;false_northing&quot;,0],UNIT[&quot;metre&quot;,1,AUTHORITY[&quot;EPSG&quot;,&quot;9001&quot;]],AXIS[&quot;Easting&quot;,EAST],AXIS[&quot;Northing&quot;,NORTH]]</dd><dt><span>grid_mapping_name :</span></dt><dd>albers_conical_equal_area</dd></dl></div><pre class='xr-var-data'>array(3577, dtype=int32)</pre></li><li class='xr-var-item'><div class='xr-var-name'><span class='xr-has-index'>time</span></div><div class='xr-var-dims'>(time)</div><div class='xr-var-dtype'>datetime64[ns]</div><div class='xr-var-preview xr-preview'>1986-08-21T23:16:16.640546 ... 2019-08-15T23:48:14.574313040</div><input id='attrs-315d39a7-ea54-42bf-bf90-135eeba91046' class='xr-var-attrs-in' type='checkbox' disabled><label for='attrs-315d39a7-ea54-42bf-bf90-135eeba91046' title='Show/Hide attributes'><svg class='icon xr-icon-file-text2'><use xlink:href='#icon-file-text2'></use></svg></label><input id='data-3e5a0fdd-3378-4794-a7a9-57d527b6d2cd' class='xr-var-data-in' type='checkbox'><label for='data-3e5a0fdd-3378-4794-a7a9-57d527b6d2cd' title='Show/Hide data repr'><svg class='icon xr-icon-database'><use xlink:href='#icon-database'></use></svg></label><div class='xr-var-attrs'><dl class='xr-attrs'></dl></div><pre class='xr-var-data'>array([&#x27;1986-08-21T23:16:16.640546000&#x27;, &#x27;1987-08-31T23:27:33.214374000&#x27;,\n",
       "       &#x27;1987-09-09T23:21:36.223292000&#x27;, ..., &#x27;2019-07-30T23:48:54.197206992&#x27;,\n",
       "       &#x27;2019-08-08T23:42:21.260121040&#x27;, &#x27;2019-08-15T23:48:14.574313040&#x27;],\n",
       "      dtype=&#x27;datetime64[ns]&#x27;)</pre></li></ul></div></li><li class='xr-section-item'><input id='section-a018a8af-9bad-4539-a201-e97ddcd82efd' class='xr-section-summary-in' type='checkbox' disabled ><label for='section-a018a8af-9bad-4539-a201-e97ddcd82efd' class='xr-section-summary'  title='Expand/collapse section'>Attributes: <span>(0)</span></label><div class='xr-section-inline-details'></div><div class='xr-section-details'><dl class='xr-attrs'></dl></div></li></ul></div></div>"
      ],
      "text/plain": [
       "<xarray.DataArray (time: 1052)>\n",
       "array([False,  True, False, ..., False, False, False])\n",
       "Coordinates:\n",
       "    spatial_ref  int32 3577\n",
       "  * time         (time) datetime64[ns] 1986-08-21T23:16:16.640546 ... 2019-08-15T23:48:14.574313040"
      ]
     },
     "execution_count": 90,
     "metadata": {},
     "output_type": "execute_result"
    }
   ],
   "source": [
    "ThresholdBooleanPctTimestepWet"
   ]
  },
  {
   "cell_type": "markdown",
   "metadata": {},
   "source": [
    "Find where the wetland switches above/below `EventThreshold`% inundation. We can do this by looking for changes in the boolean operators"
   ]
  },
  {
   "cell_type": "code",
   "execution_count": 91,
   "metadata": {},
   "outputs": [],
   "source": [
    "# Subtract subsequent value from first value\n",
    "Testforchange = ThresholdBooleanPctTimestepWet[1:].values.astype(int) - ThresholdBooleanPctTimestepWet[:-1].values.astype(int)\n",
    "# if it equals 1, then the array has moved from False to True\n",
    "StartofEvent = ThresholdBooleanPctTimestepWet[1:].where(Testforchange == 1).dropna(dim='time')\n",
    "# if it equals -1, then the array has moved from True to False\n",
    "EndofEvent = ThresholdBooleanPctTimestepWet[1:].where(Testforchange == -1).dropna(dim='time')"
   ]
  },
  {
   "cell_type": "markdown",
   "metadata": {},
   "source": [
    "#### Check whether the wetland was wet when it was first observed (1986/7), and when it was last observed (most recent observation)\n",
    "\n",
    "If the first time a wetland is observed by Landsat 5 (1986/7), the wetland meets the event threshold, we choose NOT to include this event in the list of events. We don't know for how long the wetland was wet before we first observed it, and so can't provide uncertainties on event duration, so we do not include it in the results.\n",
    "\n",
    "If the wetland has been wet up until the most recent observation, we DO include this event, and for the sake of calculating the event duration, we set the most recent observation as the end date. This will change as the code is run over new data and eventually the event will be observed to end itself."
   ]
  },
  {
   "cell_type": "code",
   "execution_count": 92,
   "metadata": {},
   "outputs": [],
   "source": [
    "# We need to check whether the wetland is first observed during a wet event. \n",
    "# If it is, then the first value we actually find is an end date, which throws off our calculation.\n",
    "if ThresholdBooleanPctTimestepWet[0] == 1:\n",
    "    # Skip the first EndofEvent, since we didn't capture the start and so can't say \n",
    "    EndofEvent = EndofEvent[1:]\n",
    "\n",
    "# Also need to check if we've captured the end of the event properly\n",
    "# If the event ends with a wet observation, we wont capture this in the code below\n",
    "# Because we know that time -1 of this event is the end of the wetland-wide event,\n",
    "# we can just add time -1 as the last end date.\n",
    "if ThresholdBooleanPctTimestepWet[-1] == 1:\n",
    "    # Then the event wont 'end' since it wont have flipped\n",
    "    EndofEvent = np.hstack((AnyPartWet[-1], EndofEvent))"
   ]
  },
  {
   "cell_type": "markdown",
   "metadata": {},
   "source": [
    "Make use of pandas datetime operators to calculate the length of time between each start and end date. "
   ]
  },
  {
   "cell_type": "code",
   "execution_count": 93,
   "metadata": {},
   "outputs": [],
   "source": [
    "# Now calculate the length of time between the inundation events within the overall wetland event\n",
    "# Code notation notes:\n",
    "#`astype('timedelta64[D]')` converts the timedelta from `ns` to `days`. \n",
    "#`/ np.timedelta64(1, 'D')` removes the timedelta information and just returns the number of days as a float.\n",
    "EventDuration = (EndofEvent.time.values - StartofEvent.time.values).astype('timedelta64[D]') / np.timedelta64(1, 'D')"
   ]
  },
  {
   "cell_type": "markdown",
   "metadata": {},
   "source": [
    "Convert the results into a dataframe so we can export to csv"
   ]
  },
  {
   "cell_type": "code",
   "execution_count": 94,
   "metadata": {},
   "outputs": [
    {
     "data": {
      "text/html": [
       "<div>\n",
       "<style scoped>\n",
       "    .dataframe tbody tr th:only-of-type {\n",
       "        vertical-align: middle;\n",
       "    }\n",
       "\n",
       "    .dataframe tbody tr th {\n",
       "        vertical-align: top;\n",
       "    }\n",
       "\n",
       "    .dataframe thead th {\n",
       "        text-align: right;\n",
       "    }\n",
       "</style>\n",
       "<table border=\"1\" class=\"dataframe\">\n",
       "  <thead>\n",
       "    <tr style=\"text-align: right;\">\n",
       "      <th></th>\n",
       "      <th>days-in-event</th>\n",
       "      <th>event-start-date</th>\n",
       "      <th>event-end-date</th>\n",
       "    </tr>\n",
       "  </thead>\n",
       "  <tbody>\n",
       "    <tr>\n",
       "      <th>0</th>\n",
       "      <td>8</td>\n",
       "      <td>1987-08-31</td>\n",
       "      <td>1987-09-09</td>\n",
       "    </tr>\n",
       "    <tr>\n",
       "      <th>1</th>\n",
       "      <td>32</td>\n",
       "      <td>1988-04-11</td>\n",
       "      <td>1988-05-13</td>\n",
       "    </tr>\n",
       "    <tr>\n",
       "      <th>2</th>\n",
       "      <td>16</td>\n",
       "      <td>1988-06-07</td>\n",
       "      <td>1988-06-23</td>\n",
       "    </tr>\n",
       "    <tr>\n",
       "      <th>3</th>\n",
       "      <td>135</td>\n",
       "      <td>1988-07-09</td>\n",
       "      <td>1988-11-21</td>\n",
       "    </tr>\n",
       "    <tr>\n",
       "      <th>4</th>\n",
       "      <td>63</td>\n",
       "      <td>1989-07-19</td>\n",
       "      <td>1989-09-21</td>\n",
       "    </tr>\n",
       "    <tr>\n",
       "      <th>5</th>\n",
       "      <td>79</td>\n",
       "      <td>1990-05-28</td>\n",
       "      <td>1990-08-16</td>\n",
       "    </tr>\n",
       "    <tr>\n",
       "      <th>6</th>\n",
       "      <td>47</td>\n",
       "      <td>1990-08-23</td>\n",
       "      <td>1990-10-10</td>\n",
       "    </tr>\n",
       "    <tr>\n",
       "      <th>7</th>\n",
       "      <td>48</td>\n",
       "      <td>1991-07-18</td>\n",
       "      <td>1991-09-04</td>\n",
       "    </tr>\n",
       "    <tr>\n",
       "      <th>8</th>\n",
       "      <td>23</td>\n",
       "      <td>1993-09-09</td>\n",
       "      <td>1993-10-02</td>\n",
       "    </tr>\n",
       "    <tr>\n",
       "      <th>9</th>\n",
       "      <td>24</td>\n",
       "      <td>1995-02-10</td>\n",
       "      <td>1995-03-07</td>\n",
       "    </tr>\n",
       "    <tr>\n",
       "      <th>10</th>\n",
       "      <td>7</td>\n",
       "      <td>1995-06-11</td>\n",
       "      <td>1995-06-18</td>\n",
       "    </tr>\n",
       "    <tr>\n",
       "      <th>11</th>\n",
       "      <td>96</td>\n",
       "      <td>1995-12-04</td>\n",
       "      <td>1996-03-09</td>\n",
       "    </tr>\n",
       "    <tr>\n",
       "      <th>12</th>\n",
       "      <td>7</td>\n",
       "      <td>1996-09-01</td>\n",
       "      <td>1996-09-08</td>\n",
       "    </tr>\n",
       "    <tr>\n",
       "      <th>13</th>\n",
       "      <td>7</td>\n",
       "      <td>1996-10-03</td>\n",
       "      <td>1996-10-10</td>\n",
       "    </tr>\n",
       "    <tr>\n",
       "      <th>14</th>\n",
       "      <td>16</td>\n",
       "      <td>1997-03-03</td>\n",
       "      <td>1997-03-19</td>\n",
       "    </tr>\n",
       "    <tr>\n",
       "      <th>15</th>\n",
       "      <td>56</td>\n",
       "      <td>1997-04-20</td>\n",
       "      <td>1997-06-16</td>\n",
       "    </tr>\n",
       "    <tr>\n",
       "      <th>16</th>\n",
       "      <td>135</td>\n",
       "      <td>1998-07-21</td>\n",
       "      <td>1998-12-03</td>\n",
       "    </tr>\n",
       "    <tr>\n",
       "      <th>17</th>\n",
       "      <td>80</td>\n",
       "      <td>1998-12-19</td>\n",
       "      <td>1999-03-09</td>\n",
       "    </tr>\n",
       "    <tr>\n",
       "      <th>18</th>\n",
       "      <td>32</td>\n",
       "      <td>2000-11-23</td>\n",
       "      <td>2000-12-25</td>\n",
       "    </tr>\n",
       "    <tr>\n",
       "      <th>19</th>\n",
       "      <td>31</td>\n",
       "      <td>2001-02-11</td>\n",
       "      <td>2001-03-15</td>\n",
       "    </tr>\n",
       "    <tr>\n",
       "      <th>20</th>\n",
       "      <td>24</td>\n",
       "      <td>2001-07-28</td>\n",
       "      <td>2001-08-22</td>\n",
       "    </tr>\n",
       "    <tr>\n",
       "      <th>21</th>\n",
       "      <td>64</td>\n",
       "      <td>2003-05-15</td>\n",
       "      <td>2003-07-19</td>\n",
       "    </tr>\n",
       "    <tr>\n",
       "      <th>22</th>\n",
       "      <td>8</td>\n",
       "      <td>2003-08-27</td>\n",
       "      <td>2003-09-05</td>\n",
       "    </tr>\n",
       "    <tr>\n",
       "      <th>23</th>\n",
       "      <td>23</td>\n",
       "      <td>2004-01-26</td>\n",
       "      <td>2004-02-19</td>\n",
       "    </tr>\n",
       "    <tr>\n",
       "      <th>24</th>\n",
       "      <td>15</td>\n",
       "      <td>2004-03-23</td>\n",
       "      <td>2004-04-08</td>\n",
       "    </tr>\n",
       "    <tr>\n",
       "      <th>25</th>\n",
       "      <td>1</td>\n",
       "      <td>2004-05-25</td>\n",
       "      <td>2004-05-26</td>\n",
       "    </tr>\n",
       "    <tr>\n",
       "      <th>26</th>\n",
       "      <td>32</td>\n",
       "      <td>2004-12-19</td>\n",
       "      <td>2005-01-20</td>\n",
       "    </tr>\n",
       "    <tr>\n",
       "      <th>27</th>\n",
       "      <td>23</td>\n",
       "      <td>2005-01-21</td>\n",
       "      <td>2005-02-14</td>\n",
       "    </tr>\n",
       "    <tr>\n",
       "      <th>28</th>\n",
       "      <td>7</td>\n",
       "      <td>2005-03-18</td>\n",
       "      <td>2005-03-25</td>\n",
       "    </tr>\n",
       "    <tr>\n",
       "      <th>29</th>\n",
       "      <td>15</td>\n",
       "      <td>2008-02-14</td>\n",
       "      <td>2008-03-01</td>\n",
       "    </tr>\n",
       "    <tr>\n",
       "      <th>30</th>\n",
       "      <td>8</td>\n",
       "      <td>2010-06-19</td>\n",
       "      <td>2010-06-28</td>\n",
       "    </tr>\n",
       "    <tr>\n",
       "      <th>31</th>\n",
       "      <td>24</td>\n",
       "      <td>2010-10-17</td>\n",
       "      <td>2010-11-11</td>\n",
       "    </tr>\n",
       "    <tr>\n",
       "      <th>32</th>\n",
       "      <td>32</td>\n",
       "      <td>2010-11-18</td>\n",
       "      <td>2010-12-20</td>\n",
       "    </tr>\n",
       "    <tr>\n",
       "      <th>33</th>\n",
       "      <td>7</td>\n",
       "      <td>2010-12-21</td>\n",
       "      <td>2010-12-29</td>\n",
       "    </tr>\n",
       "    <tr>\n",
       "      <th>34</th>\n",
       "      <td>112</td>\n",
       "      <td>2011-12-08</td>\n",
       "      <td>2012-03-29</td>\n",
       "    </tr>\n",
       "    <tr>\n",
       "      <th>35</th>\n",
       "      <td>16</td>\n",
       "      <td>2012-06-17</td>\n",
       "      <td>2012-07-03</td>\n",
       "    </tr>\n",
       "    <tr>\n",
       "      <th>36</th>\n",
       "      <td>7</td>\n",
       "      <td>2012-08-04</td>\n",
       "      <td>2012-08-11</td>\n",
       "    </tr>\n",
       "    <tr>\n",
       "      <th>37</th>\n",
       "      <td>55</td>\n",
       "      <td>2013-03-16</td>\n",
       "      <td>2013-05-10</td>\n",
       "    </tr>\n",
       "    <tr>\n",
       "      <th>38</th>\n",
       "      <td>7</td>\n",
       "      <td>2013-05-19</td>\n",
       "      <td>2013-05-26</td>\n",
       "    </tr>\n",
       "    <tr>\n",
       "      <th>39</th>\n",
       "      <td>47</td>\n",
       "      <td>2016-08-31</td>\n",
       "      <td>2016-10-18</td>\n",
       "    </tr>\n",
       "  </tbody>\n",
       "</table>\n",
       "</div>"
      ],
      "text/plain": [
       "    days-in-event event-start-date event-end-date\n",
       "0               8       1987-08-31     1987-09-09\n",
       "1              32       1988-04-11     1988-05-13\n",
       "2              16       1988-06-07     1988-06-23\n",
       "3             135       1988-07-09     1988-11-21\n",
       "4              63       1989-07-19     1989-09-21\n",
       "5              79       1990-05-28     1990-08-16\n",
       "6              47       1990-08-23     1990-10-10\n",
       "7              48       1991-07-18     1991-09-04\n",
       "8              23       1993-09-09     1993-10-02\n",
       "9              24       1995-02-10     1995-03-07\n",
       "10              7       1995-06-11     1995-06-18\n",
       "11             96       1995-12-04     1996-03-09\n",
       "12              7       1996-09-01     1996-09-08\n",
       "13              7       1996-10-03     1996-10-10\n",
       "14             16       1997-03-03     1997-03-19\n",
       "15             56       1997-04-20     1997-06-16\n",
       "16            135       1998-07-21     1998-12-03\n",
       "17             80       1998-12-19     1999-03-09\n",
       "18             32       2000-11-23     2000-12-25\n",
       "19             31       2001-02-11     2001-03-15\n",
       "20             24       2001-07-28     2001-08-22\n",
       "21             64       2003-05-15     2003-07-19\n",
       "22              8       2003-08-27     2003-09-05\n",
       "23             23       2004-01-26     2004-02-19\n",
       "24             15       2004-03-23     2004-04-08\n",
       "25              1       2004-05-25     2004-05-26\n",
       "26             32       2004-12-19     2005-01-20\n",
       "27             23       2005-01-21     2005-02-14\n",
       "28              7       2005-03-18     2005-03-25\n",
       "29             15       2008-02-14     2008-03-01\n",
       "30              8       2010-06-19     2010-06-28\n",
       "31             24       2010-10-17     2010-11-11\n",
       "32             32       2010-11-18     2010-12-20\n",
       "33              7       2010-12-21     2010-12-29\n",
       "34            112       2011-12-08     2012-03-29\n",
       "35             16       2012-06-17     2012-07-03\n",
       "36              7       2012-08-04     2012-08-11\n",
       "37             55       2013-03-16     2013-05-10\n",
       "38              7       2013-05-19     2013-05-26\n",
       "39             47       2016-08-31     2016-10-18"
      ]
     },
     "execution_count": 94,
     "metadata": {},
     "output_type": "execute_result"
    }
   ],
   "source": [
    "EventList = pd.DataFrame(EventDuration.astype(int),  \n",
    "                         columns = ['days-in-event'])\n",
    "EventList['event-start-date'] = StartofEvent.time.dt.strftime('%Y-%m-%d').values.astype(str)\n",
    "EventList['event-end-date'] = EndofEvent.time.dt.strftime('%Y-%m-%d').values.astype(str)\n",
    "EventList"
   ]
  },
  {
   "cell_type": "markdown",
   "metadata": {},
   "source": [
    "### Find events < `ShortEventThreshold` days and double check it's not just a single scene that has dropped below the threshold\n",
    "\n",
    "Since we have Landsat 7 data in here, the SLC-off issue results in some scenes where < `EventThreshold`% of the wetland area is observed as wet, then when the next Landsat 8 scene comes in, it jumps back up over the threshold. This results in some very short 'events'. \n",
    "\n",
    "We want to check whether this is the case, and combine any events that have been identified that occur within `CloseEnoughTogether` days of previous or subsequent events."
   ]
  },
  {
   "cell_type": "code",
   "execution_count": 39,
   "metadata": {},
   "outputs": [],
   "source": [
    "# Create an index list of rows to drop\n",
    "RowsToDrop = []\n",
    "# Find events that are less than 30 days long\n",
    "ShortEvent = EventList['days-in-event'] < ShortEventThreshold\n",
    "# Get the indices of these short events\n",
    "ShortEventIndex = EventList.index[ShortEvent == True].tolist()\n",
    "# Note that we are not going to loop through the last index\n",
    "# We will check the last index when we check the second last one\n",
    "for idxshortevent, shortevent in enumerate(ShortEventIndex):\n",
    "    # Set our flags back to false\n",
    "    previousMerge = False\n",
    "    nextMerge = False\n",
    "    # First test: is this part of a series of consecutive small events we need to combine?\n",
    "    try:\n",
    "        if ShortEventIndex[idxshortevent + 1] - ShortEventIndex[idxshortevent] == 1 and (pd.to_datetime(EventList.loc[shortevent +1]['event-start-date']) - \n",
    "         pd.to_datetime(EventList.loc[shortevent]['event-end-date'])).days <= CloseEnoughTogether:\n",
    "            # If the consecutive events are less than 16 days apart, we need to treat them as one event\n",
    "            # with the start date of the first event, but the end date of the second\n",
    "            Starts = pd.to_datetime(EventList.loc[shortevent]['event-start-date'])\n",
    "            Ends = pd.to_datetime(EventList.loc[shortevent + 1]['event-end-date'])\n",
    "            # We've combined two events, so the next event is now shortevent + 2\n",
    "            nextindex = shortevent + 2\n",
    "            # We're merging this event with the next, so flag that we have modified both\n",
    "            RowsToDrop.append(shortevent + 1)\n",
    "            RowsToDrop.append(shortevent)\n",
    "        else:\n",
    "            # Otherwise we just use the single event start and end dates\n",
    "            Starts = pd.to_datetime(EventList.loc[shortevent]['event-start-date'])\n",
    "            Ends = pd.to_datetime(EventList.loc[shortevent]['event-end-date'])\n",
    "            # We're only using one event, so the next event is now shortevent + 1\n",
    "            nextindex = shortevent + 1\n",
    "    except IndexError:\n",
    "        # This means we are at the last value in the list, so value + 1 is out of range\n",
    "        # So we just treat this event as a single event. If it's part of an earlier consecutive event\n",
    "        # It will be captured by that earlier index as the next value\n",
    "        Starts = pd.to_datetime(EventList.loc[shortevent]['event-start-date'])\n",
    "        Ends = pd.to_datetime(EventList.loc[shortevent]['event-end-date'])\n",
    "        # We're only using one event, so the next event is now shortevent + 1\n",
    "        nextindex = shortevent + 1\n",
    "    # Now work out whether we can merge our event with the next event\n",
    "    # Did this event start within 16 days of the previous event?\n",
    "    if (Starts - pd.to_datetime(EventList.loc[shortevent -1]['event-end-date'])).days <= CloseEnoughTogether:\n",
    "        previousMerge = True\n",
    "        # We'll merge with the previous event, so flag it to be dropped\n",
    "        RowsToDrop.append(shortevent -1)\n",
    "        RowsToDrop.append(shortevent)\n",
    "    # Did this event finish within 16 days of the next event?\n",
    "    if (pd.to_datetime(EventList.loc[nextindex]['event-start-date']) - Ends).days <= CloseEnoughTogether:\n",
    "        nextMerge = True\n",
    "        # We'll merge with the next event, so flag it to be dropped\n",
    "        RowsToDrop.append(nextindex)\n",
    "        RowsToDrop.append(shortevent)\n",
    "    # So lets work out what we need to merge\n",
    "    if previousMerge and nextMerge:\n",
    "        EventStart = pd.to_datetime(EventList.loc[shortevent -1]['event-start-date'])\n",
    "        EventEnd = pd.to_datetime(EventList.loc[nextindex]['event-end-date'])\n",
    "        EventDuration = (EventEnd - EventStart).days\n",
    "        EventList = EventList.append(pd.Series({'days-in-event': EventDuration,\n",
    "                         'event-start-date': EventStart.strftime('%Y-%m-%d'),\n",
    "                         'event-end-date': EventEnd.strftime('%Y-%m-%d')},name=shortevent*1000))\n",
    "    if previousMerge and not nextMerge:\n",
    "        EventStart = pd.to_datetime(EventList.loc[shortevent -1]['event-start-date'])\n",
    "        EventEnd = Ends\n",
    "        EventDuration = (EventEnd - EventStart).days\n",
    "        EventList = EventList.append(pd.Series({'days-in-event': EventDuration,\n",
    "                         'event-start-date': EventStart.strftime('%Y-%m-%d'),\n",
    "                         'event-end-date': EventEnd.strftime('%Y-%m-%d')},name=shortevent*1000))\n",
    "    if nextMerge and not previousMerge:\n",
    "        EventStart = Starts\n",
    "        EventEnd = pd.to_datetime(EventList.loc[nextindex]['event-end-date'])\n",
    "        EventDuration = (EventEnd - EventStart).days\n",
    "        EventList = EventList.append(pd.Series({'days-in-event': EventDuration,\n",
    "                         'event-start-date': EventStart.strftime('%Y-%m-%d'),\n",
    "                         'event-end-date': EventEnd.strftime('%Y-%m-%d')},name=shortevent*1000))\n",
    "        \n",
    "# Now drop all the rows we have modified\n",
    "EventList.drop(set(RowsToDrop), inplace=True)\n",
    "# Drop any duplicate entried\n",
    "EventList.drop_duplicates(inplace=True)\n",
    "# And sort again by date, resetting the index\n",
    "EventList.sort_values('event-start-date', ignore_index=True, inplace=True)"
   ]
  },
  {
   "cell_type": "markdown",
   "metadata": {},
   "source": [
    "### Finally, we want to get rid of any remaining events less than `ShortEventThreshold` long"
   ]
  },
  {
   "cell_type": "code",
   "execution_count": 111,
   "metadata": {},
   "outputs": [
    {
     "data": {
      "text/html": [
       "<div>\n",
       "<style scoped>\n",
       "    .dataframe tbody tr th:only-of-type {\n",
       "        vertical-align: middle;\n",
       "    }\n",
       "\n",
       "    .dataframe tbody tr th {\n",
       "        vertical-align: top;\n",
       "    }\n",
       "\n",
       "    .dataframe thead th {\n",
       "        text-align: right;\n",
       "    }\n",
       "</style>\n",
       "<table border=\"1\" class=\"dataframe\">\n",
       "  <thead>\n",
       "    <tr style=\"text-align: right;\">\n",
       "      <th></th>\n",
       "      <th>index</th>\n",
       "      <th>days-in-event</th>\n",
       "      <th>event-start-date</th>\n",
       "      <th>event-end-date</th>\n",
       "    </tr>\n",
       "  </thead>\n",
       "  <tbody>\n",
       "    <tr>\n",
       "      <th>0</th>\n",
       "      <td>1</td>\n",
       "      <td>32</td>\n",
       "      <td>1988-04-11</td>\n",
       "      <td>1988-05-13</td>\n",
       "    </tr>\n",
       "    <tr>\n",
       "      <th>1</th>\n",
       "      <td>3</td>\n",
       "      <td>135</td>\n",
       "      <td>1988-07-09</td>\n",
       "      <td>1988-11-21</td>\n",
       "    </tr>\n",
       "    <tr>\n",
       "      <th>2</th>\n",
       "      <td>4</td>\n",
       "      <td>63</td>\n",
       "      <td>1989-07-19</td>\n",
       "      <td>1989-09-21</td>\n",
       "    </tr>\n",
       "    <tr>\n",
       "      <th>3</th>\n",
       "      <td>5</td>\n",
       "      <td>79</td>\n",
       "      <td>1990-05-28</td>\n",
       "      <td>1990-08-16</td>\n",
       "    </tr>\n",
       "    <tr>\n",
       "      <th>4</th>\n",
       "      <td>6</td>\n",
       "      <td>47</td>\n",
       "      <td>1990-08-23</td>\n",
       "      <td>1990-10-10</td>\n",
       "    </tr>\n",
       "    <tr>\n",
       "      <th>5</th>\n",
       "      <td>7</td>\n",
       "      <td>48</td>\n",
       "      <td>1991-07-18</td>\n",
       "      <td>1991-09-04</td>\n",
       "    </tr>\n",
       "    <tr>\n",
       "      <th>6</th>\n",
       "      <td>11</td>\n",
       "      <td>96</td>\n",
       "      <td>1995-12-04</td>\n",
       "      <td>1996-03-09</td>\n",
       "    </tr>\n",
       "    <tr>\n",
       "      <th>7</th>\n",
       "      <td>15</td>\n",
       "      <td>56</td>\n",
       "      <td>1997-04-20</td>\n",
       "      <td>1997-06-16</td>\n",
       "    </tr>\n",
       "    <tr>\n",
       "      <th>8</th>\n",
       "      <td>16</td>\n",
       "      <td>135</td>\n",
       "      <td>1998-07-21</td>\n",
       "      <td>1998-12-03</td>\n",
       "    </tr>\n",
       "    <tr>\n",
       "      <th>9</th>\n",
       "      <td>17</td>\n",
       "      <td>80</td>\n",
       "      <td>1998-12-19</td>\n",
       "      <td>1999-03-09</td>\n",
       "    </tr>\n",
       "    <tr>\n",
       "      <th>10</th>\n",
       "      <td>18</td>\n",
       "      <td>32</td>\n",
       "      <td>2000-11-23</td>\n",
       "      <td>2000-12-25</td>\n",
       "    </tr>\n",
       "    <tr>\n",
       "      <th>11</th>\n",
       "      <td>19</td>\n",
       "      <td>31</td>\n",
       "      <td>2001-02-11</td>\n",
       "      <td>2001-03-15</td>\n",
       "    </tr>\n",
       "    <tr>\n",
       "      <th>12</th>\n",
       "      <td>21</td>\n",
       "      <td>64</td>\n",
       "      <td>2003-05-15</td>\n",
       "      <td>2003-07-19</td>\n",
       "    </tr>\n",
       "    <tr>\n",
       "      <th>13</th>\n",
       "      <td>26</td>\n",
       "      <td>32</td>\n",
       "      <td>2004-12-19</td>\n",
       "      <td>2005-01-20</td>\n",
       "    </tr>\n",
       "    <tr>\n",
       "      <th>14</th>\n",
       "      <td>32</td>\n",
       "      <td>32</td>\n",
       "      <td>2010-11-18</td>\n",
       "      <td>2010-12-20</td>\n",
       "    </tr>\n",
       "    <tr>\n",
       "      <th>15</th>\n",
       "      <td>34</td>\n",
       "      <td>112</td>\n",
       "      <td>2011-12-08</td>\n",
       "      <td>2012-03-29</td>\n",
       "    </tr>\n",
       "    <tr>\n",
       "      <th>16</th>\n",
       "      <td>37</td>\n",
       "      <td>55</td>\n",
       "      <td>2013-03-16</td>\n",
       "      <td>2013-05-10</td>\n",
       "    </tr>\n",
       "    <tr>\n",
       "      <th>17</th>\n",
       "      <td>39</td>\n",
       "      <td>47</td>\n",
       "      <td>2016-08-31</td>\n",
       "      <td>2016-10-18</td>\n",
       "    </tr>\n",
       "  </tbody>\n",
       "</table>\n",
       "</div>"
      ],
      "text/plain": [
       "    index  days-in-event event-start-date event-end-date\n",
       "0       1             32       1988-04-11     1988-05-13\n",
       "1       3            135       1988-07-09     1988-11-21\n",
       "2       4             63       1989-07-19     1989-09-21\n",
       "3       5             79       1990-05-28     1990-08-16\n",
       "4       6             47       1990-08-23     1990-10-10\n",
       "5       7             48       1991-07-18     1991-09-04\n",
       "6      11             96       1995-12-04     1996-03-09\n",
       "7      15             56       1997-04-20     1997-06-16\n",
       "8      16            135       1998-07-21     1998-12-03\n",
       "9      17             80       1998-12-19     1999-03-09\n",
       "10     18             32       2000-11-23     2000-12-25\n",
       "11     19             31       2001-02-11     2001-03-15\n",
       "12     21             64       2003-05-15     2003-07-19\n",
       "13     26             32       2004-12-19     2005-01-20\n",
       "14     32             32       2010-11-18     2010-12-20\n",
       "15     34            112       2011-12-08     2012-03-29\n",
       "16     37             55       2013-03-16     2013-05-10\n",
       "17     39             47       2016-08-31     2016-10-18"
      ]
     },
     "execution_count": 111,
     "metadata": {},
     "output_type": "execute_result"
    }
   ],
   "source": [
    "EventList = EventList[EventList['days-in-event'] >=30].reset_index()\n",
    "EventList"
   ]
  },
  {
   "cell_type": "code",
   "execution_count": 112,
   "metadata": {},
   "outputs": [],
   "source": [
    "EventList.to_csv(EventListFileName, index=False)"
   ]
  },
  {
   "cell_type": "markdown",
   "metadata": {},
   "source": [
    "<a id='InundationDuration'></a>\n",
    "## Calculate the per event pixel inundation duration\n",
    "\n",
    "Here, the analysis is done on a per event basis. This means that we assume that if a single pixels wets, dries, wets etc more than once, it's all related to the same wetland-wide event (which is defined above). \n",
    "\n",
    "The code below loops through each species type within the wetland, and calculates the percentage of that species' area that is inundated for more than 30, 90, 150, 210 and 270 days during the whole event. If a single pixel records a wetting history of e.g. 5 days wet, then is dry for 5 days, then wet for 45 days, then we consider this pixel to have been wet for 50 days during this event. \n",
    "\n",
    "The results for each vegetation community during each event is written out as a pickle file for use later on."
   ]
  },
  {
   "cell_type": "code",
   "execution_count": 98,
   "metadata": {},
   "outputs": [
    {
     "name": "stdout",
     "output_type": "stream",
     "text": [
      "Working on Aquatic grass / sedge / forb\n",
      "Working on event starting 1988-04-11\n",
      "Working on event starting 1988-07-09\n",
      "Working on event starting 1989-07-19\n",
      "Working on event starting 1990-05-28\n",
      "Working on event starting 1990-08-23\n",
      "Working on event starting 1991-07-18\n",
      "Working on event starting 1995-12-04\n",
      "Working on event starting 1997-04-20\n",
      "Working on event starting 1998-07-21\n",
      "Working on event starting 1998-12-19\n",
      "Working on event starting 2000-11-23\n",
      "Working on event starting 2001-02-11\n",
      "Working on event starting 2003-05-15\n",
      "Working on event starting 2004-12-19\n",
      "Working on event starting 2010-11-18\n",
      "Working on event starting 2011-12-08\n",
      "Working on event starting 2013-03-16\n",
      "Working on event starting 2016-08-31\n",
      "Working on Coolibah open grassy / chenopod grassy woodland\n",
      "Working on event starting 1988-04-11\n",
      "Working on event starting 1988-07-09\n",
      "Working on event starting 1989-07-19\n",
      "Working on event starting 1990-05-28\n",
      "Working on event starting 1990-08-23\n",
      "Working on event starting 1991-07-18\n",
      "Working on event starting 1995-12-04\n",
      "Working on event starting 1997-04-20\n",
      "Working on event starting 1998-07-21\n",
      "Working on event starting 1998-12-19\n",
      "Working on event starting 2000-11-23\n",
      "Working on event starting 2001-02-11\n",
      "Working on event starting 2003-05-15\n",
      "Working on event starting 2004-12-19\n",
      "Working on event starting 2010-11-18\n",
      "Working on event starting 2011-12-08\n",
      "Working on event starting 2013-03-16\n",
      "Working on event starting 2016-08-31\n"
     ]
    }
   ],
   "source": [
    "# Loop through all the vegetation communities\n",
    "for items in SpeciesDict:\n",
    "    print(f'Working on {SpeciesDict[items]}')\n",
    "    # Loop through all the individual wetting events\n",
    "    for ix, row in EventList.iterrows():\n",
    "        print(f'Working on event starting {row[\"event-start-date\"]}')\n",
    "        # Grab just the wet pixels that intersect with our veg type (boolean)\n",
    "        JustOneVegTypeWet = AllDataCombined['wetCount'].where(AllDataCombined['veg_randomUID'] == items)\n",
    "        # Grab just the time slices that coincide with the event we're now analysing\n",
    "        EventData = JustOneVegTypeWet.loc[slice(row['event-start-date'], row['event-end-date'])]\n",
    "        # Make an empty array to put the event results in to\n",
    "        EventResults = np.empty((len(AllDataCombined.y), len(AllDataCombined.x)))\n",
    "        EventResults[:] = np.nan\n",
    "        # Now loop through each pixel and work out how long it was inundated for during the event\n",
    "        for x in range(len(EventData.x)):\n",
    "            for y in range(len(EventData.y)):\n",
    "                pixelArray=EventData[:,y,x]\n",
    "                # test whether this pixel is just all NaN - if it is, we don't need to analyse it\n",
    "                if pixelArray.sum() > 0:\n",
    "                    # Subtract subsequent value from first value\n",
    "                    Testforchange = pixelArray[1:].values.astype(int) - pixelArray[:-1].values.astype(int)\n",
    "                    # if it equals 1, then the array has moved from False to True\n",
    "                    StartofEvent = pixelArray[:-1].where(Testforchange == 1).dropna(dim='time')\n",
    "                    # if it equals -1, then the array has moved from True to False\n",
    "                    EndofEvent = pixelArray[1:].where(Testforchange == -1).dropna(dim='time')\n",
    "                    # We need to check whether we've captured the start of the event properly\n",
    "                    # If the event starts as wet at time zero, we wont capture this in the code below\n",
    "                    # Because we know that time 0 of this event is the start of the wetland-wide event,\n",
    "                    # we can just add time 0 as the first start date.\n",
    "                    if pixelArray[0] == 1:\n",
    "                        # Grab the first time step of the event and add it to the StartofEvent array\n",
    "                        StartofEvent = np.hstack((pixelArray.time.values[0], StartofEvent.time.values))\n",
    "                    else:\n",
    "                        # If not, just change the format of the StartofEvent variable to match the changed one\n",
    "                        StartofEvent = StartofEvent.time.values\n",
    "                    # Also need to check if we've captured the end of the event properly\n",
    "                    # If the event ends with a wet observation, we wont capture this in the code below\n",
    "                    # Because we know that time -1 of this event is the end of the wetland-wide event,\n",
    "                    # we can just add time -1 as the last end date.\n",
    "                    if pixelArray[-1] == 1:\n",
    "                        # Then the event wont 'end' since it wont have flipped\n",
    "                        EndofEvent = np.hstack((pixelArray.time.values[-1], EndofEvent.time.values))\n",
    "                    else:\n",
    "                        # If not, just change the format of the EndofEvent variable to match the changed one\n",
    "                        EndofEvent = EndofEvent.time.values\n",
    "                    # Now calculate the length of time between the inundation events within the overall wetland event\n",
    "                    EventDuration = (EndofEvent - StartofEvent).astype('timedelta64[D]') / np.timedelta64(1, 'D')\n",
    "                    # Sum the total inundation time\n",
    "                    EventResults[y,x] = EventDuration.sum()\n",
    "\n",
    "        # Save out the individual event results as well\n",
    "        with open(f'{EventResultsPickleFileName}{row[\"event-start-date\"]}_{SpeciesDict[items].replace(\" \", \"\").replace(\"/\", \"\")}_{items}_{AnalysisLocation.replace(\" \", \"\").replace(\"/\", \"\")}.pkl','wb') as f:\n",
    "            pickle.dump(EventResults, f)"
   ]
  },
  {
   "cell_type": "markdown",
   "metadata": {},
   "source": [
    "### Plot event-based counts of vegetation community inundation"
   ]
  },
  {
   "cell_type": "markdown",
   "metadata": {},
   "source": [
    "<a id='InundationExtent'></a>\n",
    "## 1. Maps of inundation extent across the time period 2014-2019\n",
    "\n",
    "**to start, annual max inundation for 2014-2020**\n",
    "\n",
    "Inundation extent for each month across the time period. (This could be presented so that you can slide along a hydrograph and see the resultant inundation extent on a map below. This should also identify key vegetation types). These maps should also include key vegetation types, including open water"
   ]
  },
  {
   "cell_type": "markdown",
   "metadata": {},
   "source": [
    "## 2. Maps of inundation extent for each vegetation type for each event \n",
    "\n",
    "An event comprises the time between commencement of inundation of the vegetation type and conclusion of inundation of the vegetation type i.e. vegetation type completely dry. Sort by events for critical durations: 1, 3, 5, 7, > 9 months."
   ]
  },
  {
   "cell_type": "code",
   "execution_count": 45,
   "metadata": {},
   "outputs": [
    {
     "data": {
      "text/plain": [
       "<Figure size 864x720 with 0 Axes>"
      ]
     },
     "metadata": {},
     "output_type": "display_data"
    },
    {
     "data": {
      "text/plain": [
       "<Figure size 864x720 with 0 Axes>"
      ]
     },
     "metadata": {},
     "output_type": "display_data"
    },
    {
     "data": {
      "text/plain": [
       "<Figure size 864x720 with 0 Axes>"
      ]
     },
     "metadata": {},
     "output_type": "display_data"
    },
    {
     "data": {
      "text/plain": [
       "<Figure size 864x720 with 0 Axes>"
      ]
     },
     "metadata": {},
     "output_type": "display_data"
    },
    {
     "data": {
      "text/plain": [
       "<Figure size 864x720 with 0 Axes>"
      ]
     },
     "metadata": {},
     "output_type": "display_data"
    },
    {
     "data": {
      "text/plain": [
       "<Figure size 864x720 with 0 Axes>"
      ]
     },
     "metadata": {},
     "output_type": "display_data"
    },
    {
     "data": {
      "text/plain": [
       "<Figure size 864x720 with 0 Axes>"
      ]
     },
     "metadata": {},
     "output_type": "display_data"
    },
    {
     "data": {
      "text/plain": [
       "<Figure size 864x720 with 0 Axes>"
      ]
     },
     "metadata": {},
     "output_type": "display_data"
    },
    {
     "data": {
      "text/plain": [
       "<Figure size 864x720 with 0 Axes>"
      ]
     },
     "metadata": {},
     "output_type": "display_data"
    },
    {
     "data": {
      "text/plain": [
       "<Figure size 864x720 with 0 Axes>"
      ]
     },
     "metadata": {},
     "output_type": "display_data"
    },
    {
     "data": {
      "text/plain": [
       "<Figure size 864x720 with 0 Axes>"
      ]
     },
     "metadata": {},
     "output_type": "display_data"
    },
    {
     "data": {
      "text/plain": [
       "<Figure size 864x720 with 0 Axes>"
      ]
     },
     "metadata": {},
     "output_type": "display_data"
    },
    {
     "data": {
      "text/plain": [
       "<Figure size 864x720 with 0 Axes>"
      ]
     },
     "metadata": {},
     "output_type": "display_data"
    },
    {
     "data": {
      "text/plain": [
       "<Figure size 864x720 with 0 Axes>"
      ]
     },
     "metadata": {},
     "output_type": "display_data"
    },
    {
     "data": {
      "text/plain": [
       "<Figure size 864x720 with 0 Axes>"
      ]
     },
     "metadata": {},
     "output_type": "display_data"
    },
    {
     "data": {
      "text/plain": [
       "<Figure size 864x720 with 0 Axes>"
      ]
     },
     "metadata": {},
     "output_type": "display_data"
    },
    {
     "data": {
      "text/plain": [
       "<Figure size 864x720 with 0 Axes>"
      ]
     },
     "metadata": {},
     "output_type": "display_data"
    },
    {
     "data": {
      "text/plain": [
       "<Figure size 864x720 with 0 Axes>"
      ]
     },
     "metadata": {},
     "output_type": "display_data"
    },
    {
     "data": {
      "text/plain": [
       "<Figure size 864x720 with 0 Axes>"
      ]
     },
     "metadata": {},
     "output_type": "display_data"
    },
    {
     "data": {
      "text/plain": [
       "<Figure size 864x720 with 0 Axes>"
      ]
     },
     "metadata": {},
     "output_type": "display_data"
    },
    {
     "data": {
      "text/plain": [
       "<Figure size 864x720 with 0 Axes>"
      ]
     },
     "metadata": {},
     "output_type": "display_data"
    },
    {
     "data": {
      "text/plain": [
       "<Figure size 864x720 with 0 Axes>"
      ]
     },
     "metadata": {},
     "output_type": "display_data"
    },
    {
     "data": {
      "text/plain": [
       "<Figure size 864x720 with 0 Axes>"
      ]
     },
     "metadata": {},
     "output_type": "display_data"
    },
    {
     "data": {
      "text/plain": [
       "<Figure size 864x720 with 0 Axes>"
      ]
     },
     "metadata": {},
     "output_type": "display_data"
    },
    {
     "data": {
      "text/plain": [
       "<Figure size 864x720 with 0 Axes>"
      ]
     },
     "metadata": {},
     "output_type": "display_data"
    },
    {
     "data": {
      "text/plain": [
       "<Figure size 864x720 with 0 Axes>"
      ]
     },
     "metadata": {},
     "output_type": "display_data"
    },
    {
     "data": {
      "text/plain": [
       "<Figure size 864x720 with 0 Axes>"
      ]
     },
     "metadata": {},
     "output_type": "display_data"
    },
    {
     "data": {
      "text/plain": [
       "<Figure size 864x720 with 0 Axes>"
      ]
     },
     "metadata": {},
     "output_type": "display_data"
    },
    {
     "data": {
      "text/plain": [
       "<Figure size 864x720 with 0 Axes>"
      ]
     },
     "metadata": {},
     "output_type": "display_data"
    },
    {
     "data": {
      "text/plain": [
       "<Figure size 864x720 with 0 Axes>"
      ]
     },
     "metadata": {},
     "output_type": "display_data"
    },
    {
     "data": {
      "text/plain": [
       "<Figure size 864x720 with 0 Axes>"
      ]
     },
     "metadata": {},
     "output_type": "display_data"
    },
    {
     "data": {
      "text/plain": [
       "<Figure size 864x720 with 0 Axes>"
      ]
     },
     "metadata": {},
     "output_type": "display_data"
    },
    {
     "data": {
      "text/plain": [
       "<Figure size 864x720 with 0 Axes>"
      ]
     },
     "metadata": {},
     "output_type": "display_data"
    },
    {
     "data": {
      "text/plain": [
       "<Figure size 864x720 with 0 Axes>"
      ]
     },
     "metadata": {},
     "output_type": "display_data"
    },
    {
     "data": {
      "text/plain": [
       "<Figure size 864x720 with 0 Axes>"
      ]
     },
     "metadata": {},
     "output_type": "display_data"
    },
    {
     "data": {
      "text/plain": [
       "<Figure size 864x720 with 0 Axes>"
      ]
     },
     "metadata": {},
     "output_type": "display_data"
    },
    {
     "data": {
      "text/plain": [
       "<Figure size 864x720 with 0 Axes>"
      ]
     },
     "metadata": {},
     "output_type": "display_data"
    }
   ],
   "source": [
    "for ix, row in EventList.iterrows():\n",
    "    EventFileList = glob.glob(f'{EventResultsPickleFileName}{row[\"event-start-date\"]}*')\n",
    "    EventResults = np.empty((len(AllDataCombined.y), len(AllDataCombined.x)))\n",
    "    EventResults[:] = np.nan \n",
    "    for files in EventFileList:\n",
    "        with open(files,'rb') as f:\n",
    "            eventresults = pickle.load(f)\n",
    "            EventResults = np.where(np.isnan(EventResults), eventresults, EventResults)\n",
    "    fig, ax = plt.subplots(1,1, figsize=[12, 10]);\n",
    "    RamsarBoundary.geometry.boundary.plot(color=None,edgecolor='k',linewidth = 2, ax=ax);\n",
    "    AxLocation = 0.17;\n",
    "    fig.subplots_adjust(right=0.8);\n",
    "    for ix, items in enumerate(SpeciesDict):\n",
    "        PlotData = EventResults.copy();\n",
    "        PlotData[AllDataCombined['veg_randomUID'] != items] = np.nan;\n",
    "        h = ax.pcolormesh(AllDataCombined.x, AllDataCombined.y, PlotData, cmap=Colormaps[ix], vmin=0, vmax=np.nanmax(EventResults));\n",
    "        AxLocation = AxLocation + 0.15;\n",
    "        # add_axes([left, bottom, width, height])\n",
    "        cbar_ax = fig.add_axes([0.85, AxLocation, 0.2, 0.05]);\n",
    "        fig.colorbar(h, cax=cbar_ax, label=SpeciesDict[items], orientation='horizontal');\n",
    "    ax.ticklabel_format(useOffset=False, style='plain');\n",
    "    ax.set_ylabel('Latitude (EPSG:3577)', fontsize=14);\n",
    "    ax.set_xlabel('Longitude (EPSG:3577)', fontsize=14);\n",
    "    ax.set_title(f'Number of days each pixel was wet during {AnalysisLocation} {row[\"days-in-event\"]} day event starting {row[\"event-start-date\"]}', \n",
    "                 fontsize=16, fontweight='bold');\n",
    "    fig.savefig(f'{EventMapsFileName}{row[\"event-start-date\"]}', \n",
    "                bbox_inches='tight');\n",
    "    fig.clear();"
   ]
  },
  {
   "cell_type": "markdown",
   "metadata": {},
   "source": [
    "### Re-plot the last iteration here to show what the plots look like"
   ]
  },
  {
   "cell_type": "code",
   "execution_count": 101,
   "metadata": {},
   "outputs": [
    {
     "data": {
      "image/png": "[encoded data removed]",
      "text/plain": [
       "<Figure size 864x720 with 3 Axes>"
      ]
     },
     "metadata": {
      "needs_background": "light"
     },
     "output_type": "display_data"
    }
   ],
   "source": [
    "fig, ax = plt.subplots(1,1, figsize=[12, 10]);\n",
    "RamsarBoundary.geometry.boundary.plot(color=None,edgecolor='k',linewidth = 2, ax=ax);\n",
    "AxLocation = 0.17;\n",
    "fig.subplots_adjust(right=0.8);\n",
    "for ix, items in enumerate(SpeciesDict):\n",
    "    PlotData = EventResults.copy();\n",
    "    PlotData[AllDataCombined['veg_randomUID'] != items] = np.nan;\n",
    "    h = ax.pcolormesh(AllDataCombined.x, AllDataCombined.y, PlotData, cmap=Colormaps[ix], vmin=0, vmax=np.nanmax(EventResults));\n",
    "    AxLocation = AxLocation + 0.15;\n",
    "    # add_axes([left, bottom, width, height])\n",
    "    cbar_ax = fig.add_axes([0.85, AxLocation, 0.2, 0.05]);\n",
    "    fig.colorbar(h, cax=cbar_ax, label=SpeciesDict[items], orientation='horizontal');\n",
    "ax.ticklabel_format(useOffset=False, style='plain');\n",
    "ax.set_ylabel('Latitude (EPSG:3577)', fontsize=14);\n",
    "ax.set_xlabel('Longitude (EPSG:3577)', fontsize=14);\n",
    "ax.set_title(f'Number of days each pixel was wet during {AnalysisLocation} {row[\"days-in-event\"]} day event starting {row[\"event-start-date\"]}', \n",
    "             fontsize=16, fontweight='bold');"
   ]
  },
  {
   "cell_type": "markdown",
   "metadata": {},
   "source": [
    "### 2.a. Comparison of remotely sensed data maps with ground-truthed data and OEH datasets \n",
    "\n",
    "(NSW only)"
   ]
  },
  {
   "cell_type": "markdown",
   "metadata": {},
   "source": [
    "## 3. Maps of depth for critical durations\n",
    "\n",
    "Only if DEM data is available within GA or supplied by CEWO (1, 3, 5, 7, >9 months)"
   ]
  },
  {
   "cell_type": "markdown",
   "metadata": {},
   "source": [
    "## 4. Vegetation condition over the entire four year period"
   ]
  },
  {
   "cell_type": "markdown",
   "metadata": {},
   "source": [
    "## 5. Graph and .csv file of inundation duration for each different vegetation type\n",
    "For all natural and environmental flows"
   ]
  },
  {
   "cell_type": "markdown",
   "metadata": {},
   "source": [
    "### Read in the relevant stream gauge\n",
    "\n",
    "Convert the timestamp to a pandas datetime object"
   ]
  },
  {
   "cell_type": "code",
   "execution_count": 102,
   "metadata": {},
   "outputs": [],
   "source": [
    "# Read in the relevant streamgauge data\n",
    "StreamGaugeData = pd.read_csv(StreamGaugeToLoad, parse_dates=True, comment='#')\n",
    "# Turn the Timestamp into a padas dateime object\n",
    "StreamGaugeData['Timestamp'] = pd.to_datetime(StreamGaugeData['Timestamp'])"
   ]
  },
  {
   "cell_type": "markdown",
   "metadata": {},
   "source": [
    "### Calculate the percentage of each vegetation community inundated across all time\n",
    "\n",
    "# We also want to know how big an area each vegetation community covers to put the percentages into perspective"
   ]
  },
  {
   "cell_type": "code",
   "execution_count": 103,
   "metadata": {},
   "outputs": [],
   "source": [
    "# Create a dataframe to put our results into, starting with the time\n",
    "InundationPctPerVeg = pd.DataFrame({'Date': AllDataCombined.time})\n",
    "# Make the time the index for the dataframe\n",
    "InundationPctPerVeg.set_index('Date', inplace=True)\n",
    "\n",
    "# Loop through all the vegetation communities\n",
    "for items in SpeciesDict:\n",
    "    # Grab just the pixels containing our veg community\n",
    "    WetVeg = AllDataCombined['wetCount'].where(AllDataCombined['veg_randomUID'] == items)\n",
    "    # Count the number of wet observations per time step\n",
    "    WetVegCount = WetVeg.sum(dim=['x', 'y'])\n",
    "    # Convert the count to a percentage of the total community that's wet\n",
    "    WetVegPct = (WetVegCount / (AllDataCombined['veg_randomUID'] == items).sum()) * 100\n",
    "    InundationPctPerVeg[SpeciesDict[items]] = WetVegPct"
   ]
  },
  {
   "cell_type": "markdown",
   "metadata": {},
   "source": [
    "### Save the results to csv, and plot against the stream gauge"
   ]
  },
  {
   "cell_type": "code",
   "execution_count": 104,
   "metadata": {},
   "outputs": [],
   "source": [
    "InundationPctPerVeg.to_csv(InundationPctPerVegDataFileName)"
   ]
  },
  {
   "cell_type": "code",
   "execution_count": 105,
   "metadata": {},
   "outputs": [
    {
     "data": {
      "image/png": "[encoded data removed]",
      "text/plain": [
       "<Figure size 1080x576 with 2 Axes>"
      ]
     },
     "metadata": {
      "needs_background": "light"
     },
     "output_type": "display_data"
    }
   ],
   "source": [
    "fig, axes = plt.subplots(2,1, figsize=(15,8));\n",
    "axes[0].plot(InundationPctPerVeg);\n",
    "axes[0].legend(InundationPctPerVeg.columns.values)\n",
    "axes[0].set_ylabel(f'% of total community inundated', fontsize = 12);\n",
    "axes[0].set_title(f'Time history of vegetation inundation for {AnalysisLocation}', fontsize = 14, fontweight = 'bold');\n",
    "axes[0].set_xlim([pd.to_datetime('1986-6-1'), pd.to_datetime('2020-1-1')]);\n",
    "\n",
    "axes[1].plot(StreamGaugeData['Timestamp'], StreamGaugeData['Value']);\n",
    "axes[1].set_ylabel('Water course discharge (m$^3$/s)', fontsize = 12);\n",
    "axes[1].set_title(f'Daily maximum water discharge rate at {StreamGaugeName}', fontsize = 14, fontweight = 'bold');\n",
    "axes[1].set_xlim([pd.to_datetime('1986-6-1'), pd.to_datetime('2020-1-1')]);\n",
    "\n",
    "plt.savefig(InundationPctPerVegFigFileName, bbox_inches='tight')"
   ]
  },
  {
   "cell_type": "markdown",
   "metadata": {},
   "source": [
    "## 6. Table identifying: \n",
    "* % of different vegetation classes inundated for each specified time period for each event and maximum and average depth of inundation.\n",
    "\n",
    "e.g. \n",
    "\n",
    "| Site | Sub-site | Event | Vegetation Type | % inundated 1 month | % inundated 3 months | % inundated 5 months | % inundated 7 months | % inundated > 9 months | Max depth | Average depth |\n",
    "|-----|----|----|----|----|----|----|----|----|----|----|\n",
    "\n",
    "* Time between each inundation event for 10%, 25%, 50%, 75% and 100% of each vegetation type \n",
    "\n",
    "e.g.\n",
    "\n",
    "| Site | Sub-site | Event | Vegetation Type | 10% veg inundation duration | 25% veg inundation duration | 50% veg inundation duration | 75% veg inundation duration | 100% veg inundation duration | Max depth | Average depth |\n",
    "|-----|----|----|----|----|----|----|----|----|----|----|"
   ]
  },
  {
   "cell_type": "markdown",
   "metadata": {},
   "source": [
    "### Calculate within event inundation metrics\n",
    "\n",
    "We need to set up two dataframes to put the results into"
   ]
  },
  {
   "cell_type": "code",
   "execution_count": 106,
   "metadata": {},
   "outputs": [],
   "source": [
    "# Create a dataframe to put our results into, starting with the time\n",
    "EventInundationTable = pd.concat([EventList]*len(SpeciesDict)).sort_values(by='event-start-date', ignore_index=True)\n",
    "EventInundationTable['vegType'] = list(SpeciesDict.values())* len(EventList)\n",
    "EventInundationTable['PctInundated>=30days'] = np.nan\n",
    "EventInundationTable['PctInundated>=90days'] = np.nan\n",
    "EventInundationTable['PctInundated>=150days'] = np.nan\n",
    "EventInundationTable['PctInundated>=210days'] = np.nan\n",
    "EventInundationTable['PctInundated>=270days'] = np.nan"
   ]
  },
  {
   "cell_type": "code",
   "execution_count": 107,
   "metadata": {},
   "outputs": [
    {
     "data": {
      "text/html": [
       "<div>\n",
       "<style scoped>\n",
       "    .dataframe tbody tr th:only-of-type {\n",
       "        vertical-align: middle;\n",
       "    }\n",
       "\n",
       "    .dataframe tbody tr th {\n",
       "        vertical-align: top;\n",
       "    }\n",
       "\n",
       "    .dataframe thead th {\n",
       "        text-align: right;\n",
       "    }\n",
       "</style>\n",
       "<table border=\"1\" class=\"dataframe\">\n",
       "  <thead>\n",
       "    <tr style=\"text-align: right;\">\n",
       "      <th></th>\n",
       "      <th>days-in-event</th>\n",
       "      <th>event-start-date</th>\n",
       "      <th>event-end-date</th>\n",
       "      <th>vegType</th>\n",
       "      <th>PctInundated&gt;=30days</th>\n",
       "      <th>PctInundated&gt;=90days</th>\n",
       "      <th>PctInundated&gt;=150days</th>\n",
       "      <th>PctInundated&gt;=210days</th>\n",
       "      <th>PctInundated&gt;=270days</th>\n",
       "    </tr>\n",
       "  </thead>\n",
       "  <tbody>\n",
       "    <tr>\n",
       "      <th>0</th>\n",
       "      <td>32</td>\n",
       "      <td>1988-04-11</td>\n",
       "      <td>1988-05-13</td>\n",
       "      <td>Aquatic grass / sedge / forb</td>\n",
       "      <td>NaN</td>\n",
       "      <td>NaN</td>\n",
       "      <td>NaN</td>\n",
       "      <td>NaN</td>\n",
       "      <td>NaN</td>\n",
       "    </tr>\n",
       "    <tr>\n",
       "      <th>1</th>\n",
       "      <td>32</td>\n",
       "      <td>1988-04-11</td>\n",
       "      <td>1988-05-13</td>\n",
       "      <td>Coolibah open grassy / chenopod grassy woodland</td>\n",
       "      <td>NaN</td>\n",
       "      <td>NaN</td>\n",
       "      <td>NaN</td>\n",
       "      <td>NaN</td>\n",
       "      <td>NaN</td>\n",
       "    </tr>\n",
       "  </tbody>\n",
       "</table>\n",
       "</div>"
      ],
      "text/plain": [
       "   days-in-event event-start-date event-end-date  \\\n",
       "0             32       1988-04-11     1988-05-13   \n",
       "1             32       1988-04-11     1988-05-13   \n",
       "\n",
       "                                           vegType  PctInundated>=30days  \\\n",
       "0                     Aquatic grass / sedge / forb                   NaN   \n",
       "1  Coolibah open grassy / chenopod grassy woodland                   NaN   \n",
       "\n",
       "   PctInundated>=90days  PctInundated>=150days  PctInundated>=210days  \\\n",
       "0                   NaN                    NaN                    NaN   \n",
       "1                   NaN                    NaN                    NaN   \n",
       "\n",
       "   PctInundated>=270days  \n",
       "0                    NaN  \n",
       "1                    NaN  "
      ]
     },
     "execution_count": 107,
     "metadata": {},
     "output_type": "execute_result"
    }
   ],
   "source": [
    "EventInundationTable.head(2)"
   ]
  },
  {
   "cell_type": "code",
   "execution_count": 108,
   "metadata": {},
   "outputs": [],
   "source": [
    "# Create a dataframe to put our results into, starting with the time\n",
    "EventDurationTable = pd.concat([EventList]*len(SpeciesDict)).sort_values(by='event-start-date', ignore_index=True)\n",
    "EventDurationTable['vegType'] = list(SpeciesDict.values())* len(EventList)\n",
    "EventDurationTable['AtLeast10PctInundated'] = np.nan\n",
    "EventDurationTable['AtLeast25PctInundated'] = np.nan\n",
    "EventDurationTable['AtLeast50PctInundated'] = np.nan\n",
    "EventDurationTable['AtLeast75PctInundated'] = np.nan\n",
    "EventDurationTable['100PctInundated'] = np.nan"
   ]
  },
  {
   "cell_type": "code",
   "execution_count": 109,
   "metadata": {},
   "outputs": [
    {
     "data": {
      "text/html": [
       "<div>\n",
       "<style scoped>\n",
       "    .dataframe tbody tr th:only-of-type {\n",
       "        vertical-align: middle;\n",
       "    }\n",
       "\n",
       "    .dataframe tbody tr th {\n",
       "        vertical-align: top;\n",
       "    }\n",
       "\n",
       "    .dataframe thead th {\n",
       "        text-align: right;\n",
       "    }\n",
       "</style>\n",
       "<table border=\"1\" class=\"dataframe\">\n",
       "  <thead>\n",
       "    <tr style=\"text-align: right;\">\n",
       "      <th></th>\n",
       "      <th>days-in-event</th>\n",
       "      <th>event-start-date</th>\n",
       "      <th>event-end-date</th>\n",
       "      <th>vegType</th>\n",
       "      <th>AtLeast10PctInundated</th>\n",
       "      <th>AtLeast25PctInundated</th>\n",
       "      <th>AtLeast50PctInundated</th>\n",
       "      <th>AtLeast75PctInundated</th>\n",
       "      <th>100PctInundated</th>\n",
       "    </tr>\n",
       "  </thead>\n",
       "  <tbody>\n",
       "    <tr>\n",
       "      <th>0</th>\n",
       "      <td>32</td>\n",
       "      <td>1988-04-11</td>\n",
       "      <td>1988-05-13</td>\n",
       "      <td>Aquatic grass / sedge / forb</td>\n",
       "      <td>NaN</td>\n",
       "      <td>NaN</td>\n",
       "      <td>NaN</td>\n",
       "      <td>NaN</td>\n",
       "      <td>NaN</td>\n",
       "    </tr>\n",
       "    <tr>\n",
       "      <th>1</th>\n",
       "      <td>32</td>\n",
       "      <td>1988-04-11</td>\n",
       "      <td>1988-05-13</td>\n",
       "      <td>Coolibah open grassy / chenopod grassy woodland</td>\n",
       "      <td>NaN</td>\n",
       "      <td>NaN</td>\n",
       "      <td>NaN</td>\n",
       "      <td>NaN</td>\n",
       "      <td>NaN</td>\n",
       "    </tr>\n",
       "  </tbody>\n",
       "</table>\n",
       "</div>"
      ],
      "text/plain": [
       "   days-in-event event-start-date event-end-date  \\\n",
       "0             32       1988-04-11     1988-05-13   \n",
       "1             32       1988-04-11     1988-05-13   \n",
       "\n",
       "                                           vegType  AtLeast10PctInundated  \\\n",
       "0                     Aquatic grass / sedge / forb                    NaN   \n",
       "1  Coolibah open grassy / chenopod grassy woodland                    NaN   \n",
       "\n",
       "   AtLeast25PctInundated  AtLeast50PctInundated  AtLeast75PctInundated  \\\n",
       "0                    NaN                    NaN                    NaN   \n",
       "1                    NaN                    NaN                    NaN   \n",
       "\n",
       "   100PctInundated  \n",
       "0              NaN  \n",
       "1              NaN  "
      ]
     },
     "execution_count": 109,
     "metadata": {},
     "output_type": "execute_result"
    }
   ],
   "source": [
    "EventDurationTable.head(2)"
   ]
  },
  {
   "cell_type": "markdown",
   "metadata": {},
   "source": [
    "### Now calculate the % inundation and duration of each vegetation category per event\n",
    "\n",
    "Metrics for wet percentage for the 30, 90, 150, 210 and 270 day periods are calculated using >= each period. For example, a pixel that was wet for 110 days during an event will be counted in the 30 and 90 day metrics, but not the 150 day metric. \n",
    "\n",
    "The second step in the analysis calculates how long at least 10/25/50/75/100% of the wetland vegetation community was inundated per event. We sort all of the values for each pixel in each event, and then use indexing to find the value at each percentage category. E.g.\n",
    "\n",
    "```\n",
    "EventResults = [0, 0, 6, 9, 4, 3, 0, 1, 1, 0]\n",
    "TotalArraySize = len(EventResults)\n",
    "SortedResults = [0, 0, 0, 0, 1, 1, 3, 4, 6, 9]\n",
    "SortedResults = SortedResults[::-1] #reverse the order to descending\n",
    "# Find the index of the value at 50% of the array ( - 1 due to zero indexing)\n",
    "Indexat50PctArea = int(TotalArraySize * 0.5) -1\n",
    "# The value in the sorted array at this index tells us how many days at least 50% of the veg area was wet for\n",
    "AtLeast50PctofArray = SortedResults[Indexat50PctArea]\n",
    "    >> 1\n",
    "```"
   ]
  },
  {
   "cell_type": "code",
   "execution_count": 110,
   "metadata": {},
   "outputs": [],
   "source": [
    "filelist = glob.glob(f'{EventResultsPickleFileName}*')\n",
    "for files in filelist:\n",
    "    with open(files,'rb') as f:\n",
    "        EventResults = pickle.load(f)\n",
    "    pathstartdate, vegname, items, analysisloc = files.split('_')\n",
    "    pathbits = pathstartdate.split('/')\n",
    "    startdate = pathbits[-1]\n",
    "    # Now write out the inundation area percentage thresholds\n",
    "    # Get the index of the row we need to put the results into\n",
    "    indexofrow = EventInundationTable.loc[(EventInundationTable['event-start-date'] == startdate) \n",
    "                         & (EventInundationTable['vegType'] == SpeciesDict[int(items)])].index.item()\n",
    "    # In the next lines, we are looking for locations in the results where values are >= some number\n",
    "    # Since we have nans in the array, the code throws a warning\n",
    "    # The behaviour of the comparison is correct for what we want, i.e. (NaN >= 30) = False\n",
    "    # So we can suppress these warnings to clear up the output of this cell\n",
    "    with np.errstate(invalid='ignore'):\n",
    "        # Calculate the percent of each vegetation community inundated for the various lengths of time\n",
    "        # Save out the results to one decimal place\n",
    "        EventInundationTable.at[indexofrow,'PctInundated>=30days'] = round((((EventResults >=30).sum() / \n",
    "                                                                      (AllDataCombined['veg_randomUID'] == int(items)).sum().item()) * 100), 1)\n",
    "        EventInundationTable.at[indexofrow,'PctInundated>=90days'] = round((((EventResults >=90).sum() / \n",
    "                                                                      (AllDataCombined['veg_randomUID'] == int(items)).sum().item()) * 100), 1)\n",
    "        EventInundationTable.at[indexofrow,'PctInundated>=150days'] = round((((EventResults >=150).sum() / \n",
    "                                                                       (AllDataCombined['veg_randomUID'] == int(items)).sum().item()) * 100), 1)\n",
    "        EventInundationTable.at[indexofrow,'PctInundated>=210days'] = round((((EventResults >=210).sum() / \n",
    "                                                                       (AllDataCombined['veg_randomUID'] == int(items)).sum().item()) * 100), 1)\n",
    "        EventInundationTable.at[indexofrow,'PctInundated>=270days'] = round((((EventResults >=270).sum() / \n",
    "                                                                       (AllDataCombined['veg_randomUID'] == int(items)).sum().item()) * 100), 1)\n",
    "    # Now write out the inundation duration percentage thresholds\n",
    "    # Get the index of the row we need to put the results into\n",
    "    indexofrow = EventDurationTable.loc[(EventDurationTable['event-start-date'] == startdate) \n",
    "                         & (EventDurationTable['vegType'] == SpeciesDict[int(items)])].index.item()\n",
    "    # Create a mask for the full extent of the vegetation category\n",
    "    VegMask = AllDataCombined['veg_randomUID'] == int(items)\n",
    "    # Work out the total number of pixels taken up by the veg category\n",
    "    VegTotalArea = VegMask.sum().item()\n",
    "    # Convert all the nans in the EventResults to zero\n",
    "    # This is because we want to know where a veg pixel was not seen as wet at all\n",
    "    InfilledEventResults = np.nan_to_num(EventResults)\n",
    "    # Remove the zeros from EventResults that are not covered by the veg category\n",
    "    InfilledEventResults[~VegMask] = np.nan\n",
    "    # Flatten the results - we don't need them to be spatial anymore\n",
    "    AllFiniteValues = InfilledEventResults.flatten()\n",
    "    # Remove all the nans - they're outside the area of interest\n",
    "    AllFiniteValues = AllFiniteValues[~np.isnan(AllFiniteValues)]\n",
    "    # Sort the array\n",
    "    AllFiniteValuesSorted = np.sort(AllFiniteValues)\n",
    "    # Reverse the order\n",
    "    AllFiniteValuesSorted = AllFiniteValuesSorted[::-1]\n",
    "    # Find the value in the sorted array that cuts off 10/25/50/75/100% of the array\n",
    "    # Subtract one from the index due to zero indexing\n",
    "    EventDurationTable.at[indexofrow,'AtLeast10PctInundated'] = round(AllFiniteValuesSorted[int(VegTotalArea * AreasToCalc[0] -1)], 1)\n",
    "    EventDurationTable.at[indexofrow,'AtLeast25PctInundated'] = round(AllFiniteValuesSorted[int(VegTotalArea * AreasToCalc[1] -1)], 1)\n",
    "    EventDurationTable.at[indexofrow,'AtLeast50PctInundated'] = round(AllFiniteValuesSorted[int(VegTotalArea * AreasToCalc[2] -1)], 1)\n",
    "    EventDurationTable.at[indexofrow,'AtLeast75PctInundated'] = round(AllFiniteValuesSorted[int(VegTotalArea * AreasToCalc[3] -1)], 1)\n",
    "    # 100% of the array is the last value, so just grab that\n",
    "    EventDurationTable.at[indexofrow,'100PctInundated'] = round(AllFiniteValuesSorted[VegTotalArea * AreasToCalc[4] -1], 1)\n",
    "\n",
    "    # Save the final tables to file\n",
    "    EventInundationTable.to_csv(EventInundationTableFileName, index=False)\n",
    "    EventDurationTable.to_csv(EventDurationTableFileName, index=False)"
   ]
  },
  {
   "cell_type": "markdown",
   "metadata": {},
   "source": [
    "## 7. Annual vegetation condition for each Ramsar site for the whole archive period"
   ]
  },
  {
   "cell_type": "code",
   "execution_count": null,
   "metadata": {},
   "outputs": [],
   "source": []
  }
 ],
 "metadata": {
  "kernelspec": {
   "display_name": "Python 3",
   "language": "python",
   "name": "python3"
  },
  "language_info": {
   "codemirror_mode": {
    "name": "ipython",
    "version": 3
   },
   "file_extension": ".py",
   "mimetype": "text/x-python",
   "name": "python",
   "nbconvert_exporter": "python",
   "pygments_lexer": "ipython3",
   "version": "3.6.9"
  }
 },
 "nbformat": 4,
 "nbformat_minor": 4
}
