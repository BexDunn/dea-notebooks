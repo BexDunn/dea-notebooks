{
 "cells": [
  {
   "cell_type": "markdown",
   "metadata": {
    "ExecuteTime": {
     "end_time": "2018-06-28T01:35:53.336872Z",
     "start_time": "2018-06-28T01:35:53.327303Z"
    }
   },
   "source": [
    "Authors: Bex Dunn, Vanessa Newey, Neil Symington, Claire Krause, Leo Lymburner"
   ]
  },
  {
   "cell_type": "markdown",
   "metadata": {
    "ExecuteTime": {
     "end_time": "2018-06-19T03:17:44.341801Z",
     "start_time": "2018-06-19T03:17:44.338622Z"
    }
   },
   "source": [
    "### get some modules"
   ]
  },
  {
   "cell_type": "code",
   "execution_count": 19,
   "metadata": {
    "ExecuteTime": {
     "end_time": "2018-07-18T06:35:51.296830Z",
     "start_time": "2018-07-18T06:35:49.317595Z"
    }
   },
   "outputs": [
    {
     "name": "stdout",
     "output_type": "stream",
     "text": [
      "The autoreload extension is already loaded. To reload it, use:\n",
      "  %reload_ext autoreload\n"
     ]
    }
   ],
   "source": [
    "%load_ext autoreload\n",
    "%autoreload 2\n",
    "\n",
    "#get modules from standard libraries\n",
    "\n",
    "import os.path\n",
    "import numpy as np\n",
    "import sys\n",
    "import xarray as xr\n",
    "\n",
    "from datetime import datetime\n",
    "import matplotlib.pyplot as plt\n",
    "\n",
    "#modules for datacube\n",
    "import datacube\n",
    "from datacube.utils import geometry\n",
    "from datacube.storage.storage import write_dataset_to_netcdf\n",
    "from datacube.helpers import write_geotiff\n",
    "\n",
    "# Import external functions from dea-notebooks\n",
    "sys.path.append(os.path.expanduser('~/dea-notebooks/Scripts/'))\n",
    "from RainfallTools import load_rainfall, calculate_residual_mass_curve"
   ]
  },
  {
   "cell_type": "markdown",
   "metadata": {},
   "source": [
    "## Choose a time period and location to calculate residual mass curve.\n",
    " - Note: please select whole months here, not days, as a month with only two days may negatively affect your mass residual curve"
   ]
  },
  {
   "cell_type": "code",
   "execution_count": 20,
   "metadata": {
    "ExecuteTime": {
     "end_time": "2018-07-18T06:35:51.655358Z",
     "start_time": "2018-07-18T06:35:51.618164Z"
    }
   },
   "outputs": [],
   "source": [
    "## Choose a query area and time\n",
    "##note: datacube is inclusive of both ends of the interval.\n",
    "\n",
    "query = {\n",
    "        'lat': (-35.25, -35.35),\n",
    "        'lon': (149.05, 149.17),\n",
    "        'time':('2010-01-01', '2013-03-31')\n",
    "        }"
   ]
  },
  {
   "cell_type": "markdown",
   "metadata": {
    "ExecuteTime": {
     "end_time": "2018-06-19T03:17:55.964257Z",
     "start_time": "2018-06-19T03:17:55.960083Z"
    }
   },
   "source": [
    "### load rainfall data"
   ]
  },
  {
   "cell_type": "code",
   "execution_count": 21,
   "metadata": {
    "ExecuteTime": {
     "end_time": "2018-07-18T06:35:52.697981Z",
     "start_time": "2018-07-18T06:35:52.638422Z"
    }
   },
   "outputs": [],
   "source": [
    "#using the BoM grids to 2013. These are out by 2.5km, be aware."
   ]
  },
  {
   "cell_type": "code",
   "execution_count": 22,
   "metadata": {
    "ExecuteTime": {
     "end_time": "2018-07-18T06:36:10.209635Z",
     "start_time": "2018-07-18T06:35:54.373192Z"
    }
   },
   "outputs": [],
   "source": [
    "#rainfall = load_rainfall(query)\n",
    "dc = datacube.Datacube(app='dc-BOMrainfall')\n",
    "rainfall = dc.load(product = 'bom_rainfall_grids', **query)"
   ]
  },
  {
   "cell_type": "markdown",
   "metadata": {},
   "source": [
    "## calculate rainfall mass residual"
   ]
  },
  {
   "cell_type": "markdown",
   "metadata": {
    "ExecuteTime": {
     "end_time": "2018-06-28T23:43:28.605179Z",
     "start_time": "2018-06-28T23:43:28.351228Z"
    }
   },
   "source": [
    "## resample rainfall data to month start ##FIXME, daily option"
   ]
  },
  {
   "cell_type": "code",
   "execution_count": 7,
   "metadata": {
    "ExecuteTime": {
     "end_time": "2018-07-18T06:24:23.717903Z",
     "start_time": "2018-07-18T06:24:23.645684Z"
    }
   },
   "outputs": [],
   "source": [
    "#we have daily rainfall here."
   ]
  },
  {
   "cell_type": "code",
   "execution_count": 8,
   "metadata": {
    "ExecuteTime": {
     "end_time": "2018-07-18T06:24:23.800952Z",
     "start_time": "2018-07-18T06:24:23.723513Z"
    }
   },
   "outputs": [
    {
     "data": {
      "text/plain": [
       "<xarray.Dataset>\n",
       "Dimensions:    (latitude: 2, longitude: 3, time: 1186)\n",
       "Coordinates:\n",
       "  * time       (time) datetime64[ns] 2010-01-01 2010-01-02 2010-01-03 ...\n",
       "  * latitude   (latitude) float64 -35.27 -35.32\n",
       "  * longitude  (longitude) float64 149.1 149.1 149.2\n",
       "Data variables:\n",
       "    rainfall   (time, latitude, longitude) float32 1.0589818 1.0485023 ...\n",
       "Attributes:\n",
       "    crs:      EPSG:4326"
      ]
     },
     "execution_count": 8,
     "metadata": {},
     "output_type": "execute_result"
    }
   ],
   "source": [
    "rainfall"
   ]
  },
  {
   "cell_type": "code",
   "execution_count": 9,
   "metadata": {
    "ExecuteTime": {
     "end_time": "2018-07-18T06:24:23.839257Z",
     "start_time": "2018-07-18T06:24:23.803426Z"
    }
   },
   "outputs": [],
   "source": [
    "cumulative_rainfall = rainfall.cumsum(dim='time',keep_attrs=True)\n",
    "cumulative_rainfall=cumulative_rainfall.assign_coords(time=rainfall.coords['time'])\n",
    "#cumulative_rainfall.groupby('time.dayofyear')"
   ]
  },
  {
   "cell_type": "code",
   "execution_count": null,
   "metadata": {
    "ExecuteTime": {
     "end_time": "2018-07-18T06:24:24.510442Z",
     "start_time": "2018-07-18T06:23:18.502Z"
    }
   },
   "outputs": [],
   "source": [
    "## Bex version"
   ]
  },
  {
   "cell_type": "code",
   "execution_count": 11,
   "metadata": {
    "ExecuteTime": {
     "end_time": "2018-07-18T06:31:23.974809Z",
     "start_time": "2018-07-18T06:31:21.780138Z"
    }
   },
   "outputs": [],
   "source": [
    "#resample rainfall data to month start\n",
    "rainfall_bydayofyear = rainfall.groupby('time.dayofyear')\n",
    "#dayofyear_rainfall.groups #print groups"
   ]
  },
  {
   "cell_type": "code",
   "execution_count": 14,
   "metadata": {
    "ExecuteTime": {
     "end_time": "2018-07-18T06:31:34.312019Z",
     "start_time": "2018-07-18T06:31:33.683852Z"
    }
   },
   "outputs": [],
   "source": [
    "rainfall_dayofyear_mean = rainfall.groupby('time.dayofyear').mean(dim='time')"
   ]
  },
  {
   "cell_type": "code",
   "execution_count": null,
   "metadata": {
    "ExecuteTime": {
     "end_time": "2018-07-18T06:24:24.514180Z",
     "start_time": "2018-07-18T06:23:22.043Z"
    }
   },
   "outputs": [],
   "source": [
    "#rainfall_dayofyear_mean.ra"
   ]
  },
  {
   "cell_type": "code",
   "execution_count": 15,
   "metadata": {
    "ExecuteTime": {
     "end_time": "2018-07-18T06:31:39.495202Z",
     "start_time": "2018-07-18T06:31:39.155598Z"
    }
   },
   "outputs": [],
   "source": [
    "cumulative_mean_rainfall = rainfall_dayofyear_mean.rainfall[cumulative_rainfall.time.dt.dayofyear-1].cumsum(dim='time',keep_attrs=True)\n",
    "#rainfall_dayofyear_mean.isel(dayofyear=0).rainfall.plot()"
   ]
  },
  {
   "cell_type": "code",
   "execution_count": 16,
   "metadata": {
    "ExecuteTime": {
     "end_time": "2018-07-18T06:31:42.955304Z",
     "start_time": "2018-07-18T06:31:42.523706Z"
    }
   },
   "outputs": [
    {
     "data": {
      "text/plain": [
       "[<matplotlib.lines.Line2D at 0x7f8b310a42e8>]"
      ]
     },
     "execution_count": 16,
     "metadata": {},
     "output_type": "execute_result"
    },
    {
     "data": {
      "image/png": "[encoded data removed]",
      "text/plain": [
       "<Figure size 432x288 with 1 Axes>"
      ]
     },
     "metadata": {},
     "output_type": "display_data"
    }
   ],
   "source": [
    "cumulative_mean_rainfall.mean(dim=('latitude','longitude')).plot()"
   ]
  },
  {
   "cell_type": "code",
   "execution_count": 17,
   "metadata": {
    "ExecuteTime": {
     "end_time": "2018-07-18T06:31:48.053859Z",
     "start_time": "2018-07-18T06:31:47.829136Z"
    }
   },
   "outputs": [],
   "source": [
    "mass_residual= cumulative_rainfall.rainfall-cumulative_mean_rainfall"
   ]
  },
  {
   "cell_type": "code",
   "execution_count": 18,
   "metadata": {
    "ExecuteTime": {
     "end_time": "2018-07-18T06:31:50.062699Z",
     "start_time": "2018-07-18T06:31:49.663816Z"
    }
   },
   "outputs": [
    {
     "data": {
      "text/plain": [
       "[<matplotlib.lines.Line2D at 0x7f8b31c05940>]"
      ]
     },
     "execution_count": 18,
     "metadata": {},
     "output_type": "execute_result"
    },
    {
     "data": {
      "image/png": "[encoded data removed]",
      "text/plain": [
       "<Figure size 432x288 with 1 Axes>"
      ]
     },
     "metadata": {},
     "output_type": "display_data"
    }
   ],
   "source": [
    "mass_residual.mean(dim=('latitude','longitude')).plot()\n"
   ]
  },
  {
   "cell_type": "code",
   "execution_count": null,
   "metadata": {},
   "outputs": [],
   "source": []
  },
  {
   "cell_type": "code",
   "execution_count": null,
   "metadata": {},
   "outputs": [],
   "source": []
  },
  {
   "cell_type": "code",
   "execution_count": null,
   "metadata": {},
   "outputs": [],
   "source": []
  },
  {
   "cell_type": "code",
   "execution_count": null,
   "metadata": {
    "ExecuteTime": {
     "end_time": "2018-07-18T06:24:24.520278Z",
     "start_time": "2018-07-18T06:23:26.046Z"
    }
   },
   "outputs": [],
   "source": [
    "# find the number of years in the data\n",
    "#years_in_data = len(rainfall.time.dt.month)/12"
   ]
  },
  {
   "cell_type": "code",
   "execution_count": null,
   "metadata": {
    "ExecuteTime": {
     "end_time": "2018-07-06T00:59:23.910978Z",
     "start_time": "2018-07-06T00:59:22.316684Z"
    },
    "scrolled": false
   },
   "outputs": [],
   "source": []
  },
  {
   "cell_type": "code",
   "execution_count": null,
   "metadata": {
    "ExecuteTime": {
     "end_time": "2018-07-18T06:24:24.521494Z",
     "start_time": "2018-07-18T06:23:27.410Z"
    }
   },
   "outputs": [],
   "source": [
    "years_in_data"
   ]
  },
  {
   "cell_type": "code",
   "execution_count": null,
   "metadata": {
    "ExecuteTime": {
     "end_time": "2018-07-18T06:24:24.522691Z",
     "start_time": "2018-07-18T06:23:27.672Z"
    }
   },
   "outputs": [],
   "source": [
    "monthly_rainfall"
   ]
  },
  {
   "cell_type": "code",
   "execution_count": null,
   "metadata": {
    "ExecuteTime": {
     "end_time": "2018-07-18T06:24:24.523928Z",
     "start_time": "2018-07-18T06:23:28.441Z"
    }
   },
   "outputs": [],
   "source": [
    "cumulative_rainfall = monthly_rainfall.cumsum(dim='time')"
   ]
  },
  {
   "cell_type": "code",
   "execution_count": null,
   "metadata": {
    "ExecuteTime": {
     "end_time": "2018-07-18T06:24:24.525136Z",
     "start_time": "2018-07-18T06:23:28.725Z"
    }
   },
   "outputs": [],
   "source": [
    "monthly_rainfall"
   ]
  },
  {
   "cell_type": "code",
   "execution_count": null,
   "metadata": {
    "ExecuteTime": {
     "end_time": "2018-07-18T06:24:24.526343Z",
     "start_time": "2018-07-18T06:23:29.344Z"
    }
   },
   "outputs": [],
   "source": [
    "cumulative_rainfall"
   ]
  },
  {
   "cell_type": "code",
   "execution_count": null,
   "metadata": {
    "ExecuteTime": {
     "end_time": "2018-07-18T06:24:24.527560Z",
     "start_time": "2018-07-18T06:23:29.708Z"
    }
   },
   "outputs": [],
   "source": [
    "monthly_rainfall"
   ]
  },
  {
   "cell_type": "code",
   "execution_count": null,
   "metadata": {
    "ExecuteTime": {
     "end_time": "2018-07-18T06:24:24.528774Z",
     "start_time": "2018-07-18T06:23:30.380Z"
    }
   },
   "outputs": [],
   "source": [
    "monthly_rainfall.resample"
   ]
  },
  {
   "cell_type": "code",
   "execution_count": null,
   "metadata": {
    "ExecuteTime": {
     "end_time": "2018-07-18T06:24:24.529973Z",
     "start_time": "2018-07-18T06:23:31.556Z"
    }
   },
   "outputs": [],
   "source": [
    "#cumulative rainfall has lost its time coordinates. can we reattach?"
   ]
  },
  {
   "cell_type": "code",
   "execution_count": null,
   "metadata": {
    "ExecuteTime": {
     "end_time": "2018-07-18T06:24:24.531187Z",
     "start_time": "2018-07-18T06:23:31.838Z"
    }
   },
   "outputs": [],
   "source": [
    "cumulative_rainfall=cumulative_rainfall.assign_coords(time=monthly_rainfall.coords['time'])"
   ]
  },
  {
   "cell_type": "code",
   "execution_count": null,
   "metadata": {
    "ExecuteTime": {
     "end_time": "2018-07-18T06:24:24.532509Z",
     "start_time": "2018-07-18T06:23:32.257Z"
    }
   },
   "outputs": [],
   "source": [
    "cumulative_rainfall"
   ]
  },
  {
   "cell_type": "code",
   "execution_count": null,
   "metadata": {
    "ExecuteTime": {
     "end_time": "2018-07-18T06:24:24.533716Z",
     "start_time": "2018-07-18T06:23:34.090Z"
    }
   },
   "outputs": [],
   "source": [
    "\n",
    "#arr = monthly_rainfall.rainfall.values\n",
    "\n",
    "#cum_rf = np.cumsum(arr, axis = 0)"
   ]
  },
  {
   "cell_type": "code",
   "execution_count": null,
   "metadata": {
    "ExecuteTime": {
     "end_time": "2018-07-18T06:24:24.534936Z",
     "start_time": "2018-07-18T06:23:34.352Z"
    }
   },
   "outputs": [],
   "source": [
    "##cum_rf_xr = xr.DataArray(cum_rf, dims = ('time', 'latitude', 'longitude'),\n",
    "      #                  coords = [monthly_rainfall.time, monthly_rainfall.latitude, monthly_rainfall.longitude])"
   ]
  },
  {
   "cell_type": "code",
   "execution_count": null,
   "metadata": {
    "ExecuteTime": {
     "end_time": "2018-07-18T06:24:24.536161Z",
     "start_time": "2018-07-18T06:23:34.852Z"
    }
   },
   "outputs": [],
   "source": [
    "#cum_rf_xr"
   ]
  },
  {
   "cell_type": "code",
   "execution_count": null,
   "metadata": {
    "ExecuteTime": {
     "end_time": "2018-07-18T06:24:24.537367Z",
     "start_time": "2018-07-18T06:23:35.124Z"
    }
   },
   "outputs": [],
   "source": [
    "# NOw we will calculate a cumulative rainfall assuming average rainfall on a month by month basis\n",
    "# Find the average of all months\n",
    "ave_months = rainfall.rainfall.groupby('time.month').mean('time').values"
   ]
  },
  {
   "cell_type": "code",
   "execution_count": null,
   "metadata": {
    "ExecuteTime": {
     "end_time": "2018-07-18T06:24:24.538561Z",
     "start_time": "2018-07-18T06:23:35.475Z"
    }
   },
   "outputs": [],
   "source": [
    "ave_months.shape"
   ]
  },
  {
   "cell_type": "code",
   "execution_count": null,
   "metadata": {
    "ExecuteTime": {
     "end_time": "2018-07-18T06:24:24.539768Z",
     "start_time": "2018-07-18T06:23:36.257Z"
    }
   },
   "outputs": [],
   "source": [
    "#d#aily_mean_rainfall.plot(rainfall, time.dayofyear)"
   ]
  },
  {
   "cell_type": "code",
   "execution_count": null,
   "metadata": {},
   "outputs": [],
   "source": []
  },
  {
   "cell_type": "code",
   "execution_count": null,
   "metadata": {
    "ExecuteTime": {
     "end_time": "2018-07-18T06:24:24.540971Z",
     "start_time": "2018-07-18T06:23:36.873Z"
    }
   },
   "outputs": [],
   "source": [
    "# In the case that we are not starting from January we will need to reorder the array\n",
    "\n",
    "start_month = rainfall.time[0].dt.month.values - 1\n",
    "\n",
    "ave_month = np.concatenate((ave_months[start_month:,:,:], ave_months[0:start_month,:,:]), axis = 0)"
   ]
  },
  {
   "cell_type": "code",
   "execution_count": null,
   "metadata": {
    "ExecuteTime": {
     "end_time": "2018-07-18T06:24:24.542181Z",
     "start_time": "2018-07-18T06:23:37.573Z"
    }
   },
   "outputs": [],
   "source": [
    "ave_month.shape"
   ]
  },
  {
   "cell_type": "code",
   "execution_count": null,
   "metadata": {
    "ExecuteTime": {
     "end_time": "2018-07-18T06:24:24.543401Z",
     "start_time": "2018-07-18T06:23:37.871Z"
    }
   },
   "outputs": [],
   "source": [
    "# Tile an array so that we can run a cumulative sum on it\n",
    "tiled_ave = np.tile(ave_months, (round(years_in_data), 1, 1))"
   ]
  },
  {
   "cell_type": "code",
   "execution_count": null,
   "metadata": {
    "ExecuteTime": {
     "end_time": "2018-07-18T06:24:24.544602Z",
     "start_time": "2018-07-18T06:23:38.177Z"
    },
    "scrolled": false
   },
   "outputs": [],
   "source": [
    "tiled_ave"
   ]
  },
  {
   "cell_type": "code",
   "execution_count": null,
   "metadata": {
    "ExecuteTime": {
     "end_time": "2018-07-18T06:24:24.545832Z",
     "start_time": "2018-07-18T06:23:38.936Z"
    }
   },
   "outputs": [],
   "source": [
    "# In the case that we have residual months remove them from the tiled array\n",
    "if (years_in_data).is_integer() == False:\n",
    "    month_remainder = int(round((n%1) * 12))\n",
    "\n",
    "    tiled_ave = tiled_ave[:int(-month_remainder),:,:]\n",
    "    "
   ]
  },
  {
   "cell_type": "code",
   "execution_count": null,
   "metadata": {
    "ExecuteTime": {
     "end_time": "2018-07-18T06:24:24.547038Z",
     "start_time": "2018-07-18T06:23:39.187Z"
    }
   },
   "outputs": [],
   "source": [
    "# Generate the cumulative sum of rainfall one would get assuming average rainfall every month\n",
    "cum_ave = np.cumsum(tiled_ave, axis = 0)"
   ]
  },
  {
   "cell_type": "code",
   "execution_count": null,
   "metadata": {
    "ExecuteTime": {
     "end_time": "2018-07-18T06:24:24.548425Z",
     "start_time": "2018-07-18T06:23:39.459Z"
    }
   },
   "outputs": [],
   "source": [
    "cum_ave.shape"
   ]
  },
  {
   "cell_type": "code",
   "execution_count": null,
   "metadata": {
    "ExecuteTime": {
     "end_time": "2018-07-18T06:24:24.549876Z",
     "start_time": "2018-07-18T06:23:39.705Z"
    }
   },
   "outputs": [],
   "source": [
    "monthly_rainfall"
   ]
  },
  {
   "cell_type": "code",
   "execution_count": null,
   "metadata": {
    "ExecuteTime": {
     "end_time": "2018-07-18T06:24:24.551266Z",
     "start_time": "2018-07-18T06:23:39.975Z"
    }
   },
   "outputs": [],
   "source": [
    "cum_ave_xr = xr.DataArray(cum_ave, dims = ('time', 'latitude', 'longitude'),\n",
    "                          coords = [monthly_rainfall.time, monthly_rainfall.latitude, monthly_rainfall.longitude])"
   ]
  },
  {
   "cell_type": "code",
   "execution_count": null,
   "metadata": {
    "ExecuteTime": {
     "end_time": "2018-07-18T06:24:24.552800Z",
     "start_time": "2018-07-18T06:23:40.717Z"
    }
   },
   "outputs": [],
   "source": [
    "# The mass residual curve is the difference between the cumulative rainfall data and the cumulative\n",
    "# rainfall one would get iff the average always occured\n",
    "mass_res_curve = cum_rf_xr - cum_ave_xr\n",
    "\n",
    "mass_res_curve"
   ]
  },
  {
   "cell_type": "code",
   "execution_count": null,
   "metadata": {
    "ExecuteTime": {
     "end_time": "2018-07-18T06:24:24.554116Z",
     "start_time": "2018-07-18T06:23:41.181Z"
    }
   },
   "outputs": [],
   "source": [
    "#mass_res_curve.plot(col='time', col_wrap=6)\n",
    "mass_res_curve.mean.plot()"
   ]
  },
  {
   "cell_type": "code",
   "execution_count": null,
   "metadata": {},
   "outputs": [],
   "source": [
    "xr.broadcast()"
   ]
  },
  {
   "cell_type": "code",
   "execution_count": 25,
   "metadata": {
    "ExecuteTime": {
     "end_time": "2018-07-05T02:15:49.405053Z",
     "start_time": "2018-07-05T02:15:48.173747Z"
    }
   },
   "outputs": [],
   "source": [
    "# def calculate_residual_mass_curve(a):\n",
    "#     '''This function calculates the residual mass rainfall curve\n",
    "#     :param a: '''\n",
    "    \n",
    "#     #resample rainfall data to month start\n",
    "#     a = a.resample('MS', dim='time', how='sum', keep_attrs=True) \n",
    "#     # find the number of time steps (ie. years)\n",
    "#     n = len(a.rainfall.time)/12\n",
    "    \n",
    "#     # First calculate a cumulative rainfall xarray from the rainfall data\n",
    "    \n",
    "#     arr = a.rainfall.values\n",
    "    \n",
    "#     cum_rf = np.cumsum(arr, axis = 0)\n",
    "    \n",
    "#     cum_rf_xr = xr.DataArray(cum_rf, dims = ('time', 'latitude', 'longitude'),\n",
    "#                             coords = [a.time, a.latitude, a.longitude])\n",
    "    \n",
    "#     # NOw we will calculate a cumulative rainfall assuming average rainfall on a month by month basis\n",
    "#     # Find the average of all months\n",
    "#     ave_months = a.rainfall.groupby('time.month').mean('time').values\n",
    "   \n",
    "#     # In the case that we are not starting from January we will need to reorder the array\n",
    "    \n",
    "#     start_month = a.time[0].dt.month.values - 1\n",
    "    \n",
    "#     ave_month = np.concatenate((ave_months[start_month:,:,:], ave_months[0:start_month,:,:]), axis = 0)\n",
    "\n",
    "    \n",
    "#     # Tile an array so that we can run a cumulative sum on it\n",
    "#     tiled_ave = np.tile(ave_months, (round(n), 1, 1))\n",
    "    \n",
    "#     # In the case that we have residual months remove them from the tiled array\n",
    "#     if (n).is_integer() == False:\n",
    "#         month_remainder = int(round((n%1) * 12))\n",
    "\n",
    "#         tiled_ave = tiled_ave[:int(-month_remainder),:,:]\n",
    "        \n",
    "#     # Generate the cumulative sum of rainfall one would get assuming average rainfall every month\n",
    "#     cum_ave = np.cumsum(tiled_ave, axis = 0)\n",
    "    \n",
    "#     cum_ave_xr = xr.DataArray(cum_ave, dims = ('time', 'latitude', 'longitude'),\n",
    "#                               coords = [a.time, a.latitude, a.longitude])\n",
    "    \n",
    "#     # The mass residual curve is the difference between the cumulative rainfall data and the cumulative\n",
    "#     # rainfall one would get iff the average always occured\n",
    "#     mass_res_curve = cum_rf_xr - cum_ave_xr\n",
    "    \n",
    "#     return mass_res_curve\n"
   ]
  },
  {
   "cell_type": "markdown",
   "metadata": {},
   "source": [
    "## calculate metrics based on rainfall\n",
    "- increasing and decreasing periods\n",
    "- wet year after dry years\n",
    "- dry year after wet years\n",
    "-"
   ]
  },
  {
   "cell_type": "markdown",
   "metadata": {},
   "source": [
    "## calculate metrics based on residual rainfall\n",
    "- increasing and decreasing periods\n",
    "- wet year after dry years\n",
    "- dry year after wet years\n"
   ]
  },
  {
   "cell_type": "markdown",
   "metadata": {
    "ExecuteTime": {
     "end_time": "2018-06-19T02:35:14.176120Z",
     "start_time": "2018-06-19T02:35:14.168390Z"
    }
   },
   "source": [
    "## calculate seasonality\n",
    "- Koppen climate region (use notebook to follow decision tree - requires climate data)\n",
    "- Summer dominant, Summer, Uniform, Winter, Winter dominant #\n",
    "- TROP SOI value\n",
    "- IOD /SAM indices\n",
    "\"During El Niño, rainfall in eastern Australian is typically below average during winter and spring. A neutral ENSO phase has little effect on Australian climate.\"Bureau of meteorology http://www.bom.gov.au/climate/enso/  "
   ]
  },
  {
   "cell_type": "code",
   "execution_count": 39,
   "metadata": {
    "ExecuteTime": {
     "end_time": "2018-06-22T01:40:17.240395Z",
     "start_time": "2018-06-22T01:40:17.195266Z"
    }
   },
   "outputs": [],
   "source": [
    "# Calculate failed wet seasons - calculate total wet season + dry season rainfalls\n",
    "# (end of wet season rainfalls?)"
   ]
  }
 ],
 "metadata": {
  "kernelspec": {
   "display_name": "Python 3",
   "language": "python",
   "name": "python3"
  },
  "language_info": {
   "codemirror_mode": {
    "name": "ipython",
    "version": 3
   },
   "file_extension": ".py",
   "mimetype": "text/x-python",
   "name": "python",
   "nbconvert_exporter": "python",
   "pygments_lexer": "ipython3",
   "version": "3.6.5"
  }
 },
 "nbformat": 4,
 "nbformat_minor": 2
}
