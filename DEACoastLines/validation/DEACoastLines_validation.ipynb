{
 "cells": [
  {
   "cell_type": "markdown",
   "metadata": {},
   "source": [
    "# DEA CoastLines validation\n",
    "\n",
    "To do:\n",
    "* [X] Change output CRS to Australian Albers\n",
    "* [X] Discard validation sides with multiple intersects?\n",
    "* [X] Split analysis code into:\n",
    "    * Aggregate multiple profiles and export into single file\n",
    "    * Analyse and plot single file\n",
    "* [ ] Add extraction of environmental data for each profile line"
   ]
  },
  {
   "cell_type": "markdown",
   "metadata": {},
   "source": [
    "## Load modules/functions\n"
   ]
  },
  {
   "cell_type": "code",
   "execution_count": 35,
   "metadata": {},
   "outputs": [
    {
     "name": "stdout",
     "output_type": "stream",
     "text": [
      "The line_profiler extension is already loaded. To reload it, use:\n",
      "  %reload_ext line_profiler\n",
      "The autoreload extension is already loaded. To reload it, use:\n",
      "  %reload_ext autoreload\n"
     ]
    }
   ],
   "source": [
    "%matplotlib inline\n",
    "%load_ext line_profiler\n",
    "%load_ext autoreload\n",
    "%autoreload 2\n",
    "\n",
    "import sys\n",
    "import glob\n",
    "import numpy as np\n",
    "import geopandas as gpd\n",
    "import pandas as pd\n",
    "import matplotlib.pyplot as plt\n",
    "from shapely.geometry import box\n",
    "\n",
    "sys.path.append('/g/data/r78/rt1527/dea-notebooks/DEACoastLines/')\n",
    "import deacoastlines_validation as deacl_val\n",
    "import deacoastlines_statistics as deacl_stats\n",
    "\n",
    "def to_vector(df, fname='test.shp', x='x', y='y', crs='EPSG:3577', output_crs='EPSG:3577'):\n",
    "    \n",
    "    # Convert datetimes to strings\n",
    "    df = df.copy()\n",
    "    is_datetime = df.dtypes == 'datetime64[ns]'\n",
    "    df.loc[:, is_datetime] = df.loc[:, is_datetime].astype(str) \n",
    "    \n",
    "    # Export to file\n",
    "    gdf = gpd.GeoDataFrame(data=df.loc[:, df.dtypes != 'datetime64[ns]'],\n",
    "                     geometry=gpd.points_from_xy(x=df[x], y=df[y]),\n",
    "                     crs=crs).to_crs(output_crs).to_file(fname)\n",
    "    \n",
    "    return gdf\n",
    "\n",
    "\n",
    "def export_eval(df, output_name, output_crs='EPSG:3577'):\n",
    "    \n",
    "    from shapely.geometry import box, Point, LineString\n",
    "\n",
    "    # Extract geometries\n",
    "    val_points = gpd.points_from_xy(x=df.val_x, y=df.val_y)\n",
    "    deacl_points = gpd.points_from_xy(x=df.deacl_x, y=df.deacl_y)\n",
    "    df_profiles = df.groupby('id').first()\n",
    "    profile_lines = df_profiles.apply(\n",
    "        lambda x: LineString([(x.start_x, x.start_y), (x.end_x, x.end_y)]), axis=1)\n",
    "\n",
    "    # Export validation points\n",
    "    val_gdf = gpd.GeoDataFrame(data=df,\n",
    "                               geometry=val_points,\n",
    "                               crs=output_crs).to_crs('EPSG:4326')\n",
    "    val_gdf.to_file(f'figures/eval/{output_name}_val.geojson', driver='GeoJSON')\n",
    "\n",
    "    # Export DEACL points\n",
    "    deacl_gdf = gpd.GeoDataFrame(data=df,\n",
    "                                 geometry=deacl_points,\n",
    "                                 crs=output_crs).to_crs('EPSG:4326')\n",
    "    deacl_gdf.to_file(f'figures/eval/{output_name}_deacl.geojson', driver='GeoJSON')\n",
    "\n",
    "    # Export profiles\n",
    "    profile_gdf = gpd.GeoDataFrame(data=df_profiles,\n",
    "                                 geometry=profile_lines,\n",
    "                                 crs=output_crs).to_crs('EPSG:4326')\n",
    "    profile_gdf.to_file(f'figures/eval/{output_name}_profiles.geojson', driver='GeoJSON')\n",
    "    "
   ]
  },
  {
   "cell_type": "markdown",
   "metadata": {},
   "source": [
    "## Analysis\n",
    "To investigate:\n",
    "* [X] Outlier in Bermagui (Horseshoe Bay)\n",
    "* [X] **Multiple outliers in Boambee Beach**\n",
    "* [X] Single remaining outlier in Bogangar to Kingscliff\n",
    "* [X] **Cluster of outliers in Burgess Beach: caused by one year of channel profiles**\n",
    "* [X] Sporadic outliers in Byron Bay\n",
    "* [X] Two remaining outlier in Corindi Beach\n",
    "* [X] **Major outliers at Crowdy Head**\n",
    "* [X] **String of outliers in opposite direction at Cullendulla**\n",
    "* [X] One remaining outlier at Diamond Beach\n",
    "* [X] One remaining outlier at Eurobadalla Beaches North\n",
    "* [ ] **Cluster of outliers at Evans Head and Broadwater**\n",
    "* [X] Two outliers in Fern Bay\n",
    "* [ ] **Extreme outliers at Flynn's Beach**\n",
    "* [ ] **Skewed result at Gerringong Harbour**\n",
    "* [ ] Outliers in Hargrave's Beach\n",
    "* [ ] Remaining outliers at Jimmy's Beach\n",
    "* [X] **Remaining major outlier at Lake Illawarra**\n",
    "* [X] **Outliers in Manly Beach**\n",
    "* [X] **Outliers at Mooney Beach**\n",
    "* [X] **Major issues with offset shorelines at Narrabeen/Collory**\n",
    "* [X] Outlier at Ocean View Beach\n",
    "* [X] **Outliers in opposite direction at Park's Beach**\n",
    "* [X] Cluster of outliers at Patch's Beach\n",
    "* [X] Outliers at Port Hacking \n",
    "* [X] **Weird line of points at Rainbow Beach**\n",
    "* [X] **No relationship at Sandbar Beach**\n",
    "* [ ] Outliers at Shellharbour Little Lake\n",
    "* [X] One remaining outlier at Stuart's Point\n",
    "* [ ] **Several remaining outliers at Swansea Belmont**\n",
    "* [X] **Cluster of outliers at The Entrance**\n",
    "* [X] Single outlier at Warrain\n",
    "* [ ] **Major issues with Valla Beach**"
   ]
  },
  {
   "cell_type": "code",
   "execution_count": 155,
   "metadata": {},
   "outputs": [
    {
     "name": "stdout",
     "output_type": "stream",
     "text": [
      "output_data/cgc_northkirra.csv                                                  \r"
     ]
    },
    {
     "data": {
      "text/html": [
       "<div>\n",
       "<style scoped>\n",
       "    .dataframe tbody tr th:only-of-type {\n",
       "        vertical-align: middle;\n",
       "    }\n",
       "\n",
       "    .dataframe tbody tr th {\n",
       "        vertical-align: top;\n",
       "    }\n",
       "\n",
       "    .dataframe thead th {\n",
       "        text-align: right;\n",
       "    }\n",
       "</style>\n",
       "<table border=\"1\" class=\"dataframe\">\n",
       "  <thead>\n",
       "    <tr style=\"text-align: right;\">\n",
       "      <th></th>\n",
       "      <th>id</th>\n",
       "      <th>year</th>\n",
       "      <th>beach</th>\n",
       "      <th>section</th>\n",
       "      <th>profile</th>\n",
       "      <th>source</th>\n",
       "      <th>certainty</th>\n",
       "      <th>n</th>\n",
       "      <th>start_x</th>\n",
       "      <th>start_y</th>\n",
       "      <th>end_x</th>\n",
       "      <th>end_y</th>\n",
       "      <th>val_x</th>\n",
       "      <th>val_y</th>\n",
       "      <th>val_dist</th>\n",
       "      <th>deacl_x</th>\n",
       "      <th>deacl_y</th>\n",
       "      <th>deacl_dist</th>\n",
       "      <th>diff_dist</th>\n",
       "    </tr>\n",
       "  </thead>\n",
       "  <tbody>\n",
       "    <tr>\n",
       "      <th>0</th>\n",
       "      <td>no*thkirra_k_11a</td>\n",
       "      <td>1988</td>\n",
       "      <td>no*thkirra</td>\n",
       "      <td>k</td>\n",
       "      <td>13</td>\n",
       "      <td>hydrographic survey</td>\n",
       "      <td>good</td>\n",
       "      <td>3</td>\n",
       "      <td>2.078224e+06</td>\n",
       "      <td>-3.233084e+06</td>\n",
       "      <td>2.078437e+06</td>\n",
       "      <td>-3.232843e+06</td>\n",
       "      <td>2.078259e+06</td>\n",
       "      <td>-3.233044e+06</td>\n",
       "      <td>52.915977</td>\n",
       "      <td>2.078241e+06</td>\n",
       "      <td>-3.233064e+06</td>\n",
       "      <td>26.464228</td>\n",
       "      <td>26.451748</td>\n",
       "    </tr>\n",
       "    <tr>\n",
       "      <th>2</th>\n",
       "      <td>no*thkirra_k_11b</td>\n",
       "      <td>1988</td>\n",
       "      <td>no*thkirra</td>\n",
       "      <td>k</td>\n",
       "      <td>13</td>\n",
       "      <td>hydrographic survey</td>\n",
       "      <td>good</td>\n",
       "      <td>3</td>\n",
       "      <td>2.078142e+06</td>\n",
       "      <td>-3.233025e+06</td>\n",
       "      <td>2.078526e+06</td>\n",
       "      <td>-3.232593e+06</td>\n",
       "      <td>2.078191e+06</td>\n",
       "      <td>-3.232970e+06</td>\n",
       "      <td>73.489304</td>\n",
       "      <td>2.078174e+06</td>\n",
       "      <td>-3.232990e+06</td>\n",
       "      <td>47.219470</td>\n",
       "      <td>26.269834</td>\n",
       "    </tr>\n",
       "    <tr>\n",
       "      <th>3</th>\n",
       "      <td>no*thkirra_k_13</td>\n",
       "      <td>1988</td>\n",
       "      <td>no*thkirra</td>\n",
       "      <td>k</td>\n",
       "      <td>13</td>\n",
       "      <td>hydrographic survey</td>\n",
       "      <td>good</td>\n",
       "      <td>4</td>\n",
       "      <td>2.078089e+06</td>\n",
       "      <td>-3.232962e+06</td>\n",
       "      <td>2.078432e+06</td>\n",
       "      <td>-3.232576e+06</td>\n",
       "      <td>2.078132e+06</td>\n",
       "      <td>-3.232912e+06</td>\n",
       "      <td>65.820791</td>\n",
       "      <td>2.078115e+06</td>\n",
       "      <td>-3.232932e+06</td>\n",
       "      <td>39.724770</td>\n",
       "      <td>26.096021</td>\n",
       "    </tr>\n",
       "    <tr>\n",
       "      <th>5</th>\n",
       "      <td>no*thkirra_k_13b</td>\n",
       "      <td>1988</td>\n",
       "      <td>no*thkirra</td>\n",
       "      <td>k</td>\n",
       "      <td>13</td>\n",
       "      <td>hydrographic survey</td>\n",
       "      <td>good</td>\n",
       "      <td>1</td>\n",
       "      <td>2.078048e+06</td>\n",
       "      <td>-3.232907e+06</td>\n",
       "      <td>2.078181e+06</td>\n",
       "      <td>-3.232758e+06</td>\n",
       "      <td>2.078077e+06</td>\n",
       "      <td>-3.232875e+06</td>\n",
       "      <td>42.597822</td>\n",
       "      <td>2.078054e+06</td>\n",
       "      <td>-3.232900e+06</td>\n",
       "      <td>8.733496</td>\n",
       "      <td>33.864325</td>\n",
       "    </tr>\n",
       "    <tr>\n",
       "      <th>7</th>\n",
       "      <td>no*thkirra_k_11a</td>\n",
       "      <td>1989</td>\n",
       "      <td>no*thkirra</td>\n",
       "      <td>k</td>\n",
       "      <td>13</td>\n",
       "      <td>hydrographic survey</td>\n",
       "      <td>good</td>\n",
       "      <td>4</td>\n",
       "      <td>2.078224e+06</td>\n",
       "      <td>-3.233084e+06</td>\n",
       "      <td>2.078437e+06</td>\n",
       "      <td>-3.232843e+06</td>\n",
       "      <td>2.078246e+06</td>\n",
       "      <td>-3.233059e+06</td>\n",
       "      <td>32.999343</td>\n",
       "      <td>2.078243e+06</td>\n",
       "      <td>-3.233062e+06</td>\n",
       "      <td>28.845492</td>\n",
       "      <td>4.153851</td>\n",
       "    </tr>\n",
       "  </tbody>\n",
       "</table>\n",
       "</div>"
      ],
      "text/plain": [
       "                 id  year       beach section profile               source  \\\n",
       "0  no*thkirra_k_11a  1988  no*thkirra       k      13  hydrographic survey   \n",
       "2  no*thkirra_k_11b  1988  no*thkirra       k      13  hydrographic survey   \n",
       "3   no*thkirra_k_13  1988  no*thkirra       k      13  hydrographic survey   \n",
       "5  no*thkirra_k_13b  1988  no*thkirra       k      13  hydrographic survey   \n",
       "7  no*thkirra_k_11a  1989  no*thkirra       k      13  hydrographic survey   \n",
       "\n",
       "  certainty  n       start_x       start_y         end_x         end_y  \\\n",
       "0      good  3  2.078224e+06 -3.233084e+06  2.078437e+06 -3.232843e+06   \n",
       "2      good  3  2.078142e+06 -3.233025e+06  2.078526e+06 -3.232593e+06   \n",
       "3      good  4  2.078089e+06 -3.232962e+06  2.078432e+06 -3.232576e+06   \n",
       "5      good  1  2.078048e+06 -3.232907e+06  2.078181e+06 -3.232758e+06   \n",
       "7      good  4  2.078224e+06 -3.233084e+06  2.078437e+06 -3.232843e+06   \n",
       "\n",
       "          val_x         val_y   val_dist       deacl_x       deacl_y  \\\n",
       "0  2.078259e+06 -3.233044e+06  52.915977  2.078241e+06 -3.233064e+06   \n",
       "2  2.078191e+06 -3.232970e+06  73.489304  2.078174e+06 -3.232990e+06   \n",
       "3  2.078132e+06 -3.232912e+06  65.820791  2.078115e+06 -3.232932e+06   \n",
       "5  2.078077e+06 -3.232875e+06  42.597822  2.078054e+06 -3.232900e+06   \n",
       "7  2.078246e+06 -3.233059e+06  32.999343  2.078243e+06 -3.233062e+06   \n",
       "\n",
       "   deacl_dist  diff_dist  \n",
       "0   26.464228  26.451748  \n",
       "2   47.219470  26.269834  \n",
       "3   39.724770  26.096021  \n",
       "5    8.733496  33.864325  \n",
       "7   28.845492   4.153851  "
      ]
     },
     "execution_count": 155,
     "metadata": {},
     "output_type": "execute_result"
    }
   ],
   "source": [
    "from sklearn.metrics import mean_squared_error\n",
    "from sklearn.metrics import mean_absolute_error\n",
    "\n",
    "val_paths = glob.glob('output_data/cgc_n*.csv')\n",
    "deacl_path = '../packages/DEACoastLines_v0.2.0/DEACoastLines_coastlines_v0.2.0.shp'\n",
    "# deacl_path = '../DEACoastLines_coastlines_v0.2.0_0.20.shp'\n",
    "\n",
    "stats_list = []\n",
    "\n",
    "for val_path in val_paths:\n",
    "    \n",
    "    # Run analysis and close resulting figure\n",
    "    print(f'{val_path:<80}', end='\\r')\n",
    "    output_stats = deacl_val.deacl_validation(val_path, \n",
    "                                              deacl_path,\n",
    "                                              datum=0)\n",
    "    \n",
    "    # Append stats to list\n",
    "    stats_list.append(output_stats)\n",
    "    \n",
    "# Combine stats into a dataframe\n",
    "stats_df = pd.concat(stats_list)\n",
    "stats_df.head()\n"
   ]
  },
  {
   "cell_type": "code",
   "execution_count": 117,
   "metadata": {},
   "outputs": [],
   "source": [
    "# Export evaluation vectord\n",
    "output_name = 'cgc'\n",
    "export_eval(stats_df, output_name)\n",
    "# stats_df.groupby('beach').apply(lambda x: export_eval(x, x.beach.iloc[0]))"
   ]
  },
  {
   "cell_type": "code",
   "execution_count": 159,
   "metadata": {},
   "outputs": [
    {
     "name": "stdout",
     "output_type": "stream",
     "text": [
      "MAE: 11.19 m\n",
      "RMSE: 14.77 m\n",
      "StDev: 13.00\n",
      "Corr: 0.983\n",
      "Mean offset: 23.04 m\n",
      "50th perc diff: 22.04 m\n"
     ]
    },
    {
     "data": {
      "text/plain": [
       "<matplotlib.axes._subplots.AxesSubplot at 0x7f58bc3515f8>"
      ]
     },
     "execution_count": 159,
     "metadata": {},
     "output_type": "execute_result"
    },
    {
     "data": {
      "image/png": "[encoded data removed]",
      "text/plain": [
       "<Figure size 432x288 with 2 Axes>"
      ]
     },
     "metadata": {
      "needs_background": "light"
     },
     "output_type": "display_data"
    }
   ],
   "source": [
    "# Print stats and plot scatterplot\n",
    "stats_subset = stats_df  #.loc[stats_df.beach=='wreckpoint']\n",
    "# stats_subset = stats_df.loc[stats_df.diff_dist < 200]\n",
    "stats_subset['deacl_dist'] += 16\n",
    "print(f'MAE: {mean_absolute_error(stats_subset.val_dist, stats_subset.deacl_dist):.2f} m\\n'\n",
    "      f'RMSE: {mean_squared_error(stats_subset.val_dist, stats_subset.deacl_dist)**0.5:.2f} m\\n'\n",
    "      f'StDev: {stats_subset[[\"diff_dist\"]].std().iloc[0]:.2f}\\n'\n",
    "      f'Corr: {stats_subset[[\"val_dist\", \"deacl_dist\"]].corr().iloc[0, 1]:.3f}\\n'\n",
    "      f'Mean offset: {stats_subset[[\"diff_dist\"]].mean().iloc[0]:.2f} m\\n'\n",
    "      f'50th perc diff: {stats_subset[\"diff_dist\"].abs().quantile(0.50):.2f} m')\n",
    "\n",
    "stats_subset.plot.scatter(x='val_dist',\n",
    "                      y='deacl_dist',\n",
    "                      c=stats_subset.n,\n",
    "                      s=25,\n",
    "                      cmap='YlOrRd',\n",
    "#                       vmin=1987,\n",
    "                      vmax=3,\n",
    "                      edgecolors='black',\n",
    "                      linewidth=0.5)\n"
   ]
  },
  {
   "cell_type": "code",
   "execution_count": 169,
   "metadata": {},
   "outputs": [
    {
     "data": {
      "text/plain": [
       "<matplotlib.axes._subplots.AxesSubplot at 0x7f58c3aa3f28>"
      ]
     },
     "execution_count": 169,
     "metadata": {},
     "output_type": "execute_result"
    },
    {
     "data": {
      "image/png": "[encoded data removed]",
      "text/plain": [
       "<Figure size 432x288 with 1 Axes>"
      ]
     },
     "metadata": {
      "needs_background": "light"
     },
     "output_type": "display_data"
    }
   ],
   "source": [
    "stats_subset = stats_df.loc[stats_df.id=='no*thkirra_k_11b']\n",
    "stats_subset.plot(x='year', y='val_dist')\n",
    "stats_subset.plot(ax=plt.gca(), x='year', y='deacl_dist')"
   ]
  },
  {
   "cell_type": "code",
   "execution_count": 170,
   "metadata": {},
   "outputs": [
    {
     "data": {
      "text/plain": [
       "<matplotlib.axes._subplots.AxesSubplot at 0x7f58c28f73c8>"
      ]
     },
     "execution_count": 170,
     "metadata": {},
     "output_type": "execute_result"
    },
    {
     "data": {
      "image/png": "[encoded data removed]",
      "text/plain": [
       "<Figure size 432x288 with 1 Axes>"
      ]
     },
     "metadata": {
      "needs_background": "light"
     },
     "output_type": "display_data"
    }
   ],
   "source": [
    "stats_subset = stats_df.loc[stats_df.id=='no*thkirra_k_11a1']\n",
    "stats_subset.plot(x='year', y='val_dist')\n",
    "stats_subset.plot(ax=plt.gca(), x='year', y='deacl_dist')\n"
   ]
  },
  {
   "cell_type": "code",
   "execution_count": 171,
   "metadata": {},
   "outputs": [
    {
     "data": {
      "text/plain": [
       "<matplotlib.axes._subplots.AxesSubplot at 0x7f58f2100e10>"
      ]
     },
     "execution_count": 171,
     "metadata": {},
     "output_type": "execute_result"
    },
    {
     "data": {
      "image/png": "[encoded data removed]",
      "text/plain": [
       "<Figure size 432x288 with 1 Axes>"
      ]
     },
     "metadata": {
      "needs_background": "light"
     },
     "output_type": "display_data"
    }
   ],
   "source": [
    "stats_subset = stats_df.loc[stats_df.id=='no*thkirra_k_14']\n",
    "stats_subset.plot(x='year', y='val_dist')\n",
    "stats_subset.plot(ax=plt.gca(), x='year', y='deacl_dist')"
   ]
  },
  {
   "cell_type": "code",
   "execution_count": 172,
   "metadata": {},
   "outputs": [
    {
     "data": {
      "text/plain": [
       "<matplotlib.axes._subplots.AxesSubplot at 0x7f58c2dc2e80>"
      ]
     },
     "execution_count": 172,
     "metadata": {},
     "output_type": "execute_result"
    },
    {
     "data": {
      "image/png": "[encoded data removed]",
      "text/plain": [
       "<Figure size 432x288 with 1 Axes>"
      ]
     },
     "metadata": {
      "needs_background": "light"
     },
     "output_type": "display_data"
    }
   ],
   "source": [
    "stats_subset = stats_df.loc[stats_df.id=='no*thkirra_k_13']\n",
    "stats_subset.plot(x='year', y='val_dist')\n",
    "stats_subset.plot(ax=plt.gca(), x='year', y='deacl_dist')"
   ]
  },
  {
   "cell_type": "code",
   "execution_count": 173,
   "metadata": {},
   "outputs": [
    {
     "name": "stdout",
     "output_type": "stream",
     "text": [
      "Collecting pybeach\n",
      "  Downloading pybeach-0.1.2-py3-none-any.whl (990 kB)\n",
      "\u001b[K     |████████████████████████████████| 990 kB 4.3 MB/s eta 0:00:01\n",
      "\u001b[?25hCollecting pandas==0.25.1\n",
      "  Downloading pandas-0.25.1-cp36-cp36m-manylinux1_x86_64.whl (10.5 MB)\n",
      "\u001b[K     |████████████████████████████████| 10.5 MB 11.8 MB/s eta 0:00:01\n",
      "\u001b[?25hCollecting scipy==1.3.1\n",
      "  Downloading scipy-1.3.1-cp36-cp36m-manylinux1_x86_64.whl (25.2 MB)\n",
      "\u001b[K     |████████████████████████████████| 25.2 MB 20.5 MB/s eta 0:00:01\n",
      "\u001b[?25hCollecting scikit-learn==0.21.2\n",
      "  Downloading scikit_learn-0.21.2-cp36-cp36m-manylinux1_x86_64.whl (6.7 MB)\n",
      "\u001b[K     |████████████████████████████████| 6.7 MB 23.8 MB/s eta 0:00:01\n",
      "\u001b[?25hCollecting joblib==0.13.2\n",
      "  Downloading joblib-0.13.2-py2.py3-none-any.whl (278 kB)\n",
      "\u001b[K     |████████████████████████████████| 278 kB 26.3 MB/s eta 0:00:01\n",
      "\u001b[?25hCollecting numpy==1.17.2\n",
      "  Downloading numpy-1.17.2-cp36-cp36m-manylinux1_x86_64.whl (20.4 MB)\n",
      "\u001b[K     |████████████████████████████████| 20.4 MB 16.0 MB/s eta 0:00:01��████████▌    | 17.5 MB 16.0 MB/s eta 0:00:01\n",
      "\u001b[?25hRequirement already satisfied: pytz>=2017.2 in /g/data4/v10/public/modules/dea-env/20200612/lib/python3.6/site-packages (from pandas==0.25.1->pybeach) (2020.1)\n",
      "Requirement already satisfied: python-dateutil>=2.6.1 in /g/data4/v10/public/modules/dea-env/20200612/lib/python3.6/site-packages (from pandas==0.25.1->pybeach) (2.8.1)\n",
      "Requirement already satisfied: six>=1.5 in /g/data4/v10/public/modules/dea-env/20200612/lib/python3.6/site-packages (from python-dateutil>=2.6.1->pandas==0.25.1->pybeach) (1.15.0)\n",
      "Installing collected packages: numpy, pandas, scipy, joblib, scikit-learn, pybeach\n",
      "\u001b[31mERROR: Could not install packages due to an EnvironmentError: [Errno 122] Disk quota exceeded\n",
      "\u001b[0m\n",
      "Note: you may need to restart the kernel to use updated packages.\n"
     ]
    }
   ],
   "source": [
    "pip install --user pybeach"
   ]
  },
  {
   "cell_type": "code",
   "execution_count": null,
   "metadata": {},
   "outputs": [],
   "source": []
  },
  {
   "cell_type": "code",
   "execution_count": 162,
   "metadata": {},
   "outputs": [
    {
     "data": {
      "text/plain": [
       "[<matplotlib.lines.Line2D at 0x7f4f288e9400>]"
      ]
     },
     "execution_count": 162,
     "metadata": {},
     "output_type": "execute_result"
    },
    {
     "data": {
      "image/png": "[encoded data removed]",
      "text/plain": [
       "<Figure size 576x576 with 1 Axes>"
      ]
     },
     "metadata": {
      "needs_background": "light"
     },
     "output_type": "display_data"
    }
   ],
   "source": [
    "import seaborn as sns\n",
    "\n",
    "extent = (0, 120)\n",
    "fig, ax = plt.subplots(figsize=(8, 8))\n",
    "\n",
    "sns.kdeplot(ax=ax,\n",
    "            data=stats_df.val_dist,\n",
    "            data2=stats_df.deacl_dist, \n",
    "            cmap='magma', \n",
    "            shade=True,\n",
    "            clip=(extent, extent)\n",
    "           )\n",
    "plt.gca().plot(np.linspace(*extent), \n",
    "               np.linspace(*extent),\n",
    "               color='white',\n",
    "               linestyle='dashed')"
   ]
  },
  {
   "cell_type": "code",
   "execution_count": 745,
   "metadata": {},
   "outputs": [],
   "source": [
    "to_vector(output_stats, fname='test6.shp', x='0_x', y='0_y', crs='EPSG:3577')"
   ]
  },
  {
   "cell_type": "markdown",
   "metadata": {},
   "source": [
    "## Pre-processing\n"
   ]
  },
  {
   "cell_type": "markdown",
   "metadata": {},
   "source": [
    "### Victoria/Deakin\n",
    "* [X] Renovated"
   ]
  },
  {
   "cell_type": "code",
   "execution_count": null,
   "metadata": {},
   "outputs": [],
   "source": [
    "deacl_val.preprocess_vicdeakin(fname='input_data/vicdeakin/z_data_10cm_VIC.csv',\n",
    "                               datum=0)"
   ]
  },
  {
   "cell_type": "markdown",
   "metadata": {},
   "source": [
    "### WRL Narrabeen \n",
    "* [X] Renovated"
   ]
  },
  {
   "cell_type": "code",
   "execution_count": null,
   "metadata": {},
   "outputs": [],
   "source": [
    "deacl_val.preprocess_narrabeen(fname='input_data/wrl/Narrabeen_Profiles_2018.csv',\n",
    "                               datum=0,\n",
    "                               overwrite=True)\n"
   ]
  },
  {
   "cell_type": "markdown",
   "metadata": {},
   "source": [
    "### NSW Beach Profile Database\n",
    "* [X] Renovated"
   ]
  },
  {
   "cell_type": "code",
   "execution_count": 143,
   "metadata": {},
   "outputs": [
    {
     "name": "stdout",
     "output_type": "stream",
     "text": [
      "Processing output_data/nswbpd_lennoxhead.csv                                               \r"
     ]
    },
    {
     "name": "stderr",
     "output_type": "stream",
     "text": [
      "/g/data/v10/public/modules/dea-env/20200526/lib/python3.6/site-packages/IPython/core/interactiveshell.py:3254: DtypeWarning: Columns (1) have mixed types.Specify dtype option on import or set low_memory=False.\n",
      "  if (await self.run_code(code, result,  async_=asy)):\n"
     ]
    },
    {
     "name": "stdout",
     "output_type": "stream",
     "text": [
      "\n",
      "Dropping invalid profiles: 19                                                                              \n",
      "Processing output_data/nswbpd_brunswick.csv                                                \n",
      "Dropping invalid profiles: 1                                                                               \n",
      "Processing output_data/nswbpd_saphirebeach.csv                                             \n",
      "Dropping invalid profiles: 13                                                                              \n",
      "Processing output_data/nswbpd_ballina.csv                                                  \n",
      "Dropping invalid profiles: 1                                                                               \n",
      "Processing output_data/nswbpd_boambeebeach.csv                                             \n",
      "Dropping invalid profiles: 9                                                                               \n",
      "Processing output_data/nswbpd_saltsbay.csv                                                 \n",
      "Dropping invalid profiles: 6                                                                               \n",
      "Processing output_data/nswbpd_oldbar.csv                                                   \n",
      "Dropping invalid profiles: 4                                                                               \n",
      "Processing output_data/nswbpd_diamondbeach.csv                                             \n",
      "Dropping invalid profiles: 2                                                                               \n",
      "Processing output_data/nswbpd_kingscliff.csv                                               \n",
      "Dropping invalid profiles: 2                                                                               \n",
      "Processing output_data/nswbpd_byronbay.csv                                                 \n",
      "Dropping invalid profiles: 14                                                                              \n",
      "Processing output_data/nswbpd_minnamurra.csv                                               \n",
      "Dropping invalid profiles: 1                                                                               \n",
      "Processing output_data/nswbpd_nambucca.csv                                                 \n",
      "Dropping invalid profiles: 18                                                                              \n",
      "Processing output_data/nswbpd_uminabeach.csv                                               \n",
      "Dropping invalid profiles: 1                                                                               \n",
      "Processing output_data/nswbpd_sealrocks.csv                                                \n",
      "Dropping invalid profiles: 6                                                                               \n",
      "Processing output_data/nswbpd_fiddamansbeachheadland.csv                                   \n",
      "Dropping invalid profiles: 14                                                                              \n",
      "Processing output_data/nswbpd_macauleysbeach.csv                                           \n",
      "Dropping invalid profiles: 9                                                                               \n",
      "Processing output_data/nswbpd_kendalls.csv                                                 \n",
      "Dropping invalid profiles: 7                                                                               \n",
      "Processing output_data/nswbpd_woolibeach.csv                                               \n",
      "Dropping invalid profiles: 19                                                                              \n",
      "Processing output_data/nswbpd_swanseabelmont.csv                                           \n",
      "Dropping invalid profiles: 6                                                                               \n",
      "Processing output_data/nswbpd_mullaway.csv                                                 \n",
      "Dropping invalid profiles: 4                                                                               \n",
      "Processing output_data/nswbpd_porthacking,cornullaandkurnell.csv                           \n",
      "Dropping invalid profiles: 11                                                                              \n",
      "Processing output_data/nswbpd_flynnsbeach.csv                                              \n",
      "Dropping invalid profiles: 8                                                                               \n",
      "Processing output_data/nswbpd_yamba.csv                                                    \n",
      "Dropping invalid profiles: 11                                                                              \n",
      "Processing output_data/nswbpd_macmastersforresters.csv                                     \n",
      "Dropping invalid profiles: 6                                                                               \n",
      "Processing output_data/nswbpd_mollymook&narrawally&collers.csv                             \n",
      "Dropping invalid profiles: 8                                                                               \n",
      "Processing output_data/nswbpd_burrillakeandracecoursebeach.csv                             \n",
      "Dropping invalid profiles: 14                                                                              \n",
      "Processing output_data/nswbpd_parksbeach.csv                                               \n",
      "Dropping invalid profiles: 6                                                                               \n",
      "Processing output_data/nswbpd_eurobodallabeachessouth.csv                                  \n",
      "Dropping invalid profiles: 4                                                                               \n",
      "Processing output_data/nswbpd_patchsbeach.csv                                              \n",
      "Dropping invalid profiles: 5                                                                               \n",
      "Processing output_data/nswbpd_monavale.csv                                                 \r"
     ]
    }
   ],
   "source": [
    "for fname in glob.glob('input_data/nswbpd/*.csv'):\n",
    "    profiles_df = deacl_val.preprocess_nswbpd(fname, \n",
    "                                              datum=0, \n",
    "                                              overwrite=True)     \n"
   ]
  },
  {
   "cell_type": "markdown",
   "metadata": {},
   "source": [
    "### City of Gold Coast\n",
    "* [X] Renovated\n",
    "* [ ] Fix North Kirra name"
   ]
  },
  {
   "cell_type": "code",
   "execution_count": 110,
   "metadata": {},
   "outputs": [
    {
     "name": "stdout",
     "output_type": "stream",
     "text": [
      "Processing output_data/cgc_broadbeach.csv                                                  \n",
      "Dropping invalid profiles: 2                                                                               \n",
      "Processing output_data/cgc_palmbeach.csv                                                   \n",
      "Dropping invalid profiles: 1                                                                               \n",
      "Processing output_data/cgc_surfersparadise.csv                                             \n",
      "Dropping invalid profiles: 3                                                                               \n",
      "Processing output_data/cgc_tweedriverentrance.csv                                          \r"
     ]
    }
   ],
   "source": [
    "sites = ['BILINGA', 'BROADBEACH', 'BURLEIGH HEADS', 'COOLANGATTA', 'CURRUMBIN',\n",
    "         'DURANABH', 'FINGAL', 'GREENMOUNT HILL', 'KINGSCLIFF', 'KIRRA',\n",
    "         'MAIN BEACH', 'MERMAID BEACH', 'MIAMI', 'Main Beach Cross Sections',\n",
    "         'NARROWNECK', 'NO*TH KIRRA', 'PALM BEACH', 'POINT DANGER', \n",
    "         'RAINBOW BAY', 'SEAWAY CENTRE LINE', 'SNAPPER ROCKS', \n",
    "         'SOUTH STRADBROKE', 'SURFERS PARADISE', 'THE SPIT', 'TUGUN', \n",
    "         'TWEED RIVER ENTRANCE']\n",
    "# sites=['SOUTH STRADBROKE']\n",
    "\n",
    "for site in sites:\n",
    "    profiles_df = deacl_val.preprocess_cgc(site=site,\n",
    "                                           datum=0,\n",
    "                                           overwrite=True)"
   ]
  },
  {
   "cell_type": "code",
   "execution_count": 100,
   "metadata": {},
   "outputs": [],
   "source": [
    "# glob.glob(f'input_data/cityofgoldcoast/NO*TH KIRRA*.txt')"
   ]
  },
  {
   "cell_type": "code",
   "execution_count": 54,
   "metadata": {},
   "outputs": [],
   "source": [
    "# profiles_df = profiles_df.reset_index()"
   ]
  },
  {
   "cell_type": "code",
   "execution_count": 74,
   "metadata": {},
   "outputs": [],
   "source": [
    "test = profiles_df.loc[(profiles_df.id == 'palmbeach_eta_31.50') &\n",
    "                (profiles_df.date.dt.year == 2008)]"
   ]
  },
  {
   "cell_type": "code",
   "execution_count": 61,
   "metadata": {},
   "outputs": [
    {
     "data": {
      "text/plain": [
       "0_dist    4.133269e+02\n",
       "0_x       2.080262e+06\n",
       "0_y      -3.233222e+06\n",
       "dtype: float64"
      ]
     },
     "execution_count": 61,
     "metadata": {},
     "output_type": "execute_result"
    }
   ],
   "source": [
    "deacl_val.waterline_intercept(test)"
   ]
  },
  {
   "cell_type": "code",
   "execution_count": 76,
   "metadata": {},
   "outputs": [
    {
     "data": {
      "text/plain": [
       "<matplotlib.axes._subplots.AxesSubplot at 0x7f58c2706c50>"
      ]
     },
     "execution_count": 76,
     "metadata": {},
     "output_type": "execute_result"
    },
    {
     "data": {
      "image/png": "[encoded data removed]",
      "text/plain": [
       "<Figure size 432x288 with 1 Axes>"
      ]
     },
     "metadata": {
      "needs_background": "light"
     },
     "output_type": "display_data"
    }
   ],
   "source": [
    "test.plot(x='x', y='y')"
   ]
  },
  {
   "cell_type": "code",
   "execution_count": 77,
   "metadata": {},
   "outputs": [],
   "source": [
    "to_vector(test, fname='test3.shp', x='x', y='y', crs='EPSG:3577', output_crs='EPSG:3577')\n",
    "    "
   ]
  },
  {
   "cell_type": "markdown",
   "metadata": {},
   "source": [
    "### TASMARC\n",
    "* [X] Renovated"
   ]
  },
  {
   "cell_type": "code",
   "execution_count": null,
   "metadata": {},
   "outputs": [],
   "source": [
    "# List of sites to iterate over\n",
    "sites = [i.split('/')[2] for i in glob.glob('input_data/tasmarc/*/')]\n",
    "\n",
    "for site in sites[3:4]:\n",
    "    deacl_val.preprocess_tasmarc(site, overwrite=True) \n"
   ]
  },
  {
   "cell_type": "markdown",
   "metadata": {},
   "source": [
    "### WA DoT\n",
    "* [X] Renovated"
   ]
  },
  {
   "cell_type": "code",
   "execution_count": 554,
   "metadata": {},
   "outputs": [
    {
     "name": "stdout",
     "output_type": "stream",
     "text": [
      "Processing binningup 2016                                                                                                           \r"
     ]
    }
   ],
   "source": [
    "# Read in tertiary compartment file to regionalise results\n",
    "# tertiary_gdf = gpd.read_file('input_data/WA_tertiaryCC.shp').to_crs('EPSG:3577')\n",
    "tertiary_gdf = gpd.read_file('input_data/wa_sw.geojson').to_crs('EPSG:3577')\n",
    "tertiary_gdf = tertiary_gdf.set_index('FROM_')\n",
    "\n",
    "# Extract transects and validation distances\n",
    "deacl_val.preprocess_wadot(regions_gdf=tertiary_gdf, \n",
    "                           fname='input_data/wadot/Coastline_Movements_20190819.gdb',\n",
    "                           smartline='../input_data/Smartline.gdb',\n",
    "                           aus_poly='/g/data/r78/rt1527/shapefiles/australia/australia/cstauscd_r.shp')"
   ]
  },
  {
   "cell_type": "markdown",
   "metadata": {},
   "source": [
    "### WA DoT - Stirling"
   ]
  },
  {
   "cell_type": "code",
   "execution_count": 156,
   "metadata": {},
   "outputs": [],
   "source": [
    "deacl_val.preprocess_stirling(fname_out='output_data/stirling_stirling.csv',\n",
    "                              datum=0)"
   ]
  },
  {
   "cell_type": "markdown",
   "metadata": {},
   "source": [
    "### SA Department of Environment and Water"
   ]
  },
  {
   "cell_type": "code",
   "execution_count": null,
   "metadata": {},
   "outputs": [],
   "source": [
    "import math\n",
    "from pyproj import Transformer\n",
    "\n",
    "# Load data and set nodata values to NaN\n",
    "wide_df = pd.read_csv('input_data/sadew/200011.CSV', na_values=[-9999])\n",
    "\n",
    "# Reproject coords to Albers and create geodataframe\n",
    "trans = Transformer.from_crs(\"EPSG:28354\", \"EPSG:28356\", always_xy=True)\n",
    "wide_df['EASTING'], wide_df['NORTHING'] = trans.transform(\n",
    "    wide_df.EASTING.values, wide_df.NORTHING.values)\n",
    "\n",
    "# Reshape into long format with each observation on a new row\n",
    "profile_df = pd.melt(wide_df.drop('SAMPLE_NO', axis=1), \n",
    "                     id_vars=['EASTING', 'NORTHING', 'PROFILE'],\n",
    "                     value_name='elevation').dropna()\n",
    "\n",
    "# Set column names to lower case\n",
    "profile_df.columns = profile_df.columns.str.lower()\n",
    "\n",
    "# Extract date info\n",
    "profile_df['date'] = profile_df['variable'].str[1:].str.strip()\n",
    "profile_df['date'] = pd.to_datetime(profile_df['date'], format='%d%m%Y')\n",
    "\n",
    "# Restrict to post 1987\n",
    "profile_df = profile_df[(profile_df.date.dt.year > 1987)]\n",
    "\n",
    "# Add unique ID column\n",
    "profile_df['beach'] = 'sadew'\n",
    "profile_df['section'] = 'all'\n",
    "profile_df['profile'] = profile_df['profile'].astype(str)\n",
    "profile_df['site'] = profile_df[['beach', 'section', 'profile']].apply('_'.join, 1)\n",
    "profile_df['source'] = 'sadew'\n",
    "\n",
    "# Compute origin points for each profile\n",
    "profile_df = profile_df.assign(start_x=wide_df.iloc[0, 2], \n",
    "                               start_y=wide_df.iloc[0, 3],\n",
    "                               end_x=wide_df.iloc[-1, 2],\n",
    "                               end_y=wide_df.iloc[-1, 3])\n",
    "\n",
    "# Compute chainage\n",
    "profile_df['chainage'] = profile_df.apply(\n",
    "    lambda x: math.hypot(x.easting - x.start_x, x.northing - x.start_y), axis=1)"
   ]
  },
  {
   "cell_type": "code",
   "execution_count": null,
   "metadata": {},
   "outputs": [],
   "source": [
    "# Find location and distance to water for datum height (0 m AHD)\n",
    "out = profile_df.groupby(['site', 'date']).apply(deacl_val.waterline_intercept, \n",
    "                                                  dist_col='chainage',\n",
    "                                                  x_col='easting', \n",
    "                                                  y_col='northing', \n",
    "                                                  z_col='elevation', \n",
    "                                                  z_val=0).dropna()\n",
    "\n",
    "# If the output contains data\n",
    "if len(out.index):\n",
    "\n",
    "    # Join into dataframe\n",
    "    shoreline_dist = out.join(\n",
    "        profile_df.groupby(['site', 'date']).first())\n",
    "\n",
    "    # Keep required columns\n",
    "    shoreline_dist = shoreline_dist[['beach', 'section', 'profile',  \n",
    "                                     'source', 'start_x', 'start_y', \n",
    "                                     'end_x', 'end_y', '0_dist', \n",
    "                                     '0_x', '0_y']]\n",
    "\n",
    "    # Export to file\n",
    "    shoreline_dist.to_csv(f'output_data/satest.csv')"
   ]
  },
  {
   "cell_type": "markdown",
   "metadata": {},
   "source": [
    "***\n",
    "\n",
    "## Additional information"
   ]
  },
  {
   "cell_type": "markdown",
   "metadata": {},
   "source": [
    "**License:** The code in this notebook is licensed under the [Apache License, Version 2.0](https://www.apache.org/licenses/LICENSE-2.0). \n",
    "Digital Earth Australia data is licensed under the [Creative Commons by Attribution 4.0](https://creativecommons.org/licenses/by/4.0/) license.\n",
    "\n",
    "**Contact:** If you need assistance, please post a question on the [Open Data Cube Slack channel](http://slack.opendatacube.org/) or on the [GIS Stack Exchange](https://gis.stackexchange.com/questions/ask?tags=open-data-cube) using the `open-data-cube` tag (you can view previously asked questions [here](https://gis.stackexchange.com/questions/tagged/open-data-cube)).\n",
    "If you would like to report an issue with this notebook, you can file one on [Github](https://github.com/GeoscienceAustralia/dea-notebooks).\n",
    "\n",
    "**Last modified:** May 2020"
   ]
  }
 ],
 "metadata": {
  "kernelspec": {
   "display_name": "Python 3",
   "language": "python",
   "name": "python3"
  },
  "language_info": {
   "codemirror_mode": {
    "name": "ipython",
    "version": 3
   },
   "file_extension": ".py",
   "mimetype": "text/x-python",
   "name": "python",
   "nbconvert_exporter": "python",
   "pygments_lexer": "ipython3",
   "version": "3.6.10"
  },
  "widgets": {
   "application/vnd.jupyter.widget-state+json": {
    "state": {},
    "version_major": 2,
    "version_minor": 0
   }
  }
 },
 "nbformat": 4,
 "nbformat_minor": 4
}
