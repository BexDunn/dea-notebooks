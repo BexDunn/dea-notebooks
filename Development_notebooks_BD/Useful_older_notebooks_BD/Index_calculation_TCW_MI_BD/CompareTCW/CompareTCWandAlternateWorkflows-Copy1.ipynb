{
 "cells": [
  {
   "cell_type": "markdown",
   "metadata": {},
   "source": [
    "# Compare TCW rasters with alternate method from CEWO\n"
   ]
  },
  {
   "cell_type": "markdown",
   "metadata": {},
   "source": [
    "**What does this notebook do?**\n",
    "\n",
    "**Required inputs**\n",
    "* geotiffs of thresholded TCW extents\n",
    "* geotiff of \"off-river storages\" identifed by cewo\n",
    "* geotiff of cewo-identified extents\n",
    "\n",
    "**Date** July 2018\n",
    "\n",
    "**Authors** Claire Krause, Bex Dunn"
   ]
  },
  {
   "cell_type": "markdown",
   "metadata": {},
   "source": [
    "Import some useful modules"
   ]
  },
  {
   "cell_type": "code",
   "execution_count": 70,
   "metadata": {
    "ExecuteTime": {
     "end_time": "2018-07-26T07:25:22.686144Z",
     "start_time": "2018-07-26T07:25:22.649540Z"
    }
   },
   "outputs": [
    {
     "name": "stdout",
     "output_type": "stream",
     "text": [
      "Populating the interactive namespace from numpy and matplotlib\n"
     ]
    }
   ],
   "source": [
    "%pylab notebook\n",
    "import xarray as xr\n",
    "import matplotlib.pyplot as plt\n",
    "#from datacube.storage import masking\n",
    "import os\n",
    "sys.path.append(os.path.expanduser('~/dea-notebooks/Scripts/'))\n",
    "import SpatialTools\n",
    "import pandas as pd"
   ]
  },
  {
   "cell_type": "markdown",
   "metadata": {},
   "source": [
    "## Choose tiff files for input and load in using rasterio"
   ]
  },
  {
   "cell_type": "markdown",
   "metadata": {},
   "source": [
    "thresholds are our chosen thresholds for the TCW; these need to match the filenames, and are not set here."
   ]
  },
  {
   "cell_type": "code",
   "execution_count": 42,
   "metadata": {
    "ExecuteTime": {
     "end_time": "2018-07-26T07:05:00.046505Z",
     "start_time": "2018-07-26T07:05:00.039658Z"
    }
   },
   "outputs": [],
   "source": [
    "thresholds = ['-0','-100','-200','-300','-400','-500','-600']"
   ]
  },
  {
   "cell_type": "code",
   "execution_count": 8,
   "metadata": {
    "ExecuteTime": {
     "end_time": "2018-07-26T06:07:15.683577Z",
     "start_time": "2018-07-26T06:07:15.679495Z"
    }
   },
   "outputs": [],
   "source": [
    "#make a list of the files corresponding to our set thresholds\n",
    "thresholdFiles =[]\n",
    "for i in range(0, len(thresholds)):\n",
    "    thresholdFiles.append('/g/data/r78/rjd547/Macquarie_Marsh/bexnessresults/thresholded_wetness/clipped/t{0}_Mac_14_-35_20160627__20160629_clipped.tif'.format(thresholds[i]))"
   ]
  },
  {
   "cell_type": "markdown",
   "metadata": {},
   "source": [
    "cewo file is the file with cewo's scene of the extent of inundation"
   ]
  },
  {
   "cell_type": "code",
   "execution_count": 11,
   "metadata": {
    "ExecuteTime": {
     "end_time": "2018-07-26T06:07:19.721447Z",
     "start_time": "2018-07-26T06:07:19.717416Z"
    }
   },
   "outputs": [],
   "source": [
    "#cewoFile = '/g/data/r78/rjd547/Macquarie_Marsh/bexnessresults/thresholded_wetness/clipped/no_storages/cewo_20160628_extents2_newres.tif'"
   ]
  },
  {
   "cell_type": "markdown",
   "metadata": {},
   "source": [
    "cewo comparison file is necessary as we've clipped it to the same extents"
   ]
  },
  {
   "cell_type": "code",
   "execution_count": 12,
   "metadata": {
    "ExecuteTime": {
     "end_time": "2018-07-26T06:07:21.126349Z",
     "start_time": "2018-07-26T06:07:21.119939Z"
    }
   },
   "outputs": [],
   "source": [
    "cewo_compFile = '/g/data/r78/rjd547/Macquarie_Marsh/bexnessresults/thresholded_wetness/clipped/no_storages/cewo_20160628_tileandclip.tif'"
   ]
  },
  {
   "cell_type": "code",
   "execution_count": null,
   "metadata": {},
   "outputs": [],
   "source": []
  },
  {
   "cell_type": "markdown",
   "metadata": {},
   "source": [
    "## Load in the threshold, off-river storage and extent geotiffs"
   ]
  },
  {
   "cell_type": "code",
   "execution_count": 13,
   "metadata": {
    "ExecuteTime": {
     "end_time": "2018-07-26T06:07:34.791864Z",
     "start_time": "2018-07-26T06:07:34.521084Z"
    }
   },
   "outputs": [],
   "source": [
    "# Open the GeoTIFFs using rasterio\n",
    "cewoData = xr.open_rasterio(cewoFile) #extents file\n",
    "ThresholdData = xr.open_rasterio(thresholdFiles[0]) #thresholded TCW\n",
    "#offriverData = xr.open_rasterio(offriverFile) #offriverstorages only\n",
    "cewo_comp = xr.open_rasterio(cewo_compFile)"
   ]
  },
  {
   "cell_type": "code",
   "execution_count": 14,
   "metadata": {
    "ExecuteTime": {
     "end_time": "2018-07-26T06:07:38.454579Z",
     "start_time": "2018-07-26T06:07:35.408310Z"
    }
   },
   "outputs": [
    {
     "data": {
      "application/javascript": [
       "/* Put everything inside the global mpl namespace */\n",
       "window.mpl = {};\n",
       "\n",
       "\n",
       "mpl.get_websocket_type = function() {\n",
       "    if (typeof(WebSocket) !== 'undefined') {\n",
       "        return WebSocket;\n",
       "    } else if (typeof(MozWebSocket) !== 'undefined') {\n",
       "        return MozWebSocket;\n",
       "    } else {\n",
       "        alert('Your browser does not have WebSocket support.' +\n",
       "              'Please try Chrome, Safari or Firefox ≥ 6. ' +\n",
       "              'Firefox 4 and 5 are also supported but you ' +\n",
       "              'have to enable WebSockets in about:config.');\n",
       "    };\n",
       "}\n",
       "\n",
       "mpl.figure = function(figure_id, websocket, ondownload, parent_element) {\n",
       "    this.id = figure_id;\n",
       "\n",
       "    this.ws = websocket;\n",
       "\n",
       "    this.supports_binary = (this.ws.binaryType != undefined);\n",
       "\n",
       "    if (!this.supports_binary) {\n",
       "        var warnings = document.getElementById(\"mpl-warnings\");\n",
       "        if (warnings) {\n",
       "            warnings.style.display = 'block';\n",
       "            warnings.textContent = (\n",
       "                \"This browser does not support binary websocket messages. \" +\n",
       "                    \"Performance may be slow.\");\n",
       "        }\n",
       "    }\n",
       "\n",
       "    this.imageObj = new Image();\n",
       "\n",
       "    this.context = undefined;\n",
       "    this.message = undefined;\n",
       "    this.canvas = undefined;\n",
       "    this.rubberband_canvas = undefined;\n",
       "    this.rubberband_context = undefined;\n",
       "    this.format_dropdown = undefined;\n",
       "\n",
       "    this.image_mode = 'full';\n",
       "\n",
       "    this.root = $('<div/>');\n",
       "    this._root_extra_style(this.root)\n",
       "    this.root.attr('style', 'display: inline-block');\n",
       "\n",
       "    $(parent_element).append(this.root);\n",
       "\n",
       "    this._init_header(this);\n",
       "    this._init_canvas(this);\n",
       "    this._init_toolbar(this);\n",
       "\n",
       "    var fig = this;\n",
       "\n",
       "    this.waiting = false;\n",
       "\n",
       "    this.ws.onopen =  function () {\n",
       "            fig.send_message(\"supports_binary\", {value: fig.supports_binary});\n",
       "            fig.send_message(\"send_image_mode\", {});\n",
       "            if (mpl.ratio != 1) {\n",
       "                fig.send_message(\"set_dpi_ratio\", {'dpi_ratio': mpl.ratio});\n",
       "            }\n",
       "            fig.send_message(\"refresh\", {});\n",
       "        }\n",
       "\n",
       "    this.imageObj.onload = function() {\n",
       "            if (fig.image_mode == 'full') {\n",
       "                // Full images could contain transparency (where diff images\n",
       "                // almost always do), so we need to clear the canvas so that\n",
       "                // there is no ghosting.\n",
       "                fig.context.clearRect(0, 0, fig.canvas.width, fig.canvas.height);\n",
       "            }\n",
       "            fig.context.drawImage(fig.imageObj, 0, 0);\n",
       "        };\n",
       "\n",
       "    this.imageObj.onunload = function() {\n",
       "        fig.ws.close();\n",
       "    }\n",
       "\n",
       "    this.ws.onmessage = this._make_on_message_function(this);\n",
       "\n",
       "    this.ondownload = ondownload;\n",
       "}\n",
       "\n",
       "mpl.figure.prototype._init_header = function() {\n",
       "    var titlebar = $(\n",
       "        '<div class=\"ui-dialog-titlebar ui-widget-header ui-corner-all ' +\n",
       "        'ui-helper-clearfix\"/>');\n",
       "    var titletext = $(\n",
       "        '<div class=\"ui-dialog-title\" style=\"width: 100%; ' +\n",
       "        'text-align: center; padding: 3px;\"/>');\n",
       "    titlebar.append(titletext)\n",
       "    this.root.append(titlebar);\n",
       "    this.header = titletext[0];\n",
       "}\n",
       "\n",
       "\n",
       "\n",
       "mpl.figure.prototype._canvas_extra_style = function(canvas_div) {\n",
       "\n",
       "}\n",
       "\n",
       "\n",
       "mpl.figure.prototype._root_extra_style = function(canvas_div) {\n",
       "\n",
       "}\n",
       "\n",
       "mpl.figure.prototype._init_canvas = function() {\n",
       "    var fig = this;\n",
       "\n",
       "    var canvas_div = $('<div/>');\n",
       "\n",
       "    canvas_div.attr('style', 'position: relative; clear: both; outline: 0');\n",
       "\n",
       "    function canvas_keyboard_event(event) {\n",
       "        return fig.key_event(event, event['data']);\n",
       "    }\n",
       "\n",
       "    canvas_div.keydown('key_press', canvas_keyboard_event);\n",
       "    canvas_div.keyup('key_release', canvas_keyboard_event);\n",
       "    this.canvas_div = canvas_div\n",
       "    this._canvas_extra_style(canvas_div)\n",
       "    this.root.append(canvas_div);\n",
       "\n",
       "    var canvas = $('<canvas/>');\n",
       "    canvas.addClass('mpl-canvas');\n",
       "    canvas.attr('style', \"left: 0; top: 0; z-index: 0; outline: 0\")\n",
       "\n",
       "    this.canvas = canvas[0];\n",
       "    this.context = canvas[0].getContext(\"2d\");\n",
       "\n",
       "    var backingStore = this.context.backingStorePixelRatio ||\n",
       "\tthis.context.webkitBackingStorePixelRatio ||\n",
       "\tthis.context.mozBackingStorePixelRatio ||\n",
       "\tthis.context.msBackingStorePixelRatio ||\n",
       "\tthis.context.oBackingStorePixelRatio ||\n",
       "\tthis.context.backingStorePixelRatio || 1;\n",
       "\n",
       "    mpl.ratio = (window.devicePixelRatio || 1) / backingStore;\n",
       "\n",
       "    var rubberband = $('<canvas/>');\n",
       "    rubberband.attr('style', \"position: absolute; left: 0; top: 0; z-index: 1;\")\n",
       "\n",
       "    var pass_mouse_events = true;\n",
       "\n",
       "    canvas_div.resizable({\n",
       "        start: function(event, ui) {\n",
       "            pass_mouse_events = false;\n",
       "        },\n",
       "        resize: function(event, ui) {\n",
       "            fig.request_resize(ui.size.width, ui.size.height);\n",
       "        },\n",
       "        stop: function(event, ui) {\n",
       "            pass_mouse_events = true;\n",
       "            fig.request_resize(ui.size.width, ui.size.height);\n",
       "        },\n",
       "    });\n",
       "\n",
       "    function mouse_event_fn(event) {\n",
       "        if (pass_mouse_events)\n",
       "            return fig.mouse_event(event, event['data']);\n",
       "    }\n",
       "\n",
       "    rubberband.mousedown('button_press', mouse_event_fn);\n",
       "    rubberband.mouseup('button_release', mouse_event_fn);\n",
       "    // Throttle sequential mouse events to 1 every 20ms.\n",
       "    rubberband.mousemove('motion_notify', mouse_event_fn);\n",
       "\n",
       "    rubberband.mouseenter('figure_enter', mouse_event_fn);\n",
       "    rubberband.mouseleave('figure_leave', mouse_event_fn);\n",
       "\n",
       "    canvas_div.on(\"wheel\", function (event) {\n",
       "        event = event.originalEvent;\n",
       "        event['data'] = 'scroll'\n",
       "        if (event.deltaY < 0) {\n",
       "            event.step = 1;\n",
       "        } else {\n",
       "            event.step = -1;\n",
       "        }\n",
       "        mouse_event_fn(event);\n",
       "    });\n",
       "\n",
       "    canvas_div.append(canvas);\n",
       "    canvas_div.append(rubberband);\n",
       "\n",
       "    this.rubberband = rubberband;\n",
       "    this.rubberband_canvas = rubberband[0];\n",
       "    this.rubberband_context = rubberband[0].getContext(\"2d\");\n",
       "    this.rubberband_context.strokeStyle = \"#000000\";\n",
       "\n",
       "    this._resize_canvas = function(width, height) {\n",
       "        // Keep the size of the canvas, canvas container, and rubber band\n",
       "        // canvas in synch.\n",
       "        canvas_div.css('width', width)\n",
       "        canvas_div.css('height', height)\n",
       "\n",
       "        canvas.attr('width', width * mpl.ratio);\n",
       "        canvas.attr('height', height * mpl.ratio);\n",
       "        canvas.attr('style', 'width: ' + width + 'px; height: ' + height + 'px;');\n",
       "\n",
       "        rubberband.attr('width', width);\n",
       "        rubberband.attr('height', height);\n",
       "    }\n",
       "\n",
       "    // Set the figure to an initial 600x600px, this will subsequently be updated\n",
       "    // upon first draw.\n",
       "    this._resize_canvas(600, 600);\n",
       "\n",
       "    // Disable right mouse context menu.\n",
       "    $(this.rubberband_canvas).bind(\"contextmenu\",function(e){\n",
       "        return false;\n",
       "    });\n",
       "\n",
       "    function set_focus () {\n",
       "        canvas.focus();\n",
       "        canvas_div.focus();\n",
       "    }\n",
       "\n",
       "    window.setTimeout(set_focus, 100);\n",
       "}\n",
       "\n",
       "mpl.figure.prototype._init_toolbar = function() {\n",
       "    var fig = this;\n",
       "\n",
       "    var nav_element = $('<div/>')\n",
       "    nav_element.attr('style', 'width: 100%');\n",
       "    this.root.append(nav_element);\n",
       "\n",
       "    // Define a callback function for later on.\n",
       "    function toolbar_event(event) {\n",
       "        return fig.toolbar_button_onclick(event['data']);\n",
       "    }\n",
       "    function toolbar_mouse_event(event) {\n",
       "        return fig.toolbar_button_onmouseover(event['data']);\n",
       "    }\n",
       "\n",
       "    for(var toolbar_ind in mpl.toolbar_items) {\n",
       "        var name = mpl.toolbar_items[toolbar_ind][0];\n",
       "        var tooltip = mpl.toolbar_items[toolbar_ind][1];\n",
       "        var image = mpl.toolbar_items[toolbar_ind][2];\n",
       "        var method_name = mpl.toolbar_items[toolbar_ind][3];\n",
       "\n",
       "        if (!name) {\n",
       "            // put a spacer in here.\n",
       "            continue;\n",
       "        }\n",
       "        var button = $('<button/>');\n",
       "        button.addClass('ui-button ui-widget ui-state-default ui-corner-all ' +\n",
       "                        'ui-button-icon-only');\n",
       "        button.attr('role', 'button');\n",
       "        button.attr('aria-disabled', 'false');\n",
       "        button.click(method_name, toolbar_event);\n",
       "        button.mouseover(tooltip, toolbar_mouse_event);\n",
       "\n",
       "        var icon_img = $('<span/>');\n",
       "        icon_img.addClass('ui-button-icon-primary ui-icon');\n",
       "        icon_img.addClass(image);\n",
       "        icon_img.addClass('ui-corner-all');\n",
       "\n",
       "        var tooltip_span = $('<span/>');\n",
       "        tooltip_span.addClass('ui-button-text');\n",
       "        tooltip_span.html(tooltip);\n",
       "\n",
       "        button.append(icon_img);\n",
       "        button.append(tooltip_span);\n",
       "\n",
       "        nav_element.append(button);\n",
       "    }\n",
       "\n",
       "    var fmt_picker_span = $('<span/>');\n",
       "\n",
       "    var fmt_picker = $('<select/>');\n",
       "    fmt_picker.addClass('mpl-toolbar-option ui-widget ui-widget-content');\n",
       "    fmt_picker_span.append(fmt_picker);\n",
       "    nav_element.append(fmt_picker_span);\n",
       "    this.format_dropdown = fmt_picker[0];\n",
       "\n",
       "    for (var ind in mpl.extensions) {\n",
       "        var fmt = mpl.extensions[ind];\n",
       "        var option = $(\n",
       "            '<option/>', {selected: fmt === mpl.default_extension}).html(fmt);\n",
       "        fmt_picker.append(option)\n",
       "    }\n",
       "\n",
       "    // Add hover states to the ui-buttons\n",
       "    $( \".ui-button\" ).hover(\n",
       "        function() { $(this).addClass(\"ui-state-hover\");},\n",
       "        function() { $(this).removeClass(\"ui-state-hover\");}\n",
       "    );\n",
       "\n",
       "    var status_bar = $('<span class=\"mpl-message\"/>');\n",
       "    nav_element.append(status_bar);\n",
       "    this.message = status_bar[0];\n",
       "}\n",
       "\n",
       "mpl.figure.prototype.request_resize = function(x_pixels, y_pixels) {\n",
       "    // Request matplotlib to resize the figure. Matplotlib will then trigger a resize in the client,\n",
       "    // which will in turn request a refresh of the image.\n",
       "    this.send_message('resize', {'width': x_pixels, 'height': y_pixels});\n",
       "}\n",
       "\n",
       "mpl.figure.prototype.send_message = function(type, properties) {\n",
       "    properties['type'] = type;\n",
       "    properties['figure_id'] = this.id;\n",
       "    this.ws.send(JSON.stringify(properties));\n",
       "}\n",
       "\n",
       "mpl.figure.prototype.send_draw_message = function() {\n",
       "    if (!this.waiting) {\n",
       "        this.waiting = true;\n",
       "        this.ws.send(JSON.stringify({type: \"draw\", figure_id: this.id}));\n",
       "    }\n",
       "}\n",
       "\n",
       "\n",
       "mpl.figure.prototype.handle_save = function(fig, msg) {\n",
       "    var format_dropdown = fig.format_dropdown;\n",
       "    var format = format_dropdown.options[format_dropdown.selectedIndex].value;\n",
       "    fig.ondownload(fig, format);\n",
       "}\n",
       "\n",
       "\n",
       "mpl.figure.prototype.handle_resize = function(fig, msg) {\n",
       "    var size = msg['size'];\n",
       "    if (size[0] != fig.canvas.width || size[1] != fig.canvas.height) {\n",
       "        fig._resize_canvas(size[0], size[1]);\n",
       "        fig.send_message(\"refresh\", {});\n",
       "    };\n",
       "}\n",
       "\n",
       "mpl.figure.prototype.handle_rubberband = function(fig, msg) {\n",
       "    var x0 = msg['x0'] / mpl.ratio;\n",
       "    var y0 = (fig.canvas.height - msg['y0']) / mpl.ratio;\n",
       "    var x1 = msg['x1'] / mpl.ratio;\n",
       "    var y1 = (fig.canvas.height - msg['y1']) / mpl.ratio;\n",
       "    x0 = Math.floor(x0) + 0.5;\n",
       "    y0 = Math.floor(y0) + 0.5;\n",
       "    x1 = Math.floor(x1) + 0.5;\n",
       "    y1 = Math.floor(y1) + 0.5;\n",
       "    var min_x = Math.min(x0, x1);\n",
       "    var min_y = Math.min(y0, y1);\n",
       "    var width = Math.abs(x1 - x0);\n",
       "    var height = Math.abs(y1 - y0);\n",
       "\n",
       "    fig.rubberband_context.clearRect(\n",
       "        0, 0, fig.canvas.width, fig.canvas.height);\n",
       "\n",
       "    fig.rubberband_context.strokeRect(min_x, min_y, width, height);\n",
       "}\n",
       "\n",
       "mpl.figure.prototype.handle_figure_label = function(fig, msg) {\n",
       "    // Updates the figure title.\n",
       "    fig.header.textContent = msg['label'];\n",
       "}\n",
       "\n",
       "mpl.figure.prototype.handle_cursor = function(fig, msg) {\n",
       "    var cursor = msg['cursor'];\n",
       "    switch(cursor)\n",
       "    {\n",
       "    case 0:\n",
       "        cursor = 'pointer';\n",
       "        break;\n",
       "    case 1:\n",
       "        cursor = 'default';\n",
       "        break;\n",
       "    case 2:\n",
       "        cursor = 'crosshair';\n",
       "        break;\n",
       "    case 3:\n",
       "        cursor = 'move';\n",
       "        break;\n",
       "    }\n",
       "    fig.rubberband_canvas.style.cursor = cursor;\n",
       "}\n",
       "\n",
       "mpl.figure.prototype.handle_message = function(fig, msg) {\n",
       "    fig.message.textContent = msg['message'];\n",
       "}\n",
       "\n",
       "mpl.figure.prototype.handle_draw = function(fig, msg) {\n",
       "    // Request the server to send over a new figure.\n",
       "    fig.send_draw_message();\n",
       "}\n",
       "\n",
       "mpl.figure.prototype.handle_image_mode = function(fig, msg) {\n",
       "    fig.image_mode = msg['mode'];\n",
       "}\n",
       "\n",
       "mpl.figure.prototype.updated_canvas_event = function() {\n",
       "    // Called whenever the canvas gets updated.\n",
       "    this.send_message(\"ack\", {});\n",
       "}\n",
       "\n",
       "// A function to construct a web socket function for onmessage handling.\n",
       "// Called in the figure constructor.\n",
       "mpl.figure.prototype._make_on_message_function = function(fig) {\n",
       "    return function socket_on_message(evt) {\n",
       "        if (evt.data instanceof Blob) {\n",
       "            /* FIXME: We get \"Resource interpreted as Image but\n",
       "             * transferred with MIME type text/plain:\" errors on\n",
       "             * Chrome.  But how to set the MIME type?  It doesn't seem\n",
       "             * to be part of the websocket stream */\n",
       "            evt.data.type = \"image/png\";\n",
       "\n",
       "            /* Free the memory for the previous frames */\n",
       "            if (fig.imageObj.src) {\n",
       "                (window.URL || window.webkitURL).revokeObjectURL(\n",
       "                    fig.imageObj.src);\n",
       "            }\n",
       "\n",
       "            fig.imageObj.src = (window.URL || window.webkitURL).createObjectURL(\n",
       "                evt.data);\n",
       "            fig.updated_canvas_event();\n",
       "            fig.waiting = false;\n",
       "            return;\n",
       "        }\n",
       "        else if (typeof evt.data === 'string' && evt.data.slice(0, 21) == \"data:image/png;base64\") {\n",
       "            fig.imageObj.src = evt.data;\n",
       "            fig.updated_canvas_event();\n",
       "            fig.waiting = false;\n",
       "            return;\n",
       "        }\n",
       "\n",
       "        var msg = JSON.parse(evt.data);\n",
       "        var msg_type = msg['type'];\n",
       "\n",
       "        // Call the  \"handle_{type}\" callback, which takes\n",
       "        // the figure and JSON message as its only arguments.\n",
       "        try {\n",
       "            var callback = fig[\"handle_\" + msg_type];\n",
       "        } catch (e) {\n",
       "            console.log(\"No handler for the '\" + msg_type + \"' message type: \", msg);\n",
       "            return;\n",
       "        }\n",
       "\n",
       "        if (callback) {\n",
       "            try {\n",
       "                // console.log(\"Handling '\" + msg_type + \"' message: \", msg);\n",
       "                callback(fig, msg);\n",
       "            } catch (e) {\n",
       "                console.log(\"Exception inside the 'handler_\" + msg_type + \"' callback:\", e, e.stack, msg);\n",
       "            }\n",
       "        }\n",
       "    };\n",
       "}\n",
       "\n",
       "// from http://stackoverflow.com/questions/1114465/getting-mouse-location-in-canvas\n",
       "mpl.findpos = function(e) {\n",
       "    //this section is from http://www.quirksmode.org/js/events_properties.html\n",
       "    var targ;\n",
       "    if (!e)\n",
       "        e = window.event;\n",
       "    if (e.target)\n",
       "        targ = e.target;\n",
       "    else if (e.srcElement)\n",
       "        targ = e.srcElement;\n",
       "    if (targ.nodeType == 3) // defeat Safari bug\n",
       "        targ = targ.parentNode;\n",
       "\n",
       "    // jQuery normalizes the pageX and pageY\n",
       "    // pageX,Y are the mouse positions relative to the document\n",
       "    // offset() returns the position of the element relative to the document\n",
       "    var x = e.pageX - $(targ).offset().left;\n",
       "    var y = e.pageY - $(targ).offset().top;\n",
       "\n",
       "    return {\"x\": x, \"y\": y};\n",
       "};\n",
       "\n",
       "/*\n",
       " * return a copy of an object with only non-object keys\n",
       " * we need this to avoid circular references\n",
       " * http://stackoverflow.com/a/24161582/3208463\n",
       " */\n",
       "function simpleKeys (original) {\n",
       "  return Object.keys(original).reduce(function (obj, key) {\n",
       "    if (typeof original[key] !== 'object')\n",
       "        obj[key] = original[key]\n",
       "    return obj;\n",
       "  }, {});\n",
       "}\n",
       "\n",
       "mpl.figure.prototype.mouse_event = function(event, name) {\n",
       "    var canvas_pos = mpl.findpos(event)\n",
       "\n",
       "    if (name === 'button_press')\n",
       "    {\n",
       "        this.canvas.focus();\n",
       "        this.canvas_div.focus();\n",
       "    }\n",
       "\n",
       "    var x = canvas_pos.x * mpl.ratio;\n",
       "    var y = canvas_pos.y * mpl.ratio;\n",
       "\n",
       "    this.send_message(name, {x: x, y: y, button: event.button,\n",
       "                             step: event.step,\n",
       "                             guiEvent: simpleKeys(event)});\n",
       "\n",
       "    /* This prevents the web browser from automatically changing to\n",
       "     * the text insertion cursor when the button is pressed.  We want\n",
       "     * to control all of the cursor setting manually through the\n",
       "     * 'cursor' event from matplotlib */\n",
       "    event.preventDefault();\n",
       "    return false;\n",
       "}\n",
       "\n",
       "mpl.figure.prototype._key_event_extra = function(event, name) {\n",
       "    // Handle any extra behaviour associated with a key event\n",
       "}\n",
       "\n",
       "mpl.figure.prototype.key_event = function(event, name) {\n",
       "\n",
       "    // Prevent repeat events\n",
       "    if (name == 'key_press')\n",
       "    {\n",
       "        if (event.which === this._key)\n",
       "            return;\n",
       "        else\n",
       "            this._key = event.which;\n",
       "    }\n",
       "    if (name == 'key_release')\n",
       "        this._key = null;\n",
       "\n",
       "    var value = '';\n",
       "    if (event.ctrlKey && event.which != 17)\n",
       "        value += \"ctrl+\";\n",
       "    if (event.altKey && event.which != 18)\n",
       "        value += \"alt+\";\n",
       "    if (event.shiftKey && event.which != 16)\n",
       "        value += \"shift+\";\n",
       "\n",
       "    value += 'k';\n",
       "    value += event.which.toString();\n",
       "\n",
       "    this._key_event_extra(event, name);\n",
       "\n",
       "    this.send_message(name, {key: value,\n",
       "                             guiEvent: simpleKeys(event)});\n",
       "    return false;\n",
       "}\n",
       "\n",
       "mpl.figure.prototype.toolbar_button_onclick = function(name) {\n",
       "    if (name == 'download') {\n",
       "        this.handle_save(this, null);\n",
       "    } else {\n",
       "        this.send_message(\"toolbar_button\", {name: name});\n",
       "    }\n",
       "};\n",
       "\n",
       "mpl.figure.prototype.toolbar_button_onmouseover = function(tooltip) {\n",
       "    this.message.textContent = tooltip;\n",
       "};\n",
       "mpl.toolbar_items = [[\"Home\", \"Reset original view\", \"fa fa-home icon-home\", \"home\"], [\"Back\", \"Back to  previous view\", \"fa fa-arrow-left icon-arrow-left\", \"back\"], [\"Forward\", \"Forward to next view\", \"fa fa-arrow-right icon-arrow-right\", \"forward\"], [\"\", \"\", \"\", \"\"], [\"Pan\", \"Pan axes with left mouse, zoom with right\", \"fa fa-arrows icon-move\", \"pan\"], [\"Zoom\", \"Zoom to rectangle\", \"fa fa-square-o icon-check-empty\", \"zoom\"], [\"\", \"\", \"\", \"\"], [\"Download\", \"Download plot\", \"fa fa-floppy-o icon-save\", \"download\"]];\n",
       "\n",
       "mpl.extensions = [\"eps\", \"jpeg\", \"pdf\", \"png\", \"ps\", \"raw\", \"svg\", \"tif\"];\n",
       "\n",
       "mpl.default_extension = \"png\";var comm_websocket_adapter = function(comm) {\n",
       "    // Create a \"websocket\"-like object which calls the given IPython comm\n",
       "    // object with the appropriate methods. Currently this is a non binary\n",
       "    // socket, so there is still some room for performance tuning.\n",
       "    var ws = {};\n",
       "\n",
       "    ws.close = function() {\n",
       "        comm.close()\n",
       "    };\n",
       "    ws.send = function(m) {\n",
       "        //console.log('sending', m);\n",
       "        comm.send(m);\n",
       "    };\n",
       "    // Register the callback with on_msg.\n",
       "    comm.on_msg(function(msg) {\n",
       "        //console.log('receiving', msg['content']['data'], msg);\n",
       "        // Pass the mpl event to the overridden (by mpl) onmessage function.\n",
       "        ws.onmessage(msg['content']['data'])\n",
       "    });\n",
       "    return ws;\n",
       "}\n",
       "\n",
       "mpl.mpl_figure_comm = function(comm, msg) {\n",
       "    // This is the function which gets called when the mpl process\n",
       "    // starts-up an IPython Comm through the \"matplotlib\" channel.\n",
       "\n",
       "    var id = msg.content.data.id;\n",
       "    // Get hold of the div created by the display call when the Comm\n",
       "    // socket was opened in Python.\n",
       "    var element = $(\"#\" + id);\n",
       "    var ws_proxy = comm_websocket_adapter(comm)\n",
       "\n",
       "    function ondownload(figure, format) {\n",
       "        window.open(figure.imageObj.src);\n",
       "    }\n",
       "\n",
       "    var fig = new mpl.figure(id, ws_proxy,\n",
       "                           ondownload,\n",
       "                           element.get(0));\n",
       "\n",
       "    // Call onopen now - mpl needs it, as it is assuming we've passed it a real\n",
       "    // web socket which is closed, not our websocket->open comm proxy.\n",
       "    ws_proxy.onopen();\n",
       "\n",
       "    fig.parent_element = element.get(0);\n",
       "    fig.cell_info = mpl.find_output_cell(\"<div id='\" + id + \"'></div>\");\n",
       "    if (!fig.cell_info) {\n",
       "        console.error(\"Failed to find cell for figure\", id, fig);\n",
       "        return;\n",
       "    }\n",
       "\n",
       "    var output_index = fig.cell_info[2]\n",
       "    var cell = fig.cell_info[0];\n",
       "\n",
       "};\n",
       "\n",
       "mpl.figure.prototype.handle_close = function(fig, msg) {\n",
       "    var width = fig.canvas.width/mpl.ratio\n",
       "    fig.root.unbind('remove')\n",
       "\n",
       "    // Update the output cell to use the data from the current canvas.\n",
       "    fig.push_to_output();\n",
       "    var dataURL = fig.canvas.toDataURL();\n",
       "    // Re-enable the keyboard manager in IPython - without this line, in FF,\n",
       "    // the notebook keyboard shortcuts fail.\n",
       "    IPython.keyboard_manager.enable()\n",
       "    $(fig.parent_element).html('<img src=\"' + dataURL + '\" width=\"' + width + '\">');\n",
       "    fig.close_ws(fig, msg);\n",
       "}\n",
       "\n",
       "mpl.figure.prototype.close_ws = function(fig, msg){\n",
       "    fig.send_message('closing', msg);\n",
       "    // fig.ws.close()\n",
       "}\n",
       "\n",
       "mpl.figure.prototype.push_to_output = function(remove_interactive) {\n",
       "    // Turn the data on the canvas into data in the output cell.\n",
       "    var width = this.canvas.width/mpl.ratio\n",
       "    var dataURL = this.canvas.toDataURL();\n",
       "    this.cell_info[1]['text/html'] = '<img src=\"' + dataURL + '\" width=\"' + width + '\">';\n",
       "}\n",
       "\n",
       "mpl.figure.prototype.updated_canvas_event = function() {\n",
       "    // Tell IPython that the notebook contents must change.\n",
       "    IPython.notebook.set_dirty(true);\n",
       "    this.send_message(\"ack\", {});\n",
       "    var fig = this;\n",
       "    // Wait a second, then push the new image to the DOM so\n",
       "    // that it is saved nicely (might be nice to debounce this).\n",
       "    setTimeout(function () { fig.push_to_output() }, 1000);\n",
       "}\n",
       "\n",
       "mpl.figure.prototype._init_toolbar = function() {\n",
       "    var fig = this;\n",
       "\n",
       "    var nav_element = $('<div/>')\n",
       "    nav_element.attr('style', 'width: 100%');\n",
       "    this.root.append(nav_element);\n",
       "\n",
       "    // Define a callback function for later on.\n",
       "    function toolbar_event(event) {\n",
       "        return fig.toolbar_button_onclick(event['data']);\n",
       "    }\n",
       "    function toolbar_mouse_event(event) {\n",
       "        return fig.toolbar_button_onmouseover(event['data']);\n",
       "    }\n",
       "\n",
       "    for(var toolbar_ind in mpl.toolbar_items){\n",
       "        var name = mpl.toolbar_items[toolbar_ind][0];\n",
       "        var tooltip = mpl.toolbar_items[toolbar_ind][1];\n",
       "        var image = mpl.toolbar_items[toolbar_ind][2];\n",
       "        var method_name = mpl.toolbar_items[toolbar_ind][3];\n",
       "\n",
       "        if (!name) { continue; };\n",
       "\n",
       "        var button = $('<button class=\"btn btn-default\" href=\"#\" title=\"' + name + '\"><i class=\"fa ' + image + ' fa-lg\"></i></button>');\n",
       "        button.click(method_name, toolbar_event);\n",
       "        button.mouseover(tooltip, toolbar_mouse_event);\n",
       "        nav_element.append(button);\n",
       "    }\n",
       "\n",
       "    // Add the status bar.\n",
       "    var status_bar = $('<span class=\"mpl-message\" style=\"text-align:right; float: right;\"/>');\n",
       "    nav_element.append(status_bar);\n",
       "    this.message = status_bar[0];\n",
       "\n",
       "    // Add the close button to the window.\n",
       "    var buttongrp = $('<div class=\"btn-group inline pull-right\"></div>');\n",
       "    var button = $('<button class=\"btn btn-mini btn-primary\" href=\"#\" title=\"Stop Interaction\"><i class=\"fa fa-power-off icon-remove icon-large\"></i></button>');\n",
       "    button.click(function (evt) { fig.handle_close(fig, {}); } );\n",
       "    button.mouseover('Stop Interaction', toolbar_mouse_event);\n",
       "    buttongrp.append(button);\n",
       "    var titlebar = this.root.find($('.ui-dialog-titlebar'));\n",
       "    titlebar.prepend(buttongrp);\n",
       "}\n",
       "\n",
       "mpl.figure.prototype._root_extra_style = function(el){\n",
       "    var fig = this\n",
       "    el.on(\"remove\", function(){\n",
       "\tfig.close_ws(fig, {});\n",
       "    });\n",
       "}\n",
       "\n",
       "mpl.figure.prototype._canvas_extra_style = function(el){\n",
       "    // this is important to make the div 'focusable\n",
       "    el.attr('tabindex', 0)\n",
       "    // reach out to IPython and tell the keyboard manager to turn it's self\n",
       "    // off when our div gets focus\n",
       "\n",
       "    // location in version 3\n",
       "    if (IPython.notebook.keyboard_manager) {\n",
       "        IPython.notebook.keyboard_manager.register_events(el);\n",
       "    }\n",
       "    else {\n",
       "        // location in version 2\n",
       "        IPython.keyboard_manager.register_events(el);\n",
       "    }\n",
       "\n",
       "}\n",
       "\n",
       "mpl.figure.prototype._key_event_extra = function(event, name) {\n",
       "    var manager = IPython.notebook.keyboard_manager;\n",
       "    if (!manager)\n",
       "        manager = IPython.keyboard_manager;\n",
       "\n",
       "    // Check for shift+enter\n",
       "    if (event.shiftKey && event.which == 13) {\n",
       "        this.canvas_div.blur();\n",
       "        event.shiftKey = false;\n",
       "        // Send a \"J\" for go to next cell\n",
       "        event.which = 74;\n",
       "        event.keyCode = 74;\n",
       "        manager.command_mode();\n",
       "        manager.handle_keydown(event);\n",
       "    }\n",
       "}\n",
       "\n",
       "mpl.figure.prototype.handle_save = function(fig, msg) {\n",
       "    fig.ondownload(fig, null);\n",
       "}\n",
       "\n",
       "\n",
       "mpl.find_output_cell = function(html_output) {\n",
       "    // Return the cell and output element which can be found *uniquely* in the notebook.\n",
       "    // Note - this is a bit hacky, but it is done because the \"notebook_saving.Notebook\"\n",
       "    // IPython event is triggered only after the cells have been serialised, which for\n",
       "    // our purposes (turning an active figure into a static one), is too late.\n",
       "    var cells = IPython.notebook.get_cells();\n",
       "    var ncells = cells.length;\n",
       "    for (var i=0; i<ncells; i++) {\n",
       "        var cell = cells[i];\n",
       "        if (cell.cell_type === 'code'){\n",
       "            for (var j=0; j<cell.output_area.outputs.length; j++) {\n",
       "                var data = cell.output_area.outputs[j];\n",
       "                if (data.data) {\n",
       "                    // IPython >= 3 moved mimebundle to data attribute of output\n",
       "                    data = data.data;\n",
       "                }\n",
       "                if (data['text/html'] == html_output) {\n",
       "                    return [cell, data, j];\n",
       "                }\n",
       "            }\n",
       "        }\n",
       "    }\n",
       "}\n",
       "\n",
       "// Register the function which deals with the matplotlib target/channel.\n",
       "// The kernel may be null if the page has been refreshed.\n",
       "if (IPython.notebook.kernel != null) {\n",
       "    IPython.notebook.kernel.comm_manager.register_target('matplotlib', mpl.mpl_figure_comm);\n",
       "}\n"
      ],
      "text/plain": [
       "<IPython.core.display.Javascript object>"
      ]
     },
     "metadata": {},
     "output_type": "display_data"
    },
    {
     "data": {
      "text/html": [
       "<img src=\"data:image/png;base64,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\" width=\"639.8333333333334\">"
      ],
      "text/plain": [
       "<IPython.core.display.HTML object>"
      ]
     },
     "metadata": {},
     "output_type": "display_data"
    }
   ],
   "source": [
    "plt.clf()\n",
    "cewo_comp.plot()\n",
    "ThresholdData.plot(cmap='magma')\n",
    "plt.show()"
   ]
  },
  {
   "cell_type": "code",
   "execution_count": 15,
   "metadata": {
    "ExecuteTime": {
     "end_time": "2018-07-26T06:07:55.593353Z",
     "start_time": "2018-07-26T06:07:55.575816Z"
    }
   },
   "outputs": [
    {
     "data": {
      "text/plain": [
       "<xarray.DataArray (band: 1, y: 6564, x: 2144)>\n",
       "[14073216 values with dtype=uint16]\n",
       "Coordinates:\n",
       "  * band     (band) int64 1\n",
       "  * y        (y) float64 -3.383e+06 -3.383e+06 -3.383e+06 -3.383e+06 ...\n",
       "  * x        (x) float64 1.438e+06 1.438e+06 1.438e+06 1.439e+06 1.439e+06 ...\n",
       "Attributes:\n",
       "    transform:   (25.0, 0.0, 1438421.001, 0.0, -25.0, -3382788.875, 0.0, 0.0,...\n",
       "    crs:         +init=epsg:3577\n",
       "    res:         (25.0, 25.0)\n",
       "    is_tiled:    0\n",
       "    nodatavals:  (65535.0,)"
      ]
     },
     "execution_count": 15,
     "metadata": {},
     "output_type": "execute_result"
    }
   ],
   "source": [
    "cewo_comp"
   ]
  },
  {
   "cell_type": "code",
   "execution_count": 16,
   "metadata": {
    "ExecuteTime": {
     "end_time": "2018-07-26T06:08:14.194166Z",
     "start_time": "2018-07-26T06:08:14.190488Z"
    }
   },
   "outputs": [],
   "source": [
    "# output = SpatialTools.reproject_to_template(cewo_compFile,thresholdFiles[0],'/g/data/r78/rjd547/Macquarie_Marsh/bexnessresults/thresholded_wetness/clipped/no_storages/cewo_20160628_test.tif')\n",
    "# output = None"
   ]
  },
  {
   "cell_type": "code",
   "execution_count": 17,
   "metadata": {
    "ExecuteTime": {
     "end_time": "2018-07-26T06:08:14.200708Z",
     "start_time": "2018-07-26T06:08:14.196849Z"
    }
   },
   "outputs": [],
   "source": [
    "test_fix = '/g/data/r78/rjd547/Macquarie_Marsh/bexnessresults/thresholded_wetness/clipped/cewo_20160628_extents_again.tif'"
   ]
  },
  {
   "cell_type": "code",
   "execution_count": 18,
   "metadata": {
    "ExecuteTime": {
     "end_time": "2018-07-26T06:08:25.544252Z",
     "start_time": "2018-07-26T06:08:25.532797Z"
    }
   },
   "outputs": [],
   "source": [
    "cewo_fix = xr.open_rasterio(test_fix)"
   ]
  },
  {
   "cell_type": "code",
   "execution_count": 19,
   "metadata": {
    "ExecuteTime": {
     "end_time": "2018-07-26T06:08:26.295055Z",
     "start_time": "2018-07-26T06:08:26.284101Z"
    }
   },
   "outputs": [
    {
     "data": {
      "text/plain": [
       "<xarray.DataArray (band: 1, y: 6564, x: 2144)>\n",
       "[14073216 values with dtype=uint16]\n",
       "Coordinates:\n",
       "  * band     (band) int64 1\n",
       "  * y        (y) float64 -3.383e+06 -3.383e+06 -3.383e+06 -3.383e+06 ...\n",
       "  * x        (x) float64 1.438e+06 1.438e+06 1.438e+06 1.439e+06 1.439e+06 ...\n",
       "Attributes:\n",
       "    transform:   (25.0, 0.0, 1438421.0013571545, 0.0, -25.0, -3382788.8746242...\n",
       "    crs:         +init=epsg:3577\n",
       "    res:         (25.0, 25.0)\n",
       "    is_tiled:    0\n",
       "    nodatavals:  (0.0,)"
      ]
     },
     "execution_count": 19,
     "metadata": {},
     "output_type": "execute_result"
    }
   ],
   "source": [
    "cewo_fix"
   ]
  },
  {
   "cell_type": "code",
   "execution_count": null,
   "metadata": {},
   "outputs": [],
   "source": []
  },
  {
   "cell_type": "code",
   "execution_count": 20,
   "metadata": {
    "ExecuteTime": {
     "end_time": "2018-07-26T06:08:44.956609Z",
     "start_time": "2018-07-26T06:08:31.102440Z"
    }
   },
   "outputs": [
    {
     "data": {
      "image/png": "[encoded data removed]",
      "text/plain": [
       "<Figure size 432x288 with 2 Axes>"
      ]
     },
     "metadata": {},
     "output_type": "display_data"
    }
   ],
   "source": [
    "%matplotlib inline\n",
    "plt.clf()\n",
    "cewo_fix.plot(vmin=0, vmax=2, cmap='magma')\n",
    "plt.show()"
   ]
  },
  {
   "cell_type": "code",
   "execution_count": 33,
   "metadata": {
    "ExecuteTime": {
     "end_time": "2018-07-26T06:13:35.659894Z",
     "start_time": "2018-07-26T06:13:35.384164Z"
    }
   },
   "outputs": [],
   "source": [
    "cewo_fix2 =cewo_fix.where(cewo_fix!=65535.)\n",
    "cewo_fix2=cewo_fix2.where(cewo_fix2!=-3.4028234663852886e+38)\n",
    "cewo_fix2=cewo_fix2.where(cewo_fix2!=0)\n",
    "cewo_fix2=cewo_fix2.where(cewo_fix2!=2)"
   ]
  },
  {
   "cell_type": "code",
   "execution_count": 22,
   "metadata": {
    "ExecuteTime": {
     "end_time": "2018-07-26T06:08:50.311166Z",
     "start_time": "2018-07-26T06:08:50.281659Z"
    }
   },
   "outputs": [
    {
     "data": {
      "text/plain": [
       "<xarray.DataArray (band: 1, y: 6564, x: 2144)>\n",
       "array([[[nan, nan, ..., nan, nan],\n",
       "        [nan, nan, ..., nan, nan],\n",
       "        ...,\n",
       "        [nan, nan, ..., nan, nan],\n",
       "        [nan, nan, ..., nan, nan]]])\n",
       "Coordinates:\n",
       "  * band     (band) int64 1\n",
       "  * y        (y) float64 -3.383e+06 -3.383e+06 -3.383e+06 -3.383e+06 ...\n",
       "  * x        (x) float64 1.438e+06 1.438e+06 1.438e+06 1.439e+06 1.439e+06 ...\n",
       "Attributes:\n",
       "    transform:   (25.0, 0.0, 1438421.0013571545, 0.0, -25.0, -3382788.8746242...\n",
       "    crs:         +init=epsg:3577\n",
       "    res:         (25.0, 25.0)\n",
       "    is_tiled:    0\n",
       "    nodatavals:  (0.0,)"
      ]
     },
     "execution_count": 22,
     "metadata": {},
     "output_type": "execute_result"
    }
   ],
   "source": [
    "cewo_fix2"
   ]
  },
  {
   "cell_type": "code",
   "execution_count": 23,
   "metadata": {
    "ExecuteTime": {
     "end_time": "2018-07-26T06:08:52.538540Z",
     "start_time": "2018-07-26T06:08:52.497915Z"
    }
   },
   "outputs": [
    {
     "data": {
      "text/plain": [
       "<xarray.DataArray ()>\n",
       "array(1.)"
      ]
     },
     "execution_count": 23,
     "metadata": {},
     "output_type": "execute_result"
    }
   ],
   "source": [
    "cewo_fix2.min()"
   ]
  },
  {
   "cell_type": "code",
   "execution_count": 24,
   "metadata": {
    "ExecuteTime": {
     "end_time": "2018-07-26T06:08:54.584513Z",
     "start_time": "2018-07-26T06:08:54.021098Z"
    }
   },
   "outputs": [
    {
     "data": {
      "text/plain": [
       "<matplotlib.collections.QuadMesh at 0x7f8b76810668>"
      ]
     },
     "execution_count": 24,
     "metadata": {},
     "output_type": "execute_result"
    },
    {
     "data": {
      "image/png": "[encoded data removed]",
      "text/plain": [
       "<Figure size 432x288 with 2 Axes>"
      ]
     },
     "metadata": {},
     "output_type": "display_data"
    }
   ],
   "source": [
    "cewo_fix2.isel(x=range(0, len(cewo_fix2.x),10), y=range(0, len(cewo_fix2.y),10)).plot()"
   ]
  },
  {
   "cell_type": "code",
   "execution_count": 52,
   "metadata": {
    "ExecuteTime": {
     "end_time": "2018-07-26T07:18:20.596195Z",
     "start_time": "2018-07-26T07:18:20.560348Z"
    }
   },
   "outputs": [],
   "source": [
    "cewoCount = cewo_fix2.count()"
   ]
  },
  {
   "cell_type": "code",
   "execution_count": 26,
   "metadata": {
    "ExecuteTime": {
     "end_time": "2018-07-26T06:09:03.260795Z",
     "start_time": "2018-07-26T06:09:02.549125Z"
    }
   },
   "outputs": [],
   "source": [
    "both = cewo_fix2.where(ThresholdData==1)"
   ]
  },
  {
   "cell_type": "code",
   "execution_count": 57,
   "metadata": {
    "ExecuteTime": {
     "end_time": "2018-07-26T07:20:09.330546Z",
     "start_time": "2018-07-26T07:20:09.221048Z"
    }
   },
   "outputs": [],
   "source": [
    "thresholdCount=ThresholdData.where(ThresholdData==1.).count()"
   ]
  },
  {
   "cell_type": "code",
   "execution_count": 58,
   "metadata": {
    "ExecuteTime": {
     "end_time": "2018-07-26T07:20:14.511458Z",
     "start_time": "2018-07-26T07:20:14.496574Z"
    }
   },
   "outputs": [
    {
     "data": {
      "text/plain": [
       "<xarray.DataArray ()>\n",
       "array(44768)"
      ]
     },
     "execution_count": 58,
     "metadata": {},
     "output_type": "execute_result"
    }
   ],
   "source": [
    "thresholdCount"
   ]
  },
  {
   "cell_type": "code",
   "execution_count": 53,
   "metadata": {
    "ExecuteTime": {
     "end_time": "2018-07-26T07:18:28.005319Z",
     "start_time": "2018-07-26T07:18:27.970407Z"
    }
   },
   "outputs": [],
   "source": [
    "bothCount = both.count()"
   ]
  },
  {
   "cell_type": "code",
   "execution_count": 38,
   "metadata": {
    "ExecuteTime": {
     "end_time": "2018-07-26T07:01:56.567446Z",
     "start_time": "2018-07-26T07:01:55.635985Z"
    }
   },
   "outputs": [
    {
     "data": {
      "image/png": "[encoded data removed]",
      "text/plain": [
       "<Figure size 432x288 with 4 Axes>"
      ]
     },
     "metadata": {},
     "output_type": "display_data"
    }
   ],
   "source": [
    "plt.clf()\n",
    "cewo_fix2.isel(x=range(0, len(cewo_fix2.x),10), y=range(0, len(cewo_fix2.y),10)).plot()\n",
    "ThresholdData.isel(x=range(0, len(cewo_fix2.x),10), y=range(0, len(cewo_fix2.y),10)).plot(cmap='magma')\n",
    "both.isel(x=range(0, len(cewo_fix2.x),10), y=range(0, len(cewo_fix2.y),10)).plot(cmap='Wistia')\n",
    "plt.show()"
   ]
  },
  {
   "cell_type": "code",
   "execution_count": 46,
   "metadata": {
    "ExecuteTime": {
     "end_time": "2018-07-26T07:05:24.174954Z",
     "start_time": "2018-07-26T07:05:24.164730Z"
    }
   },
   "outputs": [
    {
     "data": {
      "text/plain": [
       "['-0', '-100', '-200', '-300', '-400', '-500', '-600']"
      ]
     },
     "execution_count": 46,
     "metadata": {},
     "output_type": "execute_result"
    }
   ],
   "source": [
    "thresholds"
   ]
  },
  {
   "cell_type": "code",
   "execution_count": 67,
   "metadata": {
    "ExecuteTime": {
     "end_time": "2018-07-26T07:24:21.552475Z",
     "start_time": "2018-07-26T07:24:21.543567Z"
    }
   },
   "outputs": [],
   "source": [
    "comparison_df = pd.DataFrame(columns=['TCW','CEWO','both','%ofCEWO'],index=thresholds)"
   ]
  },
  {
   "cell_type": "code",
   "execution_count": 68,
   "metadata": {
    "ExecuteTime": {
     "end_time": "2018-07-26T07:24:22.832957Z",
     "start_time": "2018-07-26T07:24:22.823397Z"
    }
   },
   "outputs": [],
   "source": [
    "comparison_df.loc['-0']=[thresholdCount.data, cewoCount.data, bothCount.data, numpy.round(((bothCount/cewoCount)*100).data,decimals=2)]"
   ]
  },
  {
   "cell_type": "code",
   "execution_count": 69,
   "metadata": {
    "ExecuteTime": {
     "end_time": "2018-07-26T07:24:23.264559Z",
     "start_time": "2018-07-26T07:24:23.246928Z"
    }
   },
   "outputs": [
    {
     "data": {
      "text/html": [
       "<div>\n",
       "<style scoped>\n",
       "    .dataframe tbody tr th:only-of-type {\n",
       "        vertical-align: middle;\n",
       "    }\n",
       "\n",
       "    .dataframe tbody tr th {\n",
       "        vertical-align: top;\n",
       "    }\n",
       "\n",
       "    .dataframe thead th {\n",
       "        text-align: right;\n",
       "    }\n",
       "</style>\n",
       "<table border=\"1\" class=\"dataframe\">\n",
       "  <thead>\n",
       "    <tr style=\"text-align: right;\">\n",
       "      <th></th>\n",
       "      <th>TCW</th>\n",
       "      <th>CEWO</th>\n",
       "      <th>both</th>\n",
       "      <th>%ofCEWO</th>\n",
       "    </tr>\n",
       "  </thead>\n",
       "  <tbody>\n",
       "    <tr>\n",
       "      <th>-0</th>\n",
       "      <td>44768</td>\n",
       "      <td>158833</td>\n",
       "      <td>38882</td>\n",
       "      <td>24.48</td>\n",
       "    </tr>\n",
       "    <tr>\n",
       "      <th>-100</th>\n",
       "      <td>NaN</td>\n",
       "      <td>NaN</td>\n",
       "      <td>NaN</td>\n",
       "      <td>NaN</td>\n",
       "    </tr>\n",
       "    <tr>\n",
       "      <th>-200</th>\n",
       "      <td>NaN</td>\n",
       "      <td>NaN</td>\n",
       "      <td>NaN</td>\n",
       "      <td>NaN</td>\n",
       "    </tr>\n",
       "    <tr>\n",
       "      <th>-300</th>\n",
       "      <td>NaN</td>\n",
       "      <td>NaN</td>\n",
       "      <td>NaN</td>\n",
       "      <td>NaN</td>\n",
       "    </tr>\n",
       "    <tr>\n",
       "      <th>-400</th>\n",
       "      <td>NaN</td>\n",
       "      <td>NaN</td>\n",
       "      <td>NaN</td>\n",
       "      <td>NaN</td>\n",
       "    </tr>\n",
       "    <tr>\n",
       "      <th>-500</th>\n",
       "      <td>NaN</td>\n",
       "      <td>NaN</td>\n",
       "      <td>NaN</td>\n",
       "      <td>NaN</td>\n",
       "    </tr>\n",
       "    <tr>\n",
       "      <th>-600</th>\n",
       "      <td>NaN</td>\n",
       "      <td>NaN</td>\n",
       "      <td>NaN</td>\n",
       "      <td>NaN</td>\n",
       "    </tr>\n",
       "  </tbody>\n",
       "</table>\n",
       "</div>"
      ],
      "text/plain": [
       "        TCW    CEWO   both %ofCEWO\n",
       "-0    44768  158833  38882   24.48\n",
       "-100    NaN     NaN    NaN     NaN\n",
       "-200    NaN     NaN    NaN     NaN\n",
       "-300    NaN     NaN    NaN     NaN\n",
       "-400    NaN     NaN    NaN     NaN\n",
       "-500    NaN     NaN    NaN     NaN\n",
       "-600    NaN     NaN    NaN     NaN"
      ]
     },
     "execution_count": 69,
     "metadata": {},
     "output_type": "execute_result"
    }
   ],
   "source": [
    "comparison_df"
   ]
  },
  {
   "cell_type": "code",
   "execution_count": null,
   "metadata": {
    "ExecuteTime": {
     "end_time": "2018-07-26T00:42:25.521837Z",
     "start_time": "2018-07-26T00:42:24.806981Z"
    }
   },
   "outputs": [],
   "source": [
    "## #filter out both sets of nodata values as defined by CEWO\n",
    "# cewoData = cewoData.where(cewoData!=-3.4028234663852886e+38) #remove no data vals\n",
    "# cewoData = cewoData.where(cewoData!=0) #remove no data vals\n",
    "# cewoData = cewoData.where(cewoData!=65535.) #remove no data vals\n",
    "# #cewoData = cewoData.where(cewoData!=2.) #remove off river storages"
   ]
  },
  {
   "cell_type": "code",
   "execution_count": 23,
   "metadata": {
    "ExecuteTime": {
     "end_time": "2018-07-26T00:47:05.520430Z",
     "start_time": "2018-07-26T00:47:03.897965Z"
    }
   },
   "outputs": [],
   "source": [
    "plt.clf()\n",
    "cewoData.plot()\n",
    "plt.show()"
   ]
  },
  {
   "cell_type": "code",
   "execution_count": 15,
   "metadata": {
    "ExecuteTime": {
     "end_time": "2018-07-26T04:09:13.002367Z",
     "start_time": "2018-07-26T04:09:12.979797Z"
    }
   },
   "outputs": [
    {
     "data": {
      "text/plain": [
       "<xarray.DataArray (band: 1, y: 6564, x: 2144)>\n",
       "[14073216 values with dtype=uint16]\n",
       "Coordinates:\n",
       "  * band     (band) int64 1\n",
       "  * y        (y) float64 -3.383e+06 -3.383e+06 -3.383e+06 -3.383e+06 ...\n",
       "  * x        (x) float64 1.438e+06 1.438e+06 1.438e+06 1.439e+06 1.439e+06 ...\n",
       "Attributes:\n",
       "    transform:   (25.0, 0.0, 1438421.0013571545, 0.0, -25.0, -3382788.8746242...\n",
       "    crs:         +init=epsg:3577\n",
       "    res:         (25.0, 25.0)\n",
       "    is_tiled:    0\n",
       "    nodatavals:  (65535.0,)"
      ]
     },
     "execution_count": 15,
     "metadata": {},
     "output_type": "execute_result"
    }
   ],
   "source": [
    "cewoData"
   ]
  },
  {
   "cell_type": "code",
   "execution_count": 16,
   "metadata": {
    "ExecuteTime": {
     "end_time": "2018-07-26T04:09:15.278541Z",
     "start_time": "2018-07-26T04:09:15.267045Z"
    }
   },
   "outputs": [
    {
     "data": {
      "text/plain": [
       "<xarray.DataArray (band: 1, y: 6564, x: 2144)>\n",
       "[14073216 values with dtype=float32]\n",
       "Coordinates:\n",
       "  * band     (band) int64 1\n",
       "  * y        (y) float64 -3.383e+06 -3.383e+06 -3.383e+06 -3.383e+06 ...\n",
       "  * x        (x) float64 1.438e+06 1.438e+06 1.438e+06 1.439e+06 1.439e+06 ...\n",
       "Attributes:\n",
       "    transform:   (25.0, 0.0, 1438421.0013571545, 0.0, -25.0, -3382788.8746242...\n",
       "    crs:         +init=epsg:3577\n",
       "    res:         (25.0, 25.0)\n",
       "    is_tiled:    0\n",
       "    nodatavals:  (-3.4028234663852886e+38,)"
      ]
     },
     "execution_count": 16,
     "metadata": {},
     "output_type": "execute_result"
    }
   ],
   "source": [
    "ThresholdData"
   ]
  },
  {
   "cell_type": "code",
   "execution_count": 21,
   "metadata": {
    "ExecuteTime": {
     "end_time": "2018-07-26T04:11:31.729488Z",
     "start_time": "2018-07-26T04:11:30.545714Z"
    }
   },
   "outputs": [],
   "source": [
    "plt.clf()\n",
    "ThresholdData.plot()\n",
    "plt.show()"
   ]
  },
  {
   "cell_type": "code",
   "execution_count": 31,
   "metadata": {
    "ExecuteTime": {
     "end_time": "2018-07-26T06:13:23.842644Z",
     "start_time": "2018-07-26T06:13:23.158735Z"
    }
   },
   "outputs": [],
   "source": [
    "ThresholdData=ThresholdData.where(ThresholdData!=-3.4028234663852886e+38)\n",
    "ThresholdData=ThresholdData.where(ThresholdData!=0)\n",
    "ThresholdData=ThresholdData.where(cewoData.data!=2.0)"
   ]
  },
  {
   "cell_type": "code",
   "execution_count": 45,
   "metadata": {
    "ExecuteTime": {
     "end_time": "2018-07-26T04:25:57.115055Z",
     "start_time": "2018-07-26T04:25:57.090948Z"
    }
   },
   "outputs": [
    {
     "data": {
      "text/plain": [
       "<xarray.DataArray (band: 1, y: 6564, x: 2144)>\n",
       "array([[[nan, nan, ..., nan, nan],\n",
       "        [nan, nan, ..., nan, nan],\n",
       "        ...,\n",
       "        [nan, nan, ..., nan, nan],\n",
       "        [nan, nan, ..., nan, nan]]], dtype=float32)\n",
       "Coordinates:\n",
       "  * band     (band) int64 1\n",
       "  * y        (y) float64 -3.383e+06 -3.383e+06 -3.383e+06 -3.383e+06 ...\n",
       "  * x        (x) float64 1.438e+06 1.438e+06 1.438e+06 1.439e+06 1.439e+06 ...\n",
       "Attributes:\n",
       "    transform:   (25.0, 0.0, 1438421.0013571545, 0.0, -25.0, -3382788.8746242...\n",
       "    crs:         +init=epsg:3577\n",
       "    res:         (25.0, 25.0)\n",
       "    is_tiled:    0\n",
       "    nodatavals:  (-3.4028234663852886e+38,)"
      ]
     },
     "execution_count": 45,
     "metadata": {},
     "output_type": "execute_result"
    }
   ],
   "source": [
    "ThresholdData"
   ]
  },
  {
   "cell_type": "code",
   "execution_count": 25,
   "metadata": {
    "ExecuteTime": {
     "end_time": "2018-07-26T04:18:36.476194Z",
     "start_time": "2018-07-26T04:18:36.352520Z"
    }
   },
   "outputs": [],
   "source": [
    "#ThresholdData=ThresholdData.where(ThresholdData!=-3.4028234663852886e+38)\n",
    "#ThresholdData=ThresholdData.where(ThresholdData!=0)\n",
    "#ThresholdData=ThresholdData.where(cewoData.data!=2.0)"
   ]
  },
  {
   "cell_type": "code",
   "execution_count": 29,
   "metadata": {
    "ExecuteTime": {
     "end_time": "2018-07-26T04:21:15.484600Z",
     "start_time": "2018-07-26T04:21:14.364610Z"
    }
   },
   "outputs": [
    {
     "data": {
      "application/javascript": [
       "/* Put everything inside the global mpl namespace */\n",
       "window.mpl = {};\n",
       "\n",
       "\n",
       "mpl.get_websocket_type = function() {\n",
       "    if (typeof(WebSocket) !== 'undefined') {\n",
       "        return WebSocket;\n",
       "    } else if (typeof(MozWebSocket) !== 'undefined') {\n",
       "        return MozWebSocket;\n",
       "    } else {\n",
       "        alert('Your browser does not have WebSocket support.' +\n",
       "              'Please try Chrome, Safari or Firefox ≥ 6. ' +\n",
       "              'Firefox 4 and 5 are also supported but you ' +\n",
       "              'have to enable WebSockets in about:config.');\n",
       "    };\n",
       "}\n",
       "\n",
       "mpl.figure = function(figure_id, websocket, ondownload, parent_element) {\n",
       "    this.id = figure_id;\n",
       "\n",
       "    this.ws = websocket;\n",
       "\n",
       "    this.supports_binary = (this.ws.binaryType != undefined);\n",
       "\n",
       "    if (!this.supports_binary) {\n",
       "        var warnings = document.getElementById(\"mpl-warnings\");\n",
       "        if (warnings) {\n",
       "            warnings.style.display = 'block';\n",
       "            warnings.textContent = (\n",
       "                \"This browser does not support binary websocket messages. \" +\n",
       "                    \"Performance may be slow.\");\n",
       "        }\n",
       "    }\n",
       "\n",
       "    this.imageObj = new Image();\n",
       "\n",
       "    this.context = undefined;\n",
       "    this.message = undefined;\n",
       "    this.canvas = undefined;\n",
       "    this.rubberband_canvas = undefined;\n",
       "    this.rubberband_context = undefined;\n",
       "    this.format_dropdown = undefined;\n",
       "\n",
       "    this.image_mode = 'full';\n",
       "\n",
       "    this.root = $('<div/>');\n",
       "    this._root_extra_style(this.root)\n",
       "    this.root.attr('style', 'display: inline-block');\n",
       "\n",
       "    $(parent_element).append(this.root);\n",
       "\n",
       "    this._init_header(this);\n",
       "    this._init_canvas(this);\n",
       "    this._init_toolbar(this);\n",
       "\n",
       "    var fig = this;\n",
       "\n",
       "    this.waiting = false;\n",
       "\n",
       "    this.ws.onopen =  function () {\n",
       "            fig.send_message(\"supports_binary\", {value: fig.supports_binary});\n",
       "            fig.send_message(\"send_image_mode\", {});\n",
       "            if (mpl.ratio != 1) {\n",
       "                fig.send_message(\"set_dpi_ratio\", {'dpi_ratio': mpl.ratio});\n",
       "            }\n",
       "            fig.send_message(\"refresh\", {});\n",
       "        }\n",
       "\n",
       "    this.imageObj.onload = function() {\n",
       "            if (fig.image_mode == 'full') {\n",
       "                // Full images could contain transparency (where diff images\n",
       "                // almost always do), so we need to clear the canvas so that\n",
       "                // there is no ghosting.\n",
       "                fig.context.clearRect(0, 0, fig.canvas.width, fig.canvas.height);\n",
       "            }\n",
       "            fig.context.drawImage(fig.imageObj, 0, 0);\n",
       "        };\n",
       "\n",
       "    this.imageObj.onunload = function() {\n",
       "        fig.ws.close();\n",
       "    }\n",
       "\n",
       "    this.ws.onmessage = this._make_on_message_function(this);\n",
       "\n",
       "    this.ondownload = ondownload;\n",
       "}\n",
       "\n",
       "mpl.figure.prototype._init_header = function() {\n",
       "    var titlebar = $(\n",
       "        '<div class=\"ui-dialog-titlebar ui-widget-header ui-corner-all ' +\n",
       "        'ui-helper-clearfix\"/>');\n",
       "    var titletext = $(\n",
       "        '<div class=\"ui-dialog-title\" style=\"width: 100%; ' +\n",
       "        'text-align: center; padding: 3px;\"/>');\n",
       "    titlebar.append(titletext)\n",
       "    this.root.append(titlebar);\n",
       "    this.header = titletext[0];\n",
       "}\n",
       "\n",
       "\n",
       "\n",
       "mpl.figure.prototype._canvas_extra_style = function(canvas_div) {\n",
       "\n",
       "}\n",
       "\n",
       "\n",
       "mpl.figure.prototype._root_extra_style = function(canvas_div) {\n",
       "\n",
       "}\n",
       "\n",
       "mpl.figure.prototype._init_canvas = function() {\n",
       "    var fig = this;\n",
       "\n",
       "    var canvas_div = $('<div/>');\n",
       "\n",
       "    canvas_div.attr('style', 'position: relative; clear: both; outline: 0');\n",
       "\n",
       "    function canvas_keyboard_event(event) {\n",
       "        return fig.key_event(event, event['data']);\n",
       "    }\n",
       "\n",
       "    canvas_div.keydown('key_press', canvas_keyboard_event);\n",
       "    canvas_div.keyup('key_release', canvas_keyboard_event);\n",
       "    this.canvas_div = canvas_div\n",
       "    this._canvas_extra_style(canvas_div)\n",
       "    this.root.append(canvas_div);\n",
       "\n",
       "    var canvas = $('<canvas/>');\n",
       "    canvas.addClass('mpl-canvas');\n",
       "    canvas.attr('style', \"left: 0; top: 0; z-index: 0; outline: 0\")\n",
       "\n",
       "    this.canvas = canvas[0];\n",
       "    this.context = canvas[0].getContext(\"2d\");\n",
       "\n",
       "    var backingStore = this.context.backingStorePixelRatio ||\n",
       "\tthis.context.webkitBackingStorePixelRatio ||\n",
       "\tthis.context.mozBackingStorePixelRatio ||\n",
       "\tthis.context.msBackingStorePixelRatio ||\n",
       "\tthis.context.oBackingStorePixelRatio ||\n",
       "\tthis.context.backingStorePixelRatio || 1;\n",
       "\n",
       "    mpl.ratio = (window.devicePixelRatio || 1) / backingStore;\n",
       "\n",
       "    var rubberband = $('<canvas/>');\n",
       "    rubberband.attr('style', \"position: absolute; left: 0; top: 0; z-index: 1;\")\n",
       "\n",
       "    var pass_mouse_events = true;\n",
       "\n",
       "    canvas_div.resizable({\n",
       "        start: function(event, ui) {\n",
       "            pass_mouse_events = false;\n",
       "        },\n",
       "        resize: function(event, ui) {\n",
       "            fig.request_resize(ui.size.width, ui.size.height);\n",
       "        },\n",
       "        stop: function(event, ui) {\n",
       "            pass_mouse_events = true;\n",
       "            fig.request_resize(ui.size.width, ui.size.height);\n",
       "        },\n",
       "    });\n",
       "\n",
       "    function mouse_event_fn(event) {\n",
       "        if (pass_mouse_events)\n",
       "            return fig.mouse_event(event, event['data']);\n",
       "    }\n",
       "\n",
       "    rubberband.mousedown('button_press', mouse_event_fn);\n",
       "    rubberband.mouseup('button_release', mouse_event_fn);\n",
       "    // Throttle sequential mouse events to 1 every 20ms.\n",
       "    rubberband.mousemove('motion_notify', mouse_event_fn);\n",
       "\n",
       "    rubberband.mouseenter('figure_enter', mouse_event_fn);\n",
       "    rubberband.mouseleave('figure_leave', mouse_event_fn);\n",
       "\n",
       "    canvas_div.on(\"wheel\", function (event) {\n",
       "        event = event.originalEvent;\n",
       "        event['data'] = 'scroll'\n",
       "        if (event.deltaY < 0) {\n",
       "            event.step = 1;\n",
       "        } else {\n",
       "            event.step = -1;\n",
       "        }\n",
       "        mouse_event_fn(event);\n",
       "    });\n",
       "\n",
       "    canvas_div.append(canvas);\n",
       "    canvas_div.append(rubberband);\n",
       "\n",
       "    this.rubberband = rubberband;\n",
       "    this.rubberband_canvas = rubberband[0];\n",
       "    this.rubberband_context = rubberband[0].getContext(\"2d\");\n",
       "    this.rubberband_context.strokeStyle = \"#000000\";\n",
       "\n",
       "    this._resize_canvas = function(width, height) {\n",
       "        // Keep the size of the canvas, canvas container, and rubber band\n",
       "        // canvas in synch.\n",
       "        canvas_div.css('width', width)\n",
       "        canvas_div.css('height', height)\n",
       "\n",
       "        canvas.attr('width', width * mpl.ratio);\n",
       "        canvas.attr('height', height * mpl.ratio);\n",
       "        canvas.attr('style', 'width: ' + width + 'px; height: ' + height + 'px;');\n",
       "\n",
       "        rubberband.attr('width', width);\n",
       "        rubberband.attr('height', height);\n",
       "    }\n",
       "\n",
       "    // Set the figure to an initial 600x600px, this will subsequently be updated\n",
       "    // upon first draw.\n",
       "    this._resize_canvas(600, 600);\n",
       "\n",
       "    // Disable right mouse context menu.\n",
       "    $(this.rubberband_canvas).bind(\"contextmenu\",function(e){\n",
       "        return false;\n",
       "    });\n",
       "\n",
       "    function set_focus () {\n",
       "        canvas.focus();\n",
       "        canvas_div.focus();\n",
       "    }\n",
       "\n",
       "    window.setTimeout(set_focus, 100);\n",
       "}\n",
       "\n",
       "mpl.figure.prototype._init_toolbar = function() {\n",
       "    var fig = this;\n",
       "\n",
       "    var nav_element = $('<div/>')\n",
       "    nav_element.attr('style', 'width: 100%');\n",
       "    this.root.append(nav_element);\n",
       "\n",
       "    // Define a callback function for later on.\n",
       "    function toolbar_event(event) {\n",
       "        return fig.toolbar_button_onclick(event['data']);\n",
       "    }\n",
       "    function toolbar_mouse_event(event) {\n",
       "        return fig.toolbar_button_onmouseover(event['data']);\n",
       "    }\n",
       "\n",
       "    for(var toolbar_ind in mpl.toolbar_items) {\n",
       "        var name = mpl.toolbar_items[toolbar_ind][0];\n",
       "        var tooltip = mpl.toolbar_items[toolbar_ind][1];\n",
       "        var image = mpl.toolbar_items[toolbar_ind][2];\n",
       "        var method_name = mpl.toolbar_items[toolbar_ind][3];\n",
       "\n",
       "        if (!name) {\n",
       "            // put a spacer in here.\n",
       "            continue;\n",
       "        }\n",
       "        var button = $('<button/>');\n",
       "        button.addClass('ui-button ui-widget ui-state-default ui-corner-all ' +\n",
       "                        'ui-button-icon-only');\n",
       "        button.attr('role', 'button');\n",
       "        button.attr('aria-disabled', 'false');\n",
       "        button.click(method_name, toolbar_event);\n",
       "        button.mouseover(tooltip, toolbar_mouse_event);\n",
       "\n",
       "        var icon_img = $('<span/>');\n",
       "        icon_img.addClass('ui-button-icon-primary ui-icon');\n",
       "        icon_img.addClass(image);\n",
       "        icon_img.addClass('ui-corner-all');\n",
       "\n",
       "        var tooltip_span = $('<span/>');\n",
       "        tooltip_span.addClass('ui-button-text');\n",
       "        tooltip_span.html(tooltip);\n",
       "\n",
       "        button.append(icon_img);\n",
       "        button.append(tooltip_span);\n",
       "\n",
       "        nav_element.append(button);\n",
       "    }\n",
       "\n",
       "    var fmt_picker_span = $('<span/>');\n",
       "\n",
       "    var fmt_picker = $('<select/>');\n",
       "    fmt_picker.addClass('mpl-toolbar-option ui-widget ui-widget-content');\n",
       "    fmt_picker_span.append(fmt_picker);\n",
       "    nav_element.append(fmt_picker_span);\n",
       "    this.format_dropdown = fmt_picker[0];\n",
       "\n",
       "    for (var ind in mpl.extensions) {\n",
       "        var fmt = mpl.extensions[ind];\n",
       "        var option = $(\n",
       "            '<option/>', {selected: fmt === mpl.default_extension}).html(fmt);\n",
       "        fmt_picker.append(option)\n",
       "    }\n",
       "\n",
       "    // Add hover states to the ui-buttons\n",
       "    $( \".ui-button\" ).hover(\n",
       "        function() { $(this).addClass(\"ui-state-hover\");},\n",
       "        function() { $(this).removeClass(\"ui-state-hover\");}\n",
       "    );\n",
       "\n",
       "    var status_bar = $('<span class=\"mpl-message\"/>');\n",
       "    nav_element.append(status_bar);\n",
       "    this.message = status_bar[0];\n",
       "}\n",
       "\n",
       "mpl.figure.prototype.request_resize = function(x_pixels, y_pixels) {\n",
       "    // Request matplotlib to resize the figure. Matplotlib will then trigger a resize in the client,\n",
       "    // which will in turn request a refresh of the image.\n",
       "    this.send_message('resize', {'width': x_pixels, 'height': y_pixels});\n",
       "}\n",
       "\n",
       "mpl.figure.prototype.send_message = function(type, properties) {\n",
       "    properties['type'] = type;\n",
       "    properties['figure_id'] = this.id;\n",
       "    this.ws.send(JSON.stringify(properties));\n",
       "}\n",
       "\n",
       "mpl.figure.prototype.send_draw_message = function() {\n",
       "    if (!this.waiting) {\n",
       "        this.waiting = true;\n",
       "        this.ws.send(JSON.stringify({type: \"draw\", figure_id: this.id}));\n",
       "    }\n",
       "}\n",
       "\n",
       "\n",
       "mpl.figure.prototype.handle_save = function(fig, msg) {\n",
       "    var format_dropdown = fig.format_dropdown;\n",
       "    var format = format_dropdown.options[format_dropdown.selectedIndex].value;\n",
       "    fig.ondownload(fig, format);\n",
       "}\n",
       "\n",
       "\n",
       "mpl.figure.prototype.handle_resize = function(fig, msg) {\n",
       "    var size = msg['size'];\n",
       "    if (size[0] != fig.canvas.width || size[1] != fig.canvas.height) {\n",
       "        fig._resize_canvas(size[0], size[1]);\n",
       "        fig.send_message(\"refresh\", {});\n",
       "    };\n",
       "}\n",
       "\n",
       "mpl.figure.prototype.handle_rubberband = function(fig, msg) {\n",
       "    var x0 = msg['x0'] / mpl.ratio;\n",
       "    var y0 = (fig.canvas.height - msg['y0']) / mpl.ratio;\n",
       "    var x1 = msg['x1'] / mpl.ratio;\n",
       "    var y1 = (fig.canvas.height - msg['y1']) / mpl.ratio;\n",
       "    x0 = Math.floor(x0) + 0.5;\n",
       "    y0 = Math.floor(y0) + 0.5;\n",
       "    x1 = Math.floor(x1) + 0.5;\n",
       "    y1 = Math.floor(y1) + 0.5;\n",
       "    var min_x = Math.min(x0, x1);\n",
       "    var min_y = Math.min(y0, y1);\n",
       "    var width = Math.abs(x1 - x0);\n",
       "    var height = Math.abs(y1 - y0);\n",
       "\n",
       "    fig.rubberband_context.clearRect(\n",
       "        0, 0, fig.canvas.width, fig.canvas.height);\n",
       "\n",
       "    fig.rubberband_context.strokeRect(min_x, min_y, width, height);\n",
       "}\n",
       "\n",
       "mpl.figure.prototype.handle_figure_label = function(fig, msg) {\n",
       "    // Updates the figure title.\n",
       "    fig.header.textContent = msg['label'];\n",
       "}\n",
       "\n",
       "mpl.figure.prototype.handle_cursor = function(fig, msg) {\n",
       "    var cursor = msg['cursor'];\n",
       "    switch(cursor)\n",
       "    {\n",
       "    case 0:\n",
       "        cursor = 'pointer';\n",
       "        break;\n",
       "    case 1:\n",
       "        cursor = 'default';\n",
       "        break;\n",
       "    case 2:\n",
       "        cursor = 'crosshair';\n",
       "        break;\n",
       "    case 3:\n",
       "        cursor = 'move';\n",
       "        break;\n",
       "    }\n",
       "    fig.rubberband_canvas.style.cursor = cursor;\n",
       "}\n",
       "\n",
       "mpl.figure.prototype.handle_message = function(fig, msg) {\n",
       "    fig.message.textContent = msg['message'];\n",
       "}\n",
       "\n",
       "mpl.figure.prototype.handle_draw = function(fig, msg) {\n",
       "    // Request the server to send over a new figure.\n",
       "    fig.send_draw_message();\n",
       "}\n",
       "\n",
       "mpl.figure.prototype.handle_image_mode = function(fig, msg) {\n",
       "    fig.image_mode = msg['mode'];\n",
       "}\n",
       "\n",
       "mpl.figure.prototype.updated_canvas_event = function() {\n",
       "    // Called whenever the canvas gets updated.\n",
       "    this.send_message(\"ack\", {});\n",
       "}\n",
       "\n",
       "// A function to construct a web socket function for onmessage handling.\n",
       "// Called in the figure constructor.\n",
       "mpl.figure.prototype._make_on_message_function = function(fig) {\n",
       "    return function socket_on_message(evt) {\n",
       "        if (evt.data instanceof Blob) {\n",
       "            /* FIXME: We get \"Resource interpreted as Image but\n",
       "             * transferred with MIME type text/plain:\" errors on\n",
       "             * Chrome.  But how to set the MIME type?  It doesn't seem\n",
       "             * to be part of the websocket stream */\n",
       "            evt.data.type = \"image/png\";\n",
       "\n",
       "            /* Free the memory for the previous frames */\n",
       "            if (fig.imageObj.src) {\n",
       "                (window.URL || window.webkitURL).revokeObjectURL(\n",
       "                    fig.imageObj.src);\n",
       "            }\n",
       "\n",
       "            fig.imageObj.src = (window.URL || window.webkitURL).createObjectURL(\n",
       "                evt.data);\n",
       "            fig.updated_canvas_event();\n",
       "            fig.waiting = false;\n",
       "            return;\n",
       "        }\n",
       "        else if (typeof evt.data === 'string' && evt.data.slice(0, 21) == \"data:image/png;base64\") {\n",
       "            fig.imageObj.src = evt.data;\n",
       "            fig.updated_canvas_event();\n",
       "            fig.waiting = false;\n",
       "            return;\n",
       "        }\n",
       "\n",
       "        var msg = JSON.parse(evt.data);\n",
       "        var msg_type = msg['type'];\n",
       "\n",
       "        // Call the  \"handle_{type}\" callback, which takes\n",
       "        // the figure and JSON message as its only arguments.\n",
       "        try {\n",
       "            var callback = fig[\"handle_\" + msg_type];\n",
       "        } catch (e) {\n",
       "            console.log(\"No handler for the '\" + msg_type + \"' message type: \", msg);\n",
       "            return;\n",
       "        }\n",
       "\n",
       "        if (callback) {\n",
       "            try {\n",
       "                // console.log(\"Handling '\" + msg_type + \"' message: \", msg);\n",
       "                callback(fig, msg);\n",
       "            } catch (e) {\n",
       "                console.log(\"Exception inside the 'handler_\" + msg_type + \"' callback:\", e, e.stack, msg);\n",
       "            }\n",
       "        }\n",
       "    };\n",
       "}\n",
       "\n",
       "// from http://stackoverflow.com/questions/1114465/getting-mouse-location-in-canvas\n",
       "mpl.findpos = function(e) {\n",
       "    //this section is from http://www.quirksmode.org/js/events_properties.html\n",
       "    var targ;\n",
       "    if (!e)\n",
       "        e = window.event;\n",
       "    if (e.target)\n",
       "        targ = e.target;\n",
       "    else if (e.srcElement)\n",
       "        targ = e.srcElement;\n",
       "    if (targ.nodeType == 3) // defeat Safari bug\n",
       "        targ = targ.parentNode;\n",
       "\n",
       "    // jQuery normalizes the pageX and pageY\n",
       "    // pageX,Y are the mouse positions relative to the document\n",
       "    // offset() returns the position of the element relative to the document\n",
       "    var x = e.pageX - $(targ).offset().left;\n",
       "    var y = e.pageY - $(targ).offset().top;\n",
       "\n",
       "    return {\"x\": x, \"y\": y};\n",
       "};\n",
       "\n",
       "/*\n",
       " * return a copy of an object with only non-object keys\n",
       " * we need this to avoid circular references\n",
       " * http://stackoverflow.com/a/24161582/3208463\n",
       " */\n",
       "function simpleKeys (original) {\n",
       "  return Object.keys(original).reduce(function (obj, key) {\n",
       "    if (typeof original[key] !== 'object')\n",
       "        obj[key] = original[key]\n",
       "    return obj;\n",
       "  }, {});\n",
       "}\n",
       "\n",
       "mpl.figure.prototype.mouse_event = function(event, name) {\n",
       "    var canvas_pos = mpl.findpos(event)\n",
       "\n",
       "    if (name === 'button_press')\n",
       "    {\n",
       "        this.canvas.focus();\n",
       "        this.canvas_div.focus();\n",
       "    }\n",
       "\n",
       "    var x = canvas_pos.x * mpl.ratio;\n",
       "    var y = canvas_pos.y * mpl.ratio;\n",
       "\n",
       "    this.send_message(name, {x: x, y: y, button: event.button,\n",
       "                             step: event.step,\n",
       "                             guiEvent: simpleKeys(event)});\n",
       "\n",
       "    /* This prevents the web browser from automatically changing to\n",
       "     * the text insertion cursor when the button is pressed.  We want\n",
       "     * to control all of the cursor setting manually through the\n",
       "     * 'cursor' event from matplotlib */\n",
       "    event.preventDefault();\n",
       "    return false;\n",
       "}\n",
       "\n",
       "mpl.figure.prototype._key_event_extra = function(event, name) {\n",
       "    // Handle any extra behaviour associated with a key event\n",
       "}\n",
       "\n",
       "mpl.figure.prototype.key_event = function(event, name) {\n",
       "\n",
       "    // Prevent repeat events\n",
       "    if (name == 'key_press')\n",
       "    {\n",
       "        if (event.which === this._key)\n",
       "            return;\n",
       "        else\n",
       "            this._key = event.which;\n",
       "    }\n",
       "    if (name == 'key_release')\n",
       "        this._key = null;\n",
       "\n",
       "    var value = '';\n",
       "    if (event.ctrlKey && event.which != 17)\n",
       "        value += \"ctrl+\";\n",
       "    if (event.altKey && event.which != 18)\n",
       "        value += \"alt+\";\n",
       "    if (event.shiftKey && event.which != 16)\n",
       "        value += \"shift+\";\n",
       "\n",
       "    value += 'k';\n",
       "    value += event.which.toString();\n",
       "\n",
       "    this._key_event_extra(event, name);\n",
       "\n",
       "    this.send_message(name, {key: value,\n",
       "                             guiEvent: simpleKeys(event)});\n",
       "    return false;\n",
       "}\n",
       "\n",
       "mpl.figure.prototype.toolbar_button_onclick = function(name) {\n",
       "    if (name == 'download') {\n",
       "        this.handle_save(this, null);\n",
       "    } else {\n",
       "        this.send_message(\"toolbar_button\", {name: name});\n",
       "    }\n",
       "};\n",
       "\n",
       "mpl.figure.prototype.toolbar_button_onmouseover = function(tooltip) {\n",
       "    this.message.textContent = tooltip;\n",
       "};\n",
       "mpl.toolbar_items = [[\"Home\", \"Reset original view\", \"fa fa-home icon-home\", \"home\"], [\"Back\", \"Back to  previous view\", \"fa fa-arrow-left icon-arrow-left\", \"back\"], [\"Forward\", \"Forward to next view\", \"fa fa-arrow-right icon-arrow-right\", \"forward\"], [\"\", \"\", \"\", \"\"], [\"Pan\", \"Pan axes with left mouse, zoom with right\", \"fa fa-arrows icon-move\", \"pan\"], [\"Zoom\", \"Zoom to rectangle\", \"fa fa-square-o icon-check-empty\", \"zoom\"], [\"\", \"\", \"\", \"\"], [\"Download\", \"Download plot\", \"fa fa-floppy-o icon-save\", \"download\"]];\n",
       "\n",
       "mpl.extensions = [\"eps\", \"jpeg\", \"pdf\", \"png\", \"ps\", \"raw\", \"svg\", \"tif\"];\n",
       "\n",
       "mpl.default_extension = \"png\";var comm_websocket_adapter = function(comm) {\n",
       "    // Create a \"websocket\"-like object which calls the given IPython comm\n",
       "    // object with the appropriate methods. Currently this is a non binary\n",
       "    // socket, so there is still some room for performance tuning.\n",
       "    var ws = {};\n",
       "\n",
       "    ws.close = function() {\n",
       "        comm.close()\n",
       "    };\n",
       "    ws.send = function(m) {\n",
       "        //console.log('sending', m);\n",
       "        comm.send(m);\n",
       "    };\n",
       "    // Register the callback with on_msg.\n",
       "    comm.on_msg(function(msg) {\n",
       "        //console.log('receiving', msg['content']['data'], msg);\n",
       "        // Pass the mpl event to the overridden (by mpl) onmessage function.\n",
       "        ws.onmessage(msg['content']['data'])\n",
       "    });\n",
       "    return ws;\n",
       "}\n",
       "\n",
       "mpl.mpl_figure_comm = function(comm, msg) {\n",
       "    // This is the function which gets called when the mpl process\n",
       "    // starts-up an IPython Comm through the \"matplotlib\" channel.\n",
       "\n",
       "    var id = msg.content.data.id;\n",
       "    // Get hold of the div created by the display call when the Comm\n",
       "    // socket was opened in Python.\n",
       "    var element = $(\"#\" + id);\n",
       "    var ws_proxy = comm_websocket_adapter(comm)\n",
       "\n",
       "    function ondownload(figure, format) {\n",
       "        window.open(figure.imageObj.src);\n",
       "    }\n",
       "\n",
       "    var fig = new mpl.figure(id, ws_proxy,\n",
       "                           ondownload,\n",
       "                           element.get(0));\n",
       "\n",
       "    // Call onopen now - mpl needs it, as it is assuming we've passed it a real\n",
       "    // web socket which is closed, not our websocket->open comm proxy.\n",
       "    ws_proxy.onopen();\n",
       "\n",
       "    fig.parent_element = element.get(0);\n",
       "    fig.cell_info = mpl.find_output_cell(\"<div id='\" + id + \"'></div>\");\n",
       "    if (!fig.cell_info) {\n",
       "        console.error(\"Failed to find cell for figure\", id, fig);\n",
       "        return;\n",
       "    }\n",
       "\n",
       "    var output_index = fig.cell_info[2]\n",
       "    var cell = fig.cell_info[0];\n",
       "\n",
       "};\n",
       "\n",
       "mpl.figure.prototype.handle_close = function(fig, msg) {\n",
       "    var width = fig.canvas.width/mpl.ratio\n",
       "    fig.root.unbind('remove')\n",
       "\n",
       "    // Update the output cell to use the data from the current canvas.\n",
       "    fig.push_to_output();\n",
       "    var dataURL = fig.canvas.toDataURL();\n",
       "    // Re-enable the keyboard manager in IPython - without this line, in FF,\n",
       "    // the notebook keyboard shortcuts fail.\n",
       "    IPython.keyboard_manager.enable()\n",
       "    $(fig.parent_element).html('<img src=\"' + dataURL + '\" width=\"' + width + '\">');\n",
       "    fig.close_ws(fig, msg);\n",
       "}\n",
       "\n",
       "mpl.figure.prototype.close_ws = function(fig, msg){\n",
       "    fig.send_message('closing', msg);\n",
       "    // fig.ws.close()\n",
       "}\n",
       "\n",
       "mpl.figure.prototype.push_to_output = function(remove_interactive) {\n",
       "    // Turn the data on the canvas into data in the output cell.\n",
       "    var width = this.canvas.width/mpl.ratio\n",
       "    var dataURL = this.canvas.toDataURL();\n",
       "    this.cell_info[1]['text/html'] = '<img src=\"' + dataURL + '\" width=\"' + width + '\">';\n",
       "}\n",
       "\n",
       "mpl.figure.prototype.updated_canvas_event = function() {\n",
       "    // Tell IPython that the notebook contents must change.\n",
       "    IPython.notebook.set_dirty(true);\n",
       "    this.send_message(\"ack\", {});\n",
       "    var fig = this;\n",
       "    // Wait a second, then push the new image to the DOM so\n",
       "    // that it is saved nicely (might be nice to debounce this).\n",
       "    setTimeout(function () { fig.push_to_output() }, 1000);\n",
       "}\n",
       "\n",
       "mpl.figure.prototype._init_toolbar = function() {\n",
       "    var fig = this;\n",
       "\n",
       "    var nav_element = $('<div/>')\n",
       "    nav_element.attr('style', 'width: 100%');\n",
       "    this.root.append(nav_element);\n",
       "\n",
       "    // Define a callback function for later on.\n",
       "    function toolbar_event(event) {\n",
       "        return fig.toolbar_button_onclick(event['data']);\n",
       "    }\n",
       "    function toolbar_mouse_event(event) {\n",
       "        return fig.toolbar_button_onmouseover(event['data']);\n",
       "    }\n",
       "\n",
       "    for(var toolbar_ind in mpl.toolbar_items){\n",
       "        var name = mpl.toolbar_items[toolbar_ind][0];\n",
       "        var tooltip = mpl.toolbar_items[toolbar_ind][1];\n",
       "        var image = mpl.toolbar_items[toolbar_ind][2];\n",
       "        var method_name = mpl.toolbar_items[toolbar_ind][3];\n",
       "\n",
       "        if (!name) { continue; };\n",
       "\n",
       "        var button = $('<button class=\"btn btn-default\" href=\"#\" title=\"' + name + '\"><i class=\"fa ' + image + ' fa-lg\"></i></button>');\n",
       "        button.click(method_name, toolbar_event);\n",
       "        button.mouseover(tooltip, toolbar_mouse_event);\n",
       "        nav_element.append(button);\n",
       "    }\n",
       "\n",
       "    // Add the status bar.\n",
       "    var status_bar = $('<span class=\"mpl-message\" style=\"text-align:right; float: right;\"/>');\n",
       "    nav_element.append(status_bar);\n",
       "    this.message = status_bar[0];\n",
       "\n",
       "    // Add the close button to the window.\n",
       "    var buttongrp = $('<div class=\"btn-group inline pull-right\"></div>');\n",
       "    var button = $('<button class=\"btn btn-mini btn-primary\" href=\"#\" title=\"Stop Interaction\"><i class=\"fa fa-power-off icon-remove icon-large\"></i></button>');\n",
       "    button.click(function (evt) { fig.handle_close(fig, {}); } );\n",
       "    button.mouseover('Stop Interaction', toolbar_mouse_event);\n",
       "    buttongrp.append(button);\n",
       "    var titlebar = this.root.find($('.ui-dialog-titlebar'));\n",
       "    titlebar.prepend(buttongrp);\n",
       "}\n",
       "\n",
       "mpl.figure.prototype._root_extra_style = function(el){\n",
       "    var fig = this\n",
       "    el.on(\"remove\", function(){\n",
       "\tfig.close_ws(fig, {});\n",
       "    });\n",
       "}\n",
       "\n",
       "mpl.figure.prototype._canvas_extra_style = function(el){\n",
       "    // this is important to make the div 'focusable\n",
       "    el.attr('tabindex', 0)\n",
       "    // reach out to IPython and tell the keyboard manager to turn it's self\n",
       "    // off when our div gets focus\n",
       "\n",
       "    // location in version 3\n",
       "    if (IPython.notebook.keyboard_manager) {\n",
       "        IPython.notebook.keyboard_manager.register_events(el);\n",
       "    }\n",
       "    else {\n",
       "        // location in version 2\n",
       "        IPython.keyboard_manager.register_events(el);\n",
       "    }\n",
       "\n",
       "}\n",
       "\n",
       "mpl.figure.prototype._key_event_extra = function(event, name) {\n",
       "    var manager = IPython.notebook.keyboard_manager;\n",
       "    if (!manager)\n",
       "        manager = IPython.keyboard_manager;\n",
       "\n",
       "    // Check for shift+enter\n",
       "    if (event.shiftKey && event.which == 13) {\n",
       "        this.canvas_div.blur();\n",
       "        event.shiftKey = false;\n",
       "        // Send a \"J\" for go to next cell\n",
       "        event.which = 74;\n",
       "        event.keyCode = 74;\n",
       "        manager.command_mode();\n",
       "        manager.handle_keydown(event);\n",
       "    }\n",
       "}\n",
       "\n",
       "mpl.figure.prototype.handle_save = function(fig, msg) {\n",
       "    fig.ondownload(fig, null);\n",
       "}\n",
       "\n",
       "\n",
       "mpl.find_output_cell = function(html_output) {\n",
       "    // Return the cell and output element which can be found *uniquely* in the notebook.\n",
       "    // Note - this is a bit hacky, but it is done because the \"notebook_saving.Notebook\"\n",
       "    // IPython event is triggered only after the cells have been serialised, which for\n",
       "    // our purposes (turning an active figure into a static one), is too late.\n",
       "    var cells = IPython.notebook.get_cells();\n",
       "    var ncells = cells.length;\n",
       "    for (var i=0; i<ncells; i++) {\n",
       "        var cell = cells[i];\n",
       "        if (cell.cell_type === 'code'){\n",
       "            for (var j=0; j<cell.output_area.outputs.length; j++) {\n",
       "                var data = cell.output_area.outputs[j];\n",
       "                if (data.data) {\n",
       "                    // IPython >= 3 moved mimebundle to data attribute of output\n",
       "                    data = data.data;\n",
       "                }\n",
       "                if (data['text/html'] == html_output) {\n",
       "                    return [cell, data, j];\n",
       "                }\n",
       "            }\n",
       "        }\n",
       "    }\n",
       "}\n",
       "\n",
       "// Register the function which deals with the matplotlib target/channel.\n",
       "// The kernel may be null if the page has been refreshed.\n",
       "if (IPython.notebook.kernel != null) {\n",
       "    IPython.notebook.kernel.comm_manager.register_target('matplotlib', mpl.mpl_figure_comm);\n",
       "}\n"
      ],
      "text/plain": [
       "<IPython.core.display.Javascript object>"
      ]
     },
     "metadata": {},
     "output_type": "display_data"
    },
    {
     "data": {
      "text/html": [
       "<img src=\"data:image/png;base64,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\" width=\"639.8333333333334\">"
      ],
      "text/plain": [
       "<IPython.core.display.HTML object>"
      ]
     },
     "metadata": {},
     "output_type": "display_data"
    }
   ],
   "source": [
    "plt.clf()\n",
    "ThresholdData.plot()\n",
    "plt.show()"
   ]
  },
  {
   "cell_type": "code",
   "execution_count": 49,
   "metadata": {
    "ExecuteTime": {
     "end_time": "2018-07-26T04:26:45.311215Z",
     "start_time": "2018-07-26T04:26:44.967868Z"
    }
   },
   "outputs": [],
   "source": [
    "cewoData2=cewoData.where(cewoData!=65535.)\n",
    "cewoData2 = cewoData2.where(cewoData2!=-3.4028234663852886e+38) #remove no data vals\n",
    "cewoData2 = cewoData2.where(cewoData2!=0) #remove no data vals\n",
    "cewoData2 = cewoData2.where(cewoData2.data!=2.0) #remove storages"
   ]
  },
  {
   "cell_type": "code",
   "execution_count": 35,
   "metadata": {
    "ExecuteTime": {
     "end_time": "2018-07-26T06:14:05.959784Z",
     "start_time": "2018-07-26T06:14:05.012833Z"
    }
   },
   "outputs": [
    {
     "name": "stdout",
     "output_type": "stream",
     "text": [
      "<xarray.DataArray ()>\n",
      "array(14073216)\n",
      "<xarray.DataArray ()>\n",
      "array(14073216)\n",
      "<xarray.DataArray ()>\n",
      "array(166880)\n",
      "<xarray.DataArray ()>\n",
      "array(158833)\n"
     ]
    }
   ],
   "source": [
    "cewo_comp = cewo_comp.where(cewo_comp!=-3.4028234663852886e+38)\n",
    "print(cewo_comp.count())\n",
    "cewo_comp = cewo_comp.where(cewo_comp!=0)\n",
    "print(cewo_comp.count())\n",
    "cewo_comp = cewo_comp.where(cewo_comp!=65535.)\n",
    "print(cewo_comp.count())\n",
    "cewo_comp = cewo_comp.where(cewo_comp!=2.0)\n",
    "print(cewo_comp.count())"
   ]
  },
  {
   "cell_type": "code",
   "execution_count": 50,
   "metadata": {
    "ExecuteTime": {
     "end_time": "2018-07-26T04:26:46.086882Z",
     "start_time": "2018-07-26T04:26:46.040873Z"
    }
   },
   "outputs": [
    {
     "data": {
      "text/plain": [
       "<xarray.DataArray ()>\n",
       "array(1.)"
      ]
     },
     "execution_count": 50,
     "metadata": {},
     "output_type": "execute_result"
    }
   ],
   "source": [
    "cewoData2.max()"
   ]
  },
  {
   "cell_type": "code",
   "execution_count": 62,
   "metadata": {
    "ExecuteTime": {
     "end_time": "2018-07-26T04:29:44.300009Z",
     "start_time": "2018-07-26T04:29:44.289588Z"
    }
   },
   "outputs": [
    {
     "data": {
      "text/plain": [
       "(14073216, 14073216)"
      ]
     },
     "execution_count": 62,
     "metadata": {},
     "output_type": "execute_result"
    }
   ],
   "source": [
    "cewo_comp.size, ThresholdData.size"
   ]
  },
  {
   "cell_type": "code",
   "execution_count": 59,
   "metadata": {
    "ExecuteTime": {
     "end_time": "2018-07-26T04:29:20.748349Z",
     "start_time": "2018-07-26T04:29:20.664450Z"
    }
   },
   "outputs": [
    {
     "name": "stdout",
     "output_type": "stream",
     "text": [
      "<xarray.DataArray ()>\n",
      "array(158833) <xarray.DataArray ()>\n",
      "array(44768)\n"
     ]
    }
   ],
   "source": [
    "print(cewo_comp.count(), ThresholdData.count())"
   ]
  },
  {
   "cell_type": "code",
   "execution_count": 52,
   "metadata": {
    "ExecuteTime": {
     "end_time": "2018-07-26T04:26:49.829253Z",
     "start_time": "2018-07-26T04:26:48.720378Z"
    }
   },
   "outputs": [],
   "source": [
    "cewoData2.plot() \n",
    "plt.show()"
   ]
  },
  {
   "cell_type": "code",
   "execution_count": null,
   "metadata": {},
   "outputs": [],
   "source": [
    "cewo"
   ]
  },
  {
   "cell_type": "code",
   "execution_count": null,
   "metadata": {},
   "outputs": [],
   "source": []
  },
  {
   "cell_type": "code",
   "execution_count": null,
   "metadata": {},
   "outputs": [],
   "source": []
  },
  {
   "cell_type": "code",
   "execution_count": null,
   "metadata": {},
   "outputs": [],
   "source": []
  },
  {
   "cell_type": "code",
   "execution_count": null,
   "metadata": {},
   "outputs": [],
   "source": [
    "# Make sure all the missing values are taken out\n",
    "NDVIDatamaxNonull = NDVIDatamax.where(NDVIDatamax != -1)\n",
    "NDMIDatamaxNonull = NDMIDatamax.where(NDMIDatamax != -1)"
   ]
  },
  {
   "cell_type": "markdown",
   "metadata": {},
   "source": [
    "## Read in the validation mask and use it to examine the resulting pixel populations"
   ]
  },
  {
   "cell_type": "code",
   "execution_count": null,
   "metadata": {},
   "outputs": [],
   "source": [
    "# Data * mask = data or nan\n",
    "NDVIIrrigated = mask * NDVIDatamaxNonull\n",
    "# Find where the mask is nan, and use this True/False to mask data\n",
    "NDVINonIrrigated = NDVIDatamaxNonull.where(np.isnan(mask))\n",
    "\n",
    "# Data * mask = data or nan\n",
    "NDMIIrrigated = mask * NDMIDatamaxNonull\n",
    "# Find where the mask is nan, and use this True/False to mask data\n",
    "NDMINonIrrigated = NDMIDatamaxNonull.where(np.isnan(mask))"
   ]
  },
  {
   "cell_type": "markdown",
   "metadata": {},
   "source": [
    "## Need to flatten the data so we can plot two single dimension arrays against each other"
   ]
  },
  {
   "cell_type": "code",
   "execution_count": null,
   "metadata": {},
   "outputs": [],
   "source": [
    "NDVIIrrigatedflat = NDVIIrrigated.data.reshape(NDVIIrrigated.x.size * NDVIIrrigated.y.size)\n",
    "NDVINonIrrigatedflat = NDVINonIrrigated.data.reshape(NDVINonIrrigated.x.size * NDVINonIrrigated.y.size)\n",
    "\n",
    "NDMIIrrigatedflat = NDMIIrrigated.data.reshape(NDMIIrrigated.x.size * NDMIIrrigated.y.size)\n",
    "NDMINonIrrigatedflat = NDMINonIrrigated.data.reshape(NDMINonIrrigated.x.size * NDMINonIrrigated.y.size)"
   ]
  },
  {
   "cell_type": "markdown",
   "metadata": {},
   "source": [
    "## Draw a histogram of the two populations\n",
    "\n",
    "Matplotlib histogram doesn't like `nan`, so we need to remove the `nan` values before we can create a histogram. This is done by reshaping the array into a single dimension, then removing the nan values.\n",
    "\n",
    "This histogram will allow us to determine a valid threshold value for the automatic irrigated crop extent layer."
   ]
  },
  {
   "cell_type": "code",
   "execution_count": null,
   "metadata": {
    "scrolled": false
   },
   "outputs": [],
   "source": [
    "bin_values = np.arange(0, 1.0, 0.02)\n",
    "\n",
    "fig, axs = plt.subplots(1, 2, sharex=True, tight_layout=True, figsize = [9,5])\n",
    "axs[0].hist(NDVIIrrigatedflat[np.isfinite(NDVIIrrigatedflat)], bins=bin_values, facecolor = 'blue');\n",
    "axs[0].set_title('{0} for Namoi irrigated fields {0}'.format(Index, year))\n",
    "axs[0].set_xlabel(Index)\n",
    "axs[1].hist(NDVINonIrrigatedflat[np.isfinite(NDVINonIrrigatedflat)], bins=bin_values, facecolor = 'brown');\n",
    "axs[1].set_title('{0} for Namoi non-irrigated fields {0}'.format(Index, year))\n",
    "axs[1].set_xlabel(Index)\n",
    "savefig('/g/data/r78/cek156/dea-notebooks/Crop_mapping/Playing_around/Namoi_NDVI_{1}.jpg'.format(Index, year))"
   ]
  },
  {
   "cell_type": "markdown",
   "metadata": {},
   "source": [
    "## Is there a relationship between a pixel's NDVI and NDMI?"
   ]
  },
  {
   "cell_type": "code",
   "execution_count": null,
   "metadata": {},
   "outputs": [],
   "source": [
    "plt.figure(figsize = [8,8])\n",
    "\n",
    "plt.scatter(NDVINonIrrigatedflat[::10], NDMINonIrrigatedflat[::10], facecolor = 'brown', marker = '.')\n",
    "plt.scatter(NDVIIrrigatedflat[::10], NDMIIrrigatedflat[::10], facecolor = 'blue', marker = '.')\n",
    "plt.xlabel('NDVI')\n",
    "plt.ylabel('NDMI')\n",
    "plt.title('NDVI vs NDMI for every pixel in the Namoi Catchment')\n",
    "plt.legend(['Non-irrigated pixels', 'Irrigated pixels'])\n",
    "savefig('/g/data/r78/cek156/dea-notebooks/Crop_mapping/Playing_around/Namoi_scatter_{0}.jpg'.format(year))"
   ]
  },
  {
   "cell_type": "code",
   "execution_count": null,
   "metadata": {},
   "outputs": [],
   "source": []
  }
 ],
 "metadata": {
  "kernelspec": {
   "display_name": "Python 3",
   "language": "python",
   "name": "python3"
  },
  "language_info": {
   "codemirror_mode": {
    "name": "ipython",
    "version": 3
   },
   "file_extension": ".py",
   "mimetype": "text/x-python",
   "name": "python",
   "nbconvert_exporter": "python",
   "pygments_lexer": "ipython3",
   "version": "3.6.5"
  },
  "toc": {
   "base_numbering": 1,
   "nav_menu": {},
   "number_sections": true,
   "sideBar": true,
   "skip_h1_title": false,
   "title_cell": "Table of Contents",
   "title_sidebar": "Contents",
   "toc_cell": false,
   "toc_position": {},
   "toc_section_display": true,
   "toc_window_display": false
  }
 },
 "nbformat": 4,
 "nbformat_minor": 2
}
