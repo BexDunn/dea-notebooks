{
 "cells": [
  {
   "cell_type": "markdown",
   "metadata": {},
   "source": [
    "### Code to loop through tiles"
   ]
  },
  {
   "cell_type": "code",
   "execution_count": 11,
   "metadata": {},
   "outputs": [
    {
     "name": "stdout",
     "output_type": "stream",
     "text": [
      "/home/jovyan\n"
     ]
    }
   ],
   "source": [
    "# Check and reset path\n",
    "cd"
   ]
  },
  {
   "cell_type": "code",
   "execution_count": 8,
   "metadata": {},
   "outputs": [
    {
     "data": {
      "text/plain": [
       "['5 -32', '5 -33', '5 -34', '5 -35']"
      ]
     },
     "execution_count": 8,
     "metadata": {},
     "output_type": "execute_result"
    }
   ],
   "source": [
    "# Import modules\n",
    "import datacube\n",
    "import pandas as pd\n",
    "import matplotlib.pyplot as plt\n",
    "import sys\n",
    "import xarray as xr\n",
    "from os import path\n",
    "from datacube.helpers import write_geotiff\n",
    "from datacube.virtual import catalog_from_file\n",
    "\n",
    "dc = datacube.Datacube(app='Load tiles')\n",
    "\n",
    "# Define custom functions to calculate salt index\n",
    "def calc_si5(ds):\n",
    "    return (ds['blue']*ds['red'])/ds['green']\n",
    "\n",
    "# Static paths\n",
    "tilefile = 'dev/dea-notebooks/Gabrielle_dev/Salt_pans/tiles-land'\n",
    "base_path = 'dev/dea-notebooks/Gabrielle_dev/Salt_pans/'\n",
    "\n",
    "# Custom functions\n",
    "# Load tiles\n",
    "def load_tiles(filepath):\n",
    "    with open(filepath, 'r') as f:\n",
    "        lines = [line.rstrip() for line in f]\n",
    "    return lines\n",
    "\n",
    "# load tiles\n",
    "tiles = load_tiles(tilefile)\n",
    "tiles"
   ]
  },
  {
   "cell_type": "code",
   "execution_count": 12,
   "metadata": {},
   "outputs": [],
   "source": [
    "# Define funciton to get tile bounds\n",
    "def get_tile_bounds(tile):\n",
    "    x, y = tile.split(' ')\n",
    "    minx = int(x) * 100000\n",
    "    miny = int(y) * 100000\n",
    "    maxx = minx + 100000\n",
    "    maxy = miny + 100000\n",
    "\n",
    "    return {'minx': minx, 'miny': miny, 'maxx': maxx, 'maxy': maxy}"
   ]
  },
  {
   "cell_type": "code",
   "execution_count": 10,
   "metadata": {},
   "outputs": [
    {
     "name": "stdout",
     "output_type": "stream",
     "text": [
      "Processing tile  5 -32\n",
      "Bounds {'minx': 500000, 'miny': -3200000, 'maxx': 600000, 'maxy': -3100000}\n",
      "Saving dev/dea-notebooks/Gabrielle_dev/Salt_pans/SI5_5_-32.tif\n",
      "Saving dataset <xarray.Dataset>\n",
      "Dimensions:      (x: 1000, y: 1000)\n",
      "Coordinates:\n",
      "    spatial_ref  int32 3577\n",
      "  * y            (y) float64 -3.1e+06 -3.1e+06 -3.1e+06 ... -3.2e+06 -3.2e+06\n",
      "  * x            (x) float64 5.000e+05 5.002e+05 5.002e+05 ... 5.998e+05 6e+05\n",
      "    time         datetime64[ns] 2015-01-01\n",
      "Data variables:\n",
      "    si5          (y, x) float32 2020.4534 2014.6212 ... 1682.2954 1679.8986\n",
      "Attributes:\n",
      "    crs:      EPSG:3577\n",
      "Processing tile  5 -33\n",
      "Bounds {'minx': 500000, 'miny': -3300000, 'maxx': 600000, 'maxy': -3200000}\n"
     ]
    },
    {
     "name": "stderr",
     "output_type": "stream",
     "text": [
      "/env/lib/python3.6/site-packages/datacube/helpers.py:34: DeprecationWarning: Function datacube.helpers.write_geotiff is deprecated,\n",
      "please use datacube.utils.cog.write_cog instead\n",
      "  category=DeprecationWarning)\n"
     ]
    },
    {
     "name": "stdout",
     "output_type": "stream",
     "text": [
      "Saving dev/dea-notebooks/Gabrielle_dev/Salt_pans/SI5_5_-33.tif\n",
      "Saving dataset <xarray.Dataset>\n",
      "Dimensions:      (x: 1000, y: 1000)\n",
      "Coordinates:\n",
      "    spatial_ref  int32 3577\n",
      "  * y            (y) float64 -3.2e+06 -3.2e+06 -3.2e+06 ... -3.3e+06 -3.3e+06\n",
      "  * x            (x) float64 5.000e+05 5.002e+05 5.002e+05 ... 5.998e+05 6e+05\n",
      "    time         datetime64[ns] 2015-01-01\n",
      "Data variables:\n",
      "    si5          (y, x) float32 2713.2688 2697.436 ... 1524.7341 1483.2344\n",
      "Attributes:\n",
      "    crs:      EPSG:3577\n",
      "Processing tile  5 -34\n",
      "Bounds {'minx': 500000, 'miny': -3400000, 'maxx': 600000, 'maxy': -3300000}\n"
     ]
    },
    {
     "name": "stderr",
     "output_type": "stream",
     "text": [
      "/env/lib/python3.6/site-packages/datacube/helpers.py:34: DeprecationWarning: Function datacube.helpers.write_geotiff is deprecated,\n",
      "please use datacube.utils.cog.write_cog instead\n",
      "  category=DeprecationWarning)\n"
     ]
    },
    {
     "name": "stdout",
     "output_type": "stream",
     "text": [
      "Saving dev/dea-notebooks/Gabrielle_dev/Salt_pans/SI5_5_-34.tif\n",
      "Saving dataset <xarray.Dataset>\n",
      "Dimensions:      (x: 1000, y: 1000)\n",
      "Coordinates:\n",
      "    spatial_ref  int32 3577\n",
      "  * y            (y) float64 -3.3e+06 -3.3e+06 -3.3e+06 ... -3.4e+06 -3.4e+06\n",
      "  * x            (x) float64 5.000e+05 5.002e+05 5.002e+05 ... 5.998e+05 6e+05\n",
      "    time         datetime64[ns] 2015-01-01\n",
      "Data variables:\n",
      "    si5          (y, x) float32 2798.8652 2828.2388 ... 1242.3776 1201.1658\n",
      "Attributes:\n",
      "    crs:      EPSG:3577\n",
      "Processing tile  5 -35\n",
      "Bounds {'minx': 500000, 'miny': -3500000, 'maxx': 600000, 'maxy': -3400000}\n"
     ]
    },
    {
     "name": "stderr",
     "output_type": "stream",
     "text": [
      "/env/lib/python3.6/site-packages/datacube/helpers.py:34: DeprecationWarning: Function datacube.helpers.write_geotiff is deprecated,\n",
      "please use datacube.utils.cog.write_cog instead\n",
      "  category=DeprecationWarning)\n"
     ]
    },
    {
     "name": "stdout",
     "output_type": "stream",
     "text": [
      "Saving dev/dea-notebooks/Gabrielle_dev/Salt_pans/SI5_5_-35.tif\n",
      "Saving dataset <xarray.Dataset>\n",
      "Dimensions:      (x: 1000, y: 1000)\n",
      "Coordinates:\n",
      "    spatial_ref  int32 3577\n",
      "  * y            (y) float64 -3.4e+06 -3.4e+06 -3.4e+06 ... -3.5e+06 -3.5e+06\n",
      "  * x            (x) float64 5.000e+05 5.002e+05 5.002e+05 ... 5.998e+05 6e+05\n",
      "    time         datetime64[ns] 2015-01-01\n",
      "Data variables:\n",
      "    si5          (y, x) float32 1436.1991 1418.5543 ... 690.4363 782.2534\n",
      "Attributes:\n",
      "    crs:      EPSG:3577\n"
     ]
    },
    {
     "name": "stderr",
     "output_type": "stream",
     "text": [
      "/env/lib/python3.6/site-packages/datacube/helpers.py:34: DeprecationWarning: Function datacube.helpers.write_geotiff is deprecated,\n",
      "please use datacube.utils.cog.write_cog instead\n",
      "  category=DeprecationWarning)\n"
     ]
    }
   ],
   "source": [
    "# Load each tile and save out salt index\n",
    "for tile in tiles:\n",
    "    x, y = tile.split(' ')\n",
    "    out_name = 'SI5_' + x + '_' + y + '.tif'\n",
    "          \n",
    "    # Process the tile\n",
    "    print('Processing tile ',tile)\n",
    "\n",
    "    bounds = get_tile_bounds(tile)\n",
    "    print('Bounds',bounds)\n",
    "    \n",
    "    # Load the imagery\n",
    "    service = '/home/jovyan/development/'\n",
    "    x=(bounds['minx'],bounds['maxx'])\n",
    "    y=(bounds['miny'],bounds['maxy'])\n",
    "    res = (-100, 100)\n",
    "    crs = \"EPSG:3577\"\n",
    "    time = (\"2015-01-01\", \"2015-12-31\")\n",
    "    query =({'time': time,\n",
    "    'x':x,\n",
    "    'y':y,\n",
    "    'crs':crs,\n",
    "    'resolution':res})\n",
    "    catalog = catalog_from_file(str(service)+'livingearth_australia/le_plugins/virtual_product_cat.yaml')\n",
    "    product = catalog['best_pixel_gm']\n",
    "    ds = product.load(dc, **query)\n",
    "    #print('Geomedian image:',ds)\n",
    "    \n",
    "    test_si5 = (ds['blue']*ds['red'])/ds['green']\n",
    "    #py.imshow(test_si5.isel(time=0))\n",
    "    #print('test_si5: ',test_si5)\n",
    "    \n",
    "    # Save the tile \n",
    "    dataset = test_si5.isel(time=0).to_dataset(name='si5').assign_attrs({'crs': 'EPSG:3577'})\n",
    "    print('Saving',base_path + out_name)\n",
    "    print('Saving dataset',dataset)\n",
    "    write_geotiff(base_path + out_name, dataset)"
   ]
  }
 ],
 "metadata": {
  "kernelspec": {
   "display_name": "Python 3",
   "language": "python",
   "name": "python3"
  },
  "language_info": {
   "codemirror_mode": {
    "name": "ipython",
    "version": 3
   },
   "file_extension": ".py",
   "mimetype": "text/x-python",
   "name": "python",
   "nbconvert_exporter": "python",
   "pygments_lexer": "ipython3",
   "version": "3.6.9"
  }
 },
 "nbformat": 4,
 "nbformat_minor": 4
}
