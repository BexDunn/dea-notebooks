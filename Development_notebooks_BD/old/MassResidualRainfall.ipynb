{
 "cells": [
  {
   "cell_type": "markdown",
   "metadata": {
    "ExecuteTime": {
     "end_time": "2018-06-28T01:35:53.336872Z",
     "start_time": "2018-06-28T01:35:53.327303Z"
    }
   },
   "source": [
    "Authors: Bex Dunn, Neil Symington, Claire Krause, Leo Lymburner"
   ]
  },
  {
   "cell_type": "markdown",
   "metadata": {
    "ExecuteTime": {
     "end_time": "2018-06-19T03:17:44.341801Z",
     "start_time": "2018-06-19T03:17:44.338622Z"
    }
   },
   "source": [
    "### get some modules"
   ]
  },
  {
   "cell_type": "code",
   "execution_count": 47,
   "metadata": {
    "ExecuteTime": {
     "end_time": "2018-07-05T06:51:25.834050Z",
     "start_time": "2018-07-05T06:51:24.706592Z"
    }
   },
   "outputs": [
    {
     "name": "stdout",
     "output_type": "stream",
     "text": [
      "The autoreload extension is already loaded. To reload it, use:\n",
      "  %reload_ext autoreload\n"
     ]
    }
   ],
   "source": [
    "%load_ext autoreload\n",
    "%autoreload 2\n",
    "\n",
    "from datetime import datetime\n",
    "import matplotlib.pyplot as plt\n",
    "\n",
    "#dealing with system commands\n",
    "import sys\n",
    "import os.path\n",
    "\n",
    "#modules for datacube\n",
    "import datacube\n",
    "from datacube.utils import geometry\n",
    "from datacube.storage.storage import write_dataset_to_netcdf\n",
    "from datacube.helpers import write_geotiff\n",
    "\n",
    "# Import external functions from dea-notebooks\n",
    "sys.path.append(os.path.expanduser('~/dea-notebooks/Scripts/'))\n",
    "from RainfallTools import load_rainfall, calculate_residual_mass_curve"
   ]
  },
  {
   "cell_type": "markdown",
   "metadata": {},
   "source": [
    "## Choose a time period and location to calculate residual mass curve.\n",
    " - Note: please select whole months here, not days, as a month with only two days may negatively affect your mass residual curve"
   ]
  },
  {
   "cell_type": "code",
   "execution_count": 48,
   "metadata": {
    "ExecuteTime": {
     "end_time": "2018-07-05T06:51:25.887647Z",
     "start_time": "2018-07-05T06:51:25.840123Z"
    }
   },
   "outputs": [],
   "source": [
    "## Choose a query area and time\n",
    "##note: datacube is inclusive of both ends of the interval.\n",
    "\n",
    "\n",
    "### choose only whole months please\n",
    "query = {\n",
    "        'lat': (-35.25, -35.35),\n",
    "        'lon': (149.05, 149.17),\n",
    "        'time':('2010-01-01', '2013-03-01')\n",
    "        }"
   ]
  },
  {
   "cell_type": "markdown",
   "metadata": {
    "ExecuteTime": {
     "end_time": "2018-06-19T03:17:55.964257Z",
     "start_time": "2018-06-19T03:17:55.960083Z"
    }
   },
   "source": [
    "### load rainfall data"
   ]
  },
  {
   "cell_type": "code",
   "execution_count": 49,
   "metadata": {
    "ExecuteTime": {
     "end_time": "2018-07-05T06:51:26.622749Z",
     "start_time": "2018-07-05T06:51:26.582707Z"
    }
   },
   "outputs": [],
   "source": [
    "#using the BoM grids to 2013. These are out by 2.5km, be aware."
   ]
  },
  {
   "cell_type": "code",
   "execution_count": 50,
   "metadata": {
    "ExecuteTime": {
     "end_time": "2018-07-05T06:51:34.409186Z",
     "start_time": "2018-07-05T06:51:26.920240Z"
    }
   },
   "outputs": [],
   "source": [
    "#rainfall = load_rainfall(query)\n",
    "dc = datacube.Datacube(app='dc-BOMrainfall')\n",
    "rainfall = dc.load(product = 'bom_rainfall_grids', **query)"
   ]
  },
  {
   "cell_type": "markdown",
   "metadata": {},
   "source": [
    "## calculate rainfall mass residual"
   ]
  },
  {
   "cell_type": "code",
   "execution_count": 51,
   "metadata": {
    "ExecuteTime": {
     "end_time": "2018-07-05T06:51:34.449880Z",
     "start_time": "2018-07-05T06:51:34.412934Z"
    }
   },
   "outputs": [],
   "source": [
    "'''This function calculates the residual mass rainfall curve ##FIXME\n",
    ":param a: '''\n",
    "import datacube\n",
    "import numpy as np\n",
    "import xarray as xr"
   ]
  },
  {
   "cell_type": "markdown",
   "metadata": {
    "ExecuteTime": {
     "end_time": "2018-06-28T23:43:28.605179Z",
     "start_time": "2018-06-28T23:43:28.351228Z"
    }
   },
   "source": [
    "## resample rainfall data to month start ##FIXME, daily option"
   ]
  },
  {
   "cell_type": "code",
   "execution_count": 52,
   "metadata": {
    "ExecuteTime": {
     "end_time": "2018-07-05T06:51:34.567781Z",
     "start_time": "2018-07-05T06:51:34.452315Z"
    }
   },
   "outputs": [
    {
     "data": {
      "text/plain": [
       "<xarray.Dataset>\n",
       "Dimensions:    (latitude: 2, longitude: 3, time: 1156)\n",
       "Coordinates:\n",
       "  * time       (time) datetime64[ns] 2010-01-01 2010-01-02 2010-01-03 ...\n",
       "  * latitude   (latitude) float64 -35.27 -35.32\n",
       "  * longitude  (longitude) float64 149.1 149.1 149.2\n",
       "Data variables:\n",
       "    rainfall   (time, latitude, longitude) float32 1.0589818 1.0485023 ...\n",
       "Attributes:\n",
       "    crs:      EPSG:4326"
      ]
     },
     "execution_count": 52,
     "metadata": {},
     "output_type": "execute_result"
    }
   ],
   "source": [
    "rainfall"
   ]
  },
  {
   "cell_type": "code",
   "execution_count": 53,
   "metadata": {
    "ExecuteTime": {
     "end_time": "2018-07-05T06:51:34.608594Z",
     "start_time": "2018-07-05T06:51:34.572315Z"
    }
   },
   "outputs": [],
   "source": [
    "#cumulative_rainfall = rainfall.cumsum(dim='time',keep_attrs=True)"
   ]
  },
  {
   "cell_type": "code",
   "execution_count": 96,
   "metadata": {
    "ExecuteTime": {
     "end_time": "2018-07-05T07:02:17.039248Z",
     "start_time": "2018-07-05T07:02:16.922308Z"
    }
   },
   "outputs": [],
   "source": [
    "monthly_mean_rainfall = rainfall.groupby('time.month').mean(dim='time', keep_attrs='True')"
   ]
  },
  {
   "cell_type": "code",
   "execution_count": 55,
   "metadata": {
    "ExecuteTime": {
     "end_time": "2018-07-05T06:51:34.687490Z",
     "start_time": "2018-07-05T06:51:34.650294Z"
    }
   },
   "outputs": [],
   "source": [
    "#monthly_mean_rainfall.rainfall.plot(col='month',col_wrap=3)"
   ]
  },
  {
   "cell_type": "code",
   "execution_count": 56,
   "metadata": {
    "ExecuteTime": {
     "end_time": "2018-07-05T06:51:34.725353Z",
     "start_time": "2018-07-05T06:51:34.690940Z"
    }
   },
   "outputs": [],
   "source": [
    "#monthly_mean_rainfall"
   ]
  },
  {
   "cell_type": "code",
   "execution_count": 57,
   "metadata": {
    "ExecuteTime": {
     "end_time": "2018-07-05T06:51:34.764382Z",
     "start_time": "2018-07-05T06:51:34.727740Z"
    }
   },
   "outputs": [],
   "source": [
    "#rainfall.rainfall.plot(col='time')"
   ]
  },
  {
   "cell_type": "code",
   "execution_count": 58,
   "metadata": {
    "ExecuteTime": {
     "end_time": "2018-07-05T06:51:34.801626Z",
     "start_time": "2018-07-05T06:51:34.767670Z"
    }
   },
   "outputs": [],
   "source": [
    "#cumulative_rainfall.rainfall.plot(col='time')"
   ]
  },
  {
   "cell_type": "code",
   "execution_count": 59,
   "metadata": {
    "ExecuteTime": {
     "end_time": "2018-07-05T06:51:34.834983Z",
     "start_time": "2018-07-05T06:51:34.803963Z"
    }
   },
   "outputs": [],
   "source": [
    "#monthly_mean_rainfall.rainfall[-1]"
   ]
  },
  {
   "cell_type": "code",
   "execution_count": 60,
   "metadata": {
    "ExecuteTime": {
     "end_time": "2018-07-05T06:51:34.868967Z",
     "start_time": "2018-07-05T06:51:34.837341Z"
    }
   },
   "outputs": [],
   "source": [
    "#cumulative_rainfall.rainfall[-1]"
   ]
  },
  {
   "cell_type": "code",
   "execution_count": 61,
   "metadata": {
    "ExecuteTime": {
     "end_time": "2018-07-05T06:51:34.906841Z",
     "start_time": "2018-07-05T06:51:34.871315Z"
    }
   },
   "outputs": [],
   "source": [
    "## Bex version"
   ]
  },
  {
   "cell_type": "code",
   "execution_count": 62,
   "metadata": {
    "ExecuteTime": {
     "end_time": "2018-07-05T06:51:35.038788Z",
     "start_time": "2018-07-05T06:51:34.909281Z"
    }
   },
   "outputs": [],
   "source": [
    "#resample rainfall data to month start\n",
    "monthly_rainfall = rainfall.resample(time='MS').sum('time')"
   ]
  },
  {
   "cell_type": "code",
   "execution_count": 95,
   "metadata": {
    "ExecuteTime": {
     "end_time": "2018-07-05T07:02:03.886615Z",
     "start_time": "2018-07-05T07:02:02.753183Z"
    }
   },
   "outputs": [
    {
     "data": {
      "text/plain": [
       "<xarray.Dataset>\n",
       "Dimensions:    (latitude: 2, longitude: 3, time: 39)\n",
       "Coordinates:\n",
       "  * time       (time) datetime64[ns] 2010-01-01 2010-02-01 2010-03-01 ...\n",
       "  * latitude   (latitude) float64 -35.27 -35.32\n",
       "  * longitude  (longitude) float64 149.1 149.1 149.2\n",
       "Data variables:\n",
       "    rainfall   (time, latitude, longitude) float32 6.088235 7.4755325 ..."
      ]
     },
     "execution_count": 95,
     "metadata": {},
     "output_type": "execute_result"
    }
   ],
   "source": [
    "monthly_rainfall"
   ]
  },
  {
   "cell_type": "code",
   "execution_count": 64,
   "metadata": {
    "ExecuteTime": {
     "end_time": "2018-07-05T06:51:36.562032Z",
     "start_time": "2018-07-05T06:51:36.484584Z"
    }
   },
   "outputs": [
    {
     "data": {
      "text/plain": [
       "<xarray.DataArray 'month' (time: 39)>\n",
       "array([ 1,  2,  3,  4,  5,  6,  7,  8,  9, 10, 11, 12,  1,  2,  3,  4,  5,  6,\n",
       "        7,  8,  9, 10, 11, 12,  1,  2,  3,  4,  5,  6,  7,  8,  9, 10, 11, 12,\n",
       "        1,  2,  3])\n",
       "Coordinates:\n",
       "  * time     (time) datetime64[ns] 2010-01-01 2010-02-01 2010-03-01 ..."
      ]
     },
     "execution_count": 64,
     "metadata": {},
     "output_type": "execute_result"
    }
   ],
   "source": [
    "monthly_rainfall.time.dt.month"
   ]
  },
  {
   "cell_type": "code",
   "execution_count": 65,
   "metadata": {
    "ExecuteTime": {
     "end_time": "2018-07-05T06:51:37.388188Z",
     "start_time": "2018-07-05T06:51:37.325864Z"
    }
   },
   "outputs": [],
   "source": [
    "# find the number of years in the data\n",
    "years_in_data = len(monthly_rainfall.rainfall.time)/12"
   ]
  },
  {
   "cell_type": "code",
   "execution_count": 66,
   "metadata": {
    "ExecuteTime": {
     "end_time": "2018-07-05T06:51:37.875788Z",
     "start_time": "2018-07-05T06:51:37.820647Z"
    }
   },
   "outputs": [
    {
     "data": {
      "text/plain": [
       "3.25"
      ]
     },
     "execution_count": 66,
     "metadata": {},
     "output_type": "execute_result"
    }
   ],
   "source": [
    "years_in_data"
   ]
  },
  {
   "cell_type": "code",
   "execution_count": 67,
   "metadata": {
    "ExecuteTime": {
     "end_time": "2018-07-05T06:51:40.100413Z",
     "start_time": "2018-07-05T06:51:40.012183Z"
    }
   },
   "outputs": [
    {
     "data": {
      "text/plain": [
       "<xarray.Dataset>\n",
       "Dimensions:    (latitude: 2, longitude: 3, time: 39)\n",
       "Coordinates:\n",
       "  * time       (time) datetime64[ns] 2010-01-01 2010-02-01 2010-03-01 ...\n",
       "  * latitude   (latitude) float64 -35.27 -35.32\n",
       "  * longitude  (longitude) float64 149.1 149.1 149.2\n",
       "Data variables:\n",
       "    rainfall   (time, latitude, longitude) float32 6.088235 7.4755325 ..."
      ]
     },
     "execution_count": 67,
     "metadata": {},
     "output_type": "execute_result"
    }
   ],
   "source": [
    "monthly_rainfall"
   ]
  },
  {
   "cell_type": "code",
   "execution_count": 68,
   "metadata": {
    "ExecuteTime": {
     "end_time": "2018-07-05T06:51:40.983942Z",
     "start_time": "2018-07-05T06:51:40.946113Z"
    }
   },
   "outputs": [],
   "source": [
    "cumulative_rainfall = monthly_rainfall.cumsum(dim='time')"
   ]
  },
  {
   "cell_type": "code",
   "execution_count": 69,
   "metadata": {
    "ExecuteTime": {
     "end_time": "2018-07-05T06:51:41.849849Z",
     "start_time": "2018-07-05T06:51:41.761515Z"
    }
   },
   "outputs": [
    {
     "data": {
      "text/plain": [
       "<xarray.Dataset>\n",
       "Dimensions:    (latitude: 2, longitude: 3, time: 39)\n",
       "Coordinates:\n",
       "  * time       (time) datetime64[ns] 2010-01-01 2010-02-01 2010-03-01 ...\n",
       "  * latitude   (latitude) float64 -35.27 -35.32\n",
       "  * longitude  (longitude) float64 149.1 149.1 149.2\n",
       "Data variables:\n",
       "    rainfall   (time, latitude, longitude) float32 6.088235 7.4755325 ..."
      ]
     },
     "execution_count": 69,
     "metadata": {},
     "output_type": "execute_result"
    }
   ],
   "source": [
    "monthly_rainfall"
   ]
  },
  {
   "cell_type": "code",
   "execution_count": 70,
   "metadata": {
    "ExecuteTime": {
     "end_time": "2018-07-05T06:51:43.011169Z",
     "start_time": "2018-07-05T06:51:42.931636Z"
    }
   },
   "outputs": [
    {
     "data": {
      "text/plain": [
       "<xarray.Dataset>\n",
       "Dimensions:    (latitude: 2, longitude: 3, time: 39)\n",
       "Coordinates:\n",
       "  * latitude   (latitude) float64 -35.27 -35.32\n",
       "  * longitude  (longitude) float64 149.1 149.1 149.2\n",
       "Dimensions without coordinates: time\n",
       "Data variables:\n",
       "    rainfall   (time, latitude, longitude) float32 6.088235 7.4755325 ..."
      ]
     },
     "execution_count": 70,
     "metadata": {},
     "output_type": "execute_result"
    }
   ],
   "source": [
    "cumulative_rainfall"
   ]
  },
  {
   "cell_type": "code",
   "execution_count": 71,
   "metadata": {
    "ExecuteTime": {
     "end_time": "2018-07-05T06:51:44.743096Z",
     "start_time": "2018-07-05T06:51:44.688162Z"
    }
   },
   "outputs": [],
   "source": [
    "#cumulative rainfall has lost its time coordinates. can we reattach?"
   ]
  },
  {
   "cell_type": "code",
   "execution_count": 72,
   "metadata": {
    "ExecuteTime": {
     "end_time": "2018-07-05T06:51:45.158884Z",
     "start_time": "2018-07-05T06:51:45.098070Z"
    }
   },
   "outputs": [],
   "source": [
    "cumulative_rainfall=cumulative_rainfall.assign_coords(time=monthly_rainfall.coords['time'])"
   ]
  },
  {
   "cell_type": "code",
   "execution_count": 73,
   "metadata": {
    "ExecuteTime": {
     "end_time": "2018-07-05T06:51:46.006360Z",
     "start_time": "2018-07-05T06:51:45.921622Z"
    }
   },
   "outputs": [
    {
     "data": {
      "text/plain": [
       "<xarray.Dataset>\n",
       "Dimensions:    (latitude: 2, longitude: 3, time: 39)\n",
       "Coordinates:\n",
       "  * latitude   (latitude) float64 -35.27 -35.32\n",
       "  * longitude  (longitude) float64 149.1 149.1 149.2\n",
       "  * time       (time) datetime64[ns] 2010-01-01 2010-02-01 2010-03-01 ...\n",
       "Data variables:\n",
       "    rainfall   (time, latitude, longitude) float32 6.088235 7.4755325 ..."
      ]
     },
     "execution_count": 73,
     "metadata": {},
     "output_type": "execute_result"
    }
   ],
   "source": [
    "cumulative_rainfall"
   ]
  },
  {
   "cell_type": "code",
   "execution_count": 74,
   "metadata": {
    "ExecuteTime": {
     "end_time": "2018-07-05T06:51:46.938603Z",
     "start_time": "2018-07-05T06:51:46.902748Z"
    }
   },
   "outputs": [],
   "source": [
    "\n",
    "#arr = monthly_rainfall.rainfall.values\n",
    "\n",
    "#cum_rf = np.cumsum(arr, axis = 0)"
   ]
  },
  {
   "cell_type": "code",
   "execution_count": 75,
   "metadata": {
    "ExecuteTime": {
     "end_time": "2018-07-05T06:51:55.964204Z",
     "start_time": "2018-07-05T06:51:55.897688Z"
    }
   },
   "outputs": [],
   "source": [
    "##cum_rf_xr = xr.DataArray(cum_rf, dims = ('time', 'latitude', 'longitude'),\n",
    "      #                  coords = [monthly_rainfall.time, monthly_rainfall.latitude, monthly_rainfall.longitude])"
   ]
  },
  {
   "cell_type": "code",
   "execution_count": 76,
   "metadata": {
    "ExecuteTime": {
     "end_time": "2018-07-05T06:51:56.507170Z",
     "start_time": "2018-07-05T06:51:56.439448Z"
    }
   },
   "outputs": [],
   "source": [
    "#cum_rf_xr"
   ]
  },
  {
   "cell_type": "code",
   "execution_count": 77,
   "metadata": {
    "ExecuteTime": {
     "end_time": "2018-07-05T06:51:56.978018Z",
     "start_time": "2018-07-05T06:51:56.895663Z"
    }
   },
   "outputs": [],
   "source": [
    "# NOw we will calculate a cumulative rainfall assuming average rainfall on a month by month basis\n",
    "# Find the average of all months\n",
    "ave_months = rainfall.rainfall.groupby('time.month').mean('time').values"
   ]
  },
  {
   "cell_type": "code",
   "execution_count": 78,
   "metadata": {
    "ExecuteTime": {
     "end_time": "2018-07-05T06:51:59.193941Z",
     "start_time": "2018-07-05T06:51:59.114723Z"
    }
   },
   "outputs": [
    {
     "data": {
      "text/plain": [
       "(12, 2, 3)"
      ]
     },
     "execution_count": 78,
     "metadata": {},
     "output_type": "execute_result"
    }
   ],
   "source": [
    "ave_months.shape"
   ]
  },
  {
   "cell_type": "code",
   "execution_count": 79,
   "metadata": {
    "ExecuteTime": {
     "end_time": "2018-07-05T06:52:00.087294Z",
     "start_time": "2018-07-05T06:52:00.022079Z"
    }
   },
   "outputs": [],
   "source": [
    "#d#aily_mean_rainfall.plot(rainfall, time.dayofyear)"
   ]
  },
  {
   "cell_type": "code",
   "execution_count": null,
   "metadata": {},
   "outputs": [],
   "source": []
  },
  {
   "cell_type": "code",
   "execution_count": 80,
   "metadata": {
    "ExecuteTime": {
     "end_time": "2018-07-05T06:52:01.238518Z",
     "start_time": "2018-07-05T06:52:01.174448Z"
    }
   },
   "outputs": [],
   "source": [
    "# In the case that we are not starting from January we will need to reorder the array\n",
    "\n",
    "start_month = rainfall.time[0].dt.month.values - 1\n",
    "\n",
    "ave_month = np.concatenate((ave_months[start_month:,:,:], ave_months[0:start_month,:,:]), axis = 0)"
   ]
  },
  {
   "cell_type": "code",
   "execution_count": 81,
   "metadata": {
    "ExecuteTime": {
     "end_time": "2018-07-05T06:52:01.931773Z",
     "start_time": "2018-07-05T06:52:01.868319Z"
    }
   },
   "outputs": [
    {
     "data": {
      "text/plain": [
       "(12, 2, 3)"
      ]
     },
     "execution_count": 81,
     "metadata": {},
     "output_type": "execute_result"
    }
   ],
   "source": [
    "ave_month.shape"
   ]
  },
  {
   "cell_type": "code",
   "execution_count": 82,
   "metadata": {
    "ExecuteTime": {
     "end_time": "2018-07-05T06:52:02.706200Z",
     "start_time": "2018-07-05T06:52:02.661818Z"
    }
   },
   "outputs": [
    {
     "name": "stdout",
     "output_type": "stream",
     "text": [
      "3\n"
     ]
    }
   ],
   "source": [
    "print(round(years_in_data))"
   ]
  },
  {
   "cell_type": "code",
   "execution_count": 88,
   "metadata": {
    "ExecuteTime": {
     "end_time": "2018-07-05T06:53:08.118371Z",
     "start_time": "2018-07-05T06:53:08.073103Z"
    }
   },
   "outputs": [],
   "source": [
    "# Tile an array so that we can run a cumulative sum on it\n",
    "tiled_ave = np.tile(ave_months, (round(years_in_data), 1, 1))"
   ]
  },
  {
   "cell_type": "code",
   "execution_count": 89,
   "metadata": {
    "ExecuteTime": {
     "end_time": "2018-07-05T06:53:08.835036Z",
     "start_time": "2018-07-05T06:53:08.782053Z"
    }
   },
   "outputs": [
    {
     "data": {
      "text/plain": [
       "(36, 2, 3)"
      ]
     },
     "execution_count": 89,
     "metadata": {},
     "output_type": "execute_result"
    }
   ],
   "source": [
    "tiled_ave.shape"
   ]
  },
  {
   "cell_type": "code",
   "execution_count": 90,
   "metadata": {
    "ExecuteTime": {
     "end_time": "2018-07-05T06:53:11.217155Z",
     "start_time": "2018-07-05T06:53:11.148860Z"
    }
   },
   "outputs": [
    {
     "data": {
      "text/plain": [
       "(36, 2, 3)"
      ]
     },
     "execution_count": 90,
     "metadata": {},
     "output_type": "execute_result"
    }
   ],
   "source": [
    "tiled_ave.shape"
   ]
  },
  {
   "cell_type": "code",
   "execution_count": 91,
   "metadata": {
    "ExecuteTime": {
     "end_time": "2018-07-05T06:53:13.105956Z",
     "start_time": "2018-07-05T06:53:13.040095Z"
    }
   },
   "outputs": [],
   "source": [
    "# Generate the cumulative sum of rainfall one would get assuming average rainfall every month\n",
    "cum_ave = np.cumsum(tiled_ave, axis = 0)"
   ]
  },
  {
   "cell_type": "code",
   "execution_count": 92,
   "metadata": {
    "ExecuteTime": {
     "end_time": "2018-07-05T06:53:35.928627Z",
     "start_time": "2018-07-05T06:53:35.861802Z"
    }
   },
   "outputs": [
    {
     "data": {
      "text/plain": [
       "(36, 2, 3)"
      ]
     },
     "execution_count": 92,
     "metadata": {},
     "output_type": "execute_result"
    }
   ],
   "source": [
    "cum_ave.shape"
   ]
  },
  {
   "cell_type": "code",
   "execution_count": 93,
   "metadata": {
    "ExecuteTime": {
     "end_time": "2018-07-05T06:53:54.489972Z",
     "start_time": "2018-07-05T06:53:54.394395Z"
    }
   },
   "outputs": [
    {
     "data": {
      "text/plain": [
       "<xarray.Dataset>\n",
       "Dimensions:    (latitude: 2, longitude: 3, time: 39)\n",
       "Coordinates:\n",
       "  * time       (time) datetime64[ns] 2010-01-01 2010-02-01 2010-03-01 ...\n",
       "  * latitude   (latitude) float64 -35.27 -35.32\n",
       "  * longitude  (longitude) float64 149.1 149.1 149.2\n",
       "Data variables:\n",
       "    rainfall   (time, latitude, longitude) float32 6.088235 7.4755325 ..."
      ]
     },
     "execution_count": 93,
     "metadata": {},
     "output_type": "execute_result"
    }
   ],
   "source": [
    "monthly_rainfall"
   ]
  },
  {
   "cell_type": "code",
   "execution_count": 94,
   "metadata": {
    "ExecuteTime": {
     "end_time": "2018-07-05T06:53:57.618247Z",
     "start_time": "2018-07-05T06:53:56.581985Z"
    }
   },
   "outputs": [
    {
     "ename": "ValueError",
     "evalue": "conflicting sizes for dimension 'time': length 36 on the data but length 39 on coordinate 'time'",
     "output_type": "error",
     "traceback": [
      "\u001b[0;31m---------------------------------------------------------------------------\u001b[0m",
      "\u001b[0;31mValueError\u001b[0m                                Traceback (most recent call last)",
      "\u001b[0;32m<ipython-input-94-5cc093b30408>\u001b[0m in \u001b[0;36m<module>\u001b[0;34m()\u001b[0m\n\u001b[1;32m      1\u001b[0m cum_ave_xr = xr.DataArray(cum_ave, dims = ('time', 'latitude', 'longitude'),\n\u001b[0;32m----> 2\u001b[0;31m                           coords = [monthly_rainfall.time, monthly_rainfall.latitude, monthly_rainfall.longitude])\n\u001b[0m",
      "\u001b[0;32m/g/data/v10/public/modules/dea-env/20180629/lib/python3.6/site-packages/xarray/core/dataarray.py\u001b[0m in \u001b[0;36m__init__\u001b[0;34m(self, data, coords, dims, name, attrs, encoding, fastpath)\u001b[0m\n\u001b[1;32m    225\u001b[0m \u001b[0;34m\u001b[0m\u001b[0m\n\u001b[1;32m    226\u001b[0m             \u001b[0mdata\u001b[0m \u001b[0;34m=\u001b[0m \u001b[0mas_compatible_data\u001b[0m\u001b[0;34m(\u001b[0m\u001b[0mdata\u001b[0m\u001b[0;34m)\u001b[0m\u001b[0;34m\u001b[0m\u001b[0m\n\u001b[0;32m--> 227\u001b[0;31m             \u001b[0mcoords\u001b[0m\u001b[0;34m,\u001b[0m \u001b[0mdims\u001b[0m \u001b[0;34m=\u001b[0m \u001b[0m_infer_coords_and_dims\u001b[0m\u001b[0;34m(\u001b[0m\u001b[0mdata\u001b[0m\u001b[0;34m.\u001b[0m\u001b[0mshape\u001b[0m\u001b[0;34m,\u001b[0m \u001b[0mcoords\u001b[0m\u001b[0;34m,\u001b[0m \u001b[0mdims\u001b[0m\u001b[0;34m)\u001b[0m\u001b[0;34m\u001b[0m\u001b[0m\n\u001b[0m\u001b[1;32m    228\u001b[0m             \u001b[0mvariable\u001b[0m \u001b[0;34m=\u001b[0m \u001b[0mVariable\u001b[0m\u001b[0;34m(\u001b[0m\u001b[0mdims\u001b[0m\u001b[0;34m,\u001b[0m \u001b[0mdata\u001b[0m\u001b[0;34m,\u001b[0m \u001b[0mattrs\u001b[0m\u001b[0;34m,\u001b[0m \u001b[0mencoding\u001b[0m\u001b[0;34m,\u001b[0m \u001b[0mfastpath\u001b[0m\u001b[0;34m=\u001b[0m\u001b[0;32mTrue\u001b[0m\u001b[0;34m)\u001b[0m\u001b[0;34m\u001b[0m\u001b[0m\n\u001b[1;32m    229\u001b[0m \u001b[0;34m\u001b[0m\u001b[0m\n",
      "\u001b[0;32m/g/data/v10/public/modules/dea-env/20180629/lib/python3.6/site-packages/xarray/core/dataarray.py\u001b[0m in \u001b[0;36m_infer_coords_and_dims\u001b[0;34m(shape, coords, dims)\u001b[0m\n\u001b[1;32m     80\u001b[0m                 raise ValueError('conflicting sizes for dimension %r: '\n\u001b[1;32m     81\u001b[0m                                  \u001b[0;34m'length %s on the data but length %s on '\u001b[0m\u001b[0;34m\u001b[0m\u001b[0m\n\u001b[0;32m---> 82\u001b[0;31m                                  'coordinate %r' % (d, sizes[d], s, k))\n\u001b[0m\u001b[1;32m     83\u001b[0m \u001b[0;34m\u001b[0m\u001b[0m\n\u001b[1;32m     84\u001b[0m         \u001b[0;32mif\u001b[0m \u001b[0mk\u001b[0m \u001b[0;32min\u001b[0m \u001b[0msizes\u001b[0m \u001b[0;32mand\u001b[0m \u001b[0mv\u001b[0m\u001b[0;34m.\u001b[0m\u001b[0mshape\u001b[0m \u001b[0;34m!=\u001b[0m \u001b[0;34m(\u001b[0m\u001b[0msizes\u001b[0m\u001b[0;34m[\u001b[0m\u001b[0mk\u001b[0m\u001b[0;34m]\u001b[0m\u001b[0;34m,\u001b[0m\u001b[0;34m)\u001b[0m\u001b[0;34m:\u001b[0m\u001b[0;34m\u001b[0m\u001b[0m\n",
      "\u001b[0;31mValueError\u001b[0m: conflicting sizes for dimension 'time': length 36 on the data but length 39 on coordinate 'time'"
     ]
    }
   ],
   "source": [
    "cum_ave_xr = xr.DataArray(cum_ave, dims = ('time', 'latitude', 'longitude'),\n",
    "                          coords = [monthly_rainfall.time, monthly_rainfall.latitude, monthly_rainfall.longitude])"
   ]
  },
  {
   "cell_type": "code",
   "execution_count": null,
   "metadata": {
    "ExecuteTime": {
     "end_time": "2018-07-05T06:03:31.133758Z",
     "start_time": "2018-07-05T06:03:31.051310Z"
    }
   },
   "outputs": [],
   "source": [
    "# The mass residual curve is the difference between the cumulative rainfall data and the cumulative\n",
    "# rainfall one would get iff the average always occured\n",
    "mass_res_curve = cum_rf_xr - cum_ave_xr\n",
    "\n",
    "mass_res_curve"
   ]
  },
  {
   "cell_type": "code",
   "execution_count": null,
   "metadata": {
    "ExecuteTime": {
     "end_time": "2018-07-05T06:03:37.223026Z",
     "start_time": "2018-07-05T06:03:32.339806Z"
    }
   },
   "outputs": [],
   "source": [
    "mass_res_curve.plot(col='time', col_wrap=6)"
   ]
  },
  {
   "cell_type": "code",
   "execution_count": null,
   "metadata": {
    "ExecuteTime": {
     "end_time": "2018-07-05T06:03:40.816282Z",
     "start_time": "2018-07-05T06:03:40.546714Z"
    }
   },
   "outputs": [],
   "source": [
    "mass_res_curve.mean(dim=('latitude','longitude')).plot()\n"
   ]
  },
  {
   "cell_type": "code",
   "execution_count": null,
   "metadata": {
    "ExecuteTime": {
     "end_time": "2018-07-05T02:15:49.405053Z",
     "start_time": "2018-07-05T02:15:48.173747Z"
    }
   },
   "outputs": [],
   "source": [
    "# def calculate_residual_mass_curve(a):\n",
    "#     '''This function calculates the residual mass rainfall curve\n",
    "#     :param a: '''\n",
    "    \n",
    "#     #resample rainfall data to month start\n",
    "#     a = a.resample('MS', dim='time', how='sum', keep_attrs=True) \n",
    "#     # find the number of time steps (ie. years)\n",
    "#     n = len(a.rainfall.time)/12\n",
    "    \n",
    "#     # First calculate a cumulative rainfall xarray from the rainfall data\n",
    "    \n",
    "#     arr = a.rainfall.values\n",
    "    \n",
    "#     cum_rf = np.cumsum(arr, axis = 0)\n",
    "    \n",
    "#     cum_rf_xr = xr.DataArray(cum_rf, dims = ('time', 'latitude', 'longitude'),\n",
    "#                             coords = [a.time, a.latitude, a.longitude])\n",
    "    \n",
    "#     # NOw we will calculate a cumulative rainfall assuming average rainfall on a month by month basis\n",
    "#     # Find the average of all months\n",
    "#     ave_months = a.rainfall.groupby('time.month').mean('time').values\n",
    "   \n",
    "#     # In the case that we are not starting from January we will need to reorder the array\n",
    "    \n",
    "#     start_month = a.time[0].dt.month.values - 1\n",
    "    \n",
    "#     ave_month = np.concatenate((ave_months[start_month:,:,:], ave_months[0:start_month,:,:]), axis = 0)\n",
    "\n",
    "    \n",
    "#     # Tile an array so that we can run a cumulative sum on it\n",
    "#     tiled_ave = np.tile(ave_months, (round(n), 1, 1))\n",
    "    \n",
    "#     # In the case that we have residual months remove them from the tiled array\n",
    "#     if (n).is_integer() == False:\n",
    "#         month_remainder = int(round((n%1) * 12))\n",
    "\n",
    "#         tiled_ave = tiled_ave[:int(-month_remainder),:,:]\n",
    "        \n",
    "#     # Generate the cumulative sum of rainfall one would get assuming average rainfall every month\n",
    "#     cum_ave = np.cumsum(tiled_ave, axis = 0)\n",
    "    \n",
    "#     cum_ave_xr = xr.DataArray(cum_ave, dims = ('time', 'latitude', 'longitude'),\n",
    "#                               coords = [a.time, a.latitude, a.longitude])\n",
    "    \n",
    "#     # The mass residual curve is the difference between the cumulative rainfall data and the cumulative\n",
    "#     # rainfall one would get iff the average always occured\n",
    "#     mass_res_curve = cum_rf_xr - cum_ave_xr\n",
    "    \n",
    "#     return mass_res_curve\n"
   ]
  },
  {
   "cell_type": "markdown",
   "metadata": {},
   "source": [
    "## calculate metrics based on rainfall\n",
    "- increasing and decreasing periods\n",
    "- wet year after dry years\n",
    "- dry year after wet years\n",
    "-"
   ]
  },
  {
   "cell_type": "markdown",
   "metadata": {},
   "source": [
    "## calculate metrics based on residual rainfall\n",
    "- increasing and decreasing periods\n",
    "- wet year after dry years\n",
    "- dry year after wet years\n"
   ]
  },
  {
   "cell_type": "markdown",
   "metadata": {
    "ExecuteTime": {
     "end_time": "2018-06-19T02:35:14.176120Z",
     "start_time": "2018-06-19T02:35:14.168390Z"
    }
   },
   "source": [
    "## calculate seasonality\n",
    "- Koppen climate region (use notebook to follow decision tree - requires climate data)\n",
    "- Summer dominant, Summer, Uniform, Winter, Winter dominant #\n",
    "- TROP SOI value\n",
    "- IOD /SAM indices\n",
    "\"During El Niño, rainfall in eastern Australian is typically below average during winter and spring. A neutral ENSO phase has little effect on Australian climate.\"Bureau of meteorology http://www.bom.gov.au/climate/enso/  "
   ]
  },
  {
   "cell_type": "code",
   "execution_count": null,
   "metadata": {
    "ExecuteTime": {
     "end_time": "2018-06-22T01:40:17.240395Z",
     "start_time": "2018-06-22T01:40:17.195266Z"
    }
   },
   "outputs": [],
   "source": [
    "# Calculate failed wet seasons - calculate total wet season + dry season rainfalls\n",
    "# (end of wet season rainfalls?)"
   ]
  }
 ],
 "metadata": {
  "kernelspec": {
   "display_name": "Python 3",
   "language": "python",
   "name": "python3"
  },
  "language_info": {
   "codemirror_mode": {
    "name": "ipython",
    "version": 3
   },
   "file_extension": ".py",
   "mimetype": "text/x-python",
   "name": "python",
   "nbconvert_exporter": "python",
   "pygments_lexer": "ipython3",
   "version": "3.6.5"
  }
 },
 "nbformat": 4,
 "nbformat_minor": 2
}
