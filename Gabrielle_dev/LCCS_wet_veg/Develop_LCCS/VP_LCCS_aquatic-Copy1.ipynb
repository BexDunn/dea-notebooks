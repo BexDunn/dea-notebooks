{
 "cells": [
  {
   "cell_type": "markdown",
   "metadata": {},
   "source": [
    "### Import modules"
   ]
  },
  {
   "cell_type": "code",
   "execution_count": 1,
   "metadata": {},
   "outputs": [
    {
     "name": "stdout",
     "output_type": "stream",
     "text": [
      "/home/jovyan\n"
     ]
    }
   ],
   "source": [
    "cd"
   ]
  },
  {
   "cell_type": "code",
   "execution_count": 2,
   "metadata": {},
   "outputs": [],
   "source": [
    "import datacube \n",
    "from datacube.virtual import catalog_from_file\n",
    "dc = datacube.Datacube()\n",
    "\n",
    "service = '/home/jovyan/development/'\n",
    "from datacube.helpers import write_geotiff\n",
    "import numpy as np\n",
    "import sys\n",
    "import xarray as xr\n",
    "from itertools import groupby\n",
    "\n",
    "sys.path.append(\"dev/dea-notebooks/Gabrielle_dev/Scripts\")\n",
    "from dea_plotting import rgb\n",
    "from dea_plotting import display_map\n",
    "from dea_bandindices import calculate_indices\n",
    "\n",
    "# product = catalog['salty']\n",
    "# data = product.load(dc, **query)\n",
    "# (data.vssi.squeeze()).plot.imshow()"
   ]
  },
  {
   "cell_type": "markdown",
   "metadata": {},
   "source": [
    "### Locations"
   ]
  },
  {
   "cell_type": "code",
   "execution_count": null,
   "metadata": {},
   "outputs": [],
   "source": []
  },
  {
   "cell_type": "markdown",
   "metadata": {},
   "source": [
    "### View the selected location"
   ]
  },
  {
   "cell_type": "code",
   "execution_count": 3,
   "metadata": {},
   "outputs": [
    {
     "name": "stderr",
     "output_type": "stream",
     "text": [
      "/env/lib/python3.6/site-packages/pyproj/crs/crs.py:53: FutureWarning: '+init=<authority>:<code>' syntax is deprecated. '<authority>:<code>' is the preferred initialization method. When making the change, be mindful of axis order changes: https://pyproj4.github.io/pyproj/stable/gotchas.html#axis-order-changes-in-proj-6\n",
      "  return _prepare_from_string(\" \".join(pjargs))\n",
      "/env/lib/python3.6/site-packages/pyproj/crs/crs.py:294: FutureWarning: '+init=<authority>:<code>' syntax is deprecated. '<authority>:<code>' is the preferred initialization method. When making the change, be mindful of axis order changes: https://pyproj4.github.io/pyproj/stable/gotchas.html#axis-order-changes-in-proj-6\n",
      "  projstring = _prepare_from_string(\" \".join((projstring, projkwargs)))\n",
      "/env/lib/python3.6/site-packages/pyproj/crs/crs.py:53: FutureWarning: '+init=<authority>:<code>' syntax is deprecated. '<authority>:<code>' is the preferred initialization method. When making the change, be mindful of axis order changes: https://pyproj4.github.io/pyproj/stable/gotchas.html#axis-order-changes-in-proj-6\n",
      "  return _prepare_from_string(\" \".join(pjargs))\n",
      "/env/lib/python3.6/site-packages/pyproj/crs/crs.py:294: FutureWarning: '+init=<authority>:<code>' syntax is deprecated. '<authority>:<code>' is the preferred initialization method. When making the change, be mindful of axis order changes: https://pyproj4.github.io/pyproj/stable/gotchas.html#axis-order-changes-in-proj-6\n",
      "  projstring = _prepare_from_string(\" \".join((projstring, projkwargs)))\n"
     ]
    },
    {
     "data": {
      "text/html": [
       "<div style=\"width:100%;\"><div style=\"position:relative;width:100%;height:0;padding-bottom:60%;\"><iframe src=\"data:text/html;charset=utf-8;base64,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\" style=\"position:absolute;width:100%;height:100%;left:0;top:0;border:none !important;\" allowfullscreen webkitallowfullscreen mozallowfullscreen></iframe></div></div>"
      ],
      "text/plain": [
       "<folium.folium.Map at 0x7f844852d7f0>"
      ]
     },
     "execution_count": 3,
     "metadata": {},
     "output_type": "execute_result"
    }
   ],
   "source": [
    "# Set the central latitude and longitude\n",
    "central_lat = -12.220129\n",
    "central_lon = 132.281712\n",
    "\n",
    "# Set the buffer to load around the central coordinates\n",
    "buffer = 0.1\n",
    "\n",
    "# Compute the bounding box for the study area\n",
    "study_area_lat = (central_lat - buffer, central_lat + buffer)\n",
    "study_area_lon = (central_lon - buffer, central_lon + buffer)\n",
    "\n",
    "display_map(x=study_area_lon, y=study_area_lat, margin=-0.2)"
   ]
  },
  {
   "cell_type": "markdown",
   "metadata": {},
   "source": [
    "### Set parameters"
   ]
  },
  {
   "cell_type": "code",
   "execution_count": 4,
   "metadata": {},
   "outputs": [],
   "source": [
    "# x = (350000, 400000)\n",
    "# y = (-3500000, -3450000)\n",
    "\n",
    "# Name\n",
    "# area_name = 'Leichhardt'\n",
    "x = study_area_lon#(min_x,max_x)\n",
    "y = study_area_lat#(min_y,max_y)\n",
    "res = (-100, 100)\n",
    "crs = \"EPSG:4326\"\n",
    "time = (\"2015-01-01\", \"2015-12-31\")\n",
    "query =({'time': time,\n",
    "             'x':x,\n",
    "            'y':y,\n",
    "            'crs':crs,\n",
    "            'output_crs':'EPSG:3577',\n",
    "            'resolution':res,\n",
    "            'group_by': 'solar_day'})\n",
    "catalog = catalog_from_file(str(service)+'livingearth_australia/le_plugins/virtual_product_cat.yaml')"
   ]
  },
  {
   "cell_type": "markdown",
   "metadata": {},
   "source": [
    "### Add le plugins"
   ]
  },
  {
   "cell_type": "code",
   "execution_count": 6,
   "metadata": {},
   "outputs": [],
   "source": [
    "import importlib\n",
    "import sys\n",
    "import os\n",
    "from datacube.virtual import DEFAULT_RESOLVER\n",
    "sys.path.append(os.path.abspath(str(service)+\"livingearth_australia/le_plugins\"))\n",
    "sys.path.append(str(service)+\"dea-notebooks/Scripts\")\n",
    "sys.path.append(str(service)+\"livingearth_australia\")\n",
    "\n",
    "#see what's already in the resolver \n",
    "DEFAULT_RESOLVER.lookup_table['transform']\n",
    "\n",
    "# Now we add the transformation we're testing\n",
    "# Get location of transformation\n",
    "transformation = \"le_plugins.waterseasonality\"\n",
    "trans_loc = importlib.import_module(transformation)\n",
    "trans_class = transformation.split('.')[-1]\n",
    "DEFAULT_RESOLVER.register('transform', trans_class, getattr(trans_loc, trans_class) )"
   ]
  },
  {
   "cell_type": "code",
   "execution_count": 7,
   "metadata": {},
   "outputs": [
    {
     "data": {
      "text/plain": [
       "{'make_mask': datacube.virtual.transformations.MakeMask,\n",
       " 'apply_mask': datacube.virtual.transformations.ApplyMask,\n",
       " 'to_float': datacube.virtual.transformations.ToFloat,\n",
       " 'rename': datacube.virtual.transformations.Rename,\n",
       " 'select': datacube.virtual.transformations.Select,\n",
       " 'expressions': datacube.virtual.transformations.Expressions,\n",
       " 'waterseasonality': le_plugins.waterseasonality.waterseasonality}"
      ]
     },
     "execution_count": 7,
     "metadata": {},
     "output_type": "execute_result"
    }
   ],
   "source": [
    "#see what's now in the resolver \n",
    "DEFAULT_RESOLVER.lookup_table['transform']"
   ]
  },
  {
   "cell_type": "markdown",
   "metadata": {},
   "source": [
    "### Load data\n",
    "`ls_fc_wofs_masked_recipe` and `wofs_daily_recipe` both go into FC_summary"
   ]
  },
  {
   "cell_type": "code",
   "execution_count": 8,
   "metadata": {},
   "outputs": [],
   "source": [
    "product = catalog['ls_ard_daily']\n",
    "data = product.load(dc, **query)"
   ]
  },
  {
   "cell_type": "code",
   "execution_count": 9,
   "metadata": {},
   "outputs": [
    {
     "data": {
      "text/plain": [
       "<matplotlib.collections.QuadMesh at 0x7f840cf0f9b0>"
      ]
     },
     "execution_count": 9,
     "metadata": {},
     "output_type": "execute_result"
    },
    {
     "data": {
      "image/png": "[encoded data removed]",
      "text/plain": [
       "<Figure size 432x288 with 2 Axes>"
      ]
     },
     "metadata": {
      "needs_background": "light"
     },
     "output_type": "display_data"
    }
   ],
   "source": [
    "data.isel(time=1).nbart_blue.plot()"
   ]
  },
  {
   "cell_type": "markdown",
   "metadata": {},
   "source": [
    "### Annual TCW based on daily data not geomedian"
   ]
  },
  {
   "cell_type": "code",
   "execution_count": null,
   "metadata": {},
   "outputs": [],
   "source": [
    "### Consecutive count\n",
    "def consecutive_count(water_numpy, consecutive_numpy, required_consecutive, consec_msk_val=1):\n",
    "    '''\n",
    "    function to get consective count of wet vegetation (1) for each pixel across the time series\n",
    "\n",
    "    :param numpy.array water_numpy: 3-D array of tv[z,y,x]\n",
    "    :param numpy.array consecutive_numpy: bool output array for wet vegetation (1) and not wet vegetation (0)\n",
    "    :param float required_consecutive: how many consectutive 1's to be classified as wet vegetation?\n",
    "    :param float consec_msk_val: what value to calculcate consectutives on default is wet vegetation (1)     \n",
    "    '''\n",
    "\n",
    "    for y in range(water_numpy.shape[1]):\n",
    "        for x in range(water_numpy.shape[2]):\n",
    "            # If all the values are nan then just set output to nan and carry on\n",
    "            pixel = water_numpy[:,y,x]\n",
    "\n",
    "            if np.all(np.isnan(pixel)):\n",
    "                consecutive_numpy[y,x] = np.nan\n",
    "                continue            \n",
    "\n",
    "            # Get counts of consecutive water classifications\n",
    "            counts = [len(list(group)) for label, group in groupby(pixel[(~np.isnan(pixel))]) if label == 1]\n",
    "\n",
    "            if not counts:\n",
    "                consecutive_numpy[y,x] = 0\n",
    "            elif max(counts) >= required_consecutive:\n",
    "                consecutive_numpy[y,x] = 1\n",
    "            else:\n",
    "                consecutive_numpy[y,x] = 0\n",
    "\n",
    "    return consecutive_numpy\n",
    "\n",
    "def compute(data):\n",
    "    # Calculate daily TCW\n",
    "    tcw = calculate_indices(data,\n",
    "                            index='TCW', \n",
    "                            collection='ga_ls_3',\n",
    "                            drop=True,\n",
    "                            normalise=False)\n",
    "\n",
    "    # Calculate wet pixels - daily boolean \n",
    "    wet = (tcw.TCW > -600).to_dataset()\n",
    "\n",
    "    # Group by month - total number of observations\n",
    "    wet_month = wet.groupby('time.month').sum(dim='time')  \n",
    "\n",
    "    # Now if at least one time was observed as wet make it 1 (end result is boolean per month)\n",
    "    wet_once = wet_month.TCW >= 1\n",
    "\n",
    "    # reduce original array to 2D\n",
    "    # using max here but not important as we just want to use shape/attributes\n",
    "    wet_reduce = wet_once.max(dim='month')\n",
    "\n",
    "    # Make empty monthly array\n",
    "    watersea = copy.deepcopy(wet_reduce)\n",
    "    watersea.values = np.zeros_like(wet_reduce, dtype='float64')\n",
    "    # print('watersea',watersea)\n",
    "\n",
    "    # Get ready for consecutive count\n",
    "    wet_numpy = wet_once.values\n",
    "    empty_numpy = watersea.values\n",
    "\n",
    "    # Required consecutive\n",
    "    required_consecutive = 2\n",
    "\n",
    "    # Calculate consecutive counts\n",
    "    consec = self.consecutive_count(wet_numpy, empty_numpy, required_consecutive)\n",
    "\n",
    "    # create new data array with sampe dimensions as original\n",
    "    wet_summary = xr.DataArray(consec, coords=wet_reduce.coords, dims=wet_reduce.dims)\n",
    "\n",
    "    # just a check\n",
    "    result = wet_summary.to_dataset(name='annual_tcw').squeeze()\n",
    "    print()\n",
    "    print('annual_tcw result',result)"
   ]
  },
  {
   "cell_type": "code",
   "execution_count": 10,
   "metadata": {},
   "outputs": [],
   "source": [
    "def consecutive_count(water_numpy, consecutive_numpy, required_consecutive, consec_msk_val=1):\n",
    "    '''\n",
    "    function to get consective count of water (1) for each pixel across the time series\n",
    "\n",
    "    :param numpy.array water_numpy: 3-D array of tv[z,y,x]\n",
    "    :param numpy.array consecutive_numpy: bool output array for water (1) and not water (0)\n",
    "    :param float required_consecutive: how many consectutive 1's to be classified as water?\n",
    "    :param float consec_msk_val: what value to calculcate consectutives on\n",
    "           default is water (1)     \n",
    "    '''\n",
    "\n",
    "    for y in range(water_numpy.shape[1]):\n",
    "        for x in range(water_numpy.shape[2]):\n",
    "            # If all the values are nan then just set output to nan and carry on\n",
    "            pixel = water_numpy[:,y,x]\n",
    "\n",
    "            if np.all(np.isnan(pixel)):\n",
    "                consecutive_numpy[y,x] = np.nan\n",
    "                continue            \n",
    "\n",
    "            # Get counts of consecutive water classifications\n",
    "            counts = [len(list(group)) for label, group in groupby(pixel[(~np.isnan(pixel))]) if label == 1]\n",
    "\n",
    "            if not counts:\n",
    "                consecutive_numpy[y,x] = 0\n",
    "            elif max(counts) >= required_consecutive:\n",
    "                consecutive_numpy[y,x] = max(counts)\n",
    "            else:\n",
    "                consecutive_numpy[y,x] = 0\n",
    "\n",
    "    return consecutive_numpy"
   ]
  },
  {
   "cell_type": "markdown",
   "metadata": {},
   "source": [
    "### Water seasonality"
   ]
  },
  {
   "cell_type": "code",
   "execution_count": 11,
   "metadata": {},
   "outputs": [
    {
     "name": "stdout",
     "output_type": "stream",
     "text": [
      "Dropping bands ['nbart_blue', 'nbart_green', 'nbart_red', 'nbart_nir', 'nbart_swir_1', 'nbart_swir_2']\n"
     ]
    },
    {
     "name": "stderr",
     "output_type": "stream",
     "text": [
      "dev/dea-notebooks/Gabrielle_dev/Scripts/dea_bandindices.py:268: UserWarning: \n",
      "A coefficient-based index ('TCW') normally applied to surface reflectance values in the \n",
      "0.0-1.0 range was applied to values in the 0-10000 range. This can produce unexpected results; \n",
      "if required, resolve this by setting `normalise=True`\n",
      "  warnings.warn(f\"\\nA coefficient-based index ('{index}') normally \"\n"
     ]
    },
    {
     "ename": "NameError",
     "evalue": "name 'copy' is not defined",
     "output_type": "error",
     "traceback": [
      "\u001b[0;31m---------------------------------------------------------------------------\u001b[0m",
      "\u001b[0;31mNameError\u001b[0m                                 Traceback (most recent call last)",
      "\u001b[0;32m<ipython-input-11-ce7d447a86ac>\u001b[0m in \u001b[0;36m<module>\u001b[0;34m\u001b[0m\n\u001b[1;32m     70\u001b[0m \u001b[0;34m\u001b[0m\u001b[0m\n\u001b[1;32m     71\u001b[0m \u001b[0;31m# Make empty monthly array\u001b[0m\u001b[0;34m\u001b[0m\u001b[0;34m\u001b[0m\u001b[0;34m\u001b[0m\u001b[0m\n\u001b[0;32m---> 72\u001b[0;31m \u001b[0mwatersea\u001b[0m \u001b[0;34m=\u001b[0m \u001b[0mcopy\u001b[0m\u001b[0;34m.\u001b[0m\u001b[0mdeepcopy\u001b[0m\u001b[0;34m(\u001b[0m\u001b[0mwet_reduce\u001b[0m\u001b[0;34m)\u001b[0m\u001b[0;34m\u001b[0m\u001b[0;34m\u001b[0m\u001b[0m\n\u001b[0m\u001b[1;32m     73\u001b[0m \u001b[0mwatersea\u001b[0m\u001b[0;34m.\u001b[0m\u001b[0mvalues\u001b[0m \u001b[0;34m=\u001b[0m \u001b[0mnp\u001b[0m\u001b[0;34m.\u001b[0m\u001b[0mzeros_like\u001b[0m\u001b[0;34m(\u001b[0m\u001b[0mwet_reduce\u001b[0m\u001b[0;34m,\u001b[0m \u001b[0mdtype\u001b[0m\u001b[0;34m=\u001b[0m\u001b[0;34m'float64'\u001b[0m\u001b[0;34m)\u001b[0m\u001b[0;34m\u001b[0m\u001b[0;34m\u001b[0m\u001b[0m\n\u001b[1;32m     74\u001b[0m \u001b[0;31m# print('watersea',watersea)\u001b[0m\u001b[0;34m\u001b[0m\u001b[0;34m\u001b[0m\u001b[0;34m\u001b[0m\u001b[0m\n",
      "\u001b[0;31mNameError\u001b[0m: name 'copy' is not defined"
     ]
    }
   ],
   "source": [
    "### Cosnecutive count\n",
    "\n",
    "def consecutive_count(water_numpy, consecutive_numpy, required_consecutive, consec_msk_val=1):\n",
    "    '''\n",
    "    function to get consective count of water (1) for each pixel across the time series\n",
    "\n",
    "    :param numpy.array water_numpy: 3-D array of tv[z,y,x]\n",
    "    :param numpy.array consecutive_numpy: bool output array for water (1) and not water (0)\n",
    "    :param float required_consecutive: how many consectutive 1's to be classified as water?\n",
    "    :param float consec_msk_val: what value to calculcate consectutives on\n",
    "           default is water (1)     \n",
    "    '''\n",
    "\n",
    "    for y in range(water_numpy.shape[1]):\n",
    "        for x in range(water_numpy.shape[2]):\n",
    "            # If all the values are nan then just set output to nan and carry on\n",
    "            pixel = water_numpy[:,y,x]\n",
    "\n",
    "            if np.all(np.isnan(pixel)):\n",
    "                consecutive_numpy[y,x] = np.nan\n",
    "                continue            \n",
    "\n",
    "            # Get counts of consecutive water classifications\n",
    "            counts = [len(list(group)) for label, group in groupby(pixel[(~np.isnan(pixel))]) if label == 1]\n",
    "\n",
    "            if not counts:\n",
    "                consecutive_numpy[y,x] = 0\n",
    "            elif max(counts) >= required_consecutive:\n",
    "                consecutive_numpy[y,x] = 1\n",
    "            else:\n",
    "                consecutive_numpy[y,x] = 0\n",
    "\n",
    "    return consecutive_numpy\n",
    "\n",
    "### Actually calculate\n",
    "\n",
    "# print('Data in water seasonality',data)\n",
    "# Calculate daily TCW\n",
    "tcw = calculate_indices(data,\n",
    "                        index='TCW', \n",
    "                        collection='ga_ls_3',\n",
    "                        drop=True,\n",
    "                        normalise=False)\n",
    "# print('tcw',tcw)\n",
    "# tcw.isel(time=1).TCW.plot()\n",
    "\n",
    "# Calculate wet pixels - daily boolean \n",
    "wet = (tcw.TCW > -600).to_dataset()\n",
    "# print('wet',wet)\n",
    "# wet.isel(time=1).TCW.plot()\n",
    "\n",
    "# Group by month - total number of observations\n",
    "wet_month = wet.groupby('time.month').sum(dim='time')  \n",
    "# print('wet_month',wet_month)\n",
    "# wet_month.isel(month=2).TCW.plot()\n",
    "\n",
    "# Now if at least one time was observed as wet make it 1 (end result is boolean per month)\n",
    "wet_once = wet_month.TCW >= 1\n",
    "# print('wet_once',wet_once) \n",
    "# wet_once.isel(month=2).plot()\n",
    "\n",
    "# # Calculate total number of inundated months\n",
    "# wet_months = wet_once.sum(dim='month')\n",
    "# # print('wet months',wet_months)\n",
    "# # wet_months.plot()\n",
    "\n",
    "# reduce original array to 2D\n",
    "# using max here but not important as we just want to use shape/attributes\n",
    "wet_reduce = wet_once.max(dim='month')\n",
    "\n",
    "# Make empty monthly array\n",
    "watersea = copy.deepcopy(wet_reduce)\n",
    "watersea.values = np.zeros_like(wet_reduce, dtype='float64')\n",
    "# print('watersea',watersea)\n",
    "\n",
    "# Get ready for consecutive count\n",
    "wet_numpy = wet_once.values\n",
    "empty_numpy = watersea.values\n",
    "\n",
    "# Required consecutive\n",
    "required_consecutive = 2\n",
    "\n",
    "# Calculate consecutive counts\n",
    "consec = consecutive_count(wet_numpy, empty_numpy, required_consecutive)\n",
    "# print('consec',consec.shape)\n",
    "# plt.imshow(consec)\n",
    "# plt.colorbar()\n",
    "\n",
    "# create new data array with sampe dimensions as original\n",
    "wet_summary = xr.DataArray(consec, coords=wet_reduce.coords, dims=wet_reduce.dims)\n",
    "print('wet_summary',wet_summary)\n",
    "wet_summary.plot()\n",
    "\n",
    "# # using wet_months to seperate Water < 3 months (<= 0.25) and Water > 3 months (> 0.25)\n",
    "# watersea.values = np.where(((wet_summary > 0) & (wet_summary <= 3)), 2, watersea.values)\n",
    "# watersea.values = np.where(((wet_summary > 3) & (wet_summary <= 12)), 1, watersea.values)\n",
    "# # print('watersea',watersea)\n",
    "# watersea.plot()\n",
    "\n",
    "result = wet_summary.to_dataset(name='annual_tcw').squeeze()\n",
    "print('result',result)"
   ]
  },
  {
   "cell_type": "code",
   "execution_count": 19,
   "metadata": {},
   "outputs": [],
   "source": [
    "import copy\n",
    "import matplotlib.pyplot as plt"
   ]
  },
  {
   "cell_type": "code",
   "execution_count": 23,
   "metadata": {},
   "outputs": [
    {
     "name": "stdout",
     "output_type": "stream",
     "text": [
      "Dropping bands ['nbart_blue', 'nbart_green', 'nbart_red', 'nbart_nir', 'nbart_swir_1', 'nbart_swir_2']\n",
      "result <xarray.Dataset>\n",
      "Dimensions:           (x: 223, y: 218)\n",
      "Coordinates:\n",
      "    spatial_ref       int32 3577\n",
      "  * x                 (x) float64 2.015e+04 2.025e+04 ... 4.225e+04 4.235e+04\n",
      "  * y                 (y) float64 -1.277e+06 -1.277e+06 ... -1.299e+06\n",
      "Data variables:\n",
      "    watersea_veg_cat  (y, x) float64 1.0 1.0 1.0 1.0 1.0 ... 2.0 2.0 2.0 2.0 2.0\n"
     ]
    },
    {
     "data": {
      "image/png": "[encoded data removed]",
      "text/plain": [
       "<Figure size 432x288 with 2 Axes>"
      ]
     },
     "metadata": {
      "needs_background": "light"
     },
     "output_type": "display_data"
    }
   ],
   "source": [
    "# print('Data in water seasonality',data)\n",
    "# Calculate daily TCW\n",
    "tcw = calculate_indices(data,\n",
    "                        index='TCW', \n",
    "                        collection='ga_ls_3',\n",
    "                        drop=True,\n",
    "                        normalise=False)\n",
    "# print('tcw',tcw)\n",
    "# tcw.isel(time=1).TCW.plot()\n",
    "\n",
    "# Calculate wet pixels - daily boolean \n",
    "wet = (tcw.TCW > -600).to_dataset()\n",
    "# print('wet',wet)\n",
    "# wet.isel(time=1).TCW.plot()\n",
    "\n",
    "# Group by month - total number of observations\n",
    "wet_month = wet.groupby('time.month').sum(dim='time')  \n",
    "# print('wet_month',wet_month)\n",
    "# wet_month.isel(month=2).TCW.plot()\n",
    "\n",
    "# Now if at least one time was observed as wet make it 1 (end result is boolean per month)\n",
    "wet_once = wet_month.TCW >= 1\n",
    "# print('wet_once',wet_once) \n",
    "# wet_once.isel(month=2).plot()\n",
    "\n",
    "# # Calculate total number of inundated months\n",
    "# wet_months = wet_once.sum(dim='month')\n",
    "# # print('wet months',wet_months)\n",
    "# # wet_months.plot()\n",
    "\n",
    "# reduce original array to 2D\n",
    "# using max here but not important as we just want to use shape/attributes\n",
    "wet_reduce = wet_once.max(dim='month')\n",
    "\n",
    "# Make empty monthly array\n",
    "watersea = copy.deepcopy(wet_reduce)\n",
    "watersea.values = np.zeros_like(wet_reduce, dtype='float64')\n",
    "# print('watersea',watersea)\n",
    "\n",
    "# Get ready for consecutive count\n",
    "wet_numpy = wet_once.values\n",
    "empty_numpy = watersea.values\n",
    "\n",
    "# Calculate consecutive counts\n",
    "consec = consecutive_count(wet_numpy, empty_numpy, required_consecutive = 1)\n",
    "# print('consec',consec.shape)\n",
    "# plt.imshow(consec)\n",
    "# plt.colorbar()\n",
    "\n",
    "# create new data array with sampe dimensions as original\n",
    "wet_summary = xr.DataArray(consec, coords=wet_reduce.coords, dims=wet_reduce.dims)\n",
    "# print('wet_summary',wet_summary)\n",
    "# wet_summary.plot()\n",
    "\n",
    "# using wet_months to seperate Water < 3 months (<= 0.25) and Water > 3 months (> 0.25)\n",
    "watersea.values = np.where(((wet_summary > 0) & (wet_summary <= 3)), 2, watersea.values)\n",
    "watersea.values = np.where(((wet_summary > 3) & (wet_summary <= 12)), 1, watersea.values)\n",
    "# print('watersea',watersea)\n",
    "watersea.plot()\n",
    "\n",
    "result = watersea.to_dataset(name='watersea_veg_cat').squeeze()\n",
    "print('result',result)"
   ]
  },
  {
   "cell_type": "code",
   "execution_count": 21,
   "metadata": {},
   "outputs": [
    {
     "data": {
      "text/plain": [
       "(218, 223)"
      ]
     },
     "execution_count": 21,
     "metadata": {},
     "output_type": "execute_result"
    }
   ],
   "source": [
    "watersea.values.shape"
   ]
  },
  {
   "cell_type": "code",
   "execution_count": 22,
   "metadata": {},
   "outputs": [
    {
     "ename": "NameError",
     "evalue": "name 'wet_months' is not defined",
     "output_type": "error",
     "traceback": [
      "\u001b[0;31m---------------------------------------------------------------------------\u001b[0m",
      "\u001b[0;31mNameError\u001b[0m                                 Traceback (most recent call last)",
      "\u001b[0;32m<ipython-input-22-8b654526d710>\u001b[0m in \u001b[0;36m<module>\u001b[0;34m\u001b[0m\n\u001b[0;32m----> 1\u001b[0;31m \u001b[0mwet_months\u001b[0m\u001b[0;34m.\u001b[0m\u001b[0mplot\u001b[0m\u001b[0;34m(\u001b[0m\u001b[0;34m)\u001b[0m\u001b[0;34m\u001b[0m\u001b[0;34m\u001b[0m\u001b[0m\n\u001b[0m",
      "\u001b[0;31mNameError\u001b[0m: name 'wet_months' is not defined"
     ]
    }
   ],
   "source": [
    "wet_months.plot()"
   ]
  },
  {
   "cell_type": "markdown",
   "metadata": {},
   "source": [
    "### Works without consecutive bit"
   ]
  },
  {
   "cell_type": "code",
   "execution_count": null,
   "metadata": {},
   "outputs": [],
   "source": [
    "# print('Data in water seasonality',data)\n",
    "# Calculate daily TCW\n",
    "tcw = calculate_indices(data,\n",
    "                        index='TCW', \n",
    "                        collection='ga_ls_3',\n",
    "                        drop=True,\n",
    "                        normalise=False)\n",
    "# print('tcw',tcw)\n",
    "# tcw.isel(time=1).TCW.plot()\n",
    "\n",
    "# Calculate wet pixels - daily boolean \n",
    "wet = (tcw.TCW > -600).to_dataset()\n",
    "# print('wet',wet)\n",
    "# wet.isel(time=1).TCW.plot()\n",
    "\n",
    "# Group by month - total number of observations\n",
    "wet_month = wet.groupby('time.month').sum(dim='time')  \n",
    "# print('wet_month',wet_month)\n",
    "# wet_month.isel(month=2).TCW.plot()\n",
    "\n",
    "# Now if at least one time was observed as wet make it 1 (end result is boolean per month)\n",
    "wet_once = wet_month.TCW >= 1\n",
    "# print('wet_once',wet_once) \n",
    "# wet_once.isel(month=2).plot()\n",
    "\n",
    "# Calculate total number of inundated months\n",
    "wet_months = wet_once.sum(dim='month')\n",
    "# print('wet months',wet_months)\n",
    "# wet_months.plot()\n",
    "\n",
    "watersea = copy.deepcopy(wet_months)\n",
    "\n",
    "# Make empty monthly array\n",
    "watersea.values = np.zeros_like(wet_months, dtype='float64')\n",
    "# print('watersea',watersea)\n",
    "\n",
    "# using wet_months to seperate Water < 3 months (<= 0.25) and Water > 3 months (> 0.25)\n",
    "watersea.values = np.where(((wet_months > 0) & (wet_months <= 3)), 2, watersea.values)\n",
    "watersea.values = np.where(((wet_months > 3) & (wet_months <= 12)), 1, watersea.values)\n",
    "print('watersea',watersea)\n",
    "# watersea.plot()\n",
    "\n",
    "result = watersea.to_dataset(name='watersea_veg_cat').squeeze()\n",
    "print('result',result)"
   ]
  },
  {
   "cell_type": "markdown",
   "metadata": {},
   "source": [
    "### Trash"
   ]
  },
  {
   "cell_type": "code",
   "execution_count": null,
   "metadata": {},
   "outputs": [],
   "source": [
    "pv0 = gm.PV>0\n",
    "pv0"
   ]
  },
  {
   "cell_type": "code",
   "execution_count": null,
   "metadata": {},
   "outputs": [],
   "source": [
    "count_pv = pv0.sum(dim='time')\n",
    "one_ob_pv = count >1\n",
    "count_pv.plot()"
   ]
  },
  {
   "cell_type": "code",
   "execution_count": null,
   "metadata": {},
   "outputs": [],
   "source": [
    "count_pv"
   ]
  },
  {
   "cell_type": "code",
   "execution_count": null,
   "metadata": {},
   "outputs": [],
   "source": [
    "if count_pv == 1:\n",
    "    # executing consecutive_count function\n",
    "    rc = 1\n",
    "    \n",
    "elif count != 1:\n",
    "    rc = 2\n",
    "\n",
    "print(rc)"
   ]
  },
  {
   "cell_type": "code",
   "execution_count": null,
   "metadata": {},
   "outputs": [],
   "source": [
    "npv0 = gm.NPV>0\n",
    "count_npv = npv0.sum(dim='time')\n",
    "one_ob_npv = count >1\n",
    "count_npv.plot()"
   ]
  },
  {
   "cell_type": "code",
   "execution_count": null,
   "metadata": {},
   "outputs": [],
   "source": [
    "bs0 = gm.BS>0\n",
    "count_bs = bs0.sum(dim='time')\n",
    "one_ob_bs = count >1\n",
    "count_bs.plot()"
   ]
  },
  {
   "cell_type": "code",
   "execution_count": null,
   "metadata": {},
   "outputs": [],
   "source": [
    "combo_one_ob = ((count_bs + count_pv + count_npv)==3)\n",
    "combo_one_ob.plot()"
   ]
  },
  {
   "cell_type": "markdown",
   "metadata": {},
   "source": [
    "### Make simplified monthly summaries"
   ]
  },
  {
   "cell_type": "code",
   "execution_count": null,
   "metadata": {},
   "outputs": [],
   "source": [
    "data_month = gm.groupby('time.month').median(dim='time')   \n",
    "data_month"
   ]
  },
  {
   "cell_type": "code",
   "execution_count": null,
   "metadata": {},
   "outputs": [],
   "source": [
    "import matplotlib.pyplot as plt"
   ]
  },
  {
   "cell_type": "code",
   "execution_count": null,
   "metadata": {},
   "outputs": [],
   "source": [
    "# Create mask where PV > BS\n",
    "PV_dominant = data_month['PV'] > data_month['BS']\n",
    "PV_dominant_nan = PV_dominant.where((data_month['PV'] >= 0) & (data_month['BS'] >= 0))"
   ]
  },
  {
   "cell_type": "markdown",
   "metadata": {},
   "source": [
    "NOTE: we now have monthy summaries"
   ]
  },
  {
   "cell_type": "code",
   "execution_count": null,
   "metadata": {},
   "outputs": [],
   "source": [
    "plt.imshow(PV_dominant_nan.isel(month=0))"
   ]
  },
  {
   "cell_type": "markdown",
   "metadata": {},
   "source": [
    "### Run consectutive count\n",
    "- Takes in a numpy array (tv_numpy)\n",
    "- Takes in an empty numpy array with same shape as tv_numpy\n",
    "- Require consectutive is just a number (e.g. must be consecutive 2 times)"
   ]
  },
  {
   "cell_type": "code",
   "execution_count": null,
   "metadata": {},
   "outputs": [],
   "source": [
    "tv_mask = PV_dominant_nan\n",
    "\n",
    "# make values of 2 == 1 (end result in binary veg mask)\n",
    "tv_mask_drop = np.where(tv_mask >=1, 1, 0)\n",
    "tv_mask_xr = xr.DataArray(tv_mask_drop, coords=tv_mask.coords, dims=tv_mask.dims)\n",
    "#print('tv_mask_xr',tv_mask_xr)\n",
    "\n",
    "# Pull tv as numpy array\n",
    "tv_numpy = tv_mask_xr.values\n",
    "print('tv_numpy',tv_numpy.shape)\n",
    "\n",
    "# we have made a binary multi-temporal array"
   ]
  },
  {
   "cell_type": "code",
   "execution_count": null,
   "metadata": {},
   "outputs": [],
   "source": [
    "# Set up array for output (faster to pre-allocate for numba).\n",
    "# Needs to be float32 for NaN\n",
    "consecutive_numpy = np.empty((tv_numpy.shape[1], tv_numpy.shape[2]), dtype=np.float32)"
   ]
  },
  {
   "cell_type": "code",
   "execution_count": null,
   "metadata": {},
   "outputs": [],
   "source": [
    "required_consecutive = 2"
   ]
  },
  {
   "cell_type": "code",
   "execution_count": null,
   "metadata": {},
   "outputs": [],
   "source": [
    "# Run function to get array of with 1 where number of consecutive values for different\n",
    "# dates is >= required_consecutive\n",
    "consecutive_numpy = consecutive_count(tv_numpy, consecutive_numpy, required_consecutive)"
   ]
  },
  {
   "cell_type": "code",
   "execution_count": null,
   "metadata": {},
   "outputs": [],
   "source": [
    "plt.imshow(consecutive_numpy)"
   ]
  },
  {
   "cell_type": "markdown",
   "metadata": {},
   "source": [
    "### FC summary"
   ]
  },
  {
   "cell_type": "markdown",
   "metadata": {},
   "source": [
    "Maybe I can do something where, if there is only one pixel, keep it, but if there is 2 keep that"
   ]
  },
  {
   "cell_type": "code",
   "execution_count": null,
   "metadata": {},
   "outputs": [],
   "source": [
    "def consecutive_count(tv_numpy, consecutive_numpy, required_consecutive, consec_msk_val=1):\n",
    "    '''\n",
    "    function to get consective count of veg (1) for each pixel across the time series\n",
    "\n",
    "    :param numpy.array tv_numpy: 3-D array of tv[z,y,x]\n",
    "    :param numpy.array consecutive_numpy: bool output array for veg (1) and non veg (0)\n",
    "    :param float required_consecutive: how many consectutive 1's to be classified as veg?\n",
    "    :param float consec_msk_val: what value to calculcate consectutives on\n",
    "           default is veg (1)     \n",
    "    '''\n",
    "\n",
    "    for y in range(tv_numpy.shape[1]):\n",
    "        for x in range(tv_numpy.shape[2]):\n",
    "            # If all the values are nan then just set output to nan and carry on\",\n",
    "            pixel = tv_numpy[:,y,x]\n",
    "\n",
    "            if np.all(np.isnan(pixel)):\n",
    "                consecutive_numpy[y,x] = np.nan\n",
    "                continue            \n",
    "\n",
    "            # get counts of consecutive veg classifications\n",
    "            counts = [len(list(group)) for label, group in groupby(pixel[(~np.isnan(pixel))]) if label == 1]\n",
    "\n",
    "            if not counts:\n",
    "                consecutive_numpy[y,x] = 0\n",
    "            elif max(counts) >= required_consecutive:\n",
    "                consecutive_numpy[y,x] = 1\n",
    "            else:\n",
    "                consecutive_numpy[y,x] = 0\n",
    "\n",
    "    return consecutive_numpy"
   ]
  },
  {
   "cell_type": "code",
   "execution_count": null,
   "metadata": {},
   "outputs": [],
   "source": [
    "data_nan = masking.mask_invalid_data(data)\n",
    "\n",
    "# Create water and low-quality fc masks\n",
    "no_water = np.invert( (data['water'] == 128) | (data['water'] == 132) )\n",
    "high_ue = (data['UE'] > 30) & no_water\n",
    "\n",
    "# Set to null areas with high UE, but no water\n",
    "data_nan = data_nan.where(np.invert(high_ue))\n",
    "\n",
    "# Don't need this anymore\n",
    "data_nan = data_nan.drop(\"UE\")\n",
    "del high_ue\n",
    "\n",
    "# Where there's water, set PV to 0\n",
    "data_nan['PV'] = data_nan.PV.where(no_water, 0)\n",
    "data_nan['NPV'] = data_nan.NPV.where(no_water, 0)\n",
    "\n",
    "# Where there's water, set BS to 100\n",
    "data_nan['BS'] = data_nan.BS.where(no_water, 100)\n",
    "\n",
    "# don't need this anymore\n",
    "data_nan = data_nan.drop(\"water\")\n",
    "del no_water\n",
    "\n",
    "data_month = data_nan.groupby('time.month').median(dim='time')    \n",
    "\n",
    "# Create mask where PV > BS\n",
    "PV_dominant = data_month['PV'] > data_month['BS']\n",
    "PV_dominant_nan = PV_dominant.where((data_month['PV'] >= 0) & (data_month['BS'] >= 0))\n",
    "\n",
    "# Create mask where NPV > BS\n",
    "NPV_dominant = data_month['NPV'] > data_month['BS']\n",
    "NPV_dominant_nan = NPV_dominant.where((data_month['NPV'] >= 0) & (data_month['BS'] >= 0))\n",
    "\n",
    "# Veg where PV or NPV are greater than BS\n",
    "tv_mask = (PV_dominant_nan + NPV_dominant_nan)\n",
    "\n",
    "# make values of 2 == 1 (end result in binary veg mask)\n",
    "tv_mask_drop = np.where(tv_mask == 2, 1, tv_mask)\n",
    "tv_mask_xr = xr.DataArray(tv_mask_drop, coords=tv_mask.coords, dims=tv_mask.dims)\n",
    "\n",
    "# executing consecutive_count function #\n",
    "# veg = 2 consecutive months\n",
    "required_consecutive = 2\n",
    "\n",
    "# Pull tv as numpy array\n",
    "tv_numpy = tv_mask_xr.values\n",
    "\n",
    "# Set up array for output (faster to pre-allocate for numba).\n",
    "# Needs to be float32 for NaN\n",
    "consecutive_numpy = np.empty((tv_numpy.shape[1], tv_numpy.shape[2]), dtype=np.float32)\n",
    "\n",
    "# Run function to get array of with 1 where number of consecutive values for different\n",
    "# dates is >= required_consecutive\n",
    "consecutive_numpy = self.consecutive_count(tv_numpy, consecutive_numpy, required_consecutive)\n",
    "\n",
    "# reduce original array to 2D\n",
    "# using max here but not important as we just want to use shape/attributes\n",
    "tv_reduce = tv_mask.max(dim='month')\n",
    "\n",
    "# create new data array with sampe dimensions as original\n",
    "tv_summary = xr.DataArray(consecutive_numpy, coords=tv_reduce.coords, dims=tv_reduce.dims)  \n",
    "return tv_summary.to_dataset(name='fc_veg')"
   ]
  },
  {
   "cell_type": "markdown",
   "metadata": {},
   "source": [
    "### Apply salt index\n",
    "\n",
    "Water and salt do not have similar index values, and salt is at extremes:\n",
    "- SI2\n",
    "- SI3\n",
    "- SI4\n",
    "- SI5\n",
    "- SI6\n",
    "- SI7\n",
    "- SI10\n",
    "- BI\n",
    "- VSSI\n"
   ]
  },
  {
   "cell_type": "code",
   "execution_count": null,
   "metadata": {},
   "outputs": [],
   "source": [
    "ds = gm"
   ]
  },
  {
   "cell_type": "code",
   "execution_count": null,
   "metadata": {},
   "outputs": [],
   "source": [
    "# Salt index list:\n",
    "ds['si1'] = ds['blue']/ds['red']\n",
    "ds['si2'] = ds['blue']-(ds['red']/ds['blue'])+ds['red']\n",
    "ds['si3'] = (ds['green']*ds['red'])/ds['blue']\n",
    "ds['si4'] = np.sqrt(ds['red']*ds['blue'])\n",
    "ds['si5'] = (ds['blue']*ds['red'])/ds['green']\n",
    "ds['si6'] = (ds['red']*ds['nir'])/ds['green']\n",
    "ds['si7'] = np.sqrt(ds['green']*ds['red'])\n",
    "ds['si8'] = np.sqrt((ds['green']**2)*(ds['red']**2)*(ds['nir']**2))\n",
    "ds['si9'] = np.sqrt((ds['green']**2)*(ds['red']**2))\n",
    "ds['si10'] = (ds['nir']-ds['swir1'])/(ds['nir']+ds['swir1'])\n",
    "ds['sr'] = ds['nir']/ds['red']\n",
    "ds['ndsi'] = (ds['red']-ds['nir'])/(ds['red']+ds['nir'])\n",
    "ds['sia'] = (ds['red']/ds['blue'])*100\n",
    "ds['sit'] = (ds['red']/ds['nir'])*100\n",
    "ds['bi'] = np.sqrt(ds['red']**2+ds['nir']**2)\n",
    "ds['pd'] = ds['nir']/(ds['nir']+ds['red'])\n",
    "ds['ipvi'] = ds['nir']/(ds['nir']+ds['red'])\n",
    "ds['dvi'] = ds['nir']-ds['red']\n",
    "ds['ndvi'] = (ds['nir']-ds['red'])/(ds['nir']+ds['red'])             \n",
    "ds['cosri'] = ((ds['blue']+ds['green'])/(ds['red']+ds['nir']))*ds['ndvi']\n",
    "ds['savi'] = 1.5*(ds['nir']+ds['red'])/(ds['nir']+ds['red']+0.5)\n",
    "ds['evi'] = 2.5*((ds['nir']-ds['red'])/(ds['nir']+6*ds['red']-7.5*ds['blue']+1))\n",
    "ds['gdvi'] = (ds['nir']**2-ds['red']**2)/(ds['nir']**2+ds['red']**2)\n",
    "ds['msi'] = ds['swir1']/ds['nir']\n",
    "ds['vssi'] =  2*ds['green']-5*(ds['red']+ds['nir'])"
   ]
  },
  {
   "cell_type": "code",
   "execution_count": null,
   "metadata": {},
   "outputs": [],
   "source": [
    "(ds.si5.squeeze()).plot.imshow()"
   ]
  },
  {
   "cell_type": "code",
   "execution_count": null,
   "metadata": {},
   "outputs": [],
   "source": [
    "# Keep salty areas\n",
    "masked = gm.where(ds.si2>4000)\n",
    "rgb(masked,bands=['red','green','blue'])"
   ]
  },
  {
   "cell_type": "code",
   "execution_count": null,
   "metadata": {},
   "outputs": [],
   "source": [
    "rgb(gm,bands=['red','green','blue'])"
   ]
  },
  {
   "cell_type": "code",
   "execution_count": null,
   "metadata": {},
   "outputs": [],
   "source": [
    "# Export\n",
    "\n",
    "index_dict = ['si1','si2','si3','si4','si5','si6','si7','si8','si9','si10','sr','ndsi','sia','sit','bi','pd','ipvi','dvi','ndvi','cosri','savi','evi','gdvi','msi','vssi']\n",
    "test_dict = ['si2','si3','si4','si5','si6','si7','si8','si9','si10','sit','bi','vssi']\n",
    "\n",
    "for i in test_dict:\n",
    "    dataset = ds[i].isel(time=0).to_dataset(name=i)\n",
    "    write_geotiff('salt_indices/'+area_name+'_'+i+'.tif', dataset)"
   ]
  },
  {
   "cell_type": "code",
   "execution_count": null,
   "metadata": {},
   "outputs": [],
   "source": []
  },
  {
   "cell_type": "code",
   "execution_count": null,
   "metadata": {},
   "outputs": [],
   "source": []
  },
  {
   "cell_type": "code",
   "execution_count": null,
   "metadata": {},
   "outputs": [],
   "source": []
  }
 ],
 "metadata": {
  "kernelspec": {
   "display_name": "Python 3",
   "language": "python",
   "name": "python3"
  },
  "language_info": {
   "codemirror_mode": {
    "name": "ipython",
    "version": 3
   },
   "file_extension": ".py",
   "mimetype": "text/x-python",
   "name": "python",
   "nbconvert_exporter": "python",
   "pygments_lexer": "ipython3",
   "version": "3.6.9"
  }
 },
 "nbformat": 4,
 "nbformat_minor": 4
}
