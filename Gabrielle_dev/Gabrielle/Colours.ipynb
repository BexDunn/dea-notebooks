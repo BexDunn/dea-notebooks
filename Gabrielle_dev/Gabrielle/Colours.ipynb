{
 "cells": [
  {
   "cell_type": "markdown",
   "metadata": {},
   "source": [
    "# Make a Choropleth"
   ]
  },
  {
   "cell_type": "markdown",
   "metadata": {},
   "source": [
    "### ipyleaflet example\n",
    "From https://ipyleaflet.readthedocs.io/en/latest/api_reference/choropleth.html"
   ]
  },
  {
   "cell_type": "code",
   "execution_count": 1,
   "metadata": {},
   "outputs": [
    {
     "data": {
      "application/vnd.jupyter.widget-view+json": {
       "model_id": "3fecae75ff094071a51623111b24244c",
       "version_major": 2,
       "version_minor": 0
      },
      "text/plain": [
       "Map(center=[43, -100], controls=(ZoomControl(options=['position', 'zoom_in_text', 'zoom_in_title', 'zoom_out_t…"
      ]
     },
     "metadata": {},
     "output_type": "display_data"
    }
   ],
   "source": [
    "import ipyleaflet\n",
    "import json\n",
    "import pandas as pd\n",
    "import os\n",
    "import requests\n",
    "from ipywidgets import link, FloatSlider\n",
    "from branca.colormap import linear\n",
    "\n",
    "def load_data(url, filename, file_type):\n",
    "    r = requests.get(url)\n",
    "    with open(filename, 'w') as f:\n",
    "        f.write(r.content.decode(\"utf-8\"))\n",
    "    with open(filename, 'r') as f:\n",
    "        return file_type(f)\n",
    "\n",
    "geo_json_data = load_data(\n",
    "    'https://raw.githubusercontent.com/jupyter-widgets/ipyleaflet/master/examples/us-states.json',\n",
    "    'us-states.json',\n",
    "     json.load)\n",
    "\n",
    "unemployment = load_data(\n",
    "    'https://raw.githubusercontent.com/jupyter-widgets/ipyleaflet/master/examples/US_Unemployment_Oct2012.csv',\n",
    "    'US_Unemployment_Oct2012.csv',\n",
    "     pd.read_csv)\n",
    "\n",
    "unemployment =  dict(zip(unemployment['State'].tolist(), unemployment['Unemployment'].tolist()))\n",
    "\n",
    "layer = ipyleaflet.Choropleth(\n",
    "    geo_data=geo_json_data,\n",
    "    choro_data=unemployment,\n",
    "    colormap=linear.YlOrRd_04,\n",
    "    border_color='black',\n",
    "    style={'fillOpacity': 0.8, 'dashArray': '5, 5'})\n",
    "\n",
    "m = ipyleaflet.Map(center = (43,-100), zoom = 4)\n",
    "m.add_layer(layer)\n",
    "m"
   ]
  },
  {
   "cell_type": "markdown",
   "metadata": {},
   "source": [
    "### Implement ipyleaflet choropleth\n",
    "Using data originating from a shapefile"
   ]
  },
  {
   "cell_type": "markdown",
   "metadata": {},
   "source": [
    "Imports"
   ]
  },
  {
   "cell_type": "code",
   "execution_count": 2,
   "metadata": {},
   "outputs": [],
   "source": [
    "%matplotlib inline\n",
    "\n",
    "import geopandas as gpd\n",
    "import ipyleaflet\n",
    "from ipyleaflet import Map, Marker, Popup, GeoJSON, basemaps\n",
    "from branca.colormap import linear\n",
    "import ipyleaflet\n",
    "import json\n",
    "import pandas as pd\n",
    "import os\n",
    "import requests\n",
    "from ipywidgets import link, FloatSlider\n",
    "from branca.colormap import linear\n",
    "import numpy as np"
   ]
  },
  {
   "cell_type": "markdown",
   "metadata": {},
   "source": [
    "Import shapefile data"
   ]
  },
  {
   "cell_type": "code",
   "execution_count": 3,
   "metadata": {},
   "outputs": [
    {
     "data": {
      "text/html": [
       "<div>\n",
       "<style scoped>\n",
       "    .dataframe tbody tr th:only-of-type {\n",
       "        vertical-align: middle;\n",
       "    }\n",
       "\n",
       "    .dataframe tbody tr th {\n",
       "        vertical-align: top;\n",
       "    }\n",
       "\n",
       "    .dataframe thead th {\n",
       "        text-align: right;\n",
       "    }\n",
       "</style>\n",
       "<table border=\"1\" class=\"dataframe\">\n",
       "  <thead>\n",
       "    <tr style=\"text-align: right;\">\n",
       "      <th></th>\n",
       "      <th>classnum</th>\n",
       "      <th>geometry</th>\n",
       "    </tr>\n",
       "  </thead>\n",
       "  <tbody>\n",
       "    <tr>\n",
       "      <th>0</th>\n",
       "      <td>112</td>\n",
       "      <td>POLYGON ((-1521875.000 -3801925.000, -1521900....</td>\n",
       "    </tr>\n",
       "    <tr>\n",
       "      <th>1</th>\n",
       "      <td>111</td>\n",
       "      <td>POLYGON ((-1557925.000 -3801125.000, -1557950....</td>\n",
       "    </tr>\n",
       "    <tr>\n",
       "      <th>2</th>\n",
       "      <td>111</td>\n",
       "      <td>POLYGON ((-1555325.000 -3800000.000, -1555200....</td>\n",
       "    </tr>\n",
       "    <tr>\n",
       "      <th>3</th>\n",
       "      <td>111</td>\n",
       "      <td>POLYGON ((-1552925.000 -3800950.000, -1552925....</td>\n",
       "    </tr>\n",
       "    <tr>\n",
       "      <th>4</th>\n",
       "      <td>111</td>\n",
       "      <td>POLYGON ((-1545475.000 -3800000.000, -1544325....</td>\n",
       "    </tr>\n",
       "  </tbody>\n",
       "</table>\n",
       "</div>"
      ],
      "text/plain": [
       "   classnum                                           geometry\n",
       "0       112  POLYGON ((-1521875.000 -3801925.000, -1521900....\n",
       "1       111  POLYGON ((-1557925.000 -3801125.000, -1557950....\n",
       "2       111  POLYGON ((-1555325.000 -3800000.000, -1555200....\n",
       "3       111  POLYGON ((-1552925.000 -3800950.000, -1552925....\n",
       "4       111  POLYGON ((-1545475.000 -3800000.000, -1544325...."
      ]
     },
     "execution_count": 3,
     "metadata": {},
     "output_type": "execute_result"
    }
   ],
   "source": [
    "path = '../Supplementary_data/Machine_learning_with_ODC/example_training_data.shp'\n",
    "\n",
    "# Load input shapefile\n",
    "input_data = gpd.read_file(path)\n",
    "\n",
    "# Plot the first five rows\n",
    "input_data.head()"
   ]
  },
  {
   "cell_type": "code",
   "execution_count": 4,
   "metadata": {},
   "outputs": [],
   "source": [
    "# Convert to WGS 84 and GeoJSON format\n",
    "gdf_wgs84 = input_data.to_crs(epsg=4326) # geopandas.geodataframe.GeoDataFrame\n",
    "data = gdf_wgs84.__geo_interface__       # Feature Collection\n",
    "feature_layer = GeoJSON(data=data)\n",
    "\n",
    "# Get centroid to focus map on\n",
    "lon1, lat1, lon2, lat2  = gdf_wgs84.total_bounds\n",
    "lon = (lon1 + lon2) / 2\n",
    "lat = (lat1 + lat2) / 2"
   ]
  },
  {
   "cell_type": "markdown",
   "metadata": {},
   "source": [
    "Import table data and convert to correct format \n",
    "\n",
    "The keys must be strings corresponding to id in the geojson\n",
    "If the values to be coloured on are no evenly spread, re-map"
   ]
  },
  {
   "cell_type": "code",
   "execution_count": 5,
   "metadata": {},
   "outputs": [
    {
     "data": {
      "text/html": [
       "<div>\n",
       "<style scoped>\n",
       "    .dataframe tbody tr th:only-of-type {\n",
       "        vertical-align: middle;\n",
       "    }\n",
       "\n",
       "    .dataframe tbody tr th {\n",
       "        vertical-align: top;\n",
       "    }\n",
       "\n",
       "    .dataframe thead th {\n",
       "        text-align: right;\n",
       "    }\n",
       "</style>\n",
       "<table border=\"1\" class=\"dataframe\">\n",
       "  <thead>\n",
       "    <tr style=\"text-align: right;\">\n",
       "      <th></th>\n",
       "      <th>classnum</th>\n",
       "      <th>geometry</th>\n",
       "      <th>classnum_clean</th>\n",
       "    </tr>\n",
       "  </thead>\n",
       "  <tbody>\n",
       "    <tr>\n",
       "      <th>0</th>\n",
       "      <td>112</td>\n",
       "      <td>POLYGON ((-1521875.000 -3801925.000, -1521900....</td>\n",
       "      <td>0</td>\n",
       "    </tr>\n",
       "    <tr>\n",
       "      <th>1</th>\n",
       "      <td>111</td>\n",
       "      <td>POLYGON ((-1557925.000 -3801125.000, -1557950....</td>\n",
       "      <td>1</td>\n",
       "    </tr>\n",
       "    <tr>\n",
       "      <th>2</th>\n",
       "      <td>111</td>\n",
       "      <td>POLYGON ((-1555325.000 -3800000.000, -1555200....</td>\n",
       "      <td>1</td>\n",
       "    </tr>\n",
       "    <tr>\n",
       "      <th>3</th>\n",
       "      <td>111</td>\n",
       "      <td>POLYGON ((-1552925.000 -3800950.000, -1552925....</td>\n",
       "      <td>1</td>\n",
       "    </tr>\n",
       "    <tr>\n",
       "      <th>4</th>\n",
       "      <td>111</td>\n",
       "      <td>POLYGON ((-1545475.000 -3800000.000, -1544325....</td>\n",
       "      <td>1</td>\n",
       "    </tr>\n",
       "    <tr>\n",
       "      <th>...</th>\n",
       "      <td>...</td>\n",
       "      <td>...</td>\n",
       "      <td>...</td>\n",
       "    </tr>\n",
       "    <tr>\n",
       "      <th>212</th>\n",
       "      <td>215</td>\n",
       "      <td>POLYGON ((-1539025.000 -3846475.000, -1539025....</td>\n",
       "      <td>2</td>\n",
       "    </tr>\n",
       "    <tr>\n",
       "      <th>213</th>\n",
       "      <td>111</td>\n",
       "      <td>POLYGON ((-1540400.000 -3847200.000, -1540400....</td>\n",
       "      <td>1</td>\n",
       "    </tr>\n",
       "    <tr>\n",
       "      <th>214</th>\n",
       "      <td>111</td>\n",
       "      <td>POLYGON ((-1541625.000 -3847575.000, -1541700....</td>\n",
       "      <td>1</td>\n",
       "    </tr>\n",
       "    <tr>\n",
       "      <th>215</th>\n",
       "      <td>111</td>\n",
       "      <td>POLYGON ((-1535025.000 -3845425.000, -1535075....</td>\n",
       "      <td>1</td>\n",
       "    </tr>\n",
       "    <tr>\n",
       "      <th>216</th>\n",
       "      <td>111</td>\n",
       "      <td>POLYGON ((-1513750.000 -3845600.000, -1513750....</td>\n",
       "      <td>1</td>\n",
       "    </tr>\n",
       "  </tbody>\n",
       "</table>\n",
       "<p>217 rows × 3 columns</p>\n",
       "</div>"
      ],
      "text/plain": [
       "     classnum                                           geometry  \\\n",
       "0         112  POLYGON ((-1521875.000 -3801925.000, -1521900....   \n",
       "1         111  POLYGON ((-1557925.000 -3801125.000, -1557950....   \n",
       "2         111  POLYGON ((-1555325.000 -3800000.000, -1555200....   \n",
       "3         111  POLYGON ((-1552925.000 -3800950.000, -1552925....   \n",
       "4         111  POLYGON ((-1545475.000 -3800000.000, -1544325....   \n",
       "..        ...                                                ...   \n",
       "212       215  POLYGON ((-1539025.000 -3846475.000, -1539025....   \n",
       "213       111  POLYGON ((-1540400.000 -3847200.000, -1540400....   \n",
       "214       111  POLYGON ((-1541625.000 -3847575.000, -1541700....   \n",
       "215       111  POLYGON ((-1535025.000 -3845425.000, -1535075....   \n",
       "216       111  POLYGON ((-1513750.000 -3845600.000, -1513750....   \n",
       "\n",
       "     classnum_clean  \n",
       "0                 0  \n",
       "1                 1  \n",
       "2                 1  \n",
       "3                 1  \n",
       "4                 1  \n",
       "..              ...  \n",
       "212               2  \n",
       "213               1  \n",
       "214               1  \n",
       "215               1  \n",
       "216               1  \n",
       "\n",
       "[217 rows x 3 columns]"
      ]
     },
     "execution_count": 5,
     "metadata": {},
     "output_type": "execute_result"
    }
   ],
   "source": [
    "# Remap bad classes for visualisation\n",
    "classes_uni = list(input_data.classnum.unique())\n",
    "classes_clean = list(range(0,len(classes_uni)))\n",
    "\n",
    "# zip together to make a dictionary\n",
    "classes_dict =  dict(zip(classes_uni, classes_clean))\n",
    "\n",
    "# create new input_data column\n",
    "input_data['classnum_clean']=input_data['classnum'].map(classes_dict)\n",
    "input_data"
   ]
  },
  {
   "cell_type": "code",
   "execution_count": 6,
   "metadata": {},
   "outputs": [],
   "source": [
    "# Option 2 - get data from the polygon collection\n",
    "\n",
    "# Get values to colour by as a list\n",
    "classes = input_data['classnum_clean'].tolist()\n",
    "\n",
    "# Get id values as a list\n",
    "input_data['id']=input_data.index\n",
    "keys = input_data['id'].tolist()\n",
    "\n",
    "# zip together to make a dictionary\n",
    "the_dict =  dict(zip(keys, classes))\n",
    "\n",
    "# Convert ids to strings\n",
    "the_dict2 = {str(key): val for key, val in the_dict.items()}"
   ]
  },
  {
   "cell_type": "code",
   "execution_count": 7,
   "metadata": {},
   "outputs": [],
   "source": [
    "layer = ipyleaflet.Choropleth(\n",
    "    geo_data=data,\n",
    "    choro_data=the_dict2,\n",
    "    colormap=linear.YlOrRd_04, \n",
    "    border_color='black',\n",
    "    style={'fillOpacity': 0.8, 'dashArray': '1'}\n",
    ")"
   ]
  },
  {
   "cell_type": "code",
   "execution_count": 8,
   "metadata": {},
   "outputs": [
    {
     "data": {
      "application/vnd.jupyter.widget-view+json": {
       "model_id": "48ed7566673a47d4b1c21d7132cffc7f",
       "version_major": 2,
       "version_minor": 0
      },
      "text/plain": [
       "Map(center=[-34.110424911963065, 115.32099948027002], controls=(ZoomControl(options=['position', 'zoom_in_text…"
      ]
     },
     "metadata": {},
     "output_type": "display_data"
    }
   ],
   "source": [
    "# Print the ipyleaflet map\n",
    "basic_map = Map(zoom=10,\n",
    "               center=(lat, lon))\n",
    "display(basic_map)\n",
    "\n",
    "# Add GeoJSON layer to map\n",
    "basic_map.add_layer(layer)"
   ]
  },
  {
   "cell_type": "markdown",
   "metadata": {},
   "source": [
    "### Not used"
   ]
  },
  {
   "cell_type": "code",
   "execution_count": 10,
   "metadata": {},
   "outputs": [
    {
     "ename": "AttributeError",
     "evalue": "type object 'map' has no attribute 'choropleth'",
     "output_type": "error",
     "traceback": [
      "\u001b[0;31m---------------------------------------------------------------------------\u001b[0m",
      "\u001b[0;31mAttributeError\u001b[0m                            Traceback (most recent call last)",
      "\u001b[0;32m<ipython-input-10-909e479b27f3>\u001b[0m in \u001b[0;36m<module>\u001b[0;34m\u001b[0m\n\u001b[1;32m      2\u001b[0m \u001b[0;34m\u001b[0m\u001b[0m\n\u001b[1;32m      3\u001b[0m \u001b[0mgeop\u001b[0m \u001b[0;34m=\u001b[0m \u001b[0;34mr'arrondissements.geojson'\u001b[0m\u001b[0;34m\u001b[0m\u001b[0;34m\u001b[0m\u001b[0m\n\u001b[0;32m----> 4\u001b[0;31m map.choropleth(\n\u001b[0m\u001b[1;32m      5\u001b[0m     \u001b[0mgeo_data\u001b[0m \u001b[0;34m=\u001b[0m\u001b[0mdata\u001b[0m\u001b[0;34m,\u001b[0m\u001b[0;34m\u001b[0m\u001b[0;34m\u001b[0m\u001b[0m\n\u001b[1;32m      6\u001b[0m     \u001b[0mname\u001b[0m\u001b[0;34m=\u001b[0m\u001b[0;34m'choropleth'\u001b[0m\u001b[0;34m,\u001b[0m\u001b[0;34m\u001b[0m\u001b[0;34m\u001b[0m\u001b[0m\n",
      "\u001b[0;31mAttributeError\u001b[0m: type object 'map' has no attribute 'choropleth'"
     ]
    }
   ],
   "source": [
    "# station_nb is a dataframe with values grouped by c_ar\n",
    "\n",
    "geop = r'arrondissements.geojson'    \n",
    "map.choropleth(\n",
    "    geo_data =data,\n",
    "    name='choropleth',\n",
    "    data = station_nb,\n",
    "    columns = ['c_ar','count'],\n",
    "    key_on='features.properties.c_ar',\n",
    "    fill_color='YlOrRd', \n",
    "    fill_opacity=0.7, \n",
    "    line_opacity=0.2\n",
    ")"
   ]
  },
  {
   "cell_type": "code",
   "execution_count": null,
   "metadata": {},
   "outputs": [],
   "source": [
    "geo_json_data = json.load(open('../aglayers.geojson'))"
   ]
  },
  {
   "cell_type": "code",
   "execution_count": null,
   "metadata": {},
   "outputs": [],
   "source": [
    "geo_json_data['properties']['classnum']"
   ]
  },
  {
   "cell_type": "code",
   "execution_count": null,
   "metadata": {},
   "outputs": [],
   "source": [
    "data['features'][0]['properties']['class']"
   ]
  },
  {
   "cell_type": "code",
   "execution_count": null,
   "metadata": {},
   "outputs": [],
   "source": [
    "# Option 1 - Make an attribute table with id and classnum and export it in seperatley\n",
    "csv = pd.read_csv('../new_table2.csv')\n",
    "data_dict =  dict(zip(csv['id'].tolist(), csv['classnum'].tolist()))\n",
    "#print(data_dict.items())"
   ]
  },
  {
   "cell_type": "markdown",
   "metadata": {},
   "source": [
    "### map_shapefile"
   ]
  },
  {
   "cell_type": "code",
   "execution_count": null,
   "metadata": {},
   "outputs": [],
   "source": [
    "%matplotlib inline\n",
    "\n",
    "import geopandas as gpd\n",
    "import ipyleaflet\n",
    "from ipyleaflet import Map, Marker, Popup, GeoJSON, basemaps\n",
    "from branca.colormap import linear\n",
    "import ipyleaflet\n",
    "import json\n",
    "import pandas as pd\n",
    "import os\n",
    "import requests\n",
    "from ipywidgets import link, FloatSlider\n",
    "from branca.colormap import linear\n",
    "import numpy as np"
   ]
  },
  {
   "cell_type": "code",
   "execution_count": null,
   "metadata": {},
   "outputs": [],
   "source": [
    "path = '../Supplementary_data/Machine_learning_with_ODC/example_training_data.shp'\n",
    "\n",
    "# Load input shapefile\n",
    "input_data = gpd.read_file(path)\n"
   ]
  },
  {
   "cell_type": "code",
   "execution_count": null,
   "metadata": {},
   "outputs": [],
   "source": [
    "# Convert to WGS 84 and GeoJSON format\n",
    "gdf_wgs84 = input_data.to_crs(epsg=4326) # geopandas.geodataframe.GeoDataFrame\n",
    "data = gdf_wgs84.__geo_interface__       # Feature Collection\n",
    "feature_layer = GeoJSON(data=data)\n",
    "\n",
    "# Get centroid to focus map on\n",
    "lon1, lat1, lon2, lat2  = gdf_wgs84.total_bounds\n",
    "lon = (lon1 + lon2) / 2\n",
    "lat = (lat1 + lat2) / 2"
   ]
  },
  {
   "cell_type": "markdown",
   "metadata": {},
   "source": [
    "Import table data and convert to correct format \n",
    "\n",
    "The keys must be strings corresponding to id in the geojson\n",
    "If the values to be coloured on are no evenly spread, re-map"
   ]
  },
  {
   "cell_type": "code",
   "execution_count": null,
   "metadata": {},
   "outputs": [],
   "source": [
    "# Remap bad classes for visualisation\n",
    "classes_uni = list(input_data.classnum.unique())\n",
    "classes_clean = list(range(0,len(classes_uni)))\n",
    "classes_dict =  dict(zip(classes_uni, classes_clean)) # zip together to make a dictionary\n",
    "input_data['classnum_clean']=input_data['classnum'].map(classes_dict) # create new input_data column"
   ]
  },
  {
   "cell_type": "code",
   "execution_count": null,
   "metadata": {},
   "outputs": [],
   "source": [
    "# Create the dictionary to colour map by\n",
    "classes = input_data['classnum_clean'].tolist() # Get values to colour by as a list\n",
    "input_data['id']=input_data.index # Get id values as a list\n",
    "keys = input_data['id'].tolist()\n",
    "the_dict =  dict(zip(keys, classes)) # zip together to make a dictionary\n",
    "the_dict2 = {str(key): val for key, val in the_dict.items()} # Convert ids to strings"
   ]
  },
  {
   "cell_type": "code",
   "execution_count": null,
   "metadata": {},
   "outputs": [],
   "source": [
    "# Create the choropleth\n",
    "layer = ipyleaflet.Choropleth(\n",
    "    geo_data=data,\n",
    "    choro_data=the_dict2,\n",
    "    colormap=linear.YlOrRd_04, \n",
    "    border_color='black',\n",
    "    style={'fillOpacity': 0.8, 'dashArray': '1'}\n",
    ")"
   ]
  },
  {
   "cell_type": "code",
   "execution_count": null,
   "metadata": {},
   "outputs": [],
   "source": [
    "# Print the ipyleaflet map\n",
    "basic_map = Map(zoom=10,\n",
    "               center=(lat, lon))\n",
    "display(basic_map)\n",
    "\n",
    "# Add GeoJSON layer to map\n",
    "basic_map.add_layer(layer)"
   ]
  },
  {
   "cell_type": "markdown",
   "metadata": {},
   "source": [
    "### map_shapefile edits"
   ]
  },
  {
   "cell_type": "code",
   "execution_count": null,
   "metadata": {},
   "outputs": [],
   "source": [
    "# Import required packages\n",
    "import folium  \n",
    "import math\n",
    "import numpy as np\n",
    "import ipywidgets\n",
    "import matplotlib as mpl\n",
    "from pyproj import Proj, transform\n",
    "from IPython.display import display\n",
    "from ipyleaflet import Map, Marker, Popup, GeoJSON, basemaps\n",
    "from skimage import exposure\n",
    "import matplotlib.patheffects as PathEffects\n",
    "import matplotlib.pyplot as plt\n",
    "import matplotlib.animation as animation\n",
    "\n",
    "from datetime import datetime\n",
    "import calendar\n",
    "from mpl_toolkits.axes_grid1.inset_locator import inset_axes\n",
    "import geopandas as gpd\n",
    "from matplotlib.colors import ListedColormap\n",
    "from mpl_toolkits.axes_grid1 import make_axes_locatable\n",
    "\n",
    "# I have added\n",
    "import ipyleaflet\n",
    "from branca.colormap import linear"
   ]
  },
  {
   "cell_type": "code",
   "execution_count": null,
   "metadata": {},
   "outputs": [],
   "source": [
    "def _degree_to_zoom_level(l1, l2, margin=0.0):\n",
    "    \n",
    "    \"\"\"\n",
    "    Helper function to set zoom level for `display_map`\n",
    "    \"\"\"\n",
    "    \n",
    "    degree = abs(l1 - l2) * (1 + margin)\n",
    "    zoom_level_int = 0\n",
    "    if degree != 0:\n",
    "        zoom_level_float = math.log(360 / degree) / math.log(2)\n",
    "        zoom_level_int = int(zoom_level_float)\n",
    "    else:\n",
    "        zoom_level_int = 18\n",
    "    return zoom_level_int\n",
    "\n",
    "\n",
    "# map_shapefile with choropleth\n",
    "def map_shapefile(gdf, \n",
    "                  colour_class = 'user_defined', # the column to use to colour on\n",
    "                  remap = 'remap', # defaults to remapping 'colour_class' for better visualisation, if unwanted specify 'colour_class'\n",
    "                  weight=2, \n",
    "                  colormap=mpl.cm.YlOrRd, \n",
    "                  basemap=basemaps.Esri.WorldImagery, \n",
    "                  default_zoom=None,\n",
    "                  hover_col=None,\n",
    "                  hover_prefix=''):\n",
    "    \n",
    "    \n",
    "#     def n_colors(n, colormap=colormap):\n",
    "#         data = np.linspace(0.0,1.0,n)\n",
    "#         c = [mpl.colors.rgb2hex(d[0:3]) for d in colormap(data)]\n",
    "#         return c\n",
    "\n",
    "#     def data_to_colors(data, colormap=colormap):\n",
    "#         c = [mpl.colors.rgb2hex(d[0:3]) for \n",
    "#              d in colormap(mpl.colors.Normalize()(data))]\n",
    "#         return c \n",
    "    \n",
    "    def on_hover(event, id, properties):\n",
    "        with dbg:\n",
    "            text = properties.get(hover_col, '???')\n",
    "            lbl.value = f'{hover_col}: {text}'\n",
    "            # print(properties)\n",
    "  \n",
    "    # Convert to WGS 84 and GeoJSON format\n",
    "    gdf_wgs84 = gdf.to_crs(epsg=4326)\n",
    "    data = gdf_wgs84.__geo_interface__    \n",
    "    \n",
    "#     # For each feature in dataset, append colour values\n",
    "#     n_features = len(data['features'])\n",
    "#     colors = n_colors(n_features)\n",
    "    \n",
    "#     for feature, color in zip(data['features'], colors):\n",
    "#         feature['properties']['style'] = {'color': color, \n",
    "#                                           'weight': weight, \n",
    "#                                           'fillColor': color, \n",
    "#                                           'fillOpacity': 1.0}\n",
    "\n",
    "    # Remap bad classes for visualisation\n",
    "    classes_uni = list(gdf[colour_class].unique())\n",
    "    classes_clean = list(range(0,len(classes_uni)))\n",
    "    classes_dict =  dict(zip(classes_uni, classes_clean)) # zip together to make a dictionary\n",
    "    gdf['remap']=gdf[colour_class].map(classes_dict) # create new gdf column\n",
    "    \n",
    "    # Create the dictionary to colour map by\n",
    "    # How to make this 'classnum_clean' or 'colour_class'\n",
    "    classes = gdf[remap].tolist() # Get values to colour by as a list\n",
    "    gdf['id']=gdf.index # Get id values as a list\n",
    "    keys = gdf['id'].tolist()\n",
    "    the_dict =  dict(zip(keys, classes)) # zip together to make a dictionary\n",
    "    the_dict2 = {str(key): val for key, val in the_dict.items()} # Convert ids to strings\n",
    "\n",
    "    # Get centroid to focus map on\n",
    "    lon1, lat1, lon2, lat2  = gdf_wgs84.total_bounds\n",
    "    lon = (lon1 + lon2) / 2\n",
    "    lat = (lat1 + lat2) / 2\n",
    "    \n",
    "    if default_zoom is None:\n",
    "        \n",
    "        # Calculate default zoom from latitude of features\n",
    "        default_zoom = _degree_to_zoom_level(lat1, lat2, margin=-0.5)\n",
    "    \n",
    "    # Plot map \n",
    "    m = Map(center=(lat, lon), \n",
    "            zoom=default_zoom, \n",
    "            basemap=basemap, \n",
    "            layout=dict(width='800px', height='600px'))\n",
    "    \n",
    "    # Create the choropleth\n",
    "    choropleth = ipyleaflet.Choropleth(\n",
    "    geo_data=data,\n",
    "    choro_data=the_dict2,\n",
    "    colormap=linear.YlOrRd_04, \n",
    "    border_color='black',\n",
    "    style={'fillOpacity': 0.8, 'dashArray': '1'})\n",
    "    \n",
    "#     # Add GeoJSON layer to map\n",
    "#     feature_layer = GeoJSON(data=data)\n",
    "#     m.add_layer(feature_layer)\n",
    "    \n",
    "    # Add Choropleth layer to map\n",
    "    m.add_layer(choropleth)\n",
    "    \n",
    "    # If a column is specified by `hover_col`, print data from the\n",
    "    # hovered feature above the map\n",
    "    if hover_col:        \n",
    "        lbl = ipywidgets.Label()\n",
    "        dbg = ipywidgets.Output()        \n",
    "        choropleth.on_hover(on_hover)\n",
    "        display(lbl)\n",
    "      \n",
    "    # Display the map\n",
    "    display(m)"
   ]
  },
  {
   "cell_type": "code",
   "execution_count": null,
   "metadata": {},
   "outputs": [],
   "source": [
    "path = '../Supplementary_data/Machine_learning_with_ODC/example_training_data.shp'\n",
    "\n",
    "# Load input shapefile\n",
    "input_data = gpd.read_file(path)\n",
    "\n",
    "map_shapefile(input_data,colour_class='classnum',hover_col='classnum')"
   ]
  },
  {
   "cell_type": "markdown",
   "metadata": {},
   "source": [
    "### map_shapefile as is"
   ]
  },
  {
   "cell_type": "code",
   "execution_count": null,
   "metadata": {},
   "outputs": [],
   "source": [
    "# Import required packages\n",
    "import folium  \n",
    "import math\n",
    "import numpy as np\n",
    "import ipywidgets\n",
    "import matplotlib as mpl\n",
    "from pyproj import Proj, transform\n",
    "from IPython.display import display\n",
    "from ipyleaflet import Map, Marker, Popup, GeoJSON, basemaps\n",
    "from skimage import exposure\n",
    "import matplotlib.patheffects as PathEffects\n",
    "import matplotlib.pyplot as plt\n",
    "import matplotlib.animation as animation\n",
    "\n",
    "from datetime import datetime\n",
    "import calendar\n",
    "from mpl_toolkits.axes_grid1.inset_locator import inset_axes\n",
    "import geopandas as gpd\n",
    "from matplotlib.colors import ListedColormap\n",
    "from mpl_toolkits.axes_grid1 import make_axes_locatable\n"
   ]
  },
  {
   "cell_type": "code",
   "execution_count": null,
   "metadata": {},
   "outputs": [],
   "source": [
    "def map_shapefile(gdf, \n",
    "                  weight=2, \n",
    "                  colormap=mpl.cm.YlOrRd, \n",
    "                  basemap=basemaps.Esri.WorldImagery, \n",
    "                  default_zoom=None,\n",
    "                  hover_col=None,\n",
    "                  hover_prefix=''):\n",
    "    \n",
    "    \"\"\"\n",
    "    Plots a geopandas GeoDataFrame over an interactive ipyleaflet \n",
    "    basemap. Optionally, can be set up to print selected data from \n",
    "    features in the GeoDataFrame. \n",
    "    \n",
    "    Last modified: October 2019\n",
    "    \n",
    "    Parameters\n",
    "    ----------  \n",
    "    gdf : geopandas.GeoDataFrame\n",
    "        A GeoDataFrame containing the spatial features to be plotted \n",
    "        over the basemap\n",
    "    weight : float or int, optional\n",
    "        An optional numeric value giving the weight that line features\n",
    "        will be plotted as. Defaults to 2; larger numbers = thicker\n",
    "    colormap : matplotlib.cm, optional\n",
    "        An optional matplotlib.cm colormap used to style the features\n",
    "        in the GeoDataFrame. Features will be coloured by the order\n",
    "        they appear in the GeoDataFrame. Defaults to the `YlOrRd` \n",
    "        colormap.\n",
    "    basemap : ipyleaflet.basemaps object, optional\n",
    "        An optional ipyleaflet.basemaps object used as the basemap for \n",
    "        the interactive plot. Defaults to `basemaps.Esri.WorldImagery`\n",
    "    default_zoom : int, optional\n",
    "        An optional integer giving a default zoom level for the \n",
    "        interactive ipyleaflet plot. Defaults to 13\n",
    "    hover_col : str, optional\n",
    "        An optional string giving the name of any column in the\n",
    "        GeoDataFrame you wish to have data from printed above the \n",
    "        interactive map when a user hovers over the features in the map.\n",
    "        Defaults to None which will not print any data. \n",
    "\n",
    "    \"\"\"\n",
    "    \n",
    "    def n_colors(n, colormap=colormap):\n",
    "        data = np.linspace(0.0,1.0,n)\n",
    "        c = [mpl.colors.rgb2hex(d[0:3]) for d in colormap(data)]\n",
    "        return c\n",
    "\n",
    "    def data_to_colors(data, colormap=colormap):\n",
    "        c = [mpl.colors.rgb2hex(d[0:3]) for \n",
    "             d in colormap(mpl.colors.Normalize()(data))]\n",
    "        return c \n",
    "    \n",
    "    def on_hover(event, id, properties):\n",
    "        with dbg:\n",
    "            text = properties.get(hover_col, '???')\n",
    "            lbl.value = f'{hover_col}: {text}'\n",
    "            # print(properties)\n",
    "  \n",
    "    # Convert to WGS 84 and GeoJSON format\n",
    "    gdf_wgs84 = gdf.to_crs(epsg=4326)\n",
    "    data = gdf_wgs84.__geo_interface__    \n",
    "    \n",
    "    # For each feature in dataset, append colour values\n",
    "    n_features = len(data['features'])\n",
    "    colors = n_colors(n_features)\n",
    "    \n",
    "    for feature, color in zip(data['features'], colors):\n",
    "        feature['properties']['style'] = {'color': color, \n",
    "                                          'weight': weight, \n",
    "                                          'fillColor': color, \n",
    "                                          'fillOpacity': 1.0}\n",
    "\n",
    "    # Get centroid to focus map on\n",
    "    lon1, lat1, lon2, lat2  = gdf_wgs84.total_bounds\n",
    "    lon = (lon1 + lon2) / 2\n",
    "    lat = (lat1 + lat2) / 2\n",
    "    \n",
    "    if default_zoom is None:\n",
    "        \n",
    "        # Calculate default zoom from latitude of features\n",
    "        default_zoom = _degree_to_zoom_level(lat1, lat2, margin=-0.5)\n",
    "    \n",
    "    # Plot map \n",
    "    m = Map(center=(lat, lon), \n",
    "            zoom=default_zoom, \n",
    "            basemap=basemap, \n",
    "            layout=dict(width='800px', height='600px'))\n",
    "    \n",
    "    # Add GeoJSON layer to map\n",
    "    feature_layer = GeoJSON(data=data)\n",
    "    m.add_layer(feature_layer)\n",
    "    \n",
    "    # If a column is specified by `hover_col`, print data from the\n",
    "    # hovered feature above the map\n",
    "    if hover_col:        \n",
    "        lbl = ipywidgets.Label()\n",
    "        dbg = ipywidgets.Output()        \n",
    "        feature_layer.on_hover(on_hover)\n",
    "        display(lbl)\n",
    "      \n",
    "    # Display the map\n",
    "    display(m)\n"
   ]
  },
  {
   "cell_type": "code",
   "execution_count": null,
   "metadata": {},
   "outputs": [],
   "source": [
    "path = '../Supplementary_data/Machine_learning_with_ODC/example_training_data.shp'\n",
    "field = 'classnum'\n",
    "product = 'ls8_nbart_geomedian_annual'\n",
    "year = 2015\n",
    "feature_stats = 'mean'"
   ]
  },
  {
   "cell_type": "code",
   "execution_count": null,
   "metadata": {},
   "outputs": [],
   "source": [
    "# Load input data shapefile\n",
    "input_data = gpd.read_file(path)\n",
    "\n",
    "# Plot first five rows\n",
    "input_data.head()"
   ]
  },
  {
   "cell_type": "code",
   "execution_count": null,
   "metadata": {},
   "outputs": [],
   "source": [
    "# Create custom colourmap a single colour\n",
    "cmap = matplotlib.colors.ListedColormap([\"#4ca334\"])\n",
    "\n",
    "# Plot training data in an interactive map\n",
    "map_shapefile(input_data, colormap=cmap, hover_col=field)"
   ]
  },
  {
   "cell_type": "markdown",
   "metadata": {},
   "source": [
    "### Folium"
   ]
  },
  {
   "cell_type": "code",
   "execution_count": null,
   "metadata": {},
   "outputs": [],
   "source": [
    "import pandas as pd\n",
    "\n",
    "\n",
    "url = 'https://raw.githubusercontent.com/python-visualization/folium/master/examples/data'\n",
    "state_geo = f'{url}/us-states.json'\n",
    "state_unemployment = f'{url}/US_Unemployment_Oct2012.csv'\n",
    "state_data = pd.read_csv(state_unemployment)\n",
    "\n",
    "m = folium.Map(location=[48, -102], zoom_start=3)\n",
    "\n",
    "folium.Choropleth(\n",
    "    geo_data=state_geo, # geojson\n",
    "    name='choropleth',\n",
    "    data=state_data, # a table with in built id, 'State' and 'Unemployment'\n",
    "    columns=['State', 'Unemployment'], # named columns in state_data\n",
    "    key_on='feature.id',\n",
    "    fill_color='YlGn',\n",
    "    fill_opacity=0.7,\n",
    "    line_opacity=0.2,\n",
    "    legend_name='Unemployment Rate (%)'\n",
    ").add_to(m)\n",
    "\n",
    "folium.LayerControl().add_to(m)\n",
    "\n",
    "m"
   ]
  },
  {
   "cell_type": "code",
   "execution_count": null,
   "metadata": {},
   "outputs": [],
   "source": [
    "potato_json = json.load(open('../potato.geojson'))\n",
    "potato_csv = pd.read_csv('../potato.csv')\n"
   ]
  },
  {
   "cell_type": "code",
   "execution_count": null,
   "metadata": {},
   "outputs": [],
   "source": [
    "import pandas as pd\n",
    "\n",
    "\n",
    "url = 'https://raw.githubusercontent.com/python-visualization/folium/master/examples/data'\n",
    "state_geo = f'{url}/us-states.json'\n",
    "state_unemployment = f'{url}/US_Unemployment_Oct2012.csv'\n",
    "state_data = pd.read_csv(state_unemployment)\n",
    "\n",
    "m = folium.Map(location=[-34.05, 115.17], zoom_start=11)\n",
    "\n",
    "folium.Choropleth(\n",
    "    geo_data=potato_json, # geojson\n",
    "    name='choropleth',\n",
    "    data=potato_csv, # a table with in built id, 'State' and 'Unemployment'\n",
    "    columns=['potato_no', 'classnum'], # named columns in state_data\n",
    "    key_on='feature.properties.potato_no',\n",
    "    fill_color='PuRd_r',\n",
    "    fill_opacity=0.7,\n",
    "    line_opacity=0.2,\n",
    "    legend_name='classnum'\n",
    ").add_to(m)\n",
    "\n",
    "folium.LayerControl().add_to(m)\n",
    "\n",
    "m"
   ]
  },
  {
   "cell_type": "code",
   "execution_count": null,
   "metadata": {},
   "outputs": [],
   "source": [
    "potato_json"
   ]
  },
  {
   "cell_type": "code",
   "execution_count": null,
   "metadata": {},
   "outputs": [],
   "source": [
    "potato_json[feature][properties][potato_no]"
   ]
  },
  {
   "cell_type": "code",
   "execution_count": null,
   "metadata": {},
   "outputs": [],
   "source": []
  }
 ],
 "metadata": {
  "kernelspec": {
   "display_name": "Python 3",
   "language": "python",
   "name": "python3"
  },
  "language_info": {
   "codemirror_mode": {
    "name": "ipython",
    "version": 3
   },
   "file_extension": ".py",
   "mimetype": "text/x-python",
   "name": "python",
   "nbconvert_exporter": "python",
   "pygments_lexer": "ipython3",
   "version": "3.6.9"
  }
 },
 "nbformat": 4,
 "nbformat_minor": 4
}
