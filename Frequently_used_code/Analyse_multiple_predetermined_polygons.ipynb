{
 "cells": [
  {
   "cell_type": "markdown",
   "metadata": {},
   "source": [
    "# Open and run analysis on multiple polygons <img align=\"right\" src=\"../Supplementary_data/dea_logo.jpg\">\n",
    "\n",
    "* **Compatability:** Notebook currently compatible with both the `NCI` and `DEA Sandbox` environments\n",
    "* **Products used:** \n",
    "[ga_ls8c_ard_3](https://explorer.sandbox.dea.ga.gov.au/ga_ls8c_ard_3)"
   ]
  },
  {
   "cell_type": "markdown",
   "metadata": {},
   "source": [
    "## Background\n",
    "Many users need to run analyses on their own areas of interest. \n",
    "A common use case involves running the same analysis across multiple polygons in a vector file (e.g. ESRI Shapefile or GeoJSON). \n",
    "This notebook will demonstrate how to use a vector file and the Open Data Cube to extract satellite data from Digital Earth Australia corresponding to individual polygon geometries."
   ]
  },
  {
   "cell_type": "markdown",
   "metadata": {},
   "source": [
    "## Description\n",
    "If we have a vector file containing multiple polygons, we can use the python package [geopandas](https://geopandas.org/) to open it as a `GeoDataFrame`. \n",
    "We can then iterate through each geometry and extract satellite data corresponding with the extent of each geometry. \n",
    "Further anlaysis can then be conducted on each resulting `xarray.Dataset`.\n",
    "\n",
    "We can retrieve data for each polygon, perform an analysis like calculating NDVI and plot the data.\n",
    "\n",
    "1. First we open the vector file as a `geopandas.GeoDataFrame`\n",
    "2. Iterate through each polygon in the `GeoDataFrame`, and extract satellite data from DEA\n",
    "3. Calculate NDVI as an example analysis on one of the extracted satellite timeseries\n",
    "4. Plot NDVI for the polygon extent\n",
    "\n",
    "***\n"
   ]
  },
  {
   "cell_type": "markdown",
   "metadata": {},
   "source": [
    "## Getting started\n",
    "To run this analysis, run all the cells in the notebook, starting with the \"Load packages\" cell. "
   ]
  },
  {
   "cell_type": "markdown",
   "metadata": {},
   "source": [
    "### Load packages\n",
    "Please note the use of `datacube.utils` package `geometry`: \n",
    "this is important for saving the coordinate reference system of the incoming shapefile in a format that the Digital Earth Australia query can understand."
   ]
  },
  {
   "cell_type": "code",
   "execution_count": 1,
   "metadata": {},
   "outputs": [
    {
     "name": "stderr",
     "output_type": "stream",
     "text": [
      "/env/lib/python3.6/site-packages/datacube/storage/masking.py:4: DeprecationWarning: datacube.storage.masking has moved to datacube.utils.masking\n",
      "  category=DeprecationWarning)\n"
     ]
    }
   ],
   "source": [
    "%matplotlib inline\n",
    "\n",
    "import sys\n",
    "\n",
    "import datacube\n",
    "import geopandas as gpd\n",
    "import matplotlib.pyplot as plt\n",
    "import numpy as np\n",
    "import pandas as pd\n",
    "import rasterio.crs\n",
    "import rioxarray\n",
    "from datacube.utils import geometry\n",
    "\n",
    "sys.path.append(\"../Scripts\")\n",
    "import functools\n",
    "import os\n",
    "import pickle\n",
    "\n",
    "import datacube.utils.cog\n",
    "\n",
    "# import geopandas as gpd\n",
    "import ipyleaflet\n",
    "import ipywidgets as widgets\n",
    "import matplotlib.cm\n",
    "import matplotlib.colors\n",
    "\n",
    "# import matplotlib.pyplot as plt\n",
    "import numpy as np\n",
    "import odc.ui\n",
    "import rasterio.features\n",
    "import rioxarray\n",
    "import skimage.color as colour\n",
    "import skimage.io\n",
    "import sklearn.metrics\n",
    "import xarray as xr\n",
    "\n",
    "# import sys\n",
    "# import datacube\n",
    "from datacube.storage.masking import make_mask\n",
    "\n",
    "# from dea_datahandling import load_ard\n",
    "from dea_bandindices import calculate_indices\n",
    "from dea_coastaltools import tidal_stats, tidal_tag\n",
    "from dea_dask import create_local_dask_cluster\n",
    "from dea_datahandling import array_to_geotiff, load_ard\n",
    "from dea_plotting import display_map, map_shapefile, rgb\n",
    "from dea_spatialtools import xr_rasterize\n",
    "from dea_temporaltools import time_buffer\n",
    "from IPython.display import display\n",
    "from odc.ui import with_ui_cbk\n",
    "from shapely.geometry import shape, Polygon\n",
    "from tqdm.notebook import tqdm\n",
    "\n",
    "# %matplotlib widget\n",
    "\n",
    "import seaborn as sns\n",
    "import matplotlib.dates as mdates\n",
    "from datetime import datetime\n",
    "\n",
    "import matplotlib.gridspec as gridspec\n",
    "\n",
    "import matplotlib as mpl"
   ]
  },
  {
   "cell_type": "markdown",
   "metadata": {},
   "source": [
    "### Connect to the datacube\n",
    "Connect to the datacube database to enable loading Digital Earth Australia data."
   ]
  },
  {
   "cell_type": "code",
   "execution_count": 2,
   "metadata": {},
   "outputs": [
    {
     "data": {
      "text/html": [
       "<table style=\"border: 2px solid white;\">\n",
       "<tr>\n",
       "<td style=\"vertical-align: top; border: 0px solid white\">\n",
       "<h3 style=\"text-align: left;\">Client</h3>\n",
       "<ul style=\"text-align: left; list-style: none; margin: 0; padding: 0;\">\n",
       "  <li><b>Scheduler: </b>tcp://127.0.0.1:43939</li>\n",
       "  <li><b>Dashboard: </b><a href='/user/cp/proxy/8787/status' target='_blank'>/user/cp/proxy/8787/status</a></li>\n",
       "</ul>\n",
       "</td>\n",
       "<td style=\"vertical-align: top; border: 0px solid white\">\n",
       "<h3 style=\"text-align: left;\">Cluster</h3>\n",
       "<ul style=\"text-align: left; list-style:none; margin: 0; padding: 0;\">\n",
       "  <li><b>Workers: </b>1</li>\n",
       "  <li><b>Cores: </b>2</li>\n",
       "  <li><b>Memory: </b>13.11 GB</li>\n",
       "</ul>\n",
       "</td>\n",
       "</tr>\n",
       "</table>"
      ],
      "text/plain": [
       "<Client: 'tcp://127.0.0.1:43939' processes=1 threads=2, memory=13.11 GB>"
      ]
     },
     "metadata": {},
     "output_type": "display_data"
    }
   ],
   "source": [
    "dc = datacube.Datacube(app=\"Analyse_multiple_polygons\")\n",
    "create_local_dask_cluster()"
   ]
  },
  {
   "cell_type": "markdown",
   "metadata": {},
   "source": [
    "# *Load predetermined polygons and select a region of interest*"
   ]
  },
  {
   "cell_type": "code",
   "execution_count": 3,
   "metadata": {},
   "outputs": [
    {
     "name": "stdout",
     "output_type": "stream",
     "text": [
      "/home/jovyan/dev/dea-notebooks/Claire\n"
     ]
    }
   ],
   "source": [
    "## User defines path to polygon vector file, file name and \n",
    "## the column name for unique integer identifiers for each vector object.\n",
    "%cd '/home/jovyan/dev/dea-notebooks/Claire/'\n",
    "vector_file = \"QISMCQ_polygons.shp\"\n",
    "attribute_col = \"id\""
   ]
  },
  {
   "cell_type": "code",
   "execution_count": 4,
   "metadata": {},
   "outputs": [
    {
     "name": "stdout",
     "output_type": "stream",
     "text": [
      "['Intertidal mangroves and other trees & shrubs'\n",
      " 'Intertidal grass-herb-sedge-other succulent' 'Intertidal seagrass']\n",
      "The attribute values for each class are as follows: [['Intertidal mangroves and other trees & shrubs', 0], ['Intertidal grass-herb-sedge-other succulent', 1], ['Intertidal seagrass', 2]]\n"
     ]
    },
    {
     "data": {
      "application/vnd.jupyter.widget-view+json": {
       "model_id": "1f0eaf83d81e4778acc1c986dc9c1bd3",
       "version_major": 2,
       "version_minor": 0
      },
      "text/plain": [
       "Map(center=[-23.952787292499956, 151.32995860600005], controls=(ZoomControl(options=['position', 'zoom_in_text…"
      ]
     },
     "metadata": {},
     "output_type": "display_data"
    }
   ],
   "source": [
    "# Read in the polygon vector file\n",
    "gdf_master = gpd.read_file(vector_file)\n",
    "\n",
    "# Set the crs to match the imagery data retrieved\n",
    "gdf_master.to_crs(epsg=3577, inplace=True)\n",
    "\n",
    "# #  View the unique classes\n",
    "# print(gdf_master[\"BRD_HAB\"].unique())\n",
    "\n",
    "#  Drop unrequired classes\n",
    "gdf_master = gdf_master.drop(\n",
    "    gdf_master[\n",
    "        (gdf_master.BRD_HAB == 'Subtidal consolidated substrate')\n",
    "        | (gdf_master.BRD_HAB == 'Intertidal consolidated substrate')\n",
    "        | (gdf_master.BRD_HAB == 'Intertidal coral')\n",
    "        | (gdf_master.BRD_HAB == 'Subtidal coral')\n",
    "        | (gdf_master.BRD_HAB == 'Subtidal unconsolidated substrate')\n",
    "        | (gdf_master.BRD_HAB == \"Intertidal unconsolidated substrate\")\n",
    "        | (gdf_master.BRD_HAB == 'Intertidal algae')\n",
    "        | (gdf_master.BRD_HAB == 'Subtidal seagrass')\n",
    "        | (gdf_master.BRD_HAB == 'Subtidal algae')\n",
    "    ].index\n",
    ")\n",
    "\n",
    "#  Reset the index of the gdf to infill dropped values\n",
    "gdf_master.reset_index(inplace=True)\n",
    "\n",
    "#  Check that correct classes remain\n",
    "print(gdf_master[\"BRD_HAB\"].unique())\n",
    "\n",
    "# Attribute each class with an integer value\n",
    "val = (gdf_master[\"BRD_HAB\"].unique()).tolist()\n",
    "\n",
    "num_list = []\n",
    "attr_key = []\n",
    "\n",
    "d = 0\n",
    "for x in range(len(gdf_master)):\n",
    "    for d in range(len(val)):\n",
    "        if gdf_master[\"BRD_HAB\"].values[x] == str(val[d]):\n",
    "            num_list.append(d)\n",
    "        # Create a key to interpret the integer attribute for each class\n",
    "        for y in num_list:\n",
    "            if y not in attr_key:\n",
    "                attr_key.append(y)\n",
    "\n",
    "val = [[el] for el in val]\n",
    "for x in attr_key:\n",
    "    val[x].append(attr_key[x])\n",
    "\n",
    "\n",
    "print(\"The attribute values for each class are as follows: \" + str(val))\n",
    "\n",
    "# Update the geodataframe of vector polygons with the integer attribution for each class\n",
    "gdf_master[\"id\"] = num_list\n",
    "\n",
    "# Map the shapefiles from imported vector set\n",
    "roi = map_shapefile(gdf_master, attribute=attribute_col)"
   ]
  },
  {
   "cell_type": "code",
   "execution_count": null,
   "metadata": {},
   "outputs": [],
   "source": [
    "# '''after updating CRS, function to recall roi polygons no longer works. Check function call to fix this then'''\n",
    "\n",
    "# roi[0]['geometry']"
   ]
  },
  {
   "cell_type": "code",
   "execution_count": 86,
   "metadata": {},
   "outputs": [
    {
     "name": "stdout",
     "output_type": "stream",
     "text": [
      "This selection includes  19  individual polygons\n"
     ]
    },
    {
     "data": {
      "text/plain": [
       "<matplotlib.axes._subplots.AxesSubplot at 0x7f6badb83828>"
      ]
     },
     "execution_count": 86,
     "metadata": {},
     "output_type": "execute_result"
    },
    {
     "data": {
      "image/png": "[encoded data removed]",
      "text/plain": [
       "<Figure size 432x288 with 1 Axes>"
      ]
     },
     "metadata": {
      "needs_background": "light"
     },
     "output_type": "display_data"
    }
   ],
   "source": [
    "'''\n",
    "After identifying an analysis region of interest(roi) on the map,\n",
    "intersect the roi with the master polygon gdf from which imagery \n",
    "will be extracted. Note that when multiple areas are drawn on the\n",
    "map above, it is the final roi that is used for analysis in the \n",
    "following cells\n",
    "'''\n",
    "\n",
    "##  Form a shapely polygon from the coordinates defined by the user on the map\n",
    "polygon_roi = Polygon(roi[-1]['geometry']['coordinates'][0])\n",
    "\n",
    "##  Generate a new geodataframe containing the user defined polygon geometry\n",
    "newdf = gpd.GeoDataFrame(gpd.GeoSeries(polygon_roi), columns=['geometry'], crs='EPSG:4326')\n",
    "newdf = newdf.to_crs(gdf_master.crs)\n",
    "\n",
    "##  Intersect the user-defined region of interest with the master\n",
    "##  to create the working gdf from which imagery will be extracted\n",
    "gdf = gpd.overlay(gdf_master, newdf, how='intersection')\n",
    "print('This selection includes ', len(gdf), ' individual polygons')\n",
    "gdf.plot()\n"
   ]
  },
  {
   "cell_type": "markdown",
   "metadata": {},
   "source": [
    "# Load imagery for the region of interest\n",
    "\n",
    "*user to define time-period of interest in the query*"
   ]
  },
  {
   "cell_type": "code",
   "execution_count": 64,
   "metadata": {},
   "outputs": [
    {
     "name": "stdout",
     "output_type": "stream",
     "text": [
      "Feature: 1/19\n",
      "Intertidal grass-herb-sedge-other succulent\n",
      "0\n",
      "key_0                                                         0\n",
      "index                                                      1966\n",
      "OBJECTID                                                   1967\n",
      "CONSOL                                                        U\n",
      "DOM_TYPE                                                      1\n",
      "DOM_LABEL                   Grass-herb-sedge (undifferentiated)\n",
      "CO_TYPES                                                   None\n",
      "TIDE_ZONE                                            Intertidal\n",
      "BRD_HAB             Intertidal grass-herb-sedge-other succulent\n",
      "Shape_Leng                                             0.010935\n",
      "Shape_Area                                          1.19404e-06\n",
      "id                                                            1\n",
      "geometry      POLYGON ((1968238.497153908 -2743166.144517381...\n",
      "NDVI mean                                              0.494406\n",
      "NDVI std                                                      0\n",
      "EVI mean                                               0.243601\n",
      "EVI std                                                       0\n",
      "NDAVI mean                                             0.651347\n",
      "NDAVI std                                                     0\n",
      "WAVI mean                                              0.305009\n",
      "WAVI std                                                      0\n",
      "SAVI mean                                              0.247672\n",
      "SAVI std                                                      0\n",
      "MNDWI mean                                            -0.374734\n",
      "MNDWI std                                                     0\n",
      "Name: 0, dtype: object\n",
      "Finding datasets\n",
      "    ga_ls8c_ard_3\n"
     ]
    },
    {
     "name": "stderr",
     "output_type": "stream",
     "text": [
      "../Scripts/dea_datahandling.py:238: UserWarning: Setting 'min_gooddata' percentage to > 0.0 will cause dask arrays to compute when loading pixel-quality data to calculate 'good pixel' percentage. This can slow the return of your dataset.\n",
      "  warnings.warn(\"Setting 'min_gooddata' percentage to > 0.0 \"\n"
     ]
    },
    {
     "name": "stdout",
     "output_type": "stream",
     "text": [
      "Counting good quality pixels for each time step\n",
      "Filtering to 90 out of 266 time steps with at least 99.0% good quality pixels\n",
      "Applying pixel quality/cloud mask\n",
      "Returning 90 time steps as a dask array\n",
      "Setting tide modelling location from dataset centroid: 151.63, -24.01\n",
      "Modelling tidal phase (e.g. ebb or flow)\n",
      "Rasterizing to match xarray.DataArray dimensions (10, 8)\n",
      "1 0\n",
      "----------------------\n",
      "Feature: 2/19\n",
      "Intertidal grass-herb-sedge-other succulent\n",
      "1\n",
      "key_0                                                         1\n",
      "index                                                      1972\n",
      "OBJECTID                                                   1973\n",
      "CONSOL                                                        U\n",
      "DOM_TYPE                                                      1\n",
      "DOM_LABEL                   Grass-herb-sedge (undifferentiated)\n",
      "CO_TYPES                                                   None\n",
      "TIDE_ZONE                                            Intertidal\n",
      "BRD_HAB             Intertidal grass-herb-sedge-other succulent\n",
      "Shape_Leng                                           0.00435318\n",
      "Shape_Area                                          7.94525e-07\n",
      "id                                                            1\n",
      "geometry      POLYGON ((1966285.72420532 -2742719.984391502,...\n",
      "NDVI mean                                              0.286128\n",
      "NDVI std                                                      0\n",
      "EVI mean                                               0.175462\n",
      "EVI std                                                       0\n",
      "NDAVI mean                                             0.537856\n",
      "NDAVI std                                                     0\n",
      "WAVI mean                                              0.314914\n",
      "WAVI std                                                      0\n",
      "SAVI mean                                              0.180257\n",
      "SAVI std                                                      0\n",
      "MNDWI mean                                            -0.371679\n",
      "MNDWI std                                                     0\n",
      "Name: 1, dtype: object\n",
      "Finding datasets\n",
      "    ga_ls8c_ard_3\n"
     ]
    },
    {
     "name": "stderr",
     "output_type": "stream",
     "text": [
      "../Scripts/dea_datahandling.py:238: UserWarning: Setting 'min_gooddata' percentage to > 0.0 will cause dask arrays to compute when loading pixel-quality data to calculate 'good pixel' percentage. This can slow the return of your dataset.\n",
      "  warnings.warn(\"Setting 'min_gooddata' percentage to > 0.0 \"\n"
     ]
    },
    {
     "name": "stdout",
     "output_type": "stream",
     "text": [
      "Counting good quality pixels for each time step\n",
      "Filtering to 79 out of 173 time steps with at least 99.0% good quality pixels\n",
      "Applying pixel quality/cloud mask\n",
      "Returning 79 time steps as a dask array\n",
      "Setting tide modelling location from dataset centroid: 151.61, -24.01\n",
      "Modelling tidal phase (e.g. ebb or flow)\n",
      "Rasterizing to match xarray.DataArray dimensions (3, 7)\n",
      "1 1\n",
      "----------------------\n",
      "Feature: 3/19\n",
      "Intertidal grass-herb-sedge-other succulent\n",
      "2\n",
      "key_0                                                         2\n",
      "index                                                      1975\n",
      "OBJECTID                                                   1976\n",
      "CONSOL                                                        U\n",
      "DOM_TYPE                                                      1\n",
      "DOM_LABEL                   Grass-herb-sedge (undifferentiated)\n",
      "CO_TYPES                                                   None\n",
      "TIDE_ZONE                                            Intertidal\n",
      "BRD_HAB             Intertidal grass-herb-sedge-other succulent\n",
      "Shape_Leng                                           0.00542953\n",
      "Shape_Area                                          5.28465e-07\n",
      "id                                                            1\n",
      "geometry      POLYGON ((1966545.137683227 -2742551.876002677...\n",
      "NDVI mean                                              0.466101\n",
      "NDVI std                                                      0\n",
      "EVI mean                                               0.239581\n",
      "EVI std                                                       0\n",
      "NDAVI mean                                             0.627109\n",
      "NDAVI std                                                     0\n",
      "WAVI mean                                               0.30327\n",
      "WAVI std                                                      0\n",
      "SAVI mean                                              0.241242\n",
      "SAVI std                                                      0\n",
      "MNDWI mean                                             -0.37764\n",
      "MNDWI std                                                     0\n",
      "Name: 2, dtype: object\n",
      "Finding datasets\n",
      "    ga_ls8c_ard_3\n"
     ]
    },
    {
     "name": "stderr",
     "output_type": "stream",
     "text": [
      "../Scripts/dea_datahandling.py:238: UserWarning: Setting 'min_gooddata' percentage to > 0.0 will cause dask arrays to compute when loading pixel-quality data to calculate 'good pixel' percentage. This can slow the return of your dataset.\n",
      "  warnings.warn(\"Setting 'min_gooddata' percentage to > 0.0 \"\n"
     ]
    },
    {
     "name": "stdout",
     "output_type": "stream",
     "text": [
      "Counting good quality pixels for each time step\n",
      "Filtering to 80 out of 173 time steps with at least 99.0% good quality pixels\n",
      "Applying pixel quality/cloud mask\n",
      "Returning 80 time steps as a dask array\n",
      "Setting tide modelling location from dataset centroid: 151.61, -24.01\n",
      "Modelling tidal phase (e.g. ebb or flow)\n",
      "Rasterizing to match xarray.DataArray dimensions (2, 9)\n",
      "1 2\n",
      "----------------------\n",
      "Feature: 4/19\n",
      "Intertidal grass-herb-sedge-other succulent\n",
      "3\n",
      "key_0                                                         3\n",
      "index                                                      1976\n",
      "OBJECTID                                                   1977\n",
      "CONSOL                                                        U\n",
      "DOM_TYPE                                                      1\n",
      "DOM_LABEL                   Grass-herb-sedge (undifferentiated)\n",
      "CO_TYPES                                                   None\n",
      "TIDE_ZONE                                            Intertidal\n",
      "BRD_HAB             Intertidal grass-herb-sedge-other succulent\n",
      "Shape_Leng                                           0.00533589\n",
      "Shape_Area                                          3.06878e-07\n",
      "id                                                            1\n",
      "geometry      POLYGON ((1966307.869956977 -2742557.01301007,...\n",
      "NDVI mean                                              0.350389\n",
      "NDVI std                                                      0\n",
      "EVI mean                                               0.178402\n",
      "EVI std                                                       0\n",
      "NDAVI mean                                             0.548358\n",
      "NDAVI std                                                     0\n",
      "WAVI mean                                              0.260953\n",
      "WAVI std                                                      0\n",
      "SAVI mean                                               0.18264\n",
      "SAVI std                                                      0\n",
      "MNDWI mean                                             -0.38532\n",
      "MNDWI std                                                     0\n",
      "Name: 3, dtype: object\n",
      "Finding datasets\n",
      "    ga_ls8c_ard_3\n"
     ]
    },
    {
     "name": "stderr",
     "output_type": "stream",
     "text": [
      "../Scripts/dea_datahandling.py:238: UserWarning: Setting 'min_gooddata' percentage to > 0.0 will cause dask arrays to compute when loading pixel-quality data to calculate 'good pixel' percentage. This can slow the return of your dataset.\n",
      "  warnings.warn(\"Setting 'min_gooddata' percentage to > 0.0 \"\n"
     ]
    },
    {
     "name": "stdout",
     "output_type": "stream",
     "text": [
      "Counting good quality pixels for each time step\n",
      "Filtering to 79 out of 173 time steps with at least 99.0% good quality pixels\n",
      "Applying pixel quality/cloud mask\n",
      "Returning 79 time steps as a dask array\n",
      "Setting tide modelling location from dataset centroid: 151.61, -24.01\n",
      "Modelling tidal phase (e.g. ebb or flow)\n",
      "Rasterizing to match xarray.DataArray dimensions (4, 9)\n",
      "1 3\n",
      "----------------------\n",
      "Feature: 5/19\n",
      "Intertidal grass-herb-sedge-other succulent\n",
      "4\n",
      "key_0                                                         4\n",
      "index                                                      1977\n",
      "OBJECTID                                                   1978\n",
      "CONSOL                                                        U\n",
      "DOM_TYPE                                                      1\n",
      "DOM_LABEL                   Grass-herb-sedge (undifferentiated)\n",
      "CO_TYPES                                                   None\n",
      "TIDE_ZONE                                            Intertidal\n",
      "BRD_HAB             Intertidal grass-herb-sedge-other succulent\n",
      "Shape_Leng                                            0.0116974\n",
      "Shape_Area                                          3.85653e-06\n",
      "id                                                            1\n",
      "geometry      POLYGON ((1965866.02336114 -2742449.379341377,...\n",
      "NDVI mean                                              0.293131\n",
      "NDVI std                                                      0\n",
      "EVI mean                                               0.153343\n",
      "EVI std                                                       0\n",
      "NDAVI mean                                             0.553232\n",
      "NDAVI std                                                     0\n",
      "WAVI mean                                              0.272958\n",
      "WAVI std                                                      0\n",
      "SAVI mean                                              0.162078\n",
      "SAVI std                                                      0\n",
      "MNDWI mean                                            -0.380177\n",
      "MNDWI std                                                     0\n",
      "Name: 4, dtype: object\n",
      "Finding datasets\n",
      "    ga_ls8c_ard_3\n"
     ]
    },
    {
     "name": "stderr",
     "output_type": "stream",
     "text": [
      "../Scripts/dea_datahandling.py:238: UserWarning: Setting 'min_gooddata' percentage to > 0.0 will cause dask arrays to compute when loading pixel-quality data to calculate 'good pixel' percentage. This can slow the return of your dataset.\n",
      "  warnings.warn(\"Setting 'min_gooddata' percentage to > 0.0 \"\n"
     ]
    },
    {
     "name": "stdout",
     "output_type": "stream",
     "text": [
      "Counting good quality pixels for each time step\n",
      "Filtering to 76 out of 169 time steps with at least 99.0% good quality pixels\n",
      "Applying pixel quality/cloud mask\n",
      "Returning 76 time steps as a dask array\n",
      "Setting tide modelling location from dataset centroid: 151.61, -24.01\n",
      "Modelling tidal phase (e.g. ebb or flow)\n",
      "Rasterizing to match xarray.DataArray dimensions (14, 8)\n",
      "1 4\n",
      "----------------------\n",
      "Feature: 6/19\n",
      "Intertidal grass-herb-sedge-other succulent\n",
      "5\n",
      "key_0                                                         5\n",
      "index                                                      1978\n",
      "OBJECTID                                                   1979\n",
      "CONSOL                                                        U\n",
      "DOM_TYPE                                                      1\n",
      "DOM_LABEL                   Grass-herb-sedge (undifferentiated)\n",
      "CO_TYPES                                                   None\n",
      "TIDE_ZONE                                            Intertidal\n",
      "BRD_HAB             Intertidal grass-herb-sedge-other succulent\n",
      "Shape_Leng                                           0.00475723\n",
      "Shape_Area                                          3.11357e-07\n",
      "id                                                            1\n",
      "geometry      POLYGON ((1966418.700164232 -2742495.684129315...\n",
      "NDVI mean                                              0.503814\n",
      "NDVI std                                                      0\n",
      "EVI mean                                                0.25275\n",
      "EVI std                                                       0\n",
      "NDAVI mean                                             0.639632\n",
      "NDAVI std                                                     0\n",
      "WAVI mean                                              0.303361\n",
      "WAVI std                                                      0\n",
      "SAVI mean                                              0.252783\n",
      "SAVI std                                                      0\n",
      "MNDWI mean                                            -0.310703\n",
      "MNDWI std                                                     0\n",
      "Name: 5, dtype: object\n",
      "Finding datasets\n",
      "    ga_ls8c_ard_3\n"
     ]
    },
    {
     "name": "stderr",
     "output_type": "stream",
     "text": [
      "../Scripts/dea_datahandling.py:238: UserWarning: Setting 'min_gooddata' percentage to > 0.0 will cause dask arrays to compute when loading pixel-quality data to calculate 'good pixel' percentage. This can slow the return of your dataset.\n",
      "  warnings.warn(\"Setting 'min_gooddata' percentage to > 0.0 \"\n"
     ]
    },
    {
     "name": "stdout",
     "output_type": "stream",
     "text": [
      "Counting good quality pixels for each time step\n",
      "Filtering to 82 out of 176 time steps with at least 99.0% good quality pixels\n",
      "Applying pixel quality/cloud mask\n",
      "Returning 82 time steps as a dask array\n",
      "Setting tide modelling location from dataset centroid: 151.61, -24.01\n",
      "Modelling tidal phase (e.g. ebb or flow)\n",
      "Rasterizing to match xarray.DataArray dimensions (3, 7)\n",
      "1 5\n",
      "----------------------\n",
      "Feature: 7/19\n",
      "Intertidal grass-herb-sedge-other succulent\n",
      "6\n",
      "key_0                                                         6\n",
      "index                                                      1981\n",
      "OBJECTID                                                   1982\n",
      "CONSOL                                                        U\n",
      "DOM_TYPE                                                      1\n",
      "DOM_LABEL                   Grass-herb-sedge (undifferentiated)\n",
      "CO_TYPES                                                   None\n",
      "TIDE_ZONE                                            Intertidal\n",
      "BRD_HAB             Intertidal grass-herb-sedge-other succulent\n",
      "Shape_Leng                                           0.00219752\n",
      "Shape_Area                                          3.20087e-07\n",
      "id                                                            1\n",
      "geometry      POLYGON ((1965978.170667956 -2742157.058612417...\n",
      "NDVI mean                                                0.5384\n",
      "NDVI std                                                      0\n",
      "EVI mean                                               0.272418\n",
      "EVI std                                                       0\n",
      "NDAVI mean                                             0.696737\n",
      "NDAVI std                                                     0\n",
      "WAVI mean                                              0.336844\n",
      "WAVI std                                                      0\n",
      "SAVI mean                                              0.277227\n",
      "SAVI std                                                      0\n",
      "MNDWI mean                                            -0.345932\n",
      "MNDWI std                                                     0\n",
      "Name: 6, dtype: object\n",
      "Finding datasets\n",
      "    ga_ls8c_ard_3\n"
     ]
    },
    {
     "name": "stderr",
     "output_type": "stream",
     "text": [
      "../Scripts/dea_datahandling.py:238: UserWarning: Setting 'min_gooddata' percentage to > 0.0 will cause dask arrays to compute when loading pixel-quality data to calculate 'good pixel' percentage. This can slow the return of your dataset.\n",
      "  warnings.warn(\"Setting 'min_gooddata' percentage to > 0.0 \"\n"
     ]
    },
    {
     "name": "stdout",
     "output_type": "stream",
     "text": [
      "Counting good quality pixels for each time step\n",
      "Filtering to 92 out of 167 time steps with at least 99.0% good quality pixels\n",
      "Applying pixel quality/cloud mask\n",
      "Returning 92 time steps as a dask array\n",
      "Setting tide modelling location from dataset centroid: 151.61, -24.00\n",
      "Modelling tidal phase (e.g. ebb or flow)\n",
      "Rasterizing to match xarray.DataArray dimensions (3, 3)\n",
      "1 6\n",
      "----------------------\n",
      "Feature: 8/19\n",
      "Intertidal grass-herb-sedge-other succulent\n",
      "7\n",
      "key_0                                                         7\n",
      "index                                                      1982\n",
      "OBJECTID                                                   1983\n",
      "CONSOL                                                        U\n",
      "DOM_TYPE                                                      1\n",
      "DOM_LABEL                   Grass-herb-sedge (undifferentiated)\n",
      "CO_TYPES                                                   None\n",
      "TIDE_ZONE                                            Intertidal\n",
      "BRD_HAB             Intertidal grass-herb-sedge-other succulent\n",
      "Shape_Leng                                           0.00357492\n",
      "Shape_Area                                          3.31199e-07\n",
      "id                                                            1\n",
      "geometry      POLYGON ((1965960.571673254 -2742009.416246064...\n",
      "NDVI mean                                              0.598353\n",
      "NDVI std                                                      0\n",
      "EVI mean                                               0.317456\n",
      "EVI std                                                       0\n",
      "NDAVI mean                                             0.746065\n",
      "NDAVI std                                                     0\n",
      "WAVI mean                                              0.378291\n",
      "WAVI std                                                      0\n",
      "SAVI mean                                              0.321516\n",
      "SAVI std                                                      0\n",
      "MNDWI mean                                            -0.316501\n",
      "MNDWI std                                                     0\n",
      "Name: 7, dtype: object\n",
      "Finding datasets\n",
      "    ga_ls8c_ard_3\n"
     ]
    },
    {
     "name": "stderr",
     "output_type": "stream",
     "text": [
      "../Scripts/dea_datahandling.py:238: UserWarning: Setting 'min_gooddata' percentage to > 0.0 will cause dask arrays to compute when loading pixel-quality data to calculate 'good pixel' percentage. This can slow the return of your dataset.\n",
      "  warnings.warn(\"Setting 'min_gooddata' percentage to > 0.0 \"\n"
     ]
    },
    {
     "name": "stdout",
     "output_type": "stream",
     "text": [
      "Counting good quality pixels for each time step\n",
      "Filtering to 90 out of 167 time steps with at least 99.0% good quality pixels\n",
      "Applying pixel quality/cloud mask\n",
      "Returning 90 time steps as a dask array\n",
      "Setting tide modelling location from dataset centroid: 151.61, -24.00\n",
      "Modelling tidal phase (e.g. ebb or flow)\n",
      "Rasterizing to match xarray.DataArray dimensions (4, 4)\n",
      "1 7\n",
      "----------------------\n",
      "Feature: 9/19\n",
      "Intertidal grass-herb-sedge-other succulent\n",
      "8\n",
      "key_0                                                         8\n",
      "index                                                      1992\n",
      "OBJECTID                                                   1993\n",
      "CONSOL                                                        U\n",
      "DOM_TYPE                                                      1\n",
      "DOM_LABEL                   Grass-herb-sedge (undifferentiated)\n",
      "CO_TYPES                                                   None\n",
      "TIDE_ZONE                                            Intertidal\n",
      "BRD_HAB             Intertidal grass-herb-sedge-other succulent\n",
      "Shape_Leng                                            0.0109216\n",
      "Shape_Area                                          3.05853e-06\n",
      "id                                                            1\n",
      "geometry      POLYGON ((1966452.093229785 -2741250.025310432...\n",
      "NDVI mean                                              0.371664\n",
      "NDVI std                                                      0\n",
      "EVI mean                                               0.180607\n",
      "EVI std                                                       0\n",
      "NDAVI mean                                              0.56383\n",
      "NDAVI std                                                     0\n",
      "WAVI mean                                              0.258221\n",
      "WAVI std                                                      0\n",
      "SAVI mean                                              0.185255\n",
      "SAVI std                                                      0\n",
      "MNDWI mean                                            -0.291048\n",
      "MNDWI std                                                     0\n",
      "Name: 8, dtype: object\n",
      "Finding datasets\n",
      "    ga_ls8c_ard_3\n"
     ]
    },
    {
     "name": "stderr",
     "output_type": "stream",
     "text": [
      "../Scripts/dea_datahandling.py:238: UserWarning: Setting 'min_gooddata' percentage to > 0.0 will cause dask arrays to compute when loading pixel-quality data to calculate 'good pixel' percentage. This can slow the return of your dataset.\n",
      "  warnings.warn(\"Setting 'min_gooddata' percentage to > 0.0 \"\n"
     ]
    },
    {
     "name": "stdout",
     "output_type": "stream",
     "text": [
      "Counting good quality pixels for each time step\n",
      "Filtering to 74 out of 169 time steps with at least 99.0% good quality pixels\n",
      "Applying pixel quality/cloud mask\n",
      "Returning 74 time steps as a dask array\n",
      "Setting tide modelling location from dataset centroid: 151.61, -24.00\n",
      "Modelling tidal phase (e.g. ebb or flow)\n",
      "Rasterizing to match xarray.DataArray dimensions (14, 7)\n",
      "1 8\n",
      "----------------------\n",
      "Feature: 10/19\n",
      "Intertidal grass-herb-sedge-other succulent\n",
      "9\n",
      "key_0                                                         9\n",
      "index                                                      2635\n",
      "OBJECTID                                                   2636\n",
      "CONSOL                                                        U\n",
      "DOM_TYPE                                                      1\n",
      "DOM_LABEL                   Grass-herb-sedge (undifferentiated)\n",
      "CO_TYPES                                                      5\n",
      "TIDE_ZONE                                            Intertidal\n",
      "BRD_HAB             Intertidal grass-herb-sedge-other succulent\n",
      "Shape_Leng                                            0.0148334\n",
      "Shape_Area                                          3.19977e-06\n",
      "id                                                            1\n",
      "geometry      POLYGON ((1965773.736200124 -2742557.790841286...\n",
      "NDVI mean                                              0.380094\n",
      "NDVI std                                                      0\n",
      "EVI mean                                               0.215968\n",
      "EVI std                                                       0\n",
      "NDAVI mean                                              0.59166\n",
      "NDAVI std                                                     0\n",
      "WAVI mean                                              0.322916\n",
      "WAVI std                                                      0\n",
      "SAVI mean                                              0.219075\n",
      "SAVI std                                                      0\n",
      "MNDWI mean                                            -0.432193\n",
      "MNDWI std                                                     0\n",
      "Name: 9, dtype: object\n",
      "Finding datasets\n",
      "    ga_ls8c_ard_3\n"
     ]
    },
    {
     "name": "stderr",
     "output_type": "stream",
     "text": [
      "../Scripts/dea_datahandling.py:238: UserWarning: Setting 'min_gooddata' percentage to > 0.0 will cause dask arrays to compute when loading pixel-quality data to calculate 'good pixel' percentage. This can slow the return of your dataset.\n",
      "  warnings.warn(\"Setting 'min_gooddata' percentage to > 0.0 \"\n"
     ]
    },
    {
     "name": "stdout",
     "output_type": "stream",
     "text": [
      "Counting good quality pixels for each time step\n",
      "Filtering to 75 out of 171 time steps with at least 99.0% good quality pixels\n",
      "Applying pixel quality/cloud mask\n",
      "Returning 75 time steps as a dask array\n",
      "Setting tide modelling location from dataset centroid: 151.61, -24.01\n",
      "Modelling tidal phase (e.g. ebb or flow)\n",
      "Rasterizing to match xarray.DataArray dimensions (11, 12)\n",
      "1 9\n",
      "----------------------\n",
      "Feature: 11/19\n",
      "Intertidal grass-herb-sedge-other succulent\n",
      "10\n",
      "key_0                                                        10\n",
      "index                                                      2636\n",
      "OBJECTID                                                   2637\n",
      "CONSOL                                                        U\n",
      "DOM_TYPE                                                      1\n",
      "DOM_LABEL                   Grass-herb-sedge (undifferentiated)\n",
      "CO_TYPES                                                      5\n",
      "TIDE_ZONE                                            Intertidal\n",
      "BRD_HAB             Intertidal grass-herb-sedge-other succulent\n",
      "Shape_Leng                                           0.00882834\n",
      "Shape_Area                                          7.52458e-07\n",
      "id                                                            1\n",
      "geometry      POLYGON ((1967079.949567186 -2742643.873355313...\n",
      "NDVI mean                                              0.426679\n",
      "NDVI std                                                      0\n",
      "EVI mean                                               0.239303\n",
      "EVI std                                                       0\n",
      "NDAVI mean                                             0.628916\n",
      "NDAVI std                                                     0\n",
      "WAVI mean                                              0.338663\n",
      "WAVI std                                                      0\n",
      "SAVI mean                                              0.241012\n",
      "SAVI std                                                      0\n",
      "MNDWI mean                                            -0.408536\n",
      "MNDWI std                                                     0\n",
      "Name: 10, dtype: object\n",
      "Finding datasets\n",
      "    ga_ls8c_ard_3\n"
     ]
    },
    {
     "name": "stderr",
     "output_type": "stream",
     "text": [
      "../Scripts/dea_datahandling.py:238: UserWarning: Setting 'min_gooddata' percentage to > 0.0 will cause dask arrays to compute when loading pixel-quality data to calculate 'good pixel' percentage. This can slow the return of your dataset.\n",
      "  warnings.warn(\"Setting 'min_gooddata' percentage to > 0.0 \"\n"
     ]
    },
    {
     "name": "stdout",
     "output_type": "stream",
     "text": [
      "Counting good quality pixels for each time step\n",
      "Filtering to 80 out of 190 time steps with at least 99.0% good quality pixels\n",
      "Applying pixel quality/cloud mask\n",
      "Returning 80 time steps as a dask array\n",
      "Setting tide modelling location from dataset centroid: 151.62, -24.01\n",
      "Modelling tidal phase (e.g. ebb or flow)\n",
      "Rasterizing to match xarray.DataArray dimensions (8, 10)\n",
      "1 10\n",
      "----------------------\n",
      "Feature: 12/19\n",
      "Intertidal mangroves and other trees & shrubs\n",
      "11\n",
      "key_0                                                        11\n",
      "index                                                      2761\n",
      "OBJECTID                                                   2762\n",
      "CONSOL                                                        U\n",
      "DOM_TYPE                                                     10\n",
      "DOM_LABEL                                Other trees and shrubs\n",
      "CO_TYPES                                                   None\n",
      "TIDE_ZONE                                            Intertidal\n",
      "BRD_HAB           Intertidal mangroves and other trees & shrubs\n",
      "Shape_Leng                                           0.00390233\n",
      "Shape_Area                                          2.52019e-07\n",
      "id                                                            0\n",
      "geometry      POLYGON ((1968316.201680044 -2743424.725624714...\n",
      "NDVI mean                                              0.651667\n",
      "NDVI std                                                      0\n",
      "EVI mean                                               0.339875\n",
      "EVI std                                                       0\n",
      "NDAVI mean                                             0.764166\n",
      "NDAVI std                                                     0\n",
      "WAVI mean                                              0.381748\n",
      "WAVI std                                                      0\n",
      "SAVI mean                                               0.33993\n",
      "SAVI std                                                      0\n",
      "MNDWI mean                                            -0.467625\n",
      "MNDWI std                                                     0\n",
      "Name: 11, dtype: object\n",
      "Finding datasets\n",
      "    ga_ls8c_ard_3\n"
     ]
    },
    {
     "name": "stderr",
     "output_type": "stream",
     "text": [
      "../Scripts/dea_datahandling.py:238: UserWarning: Setting 'min_gooddata' percentage to > 0.0 will cause dask arrays to compute when loading pixel-quality data to calculate 'good pixel' percentage. This can slow the return of your dataset.\n",
      "  warnings.warn(\"Setting 'min_gooddata' percentage to > 0.0 \"\n"
     ]
    },
    {
     "name": "stdout",
     "output_type": "stream",
     "text": [
      "Counting good quality pixels for each time step\n",
      "Filtering to 97 out of 262 time steps with at least 99.0% good quality pixels\n",
      "Applying pixel quality/cloud mask\n",
      "Returning 97 time steps as a dask array\n",
      "Setting tide modelling location from dataset centroid: 151.63, -24.01\n",
      "Modelling tidal phase (e.g. ebb or flow)\n",
      "Rasterizing to match xarray.DataArray dimensions (5, 6)\n",
      "0 11\n",
      "----------------------\n",
      "Feature: 13/19\n",
      "Intertidal seagrass\n",
      "12\n",
      "key_0                                                        12\n",
      "index                                                      3561\n",
      "OBJECTID                                                   3562\n",
      "CONSOL                                                        U\n",
      "DOM_TYPE                                                     12\n",
      "DOM_LABEL                                 Strap (wide) seagrass\n",
      "CO_TYPES                                                   None\n",
      "TIDE_ZONE                                            Intertidal\n",
      "BRD_HAB                                     Intertidal seagrass\n",
      "Shape_Leng                                            0.0683513\n",
      "Shape_Area                                          4.82215e-05\n",
      "id                                                            2\n",
      "geometry      POLYGON ((1967278.19289789 -2742916.451099447,...\n",
      "NDVI mean                                             -0.572754\n",
      "NDVI std                                                      0\n",
      "EVI mean                                             -0.0963968\n",
      "EVI std                                                       0\n",
      "NDAVI mean                                            -0.472962\n",
      "NDAVI std                                                     0\n",
      "WAVI mean                                            -0.0586951\n",
      "WAVI std                                                      0\n",
      "SAVI mean                                             -0.101322\n",
      "SAVI std                                                      0\n",
      "MNDWI mean                                             0.760384\n",
      "MNDWI std                                                     0\n",
      "Name: 12, dtype: object\n",
      "Finding datasets\n",
      "    ga_ls8c_ard_3\n"
     ]
    },
    {
     "name": "stderr",
     "output_type": "stream",
     "text": [
      "../Scripts/dea_datahandling.py:238: UserWarning: Setting 'min_gooddata' percentage to > 0.0 will cause dask arrays to compute when loading pixel-quality data to calculate 'good pixel' percentage. This can slow the return of your dataset.\n",
      "  warnings.warn(\"Setting 'min_gooddata' percentage to > 0.0 \"\n"
     ]
    },
    {
     "name": "stdout",
     "output_type": "stream",
     "text": [
      "Counting good quality pixels for each time step\n",
      "Filtering to 49 out of 268 time steps with at least 99.0% good quality pixels\n",
      "Applying pixel quality/cloud mask\n",
      "Returning 49 time steps as a dask array\n",
      "Setting tide modelling location from dataset centroid: 151.62, -24.01\n",
      "Modelling tidal phase (e.g. ebb or flow)\n",
      "Rasterizing to match xarray.DataArray dimensions (42, 89)\n",
      "2 12\n",
      "----------------------\n",
      "Feature: 14/19\n",
      "Intertidal seagrass\n",
      "13\n",
      "key_0                                                        13\n",
      "index                                                      3711\n",
      "OBJECTID                                                   3712\n",
      "CONSOL                                                        U\n",
      "DOM_TYPE                                                     12\n",
      "DOM_LABEL                                 Strap (wide) seagrass\n",
      "CO_TYPES                                                     13\n",
      "TIDE_ZONE                                            Intertidal\n",
      "BRD_HAB                                     Intertidal seagrass\n",
      "Shape_Leng                                            0.0111484\n",
      "Shape_Area                                          3.09432e-06\n",
      "id                                                            2\n",
      "geometry      POLYGON ((1967651.379752125 -2743836.902386311...\n",
      "NDVI mean                                             -0.776456\n",
      "NDVI std                                                      0\n",
      "EVI mean                                               -0.12523\n",
      "EVI std                                                       0\n",
      "NDAVI mean                                            -0.750945\n",
      "NDAVI std                                                     0\n",
      "WAVI mean                                              -0.11495\n",
      "WAVI std                                                      0\n",
      "SAVI mean                                             -0.128937\n",
      "SAVI std                                                      0\n",
      "MNDWI mean                                              0.95169\n",
      "MNDWI std                                                     0\n",
      "Name: 13, dtype: object\n",
      "Finding datasets\n",
      "    ga_ls8c_ard_3\n"
     ]
    },
    {
     "name": "stderr",
     "output_type": "stream",
     "text": [
      "../Scripts/dea_datahandling.py:238: UserWarning: Setting 'min_gooddata' percentage to > 0.0 will cause dask arrays to compute when loading pixel-quality data to calculate 'good pixel' percentage. This can slow the return of your dataset.\n",
      "  warnings.warn(\"Setting 'min_gooddata' percentage to > 0.0 \"\n"
     ]
    },
    {
     "name": "stdout",
     "output_type": "stream",
     "text": [
      "Counting good quality pixels for each time step\n",
      "Filtering to 72 out of 243 time steps with at least 99.0% good quality pixels\n",
      "Applying pixel quality/cloud mask\n",
      "Returning 72 time steps as a dask array\n",
      "Setting tide modelling location from dataset centroid: 151.62, -24.02\n",
      "Modelling tidal phase (e.g. ebb or flow)\n",
      "Rasterizing to match xarray.DataArray dimensions (16, 13)\n",
      "2 13\n",
      "----------------------\n",
      "Feature: 15/19\n",
      "Intertidal mangroves and other trees & shrubs\n",
      "14\n",
      "key_0                                                        14\n",
      "index                                                      9532\n",
      "OBJECTID                                                   9533\n",
      "CONSOL                                                        U\n",
      "DOM_TYPE                                                      5\n",
      "DOM_LABEL          Mangroves and other trees (undifferentiated)\n",
      "CO_TYPES                                                   None\n",
      "TIDE_ZONE                                            Intertidal\n",
      "BRD_HAB           Intertidal mangroves and other trees & shrubs\n",
      "Shape_Leng                                           0.00720633\n",
      "Shape_Area                                          1.07183e-06\n",
      "id                                                            0\n",
      "geometry      POLYGON ((1966326.158227706 -2742661.590555222...\n",
      "NDVI mean                                              0.584019\n",
      "NDVI std                                                      0\n",
      "EVI mean                                               0.319815\n",
      "EVI std                                                       0\n",
      "NDAVI mean                                             0.705912\n",
      "NDAVI std                                                     0\n",
      "WAVI mean                                               0.36647\n",
      "WAVI std                                                      0\n",
      "SAVI mean                                               0.31538\n",
      "SAVI std                                                      0\n",
      "MNDWI mean                                             -0.43544\n",
      "MNDWI std                                                     0\n",
      "Name: 14, dtype: object\n",
      "Finding datasets\n",
      "    ga_ls8c_ard_3\n"
     ]
    },
    {
     "name": "stderr",
     "output_type": "stream",
     "text": [
      "../Scripts/dea_datahandling.py:238: UserWarning: Setting 'min_gooddata' percentage to > 0.0 will cause dask arrays to compute when loading pixel-quality data to calculate 'good pixel' percentage. This can slow the return of your dataset.\n",
      "  warnings.warn(\"Setting 'min_gooddata' percentage to > 0.0 \"\n"
     ]
    },
    {
     "name": "stdout",
     "output_type": "stream",
     "text": [
      "Counting good quality pixels for each time step\n",
      "Filtering to 75 out of 173 time steps with at least 99.0% good quality pixels\n",
      "Applying pixel quality/cloud mask\n",
      "Returning 75 time steps as a dask array\n",
      "Setting tide modelling location from dataset centroid: 151.61, -24.01\n",
      "Modelling tidal phase (e.g. ebb or flow)\n",
      "Rasterizing to match xarray.DataArray dimensions (5, 11)\n",
      "0 14\n",
      "----------------------\n",
      "Feature: 16/19\n",
      "Intertidal mangroves and other trees & shrubs\n",
      "15\n",
      "key_0                                                        15\n",
      "index                                                      9534\n",
      "OBJECTID                                                   9535\n",
      "CONSOL                                                        U\n",
      "DOM_TYPE                                                      5\n",
      "DOM_LABEL          Mangroves and other trees (undifferentiated)\n",
      "CO_TYPES                                                   None\n",
      "TIDE_ZONE                                            Intertidal\n",
      "BRD_HAB           Intertidal mangroves and other trees & shrubs\n",
      "Shape_Leng                                           0.00589492\n",
      "Shape_Area                                          5.45013e-07\n",
      "id                                                            0\n",
      "geometry      POLYGON ((1966660.137481414 -2742601.753019442...\n",
      "NDVI mean                                              0.515517\n",
      "NDVI std                                                      0\n",
      "EVI mean                                               0.297453\n",
      "EVI std                                                       0\n",
      "NDAVI mean                                             0.673656\n",
      "NDAVI std                                                     0\n",
      "WAVI mean                                              0.363927\n",
      "WAVI std                                                      0\n",
      "SAVI mean                                              0.294638\n",
      "SAVI std                                                      0\n",
      "MNDWI mean                                            -0.472969\n",
      "MNDWI std                                                     0\n",
      "Name: 15, dtype: object\n",
      "Finding datasets\n",
      "    ga_ls8c_ard_3\n"
     ]
    },
    {
     "name": "stderr",
     "output_type": "stream",
     "text": [
      "../Scripts/dea_datahandling.py:238: UserWarning: Setting 'min_gooddata' percentage to > 0.0 will cause dask arrays to compute when loading pixel-quality data to calculate 'good pixel' percentage. This can slow the return of your dataset.\n",
      "  warnings.warn(\"Setting 'min_gooddata' percentage to > 0.0 \"\n"
     ]
    },
    {
     "name": "stdout",
     "output_type": "stream",
     "text": [
      "Counting good quality pixels for each time step\n",
      "Filtering to 80 out of 177 time steps with at least 99.0% good quality pixels\n",
      "Applying pixel quality/cloud mask\n",
      "Returning 80 time steps as a dask array\n",
      "Setting tide modelling location from dataset centroid: 151.61, -24.01\n",
      "Modelling tidal phase (e.g. ebb or flow)\n",
      "Rasterizing to match xarray.DataArray dimensions (3, 10)\n",
      "0 15\n",
      "----------------------\n",
      "Feature: 17/19\n",
      "Intertidal mangroves and other trees & shrubs\n",
      "16\n",
      "key_0                                                        16\n",
      "index                                                      9535\n",
      "OBJECTID                                                   9536\n",
      "CONSOL                                                        U\n",
      "DOM_TYPE                                                      5\n",
      "DOM_LABEL          Mangroves and other trees (undifferentiated)\n",
      "CO_TYPES                                                   None\n",
      "TIDE_ZONE                                            Intertidal\n",
      "BRD_HAB           Intertidal mangroves and other trees & shrubs\n",
      "Shape_Leng                                           0.00866563\n",
      "Shape_Area                                          1.60471e-06\n",
      "id                                                            0\n",
      "geometry      POLYGON ((1966618.001603312 -2742503.504420293...\n",
      "NDVI mean                                              0.507567\n",
      "NDVI std                                                      0\n",
      "EVI mean                                               0.242978\n",
      "EVI std                                                       0\n",
      "NDAVI mean                                             0.655936\n",
      "NDAVI std                                                     0\n",
      "WAVI mean                                              0.299255\n",
      "WAVI std                                                      0\n",
      "SAVI mean                                              0.246604\n",
      "SAVI std                                                      0\n",
      "MNDWI mean                                            -0.322636\n",
      "MNDWI std                                                     0\n",
      "Name: 16, dtype: object\n",
      "Finding datasets\n",
      "    ga_ls8c_ard_3\n"
     ]
    },
    {
     "name": "stderr",
     "output_type": "stream",
     "text": [
      "../Scripts/dea_datahandling.py:238: UserWarning: Setting 'min_gooddata' percentage to > 0.0 will cause dask arrays to compute when loading pixel-quality data to calculate 'good pixel' percentage. This can slow the return of your dataset.\n",
      "  warnings.warn(\"Setting 'min_gooddata' percentage to > 0.0 \"\n"
     ]
    },
    {
     "name": "stdout",
     "output_type": "stream",
     "text": [
      "Counting good quality pixels for each time step\n",
      "Filtering to 78 out of 177 time steps with at least 99.0% good quality pixels\n",
      "Applying pixel quality/cloud mask\n",
      "Returning 78 time steps as a dask array\n",
      "Setting tide modelling location from dataset centroid: 151.61, -24.01\n",
      "Modelling tidal phase (e.g. ebb or flow)\n",
      "Rasterizing to match xarray.DataArray dimensions (6, 12)\n",
      "0 16\n",
      "----------------------\n",
      "Feature: 18/19\n",
      "Intertidal mangroves and other trees & shrubs\n",
      "17\n",
      "key_0                                                        17\n",
      "index                                                      9538\n",
      "OBJECTID                                                   9539\n",
      "CONSOL                                                        U\n",
      "DOM_TYPE                                                      5\n",
      "DOM_LABEL          Mangroves and other trees (undifferentiated)\n",
      "CO_TYPES                                                   None\n",
      "TIDE_ZONE                                            Intertidal\n",
      "BRD_HAB           Intertidal mangroves and other trees & shrubs\n",
      "Shape_Leng                                             0.013946\n",
      "Shape_Area                                          4.89352e-06\n",
      "id                                                            0\n",
      "geometry      POLYGON ((1965904.533227044 -2742082.82820606,...\n",
      "NDVI mean                                                0.6886\n",
      "NDVI std                                                      0\n",
      "EVI mean                                               0.370595\n",
      "EVI std                                                       0\n",
      "NDAVI mean                                             0.786848\n",
      "NDAVI std                                                     0\n",
      "WAVI mean                                              0.405292\n",
      "WAVI std                                                      0\n",
      "SAVI mean                                               0.36713\n",
      "SAVI std                                                      0\n",
      "MNDWI mean                                             -0.31552\n",
      "MNDWI std                                                     0\n",
      "Name: 17, dtype: object\n",
      "Finding datasets\n",
      "    ga_ls8c_ard_3\n"
     ]
    },
    {
     "name": "stderr",
     "output_type": "stream",
     "text": [
      "../Scripts/dea_datahandling.py:238: UserWarning: Setting 'min_gooddata' percentage to > 0.0 will cause dask arrays to compute when loading pixel-quality data to calculate 'good pixel' percentage. This can slow the return of your dataset.\n",
      "  warnings.warn(\"Setting 'min_gooddata' percentage to > 0.0 \"\n"
     ]
    },
    {
     "name": "stdout",
     "output_type": "stream",
     "text": [
      "Counting good quality pixels for each time step\n",
      "Filtering to 74 out of 169 time steps with at least 99.0% good quality pixels\n",
      "Applying pixel quality/cloud mask\n",
      "Returning 74 time steps as a dask array\n",
      "Setting tide modelling location from dataset centroid: 151.61, -24.01\n",
      "Modelling tidal phase (e.g. ebb or flow)\n",
      "Rasterizing to match xarray.DataArray dimensions (21, 9)\n",
      "0 17\n",
      "----------------------\n",
      "Feature: 19/19\n",
      "Intertidal mangroves and other trees & shrubs\n",
      "18\n",
      "key_0                                                        18\n",
      "index                                                      9544\n",
      "OBJECTID                                                   9545\n",
      "CONSOL                                                        U\n",
      "DOM_TYPE                                                      5\n",
      "DOM_LABEL          Mangroves and other trees (undifferentiated)\n",
      "CO_TYPES                                                   None\n",
      "TIDE_ZONE                                            Intertidal\n",
      "BRD_HAB           Intertidal mangroves and other trees & shrubs\n",
      "Shape_Leng                                            0.0266656\n",
      "Shape_Area                                          3.92786e-06\n",
      "id                                                            0\n",
      "geometry      POLYGON ((1966027.760796711 -2741853.85344919,...\n",
      "NDVI mean                                              0.679818\n",
      "NDVI std                                                      0\n",
      "EVI mean                                               0.343124\n",
      "EVI std                                                       0\n",
      "NDAVI mean                                             0.772221\n",
      "NDAVI std                                                     0\n",
      "WAVI mean                                              0.374933\n",
      "WAVI std                                                      0\n",
      "SAVI mean                                              0.341706\n",
      "SAVI std                                                      0\n",
      "MNDWI mean                                            -0.312867\n",
      "MNDWI std                                                     0\n",
      "Name: 18, dtype: object\n",
      "Finding datasets\n",
      "    ga_ls8c_ard_3\n"
     ]
    },
    {
     "name": "stderr",
     "output_type": "stream",
     "text": [
      "../Scripts/dea_datahandling.py:238: UserWarning: Setting 'min_gooddata' percentage to > 0.0 will cause dask arrays to compute when loading pixel-quality data to calculate 'good pixel' percentage. This can slow the return of your dataset.\n",
      "  warnings.warn(\"Setting 'min_gooddata' percentage to > 0.0 \"\n"
     ]
    },
    {
     "name": "stdout",
     "output_type": "stream",
     "text": [
      "Counting good quality pixels for each time step\n",
      "Filtering to 70 out of 169 time steps with at least 99.0% good quality pixels\n",
      "Applying pixel quality/cloud mask\n",
      "Returning 70 time steps as a dask array\n",
      "Setting tide modelling location from dataset centroid: 151.61, -24.00\n",
      "Modelling tidal phase (e.g. ebb or flow)\n",
      "Rasterizing to match xarray.DataArray dimensions (25, 15)\n",
      "0 18\n",
      "----------------------\n"
     ]
    }
   ],
   "source": [
    "# Setup the general query and variables for later\n",
    "products = [\"ga_ls8c_ard_3\"]\n",
    "align = (0, 0)\n",
    "\n",
    "# Query\n",
    "query = {\n",
    "    \"time\": (\"2013-01-01\", \"2021-01-01\"),\n",
    "    \"measurements\": [\"nbart_red\", \"nbart_green\", \"nbart_blue\", \"nbart_nir\", \"nbart_swir_1\"],\n",
    "    \"output_crs\": \"EPSG:3577\", # Do not change th\n",
    "    \"resolution\": (-30, 30),\n",
    "    \"group_by\": \"solar_day\",\n",
    "    \"dask_chunks\": {\"time\": 1, \"x\": 3000, \"y\": 3000},\n",
    "}\n",
    "\n",
    "# Designate dask chunks\n",
    "# It doesn't really matter how big the chunks we load are, as long as time ~ 1.\n",
    "chunks = {\"time\": 1, \"x\": 3000, \"y\": 3000}\n",
    "\n",
    "# Load data for predetermined polygons\n",
    "# Dictionary to save results\n",
    "results = {}\n",
    "\n",
    "'''List of saved tideposts. In the event that a polygon centroid geometry fails\n",
    "to return an associated tideheight, the tidal_tag function will bring in this list\n",
    "and use the most recent successful polygon centroid geometry to calculate a tideheight\n",
    "for the current polygon'''\n",
    "tideposts = [[0,0]]\n",
    "\n",
    "# Loop through polygons in geodataframe and extract satellite data\n",
    "for index, row in gdf.iterrows():\n",
    "\n",
    "    print(f\"Feature: {index + 1}/{len(gdf)}\")\n",
    "    print(gdf[\"BRD_HAB\"].values[index])\n",
    "    print(str(index))\n",
    "    print(str(row))\n",
    "\n",
    "    if not (str(row[attribute_col]) in results.keys()):\n",
    "        results[str(row[attribute_col])] = {}\n",
    "\n",
    "    # Extract the feature's geometry as a datacube geometry object\n",
    "    geom = geometry.Geometry(geom=row.geometry, crs=gdf.crs)\n",
    "\n",
    "    # Update the query to include our geopolygon\n",
    "    query.update({\"geopolygon\": geom})\n",
    "\n",
    "    # Load landsat\n",
    "    ds = load_ard(\n",
    "        dc=dc,\n",
    "        products=products,\n",
    "        min_gooddata=0.99,  # only take uncloudy scenes\n",
    "        ls7_slc_off=False,\n",
    "        **query,\n",
    "    )\n",
    "\n",
    "    ## Tidally tag datasets\n",
    "    ds, tidepost_lon, tidepost_lat = tidal_tag(ds,\n",
    "                                               tideposts[-1],\n",
    "                                               return_tideposts=True,\n",
    "                                               ebb_flow=True)\n",
    "    tideposts.append([tidepost_lon, tidepost_lat])\n",
    "\n",
    "    # Generate a polygon mask to keep only data within the polygon\n",
    "    mask = xr_rasterize(gdf.iloc[[index]], ds)\n",
    "\n",
    "    # Mask dataset to set pixels outside the polygon to `NaN`\n",
    "    ds = ds.where(mask)\n",
    "\n",
    "    # Append results to a dictionary using the attribute\n",
    "    # column as an key\n",
    "    results[str(row[attribute_col])][str(index)] = ds\n",
    "\n",
    "    print(row[attribute_col], index)\n",
    "    print(\"----------------------\")"
   ]
  },
  {
   "cell_type": "code",
   "execution_count": 28,
   "metadata": {},
   "outputs": [
    {
     "data": {
      "text/plain": [
       "dict_keys(['16'])"
      ]
     },
     "execution_count": 28,
     "metadata": {},
     "output_type": "execute_result"
    }
   ],
   "source": [
    "# results['2'].keys()"
   ]
  },
  {
   "cell_type": "markdown",
   "metadata": {},
   "source": [
    "## Filter results by tide height\n",
    "\n",
    "*user to define tide_range to keep - set the desired quantile value in `lowest_20` variable*"
   ]
  },
  {
   "cell_type": "code",
   "execution_count": 65,
   "metadata": {},
   "outputs": [
    {
     "name": "stdout",
     "output_type": "stream",
     "text": [
      "Class name, class id and number of records:\n",
      "['Intertidal grass-herb-sedge-other succulent', 1] 11\n",
      "['Intertidal mangroves and other trees & shrubs', 0] 6\n",
      "['Intertidal seagrass', 2] 2\n"
     ]
    }
   ],
   "source": [
    "# Create a second dictionary that contains only datasets filtered by nominated tide range\n",
    "##  Can this be absorbed into the data loading step above? Filtered before data loading to speed up the workflow?\n",
    "\n",
    "results2 = {}\n",
    "\n",
    "for k in results:\n",
    "\n",
    "    if not (str(k) in results2.keys()):\n",
    "        results2[str(k)] = {}\n",
    "\n",
    "    for kk in results[k]:\n",
    "        ds = results[k][kk]  \n",
    "        lowest_20 = ds.tide_height.quantile([0.20]).values  ### Need a workaround for this as lowest 20% is \n",
    "        #calculated per ds and wont be consistent across all observations. However, perhaps this isn't a problem??\n",
    "        results2[k][kk] = ds.where(ds.tide_height <= lowest_20, drop=True)\n",
    "\n",
    "print ('Class name, class id and number of records:')        \n",
    "for k in results2.keys():\n",
    "    print(val[int(k)], len(results2[k]))"
   ]
  },
  {
   "cell_type": "markdown",
   "metadata": {},
   "source": [
    "### Plot an RGB image     -     needs debugging\n",
    "We can now use the `dea_plotting.rgb` function to plot our loaded data as a three-band RGB plot:"
   ]
  },
  {
   "cell_type": "code",
   "execution_count": 66,
   "metadata": {},
   "outputs": [
    {
     "data": {
      "text/plain": [
       "'-----------------------------------------------------------------'"
      ]
     },
     "execution_count": 66,
     "metadata": {},
     "output_type": "execute_result"
    }
   ],
   "source": [
    "# class_key = '0'\n",
    "# # print (results[class_key].keys())\n",
    "# polygon_index_key = '0'\n",
    "\n",
    "# # To show the results of a single polygon:\n",
    "\n",
    "# # Would be useful to see the outline of the whole polygon to compare pixel retrievals\n",
    "\n",
    "# rgb(results2[class_key][polygon_index_key], col='time', size=4)\n",
    "# rgb(results2['1'][polygon_index_key], col='time', size=4)\n",
    "\n",
    "'''-----------------------------------------------------------------'''\n",
    "\n",
    "# ##  To show the results for every polygon in a given class:\n",
    "\n",
    "# ##  Would be useful to see the outline of the whole polygon to compare pixel retrievals\n",
    "\n",
    "# for k in results2[class_key]: ### WARNING: this opens too many figures and may overwhelm the memory\n",
    "#     rgb(results2[class_key][k], col = 'time')#, size=4)"
   ]
  },
  {
   "cell_type": "markdown",
   "metadata": {},
   "source": [
    "### Calculate indices and complete data load\n",
    "\n",
    "*user defines required indices in the `calculate_indices` function call*"
   ]
  },
  {
   "cell_type": "code",
   "execution_count": 67,
   "metadata": {},
   "outputs": [],
   "source": [
    "# For 'results2' ds (low tide imagery only), calculate indices for all pixels inside each polygon then \n",
    "# calculate a zonal stat for the polygon\n",
    "# This code works for a single time step for each polygon\n",
    "\n",
    "\n",
    "for k in results2:\n",
    "        \n",
    "    for kk in results2[k]:\n",
    "        \n",
    "        results2[k][kk] = results2[k][kk].compute() ## WARNING: very time consuming step!       \n",
    "        ds = results2[k][kk]\n",
    "       \n",
    "        # To work around the calculate_indices function which was stalling on the additional \n",
    "        # coastal variables, drop tide_height and ebb_flow variables\n",
    "        tide_height = ds['tide_height']\n",
    "        ebb_flow = ds['ebb_flow']\n",
    "        ds = ds.drop_vars(names = ('tide_height', 'ebb_flow'))\n",
    "        \n",
    "        # calculate ndvi for pixels inside the polygon\n",
    "        ds = calculate_indices(ds, index=['NDVI', 'MNDWI', 'NDAVI', 'WAVI', 'EVI', 'SAVI'], \n",
    "                               collection='ga_ls_3', inplace=True)\n",
    "\n",
    "        results2[str(k)][str(kk)] = xr.merge([results2[str(k)][str(kk)], ds])"
   ]
  },
  {
   "cell_type": "markdown",
   "metadata": {},
   "source": [
    "# Save loaded results\n",
    "*By default, save the imagery and polygon sub-sampled datasets every time.*\n",
    "\n",
    "*If required to load last dataset, hash out the `save` calls and unhash the `load` calls*"
   ]
  },
  {
   "cell_type": "code",
   "execution_count": 87,
   "metadata": {},
   "outputs": [
    {
     "data": {
      "text/plain": [
       "'-----------------------------------------'"
      ]
     },
     "execution_count": 87,
     "metadata": {},
     "output_type": "execute_result"
    }
   ],
   "source": [
    "## Save variables\n",
    "\n",
    "## Save imagery dict\n",
    "with open('results2_' + query['time'][0] +'.pickle', 'wb') as handle:\n",
    "    pickle.dump(results2, handle)\n",
    " \n",
    "## Save polygon gdf   \n",
    "with open('gdf_' + query['time'][0] +'.pickle', 'wb') as handle:\n",
    "    pickle.dump(gdf, handle)\n",
    "    \n",
    "'''-----------------------------------------'''\n",
    "\n",
    "# ## Load saved variables (hashed out by default)\n",
    "\n",
    "# ## Re-load the query\n",
    "\n",
    "# # Setup the general query and variables for later\n",
    "# products = [\"ga_ls8c_ard_3\"]\n",
    "# align = (0, 0)\n",
    "\n",
    "# # Query\n",
    "# query = {\n",
    "#     \"time\": (\"2013-01-01\", \"2020-08-01\"),\n",
    "#     \"measurements\": [\"nbart_red\", \"nbart_green\", \"nbart_blue\", \"nbart_nir\", \"nbart_swir_1\"],\n",
    "#     \"output_crs\": \"EPSG:3577\", # Do not change th\n",
    "#     \"resolution\": (-30, 30),\n",
    "#     \"group_by\": \"solar_day\",\n",
    "#     \"dask_chunks\": {\"time\": 1, \"x\": 3000, \"y\": 3000},\n",
    "# }\n",
    "\n",
    "# ## ensure that you are working from the same directory as the files are stored\n",
    "# %cd '/home/jovyan/dev/dea-notebooks/Claire'\n",
    "\n",
    "# ## Load imagery dict\n",
    "# with open('results2_' + query['time'][0] +'.pickle', 'rb') as handle:\n",
    "#     results2 = pickle.load(handle)\n",
    "\n",
    "# ## Load polygon gdf    \n",
    "# with open('gdf_' + query['time'][0] +'.pickle', 'rb') as handle:\n",
    "#     gdf = pickle.load(handle)\n",
    "\n",
    "\n"
   ]
  },
  {
   "cell_type": "markdown",
   "metadata": {},
   "source": [
    "# Data Analysis"
   ]
  },
  {
   "cell_type": "markdown",
   "metadata": {},
   "source": [
    "Load the following cell to define the functions that enable data interrogation and visualisation"
   ]
  },
  {
   "cell_type": "code",
   "execution_count": 185,
   "metadata": {},
   "outputs": [],
   "source": [
    "### funcs for py script\n",
    "\n",
    "def coastal_wit(gdf,\n",
    "               results3,\n",
    "               pg,\n",
    "               drop=False,\n",
    "               pc_drop=0,\n",
    "               px_min=0,\n",
    "               water=True):\n",
    "    \"\"\"\n",
    "    Takes a polygon of interest (pg) from the gdf of polygon shapefiles and extracts and plots \n",
    "    the frequency of pixels as assigned into class ranges of NDVI. Also includes pixels identified\n",
    "    as wet. All NDVI pixels are masked by 'dry' range of MNDWI.\n",
    "    If conditional dataset dropping is required, set drop=True and nominate the percent of wet pixels\n",
    "    tolerated and the minimum number of allowable pixels (e.g. pc_drop=90 means drop any timestep dataset\n",
    "    when more than 90% of pixels are wet; px_min=5 means that a timestep dataset will only be dropped\n",
    "    when more than pc_drop pixels are wet AND the remaining pixels sum to less than or = px_min - or\n",
    "    5 in this case)\n",
    "    By default, water is included in the plot. If water suppression is required, set water=False.\n",
    "    \"\"\"\n",
    "    \n",
    "    if water:\n",
    "        ##  Data prep for WIT prototype (automated for all timesteps for all polygons)\n",
    "\n",
    "        ##  Generate all datasets for the stacked line plot (WIT) by adding as variables to results dataset\n",
    "        for k in results3:\n",
    "            for kk in results3[k]: \n",
    "\n",
    "                ##  Add a non-water pixel mask variable\n",
    "                results3[k][kk]['mask'] = results3[k][kk].MNDWI <= 0\n",
    "\n",
    "                ##  Generate the MNDWI_water class\n",
    "                results3[k][kk]['mndwi_water'] = results3[k][kk].MNDWI > 0\n",
    "\n",
    "                ##  Generate NDVI classes\n",
    "\n",
    "                ##  NDVI less than 0.1\n",
    "                results3[k][kk]['unveg'] = results3[k][kk].NDVI.where(\n",
    "                    (results3[k][kk].NDVI < 0.1).astype(int))\n",
    "\n",
    "                ##  NDVI 0.1 to 0.33\n",
    "                results3[k][kk]['ndvi_low'] = results3[k][kk].NDVI.where(\n",
    "                    (results3[k][kk].NDVI >= 0.1).astype(int) & (results3[k][kk].NDVI < 0.333).astype(int))\n",
    "\n",
    "                ##  NDVI 0.33 to 0.66\n",
    "                results3[k][kk]['ndvi_mid'] = results3[k][kk].NDVI.where(\n",
    "                    (results3[k][kk].NDVI >= 0.333).astype(int) & (results3[k][kk].NDVI < 0.666).astype(int))\n",
    "\n",
    "                ### NDVI 0.66 to 1\n",
    "                results3[k][kk]['ndvi_high'] = results3[k][kk].NDVI.where(\n",
    "                    (results3[k][kk].NDVI >= 0.666).astype(int) & (results3[k][kk].NDVI <= 1).astype(int))\n",
    "\n",
    "                ##  Mask the NDVI classes to show non-water pixels only\n",
    "                results3[k][kk]['unveg'] = results3[k][kk]['unveg'].where(results3[k][kk]['mask'])\n",
    "                results3[k][kk]['ndvi_low'] = results3[k][kk]['ndvi_low'].where(results3[k][kk]['mask'])\n",
    "                results3[k][kk]['ndvi_mid'] = results3[k][kk]['ndvi_mid'].where(results3[k][kk]['mask'])\n",
    "                results3[k][kk]['ndvi_high'] = results3[k][kk]['ndvi_high'].where(results3[k][kk]['mask'])\n",
    "\n",
    "\n",
    "        ##  Automated: Create a new gdf to record the landcover types/pixel counts per timestep for a single polygon and normalise for plotting\n",
    "        ##  Extract the pixel counts and normalise, in preparation for plotting\n",
    "\n",
    "        ## From the results2 dataset, the temporal values for the nominated polygon are stored in the following dataset of the resutls2 dict:\n",
    "        ## class key\n",
    "        cl = gdf.loc[gdf['index'] == pg].id.values.item()\n",
    "        ## class polygon\n",
    "        pg1 = gdf.loc[gdf['index'] == pg].index.values.item()\n",
    "\n",
    "        ## Set up lists to extract pixel counts per timestep into\n",
    "        ls_pixels = []\n",
    "        ls_mndwi = []\n",
    "        ls_unveg = []\n",
    "        ls_ndvilow = []\n",
    "        ls_ndvimid = []\n",
    "        ls_ndvihigh = []\n",
    "        ls_pxsum = []\n",
    "        ls_tide = []\n",
    "\n",
    " ##  Populate pixel count lists per class per timestep\n",
    "        for t in range (0, len(results3[str(cl)][str(pg1)].time)):\n",
    "            ls_pixels.append(np.count_nonzero(~np.isnan(results3[str(cl)][str(pg1)].isel(time=t).nbart_red)))\n",
    "            ls_mndwi.append(np.count_nonzero(results3[str(cl)][str(pg1)].isel(time=t).mndwi_water))\n",
    "            ls_unveg.append(np.count_nonzero(~np.isnan(results3[str(cl)][str(pg1)].isel(time=t).unveg)))\n",
    "            ls_ndvilow.append(np.count_nonzero(~np.isnan(results3[str(cl)][str(pg1)].isel(time=t).ndvi_low)))\n",
    "            ls_ndvimid.append(np.count_nonzero(~np.isnan(results3[str(cl)][str(pg1)].isel(time=t).ndvi_mid)))\n",
    "            ls_ndvihigh.append(np.count_nonzero(~np.isnan(results3[str(cl)][str(pg1)].isel(time=t).ndvi_high)))\n",
    "            ls_pxsum.append(np.count_nonzero(~np.isnan(results3[str(cl)][str(pg1)].isel(time=t).nbart_red)))\n",
    "            ls_tide.append(results3[str(cl)][str(pg1)].isel(time=t).tide_height.median().values)\n",
    "\n",
    "        ##  Generate a dataframe summarising class pixel counts per timestep\n",
    "        classes_df = pd.DataFrame(\n",
    "                    {\"pixels\": ls_pixels,\n",
    "                    \"water\": ls_mndwi,\n",
    "                    \"unveg\": ls_unveg,\n",
    "                    \"ndvi_low\": ls_ndvilow,\n",
    "                    \"ndvi_mid\": ls_ndvimid,\n",
    "                    \"ndvi_high\": ls_ndvihigh,\n",
    "                    \"px_sum\": ls_pxsum,\n",
    "                    \"tide_height\": ls_tide},\n",
    "                    index = results3[str(cl)][str(pg1)].time.values\n",
    "                    )\n",
    "\n",
    "        ##  Normalise pixel counts per class per timestep\n",
    "        classes_df['pc_water'] = classes_df['water']/classes_df['pixels']*100\n",
    "        classes_df['pc_unveg'] = classes_df['unveg']/classes_df['pixels']*100\n",
    "        classes_df['pc_ndvi_low'] = classes_df['ndvi_low']/classes_df['pixels']*100\n",
    "        classes_df['pc_ndvi_mid'] = classes_df['ndvi_mid']/classes_df['pixels']*100\n",
    "        classes_df['pc_ndvi_high'] = classes_df['ndvi_high']/classes_df['pixels']*100\n",
    "        classes_df['pc_total'] = classes_df['pc_water']+classes_df['pc_unveg']+classes_df['pc_ndvi_low']+classes_df['pc_ndvi_mid']+classes_df['pc_ndvi_high']\n",
    "        classes_df['pc_exposedpx'] = (classes_df['unveg']+classes_df['ndvi_low']+\n",
    "                                  classes_df['ndvi_mid']+classes_df['ndvi_high'])/classes_df['px_sum']*100\n",
    "\n",
    "\n",
    "        if drop:\n",
    "            ##  Conditions on which to drop rows\n",
    "            drop_records = classes_df[(classes_df['pc_water'] >= pc_drop) & \n",
    "                          (classes_df['pc_unveg']+\n",
    "                           classes_df['pc_ndvi_low']+\n",
    "                           classes_df['pc_ndvi_mid']+\n",
    "                           classes_df['pc_ndvi_high'] <= px_min)].index\n",
    "\n",
    "            ##  Apply conditions to df by dropping values\n",
    "            classes_df.drop(drop_records, inplace=True)\n",
    "\n",
    "    if not water:\n",
    "                ##  Generate all datasets for the stacked line plot (WIT) by adding as variables to results dataset\n",
    "        for k in results3:\n",
    "            for kk in results3[k]: \n",
    "\n",
    "                ##  Add a non-water pixel mask variable\n",
    "                results3[k][kk]['mask'] = results3[k][kk].MNDWI <= 0\n",
    "\n",
    "                ##  Generate the MNDWI_water class\n",
    "                results3[k][kk]['mndwi_water'] = results3[k][kk].MNDWI > 0\n",
    "\n",
    "                ##  Generate NDVI classes\n",
    "\n",
    "                ##  NDVI less than 0.1\n",
    "                results3[k][kk]['unveg'] = results3[k][kk].NDVI.where(\n",
    "                    (results3[k][kk].NDVI < 0.1).astype(int))\n",
    "\n",
    "                ##  NDVI 0.1 to 0.33\n",
    "                results3[k][kk]['ndvi_low'] = results3[k][kk].NDVI.where(\n",
    "                    (results3[k][kk].NDVI >= 0.1).astype(int) & (results3[k][kk].NDVI < 0.333).astype(int))\n",
    "\n",
    "                ##  NDVI 0.33 to 0.66\n",
    "                results3[k][kk]['ndvi_mid'] = results3[k][kk].NDVI.where(\n",
    "                    (results3[k][kk].NDVI >= 0.333).astype(int) & (results3[k][kk].NDVI < 0.666).astype(int))\n",
    "\n",
    "                ### NDVI 0.66 to 1\n",
    "                results3[k][kk]['ndvi_high'] = results3[k][kk].NDVI.where(\n",
    "                    (results3[k][kk].NDVI >= 0.666).astype(int) & (results3[k][kk].NDVI <= 1).astype(int))\n",
    "\n",
    "                ##  Mask the NDVI classes to show non-water pixels only\n",
    "                results3[k][kk]['unveg'] = results3[k][kk]['unveg'].where(results3[k][kk]['mask'])\n",
    "                results3[k][kk]['ndvi_low'] = results3[k][kk]['ndvi_low'].where(results3[k][kk]['mask'])\n",
    "                results3[k][kk]['ndvi_mid'] = results3[k][kk]['ndvi_mid'].where(results3[k][kk]['mask'])\n",
    "                results3[k][kk]['ndvi_high'] = results3[k][kk]['ndvi_high'].where(results3[k][kk]['mask'])\n",
    "\n",
    "\n",
    "        ##  Automated: Create a new gdf to record the landcover types/pixel counts per timestep for a single polygon and normalise for plotting\n",
    "        ##  Extract the pixel counts and normalise, in preparation for plotting\n",
    "\n",
    "        ## From the results2 dataset, the temporal values for the nominated polygon are stored in the following dataset of the resutls2 dict:\n",
    "        ## class key\n",
    "        cl = gdf.loc[gdf['index'] == pg].id.values.item()\n",
    "        ## class polygon\n",
    "        pg1 = gdf.loc[gdf['index'] == pg].index.values.item()\n",
    "\n",
    "        ## Set up lists to extract pixel counts per timestep into\n",
    "        ls_pixels = []\n",
    "        # ls_mndwi = []\n",
    "        ls_unveg = []\n",
    "        ls_ndvilow = []\n",
    "        ls_ndvimid = []\n",
    "        ls_ndvihigh = []\n",
    "        ls_pxsum = []\n",
    "        ls_tide = []\n",
    "\n",
    "        ##  Populate pixel count lists per class per timestep\n",
    "        for t in range (0, len(results3[str(cl)][str(pg1)].time)):\n",
    "            ls_pixels.append((np.count_nonzero(~np.isnan(results3[str(cl)][str(pg1)].isel(time=t).nbart_red))) - \n",
    "                              (np.count_nonzero(results3[str(cl)][str(pg1)].isel(time=t).mndwi_water)))\n",
    "        #     ls_mndwi.append(np.count_nonzero(results3[str(cl)][str(pg1)].isel(time=t).mndwi_water))\n",
    "            ls_unveg.append(np.count_nonzero(~np.isnan(results3[str(cl)][str(pg1)].isel(time=t).unveg)))\n",
    "            ls_ndvilow.append(np.count_nonzero(~np.isnan(results3[str(cl)][str(pg1)].isel(time=t).ndvi_low)))\n",
    "            ls_ndvimid.append(np.count_nonzero(~np.isnan(results3[str(cl)][str(pg1)].isel(time=t).ndvi_mid)))\n",
    "            ls_ndvihigh.append(np.count_nonzero(~np.isnan(results3[str(cl)][str(pg1)].isel(time=t).ndvi_high)))\n",
    "            ls_pxsum.append(np.count_nonzero(~np.isnan(results3[str(cl)][str(pg1)].isel(time=t).nbart_red)))\n",
    "            ls_tide.append(results3[str(cl)][str(pg1)].isel(time=t).tide_height.median().values)\n",
    "\n",
    "        ##  Generate a dataframe summarising class pixel counts per timestep\n",
    "        classes_df = pd.DataFrame(\n",
    "                    {\"pixels\": ls_pixels,\n",
    "        #             \"water\": ls_mndwi,\n",
    "                    \"unveg\": ls_unveg,\n",
    "                    \"ndvi_low\": ls_ndvilow,\n",
    "                    \"ndvi_mid\": ls_ndvimid,\n",
    "                    \"ndvi_high\": ls_ndvihigh,\n",
    "                    \"px_sum\": ls_pxsum,\n",
    "                    \"tide_height\": ls_tide},\n",
    "                    index = results3[str(cl)][str(pg1)].time.values\n",
    "                    )\n",
    "\n",
    "        ##  Normalise pixel counts per class per timestep\n",
    "        # classes_df['pc_water'] = classes_df['water']/classes_df['pixels']*100\n",
    "        classes_df['pc_unveg'] = classes_df['unveg']/classes_df['pixels']*100\n",
    "        classes_df['pc_ndvi_low'] = classes_df['ndvi_low']/classes_df['pixels']*100\n",
    "        classes_df['pc_ndvi_mid'] = classes_df['ndvi_mid']/classes_df['pixels']*100\n",
    "        classes_df['pc_ndvi_high'] = classes_df['ndvi_high']/classes_df['pixels']*100\n",
    "        classes_df['pc_total'] = (classes_df['pc_unveg']+classes_df['pc_ndvi_low']+\n",
    "                                  classes_df['pc_ndvi_mid']+classes_df['pc_ndvi_high'])#+classes_df['pc_water']\n",
    "        classes_df['pc_exposedpx'] = (classes_df['unveg']+classes_df['ndvi_low']+\n",
    "                                          classes_df['ndvi_mid']+classes_df['ndvi_high'])/classes_df['px_sum']*100\n",
    "\n",
    "\n",
    "        drop_records = classes_df[(classes_df['pixels'] == 0)].index\n",
    "\n",
    "        ##  Apply conditions to df by dropping values\n",
    "        classes_df.drop(drop_records, inplace=True)\n",
    "        \n",
    "        if drop:\n",
    "            ##  Conditions on which to drop rows\n",
    "            drop_records = classes_df[(classes_df['pc_water'] >= pc_drop) & \n",
    "                          (classes_df['pc_unveg']+\n",
    "                           classes_df['pc_ndvi_low']+\n",
    "                           classes_df['pc_ndvi_mid']+\n",
    "                           classes_df['pc_ndvi_high'] <= px_min)].index\n",
    "\n",
    "            ##  Apply conditions to df by dropping values\n",
    "            classes_df.drop(drop_records, inplace=True)\n",
    "    return classes_df\n",
    "\n",
    "def onclick_timeseries(event):\n",
    "    '''\n",
    "    This widget allows the user to select a time point from a plotted time series. \n",
    "    It then translates the chosen point back into the approriate datetime object so\n",
    "    that it can be used to find the location of this time point within the extracted\n",
    "    datasets. The index location of this time step is also returned. \n",
    "    \n",
    "    '''\n",
    "    global time_slice, TimeIndex, pixelx, pixely\n",
    "    \n",
    "    # Get time from x axis of plot \n",
    "    timeOfInterest = event.xdata\n",
    "    \n",
    "    # Get x and y coordinates from click\n",
    "    pixelx, pixely = int(event.xdata), int(event.ydata)\n",
    "    \n",
    "    # Add point to image\n",
    "    plt.plot(pixelx, pixely, 'ro', markersize=5)\n",
    "    \n",
    "    # Convert clicked int to datetime format\n",
    "    time_slice = matplotlib.dates.num2date(timeOfInterest).date()\n",
    "    \n",
    "    # Convert clicked value to str\n",
    "    time_slice = str(time_slice)\n",
    "    \n",
    "    # Convert clicked value to correct datetime format\n",
    "    time_slice = pd.to_datetime(time_slice, format='%Y-%m-%d')\n",
    "    \n",
    "    # Find the time index of the chosen time slice\n",
    "    TimeIndex = results3[str(cl)][str(pg1)].indexes['time'].get_loc(time_slice, method='nearest')\n",
    "    \n",
    "    # Print the date of the image closest to clicked pixel\n",
    "    ClosestImage = results3[str(cl)][str(pg1)].time[TimeIndex].values\n",
    "    \n",
    "    # Update text below plot\n",
    "    w2.value = 'Closest imagery date : {}'.format(ClosestImage)\n",
    "    \n",
    "# For every polygon, extract list pairs for each polygon pixel of the temporal mean and std of the nominated indice\n",
    "\n",
    "def px_heatmap (results2, index_ls):\n",
    "\n",
    "    ## New dict to store arrays\n",
    "    pxsummary = {}\n",
    "\n",
    "    ## Master gdf\n",
    "    df_pxsummary = gpd.GeoDataFrame()\n",
    "    df_pxsummary['geometry'] = None\n",
    "\n",
    "    ## List to store geom, unique pixel id \n",
    "    # pxid = []\n",
    "    uniquepx = []\n",
    "    pxgeom = []\n",
    "\n",
    "    ##  Generate a list of keys for polygons in class '0' of results2\n",
    "    keylist = list(results2['0'].keys())\n",
    "\n",
    "\n",
    "    ##  Generate zonal indice stats for polygon followed by temporal statistic\n",
    "    ##  Append polygon id and temporal statistic to gdf\n",
    "    for k in results2:\n",
    "\n",
    "        if not (str(k) in pxsummary.keys()):\n",
    "            pxsummary[str(k)] = {}\n",
    "\n",
    "        for kk in results2[k]:\n",
    "\n",
    "            lon = []\n",
    "            for value in results2[k][kk].x.values:\n",
    "                lon.append(value)\n",
    "\n",
    "            lat = []\n",
    "            for value in results2[k][kk].y.values:\n",
    "                lat.append(value)\n",
    "\n",
    "            ds = xr.Dataset()\n",
    "\n",
    "            ##  For each nominated indice:\n",
    "            for var in index_ls:\n",
    "                if var in results2[\"0\"][keylist[0]].var():\n",
    "\n",
    "                    temporalmean = (results2[str(k)][str(kk)][var].mean(dim='time'))\n",
    "                    name1 = str(var) + ' mean'\n",
    "                    ds[name1] = (('y', 'x'), temporalmean)\n",
    "\n",
    "                    temporalstd = (results2[k][kk][var].std(dim='time'))\n",
    "                    name2 = str(var) + ' std'\n",
    "                    ds[name2] = (('y', 'x'), temporalstd)\n",
    "\n",
    "            ds.coords['lon'] = ('x'), lon\n",
    "            ds.coords['lat'] = ('y'), lat\n",
    "\n",
    "            ## Extract pixel geometry/shape for input into gdf for choropleth plotting\n",
    "            # Extract dataset matching polygon\n",
    "            closest_ds = results2[k][kk]\n",
    "\n",
    "            ## Skip empty arrays\n",
    "            if closest_ds.x.size == 0:\n",
    "                print('Empty arrays: k: ', k, 'kk: ', kk)\n",
    "                continue\n",
    "            else:       \n",
    "                # Input array (based on red band) to segment and vectorise\n",
    "                input_array = closest_ds.nbart_red\n",
    "                input_transform = closest_ds.affine  \n",
    "                input_crs = input_array.crs\n",
    "\n",
    "                # Create array with a unique value per cell\n",
    "                unique_pixels = np.arange(input_array.size).reshape(input_array.shape)\n",
    "\n",
    "                # Vectorise each unique feature in array\n",
    "                vectors = rasterio.features.shapes(\n",
    "                    source=unique_pixels.astype(np.int16), transform=input_transform\n",
    "                )\n",
    "\n",
    "                # Extract polygons and values from generator\n",
    "                vectors = list(vectors)\n",
    "                values = [value for polygon, value in vectors]\n",
    "                polygons = [shape(polygon) for polygon, value in vectors]\n",
    "                pp = np.array(polygons)\n",
    "                pp = pp.reshape(len(input_array.y), len(input_array.x))\n",
    "\n",
    "        #         # Create a geopandas dataframe populated with the polygon shapes\n",
    "        #         closestdate_poly_gdf = gpd.GeoDataFrame(data={\"id\": values}, geometry=polygons, crs=input_crs)\n",
    "\n",
    "                ds['geometry'] = (('y', 'x'), pp)\n",
    "\n",
    "            ## Append [geom, unique pixel id] to list for later addition to gdf, merging on geom\n",
    "            ## CHECK THAT THE X'S AND Y'S ARE THE CORRECT WAY AROUND FOR MERGING LATER ON\n",
    "            for x in ds['x']:\n",
    "                for y in ds['y']:\n",
    "                    pxid1 = str(k)+str(kk)+str(ds['y'][y].item())+str(ds['x'][x].item())\n",
    "                    gm = pp[ds['y'][y].item()][ds['x'][x].item()]\n",
    "    #                 pxid.append([pxid1, gm])\n",
    "                    uniquepx.append(pxid1)\n",
    "                    pxgeom.append(gm)\n",
    "\n",
    "    #         pxsummary[k][kk] = ds\n",
    "\n",
    "\n",
    "            ## Append ds to df_pxsummary\n",
    "            ds = ds.to_dataframe()\n",
    "            df_pxsummary = df_pxsummary.append(ds)\n",
    "            df_pxsummary.crs = gdf.crs\n",
    "\n",
    "    # pxsummary\n",
    "\n",
    "    pxid = gpd.GeoDataFrame(uniquepx, geometry=pxgeom, columns=['pxid'], crs=input_crs)\n",
    "\n",
    "    df_pxsummary.reset_index(inplace=True)\n",
    "\n",
    "    df_pxsummary1 = df_pxsummary.merge(pxid)\n",
    "    df_pxsummary1.set_index('pxid', inplace=True)\n",
    "    df_pxsummary1.dropna(axis=0, inplace=True)\n",
    "    df_pxsummary1.sort_index(level='pxid', inplace=True)\n",
    "\n",
    "    return df_pxsummary1\n",
    "\n",
    "# For every polygon, extract list pairs on the polygon id and temporal mean and std of the nominated indice\n",
    "def zonal (results2, index_ls, gdf):\n",
    "    ##  Generate a list of keys for polygons in class '0' of results2\n",
    "    keylist = list(results2['0'].keys())\n",
    "\n",
    "    ##  For each nominated indice:\n",
    "    for var in index_ls:\n",
    "        if var in results2[\"0\"][keylist[0]].var():\n",
    "\n",
    "            lsmean = []\n",
    "            lsstd = []\n",
    "\n",
    "            ##  Generate zonal indice stats for polygon followed by temporal statistic\n",
    "            ##  Append polygon id and temporal statistic to gdf\n",
    "            for k in results2:\n",
    "\n",
    "                for kk in results2[k]:\n",
    "                    temporalmean = (results2[k][kk][var].mean('y').mean('x')).mean()\n",
    "                    lsmean.append([int(kk), temporalmean.values])\n",
    "\n",
    "                    temporalstd = (results2[k][kk][var].std('y').std('x')).std()\n",
    "                    lsstd.append([int(kk), temporalstd.values])                \n",
    "\n",
    "            ##  Sort the list by polygon id to match up to the original polygon gdf\n",
    "            lsmean = sorted(lsmean)\n",
    "            lsstd = sorted(lsstd)\n",
    "\n",
    "            ##  Separate the sorted polygon ids from the indice statistic to build into a pd.DataFrame\n",
    "            indicemean = []\n",
    "            indicestd = []\n",
    "            polyid = []\n",
    "\n",
    "            for x in lsmean:\n",
    "                polyid.append(x[0])\n",
    "                indicemean.append(x[1])\n",
    "\n",
    "            for x in lsstd:\n",
    "                indicestd.append(x[1])\n",
    "\n",
    "            # Build a pd.DataFrame from the sorted polygon id and indice statistics. Nominate a name for the new column.\n",
    "            indexstats = pd.DataFrame(\n",
    "                indicemean, index=polyid, columns=[str(var) + \" mean\"]\n",
    "            )\n",
    "            indexstats[str(var) + \" std\"] = None\n",
    "            indexstats.loc[polyid, (str(var) + \" std\")] = indicestd\n",
    "\n",
    "            # Workaround to handle automatic addition of key_0 column at merge step\n",
    "            if \"key_0\" in gdf.columns:\n",
    "                gdf.drop(columns=[\"key_0\"], inplace=True)\n",
    "\n",
    "            # # Merge the indice statistic for each polygon into the original polygon gdf\n",
    "            gdf = gdf.merge(indexstats, on=indexstats.index)\n",
    "            \n",
    "            return gdf"
   ]
  },
  {
   "cell_type": "markdown",
   "metadata": {},
   "source": [
    "## Generate zonal and temporal stats for each polygon"
   ]
  },
  {
   "cell_type": "code",
   "execution_count": 216,
   "metadata": {},
   "outputs": [],
   "source": [
    "##  Spectral indices available in the `calculate_indices` function (dea_bandindices.py)\n",
    "index_ls = [\n",
    "    \"NDVI\",\n",
    "    \"EVI\",\n",
    "    \"NDAVI\",\n",
    "    \"WAVI\",\n",
    "    \"LAI\",\n",
    "    \"SAVI\",\n",
    "    \"MSAVI\",\n",
    "    \"NDMI\",\n",
    "    \"NBR\",\n",
    "    \"BAI\",\n",
    "    \"NDCI\",\n",
    "    \"NDSI\",\n",
    "    \"NDTI\",\n",
    "    \"NDWI\",\n",
    "    \"MNDWI\",\n",
    "    \"NDBI\",\n",
    "    \"BUI\",\n",
    "    \"BAEI\",\n",
    "    \"NBI\",\n",
    "    \"BSI\",\n",
    "    \"AWEI_ns\",\n",
    "    \"AWEI_sh\",\n",
    "    \"WI\",\n",
    "    \"TCW\",\n",
    "    \"TCG\",\n",
    "    \"TCB\",\n",
    "    \"CMR\",\n",
    "    \"FMR\",\n",
    "    \"IOR\",\n",
    "]"
   ]
  },
  {
   "cell_type": "code",
   "execution_count": 217,
   "metadata": {},
   "outputs": [],
   "source": [
    "gdf=zonal(results2, index_ls, gdf)"
   ]
  },
  {
   "cell_type": "markdown",
   "metadata": {},
   "source": [
    "## View the zonal statistics temporal summaries"
   ]
  },
  {
   "cell_type": "code",
   "execution_count": 218,
   "metadata": {},
   "outputs": [
    {
     "ename": "KeyError",
     "evalue": "['NDVI mean', 'NDVI std']",
     "output_type": "error",
     "traceback": [
      "\u001b[0;31m---------------------------------------------------------------------------\u001b[0m",
      "\u001b[0;31mKeyError\u001b[0m                                  Traceback (most recent call last)",
      "\u001b[0;32m<ipython-input-218-6b8390066d02>\u001b[0m in \u001b[0;36m<module>\u001b[0;34m\u001b[0m\n\u001b[1;32m     11\u001b[0m \u001b[0;31m##  ASSUMPTION: if NDVI contains NaNs, all indices will contain NaNs.\u001b[0m\u001b[0;34m\u001b[0m\u001b[0;34m\u001b[0m\u001b[0;34m\u001b[0m\u001b[0m\n\u001b[1;32m     12\u001b[0m \u001b[0;31m##  ToDo: write a loop or func that looks for NaNs in any of the supplied indices\u001b[0m\u001b[0;34m\u001b[0m\u001b[0;34m\u001b[0m\u001b[0;34m\u001b[0m\u001b[0m\n\u001b[0;32m---> 13\u001b[0;31m \u001b[0mgrasses\u001b[0m \u001b[0;34m=\u001b[0m \u001b[0mgrasses\u001b[0m\u001b[0;34m.\u001b[0m\u001b[0mdropna\u001b[0m\u001b[0;34m(\u001b[0m\u001b[0msubset\u001b[0m\u001b[0;34m=\u001b[0m\u001b[0;34m[\u001b[0m\u001b[0;34m'NDVI mean'\u001b[0m\u001b[0;34m,\u001b[0m \u001b[0;34m'NDVI std'\u001b[0m\u001b[0;34m]\u001b[0m\u001b[0;34m)\u001b[0m\u001b[0;34m\u001b[0m\u001b[0;34m\u001b[0m\u001b[0m\n\u001b[0m\u001b[1;32m     14\u001b[0m \u001b[0mmangroves\u001b[0m \u001b[0;34m=\u001b[0m \u001b[0mmangroves\u001b[0m\u001b[0;34m.\u001b[0m\u001b[0mdropna\u001b[0m\u001b[0;34m(\u001b[0m\u001b[0msubset\u001b[0m\u001b[0;34m=\u001b[0m\u001b[0;34m[\u001b[0m\u001b[0;34m'NDVI mean'\u001b[0m\u001b[0;34m,\u001b[0m \u001b[0;34m'NDVI std'\u001b[0m\u001b[0;34m]\u001b[0m\u001b[0;34m)\u001b[0m\u001b[0;34m\u001b[0m\u001b[0;34m\u001b[0m\u001b[0m\n\u001b[1;32m     15\u001b[0m \u001b[0mseagrass\u001b[0m \u001b[0;34m=\u001b[0m \u001b[0mseagrass\u001b[0m\u001b[0;34m.\u001b[0m\u001b[0mdropna\u001b[0m\u001b[0;34m(\u001b[0m\u001b[0msubset\u001b[0m\u001b[0;34m=\u001b[0m\u001b[0;34m[\u001b[0m\u001b[0;34m'NDVI mean'\u001b[0m\u001b[0;34m,\u001b[0m \u001b[0;34m'NDVI std'\u001b[0m\u001b[0;34m]\u001b[0m\u001b[0;34m)\u001b[0m\u001b[0;34m\u001b[0m\u001b[0;34m\u001b[0m\u001b[0m\n",
      "\u001b[0;32m/env/lib/python3.6/site-packages/pandas/core/frame.py\u001b[0m in \u001b[0;36mdropna\u001b[0;34m(self, axis, how, thresh, subset, inplace)\u001b[0m\n\u001b[1;32m   4997\u001b[0m             \u001b[0mcheck\u001b[0m \u001b[0;34m=\u001b[0m \u001b[0mindices\u001b[0m \u001b[0;34m==\u001b[0m \u001b[0;34m-\u001b[0m\u001b[0;36m1\u001b[0m\u001b[0;34m\u001b[0m\u001b[0;34m\u001b[0m\u001b[0m\n\u001b[1;32m   4998\u001b[0m             \u001b[0;32mif\u001b[0m \u001b[0mcheck\u001b[0m\u001b[0;34m.\u001b[0m\u001b[0many\u001b[0m\u001b[0;34m(\u001b[0m\u001b[0;34m)\u001b[0m\u001b[0;34m:\u001b[0m\u001b[0;34m\u001b[0m\u001b[0;34m\u001b[0m\u001b[0m\n\u001b[0;32m-> 4999\u001b[0;31m                 \u001b[0;32mraise\u001b[0m \u001b[0mKeyError\u001b[0m\u001b[0;34m(\u001b[0m\u001b[0mlist\u001b[0m\u001b[0;34m(\u001b[0m\u001b[0mnp\u001b[0m\u001b[0;34m.\u001b[0m\u001b[0mcompress\u001b[0m\u001b[0;34m(\u001b[0m\u001b[0mcheck\u001b[0m\u001b[0;34m,\u001b[0m \u001b[0msubset\u001b[0m\u001b[0;34m)\u001b[0m\u001b[0;34m)\u001b[0m\u001b[0;34m)\u001b[0m\u001b[0;34m\u001b[0m\u001b[0;34m\u001b[0m\u001b[0m\n\u001b[0m\u001b[1;32m   5000\u001b[0m             \u001b[0magg_obj\u001b[0m \u001b[0;34m=\u001b[0m \u001b[0mself\u001b[0m\u001b[0;34m.\u001b[0m\u001b[0mtake\u001b[0m\u001b[0;34m(\u001b[0m\u001b[0mindices\u001b[0m\u001b[0;34m,\u001b[0m \u001b[0maxis\u001b[0m\u001b[0;34m=\u001b[0m\u001b[0magg_axis\u001b[0m\u001b[0;34m)\u001b[0m\u001b[0;34m\u001b[0m\u001b[0;34m\u001b[0m\u001b[0m\n\u001b[1;32m   5001\u001b[0m \u001b[0;34m\u001b[0m\u001b[0m\n",
      "\u001b[0;31mKeyError\u001b[0m: ['NDVI mean', 'NDVI std']"
     ]
    }
   ],
   "source": [
    "##  Create new gdf's for each class to plot\n",
    "grasses = gdf.drop(\n",
    "    gdf[gdf.BRD_HAB != \"Intertidal grass-herb-sedge-other succulent\"].index\n",
    ")\n",
    "mangroves = gdf.drop(\n",
    "    gdf[gdf.BRD_HAB != \"Intertidal mangroves and other trees & shrubs\"].index\n",
    ")\n",
    "seagrass = gdf.drop(gdf[gdf.BRD_HAB != \"Intertidal seagrass\"].index)\n",
    "\n",
    "##  Drop polygons containing NaN values\n",
    "##  ASSUMPTION: if NDVI contains NaNs, all indices will contain NaNs. \n",
    "##  ToDo: write a loop or func that looks for NaNs in any of the supplied indices\n",
    "grasses = grasses.dropna(subset=['NDVI mean', 'NDVI std'])\n",
    "mangroves = mangroves.dropna(subset=['NDVI mean', 'NDVI std'])\n",
    "seagrass = seagrass.dropna(subset=['NDVI mean', 'NDVI std'])"
   ]
  },
  {
   "cell_type": "code",
   "execution_count": 100,
   "metadata": {},
   "outputs": [
    {
     "name": "stdout",
     "output_type": "stream",
     "text": [
      "Select attribute from:  Index(['key_0', 'index', 'OBJECTID', 'CONSOL', 'DOM_TYPE', 'DOM_LABEL',\n",
      "       'CO_TYPES', 'TIDE_ZONE', 'BRD_HAB', 'Shape_Leng', 'Shape_Area', 'id',\n",
      "       'geometry', 'NDVI mean', 'NDVI std', 'EVI mean', 'EVI std',\n",
      "       'NDAVI mean', 'NDAVI std', 'WAVI mean', 'WAVI std', 'SAVI mean',\n",
      "       'SAVI std', 'MNDWI mean', 'MNDWI std'],\n",
      "      dtype='object')\n"
     ]
    },
    {
     "data": {
      "application/vnd.jupyter.widget-view+json": {
       "model_id": "0cb7cf223213491da8a844135725299d",
       "version_major": 2,
       "version_minor": 0
      },
      "text/plain": [
       "Map(center=[-24.00352314849996, 151.61737105050003], controls=(ZoomControl(options=['position', 'zoom_in_text'…"
      ]
     },
     "metadata": {},
     "output_type": "display_data"
    },
    {
     "data": {
      "text/plain": [
       "[]"
      ]
     },
     "execution_count": 100,
     "metadata": {},
     "output_type": "execute_result"
    }
   ],
   "source": [
    "##  Plot grasses\n",
    "print('Select attribute from: ', gdf.columns)\n",
    "map_shapefile(grasses, attribute=\"NDVI std\", continuous=True)"
   ]
  },
  {
   "cell_type": "code",
   "execution_count": 102,
   "metadata": {},
   "outputs": [
    {
     "data": {
      "application/vnd.jupyter.widget-view+json": {
       "model_id": "3c8eca779ffb4d15b400217304783ada",
       "version_major": 2,
       "version_minor": 0
      },
      "text/plain": [
       "Map(center=[-24.00562066449996, 151.61740972550007], controls=(ZoomControl(options=['position', 'zoom_in_text'…"
      ]
     },
     "metadata": {},
     "output_type": "display_data"
    },
    {
     "data": {
      "text/plain": [
       "[]"
      ]
     },
     "execution_count": 102,
     "metadata": {},
     "output_type": "execute_result"
    }
   ],
   "source": [
    "##  Plot mangroves\n",
    "map_shapefile(mangroves, attribute=\"NDVI std\", continuous=True)"
   ]
  },
  {
   "cell_type": "code",
   "execution_count": 103,
   "metadata": {},
   "outputs": [
    {
     "data": {
      "application/vnd.jupyter.widget-view+json": {
       "model_id": "559c23d867a543aaae815e5ea2414d2e",
       "version_major": 2,
       "version_minor": 0
      },
      "text/plain": [
       "Map(center=[-24.01236574999995, 151.61784048300007], controls=(ZoomControl(options=['position', 'zoom_in_text'…"
      ]
     },
     "metadata": {},
     "output_type": "display_data"
    },
    {
     "data": {
      "text/plain": [
       "[]"
      ]
     },
     "execution_count": 103,
     "metadata": {},
     "output_type": "execute_result"
    }
   ],
   "source": [
    "##  Plot seagrass\n",
    "map_shapefile(seagrass, attribute=\"NDVI std\", continuous=True)"
   ]
  },
  {
   "cell_type": "markdown",
   "metadata": {},
   "source": [
    "##  Per polygon spatiotemporal analysis\n",
    "\n",
    "For a user defined polygon (search the maps above to identify polygon/s of interest), show a stacked bar graph (WIT style)\n",
    "that groups the pixels in the polygon into major classes/cover types.\n"
   ]
  },
  {
   "cell_type": "code",
   "execution_count": 104,
   "metadata": {},
   "outputs": [
    {
     "data": {
      "text/plain": [
       "True"
      ]
     },
     "execution_count": 104,
     "metadata": {},
     "output_type": "execute_result"
    }
   ],
   "source": [
    "## for code development only: update to `results2` upon successful workflow\n",
    "## TODO: code successful. Update code to use `results2` variable and remove `results3` variable\n",
    "\n",
    "results3 = results2.copy()\n",
    "\n",
    "results2 == results3"
   ]
  },
  {
   "cell_type": "code",
   "execution_count": 184,
   "metadata": {},
   "outputs": [],
   "source": [
    "##  ******From the interactive zonal summary plots above, IDENTIFY A POLYGON to interrogate*******\n",
    "pg = 3561"
   ]
  },
  {
   "cell_type": "markdown",
   "metadata": {},
   "source": [
    "# Plot interactive WIT"
   ]
  },
  {
   "cell_type": "code",
   "execution_count": 186,
   "metadata": {},
   "outputs": [],
   "source": [
    "## Coastal_wit func call\n",
    "classes_df = coastal_wit(gdf=gdf,\n",
    "               results3=results3,\n",
    "               pg=pg, \n",
    "               water=True, \n",
    "               drop=False,\n",
    "               pc_drop=80,\n",
    "               px_min=20)     \n",
    "\n",
    "\n",
    "##  Duplicated cell interactive stacked plot\n",
    "%matplotlib widget\n",
    "pal = [\n",
    "       sns.xkcd_rgb[\"cobalt blue\"],\n",
    "       sns.xkcd_rgb[\"beige\"],\n",
    "       sns.xkcd_rgb[\"light green\"],\n",
    "       sns.xkcd_rgb[\"green\"],\n",
    "       sns.xkcd_rgb[\"dark green\"]]\n",
    "\n",
    "plt.clf()\n",
    "plt.close(fig=None)\n",
    "\n",
    "fig = plt.figure(figsize=(12,8), constrained_layout=True)\n",
    "gs = fig.add_gridspec(8,1)\n",
    "\n",
    "ax1 = fig.add_subplot(gs[0:2, :])\n",
    "ax1.set_title('% of polygon exposed')\n",
    "ax2 = fig.add_subplot(gs[4:, :])\n",
    "ax2.set_title('% cover in exposed polygon')\n",
    "ax3 = fig.add_subplot(gs[2:4, :])\n",
    "ax3.set_title('modelled tide height')\n",
    "\n",
    "ax2.stackplot(classes_df.index, \n",
    "              classes_df['pc_water'], \n",
    "              classes_df['pc_unveg'],\n",
    "              classes_df['pc_ndvi_low'], \n",
    "              classes_df['pc_ndvi_mid'], \n",
    "              classes_df['pc_ndvi_high'],\n",
    "              labels=[\n",
    "                  'water',\n",
    "                      'unveg',\n",
    "                      'low veg',\n",
    "                      'medium veg',\n",
    "                      'dense veg',\n",
    "                     ], \n",
    "              baseline='zero',\n",
    "              colors=pal, \n",
    "              alpha = 0.6\n",
    "             )\n",
    "\n",
    "ax1.plot(classes_df.index, \n",
    "        classes_df['pc_exposedpx'], \n",
    "        color='black', \n",
    "        linewidth=0.2, \n",
    "        marker='o',\n",
    "        markersize=3\n",
    "       )\n",
    "\n",
    "ax3.plot(classes_df.index, \n",
    "        classes_df['tide_height'], \n",
    "        color='black', \n",
    "        linewidth=0.2, \n",
    "        marker='o',\n",
    "        markersize=3\n",
    "       )\n",
    "\n",
    "\n",
    "# plt.ylim((0,100))\n",
    "ax1.set_ylim([0,100])\n",
    "ax3.set_ylim([-1,0])\n",
    "\n",
    "#add a legend and a tight plot box\n",
    "ax2.legend(loc='best', framealpha=0.0)#, bbox_to_anchor=(1.00,1.00))\n",
    "plt.tight_layout()\n",
    "\n",
    "# Run on click event\n",
    "w2 = widgets.HTML(\"Click on the pixel you would like to interrogate\")\n",
    "ka = fig.canvas.mpl_connect('button_press_event', onclick_timeseries)\n",
    "display(w2)"
   ]
  },
  {
   "cell_type": "markdown",
   "metadata": {},
   "source": [
    "# Spatial WIT equivalent\n"
   ]
  },
  {
   "cell_type": "code",
   "execution_count": 215,
   "metadata": {},
   "outputs": [
    {
     "data": {
      "application/vnd.jupyter.widget-view+json": {
       "model_id": "58f24d33ac2f41d0808d271e9c67b59a",
       "version_major": 2,
       "version_minor": 0
      },
      "text/plain": [
       "Canvas(toolbar=Toolbar(toolitems=[('Home', 'Reset original view', 'home', 'home'), ('Back', 'Back to previous …"
      ]
     },
     "metadata": {},
     "output_type": "display_data"
    }
   ],
   "source": [
    "## Polygonise pixel edges as per Bex's `Polygonise_pixel_edges.ipynb`\n",
    "\n",
    "## Extract dataset matching polygon and date selected from WIT plot\n",
    "sWIT = results3[str(cl)][str(pg1)].isel(time=TimeIndex)\n",
    "\n",
    "# Plot raster data\n",
    "plt.clf()\n",
    "plt.close()#'all')\n",
    "\n",
    "fig, ax1 = plt.subplots()#figsize=[8, 8])\n",
    "# rgb(\n",
    "#     closest_ds,\n",
    "#     bands=[\"nbart_red\", \"nbart_green\", \"nbart_blue\"],\n",
    "#     ax=ax1,\n",
    "# )\n",
    "\n",
    "# closest_ds.unveg.plot(ax=ax1)\n",
    "# closest_ds.ndvi_low.plot(ax=ax1)\n",
    "# closest_ds.ndvi_mid.plot(ax=ax1, color=Green)#cmap = plt.cm.Greens, levels=2)#, robust=True)\n",
    "# closest_ds.ndvi_high.plot(ax=ax1)\n",
    "\n",
    "sWIT.NDVI.where(sWIT.mask).plot(levels=[-1, 0.1, 0.33, 0.66, 1], colors = pal, ax=ax1)\n",
    "\n",
    "# fig.axes().set_aspect(ax1, aspect=1)#, 'datalim')\n",
    "# plt.autoscale(enable=False, tight=True)\n",
    "mpl.axes.Axes.set_aspect(ax1, aspect=1)\n",
    "\n",
    "plt.show()"
   ]
  },
  {
   "cell_type": "code",
   "execution_count": 205,
   "metadata": {},
   "outputs": [],
   "source": [
    "plt.close('all')"
   ]
  },
  {
   "cell_type": "markdown",
   "metadata": {},
   "source": [
    "## Select regions to plot and explore change\n",
    "\n",
    "TODO: Use `map_shapefile` changes (specifically the roi functionality) to subset the gdf and process intersected data from there"
   ]
  },
  {
   "cell_type": "markdown",
   "metadata": {},
   "source": [
    "# Temporal pixel means/stds\n",
    "Plot the temporal per pixel stats for the time series"
   ]
  },
  {
   "cell_type": "code",
   "execution_count": 213,
   "metadata": {},
   "outputs": [],
   "source": [
    "df_pxsummary1 = px_heatmap(results2, index_ls)"
   ]
  },
  {
   "cell_type": "code",
   "execution_count": 214,
   "metadata": {},
   "outputs": [
    {
     "name": "stdout",
     "output_type": "stream",
     "text": [
      "Select attribute from:  Index(['index', 'geometry', 'NDVI mean', 'NDVI std', 'EVI mean', 'EVI std',\n",
      "       'NDAVI mean', 'NDAVI std', 'WAVI mean', 'WAVI std', 'SAVI mean',\n",
      "       'SAVI std', 'MNDWI mean', 'MNDWI std', 'lon', 'lat'],\n",
      "      dtype='object')\n"
     ]
    },
    {
     "data": {
      "application/vnd.jupyter.widget-view+json": {
       "model_id": "17d4ea052c064fb391d761d5742f497b",
       "version_major": 2,
       "version_minor": 0
      },
      "text/plain": [
       "Map(center=[-24.006240365580148, 151.61728648502373], controls=(ZoomControl(options=['position', 'zoom_in_text…"
      ]
     },
     "metadata": {},
     "output_type": "display_data"
    },
    {
     "data": {
      "text/plain": [
       "[]"
      ]
     },
     "execution_count": 214,
     "metadata": {},
     "output_type": "execute_result"
    }
   ],
   "source": [
    "print('Select attribute from: ', df_pxsummary1.columns)\n",
    "map_shapefile(df_pxsummary1, attribute='WAVI std', continuous=True)"
   ]
  },
  {
   "cell_type": "markdown",
   "metadata": {},
   "source": [
    "# MiniWIT\n",
    "Select a region of interest from the temporal per pixel stats map to investigate using a WIT style stacked line plot"
   ]
  },
  {
   "cell_type": "code",
   "execution_count": null,
   "metadata": {},
   "outputs": [],
   "source": []
  }
 ],
 "metadata": {
  "kernelspec": {
   "display_name": "Python 3",
   "language": "python",
   "name": "python3"
  },
  "language_info": {
   "codemirror_mode": {
    "name": "ipython",
    "version": 3
   },
   "file_extension": ".py",
   "mimetype": "text/x-python",
   "name": "python",
   "nbconvert_exporter": "python",
   "pygments_lexer": "ipython3",
   "version": "3.6.9"
  },
  "widgets": {
   "application/vnd.jupyter.widget-state+json": {
    "state": {
     "045ab485daf24868b7c2382f424cbcb8": {
      "model_module": "@jupyter-widgets/controls",
      "model_module_version": "1.5.0",
      "model_name": "LabelModel",
      "state": {
       "layout": "IPY_MODEL_b0ea6054510a498e8a7c56ce35cc5c4c",
       "style": "IPY_MODEL_f660eac494c147198a27997ad8b22470"
      }
     },
     "0746427347e2416f920f9ce96228b721": {
      "model_module": "jupyter-leaflet",
      "model_module_version": "^0.11.1",
      "model_name": "LeafletGeoJSONModel",
      "state": {
       "_model_module_version": "^0.11.1",
       "_view_count": null,
       "_view_module_version": "^0.11.1",
       "data": {
        "bbox": [
         142.4524578701443,
         -32.36320549945,
         142.54736615559136,
         -32.29586369982442
        ],
        "features": [
         {
          "bbox": [
           142.51524944800926,
           -32.31838789697648,
           142.54736615559136,
           -32.29586369982442
          ],
          "geometry": {
           "coordinates": [
            [
             [
              142.51524944800926,
              -32.296091685646715
             ],
             [
              142.546601533663,
              -32.29586369982442
             ],
             [
              142.54736615559136,
              -32.3183698586848
             ],
             [
              142.51526741493365,
              -32.31838789697648
             ],
             [
              142.51524944800926,
              -32.296091685646715
             ]
            ]
           ],
           "type": "Polygon"
          },
          "id": "0",
          "properties": {
           "id": 2,
           "style": {
            "color": "black",
            "fillColor": "#ffffcc",
            "fillOpacity": 0.8,
            "weight": 0.9
           }
          },
          "type": "Feature"
         },
         {
          "bbox": [
           142.4524578701443,
           -32.36320549945,
           142.4845749551165,
           -32.34069269280065
          ],
          "geometry": {
           "coordinates": [
            [
             [
              142.4524578701443,
              -32.340907825281136
             ],
             [
              142.483823262827,
              -32.34069269280065
             ],
             [
              142.4845749551165,
              -32.36320063502121
             ],
             [
              142.45246271443352,
              -32.36320549945
             ],
             [
              142.4524578701443,
              -32.340907825281136
             ]
            ]
           ],
           "type": "Polygon"
          },
          "id": "1",
          "properties": {
           "id": 1,
           "style": {
            "color": "black",
            "fillColor": "#800026",
            "fillOpacity": 0.8,
            "weight": 0.9
           }
          },
          "type": "Feature"
         }
        ],
        "type": "FeatureCollection"
       },
       "style": {
        "fillOpacity": 0.8
       }
      }
     },
     "140008a05899493688edb1cfd07bb91d": {
      "model_module": "@jupyter-widgets/output",
      "model_module_version": "1.0.0",
      "model_name": "OutputModel",
      "state": {
       "layout": "IPY_MODEL_8563b85ab05a465b900584182485dc98"
      }
     },
     "215e008ea30446418c9489a3fc2a3509": {
      "model_module": "jupyter-leaflet",
      "model_module_version": "^0.11.1",
      "model_name": "LeafletMapStyleModel",
      "state": {
       "_model_module_version": "^0.11.1",
       "_view_count": null,
       "_view_module": "@jupyter-widgets/base",
       "_view_module_version": "1.2.0",
       "_view_name": "StyleView",
       "cursor": "grab"
      }
     },
     "2f3cbd62daf645a4a47a3132fde027d0": {
      "model_module": "@jupyter-widgets/base",
      "model_module_version": "1.2.0",
      "model_name": "LayoutModel",
      "state": {
       "height": "600px",
       "width": "800px"
      }
     },
     "331f5be31bf049e4a4c2ab49668abcdd": {
      "model_module": "jupyter-leaflet",
      "model_module_version": "^0.11.1",
      "model_name": "LeafletZoomControlModel",
      "state": {
       "_model_module_version": "^0.11.1",
       "_view_count": null,
       "_view_module_version": "^0.11.1",
       "options": [
        "position",
        "zoom_in_text",
        "zoom_in_title",
        "zoom_out_text",
        "zoom_out_title"
       ]
      }
     },
     "472e3957cd724d3fb57312a3fa86dae1": {
      "model_module": "jupyter-leaflet",
      "model_module_version": "^0.11.1",
      "model_name": "LeafletAttributionControlModel",
      "state": {
       "_model_module_version": "^0.11.1",
       "_view_count": null,
       "_view_module_version": "^0.11.1",
       "options": [
        "position",
        "prefix"
       ],
       "position": "bottomright",
       "prefix": "Leaflet"
      }
     },
     "8563b85ab05a465b900584182485dc98": {
      "model_module": "@jupyter-widgets/base",
      "model_module_version": "1.2.0",
      "model_name": "LayoutModel",
      "state": {}
     },
     "8912f038ad0947a7ae08ed0ccdb15644": {
      "model_module": "jupyter-leaflet",
      "model_module_version": "^0.11.1",
      "model_name": "LeafletMapModel",
      "state": {
       "_dom_classes": [],
       "_model_module_version": "^0.11.1",
       "_view_count": null,
       "_view_module_version": "^0.11.1",
       "basemap": {
        "attribution": "Tiles &copy; Esri &mdash; Source: Esri, i-cubed, USDA, USGS, AEX, GeoEye, Getmapping, Aerogrid, IGN, IGP, UPR-EGP, and the GIS User Community",
        "max_zoom": 20,
        "name": "Esri.WorldImagery",
        "url": "http://server.arcgisonline.com/ArcGIS/rest/services/World_Imagery/MapServer/tile/{z}/{y}/{x}"
       },
       "center": [
        -32.32953459963721,
        142.4999120128678
       ],
       "controls": [
        "IPY_MODEL_331f5be31bf049e4a4c2ab49668abcdd",
        "IPY_MODEL_472e3957cd724d3fb57312a3fa86dae1"
       ],
       "default_style": "IPY_MODEL_d14c0de5ce3b48bd9eb7729afbe8d701",
       "dragging_style": "IPY_MODEL_a6bbab8038c3446a93e3a549b8f8dd79",
       "east": 142.5685501098633,
       "fullscreen": false,
       "interpolation": "bilinear",
       "layers": [
        "IPY_MODEL_99119a1935514365b929a6d6c4b31a95",
        "IPY_MODEL_0746427347e2416f920f9ce96228b721"
       ],
       "layout": "IPY_MODEL_2f3cbd62daf645a4a47a3132fde027d0",
       "modisdate": "yesterday",
       "north": -32.28597166993233,
       "options": [
        "basemap",
        "bounce_at_zoom_limits",
        "box_zoom",
        "center",
        "close_popup_on_click",
        "double_click_zoom",
        "dragging",
        "fullscreen",
        "inertia",
        "inertia_deceleration",
        "inertia_max_speed",
        "interpolation",
        "keyboard",
        "keyboard_pan_offset",
        "keyboard_zoom_offset",
        "max_zoom",
        "min_zoom",
        "scroll_wheel_zoom",
        "tap",
        "tap_tolerance",
        "touch_zoom",
        "world_copy_jump",
        "zoom",
        "zoom_animation_threshold",
        "zoom_start"
       ],
       "south": -32.373002604986546,
       "style": "IPY_MODEL_215e008ea30446418c9489a3fc2a3509",
       "west": 142.4312210083008,
       "zoom": 13
      }
     },
     "99119a1935514365b929a6d6c4b31a95": {
      "model_module": "jupyter-leaflet",
      "model_module_version": "^0.11.1",
      "model_name": "LeafletTileLayerModel",
      "state": {
       "_model_module_version": "^0.11.1",
       "_view_count": null,
       "_view_module_version": "^0.11.1",
       "attribution": "Tiles &copy; Esri &mdash; Source: Esri, i-cubed, USDA, USGS, AEX, GeoEye, Getmapping, Aerogrid, IGN, IGP, UPR-EGP, and the GIS User Community",
       "base": true,
       "max_native_zoom": 18,
       "max_zoom": 20,
       "min_native_zoom": 0,
       "min_zoom": 1,
       "name": "Esri.WorldImagery",
       "no_wrap": false,
       "options": [
        "attribution",
        "detect_retina",
        "max_native_zoom",
        "max_zoom",
        "min_native_zoom",
        "min_zoom",
        "no_wrap",
        "tile_size"
       ],
       "url": "http://server.arcgisonline.com/ArcGIS/rest/services/World_Imagery/MapServer/tile/{z}/{y}/{x}"
      }
     },
     "a6bbab8038c3446a93e3a549b8f8dd79": {
      "model_module": "jupyter-leaflet",
      "model_module_version": "^0.11.1",
      "model_name": "LeafletMapStyleModel",
      "state": {
       "_model_module_version": "^0.11.1",
       "_view_count": null,
       "_view_module": "@jupyter-widgets/base",
       "_view_module_version": "1.2.0",
       "_view_name": "StyleView",
       "cursor": "move"
      }
     },
     "b0ea6054510a498e8a7c56ce35cc5c4c": {
      "model_module": "@jupyter-widgets/base",
      "model_module_version": "1.2.0",
      "model_name": "LayoutModel",
      "state": {}
     },
     "d14c0de5ce3b48bd9eb7729afbe8d701": {
      "model_module": "jupyter-leaflet",
      "model_module_version": "^0.11.1",
      "model_name": "LeafletMapStyleModel",
      "state": {
       "_model_module_version": "^0.11.1",
       "_view_count": null,
       "_view_module": "@jupyter-widgets/base",
       "_view_module_version": "1.2.0",
       "_view_name": "StyleView",
       "cursor": "grab"
      }
     },
     "f660eac494c147198a27997ad8b22470": {
      "model_module": "@jupyter-widgets/controls",
      "model_module_version": "1.5.0",
      "model_name": "DescriptionStyleModel",
      "state": {
       "description_width": ""
      }
     }
    },
    "version_major": 2,
    "version_minor": 0
   }
  }
 },
 "nbformat": 4,
 "nbformat_minor": 4
}
