{
 "cells": [
  {
   "cell_type": "markdown",
   "metadata": {},
   "source": [
    "# DEA Intertidal Elevation (NIDEM) <img align=\"right\" src=\"https://github.com/GeoscienceAustralia/dea-notebooks/raw/develop/Supplementary_data/dea_logo.jpg\">\n",
    "\n",
    "* **Compatability:** Notebook currently compatible with both the `NCI` and `DEA Sandbox` environments\n",
    "* **Products used:** [DEA Intertidal Elevation](https://cmi.ga.gov.au/data-products/dea/581/dea-coastlines-landsat)\n"
   ]
  },
  {
   "cell_type": "markdown",
   "metadata": {},
   "source": [
    "## Description\n",
    "\n",
    "This notebook will demonstrate how to load data from the DEA Intertidal Elevation (NIDEM) product suite using the Digital Earth Australia datacube. \n",
    "Topics covered include:\n",
    "\n",
    "* A brief overview of the DEA Intertidal Elevation product\n",
    "* Using the native `dc.load()` function to load in DEA Intertidal Elevation (NIDEM) data for a coastal region\n",
    "\n",
    "***"
   ]
  },
  {
   "cell_type": "markdown",
   "metadata": {},
   "source": [
    "## Getting started\n",
    "\n",
    "To run this analysis, run all the cells in the notebook, starting with the \"Load packages\" cell."
   ]
  },
  {
   "cell_type": "markdown",
   "metadata": {},
   "source": [
    "### Load packages"
   ]
  },
  {
   "cell_type": "code",
   "execution_count": 1,
   "metadata": {},
   "outputs": [
    {
     "data": {
      "text/markdown": [
       "## DEA Intertidal Elevation\n",
       "### Background\n",
       "<p>Intertidal environments support important ecological habitats (e.g. sandy beaches and shores, tidal flats and rocky shores and reefs), and provide many valuable benefits such as storm surge protection, carbon storage and natural resources for recreational and commercial use.</p>\n",
       "\n",
       "<p>Intertidal zones are faced with increasing threats from coastal erosion, land reclamation (e.g. port construction), and sea level rise. Accurate elevation data describing the height and shape of the coastline is needed to help predict when and where these threats will have the greatest impact. However, this data is expensive and challenging to map across the entire intertidal zone of a continent the size of Australia.</p>\n",
       "\n",
       "### What this product offers\n",
       "<p>The National Intertidal Digital Elevation Model (NIDEM) is a continental-scale elevation dataset for Australia's exposed intertidal zone.</p>\n",
       "\n",
       "<p>This product provides the first three-dimensional representation of Australia's intertidal sandy beaches and shores, tidal flats and rocky shores and reefs at 25 m spatial resolution, addressing a key gap between the availability of sub-tidal bathymetry and terrestrial elevation data.</p>\n",
       "\n",
       "### Applications\n",
       "<ul><li>Integrating with existing topographic and bathymetric data to seamlessly map the elevation of the coastal zone</li>\n",
       "\t<li>Providing baseline elevation data for predicting the impact of coastal hazards such as storm surges, tsunami inundation or future sea-level rise</li>\n",
       "\t<li>Investigating coastal erosion and sediment transport processes</li>\n",
       "\t<li>Supporting habitat mapping and modelling for coastal ecosystems extending across the terrestrial to marine boundary</li>\n",
       "</ul>\n",
       "\n",
       "### Publications\n",
       " * <p>Bishop-Taylor, R., Sagar, S., Lymburner, L., &amp; Beaman, R. J. (2019). Between the tides: Modelling the elevation of Australia’s exposed intertidal zone at continental scale. <i>Estuarine, Coastal and Shelf Science</i>, <i>223</i>, 115–128. <a href=\"https://doi.org/10.1016/j.ecss.2019.03.006\">https://doi.org/10.1016/j.ecss.2019.03.006</a></p>\n",
       "\n",
       "\n",
       "> **Note:** For more technical information about the DEA Intertidal Elevation product, visit the official [Geoscience Australia DEA Intertidal Elevation product description.](https://test.cmi.ga.gov.au/data-products/dea/325/intertidal-elevation-2-landsat)\n",
       "\n",
       "<img align=\"left\" src=\"https://test.cmi.ga.gov.au/sites/default/files/2020-07/nidem%202%20-%20crop%203_1.jpg\" width=\"250\" style=\"padding-left: 20px;\">"
      ],
      "text/plain": [
       "<IPython.core.display.Markdown object>"
      ]
     },
     "execution_count": 1,
     "metadata": {},
     "output_type": "execute_result"
    }
   ],
   "source": [
    "import sys\n",
    "sys.path.append(\"../Scripts\")\n",
    "from dea_metadata import cmi_metadata\n",
    "\n",
    "# This line of code automatically loads the latest product metadata\n",
    "cmi_metadata(\"DEA Intertidal Elevation\")"
   ]
  },
  {
   "cell_type": "markdown",
   "metadata": {},
   "source": [
    "## Loading DEA Intertidal Elevation data\n",
    "\n",
    "Blah blah blah"
   ]
  },
  {
   "cell_type": "markdown",
   "metadata": {},
   "source": [
    "***\n",
    "\n",
    "## Additional information"
   ]
  },
  {
   "cell_type": "markdown",
   "metadata": {},
   "source": [
    "**License:** The code in this notebook is licensed under the [Apache License, Version 2.0](https://www.apache.org/licenses/LICENSE-2.0). \n",
    "Digital Earth Australia data is licensed under the [Creative Commons by Attribution 4.0](https://creativecommons.org/licenses/by/4.0/) license.\n",
    "\n",
    "**Product description and metadata:** For the most up-to-date information about this product, visit the official [Geoscience Australia DEA Coastlines product description](https://cmi.ga.gov.au/data-products/dea/581/dea-coastlines-landsat)\n",
    "\n",
    "**Contact:** For assistance with any of the Python code or Jupyter Notebooks in this repository, please post a [Github issue](https://github.com/GeoscienceAustralia/DEACoastLines/issues/new). For questions or more information about this product, email dea@ga.gov.au or sign up to the [Open Data Cube Slack](https://join.slack.com/t/opendatacube/shared_invite/zt-d6hu7l35-CGDhSxiSmTwacKNuXWFUkg) and post on the [`#dea-coastlines`](https://app.slack.com/client/T0L4V0TFT/C018X6J9HLY/details/) channel.\n",
    "\n",
    "**Last modified:** September 2020"
   ]
  }
 ],
 "metadata": {
  "kernelspec": {
   "display_name": "Python 3",
   "language": "python",
   "name": "python3"
  },
  "language_info": {
   "codemirror_mode": {
    "name": "ipython",
    "version": 3
   },
   "file_extension": ".py",
   "mimetype": "text/x-python",
   "name": "python",
   "nbconvert_exporter": "python",
   "pygments_lexer": "ipython3",
   "version": "3.6.9"
  },
  "widgets": {
   "application/vnd.jupyter.widget-state+json": {
    "state": {},
    "version_major": 2,
    "version_minor": 0
   }
  }
 },
 "nbformat": 4,
 "nbformat_minor": 4
}
