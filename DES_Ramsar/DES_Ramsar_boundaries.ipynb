{
 "cells": [
  {
   "cell_type": "markdown",
   "metadata": {},
   "source": [
    "# Extracting low water line boundaries for Queensland Ramsar sites <img align=\"right\" src=\"../Supplementary_data/dea_logo.jpg\">\n",
    "\n",
    "* **Compatability:** Notebook currently compatible with both the `NCI` and `DEA Sandbox` environments\n",
    "* **Products used:** \n"
   ]
  },
  {
   "cell_type": "markdown",
   "metadata": {},
   "source": [
    "## Description\n",
    "Project in collaboration with Queensland Department of Environment and Science\n",
    "***"
   ]
  },
  {
   "cell_type": "markdown",
   "metadata": {},
   "source": [
    "## Getting started\n",
    "\n",
    "To run this analysis, run all the cells in the notebook, starting with the \"Load packages\" cell. "
   ]
  },
  {
   "cell_type": "markdown",
   "metadata": {},
   "source": [
    "### Load packages\n",
    "Import Python packages that are used for the analysis."
   ]
  },
  {
   "cell_type": "code",
   "execution_count": 7,
   "metadata": {},
   "outputs": [],
   "source": [
    "import sys\n",
    "import datacube\n",
    "import geopandas as gpd\n",
    "\n",
    "sys.path.append('../Scripts')\n",
    "from dea_plotting import rgb, map_shapefile"
   ]
  },
  {
   "cell_type": "markdown",
   "metadata": {},
   "source": [
    "### Connect to the datacube\n",
    "\n",
    "Connect to the datacube so we can access DEA data.\n",
    "The `app` parameter is a unique name for the analysis which is based on the notebook file name."
   ]
  },
  {
   "cell_type": "code",
   "execution_count": 2,
   "metadata": {},
   "outputs": [],
   "source": [
    "dc = datacube.Datacube(app='DES_Ramsar_boundaries')"
   ]
  },
  {
   "cell_type": "markdown",
   "metadata": {},
   "source": [
    "### Analysis parameters\n",
    "\n",
    "* `boundary_shp`: Path to the shapefile containing boundaries for the Ramsar site\n"
   ]
  },
  {
   "cell_type": "code",
   "execution_count": null,
   "metadata": {},
   "outputs": [],
   "source": [
    "boundary_shp = 'example_value'"
   ]
  },
  {
   "cell_type": "markdown",
   "metadata": {},
   "source": [
    "## Load intertidal data"
   ]
  },
  {
   "cell_type": "code",
   "execution_count": null,
   "metadata": {},
   "outputs": [],
   "source": [
    "boundary_gdf = gpd.read_file(boundary_shp)\n",
    "map_shapefile(boundary_gdf)"
   ]
  },
  {
   "cell_type": "code",
   "execution_count": 5,
   "metadata": {},
   "outputs": [
    {
     "data": {
      "text/plain": [
       "array(['camden_insar_alos_displacement', 'fc_percentile_albers_annual',\n",
       "       'fc_percentile_albers_seasonal', 'ga_ls5t_ard_3', 'ga_ls7e_ard_3',\n",
       "       'ga_ls8c_ard_3', 'ga_ls_tcw_percentiles_2',\n",
       "       'ga_s2a_ard_nbar_granule', 'ga_s2am_fractional_cover_2',\n",
       "       'ga_s2b_ard_nbar_granule', 'ga_s2bm_fractional_cover_2',\n",
       "       'ga_srtm_dem1sv1_0', 'high_tide_comp_20p', 'item_v2',\n",
       "       'item_v2_conf', 'landsat_barest_earth', 'low_tide_comp_20p',\n",
       "       'ls5_ard', 'ls5_fc_albers', 'ls5_level1_usgs',\n",
       "       'ls5_nbart_geomedian_annual', 'ls5_nbart_tmad_annual',\n",
       "       'ls5_pq_albers', 'ls5_usgs_l2c1', 'ls7_ard', 'ls7_fc_albers',\n",
       "       'ls7_level1_usgs', 'ls7_nbart_geomedian_annual',\n",
       "       'ls7_nbart_tmad_annual', 'ls7_pq_albers', 'ls7_usgs_l2c1',\n",
       "       'ls8_ard', 'ls8_barest_earth_albers', 'ls8_fc_albers',\n",
       "       'ls8_level1_usgs', 'ls8_nbart_geomedian_annual',\n",
       "       'ls8_nbart_tmad_annual', 'ls8_pq_albers', 'ls8_usgs_l2c1',\n",
       "       'mangrove_cover', 'multi_scale_topographic_position', 'nidem',\n",
       "       's1_gamma0_geotif_scene', 's2a_ard_granule', 's2a_l1c_aws_pds',\n",
       "       's2a_level1c_granule', 's2a_nrt_granule', 's2b_ard_granule',\n",
       "       's2b_l1c_aws_pds', 's2b_level1c_granule', 's2b_nrt_granule',\n",
       "       's2_gm_seasonal', 's2_tsmask', 'sentinel2_wofs_def',\n",
       "       'sentinel2_wofs_nrt', 'usgs_ls5t_level1_1', 'usgs_ls7e_level1_1',\n",
       "       'usgs_ls8c_level1_1', 'weathering_intensity', 'wofs_albers',\n",
       "       'wofs_annual_summary', 'wofs_apr_oct_summary',\n",
       "       'wofs_filtered_summary', 'wofs_nov_mar_summary', 'wofs_summary'],\n",
       "      dtype=object)"
      ]
     },
     "execution_count": 5,
     "metadata": {},
     "output_type": "execute_result"
    }
   ],
   "source": [
    "dc.load(product='item_v2',\n",
    "        )"
   ]
  },
  {
   "cell_type": "markdown",
   "metadata": {},
   "source": [
    "***\n",
    "\n",
    "## Additional information\n",
    "\n",
    "**License:** The code in this notebook is licensed under the [Apache License, Version 2.0](https://www.apache.org/licenses/LICENSE-2.0). \n",
    "Digital Earth Australia data is licensed under the [Creative Commons by Attribution 4.0](https://creativecommons.org/licenses/by/4.0/) license.\n",
    "\n",
    "**Contact:** If you need assistance, please post a question on the [Open Data Cube Slack channel](http://slack.opendatacube.org/) or on the [GIS Stack Exchange](https://gis.stackexchange.com/questions/ask?tags=open-data-cube) using the `open-data-cube` tag (you can view previously asked questions [here](https://gis.stackexchange.com/questions/tagged/open-data-cube)).\n",
    "If you would like to report an issue with this notebook, you can file one on [Github](https://github.com/GeoscienceAustralia/dea-notebooks).\n",
    "\n",
    "**Last modified:** May 2020\n",
    "\n",
    "**Compatible datacube version:** "
   ]
  },
  {
   "cell_type": "code",
   "execution_count": null,
   "metadata": {},
   "outputs": [],
   "source": [
    "print(datacube.__version__)"
   ]
  },
  {
   "cell_type": "markdown",
   "metadata": {},
   "source": [
    "## Tags\n",
    "Browse all available tags on the DEA User Guide's [Tags Index](https://docs.dea.ga.gov.au/genindex.html)"
   ]
  },
  {
   "cell_type": "raw",
   "metadata": {
    "raw_mimetype": "text/restructuredtext"
   },
   "source": [
    "**Tags**: :index:`NCI compatible`, :index:`sandbox compatible`, :index:`sentinel 2`, :index:`landsat 8`, :index:`dea_plotting`, :index:`rgb`, :index:`NDVI`, :index:`time series`"
   ]
  }
 ],
 "metadata": {
  "kernelspec": {
   "display_name": "Python 3",
   "language": "python",
   "name": "python3"
  },
  "language_info": {
   "codemirror_mode": {
    "name": "ipython",
    "version": 3
   },
   "file_extension": ".py",
   "mimetype": "text/x-python",
   "name": "python",
   "nbconvert_exporter": "python",
   "pygments_lexer": "ipython3",
   "version": "3.6.9"
  },
  "widgets": {
   "application/vnd.jupyter.widget-state+json": {
    "state": {},
    "version_major": 2,
    "version_minor": 0
   }
  }
 },
 "nbformat": 4,
 "nbformat_minor": 4
}
