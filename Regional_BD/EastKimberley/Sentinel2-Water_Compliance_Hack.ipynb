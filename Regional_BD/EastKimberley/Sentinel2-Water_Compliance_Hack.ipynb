{
 "cells": [
  {
   "cell_type": "markdown",
   "metadata": {},
   "source": [
    "## Sentinel2 scenes \n",
    "\n",
    "This notebook takes polygons, loads sentinel2 data and saves the output to geotiff.\n",
    "\n",
    "**Before you run this notebook:** You need to run the following commands from the command line prior to launching jupyter notebook from the same terminal so that the required libraries and paths are set.\n",
    "\n",
    "`module use /g/data/v10/public/modules/modulefiles`\n",
    "\n",
    "`module load dea`\n",
    "\n",
    "**Date**: September 2018.\n",
    "\n",
    "**Author**: Claire Krause, Bex Dunn"
   ]
  },
  {
   "cell_type": "raw",
   "metadata": {},
   "source": [
    "Tags: :index:`Sentinel2`, :index:`products`, :index:`DEAPlotting`, :index:`three_band_image`, :index:`three_band_image_subplots`, :index:`dc.list_products`, :index:`dc.load`, :index:`query`, :index:`beginner`, :index:`plot`, :index:`image`, :index:`pixelquality`"
   ]
  },
  {
   "cell_type": "code",
   "execution_count": 1,
   "metadata": {
    "ExecuteTime": {
     "end_time": "2019-02-21T00:00:28.631097Z",
     "start_time": "2019-02-21T00:00:12.202708Z"
    }
   },
   "outputs": [],
   "source": [
    "%matplotlib inline\n",
    "from datacube.storage import masking\n",
    "from datacube.helpers import write_geotiff\n",
    "from datacube import Datacube\n",
    "from datetime import datetime\n",
    "from skimage import exposure\n",
    "import numpy as np\n",
    "\n",
    "import datacube\n",
    "import datetime\n",
    "import fiona\n",
    "import geopandas as gpd\n",
    "import numpy as np\n",
    "import pandas as pd\n",
    "import rasterio.mask\n",
    "import rasterio.features\n",
    "from shapely import geometry\n",
    "import seaborn as sns\n",
    "import sys\n",
    "import xarray as xr\n",
    "\n",
    "import matplotlib.dates as mdates\n",
    "import matplotlib.gridspec as gridspec\n",
    "import matplotlib.pyplot as plt\n",
    "\n",
    "from datacube.storage import masking\n",
    "from datacube.utils import geometry\n",
    "from datacube.helpers import ga_pq_fuser, write_geotiff\n",
    "\n",
    "import sys\n",
    "import os\n",
    "\n",
    "###FIXME: this is for getting s2 to write to geotiff\n",
    "import rasterio\n",
    "\n",
    "# Point this to where you have the algorithms from the dea-notebooks/algorithms saved\n",
    "sys.path.append('../../10_Scripts')\n",
    "import DEADataHandling, DEAPlotting, TasseledCapTools\n",
    "\n",
    "dc = Datacube(app='Sentinel2')"
   ]
  },
  {
   "cell_type": "code",
   "execution_count": 2,
   "metadata": {
    "ExecuteTime": {
     "end_time": "2019-02-21T00:00:28.639366Z",
     "start_time": "2019-02-21T00:00:28.634908Z"
    }
   },
   "outputs": [],
   "source": [
    "#change the path here if you want a different polygon\n",
    "#poly_path = '/g/data/r78/rjd547/groundwater_activities/Burdekin/Burdekin_shapefiles/reeves_lake_for_demo.shp'\n",
    "poly_path = '/g/data/r78/rjd547/shapefiles/EnvironmentalFlowMonitoringPolygon.shp'\n",
    "#poly_path = '/g/data/r78/rjd547/shapefiles/FarmScaleWaterBalancePolygon.shp'"
   ]
  },
  {
   "cell_type": "code",
   "execution_count": 3,
   "metadata": {
    "ExecuteTime": {
     "end_time": "2019-02-21T00:00:28.673887Z",
     "start_time": "2019-02-21T00:00:28.642915Z"
    }
   },
   "outputs": [],
   "source": [
    "#open the polygon\n",
    "with fiona.open(poly_path) as shapes:\n",
    "        crs = geometry.CRS(shapes.crs_wkt)\n",
    "        first_geometry = next(iter(shapes))['geometry']\n",
    "        geom = geometry.Geometry(first_geometry, crs=crs)"
   ]
  },
  {
   "cell_type": "code",
   "execution_count": null,
   "metadata": {
    "ExecuteTime": {
     "start_time": "2019-02-21T00:00:12.216Z"
    }
   },
   "outputs": [
    {
     "data": {
      "text/plain": [
       "<Figure size 432x288 with 0 Axes>"
      ]
     },
     "metadata": {},
     "output_type": "display_data"
    },
    {
     "data": {
      "image/png": "[encoded data removed]",
      "text/plain": [
       "<Figure size 432x288 with 1 Axes>"
      ]
     },
     "metadata": {
      "needs_background": "light"
     },
     "output_type": "display_data"
    }
   ],
   "source": [
    "#plot polygon to check it looks ok\n",
    "plt.clf()\n",
    "shape_plot = gpd.read_file(poly_path)\n",
    "shape_plot.plot()\n",
    "plt.show()"
   ]
  },
  {
   "cell_type": "markdown",
   "metadata": {
    "ExecuteTime": {
     "end_time": "2018-09-26T22:38:21.886898Z",
     "start_time": "2018-09-26T22:38:21.795591Z"
    }
   },
   "source": [
    "### query by shapefiles"
   ]
  },
  {
   "cell_type": "code",
   "execution_count": null,
   "metadata": {
    "ExecuteTime": {
     "start_time": "2019-02-21T00:00:12.222Z"
    }
   },
   "outputs": [],
   "source": [
    "## start with may"
   ]
  },
  {
   "cell_type": "code",
   "execution_count": null,
   "metadata": {
    "ExecuteTime": {
     "start_time": "2019-02-21T00:00:12.229Z"
    }
   },
   "outputs": [],
   "source": [
    "shape_file = poly_path\n",
    "GEOM, SHAPE_NAME = DEADataHandling.open_polygon_from_shapefile(shape_file)\n",
    "start_of_epoch, end_of_epoch=('2018-05-01', '2018-05-15')\n",
    "#'time': ('2016-10-01', '2017-04-30')\n",
    "\n",
    "query = {\n",
    "    'time': (start_of_epoch, end_of_epoch), \n",
    "   # 'time': ('2016-10-01', '2017-04-30'),\n",
    "    'geopolygon': GEOM,\n",
    "    'output_crs': 'EPSG:3577',\n",
    "    'resolution': (-10, 10)\n",
    "}\n",
    "\n",
    "##uncomment this to use lat long instead\n",
    "# query = {\n",
    "#         'lat': (-35.25, -35.35),\n",
    "#         'lon': (149.05, 149.17),\n",
    "#         'output_crs': 'EPSG:3577',\n",
    "#         'resolution': (-10, 10),\n",
    "#         'time': ('2017-01-01', '2017-02-15')\n",
    "#         }"
   ]
  },
  {
   "cell_type": "code",
   "execution_count": null,
   "metadata": {
    "ExecuteTime": {
     "start_time": "2019-02-21T00:00:12.235Z"
    }
   },
   "outputs": [],
   "source": [
    "#load in data\n",
    "s2= dc.load(product='s2a_ard_granule', group_by='solar_day', \n",
    "                   measurements=['fmask', \n",
    "                             'nbart_blue', \n",
    "                             'nbart_green', \n",
    "                             'nbart_red', \n",
    "                             'nbart_red_edge_1',\n",
    "                             'nbart_red_edge_2',\n",
    "                             'nbart_red_edge_3',\n",
    "                             'nbart_nir_1',\n",
    "                             'nbart_nir_2',\n",
    "                             'nbart_swir_2',\n",
    "                             'nbart_swir_3'], **query)"
   ]
  },
  {
   "cell_type": "markdown",
   "metadata": {},
   "source": [
    "#### See what came back from the extraction"
   ]
  },
  {
   "cell_type": "code",
   "execution_count": null,
   "metadata": {
    "ExecuteTime": {
     "start_time": "2019-02-21T00:00:12.240Z"
    }
   },
   "outputs": [],
   "source": [
    "s2"
   ]
  },
  {
   "cell_type": "markdown",
   "metadata": {
    "heading_collapsed": true
   },
   "source": [
    "## About Sentinel 2 bands\n",
    "Sentinel 2 satellites have 13 spectral channels:\n",
    "\n",
    "| Sentinel 2 bands | DEA band name | Band number | Central wavelength (nm) | Resolution (m) | Bandwidth (nm) |\n",
    "| -----------------|---------------|-------------|-------------------------|----------------|----------------|\n",
    "| Coastal aerosol | `nbar(t)_coastal_aerosol` | 1 | 443 | 60 | 20 |\n",
    "| Blue | `nbar(t)_blue` | 2 | 490 | 10 | 65 |\n",
    "| Green | `nbar(t)_green` | 3 | 560 | 10 | 35 |\n",
    "| Red | `nbar(t)_red` | 4 | 665 | 10 | 30 |\n",
    "| Vegetation red edge | `nbar(t)_red_edge_1` | 5 | 705 | 20 | 15 |\n",
    "| Vegetation red edge | `nbar(t)_red_edge_2` | 6 | 740 | 20 | 15 |\n",
    "| Vegetation red edge | `nbar(t)_red_edge_3` | 7 | 783 | 20 | 20 |\n",
    "| NIR | `nbar(t)_nir_1` | 8 | 842 | 10 | 115 |\n",
    "| Narrow NIR | `nbar(t)_nir_2` | 8A | 865 | 20 | 20 |\n",
    "| Water vapour | N/A | 9 | 945 | 60 | 20 |\n",
    "| SWIR - Cirrus | N/A | 10 | 1375 | 60 | 20 |\n",
    "| SWIR | `nbar(t)_swir_2` | 11 | 1610 | 20 | 90 |\n",
    "| SWIR | `nbar(t)_swir_3` | 12 | 2190 | 20 | 180 |\n",
    "\n",
    "These bands cover the visible, near-infrared and short-wave infrared wave lengths.\n",
    "\n",
    "![Sentinel 2 bands](http://www.geosage.com/highview/figures/Sentinel2_Spectral_Bands.jpg)\n",
    "\n",
    "**Note** There are a number of additional datasets that are alse returned from our query. These are a combination of datasets used in the correction process, and layers relating to pixel quality. We will explore the pixel quality layers below."
   ]
  },
  {
   "cell_type": "markdown",
   "metadata": {},
   "source": [
    "## Plot this scene up as true colour image\n",
    "\n",
    "True colour images approximate what the human eye sees when looking at a landscape. Note that the function used for this true colour plot enhances the contrast between the bands, resulting in a colour-enhanced image."
   ]
  },
  {
   "cell_type": "code",
   "execution_count": null,
   "metadata": {
    "ExecuteTime": {
     "start_time": "2019-02-21T00:00:12.243Z"
    }
   },
   "outputs": [],
   "source": [
    "ds=s2"
   ]
  },
  {
   "cell_type": "code",
   "execution_count": null,
   "metadata": {
    "ExecuteTime": {
     "start_time": "2019-02-21T00:00:12.246Z"
    }
   },
   "outputs": [],
   "source": [
    "# DEAPlotting.three_band_image(ds, bands=['nbar_red', 'nbar_green', 'nbar_blue'],\n",
    "#                              contrast_enhance=True, time=0)"
   ]
  },
  {
   "cell_type": "markdown",
   "metadata": {},
   "source": [
    "## Plot this scene up as false colour image\n",
    "\n",
    "This plot uses the SWIR, NIR and green bands to accentuate the presence of water in the landscape."
   ]
  },
  {
   "cell_type": "code",
   "execution_count": null,
   "metadata": {
    "ExecuteTime": {
     "start_time": "2019-02-21T00:00:12.250Z"
    },
    "scrolled": false
   },
   "outputs": [],
   "source": [
    "# DEAPlotting.three_band_image(\n",
    "#     ds, bands=['nbar_swir_2', 'nbar_nir_1', 'nbar_green'], time=1)"
   ]
  },
  {
   "cell_type": "markdown",
   "metadata": {},
   "source": [
    "## Compare some scenes side-by-side"
   ]
  },
  {
   "cell_type": "code",
   "execution_count": null,
   "metadata": {
    "ExecuteTime": {
     "start_time": "2019-02-21T00:00:12.255Z"
    },
    "scrolled": false
   },
   "outputs": [],
   "source": [
    "# DEAPlotting.three_band_image_subplots(ds, bands=['nbar_swir_2', 'nbar_nir_1', 'nbar_green'],\n",
    "#                                       num_cols=3, figsize=[10, 10], wspace=0.35)"
   ]
  },
  {
   "cell_type": "code",
   "execution_count": null,
   "metadata": {
    "ExecuteTime": {
     "start_time": "2019-02-21T00:00:12.257Z"
    }
   },
   "outputs": [],
   "source": [
    "#get polygon name from the polygon path\n",
    "polyname = poly_path.split('/')[-1].split('.')[0]"
   ]
  },
  {
   "cell_type": "code",
   "execution_count": null,
   "metadata": {
    "ExecuteTime": {
     "start_time": "2019-02-21T00:00:12.260Z"
    }
   },
   "outputs": [],
   "source": [
    "savefilepath = '/g/data/r78/rjd547/WaterCompHackFeb2019/Sentinel2Data/'+polyname"
   ]
  },
  {
   "cell_type": "code",
   "execution_count": null,
   "metadata": {
    "ExecuteTime": {
     "start_time": "2019-02-21T00:00:12.264Z"
    }
   },
   "outputs": [],
   "source": [
    "filename=savefilepath"
   ]
  },
  {
   "cell_type": "markdown",
   "metadata": {},
   "source": [
    "#### this is a really annoying kludge to deal with the fact that new sentinel data has multiple data types and the functions were not written to cope"
   ]
  },
  {
   "cell_type": "code",
   "execution_count": null,
   "metadata": {
    "ExecuteTime": {
     "start_time": "2019-02-21T00:00:12.268Z"
    }
   },
   "outputs": [],
   "source": [
    "ds"
   ]
  },
  {
   "cell_type": "markdown",
   "metadata": {},
   "source": [
    "## Sneakily force fmask layer to int16 type"
   ]
  },
  {
   "cell_type": "code",
   "execution_count": null,
   "metadata": {
    "ExecuteTime": {
     "start_time": "2019-02-21T00:00:12.272Z"
    }
   },
   "outputs": [],
   "source": [
    "ds['fmask']=ds['fmask'].astype(np.int16)"
   ]
  },
  {
   "cell_type": "code",
   "execution_count": null,
   "metadata": {
    "ExecuteTime": {
     "start_time": "2019-02-21T00:00:12.274Z"
    }
   },
   "outputs": [],
   "source": [
    "ds"
   ]
  },
  {
   "cell_type": "code",
   "execution_count": null,
   "metadata": {
    "ExecuteTime": {
     "start_time": "2019-02-21T00:00:12.277Z"
    }
   },
   "outputs": [],
   "source": [
    "# ### here we drop all the bands with other data types. ###FIXME\n",
    "# ds = ds.drop([#'terrain_shadow',\n",
    "#                       #'fmask',\n",
    "#                       #'nbar_contiguity',\n",
    "#                       #'nbart_contiguity',\n",
    "#                      'azimuthal_exiting',\n",
    "#                      'azimuthal_incident',\n",
    "#                      'exiting',\n",
    "#                      'incident',\n",
    "#                      'relative_azimuth',\n",
    "#                      'relative_slope',\n",
    "#                      'satellite_azimuth',\n",
    "#                       'satellite_view',\n",
    "#                       'solar_azimuth',\n",
    "#                       'solar_zenith',\n",
    "#                       'nbar_coastal_aerosol'                      \n",
    "#                      ])\n",
    "\n",
    "# #EK_AEM2.isel(time=i)"
   ]
  },
  {
   "cell_type": "code",
   "execution_count": null,
   "metadata": {
    "ExecuteTime": {
     "start_time": "2019-02-21T00:00:12.280Z"
    }
   },
   "outputs": [],
   "source": [
    "ds"
   ]
  },
  {
   "cell_type": "code",
   "execution_count": null,
   "metadata": {
    "ExecuteTime": {
     "start_time": "2019-02-21T00:00:12.283Z"
    }
   },
   "outputs": [],
   "source": [
    "###Note: I munged this to change the datatype for S2\n",
    "def dataset_to_geotiff2(filename, data):\n",
    "\n",
    "    \"\"\"\n",
    "    this function uses rasterio and numpy to write a multi-band geotiff for one\n",
    "    timeslice, or for a single composite image. It assumes the input data is an\n",
    "    xarray dataset (note, dataset not dataarray) and that you have crs and affine\n",
    "    objects attached, and that you are using float data. future users\n",
    "    may wish to assert that these assumptions are correct.\n",
    "    Last modified: March 2018\n",
    "    Authors: Bex Dunn and Josh Sixsmith\n",
    "    Modified by: Claire Krause, Robbi Bishop-Taylor\n",
    "    inputs\n",
    "    filename - string containing filename to write out to\n",
    "    data - dataset to write out\n",
    "    Note: this function currently requires the data have lat/lon only, i.e. no\n",
    "    time dimension\n",
    "    \"\"\"\n",
    "\n",
    "    # Depreciation warning for write_geotiff\n",
    "    print(\"This function will be superceded by the 'write_geotiff' function from 'datacube.helpers'. \"\n",
    "          \"Please revise your notebooks to use this function instead\")\n",
    "\n",
    "    kwargs = {'driver': 'GTiff',\n",
    "              'count': len(data.data_vars),  # geomedian no time dim\n",
    "              'width': data.sizes['x'], 'height': data.sizes['y'],\n",
    "              'crs': data.crs.crs_str,\n",
    "              'transform': data.affine,\n",
    "              'dtype': list(data.data_vars.values())[0].values.dtype,\n",
    "              'nodata': 0,\n",
    "              'compress': 'deflate', 'zlevel': 4, 'predictor': 2}\n",
    "    # for ints use 2 for floats use 3}\n",
    "\n",
    "    with rasterio.open(filename, 'w', **kwargs) as src:\n",
    "        for i, band in enumerate(data.data_vars):\n",
    "            src.write(data[band].data, i + 1)"
   ]
  },
  {
   "cell_type": "markdown",
   "metadata": {},
   "source": [
    "### write the list of bands to a textfile"
   ]
  },
  {
   "cell_type": "code",
   "execution_count": null,
   "metadata": {
    "ExecuteTime": {
     "start_time": "2019-02-21T00:00:12.286Z"
    }
   },
   "outputs": [],
   "source": [
    "band_list =[]\n",
    "with open(filename+'band_list_s2.txt','w') as outfile: \n",
    "    for i, band in enumerate(ds.data_vars):\n",
    "        #print(str(f'{i+1} {band} \\n'))\n",
    "        outfile.write(str(f'{i+1} {band} \\n'))\n",
    "        #band_list.append([i+1,band])\n",
    "    #print(band_list)    "
   ]
  },
  {
   "cell_type": "markdown",
   "metadata": {},
   "source": [
    "### Write each date to a separate geotiff"
   ]
  },
  {
   "cell_type": "code",
   "execution_count": null,
   "metadata": {
    "ExecuteTime": {
     "start_time": "2019-02-21T00:00:12.290Z"
    }
   },
   "outputs": [],
   "source": [
    "print(filename)"
   ]
  },
  {
   "cell_type": "code",
   "execution_count": null,
   "metadata": {
    "ExecuteTime": {
     "start_time": "2019-02-21T00:00:12.296Z"
    }
   },
   "outputs": [],
   "source": [
    "#print the dates for which we have imagery and write to file\n",
    "for i in range(len(ds.time)):\n",
    "    date_s2 = str(ds.isel(time=i).time.data)[:-19]\n",
    "    filename2='{}s2_{}.tif'.format(filename,date_s2)\n",
    "    print(date_s2)\n",
    "    dataset_to_geotiff2(filename2, ds.isel(time=i))"
   ]
  },
  {
   "cell_type": "code",
   "execution_count": null,
   "metadata": {},
   "outputs": [],
   "source": []
  }
 ],
 "metadata": {
  "celltoolbar": "Raw Cell Format",
  "kernelspec": {
   "display_name": "Python [default]",
   "language": "python",
   "name": "python3"
  },
  "language_info": {
   "codemirror_mode": {
    "name": "ipython",
    "version": 3
   },
   "file_extension": ".py",
   "mimetype": "text/x-python",
   "name": "python",
   "nbconvert_exporter": "python",
   "pygments_lexer": "ipython3",
   "version": "3.6.6"
  },
  "toc": {
   "base_numbering": 1,
   "nav_menu": {},
   "number_sections": true,
   "sideBar": true,
   "skip_h1_title": false,
   "title_cell": "Table of Contents",
   "title_sidebar": "Contents",
   "toc_cell": false,
   "toc_position": {},
   "toc_section_display": "block",
   "toc_window_display": false
  }
 },
 "nbformat": 4,
 "nbformat_minor": 2
}
