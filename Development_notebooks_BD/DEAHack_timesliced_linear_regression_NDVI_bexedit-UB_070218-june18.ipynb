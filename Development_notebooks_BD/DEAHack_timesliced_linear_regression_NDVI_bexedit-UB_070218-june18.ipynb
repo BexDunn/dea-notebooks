{
 "cells": [
  {
   "cell_type": "markdown",
   "metadata": {},
   "source": [
    "This notebook demostrates how to load landsat data and bom rainfall grids, calculate NDVI, calculate the mass residual curve from the rainfall data, index the ndvi data by the averaged residual mass curve and run a linear regression on this indexed data. The application is to determine what change in vegetation condition occurs across years as a result of annual rainfall variability.\n",
    "\n",
    "Completed as part of the November 2017 DEA goehack\n",
    "\n",
    "Neil SYmington - neil.symington@ga.gov.au"
   ]
  },
  {
   "cell_type": "code",
   "execution_count": 1,
   "metadata": {
    "ExecuteTime": {
     "end_time": "2018-06-19T01:28:57.256737Z",
     "start_time": "2018-06-19T01:28:53.068131Z"
    }
   },
   "outputs": [],
   "source": [
    "#for writing to error files:\n",
    "from __future__ import print_function\n",
    "#get some libraries\n",
    "import datacube\n",
    "import xarray as xr\n",
    "from datacube.storage import masking\n",
    "#from datacube.storage.masking import mask_to_dict #think this is obsolete\n",
    "import json\n",
    "import pandas as pd\n",
    "import shapely\n",
    "from shapely.geometry import shape\n",
    "import numpy as np #need this for pq fuser\n",
    "from datetime import datetime\n",
    "from scipy import stats\n",
    "#libraries for polygon and polygon mask\n",
    "import fiona\n",
    "import shapely.geometry\n",
    "import rasterio.features\n",
    "import rasterio\n",
    "from datacube.utils import geometry\n",
    "from datacube.helpers import ga_pq_fuser\n",
    "from datacube.storage.masking import mask_invalid_data\n",
    "\n",
    "#for writing to netcdf\n",
    "from datacube.storage.storage import write_dataset_to_netcdf\n",
    "#dealing with system commands\n",
    "import sys\n",
    "import os.path\n",
    "\n",
    "from IPython.display import display\n",
    "import ipywidgets as widgets\n",
    "\n",
    "#####These not needed for raijin::::\n",
    "import matplotlib.pyplot as plt\n",
    "from matplotlib.backends.backend_pdf import PdfPages\n",
    "from matplotlib import pyplot as plt\n",
    "from matplotlib import cm\n",
    "import matplotlib.dates\n",
    "import matplotlib as mpl\n",
    "\n",
    "#suppress warnings thrown when using inequalities in numpy (the threshold values!)\n",
    "import warnings\n",
    "\n",
    "def eprint(*args, **kwargs):\n",
    "    print(*args, file=sys.stderr, **kwargs)"
   ]
  },
  {
   "cell_type": "code",
   "execution_count": 2,
   "metadata": {
    "ExecuteTime": {
     "end_time": "2018-06-19T01:28:57.272269Z",
     "start_time": "2018-06-19T01:28:57.260457Z"
    }
   },
   "outputs": [],
   "source": [
    "def load_nbart(sensor,query,bands_of_interest): \n",
    "    '''loads nbart data for a sensor, masks using pq, then filters out terrain -999s\n",
    "    function written 23-08-2017 based on dc v1.5.1'''  \n",
    "    dataset = []\n",
    "    product_name = '{}_{}_albers'.format(sensor, 'nbart')\n",
    "    print('loading {}'.format(product_name))\n",
    "    ds = dc.load(product=product_name, measurements=bands_of_interest,\n",
    "                 group_by='solar_day', **query)\n",
    "    #grab crs defs from loaded ds if ds exists\n",
    "    if ds:\n",
    "        crs = ds.crs\n",
    "        affine = ds.affine\n",
    "        print('loaded {}'.format(product_name))\n",
    "        mask_product = '{}_{}_albers'.format(sensor, 'pq')\n",
    "        sensor_pq = dc.load(product=mask_product, fuse_func=ga_pq_fuser,\n",
    "                            group_by='solar_day', **query)\n",
    "        if sensor_pq:\n",
    "            print('making mask {}'.format(mask_product))\n",
    "            cloud_free = masking.make_mask(sensor_pq.pixelquality,\n",
    "                                           cloud_acca='no_cloud',\n",
    "                                           cloud_shadow_acca = 'no_cloud_shadow',                           \n",
    "                                           cloud_shadow_fmask = 'no_cloud_shadow',\n",
    "                                           cloud_fmask='no_cloud',\n",
    "                                           blue_saturated = False,\n",
    "                                           green_saturated = False,\n",
    "                                           red_saturated = False,\n",
    "                                           nir_saturated = False,\n",
    "                                           swir1_saturated = False,\n",
    "                                           swir2_saturated = False,\n",
    "                                           contiguous=True)\n",
    "            ds = ds.where(cloud_free)\n",
    "            ds.attrs['crs'] = crs\n",
    "            ds.attrs['affine'] = affine\n",
    "            print('masked {} with {} and filtered terrain'.format(product_name,mask_product))\n",
    "            # nbarT is correctly used to correct terrain by replacing -999.0 with nan\n",
    "            ds=ds.where(ds!=-999.0)\n",
    "        else: \n",
    "            print('did not mask {} with {}'.format(product_name,mask_product))\n",
    "    else:\n",
    "        print ('did not load {}'.format(product_name)) \n",
    "\n",
    "    if len(ds)>0:\n",
    "        return ds\n",
    "    else:\n",
    "        return None"
   ]
  },
  {
   "cell_type": "code",
   "execution_count": 3,
   "metadata": {
    "ExecuteTime": {
     "end_time": "2018-06-19T01:28:57.985117Z",
     "start_time": "2018-06-19T01:28:57.274980Z"
    }
   },
   "outputs": [],
   "source": [
    "#tell the datacube which app to use\n",
    "dc = datacube.Datacube(app='dc-nbar')"
   ]
  },
  {
   "cell_type": "code",
   "execution_count": 4,
   "metadata": {
    "ExecuteTime": {
     "end_time": "2018-06-19T01:28:57.992147Z",
     "start_time": "2018-06-19T01:28:57.988421Z"
    }
   },
   "outputs": [],
   "source": [
    "#### DEFINE SPATIOTEMPORAL RANGE AND BANDS OF INTEREST\n",
    "#Define temporal range\n",
    "start_of_epoch = '1987-01-01'\n",
    "#start_of_epoch = '2016-01-01'\n",
    "#need a variable here that defines a rolling 'latest observation'\n",
    "end_of_epoch =  '2017-12-31'"
   ]
  },
  {
   "cell_type": "code",
   "execution_count": 5,
   "metadata": {
    "ExecuteTime": {
     "end_time": "2018-06-19T01:28:57.999334Z",
     "start_time": "2018-06-19T01:28:57.995372Z"
    }
   },
   "outputs": [],
   "source": [
    "#Define wavelengths/bands of interest, remove this kwarg to retrieve all bands\n",
    "bands_of_interest = [#'blue',\n",
    "                     #'green',\n",
    "                     'red',\n",
    "                     'nir',\n",
    "                     #'swir1',\n",
    "                     #'swir2'\n",
    "                     ]"
   ]
  },
  {
   "cell_type": "code",
   "execution_count": 7,
   "metadata": {
    "ExecuteTime": {
     "end_time": "2018-06-19T02:05:52.507445Z",
     "start_time": "2018-06-19T02:05:52.485525Z"
    }
   },
   "outputs": [
    {
     "name": "stdout",
     "output_type": "stream",
     "text": [
      "fels_sml_0\n"
     ]
    }
   ],
   "source": [
    "shape_file = ('/g/data/r78/rjd547/groundwater_activities/Burdekin/Burdekin_shapefiles/fels_sml.shp')\n",
    "# open all the shapes within the shape file\n",
    "shapes = fiona.open(shape_file)\n",
    "#choose the index of the polygon you want within the shape file\n",
    "i =0\n",
    "#copy attributes from shapefile and define shape_name\n",
    "geom_crs = geometry.CRS(shapes.crs_wkt)\n",
    "geo = shapes[i]['geometry']\n",
    "geom = geometry.Geometry(geo, crs=geom_crs)\n",
    "geom_bs = shapely.geometry.shape(shapes[i]['geometry'])\n",
    "shape_name = shape_file.split('/')[-1].split('.')[0]+'_'+str(i)\n",
    "print(shape_name)"
   ]
  },
  {
   "cell_type": "code",
   "execution_count": 8,
   "metadata": {
    "ExecuteTime": {
     "end_time": "2018-06-19T02:05:56.015978Z",
     "start_time": "2018-06-19T02:05:56.012489Z"
    }
   },
   "outputs": [],
   "source": [
    "query = {\n",
    "    'time': (start_of_epoch, end_of_epoch), 'geopolygon': geom,\n",
    "}"
   ]
  },
  {
   "cell_type": "code",
   "execution_count": 9,
   "metadata": {
    "ExecuteTime": {
     "end_time": "2018-06-19T02:05:56.778911Z",
     "start_time": "2018-06-19T02:05:56.774660Z"
    }
   },
   "outputs": [],
   "source": [
    "#If not using a polygon/polyline, enter lat/lon here manually\n",
    "#lat_max = -14.886385\n",
    "#lat_min = -14.921916\n",
    "#lon_max = 128.670053\n",
    "#lon_min = 128.62809\n",
    "#query['x'] = (lon_min, lon_max)\n",
    "#query['y'] = (lat_max, lat_min)"
   ]
  },
  {
   "cell_type": "code",
   "execution_count": 11,
   "metadata": {
    "ExecuteTime": {
     "end_time": "2018-06-19T02:15:10.244906Z",
     "start_time": "2018-06-19T02:06:32.435353Z"
    },
    "scrolled": false
   },
   "outputs": [
    {
     "name": "stdout",
     "output_type": "stream",
     "text": [
      "loading ls5_nbart_albers\n"
     ]
    },
    {
     "name": "stderr",
     "output_type": "stream",
     "text": [
      "/g/data/v10/public/modules/dea-env/20180405/lib/python3.6/site-packages/ipykernel_launcher.py:10: FutureWarning: casting an xarray.Dataset to a boolean will change in xarray v0.11 to only include data variables, not coordinates. Cast the Dataset.variables property instead to preserve existing behavior in a forwards compatible manner.\n",
      "  # Remove the CWD from sys.path while we load stuff.\n"
     ]
    },
    {
     "name": "stdout",
     "output_type": "stream",
     "text": [
      "loaded ls5_nbart_albers\n"
     ]
    },
    {
     "name": "stderr",
     "output_type": "stream",
     "text": [
      "/g/data/v10/public/modules/dea-env/20180405/lib/python3.6/site-packages/ipykernel_launcher.py:17: FutureWarning: casting an xarray.Dataset to a boolean will change in xarray v0.11 to only include data variables, not coordinates. Cast the Dataset.variables property instead to preserve existing behavior in a forwards compatible manner.\n"
     ]
    },
    {
     "name": "stdout",
     "output_type": "stream",
     "text": [
      "making mask ls5_pq_albers\n",
      "masked ls5_nbart_albers with ls5_pq_albers and filtered terrain\n"
     ]
    },
    {
     "name": "stderr",
     "output_type": "stream",
     "text": [
      "/g/data/v10/public/modules/dea-env/20180405/lib/python3.6/site-packages/ipykernel_launcher.py:42: FutureWarning: calling len() on an xarray.Dataset will change in xarray v0.11 to only include data variables, not coordinates. Call len() on the Dataset.variables property instead, like ``len(ds.variables)``, to preserve existing behavior in a forwards compatible manner.\n"
     ]
    },
    {
     "name": "stdout",
     "output_type": "stream",
     "text": [
      "loading ls7_nbart_albers\n"
     ]
    },
    {
     "name": "stderr",
     "output_type": "stream",
     "text": [
      "/g/data/v10/public/modules/dea-env/20180405/lib/python3.6/site-packages/ipykernel_launcher.py:10: FutureWarning: casting an xarray.Dataset to a boolean will change in xarray v0.11 to only include data variables, not coordinates. Cast the Dataset.variables property instead to preserve existing behavior in a forwards compatible manner.\n",
      "  # Remove the CWD from sys.path while we load stuff.\n"
     ]
    },
    {
     "name": "stdout",
     "output_type": "stream",
     "text": [
      "loaded ls7_nbart_albers\n"
     ]
    },
    {
     "name": "stderr",
     "output_type": "stream",
     "text": [
      "/g/data/v10/public/modules/dea-env/20180405/lib/python3.6/site-packages/ipykernel_launcher.py:17: FutureWarning: casting an xarray.Dataset to a boolean will change in xarray v0.11 to only include data variables, not coordinates. Cast the Dataset.variables property instead to preserve existing behavior in a forwards compatible manner.\n"
     ]
    },
    {
     "name": "stdout",
     "output_type": "stream",
     "text": [
      "making mask ls7_pq_albers\n",
      "masked ls7_nbart_albers with ls7_pq_albers and filtered terrain\n"
     ]
    },
    {
     "name": "stderr",
     "output_type": "stream",
     "text": [
      "/g/data/v10/public/modules/dea-env/20180405/lib/python3.6/site-packages/ipykernel_launcher.py:42: FutureWarning: calling len() on an xarray.Dataset will change in xarray v0.11 to only include data variables, not coordinates. Call len() on the Dataset.variables property instead, like ``len(ds.variables)``, to preserve existing behavior in a forwards compatible manner.\n"
     ]
    },
    {
     "name": "stdout",
     "output_type": "stream",
     "text": [
      "loading ls8_nbart_albers\n"
     ]
    },
    {
     "name": "stderr",
     "output_type": "stream",
     "text": [
      "/g/data/v10/public/modules/dea-env/20180405/lib/python3.6/site-packages/ipykernel_launcher.py:10: FutureWarning: casting an xarray.Dataset to a boolean will change in xarray v0.11 to only include data variables, not coordinates. Cast the Dataset.variables property instead to preserve existing behavior in a forwards compatible manner.\n",
      "  # Remove the CWD from sys.path while we load stuff.\n"
     ]
    },
    {
     "name": "stdout",
     "output_type": "stream",
     "text": [
      "loaded ls8_nbart_albers\n",
      "making mask ls8_pq_albers\n",
      "masked ls8_nbart_albers with ls8_pq_albers and filtered terrain\n"
     ]
    },
    {
     "name": "stderr",
     "output_type": "stream",
     "text": [
      "/g/data/v10/public/modules/dea-env/20180405/lib/python3.6/site-packages/ipykernel_launcher.py:17: FutureWarning: casting an xarray.Dataset to a boolean will change in xarray v0.11 to only include data variables, not coordinates. Cast the Dataset.variables property instead to preserve existing behavior in a forwards compatible manner.\n",
      "/g/data/v10/public/modules/dea-env/20180405/lib/python3.6/site-packages/ipykernel_launcher.py:42: FutureWarning: calling len() on an xarray.Dataset will change in xarray v0.11 to only include data variables, not coordinates. Call len() on the Dataset.variables property instead, like ``len(ds.variables)``, to preserve existing behavior in a forwards compatible manner.\n"
     ]
    }
   ],
   "source": [
    "#this is done separately instead of in a loop because the datasets can be quite large.\n",
    "#currently this is a way of memory handling -there is probably a better way of doing it.\n",
    "sensor1_nbart=load_nbart('ls5',query,bands_of_interest)\n",
    "sensor2_nbart=load_nbart('ls7',query,bands_of_interest)\n",
    "sensor3_nbart=load_nbart('ls8',query,bands_of_interest)"
   ]
  },
  {
   "cell_type": "code",
   "execution_count": null,
   "metadata": {
    "ExecuteTime": {
     "end_time": "2018-06-19T01:28:58.485077Z",
     "start_time": "2018-06-19T01:28:53.128Z"
    }
   },
   "outputs": [],
   "source": [
    "##______these cells edited by Bex, to check effect of concatenating and sorting on the results----"
   ]
  },
  {
   "cell_type": "code",
   "execution_count": 12,
   "metadata": {
    "ExecuteTime": {
     "end_time": "2018-06-19T02:15:10.590653Z",
     "start_time": "2018-06-19T02:15:10.247702Z"
    }
   },
   "outputs": [],
   "source": [
    "#make an array of all the clean sensor data\n",
    "sensor_list = []\n",
    "for sensor in [sensor1_nbart, sensor2_nbart, sensor3_nbart]:\n",
    "    if sensor is not None:\n",
    "        sensor_list.append(sensor)\n",
    "all_sens = xr.concat(sensor_list,dim='time')\n",
    "#steal affine for use in transforming image coords later on\n",
    "affine = all_sens.affine"
   ]
  },
  {
   "cell_type": "code",
   "execution_count": 13,
   "metadata": {
    "ExecuteTime": {
     "end_time": "2018-06-19T02:15:10.599545Z",
     "start_time": "2018-06-19T02:15:10.593741Z"
    }
   },
   "outputs": [],
   "source": [
    "del sensor1_nbart\n",
    "del sensor2_nbart\n",
    "del sensor3_nbart\n",
    "del sensor_list"
   ]
  },
  {
   "cell_type": "code",
   "execution_count": 14,
   "metadata": {
    "ExecuteTime": {
     "end_time": "2018-06-19T02:15:10.607664Z",
     "start_time": "2018-06-19T02:15:10.601703Z"
    }
   },
   "outputs": [],
   "source": [
    "### sort by time so that sensors are interleaved properly"
   ]
  },
  {
   "cell_type": "code",
   "execution_count": 15,
   "metadata": {
    "ExecuteTime": {
     "end_time": "2018-06-19T02:15:11.856011Z",
     "start_time": "2018-06-19T02:15:10.609836Z"
    }
   },
   "outputs": [],
   "source": [
    "all_sens =all_sens.sortby('time')"
   ]
  },
  {
   "cell_type": "code",
   "execution_count": 16,
   "metadata": {
    "ExecuteTime": {
     "end_time": "2018-06-19T02:15:11.861992Z",
     "start_time": "2018-06-19T02:15:11.858963Z"
    },
    "scrolled": false
   },
   "outputs": [],
   "source": [
    "# all_sens = xr.concat([sensor1_nbart, sensor2_nbart, sensor3_nbart], 'time')\n",
    "# #all_sens.sortby('time')"
   ]
  },
  {
   "cell_type": "code",
   "execution_count": 17,
   "metadata": {
    "ExecuteTime": {
     "end_time": "2018-06-19T02:15:12.550913Z",
     "start_time": "2018-06-19T02:15:11.864431Z"
    }
   },
   "outputs": [],
   "source": [
    "all_sens['ndvi'] = (all_sens['nir'] - all_sens['red']) / (all_sens['nir'] + all_sens['red'])"
   ]
  },
  {
   "cell_type": "markdown",
   "metadata": {},
   "source": [
    "# Load bom_rainfall grids from the datacube (or from file)"
   ]
  },
  {
   "cell_type": "code",
   "execution_count": 18,
   "metadata": {
    "ExecuteTime": {
     "end_time": "2018-06-19T02:15:12.556682Z",
     "start_time": "2018-06-19T02:15:12.553560Z"
    }
   },
   "outputs": [],
   "source": [
    "#setup rain directory where we have put our pickle data\n",
    "rainpath ='/home/547/rjd547/jupyter_notebooks/GWandDEA_bex_ness/GWDEAHack/Timesliced_Regression/From_Neil_TR'"
   ]
  },
  {
   "cell_type": "code",
   "execution_count": 19,
   "metadata": {
    "ExecuteTime": {
     "end_time": "2018-06-19T02:15:12.587967Z",
     "start_time": "2018-06-19T02:15:12.559117Z"
    }
   },
   "outputs": [],
   "source": [
    "# #setup rain directory where we have put our pickle data\n",
    "# rainpath ='/g/data1/zk34/njs547/Rainfall_EK'"
   ]
  },
  {
   "cell_type": "code",
   "execution_count": 20,
   "metadata": {
    "ExecuteTime": {
     "end_time": "2018-06-19T02:15:12.594568Z",
     "start_time": "2018-06-19T02:15:12.590639Z"
    }
   },
   "outputs": [
    {
     "name": "stdout",
     "output_type": "stream",
     "text": [
      "OS error: [Errno 2] No such file or directory: '/home/547/rjd547/jupyter_notebooks/GWandDEA_bex_ness/GWDEAHack/Timesliced_Regression/From_Neil_TR'\n"
     ]
    }
   ],
   "source": [
    "try:\n",
    "        os.mkdir(rainpath)\n",
    "except OSError as err:\n",
    "        print(\"OS error: {0}\".format(err))"
   ]
  },
  {
   "cell_type": "code",
   "execution_count": 21,
   "metadata": {
    "ExecuteTime": {
     "end_time": "2018-06-19T02:15:12.599985Z",
     "start_time": "2018-06-19T02:15:12.597098Z"
    }
   },
   "outputs": [],
   "source": [
    "# Edit query if need be\n",
    "\n",
    "query['time'] = ('1978-01-01', '2017-11-01')"
   ]
  },
  {
   "cell_type": "code",
   "execution_count": 22,
   "metadata": {
    "ExecuteTime": {
     "end_time": "2018-06-19T02:15:12.625502Z",
     "start_time": "2018-06-19T02:15:12.602547Z"
    }
   },
   "outputs": [
    {
     "ename": "FileNotFoundError",
     "evalue": "[Errno 2] No such file or directory: '/home/547/rjd547/jupyter_notebooks/GWandDEA_bex_ness/GWDEAHack/Timesliced_Regression/From_Neil_TR/DEA_Hack_rainfall_data_L.pkl'",
     "output_type": "error",
     "traceback": [
      "\u001b[0;31m---------------------------------------------------------------------------\u001b[0m",
      "\u001b[0;31mFileNotFoundError\u001b[0m                         Traceback (most recent call last)",
      "\u001b[0;32m<ipython-input-22-dc128db8c574>\u001b[0m in \u001b[0;36m<module>\u001b[0;34m()\u001b[0m\n\u001b[1;32m      3\u001b[0m \u001b[0;31m# try:\u001b[0m\u001b[0;34m\u001b[0m\u001b[0;34m\u001b[0m\u001b[0m\n\u001b[1;32m      4\u001b[0m \u001b[0;31m#try to get the rain data from a pickle file saved earlier\u001b[0m\u001b[0;34m\u001b[0m\u001b[0;34m\u001b[0m\u001b[0m\n\u001b[0;32m----> 5\u001b[0;31m \u001b[0mf\u001b[0m \u001b[0;34m=\u001b[0m \u001b[0mopen\u001b[0m\u001b[0;34m(\u001b[0m\u001b[0mrainpath\u001b[0m\u001b[0;34m+\u001b[0m\u001b[0;34m'/DEA_Hack_rainfall_data_L.pkl'\u001b[0m\u001b[0;34m,\u001b[0m \u001b[0;34m'rb'\u001b[0m\u001b[0;34m)\u001b[0m\u001b[0;34m\u001b[0m\u001b[0m\n\u001b[0m\u001b[1;32m      6\u001b[0m \u001b[0mrain\u001b[0m \u001b[0;34m=\u001b[0m \u001b[0mpickle\u001b[0m\u001b[0;34m.\u001b[0m\u001b[0mload\u001b[0m\u001b[0;34m(\u001b[0m\u001b[0mf\u001b[0m\u001b[0;34m)\u001b[0m\u001b[0;34m\u001b[0m\u001b[0m\n\u001b[1;32m      7\u001b[0m \u001b[0mStudysite_rain\u001b[0m \u001b[0;34m=\u001b[0m \u001b[0mrain\u001b[0m\u001b[0;34m[\u001b[0m\u001b[0;34m'Studysite_rain'\u001b[0m\u001b[0;34m]\u001b[0m\u001b[0;34m\u001b[0m\u001b[0m\n",
      "\u001b[0;31mFileNotFoundError\u001b[0m: [Errno 2] No such file or directory: '/home/547/rjd547/jupyter_notebooks/GWandDEA_bex_ness/GWDEAHack/Timesliced_Regression/From_Neil_TR/DEA_Hack_rainfall_data_L.pkl'"
     ]
    }
   ],
   "source": [
    "import pickle\n",
    "\n",
    "# try:\n",
    "#try to get the rain data from a pickle file saved earlier\n",
    "f = open(rainpath+'/DEA_Hack_rainfall_data_L.pkl', 'rb')\n",
    "rain = pickle.load(f)\n",
    "Studysite_rain = rain['Studysite_rain']\n",
    "print('loaded rainfall grids from file:'+rainpath+'DEA_Hack_rainfall_data.pkl')\n",
    "f.close()\n",
    "# except:\n",
    "#     #Grab bom_rainfall_grids from the datacube\n",
    "#     print('loading bom rainfall grids from datacube')\n",
    "#     Studysite_rain = dc.load(product = 'bom_rainfall_grids', **query)\n",
    "#     #make a dictionary of the data we want to save\n",
    "#     vars2pickle = {'Studysite_rain':Studysite_rain}\n",
    "#     f = open(rainpath+'/DEA_Hack_rainfall_data_L.pkl', 'wb')\n",
    "#     pickle.dump(vars2pickle,f) \n",
    "#     print('saving rainfall data to file')\n",
    "#     #pickle.dump(vars2pickle,f,protocol = 2, fix_imports = True) #maintain compatibility with python 2\n",
    "#     f.close()"
   ]
  },
  {
   "cell_type": "code",
   "execution_count": 23,
   "metadata": {
    "ExecuteTime": {
     "end_time": "2018-06-19T04:33:47.477995Z",
     "start_time": "2018-06-19T04:33:47.451760Z"
    }
   },
   "outputs": [
    {
     "ename": "NameError",
     "evalue": "name 'Studysite_rain' is not defined",
     "output_type": "error",
     "traceback": [
      "\u001b[0;31m---------------------------------------------------------------------------\u001b[0m",
      "\u001b[0;31mNameError\u001b[0m                                 Traceback (most recent call last)",
      "\u001b[0;32m<ipython-input-23-bb5653cf974f>\u001b[0m in \u001b[0;36m<module>\u001b[0;34m()\u001b[0m\n\u001b[1;32m      1\u001b[0m \u001b[0mplt\u001b[0m\u001b[0;34m.\u001b[0m\u001b[0mfigure\u001b[0m\u001b[0;34m(\u001b[0m\u001b[0mfigsize\u001b[0m\u001b[0;34m=\u001b[0m\u001b[0;34m(\u001b[0m\u001b[0;36m4\u001b[0m\u001b[0;34m,\u001b[0m\u001b[0;36m3\u001b[0m\u001b[0;34m)\u001b[0m\u001b[0;34m)\u001b[0m\u001b[0;34m\u001b[0m\u001b[0m\n\u001b[0;32m----> 2\u001b[0;31m \u001b[0mfig\u001b[0m \u001b[0;34m=\u001b[0m \u001b[0mStudysite_rain\u001b[0m\u001b[0;34m.\u001b[0m\u001b[0mrainfall\u001b[0m\u001b[0;34m.\u001b[0m\u001b[0misel\u001b[0m\u001b[0;34m(\u001b[0m\u001b[0mtime\u001b[0m \u001b[0;34m=\u001b[0m \u001b[0;34m[\u001b[0m\u001b[0;36m0\u001b[0m\u001b[0;34m]\u001b[0m\u001b[0;34m)\u001b[0m\u001b[0;34m.\u001b[0m\u001b[0mplot\u001b[0m\u001b[0;34m(\u001b[0m\u001b[0;34m)\u001b[0m\u001b[0;34m\u001b[0m\u001b[0m\n\u001b[0m\u001b[1;32m      3\u001b[0m \u001b[0;31m#reverse the colourmap so high rainfall is blue\u001b[0m\u001b[0;34m\u001b[0m\u001b[0;34m\u001b[0m\u001b[0m\n\u001b[1;32m      4\u001b[0m \u001b[0mfig\u001b[0m\u001b[0;34m.\u001b[0m\u001b[0mset_cmap\u001b[0m\u001b[0;34m(\u001b[0m\u001b[0;34m'viridis_r'\u001b[0m\u001b[0;34m)\u001b[0m\u001b[0;34m\u001b[0m\u001b[0m\n\u001b[1;32m      5\u001b[0m \u001b[0;31m#print (Studysite_rain_masked)\u001b[0m\u001b[0;34m\u001b[0m\u001b[0;34m\u001b[0m\u001b[0m\n",
      "\u001b[0;31mNameError\u001b[0m: name 'Studysite_rain' is not defined"
     ]
    },
    {
     "data": {
      "text/plain": [
       "<Figure size 288x216 with 0 Axes>"
      ]
     },
     "metadata": {},
     "output_type": "display_data"
    }
   ],
   "source": [
    "plt.figure(figsize=(4,3))\n",
    "fig = Studysite_rain.rainfall.isel(time = [0]).plot()\n",
    "#reverse the colourmap so high rainfall is blue\n",
    "fig.set_cmap('viridis_r')\n",
    "#print (Studysite_rain_masked)\n",
    "plt.show()"
   ]
  },
  {
   "cell_type": "code",
   "execution_count": null,
   "metadata": {
    "ExecuteTime": {
     "end_time": "2018-06-19T02:15:12.628396Z",
     "start_time": "2018-06-19T02:06:38.890Z"
    }
   },
   "outputs": [],
   "source": [
    "#resample xarray Dataset Studysite_rain by year 'AS' \n",
    "month_sum = Studysite_rain.resample('MS', dim='time', how='sum', keep_attrs=True)"
   ]
  },
  {
   "cell_type": "code",
   "execution_count": null,
   "metadata": {
    "ExecuteTime": {
     "end_time": "2018-06-19T02:15:12.629764Z",
     "start_time": "2018-06-19T02:06:39.082Z"
    }
   },
   "outputs": [],
   "source": [
    "print(month_sum)"
   ]
  },
  {
   "cell_type": "code",
   "execution_count": null,
   "metadata": {
    "ExecuteTime": {
     "end_time": "2018-06-19T02:15:12.631525Z",
     "start_time": "2018-06-19T02:06:39.372Z"
    }
   },
   "outputs": [],
   "source": [
    "# PLot\n",
    "\n",
    "month_sum.rainfall.mean(dim = ['longitude', 'latitude']).plot()\n",
    "print(month_sum.time)\n",
    "plt.show()"
   ]
  },
  {
   "cell_type": "code",
   "execution_count": null,
   "metadata": {
    "ExecuteTime": {
     "end_time": "2018-06-19T02:15:12.633154Z",
     "start_time": "2018-06-19T02:06:39.592Z"
    }
   },
   "outputs": [],
   "source": [
    "# This function calculates the residual mass rainfall curve\n",
    "\n",
    "def calculate_residual_mass_curve(a):\n",
    "    # find the number of time steps (ie. years)\n",
    "    \n",
    "    n = len(a.rainfall.time)/12\n",
    "    \n",
    "    # First calculate a cumulative rainfall xarray from the rainfall data\n",
    "    \n",
    "    arr = a.rainfall.values\n",
    "    \n",
    "    cum_rf = np.cumsum(arr, axis = 0)\n",
    "    \n",
    "    cum_rf_xr = xr.DataArray(cum_rf, dims = ('time', 'latitude', 'longitude'),\n",
    "                            coords = [a.time, a.latitude, a.longitude])\n",
    "    \n",
    "    # NOw we will calculate a cumulative rainfall assuming average rainfall on a month by month basis\n",
    "    # Find the average of all months\n",
    "    ave_months = a.rainfall.groupby('time.month').mean('time').values\n",
    "   \n",
    "    # In the case that we are not starting from January we will need to reorder the array\n",
    "    \n",
    "    start_month = a.time[0].dt.month.values - 1\n",
    "    \n",
    "    ave_month = np.concatenate((ave_months[start_month:,:,:], ave_months[0:start_month,:,:]), axis = 0)\n",
    "\n",
    "    \n",
    "    # Tile an array so that we can run a cumulative sum on it\n",
    "    tiled_ave = np.tile(ave_months, (round(n), 1, 1))\n",
    "    \n",
    "    # In the case that we have residual months remove them from the tiled array\n",
    "    if (n).is_integer() == False:\n",
    "        month_remainder = int(round((n%1) * 12))\n",
    "\n",
    "        tiled_ave = tiled_ave[:int(-month_remainder),:,:]\n",
    "        \n",
    "    # Generate the cumulative sum of rainfall one would get assuming average rainfall every month\n",
    "    cum_ave = np.cumsum(tiled_ave, axis = 0)\n",
    "    \n",
    "    cum_ave_xr = xr.DataArray(cum_ave, dims = ('time', 'latitude', 'longitude'),\n",
    "                              coords = [a.time, a.latitude, a.longitude])\n",
    "    \n",
    "    # The mass residual curve is the difference between the cumulative rainfall data and the cumulative\n",
    "    # rainfall one would get iff the average always occured\n",
    "    mass_res_curve = cum_rf_xr - cum_ave_xr\n",
    "    \n",
    "    return mass_res_curve"
   ]
  },
  {
   "cell_type": "code",
   "execution_count": null,
   "metadata": {
    "ExecuteTime": {
     "end_time": "2018-06-19T02:15:12.634757Z",
     "start_time": "2018-06-19T02:06:39.792Z"
    },
    "scrolled": true
   },
   "outputs": [],
   "source": [
    "mass_res_curve = calculate_residual_mass_curve(month_sum)    \n",
    "\n",
    "\n",
    "plt.show()"
   ]
  },
  {
   "cell_type": "code",
   "execution_count": null,
   "metadata": {
    "ExecuteTime": {
     "end_time": "2018-06-19T02:15:12.636137Z",
     "start_time": "2018-06-19T02:06:40.036Z"
    }
   },
   "outputs": [],
   "source": [
    "\n",
    "# NOw grounp the mass residual curve by calendar year\n",
    "yearly_mass_res = mass_res_curve.groupby('time.year').mean()\n",
    "\n",
    "yearly_mass_res\n",
    "\n"
   ]
  },
  {
   "cell_type": "code",
   "execution_count": null,
   "metadata": {
    "ExecuteTime": {
     "end_time": "2018-06-19T02:15:12.637509Z",
     "start_time": "2018-06-19T02:06:40.274Z"
    }
   },
   "outputs": [],
   "source": [
    "# Set name for meging purposes\n",
    "\n",
    "yearly_mass_res.name = 'Averaged mass residual'"
   ]
  },
  {
   "cell_type": "code",
   "execution_count": null,
   "metadata": {
    "ExecuteTime": {
     "end_time": "2018-06-19T02:15:12.639027Z",
     "start_time": "2018-06-19T02:06:40.696Z"
    }
   },
   "outputs": [],
   "source": [
    "yearly_mass_res.plot()\n",
    "plt.show()"
   ]
  },
  {
   "cell_type": "code",
   "execution_count": null,
   "metadata": {
    "ExecuteTime": {
     "end_time": "2018-06-19T02:15:12.640573Z",
     "start_time": "2018-06-19T02:06:41.016Z"
    }
   },
   "outputs": [],
   "source": [
    "# Now slice the data array between the years of interest\n",
    "\n",
    "sliced_yearly_mass_res = yearly_mass_res.loc[dict(year = slice(start_of_epoch.split('-')[0], end_of_epoch.split('-')[0]))]\n",
    "len(sliced_yearly_mass_res)"
   ]
  },
  {
   "cell_type": "code",
   "execution_count": null,
   "metadata": {
    "ExecuteTime": {
     "end_time": "2018-06-19T02:15:12.642046Z",
     "start_time": "2018-06-19T02:06:41.440Z"
    }
   },
   "outputs": [],
   "source": [
    "# NOw we want to split the residual mass into trending periods. For this we will define a function for extracting\n",
    "# linear regression slopes on variable window sizes with various start and end points\n",
    "\n",
    "def extract_trend(mass_res, min_length = 4):\n",
    "    \n",
    "    results = []\n",
    "    \n",
    "    for i in range(min_length, len(mass_res) + 1):\n",
    "        for j in range(0, len(mass_res) - (i - 1)):\n",
    "\n",
    "            arr = mass_res.values[j: j + i]\n",
    "\n",
    "            start_yr = mass_res[j].year.values\n",
    "            end_yr = mass_res[j + i - 1].year.values\n",
    "            slope, intercept, r, p_value, std_err = stats.linregress(np.arange(0,len(arr)), arr)\n",
    "            \n",
    "            results.append([start_yr, end_yr, slope, p_value, r**2])\n",
    "            \n",
    "\n",
    "    return np.array(results)\n",
    "\n",
    "\n",
    "a = extract_trend(sliced_yearly_mass_res, 5)                        \n",
    "            "
   ]
  },
  {
   "cell_type": "code",
   "execution_count": null,
   "metadata": {
    "ExecuteTime": {
     "end_time": "2018-06-19T02:15:12.643455Z",
     "start_time": "2018-06-19T02:06:41.820Z"
    }
   },
   "outputs": [],
   "source": [
    "print(a[-1])"
   ]
  },
  {
   "cell_type": "code",
   "execution_count": null,
   "metadata": {
    "ExecuteTime": {
     "end_time": "2018-06-19T02:15:12.645074Z",
     "start_time": "2018-06-19T02:06:42.122Z"
    }
   },
   "outputs": [],
   "source": [
    "# Find the greatest positive trend. For this we need to weight up multiple criteria. We want a strong trend (ie. large\n",
    "# slope coefficient) as well as a long time period and statistical significance (ie. p_value < 0.05)\n",
    "\n",
    "# To examine this a bit more we plot \n",
    "\n",
    "\n",
    "# Keep only positive a\n",
    "\n",
    "pos_a = a[a[:,2] > 0]\n",
    "\n",
    "nyears = pos_a[:,1] - pos_a[:,0]\n",
    "slopes = pos_a[:,2]\n",
    "r_squ = pos_a[:,4]\n",
    "\n",
    "plt.scatter(x = nyears, y = slopes, c = r_squ, cmap=cm.jet)\n",
    "plt.colorbar()\n",
    "plt.show()"
   ]
  },
  {
   "cell_type": "code",
   "execution_count": null,
   "metadata": {
    "ExecuteTime": {
     "end_time": "2018-06-19T02:15:12.646557Z",
     "start_time": "2018-06-19T02:06:42.512Z"
    }
   },
   "outputs": [],
   "source": [
    "# This problem really becomes one of weighing up criteria. For the sake of this we will produce a 'function' for decision\n",
    "# making\n",
    "\n",
    "def scale(a):\n",
    "    scaled = np.array([np.float(i)/np.sum(a) for i in a])\n",
    "\n",
    "    return scaled\n",
    "\n",
    "def pick_best_range(slope, nyears, r_squ):\n",
    "    \n",
    "    # first scale the data so the magnitude matters less\n",
    "    \n",
    "    slope_sc = scale(slope)\n",
    "    nyears_sc = scale(nyears)\n",
    "    r_squ_sc = scale(r_squ)\n",
    "    \n",
    "    # define coefficients\n",
    "    a = 0.7\n",
    "    b = 1\n",
    "    c = 1\n",
    "    \n",
    "    # multiply the dataests by these numbers\n",
    "    \n",
    "    slope_wtd = a * slope_sc\n",
    "    nyears_wtd = b * nyears_sc\n",
    "    r_squ_wtd = c * r_squ_sc\n",
    "    \n",
    "    # Sum the criteria\n",
    "    \n",
    "    score = np.sum([slope_wtd, nyears_wtd, r_squ_wtd], axis = 0)\n",
    "    \n",
    "    \n",
    "    # Find the maximum of the summed array\n",
    "    \n",
    "    idx = np.argmax(score)\n",
    "    \n",
    "    return idx\n",
    "\n"
   ]
  },
  {
   "cell_type": "code",
   "execution_count": null,
   "metadata": {
    "ExecuteTime": {
     "end_time": "2018-06-19T02:15:12.648048Z",
     "start_time": "2018-06-19T02:06:42.778Z"
    }
   },
   "outputs": [],
   "source": [
    "best_idx = pick_best_range(slopes, nyears, r_squ)\n",
    "pos_year_range = pos_a[best_idx,0:2]\n",
    "print(pos_year_range)"
   ]
  },
  {
   "cell_type": "code",
   "execution_count": null,
   "metadata": {
    "ExecuteTime": {
     "end_time": "2018-06-19T02:15:12.650109Z",
     "start_time": "2018-06-19T02:06:43.112Z"
    }
   },
   "outputs": [],
   "source": [
    "# Do the same for the negative trend\n",
    "\n",
    "\n",
    "# Keep only negative a\n",
    "neg_a = a[a[:,2] < 0]\n",
    "\n",
    "nyears = neg_a[:,1] - neg_a[:,0]\n",
    "slopes = neg_a[:,2]\n",
    "r_squ = neg_a[:,4]\n",
    "\n",
    "plt.scatter(x = nyears, y = slopes, c = r_squ, cmap=cm.jet)\n",
    "plt.colorbar()\n",
    "plt.show()"
   ]
  },
  {
   "cell_type": "code",
   "execution_count": null,
   "metadata": {
    "ExecuteTime": {
     "end_time": "2018-06-19T02:15:12.651595Z",
     "start_time": "2018-06-19T02:06:43.478Z"
    }
   },
   "outputs": [],
   "source": [
    "best_idx = pick_best_range(-1 * slopes, nyears, r_squ)\n",
    "neg_year_range = neg_a[best_idx,0:2]\n",
    "print(neg_year_range)"
   ]
  },
  {
   "cell_type": "code",
   "execution_count": null,
   "metadata": {
    "ExecuteTime": {
     "end_time": "2018-06-19T02:15:12.653150Z",
     "start_time": "2018-06-19T02:06:43.902Z"
    },
    "scrolled": false
   },
   "outputs": [],
   "source": [
    "# Now we get back to our nbar data and we calculate the 25th percentile NDVI for each year\n",
    "\n",
    "def quantile(x):\n",
    "    return x.quantile(0.25, dim = 'time')\n",
    "\n",
    "\n",
    "ndvi_p25 = all_sens.ndvi.groupby('time.year').apply(quantile)\n",
    "\n",
    "ndvi_p25"
   ]
  },
  {
   "cell_type": "code",
   "execution_count": null,
   "metadata": {
    "ExecuteTime": {
     "end_time": "2018-06-19T02:15:12.654613Z",
     "start_time": "2018-06-19T02:06:44.376Z"
    }
   },
   "outputs": [],
   "source": [
    "from scipy import stats\n",
    "\n",
    "\n",
    "#This function applies a linear regression to a grid over a set time interval\n",
    "def linear_regression_grid(input_array, mask_no_trend = False, NDVI = False):\n",
    "    '''\n",
    "    This function applies a linear regression to a grid over a set time interval by looping through lat and lon \n",
    "    and calculating the linear regression through time for each pixel.\n",
    "    '''\n",
    "    print(input_array.year)\n",
    "    ylen = len(input_array.y)\n",
    "    xlen = len(input_array.x)\n",
    "    from itertools import product\n",
    "    coordinates = product(range(ylen), range(xlen))\n",
    "\n",
    "    slopes = np.zeros((ylen, xlen))\n",
    "    p_values = np.zeros((ylen, xlen))\n",
    "    print('Slope shape is ', slopes.shape)\n",
    "\n",
    "    for y, x in coordinates:\n",
    "        val = input_array.isel(x = x, y = y)\n",
    "        # If analysing NDVI data replace negative numbers which are spurious for NDVI with nans\n",
    "        if NDVI == True:\n",
    "            val[val<0] = np.nan\n",
    "\n",
    "            # Check that we have at least three values to perform our linear regression on\n",
    "            if np.count_nonzero(~np.isnan(val)) > 3:\n",
    "                if str(val.dims[0]) == 'month':\n",
    "                    slopes[y, x], intercept, r_sq, p_values[y, x], std_err = stats.linregress(val.month,val)\n",
    "                elif str(val.dims[0]) == 'year':\n",
    "                    slopes[y, x], intercept, r_sq, p_values[y, x], std_err = stats.linregress(val.year,val)\n",
    "            else:\n",
    "                slopes[y, x] = np.nan\n",
    "                intercept = np.nan\n",
    "                r_sq = np.nan\n",
    "                p_values[y, x] = np.nan\n",
    "        else:\n",
    "            if str(val.dims[0]) == 'month':\n",
    "                slopes[y, x], intercept, r_sq, p_values[y, x], std_err = stats.linregress(val.month,val)\n",
    "            elif str(val.dims[0]) == 'year':\n",
    "                slopes[y, x], intercept, r_sq, p_values[y, x], std_err = stats.linregress(val.year,val)\n",
    "\n",
    "    #Get coordinates from the original xarray\n",
    "    lat  = input_array.coords['y']\n",
    "    long = input_array.coords['x']\n",
    "    #Mask out values with insignificant trends (ie. p-value > 0.05) if user wants\n",
    "    if mask_no_trend == True:\n",
    "        slopes[p_values>0.05]=np.nan        \n",
    "    # Write arrays into a x-array\n",
    "    slope_xr = xr.DataArray(slopes, coords = [lat, long], dims = ['y', 'x'])\n",
    "    p_val_xr = xr.DataArray(p_values, coords = [lat, long], dims = ['y', 'x']) \n",
    "    return slope_xr, p_val_xr"
   ]
  },
  {
   "cell_type": "code",
   "execution_count": null,
   "metadata": {
    "ExecuteTime": {
     "end_time": "2018-06-19T02:15:12.656115Z",
     "start_time": "2018-06-19T02:06:44.622Z"
    }
   },
   "outputs": [],
   "source": [
    "# Slice using the positive and negative mass residual rainfall trends desccribed above\n",
    "\n",
    "pos_rmc_slope_ndvi = ndvi_p25.sel(year = slice(pos_year_range[0],pos_year_range[1]))"
   ]
  },
  {
   "cell_type": "code",
   "execution_count": null,
   "metadata": {
    "ExecuteTime": {
     "end_time": "2018-06-19T02:15:12.657703Z",
     "start_time": "2018-06-19T02:06:44.978Z"
    }
   },
   "outputs": [],
   "source": [
    "pos_rmc_slope_ndvi"
   ]
  },
  {
   "cell_type": "code",
   "execution_count": null,
   "metadata": {
    "ExecuteTime": {
     "end_time": "2018-06-19T02:15:12.659163Z",
     "start_time": "2018-06-19T02:06:45.370Z"
    }
   },
   "outputs": [],
   "source": [
    "# Slice using the positive and negative mass residual rainfall trends desccribed above\n",
    "\n",
    "neg_rmc_slope_ndvi = ndvi_p25.sel(year = slice(neg_year_range[0],neg_year_range[1]))"
   ]
  },
  {
   "cell_type": "code",
   "execution_count": null,
   "metadata": {
    "ExecuteTime": {
     "end_time": "2018-06-19T02:15:12.660614Z",
     "start_time": "2018-06-19T02:06:45.864Z"
    }
   },
   "outputs": [],
   "source": [
    "neg_rmc_slope_ndvi"
   ]
  },
  {
   "cell_type": "code",
   "execution_count": null,
   "metadata": {
    "ExecuteTime": {
     "end_time": "2018-06-19T02:15:12.662061Z",
     "start_time": "2018-06-19T02:06:45.918Z"
    }
   },
   "outputs": [],
   "source": [
    "# Run linear regression\n",
    "\n",
    "slope_xr, p_val_xr = linear_regression_grid(pos_rmc_slope_ndvi)"
   ]
  },
  {
   "cell_type": "code",
   "execution_count": null,
   "metadata": {
    "ExecuteTime": {
     "end_time": "2018-06-19T02:15:12.663707Z",
     "start_time": "2018-06-19T02:06:45.980Z"
    },
    "scrolled": true
   },
   "outputs": [],
   "source": [
    "# Plot the grid\n",
    "\n",
    "slope_xr.plot()\n",
    "#plt.savefig('/home/547/njs547/DEA_hack.png')\n",
    "plt.show()"
   ]
  },
  {
   "cell_type": "code",
   "execution_count": null,
   "metadata": {
    "ExecuteTime": {
     "end_time": "2018-06-19T02:15:12.665234Z",
     "start_time": "2018-06-19T02:06:46.040Z"
    }
   },
   "outputs": [],
   "source": [
    "\n",
    "p_val_xr.plot()\n",
    "\n",
    "plt.show()"
   ]
  },
  {
   "cell_type": "code",
   "execution_count": null,
   "metadata": {
    "ExecuteTime": {
     "end_time": "2018-06-19T02:15:12.666683Z",
     "start_time": "2018-06-19T02:06:46.080Z"
    }
   },
   "outputs": [],
   "source": [
    "# Run linear regression\n",
    "\n",
    "slope_xr_n, p_val_xr_n = linear_regression_grid(neg_rmc_slope_ndvi)"
   ]
  },
  {
   "cell_type": "code",
   "execution_count": null,
   "metadata": {
    "ExecuteTime": {
     "end_time": "2018-06-19T02:15:12.668124Z",
     "start_time": "2018-06-19T02:06:46.136Z"
    },
    "scrolled": true
   },
   "outputs": [],
   "source": [
    "# Plot the grid\n",
    "\n",
    "slope_xr_n.plot()\n",
    "#plt.savefig('/home/547/njs547/DEA_hack.png')\n",
    "plt.show()"
   ]
  },
  {
   "cell_type": "code",
   "execution_count": null,
   "metadata": {
    "ExecuteTime": {
     "end_time": "2018-06-19T02:15:12.669521Z",
     "start_time": "2018-06-19T02:06:46.172Z"
    }
   },
   "outputs": [],
   "source": [
    "p_val_xr_n.plot()\n",
    "\n",
    "plt.show()"
   ]
  },
  {
   "cell_type": "markdown",
   "metadata": {},
   "source": [
    " MAss residual curve idexed Hovmoller plots"
   ]
  },
  {
   "cell_type": "code",
   "execution_count": null,
   "metadata": {
    "ExecuteTime": {
     "end_time": "2018-06-19T02:15:12.671301Z",
     "start_time": "2018-06-19T02:06:46.744Z"
    }
   },
   "outputs": [],
   "source": [
    "\n",
    "# This function is used to plot the hovmoller plot. HEre we assign a y index (ie. \n",
    "#index of constant y coordinate) but the function could be adapted to take in shapefiles.\n",
    "\n",
    "def plot_hov(sliced_all_sens, y_index = 300):\n",
    "       \n",
    "    \n",
    "    #Define colour strecthes    \n",
    "    ndvi_cmap = mpl.colors.ListedColormap(['blue', '#ffcc66','#ffffcc' , '#ccff66' , '#2eb82e', '#009933' , '#006600'])\n",
    "    ndvi_bounds = [-1, 0, 0.1, 0.25, 0.35, 0.5, 0.8, 1]\n",
    "    ndvi_norm = mpl.colors.BoundaryNorm(ndvi_bounds, ndvi_cmap.N)\n",
    "\n",
    "    # Plot\n",
    "\n",
    "    fig = plt.figure(figsize=(11.69,8.27))\n",
    "\n",
    "    # Write an new dataset using \n",
    "    sliced_all_sens.ndvi.isel(y = y_index).plot(norm= ndvi_norm, cmap = ndvi_cmap, yincrease = False)\n",
    "\n",
    "    ax = plt.gca()\n",
    "\n",
    "    plt.grid(True)\n",
    "    plt.show()"
   ]
  },
  {
   "cell_type": "code",
   "execution_count": null,
   "metadata": {
    "ExecuteTime": {
     "end_time": "2018-06-19T02:15:12.672622Z",
     "start_time": "2018-06-19T02:06:46.962Z"
    },
    "scrolled": true
   },
   "outputs": [],
   "source": [
    "# Choose the y index\n",
    "plt.imshow(slope_xr,cmap='RdBu_r', aspect='auto', vmin=-0.02, vmax=0.02)\n",
    "#slope_xr.plot()\n",
    "plt.plot([0,305], [105, 105], 'r')\n",
    "plt.grid(True)\n",
    "plt.colorbar()\n",
    "plt.show()"
   ]
  },
  {
   "cell_type": "code",
   "execution_count": null,
   "metadata": {
    "ExecuteTime": {
     "end_time": "2018-06-19T02:15:12.674265Z",
     "start_time": "2018-06-19T02:06:47.178Z"
    }
   },
   "outputs": [],
   "source": [
    "# This function is a hacky slice using years\n",
    "\n",
    "def hack_slice(ds, years):\n",
    "    # Yearly data will be appended to a list\n",
    "    year_chunks = []\n",
    "    \n",
    "    # Iterate through input years\n",
    "    for item in years:\n",
    "\n",
    "        year = str(item)\n",
    "\n",
    "        t = ds.time.dt.year\n",
    "        \n",
    "        # If the years exist in the satellite data\n",
    "        if len(t.loc[year]) != 0:\n",
    "            # This is a very hacky slice using a mask because regular slicing was not possible due to a bug in xarray\n",
    "            mask = t.where(t == int(year), drop = True)\n",
    "            sliced_ds = ds.loc[dict(time = mask.time)]\n",
    "            # Append the results to a list\n",
    "            year_chunks.append(sliced_ds)\n",
    "            \n",
    "    # Finall concatenate all of the data into a new dataset\n",
    "\n",
    "    sliced_ds = xr.concat(year_chunks, dim = 'time')\n",
    "    return sliced_ds\n"
   ]
  },
  {
   "cell_type": "code",
   "execution_count": null,
   "metadata": {
    "ExecuteTime": {
     "end_time": "2018-06-19T02:15:12.675738Z",
     "start_time": "2018-06-19T02:06:47.420Z"
    },
    "scrolled": false
   },
   "outputs": [],
   "source": [
    "# Plot Hovmoller for the positive trend\n",
    "\n",
    "years = np.arange(int(pos_year_range[0]), int(pos_year_range[1]), 1)\n",
    "\n",
    "years = [int(x) for x in years]\n",
    "\n",
    "print(years)\n",
    "\n",
    "pos_rmc_slope_all_sens = hack_slice(all_sens, years)\n",
    "print(pos_rmc_slope_all_sens.time)\n",
    "\n",
    "plot_hov(pos_rmc_slope_all_sens, y_index = 105)\n"
   ]
  },
  {
   "cell_type": "code",
   "execution_count": null,
   "metadata": {
    "ExecuteTime": {
     "end_time": "2018-06-19T02:15:12.677288Z",
     "start_time": "2018-06-19T02:06:47.672Z"
    }
   },
   "outputs": [],
   "source": [
    "# Plot Hovmoller for the negative trend\n",
    "\n",
    "years = np.arange(int(neg_year_range[0]), int(neg_year_range[1]), 1)\n",
    "\n",
    "years = [int(x) for x in years]\n",
    "\n",
    "print(years)\n",
    "\n",
    "neg_rmc_slope_all_sens = hack_slice(all_sens, years)\n",
    "print(neg_rmc_slope_all_sens.time)\n",
    "\n",
    "plot_hov(neg_rmc_slope_all_sens, y_index = 105)"
   ]
  },
  {
   "cell_type": "code",
   "execution_count": null,
   "metadata": {},
   "outputs": [],
   "source": []
  },
  {
   "cell_type": "code",
   "execution_count": null,
   "metadata": {},
   "outputs": [],
   "source": []
  },
  {
   "cell_type": "code",
   "execution_count": null,
   "metadata": {},
   "outputs": [],
   "source": []
  }
 ],
 "metadata": {
  "kernelspec": {
   "display_name": "Python 3",
   "language": "python",
   "name": "python3"
  },
  "language_info": {
   "codemirror_mode": {
    "name": "ipython",
    "version": 3
   },
   "file_extension": ".py",
   "mimetype": "text/x-python",
   "name": "python",
   "nbconvert_exporter": "python",
   "pygments_lexer": "ipython3",
   "version": "3.6.5"
  },
  "latex_envs": {
   "LaTeX_envs_menu_present": true,
   "autocomplete": true,
   "bibliofile": "biblio.bib",
   "cite_by": "apalike",
   "current_citInitial": 1,
   "eqLabelWithNumbers": true,
   "eqNumInitial": 1,
   "hotkeys": {
    "equation": "Ctrl-E",
    "itemize": "Ctrl-I"
   },
   "labels_anchors": false,
   "latex_user_defs": false,
   "report_style_numbering": false,
   "user_envs_cfg": false
  }
 },
 "nbformat": 4,
 "nbformat_minor": 2
}
