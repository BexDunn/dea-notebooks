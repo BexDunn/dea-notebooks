{
 "cells": [
  {
   "cell_type": "markdown",
   "metadata": {
    "ExecuteTime": {
     "end_time": "2018-06-28T01:35:53.336872Z",
     "start_time": "2018-06-28T01:35:53.327303Z"
    }
   },
   "source": [
    "Authors: Bex Dunn, Neil Symington, Claire Krause, Leo Lymburner"
   ]
  },
  {
   "cell_type": "markdown",
   "metadata": {
    "ExecuteTime": {
     "end_time": "2018-06-19T03:17:44.341801Z",
     "start_time": "2018-06-19T03:17:44.338622Z"
    }
   },
   "source": [
    "### get some modules"
   ]
  },
  {
   "cell_type": "code",
   "execution_count": 1,
   "metadata": {
    "ExecuteTime": {
     "end_time": "2018-07-04T05:34:57.089031Z",
     "start_time": "2018-07-04T05:34:52.150185Z"
    }
   },
   "outputs": [],
   "source": [
    "%load_ext autoreload\n",
    "%autoreload 2\n",
    "\n",
    "from datetime import datetime\n",
    "import matplotlib.pyplot as plt\n",
    "\n",
    "#dealing with system commands\n",
    "import sys\n",
    "import os.path\n",
    "\n",
    "#modules for datacube\n",
    "import datacube\n",
    "from datacube.utils import geometry\n",
    "from datacube.storage.storage import write_dataset_to_netcdf\n",
    "from datacube.helpers import write_geotiff\n",
    "\n",
    "# Import external functions from dea-notebooks\n",
    "sys.path.append(os.path.expanduser('~/dea-notebooks/Scripts/'))\n",
    "from RainfallTools import load_rainfall, calculate_residual_mass_curve"
   ]
  },
  {
   "cell_type": "markdown",
   "metadata": {},
   "source": [
    "## Choose a time period and location to calculate residual mass curve.\n",
    " - Note: please select whole months here, not days, as a month with only two days may negatively affect your mass residual curve"
   ]
  },
  {
   "cell_type": "code",
   "execution_count": 7,
   "metadata": {
    "ExecuteTime": {
     "end_time": "2018-07-04T05:37:31.226177Z",
     "start_time": "2018-07-04T05:37:31.116680Z"
    }
   },
   "outputs": [],
   "source": [
    "## Choose a q\n",
    "\n",
    "query = {\n",
    "        'lat': (-35.25, -35.35),\n",
    "        'lon': (149.05, 149.17),\n",
    "        'time':('2010-01', '2013-01')\n",
    "        }"
   ]
  },
  {
   "cell_type": "markdown",
   "metadata": {
    "ExecuteTime": {
     "end_time": "2018-06-19T03:17:55.964257Z",
     "start_time": "2018-06-19T03:17:55.960083Z"
    }
   },
   "source": [
    "### load rainfall data"
   ]
  },
  {
   "cell_type": "code",
   "execution_count": 44,
   "metadata": {
    "ExecuteTime": {
     "end_time": "2018-07-05T01:04:18.558499Z",
     "start_time": "2018-07-05T01:04:17.404311Z"
    }
   },
   "outputs": [],
   "source": [
    "#using the BoM grids to 2013. These are out by 2.5km, be aware."
   ]
  },
  {
   "cell_type": "code",
   "execution_count": 78,
   "metadata": {
    "ExecuteTime": {
     "end_time": "2018-07-05T01:15:30.570104Z",
     "start_time": "2018-07-05T01:15:23.588812Z"
    }
   },
   "outputs": [],
   "source": [
    "#rainfall = load_rainfall(query)\n",
    "dc = datacube.Datacube(app='dc-BOMrainfall')\n",
    "rainfall = dc.load(product = 'bom_rainfall_grids', **query)"
   ]
  },
  {
   "cell_type": "markdown",
   "metadata": {},
   "source": [
    "## calculate rainfall mass residual"
   ]
  },
  {
   "cell_type": "code",
   "execution_count": 45,
   "metadata": {
    "ExecuteTime": {
     "end_time": "2018-07-05T01:04:27.516216Z",
     "start_time": "2018-07-05T01:04:27.468961Z"
    }
   },
   "outputs": [],
   "source": [
    "'''This function calculates the residual mass rainfall curve ##FIXME\n",
    ":param a: '''\n",
    "import datacube\n",
    "import numpy as np\n",
    "import xarray as xr"
   ]
  },
  {
   "cell_type": "markdown",
   "metadata": {
    "ExecuteTime": {
     "end_time": "2018-06-28T23:43:28.605179Z",
     "start_time": "2018-06-28T23:43:28.351228Z"
    }
   },
   "source": [
    "## resample rainfall data to month start ##FIXME, daily option"
   ]
  },
  {
   "cell_type": "code",
   "execution_count": 79,
   "metadata": {
    "ExecuteTime": {
     "end_time": "2018-07-05T01:15:31.606635Z",
     "start_time": "2018-07-05T01:15:31.446818Z"
    }
   },
   "outputs": [],
   "source": [
    "#resample rainfall data to month start\n",
    "rainfall = rainfall.groupby('time.month').sum(dim='time', keep_attrs='True')"
   ]
  },
  {
   "cell_type": "code",
   "execution_count": 80,
   "metadata": {
    "ExecuteTime": {
     "end_time": "2018-07-05T01:15:36.438131Z",
     "start_time": "2018-07-05T01:15:36.345157Z"
    }
   },
   "outputs": [
    {
     "data": {
      "text/plain": [
       "<xarray.Dataset>\n",
       "Dimensions:    (latitude: 2, longitude: 3, month: 12)\n",
       "Coordinates:\n",
       "  * latitude   (latitude) float64 -35.27 -35.32\n",
       "  * longitude  (longitude) float64 149.1 149.1 149.2\n",
       "  * month      (month) int64 1 2 3 4 5 6 7 8 9 10 11 12\n",
       "Data variables:\n",
       "    rainfall   (month, latitude, longitude) float32 114.64193 111.750984 ...\n",
       "Attributes:\n",
       "    crs:      EPSG:4326"
      ]
     },
     "execution_count": 80,
     "metadata": {},
     "output_type": "execute_result"
    }
   ],
   "source": [
    "rainfall"
   ]
  },
  {
   "cell_type": "code",
   "execution_count": 11,
   "metadata": {
    "ExecuteTime": {
     "end_time": "2018-07-04T05:38:17.501180Z",
     "start_time": "2018-07-04T05:38:17.466416Z"
    }
   },
   "outputs": [],
   "source": [
    "cumulative_rainfall = rainfall.cumsum(dim='time',keep_attrs=True)"
   ]
  },
  {
   "cell_type": "code",
   "execution_count": 19,
   "metadata": {
    "ExecuteTime": {
     "end_time": "2018-07-04T06:12:18.996675Z",
     "start_time": "2018-07-04T06:12:18.896467Z"
    }
   },
   "outputs": [],
   "source": [
    "monthly_mean_rainfall = rainfall.groupby('time.month').mean(dim='time', keep_attrs='True')"
   ]
  },
  {
   "cell_type": "code",
   "execution_count": 28,
   "metadata": {
    "ExecuteTime": {
     "end_time": "2018-07-04T06:14:24.195403Z",
     "start_time": "2018-07-04T06:14:22.713144Z"
    }
   },
   "outputs": [
    {
     "data": {
      "text/plain": [
       "<xarray.plot.facetgrid.FacetGrid at 0x7f5076fd0940>"
      ]
     },
     "execution_count": 28,
     "metadata": {},
     "output_type": "execute_result"
    },
    {
     "data": {
      "image/png": "[encoded data removed]",
      "text/plain": [
       "<Figure size 720x864 with 13 Axes>"
      ]
     },
     "metadata": {},
     "output_type": "display_data"
    }
   ],
   "source": [
    "monthly_mean_rainfall.rainfall.plot(col='month',col_wrap=3)"
   ]
  },
  {
   "cell_type": "code",
   "execution_count": 46,
   "metadata": {
    "ExecuteTime": {
     "end_time": "2018-07-05T01:05:27.278219Z",
     "start_time": "2018-07-05T01:05:26.217726Z"
    }
   },
   "outputs": [
    {
     "data": {
      "text/plain": [
       "<xarray.Dataset>\n",
       "Dimensions:    (latitude: 2, longitude: 3, month: 12)\n",
       "Coordinates:\n",
       "  * latitude   (latitude) float64 -35.27 -35.32\n",
       "  * longitude  (longitude) float64 149.1 149.1 149.2\n",
       "  * month      (month) int64 1 2 3 4 5 6 7 8 9 10 11 12\n",
       "Data variables:\n",
       "    rainfall   (month, latitude, longitude) float32 38.213978 37.250324 ..."
      ]
     },
     "execution_count": 46,
     "metadata": {},
     "output_type": "execute_result"
    }
   ],
   "source": [
    "monthly_mean_rainfall"
   ]
  },
  {
   "cell_type": "code",
   "execution_count": 50,
   "metadata": {
    "ExecuteTime": {
     "end_time": "2018-07-05T01:07:02.164687Z",
     "start_time": "2018-07-05T01:07:02.098526Z"
    }
   },
   "outputs": [],
   "source": [
    "rainfall = rainfall.groupby('time.month')"
   ]
  },
  {
   "cell_type": "code",
   "execution_count": 54,
   "metadata": {
    "ExecuteTime": {
     "end_time": "2018-07-05T01:09:40.152187Z",
     "start_time": "2018-07-05T01:09:40.076170Z"
    }
   },
   "outputs": [
    {
     "ename": "AttributeError",
     "evalue": "'Dataset' object has no attribute 'broadcast'",
     "output_type": "error",
     "traceback": [
      "\u001b[0;31m---------------------------------------------------------------------------\u001b[0m",
      "\u001b[0;31mAttributeError\u001b[0m                            Traceback (most recent call last)",
      "\u001b[0;32m<ipython-input-54-8ee027ab26d6>\u001b[0m in \u001b[0;36m<module>\u001b[0;34m()\u001b[0m\n\u001b[0;32m----> 1\u001b[0;31m \u001b[0mmonthly_mean_rainfall\u001b[0m\u001b[0;34m.\u001b[0m\u001b[0mbroadcast\u001b[0m\u001b[0;34m\u001b[0m\u001b[0m\n\u001b[0m",
      "\u001b[0;32m/g/data/v10/public/modules/dea-env/20180405/lib/python3.6/site-packages/xarray/core/common.py\u001b[0m in \u001b[0;36m__getattr__\u001b[0;34m(self, name)\u001b[0m\n\u001b[1;32m    173\u001b[0m                     \u001b[0;32mreturn\u001b[0m \u001b[0msource\u001b[0m\u001b[0;34m[\u001b[0m\u001b[0mname\u001b[0m\u001b[0;34m]\u001b[0m\u001b[0;34m\u001b[0m\u001b[0m\n\u001b[1;32m    174\u001b[0m         raise AttributeError(\"%r object has no attribute %r\" %\n\u001b[0;32m--> 175\u001b[0;31m                              (type(self).__name__, name))\n\u001b[0m\u001b[1;32m    176\u001b[0m \u001b[0;34m\u001b[0m\u001b[0m\n\u001b[1;32m    177\u001b[0m     \u001b[0;32mdef\u001b[0m \u001b[0m__setattr__\u001b[0m\u001b[0;34m(\u001b[0m\u001b[0mself\u001b[0m\u001b[0;34m,\u001b[0m \u001b[0mname\u001b[0m\u001b[0;34m,\u001b[0m \u001b[0mvalue\u001b[0m\u001b[0;34m)\u001b[0m\u001b[0;34m:\u001b[0m\u001b[0;34m\u001b[0m\u001b[0m\n",
      "\u001b[0;31mAttributeError\u001b[0m: 'Dataset' object has no attribute 'broadcast'"
     ]
    }
   ],
   "source": [
    "monthly_mean_rainfall.broadcast"
   ]
  },
  {
   "cell_type": "code",
   "execution_count": 15,
   "metadata": {
    "ExecuteTime": {
     "end_time": "2018-07-04T05:38:22.635086Z",
     "start_time": "2018-07-04T05:38:17.638502Z"
    }
   },
   "outputs": [
    {
     "data": {
      "text/plain": [
       "<xarray.plot.facetgrid.FacetGrid at 0x7f5077950ac8>"
      ]
     },
     "execution_count": 15,
     "metadata": {},
     "output_type": "execute_result"
    },
    {
     "data": {
      "image/png": "[encoded data removed]",
      "text/plain": [
       "<Figure size 7848x216 with 37 Axes>"
      ]
     },
     "metadata": {},
     "output_type": "display_data"
    }
   ],
   "source": [
    "rainfall.rainfall.plot(col='time')"
   ]
  },
  {
   "cell_type": "code",
   "execution_count": 16,
   "metadata": {
    "ExecuteTime": {
     "end_time": "2018-07-04T05:38:27.422132Z",
     "start_time": "2018-07-04T05:38:22.637855Z"
    }
   },
   "outputs": [
    {
     "data": {
      "text/plain": [
       "<xarray.plot.facetgrid.FacetGrid at 0x7f50774f0198>"
      ]
     },
     "execution_count": 16,
     "metadata": {},
     "output_type": "execute_result"
    },
    {
     "data": {
      "image/png": "[encoded data removed]",
      "text/plain": [
       "<Figure size 7848x216 with 37 Axes>"
      ]
     },
     "metadata": {},
     "output_type": "display_data"
    }
   ],
   "source": [
    "cumulative_rainfall.rainfall.plot(col='time')"
   ]
  },
  {
   "cell_type": "code",
   "execution_count": 76,
   "metadata": {
    "ExecuteTime": {
     "end_time": "2018-07-05T01:14:17.110983Z",
     "start_time": "2018-07-05T01:14:17.039025Z"
    }
   },
   "outputs": [
    {
     "data": {
      "text/plain": [
       "<xarray.DataArray 'rainfall' (latitude: 2, longitude: 3)>\n",
       "array([[ 89.99338 ,  92.651794,  93.80615 ],\n",
       "       [101.915565, 100.24008 ,  98.77014 ]], dtype=float32)\n",
       "Coordinates:\n",
       "  * latitude   (latitude) float64 -35.27 -35.32\n",
       "  * longitude  (longitude) float64 149.1 149.1 149.2\n",
       "    month      int64 12"
      ]
     },
     "execution_count": 76,
     "metadata": {},
     "output_type": "execute_result"
    }
   ],
   "source": [
    "monthly_mean_rainfall.rainfall[-1]"
   ]
  },
  {
   "cell_type": "code",
   "execution_count": 73,
   "metadata": {
    "ExecuteTime": {
     "end_time": "2018-07-05T01:13:46.659658Z",
     "start_time": "2018-07-05T01:13:46.593820Z"
    }
   },
   "outputs": [
    {
     "data": {
      "text/plain": [
       "<xarray.DataArray 'rainfall' (latitude: 2, longitude: 3)>\n",
       "array([[2438.5889, 2377.4202, 2314.4778],\n",
       "       [2580.275 , 2456.8137, 2370.8484]], dtype=float32)\n",
       "Coordinates:\n",
       "  * latitude   (latitude) float64 -35.27 -35.32\n",
       "  * longitude  (longitude) float64 149.1 149.1 149.2"
      ]
     },
     "execution_count": 73,
     "metadata": {},
     "output_type": "execute_result"
    }
   ],
   "source": [
    "cumulative_rainfall.rainfall[-1]"
   ]
  },
  {
   "cell_type": "code",
   "execution_count": 59,
   "metadata": {
    "ExecuteTime": {
     "end_time": "2018-07-05T01:11:11.333301Z",
     "start_time": "2018-07-05T01:11:11.268009Z"
    }
   },
   "outputs": [],
   "source": [
    "test =cumulative_rainfall-monthly_mean_rainfall"
   ]
  },
  {
   "cell_type": "code",
   "execution_count": 71,
   "metadata": {
    "ExecuteTime": {
     "end_time": "2018-07-05T01:13:26.581172Z",
     "start_time": "2018-07-05T01:13:25.489769Z"
    }
   },
   "outputs": [
    {
     "data": {
      "text/plain": [
       "<xarray.DataArray 'time' (time: 36)>\n",
       "array([ 0,  1,  2,  3,  4,  5,  6,  7,  8,  9, 10, 11, 12, 13, 14, 15, 16, 17,\n",
       "       18, 19, 20, 21, 22, 23, 24, 25, 26, 27, 28, 29, 30, 31, 32, 33, 34, 35])\n",
       "Dimensions without coordinates: time"
      ]
     },
     "execution_count": 71,
     "metadata": {},
     "output_type": "execute_result"
    }
   ],
   "source": [
    "test.time"
   ]
  },
  {
   "cell_type": "code",
   "execution_count": 62,
   "metadata": {
    "ExecuteTime": {
     "end_time": "2018-06-19T05:03:11.533619Z",
     "start_time": "2018-06-19T05:03:11.484534Z"
    },
    "scrolled": true
   },
   "outputs": [
    {
     "ename": "NameError",
     "evalue": "name 'cum_ave_xr' is not defined",
     "output_type": "error",
     "traceback": [
      "\u001b[0;31m---------------------------------------------------------------------------\u001b[0m",
      "\u001b[0;31mNameError\u001b[0m                                 Traceback (most recent call last)",
      "\u001b[0;32m<ipython-input-62-33b70b9a45fc>\u001b[0m in \u001b[0;36m<module>\u001b[0;34m()\u001b[0m\n\u001b[1;32m      1\u001b[0m \u001b[0;31m# The mass residual curve is the difference between the cumulative rainfall data and the cumulative\u001b[0m\u001b[0;34m\u001b[0m\u001b[0;34m\u001b[0m\u001b[0m\n\u001b[1;32m      2\u001b[0m \u001b[0;31m# rainfall one would get iff the average always occured\u001b[0m\u001b[0;34m\u001b[0m\u001b[0;34m\u001b[0m\u001b[0m\n\u001b[0;32m----> 3\u001b[0;31m \u001b[0mmass_res_curve\u001b[0m \u001b[0;34m=\u001b[0m \u001b[0mcum_rf_xr\u001b[0m \u001b[0;34m-\u001b[0m \u001b[0mcum_ave_xr\u001b[0m\u001b[0;34m\u001b[0m\u001b[0m\n\u001b[0m",
      "\u001b[0;31mNameError\u001b[0m: name 'cum_ave_xr' is not defined"
     ]
    }
   ],
   "source": [
    "# The mass residual curve is the difference between the cumulative rainfall data and the cumulative\n",
    "# rainfall one would get iff the average always occured\n",
    "mass_res_curve = cum_rf_xr - cum_ave_xr"
   ]
  },
  {
   "cell_type": "code",
   "execution_count": null,
   "metadata": {},
   "outputs": [],
   "source": []
  },
  {
   "cell_type": "code",
   "execution_count": null,
   "metadata": {},
   "outputs": [],
   "source": [
    "def calculate_residual_mass_curve(a):\n",
    "    '''This function calculates the residual mass rainfall curve\n",
    "    :param a: '''\n",
    "    \n",
    "    #resample rainfall data to month start\n",
    "    a = a.resample('MS', dim='time', how='sum', keep_attrs=True) \n",
    "    # find the number of time steps (ie. years)\n",
    "    n = len(a.rainfall.time)/12\n",
    "    \n",
    "    # First calculate a cumulative rainfall xarray from the rainfall data\n",
    "    \n",
    "    arr = a.rainfall.values\n",
    "    \n",
    "    cum_rf = np.cumsum(arr, axis = 0)\n",
    "    \n",
    "    cum_rf_xr = xr.DataArray(cum_rf, dims = ('time', 'latitude', 'longitude'),\n",
    "                            coords = [a.time, a.latitude, a.longitude])\n",
    "    \n",
    "    # NOw we will calculate a cumulative rainfall assuming average rainfall on a month by month basis\n",
    "    # Find the average of all months\n",
    "    ave_months = a.rainfall.groupby('time.month').mean('time').values\n",
    "   \n",
    "    # In the case that we are not starting from January we will need to reorder the array\n",
    "    \n",
    "    start_month = a.time[0].dt.month.values - 1\n",
    "    \n",
    "    ave_month = np.concatenate((ave_months[start_month:,:,:], ave_months[0:start_month,:,:]), axis = 0)\n",
    "\n",
    "    \n",
    "    # Tile an array so that we can run a cumulative sum on it\n",
    "    tiled_ave = np.tile(ave_months, (round(n), 1, 1))\n",
    "    \n",
    "    # In the case that we have residual months remove them from the tiled array\n",
    "    if (n).is_integer() == False:\n",
    "        month_remainder = int(round((n%1) * 12))\n",
    "\n",
    "        tiled_ave = tiled_ave[:int(-month_remainder),:,:]\n",
    "        \n",
    "    # Generate the cumulative sum of rainfall one would get assuming average rainfall every month\n",
    "    cum_ave = np.cumsum(tiled_ave, axis = 0)\n",
    "    \n",
    "    cum_ave_xr = xr.DataArray(cum_ave, dims = ('time', 'latitude', 'longitude'),\n",
    "                              coords = [a.time, a.latitude, a.longitude])\n",
    "    \n",
    "    # The mass residual curve is the difference between the cumulative rainfall data and the cumulative\n",
    "    # rainfall one would get iff the average always occured\n",
    "    mass_res_curve = cum_rf_xr - cum_ave_xr\n",
    "    \n",
    "    return mass_res_curve\n"
   ]
  },
  {
   "cell_type": "markdown",
   "metadata": {},
   "source": [
    "## calculate metrics based on rainfall\n",
    "- increasing and decreasing periods\n",
    "- wet year after dry years\n",
    "- dry year after wet years\n",
    "-"
   ]
  },
  {
   "cell_type": "markdown",
   "metadata": {},
   "source": [
    "## calculate metrics based on residual rainfall\n",
    "- increasing and decreasing periods\n",
    "- wet year after dry years\n",
    "- dry year after wet years\n"
   ]
  },
  {
   "cell_type": "markdown",
   "metadata": {
    "ExecuteTime": {
     "end_time": "2018-06-19T02:35:14.176120Z",
     "start_time": "2018-06-19T02:35:14.168390Z"
    }
   },
   "source": [
    "## calculate seasonality\n",
    "- Koppen climate region (use notebook to follow decision tree - requires climate data)\n",
    "- Summer dominant, Summer, Uniform, Winter, Winter dominant #\n",
    "- TROP SOI value\n",
    "- IOD /SAM indices\n",
    "\"During El Niño, rainfall in eastern Australian is typically below average during winter and spring. A neutral ENSO phase has little effect on Australian climate.\"Bureau of meteorology http://www.bom.gov.au/climate/enso/  "
   ]
  },
  {
   "cell_type": "code",
   "execution_count": 39,
   "metadata": {
    "ExecuteTime": {
     "end_time": "2018-06-22T01:40:17.240395Z",
     "start_time": "2018-06-22T01:40:17.195266Z"
    }
   },
   "outputs": [],
   "source": [
    "# Calculate failed wet seasons - calculate total wet season + dry season rainfalls\n",
    "# (end of wet season rainfalls?)"
   ]
  },
  {
   "cell_type": "code",
   "execution_count": 53,
   "metadata": {
    "ExecuteTime": {
     "end_time": "2018-07-05T01:09:03.318346Z",
     "start_time": "2018-07-05T01:09:02.117552Z"
    }
   },
   "outputs": [
    {
     "ename": "AttributeError",
     "evalue": "'DatasetGroupBy' object has no attribute 'broadcast_to'",
     "output_type": "error",
     "traceback": [
      "\u001b[0;31m---------------------------------------------------------------------------\u001b[0m",
      "\u001b[0;31mAttributeError\u001b[0m                            Traceback (most recent call last)",
      "\u001b[0;32m<ipython-input-53-de938839f399>\u001b[0m in \u001b[0;36m<module>\u001b[0;34m()\u001b[0m\n\u001b[0;32m----> 1\u001b[0;31m \u001b[0mrainfall\u001b[0m\u001b[0;34m.\u001b[0m\u001b[0mbroadcast_to\u001b[0m\u001b[0;34m\u001b[0m\u001b[0m\n\u001b[0m",
      "\u001b[0;31mAttributeError\u001b[0m: 'DatasetGroupBy' object has no attribute 'broadcast_to'"
     ]
    }
   ],
   "source": [
    "rainfall.broadcast_to"
   ]
  },
  {
   "cell_type": "code",
   "execution_count": 57,
   "metadata": {
    "ExecuteTime": {
     "end_time": "2018-07-05T01:10:02.189081Z",
     "start_time": "2018-07-05T01:10:02.089202Z"
    }
   },
   "outputs": [
    {
     "name": "stdout",
     "output_type": "stream",
     "text": [
      "Help on package xarray:\n",
      "\n",
      "NAME\n",
      "    xarray - # flake8: noqa\n",
      "\n",
      "PACKAGE CONTENTS\n",
      "    backends (package)\n",
      "    coding (package)\n",
      "    conventions\n",
      "    convert\n",
      "    core (package)\n",
      "    plot (package)\n",
      "    testing\n",
      "    tests (package)\n",
      "    tutorial\n",
      "    ufuncs\n",
      "    util (package)\n",
      "    version\n",
      "\n",
      "DATA\n",
      "    absolute_import = _Feature((2, 5, 0, 'alpha', 1), (3, 0, 0, 'alpha', 0...\n",
      "    division = _Feature((2, 2, 0, 'alpha', 2), (3, 0, 0, 'alpha', 0), 8192...\n",
      "    print_function = _Feature((2, 6, 0, 'alpha', 2), (3, 0, 0, 'alpha', 0)...\n",
      "\n",
      "VERSION\n",
      "    0.10.2\n",
      "\n",
      "FILE\n",
      "    /g/data/v10/public/modules/dea-env/20180405/lib/python3.6/site-packages/xarray/__init__.py\n",
      "\n",
      "\n"
     ]
    }
   ],
   "source": [
    "help(xr)"
   ]
  },
  {
   "cell_type": "code",
   "execution_count": null,
   "metadata": {},
   "outputs": [],
   "source": [
    "rainfall.expand_dims()"
   ]
  }
 ],
 "metadata": {
  "kernelspec": {
   "display_name": "Python 3",
   "language": "python",
   "name": "python3"
  },
  "language_info": {
   "codemirror_mode": {
    "name": "ipython",
    "version": 3
   },
   "file_extension": ".py",
   "mimetype": "text/x-python",
   "name": "python",
   "nbconvert_exporter": "python",
   "pygments_lexer": "ipython3",
   "version": "3.6.5"
  }
 },
 "nbformat": 4,
 "nbformat_minor": 2
}
