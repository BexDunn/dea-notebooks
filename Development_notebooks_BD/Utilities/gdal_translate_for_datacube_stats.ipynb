{
 "cells": [
  {
   "cell_type": "markdown",
   "metadata": {},
   "source": [
    "This code exists to translate output tiles from datacube-stats back to where they need to go."
   ]
  },
  {
   "cell_type": "code",
   "execution_count": 3,
   "metadata": {
    "ExecuteTime": {
     "end_time": "2018-07-18T02:29:26.780936Z",
     "start_time": "2018-07-18T02:29:26.774040Z"
    }
   },
   "outputs": [],
   "source": [
    "import os\n",
    "import subprocess"
   ]
  },
  {
   "cell_type": "code",
   "execution_count": 4,
   "metadata": {
    "ExecuteTime": {
     "end_time": "2018-07-18T02:29:27.065348Z",
     "start_time": "2018-07-18T02:29:27.048777Z"
    }
   },
   "outputs": [
    {
     "name": "stdout",
     "output_type": "stream",
     "text": [
      "['15 -27', '15 -28', '15 -29', '15 -30', '15 -31', '15 -32', '16 -27', '16 -28', '16 -29', '16 -30', '16 -31', '16 -32', '16 -33', '17 -27', '17 -28', '17 -29', '17 -30', '17 -31', '17 -32', '17 -33', '18 -29', '18 -30', '18 -31', '18 -32', '18 -33', '19 -31', '19 -32', '19 -33']\n",
      "['15_-27', '15_-28', '15_-29', '15_-30', '15_-31', '15_-32', '16_-27', '16_-28', '16_-29', '16_-30', '16_-31', '16_-32', '16_-33', '17_-27', '17_-28', '17_-29', '17_-30', '17_-31', '17_-32', '17_-33', '18_-29', '18_-30', '18_-31', '18_-32', '18_-33', '19_-31', '19_-32', '19_-33']\n"
     ]
    }
   ],
   "source": [
    "#change to the directory containing our list of tiles\n",
    "os.chdir('/g/data/r78/datacube_stats/TCW_stats/Surat/Surat_2yr/')\n",
    "\n",
    "#get the list of tiles from the tile list file\n",
    "tile_list=[]\n",
    "with open('tile_list.txt', 'r') as tile_list_file:\n",
    "    for line in tile_list_file:\n",
    "        tile_list.append(line.strip('\\n'))   \n",
    "    #print(line, sep= '', end ='')\n",
    "    #tile_list = tile_list_file.read()\n",
    "\n",
    "print(tile_list)\n",
    "tile_list_updated=[]\n",
    "#replace spaces with underscores\n",
    "for tile in tile_list:\n",
    "    tile2= tile.replace(' ','_')\n",
    "    tile_list_updated.append(tile2)\n",
    "print(tile_list_updated)"
   ]
  },
  {
   "cell_type": "code",
   "execution_count": 5,
   "metadata": {
    "ExecuteTime": {
     "end_time": "2018-07-18T02:29:27.359917Z",
     "start_time": "2018-07-18T02:29:27.333904Z"
    }
   },
   "outputs": [
    {
     "data": {
      "text/plain": [
       "['Surat2yr.o8357541',\n",
       " 'surat_2010_2018_2yr.yaml',\n",
       " 'tile_list.txt',\n",
       " 'task.pickle',\n",
       " 'outputs_corrected',\n",
       " 'Surat2yr.e8356508',\n",
       " 'surat_1018.sh',\n",
       " 'Surat2yr.o8356508',\n",
       " 'Surat2yr.e8357541',\n",
       " 'outputs']"
      ]
     },
     "execution_count": 5,
     "metadata": {},
     "output_type": "execute_result"
    }
   ],
   "source": [
    "os.listdir()"
   ]
  },
  {
   "cell_type": "code",
   "execution_count": 6,
   "metadata": {
    "ExecuteTime": {
     "end_time": "2018-07-18T02:29:27.584462Z",
     "start_time": "2018-07-18T02:29:27.580937Z"
    }
   },
   "outputs": [],
   "source": [
    "os.chdir('/g/data/r78/datacube_stats/TCW_stats/Surat/Surat_2yr/outputs_corrected//')\n",
    "#get the lower left and upper right coordinates from the output files where our output files worked"
   ]
  },
  {
   "cell_type": "code",
   "execution_count": 7,
   "metadata": {
    "ExecuteTime": {
     "end_time": "2018-07-18T02:29:27.931161Z",
     "start_time": "2018-07-18T02:29:27.799738Z"
    }
   },
   "outputs": [
    {
     "name": "stdout",
     "output_type": "stream",
     "text": [
      "/g/data1a/r78/datacube_stats/TCW_stats/Surat/Surat_2yr/outputs_corrected\r\n"
     ]
    }
   ],
   "source": [
    "!pwd"
   ]
  },
  {
   "cell_type": "code",
   "execution_count": 8,
   "metadata": {
    "ExecuteTime": {
     "end_time": "2018-07-18T02:29:27.990135Z",
     "start_time": "2018-07-18T02:29:27.981506Z"
    }
   },
   "outputs": [
    {
     "data": {
      "text/plain": [
       "['15_-27',\n",
       " '15_-28',\n",
       " '15_-29',\n",
       " '15_-30',\n",
       " '15_-31',\n",
       " '15_-32',\n",
       " '16_-27',\n",
       " '16_-28',\n",
       " '16_-29',\n",
       " '16_-30',\n",
       " '16_-31',\n",
       " '16_-32',\n",
       " '16_-33',\n",
       " '17_-27',\n",
       " '17_-28',\n",
       " '17_-29',\n",
       " '17_-30',\n",
       " '17_-31',\n",
       " '17_-32',\n",
       " '17_-33',\n",
       " '18_-29',\n",
       " '18_-30',\n",
       " '18_-31',\n",
       " '18_-32',\n",
       " '18_-33',\n",
       " '19_-31',\n",
       " '19_-32',\n",
       " '19_-33']"
      ]
     },
     "execution_count": 8,
     "metadata": {},
     "output_type": "execute_result"
    }
   ],
   "source": [
    "tile_list_updated"
   ]
  },
  {
   "cell_type": "code",
   "execution_count": 9,
   "metadata": {
    "ExecuteTime": {
     "end_time": "2018-07-18T02:29:28.178304Z",
     "start_time": "2018-07-18T02:29:28.171567Z"
    }
   },
   "outputs": [
    {
     "data": {
      "text/plain": [
       "'/g/data1a/r78/datacube_stats/TCW_stats/Surat/Surat_2yr/outputs_corrected'"
      ]
     },
     "execution_count": 9,
     "metadata": {},
     "output_type": "execute_result"
    }
   ],
   "source": [
    "os.getcwd()"
   ]
  },
  {
   "cell_type": "code",
   "execution_count": 10,
   "metadata": {
    "ExecuteTime": {
     "end_time": "2018-07-18T02:29:28.396842Z",
     "start_time": "2018-07-18T02:29:28.377636Z"
    },
    "scrolled": false
   },
   "outputs": [
    {
     "name": "stdout",
     "output_type": "stream",
     "text": [
      "15_-27 Surat_2yr_15_-27_20140101__20160101.yaml\n",
      "15_-28 Surat_2yr_15_-28_20140101__20160101.yaml\n",
      "15_-29 Surat_2yr_15_-29_20140101__20160101.yaml\n",
      "15_-30 Surat_2yr_15_-30_20140101__20160101.yaml\n",
      "15_-31 Surat_2yr_15_-31_20140101__20160101.yaml\n",
      "15_-32 Surat_2yr_15_-32_20140101__20160101.yaml\n",
      "16_-27 Surat_2yr_16_-27_20140101__20160101.yaml\n",
      "16_-28 Surat_2yr_16_-28_20140101__20160101.yaml\n",
      "16_-29 Surat_2yr_16_-29_20140101__20160101.yaml\n",
      "16_-30 Surat_2yr_16_-30_20140101__20160101.yaml\n",
      "16_-31 Surat_2yr_16_-31_20140101__20160101.yaml\n",
      "16_-32 Surat_2yr_16_-32_20140101__20160101.yaml\n",
      "16_-33 Surat_2yr_16_-33_20140101__20160101.yaml\n",
      "17_-27 Surat_2yr_17_-27_20140101__20160101.yaml\n",
      "17_-28 Surat_2yr_17_-28_20140101__20160101.yaml\n",
      "17_-29 Surat_2yr_17_-29_20140101__20160101.yaml\n",
      "17_-30 Surat_2yr_17_-30_20140101__20160101.yaml\n",
      "17_-31 Surat_2yr_17_-31_20140101__20160101.yaml\n",
      "17_-32 Surat_2yr_17_-32_20140101__20160101.yaml\n",
      "17_-33 Surat_2yr_17_-33_20140101__20160101.yaml\n",
      "18_-29 Surat_2yr_18_-29_20140101__20160101.yaml\n",
      "18_-30 Surat_2yr_18_-30_20140101__20160101.yaml\n",
      "18_-31 Surat_2yr_18_-31_20140101__20160101.yaml\n",
      "18_-32 Surat_2yr_18_-32_20140101__20160101.yaml\n",
      "18_-33 Surat_2yr_18_-33_20140101__20160101.yaml\n",
      "19_-31 Surat_2yr_19_-31_20140101__20160101.yaml\n",
      "19_-32 Surat_2yr_19_-32_20140101__20160101.yaml\n",
      "19_-33 Surat_2yr_19_-33_20140101__20160101.yaml\n"
     ]
    }
   ],
   "source": [
    "files_to_get_spatial_from = []\n",
    "for tile in tile_list_updated:\n",
    "    for files in os.listdir(): \n",
    "        if tile and '20140101__20160101.yaml' in files:\n",
    "            files_to_get_spatial_from.append(files)\n",
    "spatial_files =set(files_to_get_spatial_from)\n",
    "spatial_files=list(spatial_files)\n",
    "#check that we have the same amount of files as tiles\n",
    "len(spatial_files)==len(tile_list_updated)\n",
    "spatial_files.sort()\n",
    "\n",
    "for i in range(0, len(spatial_files)):\n",
    "    print(tile_list_updated[i], spatial_files[i])"
   ]
  },
  {
   "cell_type": "code",
   "execution_count": 11,
   "metadata": {
    "ExecuteTime": {
     "end_time": "2018-07-18T02:29:28.580740Z",
     "start_time": "2018-07-18T02:29:28.571503Z"
    }
   },
   "outputs": [
    {
     "data": {
      "text/plain": [
       "28"
      ]
     },
     "execution_count": 11,
     "metadata": {},
     "output_type": "execute_result"
    }
   ],
   "source": [
    "len(tile_list_updated)"
   ]
  },
  {
   "cell_type": "code",
   "execution_count": 12,
   "metadata": {
    "ExecuteTime": {
     "end_time": "2018-07-18T02:29:28.787519Z",
     "start_time": "2018-07-18T02:29:28.783211Z"
    }
   },
   "outputs": [],
   "source": [
    "years= ['20100101__20120101','20120101__20140101','20140101__20160101','20160101__20180101']"
   ]
  },
  {
   "cell_type": "code",
   "execution_count": 18,
   "metadata": {
    "ExecuteTime": {
     "end_time": "2018-07-18T02:33:27.399941Z",
     "start_time": "2018-07-18T02:33:25.980393Z"
    },
    "scrolled": false
   },
   "outputs": [
    {
     "name": "stdout",
     "output_type": "stream",
     "text": [
      "gdal_translate -a_srs EPSG:3577 -a_ullr 1500000.0 -2600000.0 1600000.0 -2700000.0 Surat_2yr_15_-27_20100101__20120101.tif Surat_2yr_15_-27_20100101__20120101_cor.tif\n",
      "gdal_translate -a_srs EPSG:3577 -a_ullr 1500000.0 -2700000.0 1600000.0 -2800000.0 Surat_2yr_15_-28_20100101__20120101.tif Surat_2yr_15_-28_20100101__20120101_cor.tif\n",
      "gdal_translate -a_srs EPSG:3577 -a_ullr 1500000.0 -2800000.0 1600000.0 -2900000.0 Surat_2yr_15_-29_20100101__20120101.tif Surat_2yr_15_-29_20100101__20120101_cor.tif\n",
      "gdal_translate -a_srs EPSG:3577 -a_ullr 1500000.0 -2900000.0 1600000.0 -3000000.0 Surat_2yr_15_-30_20100101__20120101.tif Surat_2yr_15_-30_20100101__20120101_cor.tif\n",
      "gdal_translate -a_srs EPSG:3577 -a_ullr 1500000.0 -3000000.0 1600000.0 -3100000.0 Surat_2yr_15_-31_20100101__20120101.tif Surat_2yr_15_-31_20100101__20120101_cor.tif\n",
      "gdal_translate -a_srs EPSG:3577 -a_ullr 1500000.0 -3100000.0 1600000.0 -3200000.0 Surat_2yr_15_-32_20100101__20120101.tif Surat_2yr_15_-32_20100101__20120101_cor.tif\n",
      "gdal_translate -a_srs EPSG:3577 -a_ullr 1600000.0 -2600000.0 1700000.0 -2700000.0 Surat_2yr_16_-27_20100101__20120101.tif Surat_2yr_16_-27_20100101__20120101_cor.tif\n",
      "gdal_translate -a_srs EPSG:3577 -a_ullr 1600000.0 -2700000.0 1700000.0 -2800000.0 Surat_2yr_16_-28_20100101__20120101.tif Surat_2yr_16_-28_20100101__20120101_cor.tif\n",
      "gdal_translate -a_srs EPSG:3577 -a_ullr 1600000.0 -2800000.0 1700000.0 -2900000.0 Surat_2yr_16_-29_20100101__20120101.tif Surat_2yr_16_-29_20100101__20120101_cor.tif\n",
      "gdal_translate -a_srs EPSG:3577 -a_ullr 1600000.0 -2900000.0 1700000.0 -3000000.0 Surat_2yr_16_-30_20100101__20120101.tif Surat_2yr_16_-30_20100101__20120101_cor.tif\n",
      "gdal_translate -a_srs EPSG:3577 -a_ullr 1600000.0 -3000000.0 1700000.0 -3100000.0 Surat_2yr_16_-31_20100101__20120101.tif Surat_2yr_16_-31_20100101__20120101_cor.tif\n",
      "gdal_translate -a_srs EPSG:3577 -a_ullr 1600000.0 -3100000.0 1700000.0 -3200000.0 Surat_2yr_16_-32_20100101__20120101.tif Surat_2yr_16_-32_20100101__20120101_cor.tif\n",
      "gdal_translate -a_srs EPSG:3577 -a_ullr 1600000.0 -3200000.0 1700000.0 -3300000.0 Surat_2yr_16_-33_20100101__20120101.tif Surat_2yr_16_-33_20100101__20120101_cor.tif\n",
      "gdal_translate -a_srs EPSG:3577 -a_ullr 1700000.0 -2600000.0 1800000.0 -2700000.0 Surat_2yr_17_-27_20100101__20120101.tif Surat_2yr_17_-27_20100101__20120101_cor.tif\n",
      "gdal_translate -a_srs EPSG:3577 -a_ullr 1700000.0 -2700000.0 1800000.0 -2800000.0 Surat_2yr_17_-28_20100101__20120101.tif Surat_2yr_17_-28_20100101__20120101_cor.tif\n",
      "gdal_translate -a_srs EPSG:3577 -a_ullr 1700000.0 -2800000.0 1800000.0 -2900000.0 Surat_2yr_17_-29_20100101__20120101.tif Surat_2yr_17_-29_20100101__20120101_cor.tif\n",
      "gdal_translate -a_srs EPSG:3577 -a_ullr 1700000.0 -2900000.0 1800000.0 -3000000.0 Surat_2yr_17_-30_20100101__20120101.tif Surat_2yr_17_-30_20100101__20120101_cor.tif\n",
      "gdal_translate -a_srs EPSG:3577 -a_ullr 1700000.0 -3000000.0 1800000.0 -3100000.0 Surat_2yr_17_-31_20100101__20120101.tif Surat_2yr_17_-31_20100101__20120101_cor.tif\n",
      "gdal_translate -a_srs EPSG:3577 -a_ullr 1700000.0 -3100000.0 1800000.0 -3200000.0 Surat_2yr_17_-32_20100101__20120101.tif Surat_2yr_17_-32_20100101__20120101_cor.tif\n",
      "gdal_translate -a_srs EPSG:3577 -a_ullr 1700000.0 -3200000.0 1800000.0 -3300000.0 Surat_2yr_17_-33_20100101__20120101.tif Surat_2yr_17_-33_20100101__20120101_cor.tif\n",
      "gdal_translate -a_srs EPSG:3577 -a_ullr 1800000.0 -2800000.0 1900000.0 -2900000.0 Surat_2yr_18_-29_20100101__20120101.tif Surat_2yr_18_-29_20100101__20120101_cor.tif\n",
      "gdal_translate -a_srs EPSG:3577 -a_ullr 1800000.0 -2900000.0 1900000.0 -3000000.0 Surat_2yr_18_-30_20100101__20120101.tif Surat_2yr_18_-30_20100101__20120101_cor.tif\n",
      "gdal_translate -a_srs EPSG:3577 -a_ullr 1800000.0 -3000000.0 1900000.0 -3100000.0 Surat_2yr_18_-31_20100101__20120101.tif Surat_2yr_18_-31_20100101__20120101_cor.tif\n",
      "gdal_translate -a_srs EPSG:3577 -a_ullr 1800000.0 -3100000.0 1900000.0 -3200000.0 Surat_2yr_18_-32_20100101__20120101.tif Surat_2yr_18_-32_20100101__20120101_cor.tif\n",
      "gdal_translate -a_srs EPSG:3577 -a_ullr 1800000.0 -3200000.0 1900000.0 -3300000.0 Surat_2yr_18_-33_20100101__20120101.tif Surat_2yr_18_-33_20100101__20120101_cor.tif\n",
      "gdal_translate -a_srs EPSG:3577 -a_ullr 1900000.0 -3000000.0 2000000.0 -3100000.0 Surat_2yr_19_-31_20100101__20120101.tif Surat_2yr_19_-31_20100101__20120101_cor.tif\n",
      "gdal_translate -a_srs EPSG:3577 -a_ullr 1900000.0 -3100000.0 2000000.0 -3200000.0 Surat_2yr_19_-32_20100101__20120101.tif Surat_2yr_19_-32_20100101__20120101_cor.tif\n",
      "gdal_translate -a_srs EPSG:3577 -a_ullr 1900000.0 -3200000.0 2000000.0 -3300000.0 Surat_2yr_19_-33_20100101__20120101.tif Surat_2yr_19_-33_20100101__20120101_cor.tif\n",
      "gdal_translate -a_srs EPSG:3577 -a_ullr 1500000.0 -2600000.0 1600000.0 -2700000.0 Surat_2yr_15_-27_20120101__20140101.tif Surat_2yr_15_-27_20120101__20140101_cor.tif\n",
      "gdal_translate -a_srs EPSG:3577 -a_ullr 1500000.0 -2700000.0 1600000.0 -2800000.0 Surat_2yr_15_-28_20120101__20140101.tif Surat_2yr_15_-28_20120101__20140101_cor.tif\n",
      "gdal_translate -a_srs EPSG:3577 -a_ullr 1500000.0 -2800000.0 1600000.0 -2900000.0 Surat_2yr_15_-29_20120101__20140101.tif Surat_2yr_15_-29_20120101__20140101_cor.tif\n",
      "gdal_translate -a_srs EPSG:3577 -a_ullr 1500000.0 -2900000.0 1600000.0 -3000000.0 Surat_2yr_15_-30_20120101__20140101.tif Surat_2yr_15_-30_20120101__20140101_cor.tif\n",
      "gdal_translate -a_srs EPSG:3577 -a_ullr 1500000.0 -3000000.0 1600000.0 -3100000.0 Surat_2yr_15_-31_20120101__20140101.tif Surat_2yr_15_-31_20120101__20140101_cor.tif\n",
      "gdal_translate -a_srs EPSG:3577 -a_ullr 1500000.0 -3100000.0 1600000.0 -3200000.0 Surat_2yr_15_-32_20120101__20140101.tif Surat_2yr_15_-32_20120101__20140101_cor.tif\n",
      "gdal_translate -a_srs EPSG:3577 -a_ullr 1600000.0 -2600000.0 1700000.0 -2700000.0 Surat_2yr_16_-27_20120101__20140101.tif Surat_2yr_16_-27_20120101__20140101_cor.tif\n",
      "gdal_translate -a_srs EPSG:3577 -a_ullr 1600000.0 -2700000.0 1700000.0 -2800000.0 Surat_2yr_16_-28_20120101__20140101.tif Surat_2yr_16_-28_20120101__20140101_cor.tif\n",
      "gdal_translate -a_srs EPSG:3577 -a_ullr 1600000.0 -2800000.0 1700000.0 -2900000.0 Surat_2yr_16_-29_20120101__20140101.tif Surat_2yr_16_-29_20120101__20140101_cor.tif\n",
      "gdal_translate -a_srs EPSG:3577 -a_ullr 1600000.0 -2900000.0 1700000.0 -3000000.0 Surat_2yr_16_-30_20120101__20140101.tif Surat_2yr_16_-30_20120101__20140101_cor.tif\n",
      "gdal_translate -a_srs EPSG:3577 -a_ullr 1600000.0 -3000000.0 1700000.0 -3100000.0 Surat_2yr_16_-31_20120101__20140101.tif Surat_2yr_16_-31_20120101__20140101_cor.tif\n",
      "gdal_translate -a_srs EPSG:3577 -a_ullr 1600000.0 -3100000.0 1700000.0 -3200000.0 Surat_2yr_16_-32_20120101__20140101.tif Surat_2yr_16_-32_20120101__20140101_cor.tif\n",
      "gdal_translate -a_srs EPSG:3577 -a_ullr 1600000.0 -3200000.0 1700000.0 -3300000.0 Surat_2yr_16_-33_20120101__20140101.tif Surat_2yr_16_-33_20120101__20140101_cor.tif\n",
      "gdal_translate -a_srs EPSG:3577 -a_ullr 1700000.0 -2600000.0 1800000.0 -2700000.0 Surat_2yr_17_-27_20120101__20140101.tif Surat_2yr_17_-27_20120101__20140101_cor.tif\n",
      "gdal_translate -a_srs EPSG:3577 -a_ullr 1700000.0 -2700000.0 1800000.0 -2800000.0 Surat_2yr_17_-28_20120101__20140101.tif Surat_2yr_17_-28_20120101__20140101_cor.tif\n",
      "gdal_translate -a_srs EPSG:3577 -a_ullr 1700000.0 -2800000.0 1800000.0 -2900000.0 Surat_2yr_17_-29_20120101__20140101.tif Surat_2yr_17_-29_20120101__20140101_cor.tif\n",
      "gdal_translate -a_srs EPSG:3577 -a_ullr 1700000.0 -2900000.0 1800000.0 -3000000.0 Surat_2yr_17_-30_20120101__20140101.tif Surat_2yr_17_-30_20120101__20140101_cor.tif\n",
      "gdal_translate -a_srs EPSG:3577 -a_ullr 1700000.0 -3000000.0 1800000.0 -3100000.0 Surat_2yr_17_-31_20120101__20140101.tif Surat_2yr_17_-31_20120101__20140101_cor.tif\n",
      "gdal_translate -a_srs EPSG:3577 -a_ullr 1700000.0 -3100000.0 1800000.0 -3200000.0 Surat_2yr_17_-32_20120101__20140101.tif Surat_2yr_17_-32_20120101__20140101_cor.tif\n",
      "gdal_translate -a_srs EPSG:3577 -a_ullr 1700000.0 -3200000.0 1800000.0 -3300000.0 Surat_2yr_17_-33_20120101__20140101.tif Surat_2yr_17_-33_20120101__20140101_cor.tif\n",
      "gdal_translate -a_srs EPSG:3577 -a_ullr 1800000.0 -2800000.0 1900000.0 -2900000.0 Surat_2yr_18_-29_20120101__20140101.tif Surat_2yr_18_-29_20120101__20140101_cor.tif\n",
      "gdal_translate -a_srs EPSG:3577 -a_ullr 1800000.0 -2900000.0 1900000.0 -3000000.0 Surat_2yr_18_-30_20120101__20140101.tif Surat_2yr_18_-30_20120101__20140101_cor.tif\n",
      "gdal_translate -a_srs EPSG:3577 -a_ullr 1800000.0 -3000000.0 1900000.0 -3100000.0 Surat_2yr_18_-31_20120101__20140101.tif Surat_2yr_18_-31_20120101__20140101_cor.tif\n",
      "gdal_translate -a_srs EPSG:3577 -a_ullr 1800000.0 -3100000.0 1900000.0 -3200000.0 Surat_2yr_18_-32_20120101__20140101.tif Surat_2yr_18_-32_20120101__20140101_cor.tif\n",
      "gdal_translate -a_srs EPSG:3577 -a_ullr 1800000.0 -3200000.0 1900000.0 -3300000.0 Surat_2yr_18_-33_20120101__20140101.tif Surat_2yr_18_-33_20120101__20140101_cor.tif\n",
      "gdal_translate -a_srs EPSG:3577 -a_ullr 1900000.0 -3000000.0 2000000.0 -3100000.0 Surat_2yr_19_-31_20120101__20140101.tif Surat_2yr_19_-31_20120101__20140101_cor.tif\n",
      "gdal_translate -a_srs EPSG:3577 -a_ullr 1900000.0 -3100000.0 2000000.0 -3200000.0 Surat_2yr_19_-32_20120101__20140101.tif Surat_2yr_19_-32_20120101__20140101_cor.tif\n",
      "gdal_translate -a_srs EPSG:3577 -a_ullr 1900000.0 -3200000.0 2000000.0 -3300000.0 Surat_2yr_19_-33_20120101__20140101.tif Surat_2yr_19_-33_20120101__20140101_cor.tif\n",
      "gdal_translate -a_srs EPSG:3577 -a_ullr 1500000.0 -2600000.0 1600000.0 -2700000.0 Surat_2yr_15_-27_20140101__20160101.tif Surat_2yr_15_-27_20140101__20160101_cor.tif\n",
      "gdal_translate -a_srs EPSG:3577 -a_ullr 1500000.0 -2700000.0 1600000.0 -2800000.0 Surat_2yr_15_-28_20140101__20160101.tif Surat_2yr_15_-28_20140101__20160101_cor.tif\n",
      "gdal_translate -a_srs EPSG:3577 -a_ullr 1500000.0 -2800000.0 1600000.0 -2900000.0 Surat_2yr_15_-29_20140101__20160101.tif Surat_2yr_15_-29_20140101__20160101_cor.tif\n",
      "gdal_translate -a_srs EPSG:3577 -a_ullr 1500000.0 -2900000.0 1600000.0 -3000000.0 Surat_2yr_15_-30_20140101__20160101.tif Surat_2yr_15_-30_20140101__20160101_cor.tif\n",
      "gdal_translate -a_srs EPSG:3577 -a_ullr 1500000.0 -3000000.0 1600000.0 -3100000.0 Surat_2yr_15_-31_20140101__20160101.tif Surat_2yr_15_-31_20140101__20160101_cor.tif\n",
      "gdal_translate -a_srs EPSG:3577 -a_ullr 1500000.0 -3100000.0 1600000.0 -3200000.0 Surat_2yr_15_-32_20140101__20160101.tif Surat_2yr_15_-32_20140101__20160101_cor.tif\n",
      "gdal_translate -a_srs EPSG:3577 -a_ullr 1600000.0 -2600000.0 1700000.0 -2700000.0 Surat_2yr_16_-27_20140101__20160101.tif Surat_2yr_16_-27_20140101__20160101_cor.tif\n",
      "gdal_translate -a_srs EPSG:3577 -a_ullr 1600000.0 -2700000.0 1700000.0 -2800000.0 Surat_2yr_16_-28_20140101__20160101.tif Surat_2yr_16_-28_20140101__20160101_cor.tif\n",
      "gdal_translate -a_srs EPSG:3577 -a_ullr 1600000.0 -2800000.0 1700000.0 -2900000.0 Surat_2yr_16_-29_20140101__20160101.tif Surat_2yr_16_-29_20140101__20160101_cor.tif\n",
      "gdal_translate -a_srs EPSG:3577 -a_ullr 1600000.0 -2900000.0 1700000.0 -3000000.0 Surat_2yr_16_-30_20140101__20160101.tif Surat_2yr_16_-30_20140101__20160101_cor.tif\n",
      "gdal_translate -a_srs EPSG:3577 -a_ullr 1600000.0 -3000000.0 1700000.0 -3100000.0 Surat_2yr_16_-31_20140101__20160101.tif Surat_2yr_16_-31_20140101__20160101_cor.tif\n",
      "gdal_translate -a_srs EPSG:3577 -a_ullr 1600000.0 -3100000.0 1700000.0 -3200000.0 Surat_2yr_16_-32_20140101__20160101.tif Surat_2yr_16_-32_20140101__20160101_cor.tif\n",
      "gdal_translate -a_srs EPSG:3577 -a_ullr 1600000.0 -3200000.0 1700000.0 -3300000.0 Surat_2yr_16_-33_20140101__20160101.tif Surat_2yr_16_-33_20140101__20160101_cor.tif\n",
      "gdal_translate -a_srs EPSG:3577 -a_ullr 1700000.0 -2600000.0 1800000.0 -2700000.0 Surat_2yr_17_-27_20140101__20160101.tif Surat_2yr_17_-27_20140101__20160101_cor.tif\n"
     ]
    },
    {
     "name": "stdout",
     "output_type": "stream",
     "text": [
      "gdal_translate -a_srs EPSG:3577 -a_ullr 1700000.0 -2700000.0 1800000.0 -2800000.0 Surat_2yr_17_-28_20140101__20160101.tif Surat_2yr_17_-28_20140101__20160101_cor.tif\n",
      "gdal_translate -a_srs EPSG:3577 -a_ullr 1700000.0 -2800000.0 1800000.0 -2900000.0 Surat_2yr_17_-29_20140101__20160101.tif Surat_2yr_17_-29_20140101__20160101_cor.tif\n",
      "gdal_translate -a_srs EPSG:3577 -a_ullr 1700000.0 -2900000.0 1800000.0 -3000000.0 Surat_2yr_17_-30_20140101__20160101.tif Surat_2yr_17_-30_20140101__20160101_cor.tif\n",
      "gdal_translate -a_srs EPSG:3577 -a_ullr 1700000.0 -3000000.0 1800000.0 -3100000.0 Surat_2yr_17_-31_20140101__20160101.tif Surat_2yr_17_-31_20140101__20160101_cor.tif\n",
      "gdal_translate -a_srs EPSG:3577 -a_ullr 1700000.0 -3100000.0 1800000.0 -3200000.0 Surat_2yr_17_-32_20140101__20160101.tif Surat_2yr_17_-32_20140101__20160101_cor.tif\n",
      "gdal_translate -a_srs EPSG:3577 -a_ullr 1700000.0 -3200000.0 1800000.0 -3300000.0 Surat_2yr_17_-33_20140101__20160101.tif Surat_2yr_17_-33_20140101__20160101_cor.tif\n",
      "gdal_translate -a_srs EPSG:3577 -a_ullr 1800000.0 -2800000.0 1900000.0 -2900000.0 Surat_2yr_18_-29_20140101__20160101.tif Surat_2yr_18_-29_20140101__20160101_cor.tif\n",
      "gdal_translate -a_srs EPSG:3577 -a_ullr 1800000.0 -2900000.0 1900000.0 -3000000.0 Surat_2yr_18_-30_20140101__20160101.tif Surat_2yr_18_-30_20140101__20160101_cor.tif\n",
      "gdal_translate -a_srs EPSG:3577 -a_ullr 1800000.0 -3000000.0 1900000.0 -3100000.0 Surat_2yr_18_-31_20140101__20160101.tif Surat_2yr_18_-31_20140101__20160101_cor.tif\n",
      "gdal_translate -a_srs EPSG:3577 -a_ullr 1800000.0 -3100000.0 1900000.0 -3200000.0 Surat_2yr_18_-32_20140101__20160101.tif Surat_2yr_18_-32_20140101__20160101_cor.tif\n",
      "gdal_translate -a_srs EPSG:3577 -a_ullr 1800000.0 -3200000.0 1900000.0 -3300000.0 Surat_2yr_18_-33_20140101__20160101.tif Surat_2yr_18_-33_20140101__20160101_cor.tif\n",
      "gdal_translate -a_srs EPSG:3577 -a_ullr 1900000.0 -3000000.0 2000000.0 -3100000.0 Surat_2yr_19_-31_20140101__20160101.tif Surat_2yr_19_-31_20140101__20160101_cor.tif\n",
      "gdal_translate -a_srs EPSG:3577 -a_ullr 1900000.0 -3100000.0 2000000.0 -3200000.0 Surat_2yr_19_-32_20140101__20160101.tif Surat_2yr_19_-32_20140101__20160101_cor.tif\n",
      "gdal_translate -a_srs EPSG:3577 -a_ullr 1900000.0 -3200000.0 2000000.0 -3300000.0 Surat_2yr_19_-33_20140101__20160101.tif Surat_2yr_19_-33_20140101__20160101_cor.tif\n",
      "gdal_translate -a_srs EPSG:3577 -a_ullr 1500000.0 -2600000.0 1600000.0 -2700000.0 Surat_2yr_15_-27_20160101__20180101.tif Surat_2yr_15_-27_20160101__20180101_cor.tif\n",
      "gdal_translate -a_srs EPSG:3577 -a_ullr 1500000.0 -2700000.0 1600000.0 -2800000.0 Surat_2yr_15_-28_20160101__20180101.tif Surat_2yr_15_-28_20160101__20180101_cor.tif\n",
      "gdal_translate -a_srs EPSG:3577 -a_ullr 1500000.0 -2800000.0 1600000.0 -2900000.0 Surat_2yr_15_-29_20160101__20180101.tif Surat_2yr_15_-29_20160101__20180101_cor.tif\n",
      "gdal_translate -a_srs EPSG:3577 -a_ullr 1500000.0 -2900000.0 1600000.0 -3000000.0 Surat_2yr_15_-30_20160101__20180101.tif Surat_2yr_15_-30_20160101__20180101_cor.tif\n",
      "gdal_translate -a_srs EPSG:3577 -a_ullr 1500000.0 -3000000.0 1600000.0 -3100000.0 Surat_2yr_15_-31_20160101__20180101.tif Surat_2yr_15_-31_20160101__20180101_cor.tif\n",
      "gdal_translate -a_srs EPSG:3577 -a_ullr 1500000.0 -3100000.0 1600000.0 -3200000.0 Surat_2yr_15_-32_20160101__20180101.tif Surat_2yr_15_-32_20160101__20180101_cor.tif\n",
      "gdal_translate -a_srs EPSG:3577 -a_ullr 1600000.0 -2600000.0 1700000.0 -2700000.0 Surat_2yr_16_-27_20160101__20180101.tif Surat_2yr_16_-27_20160101__20180101_cor.tif\n",
      "gdal_translate -a_srs EPSG:3577 -a_ullr 1600000.0 -2700000.0 1700000.0 -2800000.0 Surat_2yr_16_-28_20160101__20180101.tif Surat_2yr_16_-28_20160101__20180101_cor.tif\n",
      "gdal_translate -a_srs EPSG:3577 -a_ullr 1600000.0 -2800000.0 1700000.0 -2900000.0 Surat_2yr_16_-29_20160101__20180101.tif Surat_2yr_16_-29_20160101__20180101_cor.tif\n",
      "gdal_translate -a_srs EPSG:3577 -a_ullr 1600000.0 -2900000.0 1700000.0 -3000000.0 Surat_2yr_16_-30_20160101__20180101.tif Surat_2yr_16_-30_20160101__20180101_cor.tif\n",
      "gdal_translate -a_srs EPSG:3577 -a_ullr 1600000.0 -3000000.0 1700000.0 -3100000.0 Surat_2yr_16_-31_20160101__20180101.tif Surat_2yr_16_-31_20160101__20180101_cor.tif\n",
      "gdal_translate -a_srs EPSG:3577 -a_ullr 1600000.0 -3100000.0 1700000.0 -3200000.0 Surat_2yr_16_-32_20160101__20180101.tif Surat_2yr_16_-32_20160101__20180101_cor.tif\n",
      "gdal_translate -a_srs EPSG:3577 -a_ullr 1600000.0 -3200000.0 1700000.0 -3300000.0 Surat_2yr_16_-33_20160101__20180101.tif Surat_2yr_16_-33_20160101__20180101_cor.tif\n",
      "gdal_translate -a_srs EPSG:3577 -a_ullr 1700000.0 -2600000.0 1800000.0 -2700000.0 Surat_2yr_17_-27_20160101__20180101.tif Surat_2yr_17_-27_20160101__20180101_cor.tif\n",
      "gdal_translate -a_srs EPSG:3577 -a_ullr 1700000.0 -2700000.0 1800000.0 -2800000.0 Surat_2yr_17_-28_20160101__20180101.tif Surat_2yr_17_-28_20160101__20180101_cor.tif\n",
      "gdal_translate -a_srs EPSG:3577 -a_ullr 1700000.0 -2800000.0 1800000.0 -2900000.0 Surat_2yr_17_-29_20160101__20180101.tif Surat_2yr_17_-29_20160101__20180101_cor.tif\n",
      "gdal_translate -a_srs EPSG:3577 -a_ullr 1700000.0 -2900000.0 1800000.0 -3000000.0 Surat_2yr_17_-30_20160101__20180101.tif Surat_2yr_17_-30_20160101__20180101_cor.tif\n",
      "gdal_translate -a_srs EPSG:3577 -a_ullr 1700000.0 -3000000.0 1800000.0 -3100000.0 Surat_2yr_17_-31_20160101__20180101.tif Surat_2yr_17_-31_20160101__20180101_cor.tif\n",
      "gdal_translate -a_srs EPSG:3577 -a_ullr 1700000.0 -3100000.0 1800000.0 -3200000.0 Surat_2yr_17_-32_20160101__20180101.tif Surat_2yr_17_-32_20160101__20180101_cor.tif\n",
      "gdal_translate -a_srs EPSG:3577 -a_ullr 1700000.0 -3200000.0 1800000.0 -3300000.0 Surat_2yr_17_-33_20160101__20180101.tif Surat_2yr_17_-33_20160101__20180101_cor.tif\n",
      "gdal_translate -a_srs EPSG:3577 -a_ullr 1800000.0 -2800000.0 1900000.0 -2900000.0 Surat_2yr_18_-29_20160101__20180101.tif Surat_2yr_18_-29_20160101__20180101_cor.tif\n",
      "gdal_translate -a_srs EPSG:3577 -a_ullr 1800000.0 -2900000.0 1900000.0 -3000000.0 Surat_2yr_18_-30_20160101__20180101.tif Surat_2yr_18_-30_20160101__20180101_cor.tif\n",
      "gdal_translate -a_srs EPSG:3577 -a_ullr 1800000.0 -3000000.0 1900000.0 -3100000.0 Surat_2yr_18_-31_20160101__20180101.tif Surat_2yr_18_-31_20160101__20180101_cor.tif\n",
      "gdal_translate -a_srs EPSG:3577 -a_ullr 1800000.0 -3100000.0 1900000.0 -3200000.0 Surat_2yr_18_-32_20160101__20180101.tif Surat_2yr_18_-32_20160101__20180101_cor.tif\n",
      "gdal_translate -a_srs EPSG:3577 -a_ullr 1800000.0 -3200000.0 1900000.0 -3300000.0 Surat_2yr_18_-33_20160101__20180101.tif Surat_2yr_18_-33_20160101__20180101_cor.tif\n",
      "gdal_translate -a_srs EPSG:3577 -a_ullr 1900000.0 -3000000.0 2000000.0 -3100000.0 Surat_2yr_19_-31_20160101__20180101.tif Surat_2yr_19_-31_20160101__20180101_cor.tif\n",
      "gdal_translate -a_srs EPSG:3577 -a_ullr 1900000.0 -3100000.0 2000000.0 -3200000.0 Surat_2yr_19_-32_20160101__20180101.tif Surat_2yr_19_-32_20160101__20180101_cor.tif\n",
      "gdal_translate -a_srs EPSG:3577 -a_ullr 1900000.0 -3200000.0 2000000.0 -3300000.0 Surat_2yr_19_-33_20160101__20180101.tif Surat_2yr_19_-33_20160101__20180101_cor.tif\n"
     ]
    }
   ],
   "source": [
    "for year in years:\n",
    "    for j in range(0,len(spatial_files)):\n",
    "        with open(spatial_files[j], 'r') as spatialfileopen:       \n",
    "        #print(spatialfileopen.readlines())\n",
    "            ulx=uly=lrx=lry=None\n",
    "            for line in spatialfileopen:               \n",
    "                if 'lr: {x:' in line and lrx is None:\n",
    "                    lr = line\n",
    "                    lrx=  lr[14:23]\n",
    "                    lry= lr[27:38]\n",
    "                            #get uly and uly if we haven't found it yet. Each timestep repeats this in the yaml.\n",
    "                if 'ul: {x:' in line and ulx is None:\n",
    "                    ul = line\n",
    "                    ulx= ul[14:23]\n",
    "                    uly= ul[27:38]\n",
    "                    #print(tile_list_updated[j], ulx, uly)    \n",
    "                    #print(tile_list_updated[j], lrx, lry)\n",
    "        print(str('gdal_translate -a_srs EPSG:3577 -a_ullr '+ulx+uly+' '+lrx+lry+' Surat_2yr_'+tile_list_updated[j]+'_'+year+'.tif Surat_2yr_'+tile_list_updated[j]+'_'+year+'_cor.tif'))"
   ]
  },
  {
   "cell_type": "code",
   "execution_count": 14,
   "metadata": {
    "ExecuteTime": {
     "end_time": "2018-07-18T02:29:30.008726Z",
     "start_time": "2018-07-18T02:29:30.003184Z"
    }
   },
   "outputs": [
    {
     "name": "stdout",
     "output_type": "stream",
     "text": [
      "<module 'subprocess' from '/g/data/v10/public/modules/dea-env/20180629/lib/python3.6/subprocess.py'>\n"
     ]
    }
   ],
   "source": [
    "print (subprocess)"
   ]
  },
  {
   "cell_type": "code",
   "execution_count": 52,
   "metadata": {
    "ExecuteTime": {
     "end_time": "2018-07-18T03:30:48.463545Z",
     "start_time": "2018-07-18T03:30:48.367105Z"
    }
   },
   "outputs": [],
   "source": [
    "#subprocess.run([\"ls\", \"-l\"])\n",
    "result = subprocess.run([\"gdal_translate\", \" -a_srs EPSG:3577\",\" -a_ullr 1600000.0 -2900000.0 1700000.0 -3000000.0\", \" Surat_2yr_16_-30_20120101__20140101.tif\", \" Surat_2yr_16_-30_20120101__20140101_cor.tif\"], stderr=True)"
   ]
  },
  {
   "cell_type": "code",
   "execution_count": 43,
   "metadata": {
    "ExecuteTime": {
     "end_time": "2018-07-18T03:26:01.846884Z",
     "start_time": "2018-07-18T03:26:01.837402Z"
    }
   },
   "outputs": [
    {
     "name": "stdout",
     "output_type": "stream",
     "text": [
      "<module 'subprocess' from '/g/data/v10/public/modules/dea-env/20180629/lib/python3.6/subprocess.py'>\n"
     ]
    }
   ],
   "source": []
  },
  {
   "cell_type": "code",
   "execution_count": 32,
   "metadata": {
    "ExecuteTime": {
     "end_time": "2018-07-18T03:18:21.550527Z",
     "start_time": "2018-07-18T03:18:08.933632Z"
    }
   },
   "outputs": [
    {
     "data": {
      "text/plain": [
       "0"
      ]
     },
     "execution_count": 32,
     "metadata": {},
     "output_type": "execute_result"
    }
   ],
   "source": [
    "os.system('gdal_translate -a_srs EPSG:3577 -a_ullr 1800000.0 -3100000.0 1900000.0 -3200000.0 Surat_2yr_18_-32_20120101__20140101.tif Surat_2yr_18_-32_20120101__20140101_cor.tif')"
   ]
  },
  {
   "cell_type": "code",
   "execution_count": null,
   "metadata": {
    "ExecuteTime": {
     "end_time": "2018-07-18T02:29:30.030168Z",
     "start_time": "2018-07-18T02:29:29.880Z"
    },
    "scrolled": false
   },
   "outputs": [],
   "source": [
    "with open(spatial_files[0], 'r') as spatialfileopen:\n",
    "    #print(spatialfileopen.readlines())\n",
    "    ulx=uly=lrx=lry=None\n",
    "    for line in spatialfileopen:\n",
    "        #if not uly and uly\n",
    "        if 'ul: {x:' in line and ulx is None:\n",
    "            ul = line\n",
    "            ulx= ul[14:23]\n",
    "            uly = ul[27:38]\n",
    "            print(line, ulx, uly)"
   ]
  },
  {
   "cell_type": "code",
   "execution_count": 16,
   "metadata": {
    "ExecuteTime": {
     "end_time": "2018-07-18T02:29:30.275024Z",
     "start_time": "2018-07-18T02:29:30.156307Z"
    }
   },
   "outputs": [
    {
     "name": "stdout",
     "output_type": "stream",
     "text": [
      "/g/data1a/r78/datacube_stats/TCW_stats/Surat/Surat_2yr/outputs_corrected\r\n"
     ]
    }
   ],
   "source": [
    "!pwd\n",
    "#open files. make dictionary of upper left and lower right coords\n",
    "#if file name includes tile, "
   ]
  },
  {
   "cell_type": "code",
   "execution_count": null,
   "metadata": {},
   "outputs": [],
   "source": []
  }
 ],
 "metadata": {
  "kernelspec": {
   "display_name": "Python 3",
   "language": "python",
   "name": "python3"
  },
  "language_info": {
   "codemirror_mode": {
    "name": "ipython",
    "version": 3
   },
   "file_extension": ".py",
   "mimetype": "text/x-python",
   "name": "python",
   "nbconvert_exporter": "python",
   "pygments_lexer": "ipython3",
   "version": "3.6.5"
  }
 },
 "nbformat": 4,
 "nbformat_minor": 2
}
