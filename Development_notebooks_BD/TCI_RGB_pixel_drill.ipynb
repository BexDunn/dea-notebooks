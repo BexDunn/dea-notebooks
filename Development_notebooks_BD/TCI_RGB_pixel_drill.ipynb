{
 "cells": [
  {
   "cell_type": "markdown",
   "metadata": {
    "extensions": {
     "jupyter_dashboards": {
      "version": 1,
      "views": {
       "grid_default": {
        "col": 0,
        "height": 4,
        "hidden": false,
        "row": 0,
        "width": 12
       },
       "report_default": {
        "hidden": false
       }
      }
     }
    }
   },
   "source": [
    "\n",
    "# TCI RGB Pixel Drill"
   ]
  },
  {
   "cell_type": "markdown",
   "metadata": {
    "extensions": {
     "jupyter_dashboards": {
      "version": 1,
      "views": {
       "grid_default": {
        "col": 0,
        "height": 5,
        "hidden": false,
        "row": 4,
        "width": 12
       },
       "report_default": {
        "hidden": false
       }
      }
     }
    }
   },
   "source": [
    "Note: This notebook is a dashboard, check out this link to preview:\n",
    "https://nbviewer.jupyter.org/ ###FIXME###\n",
    "\n",
    "__Background:__ \n",
    "\n",
    "The Tasseled Cap Index (TCI) is a method of reducing 6 bands of satellite data (BLUE, GREEN, RED, NIR, SWIR1, SWIR2) to 3 bands (Brightness, Greenness, Wetness) using a Principal Components Analysis and Procrustes' Rotation [Roberts et al 2018](##References). This notebook uses the published coefficients of [Crist 1985](##References) as applied to Digital Earth Australia's Landsat satellite data. \n",
    "\n",
    "###FIXME --update---\n",
    "[Landsat 8](https://landsat.usgs.gov/landsat-8) data is available from April 2013 onwards. \n",
    "\n",
    "The geometric median ([geomedian](http://ieeexplore.ieee.org/document/8004469/)) is a spatial median composite of satellite data that can be used to look at the statistically \"average\" behavior of an area summarising the chosen time interval. The geometric median preserves relationships between spectral bands - so instead of getting an \"average\" behaviour for each band, you get an overall measure of the central tendency that works spatially, temporally and spectrally. \n",
    "\n",
    "The Tasseled Cap Index (TCI) is a method of reducing 6 bands of satellite data (BLUE, GREEN, RED, NIR, SWIR1, SWIR2) to 3 bands (Brightness, Greenness, Wetness) using a Principal Components Analysis and Procrustes' Rotation [Roberts et al 2018](##References). This notebook uses the published coefficients of [Crist 1985](##References) as applied to Digital Earth Australia's Landsat satellite data. \n",
    "\n",
    "__Before you run this notebook:__ This notebook uses the dea statistics module. You need to run \"module load dea\" in a terminal window and then launch jupyter notebooks in the same window so that your notebook can 'see' the stats module.\n",
    "\n",
    "__What does this notebook do?:__ This notebook interactively creates a geomedian composite of Landsat 8 data. You can then save the data as a png image, netcdf and geotiff.\n",
    "\n",
    "__Date:__ June 2018\n",
    "\n",
    "__Authors:__ Bex Dunn, Vanessa Newey, Erin Telfer\n",
    "\n",
    "---###FIXME -- update -----"
   ]
  },
  {
   "cell_type": "raw",
   "metadata": {
    "extensions": {
     "jupyter_dashboards": {
      "version": 1,
      "views": {
       "grid_default": {
        "hidden": true
       },
       "report_default": {
        "hidden": true
       }
      }
     }
    },
    "raw_mimetype": "text/restructuredtext"
   },
   "source": [
    "Tags: :index:`Landsat8`, :index:`geomedian`, :index:`shapefile`, :index:`ipywidgets`, :index:`Geotiff`, :index:`ipyleaflet`"
   ]
  },
  {
   "cell_type": "markdown",
   "metadata": {
    "ExecuteTime": {
     "end_time": "2018-02-13T03:40:16.537685Z",
     "start_time": "2018-02-13T03:40:16.535248Z"
    },
    "extensions": {
     "jupyter_dashboards": {
      "version": 1,
      "views": {
       "grid_default": {
        "col": 0,
        "height": 4,
        "hidden": false,
        "row": 9,
        "width": 4
       },
       "report_default": {
        "hidden": true
       }
      }
     }
    }
   },
   "source": [
    "### Import modules from standard libraries, datacube and files\n",
    "Select 'Trust this notebook' to import these modules and run the dashboard."
   ]
  },
  {
   "cell_type": "code",
   "execution_count": 1,
   "metadata": {
    "ExecuteTime": {
     "end_time": "2018-06-28T01:35:52.378684Z",
     "start_time": "2018-06-28T01:35:45.972794Z"
    },
    "extensions": {
     "jupyter_dashboards": {
      "version": 1,
      "views": {
       "grid_default": {
        "hidden": true
       },
       "report_default": {
        "hidden": true
       }
      }
     }
    },
    "init_cell": true
   },
   "outputs": [],
   "source": [
    "#import standard libraries\n",
    "import datetime #for widget date validation\n",
    "import fiona\n",
    "import numpy as np\n",
    "import os\n",
    "import pandas as pd\n",
    "import rasterio\n",
    "import sys\n",
    "import xarray as xr\n",
    "from ipywidgets import interact #for widgets\n",
    "from IPython.display import display\n",
    "import ipywidgets as widgets\n",
    "import matplotlib.pyplot as plt\n",
    "from matplotlib.pyplot import imshow\n",
    "from mpl_toolkits.axes_grid1 import make_axes_locatable\n",
    "import rasterio.features\n",
    "import shapely.geometry\n",
    "\n",
    "\n",
    "#modules for datacube and dea stats\n",
    "import datacube \n",
    "from datacube.helpers import ga_pq_fuser, write_geotiff\n",
    "from datacube.storage import masking\n",
    "from datacube.storage.masking import mask_to_dict\n",
    "from datacube.storage.storage import write_dataset_to_netcdf\n",
    "from datacube_stats.statistics import GeoMedian, TCWStats, argpercentile\n",
    "\n",
    "from datacube.utils import geometry\n",
    "# set datacube alias\n",
    "dc = datacube.Datacube(app='dc-tcw and geomedian')\n",
    "\n",
    "# Import external functions from dea-notebooks\n",
    "sys.path.append(os.path.expanduser('~/dea-notebooks/Scripts/'))\n",
    "import DEAPlotting, DEADataHandling\n",
    "from FileDialogs import *\n",
    "\n",
    "#ignore datacube warnings (needs to be last import statement)\n",
    "import warnings\n",
    "warnings.filterwarnings('ignore', module='datacube')\n",
    "\n",
    "#set global variables for widgets\n",
    "global GEOM\n",
    "global NBART\n",
    "global NBART_GM\n",
    "global NBART_TC\n",
    "global OUTPUT_STAT\n",
    "global OUTPUT_STAT_NAME\n",
    "global SHAPE_NAME\n",
    "GEOM = None\n",
    "OUTPUT_STAT=None\n",
    "OUTPUT_STAT_NAME=None\n",
    "NBART = None\n",
    "NBART_GM = None\n",
    "NBART_TC = None\n",
    "SHAPE_NAME =None"
   ]
  },
  {
   "cell_type": "markdown",
   "metadata": {
    "ExecuteTime": {
     "end_time": "2018-02-14T02:31:06.265607Z",
     "start_time": "2018-02-14T02:31:06.263057Z"
    },
    "extensions": {
     "jupyter_dashboards": {
      "version": 1,
      "views": {
       "grid_default": {
        "col": 4,
        "height": 4,
        "hidden": false,
        "row": 13,
        "width": 4
       },
       "report_default": {
        "hidden": false
       }
      }
     }
    }
   },
   "source": [
    "### Select a shape file for your area of analysis\n",
    " - Shape file can be selected by __either__ choosing a file __or__ by drawing a polygon below\n",
    " - __Note:__ if area is larger than 20km x 20km or time period is long, notebook may run out of memory"
   ]
  },
  {
   "cell_type": "code",
   "execution_count": 2,
   "metadata": {
    "ExecuteTime": {
     "end_time": "2018-06-28T01:35:52.397429Z",
     "start_time": "2018-06-28T01:35:52.382163Z"
    },
    "extensions": {
     "jupyter_dashboards": {
      "version": 1,
      "views": {
       "grid_default": {
        "hidden": true
       },
       "report_default": {
        "hidden": false
       }
      }
     }
    },
    "init_cell": true
   },
   "outputs": [],
   "source": [
    "#code to work with an input polygon\n",
    "style = {'description_width': 'initial'}\n",
    "shape_file = '/g/data1a/r78/rjd547/groundwater_activities/Burdekin/Burdekin_shapefiles/fels_sml.shp'\n",
    "shape_file_text = widgets.Text(value=shape_file,placeholder='choose a file',\n",
    "    description='path to shape file',\n",
    "    style = {'description_width': 'initial'},                          \n",
    "    disabled=False,\n",
    "    layout=widgets.Layout(width='70%'))\n",
    "def handle_shape_file(sender):\n",
    "    shape_file=shape_file_text.value\n",
    "shape_file_text.observe(handle_shape_file)\n",
    "#display(shape_file_text)"
   ]
  },
  {
   "cell_type": "markdown",
   "metadata": {
    "extensions": {
     "jupyter_dashboards": {
      "version": 1,
      "views": {
       "grid_default": {},
       "report_default": {
        "hidden": false
       }
      }
     }
    }
   },
   "source": [
    "### Use the select file button to choose a shape file"
   ]
  },
  {
   "cell_type": "code",
   "execution_count": 3,
   "metadata": {
    "ExecuteTime": {
     "end_time": "2018-06-28T01:35:52.427670Z",
     "start_time": "2018-06-28T01:35:52.400288Z"
    },
    "extensions": {
     "jupyter_dashboards": {
      "version": 1,
      "views": {
       "grid_default": {
        "hidden": true
       },
       "report_default": {
        "hidden": false
       }
      }
     }
    },
    "init_cell": true
   },
   "outputs": [
    {
     "data": {
      "application/vnd.jupyter.widget-view+json": {
       "model_id": "",
       "version_major": 2,
       "version_minor": 0
      },
      "text/plain": [
       "HBox(children=(Text(value='/g/data1a/r78/rjd547/groundwater_activities/Burdekin/Burdekin_shapefiles/fels_sml.s…"
      ]
     },
     "metadata": {},
     "output_type": "display_data"
    }
   ],
   "source": [
    "f = SelectFileButton()\n",
    "def handle_file_selector(sender):\n",
    "    shape_file_text.value = f.file\n",
    "f.on_click(handle_file_selector)\n",
    "display(widgets.HBox([shape_file_text,f],disabled=False))\n"
   ]
  },
  {
   "cell_type": "markdown",
   "metadata": {
    "ExecuteTime": {
     "end_time": "2018-03-20T01:14:23.748553Z",
     "start_time": "2018-03-20T01:14:23.745003Z"
    },
    "extensions": {
     "jupyter_dashboards": {
      "version": 1,
      "views": {
       "grid_default": {
        "col": 4,
        "height": 4,
        "hidden": false,
        "row": 25,
        "width": 4
       },
       "report_default": {
        "hidden": false
       }
      }
     }
    }
   },
   "source": [
    "### Use the check shapefile button to check if the chosen shapefile is valid"
   ]
  },
  {
   "cell_type": "code",
   "execution_count": 9,
   "metadata": {
    "ExecuteTime": {
     "end_time": "2018-06-18T02:09:32.270677Z",
     "start_time": "2018-06-18T02:09:32.248842Z"
    },
    "extensions": {
     "jupyter_dashboards": {
      "version": 1,
      "views": {
       "grid_default": {
        "col": 8,
        "height": 4,
        "hidden": false,
        "row": 26,
        "width": 4
       },
       "report_default": {
        "hidden": false
       }
      }
     }
    }
   },
   "outputs": [
    {
     "data": {
      "application/vnd.jupyter.widget-view+json": {
       "model_id": "ea4eacd77a3f445c831fda8b52c4b637",
       "version_major": 2,
       "version_minor": 0
      },
      "text/plain": [
       "Button(description='Check shapefile', style=ButtonStyle(), tooltip='Click me')"
      ]
     },
     "metadata": {},
     "output_type": "display_data"
    }
   ],
   "source": [
    "button =widgets.Button(\n",
    "    description='Check shapefile',\n",
    "    disabled=False,\n",
    "    button_style='', # 'success', 'info', 'warning', 'danger' or ''\n",
    "    tooltip='Click me',\n",
    ")\n",
    "\n",
    "def on_button_clicked(b):\n",
    "    #check whether shapefile is a valid shapefile and exists\n",
    "    if not os.path.isfile(shape_file_text.value):\n",
    "        print('this is not a shapefile')\n",
    "    else:\n",
    "        try:\n",
    "            with fiona.open(shape_file_text.value, 'r') as input:\n",
    "            # check that the file type is a shapefile\n",
    "                if input.driver == 'ESRI Shapefile':\n",
    "                    global GEOM\n",
    "                    global SHAPE_NAME\n",
    "                    GEOM, SHAPE_NAME = DEADataHandling.open_polygon_from_shapefile(shape_file_text.value)\n",
    "                    print (\"Specified file is a shapefile!\")\n",
    "                else:\n",
    "                    print (\"NOT a shapefile!\")\n",
    "        except:\n",
    "            print (\"NOT a shapefile!\")\n",
    "\n",
    "    #shapes = fiona.open(shape_file)\n",
    "button.on_click(on_button_clicked)\n",
    "display(button)"
   ]
  },
  {
   "cell_type": "markdown",
   "metadata": {
    "ExecuteTime": {
     "end_time": "2018-03-20T01:14:23.748553Z",
     "start_time": "2018-03-20T01:14:23.745003Z"
    },
    "extensions": {
     "jupyter_dashboards": {
      "version": 1,
      "views": {
       "grid_default": {
        "hidden": false
       },
       "report_default": {
        "hidden": false
       }
      }
     }
    }
   },
   "source": [
    "### Alternatively, draw a polygon on the map below\n",
    "After the polygon is drawn, select 'DrawnPolygon' below figure to use the polygon."
   ]
  },
  {
   "cell_type": "code",
   "execution_count": 10,
   "metadata": {
    "ExecuteTime": {
     "end_time": "2018-06-18T02:09:33.897988Z",
     "start_time": "2018-06-18T02:09:33.729645Z"
    },
    "extensions": {
     "jupyter_dashboards": {
      "version": 1,
      "views": {
       "grid_default": {},
       "report_default": {
        "hidden": false
       }
      }
     }
    },
    "scrolled": false
   },
   "outputs": [
    {
     "name": "stderr",
     "output_type": "stream",
     "text": [
      "/g/data/v10/public/modules/dea-env/20180405/lib/python3.6/site-packages/ipykernel_launcher.py:89: DeprecationWarning: on_trait_change is deprecated in traitlets 4.1: use observe instead\n"
     ]
    },
    {
     "data": {
      "application/vnd.jupyter.widget-view+json": {
       "model_id": "887f03997eae45e7b3979369c53acfd6",
       "version_major": 2,
       "version_minor": 0
      },
      "text/plain": [
       "VBox(children=(HBox(children=(Map(basemap={'url': 'https://{s}.tile.openstreetmap.org/{z}/{x}/{y}.png', 'max_z…"
      ]
     },
     "metadata": {},
     "output_type": "display_data"
    }
   ],
   "source": [
    "from ipyleaflet import (\n",
    "    Map,\n",
    "    Marker,\n",
    "    TileLayer, ImageOverlay,\n",
    "    Polyline, Polygon, Rectangle, Circle, CircleMarker,\n",
    "    GeoJSON,\n",
    "    DrawControl,\n",
    "    basemaps\n",
    ")\n",
    "\n",
    "\n",
    "from traitlets import link\n",
    "import ipywidgets as widgets\n",
    "from datacube.utils import geometry\n",
    "#center = [-12.543839666237682, 131.08474731445315]\n",
    "center =[-20.0183,145.3134]\n",
    "zoom = 10\n",
    "\n",
    "\n",
    "m = Map(center=center, zoom=zoom,layout=dict(width='400px', height='400px'))\n",
    "\n",
    "#Let's draw a second map \n",
    "\n",
    "m2 = Map(center=center, zoom=zoom, basemap=basemaps.Esri.WorldImagery,layout=m.layout)\n",
    "\n",
    "\n",
    "# Now create the DrawControls and add it to the Maps using add_control. \n",
    "# We also register handlers for draw events. These will fire when a polygon is drawn created, edited or deleted \n",
    "# (there are the actions). The geo_json argument is the serialized geometry of the drawn path, \n",
    "# along with its embedded style.\n",
    "\n",
    "draw_control = DrawControl(polyline={})\n",
    "draw_control2 = DrawControl(polygon={'shapeOptions': {'color': '#0000FF'}}, polyline={})\n",
    "def handle_draw(self, action, geo_json):\n",
    "    if action == 'created':\n",
    "        m2.add_layer(GeoJSON(data=draw_control.last_draw))\n",
    "        draw_control2.last_draw =draw_control.last_draw\n",
    "    if action == 'deleted':\n",
    "        while len(m2.layers)>1:\n",
    "            m2.remove_layer(m2.layers[1])\n",
    "\n",
    "def handle_draw2(self, action, geo_json):\n",
    "    \n",
    "    if action == 'created':\n",
    "        m.add_layer(GeoJSON(data=draw_control2.last_draw))\n",
    "        draw_control.last_draw =draw_control2.last_draw\n",
    "    if action == 'deleted':\n",
    "        while len(m.layers)>1:\n",
    "            m.remove_layer(m.layers[1])\n",
    "            \n",
    "#add handlers to draw controls  \n",
    "draw_control.on_draw(handle_draw)\n",
    "draw_control2.on_draw(handle_draw2)\n",
    "\n",
    "#add draw controls to maps\n",
    "m.add_control(draw_control)\n",
    "m2.add_control(draw_control2)\n",
    "\n",
    "#We can use link to synchronize traitlets of the two maps:\n",
    "\n",
    "map_center_link = link((m, 'center'), (m2, 'center'))\n",
    "map_zoom_link = link((m, 'zoom'), (m2, 'zoom'))\n",
    "\n",
    "#use_map_geom_button = widgets.Button(description=\"Use Drawn Geom\")\n",
    "\n",
    "use_map_geom_button = widgets.ToggleButtons(\n",
    "    options=['Shapefile', 'DrawnPolygon'],\n",
    "    description='Geometry Used for Datacube Query:',\n",
    "    disabled=False,\n",
    "    button_style='', # 'success', 'info', 'warning', 'danger' or ''\n",
    "    tooltips=['Use Shapefile Specified for the DC query', 'Use Polygon Drawn on the Map for the DC query'],\n",
    "#     icons=['check'] * 3\n",
    ")\n",
    "\n",
    "def on_map_button_click(b):\n",
    "    global GEOM\n",
    "    global SHAPE_NAME\n",
    "    #Leaflet return geometry in EPSG:4326\n",
    "    geom_crs = geometry.CRS('EPSG:4326') \n",
    "    if use_map_geom_button.value == \"Shapefile\":\n",
    "        GEOM, SHAPE_NAME = DEADataHandling.open_polygon_from_shapefile(shape_file_text.value)\n",
    "    else:\n",
    "        try:\n",
    "            GEOM=geometry.Geometry(draw_control.last_draw['geometry'], geom_crs)\n",
    "            SHAPE_NAME = \"drawn_polygon\"\n",
    "        except:\n",
    "            print(\"Draw a polygon first.\")\n",
    "\n",
    "use_map_geom_button.on_trait_change(on_map_button_click)\n",
    "\n",
    "\n",
    "from ipywidgets import HBox, VBox\n",
    "h_box= HBox([m,m2])\n",
    "\n",
    "VBox([h_box,use_map_geom_button])"
   ]
  },
  {
   "cell_type": "markdown",
   "metadata": {
    "extensions": {
     "jupyter_dashboards": {
      "version": 1,
      "views": {
       "grid_default": {
        "col": 4,
        "height": 4,
        "hidden": false,
        "row": 21,
        "width": 4
       },
       "report_default": {
        "hidden": false
       }
      }
     }
    }
   },
   "source": [
    "### Fill in boxes to select time period of interest\n",
    "Press the 'Check dates' button to check that the time period is valid"
   ]
  },
  {
   "cell_type": "code",
   "execution_count": 25,
   "metadata": {
    "ExecuteTime": {
     "end_time": "2018-06-15T03:34:10.417697Z",
     "start_time": "2018-06-15T03:34:10.339694Z"
    },
    "extensions": {
     "jupyter_dashboards": {
      "version": 1,
      "views": {
       "grid_default": {
        "col": 4,
        "height": 5,
        "hidden": false,
        "row": 29,
        "width": 4
       },
       "report_default": {
        "hidden": false
       }
      }
     }
    }
   },
   "outputs": [
    {
     "data": {
      "application/vnd.jupyter.widget-view+json": {
       "model_id": "4bbf21d311f24997b945a06056bd4aa2",
       "version_major": 2,
       "version_minor": 0
      },
      "text/plain": [
       "HBox(children=(Text(value='2013-05-01', description='start date', placeholder='update this field YYYY-MM-DD'),…"
      ]
     },
     "metadata": {},
     "output_type": "display_data"
    },
    {
     "data": {
      "application/vnd.jupyter.widget-view+json": {
       "model_id": "182d1acac64d40df89d41ce34ce1be8d",
       "version_major": 2,
       "version_minor": 0
      },
      "text/plain": [
       "HBox(children=(Text(value='2013-10-31', description='end date', placeholder='update this field YYYY-MM-DD'), L…"
      ]
     },
     "metadata": {},
     "output_type": "display_data"
    },
    {
     "data": {
      "application/vnd.jupyter.widget-view+json": {
       "model_id": "4a1950beb93d4dc3bcc689a7918ee2b9",
       "version_major": 2,
       "version_minor": 0
      },
      "text/plain": [
       "Button(description='Check dates', style=ButtonStyle(), tooltip='Click me')"
      ]
     },
     "metadata": {},
     "output_type": "display_data"
    }
   ],
   "source": [
    "#Set a standard time range for people to change as desired\n",
    "start_of_epoch = '2013-05-01'\n",
    "end_of_epoch =  '2013-10-31'\n",
    "\n",
    "#create a date picker widget for the start date\n",
    "from_date_picker = widgets.Text(value=start_of_epoch,\n",
    "                                placeholder='update this field YYYY-MM-DD',\n",
    "    description='start date',\n",
    "    disabled=False)\n",
    "\n",
    "#define a function to check the start date\n",
    "def handle_from_date(sender):\n",
    "    '''takes the start of epoch date from the date picker and checks it is in the \n",
    "    correct format'''\n",
    "    start_of_epoch=from_date_picker.value\n",
    "    validate(start_of_epoch)\n",
    "    \n",
    "#when you press enter this runs the event handler (handle_from_date)    \n",
    "from_date_picker.on_submit(handle_from_date)\n",
    "\n",
    "#create a date picker widget for the end date\n",
    "to_date_picker = widgets.Text(value = end_of_epoch,\n",
    "                              placeholder='update this field YYYY-MM-DD',\n",
    "    description='end date',\n",
    "    disabled=False)\n",
    "\n",
    "def handle_to_date(sender):\n",
    "    '''takes the end of epoch date from the date picker and checks it is in the \n",
    "    correct format'''\n",
    "    end_of_epoch = to_date_picker.value\n",
    "    validate(end_of_epoch)\n",
    "    \n",
    "#when you press enter this runs the event handler (handle_to_date)    \n",
    "to_date_picker.on_submit(handle_to_date)\n",
    "\n",
    "#make a validation button to validate the dates\n",
    "#first write the function the button runs\n",
    "def validate(date_text):\n",
    "    '''this function checks to see whether your text is year-month-day formatted'''\n",
    "    try:\n",
    "        datetime.datetime.strptime(date_text, '%Y-%m-%d')\n",
    "        return True    \n",
    "    except ValueError:\n",
    "        return False\n",
    "    \n",
    "#make the button run the function to check the dates\n",
    "button_epoch =widgets.Button(\n",
    "    description='Check dates',\n",
    "    disabled=False,\n",
    "    button_style='', # 'success', 'info', 'warning', 'danger' or ''\n",
    "    tooltip='Click me',\n",
    ")\n",
    "\n",
    "#This widget prints whether or not your start date is valid\n",
    "starttextwidget = widgets.Label(\n",
    "value='Is my start date valid?'\n",
    ")\n",
    "\n",
    "#This widget prints whether or not your end date is valid\n",
    "endtextwidget = widgets.Label(\n",
    "value='Is my end date valid?'\n",
    ")\n",
    "\n",
    "#this is the event handler for when you click on the button\n",
    "def on_button_end_epoch_clicked(button):\n",
    "    '''check whether the dates are in the format we need'''\n",
    "    if not validate(to_date_picker.value):\n",
    "        endtextwidget.value = ('Incorrect data format, should be YYYY-MM-DD')\n",
    "    else:\n",
    "        validate(to_date_picker.value)\n",
    "        endtextwidget.value = ('End date is valid')\n",
    "        \n",
    " \n",
    "    if not validate(from_date_picker.value):\n",
    "        starttextwidget.value = ('Incorrect data format, should be YYYY-MM-DD')\n",
    "    else:\n",
    "        validate(from_date_picker.value)\n",
    "        starttextwidget.value = ('Start date is valid')\n",
    "        start_of_epoch = from_date_picker.value\n",
    "    \n",
    "    \n",
    "button_epoch.on_click(on_button_end_epoch_clicked)\n",
    "\n",
    "#display widgets next to each other\n",
    "end_hbox = widgets.HBox([to_date_picker, endtextwidget])\n",
    "start_hbox = widgets.HBox([from_date_picker, starttextwidget])\n",
    "display(start_hbox,end_hbox)\n",
    "display(button_epoch)"
   ]
  },
  {
   "cell_type": "markdown",
   "metadata": {
    "extensions": {
     "jupyter_dashboards": {
      "version": 1,
      "views": {
       "grid_default": {
        "col": 8,
        "height": 4,
        "hidden": false,
        "row": 9,
        "width": 4
       },
       "report_default": {
        "hidden": false
       }
      }
     }
    }
   },
   "source": [
    "### Load the data\n",
    "\n",
    "Push the 'Load data' button.\n",
    "This may take a few minutes, please be patient. "
   ]
  },
  {
   "cell_type": "code",
   "execution_count": 26,
   "metadata": {
    "ExecuteTime": {
     "end_time": "2018-06-15T03:34:11.523552Z",
     "start_time": "2018-06-15T03:34:11.506697Z"
    },
    "extensions": {
     "jupyter_dashboards": {
      "version": 1,
      "views": {
       "grid_default": {},
       "report_default": {
        "hidden": false
       }
      }
     }
    }
   },
   "outputs": [
    {
     "data": {
      "application/vnd.jupyter.widget-view+json": {
       "model_id": "f4b7bc88f85846f48f81d544fca15337",
       "version_major": 2,
       "version_minor": 0
      },
      "text/plain": [
       "Button(description='Load', style=ButtonStyle())"
      ]
     },
     "metadata": {},
     "output_type": "display_data"
    },
    {
     "name": "stdout",
     "output_type": "stream",
     "text": [
      "Loading ls8_nbart_albers\n",
      "Loaded ls8_nbart_albers\n",
      "Generating mask ls8_pq_albers\n",
      "Data loaded\n"
     ]
    }
   ],
   "source": [
    "loadButton = widgets.Button(description=\"Load\")\n",
    "\n",
    "def on_load_button_clicked(b):\n",
    "    start_of_epoch = from_date_picker.value\n",
    "    end_of_epoch = to_date_picker.value\n",
    "    global GEOM\n",
    "    global SHAPE_NAME\n",
    "    global NBART\n",
    "    if GEOM is None:\n",
    "        GEOM, SHAPE_NAME = DEADataHandling.open_polygon_from_shapefile(shape_file_text.value)\n",
    "\n",
    "    query = {\n",
    "        'time': (start_of_epoch, end_of_epoch), 'geopolygon': GEOM,\n",
    "    }\n",
    "\n",
    "    sensor3_nbart, crs, affine=DEADataHandling.load_nbarx(dc,sensor='ls8', query=query)\n",
    "    \n",
    "    NBART=sensor3_nbart.sortby('time')\n",
    "    \n",
    "    print(\"Data loaded\")\n",
    "\n",
    "loadButton.on_click(on_load_button_clicked)\n",
    "display(loadButton)"
   ]
  },
  {
   "cell_type": "code",
   "execution_count": 29,
   "metadata": {
    "ExecuteTime": {
     "end_time": "2018-06-15T03:35:10.631303Z",
     "start_time": "2018-06-15T03:34:53.282793Z"
    },
    "extensions": {
     "jupyter_dashboards": {
      "version": 1,
      "views": {
       "grid_default": {},
       "report_default": {
        "hidden": false
       }
      }
     }
    }
   },
   "outputs": [
    {
     "data": {
      "application/vnd.jupyter.widget-view+json": {
       "model_id": "2b53d15fcb374af6b7dbf6c19d9f6986",
       "version_major": 2,
       "version_minor": 0
      },
      "text/plain": [
       "interactive(children=(ToggleButtons(description='Click selection to calculate stats:', options=('Geomedian', '…"
      ]
     },
     "metadata": {},
     "output_type": "display_data"
    }
   ],
   "source": [
    "#use_map_geom_button = widgets.Button(description=\"Use Drawn Geom\")\n",
    "\n",
    "calculate_button = widgets.ToggleButtons(\n",
    "    options=['Geomedian', 'Tasselled Cap'],\n",
    "    description='Click selection to calculate stats:',\n",
    "    disabled=False,\n",
    "    button_style='', # 'success', 'info', 'warning', 'danger' or ''\n",
    "    tooltips=['Calculate Geomedian', 'Calculate Tasselled Cap Stats'],\n",
    "#     icons=['check'] * 3\n",
    ")\n",
    "\n",
    "@interact\n",
    "def clicked(a=calculate_button):\n",
    "    if NBART is not None:\n",
    "        if a == 'Geomedian':\n",
    "            #geomedian transform\n",
    "            print('Calculating Geomedian')\n",
    "            global NBART_GM\n",
    "            NBART_GM=GeoMedian().compute(NBART)\n",
    "            print('Geomedian Calculated')\n",
    "        else:\n",
    "            global NBART_TC\n",
    "            print('Calculating Tasselled Cap Stats')\n",
    "            NBART_TC=TCWStats().compute(NBART)\n",
    "            print('Tasselled Cap Stats Calculated')        "
   ]
  },
  {
   "cell_type": "markdown",
   "metadata": {
    "ExecuteTime": {
     "end_time": "2018-02-14T23:04:02.682868Z",
     "start_time": "2018-02-14T23:04:02.678022Z"
    },
    "extensions": {
     "jupyter_dashboards": {
      "version": 1,
      "views": {
       "grid_default": {
        "col": 0,
        "height": 4,
        "hidden": false,
        "row": 18,
        "width": 4
       },
       "report_default": {
        "hidden": false
       }
      }
     }
    }
   },
   "source": [
    "### Plot the stat composite in RGB:"
   ]
  },
  {
   "cell_type": "code",
   "execution_count": 28,
   "metadata": {
    "ExecuteTime": {
     "end_time": "2018-06-15T03:34:53.098973Z",
     "start_time": "2018-06-15T03:34:52.414879Z"
    },
    "extensions": {
     "jupyter_dashboards": {
      "version": 1,
      "views": {
       "grid_default": {
        "col": 8,
        "height": 9,
        "hidden": false,
        "row": 13,
        "width": 4
       },
       "report_default": {
        "hidden": false
       }
      }
     }
    },
    "scrolled": false
   },
   "outputs": [
    {
     "data": {
      "application/vnd.jupyter.widget-view+json": {
       "model_id": "4be24d6d1b4a4d8c91db17748f37be03",
       "version_major": 2,
       "version_minor": 0
      },
      "text/plain": [
       "interactive(children=(RadioButtons(description='Plot Which Stat?', options=('Geomedian', 'TCWetness Summary', …"
      ]
     },
     "metadata": {},
     "output_type": "display_data"
    }
   ],
   "source": [
    "plotButton = widgets.RadioButtons(description=\"Plot Which Stat?\", \n",
    "                                 options=['Geomedian','TCWetness Summary','TCI RGB Summary','TCI means RGB',\n",
    "                                         'TCI std dev RGB'])\n",
    "@interact\n",
    "def on_plot_button_click(b=plotButton):\n",
    "    global NBART\n",
    "    global NBART_GM\n",
    "    global NBART_TC\n",
    "    if NBART is not None:\n",
    "        if b == 'Geomedian':\n",
    "            if NBART_GM is not None:\n",
    "                DEAPlotting.three_band_image(NBART_GM, title='Geomedian composite', contrast_enhance=True)\n",
    "            else:\n",
    "                print('Please calculate Geomedian first')\n",
    "        else:\n",
    "            if NBART_TC is None:\n",
    "                print('Please calculate Tasselled Cap Stats first')\n",
    "            else:\n",
    "                if b == 'TCWetness Summary':\n",
    "                    plt.figure(figsize=(10,10))\n",
    "                    ax = plt.gca()\n",
    "                    im = ax.imshow(NBART_TC.pct_exceedance_wetness, cmap='gist_earth_r',vmin=0,vmax=1)\n",
    "                    # create an axes on the right side of ax. The width of cax will be 5%\n",
    "                    # of ax and the padding between cax and ax will be fixed at 0.05 inch.\n",
    "                    divider = make_axes_locatable(ax)\n",
    "                    cax = divider.append_axes(\"right\", size=\"3%\", pad=0.2)\n",
    "                    plt.colorbar(im, cax=cax)\n",
    "                    plt.show()\n",
    "                if b == 'TCI RGB Summary':\n",
    "                    DEAPlotting.three_band_image(NBART_TC, bands=['pct_exceedance_brightness', \n",
    "                                                                  'pct_exceedance_greenness',\n",
    "                                                                  'pct_exceedance_wetness'],\n",
    "                                                 title=str(b),reflect_stand=1) #0.1 for high contrast)\n",
    "                if b == 'TCI means RGB':\n",
    "                    DEAPlotting.three_band_image(NBART_TC, bands=['mean_brightness', \n",
    "                                                                  'mean_greenness',\n",
    "                                                                  'mean_wetness'],\n",
    "                                                 title=str(b),contrast_enhance=True)\n",
    "                if b == 'TCI std dev RGB':\n",
    "                    DEAPlotting.three_band_image(NBART_TC, bands=['std_brightness', \n",
    "                                                                  'std_greenness',\n",
    "                                                                  'std_wetness'],\n",
    "                                                 title=str(b),contrast_enhance=True)  \n",
    "            \n",
    "    "
   ]
  },
  {
   "cell_type": "code",
   "execution_count": 18,
   "metadata": {
    "ExecuteTime": {
     "end_time": "2018-06-15T03:33:43.109821Z",
     "start_time": "2018-06-15T03:33:43.074099Z"
    },
    "extensions": {
     "jupyter_dashboards": {
      "version": 1,
      "views": {
       "grid_default": {},
       "report_default": {
        "hidden": false
       }
      }
     }
    }
   },
   "outputs": [
    {
     "data": {
      "application/vnd.jupyter.widget-view+json": {
       "model_id": "17a20655edcf4555b9d0e9d314f388bb",
       "version_major": 2,
       "version_minor": 0
      },
      "text/plain": [
       "interactive(children=(RadioButtons(description='Save Which Stat?', options=('Geomedian', 'Tasselled Cap'), val…"
      ]
     },
     "metadata": {},
     "output_type": "display_data"
    }
   ],
   "source": [
    "savechoiceButton = widgets.RadioButtons(description=\"Save Which Stat?\", \n",
    "                                 options=['Geomedian','Tasselled Cap'])\n",
    "@interact\n",
    "def on_save_button_click(c=savechoiceButton):\n",
    "    global NBART\n",
    "    global NBART_GM\n",
    "    global NBART_TC\n",
    "    global OUTPUT_STAT\n",
    "    global OUTPUT_STAT_NAME\n",
    "    if NBART is not None:\n",
    "        OUTPUT_STAT_NAME = c \n",
    "        if c == 'Geomedian':\n",
    "            if NBART_GM is not None:\n",
    "                OUTPUT_STAT=NBART_GM                \n",
    "            else:\n",
    "                print('Please calculate Geomedian first')\n",
    "        else:\n",
    "            if NBART_TC is None:\n",
    "                print('Please calculate Tasselled Cap Stats first')\n",
    "            else:\n",
    "                OUTPUT_STAT=NBART_TC    "
   ]
  },
  {
   "cell_type": "markdown",
   "metadata": {
    "ExecuteTime": {
     "end_time": "2018-02-26T00:40:00.878144Z",
     "start_time": "2018-02-26T00:40:00.872800Z"
    },
    "extensions": {
     "jupyter_dashboards": {
      "version": 1,
      "views": {
       "grid_default": {
        "col": 0,
        "height": 4,
        "hidden": false,
        "row": 22,
        "width": 4
       },
       "report_default": {
        "hidden": false
       }
      }
     }
    }
   },
   "source": [
    "### Save as netcdf:"
   ]
  },
  {
   "cell_type": "code",
   "execution_count": 14,
   "metadata": {
    "ExecuteTime": {
     "end_time": "2018-06-05T02:14:34.038978Z",
     "start_time": "2018-06-05T02:14:34.021149Z"
    },
    "extensions": {
     "jupyter_dashboards": {
      "version": 1,
      "views": {
       "grid_default": {
        "col": 0,
        "height": 4,
        "hidden": false,
        "row": 26,
        "width": 4
       },
       "report_default": {
        "hidden": false
       }
      }
     }
    }
   },
   "outputs": [
    {
     "data": {
      "application/vnd.jupyter.widget-view+json": {
       "model_id": "9a62e152041a4a92862abdcac4e86be2",
       "version_major": 2,
       "version_minor": 0
      },
      "text/plain": [
       "SaveFileButton(description='Save File As', icon='square-o', style=ButtonStyle(button_color='orange'))"
      ]
     },
     "metadata": {},
     "output_type": "display_data"
    }
   ],
   "source": [
    "saveFileB = SaveFileButton()\n",
    "def handle_file_selector(sender):\n",
    "    filename =saveFileB.file\n",
    "    global OUTPUT_STAT\n",
    "    global OUTPUT_STAT_NAME\n",
    "    if OUTPUT_STAT is None:\n",
    "        print('Calculate output stats first')\n",
    "    else:    \n",
    "        DEADataHandling.write_your_netcdf(OUTPUT_STAT,OUTPUT_STAT_NAME,filename=filename, crs=OUTPUT_STAT.crs)\n",
    "        print(\"saved netcdf ...check you added a .nc to the end of your filename..\")\n",
    "saveFileB.on_click(handle_file_selector)\n",
    "display(saveFileB)\n"
   ]
  },
  {
   "cell_type": "markdown",
   "metadata": {
    "extensions": {
     "jupyter_dashboards": {
      "version": 1,
      "views": {
       "grid_default": {
        "col": 8,
        "height": 4,
        "hidden": false,
        "row": 22,
        "width": 4
       },
       "report_default": {
        "hidden": false
       }
      }
     }
    }
   },
   "source": [
    "### Save as GeoTiff:"
   ]
  },
  {
   "cell_type": "code",
   "execution_count": 15,
   "metadata": {
    "ExecuteTime": {
     "end_time": "2018-06-05T02:14:34.058921Z",
     "start_time": "2018-06-05T02:14:34.041223Z"
    },
    "extensions": {
     "jupyter_dashboards": {
      "version": 1,
      "views": {
       "grid_default": {
        "hidden": true
       },
       "report_default": {
        "hidden": false
       }
      }
     }
    }
   },
   "outputs": [
    {
     "data": {
      "application/vnd.jupyter.widget-view+json": {
       "model_id": "c9c46547500846d983e30711e4d9365a",
       "version_major": 2,
       "version_minor": 0
      },
      "text/plain": [
       "SaveFileButton(description='Save File As', icon='square-o', style=ButtonStyle(button_color='orange'))"
      ]
     },
     "metadata": {},
     "output_type": "display_data"
    }
   ],
   "source": [
    "saveFileB2 = SaveFileButton()\n",
    "def handle_file_selector(sender):\n",
    "    filename =saveFileB2.file\n",
    "    global OUTPUT_STAT\n",
    "    global OUTPUT_STAT_NAME\n",
    "    if OUTPUT_STAT is None:\n",
    "        print('Calculate output stats first')\n",
    "    write_geotiff(filename, OUTPUT_STAT)\n",
    "    print(\"saved geotiff, make sure you added a .tif to your filename\")\n",
    "saveFileB2.on_click(handle_file_selector)\n",
    "display(saveFileB2)\n"
   ]
  },
  {
   "cell_type": "markdown",
   "metadata": {
    "extensions": {
     "jupyter_dashboards": {
      "version": 1,
      "views": {
       "grid_default": {
        "hidden": false
       },
       "report_default": {
        "hidden": false
       }
      }
     }
    }
   },
   "source": [
    "## References"
   ]
  },
  {
   "cell_type": "markdown",
   "metadata": {
    "extensions": {
     "jupyter_dashboards": {
      "version": 1,
      "views": {
       "grid_default": {
        "hidden": false
       },
       "report_default": {
        "hidden": false
       }
      }
     }
    }
   },
   "source": [
    "1. Roberts, D., Dunn,B., Mueller, N. 2018, *Open Data Cube Products Using High-Dimensional Statistics of Time Series*, in press.\n",
    "\n",
    "2. E. P. Crist, *A tm tasseled cap equivalent transformation for reflectance\n",
    "factor data*, Remote Sensing of Environment, vol. 17, no. 3, pp. 301-306, 1985."
   ]
  },
  {
   "cell_type": "code",
   "execution_count": null,
   "metadata": {
    "extensions": {
     "jupyter_dashboards": {
      "version": 1,
      "views": {
       "grid_default": {},
       "report_default": {
        "hidden": true
       }
      }
     }
    }
   },
   "outputs": [],
   "source": []
  }
 ],
 "metadata": {
  "celltoolbar": "Edit Metadata",
  "extensions": {
   "jupyter_dashboards": {
    "activeView": "report_default",
    "version": 1,
    "views": {
     "grid_default": {
      "cellMargin": 10,
      "defaultCellHeight": 20,
      "maxColumns": 12,
      "name": "grid",
      "type": "grid"
     },
     "report_default": {
      "name": "report",
      "type": "report"
     }
    }
   }
  },
  "kernelspec": {
   "display_name": "Python 3",
   "language": "python",
   "name": "python3"
  },
  "language_info": {
   "codemirror_mode": {
    "name": "ipython",
    "version": 3
   },
   "file_extension": ".py",
   "mimetype": "text/x-python",
   "name": "python",
   "nbconvert_exporter": "python",
   "pygments_lexer": "ipython3",
   "version": "3.6.5"
  },
  "latex_envs": {
   "LaTeX_envs_menu_present": true,
   "autocomplete": true,
   "bibliofile": "biblio.bib",
   "cite_by": "apalike",
   "current_citInitial": 1,
   "eqLabelWithNumbers": true,
   "eqNumInitial": 1,
   "hotkeys": {
    "equation": "Ctrl-E",
    "itemize": "Ctrl-I"
   },
   "labels_anchors": false,
   "latex_user_defs": false,
   "report_style_numbering": false,
   "user_envs_cfg": false
  },
  "toc": {
   "nav_menu": {},
   "number_sections": true,
   "sideBar": true,
   "skip_h1_title": false,
   "toc_cell": false,
   "toc_position": {},
   "toc_section_display": "block",
   "toc_window_display": false
  },
  "widgets": {
   "application/vnd.jupyter.widget-state+json": {
    "state": {
     "003d992fc22244e6b12d1174398a1785": {
      "model_module": "@jupyter-widgets/controls",
      "model_module_version": "1.2.0",
      "model_name": "ButtonModel",
      "state": {
       "description": "File Name Specified",
       "icon": "check-square-o",
       "layout": "IPY_MODEL_1be23662c9df440881a180315be525bc",
       "style": "IPY_MODEL_a3a67448c4714d3c974a1c8a722bf851"
      }
     },
     "0047344749684eb295e38ff0f950d139": {
      "model_module": "@jupyter-widgets/controls",
      "model_module_version": "1.2.0",
      "model_name": "HBoxModel",
      "state": {
       "children": [
        "IPY_MODEL_a2ab7f3d1a1344eda9fe509e35a31bfb",
        "IPY_MODEL_d028be6fbce94d838f2d7031352186e1"
       ],
       "layout": "IPY_MODEL_d06ec96640d0453fab6baf142c344a25"
      }
     },
     "00868cd6b24747889c33f78fac5f933d": {
      "model_module": "@jupyter-widgets/controls",
      "model_module_version": "1.2.0",
      "model_name": "ButtonStyleModel",
      "state": {}
     },
     "017b6e14b13a4e58be67eda6efe75df0": {
      "model_module": "@jupyter-widgets/controls",
      "model_module_version": "1.2.0",
      "model_name": "HBoxModel",
      "state": {
       "children": [
        "IPY_MODEL_b5df241ca7b6464cb16f9383f2c70634",
        "IPY_MODEL_13902aba0fad4d20a27254c74226ed0f"
       ],
       "layout": "IPY_MODEL_be4ad48f2d204c73b8a803187837b0a5"
      }
     },
     "01819856b4294c388e18a45cddd562ee": {
      "model_module": "@jupyter-widgets/controls",
      "model_module_version": "1.2.0",
      "model_name": "ButtonStyleModel",
      "state": {
       "button_color": "orange"
      }
     },
     "018f5ff7b4dd43a88ca1f1f5a0b15a97": {
      "model_module": "jupyter-leaflet",
      "model_module_version": "~0.7.3",
      "model_name": "LeafletTileLayerModel",
      "state": {
       "_model_module_version": "~0.7.3",
       "_view_count": null,
       "_view_module_version": "~0.7.3",
       "attribution": "Tiles &copy; Esri &mdash; Source: Esri, i-cubed, USDA, USGS, AEX, GeoEye, Getmapping, Aerogrid, IGN, IGP, UPR-EGP, and the GIS User Community",
       "base": true,
       "max_zoom": 20,
       "min_zoom": 1,
       "name": "Esri.WorldImagery",
       "options": [
        "attribution",
        "detect_retina",
        "max_zoom",
        "min_zoom",
        "tile_size"
       ],
       "url": "http://server.arcgisonline.com/ArcGIS/rest/services/World_Imagery/MapServer/tile/{z}/{y}/{x}"
      }
     },
     "02303756c64a45c79f58d462fc710b36": {
      "model_module": "@jupyter-widgets/controls",
      "model_module_version": "1.2.0",
      "model_name": "TextModel",
      "state": {
       "description": "start date",
       "layout": "IPY_MODEL_476f19e1c2c34610a11ae7c6efacdf76",
       "placeholder": "update this field YYYY-MM-DD",
       "style": "IPY_MODEL_b2c59a7671f84e0397a3e6167892349d",
       "value": "2013-05-01"
      }
     },
     "02426a5cffe343fca332ec359de90725": {
      "model_module": "jupyter-leaflet",
      "model_module_version": "~0.7.3",
      "model_name": "LeafletGeoJSONModel",
      "state": {
       "_model_module_version": "~0.7.3",
       "_view_count": null,
       "_view_module_version": "~0.7.3",
       "data": {
        "geometry": {
         "coordinates": [
          [
           [
            145.342632,
            -19.91927
           ],
           [
            145.386551,
            -19.928954
           ],
           [
            145.329594,
            -19.972843
           ],
           [
            145.342632,
            -19.91927
           ]
          ]
         ],
         "type": "Polygon"
        },
        "properties": {
         "style": {
          "clickable": true,
          "color": "#3388ff",
          "fill": true,
          "fillColor": null,
          "fillOpacity": 0.2,
          "opacity": 0.5,
          "stroke": true,
          "weight": 4
         }
        },
        "type": "Feature"
       }
      }
     },
     "02adf81390d241a9b99bad485bd26a3a": {
      "model_module": "@jupyter-widgets/controls",
      "model_module_version": "1.2.0",
      "model_name": "ButtonModel",
      "state": {
       "description": "Load and Calculate",
       "layout": "IPY_MODEL_6ab9fd3fc85940608cf34db40ee9d2c8",
       "style": "IPY_MODEL_aa005fdb7a0a4e68b3d68d25d9993b39"
      }
     },
     "02f8cde5037243bcb074214c7ef3aed2": {
      "model_module": "@jupyter-widgets/base",
      "model_module_version": "1.0.0",
      "model_name": "LayoutModel",
      "state": {}
     },
     "031a107fdba04fc8b8794f64220b44bd": {
      "model_module": "@jupyter-widgets/controls",
      "model_module_version": "1.2.0",
      "model_name": "TextModel",
      "state": {
       "description": "end date",
       "layout": "IPY_MODEL_384800a964d546c8a96da2fe9e7e52eb",
       "placeholder": "update this field YYYY-MM-DD",
       "style": "IPY_MODEL_b585070c8ece4c958ae0ab3c7d4da4b5",
       "value": "2013-05-31"
      }
     },
     "033d405dfb5d475191df2b452cecd3ca": {
      "model_module": "@jupyter-widgets/controls",
      "model_module_version": "1.2.0",
      "model_name": "ButtonModel",
      "state": {
       "description": "File Selected",
       "icon": "check-square-o",
       "layout": "IPY_MODEL_c1e765ea42e24e89b0150183abc7a940",
       "style": "IPY_MODEL_2b3ae6f9161d48288f5c871b89b063b8"
      }
     },
     "0358919d268a4b608b7f6b1c4f85e846": {
      "model_module": "@jupyter-widgets/controls",
      "model_module_version": "1.2.0",
      "model_name": "ButtonStyleModel",
      "state": {}
     },
     "03e175404ff64235ab1e98121c4826fb": {
      "model_module": "@jupyter-widgets/base",
      "model_module_version": "1.0.0",
      "model_name": "LayoutModel",
      "state": {}
     },
     "03efd35eb65c4b51b60115e68c0b9127": {
      "model_module": "jupyter-leaflet",
      "model_module_version": "~0.7.3",
      "model_name": "LeafletTileLayerModel",
      "state": {
       "_model_module_version": "~0.7.3",
       "_view_count": null,
       "_view_module_version": "~0.7.3",
       "base": true,
       "max_zoom": 19,
       "min_zoom": 1,
       "options": [
        "attribution",
        "detect_retina",
        "max_zoom",
        "min_zoom",
        "tile_size"
       ]
      }
     },
     "043d78a08a144cd2b1bb1c79278622ed": {
      "model_module": "jupyter-leaflet",
      "model_module_version": "~0.7.3",
      "model_name": "LeafletDrawControlModel",
      "state": {
       "_model_module_version": "~0.7.3",
       "_view_count": null,
       "_view_module_version": "~0.7.3",
       "layer": "IPY_MODEL_05055c3c2d4743baa3a80c653272b364",
       "polygon": {
        "shapeOptions": {
         "color": "#0000FF"
        }
       },
       "polyline": {}
      }
     },
     "04549259baa04593b56e61947ee0457c": {
      "model_module": "@jupyter-widgets/base",
      "model_module_version": "1.0.0",
      "model_name": "LayoutModel",
      "state": {}
     },
     "048b9704d50a466d91dd4dd415f3e999": {
      "model_module": "@jupyter-widgets/controls",
      "model_module_version": "1.2.0",
      "model_name": "ButtonModel",
      "state": {
       "description": "Save File As",
       "icon": "square-o",
       "layout": "IPY_MODEL_d3094d37aa524703a8f8613d66c76cd2",
       "style": "IPY_MODEL_19adeb8ce198412ba404354afb105ce0"
      }
     },
     "05055c3c2d4743baa3a80c653272b364": {
      "model_module": "jupyter-leaflet",
      "model_module_version": "~0.7.3",
      "model_name": "LeafletFeatureGroupModel",
      "state": {
       "_model_module_version": "~0.7.3",
       "_view_count": null,
       "_view_module_version": "~0.7.3"
      }
     },
     "05356a59cb2d4e8fbb5421f5e6015bc3": {
      "model_module": "@jupyter-widgets/controls",
      "model_module_version": "1.2.0",
      "model_name": "ButtonModel",
      "state": {
       "description": "Select File",
       "icon": "square-o",
       "layout": "IPY_MODEL_510244072f9c484c8097c56ac4e6319e",
       "style": "IPY_MODEL_29b7911e3d83447a854f07dbacb19886"
      }
     },
     "0588b892085d40f784aa90c72a12bfad": {
      "model_module": "@jupyter-widgets/controls",
      "model_module_version": "1.2.0",
      "model_name": "DescriptionStyleModel",
      "state": {
       "description_width": ""
      }
     },
     "0659d1656af849d2a9d4bca131e5b53e": {
      "model_module": "jupyter-leaflet",
      "model_module_version": "~0.7.3",
      "model_name": "LeafletTileLayerModel",
      "state": {
       "_model_module_version": "~0.7.3",
       "_view_count": null,
       "_view_module_version": "~0.7.3",
       "base": true,
       "max_zoom": 19,
       "min_zoom": 1,
       "options": [
        "attribution",
        "detect_retina",
        "max_zoom",
        "min_zoom",
        "tile_size"
       ]
      }
     },
     "069efe48b34c4277869c50b148dfa4e0": {
      "model_module": "@jupyter-widgets/controls",
      "model_module_version": "1.2.0",
      "model_name": "ButtonModel",
      "state": {
       "description": "File Name Specified",
       "icon": "check-square-o",
       "layout": "IPY_MODEL_6e84e506076d459193a7dd485ce44a3c",
       "style": "IPY_MODEL_ed8c3d7c67884cad85df31dd37b026e7"
      }
     },
     "06a9bebf98e14bb9b8982f976fa91d3d": {
      "model_module": "@jupyter-widgets/controls",
      "model_module_version": "1.2.0",
      "model_name": "ToggleButtonsModel",
      "state": {
       "_options_labels": [
        "Shapefile",
        "DrawnPolygon"
       ],
       "button_style": "",
       "description": "Geometry Used for Datacube Query:",
       "icons": [],
       "index": 1,
       "layout": "IPY_MODEL_0f2a9ea2abc54f26adddb60cd6da27dc",
       "style": "IPY_MODEL_498d5e44c74548eb9c60c7d37cc1e153",
       "tooltips": [
        "Use Shapefile Specified for the DC query",
        "Use Polygon Drawn on the Map for the DC query"
       ]
      }
     },
     "06df7270386d4bf88c791a85831b3db4": {
      "model_module": "@jupyter-widgets/controls",
      "model_module_version": "1.2.0",
      "model_name": "TextModel",
      "state": {
       "description": "end date",
       "layout": "IPY_MODEL_8ebd8129e8eb48c493a8d4080e4645a3",
       "placeholder": "update this field YYYY-MM-DD",
       "style": "IPY_MODEL_3bf45206249846e5ae9c82a4a201f2e8",
       "value": "2013-05-31"
      }
     },
     "070cff54bfd64e5dae02e8641f550486": {
      "model_module": "@jupyter-widgets/base",
      "model_module_version": "1.0.0",
      "model_name": "LayoutModel",
      "state": {}
     },
     "075ef51ecc2d4c34a9ac1883fc38af38": {
      "model_module": "jupyter-leaflet",
      "model_module_version": "~0.7.3",
      "model_name": "LeafletMapModel",
      "state": {
       "_dom_classes": [],
       "_model_module_version": "~0.7.3",
       "_view_count": null,
       "_view_module_version": "~0.7.3",
       "basemap": {
        "attribution": "Tiles &copy; Esri &mdash; Source: Esri, i-cubed, USDA, USGS, AEX, GeoEye, Getmapping, Aerogrid, IGN, IGP, UPR-EGP, and the GIS User Community",
        "max_zoom": 20,
        "name": "Esri.WorldImagery",
        "url": "http://server.arcgisonline.com/ArcGIS/rest/services/World_Imagery/MapServer/tile/{z}/{y}/{x}"
       },
       "center": [
        -19.988836302380797,
        145.26672363281253
       ],
       "controls": [
        "IPY_MODEL_043d78a08a144cd2b1bb1c79278622ed"
       ],
       "east": -180,
       "layers": [
        "IPY_MODEL_34ef05a924d2421eb1f25fed67f88593",
        "IPY_MODEL_f3c76ab1b421477682910ef3566e9408"
       ],
       "layout": "IPY_MODEL_ee72430f1e5c458ebe58edde78e8ff46",
       "modisdate": "yesterday",
       "north": -90,
       "options": [
        "attribution_control",
        "basemap",
        "bounce_at_zoom_limits",
        "box_zoom",
        "center",
        "close_popup_on_click",
        "double_click_zoom",
        "dragging",
        "inertia",
        "inertia_deceleration",
        "inertia_max_speed",
        "keyboard",
        "keyboard_pan_offset",
        "keyboard_zoom_offset",
        "max_zoom",
        "min_zoom",
        "scroll_wheel_zoom",
        "tap",
        "tap_tolerance",
        "touch_zoom",
        "world_copy_jump",
        "zoom",
        "zoom_animation_threshold",
        "zoom_control",
        "zoom_start"
       ],
       "south": 90,
       "west": 180,
       "zoom": 10
      }
     },
     "0782b0901bd34d858138c88a27d15b04": {
      "model_module": "@jupyter-widgets/controls",
      "model_module_version": "1.2.0",
      "model_name": "HBoxModel",
      "state": {
       "children": [
        "IPY_MODEL_938ed8fa50a64e32b3e7215f23f14e7a",
        "IPY_MODEL_c7e9d8d1cc4f49c6947a6d78ee08e25d"
       ],
       "layout": "IPY_MODEL_129ec816cdf141248e0e57f5d33ec6df"
      }
     },
     "079c930d28614463ac8aac9a0660c5eb": {
      "model_module": "@jupyter-widgets/controls",
      "model_module_version": "1.2.0",
      "model_name": "ButtonStyleModel",
      "state": {}
     },
     "07df873ea9f14fa990531e566ec93d89": {
      "model_module": "@jupyter-widgets/controls",
      "model_module_version": "1.2.0",
      "model_name": "TextModel",
      "state": {
       "description": "path to shape file",
       "layout": "IPY_MODEL_9c38379acefb4f88963c3e9661146641",
       "placeholder": "choose a file",
       "style": "IPY_MODEL_c8ac9efe63434ea5bbb3afc04da4396c",
       "value": "/g/data1a/r78/rjd547/groundwater_activities/Burdekin/Burdekin_shapefiles/fels_sml.shp"
      }
     },
     "0819d998ab2e4535a93142bd4ce45e54": {
      "model_module": "jupyter-leaflet",
      "model_module_version": "~0.7.3",
      "model_name": "LeafletDrawControlModel",
      "state": {
       "_model_module_version": "~0.7.3",
       "_view_count": null,
       "_view_module_version": "~0.7.3",
       "layer": "IPY_MODEL_bf231b12d38441fab5feafcdd05a134b",
       "polyline": {}
      }
     },
     "08a869e1b3974790809c89e39652eb80": {
      "model_module": "@jupyter-widgets/controls",
      "model_module_version": "1.2.0",
      "model_name": "ButtonStyleModel",
      "state": {
       "button_color": "orange"
      }
     },
     "08a898b97454412d960c640d2ef53f10": {
      "model_module": "@jupyter-widgets/controls",
      "model_module_version": "1.2.0",
      "model_name": "ButtonStyleModel",
      "state": {
       "button_color": "orange"
      }
     },
     "0a4b4d515735488cb8135afec4726d67": {
      "model_module": "jupyter-leaflet",
      "model_module_version": "~0.7.3",
      "model_name": "LeafletGeoJSONModel",
      "state": {
       "_model_module_version": "~0.7.3",
       "_view_count": null,
       "_view_module_version": "~0.7.3",
       "data": {
        "geometry": {
         "coordinates": [
          [
           [
            145.103599,
            -20.008129
           ],
           [
            145.104286,
            -19.955214
           ],
           [
            145.172999,
            -19.955214
           ],
           [
            145.168189,
            -20.014581
           ],
           [
            145.103599,
            -20.008129
           ]
          ]
         ],
         "type": "Polygon"
        },
        "properties": {
         "style": {
          "clickable": true,
          "color": "#3388ff",
          "fill": true,
          "fillColor": null,
          "fillOpacity": 0.2,
          "opacity": 0.5,
          "stroke": true,
          "weight": 4
         }
        },
        "type": "Feature"
       }
      }
     },
     "0aa8752fbff145af96b185f94da14618": {
      "model_module": "@jupyter-widgets/controls",
      "model_module_version": "1.2.0",
      "model_name": "TextModel",
      "state": {
       "description": "end date",
       "layout": "IPY_MODEL_40d9787329c84588b93dce8063503129",
       "placeholder": "update this field YYYY-MM-DD",
       "style": "IPY_MODEL_80451e9f73a64a2dbbdbbe140a48c4bd",
       "value": "2013-05-31"
      }
     },
     "0af8705550a544c2bf5f19c7252b1a0b": {
      "model_module": "@jupyter-widgets/controls",
      "model_module_version": "1.2.0",
      "model_name": "ButtonStyleModel",
      "state": {
       "button_color": "lightgreen"
      }
     },
     "0b2cecda79f343a68db39cb5068381e1": {
      "model_module": "@jupyter-widgets/controls",
      "model_module_version": "1.2.0",
      "model_name": "ButtonModel",
      "state": {
       "description": "Plot Geomedian",
       "layout": "IPY_MODEL_e74572e3878c4e2d859b1eb430fe897c",
       "style": "IPY_MODEL_f924e7b4d91740cea01161181142f682"
      }
     },
     "0b6ea8d95b8f4da59ec9e869ae9f3229": {
      "model_module": "@jupyter-widgets/controls",
      "model_module_version": "1.2.0",
      "model_name": "ButtonStyleModel",
      "state": {}
     },
     "0bb27288e0f94204974203c3213b584c": {
      "model_module": "@jupyter-widgets/base",
      "model_module_version": "1.0.0",
      "model_name": "LayoutModel",
      "state": {
       "height": "400px",
       "width": "400px"
      }
     },
     "0c95a1ff9cc049aaa0c4d15f699626f1": {
      "model_module": "@jupyter-widgets/controls",
      "model_module_version": "1.2.0",
      "model_name": "ButtonModel",
      "state": {
       "description": "Save File As",
       "icon": "square-o",
       "layout": "IPY_MODEL_bd9a165f8b644ad8b5516530728820b9",
       "style": "IPY_MODEL_f522c4aff0d54ca39a8bbcc52fd5e516"
      }
     },
     "0ded9e85c1684fb79911f54dd2114983": {
      "model_module": "@jupyter-widgets/base",
      "model_module_version": "1.0.0",
      "model_name": "LayoutModel",
      "state": {}
     },
     "0df2d475d2f546be8fa8cf4d6b2ec3bc": {
      "model_module": "jupyter-leaflet",
      "model_module_version": "~0.7.3",
      "model_name": "LeafletTileLayerModel",
      "state": {
       "_model_module_version": "~0.7.3",
       "_view_count": null,
       "_view_module_version": "~0.7.3",
       "base": true,
       "max_zoom": 19,
       "min_zoom": 1,
       "options": [
        "attribution",
        "detect_retina",
        "max_zoom",
        "min_zoom",
        "tile_size"
       ]
      }
     },
     "0e39a0c7b80b452292bbaa9b017ed369": {
      "model_module": "@jupyter-widgets/controls",
      "model_module_version": "1.2.0",
      "model_name": "TextModel",
      "state": {
       "description": "path to shape file",
       "layout": "IPY_MODEL_57da9101bc734176953c2564943cfe18",
       "placeholder": "update this field",
       "style": "IPY_MODEL_9bac5964747142ed9710f1f2e87301d9",
       "value": "/g/data1a/r78/rjd547/groundwater_activities/Burdekin/Burdekin_shapefiles/fels_sml.shp"
      }
     },
     "0e940ccd7e3445fd922a3460176ecb3e": {
      "model_module": "@jupyter-widgets/base",
      "model_module_version": "1.0.0",
      "model_name": "LayoutModel",
      "state": {}
     },
     "0eb518adaeb44d148e858bec2fc19bfc": {
      "model_module": "@jupyter-widgets/controls",
      "model_module_version": "1.2.0",
      "model_name": "VBoxModel",
      "state": {
       "children": [
        "IPY_MODEL_8b9200a962f94900af92264a4a71cc7b",
        "IPY_MODEL_245834a67c484459a135be79f472c787"
       ],
       "layout": "IPY_MODEL_d2f73fe14e77435d9b139e642717f3e6"
      }
     },
     "0f2a9ea2abc54f26adddb60cd6da27dc": {
      "model_module": "@jupyter-widgets/base",
      "model_module_version": "1.0.0",
      "model_name": "LayoutModel",
      "state": {}
     },
     "0f4aadf00a494d6da0ea848bf979233c": {
      "model_module": "@jupyter-widgets/controls",
      "model_module_version": "1.2.0",
      "model_name": "ButtonModel",
      "state": {
       "description": "Load and Calculate",
       "layout": "IPY_MODEL_64dac93dc32c447ba8090da99baad03d",
       "style": "IPY_MODEL_0358919d268a4b608b7f6b1c4f85e846"
      }
     },
     "10729fa9678141079fbf3d811d526998": {
      "model_module": "@jupyter-widgets/base",
      "model_module_version": "1.0.0",
      "model_name": "LayoutModel",
      "state": {}
     },
     "108b67a62e3742cda405be8d69cf2cb1": {
      "model_module": "@jupyter-widgets/controls",
      "model_module_version": "1.2.0",
      "model_name": "ButtonModel",
      "state": {
       "description": "Check dates",
       "layout": "IPY_MODEL_a1348e8494e84bc185665d4eccf07588",
       "style": "IPY_MODEL_54f79816866a4ebaba8bc93d3c2c2fea",
       "tooltip": "Click me"
      }
     },
     "10cda133c629498187810e1007d94900": {
      "model_module": "jupyter-leaflet",
      "model_module_version": "~0.5.0",
      "model_name": "LeafletFeatureGroupModel",
      "state": {
       "_model_module_version": "~0.5.0",
       "_view_count": null,
       "_view_module_version": "~0.5.0"
      }
     },
     "10f80bf028244a819a06dd2ad58b620f": {
      "model_module": "@jupyter-widgets/base",
      "model_module_version": "1.0.0",
      "model_name": "LayoutModel",
      "state": {}
     },
     "117f4ccb1ad34bdbb94a852e96e5b0de": {
      "model_module": "@jupyter-widgets/base",
      "model_module_version": "1.0.0",
      "model_name": "LayoutModel",
      "state": {
       "width": "70%"
      }
     },
     "120a6ccf29574460831732e4a5013e7e": {
      "model_module": "@jupyter-widgets/base",
      "model_module_version": "1.0.0",
      "model_name": "LayoutModel",
      "state": {
       "width": "70%"
      }
     },
     "129ec816cdf141248e0e57f5d33ec6df": {
      "model_module": "@jupyter-widgets/base",
      "model_module_version": "1.0.0",
      "model_name": "LayoutModel",
      "state": {}
     },
     "12a60212b7c9465bb116e508c33bf2df": {
      "model_module": "@jupyter-widgets/controls",
      "model_module_version": "1.2.0",
      "model_name": "HBoxModel",
      "state": {
       "children": [
        "IPY_MODEL_6af7af5b946d4979860e037da468abdc",
        "IPY_MODEL_72aa19fd84ed44439065ab7cd32c1697"
       ],
       "layout": "IPY_MODEL_8291506975b94a86a1890becdf52daa7"
      }
     },
     "12cad9f764114ec89428e87596cec84a": {
      "model_module": "jupyter-leaflet",
      "model_module_version": "~0.7.3",
      "model_name": "LeafletMapModel",
      "state": {
       "_dom_classes": [],
       "_model_module_version": "~0.7.3",
       "_view_count": null,
       "_view_module_version": "~0.7.3",
       "basemap": {
        "attribution": "Tiles &copy; Esri &mdash; Source: Esri, i-cubed, USDA, USGS, AEX, GeoEye, Getmapping, Aerogrid, IGN, IGP, UPR-EGP, and the GIS User Community",
        "max_zoom": 20,
        "name": "Esri.WorldImagery",
        "url": "http://server.arcgisonline.com/ArcGIS/rest/services/World_Imagery/MapServer/tile/{z}/{y}/{x}"
       },
       "center": [
        -20.0183,
        145.3134
       ],
       "controls": [
        "IPY_MODEL_640444ac363b45478bbc10abe9ea1c34"
       ],
       "east": 145.57571411132815,
       "layers": [
        "IPY_MODEL_d9cc6b9ca23d4056ac4c7abadd297834",
        "IPY_MODEL_c14c6545c40e4d848c853ce62b3dc7af"
       ],
       "layout": "IPY_MODEL_0bb27288e0f94204974203c3213b584c",
       "modisdate": "yesterday",
       "north": -19.760241554664503,
       "options": [
        "attribution_control",
        "basemap",
        "bounce_at_zoom_limits",
        "box_zoom",
        "center",
        "close_popup_on_click",
        "double_click_zoom",
        "dragging",
        "inertia",
        "inertia_deceleration",
        "inertia_max_speed",
        "keyboard",
        "keyboard_pan_offset",
        "keyboard_zoom_offset",
        "max_zoom",
        "min_zoom",
        "scroll_wheel_zoom",
        "tap",
        "tap_tolerance",
        "touch_zoom",
        "world_copy_jump",
        "zoom",
        "zoom_animation_threshold",
        "zoom_control",
        "zoom_start"
       ],
       "south": -20.276367870836033,
       "west": 145.0511169433594,
       "zoom": 10
      }
     },
     "134f95c3a385431b9bc5f5a0b2f09fb6": {
      "model_module": "@jupyter-widgets/controls",
      "model_module_version": "1.2.0",
      "model_name": "HBoxModel",
      "state": {
       "children": [
        "IPY_MODEL_58e4ede9d357461d999c853dca24e73f",
        "IPY_MODEL_1ffb4666210847478684bd2321643d54"
       ],
       "layout": "IPY_MODEL_6a404838ba184056836b31fe5f72e7dd"
      }
     },
     "13668e245b5646dcb23a30ac06f0134b": {
      "model_module": "@jupyter-widgets/controls",
      "model_module_version": "1.2.0",
      "model_name": "ButtonModel",
      "state": {
       "description": "Check shapefile",
       "layout": "IPY_MODEL_2afc43db349849c0bd1267d74258cea1",
       "style": "IPY_MODEL_a0a33bb650c54868adb660e33f2c91fe",
       "tooltip": "Click me"
      }
     },
     "13902aba0fad4d20a27254c74226ed0f": {
      "model_module": "@jupyter-widgets/controls",
      "model_module_version": "1.2.0",
      "model_name": "LabelModel",
      "state": {
       "layout": "IPY_MODEL_a3bf8445850d495790878341da53d63d",
       "style": "IPY_MODEL_1e621132add14d7dba3b20a7c4fff705",
       "value": "Is my end date valid?"
      }
     },
     "13c32469a5b5413e9dcaca47133339ee": {
      "model_module": "@jupyter-widgets/base",
      "model_module_version": "1.0.0",
      "model_name": "LayoutModel",
      "state": {}
     },
     "147add4859b14054812de346ba649b91": {
      "model_module": "@jupyter-widgets/controls",
      "model_module_version": "1.2.0",
      "model_name": "TextModel",
      "state": {
       "description": "path to shape file",
       "layout": "IPY_MODEL_5bf47680298c426e9d9c7a1653461428",
       "placeholder": "choose a file",
       "style": "IPY_MODEL_649dff08167041e88151747b11065dda",
       "value": "/g/data1a/r78/rjd547/groundwater_activities/Burdekin/Burdekin_shapefiles/fels_sml.shp"
      }
     },
     "149daaa5f39a45a79c48cb7111c760ef": {
      "model_module": "@jupyter-widgets/controls",
      "model_module_version": "1.2.0",
      "model_name": "ButtonStyleModel",
      "state": {}
     },
     "14b25e9f36c545deaad1657bce39f570": {
      "model_module": "@jupyter-widgets/base",
      "model_module_version": "1.0.0",
      "model_name": "LayoutModel",
      "state": {}
     },
     "14e1f08c399d4a699e5a960cf50b5242": {
      "model_module": "@jupyter-widgets/controls",
      "model_module_version": "1.2.0",
      "model_name": "ButtonModel",
      "state": {
       "description": "Select File",
       "icon": "square-o",
       "layout": "IPY_MODEL_070cff54bfd64e5dae02e8641f550486",
       "style": "IPY_MODEL_d7feb4af820e4049ac57cbe3bbf5ed18"
      }
     },
     "14e9995cb34f4ffbb415fe2b98b0b626": {
      "model_module": "@jupyter-widgets/controls",
      "model_module_version": "1.2.0",
      "model_name": "ButtonStyleModel",
      "state": {}
     },
     "15b115d78c9641e2834a6348a5fa6cbb": {
      "model_module": "@jupyter-widgets/base",
      "model_module_version": "1.0.0",
      "model_name": "LayoutModel",
      "state": {}
     },
     "15f856b034904b67b3a0fe1163c2441e": {
      "model_module": "@jupyter-widgets/base",
      "model_module_version": "1.0.0",
      "model_name": "LayoutModel",
      "state": {}
     },
     "1657d0a4d0b346229834d54a2397e86c": {
      "model_module": "@jupyter-widgets/base",
      "model_module_version": "1.0.0",
      "model_name": "LayoutModel",
      "state": {}
     },
     "167e99d8c876474da804079e45b67a14": {
      "model_module": "@jupyter-widgets/controls",
      "model_module_version": "1.2.0",
      "model_name": "DescriptionStyleModel",
      "state": {
       "description_width": ""
      }
     },
     "170526af81c044869fee68159c6807df": {
      "model_module": "@jupyter-widgets/controls",
      "model_module_version": "1.2.0",
      "model_name": "ButtonStyleModel",
      "state": {}
     },
     "170e1c13abd045918deb6b220c9093e0": {
      "model_module": "@jupyter-widgets/base",
      "model_module_version": "1.0.0",
      "model_name": "LayoutModel",
      "state": {}
     },
     "171f324d72774d4ebef1907b4fc43270": {
      "model_module": "@jupyter-widgets/controls",
      "model_module_version": "1.2.0",
      "model_name": "TextModel",
      "state": {
       "description": "path to shape file",
       "layout": "IPY_MODEL_deb3f9fe2aa84f239821b8726f6e4977",
       "placeholder": "choose a file",
       "style": "IPY_MODEL_7cd5fa10da864d9bb47e7fd908581606",
       "value": "/g/data1a/r78/rjd547/groundwater_activities/Burdekin/Burdekin_shapefiles/fels_sml.shp"
      }
     },
     "174b48ab17ae489888887fbf0929fb8f": {
      "model_module": "@jupyter-widgets/controls",
      "model_module_version": "1.2.0",
      "model_name": "LabelModel",
      "state": {
       "layout": "IPY_MODEL_b163da4fc0724185a16fd2135651aab8",
       "style": "IPY_MODEL_fd180ef827cf41289872803c9a26aba0",
       "value": "End date is valid"
      }
     },
     "179cd972542d4c768f1ed9f562903889": {
      "model_module": "@jupyter-widgets/base",
      "model_module_version": "1.0.0",
      "model_name": "LayoutModel",
      "state": {
       "width": "70%"
      }
     },
     "17a9f3415ea84245b4c47a0ebacdb896": {
      "model_module": "@jupyter-widgets/controls",
      "model_module_version": "1.2.0",
      "model_name": "DescriptionStyleModel",
      "state": {
       "description_width": ""
      }
     },
     "17ce635712ab4f788ab32db48e84a4b3": {
      "model_module": "jupyter-leaflet",
      "model_module_version": "~0.7.3",
      "model_name": "LeafletDrawControlModel",
      "state": {
       "_model_module_version": "~0.7.3",
       "_view_count": null,
       "_view_module_version": "~0.7.3",
       "layer": "IPY_MODEL_3b2bceee23d343e69fbeaf9668d7f00a",
       "polyline": {}
      }
     },
     "192f81b5d9fd407aaf671973a666a283": {
      "model_module": "@jupyter-widgets/base",
      "model_module_version": "1.0.0",
      "model_name": "LayoutModel",
      "state": {}
     },
     "193f5deda64348fd9c968bf1a7831904": {
      "model_module": "@jupyter-widgets/base",
      "model_module_version": "1.0.0",
      "model_name": "LayoutModel",
      "state": {}
     },
     "19adeb8ce198412ba404354afb105ce0": {
      "model_module": "@jupyter-widgets/controls",
      "model_module_version": "1.2.0",
      "model_name": "ButtonStyleModel",
      "state": {
       "button_color": "orange"
      }
     },
     "19c2e899138d4311af176d428e7ce3df": {
      "model_module": "@jupyter-widgets/controls",
      "model_module_version": "1.2.0",
      "model_name": "HBoxModel",
      "state": {
       "children": [
        "IPY_MODEL_378c31e5d59a484f9d255b82ae16a2a8",
        "IPY_MODEL_12cad9f764114ec89428e87596cec84a"
       ],
       "layout": "IPY_MODEL_dfb5ce1e6aa74798b0b7bab92da62a41"
      }
     },
     "19f237d3fef04cd7a93706e77cc51fd6": {
      "model_module": "@jupyter-widgets/base",
      "model_module_version": "1.0.0",
      "model_name": "LayoutModel",
      "state": {}
     },
     "1a2023da367b487082fb0b8c4ae93872": {
      "model_module": "@jupyter-widgets/controls",
      "model_module_version": "1.2.0",
      "model_name": "TextModel",
      "state": {
       "description": "path to shape file",
       "layout": "IPY_MODEL_97fe07a50aa94abb9900a8114d7e107a",
       "placeholder": "/g/data1a/r78/rjd547/groundwater_activities/Burdekin/Burdekin_shapefiles/fels_sml.shp",
       "style": "IPY_MODEL_55c4b5c5cefc424b9283cb0488224176",
       "value": "/g/data1a/r78/rjd547/groundwater_activities/Burdekin/Burdekin_shapefiles/fels_sml.shp"
      }
     },
     "1a56b04a2680446eb49062bd3c04b290": {
      "model_module": "@jupyter-widgets/base",
      "model_module_version": "1.0.0",
      "model_name": "LayoutModel",
      "state": {}
     },
     "1bb4466c0dfe448692ed85ea2c18fc77": {
      "model_module": "@jupyter-widgets/controls",
      "model_module_version": "1.2.0",
      "model_name": "HBoxModel",
      "state": {
       "children": [
        "IPY_MODEL_031a107fdba04fc8b8794f64220b44bd",
        "IPY_MODEL_a94cc047326744568c5092aa26190058"
       ],
       "layout": "IPY_MODEL_bd55359b92a8441e9901191a9cb091d2"
      }
     },
     "1be23662c9df440881a180315be525bc": {
      "model_module": "@jupyter-widgets/base",
      "model_module_version": "1.0.0",
      "model_name": "LayoutModel",
      "state": {}
     },
     "1be302601dec4e77a5af1bc94358b878": {
      "model_module": "@jupyter-widgets/base",
      "model_module_version": "1.0.0",
      "model_name": "LayoutModel",
      "state": {}
     },
     "1c7e036e565542b7a8914370d901d1d6": {
      "model_module": "@jupyter-widgets/controls",
      "model_module_version": "1.2.0",
      "model_name": "DescriptionStyleModel",
      "state": {
       "description_width": ""
      }
     },
     "1cb6e39c2ba34fc08f2df1d3ee9673f4": {
      "model_module": "@jupyter-widgets/controls",
      "model_module_version": "1.2.0",
      "model_name": "HBoxModel",
      "state": {
       "children": [
        "IPY_MODEL_6ddf45c325d74f57bc1dc8c6f7d805f5",
        "IPY_MODEL_dc17c2b3595b42c9b62dc0306d8bcedf"
       ],
       "layout": "IPY_MODEL_39773aafc13142b6acaa4d3503e54a12"
      }
     },
     "1d10a4955f334672b8aa0c65ad2d36a7": {
      "model_module": "@jupyter-widgets/controls",
      "model_module_version": "1.2.0",
      "model_name": "ButtonModel",
      "state": {
       "description": "Load and Calculate",
       "layout": "IPY_MODEL_651eb5a5c46645c9ae113c6908980ad7",
       "style": "IPY_MODEL_6d0fa14e5b4b48f7ae84ba038be63dad"
      }
     },
     "1d51a02b51ee4776a886f2f3a6285a3d": {
      "model_module": "@jupyter-widgets/base",
      "model_module_version": "1.0.0",
      "model_name": "LayoutModel",
      "state": {
       "height": "400px",
       "width": "400px"
      }
     },
     "1dc2608954e04b929d8dab164fa5660d": {
      "model_module": "@jupyter-widgets/base",
      "model_module_version": "1.0.0",
      "model_name": "LayoutModel",
      "state": {}
     },
     "1e1a174887624f88876a644c142e5976": {
      "model_module": "@jupyter-widgets/controls",
      "model_module_version": "1.2.0",
      "model_name": "ButtonModel",
      "state": {
       "description": "Check dates",
       "layout": "IPY_MODEL_15b115d78c9641e2834a6348a5fa6cbb",
       "style": "IPY_MODEL_d7fa534ade4e48eeb38b6f81b5b0a21c",
       "tooltip": "Click me"
      }
     },
     "1e40aee8a9d644f593dd739046f8ef5e": {
      "model_module": "@jupyter-widgets/controls",
      "model_module_version": "1.2.0",
      "model_name": "DescriptionStyleModel",
      "state": {
       "description_width": ""
      }
     },
     "1e621132add14d7dba3b20a7c4fff705": {
      "model_module": "@jupyter-widgets/controls",
      "model_module_version": "1.2.0",
      "model_name": "DescriptionStyleModel",
      "state": {
       "description_width": ""
      }
     },
     "1ec7be88bcb24439911c8c1bf2440b4a": {
      "model_module": "@jupyter-widgets/base",
      "model_module_version": "1.0.0",
      "model_name": "LayoutModel",
      "state": {}
     },
     "1ec91830334342dcaeb4ba26a91b0d2a": {
      "model_module": "@jupyter-widgets/controls",
      "model_module_version": "1.2.0",
      "model_name": "HBoxModel",
      "state": {
       "children": [
        "IPY_MODEL_f843bf9393cf47eabe607814242f4956",
        "IPY_MODEL_05356a59cb2d4e8fbb5421f5e6015bc3"
       ],
       "layout": "IPY_MODEL_3e2841f021c749eabfbe73b1c3c80b56"
      }
     },
     "1f9ad95bbb1940889a03f25cb547e6b8": {
      "model_module": "@jupyter-widgets/base",
      "model_module_version": "1.0.0",
      "model_name": "LayoutModel",
      "state": {}
     },
     "1fa8d59f15e446b1a43e9c117d9cc813": {
      "model_module": "@jupyter-widgets/controls",
      "model_module_version": "1.2.0",
      "model_name": "ButtonModel",
      "state": {
       "description": "Check shapefile",
       "layout": "IPY_MODEL_da580ae95192467e95dc522735d2a142",
       "style": "IPY_MODEL_5777a627855f4941af19c6657d7c4284",
       "tooltip": "Click me"
      }
     },
     "1fad98d79a66429298486a1a30030f12": {
      "model_module": "@jupyter-widgets/base",
      "model_module_version": "1.0.0",
      "model_name": "LayoutModel",
      "state": {}
     },
     "1fde596783764dd0aeb242588ee4ad7f": {
      "model_module": "@jupyter-widgets/base",
      "model_module_version": "1.0.0",
      "model_name": "LayoutModel",
      "state": {}
     },
     "1ffb4666210847478684bd2321643d54": {
      "model_module": "@jupyter-widgets/controls",
      "model_module_version": "1.2.0",
      "model_name": "LabelModel",
      "state": {
       "layout": "IPY_MODEL_02f8cde5037243bcb074214c7ef3aed2",
       "style": "IPY_MODEL_733f836640984ed89b2678ba46ccf539",
       "value": "Start date is valid"
      }
     },
     "1ffd6b7a924249399455dba7f2e3d6d4": {
      "model_module": "@jupyter-widgets/controls",
      "model_module_version": "1.2.0",
      "model_name": "ButtonStyleModel",
      "state": {}
     },
     "201176c45b884d79935aaf67c74c5478": {
      "model_module": "@jupyter-widgets/controls",
      "model_module_version": "1.2.0",
      "model_name": "DescriptionStyleModel",
      "state": {
       "description_width": ""
      }
     },
     "20702b86067f4e069c5639946799bfbe": {
      "model_module": "@jupyter-widgets/controls",
      "model_module_version": "1.2.0",
      "model_name": "ButtonModel",
      "state": {
       "description": "Plot Geomedian",
       "layout": "IPY_MODEL_2ed6eb805b474d20a4d90cd87977bd4c",
       "style": "IPY_MODEL_b4a88a214f96401b96ec49d64b98bd99"
      }
     },
     "2103cabb9d41405c84646861d6479cae": {
      "model_module": "@jupyter-widgets/controls",
      "model_module_version": "1.2.0",
      "model_name": "HBoxModel",
      "state": {
       "children": [
        "IPY_MODEL_02303756c64a45c79f58d462fc710b36",
        "IPY_MODEL_cd14fa69dcf34d2abadfab7f1f78f42b"
       ],
       "layout": "IPY_MODEL_8de07438eade49a28bb1bd01f9dff469"
      }
     },
     "2138279249974a19a958485e3883e855": {
      "model_module": "@jupyter-widgets/base",
      "model_module_version": "1.0.0",
      "model_name": "LayoutModel",
      "state": {}
     },
     "214cab4754fb47ce9e38b80b4be5cd64": {
      "model_module": "@jupyter-widgets/controls",
      "model_module_version": "1.2.0",
      "model_name": "ButtonModel",
      "state": {
       "description": "Check shapefile",
       "layout": "IPY_MODEL_9a4933119e654314aa3874108a7d9249",
       "style": "IPY_MODEL_646aeadcb86d40b4a5ad979dbf78461d",
       "tooltip": "Click me"
      }
     },
     "22075e3528544bccb11219726436fffa": {
      "model_module": "@jupyter-widgets/base",
      "model_module_version": "1.0.0",
      "model_name": "LayoutModel",
      "state": {}
     },
     "22565eaa7b2741b388dc471ee621c17b": {
      "model_module": "@jupyter-widgets/controls",
      "model_module_version": "1.2.0",
      "model_name": "DescriptionStyleModel",
      "state": {
       "description_width": ""
      }
     },
     "22c6845ce5104d0aba4f30a7e0ae2bfc": {
      "model_module": "@jupyter-widgets/controls",
      "model_module_version": "1.2.0",
      "model_name": "ToggleButtonsStyleModel",
      "state": {
       "button_width": "",
       "description_width": ""
      }
     },
     "2316916511174e27b4a1fb75070f1834": {
      "model_module": "@jupyter-widgets/controls",
      "model_module_version": "1.2.0",
      "model_name": "LabelModel",
      "state": {
       "layout": "IPY_MODEL_68f02254f9db4d8eaa5974c6fc141e79",
       "style": "IPY_MODEL_2938543f5aee48aea3a2b2a066736d27",
       "value": "Is my start date valid?"
      }
     },
     "24477a571dd246e78ad79a5864ef03b3": {
      "model_module": "@jupyter-widgets/controls",
      "model_module_version": "1.2.0",
      "model_name": "ButtonModel",
      "state": {
       "description": "Select File",
       "icon": "square-o",
       "layout": "IPY_MODEL_c8974032631a4fc3836604f9aa9f8b7f",
       "style": "IPY_MODEL_08a898b97454412d960c640d2ef53f10"
      }
     },
     "245834a67c484459a135be79f472c787": {
      "model_module": "@jupyter-widgets/controls",
      "model_module_version": "1.2.0",
      "model_name": "ToggleButtonsModel",
      "state": {
       "_options_labels": [
        "Shapefile",
        "DrawnPolygon"
       ],
       "button_style": "",
       "description": "Geometry Used for Datacube Query:",
       "icons": [],
       "index": 0,
       "layout": "IPY_MODEL_6851624eb60c4be6b2255e310ad6602e",
       "style": "IPY_MODEL_57447ab799eb4f7fa0fe2e9142cb3c7b",
       "tooltips": [
        "Use Shapefile Specified for the DC query",
        "Use Polygon Drawn on the Map for the DC query"
       ]
      }
     },
     "258e967cbb7a40d69fee61b9498b0358": {
      "model_module": "@jupyter-widgets/base",
      "model_module_version": "1.0.0",
      "model_name": "LayoutModel",
      "state": {
       "width": "70%"
      }
     },
     "262e617660424ee18633868156779d3b": {
      "model_module": "@jupyter-widgets/controls",
      "model_module_version": "1.2.0",
      "model_name": "ButtonModel",
      "state": {
       "description": "Select File",
       "icon": "square-o",
       "layout": "IPY_MODEL_7ffa726bf4354fe999046ca58d58f9e7",
       "style": "IPY_MODEL_9941aa7b734547fb92be34faec106e8f"
      }
     },
     "26576e536215460583150758f5083073": {
      "model_module": "@jupyter-widgets/base",
      "model_module_version": "1.0.0",
      "model_name": "LayoutModel",
      "state": {}
     },
     "26998541f031412d87b9568163248293": {
      "model_module": "@jupyter-widgets/base",
      "model_module_version": "1.0.0",
      "model_name": "LayoutModel",
      "state": {}
     },
     "26af39751b18418c93cfa34b818ef471": {
      "model_module": "@jupyter-widgets/controls",
      "model_module_version": "1.2.0",
      "model_name": "HBoxModel",
      "state": {
       "children": [
        "IPY_MODEL_cc584e0ddd724683939b115c53c7727b",
        "IPY_MODEL_e34cb72f9cbf4f0caa65673d7561936b"
       ],
       "layout": "IPY_MODEL_ecd6ba4789bd43aebdee99207e78e975"
      }
     },
     "26c02a4f34994e2dabf4ac559037b291": {
      "model_module": "@jupyter-widgets/controls",
      "model_module_version": "1.2.0",
      "model_name": "TextModel",
      "state": {
       "description": "start date",
       "layout": "IPY_MODEL_c9c35a7167014c7cb8c20cf17bef07a4",
       "placeholder": "update this field YYYY-MM-DD",
       "style": "IPY_MODEL_4d2c4731f442482da1cd2f815b90f035",
       "value": "2013-03-01"
      }
     },
     "27874722cf804ed19f2b5f6588bbacee": {
      "model_module": "@jupyter-widgets/controls",
      "model_module_version": "1.2.0",
      "model_name": "HBoxModel",
      "state": {
       "children": [
        "IPY_MODEL_ed9fb2f8bbc94dc2aa0f667e16334364",
        "IPY_MODEL_262e617660424ee18633868156779d3b"
       ],
       "layout": "IPY_MODEL_8e619f3bba964550a43ec1427e16d26b"
      }
     },
     "27dbc9e2eb3841f0a1e6db057136069e": {
      "model_module": "@jupyter-widgets/controls",
      "model_module_version": "1.2.0",
      "model_name": "ButtonStyleModel",
      "state": {}
     },
     "281d5202b1a8441a96fc6d7adeedf866": {
      "model_module": "@jupyter-widgets/controls",
      "model_module_version": "1.2.0",
      "model_name": "ButtonStyleModel",
      "state": {}
     },
     "28315387f78f46619f5f580f36183fc6": {
      "model_module": "@jupyter-widgets/controls",
      "model_module_version": "1.2.0",
      "model_name": "HBoxModel",
      "state": {
       "children": [
        "IPY_MODEL_ae0b1591d53a4503b208f78a2072801a",
        "IPY_MODEL_4e195601456a458db1d71c2a90df836a"
       ],
       "layout": "IPY_MODEL_a54ca6f1ec8b4c6e95c998cf34b1e66f"
      }
     },
     "290ed6cd58db4c4a865f9d3081f212e9": {
      "model_module": "@jupyter-widgets/base",
      "model_module_version": "1.0.0",
      "model_name": "LayoutModel",
      "state": {}
     },
     "2938543f5aee48aea3a2b2a066736d27": {
      "model_module": "@jupyter-widgets/controls",
      "model_module_version": "1.2.0",
      "model_name": "DescriptionStyleModel",
      "state": {
       "description_width": ""
      }
     },
     "2957bfd4907f4cc79631cfc449884884": {
      "model_module": "@jupyter-widgets/base",
      "model_module_version": "1.0.0",
      "model_name": "LayoutModel",
      "state": {
       "width": "70%"
      }
     },
     "298dc6c2b72346798278b75224536fdd": {
      "model_module": "@jupyter-widgets/base",
      "model_module_version": "1.0.0",
      "model_name": "LayoutModel",
      "state": {}
     },
     "29b7911e3d83447a854f07dbacb19886": {
      "model_module": "@jupyter-widgets/controls",
      "model_module_version": "1.2.0",
      "model_name": "ButtonStyleModel",
      "state": {
       "button_color": "orange"
      }
     },
     "29f28b12df9d49a6b3549311265fd8e5": {
      "model_module": "@jupyter-widgets/base",
      "model_module_version": "1.0.0",
      "model_name": "LayoutModel",
      "state": {
       "width": "70%"
      }
     },
     "29f75ebfc843471f893c94ec077e0e26": {
      "model_module": "@jupyter-widgets/controls",
      "model_module_version": "1.2.0",
      "model_name": "DescriptionStyleModel",
      "state": {
       "description_width": "initial"
      }
     },
     "29fc3c4a550a4181824a9c4b4eadbc29": {
      "model_module": "@jupyter-widgets/controls",
      "model_module_version": "1.2.0",
      "model_name": "ButtonStyleModel",
      "state": {
       "button_color": "lightgreen"
      }
     },
     "2a0f0ea4547345b2b30b93576753a2c6": {
      "model_module": "@jupyter-widgets/controls",
      "model_module_version": "1.2.0",
      "model_name": "HBoxModel",
      "state": {
       "children": [
        "IPY_MODEL_563616c313074574947b34eb5149a290",
        "IPY_MODEL_3585603e2a1749a38286b3bd8394af36"
       ],
       "layout": "IPY_MODEL_3de0686ca6ac43ee955f30e04b2e341c"
      }
     },
     "2a18af3fff3647f6a7dcd869152900a6": {
      "model_module": "@jupyter-widgets/controls",
      "model_module_version": "1.2.0",
      "model_name": "DescriptionStyleModel",
      "state": {
       "description_width": ""
      }
     },
     "2a86afd0a1774c679c12fd71308247ea": {
      "model_module": "@jupyter-widgets/controls",
      "model_module_version": "1.2.0",
      "model_name": "ButtonModel",
      "state": {
       "description": "Check shapefile",
       "layout": "IPY_MODEL_3d98e21559144b2ba40ea598f49908b9",
       "style": "IPY_MODEL_c061d7a4e86e4e4291968615ae7daa11",
       "tooltip": "Click me"
      }
     },
     "2afc43db349849c0bd1267d74258cea1": {
      "model_module": "@jupyter-widgets/base",
      "model_module_version": "1.0.0",
      "model_name": "LayoutModel",
      "state": {}
     },
     "2b1add0a18d24c878cd1274830d101e7": {
      "model_module": "@jupyter-widgets/base",
      "model_module_version": "1.0.0",
      "model_name": "LayoutModel",
      "state": {}
     },
     "2b3ae6f9161d48288f5c871b89b063b8": {
      "model_module": "@jupyter-widgets/controls",
      "model_module_version": "1.2.0",
      "model_name": "ButtonStyleModel",
      "state": {
       "button_color": "lightgreen"
      }
     },
     "2b597281a7e94be9928de045f59e8450": {
      "model_module": "@jupyter-widgets/controls",
      "model_module_version": "1.2.0",
      "model_name": "DescriptionStyleModel",
      "state": {
       "description_width": ""
      }
     },
     "2b59c647013a47edb0c36582ece919c2": {
      "model_module": "@jupyter-widgets/base",
      "model_module_version": "1.0.0",
      "model_name": "LayoutModel",
      "state": {}
     },
     "2c4db1279ac145adaa7cc38c6a1666d3": {
      "model_module": "@jupyter-widgets/base",
      "model_module_version": "1.0.0",
      "model_name": "LayoutModel",
      "state": {}
     },
     "2cba40606b2448eabf5ce1043dd4a460": {
      "model_module": "@jupyter-widgets/base",
      "model_module_version": "1.0.0",
      "model_name": "LayoutModel",
      "state": {}
     },
     "2cd8e812d9fe44a9b5416803cedde042": {
      "model_module": "jupyter-leaflet",
      "model_module_version": "~0.7.3",
      "model_name": "LeafletDrawControlModel",
      "state": {
       "_model_module_version": "~0.7.3",
       "_view_count": null,
       "_view_module_version": "~0.7.3",
       "layer": "IPY_MODEL_546b053d92c44606951cc893871ea4a7",
       "polygon": {
        "shapeOptions": {
         "color": "#0000FF"
        }
       },
       "polyline": {}
      }
     },
     "2d4c273233cb4683911ce72427fa6a7d": {
      "model_module": "@jupyter-widgets/controls",
      "model_module_version": "1.2.0",
      "model_name": "DescriptionStyleModel",
      "state": {
       "description_width": ""
      }
     },
     "2e83cd260d6e4ca6be9b39bd8f01ae99": {
      "model_module": "@jupyter-widgets/base",
      "model_module_version": "1.0.0",
      "model_name": "LayoutModel",
      "state": {}
     },
     "2ec103a608a340f8852f92f721a4a304": {
      "model_module": "@jupyter-widgets/base",
      "model_module_version": "1.0.0",
      "model_name": "LayoutModel",
      "state": {}
     },
     "2ed6eb805b474d20a4d90cd87977bd4c": {
      "model_module": "@jupyter-widgets/base",
      "model_module_version": "1.0.0",
      "model_name": "LayoutModel",
      "state": {}
     },
     "2ed95cb0c6b047f39768cadf7e29d1a2": {
      "model_module": "@jupyter-widgets/controls",
      "model_module_version": "1.2.0",
      "model_name": "VBoxModel",
      "state": {
       "children": [
        "IPY_MODEL_edb49d430860448589f51d68b2bc16a6",
        "IPY_MODEL_6c46c6a7bc2f4a21a6f9d822653d49ed"
       ],
       "layout": "IPY_MODEL_39f494b4892e4da69c576df9fb6e49f8"
      }
     },
     "2f7fbdcf2f2241c08fbe15815cf7c9bd": {
      "model_module": "@jupyter-widgets/controls",
      "model_module_version": "1.2.0",
      "model_name": "HBoxModel",
      "state": {
       "children": [
        "IPY_MODEL_fabead22666b4edf81b436f3aabe2c3c",
        "IPY_MODEL_9eead5604aa747d49f09101a7ecc428c"
       ],
       "layout": "IPY_MODEL_7d508b1a9a824c11be72201c70f89058"
      }
     },
     "2f87149616594bc9ae4625e9f87b5dd9": {
      "model_module": "@jupyter-widgets/base",
      "model_module_version": "1.0.0",
      "model_name": "LayoutModel",
      "state": {}
     },
     "2fdc2d9fb6bc4b4fa47bb404bd0c2333": {
      "model_module": "@jupyter-widgets/base",
      "model_module_version": "1.0.0",
      "model_name": "LayoutModel",
      "state": {}
     },
     "3021077200a24a348c7b9b7b70893bc8": {
      "model_module": "jupyter-leaflet",
      "model_module_version": "~0.7.3",
      "model_name": "LeafletDrawControlModel",
      "state": {
       "_model_module_version": "~0.7.3",
       "_view_count": null,
       "_view_module_version": "~0.7.3",
       "layer": "IPY_MODEL_4fea6e74ffa3472ea53edb79fab37663",
       "polygon": {
        "shapeOptions": {
         "color": "#0000FF"
        }
       },
       "polyline": {}
      }
     },
     "3099c0d954774b9eacd7e6d76ca30c6b": {
      "model_module": "@jupyter-widgets/controls",
      "model_module_version": "1.2.0",
      "model_name": "HBoxModel",
      "state": {
       "children": [
        "IPY_MODEL_bec925e5ac4b4a19bad4ea0ada57e573",
        "IPY_MODEL_81835bcf4e974387b5c26f7a886f3c27"
       ],
       "layout": "IPY_MODEL_1fde596783764dd0aeb242588ee4ad7f"
      }
     },
     "312986507e6e49b489891bd9e4aec043": {
      "model_module": "@jupyter-widgets/base",
      "model_module_version": "1.0.0",
      "model_name": "LayoutModel",
      "state": {
       "width": "70%"
      }
     },
     "317d2c6cfb3c43b499fb3285cab1405b": {
      "model_module": "@jupyter-widgets/controls",
      "model_module_version": "1.2.0",
      "model_name": "ButtonModel",
      "state": {
       "description": "Plot Geomedian",
       "layout": "IPY_MODEL_c0be69b8519a4e1785e486cf5af67a60",
       "style": "IPY_MODEL_b1a7f19cb4b9475bb0ec1916c89ccee0"
      }
     },
     "32079802d0ec42d5b17f2bad00c082b8": {
      "model_module": "@jupyter-widgets/controls",
      "model_module_version": "1.2.0",
      "model_name": "TextModel",
      "state": {
       "description": "path to shape file",
       "layout": "IPY_MODEL_af6417465f05425eab80c2d67bcdeabf",
       "placeholder": "update this field",
       "style": "IPY_MODEL_ff421a7caf40411d924184c16ca2b3a6",
       "value": "/g/data1a/r78/rjd547/groundwater_activities/Burdekin/Burdekin_shapefiles/fels_sml.shp"
      }
     },
     "32ae61e0106a40e98638e29813f07a8b": {
      "model_module": "@jupyter-widgets/base",
      "model_module_version": "1.0.0",
      "model_name": "LayoutModel",
      "state": {}
     },
     "32f959eae9ec46c2bafba09438849a35": {
      "model_module": "@jupyter-widgets/controls",
      "model_module_version": "1.2.0",
      "model_name": "DescriptionStyleModel",
      "state": {
       "description_width": ""
      }
     },
     "3342b3a6099b49e196627bcce0e64a62": {
      "model_module": "@jupyter-widgets/base",
      "model_module_version": "1.0.0",
      "model_name": "LayoutModel",
      "state": {}
     },
     "338b0a886f0d4433aeb345ef69e861fa": {
      "model_module": "@jupyter-widgets/base",
      "model_module_version": "1.0.0",
      "model_name": "LayoutModel",
      "state": {}
     },
     "34ef05a924d2421eb1f25fed67f88593": {
      "model_module": "jupyter-leaflet",
      "model_module_version": "~0.7.3",
      "model_name": "LeafletTileLayerModel",
      "state": {
       "_model_module_version": "~0.7.3",
       "_view_count": null,
       "_view_module_version": "~0.7.3",
       "attribution": "Tiles &copy; Esri &mdash; Source: Esri, i-cubed, USDA, USGS, AEX, GeoEye, Getmapping, Aerogrid, IGN, IGP, UPR-EGP, and the GIS User Community",
       "base": true,
       "max_zoom": 20,
       "min_zoom": 1,
       "name": "Esri.WorldImagery",
       "options": [
        "attribution",
        "detect_retina",
        "max_zoom",
        "min_zoom",
        "tile_size"
       ],
       "url": "http://server.arcgisonline.com/ArcGIS/rest/services/World_Imagery/MapServer/tile/{z}/{y}/{x}"
      }
     },
     "35077f877d0a47ec83199e4f4f2496f8": {
      "model_module": "@jupyter-widgets/controls",
      "model_module_version": "1.2.0",
      "model_name": "HBoxModel",
      "state": {
       "children": [
        "IPY_MODEL_5fbd610896404e06af3bd27671e49965",
        "IPY_MODEL_d107289f230143808f5b22db46c5255a"
       ],
       "layout": "IPY_MODEL_abde39cceb364e88936b5325aa7ab741"
      }
     },
     "355708fde7ee4a37b80c8b82a8829141": {
      "model_module": "@jupyter-widgets/base",
      "model_module_version": "1.0.0",
      "model_name": "LayoutModel",
      "state": {}
     },
     "3585603e2a1749a38286b3bd8394af36": {
      "model_module": "@jupyter-widgets/controls",
      "model_module_version": "1.2.0",
      "model_name": "LabelModel",
      "state": {
       "layout": "IPY_MODEL_63f84435d83b4c46959b51b92cbc05df",
       "style": "IPY_MODEL_64227ae488e5402ca9df06856c144621",
       "value": "End date is valid"
      }
     },
     "3601092120214ef2906500c7edcb3184": {
      "model_module": "@jupyter-widgets/controls",
      "model_module_version": "1.2.0",
      "model_name": "DescriptionStyleModel",
      "state": {
       "description_width": "initial"
      }
     },
     "3617f29000154ffaa2cd8993aa69638d": {
      "model_module": "@jupyter-widgets/base",
      "model_module_version": "1.0.0",
      "model_name": "LayoutModel",
      "state": {}
     },
     "36b9096d85b24740b00ad28b8b518d05": {
      "model_module": "@jupyter-widgets/base",
      "model_module_version": "1.0.0",
      "model_name": "LayoutModel",
      "state": {}
     },
     "3742333151324b35a7503b55de892fdc": {
      "model_module": "@jupyter-widgets/controls",
      "model_module_version": "1.2.0",
      "model_name": "ButtonModel",
      "state": {
       "description": "Check dates",
       "layout": "IPY_MODEL_7ade81e89e6742c4b5cdc0ba714c2555",
       "style": "IPY_MODEL_f96fed83fd5a43ed9f4c6298b6a1fc4e",
       "tooltip": "Click me"
      }
     },
     "374830a1454449d29f8aff7764a5b226": {
      "model_module": "@jupyter-widgets/base",
      "model_module_version": "1.0.0",
      "model_name": "LayoutModel",
      "state": {}
     },
     "378c31e5d59a484f9d255b82ae16a2a8": {
      "model_module": "jupyter-leaflet",
      "model_module_version": "~0.7.3",
      "model_name": "LeafletMapModel",
      "state": {
       "_dom_classes": [],
       "_model_module_version": "~0.7.3",
       "_view_count": null,
       "_view_module_version": "~0.7.3",
       "basemap": {
        "attribution": "Map data (c) <a href=\"https://openstreetmap.org\">OpenStreetMap</a> contributors",
        "max_zoom": 19,
        "url": "https://{s}.tile.openstreetmap.org/{z}/{x}/{y}.png"
       },
       "center": [
        -20.0183,
        145.3134
       ],
       "controls": [
        "IPY_MODEL_394bb299e84a489badd352846b284afe"
       ],
       "east": 145.57571411132815,
       "layers": [
        "IPY_MODEL_f72d7c91bcae465d90f1a6d586355f95"
       ],
       "layout": "IPY_MODEL_0bb27288e0f94204974203c3213b584c",
       "modisdate": "yesterday",
       "north": -19.760241554664503,
       "options": [
        "attribution_control",
        "basemap",
        "bounce_at_zoom_limits",
        "box_zoom",
        "center",
        "close_popup_on_click",
        "double_click_zoom",
        "dragging",
        "inertia",
        "inertia_deceleration",
        "inertia_max_speed",
        "keyboard",
        "keyboard_pan_offset",
        "keyboard_zoom_offset",
        "max_zoom",
        "min_zoom",
        "scroll_wheel_zoom",
        "tap",
        "tap_tolerance",
        "touch_zoom",
        "world_copy_jump",
        "zoom",
        "zoom_animation_threshold",
        "zoom_control",
        "zoom_start"
       ],
       "south": -20.276367870836033,
       "west": 145.0511169433594,
       "zoom": 10
      }
     },
     "37d74a5ded0f4b04bed331318ee34261": {
      "model_module": "@jupyter-widgets/controls",
      "model_module_version": "1.2.0",
      "model_name": "ButtonModel",
      "state": {
       "description": "Check shapefile",
       "layout": "IPY_MODEL_193f5deda64348fd9c968bf1a7831904",
       "style": "IPY_MODEL_079c930d28614463ac8aac9a0660c5eb",
       "tooltip": "Click me"
      }
     },
     "384800a964d546c8a96da2fe9e7e52eb": {
      "model_module": "@jupyter-widgets/base",
      "model_module_version": "1.0.0",
      "model_name": "LayoutModel",
      "state": {}
     },
     "394bb299e84a489badd352846b284afe": {
      "model_module": "jupyter-leaflet",
      "model_module_version": "~0.7.3",
      "model_name": "LeafletDrawControlModel",
      "state": {
       "_model_module_version": "~0.7.3",
       "_view_count": null,
       "_view_module_version": "~0.7.3",
       "layer": "IPY_MODEL_f85b2e1d239443bebb635bfcd63d4059",
       "polyline": {}
      }
     },
     "396f2960c3dd46498942009adea01c17": {
      "model_module": "@jupyter-widgets/base",
      "model_module_version": "1.0.0",
      "model_name": "LayoutModel",
      "state": {}
     },
     "39773aafc13142b6acaa4d3503e54a12": {
      "model_module": "@jupyter-widgets/base",
      "model_module_version": "1.0.0",
      "model_name": "LayoutModel",
      "state": {}
     },
     "398d50728181443fa8bebac25c89a1c7": {
      "model_module": "@jupyter-widgets/base",
      "model_module_version": "1.0.0",
      "model_name": "LayoutModel",
      "state": {}
     },
     "39f494b4892e4da69c576df9fb6e49f8": {
      "model_module": "@jupyter-widgets/base",
      "model_module_version": "1.0.0",
      "model_name": "LayoutModel",
      "state": {}
     },
     "3a75b4cd1e1c427083d4857a07ef77ce": {
      "model_module": "@jupyter-widgets/controls",
      "model_module_version": "1.2.0",
      "model_name": "ButtonModel",
      "state": {
       "description": "Load and Calculate",
       "layout": "IPY_MODEL_c59ce347ee774988ab93c8a55d2cc6cb",
       "style": "IPY_MODEL_806d0836d71849e1a85a615e108d5e73"
      }
     },
     "3b2bceee23d343e69fbeaf9668d7f00a": {
      "model_module": "jupyter-leaflet",
      "model_module_version": "~0.7.3",
      "model_name": "LeafletFeatureGroupModel",
      "state": {
       "_model_module_version": "~0.7.3",
       "_view_count": null,
       "_view_module_version": "~0.7.3"
      }
     },
     "3bbc30eab3974db3af83ad1f124f2b11": {
      "model_module": "@jupyter-widgets/base",
      "model_module_version": "1.0.0",
      "model_name": "LayoutModel",
      "state": {}
     },
     "3bf45206249846e5ae9c82a4a201f2e8": {
      "model_module": "@jupyter-widgets/controls",
      "model_module_version": "1.2.0",
      "model_name": "DescriptionStyleModel",
      "state": {
       "description_width": ""
      }
     },
     "3c509296daae4be0be0d7f2bc7d24c33": {
      "model_module": "@jupyter-widgets/controls",
      "model_module_version": "1.2.0",
      "model_name": "ButtonModel",
      "state": {
       "description": "Plot Geomedian",
       "layout": "IPY_MODEL_b6cbebcde4be4077826c5f444661320a",
       "style": "IPY_MODEL_7608330ad3af497c957ed5dd98119d68"
      }
     },
     "3cc44fcf1b944c27932288cfd8b8587b": {
      "model_module": "@jupyter-widgets/controls",
      "model_module_version": "1.2.0",
      "model_name": "ButtonStyleModel",
      "state": {}
     },
     "3ceef6c11f9a40d9bb4eb95c438d1ffe": {
      "model_module": "@jupyter-widgets/controls",
      "model_module_version": "1.2.0",
      "model_name": "ButtonStyleModel",
      "state": {
       "button_color": "orange"
      }
     },
     "3d75035ec4414ff793a8b7e3e7f4e290": {
      "model_module": "jupyter-leaflet",
      "model_module_version": "~0.7.3",
      "model_name": "LeafletTileLayerModel",
      "state": {
       "_model_module_version": "~0.7.3",
       "_view_count": null,
       "_view_module_version": "~0.7.3",
       "attribution": "Tiles &copy; Esri &mdash; Source: Esri, i-cubed, USDA, USGS, AEX, GeoEye, Getmapping, Aerogrid, IGN, IGP, UPR-EGP, and the GIS User Community",
       "base": true,
       "max_zoom": 20,
       "min_zoom": 1,
       "name": "Esri.WorldImagery",
       "options": [
        "attribution",
        "detect_retina",
        "max_zoom",
        "min_zoom",
        "tile_size"
       ],
       "url": "http://server.arcgisonline.com/ArcGIS/rest/services/World_Imagery/MapServer/tile/{z}/{y}/{x}"
      }
     },
     "3d98e21559144b2ba40ea598f49908b9": {
      "model_module": "@jupyter-widgets/base",
      "model_module_version": "1.0.0",
      "model_name": "LayoutModel",
      "state": {}
     },
     "3de0686ca6ac43ee955f30e04b2e341c": {
      "model_module": "@jupyter-widgets/base",
      "model_module_version": "1.0.0",
      "model_name": "LayoutModel",
      "state": {}
     },
     "3e2841f021c749eabfbe73b1c3c80b56": {
      "model_module": "@jupyter-widgets/base",
      "model_module_version": "1.0.0",
      "model_name": "LayoutModel",
      "state": {}
     },
     "3ea73809b88a46c7aef343413929f5c2": {
      "model_module": "@jupyter-widgets/controls",
      "model_module_version": "1.2.0",
      "model_name": "ButtonStyleModel",
      "state": {
       "button_color": "orange"
      }
     },
     "3ff6c1985a674ebdae2d6704ffae03a7": {
      "model_module": "@jupyter-widgets/controls",
      "model_module_version": "1.2.0",
      "model_name": "ButtonModel",
      "state": {
       "description": "Check dates",
       "layout": "IPY_MODEL_2138279249974a19a958485e3883e855",
       "style": "IPY_MODEL_721053dd4c9745dbae4ede7838645de1",
       "tooltip": "Click me"
      }
     },
     "400f379fc79a40559e46ab5ce6998605": {
      "model_module": "@jupyter-widgets/controls",
      "model_module_version": "1.2.0",
      "model_name": "DescriptionStyleModel",
      "state": {
       "description_width": "initial"
      }
     },
     "40a8ce946ccf47b399d3f9773af87f25": {
      "model_module": "@jupyter-widgets/base",
      "model_module_version": "1.0.0",
      "model_name": "LayoutModel",
      "state": {}
     },
     "40abcbf57a2d42609730d420388f3831": {
      "model_module": "@jupyter-widgets/base",
      "model_module_version": "1.0.0",
      "model_name": "LayoutModel",
      "state": {}
     },
     "40d9787329c84588b93dce8063503129": {
      "model_module": "@jupyter-widgets/base",
      "model_module_version": "1.0.0",
      "model_name": "LayoutModel",
      "state": {}
     },
     "4138bbeee0c34ef2b654f827a17c5285": {
      "model_module": "@jupyter-widgets/controls",
      "model_module_version": "1.2.0",
      "model_name": "ButtonStyleModel",
      "state": {}
     },
     "41ab56cf23654b5ba22f19901a52094e": {
      "model_module": "@jupyter-widgets/base",
      "model_module_version": "1.0.0",
      "model_name": "LayoutModel",
      "state": {}
     },
     "42e133edd1b740539df6abeb3bec465a": {
      "model_module": "@jupyter-widgets/base",
      "model_module_version": "1.0.0",
      "model_name": "LayoutModel",
      "state": {}
     },
     "42e43b5424444aedb21d513ceed64783": {
      "model_module": "@jupyter-widgets/controls",
      "model_module_version": "1.2.0",
      "model_name": "ButtonStyleModel",
      "state": {}
     },
     "430c38d1df2d400da511decfebe18e3d": {
      "model_module": "jupyter-leaflet",
      "model_module_version": "~0.7.3",
      "model_name": "LeafletGeoJSONModel",
      "state": {
       "_model_module_version": "~0.7.3",
       "_view_count": null,
       "_view_module_version": "~0.7.3",
       "data": {
        "geometry": {
         "coordinates": [
          [
           [
            145.319687,
            -19.928857
           ],
           [
            145.332055,
            -19.977909
           ],
           [
            145.278459,
            -19.9792
           ],
           [
            145.26884,
            -19.936603
           ],
           [
            145.319687,
            -19.928857
           ]
          ]
         ],
         "type": "Polygon"
        },
        "properties": {
         "style": {
          "clickable": true,
          "color": "#3388ff",
          "fill": true,
          "fillColor": null,
          "fillOpacity": 0.2,
          "opacity": 0.5,
          "stroke": true,
          "weight": 4
         }
        },
        "type": "Feature"
       }
      }
     },
     "43294cce0c574549a805bc1832afa5dc": {
      "model_module": "@jupyter-widgets/base",
      "model_module_version": "1.0.0",
      "model_name": "LayoutModel",
      "state": {}
     },
     "43b7430463134c18b30d2d1affe0a004": {
      "model_module": "jupyter-leaflet",
      "model_module_version": "~0.7.3",
      "model_name": "LeafletDrawControlModel",
      "state": {
       "_model_module_version": "~0.7.3",
       "_view_count": null,
       "_view_module_version": "~0.7.3",
       "layer": "IPY_MODEL_c7104fbe7a1b4137919d154facf960a8",
       "polygon": {
        "shapeOptions": {
         "color": "#0000FF"
        }
       },
       "polyline": {}
      }
     },
     "443da1e8733548c4bf0f9cc3e666724d": {
      "model_module": "@jupyter-widgets/base",
      "model_module_version": "1.0.0",
      "model_name": "LayoutModel",
      "state": {}
     },
     "4482c2ef667943f99a44e65be1ee0eac": {
      "model_module": "@jupyter-widgets/base",
      "model_module_version": "1.0.0",
      "model_name": "LayoutModel",
      "state": {}
     },
     "448b0694f9d841899f13e27ee43880d0": {
      "model_module": "@jupyter-widgets/controls",
      "model_module_version": "1.2.0",
      "model_name": "HBoxModel",
      "state": {
       "children": [
        "IPY_MODEL_26c02a4f34994e2dabf4ac559037b291",
        "IPY_MODEL_afafbd1a00824f5bb529d69bd0efa39f"
       ],
       "layout": "IPY_MODEL_fb49e2a250fe4fb68ecb25efe1208dc8"
      }
     },
     "44d059dcc9184e66bf0382bddefad072": {
      "model_module": "@jupyter-widgets/controls",
      "model_module_version": "1.2.0",
      "model_name": "ButtonStyleModel",
      "state": {
       "button_color": "lightgreen"
      }
     },
     "45a254841970494c8833e3fc715264a4": {
      "model_module": "@jupyter-widgets/controls",
      "model_module_version": "1.2.0",
      "model_name": "ButtonStyleModel",
      "state": {
       "button_color": "orange"
      }
     },
     "45b3d745a6d240f1b77fdb59cb0910a5": {
      "model_module": "jupyter-leaflet",
      "model_module_version": "~0.7.3",
      "model_name": "LeafletMapModel",
      "state": {
       "_dom_classes": [],
       "_model_module_version": "~0.7.3",
       "_view_count": null,
       "_view_module_version": "~0.7.3",
       "basemap": {
        "attribution": "Map data (c) <a href=\"https://openstreetmap.org\">OpenStreetMap</a> contributors",
        "max_zoom": 19,
        "url": "https://{s}.tile.openstreetmap.org/{z}/{x}/{y}.png"
       },
       "center": [
        -20.00883875717698,
        145.27770996093753
       ],
       "controls": [
        "IPY_MODEL_9c2259ad2b92449d9dcafbd2095291e7"
       ],
       "east": 145.40885925292972,
       "layers": [
        "IPY_MODEL_cc41447f4be74e5fb5cd60506285a781"
       ],
       "layout": "IPY_MODEL_1d51a02b51ee4776a886f2f3a6285a3d",
       "modisdate": "yesterday",
       "north": -19.879746041940486,
       "options": [
        "attribution_control",
        "basemap",
        "bounce_at_zoom_limits",
        "box_zoom",
        "center",
        "close_popup_on_click",
        "double_click_zoom",
        "dragging",
        "inertia",
        "inertia_deceleration",
        "inertia_max_speed",
        "keyboard",
        "keyboard_pan_offset",
        "keyboard_zoom_offset",
        "max_zoom",
        "min_zoom",
        "scroll_wheel_zoom",
        "tap",
        "tap_tolerance",
        "touch_zoom",
        "world_copy_jump",
        "zoom",
        "zoom_animation_threshold",
        "zoom_control",
        "zoom_start"
       ],
       "south": -20.13782564485672,
       "west": 145.14656066894534,
       "zoom": 11
      }
     },
     "4704dbd2a88d4acda5666a8003dd1fbe": {
      "model_module": "@jupyter-widgets/controls",
      "model_module_version": "1.2.0",
      "model_name": "ToggleButtonsModel",
      "state": {
       "_options_labels": [
        "Shapefile",
        "DrawnPolygon"
       ],
       "button_style": "",
       "description": "Geometry Used for Datacube Query:",
       "icons": [],
       "index": 1,
       "layout": "IPY_MODEL_c638a0562dbd43a48768dfc7aa545a57",
       "style": "IPY_MODEL_866e4d50d7144f1f9a0fd6d7c324e5dc",
       "tooltips": [
        "Use Shapefile Specified for the DC query",
        "Use Polygon Drawn on the Map for the DC query"
       ]
      }
     },
     "476949afe8da454cb6700459f1cbee76": {
      "model_module": "@jupyter-widgets/base",
      "model_module_version": "1.0.0",
      "model_name": "LayoutModel",
      "state": {
       "width": "70%"
      }
     },
     "476f19e1c2c34610a11ae7c6efacdf76": {
      "model_module": "@jupyter-widgets/base",
      "model_module_version": "1.0.0",
      "model_name": "LayoutModel",
      "state": {}
     },
     "47be2b807aa94e0581485167fc2a1df0": {
      "model_module": "@jupyter-widgets/controls",
      "model_module_version": "1.2.0",
      "model_name": "TextModel",
      "state": {
       "description": "path to shape file",
       "layout": "IPY_MODEL_b37dcd204c074e2e9005609f92975a4d",
       "placeholder": "/g/data1a/r78/rjd547/groundwater_activities/Burdekin/Burdekin_shapefiles/fels_sml.shp",
       "style": "IPY_MODEL_57b2af79b50547799714ce2a965618da",
       "value": "/g/data1a/r78/rjd547/groundwater_activities/Burdekin/Burdekin_shapefiles/fels_sml.shp"
      }
     },
     "4896f28f55db4f45b7b34541e2f702f9": {
      "model_module": "@jupyter-widgets/controls",
      "model_module_version": "1.2.0",
      "model_name": "ButtonModel",
      "state": {
       "description": "Select File",
       "icon": "square-o",
       "layout": "IPY_MODEL_cf79f0110e9947668e6807c5a91e210f",
       "style": "IPY_MODEL_9a08efa4fef148e1a28c87b5221472a4"
      }
     },
     "48d6ff7331a44a8f9ebdfa8f2f0fd6c5": {
      "model_module": "@jupyter-widgets/controls",
      "model_module_version": "1.2.0",
      "model_name": "TextModel",
      "state": {
       "description": "start date",
       "layout": "IPY_MODEL_83fc73556dce47a2853e484f29aa55f8",
       "placeholder": "update this field YYYY-MM-DD",
       "style": "IPY_MODEL_ca13ea05a65d4773b21fe02b041cbf27",
       "value": "2013-04-01"
      }
     },
     "48f3138fb309491c95e63280af075847": {
      "model_module": "jupyter-leaflet",
      "model_module_version": "~0.7.3",
      "model_name": "LeafletMapModel",
      "state": {
       "_dom_classes": [],
       "_model_module_version": "~0.7.3",
       "_view_count": null,
       "_view_module_version": "~0.7.3",
       "basemap": {
        "attribution": "Tiles &copy; Esri &mdash; Source: Esri, i-cubed, USDA, USGS, AEX, GeoEye, Getmapping, Aerogrid, IGN, IGP, UPR-EGP, and the GIS User Community",
        "max_zoom": 20,
        "name": "Esri.WorldImagery",
        "url": "http://server.arcgisonline.com/ArcGIS/rest/services/World_Imagery/MapServer/tile/{z}/{y}/{x}"
       },
       "center": [
        -20.021097069675676,
        145.20904541015628
       ],
       "controls": [
        "IPY_MODEL_43b7430463134c18b30d2d1affe0a004"
       ],
       "east": 145.46447753906253,
       "layers": [
        "IPY_MODEL_8c550db151884ef896e0e7b131fcde6c",
        "IPY_MODEL_430c38d1df2d400da511decfebe18e3d"
       ],
       "layout": "IPY_MODEL_751abdda30454bda9ca6f8ae2be67980",
       "modisdate": "yesterday",
       "north": -19.76282638490851,
       "options": [
        "attribution_control",
        "basemap",
        "bounce_at_zoom_limits",
        "box_zoom",
        "center",
        "close_popup_on_click",
        "double_click_zoom",
        "dragging",
        "inertia",
        "inertia_deceleration",
        "inertia_max_speed",
        "keyboard",
        "keyboard_pan_offset",
        "keyboard_zoom_offset",
        "max_zoom",
        "min_zoom",
        "scroll_wheel_zoom",
        "tap",
        "tap_tolerance",
        "touch_zoom",
        "world_copy_jump",
        "zoom",
        "zoom_animation_threshold",
        "zoom_control",
        "zoom_start"
       ],
       "south": -20.278944231137633,
       "west": 144.95361328125003,
       "zoom": 10
      }
     },
     "498d5e44c74548eb9c60c7d37cc1e153": {
      "model_module": "@jupyter-widgets/controls",
      "model_module_version": "1.2.0",
      "model_name": "ToggleButtonsStyleModel",
      "state": {
       "button_width": "",
       "description_width": ""
      }
     },
     "49d33c5c42344cabb097bc8c051ca76f": {
      "model_module": "@jupyter-widgets/base",
      "model_module_version": "1.0.0",
      "model_name": "LayoutModel",
      "state": {}
     },
     "49f7eca4ee4845b78a53e511a0f2a4ec": {
      "model_module": "@jupyter-widgets/controls",
      "model_module_version": "1.2.0",
      "model_name": "DescriptionStyleModel",
      "state": {
       "description_width": ""
      }
     },
     "4bd38c3a77d24b8db9c7861d349c8656": {
      "model_module": "@jupyter-widgets/base",
      "model_module_version": "1.0.0",
      "model_name": "LayoutModel",
      "state": {}
     },
     "4ccc81fb6949492b81e3a2aa401d2bfd": {
      "model_module": "@jupyter-widgets/base",
      "model_module_version": "1.0.0",
      "model_name": "LayoutModel",
      "state": {}
     },
     "4ceeeb52d326492ca12af3c019bd8a66": {
      "model_module": "@jupyter-widgets/controls",
      "model_module_version": "1.2.0",
      "model_name": "ToggleButtonsModel",
      "state": {
       "_options_labels": [
        "Shapefile",
        "DrawnPolygon"
       ],
       "button_style": "",
       "description": "Geometry Used for Datacube Query:",
       "icons": [],
       "index": 1,
       "layout": "IPY_MODEL_10729fa9678141079fbf3d811d526998",
       "style": "IPY_MODEL_534d78a381eb49cbaf1f1e5ce294bb8e",
       "tooltips": [
        "Use Shapefile Specified for the DC query",
        "Use Polygon Drawn on the Map for the DC query"
       ]
      }
     },
     "4cf0dc35ed9241779de3d62ef911c6c5": {
      "model_module": "@jupyter-widgets/controls",
      "model_module_version": "1.2.0",
      "model_name": "ButtonStyleModel",
      "state": {
       "button_color": "orange"
      }
     },
     "4cf53202c189492999dd625799fc5753": {
      "model_module": "@jupyter-widgets/base",
      "model_module_version": "1.0.0",
      "model_name": "LayoutModel",
      "state": {}
     },
     "4d15c5506fd84e61a8826d2095d8a7a3": {
      "model_module": "@jupyter-widgets/base",
      "model_module_version": "1.0.0",
      "model_name": "LayoutModel",
      "state": {}
     },
     "4d2c4731f442482da1cd2f815b90f035": {
      "model_module": "@jupyter-widgets/controls",
      "model_module_version": "1.2.0",
      "model_name": "DescriptionStyleModel",
      "state": {
       "description_width": ""
      }
     },
     "4d5ce2fc5004436c867eea9e391f007e": {
      "model_module": "@jupyter-widgets/base",
      "model_module_version": "1.0.0",
      "model_name": "LayoutModel",
      "state": {}
     },
     "4d8eede902a74c22966e9588efa2b5b2": {
      "model_module": "@jupyter-widgets/base",
      "model_module_version": "1.0.0",
      "model_name": "LayoutModel",
      "state": {}
     },
     "4e195601456a458db1d71c2a90df836a": {
      "model_module": "@jupyter-widgets/controls",
      "model_module_version": "1.2.0",
      "model_name": "LabelModel",
      "state": {
       "layout": "IPY_MODEL_a5006babf92545438769cf5b8951837e",
       "style": "IPY_MODEL_fb9aef14f2a9414ab8d9c04bb81c6782",
       "value": "End date is valid"
      }
     },
     "4e34e953cbcf45f8b028fef53aa1d7b0": {
      "model_module": "@jupyter-widgets/base",
      "model_module_version": "1.0.0",
      "model_name": "LayoutModel",
      "state": {}
     },
     "4ea17b0f48e4415c9111925c093c1ceb": {
      "model_module": "@jupyter-widgets/base",
      "model_module_version": "1.0.0",
      "model_name": "LayoutModel",
      "state": {}
     },
     "4fea6e74ffa3472ea53edb79fab37663": {
      "model_module": "jupyter-leaflet",
      "model_module_version": "~0.7.3",
      "model_name": "LeafletFeatureGroupModel",
      "state": {
       "_model_module_version": "~0.7.3",
       "_view_count": null,
       "_view_module_version": "~0.7.3"
      }
     },
     "50b2740c24494427b6eb87fb4b0c248a": {
      "model_module": "@jupyter-widgets/controls",
      "model_module_version": "1.2.0",
      "model_name": "LabelModel",
      "state": {
       "layout": "IPY_MODEL_43294cce0c574549a805bc1832afa5dc",
       "style": "IPY_MODEL_1e40aee8a9d644f593dd739046f8ef5e",
       "value": "Start date is valid"
      }
     },
     "50f49c1fc21243309ee39c34f39495e6": {
      "model_module": "@jupyter-widgets/base",
      "model_module_version": "1.0.0",
      "model_name": "LayoutModel",
      "state": {}
     },
     "510244072f9c484c8097c56ac4e6319e": {
      "model_module": "@jupyter-widgets/base",
      "model_module_version": "1.0.0",
      "model_name": "LayoutModel",
      "state": {}
     },
     "511250ca4a4f4d0bb29614e49c44386a": {
      "model_module": "@jupyter-widgets/base",
      "model_module_version": "1.0.0",
      "model_name": "LayoutModel",
      "state": {
       "width": "70%"
      }
     },
     "513673dda9644f9fb6990370f58bee22": {
      "model_module": "@jupyter-widgets/controls",
      "model_module_version": "1.2.0",
      "model_name": "ButtonStyleModel",
      "state": {}
     },
     "519e88e884ea480686a9eeaafff7ea52": {
      "model_module": "@jupyter-widgets/controls",
      "model_module_version": "1.2.0",
      "model_name": "DescriptionStyleModel",
      "state": {
       "description_width": "initial"
      }
     },
     "51a0297aab8a4de5b7519265a5d410da": {
      "model_module": "@jupyter-widgets/controls",
      "model_module_version": "1.2.0",
      "model_name": "HBoxModel",
      "state": {
       "children": [
        "IPY_MODEL_0aa8752fbff145af96b185f94da14618",
        "IPY_MODEL_aa8f3b8327914a42907a7bae7ea9e685"
       ],
       "layout": "IPY_MODEL_398d50728181443fa8bebac25c89a1c7"
      }
     },
     "52f0c47aefa648d0a489b213f3ff4a49": {
      "model_module": "@jupyter-widgets/controls",
      "model_module_version": "1.2.0",
      "model_name": "DescriptionStyleModel",
      "state": {
       "description_width": ""
      }
     },
     "534d78a381eb49cbaf1f1e5ce294bb8e": {
      "model_module": "@jupyter-widgets/controls",
      "model_module_version": "1.2.0",
      "model_name": "ToggleButtonsStyleModel",
      "state": {
       "button_width": "",
       "description_width": ""
      }
     },
     "543df75902804d5caac4d1ce1ca9f4f2": {
      "model_module": "@jupyter-widgets/base",
      "model_module_version": "1.0.0",
      "model_name": "LayoutModel",
      "state": {}
     },
     "54619ca7118e4a1cae75bf0920a7976e": {
      "model_module": "jupyter-leaflet",
      "model_module_version": "~0.7.3",
      "model_name": "LeafletFeatureGroupModel",
      "state": {
       "_model_module_version": "~0.7.3",
       "_view_count": null,
       "_view_module_version": "~0.7.3"
      }
     },
     "546b053d92c44606951cc893871ea4a7": {
      "model_module": "jupyter-leaflet",
      "model_module_version": "~0.7.3",
      "model_name": "LeafletFeatureGroupModel",
      "state": {
       "_model_module_version": "~0.7.3",
       "_view_count": null,
       "_view_module_version": "~0.7.3"
      }
     },
     "54e611a40ad749d5b4497d9cbdf0ea37": {
      "model_module": "@jupyter-widgets/controls",
      "model_module_version": "1.2.0",
      "model_name": "ButtonModel",
      "state": {
       "description": "Select File",
       "icon": "square-o",
       "layout": "IPY_MODEL_19f237d3fef04cd7a93706e77cc51fd6",
       "style": "IPY_MODEL_91667a1fdf624e708db6dc1922821cd9"
      }
     },
     "54f79816866a4ebaba8bc93d3c2c2fea": {
      "model_module": "@jupyter-widgets/controls",
      "model_module_version": "1.2.0",
      "model_name": "ButtonStyleModel",
      "state": {}
     },
     "5540e111c3f54e4394f0f56cfeb83212": {
      "model_module": "@jupyter-widgets/base",
      "model_module_version": "1.0.0",
      "model_name": "LayoutModel",
      "state": {}
     },
     "55c4b5c5cefc424b9283cb0488224176": {
      "model_module": "@jupyter-widgets/controls",
      "model_module_version": "1.2.0",
      "model_name": "DescriptionStyleModel",
      "state": {
       "description_width": "initial"
      }
     },
     "563616c313074574947b34eb5149a290": {
      "model_module": "@jupyter-widgets/controls",
      "model_module_version": "1.2.0",
      "model_name": "TextModel",
      "state": {
       "description": "end date",
       "layout": "IPY_MODEL_84f7747da5304c2e974ae3f413949caa",
       "placeholder": "update this field YYYY-MM-DD",
       "style": "IPY_MODEL_88cae757d2f7459e998bff86f4958e13",
       "value": "2013-10-31"
      }
     },
     "56377bf08de443289371fa4ba49b6012": {
      "model_module": "@jupyter-widgets/controls",
      "model_module_version": "1.2.0",
      "model_name": "DescriptionStyleModel",
      "state": {
       "description_width": ""
      }
     },
     "5671c97b9e094ab39ae8d694d7fe83f3": {
      "model_module": "@jupyter-widgets/base",
      "model_module_version": "1.0.0",
      "model_name": "LayoutModel",
      "state": {}
     },
     "56a0fdf4b09f4a4fa8336df68cb8401b": {
      "model_module": "@jupyter-widgets/base",
      "model_module_version": "1.0.0",
      "model_name": "LayoutModel",
      "state": {}
     },
     "57447ab799eb4f7fa0fe2e9142cb3c7b": {
      "model_module": "@jupyter-widgets/controls",
      "model_module_version": "1.2.0",
      "model_name": "ToggleButtonsStyleModel",
      "state": {
       "button_width": "",
       "description_width": ""
      }
     },
     "5777a627855f4941af19c6657d7c4284": {
      "model_module": "@jupyter-widgets/controls",
      "model_module_version": "1.2.0",
      "model_name": "ButtonStyleModel",
      "state": {}
     },
     "57b2af79b50547799714ce2a965618da": {
      "model_module": "@jupyter-widgets/controls",
      "model_module_version": "1.2.0",
      "model_name": "DescriptionStyleModel",
      "state": {
       "description_width": "initial"
      }
     },
     "57da9101bc734176953c2564943cfe18": {
      "model_module": "@jupyter-widgets/base",
      "model_module_version": "1.0.0",
      "model_name": "LayoutModel",
      "state": {
       "width": "70%"
      }
     },
     "58271b4d3ed44a9aa2820ca8290889c7": {
      "model_module": "@jupyter-widgets/base",
      "model_module_version": "1.0.0",
      "model_name": "LayoutModel",
      "state": {}
     },
     "586540cb3fc941da9b05bf6cb9855eac": {
      "model_module": "@jupyter-widgets/base",
      "model_module_version": "1.0.0",
      "model_name": "LayoutModel",
      "state": {}
     },
     "58e4ede9d357461d999c853dca24e73f": {
      "model_module": "@jupyter-widgets/controls",
      "model_module_version": "1.2.0",
      "model_name": "TextModel",
      "state": {
       "description": "start date",
       "layout": "IPY_MODEL_d0a326b80a1847268b631b8e397adb37",
       "placeholder": "update this field YYYY-MM-DD",
       "style": "IPY_MODEL_d059f19b453c40f4bf59f0526c822e2e",
       "value": "2013-05-01"
      }
     },
     "58fd4dd604d647cb9665b40609d7b24f": {
      "model_module": "@jupyter-widgets/base",
      "model_module_version": "1.0.0",
      "model_name": "LayoutModel",
      "state": {}
     },
     "598d80b0b3bc43c284f2a30089ff56ea": {
      "model_module": "@jupyter-widgets/controls",
      "model_module_version": "1.2.0",
      "model_name": "ButtonModel",
      "state": {
       "description": "File Name Specified",
       "icon": "check-square-o",
       "layout": "IPY_MODEL_612c7e86a3d5492b86415986979aed94",
       "style": "IPY_MODEL_70d40665368640f1b8f39e68d0234add"
      }
     },
     "59d5cbd3ad074721b7aa71e8a60c18dd": {
      "model_module": "@jupyter-widgets/controls",
      "model_module_version": "1.2.0",
      "model_name": "TextModel",
      "state": {
       "description": "path to shape file",
       "layout": "IPY_MODEL_2957bfd4907f4cc79631cfc449884884",
       "placeholder": "/g/data1a/r78/rjd547/groundwater_activities/Burdekin/Burdekin_shapefiles/fels_sml.shp",
       "style": "IPY_MODEL_fa0500b0cf9140169c8896665fdb6cfa",
       "value": "/g/data1a/r78/rjd547/groundwater_activities/Burdekin/Burdekin_shapefiles/fels_sml.shp"
      }
     },
     "5a07bb90f7854105906f064db21f654e": {
      "model_module": "@jupyter-widgets/controls",
      "model_module_version": "1.2.0",
      "model_name": "HBoxModel",
      "state": {
       "children": [
        "IPY_MODEL_5bab54d6259f4ad6844325c3dea6a933",
        "IPY_MODEL_7a7c197de4dc45e4b464f01d75c5e730"
       ],
       "layout": "IPY_MODEL_fbc917df6ba04424ad14aceed230467d"
      }
     },
     "5a18379e7ccf431c90739d796afe504a": {
      "model_module": "@jupyter-widgets/controls",
      "model_module_version": "1.2.0",
      "model_name": "DescriptionStyleModel",
      "state": {
       "description_width": ""
      }
     },
     "5a6905a4b6aa45588303c02e1982c67a": {
      "model_module": "@jupyter-widgets/controls",
      "model_module_version": "1.2.0",
      "model_name": "ButtonModel",
      "state": {
       "description": "File Name Specified",
       "icon": "check-square-o",
       "layout": "IPY_MODEL_f9cf14f69e5c49f79538bc09d0f7b4e4",
       "style": "IPY_MODEL_9f0315324d9a438a9618a25ae2b8e004"
      }
     },
     "5a775137d2c7411f8054ccde2dab68bd": {
      "model_module": "jupyter-leaflet",
      "model_module_version": "~0.7.3",
      "model_name": "LeafletGeoJSONModel",
      "state": {
       "_model_module_version": "~0.7.3",
       "_view_count": null,
       "_view_module_version": "~0.7.3",
       "data": {
        "geometry": {
         "coordinates": [
          [
           [
            145.056458,
            -20.161204
           ],
           [
            145.039967,
            -19.634353
           ],
           [
            145.815044,
            -19.59037
           ],
           [
            145.787559,
            -20.039977
           ],
           [
            145.056458,
            -20.161204
           ]
          ]
         ],
         "type": "Polygon"
        },
        "properties": {
         "style": {
          "clickable": true,
          "color": "#3388ff",
          "fill": true,
          "fillColor": null,
          "fillOpacity": 0.2,
          "opacity": 0.5,
          "stroke": true,
          "weight": 4
         }
        },
        "type": "Feature"
       }
      }
     },
     "5b60bb4fead34084a2a498ae3f535223": {
      "model_module": "@jupyter-widgets/base",
      "model_module_version": "1.0.0",
      "model_name": "LayoutModel",
      "state": {
       "width": "70%"
      }
     },
     "5bab54d6259f4ad6844325c3dea6a933": {
      "model_module": "@jupyter-widgets/controls",
      "model_module_version": "1.2.0",
      "model_name": "TextModel",
      "state": {
       "description": "start date",
       "layout": "IPY_MODEL_906c46d8696c4b448818edb4f1211a14",
       "placeholder": "update this field YYYY-MM-DD",
       "style": "IPY_MODEL_49f7eca4ee4845b78a53e511a0f2a4ec",
       "value": "2013-04-01"
      }
     },
     "5be45dd7db0346e58e732c45983d45ff": {
      "model_module": "@jupyter-widgets/base",
      "model_module_version": "1.0.0",
      "model_name": "LayoutModel",
      "state": {}
     },
     "5bf47680298c426e9d9c7a1653461428": {
      "model_module": "@jupyter-widgets/base",
      "model_module_version": "1.0.0",
      "model_name": "LayoutModel",
      "state": {
       "width": "70%"
      }
     },
     "5c6170dfcfeb4e06bcefa27f13fbc527": {
      "model_module": "@jupyter-widgets/controls",
      "model_module_version": "1.2.0",
      "model_name": "ButtonStyleModel",
      "state": {
       "button_color": "orange"
      }
     },
     "5d18532946984a64a963505ab74e65f9": {
      "model_module": "@jupyter-widgets/base",
      "model_module_version": "1.0.0",
      "model_name": "LayoutModel",
      "state": {}
     },
     "5d3533b0338a4471906cea5add1f6b27": {
      "model_module": "jupyter-leaflet",
      "model_module_version": "~0.7.3",
      "model_name": "LeafletTileLayerModel",
      "state": {
       "_model_module_version": "~0.7.3",
       "_view_count": null,
       "_view_module_version": "~0.7.3",
       "attribution": "Tiles &copy; Esri &mdash; Source: Esri, i-cubed, USDA, USGS, AEX, GeoEye, Getmapping, Aerogrid, IGN, IGP, UPR-EGP, and the GIS User Community",
       "base": true,
       "max_zoom": 20,
       "min_zoom": 1,
       "name": "Esri.WorldImagery",
       "options": [
        "attribution",
        "detect_retina",
        "max_zoom",
        "min_zoom",
        "tile_size"
       ],
       "url": "http://server.arcgisonline.com/ArcGIS/rest/services/World_Imagery/MapServer/tile/{z}/{y}/{x}"
      }
     },
     "5ea4e0ad48584e559bbefed7a9c193ad": {
      "model_module": "@jupyter-widgets/controls",
      "model_module_version": "1.2.0",
      "model_name": "TextModel",
      "state": {
       "description": "end date",
       "layout": "IPY_MODEL_aaf5a358f75e458fa7e91ad5460505a6",
       "placeholder": "update this field YYYY-MM-DD",
       "style": "IPY_MODEL_7d326dbac6e34f86bcee83d45c6ae74e",
       "value": "2013-05-31"
      }
     },
     "5f99c4c47ea9494ca284b0984efbf4f2": {
      "model_module": "@jupyter-widgets/base",
      "model_module_version": "1.0.0",
      "model_name": "LayoutModel",
      "state": {}
     },
     "5faacfe7b11a417e996b38e52466bb93": {
      "model_module": "@jupyter-widgets/controls",
      "model_module_version": "1.2.0",
      "model_name": "ButtonModel",
      "state": {
       "description": "Check dates",
       "layout": "IPY_MODEL_4ccc81fb6949492b81e3a2aa401d2bfd",
       "style": "IPY_MODEL_9934b930870e4564961f7f29d3c0aaca",
       "tooltip": "Click me"
      }
     },
     "5fbd610896404e06af3bd27671e49965": {
      "model_module": "@jupyter-widgets/controls",
      "model_module_version": "1.2.0",
      "model_name": "TextModel",
      "state": {
       "description": "start date",
       "layout": "IPY_MODEL_3342b3a6099b49e196627bcce0e64a62",
       "placeholder": "update this field YYYY-MM-DD",
       "style": "IPY_MODEL_8dc22bcc721a4e57874a67f9a6ecad65",
       "value": "2013-04-01"
      }
     },
     "603485709521464b98aae564416d6a5e": {
      "model_module": "@jupyter-widgets/controls",
      "model_module_version": "1.2.0",
      "model_name": "HBoxModel",
      "state": {
       "children": [
        "IPY_MODEL_147add4859b14054812de346ba649b91",
        "IPY_MODEL_4896f28f55db4f45b7b34541e2f702f9"
       ],
       "layout": "IPY_MODEL_3617f29000154ffaa2cd8993aa69638d"
      }
     },
     "60ea540d16a149d7a127089fc7ba1a7b": {
      "model_module": "@jupyter-widgets/base",
      "model_module_version": "1.0.0",
      "model_name": "LayoutModel",
      "state": {}
     },
     "611c0e44b4de4dbb968631e51dc53064": {
      "model_module": "jupyter-leaflet",
      "model_module_version": "~0.7.3",
      "model_name": "LeafletDrawControlModel",
      "state": {
       "_model_module_version": "~0.7.3",
       "_view_count": null,
       "_view_module_version": "~0.7.3",
       "layer": "IPY_MODEL_be274867537242eda9af68770b7f8e5b",
       "polyline": {}
      }
     },
     "612675846c8b4a8da72aad8071b9e341": {
      "model_module": "@jupyter-widgets/controls",
      "model_module_version": "1.2.0",
      "model_name": "ButtonStyleModel",
      "state": {}
     },
     "612c7e86a3d5492b86415986979aed94": {
      "model_module": "@jupyter-widgets/base",
      "model_module_version": "1.0.0",
      "model_name": "LayoutModel",
      "state": {}
     },
     "6152224439d64344aa8ed101d000a710": {
      "model_module": "@jupyter-widgets/controls",
      "model_module_version": "1.2.0",
      "model_name": "ButtonModel",
      "state": {
       "description": "Save File As",
       "icon": "square-o",
       "layout": "IPY_MODEL_8b063b7cfa1d4e9795c23f6ce4c327e3",
       "style": "IPY_MODEL_9d6fd0996e454234a2f7f9bb31bd70ed"
      }
     },
     "617854336e094a8daada710c504e0f68": {
      "model_module": "@jupyter-widgets/controls",
      "model_module_version": "1.2.0",
      "model_name": "DescriptionStyleModel",
      "state": {
       "description_width": ""
      }
     },
     "61cd1e36635d49a783c62496f20f8e82": {
      "model_module": "@jupyter-widgets/controls",
      "model_module_version": "1.2.0",
      "model_name": "ButtonStyleModel",
      "state": {}
     },
     "6267c710469c43ec8a7af96658b61529": {
      "model_module": "@jupyter-widgets/base",
      "model_module_version": "1.0.0",
      "model_name": "LayoutModel",
      "state": {}
     },
     "62cf1cec73004ebdaffabb1f0e726304": {
      "model_module": "@jupyter-widgets/base",
      "model_module_version": "1.0.0",
      "model_name": "LayoutModel",
      "state": {}
     },
     "62e1e82c62344279a83d3ca67c251f79": {
      "model_module": "@jupyter-widgets/controls",
      "model_module_version": "1.2.0",
      "model_name": "HBoxModel",
      "state": {
       "children": [
        "IPY_MODEL_48d6ff7331a44a8f9ebdfa8f2f0fd6c5",
        "IPY_MODEL_95613f27523445929c8839d497355866"
       ],
       "layout": "IPY_MODEL_4e34e953cbcf45f8b028fef53aa1d7b0"
      }
     },
     "635c00d824b14ebb96a6cae2632b49f5": {
      "model_module": "@jupyter-widgets/controls",
      "model_module_version": "1.2.0",
      "model_name": "ToggleButtonsModel",
      "state": {
       "_options_labels": [
        "Shapefile",
        "DrawnPolygon"
       ],
       "button_style": "",
       "description": "Geometry Used for Datacube Query:",
       "icons": [],
       "index": 1,
       "layout": "IPY_MODEL_8d7309d4ee404efabe5c363230bc69f2",
       "style": "IPY_MODEL_6eae73c1f45640b180b62d0946fe2ab2",
       "tooltips": [
        "Use Shapefile Specified for the DC query",
        "Use Polygon Drawn on the Map for the DC query"
       ]
      }
     },
     "63f84435d83b4c46959b51b92cbc05df": {
      "model_module": "@jupyter-widgets/base",
      "model_module_version": "1.0.0",
      "model_name": "LayoutModel",
      "state": {}
     },
     "640444ac363b45478bbc10abe9ea1c34": {
      "model_module": "jupyter-leaflet",
      "model_module_version": "~0.7.3",
      "model_name": "LeafletDrawControlModel",
      "state": {
       "_model_module_version": "~0.7.3",
       "_view_count": null,
       "_view_module_version": "~0.7.3",
       "layer": "IPY_MODEL_b83aff089c004bda8f987caba5f460ac",
       "polygon": {
        "shapeOptions": {
         "color": "#0000FF"
        }
       },
       "polyline": {}
      }
     },
     "64227ae488e5402ca9df06856c144621": {
      "model_module": "@jupyter-widgets/controls",
      "model_module_version": "1.2.0",
      "model_name": "DescriptionStyleModel",
      "state": {
       "description_width": ""
      }
     },
     "646aeadcb86d40b4a5ad979dbf78461d": {
      "model_module": "@jupyter-widgets/controls",
      "model_module_version": "1.2.0",
      "model_name": "ButtonStyleModel",
      "state": {}
     },
     "649dff08167041e88151747b11065dda": {
      "model_module": "@jupyter-widgets/controls",
      "model_module_version": "1.2.0",
      "model_name": "DescriptionStyleModel",
      "state": {
       "description_width": "initial"
      }
     },
     "64dac93dc32c447ba8090da99baad03d": {
      "model_module": "@jupyter-widgets/base",
      "model_module_version": "1.0.0",
      "model_name": "LayoutModel",
      "state": {}
     },
     "651eb5a5c46645c9ae113c6908980ad7": {
      "model_module": "@jupyter-widgets/base",
      "model_module_version": "1.0.0",
      "model_name": "LayoutModel",
      "state": {}
     },
     "6539fcfd58bc44c8b5b9388b3c1829e7": {
      "model_module": "@jupyter-widgets/controls",
      "model_module_version": "1.2.0",
      "model_name": "TextModel",
      "state": {
       "description": "start date",
       "layout": "IPY_MODEL_0e940ccd7e3445fd922a3460176ecb3e",
       "placeholder": "update this field YYYY-MM-DD",
       "style": "IPY_MODEL_fc17a5d7cf4e4a1ba63e210c2ef93955",
       "value": "2013-04-01"
      }
     },
     "659398f5d1c246d6af167d5cba79e640": {
      "model_module": "@jupyter-widgets/controls",
      "model_module_version": "1.2.0",
      "model_name": "TextModel",
      "state": {
       "description": "start date",
       "layout": "IPY_MODEL_2fdc2d9fb6bc4b4fa47bb404bd0c2333",
       "placeholder": "update this field YYYY-MM-DD",
       "style": "IPY_MODEL_ba8c688827394a2689ec2a031843a227",
       "value": "2013-03-01"
      }
     },
     "66d51346a88b4e27a960722ba2e0d02e": {
      "model_module": "@jupyter-widgets/base",
      "model_module_version": "1.0.0",
      "model_name": "LayoutModel",
      "state": {}
     },
     "671dded51ba4466fac88fe4c672d8d4a": {
      "model_module": "@jupyter-widgets/controls",
      "model_module_version": "1.2.0",
      "model_name": "ButtonModel",
      "state": {
       "description": "Plot Geomedian",
       "layout": "IPY_MODEL_8af51839cc2a4599a74622bb958786fb",
       "style": "IPY_MODEL_95d7d70d3f6246558023ab0e64a9342f"
      }
     },
     "67777296d03a47c8a69c7287e0f143b9": {
      "model_module": "@jupyter-widgets/controls",
      "model_module_version": "1.2.0",
      "model_name": "ButtonModel",
      "state": {
       "description": "Plot Geomedian",
       "layout": "IPY_MODEL_396f2960c3dd46498942009adea01c17",
       "style": "IPY_MODEL_27dbc9e2eb3841f0a1e6db057136069e"
      }
     },
     "67862864aab0404e8581dc100b7bfc6b": {
      "model_module": "@jupyter-widgets/controls",
      "model_module_version": "1.2.0",
      "model_name": "ButtonModel",
      "state": {
       "description": "Save File As",
       "icon": "square-o",
       "layout": "IPY_MODEL_7dfedce6038943a9be566784d9c5b236",
       "style": "IPY_MODEL_8e3da30f136543ce8cab4faecd98ab8d"
      }
     },
     "67b628091d574c14b232a851a37c9a91": {
      "model_module": "@jupyter-widgets/controls",
      "model_module_version": "1.2.0",
      "model_name": "HBoxModel",
      "state": {
       "children": [
        "IPY_MODEL_c37f4b07fc5e49d19ebe548ade39e9b9",
        "IPY_MODEL_075ef51ecc2d4c34a9ac1883fc38af38"
       ],
       "layout": "IPY_MODEL_26576e536215460583150758f5083073"
      }
     },
     "6801ba7497a8497ca253f4bd8fc32399": {
      "model_module": "@jupyter-widgets/base",
      "model_module_version": "1.0.0",
      "model_name": "LayoutModel",
      "state": {}
     },
     "6851624eb60c4be6b2255e310ad6602e": {
      "model_module": "@jupyter-widgets/base",
      "model_module_version": "1.0.0",
      "model_name": "LayoutModel",
      "state": {}
     },
     "68a6fed10a254017a3e06932620e2b63": {
      "model_module": "@jupyter-widgets/controls",
      "model_module_version": "1.2.0",
      "model_name": "DescriptionStyleModel",
      "state": {
       "description_width": ""
      }
     },
     "68d1a62227c840e4a3bb164f039b1c8f": {
      "model_module": "@jupyter-widgets/controls",
      "model_module_version": "1.2.0",
      "model_name": "HBoxModel",
      "state": {
       "children": [
        "IPY_MODEL_82fc59dcd7ba477da1760d1095774a04",
        "IPY_MODEL_917880880e4c49029096b44297263966"
       ],
       "layout": "IPY_MODEL_13c32469a5b5413e9dcaca47133339ee"
      }
     },
     "68f02254f9db4d8eaa5974c6fc141e79": {
      "model_module": "@jupyter-widgets/base",
      "model_module_version": "1.0.0",
      "model_name": "LayoutModel",
      "state": {}
     },
     "69b815e81f5b4f3a8f2523e93a9caa8a": {
      "model_module": "@jupyter-widgets/controls",
      "model_module_version": "1.2.0",
      "model_name": "HBoxModel",
      "state": {
       "children": [
        "IPY_MODEL_e13aa78458c7404eb421f4291ac52d46",
        "IPY_MODEL_c782a8e6b9904ce2853906b11c33c4c3"
       ],
       "layout": "IPY_MODEL_42e133edd1b740539df6abeb3bec465a"
      }
     },
     "6a035bc17740478687f8c8fa3deccf16": {
      "model_module": "@jupyter-widgets/controls",
      "model_module_version": "1.2.0",
      "model_name": "HBoxModel",
      "state": {
       "children": [
        "IPY_MODEL_147add4859b14054812de346ba649b91",
        "IPY_MODEL_24477a571dd246e78ad79a5864ef03b3"
       ],
       "layout": "IPY_MODEL_ce8164946b664d8dad05de573daba3b1"
      }
     },
     "6a404838ba184056836b31fe5f72e7dd": {
      "model_module": "@jupyter-widgets/base",
      "model_module_version": "1.0.0",
      "model_name": "LayoutModel",
      "state": {}
     },
     "6a5a8678ae794bbf9991c2e25a14b6e9": {
      "model_module": "@jupyter-widgets/controls",
      "model_module_version": "1.2.0",
      "model_name": "ButtonModel",
      "state": {
       "description": "File Name Specified",
       "icon": "check-square-o",
       "layout": "IPY_MODEL_586540cb3fc941da9b05bf6cb9855eac",
       "style": "IPY_MODEL_29fc3c4a550a4181824a9c4b4eadbc29"
      }
     },
     "6ab9fd3fc85940608cf34db40ee9d2c8": {
      "model_module": "@jupyter-widgets/base",
      "model_module_version": "1.0.0",
      "model_name": "LayoutModel",
      "state": {}
     },
     "6ae0d4cf25064e7b9615aeee5cec4ecd": {
      "model_module": "@jupyter-widgets/base",
      "model_module_version": "1.0.0",
      "model_name": "LayoutModel",
      "state": {}
     },
     "6af7af5b946d4979860e037da468abdc": {
      "model_module": "@jupyter-widgets/controls",
      "model_module_version": "1.2.0",
      "model_name": "TextModel",
      "state": {
       "description": "end date",
       "layout": "IPY_MODEL_40a8ce946ccf47b399d3f9773af87f25",
       "placeholder": "update this field YYYY-MM-DD",
       "style": "IPY_MODEL_fbdbf305a95c448cb4d41e31f9aba7f7",
       "value": "2013-10-31"
      }
     },
     "6bc9e42a425d451b960a28439aa08d5c": {
      "model_module": "@jupyter-widgets/controls",
      "model_module_version": "1.2.0",
      "model_name": "ButtonModel",
      "state": {
       "description": "Load and Calculate",
       "layout": "IPY_MODEL_298dc6c2b72346798278b75224536fdd",
       "style": "IPY_MODEL_3cc44fcf1b944c27932288cfd8b8587b"
      }
     },
     "6c46c6a7bc2f4a21a6f9d822653d49ed": {
      "model_module": "@jupyter-widgets/controls",
      "model_module_version": "1.2.0",
      "model_name": "ToggleButtonsModel",
      "state": {
       "_options_labels": [
        "Shapefile",
        "DrawnPolygon"
       ],
       "button_style": "",
       "description": "Geometry Used for Datacube Query:",
       "icons": [],
       "index": 1,
       "layout": "IPY_MODEL_dbd3a45ae7994bd8b720337725dfa614",
       "style": "IPY_MODEL_b5cb4f21868245d981c49f1126daffeb",
       "tooltips": [
        "Use Shapefile Specified for the DC query",
        "Use Polygon Drawn on the Map for the DC query"
       ]
      }
     },
     "6d0fa14e5b4b48f7ae84ba038be63dad": {
      "model_module": "@jupyter-widgets/controls",
      "model_module_version": "1.2.0",
      "model_name": "ButtonStyleModel",
      "state": {}
     },
     "6d32f914318e4acb9587327a90d57fbd": {
      "model_module": "@jupyter-widgets/controls",
      "model_module_version": "1.2.0",
      "model_name": "ButtonStyleModel",
      "state": {
       "button_color": "orange"
      }
     },
     "6da860f181104fb493d7dda70b01c10f": {
      "model_module": "@jupyter-widgets/base",
      "model_module_version": "1.0.0",
      "model_name": "LayoutModel",
      "state": {}
     },
     "6ddf45c325d74f57bc1dc8c6f7d805f5": {
      "model_module": "@jupyter-widgets/controls",
      "model_module_version": "1.2.0",
      "model_name": "TextModel",
      "state": {
       "description": "path to shape file",
       "layout": "IPY_MODEL_acbb101fcc0c43d9ad1949cdc5c59458",
       "placeholder": "/g/data1a/r78/rjd547/groundwater_activities/Burdekin/Burdekin_shapefiles/fels_sml.shp",
       "style": "IPY_MODEL_ab5857bebde144a5bd006a13977ae1a8",
       "value": "/g/data1a/r78/rjd547/groundwater_activities/Burdekin/Burdekin_shapefiles/fels_sml.shp"
      }
     },
     "6e83e898d42144a1ad649b8b89c7652c": {
      "model_module": "@jupyter-widgets/controls",
      "model_module_version": "1.2.0",
      "model_name": "DescriptionStyleModel",
      "state": {
       "description_width": ""
      }
     },
     "6e84e506076d459193a7dd485ce44a3c": {
      "model_module": "@jupyter-widgets/base",
      "model_module_version": "1.0.0",
      "model_name": "LayoutModel",
      "state": {}
     },
     "6eab3b42fdef428fa3bbafaa334eba13": {
      "model_module": "@jupyter-widgets/controls",
      "model_module_version": "1.2.0",
      "model_name": "HBoxModel",
      "state": {
       "children": [
        "IPY_MODEL_59d5cbd3ad074721b7aa71e8a60c18dd",
        "IPY_MODEL_9f684ea8f2a342b0b933be82ee38f9b2"
       ],
       "layout": "IPY_MODEL_56a0fdf4b09f4a4fa8336df68cb8401b"
      }
     },
     "6eae73c1f45640b180b62d0946fe2ab2": {
      "model_module": "@jupyter-widgets/controls",
      "model_module_version": "1.2.0",
      "model_name": "ToggleButtonsStyleModel",
      "state": {
       "button_width": "",
       "description_width": ""
      }
     },
     "6edced4f0f6946c9b893a883dcecbb56": {
      "model_module": "jupyter-leaflet",
      "model_module_version": "~0.7.3",
      "model_name": "LeafletMapModel",
      "state": {
       "_dom_classes": [],
       "_model_module_version": "~0.7.3",
       "_view_count": null,
       "_view_module_version": "~0.7.3",
       "basemap": {
        "attribution": "Tiles &copy; Esri &mdash; Source: Esri, i-cubed, USDA, USGS, AEX, GeoEye, Getmapping, Aerogrid, IGN, IGP, UPR-EGP, and the GIS User Community",
        "max_zoom": 20,
        "name": "Esri.WorldImagery",
        "url": "http://server.arcgisonline.com/ArcGIS/rest/services/World_Imagery/MapServer/tile/{z}/{y}/{x}"
       },
       "center": [
        -20.00883875717698,
        145.27770996093753
       ],
       "controls": [
        "IPY_MODEL_897fe888b6354f5bac0dbafe50fbb9af"
       ],
       "east": 145.40885925292972,
       "layers": [
        "IPY_MODEL_90e008b109d04c8fb75e086581fd4b01",
        "IPY_MODEL_fc7c397bf7304e21bf62186241b9507c"
       ],
       "layout": "IPY_MODEL_1d51a02b51ee4776a886f2f3a6285a3d",
       "modisdate": "yesterday",
       "north": -19.879746041940486,
       "options": [
        "attribution_control",
        "basemap",
        "bounce_at_zoom_limits",
        "box_zoom",
        "center",
        "close_popup_on_click",
        "double_click_zoom",
        "dragging",
        "inertia",
        "inertia_deceleration",
        "inertia_max_speed",
        "keyboard",
        "keyboard_pan_offset",
        "keyboard_zoom_offset",
        "max_zoom",
        "min_zoom",
        "scroll_wheel_zoom",
        "tap",
        "tap_tolerance",
        "touch_zoom",
        "world_copy_jump",
        "zoom",
        "zoom_animation_threshold",
        "zoom_control",
        "zoom_start"
       ],
       "south": -20.13782564485672,
       "west": 145.14656066894534,
       "zoom": 11
      }
     },
     "6f5bb29b95984bb788e5435fe9e6e436": {
      "model_module": "jupyter-leaflet",
      "model_module_version": "~0.7.3",
      "model_name": "LeafletDrawControlModel",
      "state": {
       "_model_module_version": "~0.7.3",
       "_view_count": null,
       "_view_module_version": "~0.7.3",
       "layer": "IPY_MODEL_994324448ba14b7ab41718182d5b6d56",
       "polyline": {}
      }
     },
     "70290f5c49874c9d9db7536828971cbc": {
      "model_module": "@jupyter-widgets/base",
      "model_module_version": "1.0.0",
      "model_name": "LayoutModel",
      "state": {
       "height": "400px",
       "width": "400px"
      }
     },
     "7037f7458fc540ff81da2f7a897b6a68": {
      "model_module": "@jupyter-widgets/base",
      "model_module_version": "1.0.0",
      "model_name": "LayoutModel",
      "state": {}
     },
     "70d40665368640f1b8f39e68d0234add": {
      "model_module": "@jupyter-widgets/controls",
      "model_module_version": "1.2.0",
      "model_name": "ButtonStyleModel",
      "state": {
       "button_color": "lightgreen"
      }
     },
     "70f5981c117f45c1be000effcfcc0d03": {
      "model_module": "@jupyter-widgets/controls",
      "model_module_version": "1.2.0",
      "model_name": "ButtonStyleModel",
      "state": {
       "button_color": "orange"
      }
     },
     "711e2fa2d77347029b00f0722dc2690a": {
      "model_module": "@jupyter-widgets/controls",
      "model_module_version": "1.2.0",
      "model_name": "ButtonModel",
      "state": {
       "description": "File Name Specified",
       "icon": "check-square-o",
       "layout": "IPY_MODEL_808d939e9fca44eb8bc0fb8ec6844d12",
       "style": "IPY_MODEL_d1ce4baf1c1946218a5db41c146e20a3"
      }
     },
     "715588c3ab4e45188a6b2073c1f4d517": {
      "model_module": "@jupyter-widgets/controls",
      "model_module_version": "1.2.0",
      "model_name": "DescriptionStyleModel",
      "state": {
       "description_width": "initial"
      }
     },
     "7193188f709b4d9fa5249e37eb62a010": {
      "model_module": "@jupyter-widgets/controls",
      "model_module_version": "1.2.0",
      "model_name": "DescriptionStyleModel",
      "state": {
       "description_width": ""
      }
     },
     "7194b5cf027246f382057e3cb2b85972": {
      "model_module": "jupyter-leaflet",
      "model_module_version": "~0.5.0",
      "model_name": "LeafletTileLayerModel",
      "state": {
       "_model_module_version": "~0.5.0",
       "_view_count": null,
       "_view_module_version": "~0.5.0",
       "max_zoom": 19,
       "min_zoom": 1,
       "options": [
        "attribution",
        "detect_retina",
        "max_zoom",
        "min_zoom",
        "opacity",
        "tile_size"
       ]
      }
     },
     "721053dd4c9745dbae4ede7838645de1": {
      "model_module": "@jupyter-widgets/controls",
      "model_module_version": "1.2.0",
      "model_name": "ButtonStyleModel",
      "state": {}
     },
     "72aa19fd84ed44439065ab7cd32c1697": {
      "model_module": "@jupyter-widgets/controls",
      "model_module_version": "1.2.0",
      "model_name": "LabelModel",
      "state": {
       "layout": "IPY_MODEL_d2232a3d78a54363bdaf423a3490748d",
       "style": "IPY_MODEL_b3cf89bc479243a2b01b81dfc8e4d4f7",
       "value": "End date is valid"
      }
     },
     "72ccbb642ec74e689ca1318de0296f56": {
      "model_module": "jupyter-leaflet",
      "model_module_version": "~0.7.3",
      "model_name": "LeafletMapModel",
      "state": {
       "_dom_classes": [],
       "_model_module_version": "~0.7.3",
       "_view_count": null,
       "_view_module_version": "~0.7.3",
       "basemap": {
        "attribution": "Tiles &copy; Esri &mdash; Source: Esri, i-cubed, USDA, USGS, AEX, GeoEye, Getmapping, Aerogrid, IGN, IGP, UPR-EGP, and the GIS User Community",
        "max_zoom": 20,
        "name": "Esri.WorldImagery",
        "url": "http://server.arcgisonline.com/ArcGIS/rest/services/World_Imagery/MapServer/tile/{z}/{y}/{x}"
       },
       "center": [
        -20.01851645170249,
        145.31307220458987
       ],
       "controls": [
        "IPY_MODEL_acdf33b6f8f9496f8dd135d970363587"
       ],
       "east": 145.44387817382815,
       "layers": [
        "IPY_MODEL_5d3533b0338a4471906cea5add1f6b27",
        "IPY_MODEL_02426a5cffe343fca332ec359de90725"
       ],
       "layout": "IPY_MODEL_d310ca5d8f004872871e7b57fe0c363e",
       "modisdate": "yesterday",
       "north": -19.889431653826637,
       "options": [
        "attribution_control",
        "basemap",
        "bounce_at_zoom_limits",
        "box_zoom",
        "center",
        "close_popup_on_click",
        "double_click_zoom",
        "dragging",
        "inertia",
        "inertia_deceleration",
        "inertia_max_speed",
        "keyboard",
        "keyboard_pan_offset",
        "keyboard_zoom_offset",
        "max_zoom",
        "min_zoom",
        "scroll_wheel_zoom",
        "tap",
        "tap_tolerance",
        "touch_zoom",
        "world_copy_jump",
        "zoom",
        "zoom_animation_threshold",
        "zoom_control",
        "zoom_start"
       ],
       "south": -20.147495379448873,
       "west": 145.1822662353516,
       "zoom": 11
      }
     },
     "733f836640984ed89b2678ba46ccf539": {
      "model_module": "@jupyter-widgets/controls",
      "model_module_version": "1.2.0",
      "model_name": "DescriptionStyleModel",
      "state": {
       "description_width": ""
      }
     },
     "74aa77201fec4615b79c48989706bdaf": {
      "model_module": "@jupyter-widgets/controls",
      "model_module_version": "1.2.0",
      "model_name": "HBoxModel",
      "state": {
       "children": [
        "IPY_MODEL_fbfc053d45de4782a02e2d35962cbf98",
        "IPY_MODEL_54e611a40ad749d5b4497d9cbdf0ea37"
       ],
       "layout": "IPY_MODEL_a1af3941da114d819ea612b9a6398203"
      }
     },
     "74f194eb58f24caa9dba501cb0bcfe45": {
      "model_module": "@jupyter-widgets/controls",
      "model_module_version": "1.2.0",
      "model_name": "HBoxModel",
      "state": {
       "children": [
        "IPY_MODEL_7b1d71b37ba5411c910c070d34222ff9",
        "IPY_MODEL_50b2740c24494427b6eb87fb4b0c248a"
       ],
       "layout": "IPY_MODEL_7908b847355a4ebfbb87283b7df4677a"
      }
     },
     "751abdda30454bda9ca6f8ae2be67980": {
      "model_module": "@jupyter-widgets/base",
      "model_module_version": "1.0.0",
      "model_name": "LayoutModel",
      "state": {
       "height": "400px",
       "width": "400px"
      }
     },
     "7608330ad3af497c957ed5dd98119d68": {
      "model_module": "@jupyter-widgets/controls",
      "model_module_version": "1.2.0",
      "model_name": "ButtonStyleModel",
      "state": {}
     },
     "76ae0bd4a2944d54b338bcc6ac2daa80": {
      "model_module": "@jupyter-widgets/controls",
      "model_module_version": "1.2.0",
      "model_name": "HBoxModel",
      "state": {
       "children": [
        "IPY_MODEL_d0e2a22a6d394babba05088a803878db",
        "IPY_MODEL_2316916511174e27b4a1fb75070f1834"
       ],
       "layout": "IPY_MODEL_813ecb829b284b338fb7e905af509314"
      }
     },
     "76f3ebe0a35445d58b35c5cd61045ed3": {
      "model_module": "@jupyter-widgets/controls",
      "model_module_version": "1.2.0",
      "model_name": "DescriptionStyleModel",
      "state": {
       "description_width": ""
      }
     },
     "772be5d40cb84ae088ea257dfc920507": {
      "model_module": "@jupyter-widgets/controls",
      "model_module_version": "1.2.0",
      "model_name": "ButtonModel",
      "state": {
       "description": "Check dates",
       "layout": "IPY_MODEL_6da860f181104fb493d7dda70b01c10f",
       "style": "IPY_MODEL_8780d291c3734697b6f4f8bcdaad6504",
       "tooltip": "Click me"
      }
     },
     "77fc84748b1440888652c8d35fc7a4d4": {
      "model_module": "@jupyter-widgets/base",
      "model_module_version": "1.0.0",
      "model_name": "LayoutModel",
      "state": {
       "width": "70%"
      }
     },
     "7894c1c32b6f469eb9a1a718791b778c": {
      "model_module": "@jupyter-widgets/base",
      "model_module_version": "1.0.0",
      "model_name": "LayoutModel",
      "state": {}
     },
     "78cd97b539a146518b1336d248121544": {
      "model_module": "@jupyter-widgets/base",
      "model_module_version": "1.0.0",
      "model_name": "LayoutModel",
      "state": {}
     },
     "7908b847355a4ebfbb87283b7df4677a": {
      "model_module": "@jupyter-widgets/base",
      "model_module_version": "1.0.0",
      "model_name": "LayoutModel",
      "state": {}
     },
     "7a7c197de4dc45e4b464f01d75c5e730": {
      "model_module": "@jupyter-widgets/controls",
      "model_module_version": "1.2.0",
      "model_name": "LabelModel",
      "state": {
       "layout": "IPY_MODEL_a444df6bc990468eaf4799405bc4e6a6",
       "style": "IPY_MODEL_76f3ebe0a35445d58b35c5cd61045ed3",
       "value": "Is my start date valid?"
      }
     },
     "7ade81e89e6742c4b5cdc0ba714c2555": {
      "model_module": "@jupyter-widgets/base",
      "model_module_version": "1.0.0",
      "model_name": "LayoutModel",
      "state": {}
     },
     "7b1d71b37ba5411c910c070d34222ff9": {
      "model_module": "@jupyter-widgets/controls",
      "model_module_version": "1.2.0",
      "model_name": "TextModel",
      "state": {
       "description": "start date",
       "layout": "IPY_MODEL_91e4140f737945a8a2c2c7096a143081",
       "placeholder": "update this field YYYY-MM-DD",
       "style": "IPY_MODEL_7193188f709b4d9fa5249e37eb62a010",
       "value": "2013-04-01"
      }
     },
     "7b5fb97682184939a76021f60838a1bb": {
      "model_module": "@jupyter-widgets/controls",
      "model_module_version": "1.2.0",
      "model_name": "ButtonStyleModel",
      "state": {}
     },
     "7b828e228ccd4650a1a98983de6087b4": {
      "model_module": "@jupyter-widgets/controls",
      "model_module_version": "1.2.0",
      "model_name": "ButtonStyleModel",
      "state": {}
     },
     "7c0c46ff26e74f00b33dca141326b2fc": {
      "model_module": "@jupyter-widgets/controls",
      "model_module_version": "1.2.0",
      "model_name": "HBoxModel",
      "state": {
       "children": [
        "IPY_MODEL_e55ef1cc031045b9a0578c32fc1be067",
        "IPY_MODEL_e7ae1505eb1e432a88fb9ad4562a2566"
       ],
       "layout": "IPY_MODEL_22075e3528544bccb11219726436fffa"
      }
     },
     "7c897beefdf445c3b581cf25468bd345": {
      "model_module": "@jupyter-widgets/controls",
      "model_module_version": "1.2.0",
      "model_name": "DescriptionStyleModel",
      "state": {
       "description_width": ""
      }
     },
     "7ccb90ab41fb4b5f99ef12d10b9546c7": {
      "model_module": "@jupyter-widgets/controls",
      "model_module_version": "1.2.0",
      "model_name": "ButtonModel",
      "state": {
       "description": "Load and Calculate",
       "layout": "IPY_MODEL_10f80bf028244a819a06dd2ad58b620f",
       "style": "IPY_MODEL_a393d34ce48d4b97a5d88c2b468524e4"
      }
     },
     "7cd5fa10da864d9bb47e7fd908581606": {
      "model_module": "@jupyter-widgets/controls",
      "model_module_version": "1.2.0",
      "model_name": "DescriptionStyleModel",
      "state": {
       "description_width": "initial"
      }
     },
     "7d326dbac6e34f86bcee83d45c6ae74e": {
      "model_module": "@jupyter-widgets/controls",
      "model_module_version": "1.2.0",
      "model_name": "DescriptionStyleModel",
      "state": {
       "description_width": ""
      }
     },
     "7d508b1a9a824c11be72201c70f89058": {
      "model_module": "@jupyter-widgets/base",
      "model_module_version": "1.0.0",
      "model_name": "LayoutModel",
      "state": {}
     },
     "7da28f09fabc4e7294c30f004f877c7f": {
      "model_module": "@jupyter-widgets/base",
      "model_module_version": "1.0.0",
      "model_name": "LayoutModel",
      "state": {}
     },
     "7dfedce6038943a9be566784d9c5b236": {
      "model_module": "@jupyter-widgets/base",
      "model_module_version": "1.0.0",
      "model_name": "LayoutModel",
      "state": {}
     },
     "7f6d92c968cd488fb5be671a41b60568": {
      "model_module": "jupyter-leaflet",
      "model_module_version": "~0.7.3",
      "model_name": "LeafletMapModel",
      "state": {
       "_dom_classes": [],
       "_model_module_version": "~0.7.3",
       "_view_count": null,
       "_view_module_version": "~0.7.3",
       "basemap": {
        "attribution": "Tiles &copy; Esri &mdash; Source: Esri, i-cubed, USDA, USGS, AEX, GeoEye, Getmapping, Aerogrid, IGN, IGP, UPR-EGP, and the GIS User Community",
        "max_zoom": 20,
        "name": "Esri.WorldImagery",
        "url": "http://server.arcgisonline.com/ArcGIS/rest/services/World_Imagery/MapServer/tile/{z}/{y}/{x}"
       },
       "center": [
        -20.0183,
        145.3134
       ],
       "controls": [
        "IPY_MODEL_3021077200a24a348c7b9b7b70893bc8"
       ],
       "east": 145.57571411132815,
       "layers": [
        "IPY_MODEL_3d75035ec4414ff793a8b7e3e7f4e290"
       ],
       "layout": "IPY_MODEL_70290f5c49874c9d9db7536828971cbc",
       "modisdate": "yesterday",
       "north": -19.760241554664503,
       "options": [
        "attribution_control",
        "basemap",
        "bounce_at_zoom_limits",
        "box_zoom",
        "center",
        "close_popup_on_click",
        "double_click_zoom",
        "dragging",
        "inertia",
        "inertia_deceleration",
        "inertia_max_speed",
        "keyboard",
        "keyboard_pan_offset",
        "keyboard_zoom_offset",
        "max_zoom",
        "min_zoom",
        "scroll_wheel_zoom",
        "tap",
        "tap_tolerance",
        "touch_zoom",
        "world_copy_jump",
        "zoom",
        "zoom_animation_threshold",
        "zoom_control",
        "zoom_start"
       ],
       "south": -20.276367870836033,
       "west": 145.0511169433594,
       "zoom": 10
      }
     },
     "7fbd49719f65447eb63fa0c92e3cb6d9": {
      "model_module": "@jupyter-widgets/controls",
      "model_module_version": "1.2.0",
      "model_name": "HBoxModel",
      "state": {
       "children": [
        "IPY_MODEL_feebce2f7ba946a580673fa328e6045e",
        "IPY_MODEL_b0c55f01d88945e58155cd90b993d06e"
       ],
       "layout": "IPY_MODEL_4bd38c3a77d24b8db9c7861d349c8656"
      }
     },
     "7ffa726bf4354fe999046ca58d58f9e7": {
      "model_module": "@jupyter-widgets/base",
      "model_module_version": "1.0.0",
      "model_name": "LayoutModel",
      "state": {}
     },
     "80451e9f73a64a2dbbdbbe140a48c4bd": {
      "model_module": "@jupyter-widgets/controls",
      "model_module_version": "1.2.0",
      "model_name": "DescriptionStyleModel",
      "state": {
       "description_width": ""
      }
     },
     "8061f6f2ae43464b82c7b3b21badb9fd": {
      "model_module": "@jupyter-widgets/base",
      "model_module_version": "1.0.0",
      "model_name": "LayoutModel",
      "state": {
       "height": "400px",
       "width": "400px"
      }
     },
     "806d0836d71849e1a85a615e108d5e73": {
      "model_module": "@jupyter-widgets/controls",
      "model_module_version": "1.2.0",
      "model_name": "ButtonStyleModel",
      "state": {}
     },
     "808d939e9fca44eb8bc0fb8ec6844d12": {
      "model_module": "@jupyter-widgets/base",
      "model_module_version": "1.0.0",
      "model_name": "LayoutModel",
      "state": {}
     },
     "80c7508e62c84550a02b5c3a005f3ab8": {
      "model_module": "@jupyter-widgets/controls",
      "model_module_version": "1.2.0",
      "model_name": "ButtonModel",
      "state": {
       "description": "Select File",
       "icon": "square-o",
       "layout": "IPY_MODEL_bbc92b5be7644f08a336fae4258b750c",
       "style": "IPY_MODEL_f06eb09a0c47488bb326fe8b5946a6f9"
      }
     },
     "80d9999104b9463c97e2125278b6ce07": {
      "model_module": "@jupyter-widgets/controls",
      "model_module_version": "1.2.0",
      "model_name": "ButtonModel",
      "state": {
       "description": "Check dates",
       "layout": "IPY_MODEL_170e1c13abd045918deb6b220c9093e0",
       "style": "IPY_MODEL_e6b8a7f5063d42aa92d0237ad51ecc1d",
       "tooltip": "Click me"
      }
     },
     "80e7e68327da4fd087da1dae5f4dba37": {
      "model_module": "@jupyter-widgets/controls",
      "model_module_version": "1.2.0",
      "model_name": "ButtonModel",
      "state": {
       "description": "Check shapefile",
       "layout": "IPY_MODEL_192f81b5d9fd407aaf671973a666a283",
       "style": "IPY_MODEL_a972dae58f9d445bb363c30a79119b1f",
       "tooltip": "Click me"
      }
     },
     "80efa03beb414699869f6a3b379ebeb4": {
      "model_module": "@jupyter-widgets/controls",
      "model_module_version": "1.2.0",
      "model_name": "VBoxModel",
      "state": {
       "children": [
        "IPY_MODEL_ec2f13a4e7cb49d3b7b6a83ceea6f8ac",
        "IPY_MODEL_4704dbd2a88d4acda5666a8003dd1fbe"
       ],
       "layout": "IPY_MODEL_40abcbf57a2d42609730d420388f3831"
      }
     },
     "80fbc771fe604df49a7766b066b800e7": {
      "model_module": "@jupyter-widgets/controls",
      "model_module_version": "1.2.0",
      "model_name": "DescriptionStyleModel",
      "state": {
       "description_width": "initial"
      }
     },
     "813ecb829b284b338fb7e905af509314": {
      "model_module": "@jupyter-widgets/base",
      "model_module_version": "1.0.0",
      "model_name": "LayoutModel",
      "state": {}
     },
     "81835bcf4e974387b5c26f7a886f3c27": {
      "model_module": "@jupyter-widgets/controls",
      "model_module_version": "1.2.0",
      "model_name": "LabelModel",
      "state": {
       "layout": "IPY_MODEL_4d8eede902a74c22966e9588efa2b5b2",
       "style": "IPY_MODEL_22565eaa7b2741b388dc471ee621c17b",
       "value": "Start date is valid"
      }
     },
     "81bdc1e9f83f431096f2b7ed5b29a376": {
      "model_module": "@jupyter-widgets/base",
      "model_module_version": "1.0.0",
      "model_name": "LayoutModel",
      "state": {}
     },
     "81ca04121fd3480b976f71245e838f27": {
      "model_module": "jupyter-leaflet",
      "model_module_version": "~0.7.3",
      "model_name": "LeafletMapModel",
      "state": {
       "_dom_classes": [],
       "_model_module_version": "~0.7.3",
       "_view_count": null,
       "_view_module_version": "~0.7.3",
       "basemap": {
        "attribution": "Map data (c) <a href=\"https://openstreetmap.org\">OpenStreetMap</a> contributors",
        "max_zoom": 19,
        "url": "https://{s}.tile.openstreetmap.org/{z}/{x}/{y}.png"
       },
       "center": [
        -20.021097069675676,
        145.20904541015628
       ],
       "controls": [
        "IPY_MODEL_0819d998ab2e4535a93142bd4ce45e54"
       ],
       "east": 145.46447753906253,
       "layers": [
        "IPY_MODEL_ad225684b1b64cbc88b28697dc20384c"
       ],
       "layout": "IPY_MODEL_751abdda30454bda9ca6f8ae2be67980",
       "modisdate": "yesterday",
       "north": -19.76282638490851,
       "options": [
        "attribution_control",
        "basemap",
        "bounce_at_zoom_limits",
        "box_zoom",
        "center",
        "close_popup_on_click",
        "double_click_zoom",
        "dragging",
        "inertia",
        "inertia_deceleration",
        "inertia_max_speed",
        "keyboard",
        "keyboard_pan_offset",
        "keyboard_zoom_offset",
        "max_zoom",
        "min_zoom",
        "scroll_wheel_zoom",
        "tap",
        "tap_tolerance",
        "touch_zoom",
        "world_copy_jump",
        "zoom",
        "zoom_animation_threshold",
        "zoom_control",
        "zoom_start"
       ],
       "south": -20.278944231137633,
       "west": 144.95361328125003,
       "zoom": 10
      }
     },
     "8291506975b94a86a1890becdf52daa7": {
      "model_module": "@jupyter-widgets/base",
      "model_module_version": "1.0.0",
      "model_name": "LayoutModel",
      "state": {}
     },
     "82fc59dcd7ba477da1760d1095774a04": {
      "model_module": "@jupyter-widgets/controls",
      "model_module_version": "1.2.0",
      "model_name": "TextModel",
      "state": {
       "description": "end date",
       "layout": "IPY_MODEL_338b0a886f0d4433aeb345ef69e861fa",
       "placeholder": "update this field YYYY-MM-DD",
       "style": "IPY_MODEL_d8389cb50ede49ef8a0c8c788b5c8f3f",
       "value": "2013-10-31"
      }
     },
     "834e7fd185324a9ea47b4a4b2d0a6963": {
      "model_module": "@jupyter-widgets/controls",
      "model_module_version": "1.2.0",
      "model_name": "DescriptionStyleModel",
      "state": {
       "description_width": "initial"
      }
     },
     "8389bbc0f25f470db96b57cabc9511e8": {
      "model_module": "@jupyter-widgets/controls",
      "model_module_version": "1.2.0",
      "model_name": "DescriptionStyleModel",
      "state": {
       "description_width": ""
      }
     },
     "839a7573306d4b7486e9d223a034db4c": {
      "model_module": "@jupyter-widgets/controls",
      "model_module_version": "1.2.0",
      "model_name": "ButtonModel",
      "state": {
       "description": "Load and Calculate",
       "layout": "IPY_MODEL_b005b08a14bf41f3923167e235241ca2",
       "style": "IPY_MODEL_97b3948f1d384c8fbb4ed47c68a0d2e7"
      }
     },
     "83d3894adbd540a0815c50a840dd3716": {
      "model_module": "@jupyter-widgets/controls",
      "model_module_version": "1.2.0",
      "model_name": "ButtonModel",
      "state": {
       "description": "Load and Calculate",
       "layout": "IPY_MODEL_2b59c647013a47edb0c36582ece919c2",
       "style": "IPY_MODEL_0b6ea8d95b8f4da59ec9e869ae9f3229"
      }
     },
     "83fc73556dce47a2853e484f29aa55f8": {
      "model_module": "@jupyter-widgets/base",
      "model_module_version": "1.0.0",
      "model_name": "LayoutModel",
      "state": {}
     },
     "84f7747da5304c2e974ae3f413949caa": {
      "model_module": "@jupyter-widgets/base",
      "model_module_version": "1.0.0",
      "model_name": "LayoutModel",
      "state": {}
     },
     "85f6c996d58e4f589ccf1ac3427e2e3f": {
      "model_module": "@jupyter-widgets/controls",
      "model_module_version": "1.2.0",
      "model_name": "ButtonStyleModel",
      "state": {}
     },
     "866e4d50d7144f1f9a0fd6d7c324e5dc": {
      "model_module": "@jupyter-widgets/controls",
      "model_module_version": "1.2.0",
      "model_name": "ToggleButtonsStyleModel",
      "state": {
       "button_width": "",
       "description_width": ""
      }
     },
     "875520d0ad5c473281672c5fc01dd526": {
      "model_module": "@jupyter-widgets/controls",
      "model_module_version": "1.2.0",
      "model_name": "ButtonStyleModel",
      "state": {
       "button_color": "orange"
      }
     },
     "8780d291c3734697b6f4f8bcdaad6504": {
      "model_module": "@jupyter-widgets/controls",
      "model_module_version": "1.2.0",
      "model_name": "ButtonStyleModel",
      "state": {}
     },
     "87d126d5d5a0430ba1f6c768ab04571d": {
      "model_module": "@jupyter-widgets/controls",
      "model_module_version": "1.2.0",
      "model_name": "ButtonModel",
      "state": {
       "description": "Check dates",
       "layout": "IPY_MODEL_9758910a93c14a7589cf6571106ce102",
       "style": "IPY_MODEL_149daaa5f39a45a79c48cb7111c760ef",
       "tooltip": "Click me"
      }
     },
     "88cae757d2f7459e998bff86f4958e13": {
      "model_module": "@jupyter-widgets/controls",
      "model_module_version": "1.2.0",
      "model_name": "DescriptionStyleModel",
      "state": {
       "description_width": ""
      }
     },
     "892d4f75783a494d97b71f72698941a0": {
      "model_module": "@jupyter-widgets/controls",
      "model_module_version": "1.2.0",
      "model_name": "HBoxModel",
      "state": {
       "children": [
        "IPY_MODEL_feebce2f7ba946a580673fa328e6045e",
        "IPY_MODEL_033d405dfb5d475191df2b452cecd3ca"
       ],
       "layout": "IPY_MODEL_c0f437ab1eab43088e81a4f0a0c1ba46"
      }
     },
     "897fe888b6354f5bac0dbafe50fbb9af": {
      "model_module": "jupyter-leaflet",
      "model_module_version": "~0.7.3",
      "model_name": "LeafletDrawControlModel",
      "state": {
       "_model_module_version": "~0.7.3",
       "_view_count": null,
       "_view_module_version": "~0.7.3",
       "layer": "IPY_MODEL_dab0eba966f94be9968fc8f22a346f92",
       "polygon": {
        "shapeOptions": {
         "color": "#0000FF"
        }
       },
       "polyline": {}
      }
     },
     "8a0d0b9048b04190bcec4c0f2199870e": {
      "model_module": "@jupyter-widgets/controls",
      "model_module_version": "1.2.0",
      "model_name": "ToggleButtonsStyleModel",
      "state": {
       "button_width": "",
       "description_width": ""
      }
     },
     "8a53d3069d4e490c96fd8c2a615cbb21": {
      "model_module": "@jupyter-widgets/base",
      "model_module_version": "1.0.0",
      "model_name": "LayoutModel",
      "state": {}
     },
     "8af51839cc2a4599a74622bb958786fb": {
      "model_module": "@jupyter-widgets/base",
      "model_module_version": "1.0.0",
      "model_name": "LayoutModel",
      "state": {}
     },
     "8b063b7cfa1d4e9795c23f6ce4c327e3": {
      "model_module": "@jupyter-widgets/base",
      "model_module_version": "1.0.0",
      "model_name": "LayoutModel",
      "state": {}
     },
     "8b9200a962f94900af92264a4a71cc7b": {
      "model_module": "@jupyter-widgets/controls",
      "model_module_version": "1.2.0",
      "model_name": "HBoxModel",
      "state": {
       "children": [
        "IPY_MODEL_abc965a7aeb74f1cb5d30c15e6b4c057",
        "IPY_MODEL_7f6d92c968cd488fb5be671a41b60568"
       ],
       "layout": "IPY_MODEL_b243066bd66f48b79684bac47774674f"
      }
     },
     "8c550db151884ef896e0e7b131fcde6c": {
      "model_module": "jupyter-leaflet",
      "model_module_version": "~0.7.3",
      "model_name": "LeafletTileLayerModel",
      "state": {
       "_model_module_version": "~0.7.3",
       "_view_count": null,
       "_view_module_version": "~0.7.3",
       "attribution": "Tiles &copy; Esri &mdash; Source: Esri, i-cubed, USDA, USGS, AEX, GeoEye, Getmapping, Aerogrid, IGN, IGP, UPR-EGP, and the GIS User Community",
       "base": true,
       "max_zoom": 20,
       "min_zoom": 1,
       "name": "Esri.WorldImagery",
       "options": [
        "attribution",
        "detect_retina",
        "max_zoom",
        "min_zoom",
        "tile_size"
       ],
       "url": "http://server.arcgisonline.com/ArcGIS/rest/services/World_Imagery/MapServer/tile/{z}/{y}/{x}"
      }
     },
     "8c923cab4b89481fa076d3fb0b1100a8": {
      "model_module": "@jupyter-widgets/base",
      "model_module_version": "1.0.0",
      "model_name": "LayoutModel",
      "state": {}
     },
     "8d3a7ddbd43449fda414bbcab67aec76": {
      "model_module": "@jupyter-widgets/controls",
      "model_module_version": "1.2.0",
      "model_name": "ButtonStyleModel",
      "state": {}
     },
     "8d7309d4ee404efabe5c363230bc69f2": {
      "model_module": "@jupyter-widgets/base",
      "model_module_version": "1.0.0",
      "model_name": "LayoutModel",
      "state": {}
     },
     "8dc22bcc721a4e57874a67f9a6ecad65": {
      "model_module": "@jupyter-widgets/controls",
      "model_module_version": "1.2.0",
      "model_name": "DescriptionStyleModel",
      "state": {
       "description_width": ""
      }
     },
     "8de07438eade49a28bb1bd01f9dff469": {
      "model_module": "@jupyter-widgets/base",
      "model_module_version": "1.0.0",
      "model_name": "LayoutModel",
      "state": {}
     },
     "8e3da30f136543ce8cab4faecd98ab8d": {
      "model_module": "@jupyter-widgets/controls",
      "model_module_version": "1.2.0",
      "model_name": "ButtonStyleModel",
      "state": {
       "button_color": "orange"
      }
     },
     "8e619f3bba964550a43ec1427e16d26b": {
      "model_module": "@jupyter-widgets/base",
      "model_module_version": "1.0.0",
      "model_name": "LayoutModel",
      "state": {}
     },
     "8ea92dc87a5b4b2ba38c37a5796aa202": {
      "model_module": "@jupyter-widgets/controls",
      "model_module_version": "1.2.0",
      "model_name": "TextModel",
      "state": {
       "description": "path to shape file",
       "layout": "IPY_MODEL_94cbafe16727492f831fa81e1f536e58",
       "placeholder": "update this field",
       "style": "IPY_MODEL_97bad54ef10c459cb3776403067d9e85",
       "value": "/g/data1a/r78/rjd547/groundwater_activities/Burdekin/Burdekin_shapefiles/fels_sml.shp"
      }
     },
     "8ebd8129e8eb48c493a8d4080e4645a3": {
      "model_module": "@jupyter-widgets/base",
      "model_module_version": "1.0.0",
      "model_name": "LayoutModel",
      "state": {}
     },
     "8fcaf28a9b2e40f5b9e19330fbe2a252": {
      "model_module": "@jupyter-widgets/controls",
      "model_module_version": "1.2.0",
      "model_name": "DescriptionStyleModel",
      "state": {
       "description_width": "initial"
      }
     },
     "906c46d8696c4b448818edb4f1211a14": {
      "model_module": "@jupyter-widgets/base",
      "model_module_version": "1.0.0",
      "model_name": "LayoutModel",
      "state": {}
     },
     "90e008b109d04c8fb75e086581fd4b01": {
      "model_module": "jupyter-leaflet",
      "model_module_version": "~0.7.3",
      "model_name": "LeafletTileLayerModel",
      "state": {
       "_model_module_version": "~0.7.3",
       "_view_count": null,
       "_view_module_version": "~0.7.3",
       "attribution": "Tiles &copy; Esri &mdash; Source: Esri, i-cubed, USDA, USGS, AEX, GeoEye, Getmapping, Aerogrid, IGN, IGP, UPR-EGP, and the GIS User Community",
       "base": true,
       "max_zoom": 20,
       "min_zoom": 1,
       "name": "Esri.WorldImagery",
       "options": [
        "attribution",
        "detect_retina",
        "max_zoom",
        "min_zoom",
        "tile_size"
       ],
       "url": "http://server.arcgisonline.com/ArcGIS/rest/services/World_Imagery/MapServer/tile/{z}/{y}/{x}"
      }
     },
     "91667a1fdf624e708db6dc1922821cd9": {
      "model_module": "@jupyter-widgets/controls",
      "model_module_version": "1.2.0",
      "model_name": "ButtonStyleModel",
      "state": {
       "button_color": "orange"
      }
     },
     "9176934d7e3f40a9875221efb5ab1cba": {
      "model_module": "@jupyter-widgets/controls",
      "model_module_version": "1.2.0",
      "model_name": "HBoxModel",
      "state": {
       "children": [
        "IPY_MODEL_06df7270386d4bf88c791a85831b3db4",
        "IPY_MODEL_e516dd49b551432f93b8b7ed869b190e"
       ],
       "layout": "IPY_MODEL_66d51346a88b4e27a960722ba2e0d02e"
      }
     },
     "917880880e4c49029096b44297263966": {
      "model_module": "@jupyter-widgets/controls",
      "model_module_version": "1.2.0",
      "model_name": "LabelModel",
      "state": {
       "layout": "IPY_MODEL_6267c710469c43ec8a7af96658b61529",
       "style": "IPY_MODEL_167e99d8c876474da804079e45b67a14",
       "value": "Is my end date valid?"
      }
     },
     "91e4140f737945a8a2c2c7096a143081": {
      "model_module": "@jupyter-widgets/base",
      "model_module_version": "1.0.0",
      "model_name": "LayoutModel",
      "state": {}
     },
     "91e6e2a3d5ba4e549aa3fb2729a62257": {
      "model_module": "@jupyter-widgets/controls",
      "model_module_version": "1.2.0",
      "model_name": "TextModel",
      "state": {
       "description": "path to shape file",
       "layout": "IPY_MODEL_5b60bb4fead34084a2a498ae3f535223",
       "placeholder": "choose a file",
       "style": "IPY_MODEL_ba950cf6286d44c594e8c28f91b28558",
       "value": "/g/data1a/r78/rjd547/groundwater_activities/Burdekin/Burdekin_shapefiles/fels_sml.shp"
      }
     },
     "9230794d5e7b40f997723471946dc1d7": {
      "model_module": "@jupyter-widgets/base",
      "model_module_version": "1.0.0",
      "model_name": "LayoutModel",
      "state": {}
     },
     "9250950721a546b98eebf8ad901953f5": {
      "model_module": "@jupyter-widgets/controls",
      "model_module_version": "1.2.0",
      "model_name": "VBoxModel",
      "state": {
       "children": [
        "IPY_MODEL_19c2e899138d4311af176d428e7ce3df",
        "IPY_MODEL_635c00d824b14ebb96a6cae2632b49f5"
       ],
       "layout": "IPY_MODEL_1ec7be88bcb24439911c8c1bf2440b4a"
      }
     },
     "934b5b09038d4b778020641884b23507": {
      "model_module": "@jupyter-widgets/base",
      "model_module_version": "1.0.0",
      "model_name": "LayoutModel",
      "state": {}
     },
     "938ed8fa50a64e32b3e7215f23f14e7a": {
      "model_module": "@jupyter-widgets/controls",
      "model_module_version": "1.2.0",
      "model_name": "TextModel",
      "state": {
       "description": "path to shape file",
       "layout": "IPY_MODEL_476949afe8da454cb6700459f1cbee76",
       "placeholder": "choose a file",
       "style": "IPY_MODEL_29f75ebfc843471f893c94ec077e0e26",
       "value": "/g/data1a/r78/rjd547/groundwater_activities/Burdekin/Burdekin_shapefiles/fels_sml.shp"
      }
     },
     "94077b23eaa142fc848b71a533ef3949": {
      "model_module": "@jupyter-widgets/controls",
      "model_module_version": "1.2.0",
      "model_name": "ButtonModel",
      "state": {
       "description": "Select File",
       "icon": "square-o",
       "layout": "IPY_MODEL_934b5b09038d4b778020641884b23507",
       "style": "IPY_MODEL_6d32f914318e4acb9587327a90d57fbd"
      }
     },
     "94cbafe16727492f831fa81e1f536e58": {
      "model_module": "@jupyter-widgets/base",
      "model_module_version": "1.0.0",
      "model_name": "LayoutModel",
      "state": {
       "width": "70%"
      }
     },
     "955a7e7a11854178a5b7cbd9363c139e": {
      "model_module": "@jupyter-widgets/controls",
      "model_module_version": "1.2.0",
      "model_name": "HBoxModel",
      "state": {
       "children": [
        "IPY_MODEL_a9073a1e23c844a2baedc53111272fc7",
        "IPY_MODEL_14e1f08c399d4a699e5a960cf50b5242"
       ],
       "layout": "IPY_MODEL_c31edf6e410c4059893991751a56931e"
      }
     },
     "95613f27523445929c8839d497355866": {
      "model_module": "@jupyter-widgets/controls",
      "model_module_version": "1.2.0",
      "model_name": "LabelModel",
      "state": {
       "layout": "IPY_MODEL_81bdc1e9f83f431096f2b7ed5b29a376",
       "style": "IPY_MODEL_56377bf08de443289371fa4ba49b6012",
       "value": "Start date is valid"
      }
     },
     "95d7d70d3f6246558023ab0e64a9342f": {
      "model_module": "@jupyter-widgets/controls",
      "model_module_version": "1.2.0",
      "model_name": "ButtonStyleModel",
      "state": {}
     },
     "969aee6451f942a8add5ae91d1e110c7": {
      "model_module": "@jupyter-widgets/base",
      "model_module_version": "1.0.0",
      "model_name": "LayoutModel",
      "state": {}
     },
     "9758910a93c14a7589cf6571106ce102": {
      "model_module": "@jupyter-widgets/base",
      "model_module_version": "1.0.0",
      "model_name": "LayoutModel",
      "state": {}
     },
     "97b3948f1d384c8fbb4ed47c68a0d2e7": {
      "model_module": "@jupyter-widgets/controls",
      "model_module_version": "1.2.0",
      "model_name": "ButtonStyleModel",
      "state": {}
     },
     "97bad54ef10c459cb3776403067d9e85": {
      "model_module": "@jupyter-widgets/controls",
      "model_module_version": "1.2.0",
      "model_name": "DescriptionStyleModel",
      "state": {
       "description_width": "initial"
      }
     },
     "97fe07a50aa94abb9900a8114d7e107a": {
      "model_module": "@jupyter-widgets/base",
      "model_module_version": "1.0.0",
      "model_name": "LayoutModel",
      "state": {
       "width": "70%"
      }
     },
     "98590b429d734e758ec912af529f8d95": {
      "model_module": "@jupyter-widgets/controls",
      "model_module_version": "1.2.0",
      "model_name": "TextModel",
      "state": {
       "description": "path to shape file",
       "layout": "IPY_MODEL_179cd972542d4c768f1ed9f562903889",
       "placeholder": "/g/data1a/r78/rjd547/groundwater_activities/Burdekin/Burdekin_shapefiles/fels_sml.shp",
       "style": "IPY_MODEL_f5555116589c495888baaa2dea015c33",
       "value": "/g/data1a/r78/rjd547/groundwater_activities/Burdekin/Burdekin_shapefiles/fels_sml.shp"
      }
     },
     "9880404100c547b0bfbfe137af65228c": {
      "model_module": "@jupyter-widgets/controls",
      "model_module_version": "1.2.0",
      "model_name": "HBoxModel",
      "state": {
       "children": [
        "IPY_MODEL_91e6e2a3d5ba4e549aa3fb2729a62257",
        "IPY_MODEL_bb5e1b0425794c72acecc7ae12c781a0"
       ],
       "layout": "IPY_MODEL_dc7f10f89368424c8e4ed67eeb59a077"
      }
     },
     "9934b930870e4564961f7f29d3c0aaca": {
      "model_module": "@jupyter-widgets/controls",
      "model_module_version": "1.2.0",
      "model_name": "ButtonStyleModel",
      "state": {}
     },
     "9941aa7b734547fb92be34faec106e8f": {
      "model_module": "@jupyter-widgets/controls",
      "model_module_version": "1.2.0",
      "model_name": "ButtonStyleModel",
      "state": {
       "button_color": "orange"
      }
     },
     "994324448ba14b7ab41718182d5b6d56": {
      "model_module": "jupyter-leaflet",
      "model_module_version": "~0.7.3",
      "model_name": "LeafletFeatureGroupModel",
      "state": {
       "_model_module_version": "~0.7.3",
       "_view_count": null,
       "_view_module_version": "~0.7.3"
      }
     },
     "99de0ea53f624b8187511ded54552df0": {
      "model_module": "@jupyter-widgets/base",
      "model_module_version": "1.0.0",
      "model_name": "LayoutModel",
      "state": {}
     },
     "99e441d3240c4c9b8fd9a0fbda86e93e": {
      "model_module": "@jupyter-widgets/controls",
      "model_module_version": "1.2.0",
      "model_name": "ButtonStyleModel",
      "state": {}
     },
     "9a08efa4fef148e1a28c87b5221472a4": {
      "model_module": "@jupyter-widgets/controls",
      "model_module_version": "1.2.0",
      "model_name": "ButtonStyleModel",
      "state": {
       "button_color": "orange"
      }
     },
     "9a428dfce6ea4ec5a99dba5d39e72f24": {
      "model_module": "@jupyter-widgets/base",
      "model_module_version": "1.0.0",
      "model_name": "LayoutModel",
      "state": {
       "width": "70%"
      }
     },
     "9a4933119e654314aa3874108a7d9249": {
      "model_module": "@jupyter-widgets/base",
      "model_module_version": "1.0.0",
      "model_name": "LayoutModel",
      "state": {}
     },
     "9a8594d24494400d927adbdf17a36845": {
      "model_module": "@jupyter-widgets/controls",
      "model_module_version": "1.2.0",
      "model_name": "ButtonModel",
      "state": {
       "description": "Save File As",
       "icon": "square-o",
       "layout": "IPY_MODEL_58fd4dd604d647cb9665b40609d7b24f",
       "style": "IPY_MODEL_08a869e1b3974790809c89e39652eb80"
      }
     },
     "9b1513bef60f41a4a0d9ead36af22280": {
      "model_module": "@jupyter-widgets/controls",
      "model_module_version": "1.2.0",
      "model_name": "TextModel",
      "state": {
       "description": "start date",
       "layout": "IPY_MODEL_2f87149616594bc9ae4625e9f87b5dd9",
       "placeholder": "update this field YYYY-MM-DD",
       "style": "IPY_MODEL_ec83a0a988274e55b47cc10e651b62c9",
       "value": "2013-05-01"
      }
     },
     "9b2976f5a7ac43e197e4d982ee0dde55": {
      "model_module": "@jupyter-widgets/controls",
      "model_module_version": "1.2.0",
      "model_name": "HBoxModel",
      "state": {
       "children": [
        "IPY_MODEL_c4a13f09df92453b8fb899195e843009",
        "IPY_MODEL_b1de212cf2614aaba6d71321d413a084"
       ],
       "layout": "IPY_MODEL_b5727204ccd44ad5b6ae2240ac053c76"
      }
     },
     "9bac5964747142ed9710f1f2e87301d9": {
      "model_module": "@jupyter-widgets/controls",
      "model_module_version": "1.2.0",
      "model_name": "DescriptionStyleModel",
      "state": {
       "description_width": "initial"
      }
     },
     "9c2259ad2b92449d9dcafbd2095291e7": {
      "model_module": "jupyter-leaflet",
      "model_module_version": "~0.7.3",
      "model_name": "LeafletDrawControlModel",
      "state": {
       "_model_module_version": "~0.7.3",
       "_view_count": null,
       "_view_module_version": "~0.7.3",
       "layer": "IPY_MODEL_f3282321ef284b419745185f7d1edac4",
       "polyline": {}
      }
     },
     "9c38379acefb4f88963c3e9661146641": {
      "model_module": "@jupyter-widgets/base",
      "model_module_version": "1.0.0",
      "model_name": "LayoutModel",
      "state": {
       "width": "70%"
      }
     },
     "9d57f263caf2440b905352798df5f9c4": {
      "model_module": "@jupyter-widgets/controls",
      "model_module_version": "1.2.0",
      "model_name": "DescriptionStyleModel",
      "state": {
       "description_width": ""
      }
     },
     "9d6fd0996e454234a2f7f9bb31bd70ed": {
      "model_module": "@jupyter-widgets/controls",
      "model_module_version": "1.2.0",
      "model_name": "ButtonStyleModel",
      "state": {
       "button_color": "orange"
      }
     },
     "9dab3f137e554c47bfaf77f87dff7f59": {
      "model_module": "@jupyter-widgets/controls",
      "model_module_version": "1.2.0",
      "model_name": "ButtonStyleModel",
      "state": {}
     },
     "9db53fc6ac044603b58b0ca6f04206f7": {
      "model_module": "@jupyter-widgets/controls",
      "model_module_version": "1.2.0",
      "model_name": "HBoxModel",
      "state": {
       "children": [
        "IPY_MODEL_e90f608c153d43f8b67a19eae18e4f85",
        "IPY_MODEL_ad14e591d99448fea370e7c0ec2e3516"
       ],
       "layout": "IPY_MODEL_e8782e328099437ba11246716738ee1c"
      }
     },
     "9e63789a886b4fe99ce3726ab79c0066": {
      "model_module": "@jupyter-widgets/controls",
      "model_module_version": "1.2.0",
      "model_name": "LabelModel",
      "state": {
       "layout": "IPY_MODEL_dd1f9734ee7844389c2cf8796de71cab",
       "style": "IPY_MODEL_52f0c47aefa648d0a489b213f3ff4a49",
       "value": "End date is valid"
      }
     },
     "9e7c156866854495b2dae6b886d29f4b": {
      "model_module": "@jupyter-widgets/controls",
      "model_module_version": "1.2.0",
      "model_name": "ButtonStyleModel",
      "state": {}
     },
     "9e8b4c6db7a240b798a084c5085197ac": {
      "model_module": "@jupyter-widgets/controls",
      "model_module_version": "1.2.0",
      "model_name": "DescriptionStyleModel",
      "state": {
       "description_width": ""
      }
     },
     "9eead5604aa747d49f09101a7ecc428c": {
      "model_module": "@jupyter-widgets/controls",
      "model_module_version": "1.2.0",
      "model_name": "LabelModel",
      "state": {
       "layout": "IPY_MODEL_d793185eb2f54a6582f55283757a96ae",
       "style": "IPY_MODEL_dd5aa7a7601d4e0fa4f076f93aed3efb",
       "value": "End date is valid"
      }
     },
     "9eec415af4d94849a428022076f861d6": {
      "model_module": "@jupyter-widgets/controls",
      "model_module_version": "1.2.0",
      "model_name": "HBoxModel",
      "state": {
       "children": [
        "IPY_MODEL_47be2b807aa94e0581485167fc2a1df0",
        "IPY_MODEL_ae823427cc514f5b9732c2e41b80c370"
       ],
       "layout": "IPY_MODEL_6ae0d4cf25064e7b9615aeee5cec4ecd"
      }
     },
     "9f0315324d9a438a9618a25ae2b8e004": {
      "model_module": "@jupyter-widgets/controls",
      "model_module_version": "1.2.0",
      "model_name": "ButtonStyleModel",
      "state": {
       "button_color": "lightgreen"
      }
     },
     "9f3f1b940ce648b385a41a91c0ab5370": {
      "model_module": "@jupyter-widgets/controls",
      "model_module_version": "1.2.0",
      "model_name": "DescriptionStyleModel",
      "state": {
       "description_width": ""
      }
     },
     "9f684ea8f2a342b0b933be82ee38f9b2": {
      "model_module": "@jupyter-widgets/controls",
      "model_module_version": "1.2.0",
      "model_name": "ButtonModel",
      "state": {
       "description": "Select File",
       "icon": "square-o",
       "layout": "IPY_MODEL_c2199b46438c4e9c987399fa1e4805ad",
       "style": "IPY_MODEL_875520d0ad5c473281672c5fc01dd526"
      }
     },
     "a0a33bb650c54868adb660e33f2c91fe": {
      "model_module": "@jupyter-widgets/controls",
      "model_module_version": "1.2.0",
      "model_name": "ButtonStyleModel",
      "state": {}
     },
     "a1348e8494e84bc185665d4eccf07588": {
      "model_module": "@jupyter-widgets/base",
      "model_module_version": "1.0.0",
      "model_name": "LayoutModel",
      "state": {}
     },
     "a1af3941da114d819ea612b9a6398203": {
      "model_module": "@jupyter-widgets/base",
      "model_module_version": "1.0.0",
      "model_name": "LayoutModel",
      "state": {}
     },
     "a2ab7f3d1a1344eda9fe509e35a31bfb": {
      "model_module": "@jupyter-widgets/controls",
      "model_module_version": "1.2.0",
      "model_name": "TextModel",
      "state": {
       "description": "path to shape file",
       "layout": "IPY_MODEL_511250ca4a4f4d0bb29614e49c44386a",
       "placeholder": "choose a file",
       "style": "IPY_MODEL_dcd6422b20944a7fa52acf8112137471",
       "value": "/g/data1a/r78/rjd547/groundwater_activities/Burdekin/Burdekin_shapefiles/fels_sml.shp"
      }
     },
     "a2e63fe0bcc74efcaa0a79c5af2d4d6e": {
      "model_module": "@jupyter-widgets/base",
      "model_module_version": "1.0.0",
      "model_name": "LayoutModel",
      "state": {}
     },
     "a32f8f58af82478fa9a5e4c0379403d3": {
      "model_module": "@jupyter-widgets/controls",
      "model_module_version": "1.2.0",
      "model_name": "HBoxModel",
      "state": {
       "children": [
        "IPY_MODEL_1a2023da367b487082fb0b8c4ae93872",
        "IPY_MODEL_94077b23eaa142fc848b71a533ef3949"
       ],
       "layout": "IPY_MODEL_41ab56cf23654b5ba22f19901a52094e"
      }
     },
     "a33ddcb9b4cf41338af4311f510b83d7": {
      "model_module": "@jupyter-widgets/base",
      "model_module_version": "1.0.0",
      "model_name": "LayoutModel",
      "state": {}
     },
     "a361c984760c4e80916ba4e7f283a75f": {
      "model_module": "jupyter-leaflet",
      "model_module_version": "~0.5.0",
      "model_name": "LeafletTileLayerModel",
      "state": {
       "_model_module_version": "~0.5.0",
       "_view_count": null,
       "_view_module_version": "~0.5.0",
       "attribution": "Tiles &copy; Esri &mdash; Source: Esri, i-cubed, USDA, USGS, AEX, GeoEye, Getmapping, Aerogrid, IGN, IGP, UPR-EGP, and the GIS User Community",
       "max_zoom": 20,
       "min_zoom": 1,
       "name": "Esri.WorldImagery",
       "options": [
        "attribution",
        "detect_retina",
        "max_zoom",
        "min_zoom",
        "opacity",
        "tile_size"
       ],
       "url": "http://server.arcgisonline.com/ArcGIS/rest/services/World_Imagery/MapServer/tile/{z}/{y}/{x}"
      }
     },
     "a381fe02fc434627be124026812e38f2": {
      "model_module": "@jupyter-widgets/controls",
      "model_module_version": "1.2.0",
      "model_name": "ButtonModel",
      "state": {
       "description": "Plot Geomedian",
       "layout": "IPY_MODEL_60ea540d16a149d7a127089fc7ba1a7b",
       "style": "IPY_MODEL_9e7c156866854495b2dae6b886d29f4b"
      }
     },
     "a393d34ce48d4b97a5d88c2b468524e4": {
      "model_module": "@jupyter-widgets/controls",
      "model_module_version": "1.2.0",
      "model_name": "ButtonStyleModel",
      "state": {}
     },
     "a3a67448c4714d3c974a1c8a722bf851": {
      "model_module": "@jupyter-widgets/controls",
      "model_module_version": "1.2.0",
      "model_name": "ButtonStyleModel",
      "state": {
       "button_color": "lightgreen"
      }
     },
     "a3bf8445850d495790878341da53d63d": {
      "model_module": "@jupyter-widgets/base",
      "model_module_version": "1.0.0",
      "model_name": "LayoutModel",
      "state": {}
     },
     "a444df6bc990468eaf4799405bc4e6a6": {
      "model_module": "@jupyter-widgets/base",
      "model_module_version": "1.0.0",
      "model_name": "LayoutModel",
      "state": {}
     },
     "a5006babf92545438769cf5b8951837e": {
      "model_module": "@jupyter-widgets/base",
      "model_module_version": "1.0.0",
      "model_name": "LayoutModel",
      "state": {}
     },
     "a511f615f75d444fb171ad609e287036": {
      "model_module": "@jupyter-widgets/base",
      "model_module_version": "1.0.0",
      "model_name": "LayoutModel",
      "state": {
       "height": "400px",
       "width": "400px"
      }
     },
     "a54ca6f1ec8b4c6e95c998cf34b1e66f": {
      "model_module": "@jupyter-widgets/base",
      "model_module_version": "1.0.0",
      "model_name": "LayoutModel",
      "state": {}
     },
     "a5f6000cdbde40aab090c61e08c3a656": {
      "model_module": "@jupyter-widgets/controls",
      "model_module_version": "1.2.0",
      "model_name": "LabelModel",
      "state": {
       "layout": "IPY_MODEL_f7d9d9dd66324b45b8ccd116adb77fad",
       "style": "IPY_MODEL_7c897beefdf445c3b581cf25468bd345",
       "value": "Start date is valid"
      }
     },
     "a6214f6ba8234f2baa37dce9bdebc4f4": {
      "model_module": "@jupyter-widgets/controls",
      "model_module_version": "1.2.0",
      "model_name": "DescriptionStyleModel",
      "state": {
       "description_width": ""
      }
     },
     "a6e33d8700884aa7b9f3c9fc52b467a9": {
      "model_module": "@jupyter-widgets/controls",
      "model_module_version": "1.2.0",
      "model_name": "ButtonStyleModel",
      "state": {
       "button_color": "orange"
      }
     },
     "a8dfb18669774fb28d3f4fb038adc1c7": {
      "model_module": "@jupyter-widgets/controls",
      "model_module_version": "1.2.0",
      "model_name": "ToggleButtonsModel",
      "state": {
       "_options_labels": [
        "Shapefile",
        "DrawnPolygon"
       ],
       "button_style": "",
       "description": "Geometry Used for Datacube Query:",
       "icons": [],
       "index": 0,
       "layout": "IPY_MODEL_62cf1cec73004ebdaffabb1f0e726304",
       "style": "IPY_MODEL_8a0d0b9048b04190bcec4c0f2199870e",
       "tooltips": [
        "Use Shapefile Specified for the DC query",
        "Use Polygon Drawn on the Map for the DC query"
       ]
      }
     },
     "a9073a1e23c844a2baedc53111272fc7": {
      "model_module": "@jupyter-widgets/controls",
      "model_module_version": "1.2.0",
      "model_name": "TextModel",
      "state": {
       "description": "path to shape file",
       "layout": "IPY_MODEL_29f28b12df9d49a6b3549311265fd8e5",
       "placeholder": "/g/data1a/r78/rjd547/groundwater_activities/Burdekin/Burdekin_shapefiles/fels_sml.shp",
       "style": "IPY_MODEL_715588c3ab4e45188a6b2073c1f4d517",
       "value": "/g/data1a/r78/rjd547/groundwater_activities/Burdekin/Burdekin_shapefiles/fels_sml.shp"
      }
     },
     "a94cc047326744568c5092aa26190058": {
      "model_module": "@jupyter-widgets/controls",
      "model_module_version": "1.2.0",
      "model_name": "LabelModel",
      "state": {
       "layout": "IPY_MODEL_db1b22d2392449669b865df5cfdb623b",
       "style": "IPY_MODEL_17a9f3415ea84245b4c47a0ebacdb896",
       "value": "End date is valid"
      }
     },
     "a972dae58f9d445bb363c30a79119b1f": {
      "model_module": "@jupyter-widgets/controls",
      "model_module_version": "1.2.0",
      "model_name": "ButtonStyleModel",
      "state": {}
     },
     "a9a06e2944654f169e3c35e7f4af9dac": {
      "model_module": "@jupyter-widgets/base",
      "model_module_version": "1.0.0",
      "model_name": "LayoutModel",
      "state": {}
     },
     "a9fa8bd6fb7646669559d1c1a3f6d0d3": {
      "model_module": "@jupyter-widgets/controls",
      "model_module_version": "1.2.0",
      "model_name": "ButtonModel",
      "state": {
       "description": "File Name Specified",
       "icon": "check-square-o",
       "layout": "IPY_MODEL_15f856b034904b67b3a0fe1163c2441e",
       "style": "IPY_MODEL_44d059dcc9184e66bf0382bddefad072"
      }
     },
     "aa005fdb7a0a4e68b3d68d25d9993b39": {
      "model_module": "@jupyter-widgets/controls",
      "model_module_version": "1.2.0",
      "model_name": "ButtonStyleModel",
      "state": {}
     },
     "aa3b1761c65b482a9fd6b7b061bbcc72": {
      "model_module": "@jupyter-widgets/controls",
      "model_module_version": "1.2.0",
      "model_name": "DescriptionStyleModel",
      "state": {
       "description_width": "initial"
      }
     },
     "aa6bba8f90cf46c586529adc1c3b198e": {
      "model_module": "@jupyter-widgets/controls",
      "model_module_version": "1.2.0",
      "model_name": "ButtonModel",
      "state": {
       "description": "Plot Geomedian",
       "layout": "IPY_MODEL_7037f7458fc540ff81da2f7a897b6a68",
       "style": "IPY_MODEL_85f6c996d58e4f589ccf1ac3427e2e3f"
      }
     },
     "aa8f3b8327914a42907a7bae7ea9e685": {
      "model_module": "@jupyter-widgets/controls",
      "model_module_version": "1.2.0",
      "model_name": "LabelModel",
      "state": {
       "layout": "IPY_MODEL_e61145e8e68f4a9185d2f6ac9d974659",
       "style": "IPY_MODEL_be58c0d8c3694978bf09605b8209903a",
       "value": "End date is valid"
      }
     },
     "aac703271b874899b7d0d588d5d471a2": {
      "model_module": "@jupyter-widgets/controls",
      "model_module_version": "1.2.0",
      "model_name": "ToggleButtonsModel",
      "state": {
       "_options_labels": [
        "Shapefile",
        "DrawnPolygon"
       ],
       "button_style": "",
       "description": "Geometry Used for Datacube Query:",
       "icons": [],
       "index": 1,
       "layout": "IPY_MODEL_a9a06e2944654f169e3c35e7f4af9dac",
       "style": "IPY_MODEL_22c6845ce5104d0aba4f30a7e0ae2bfc",
       "tooltips": [
        "Use Shapefile Specified for the DC query",
        "Use Polygon Drawn on the Map for the DC query"
       ]
      }
     },
     "aaf5a358f75e458fa7e91ad5460505a6": {
      "model_module": "@jupyter-widgets/base",
      "model_module_version": "1.0.0",
      "model_name": "LayoutModel",
      "state": {}
     },
     "ab5857bebde144a5bd006a13977ae1a8": {
      "model_module": "@jupyter-widgets/controls",
      "model_module_version": "1.2.0",
      "model_name": "DescriptionStyleModel",
      "state": {
       "description_width": "initial"
      }
     },
     "ab771f2bebd64922a9e2c9c0e9fdaa2e": {
      "model_module": "@jupyter-widgets/controls",
      "model_module_version": "1.2.0",
      "model_name": "TextModel",
      "state": {
       "description": "path to shape file",
       "layout": "IPY_MODEL_312986507e6e49b489891bd9e4aec043",
       "placeholder": "/g/data1a/r78/rjd547/groundwater_activities/Burdekin/Burdekin_shapefiles/fels_sml.shp",
       "style": "IPY_MODEL_400f379fc79a40559e46ab5ce6998605",
       "value": "/g/data1a/r78/rjd547/groundwater_activities/Burdekin/Burdekin_shapefiles/fels_sml.shp"
      }
     },
     "abc965a7aeb74f1cb5d30c15e6b4c057": {
      "model_module": "jupyter-leaflet",
      "model_module_version": "~0.7.3",
      "model_name": "LeafletMapModel",
      "state": {
       "_dom_classes": [],
       "_model_module_version": "~0.7.3",
       "_view_count": null,
       "_view_module_version": "~0.7.3",
       "basemap": {
        "attribution": "Map data (c) <a href=\"https://openstreetmap.org\">OpenStreetMap</a> contributors",
        "max_zoom": 19,
        "url": "https://{s}.tile.openstreetmap.org/{z}/{x}/{y}.png"
       },
       "center": [
        -20.0183,
        145.3134
       ],
       "controls": [
        "IPY_MODEL_6f5bb29b95984bb788e5435fe9e6e436"
       ],
       "east": 145.58807373046878,
       "layers": [
        "IPY_MODEL_03efd35eb65c4b51b60115e68c0b9127"
       ],
       "layout": "IPY_MODEL_70290f5c49874c9d9db7536828971cbc",
       "modisdate": "yesterday",
       "north": -19.760241554664503,
       "options": [
        "attribution_control",
        "basemap",
        "bounce_at_zoom_limits",
        "box_zoom",
        "center",
        "close_popup_on_click",
        "double_click_zoom",
        "dragging",
        "inertia",
        "inertia_deceleration",
        "inertia_max_speed",
        "keyboard",
        "keyboard_pan_offset",
        "keyboard_zoom_offset",
        "max_zoom",
        "min_zoom",
        "scroll_wheel_zoom",
        "tap",
        "tap_tolerance",
        "touch_zoom",
        "world_copy_jump",
        "zoom",
        "zoom_animation_threshold",
        "zoom_control",
        "zoom_start"
       ],
       "south": -20.276367870836033,
       "west": 145.03875732421878,
       "zoom": 10
      }
     },
     "abde39cceb364e88936b5325aa7ab741": {
      "model_module": "@jupyter-widgets/base",
      "model_module_version": "1.0.0",
      "model_name": "LayoutModel",
      "state": {}
     },
     "acbb101fcc0c43d9ad1949cdc5c59458": {
      "model_module": "@jupyter-widgets/base",
      "model_module_version": "1.0.0",
      "model_name": "LayoutModel",
      "state": {
       "width": "70%"
      }
     },
     "acdf33b6f8f9496f8dd135d970363587": {
      "model_module": "jupyter-leaflet",
      "model_module_version": "~0.7.3",
      "model_name": "LeafletDrawControlModel",
      "state": {
       "_model_module_version": "~0.7.3",
       "_view_count": null,
       "_view_module_version": "~0.7.3",
       "layer": "IPY_MODEL_54619ca7118e4a1cae75bf0920a7976e",
       "polygon": {
        "shapeOptions": {
         "color": "#0000FF"
        }
       },
       "polyline": {}
      }
     },
     "acfb169d760a4551a9b48880b5d7aab1": {
      "model_module": "@jupyter-widgets/controls",
      "model_module_version": "1.2.0",
      "model_name": "ButtonStyleModel",
      "state": {}
     },
     "ad14e591d99448fea370e7c0ec2e3516": {
      "model_module": "jupyter-leaflet",
      "model_module_version": "1.0.0",
      "model_name": "LeafletMapModel",
      "state": {
       "_dom_classes": [],
       "_east": 145.62652587890628,
       "_model_module_version": "1.0.0",
       "_north": -19.77704220222595,
       "_south": -20.29311344754411,
       "_view_count": null,
       "_view_module_version": "",
       "_west": 145.09643554687503,
       "basemap": {
        "attribution": "Tiles &copy; Esri &mdash; Source: Esri, i-cubed, USDA, USGS, AEX, GeoEye, Getmapping, Aerogrid, IGN, IGP, UPR-EGP, and the GIS User Community",
        "max_zoom": 20,
        "name": "Esri.WorldImagery",
        "url": "http://server.arcgisonline.com/ArcGIS/rest/services/World_Imagery/MapServer/tile/{z}/{y}/{x}"
       },
       "center": [
        -20.035289711352377,
        145.36148071289065
       ],
       "controls": [
        "IPY_MODEL_c3e9e6f7d9b94e199a8382c26408b838"
       ],
       "default_tiles": "IPY_MODEL_a361c984760c4e80916ba4e7f283a75f",
       "layers": [
        "IPY_MODEL_a361c984760c4e80916ba4e7f283a75f"
       ],
       "layout": "IPY_MODEL_8061f6f2ae43464b82c7b3b21badb9fd",
       "modisdate": "yesterday",
       "options": [
        "attribution_control",
        "basemap",
        "bounce_at_zoom_limits",
        "box_zoom",
        "center",
        "close_popup_on_click",
        "double_click_zoom",
        "dragging",
        "inertia",
        "inertia_deceleration",
        "inertia_max_speed",
        "keyboard",
        "keyboard_pan_offset",
        "keyboard_zoom_offset",
        "max_zoom",
        "min_zoom",
        "scroll_wheel_zoom",
        "tap",
        "tap_tolerance",
        "touch_zoom",
        "world_copy_jump",
        "zoom",
        "zoom_animation_threshold",
        "zoom_control",
        "zoom_start"
       ],
       "zoom": 10
      }
     },
     "ad225684b1b64cbc88b28697dc20384c": {
      "model_module": "jupyter-leaflet",
      "model_module_version": "~0.7.3",
      "model_name": "LeafletTileLayerModel",
      "state": {
       "_model_module_version": "~0.7.3",
       "_view_count": null,
       "_view_module_version": "~0.7.3",
       "base": true,
       "max_zoom": 19,
       "min_zoom": 1,
       "options": [
        "attribution",
        "detect_retina",
        "max_zoom",
        "min_zoom",
        "tile_size"
       ]
      }
     },
     "ae0b1591d53a4503b208f78a2072801a": {
      "model_module": "@jupyter-widgets/controls",
      "model_module_version": "1.2.0",
      "model_name": "TextModel",
      "state": {
       "description": "end date",
       "layout": "IPY_MODEL_26998541f031412d87b9568163248293",
       "placeholder": "update this field YYYY-MM-DD",
       "style": "IPY_MODEL_bc9fbed398734ba2b19bf6adec66a95a",
       "value": "2013-05-31"
      }
     },
     "ae823427cc514f5b9732c2e41b80c370": {
      "model_module": "@jupyter-widgets/controls",
      "model_module_version": "1.2.0",
      "model_name": "ButtonModel",
      "state": {
       "description": "Select File",
       "icon": "square-o",
       "layout": "IPY_MODEL_c62c79eff3a44c1aa8eddb615d023088",
       "style": "IPY_MODEL_3ceef6c11f9a40d9bb4eb95c438d1ffe"
      }
     },
     "af0860ed9f294a3c843c6f633a19b355": {
      "model_module": "@jupyter-widgets/controls",
      "model_module_version": "1.2.0",
      "model_name": "ButtonModel",
      "state": {
       "description": "Check dates",
       "layout": "IPY_MODEL_50f49c1fc21243309ee39c34f39495e6",
       "style": "IPY_MODEL_513673dda9644f9fb6990370f58bee22",
       "tooltip": "Click me"
      }
     },
     "af553cb2e8c143f3a02fac95310715db": {
      "model_module": "@jupyter-widgets/controls",
      "model_module_version": "1.2.0",
      "model_name": "ButtonStyleModel",
      "state": {
       "button_color": "orange"
      }
     },
     "af6417465f05425eab80c2d67bcdeabf": {
      "model_module": "@jupyter-widgets/base",
      "model_module_version": "1.0.0",
      "model_name": "LayoutModel",
      "state": {
       "width": "70%"
      }
     },
     "afafbd1a00824f5bb529d69bd0efa39f": {
      "model_module": "@jupyter-widgets/controls",
      "model_module_version": "1.2.0",
      "model_name": "LabelModel",
      "state": {
       "layout": "IPY_MODEL_b900f885051a4ce2b7428e7ce1099a6f",
       "style": "IPY_MODEL_fb77445ba6e345d0a4a32c3d1005757e",
       "value": "Start date is valid"
      }
     },
     "afc9c21904f6410996dd02dc86e3dd43": {
      "model_module": "@jupyter-widgets/controls",
      "model_module_version": "1.2.0",
      "model_name": "ButtonModel",
      "state": {
       "description": "Check shapefile",
       "layout": "IPY_MODEL_f040e906c030424fa440f5d0998e4b3b",
       "style": "IPY_MODEL_00868cd6b24747889c33f78fac5f933d",
       "tooltip": "Click me"
      }
     },
     "aff5be0e65ef4e07828e296a0196ccba": {
      "model_module": "@jupyter-widgets/base",
      "model_module_version": "1.0.0",
      "model_name": "LayoutModel",
      "state": {}
     },
     "b005b08a14bf41f3923167e235241ca2": {
      "model_module": "@jupyter-widgets/base",
      "model_module_version": "1.0.0",
      "model_name": "LayoutModel",
      "state": {}
     },
     "b095e779c68e444baee7d6cddeabfce9": {
      "model_module": "@jupyter-widgets/controls",
      "model_module_version": "1.2.0",
      "model_name": "HBoxModel",
      "state": {
       "children": [
        "IPY_MODEL_cda8475016764eb2aa03e5e399ba4c65",
        "IPY_MODEL_f09c90fcfcf4491086b9fef9edc2762f"
       ],
       "layout": "IPY_MODEL_cd59f03bd39b4544bae61f4d8ab47bb0"
      }
     },
     "b09a7e80474e41a9bf272fcd49c75bfd": {
      "model_module": "@jupyter-widgets/controls",
      "model_module_version": "1.2.0",
      "model_name": "TextModel",
      "state": {
       "description": "path to shape file",
       "layout": "IPY_MODEL_ca0d0eaeaabd4543a84655bd5c7a546a",
       "placeholder": "update this field",
       "style": "IPY_MODEL_aa3b1761c65b482a9fd6b7b061bbcc72"
      }
     },
     "b0c55f01d88945e58155cd90b993d06e": {
      "model_module": "@jupyter-widgets/controls",
      "model_module_version": "1.2.0",
      "model_name": "ButtonModel",
      "state": {
       "description": "Select File",
       "icon": "square-o",
       "layout": "IPY_MODEL_8a53d3069d4e490c96fd8c2a615cbb21",
       "style": "IPY_MODEL_4cf0dc35ed9241779de3d62ef911c6c5"
      }
     },
     "b0c91d2f62684ba790cc0b04d33b75b5": {
      "model_module": "jupyter-leaflet",
      "model_module_version": "~0.5.0",
      "model_name": "LeafletFeatureGroupModel",
      "state": {
       "_model_module_version": "~0.5.0",
       "_view_count": null,
       "_view_module_version": "~0.5.0"
      }
     },
     "b0fff64c7bf640de85bf8936b308c5e5": {
      "model_module": "jupyter-leaflet",
      "model_module_version": "~0.7.3",
      "model_name": "LeafletMapModel",
      "state": {
       "_dom_classes": [],
       "_model_module_version": "~0.7.3",
       "_view_count": null,
       "_view_module_version": "~0.7.3",
       "basemap": {
        "attribution": "Map data (c) <a href=\"https://openstreetmap.org\">OpenStreetMap</a> contributors",
        "max_zoom": 19,
        "url": "https://{s}.tile.openstreetmap.org/{z}/{x}/{y}.png"
       },
       "center": [
        -20.023677645296186,
        145.14072418212893
       ],
       "controls": [
        "IPY_MODEL_17ce635712ab4f788ab32db48e84a4b3"
       ],
       "east": 145.20629882812503,
       "layers": [
        "IPY_MODEL_b60f16b66358447aa7528d49d09bc701"
       ],
       "layout": "IPY_MODEL_a511f615f75d444fb171ad609e287036",
       "modisdate": "yesterday",
       "north": -19.959150559427233,
       "options": [
        "attribution_control",
        "basemap",
        "bounce_at_zoom_limits",
        "box_zoom",
        "center",
        "close_popup_on_click",
        "double_click_zoom",
        "dragging",
        "inertia",
        "inertia_deceleration",
        "inertia_max_speed",
        "keyboard",
        "keyboard_pan_offset",
        "keyboard_zoom_offset",
        "max_zoom",
        "min_zoom",
        "scroll_wheel_zoom",
        "tap",
        "tap_tolerance",
        "touch_zoom",
        "world_copy_jump",
        "zoom",
        "zoom_animation_threshold",
        "zoom_control",
        "zoom_start"
       ],
       "south": -20.08817825791709,
       "west": 145.07514953613284
      }
     },
     "b160db5484c24a578e594a16d1c214c5": {
      "model_module": "@jupyter-widgets/base",
      "model_module_version": "1.0.0",
      "model_name": "LayoutModel",
      "state": {
       "width": "70%"
      }
     },
     "b163da4fc0724185a16fd2135651aab8": {
      "model_module": "@jupyter-widgets/base",
      "model_module_version": "1.0.0",
      "model_name": "LayoutModel",
      "state": {}
     },
     "b1a7f19cb4b9475bb0ec1916c89ccee0": {
      "model_module": "@jupyter-widgets/controls",
      "model_module_version": "1.2.0",
      "model_name": "ButtonStyleModel",
      "state": {}
     },
     "b1c6671c4c374ecc9c24adbe4568788b": {
      "model_module": "@jupyter-widgets/controls",
      "model_module_version": "1.2.0",
      "model_name": "HBoxModel",
      "state": {
       "children": [
        "IPY_MODEL_6539fcfd58bc44c8b5b9388b3c1829e7",
        "IPY_MODEL_a5f6000cdbde40aab090c61e08c3a656"
       ],
       "layout": "IPY_MODEL_7da28f09fabc4e7294c30f004f877c7f"
      }
     },
     "b1de212cf2614aaba6d71321d413a084": {
      "model_module": "@jupyter-widgets/controls",
      "model_module_version": "1.2.0",
      "model_name": "LabelModel",
      "state": {
       "layout": "IPY_MODEL_e3af97b1f0664e7cb18faede2d9b492c",
       "style": "IPY_MODEL_b69490aafd2d40448d362e1d2af67a8c",
       "value": "Start date is valid"
      }
     },
     "b235025343b64c53a651290ffb21327b": {
      "model_module": "@jupyter-widgets/base",
      "model_module_version": "1.0.0",
      "model_name": "LayoutModel",
      "state": {}
     },
     "b243066bd66f48b79684bac47774674f": {
      "model_module": "@jupyter-widgets/base",
      "model_module_version": "1.0.0",
      "model_name": "LayoutModel",
      "state": {}
     },
     "b2c46c31642e470281191ef8171df71a": {
      "model_module": "@jupyter-widgets/controls",
      "model_module_version": "1.2.0",
      "model_name": "HBoxModel",
      "state": {
       "children": [
        "IPY_MODEL_ee387ccbdf5b450fa19c7db93bc6b7e4",
        "IPY_MODEL_72ccbb642ec74e689ca1318de0296f56"
       ],
       "layout": "IPY_MODEL_374830a1454449d29f8aff7764a5b226"
      }
     },
     "b2c59a7671f84e0397a3e6167892349d": {
      "model_module": "@jupyter-widgets/controls",
      "model_module_version": "1.2.0",
      "model_name": "DescriptionStyleModel",
      "state": {
       "description_width": ""
      }
     },
     "b37dcd204c074e2e9005609f92975a4d": {
      "model_module": "@jupyter-widgets/base",
      "model_module_version": "1.0.0",
      "model_name": "LayoutModel",
      "state": {
       "width": "70%"
      }
     },
     "b3cf89bc479243a2b01b81dfc8e4d4f7": {
      "model_module": "@jupyter-widgets/controls",
      "model_module_version": "1.2.0",
      "model_name": "DescriptionStyleModel",
      "state": {
       "description_width": ""
      }
     },
     "b4a88a214f96401b96ec49d64b98bd99": {
      "model_module": "@jupyter-widgets/controls",
      "model_module_version": "1.2.0",
      "model_name": "ButtonStyleModel",
      "state": {}
     },
     "b5727204ccd44ad5b6ae2240ac053c76": {
      "model_module": "@jupyter-widgets/base",
      "model_module_version": "1.0.0",
      "model_name": "LayoutModel",
      "state": {}
     },
     "b585070c8ece4c958ae0ab3c7d4da4b5": {
      "model_module": "@jupyter-widgets/controls",
      "model_module_version": "1.2.0",
      "model_name": "DescriptionStyleModel",
      "state": {
       "description_width": ""
      }
     },
     "b59cfe415e5d4323a11eda83ef0cf760": {
      "model_module": "@jupyter-widgets/controls",
      "model_module_version": "1.2.0",
      "model_name": "ButtonModel",
      "state": {
       "description": "Check shapefile",
       "layout": "IPY_MODEL_aff5be0e65ef4e07828e296a0196ccba",
       "style": "IPY_MODEL_dfe1a55b616b44daaa569ae2b7593d03",
       "tooltip": "Click me"
      }
     },
     "b5cb4f21868245d981c49f1126daffeb": {
      "model_module": "@jupyter-widgets/controls",
      "model_module_version": "1.2.0",
      "model_name": "ToggleButtonsStyleModel",
      "state": {
       "button_width": "",
       "description_width": ""
      }
     },
     "b5df241ca7b6464cb16f9383f2c70634": {
      "model_module": "@jupyter-widgets/controls",
      "model_module_version": "1.2.0",
      "model_name": "TextModel",
      "state": {
       "description": "end date",
       "layout": "IPY_MODEL_ea9bd06331fa4da9a0c6ea104562a415",
       "placeholder": "update this field YYYY-MM-DD",
       "style": "IPY_MODEL_a6214f6ba8234f2baa37dce9bdebc4f4",
       "value": "2013-05-31"
      }
     },
     "b60f16b66358447aa7528d49d09bc701": {
      "model_module": "jupyter-leaflet",
      "model_module_version": "~0.7.3",
      "model_name": "LeafletTileLayerModel",
      "state": {
       "_model_module_version": "~0.7.3",
       "_view_count": null,
       "_view_module_version": "~0.7.3",
       "base": true,
       "max_zoom": 19,
       "min_zoom": 1,
       "options": [
        "attribution",
        "detect_retina",
        "max_zoom",
        "min_zoom",
        "tile_size"
       ]
      }
     },
     "b69490aafd2d40448d362e1d2af67a8c": {
      "model_module": "@jupyter-widgets/controls",
      "model_module_version": "1.2.0",
      "model_name": "DescriptionStyleModel",
      "state": {
       "description_width": ""
      }
     },
     "b6cbebcde4be4077826c5f444661320a": {
      "model_module": "@jupyter-widgets/base",
      "model_module_version": "1.0.0",
      "model_name": "LayoutModel",
      "state": {}
     },
     "b819085dd3bf4a1f9f082187a8a0c588": {
      "model_module": "@jupyter-widgets/base",
      "model_module_version": "1.0.0",
      "model_name": "LayoutModel",
      "state": {}
     },
     "b83aff089c004bda8f987caba5f460ac": {
      "model_module": "jupyter-leaflet",
      "model_module_version": "~0.7.3",
      "model_name": "LeafletFeatureGroupModel",
      "state": {
       "_model_module_version": "~0.7.3",
       "_view_count": null,
       "_view_module_version": "~0.7.3"
      }
     },
     "b900f885051a4ce2b7428e7ce1099a6f": {
      "model_module": "@jupyter-widgets/base",
      "model_module_version": "1.0.0",
      "model_name": "LayoutModel",
      "state": {}
     },
     "b9495dc952df4fed80534bee2b844fad": {
      "model_module": "@jupyter-widgets/controls",
      "model_module_version": "1.2.0",
      "model_name": "ButtonModel",
      "state": {
       "description": "File Name Specified",
       "icon": "check-square-o",
       "layout": "IPY_MODEL_2cba40606b2448eabf5ce1043dd4a460",
       "style": "IPY_MODEL_c66fab7030fc433f97f87d9401d1eb30"
      }
     },
     "ba0a4ad84619480c8f8671efe16fa6d7": {
      "model_module": "@jupyter-widgets/controls",
      "model_module_version": "1.2.0",
      "model_name": "DescriptionStyleModel",
      "state": {
       "description_width": ""
      }
     },
     "ba3ed2c2b9d648a29e3a700c2f413a15": {
      "model_module": "@jupyter-widgets/controls",
      "model_module_version": "1.2.0",
      "model_name": "VBoxModel",
      "state": {
       "children": [
        "IPY_MODEL_9db53fc6ac044603b58b0ca6f04206f7",
        "IPY_MODEL_4ceeeb52d326492ca12af3c019bd8a66"
       ],
       "layout": "IPY_MODEL_03e175404ff64235ab1e98121c4826fb"
      }
     },
     "ba8c688827394a2689ec2a031843a227": {
      "model_module": "@jupyter-widgets/controls",
      "model_module_version": "1.2.0",
      "model_name": "DescriptionStyleModel",
      "state": {
       "description_width": ""
      }
     },
     "ba950cf6286d44c594e8c28f91b28558": {
      "model_module": "@jupyter-widgets/controls",
      "model_module_version": "1.2.0",
      "model_name": "DescriptionStyleModel",
      "state": {
       "description_width": "initial"
      }
     },
     "bb3606b245d54f048ebbc1c16fff3545": {
      "model_module": "@jupyter-widgets/base",
      "model_module_version": "1.0.0",
      "model_name": "LayoutModel",
      "state": {}
     },
     "bb5e1b0425794c72acecc7ae12c781a0": {
      "model_module": "@jupyter-widgets/controls",
      "model_module_version": "1.2.0",
      "model_name": "ButtonModel",
      "state": {
       "description": "Select File",
       "icon": "square-o",
       "layout": "IPY_MODEL_fc1a81e4f8a545699d3776ac246b9f57",
       "style": "IPY_MODEL_45a254841970494c8833e3fc715264a4"
      }
     },
     "bbc92b5be7644f08a336fae4258b750c": {
      "model_module": "@jupyter-widgets/base",
      "model_module_version": "1.0.0",
      "model_name": "LayoutModel",
      "state": {}
     },
     "bc9fbed398734ba2b19bf6adec66a95a": {
      "model_module": "@jupyter-widgets/controls",
      "model_module_version": "1.2.0",
      "model_name": "DescriptionStyleModel",
      "state": {
       "description_width": ""
      }
     },
     "bcbfa8e862154dea98c7ebd2f6341bfc": {
      "model_module": "@jupyter-widgets/controls",
      "model_module_version": "1.2.0",
      "model_name": "HBoxModel",
      "state": {
       "children": [
        "IPY_MODEL_659398f5d1c246d6af167d5cba79e640",
        "IPY_MODEL_d055c7b3f15a46b287a387ad4bb383b2"
       ],
       "layout": "IPY_MODEL_ee80a70b5ab84d278d3e4ff89f735eb1"
      }
     },
     "bcd07ed4ebca44ef8e901775aeec72fd": {
      "model_module": "@jupyter-widgets/controls",
      "model_module_version": "1.2.0",
      "model_name": "HBoxModel",
      "state": {
       "children": [
        "IPY_MODEL_e431d41473af43e99c3637cb42a6eff3",
        "IPY_MODEL_f806737e8417453eb1a62f975a8fade0"
       ],
       "layout": "IPY_MODEL_1a56b04a2680446eb49062bd3c04b290"
      }
     },
     "bcd2f5ddff5942f9a30e00843256708b": {
      "model_module": "@jupyter-widgets/controls",
      "model_module_version": "1.2.0",
      "model_name": "ButtonStyleModel",
      "state": {}
     },
     "bd55359b92a8441e9901191a9cb091d2": {
      "model_module": "@jupyter-widgets/base",
      "model_module_version": "1.0.0",
      "model_name": "LayoutModel",
      "state": {}
     },
     "bd56ad19085f4d609311a856a8b26a10": {
      "model_module": "@jupyter-widgets/controls",
      "model_module_version": "1.2.0",
      "model_name": "ButtonModel",
      "state": {
       "description": "Check shapefile",
       "layout": "IPY_MODEL_e3570122e1524882873e1815ae8bd836",
       "style": "IPY_MODEL_612675846c8b4a8da72aad8071b9e341",
       "tooltip": "Click me"
      }
     },
     "bd6527b0d1fd454a8d9d36ecadfe9fb3": {
      "model_module": "@jupyter-widgets/controls",
      "model_module_version": "1.2.0",
      "model_name": "ButtonModel",
      "state": {
       "description": "Check shapefile",
       "layout": "IPY_MODEL_1f9ad95bbb1940889a03f25cb547e6b8",
       "style": "IPY_MODEL_1ffd6b7a924249399455dba7f2e3d6d4",
       "tooltip": "Click me"
      }
     },
     "bd9a165f8b644ad8b5516530728820b9": {
      "model_module": "@jupyter-widgets/base",
      "model_module_version": "1.0.0",
      "model_name": "LayoutModel",
      "state": {}
     },
     "be26df464ec644eabf1e2b7f57141d8c": {
      "model_module": "@jupyter-widgets/controls",
      "model_module_version": "1.2.0",
      "model_name": "HBoxModel",
      "state": {
       "children": [
        "IPY_MODEL_9b1513bef60f41a4a0d9ead36af22280",
        "IPY_MODEL_e81b8b9fe7bf422e927b62cdaa382304"
       ],
       "layout": "IPY_MODEL_14b25e9f36c545deaad1657bce39f570"
      }
     },
     "be274867537242eda9af68770b7f8e5b": {
      "model_module": "jupyter-leaflet",
      "model_module_version": "~0.7.3",
      "model_name": "LeafletFeatureGroupModel",
      "state": {
       "_model_module_version": "~0.7.3",
       "_view_count": null,
       "_view_module_version": "~0.7.3"
      }
     },
     "be4ad48f2d204c73b8a803187837b0a5": {
      "model_module": "@jupyter-widgets/base",
      "model_module_version": "1.0.0",
      "model_name": "LayoutModel",
      "state": {}
     },
     "be58c0d8c3694978bf09605b8209903a": {
      "model_module": "@jupyter-widgets/controls",
      "model_module_version": "1.2.0",
      "model_name": "DescriptionStyleModel",
      "state": {
       "description_width": ""
      }
     },
     "bec925e5ac4b4a19bad4ea0ada57e573": {
      "model_module": "@jupyter-widgets/controls",
      "model_module_version": "1.2.0",
      "model_name": "TextModel",
      "state": {
       "description": "start date",
       "layout": "IPY_MODEL_4d15c5506fd84e61a8826d2095d8a7a3",
       "placeholder": "update this field YYYY-MM-DD",
       "style": "IPY_MODEL_0588b892085d40f784aa90c72a12bfad",
       "value": "2013-03-01"
      }
     },
     "bf231b12d38441fab5feafcdd05a134b": {
      "model_module": "jupyter-leaflet",
      "model_module_version": "~0.7.3",
      "model_name": "LeafletFeatureGroupModel",
      "state": {
       "_model_module_version": "~0.7.3",
       "_view_count": null,
       "_view_module_version": "~0.7.3"
      }
     },
     "c061d7a4e86e4e4291968615ae7daa11": {
      "model_module": "@jupyter-widgets/controls",
      "model_module_version": "1.2.0",
      "model_name": "ButtonStyleModel",
      "state": {}
     },
     "c0643337f7724faca3f82150e63d4e0e": {
      "model_module": "@jupyter-widgets/controls",
      "model_module_version": "1.2.0",
      "model_name": "DescriptionStyleModel",
      "state": {
       "description_width": "initial"
      }
     },
     "c09e94a81971461eae1d84f3b61d7015": {
      "model_module": "@jupyter-widgets/controls",
      "model_module_version": "1.2.0",
      "model_name": "ButtonStyleModel",
      "state": {}
     },
     "c0be69b8519a4e1785e486cf5af67a60": {
      "model_module": "@jupyter-widgets/base",
      "model_module_version": "1.0.0",
      "model_name": "LayoutModel",
      "state": {}
     },
     "c0f437ab1eab43088e81a4f0a0c1ba46": {
      "model_module": "@jupyter-widgets/base",
      "model_module_version": "1.0.0",
      "model_name": "LayoutModel",
      "state": {}
     },
     "c14c6545c40e4d848c853ce62b3dc7af": {
      "model_module": "jupyter-leaflet",
      "model_module_version": "~0.7.3",
      "model_name": "LeafletGeoJSONModel",
      "state": {
       "_model_module_version": "~0.7.3",
       "_view_count": null,
       "_view_module_version": "~0.7.3",
       "data": {
        "geometry": {
         "coordinates": [
          [
           [
            145.260521,
            -19.934107
           ],
           [
            145.333357,
            -19.921196
           ],
           [
            145.352596,
            -19.983158
           ],
           [
            145.266018,
            -19.980576
           ],
           [
            145.260521,
            -19.934107
           ]
          ]
         ],
         "type": "Polygon"
        },
        "properties": {
         "style": {
          "clickable": true,
          "color": "#3388ff",
          "fill": true,
          "fillColor": null,
          "fillOpacity": 0.2,
          "opacity": 0.5,
          "stroke": true,
          "weight": 4
         }
        },
        "type": "Feature"
       }
      }
     },
     "c1e765ea42e24e89b0150183abc7a940": {
      "model_module": "@jupyter-widgets/base",
      "model_module_version": "1.0.0",
      "model_name": "LayoutModel",
      "state": {}
     },
     "c2199b46438c4e9c987399fa1e4805ad": {
      "model_module": "@jupyter-widgets/base",
      "model_module_version": "1.0.0",
      "model_name": "LayoutModel",
      "state": {}
     },
     "c2aa517fae3146e2911aab9d1bdd9d5d": {
      "model_module": "@jupyter-widgets/base",
      "model_module_version": "1.0.0",
      "model_name": "LayoutModel",
      "state": {}
     },
     "c2fa18a9c33544ddb1c4b09cd2d09b15": {
      "model_module": "@jupyter-widgets/controls",
      "model_module_version": "1.2.0",
      "model_name": "ButtonModel",
      "state": {
       "description": "Plot Geomedian",
       "layout": "IPY_MODEL_2c4db1279ac145adaa7cc38c6a1666d3",
       "style": "IPY_MODEL_4138bbeee0c34ef2b654f827a17c5285"
      }
     },
     "c31edf6e410c4059893991751a56931e": {
      "model_module": "@jupyter-widgets/base",
      "model_module_version": "1.0.0",
      "model_name": "LayoutModel",
      "state": {}
     },
     "c3701cf59b02485da14303840f526b7b": {
      "model_module": "@jupyter-widgets/controls",
      "model_module_version": "1.2.0",
      "model_name": "ButtonModel",
      "state": {
       "description": "Check shapefile",
       "layout": "IPY_MODEL_c3fc1a5679014bb3bb71e6ee08946230",
       "style": "IPY_MODEL_170526af81c044869fee68159c6807df",
       "tooltip": "Click me"
      }
     },
     "c37f4b07fc5e49d19ebe548ade39e9b9": {
      "model_module": "jupyter-leaflet",
      "model_module_version": "~0.7.3",
      "model_name": "LeafletMapModel",
      "state": {
       "_dom_classes": [],
       "_model_module_version": "~0.7.3",
       "_view_count": null,
       "_view_module_version": "~0.7.3",
       "basemap": {
        "attribution": "Map data (c) <a href=\"https://openstreetmap.org\">OpenStreetMap</a> contributors",
        "max_zoom": 19,
        "url": "https://{s}.tile.openstreetmap.org/{z}/{x}/{y}.png"
       },
       "center": [
        -19.988836302380797,
        145.26672363281253
       ],
       "controls": [
        "IPY_MODEL_611c0e44b4de4dbb968631e51dc53064"
       ],
       "east": -180,
       "layers": [
        "IPY_MODEL_0659d1656af849d2a9d4bca131e5b53e"
       ],
       "layout": "IPY_MODEL_ee72430f1e5c458ebe58edde78e8ff46",
       "modisdate": "yesterday",
       "north": -90,
       "options": [
        "attribution_control",
        "basemap",
        "bounce_at_zoom_limits",
        "box_zoom",
        "center",
        "close_popup_on_click",
        "double_click_zoom",
        "dragging",
        "inertia",
        "inertia_deceleration",
        "inertia_max_speed",
        "keyboard",
        "keyboard_pan_offset",
        "keyboard_zoom_offset",
        "max_zoom",
        "min_zoom",
        "scroll_wheel_zoom",
        "tap",
        "tap_tolerance",
        "touch_zoom",
        "world_copy_jump",
        "zoom",
        "zoom_animation_threshold",
        "zoom_control",
        "zoom_start"
       ],
       "south": 90,
       "west": 180,
       "zoom": 10
      }
     },
     "c3938560929947cc877be917e67a66c4": {
      "model_module": "@jupyter-widgets/controls",
      "model_module_version": "1.2.0",
      "model_name": "ButtonModel",
      "state": {
       "description": "Load and Calculate",
       "layout": "IPY_MODEL_969aee6451f942a8add5ae91d1e110c7",
       "style": "IPY_MODEL_14e9995cb34f4ffbb415fe2b98b0b626"
      }
     },
     "c3e9e6f7d9b94e199a8382c26408b838": {
      "model_module": "jupyter-leaflet",
      "model_module_version": "1.0.0",
      "model_name": "LeafletDrawControlModel",
      "state": {
       "_model_module_version": "1.0.0",
       "_view_count": null,
       "_view_module_version": "",
       "layer": "IPY_MODEL_10cda133c629498187810e1007d94900",
       "polygon": {
        "shapeOptions": {
         "color": "#0000FF"
        }
       },
       "polyline": {}
      }
     },
     "c3fc1a5679014bb3bb71e6ee08946230": {
      "model_module": "@jupyter-widgets/base",
      "model_module_version": "1.0.0",
      "model_name": "LayoutModel",
      "state": {}
     },
     "c4a13f09df92453b8fb899195e843009": {
      "model_module": "@jupyter-widgets/controls",
      "model_module_version": "1.2.0",
      "model_name": "TextModel",
      "state": {
       "description": "start date",
       "layout": "IPY_MODEL_5671c97b9e094ab39ae8d694d7fe83f3",
       "placeholder": "update this field YYYY-MM-DD",
       "style": "IPY_MODEL_2a18af3fff3647f6a7dcd869152900a6",
       "value": "2013-04-01"
      }
     },
     "c4bb477a9c4d431a845417a9f7b3c92f": {
      "model_module": "@jupyter-widgets/base",
      "model_module_version": "1.0.0",
      "model_name": "LayoutModel",
      "state": {}
     },
     "c59ce347ee774988ab93c8a55d2cc6cb": {
      "model_module": "@jupyter-widgets/base",
      "model_module_version": "1.0.0",
      "model_name": "LayoutModel",
      "state": {}
     },
     "c62c79eff3a44c1aa8eddb615d023088": {
      "model_module": "@jupyter-widgets/base",
      "model_module_version": "1.0.0",
      "model_name": "LayoutModel",
      "state": {}
     },
     "c638a0562dbd43a48768dfc7aa545a57": {
      "model_module": "@jupyter-widgets/base",
      "model_module_version": "1.0.0",
      "model_name": "LayoutModel",
      "state": {}
     },
     "c66fab7030fc433f97f87d9401d1eb30": {
      "model_module": "@jupyter-widgets/controls",
      "model_module_version": "1.2.0",
      "model_name": "ButtonStyleModel",
      "state": {
       "button_color": "lightgreen"
      }
     },
     "c7104fbe7a1b4137919d154facf960a8": {
      "model_module": "jupyter-leaflet",
      "model_module_version": "~0.7.3",
      "model_name": "LeafletFeatureGroupModel",
      "state": {
       "_model_module_version": "~0.7.3",
       "_view_count": null,
       "_view_module_version": "~0.7.3"
      }
     },
     "c77e4066aff442c6bec059169f786e1e": {
      "model_module": "@jupyter-widgets/controls",
      "model_module_version": "1.2.0",
      "model_name": "ButtonModel",
      "state": {
       "description": "Check dates",
       "layout": "IPY_MODEL_78cd97b539a146518b1336d248121544",
       "style": "IPY_MODEL_7b5fb97682184939a76021f60838a1bb",
       "tooltip": "Click me"
      }
     },
     "c782a8e6b9904ce2853906b11c33c4c3": {
      "model_module": "@jupyter-widgets/controls",
      "model_module_version": "1.2.0",
      "model_name": "LabelModel",
      "state": {
       "layout": "IPY_MODEL_b235025343b64c53a651290ffb21327b",
       "style": "IPY_MODEL_e4d5f67c42884091b7acfe2876231c78",
       "value": "Is my start date valid?"
      }
     },
     "c7a110aec5ae4a06b2a9954e4385b502": {
      "model_module": "@jupyter-widgets/base",
      "model_module_version": "1.0.0",
      "model_name": "LayoutModel",
      "state": {}
     },
     "c7e9d8d1cc4f49c6947a6d78ee08e25d": {
      "model_module": "@jupyter-widgets/controls",
      "model_module_version": "1.2.0",
      "model_name": "ButtonModel",
      "state": {
       "description": "Select File",
       "icon": "square-o",
       "layout": "IPY_MODEL_4d5ce2fc5004436c867eea9e391f007e",
       "style": "IPY_MODEL_af553cb2e8c143f3a02fac95310715db"
      }
     },
     "c8974032631a4fc3836604f9aa9f8b7f": {
      "model_module": "@jupyter-widgets/base",
      "model_module_version": "1.0.0",
      "model_name": "LayoutModel",
      "state": {}
     },
     "c8ac9efe63434ea5bbb3afc04da4396c": {
      "model_module": "@jupyter-widgets/controls",
      "model_module_version": "1.2.0",
      "model_name": "DescriptionStyleModel",
      "state": {
       "description_width": "initial"
      }
     },
     "c9625eeb30794e2d83c82c49071a512c": {
      "model_module": "@jupyter-widgets/base",
      "model_module_version": "1.0.0",
      "model_name": "LayoutModel",
      "state": {}
     },
     "c9c25c7efa2f41fb8cd5d703ef96c64f": {
      "model_module": "@jupyter-widgets/controls",
      "model_module_version": "1.2.0",
      "model_name": "ButtonStyleModel",
      "state": {}
     },
     "c9c35a7167014c7cb8c20cf17bef07a4": {
      "model_module": "@jupyter-widgets/base",
      "model_module_version": "1.0.0",
      "model_name": "LayoutModel",
      "state": {}
     },
     "ca0d0eaeaabd4543a84655bd5c7a546a": {
      "model_module": "@jupyter-widgets/base",
      "model_module_version": "1.0.0",
      "model_name": "LayoutModel",
      "state": {
       "width": "70%"
      }
     },
     "ca13ea05a65d4773b21fe02b041cbf27": {
      "model_module": "@jupyter-widgets/controls",
      "model_module_version": "1.2.0",
      "model_name": "DescriptionStyleModel",
      "state": {
       "description_width": ""
      }
     },
     "cc41447f4be74e5fb5cd60506285a781": {
      "model_module": "jupyter-leaflet",
      "model_module_version": "~0.7.3",
      "model_name": "LeafletTileLayerModel",
      "state": {
       "_model_module_version": "~0.7.3",
       "_view_count": null,
       "_view_module_version": "~0.7.3",
       "base": true,
       "max_zoom": 19,
       "min_zoom": 1,
       "options": [
        "attribution",
        "detect_retina",
        "max_zoom",
        "min_zoom",
        "tile_size"
       ]
      }
     },
     "cc584e0ddd724683939b115c53c7727b": {
      "model_module": "@jupyter-widgets/controls",
      "model_module_version": "1.2.0",
      "model_name": "TextModel",
      "state": {
       "description": "end date",
       "layout": "IPY_MODEL_1dc2608954e04b929d8dab164fa5660d",
       "placeholder": "update this field YYYY-MM-DD",
       "style": "IPY_MODEL_f7b7eab4f6614845a2741b174f152f54",
       "value": "2013-05-31"
      }
     },
     "cd14fa69dcf34d2abadfab7f1f78f42b": {
      "model_module": "@jupyter-widgets/controls",
      "model_module_version": "1.2.0",
      "model_name": "LabelModel",
      "state": {
       "layout": "IPY_MODEL_290ed6cd58db4c4a865f9d3081f212e9",
       "style": "IPY_MODEL_2d4c273233cb4683911ce72427fa6a7d",
       "value": "Start date is valid"
      }
     },
     "cd59f03bd39b4544bae61f4d8ab47bb0": {
      "model_module": "@jupyter-widgets/base",
      "model_module_version": "1.0.0",
      "model_name": "LayoutModel",
      "state": {}
     },
     "cda8475016764eb2aa03e5e399ba4c65": {
      "model_module": "@jupyter-widgets/controls",
      "model_module_version": "1.2.0",
      "model_name": "TextModel",
      "state": {
       "description": "end date",
       "layout": "IPY_MODEL_bb3606b245d54f048ebbc1c16fff3545",
       "placeholder": "update this field YYYY-MM-DD",
       "style": "IPY_MODEL_1c7e036e565542b7a8914370d901d1d6",
       "value": "2013-05-31"
      }
     },
     "ce8164946b664d8dad05de573daba3b1": {
      "model_module": "@jupyter-widgets/base",
      "model_module_version": "1.0.0",
      "model_name": "LayoutModel",
      "state": {}
     },
     "cf15a92a905f4fb2ad229c1e08d54f53": {
      "model_module": "@jupyter-widgets/controls",
      "model_module_version": "1.2.0",
      "model_name": "HBoxModel",
      "state": {
       "children": [
        "IPY_MODEL_98590b429d734e758ec912af529f8d95",
        "IPY_MODEL_f979c91206b04dc89195308c53699b5e"
       ],
       "layout": "IPY_MODEL_2b1add0a18d24c878cd1274830d101e7"
      }
     },
     "cf28a2f78efc4ad68716f4acb9fa2553": {
      "model_module": "@jupyter-widgets/controls",
      "model_module_version": "1.2.0",
      "model_name": "ButtonModel",
      "state": {
       "description": "Select File",
       "icon": "square-o",
       "layout": "IPY_MODEL_5be45dd7db0346e58e732c45983d45ff",
       "style": "IPY_MODEL_70f5981c117f45c1be000effcfcc0d03"
      }
     },
     "cf79f0110e9947668e6807c5a91e210f": {
      "model_module": "@jupyter-widgets/base",
      "model_module_version": "1.0.0",
      "model_name": "LayoutModel",
      "state": {}
     },
     "d028be6fbce94d838f2d7031352186e1": {
      "model_module": "@jupyter-widgets/controls",
      "model_module_version": "1.2.0",
      "model_name": "ButtonModel",
      "state": {
       "description": "Select File",
       "icon": "square-o",
       "layout": "IPY_MODEL_f6dddb58edc048ada2487c4c153b967d",
       "style": "IPY_MODEL_a6e33d8700884aa7b9f3c9fc52b467a9"
      }
     },
     "d0306c8f545d43b7ab7c94e948fd28b5": {
      "model_module": "@jupyter-widgets/controls",
      "model_module_version": "1.2.0",
      "model_name": "ButtonModel",
      "state": {
       "description": "Load and Calculate",
       "layout": "IPY_MODEL_b819085dd3bf4a1f9f082187a8a0c588",
       "style": "IPY_MODEL_acfb169d760a4551a9b48880b5d7aab1"
      }
     },
     "d055c7b3f15a46b287a387ad4bb383b2": {
      "model_module": "@jupyter-widgets/controls",
      "model_module_version": "1.2.0",
      "model_name": "LabelModel",
      "state": {
       "layout": "IPY_MODEL_49d33c5c42344cabb097bc8c051ca76f",
       "style": "IPY_MODEL_ba0a4ad84619480c8f8671efe16fa6d7",
       "value": "Start date is valid"
      }
     },
     "d059f19b453c40f4bf59f0526c822e2e": {
      "model_module": "@jupyter-widgets/controls",
      "model_module_version": "1.2.0",
      "model_name": "DescriptionStyleModel",
      "state": {
       "description_width": ""
      }
     },
     "d06ec96640d0453fab6baf142c344a25": {
      "model_module": "@jupyter-widgets/base",
      "model_module_version": "1.0.0",
      "model_name": "LayoutModel",
      "state": {}
     },
     "d0a326b80a1847268b631b8e397adb37": {
      "model_module": "@jupyter-widgets/base",
      "model_module_version": "1.0.0",
      "model_name": "LayoutModel",
      "state": {}
     },
     "d0e2a22a6d394babba05088a803878db": {
      "model_module": "@jupyter-widgets/controls",
      "model_module_version": "1.2.0",
      "model_name": "TextModel",
      "state": {
       "description": "start date",
       "layout": "IPY_MODEL_4ea17b0f48e4415c9111925c093c1ceb",
       "placeholder": "update this field YYYY-MM-DD",
       "style": "IPY_MODEL_9d57f263caf2440b905352798df5f9c4",
       "value": "2013-05-01"
      }
     },
     "d107289f230143808f5b22db46c5255a": {
      "model_module": "@jupyter-widgets/controls",
      "model_module_version": "1.2.0",
      "model_name": "LabelModel",
      "state": {
       "layout": "IPY_MODEL_a2e63fe0bcc74efcaa0a79c5af2d4d6e",
       "style": "IPY_MODEL_201176c45b884d79935aaf67c74c5478",
       "value": "Start date is valid"
      }
     },
     "d19b6b11f8cf4c22a21fa7c7f0aab450": {
      "model_module": "@jupyter-widgets/controls",
      "model_module_version": "1.2.0",
      "model_name": "HBoxModel",
      "state": {
       "children": [
        "IPY_MODEL_deaffec27d5e4652896beee0893aae88",
        "IPY_MODEL_9e63789a886b4fe99ce3726ab79c0066"
       ],
       "layout": "IPY_MODEL_faa5993b56d8495fa6895857e3658ffa"
      }
     },
     "d1ce4baf1c1946218a5db41c146e20a3": {
      "model_module": "@jupyter-widgets/controls",
      "model_module_version": "1.2.0",
      "model_name": "ButtonStyleModel",
      "state": {
       "button_color": "lightgreen"
      }
     },
     "d2232a3d78a54363bdaf423a3490748d": {
      "model_module": "@jupyter-widgets/base",
      "model_module_version": "1.0.0",
      "model_name": "LayoutModel",
      "state": {}
     },
     "d2f73fe14e77435d9b139e642717f3e6": {
      "model_module": "@jupyter-widgets/base",
      "model_module_version": "1.0.0",
      "model_name": "LayoutModel",
      "state": {}
     },
     "d2f7e71c3fee42f390ba485f2c05eabf": {
      "model_module": "@jupyter-widgets/controls",
      "model_module_version": "1.2.0",
      "model_name": "ButtonModel",
      "state": {
       "description": "Check shapefile",
       "layout": "IPY_MODEL_99de0ea53f624b8187511ded54552df0",
       "style": "IPY_MODEL_c09e94a81971461eae1d84f3b61d7015",
       "tooltip": "Click me"
      }
     },
     "d3094d37aa524703a8f8613d66c76cd2": {
      "model_module": "@jupyter-widgets/base",
      "model_module_version": "1.0.0",
      "model_name": "LayoutModel",
      "state": {}
     },
     "d310ca5d8f004872871e7b57fe0c363e": {
      "model_module": "@jupyter-widgets/base",
      "model_module_version": "1.0.0",
      "model_name": "LayoutModel",
      "state": {
       "height": "400px",
       "width": "400px"
      }
     },
     "d64bd31266384144b86b9361ef60aa3d": {
      "model_module": "@jupyter-widgets/controls",
      "model_module_version": "1.2.0",
      "model_name": "HBoxModel",
      "state": {
       "children": [
        "IPY_MODEL_b0fff64c7bf640de85bf8936b308c5e5",
        "IPY_MODEL_e7c0c3b5e9f343b28ed39cfa1f77d5b3"
       ],
       "layout": "IPY_MODEL_0ded9e85c1684fb79911f54dd2114983"
      }
     },
     "d793185eb2f54a6582f55283757a96ae": {
      "model_module": "@jupyter-widgets/base",
      "model_module_version": "1.0.0",
      "model_name": "LayoutModel",
      "state": {}
     },
     "d7fa534ade4e48eeb38b6f81b5b0a21c": {
      "model_module": "@jupyter-widgets/controls",
      "model_module_version": "1.2.0",
      "model_name": "ButtonStyleModel",
      "state": {}
     },
     "d7feb4af820e4049ac57cbe3bbf5ed18": {
      "model_module": "@jupyter-widgets/controls",
      "model_module_version": "1.2.0",
      "model_name": "ButtonStyleModel",
      "state": {
       "button_color": "orange"
      }
     },
     "d8389cb50ede49ef8a0c8c788b5c8f3f": {
      "model_module": "@jupyter-widgets/controls",
      "model_module_version": "1.2.0",
      "model_name": "DescriptionStyleModel",
      "state": {
       "description_width": ""
      }
     },
     "d8a49451cf884032826f923a85bb3868": {
      "model_module": "@jupyter-widgets/controls",
      "model_module_version": "1.2.0",
      "model_name": "HBoxModel",
      "state": {
       "children": [
        "IPY_MODEL_5ea4e0ad48584e559bbefed7a9c193ad",
        "IPY_MODEL_ee603be6430541f3b895363f410bfe9d"
       ],
       "layout": "IPY_MODEL_2ec103a608a340f8852f92f721a4a304"
      }
     },
     "d975224207414ea485898a33cb46f410": {
      "model_module": "@jupyter-widgets/controls",
      "model_module_version": "1.2.0",
      "model_name": "ButtonModel",
      "state": {
       "description": "Check dates",
       "layout": "IPY_MODEL_3bbc30eab3974db3af83ad1f124f2b11",
       "style": "IPY_MODEL_bcd2f5ddff5942f9a30e00843256708b",
       "tooltip": "Click me"
      }
     },
     "d9cc6b9ca23d4056ac4c7abadd297834": {
      "model_module": "jupyter-leaflet",
      "model_module_version": "~0.7.3",
      "model_name": "LeafletTileLayerModel",
      "state": {
       "_model_module_version": "~0.7.3",
       "_view_count": null,
       "_view_module_version": "~0.7.3",
       "attribution": "Tiles &copy; Esri &mdash; Source: Esri, i-cubed, USDA, USGS, AEX, GeoEye, Getmapping, Aerogrid, IGN, IGP, UPR-EGP, and the GIS User Community",
       "base": true,
       "max_zoom": 20,
       "min_zoom": 1,
       "name": "Esri.WorldImagery",
       "options": [
        "attribution",
        "detect_retina",
        "max_zoom",
        "min_zoom",
        "tile_size"
       ],
       "url": "http://server.arcgisonline.com/ArcGIS/rest/services/World_Imagery/MapServer/tile/{z}/{y}/{x}"
      }
     },
     "d9e32016a1b74f50a95aeab3b64dc08c": {
      "model_module": "@jupyter-widgets/controls",
      "model_module_version": "1.2.0",
      "model_name": "ButtonModel",
      "state": {
       "description": "Check dates",
       "layout": "IPY_MODEL_04549259baa04593b56e61947ee0457c",
       "style": "IPY_MODEL_281d5202b1a8441a96fc6d7adeedf866",
       "tooltip": "Click me"
      }
     },
     "da580ae95192467e95dc522735d2a142": {
      "model_module": "@jupyter-widgets/base",
      "model_module_version": "1.0.0",
      "model_name": "LayoutModel",
      "state": {}
     },
     "daafd1aa63e649cf899de813827625c6": {
      "model_module": "@jupyter-widgets/controls",
      "model_module_version": "1.2.0",
      "model_name": "ButtonModel",
      "state": {
       "description": "Plot Geomedian",
       "layout": "IPY_MODEL_e8fa472034b548a0ae5c714d0ce52497",
       "style": "IPY_MODEL_42e43b5424444aedb21d513ceed64783"
      }
     },
     "dab0eba966f94be9968fc8f22a346f92": {
      "model_module": "jupyter-leaflet",
      "model_module_version": "~0.7.3",
      "model_name": "LeafletFeatureGroupModel",
      "state": {
       "_model_module_version": "~0.7.3",
       "_view_count": null,
       "_view_module_version": "~0.7.3"
      }
     },
     "db1b22d2392449669b865df5cfdb623b": {
      "model_module": "@jupyter-widgets/base",
      "model_module_version": "1.0.0",
      "model_name": "LayoutModel",
      "state": {}
     },
     "db6779d58ce3470092a2b8228fae0266": {
      "model_module": "@jupyter-widgets/controls",
      "model_module_version": "1.2.0",
      "model_name": "ButtonStyleModel",
      "state": {}
     },
     "dbd3a45ae7994bd8b720337725dfa614": {
      "model_module": "@jupyter-widgets/base",
      "model_module_version": "1.0.0",
      "model_name": "LayoutModel",
      "state": {}
     },
     "dc17c2b3595b42c9b62dc0306d8bcedf": {
      "model_module": "@jupyter-widgets/controls",
      "model_module_version": "1.2.0",
      "model_name": "ButtonModel",
      "state": {
       "description": "Select File",
       "icon": "square-o",
       "layout": "IPY_MODEL_8c923cab4b89481fa076d3fb0b1100a8",
       "style": "IPY_MODEL_01819856b4294c388e18a45cddd562ee"
      }
     },
     "dc7f10f89368424c8e4ed67eeb59a077": {
      "model_module": "@jupyter-widgets/base",
      "model_module_version": "1.0.0",
      "model_name": "LayoutModel",
      "state": {}
     },
     "dcd6422b20944a7fa52acf8112137471": {
      "model_module": "@jupyter-widgets/controls",
      "model_module_version": "1.2.0",
      "model_name": "DescriptionStyleModel",
      "state": {
       "description_width": "initial"
      }
     },
     "dd1f9734ee7844389c2cf8796de71cab": {
      "model_module": "@jupyter-widgets/base",
      "model_module_version": "1.0.0",
      "model_name": "LayoutModel",
      "state": {}
     },
     "dd5aa7a7601d4e0fa4f076f93aed3efb": {
      "model_module": "@jupyter-widgets/controls",
      "model_module_version": "1.2.0",
      "model_name": "DescriptionStyleModel",
      "state": {
       "description_width": ""
      }
     },
     "dd95bbfa7ce6443db4902dd7920ee24c": {
      "model_module": "@jupyter-widgets/controls",
      "model_module_version": "1.2.0",
      "model_name": "ButtonModel",
      "state": {
       "description": "Load and Calculate",
       "layout": "IPY_MODEL_36b9096d85b24740b00ad28b8b518d05",
       "style": "IPY_MODEL_db6779d58ce3470092a2b8228fae0266"
      }
     },
     "de8d2a3df708475daa58c63d644bfb47": {
      "model_module": "@jupyter-widgets/controls",
      "model_module_version": "1.2.0",
      "model_name": "ButtonModel",
      "state": {
       "description": "Load and Calculate",
       "layout": "IPY_MODEL_e92af02e1ce7477387f8d7df93efb96f",
       "style": "IPY_MODEL_8d3a7ddbd43449fda414bbcab67aec76"
      }
     },
     "deaffec27d5e4652896beee0893aae88": {
      "model_module": "@jupyter-widgets/controls",
      "model_module_version": "1.2.0",
      "model_name": "TextModel",
      "state": {
       "description": "end date",
       "layout": "IPY_MODEL_355708fde7ee4a37b80c8b82a8829141",
       "placeholder": "update this field YYYY-MM-DD",
       "style": "IPY_MODEL_68a6fed10a254017a3e06932620e2b63",
       "value": "2013-05-31"
      }
     },
     "deb3f9fe2aa84f239821b8726f6e4977": {
      "model_module": "@jupyter-widgets/base",
      "model_module_version": "1.0.0",
      "model_name": "LayoutModel",
      "state": {
       "width": "70%"
      }
     },
     "dfb5ce1e6aa74798b0b7bab92da62a41": {
      "model_module": "@jupyter-widgets/base",
      "model_module_version": "1.0.0",
      "model_name": "LayoutModel",
      "state": {}
     },
     "dfe1a55b616b44daaa569ae2b7593d03": {
      "model_module": "@jupyter-widgets/controls",
      "model_module_version": "1.2.0",
      "model_name": "ButtonStyleModel",
      "state": {}
     },
     "e0ce034c1cda48cc99984442d785d4e3": {
      "model_module": "@jupyter-widgets/controls",
      "model_module_version": "1.2.0",
      "model_name": "VBoxModel",
      "state": {
       "children": [
        "IPY_MODEL_d64bd31266384144b86b9361ef60aa3d",
        "IPY_MODEL_aac703271b874899b7d0d588d5d471a2"
       ],
       "layout": "IPY_MODEL_1657d0a4d0b346229834d54a2397e86c"
      }
     },
     "e0fbc3d5f91d4b9189496f1bcc9be3e0": {
      "model_module": "@jupyter-widgets/controls",
      "model_module_version": "1.2.0",
      "model_name": "ButtonModel",
      "state": {
       "description": "Plot Geomedian",
       "layout": "IPY_MODEL_58271b4d3ed44a9aa2820ca8290889c7",
       "style": "IPY_MODEL_c9c25c7efa2f41fb8cd5d703ef96c64f"
      }
     },
     "e139e6595e204c9aa73ba1a8acaefba6": {
      "model_module": "@jupyter-widgets/base",
      "model_module_version": "1.0.0",
      "model_name": "LayoutModel",
      "state": {}
     },
     "e13aa78458c7404eb421f4291ac52d46": {
      "model_module": "@jupyter-widgets/controls",
      "model_module_version": "1.2.0",
      "model_name": "TextModel",
      "state": {
       "description": "start date",
       "layout": "IPY_MODEL_4cf53202c189492999dd625799fc5753",
       "placeholder": "update this field YYYY-MM-DD",
       "style": "IPY_MODEL_617854336e094a8daada710c504e0f68",
       "value": "2013-03-01"
      }
     },
     "e1693b98f269484a883b2e256d9ea0c0": {
      "model_module": "@jupyter-widgets/controls",
      "model_module_version": "1.2.0",
      "model_name": "ButtonModel",
      "state": {
       "description": "File Name Specified",
       "icon": "check-square-o",
       "layout": "IPY_MODEL_e2426f4844fb42399534809cf3d7fbf0",
       "style": "IPY_MODEL_0af8705550a544c2bf5f19c7252b1a0b"
      }
     },
     "e2426f4844fb42399534809cf3d7fbf0": {
      "model_module": "@jupyter-widgets/base",
      "model_module_version": "1.0.0",
      "model_name": "LayoutModel",
      "state": {}
     },
     "e2a88f5fa4ff40deb97b478d65146b26": {
      "model_module": "@jupyter-widgets/controls",
      "model_module_version": "1.2.0",
      "model_name": "HBoxModel",
      "state": {
       "children": [
        "IPY_MODEL_fb713ab3f0724bbea21de037c2880ee4",
        "IPY_MODEL_174b48ab17ae489888887fbf0929fb8f"
       ],
       "layout": "IPY_MODEL_543df75902804d5caac4d1ce1ca9f4f2"
      }
     },
     "e2aeb99e098f4471bfb9fcb1fd405778": {
      "model_module": "jupyter-leaflet",
      "model_module_version": "~0.7.3",
      "model_name": "LeafletFeatureGroupModel",
      "state": {
       "_model_module_version": "~0.7.3",
       "_view_count": null,
       "_view_module_version": "~0.7.3"
      }
     },
     "e34cb72f9cbf4f0caa65673d7561936b": {
      "model_module": "@jupyter-widgets/controls",
      "model_module_version": "1.2.0",
      "model_name": "LabelModel",
      "state": {
       "layout": "IPY_MODEL_6801ba7497a8497ca253f4bd8fc32399",
       "style": "IPY_MODEL_2b597281a7e94be9928de045f59e8450",
       "value": "End date is valid"
      }
     },
     "e3570122e1524882873e1815ae8bd836": {
      "model_module": "@jupyter-widgets/base",
      "model_module_version": "1.0.0",
      "model_name": "LayoutModel",
      "state": {}
     },
     "e3af97b1f0664e7cb18faede2d9b492c": {
      "model_module": "@jupyter-widgets/base",
      "model_module_version": "1.0.0",
      "model_name": "LayoutModel",
      "state": {}
     },
     "e431d41473af43e99c3637cb42a6eff3": {
      "model_module": "@jupyter-widgets/controls",
      "model_module_version": "1.2.0",
      "model_name": "TextModel",
      "state": {
       "description": "path to shape file",
       "layout": "IPY_MODEL_9a428dfce6ea4ec5a99dba5d39e72f24",
       "placeholder": "/g/data1a/r78/rjd547/groundwater_activities/Burdekin/Burdekin_shapefiles/fels_sml.shp",
       "style": "IPY_MODEL_3601092120214ef2906500c7edcb3184",
       "value": "'/g/data1a/r78/rjd547/groundwater_activities/Burdekin/Burdekin_shapefiles/fels_sml.shp'"
      }
     },
     "e4af995e6a8a477d908adaf113859c44": {
      "model_module": "@jupyter-widgets/controls",
      "model_module_version": "1.2.0",
      "model_name": "VBoxModel",
      "state": {
       "children": [
        "IPY_MODEL_b2c46c31642e470281191ef8171df71a",
        "IPY_MODEL_a8dfb18669774fb28d3f4fb038adc1c7"
       ],
       "layout": "IPY_MODEL_443da1e8733548c4bf0f9cc3e666724d"
      }
     },
     "e4d5f67c42884091b7acfe2876231c78": {
      "model_module": "@jupyter-widgets/controls",
      "model_module_version": "1.2.0",
      "model_name": "DescriptionStyleModel",
      "state": {
       "description_width": ""
      }
     },
     "e516dd49b551432f93b8b7ed869b190e": {
      "model_module": "@jupyter-widgets/controls",
      "model_module_version": "1.2.0",
      "model_name": "LabelModel",
      "state": {
       "layout": "IPY_MODEL_32ae61e0106a40e98638e29813f07a8b",
       "style": "IPY_MODEL_5a18379e7ccf431c90739d796afe504a",
       "value": "End date is valid"
      }
     },
     "e51d80062b924c45b52ed4b2222c0201": {
      "model_module": "@jupyter-widgets/controls",
      "model_module_version": "1.2.0",
      "model_name": "ButtonModel",
      "state": {
       "description": "Load and Calculate",
       "layout": "IPY_MODEL_9230794d5e7b40f997723471946dc1d7",
       "style": "IPY_MODEL_61cd1e36635d49a783c62496f20f8e82"
      }
     },
     "e534741621cb4c308d4e8bed71769dc3": {
      "model_module": "@jupyter-widgets/base",
      "model_module_version": "1.0.0",
      "model_name": "LayoutModel",
      "state": {}
     },
     "e55ef1cc031045b9a0578c32fc1be067": {
      "model_module": "@jupyter-widgets/controls",
      "model_module_version": "1.2.0",
      "model_name": "TextModel",
      "state": {
       "description": "path to shape file",
       "layout": "IPY_MODEL_117f4ccb1ad34bdbb94a852e96e5b0de",
       "placeholder": "/g/data1a/r78/rjd547/groundwater_activities/Burdekin/Burdekin_shapefiles/fels_sml.shp",
       "style": "IPY_MODEL_834e7fd185324a9ea47b4a4b2d0a6963",
       "value": "/g/data1a/r78/rjd547/groundwater_activities/Burdekin/Burdekin_shapefiles/fels_sml.shp"
      }
     },
     "e61145e8e68f4a9185d2f6ac9d974659": {
      "model_module": "@jupyter-widgets/base",
      "model_module_version": "1.0.0",
      "model_name": "LayoutModel",
      "state": {}
     },
     "e6b8a7f5063d42aa92d0237ad51ecc1d": {
      "model_module": "@jupyter-widgets/controls",
      "model_module_version": "1.2.0",
      "model_name": "ButtonStyleModel",
      "state": {}
     },
     "e74572e3878c4e2d859b1eb430fe897c": {
      "model_module": "@jupyter-widgets/base",
      "model_module_version": "1.0.0",
      "model_name": "LayoutModel",
      "state": {}
     },
     "e7ae1505eb1e432a88fb9ad4562a2566": {
      "model_module": "@jupyter-widgets/controls",
      "model_module_version": "1.2.0",
      "model_name": "ButtonModel",
      "state": {
       "description": "Select File",
       "icon": "square-o",
       "layout": "IPY_MODEL_2e83cd260d6e4ca6be9b39bd8f01ae99",
       "style": "IPY_MODEL_3ea73809b88a46c7aef343413929f5c2"
      }
     },
     "e7c0c3b5e9f343b28ed39cfa1f77d5b3": {
      "model_module": "jupyter-leaflet",
      "model_module_version": "~0.7.3",
      "model_name": "LeafletMapModel",
      "state": {
       "_dom_classes": [],
       "_model_module_version": "~0.7.3",
       "_view_count": null,
       "_view_module_version": "~0.7.3",
       "basemap": {
        "attribution": "Tiles &copy; Esri &mdash; Source: Esri, i-cubed, USDA, USGS, AEX, GeoEye, Getmapping, Aerogrid, IGN, IGP, UPR-EGP, and the GIS User Community",
        "max_zoom": 20,
        "name": "Esri.WorldImagery",
        "url": "http://server.arcgisonline.com/ArcGIS/rest/services/World_Imagery/MapServer/tile/{z}/{y}/{x}"
       },
       "center": [
        -20.023677645296186,
        145.14072418212893
       ],
       "controls": [
        "IPY_MODEL_2cd8e812d9fe44a9b5416803cedde042"
       ],
       "east": 145.20629882812503,
       "layers": [
        "IPY_MODEL_018f5ff7b4dd43a88ca1f1f5a0b15a97",
        "IPY_MODEL_0a4b4d515735488cb8135afec4726d67"
       ],
       "layout": "IPY_MODEL_a511f615f75d444fb171ad609e287036",
       "modisdate": "yesterday",
       "north": -19.959150559427233,
       "options": [
        "attribution_control",
        "basemap",
        "bounce_at_zoom_limits",
        "box_zoom",
        "center",
        "close_popup_on_click",
        "double_click_zoom",
        "dragging",
        "inertia",
        "inertia_deceleration",
        "inertia_max_speed",
        "keyboard",
        "keyboard_pan_offset",
        "keyboard_zoom_offset",
        "max_zoom",
        "min_zoom",
        "scroll_wheel_zoom",
        "tap",
        "tap_tolerance",
        "touch_zoom",
        "world_copy_jump",
        "zoom",
        "zoom_animation_threshold",
        "zoom_control",
        "zoom_start"
       ],
       "south": -20.08817825791709,
       "west": 145.07514953613284
      }
     },
     "e81b8b9fe7bf422e927b62cdaa382304": {
      "model_module": "@jupyter-widgets/controls",
      "model_module_version": "1.2.0",
      "model_name": "LabelModel",
      "state": {
       "layout": "IPY_MODEL_a33ddcb9b4cf41338af4311f510b83d7",
       "style": "IPY_MODEL_9e8b4c6db7a240b798a084c5085197ac",
       "value": "Start date is valid"
      }
     },
     "e8782e328099437ba11246716738ee1c": {
      "model_module": "@jupyter-widgets/base",
      "model_module_version": "1.0.0",
      "model_name": "LayoutModel",
      "state": {}
     },
     "e889be69f558443ba0a23b330c56306d": {
      "model_module": "@jupyter-widgets/controls",
      "model_module_version": "1.2.0",
      "model_name": "ButtonModel",
      "state": {
       "description": "Check dates",
       "layout": "IPY_MODEL_7894c1c32b6f469eb9a1a718791b778c",
       "style": "IPY_MODEL_7b828e228ccd4650a1a98983de6087b4",
       "tooltip": "Click me"
      }
     },
     "e8fa472034b548a0ae5c714d0ce52497": {
      "model_module": "@jupyter-widgets/base",
      "model_module_version": "1.0.0",
      "model_name": "LayoutModel",
      "state": {}
     },
     "e90f608c153d43f8b67a19eae18e4f85": {
      "model_module": "jupyter-leaflet",
      "model_module_version": "1.0.0",
      "model_name": "LeafletMapModel",
      "state": {
       "_dom_classes": [],
       "_east": 145.62652587890628,
       "_model_module_version": "1.0.0",
       "_north": -19.77704220222595,
       "_south": -20.29311344754411,
       "_view_count": null,
       "_view_module_version": "",
       "_west": 145.09643554687503,
       "basemap": {
        "attribution": "Map data (c) <a href=\"https://openstreetmap.org\">OpenStreetMap</a> contributors",
        "max_zoom": 19,
        "url": "https://{s}.tile.openstreetmap.org/{z}/{x}/{y}.png"
       },
       "center": [
        -20.035289711352377,
        145.36148071289065
       ],
       "controls": [
        "IPY_MODEL_ea717667d4e541afb0b037c380e88af5"
       ],
       "default_tiles": "IPY_MODEL_7194b5cf027246f382057e3cb2b85972",
       "layers": [
        "IPY_MODEL_7194b5cf027246f382057e3cb2b85972",
        "IPY_MODEL_fdc71f12b20249f981baf521e4881afb"
       ],
       "layout": "IPY_MODEL_8061f6f2ae43464b82c7b3b21badb9fd",
       "modisdate": "yesterday",
       "options": [
        "attribution_control",
        "basemap",
        "bounce_at_zoom_limits",
        "box_zoom",
        "center",
        "close_popup_on_click",
        "double_click_zoom",
        "dragging",
        "inertia",
        "inertia_deceleration",
        "inertia_max_speed",
        "keyboard",
        "keyboard_pan_offset",
        "keyboard_zoom_offset",
        "max_zoom",
        "min_zoom",
        "scroll_wheel_zoom",
        "tap",
        "tap_tolerance",
        "touch_zoom",
        "world_copy_jump",
        "zoom",
        "zoom_animation_threshold",
        "zoom_control",
        "zoom_start"
       ],
       "zoom": 10
      }
     },
     "e92af02e1ce7477387f8d7df93efb96f": {
      "model_module": "@jupyter-widgets/base",
      "model_module_version": "1.0.0",
      "model_name": "LayoutModel",
      "state": {}
     },
     "ea717667d4e541afb0b037c380e88af5": {
      "model_module": "jupyter-leaflet",
      "model_module_version": "1.0.0",
      "model_name": "LeafletDrawControlModel",
      "state": {
       "_model_module_version": "1.0.0",
       "_view_count": null,
       "_view_module_version": "",
       "layer": "IPY_MODEL_b0c91d2f62684ba790cc0b04d33b75b5",
       "polyline": {}
      }
     },
     "ea9bd06331fa4da9a0c6ea104562a415": {
      "model_module": "@jupyter-widgets/base",
      "model_module_version": "1.0.0",
      "model_name": "LayoutModel",
      "state": {}
     },
     "ebb7039674984f278a048db5c39a4015": {
      "model_module": "@jupyter-widgets/base",
      "model_module_version": "1.0.0",
      "model_name": "LayoutModel",
      "state": {}
     },
     "ec2f13a4e7cb49d3b7b6a83ceea6f8ac": {
      "model_module": "@jupyter-widgets/controls",
      "model_module_version": "1.2.0",
      "model_name": "HBoxModel",
      "state": {
       "children": [
        "IPY_MODEL_45b3d745a6d240f1b77fdb59cb0910a5",
        "IPY_MODEL_6edced4f0f6946c9b893a883dcecbb56"
       ],
       "layout": "IPY_MODEL_c9625eeb30794e2d83c82c49071a512c"
      }
     },
     "ec83a0a988274e55b47cc10e651b62c9": {
      "model_module": "@jupyter-widgets/controls",
      "model_module_version": "1.2.0",
      "model_name": "DescriptionStyleModel",
      "state": {
       "description_width": ""
      }
     },
     "ecce6cc4d658463c83ccc7763f6683ed": {
      "model_module": "@jupyter-widgets/controls",
      "model_module_version": "1.2.0",
      "model_name": "VBoxModel",
      "state": {
       "children": [
        "IPY_MODEL_67b628091d574c14b232a851a37c9a91",
        "IPY_MODEL_06a9bebf98e14bb9b8982f976fa91d3d"
       ],
       "layout": "IPY_MODEL_5d18532946984a64a963505ab74e65f9"
      }
     },
     "ecd6ba4789bd43aebdee99207e78e975": {
      "model_module": "@jupyter-widgets/base",
      "model_module_version": "1.0.0",
      "model_name": "LayoutModel",
      "state": {}
     },
     "ed3f7c0f8763411bb4e7f476dd68b5db": {
      "model_module": "@jupyter-widgets/controls",
      "model_module_version": "1.2.0",
      "model_name": "ButtonModel",
      "state": {
       "description": "Check dates",
       "layout": "IPY_MODEL_c7a110aec5ae4a06b2a9954e4385b502",
       "style": "IPY_MODEL_99e441d3240c4c9b8fd9a0fbda86e93e",
       "tooltip": "Click me"
      }
     },
     "ed8c3d7c67884cad85df31dd37b026e7": {
      "model_module": "@jupyter-widgets/controls",
      "model_module_version": "1.2.0",
      "model_name": "ButtonStyleModel",
      "state": {
       "button_color": "lightgreen"
      }
     },
     "ed9fb2f8bbc94dc2aa0f667e16334364": {
      "model_module": "@jupyter-widgets/controls",
      "model_module_version": "1.2.0",
      "model_name": "TextModel",
      "state": {
       "description": "path to shape file",
       "layout": "IPY_MODEL_120a6ccf29574460831732e4a5013e7e",
       "placeholder": "choose a file",
       "style": "IPY_MODEL_8fcaf28a9b2e40f5b9e19330fbe2a252",
       "value": "/g/data1a/r78/rjd547/groundwater_activities/Burdekin/Burdekin_shapefiles/fels_sml.shp"
      }
     },
     "edb49d430860448589f51d68b2bc16a6": {
      "model_module": "@jupyter-widgets/controls",
      "model_module_version": "1.2.0",
      "model_name": "HBoxModel",
      "state": {
       "children": [
        "IPY_MODEL_81ca04121fd3480b976f71245e838f27",
        "IPY_MODEL_48f3138fb309491c95e63280af075847"
       ],
       "layout": "IPY_MODEL_4482c2ef667943f99a44e65be1ee0eac"
      }
     },
     "ee387ccbdf5b450fa19c7db93bc6b7e4": {
      "model_module": "jupyter-leaflet",
      "model_module_version": "~0.7.3",
      "model_name": "LeafletMapModel",
      "state": {
       "_dom_classes": [],
       "_model_module_version": "~0.7.3",
       "_view_count": null,
       "_view_module_version": "~0.7.3",
       "basemap": {
        "attribution": "Map data (c) <a href=\"https://openstreetmap.org\">OpenStreetMap</a> contributors",
        "max_zoom": 19,
        "url": "https://{s}.tile.openstreetmap.org/{z}/{x}/{y}.png"
       },
       "center": [
        -20.01851645170249,
        145.31307220458987
       ],
       "controls": [
        "IPY_MODEL_f4c1d747f1774be1ae7f2d4a4f3eef8b"
       ],
       "east": 145.44387817382815,
       "layers": [
        "IPY_MODEL_0df2d475d2f546be8fa8cf4d6b2ec3bc"
       ],
       "layout": "IPY_MODEL_d310ca5d8f004872871e7b57fe0c363e",
       "modisdate": "yesterday",
       "north": -19.889431653826637,
       "options": [
        "attribution_control",
        "basemap",
        "bounce_at_zoom_limits",
        "box_zoom",
        "center",
        "close_popup_on_click",
        "double_click_zoom",
        "dragging",
        "inertia",
        "inertia_deceleration",
        "inertia_max_speed",
        "keyboard",
        "keyboard_pan_offset",
        "keyboard_zoom_offset",
        "max_zoom",
        "min_zoom",
        "scroll_wheel_zoom",
        "tap",
        "tap_tolerance",
        "touch_zoom",
        "world_copy_jump",
        "zoom",
        "zoom_animation_threshold",
        "zoom_control",
        "zoom_start"
       ],
       "south": -20.147495379448873,
       "west": 145.1822662353516,
       "zoom": 11
      }
     },
     "ee603be6430541f3b895363f410bfe9d": {
      "model_module": "@jupyter-widgets/controls",
      "model_module_version": "1.2.0",
      "model_name": "LabelModel",
      "state": {
       "layout": "IPY_MODEL_c2aa517fae3146e2911aab9d1bdd9d5d",
       "style": "IPY_MODEL_9f3f1b940ce648b385a41a91c0ab5370",
       "value": "Is my end date valid?"
      }
     },
     "ee72430f1e5c458ebe58edde78e8ff46": {
      "model_module": "@jupyter-widgets/base",
      "model_module_version": "1.0.0",
      "model_name": "LayoutModel",
      "state": {
       "height": "400px",
       "width": "400px"
      }
     },
     "ee80a70b5ab84d278d3e4ff89f735eb1": {
      "model_module": "@jupyter-widgets/base",
      "model_module_version": "1.0.0",
      "model_name": "LayoutModel",
      "state": {}
     },
     "f040e906c030424fa440f5d0998e4b3b": {
      "model_module": "@jupyter-widgets/base",
      "model_module_version": "1.0.0",
      "model_name": "LayoutModel",
      "state": {}
     },
     "f06eb09a0c47488bb326fe8b5946a6f9": {
      "model_module": "@jupyter-widgets/controls",
      "model_module_version": "1.2.0",
      "model_name": "ButtonStyleModel",
      "state": {
       "button_color": "orange"
      }
     },
     "f09c90fcfcf4491086b9fef9edc2762f": {
      "model_module": "@jupyter-widgets/controls",
      "model_module_version": "1.2.0",
      "model_name": "LabelModel",
      "state": {
       "layout": "IPY_MODEL_1fad98d79a66429298486a1a30030f12",
       "style": "IPY_MODEL_8389bbc0f25f470db96b57cabc9511e8",
       "value": "End date is valid"
      }
     },
     "f2ecba1eb83e4aa689f9597b7f0feb25": {
      "model_module": "@jupyter-widgets/controls",
      "model_module_version": "1.2.0",
      "model_name": "ButtonModel",
      "state": {
       "description": "Plot Geomedian",
       "layout": "IPY_MODEL_e534741621cb4c308d4e8bed71769dc3",
       "style": "IPY_MODEL_9dab3f137e554c47bfaf77f87dff7f59"
      }
     },
     "f3282321ef284b419745185f7d1edac4": {
      "model_module": "jupyter-leaflet",
      "model_module_version": "~0.7.3",
      "model_name": "LeafletFeatureGroupModel",
      "state": {
       "_model_module_version": "~0.7.3",
       "_view_count": null,
       "_view_module_version": "~0.7.3"
      }
     },
     "f39fbaafe0b04cd6ad8248b6d1983d00": {
      "model_module": "@jupyter-widgets/controls",
      "model_module_version": "1.2.0",
      "model_name": "HBoxModel",
      "state": {
       "children": [
        "IPY_MODEL_ab771f2bebd64922a9e2c9c0e9fdaa2e",
        "IPY_MODEL_80c7508e62c84550a02b5c3a005f3ab8"
       ],
       "layout": "IPY_MODEL_ebb7039674984f278a048db5c39a4015"
      }
     },
     "f3c76ab1b421477682910ef3566e9408": {
      "model_module": "jupyter-leaflet",
      "model_module_version": "~0.7.3",
      "model_name": "LeafletGeoJSONModel",
      "state": {
       "_model_module_version": "~0.7.3",
       "_view_count": null,
       "_view_module_version": "~0.7.3",
       "data": {
        "geometry": {
         "coordinates": [
          [
           [
            145.297626,
            -19.919927
           ],
           [
            145.362216,
            -19.916053
           ],
           [
            145.375958,
            -19.9664
           ],
           [
            145.305872,
            -19.967691
           ],
           [
            145.297626,
            -19.919927
           ]
          ]
         ],
         "type": "Polygon"
        },
        "properties": {
         "style": {
          "clickable": true,
          "color": "#3388ff",
          "fill": true,
          "fillColor": null,
          "fillOpacity": 0.2,
          "opacity": 0.5,
          "stroke": true,
          "weight": 4
         }
        },
        "type": "Feature"
       }
      }
     },
     "f4c1d747f1774be1ae7f2d4a4f3eef8b": {
      "model_module": "jupyter-leaflet",
      "model_module_version": "~0.7.3",
      "model_name": "LeafletDrawControlModel",
      "state": {
       "_model_module_version": "~0.7.3",
       "_view_count": null,
       "_view_module_version": "~0.7.3",
       "layer": "IPY_MODEL_e2aeb99e098f4471bfb9fcb1fd405778",
       "polyline": {}
      }
     },
     "f522c4aff0d54ca39a8bbcc52fd5e516": {
      "model_module": "@jupyter-widgets/controls",
      "model_module_version": "1.2.0",
      "model_name": "ButtonStyleModel",
      "state": {
       "button_color": "orange"
      }
     },
     "f5555116589c495888baaa2dea015c33": {
      "model_module": "@jupyter-widgets/controls",
      "model_module_version": "1.2.0",
      "model_name": "DescriptionStyleModel",
      "state": {
       "description_width": "initial"
      }
     },
     "f6dddb58edc048ada2487c4c153b967d": {
      "model_module": "@jupyter-widgets/base",
      "model_module_version": "1.0.0",
      "model_name": "LayoutModel",
      "state": {}
     },
     "f72d7c91bcae465d90f1a6d586355f95": {
      "model_module": "jupyter-leaflet",
      "model_module_version": "~0.7.3",
      "model_name": "LeafletTileLayerModel",
      "state": {
       "_model_module_version": "~0.7.3",
       "_view_count": null,
       "_view_module_version": "~0.7.3",
       "base": true,
       "max_zoom": 19,
       "min_zoom": 1,
       "options": [
        "attribution",
        "detect_retina",
        "max_zoom",
        "min_zoom",
        "tile_size"
       ]
      }
     },
     "f7b7eab4f6614845a2741b174f152f54": {
      "model_module": "@jupyter-widgets/controls",
      "model_module_version": "1.2.0",
      "model_name": "DescriptionStyleModel",
      "state": {
       "description_width": ""
      }
     },
     "f7d9d9dd66324b45b8ccd116adb77fad": {
      "model_module": "@jupyter-widgets/base",
      "model_module_version": "1.0.0",
      "model_name": "LayoutModel",
      "state": {}
     },
     "f806737e8417453eb1a62f975a8fade0": {
      "model_module": "@jupyter-widgets/controls",
      "model_module_version": "1.2.0",
      "model_name": "ButtonModel",
      "state": {
       "description": "Select File",
       "icon": "square-o",
       "layout": "IPY_MODEL_5f99c4c47ea9494ca284b0984efbf4f2",
       "style": "IPY_MODEL_5c6170dfcfeb4e06bcefa27f13fbc527"
      }
     },
     "f843bf9393cf47eabe607814242f4956": {
      "model_module": "@jupyter-widgets/controls",
      "model_module_version": "1.2.0",
      "model_name": "TextModel",
      "state": {
       "description": "path to shape file",
       "layout": "IPY_MODEL_77fc84748b1440888652c8d35fc7a4d4",
       "placeholder": "choose a file",
       "style": "IPY_MODEL_c0643337f7724faca3f82150e63d4e0e",
       "value": "/g/data1a/r78/rjd547/groundwater_activities/Burdekin/Burdekin_shapefiles/fels_sml.shp"
      }
     },
     "f85b2e1d239443bebb635bfcd63d4059": {
      "model_module": "jupyter-leaflet",
      "model_module_version": "~0.7.3",
      "model_name": "LeafletFeatureGroupModel",
      "state": {
       "_model_module_version": "~0.7.3",
       "_view_count": null,
       "_view_module_version": "~0.7.3"
      }
     },
     "f924e7b4d91740cea01161181142f682": {
      "model_module": "@jupyter-widgets/controls",
      "model_module_version": "1.2.0",
      "model_name": "ButtonStyleModel",
      "state": {}
     },
     "f96fed83fd5a43ed9f4c6298b6a1fc4e": {
      "model_module": "@jupyter-widgets/controls",
      "model_module_version": "1.2.0",
      "model_name": "ButtonStyleModel",
      "state": {}
     },
     "f979c91206b04dc89195308c53699b5e": {
      "model_module": "@jupyter-widgets/controls",
      "model_module_version": "1.2.0",
      "model_name": "ButtonModel",
      "state": {
       "description": "Select File",
       "icon": "square-o",
       "layout": "IPY_MODEL_1be302601dec4e77a5af1bc94358b878",
       "style": "IPY_MODEL_f99f1f7bf33b4235a169a8221cc54bec"
      }
     },
     "f99f1f7bf33b4235a169a8221cc54bec": {
      "model_module": "@jupyter-widgets/controls",
      "model_module_version": "1.2.0",
      "model_name": "ButtonStyleModel",
      "state": {
       "button_color": "orange"
      }
     },
     "f9cf14f69e5c49f79538bc09d0f7b4e4": {
      "model_module": "@jupyter-widgets/base",
      "model_module_version": "1.0.0",
      "model_name": "LayoutModel",
      "state": {}
     },
     "fa0500b0cf9140169c8896665fdb6cfa": {
      "model_module": "@jupyter-widgets/controls",
      "model_module_version": "1.2.0",
      "model_name": "DescriptionStyleModel",
      "state": {
       "description_width": "initial"
      }
     },
     "faa5993b56d8495fa6895857e3658ffa": {
      "model_module": "@jupyter-widgets/base",
      "model_module_version": "1.0.0",
      "model_name": "LayoutModel",
      "state": {}
     },
     "fabead22666b4edf81b436f3aabe2c3c": {
      "model_module": "@jupyter-widgets/controls",
      "model_module_version": "1.2.0",
      "model_name": "TextModel",
      "state": {
       "description": "end date",
       "layout": "IPY_MODEL_c4bb477a9c4d431a845417a9f7b3c92f",
       "placeholder": "update this field YYYY-MM-DD",
       "style": "IPY_MODEL_32f959eae9ec46c2bafba09438849a35",
       "value": "2013-10-31"
      }
     },
     "fb49e2a250fe4fb68ecb25efe1208dc8": {
      "model_module": "@jupyter-widgets/base",
      "model_module_version": "1.0.0",
      "model_name": "LayoutModel",
      "state": {}
     },
     "fb713ab3f0724bbea21de037c2880ee4": {
      "model_module": "@jupyter-widgets/controls",
      "model_module_version": "1.2.0",
      "model_name": "TextModel",
      "state": {
       "description": "end date",
       "layout": "IPY_MODEL_e139e6595e204c9aa73ba1a8acaefba6",
       "placeholder": "update this field YYYY-MM-DD",
       "style": "IPY_MODEL_6e83e898d42144a1ad649b8b89c7652c",
       "value": "2013-05-31"
      }
     },
     "fb77445ba6e345d0a4a32c3d1005757e": {
      "model_module": "@jupyter-widgets/controls",
      "model_module_version": "1.2.0",
      "model_name": "DescriptionStyleModel",
      "state": {
       "description_width": ""
      }
     },
     "fb9aef14f2a9414ab8d9c04bb81c6782": {
      "model_module": "@jupyter-widgets/controls",
      "model_module_version": "1.2.0",
      "model_name": "DescriptionStyleModel",
      "state": {
       "description_width": ""
      }
     },
     "fbc917df6ba04424ad14aceed230467d": {
      "model_module": "@jupyter-widgets/base",
      "model_module_version": "1.0.0",
      "model_name": "LayoutModel",
      "state": {}
     },
     "fbdbf305a95c448cb4d41e31f9aba7f7": {
      "model_module": "@jupyter-widgets/controls",
      "model_module_version": "1.2.0",
      "model_name": "DescriptionStyleModel",
      "state": {
       "description_width": ""
      }
     },
     "fbfc053d45de4782a02e2d35962cbf98": {
      "model_module": "@jupyter-widgets/controls",
      "model_module_version": "1.2.0",
      "model_name": "TextModel",
      "state": {
       "description": "path to shape file",
       "layout": "IPY_MODEL_258e967cbb7a40d69fee61b9498b0358",
       "placeholder": "/g/data1a/r78/rjd547/groundwater_activities/Burdekin/Burdekin_shapefiles/fels_sml.shp",
       "style": "IPY_MODEL_519e88e884ea480686a9eeaafff7ea52",
       "value": "/g/data1a/r78/rjd547/groundwater_activities/Burdekin/Burdekin_shapefiles/fels_sml.shp"
      }
     },
     "fc17a5d7cf4e4a1ba63e210c2ef93955": {
      "model_module": "@jupyter-widgets/controls",
      "model_module_version": "1.2.0",
      "model_name": "DescriptionStyleModel",
      "state": {
       "description_width": ""
      }
     },
     "fc1a81e4f8a545699d3776ac246b9f57": {
      "model_module": "@jupyter-widgets/base",
      "model_module_version": "1.0.0",
      "model_name": "LayoutModel",
      "state": {}
     },
     "fc7c397bf7304e21bf62186241b9507c": {
      "model_module": "jupyter-leaflet",
      "model_module_version": "~0.7.3",
      "model_name": "LeafletGeoJSONModel",
      "state": {
       "_model_module_version": "~0.7.3",
       "_view_count": null,
       "_view_module_version": "~0.7.3",
       "data": {
        "geometry": {
         "coordinates": [
          [
           [
            145.241282,
            -20.001247
           ],
           [
            145.226165,
            -19.952202
           ],
           [
            145.30862,
            -19.93671
           ],
           [
            145.330608,
            -19.994794
           ],
           [
            145.241282,
            -20.001247
           ]
          ]
         ],
         "type": "Polygon"
        },
        "properties": {
         "style": {
          "clickable": true,
          "color": "#3388ff",
          "fill": true,
          "fillColor": null,
          "fillOpacity": 0.2,
          "opacity": 0.5,
          "stroke": true,
          "weight": 4
         }
        },
        "type": "Feature"
       }
      }
     },
     "fd180ef827cf41289872803c9a26aba0": {
      "model_module": "@jupyter-widgets/controls",
      "model_module_version": "1.2.0",
      "model_name": "DescriptionStyleModel",
      "state": {
       "description_width": ""
      }
     },
     "fdc71f12b20249f981baf521e4881afb": {
      "model_module": "jupyter-leaflet",
      "model_module_version": "~0.5.0",
      "model_name": "LeafletGeoJSONModel",
      "state": {
       "_model_module_version": "~0.5.0",
       "_view_count": null,
       "_view_module_version": "~0.5.0",
       "data": {
        "geometry": {
         "coordinates": [
          [
           [
            145.358002,
            -19.914741
           ],
           [
            145.414307,
            -19.913449
           ],
           [
            145.41568,
            -19.941853
           ],
           [
            145.356628,
            -19.93798
           ],
           [
            145.358002,
            -19.914741
           ]
          ]
         ],
         "type": "Polygon"
        },
        "properties": {
         "style": {
          "clickable": true,
          "color": "#0000FF",
          "fill": true,
          "fillColor": null,
          "fillOpacity": 0.2,
          "opacity": 0.5,
          "stroke": true,
          "weight": 4
         }
        },
        "type": "Feature"
       }
      }
     },
     "feebce2f7ba946a580673fa328e6045e": {
      "model_module": "@jupyter-widgets/controls",
      "model_module_version": "1.2.0",
      "model_name": "TextModel",
      "state": {
       "description": "path to shape file",
       "layout": "IPY_MODEL_b160db5484c24a578e594a16d1c214c5",
       "placeholder": "update this field",
       "style": "IPY_MODEL_80fbc771fe604df49a7766b066b800e7",
       "value": "/g/data1a/r78/rjd547/groundwater_activities/Burdekin/Burdekin_shapefiles/fels_sml.shp"
      }
     },
     "ff421a7caf40411d924184c16ca2b3a6": {
      "model_module": "@jupyter-widgets/controls",
      "model_module_version": "1.2.0",
      "model_name": "DescriptionStyleModel",
      "state": {
       "description_width": "initial"
      }
     },
     "ffcd2558b9374fa99d46876894b4c4a5": {
      "model_module": "@jupyter-widgets/controls",
      "model_module_version": "1.2.0",
      "model_name": "HBoxModel",
      "state": {
       "children": [
        "IPY_MODEL_07df873ea9f14fa990531e566ec93d89",
        "IPY_MODEL_cf28a2f78efc4ad68716f4acb9fa2553"
       ],
       "layout": "IPY_MODEL_5540e111c3f54e4394f0f56cfeb83212"
      }
     }
    },
    "version_major": 2,
    "version_minor": 0
   }
  }
 },
 "nbformat": 4,
 "nbformat_minor": 2
}
