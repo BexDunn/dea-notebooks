{
 "cells": [
  {
   "cell_type": "markdown",
   "metadata": {},
   "source": [
    "# Find lots of dams using WOFLs in a loop\n",
    "\n",
    "**What does this notebook do?** This notebook uses output `NetCDF` files of WOFS summaries from `datacube-stats` to generate polygons of water bodies in the landscape. This code follows the following workflow:\n",
    "* Generate a list of netCDF files within a specified folder location\n",
    "* Opens each netCDF file and:\n",
    "    * Keep only pixels identified as wet at least 10% of the time\n",
    "    * Convert the raster data into polygons\n",
    "    * Filter the polygons based on size and proximity to identified major rivers\n",
    "    * Remove any named water bodies - e.g. lakes\n",
    "* Append the final polygon set to a shapefile\n",
    "\n",
    "**Required inputs:** \n",
    "This code requires that you have run `datacube-stats` to produce WOFS summaries as netCDF files. This code takes in the folder location to generate a list of netCDF files to process.\n",
    "\n",
    "**Date:** September 2018\n",
    "\n",
    "**Author:** Claire Krause"
   ]
  },
  {
   "cell_type": "raw",
   "metadata": {
    "raw_mimetype": "text/restructuredtext"
   },
   "source": [
    "Tags: :index:`fiona`, :index:`geopandas`, :index:`Geotiff`, :index:`masking`, :index:`rasterio`, :index:`shapefile`, :index:`WOfS`, :index:`WOFL`, :index:`write_geotiff`, :index:`shapely`, :index:`descartes`, :index:`water_classifier_and_wofs`, :index:`raster to polygons`, :index:`polygons`"
   ]
  },
  {
   "cell_type": "code",
   "execution_count": 1,
   "metadata": {},
   "outputs": [
    {
     "name": "stdout",
     "output_type": "stream",
     "text": [
      "Populating the interactive namespace from numpy and matplotlib\n"
     ]
    }
   ],
   "source": [
    "%pylab notebook\n",
    "\n",
    "import rasterio.features\n",
    "from shapely.geometry import Polygon, shape, mapping\n",
    "from shapely.ops import unary_union\n",
    "import geopandas as gp\n",
    "import fiona\n",
    "from fiona.crs import from_epsg\n",
    "import xarray as xr\n",
    "import pandas as pd\n",
    "import glob\n",
    "import os.path"
   ]
  },
  {
   "cell_type": "markdown",
   "metadata": {},
   "source": [
    "## Set up all the parameters for the script"
   ]
  },
  {
   "cell_type": "markdown",
   "metadata": {},
   "source": [
    "### How wet does a pixel need to be to be included?\n",
    "The value set here will be the minimum amount of time (as a decimal between 0 and 1) that you want water to be detected before it is included in the analysis. \n",
    "\n",
    "E.g. If this was set to 0.25, any pixels that are wet *at least* 25% of the time will be included. If you are looking for persistant water bodies, you will want to set this threshold higher. If you don't want to use this filter, set this value to 0."
   ]
  },
  {
   "cell_type": "code",
   "execution_count": 2,
   "metadata": {},
   "outputs": [],
   "source": [
    "AtLeastThisWet = 0.10"
   ]
  },
  {
   "cell_type": "markdown",
   "metadata": {},
   "source": [
    "### How big/small should the polygons be?\n",
    "This filtering step can remove very small and/or very large polygons. The size listed here is in m2. A single pixel in Landsat data is 25 m X 25 m = 625 m2. \n",
    "\n",
    "**MinSize**\n",
    "\n",
    "E.g. A minimum size of 6250 means that polygons need to be at least 10 pixels to be included. If you don't want to use this filter, set this value to 0.\n",
    "\n",
    "**MaxSize**\n",
    "\n",
    "E.g. A maximum size of 1 000 000 means that you only want to consider polygons less than 1 km2. If you don't want to use this filter, set this number to something stupidly large."
   ]
  },
  {
   "cell_type": "code",
   "execution_count": 3,
   "metadata": {},
   "outputs": [],
   "source": [
    "MinSize = 3120\n",
    "MaxSize = 10000000"
   ]
  },
  {
   "cell_type": "markdown",
   "metadata": {},
   "source": [
    "### Do you want to filter out polygons that intersect with major rivers?\n",
    "\n",
    "We use the [surface hydrology lines dataset](http://pid.geoscience.gov.au/dataset/ga/83107) to filter out polygons that intersect with major rivers. \n",
    "Note that we have filtered this dataset to only keep rivers tagged as `major`, and it is this filtered dataset that we use here.\n",
    "\n",
    "If you don't want to filter out polygons that intersect with rivers, set this parameter to `False`."
   ]
  },
  {
   "cell_type": "code",
   "execution_count": 4,
   "metadata": {},
   "outputs": [],
   "source": [
    "FilterOutRivers = True"
   ]
  },
  {
   "cell_type": "code",
   "execution_count": 5,
   "metadata": {
    "raw_mimetype": "text/x-python"
   },
   "outputs": [],
   "source": [
    "# Read in the major rivers dataset (if you are using it)\n",
    "if FilterOutRivers == True:\n",
    "    FilteredMajorRivers = '/g/data/r78/cek156/ShapeFiles/SurfaceHydrologyLinesRegionalFilteredMAJOR.shp'\n",
    "    MajorRivers = gp.GeoDataFrame.from_file(FilteredMajorRivers) \n",
    "    MajorRivers = MajorRivers.to_crs({'init':'epsg:3577'})"
   ]
  },
  {
   "cell_type": "markdown",
   "metadata": {},
   "source": [
    "## Is this analysis for all of Australia, or just a subset?"
   ]
  },
  {
   "cell_type": "code",
   "execution_count": 6,
   "metadata": {},
   "outputs": [],
   "source": [
    "SubRegion = True"
   ]
  },
  {
   "cell_type": "markdown",
   "metadata": {},
   "source": [
    "If you would like to analyse only some part of Australia, you will need to provide a `list` of Albers tiles that cover that region. \n",
    "\n",
    "If you would like to automatically generate a list of tiles using the outputs of an analysis (e.g. we have previously run a custom `datacube-stats` analysis using this region, and so we can generate a list of tiles that we know covers this area using the outputs of this analysis), set `SubRegionAuto = True` and update the location of the output file directory.\n",
    "\n",
    "If you would like to manually feed in a list of albers tiles, set `SubRegionAuto = False`, and feed in a list of tiles in the format:\n",
    "\n",
    "```\n",
    "SubRegionAlbersTiles = ['8_-32', '9_-32', '10_-32', '8_-33', '9_-33']\n",
    "                        ```"
   ]
  },
  {
   "cell_type": "code",
   "execution_count": 7,
   "metadata": {},
   "outputs": [],
   "source": [
    "SubRegionAuto = True"
   ]
  },
  {
   "cell_type": "code",
   "execution_count": 8,
   "metadata": {},
   "outputs": [],
   "source": [
    "if SubRegionAuto == True:\n",
    "    # Where are the datacube-stats netCDF files located?\n",
    "    WOFSMDBFolder = '/g/data/r78/cek156/datacube_stats/WOFSDams2000to2018/'\n",
    "\n",
    "    MDBtiles = glob.glob(f'{WOFSMDBFolder}*.nc')\n",
    "\n",
    "    SubRegionAlbersTiles = set()\n",
    "    for filePath in MDBtiles:\n",
    "        AlbersTiles = filePath.split('_')\n",
    "        ThisTile = f'{AlbersTiles[3]}_{AlbersTiles[4]}'\n",
    "        SubRegionAlbersTiles.add(ThisTile)\n",
    "    SubRegionAlbersTiles = list(SubRegionAlbersTiles)"
   ]
  },
  {
   "cell_type": "code",
   "execution_count": 9,
   "metadata": {},
   "outputs": [],
   "source": [
    "if SubRegionAuto == False:\n",
    "    SubRegionAlbersTiles = ['8_-32', '9_-32', '10_-32', '8_-33', '9_-33','10_-33','11_-33',\n",
    "                            '12_-33','13_-33','14_-33', '15_-33','16_-33','17_-33','18_-33',\n",
    "                            '19_-33','20_-33','8_-34','9_-34','10_-34','11_-34','12_-34',\n",
    "                            '13_-34','14_-34','15_-34','16_-34','17_-34','18_-34','19_-34',\n",
    "                            '20_-34','8_-35','9_-35','10_-35','11_-35','12_-35','13_-35',\n",
    "                            '14_-35','15_-35','16_-35','17_-35','18_-35','19_-35','20_-35',\n",
    "                            '8_-36','9_-36','10_-36','11_-36','12_-36','13_-36','14_-36',\n",
    "                            '15_-36','16_-36','17_-36','18_-36','19_-36','8_-37','9_-37',\n",
    "                            '10_-37','11_-37','12_-37','13_-37','14_-37','15_-37','16_-37',\n",
    "                            '17_-37','18_-37','19_-37','8_-38','9_-38','10_-38','11_-38',\n",
    "                            '12_-38','13_-38','14_-38','15_-38','16_-38','17_-38','18_-38',\n",
    "                            '9_-39','10_-39','11_-39','12_-39','13_-39','14_-39','15_-39',\n",
    "                            '16_-39','17_-39','10_-40','11_-40','12_-40','13_-40','14_-40',\n",
    "                            '15_-40','16_-40','17_-40','11_-41','12_-41','13_-41','14_-41',\n",
    "                            '15_-41','16_-41','14_-42','15_-42','16_-42','15_-43']"
   ]
  },
  {
   "cell_type": "markdown",
   "metadata": {},
   "source": [
    "## Loop through each tile and polygonise the annual WOfS data\n",
    "\n",
    "Within this cell, you need to set up:\n",
    "- years to analyse: `for year in range(2016,2018)` - note that the last year is NOT included in the analysis\n",
    "- WOFSInputFolder: Where are the datacube-stats netCDF files located?\n",
    "- WOFSshp: The name and filepath of the intermediate output polygon set\n",
    "- WOFSshpMerged: The name and filepath of the final corrected output polygon set\n",
    "- AlbersBuffer: The file location of a shapefile that is a 1 pixel buffer around the Albers tile boundaries"
   ]
  },
  {
   "cell_type": "code",
   "execution_count": 10,
   "metadata": {
    "scrolled": true
   },
   "outputs": [
    {
     "name": "stdout",
     "output_type": "stream",
     "text": [
      "/g/data/r78/cek156/datacube_stats/WOFSDams2000to2018/wofs_summary_20_-40_20000101.nc\n"
     ]
    },
    {
     "name": "stderr",
     "output_type": "stream",
     "text": [
      "/g/data/v10/public/modules/dea-env/20180728/lib/python3.6/site-packages/geopandas/tools/sjoin.py:44: UserWarning: CRS of frames being joined does not match!\n",
      "  warn('CRS of frames being joined does not match!')\n",
      "/g/data/v10/public/modules/dea-env/20180728/lib/python3.6/site-packages/geopandas/tools/sjoin.py:44: UserWarning: CRS of frames being joined does not match!\n",
      "  warn('CRS of frames being joined does not match!')\n",
      "/g/data/v10/public/modules/dea-env/20180728/lib/python3.6/site-packages/geopandas/tools/sjoin.py:44: UserWarning: CRS of frames being joined does not match!\n",
      "  warn('CRS of frames being joined does not match!')\n",
      "/g/data/v10/public/modules/dea-env/20180728/lib/python3.6/site-packages/geopandas/tools/sjoin.py:44: UserWarning: CRS of frames being joined does not match!\n",
      "  warn('CRS of frames being joined does not match!')\n",
      "/g/data/v10/public/modules/dea-env/20180728/lib/python3.6/site-packages/geopandas/tools/sjoin.py:44: UserWarning: CRS of frames being joined does not match!\n",
      "  warn('CRS of frames being joined does not match!')\n",
      "/g/data/v10/public/modules/dea-env/20180728/lib/python3.6/site-packages/geopandas/tools/sjoin.py:44: UserWarning: CRS of frames being joined does not match!\n",
      "  warn('CRS of frames being joined does not match!')\n",
      "/g/data/v10/public/modules/dea-env/20180728/lib/python3.6/site-packages/geopandas/tools/sjoin.py:44: UserWarning: CRS of frames being joined does not match!\n",
      "  warn('CRS of frames being joined does not match!')\n",
      "/g/data/v10/public/modules/dea-env/20180728/lib/python3.6/site-packages/geopandas/tools/sjoin.py:44: UserWarning: CRS of frames being joined does not match!\n",
      "  warn('CRS of frames being joined does not match!')\n",
      "/g/data/v10/public/modules/dea-env/20180728/lib/python3.6/site-packages/geopandas/tools/sjoin.py:44: UserWarning: CRS of frames being joined does not match!\n",
      "  warn('CRS of frames being joined does not match!')\n",
      "/g/data/v10/public/modules/dea-env/20180728/lib/python3.6/site-packages/geopandas/tools/sjoin.py:44: UserWarning: CRS of frames being joined does not match!\n",
      "  warn('CRS of frames being joined does not match!')\n",
      "/g/data/v10/public/modules/dea-env/20180728/lib/python3.6/site-packages/geopandas/tools/sjoin.py:44: UserWarning: CRS of frames being joined does not match!\n",
      "  warn('CRS of frames being joined does not match!')\n",
      "/g/data/v10/public/modules/dea-env/20180728/lib/python3.6/site-packages/geopandas/tools/sjoin.py:44: UserWarning: CRS of frames being joined does not match!\n",
      "  warn('CRS of frames being joined does not match!')\n",
      "/g/data/v10/public/modules/dea-env/20180728/lib/python3.6/site-packages/geopandas/tools/sjoin.py:44: UserWarning: CRS of frames being joined does not match!\n",
      "  warn('CRS of frames being joined does not match!')\n",
      "/g/data/v10/public/modules/dea-env/20180728/lib/python3.6/site-packages/geopandas/tools/sjoin.py:44: UserWarning: CRS of frames being joined does not match!\n",
      "  warn('CRS of frames being joined does not match!')\n",
      "/g/data/v10/public/modules/dea-env/20180728/lib/python3.6/site-packages/geopandas/tools/sjoin.py:44: UserWarning: CRS of frames being joined does not match!\n",
      "  warn('CRS of frames being joined does not match!')\n",
      "/g/data/v10/public/modules/dea-env/20180728/lib/python3.6/site-packages/geopandas/tools/sjoin.py:44: UserWarning: CRS of frames being joined does not match!\n",
      "  warn('CRS of frames being joined does not match!')\n",
      "/g/data/v10/public/modules/dea-env/20180728/lib/python3.6/site-packages/geopandas/tools/sjoin.py:44: UserWarning: CRS of frames being joined does not match!\n",
      "  warn('CRS of frames being joined does not match!')\n",
      "/g/data/v10/public/modules/dea-env/20180728/lib/python3.6/site-packages/geopandas/tools/sjoin.py:44: UserWarning: CRS of frames being joined does not match!\n",
      "  warn('CRS of frames being joined does not match!')\n",
      "/g/data/v10/public/modules/dea-env/20180728/lib/python3.6/site-packages/geopandas/tools/sjoin.py:44: UserWarning: CRS of frames being joined does not match!\n",
      "  warn('CRS of frames being joined does not match!')\n"
     ]
    },
    {
     "name": "stdout",
     "output_type": "stream",
     "text": [
      "/g/data/r78/cek156/datacube_stats/WOFSDams2000to2018/wofs_summary_20_-38_20000101.nc\n"
     ]
    },
    {
     "name": "stderr",
     "output_type": "stream",
     "text": [
      "/g/data/v10/public/modules/dea-env/20180728/lib/python3.6/site-packages/geopandas/tools/sjoin.py:44: UserWarning: CRS of frames being joined does not match!\n",
      "  warn('CRS of frames being joined does not match!')\n",
      "/g/data/v10/public/modules/dea-env/20180728/lib/python3.6/site-packages/geopandas/tools/sjoin.py:44: UserWarning: CRS of frames being joined does not match!\n",
      "  warn('CRS of frames being joined does not match!')\n",
      "/g/data/v10/public/modules/dea-env/20180728/lib/python3.6/site-packages/geopandas/tools/sjoin.py:44: UserWarning: CRS of frames being joined does not match!\n",
      "  warn('CRS of frames being joined does not match!')\n",
      "/g/data/v10/public/modules/dea-env/20180728/lib/python3.6/site-packages/geopandas/tools/sjoin.py:44: UserWarning: CRS of frames being joined does not match!\n",
      "  warn('CRS of frames being joined does not match!')\n",
      "/g/data/v10/public/modules/dea-env/20180728/lib/python3.6/site-packages/geopandas/tools/sjoin.py:44: UserWarning: CRS of frames being joined does not match!\n",
      "  warn('CRS of frames being joined does not match!')\n",
      "/g/data/v10/public/modules/dea-env/20180728/lib/python3.6/site-packages/geopandas/tools/sjoin.py:44: UserWarning: CRS of frames being joined does not match!\n",
      "  warn('CRS of frames being joined does not match!')\n",
      "/g/data/v10/public/modules/dea-env/20180728/lib/python3.6/site-packages/geopandas/tools/sjoin.py:44: UserWarning: CRS of frames being joined does not match!\n",
      "  warn('CRS of frames being joined does not match!')\n",
      "/g/data/v10/public/modules/dea-env/20180728/lib/python3.6/site-packages/geopandas/tools/sjoin.py:44: UserWarning: CRS of frames being joined does not match!\n",
      "  warn('CRS of frames being joined does not match!')\n",
      "/g/data/v10/public/modules/dea-env/20180728/lib/python3.6/site-packages/geopandas/tools/sjoin.py:44: UserWarning: CRS of frames being joined does not match!\n",
      "  warn('CRS of frames being joined does not match!')\n",
      "/g/data/v10/public/modules/dea-env/20180728/lib/python3.6/site-packages/geopandas/tools/sjoin.py:44: UserWarning: CRS of frames being joined does not match!\n",
      "  warn('CRS of frames being joined does not match!')\n",
      "/g/data/v10/public/modules/dea-env/20180728/lib/python3.6/site-packages/geopandas/tools/sjoin.py:44: UserWarning: CRS of frames being joined does not match!\n",
      "  warn('CRS of frames being joined does not match!')\n",
      "/g/data/v10/public/modules/dea-env/20180728/lib/python3.6/site-packages/geopandas/tools/sjoin.py:44: UserWarning: CRS of frames being joined does not match!\n",
      "  warn('CRS of frames being joined does not match!')\n",
      "/g/data/v10/public/modules/dea-env/20180728/lib/python3.6/site-packages/geopandas/tools/sjoin.py:44: UserWarning: CRS of frames being joined does not match!\n",
      "  warn('CRS of frames being joined does not match!')\n",
      "/g/data/v10/public/modules/dea-env/20180728/lib/python3.6/site-packages/geopandas/tools/sjoin.py:44: UserWarning: CRS of frames being joined does not match!\n",
      "  warn('CRS of frames being joined does not match!')\n",
      "/g/data/v10/public/modules/dea-env/20180728/lib/python3.6/site-packages/geopandas/tools/sjoin.py:44: UserWarning: CRS of frames being joined does not match!\n",
      "  warn('CRS of frames being joined does not match!')\n",
      "/g/data/v10/public/modules/dea-env/20180728/lib/python3.6/site-packages/geopandas/tools/sjoin.py:44: UserWarning: CRS of frames being joined does not match!\n",
      "  warn('CRS of frames being joined does not match!')\n",
      "/g/data/v10/public/modules/dea-env/20180728/lib/python3.6/site-packages/geopandas/tools/sjoin.py:44: UserWarning: CRS of frames being joined does not match!\n",
      "  warn('CRS of frames being joined does not match!')\n",
      "/g/data/v10/public/modules/dea-env/20180728/lib/python3.6/site-packages/geopandas/tools/sjoin.py:44: UserWarning: CRS of frames being joined does not match!\n",
      "  warn('CRS of frames being joined does not match!')\n",
      "/g/data/v10/public/modules/dea-env/20180728/lib/python3.6/site-packages/geopandas/tools/sjoin.py:44: UserWarning: CRS of frames being joined does not match!\n",
      "  warn('CRS of frames being joined does not match!')\n",
      "/g/data/v10/public/modules/dea-env/20180728/lib/python3.6/site-packages/geopandas/tools/sjoin.py:44: UserWarning: CRS of frames being joined does not match!\n",
      "  warn('CRS of frames being joined does not match!')\n",
      "/g/data/v10/public/modules/dea-env/20180728/lib/python3.6/site-packages/geopandas/tools/sjoin.py:44: UserWarning: CRS of frames being joined does not match!\n",
      "  warn('CRS of frames being joined does not match!')\n",
      "/g/data/v10/public/modules/dea-env/20180728/lib/python3.6/site-packages/geopandas/tools/sjoin.py:44: UserWarning: CRS of frames being joined does not match!\n",
      "  warn('CRS of frames being joined does not match!')\n",
      "/g/data/v10/public/modules/dea-env/20180728/lib/python3.6/site-packages/geopandas/tools/sjoin.py:44: UserWarning: CRS of frames being joined does not match!\n",
      "  warn('CRS of frames being joined does not match!')\n",
      "/g/data/v10/public/modules/dea-env/20180728/lib/python3.6/site-packages/geopandas/tools/sjoin.py:44: UserWarning: CRS of frames being joined does not match!\n",
      "  warn('CRS of frames being joined does not match!')\n",
      "/g/data/v10/public/modules/dea-env/20180728/lib/python3.6/site-packages/geopandas/tools/sjoin.py:44: UserWarning: CRS of frames being joined does not match!\n",
      "  warn('CRS of frames being joined does not match!')\n",
      "/g/data/v10/public/modules/dea-env/20180728/lib/python3.6/site-packages/geopandas/tools/sjoin.py:44: UserWarning: CRS of frames being joined does not match!\n",
      "  warn('CRS of frames being joined does not match!')\n"
     ]
    },
    {
     "name": "stdout",
     "output_type": "stream",
     "text": [
      "/g/data/r78/cek156/datacube_stats/WOFSDams2000to2018/wofs_summary_20_-37_20000101.nc\n"
     ]
    },
    {
     "name": "stderr",
     "output_type": "stream",
     "text": [
      "/g/data/v10/public/modules/dea-env/20180728/lib/python3.6/site-packages/geopandas/tools/sjoin.py:44: UserWarning: CRS of frames being joined does not match!\n",
      "  warn('CRS of frames being joined does not match!')\n",
      "/g/data/v10/public/modules/dea-env/20180728/lib/python3.6/site-packages/geopandas/tools/sjoin.py:44: UserWarning: CRS of frames being joined does not match!\n",
      "  warn('CRS of frames being joined does not match!')\n",
      "/g/data/v10/public/modules/dea-env/20180728/lib/python3.6/site-packages/geopandas/tools/sjoin.py:44: UserWarning: CRS of frames being joined does not match!\n",
      "  warn('CRS of frames being joined does not match!')\n",
      "/g/data/v10/public/modules/dea-env/20180728/lib/python3.6/site-packages/geopandas/tools/sjoin.py:44: UserWarning: CRS of frames being joined does not match!\n",
      "  warn('CRS of frames being joined does not match!')\n",
      "/g/data/v10/public/modules/dea-env/20180728/lib/python3.6/site-packages/geopandas/tools/sjoin.py:44: UserWarning: CRS of frames being joined does not match!\n",
      "  warn('CRS of frames being joined does not match!')\n",
      "/g/data/v10/public/modules/dea-env/20180728/lib/python3.6/site-packages/geopandas/tools/sjoin.py:44: UserWarning: CRS of frames being joined does not match!\n",
      "  warn('CRS of frames being joined does not match!')\n",
      "/g/data/v10/public/modules/dea-env/20180728/lib/python3.6/site-packages/geopandas/tools/sjoin.py:44: UserWarning: CRS of frames being joined does not match!\n",
      "  warn('CRS of frames being joined does not match!')\n",
      "/g/data/v10/public/modules/dea-env/20180728/lib/python3.6/site-packages/geopandas/tools/sjoin.py:44: UserWarning: CRS of frames being joined does not match!\n",
      "  warn('CRS of frames being joined does not match!')\n",
      "/g/data/v10/public/modules/dea-env/20180728/lib/python3.6/site-packages/geopandas/tools/sjoin.py:44: UserWarning: CRS of frames being joined does not match!\n",
      "  warn('CRS of frames being joined does not match!')\n",
      "/g/data/v10/public/modules/dea-env/20180728/lib/python3.6/site-packages/geopandas/tools/sjoin.py:44: UserWarning: CRS of frames being joined does not match!\n",
      "  warn('CRS of frames being joined does not match!')\n",
      "/g/data/v10/public/modules/dea-env/20180728/lib/python3.6/site-packages/geopandas/tools/sjoin.py:44: UserWarning: CRS of frames being joined does not match!\n",
      "  warn('CRS of frames being joined does not match!')\n",
      "/g/data/v10/public/modules/dea-env/20180728/lib/python3.6/site-packages/geopandas/tools/sjoin.py:44: UserWarning: CRS of frames being joined does not match!\n",
      "  warn('CRS of frames being joined does not match!')\n",
      "/g/data/v10/public/modules/dea-env/20180728/lib/python3.6/site-packages/geopandas/tools/sjoin.py:44: UserWarning: CRS of frames being joined does not match!\n",
      "  warn('CRS of frames being joined does not match!')\n",
      "/g/data/v10/public/modules/dea-env/20180728/lib/python3.6/site-packages/geopandas/tools/sjoin.py:44: UserWarning: CRS of frames being joined does not match!\n",
      "  warn('CRS of frames being joined does not match!')\n",
      "/g/data/v10/public/modules/dea-env/20180728/lib/python3.6/site-packages/geopandas/tools/sjoin.py:44: UserWarning: CRS of frames being joined does not match!\n",
      "  warn('CRS of frames being joined does not match!')\n",
      "/g/data/v10/public/modules/dea-env/20180728/lib/python3.6/site-packages/geopandas/tools/sjoin.py:44: UserWarning: CRS of frames being joined does not match!\n",
      "  warn('CRS of frames being joined does not match!')\n",
      "/g/data/v10/public/modules/dea-env/20180728/lib/python3.6/site-packages/geopandas/tools/sjoin.py:44: UserWarning: CRS of frames being joined does not match!\n",
      "  warn('CRS of frames being joined does not match!')\n",
      "/g/data/v10/public/modules/dea-env/20180728/lib/python3.6/site-packages/geopandas/tools/sjoin.py:44: UserWarning: CRS of frames being joined does not match!\n",
      "  warn('CRS of frames being joined does not match!')\n",
      "/g/data/v10/public/modules/dea-env/20180728/lib/python3.6/site-packages/geopandas/tools/sjoin.py:44: UserWarning: CRS of frames being joined does not match!\n",
      "  warn('CRS of frames being joined does not match!')\n",
      "/g/data/v10/public/modules/dea-env/20180728/lib/python3.6/site-packages/geopandas/tools/sjoin.py:44: UserWarning: CRS of frames being joined does not match!\n",
      "  warn('CRS of frames being joined does not match!')\n",
      "/g/data/v10/public/modules/dea-env/20180728/lib/python3.6/site-packages/geopandas/tools/sjoin.py:44: UserWarning: CRS of frames being joined does not match!\n",
      "  warn('CRS of frames being joined does not match!')\n",
      "/g/data/v10/public/modules/dea-env/20180728/lib/python3.6/site-packages/geopandas/tools/sjoin.py:44: UserWarning: CRS of frames being joined does not match!\n",
      "  warn('CRS of frames being joined does not match!')\n",
      "/g/data/v10/public/modules/dea-env/20180728/lib/python3.6/site-packages/geopandas/tools/sjoin.py:44: UserWarning: CRS of frames being joined does not match!\n",
      "  warn('CRS of frames being joined does not match!')\n",
      "/g/data/v10/public/modules/dea-env/20180728/lib/python3.6/site-packages/geopandas/tools/sjoin.py:44: UserWarning: CRS of frames being joined does not match!\n",
      "  warn('CRS of frames being joined does not match!')\n",
      "/g/data/v10/public/modules/dea-env/20180728/lib/python3.6/site-packages/geopandas/tools/sjoin.py:44: UserWarning: CRS of frames being joined does not match!\n",
      "  warn('CRS of frames being joined does not match!')\n",
      "/g/data/v10/public/modules/dea-env/20180728/lib/python3.6/site-packages/geopandas/tools/sjoin.py:44: UserWarning: CRS of frames being joined does not match!\n",
      "  warn('CRS of frames being joined does not match!')\n",
      "/g/data/v10/public/modules/dea-env/20180728/lib/python3.6/site-packages/geopandas/tools/sjoin.py:44: UserWarning: CRS of frames being joined does not match!\n",
      "  warn('CRS of frames being joined does not match!')\n",
      "/g/data/v10/public/modules/dea-env/20180728/lib/python3.6/site-packages/geopandas/tools/sjoin.py:44: UserWarning: CRS of frames being joined does not match!\n",
      "  warn('CRS of frames being joined does not match!')\n",
      "/g/data/v10/public/modules/dea-env/20180728/lib/python3.6/site-packages/geopandas/tools/sjoin.py:44: UserWarning: CRS of frames being joined does not match!\n",
      "  warn('CRS of frames being joined does not match!')\n",
      "/g/data/v10/public/modules/dea-env/20180728/lib/python3.6/site-packages/geopandas/tools/sjoin.py:44: UserWarning: CRS of frames being joined does not match!\n",
      "  warn('CRS of frames being joined does not match!')\n",
      "/g/data/v10/public/modules/dea-env/20180728/lib/python3.6/site-packages/geopandas/tools/sjoin.py:44: UserWarning: CRS of frames being joined does not match!\n",
      "  warn('CRS of frames being joined does not match!')\n",
      "/g/data/v10/public/modules/dea-env/20180728/lib/python3.6/site-packages/geopandas/tools/sjoin.py:44: UserWarning: CRS of frames being joined does not match!\n",
      "  warn('CRS of frames being joined does not match!')\n",
      "/g/data/v10/public/modules/dea-env/20180728/lib/python3.6/site-packages/geopandas/tools/sjoin.py:44: UserWarning: CRS of frames being joined does not match!\n",
      "  warn('CRS of frames being joined does not match!')\n"
     ]
    },
    {
     "name": "stdout",
     "output_type": "stream",
     "text": [
      "/g/data/r78/cek156/datacube_stats/WOFSDams2000to2018/wofs_summary_19_-38_20000101.nc\n"
     ]
    },
    {
     "name": "stderr",
     "output_type": "stream",
     "text": [
      "/g/data/v10/public/modules/dea-env/20180728/lib/python3.6/site-packages/geopandas/tools/sjoin.py:44: UserWarning: CRS of frames being joined does not match!\n",
      "  warn('CRS of frames being joined does not match!')\n",
      "/g/data/v10/public/modules/dea-env/20180728/lib/python3.6/site-packages/geopandas/tools/sjoin.py:44: UserWarning: CRS of frames being joined does not match!\n",
      "  warn('CRS of frames being joined does not match!')\n",
      "/g/data/v10/public/modules/dea-env/20180728/lib/python3.6/site-packages/geopandas/tools/sjoin.py:44: UserWarning: CRS of frames being joined does not match!\n",
      "  warn('CRS of frames being joined does not match!')\n"
     ]
    },
    {
     "name": "stdout",
     "output_type": "stream",
     "text": [
      "/g/data/r78/cek156/datacube_stats/WOFSDams2000to2018/wofs_summary_21_-34_20000101.nc\n"
     ]
    },
    {
     "name": "stderr",
     "output_type": "stream",
     "text": [
      "/g/data/v10/public/modules/dea-env/20180728/lib/python3.6/site-packages/geopandas/tools/sjoin.py:44: UserWarning: CRS of frames being joined does not match!\n",
      "  warn('CRS of frames being joined does not match!')\n",
      "/g/data/v10/public/modules/dea-env/20180728/lib/python3.6/site-packages/geopandas/tools/sjoin.py:44: UserWarning: CRS of frames being joined does not match!\n",
      "  warn('CRS of frames being joined does not match!')\n"
     ]
    },
    {
     "name": "stdout",
     "output_type": "stream",
     "text": [
      "/g/data/r78/cek156/datacube_stats/WOFSDams2000to2018/wofs_summary_20_-36_20000101.nc\n"
     ]
    },
    {
     "name": "stderr",
     "output_type": "stream",
     "text": [
      "/g/data/v10/public/modules/dea-env/20180728/lib/python3.6/site-packages/geopandas/tools/sjoin.py:44: UserWarning: CRS of frames being joined does not match!\n",
      "  warn('CRS of frames being joined does not match!')\n"
     ]
    },
    {
     "name": "stdout",
     "output_type": "stream",
     "text": [
      "/g/data/r78/cek156/datacube_stats/WOFSDams2000to2018/wofs_summary_21_-33_20000101.nc\n"
     ]
    },
    {
     "name": "stderr",
     "output_type": "stream",
     "text": [
      "/g/data/v10/public/modules/dea-env/20180728/lib/python3.6/site-packages/geopandas/tools/sjoin.py:44: UserWarning: CRS of frames being joined does not match!\n",
      "  warn('CRS of frames being joined does not match!')\n",
      "/g/data/v10/public/modules/dea-env/20180728/lib/python3.6/site-packages/geopandas/tools/sjoin.py:44: UserWarning: CRS of frames being joined does not match!\n",
      "  warn('CRS of frames being joined does not match!')\n",
      "/g/data/v10/public/modules/dea-env/20180728/lib/python3.6/site-packages/geopandas/tools/sjoin.py:44: UserWarning: CRS of frames being joined does not match!\n",
      "  warn('CRS of frames being joined does not match!')\n",
      "/g/data/v10/public/modules/dea-env/20180728/lib/python3.6/site-packages/geopandas/tools/sjoin.py:44: UserWarning: CRS of frames being joined does not match!\n",
      "  warn('CRS of frames being joined does not match!')\n"
     ]
    },
    {
     "name": "stdout",
     "output_type": "stream",
     "text": [
      "/g/data/r78/cek156/datacube_stats/WOFSDams2000to2018/wofs_summary_19_-39_20000101.nc\n"
     ]
    },
    {
     "name": "stderr",
     "output_type": "stream",
     "text": [
      "/g/data/v10/public/modules/dea-env/20180728/lib/python3.6/site-packages/geopandas/tools/sjoin.py:44: UserWarning: CRS of frames being joined does not match!\n",
      "  warn('CRS of frames being joined does not match!')\n",
      "/g/data/v10/public/modules/dea-env/20180728/lib/python3.6/site-packages/geopandas/tools/sjoin.py:44: UserWarning: CRS of frames being joined does not match!\n",
      "  warn('CRS of frames being joined does not match!')\n",
      "/g/data/v10/public/modules/dea-env/20180728/lib/python3.6/site-packages/geopandas/tools/sjoin.py:44: UserWarning: CRS of frames being joined does not match!\n",
      "  warn('CRS of frames being joined does not match!')\n",
      "/g/data/v10/public/modules/dea-env/20180728/lib/python3.6/site-packages/geopandas/tools/sjoin.py:44: UserWarning: CRS of frames being joined does not match!\n",
      "  warn('CRS of frames being joined does not match!')\n",
      "/g/data/v10/public/modules/dea-env/20180728/lib/python3.6/site-packages/geopandas/tools/sjoin.py:44: UserWarning: CRS of frames being joined does not match!\n",
      "  warn('CRS of frames being joined does not match!')\n",
      "/g/data/v10/public/modules/dea-env/20180728/lib/python3.6/site-packages/geopandas/tools/sjoin.py:44: UserWarning: CRS of frames being joined does not match!\n",
      "  warn('CRS of frames being joined does not match!')\n",
      "/g/data/v10/public/modules/dea-env/20180728/lib/python3.6/site-packages/geopandas/tools/sjoin.py:44: UserWarning: CRS of frames being joined does not match!\n",
      "  warn('CRS of frames being joined does not match!')\n",
      "/g/data/v10/public/modules/dea-env/20180728/lib/python3.6/site-packages/geopandas/tools/sjoin.py:44: UserWarning: CRS of frames being joined does not match!\n",
      "  warn('CRS of frames being joined does not match!')\n"
     ]
    },
    {
     "name": "stdout",
     "output_type": "stream",
     "text": [
      "/g/data/r78/cek156/datacube_stats/WOFSDams2000to2018/wofs_summary_19_-40_20000101.nc\n"
     ]
    },
    {
     "name": "stderr",
     "output_type": "stream",
     "text": [
      "/g/data/v10/public/modules/dea-env/20180728/lib/python3.6/site-packages/geopandas/tools/sjoin.py:44: UserWarning: CRS of frames being joined does not match!\n",
      "  warn('CRS of frames being joined does not match!')\n",
      "/g/data/v10/public/modules/dea-env/20180728/lib/python3.6/site-packages/geopandas/tools/sjoin.py:44: UserWarning: CRS of frames being joined does not match!\n",
      "  warn('CRS of frames being joined does not match!')\n",
      "/g/data/v10/public/modules/dea-env/20180728/lib/python3.6/site-packages/geopandas/tools/sjoin.py:44: UserWarning: CRS of frames being joined does not match!\n",
      "  warn('CRS of frames being joined does not match!')\n",
      "/g/data/v10/public/modules/dea-env/20180728/lib/python3.6/site-packages/geopandas/tools/sjoin.py:44: UserWarning: CRS of frames being joined does not match!\n",
      "  warn('CRS of frames being joined does not match!')\n",
      "/g/data/v10/public/modules/dea-env/20180728/lib/python3.6/site-packages/geopandas/tools/sjoin.py:44: UserWarning: CRS of frames being joined does not match!\n",
      "  warn('CRS of frames being joined does not match!')\n",
      "/g/data/v10/public/modules/dea-env/20180728/lib/python3.6/site-packages/geopandas/tools/sjoin.py:44: UserWarning: CRS of frames being joined does not match!\n",
      "  warn('CRS of frames being joined does not match!')\n",
      "/g/data/v10/public/modules/dea-env/20180728/lib/python3.6/site-packages/geopandas/tools/sjoin.py:44: UserWarning: CRS of frames being joined does not match!\n",
      "  warn('CRS of frames being joined does not match!')\n",
      "/g/data/v10/public/modules/dea-env/20180728/lib/python3.6/site-packages/geopandas/tools/sjoin.py:44: UserWarning: CRS of frames being joined does not match!\n",
      "  warn('CRS of frames being joined does not match!')\n",
      "/g/data/v10/public/modules/dea-env/20180728/lib/python3.6/site-packages/geopandas/tools/sjoin.py:44: UserWarning: CRS of frames being joined does not match!\n",
      "  warn('CRS of frames being joined does not match!')\n",
      "/g/data/v10/public/modules/dea-env/20180728/lib/python3.6/site-packages/geopandas/tools/sjoin.py:44: UserWarning: CRS of frames being joined does not match!\n",
      "  warn('CRS of frames being joined does not match!')\n",
      "/g/data/v10/public/modules/dea-env/20180728/lib/python3.6/site-packages/geopandas/tools/sjoin.py:44: UserWarning: CRS of frames being joined does not match!\n",
      "  warn('CRS of frames being joined does not match!')\n",
      "/g/data/v10/public/modules/dea-env/20180728/lib/python3.6/site-packages/geopandas/tools/sjoin.py:44: UserWarning: CRS of frames being joined does not match!\n",
      "  warn('CRS of frames being joined does not match!')\n"
     ]
    },
    {
     "name": "stdout",
     "output_type": "stream",
     "text": [
      "/g/data/r78/cek156/datacube_stats/WOFSDams2000to2018/wofs_summary_16_-43_20000101.nc\n",
      "/g/data/r78/cek156/datacube_stats/WOFSDams2000to2018/wofs_summary_20_-39_20000101.nc\n"
     ]
    },
    {
     "name": "stderr",
     "output_type": "stream",
     "text": [
      "/g/data/v10/public/modules/dea-env/20180728/lib/python3.6/site-packages/geopandas/tools/sjoin.py:44: UserWarning: CRS of frames being joined does not match!\n",
      "  warn('CRS of frames being joined does not match!')\n",
      "/g/data/v10/public/modules/dea-env/20180728/lib/python3.6/site-packages/geopandas/tools/sjoin.py:44: UserWarning: CRS of frames being joined does not match!\n",
      "  warn('CRS of frames being joined does not match!')\n",
      "/g/data/v10/public/modules/dea-env/20180728/lib/python3.6/site-packages/geopandas/tools/sjoin.py:44: UserWarning: CRS of frames being joined does not match!\n",
      "  warn('CRS of frames being joined does not match!')\n",
      "/g/data/v10/public/modules/dea-env/20180728/lib/python3.6/site-packages/geopandas/tools/sjoin.py:44: UserWarning: CRS of frames being joined does not match!\n",
      "  warn('CRS of frames being joined does not match!')\n",
      "/g/data/v10/public/modules/dea-env/20180728/lib/python3.6/site-packages/geopandas/tools/sjoin.py:44: UserWarning: CRS of frames being joined does not match!\n",
      "  warn('CRS of frames being joined does not match!')\n",
      "/g/data/v10/public/modules/dea-env/20180728/lib/python3.6/site-packages/geopandas/tools/sjoin.py:44: UserWarning: CRS of frames being joined does not match!\n",
      "  warn('CRS of frames being joined does not match!')\n",
      "/g/data/v10/public/modules/dea-env/20180728/lib/python3.6/site-packages/geopandas/tools/sjoin.py:44: UserWarning: CRS of frames being joined does not match!\n",
      "  warn('CRS of frames being joined does not match!')\n",
      "/g/data/v10/public/modules/dea-env/20180728/lib/python3.6/site-packages/geopandas/tools/sjoin.py:44: UserWarning: CRS of frames being joined does not match!\n",
      "  warn('CRS of frames being joined does not match!')\n",
      "/g/data/v10/public/modules/dea-env/20180728/lib/python3.6/site-packages/geopandas/tools/sjoin.py:44: UserWarning: CRS of frames being joined does not match!\n",
      "  warn('CRS of frames being joined does not match!')\n",
      "/g/data/v10/public/modules/dea-env/20180728/lib/python3.6/site-packages/geopandas/tools/sjoin.py:44: UserWarning: CRS of frames being joined does not match!\n",
      "  warn('CRS of frames being joined does not match!')\n"
     ]
    }
   ],
   "source": [
    "for year in range(2000,2001):\n",
    "\n",
    "    ### Set up some file names for the inputs and outputs\n",
    "\n",
    "    # Where are the datacube-stats netCDF files located?\n",
    "    WOFSInputFolder = '/g/data/r78/cek156/datacube_stats/WOFSDams2000to2018/'\n",
    "\n",
    "    # The name and filepath of the intermediate output polygon set\n",
    "    WOFSshp = f'/g/data/r78/cek156/dea-notebooks/Dams/Dams2000to2018/AllNSW2000to201810pcMinMaxRiverTemp.shp'\n",
    "\n",
    "    # The name and filepath of the final corrected output polygon set\n",
    "    WOFSshpMerged = f'/g/data/r78/cek156/dea-notebooks/Dams/Dams2000to2018/AllNSW2000to201810pcMinMaxRiverCleaned.shp'\n",
    "\n",
    "    ### Get the list of netcdf file names to loop through\n",
    "\n",
    "    if SubRegion == True:\n",
    "        Alltiles = []\n",
    "        for tile in SubRegionAlbersTiles:\n",
    "            Tiles = glob.glob(f'{WOFSInputFolder}*_{tile}_{year}0101.nc')\n",
    "            Alltiles.append(Tiles[0]) # Assumes only one file will be returned\n",
    "    else:\n",
    "        Alltiles = glob.glob(f'{WOFSInputFolder}*_{year}_summary.nc')\n",
    "\n",
    "    ## Read in and process the data\n",
    "\n",
    "    for WOFSfile in Alltiles: \n",
    "        try:\n",
    "            # Read in the data\n",
    "            WOFSnetCDFData = xr.open_rasterio(f'NETCDF:{WOFSfile}:frequency')\n",
    "\n",
    "            # Filter our classified data layer to remove noise\n",
    "            # Remove any pixels that are wet < AtLeastThisWet% of the time\n",
    "            WOFSfiltered = WOFSnetCDFData > AtLeastThisWet\n",
    "            # Remove the superfluous time dimension\n",
    "            WOFSfiltered = WOFSfiltered.squeeze()\n",
    "            # Change all zeros to NaN\n",
    "            WOFSfiltered = WOFSfiltered.where(WOFSfiltered !=0)\n",
    "\n",
    "            # Convert the raster to polygons\n",
    "            WOFSpolygons = rasterio.features.shapes(WOFSfiltered.data.astype('float32'), \n",
    "                                                    transform = WOFSnetCDFData.transform[:-3])\n",
    "            WOFSlist = list(WOFSpolygons)\n",
    "\n",
    "            # Remove the nan polygons\n",
    "            WOFSlist = [x for x in WOFSlist if x[1] == 1]\n",
    "\n",
    "            # The rasterio.features.shapes returns a tuple. We only want to keep the geometry portion\n",
    "            WOFSOFSbreaktuple = [a for a, b in WOFSlist]\n",
    "            # Grab the geometries and convert into a shapely geometry\n",
    "            for poly in WOFSOFSbreaktuple:\n",
    "                poly['geometry'] = shape(poly)\n",
    "\n",
    "            # Calculate the area of each polygon\n",
    "            WOFLshapes = []\n",
    "            for i, WOFLshape in enumerate(WOFSOFSbreaktuple):\n",
    "                polyArea = Polygon(WOFLshape['coordinates'][0]).area\n",
    "                WOFLshape['properties'] = {'area': polyArea}\n",
    "                WOFLshapes.append(WOFLshape)\n",
    "\n",
    "            # Filter out any polygons smaller than MinSize, and greater than MaxSize\n",
    "            AreasIndex = [i for i, x in enumerate(WOFLshapes) if \n",
    "                          (x['properties']['area'] > MinSize) & \n",
    "                          (x['properties']['area'] <= MaxSize)]\n",
    "            WOFSOFSbig = [WOFLshapes[x] for x in AreasIndex]\n",
    "\n",
    "            if FilterOutRivers:\n",
    "                # Remove any polygons that intersect with a major river\n",
    "                # We are only interested in farm dams, so do not need the WOFS polygons for the rivers. \n",
    "                WOFSOFSfiltered2p0 = gp.GeoDataFrame(WOFSOFSbig).set_geometry('geometry')\n",
    "                Intersections= gp.sjoin(MajorRivers, WOFSOFSfiltered2p0, how=\"inner\", op='intersects')\n",
    "                IntersectIndex = sorted(list(set(Intersections['index_right'])))\n",
    "\n",
    "                WOFSOFS = [WOFSOFSbig[x] for x in range(len(WOFSOFSbig)) \n",
    "                                                  if x not in IntersectIndex]\n",
    "            else:\n",
    "                WOFSOFS = WOFSOFSbig\n",
    "\n",
    "            # Merge any overlapping polygons \n",
    "            MergedPolygonsGeoms = unary_union([feature['geometry'] for feature in WOFSOFS])\n",
    "            MergedPolygonsGeomsList = list(MergedPolygonsGeoms)\n",
    "\n",
    "            # Re-calculate the area of each polygon and add it as an attribute to our new merged polygons\n",
    "            #( For some reason, doing this merge prior to filtering doesn't work properly, hence calculating\n",
    "            # area twice...)\n",
    "            MergedPolygons = []\n",
    "            for i, WOFLshape in enumerate(MergedPolygonsGeomsList):\n",
    "                PolygonBits = mapping(WOFLshape)\n",
    "                polyArea = Polygon(WOFLshape).area\n",
    "                PolygonBits['properties'] = {'area': polyArea}\n",
    "                MergedPolygons.append(PolygonBits)\n",
    "\n",
    "            # Save the polygons to a shapefile\n",
    "            schema = {'geometry': 'Polygon','properties': {'area': 'str'}}\n",
    "\n",
    "            if os.path.isfile(WOFSshp):\n",
    "                with fiona.open(WOFSshp, \"a\", crs = from_epsg(3577), driver = 'ESRI Shapefile', schema = schema) as output:\n",
    "                    for i in range(len(MergedPolygons)):\n",
    "                        output.write({'properties': {'area': MergedPolygons[i]['properties']['area']},\n",
    "                                    'geometry': {'type': MergedPolygons[i]['type'], 'coordinates': MergedPolygons[i]['coordinates']}})\n",
    "            else:\n",
    "                with fiona.open(WOFSshp, \"w\", crs = from_epsg(3577), driver = 'ESRI Shapefile', schema = schema) as output:\n",
    "                    for i in range(len(MergedPolygons)):\n",
    "                        output.write({'properties': {'area': MergedPolygons[i]['properties']['area']},\n",
    "                                    'geometry': {'type': MergedPolygons[i]['type'], 'coordinates': MergedPolygons[i]['coordinates']}})\n",
    "        except:\n",
    "            print(WOFSfile)\n",
    "\n",
    "    ## Merge polygons that have an edge at a tile boundary\n",
    "\n",
    "    #Now that we have all of the polygons across our whole region of interest, we need to check \n",
    "    #for artifacts in the data caused by tile boundaries. \n",
    "\n",
    "    # Load in a shapefile of the albers tile boundaries\n",
    "    # We have created a shapefile that consists of the albers tile boundaries,\n",
    "    # plus a 1 pixel (25 m) buffer. This shapefile will help us to find any polygons that have a\n",
    "    # boundary at the edge of an albers tile. We can then find where polygons touch across this\n",
    "    # boundary, and join them up.\n",
    "\n",
    "    AlbersBuffer = gp.read_file(\n",
    "        '/g/data/r78/cek156/ShapeFiles/AlbersBuffer25m.shp')\n",
    "\n",
    "    DamPolygons = gp.read_file(WOFSshp)\n",
    "\n",
    "    # Find where the albers polygon overlaps with our dam polygons\n",
    "    # Perform a spatial join for polygons that intersect\n",
    "    Intersects = gp.sjoin(AlbersBuffer, DamPolygons, how='inner', op='intersects')\n",
    "    # Get the index of the dam polygons that intersect with the Albers buffer\n",
    "    IntersectIndex = sorted(Intersects['index_right'])\n",
    "\n",
    "    # Get just the dams that intersect with the tile boundaries\n",
    "    BoundaryDams = DamPolygons.iloc[IntersectIndex]\n",
    "    NotBoundaryDams = DamPolygons.loc[~DamPolygons.index.isin(IntersectIndex)]\n",
    "\n",
    "    # Now combine overlapping polygons in `BoundaryDams`\n",
    "    UnionBoundaryDams = BoundaryDams.unary_union\n",
    "\n",
    "    # `Explode` the multipolygon back out into individual polygons\n",
    "    UnionGDF = gp.GeoDataFrame(crs=DamPolygons.crs, geometry=[UnionBoundaryDams])\n",
    "    MergedDams = UnionGDF.explode()\n",
    "\n",
    "    # Then combine our new merged polygons with the `NotBoundaryDams`\n",
    "    # Combine New merged polygons with the remaining polygons that are not near the tile boundary\n",
    "    AllTogether = gp.GeoDataFrame(pd.concat([NotBoundaryDams, MergedDams],\n",
    "                                            ignore_index=True, sort=True)).set_geometry('geometry')\n",
    "\n",
    "    # Calculate the area of each polygon\n",
    "    AllTogether['area'] = AllTogether.area\n",
    "\n",
    "    # Then write the lot out to shapefile\n",
    "    AllTogether.crs = {'init': 'epsg:3577'}\n",
    "    AllTogether.to_file(WOFSshpMerged, driver='ESRI Shapefile')"
   ]
  },
  {
   "cell_type": "markdown",
   "metadata": {},
   "source": [
    "## Apply Land/Sea mask\n",
    "\n",
    "To do."
   ]
  },
  {
   "cell_type": "code",
   "execution_count": null,
   "metadata": {},
   "outputs": [],
   "source": []
  }
 ],
 "metadata": {
  "celltoolbar": "Raw Cell Format",
  "kernelspec": {
   "display_name": "Python 3",
   "language": "python",
   "name": "python3"
  },
  "language_info": {
   "codemirror_mode": {
    "name": "ipython",
    "version": 3
   },
   "file_extension": ".py",
   "mimetype": "text/x-python",
   "name": "python",
   "nbconvert_exporter": "python",
   "pygments_lexer": "ipython3",
   "version": "3.6.6"
  },
  "toc": {
   "base_numbering": 1,
   "nav_menu": {},
   "number_sections": true,
   "sideBar": true,
   "skip_h1_title": false,
   "title_cell": "Table of Contents",
   "title_sidebar": "Contents",
   "toc_cell": false,
   "toc_position": {},
   "toc_section_display": true,
   "toc_window_display": false
  }
 },
 "nbformat": 4,
 "nbformat_minor": 2
}
