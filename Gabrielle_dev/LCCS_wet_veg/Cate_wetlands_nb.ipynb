{
 "cells": [
  {
   "cell_type": "code",
   "execution_count": 5,
   "metadata": {},
   "outputs": [],
   "source": [
    "%matplotlib inline\n",
    "\n",
    "import datacube\n",
    "import datetime\n",
    "import fiona\n",
    "import geopandas as gpd\n",
    "import numpy as np\n",
    "import pandas as pd\n",
    "import rasterio.mask\n",
    "import rasterio.features\n",
    "from shapely import geometry\n",
    "import seaborn as sns\n",
    "import sys\n",
    "import xarray as xr\n",
    "\n",
    "import matplotlib.dates as mdates\n",
    "import matplotlib.gridspec as gridspec\n",
    "import matplotlib.pyplot as plt\n",
    "\n",
    "from datacube.storage import masking\n",
    "from datacube.utils import geometry\n",
    "from datacube.helpers import write_geotiff, ga_pq_fuser\n",
    "\n",
    "sys.path.append('LCCS_wet_veg/Scripts')\n",
    "import dea_bandindices\n",
    "from dea_datahandling import load_ard\n",
    "\n",
    "dc = datacube.Datacube(app='tcw')\n",
    "\n",
    "# %load_ext autoreload\n",
    "\n",
    "# %autoreload 2"
   ]
  },
  {
   "cell_type": "code",
   "execution_count": 4,
   "metadata": {},
   "outputs": [
    {
     "data": {
      "text/plain": [
       "'/home/jovyan/dev/dea-notebooks/Gabrielle_dev'"
      ]
     },
     "execution_count": 4,
     "metadata": {},
     "output_type": "execute_result"
    }
   ],
   "source": [
    "pwd"
   ]
  },
  {
   "cell_type": "code",
   "execution_count": 20,
   "metadata": {},
   "outputs": [],
   "source": [
    "# Define area of interest\n",
    "query = {\n",
    "    \n",
    "        #Mathoura Large\n",
    "# 'y': (-35.6545, -36.0320),\n",
    "# 'x': (144.8179, 145.4289), \n",
    "    \n",
    "    \n",
    "            #Moria Lakes\n",
    "# 'y': (-35.9634, -35.8515),\n",
    "# 'x': (144.8887, 145.0738),\n",
    "    \n",
    "                #lake Frome\n",
    "# 'y': (-30.354, -30.889),\n",
    "# 'x': (139.482, 140.032),\n",
    "\n",
    "        #lake carnegie\n",
    "# 'y': (-36.900, -36.988),\n",
    "# 'x': (149.800, 149.925),\n",
    "\n",
    "            #lake carnegie Smol\n",
    "'y': (-26.076, -26.352),\n",
    "'x': (122.216, 122.552),\n",
    "    \n",
    "    \n",
    "'time': ('2016-01-01', '2016-12-31'),\n",
    "'crs': 'EPSG:4326',\n",
    "'output_crs': 'EPSG: 4326',\n",
    "'resolution': (-25, 25)\n",
    "}"
   ]
  },
  {
   "cell_type": "code",
   "execution_count": 21,
   "metadata": {},
   "outputs": [],
   "source": [
    "# list(dc.list_products()['name'])"
   ]
  },
  {
   "cell_type": "code",
   "execution_count": 22,
   "metadata": {},
   "outputs": [
    {
     "ename": "CRSError",
     "evalue": "Invalid projection: EPSG: 4326: (Internal Proj Error: proj_create: crs not found)",
     "output_type": "error",
     "traceback": [
      "\u001b[0;31m---------------------------------------------------------------------------\u001b[0m",
      "\u001b[0;31mCRSError\u001b[0m                                  Traceback (most recent call last)",
      "\u001b[0;32m<ipython-input-22-17928f5bcb28>\u001b[0m in \u001b[0;36m<module>\u001b[0;34m\u001b[0m\n\u001b[1;32m      1\u001b[0m \u001b[0;31m#load data\u001b[0m\u001b[0;34m\u001b[0m\u001b[0;34m\u001b[0m\u001b[0;34m\u001b[0m\u001b[0m\n\u001b[0;32m----> 2\u001b[0;31m \u001b[0mdata_lst8\u001b[0m \u001b[0;34m=\u001b[0m \u001b[0mdc\u001b[0m\u001b[0;34m.\u001b[0m\u001b[0mload\u001b[0m\u001b[0;34m(\u001b[0m\u001b[0mproduct\u001b[0m\u001b[0;34m=\u001b[0m\u001b[0;34m'ga_ls8c_ard_3'\u001b[0m\u001b[0;34m,\u001b[0m \u001b[0mgroup_by\u001b[0m\u001b[0;34m=\u001b[0m\u001b[0;34m'solar_day'\u001b[0m\u001b[0;34m,\u001b[0m \u001b[0;34m**\u001b[0m\u001b[0mquery\u001b[0m\u001b[0;34m)\u001b[0m\u001b[0;34m\u001b[0m\u001b[0;34m\u001b[0m\u001b[0m\n\u001b[0m",
      "\u001b[0;32m/env/lib/python3.6/site-packages/datacube/api/core.py\u001b[0m in \u001b[0;36mload\u001b[0;34m(self, product, measurements, output_crs, resolution, resampling, skip_broken_datasets, dask_chunks, like, fuse_func, align, datasets, progress_cbk, **query)\u001b[0m\n\u001b[1;32m    302\u001b[0m         geobox = output_geobox(like=like, output_crs=output_crs, resolution=resolution, align=align,\n\u001b[1;32m    303\u001b[0m                                \u001b[0mgrid_spec\u001b[0m\u001b[0;34m=\u001b[0m\u001b[0mdatacube_product\u001b[0m\u001b[0;34m.\u001b[0m\u001b[0mgrid_spec\u001b[0m\u001b[0;34m,\u001b[0m\u001b[0;34m\u001b[0m\u001b[0;34m\u001b[0m\u001b[0m\n\u001b[0;32m--> 304\u001b[0;31m                                datasets=datasets, **query)\n\u001b[0m\u001b[1;32m    305\u001b[0m \u001b[0;34m\u001b[0m\u001b[0m\n\u001b[1;32m    306\u001b[0m         \u001b[0mgroup_by\u001b[0m \u001b[0;34m=\u001b[0m \u001b[0mquery_group_by\u001b[0m\u001b[0;34m(\u001b[0m\u001b[0;34m**\u001b[0m\u001b[0mquery\u001b[0m\u001b[0;34m)\u001b[0m\u001b[0;34m\u001b[0m\u001b[0;34m\u001b[0m\u001b[0m\n",
      "\u001b[0;32m/env/lib/python3.6/site-packages/datacube/api/core.py\u001b[0m in \u001b[0;36moutput_geobox\u001b[0;34m(like, output_crs, resolution, align, grid_spec, datasets, geopolygon, **query)\u001b[0m\n\u001b[1;32m    656\u001b[0m         \u001b[0;32mif\u001b[0m \u001b[0mresolution\u001b[0m \u001b[0;32mis\u001b[0m \u001b[0;32mNone\u001b[0m\u001b[0;34m:\u001b[0m\u001b[0;34m\u001b[0m\u001b[0;34m\u001b[0m\u001b[0m\n\u001b[1;32m    657\u001b[0m             \u001b[0;32mraise\u001b[0m \u001b[0mValueError\u001b[0m\u001b[0;34m(\u001b[0m\u001b[0;34m\"Must specify 'resolution' when specifying 'output_crs'\"\u001b[0m\u001b[0;34m)\u001b[0m\u001b[0;34m\u001b[0m\u001b[0;34m\u001b[0m\u001b[0m\n\u001b[0;32m--> 658\u001b[0;31m         \u001b[0mcrs\u001b[0m \u001b[0;34m=\u001b[0m \u001b[0mgeometry\u001b[0m\u001b[0;34m.\u001b[0m\u001b[0mCRS\u001b[0m\u001b[0;34m(\u001b[0m\u001b[0moutput_crs\u001b[0m\u001b[0;34m)\u001b[0m\u001b[0;34m\u001b[0m\u001b[0;34m\u001b[0m\u001b[0m\n\u001b[0m\u001b[1;32m    659\u001b[0m     \u001b[0;32melse\u001b[0m\u001b[0;34m:\u001b[0m\u001b[0;34m\u001b[0m\u001b[0;34m\u001b[0m\u001b[0m\n\u001b[1;32m    660\u001b[0m         \u001b[0;31m# specification from grid_spec\u001b[0m\u001b[0;34m\u001b[0m\u001b[0;34m\u001b[0m\u001b[0;34m\u001b[0m\u001b[0m\n",
      "\u001b[0;32m/env/lib/python3.6/site-packages/datacube/utils/geometry/_base.py\u001b[0m in \u001b[0;36m__init__\u001b[0;34m(self, crs_str)\u001b[0m\n\u001b[1;32m    165\u001b[0m             \u001b[0;32mraise\u001b[0m \u001b[0mCRSError\u001b[0m\u001b[0;34m(\u001b[0m\u001b[0;34m\"Expect string or any object with `.to_epsg()` or `.to_wkt()` method\"\u001b[0m\u001b[0;34m)\u001b[0m\u001b[0;34m\u001b[0m\u001b[0;34m\u001b[0m\u001b[0m\n\u001b[1;32m    166\u001b[0m \u001b[0;34m\u001b[0m\u001b[0m\n\u001b[0;32m--> 167\u001b[0;31m         \u001b[0m_crs\u001b[0m\u001b[0;34m,\u001b[0m \u001b[0m_epsg\u001b[0m \u001b[0;34m=\u001b[0m \u001b[0m_make_crs\u001b[0m\u001b[0;34m(\u001b[0m\u001b[0mcrs_str\u001b[0m\u001b[0;34m)\u001b[0m\u001b[0;34m\u001b[0m\u001b[0;34m\u001b[0m\u001b[0m\n\u001b[0m\u001b[1;32m    168\u001b[0m \u001b[0;34m\u001b[0m\u001b[0m\n\u001b[1;32m    169\u001b[0m         \u001b[0mself\u001b[0m\u001b[0;34m.\u001b[0m\u001b[0m_crs\u001b[0m \u001b[0;34m=\u001b[0m \u001b[0m_crs\u001b[0m\u001b[0;34m\u001b[0m\u001b[0;34m\u001b[0m\u001b[0m\n",
      "\u001b[0;32m/env/lib/python3.6/site-packages/cachetools/decorators.py\u001b[0m in \u001b[0;36mwrapper\u001b[0;34m(*args, **kwargs)\u001b[0m\n\u001b[1;32m     20\u001b[0m                 \u001b[0;32mexcept\u001b[0m \u001b[0mKeyError\u001b[0m\u001b[0;34m:\u001b[0m\u001b[0;34m\u001b[0m\u001b[0;34m\u001b[0m\u001b[0m\n\u001b[1;32m     21\u001b[0m                     \u001b[0;32mpass\u001b[0m  \u001b[0;31m# key not found\u001b[0m\u001b[0;34m\u001b[0m\u001b[0;34m\u001b[0m\u001b[0m\n\u001b[0;32m---> 22\u001b[0;31m                 \u001b[0mv\u001b[0m \u001b[0;34m=\u001b[0m \u001b[0mfunc\u001b[0m\u001b[0;34m(\u001b[0m\u001b[0;34m*\u001b[0m\u001b[0margs\u001b[0m\u001b[0;34m,\u001b[0m \u001b[0;34m**\u001b[0m\u001b[0mkwargs\u001b[0m\u001b[0;34m)\u001b[0m\u001b[0;34m\u001b[0m\u001b[0;34m\u001b[0m\u001b[0m\n\u001b[0m\u001b[1;32m     23\u001b[0m                 \u001b[0;32mtry\u001b[0m\u001b[0;34m:\u001b[0m\u001b[0;34m\u001b[0m\u001b[0;34m\u001b[0m\u001b[0m\n\u001b[1;32m     24\u001b[0m                     \u001b[0mcache\u001b[0m\u001b[0;34m[\u001b[0m\u001b[0mk\u001b[0m\u001b[0;34m]\u001b[0m \u001b[0;34m=\u001b[0m \u001b[0mv\u001b[0m\u001b[0;34m\u001b[0m\u001b[0;34m\u001b[0m\u001b[0m\n",
      "\u001b[0;32m/env/lib/python3.6/site-packages/datacube/utils/geometry/_base.py\u001b[0m in \u001b[0;36m_make_crs\u001b[0;34m(crs_str)\u001b[0m\n\u001b[1;32m    115\u001b[0m \u001b[0;34m@\u001b[0m\u001b[0mcachetools\u001b[0m\u001b[0;34m.\u001b[0m\u001b[0mcached\u001b[0m\u001b[0;34m(\u001b[0m\u001b[0;34m{\u001b[0m\u001b[0;34m}\u001b[0m\u001b[0;34m)\u001b[0m\u001b[0;34m\u001b[0m\u001b[0;34m\u001b[0m\u001b[0m\n\u001b[1;32m    116\u001b[0m \u001b[0;32mdef\u001b[0m \u001b[0m_make_crs\u001b[0m\u001b[0;34m(\u001b[0m\u001b[0mcrs_str\u001b[0m\u001b[0;34m:\u001b[0m \u001b[0mstr\u001b[0m\u001b[0;34m)\u001b[0m \u001b[0;34m->\u001b[0m \u001b[0mTuple\u001b[0m\u001b[0;34m[\u001b[0m\u001b[0m_CRS\u001b[0m\u001b[0;34m,\u001b[0m \u001b[0mOptional\u001b[0m\u001b[0;34m[\u001b[0m\u001b[0mint\u001b[0m\u001b[0;34m]\u001b[0m\u001b[0;34m]\u001b[0m\u001b[0;34m:\u001b[0m\u001b[0;34m\u001b[0m\u001b[0;34m\u001b[0m\u001b[0m\n\u001b[0;32m--> 117\u001b[0;31m     \u001b[0mcrs\u001b[0m \u001b[0;34m=\u001b[0m \u001b[0m_CRS\u001b[0m\u001b[0;34m.\u001b[0m\u001b[0mfrom_user_input\u001b[0m\u001b[0;34m(\u001b[0m\u001b[0mcrs_str\u001b[0m\u001b[0;34m)\u001b[0m\u001b[0;34m\u001b[0m\u001b[0;34m\u001b[0m\u001b[0m\n\u001b[0m\u001b[1;32m    118\u001b[0m     \u001b[0;32mreturn\u001b[0m \u001b[0;34m(\u001b[0m\u001b[0mcrs\u001b[0m\u001b[0;34m,\u001b[0m \u001b[0mcrs\u001b[0m\u001b[0;34m.\u001b[0m\u001b[0mto_epsg\u001b[0m\u001b[0;34m(\u001b[0m\u001b[0;34m)\u001b[0m\u001b[0;34m)\u001b[0m\u001b[0;34m\u001b[0m\u001b[0;34m\u001b[0m\u001b[0m\n\u001b[1;32m    119\u001b[0m \u001b[0;34m\u001b[0m\u001b[0m\n",
      "\u001b[0;32m/env/lib/python3.6/site-packages/pyproj/crs/crs.py\u001b[0m in \u001b[0;36mfrom_user_input\u001b[0;34m(value, **kwargs)\u001b[0m\n\u001b[1;32m    438\u001b[0m         \u001b[0;32mif\u001b[0m \u001b[0misinstance\u001b[0m\u001b[0;34m(\u001b[0m\u001b[0mvalue\u001b[0m\u001b[0;34m,\u001b[0m \u001b[0mCRS\u001b[0m\u001b[0;34m)\u001b[0m\u001b[0;34m:\u001b[0m\u001b[0;34m\u001b[0m\u001b[0;34m\u001b[0m\u001b[0m\n\u001b[1;32m    439\u001b[0m             \u001b[0;32mreturn\u001b[0m \u001b[0mvalue\u001b[0m\u001b[0;34m\u001b[0m\u001b[0;34m\u001b[0m\u001b[0m\n\u001b[0;32m--> 440\u001b[0;31m         \u001b[0;32mreturn\u001b[0m \u001b[0mCRS\u001b[0m\u001b[0;34m(\u001b[0m\u001b[0mvalue\u001b[0m\u001b[0;34m,\u001b[0m \u001b[0;34m**\u001b[0m\u001b[0mkwargs\u001b[0m\u001b[0;34m)\u001b[0m\u001b[0;34m\u001b[0m\u001b[0;34m\u001b[0m\u001b[0m\n\u001b[0m\u001b[1;32m    441\u001b[0m \u001b[0;34m\u001b[0m\u001b[0m\n\u001b[1;32m    442\u001b[0m     \u001b[0;32mdef\u001b[0m \u001b[0mget_geod\u001b[0m\u001b[0;34m(\u001b[0m\u001b[0mself\u001b[0m\u001b[0;34m)\u001b[0m \u001b[0;34m->\u001b[0m \u001b[0mOptional\u001b[0m\u001b[0;34m[\u001b[0m\u001b[0mGeod\u001b[0m\u001b[0;34m]\u001b[0m\u001b[0;34m:\u001b[0m\u001b[0;34m\u001b[0m\u001b[0;34m\u001b[0m\u001b[0m\n",
      "\u001b[0;32m/env/lib/python3.6/site-packages/pyproj/crs/crs.py\u001b[0m in \u001b[0;36m__init__\u001b[0;34m(self, projparams, **kwargs)\u001b[0m\n\u001b[1;32m    294\u001b[0m             \u001b[0mprojstring\u001b[0m \u001b[0;34m=\u001b[0m \u001b[0m_prepare_from_string\u001b[0m\u001b[0;34m(\u001b[0m\u001b[0;34m\" \"\u001b[0m\u001b[0;34m.\u001b[0m\u001b[0mjoin\u001b[0m\u001b[0;34m(\u001b[0m\u001b[0;34m(\u001b[0m\u001b[0mprojstring\u001b[0m\u001b[0;34m,\u001b[0m \u001b[0mprojkwargs\u001b[0m\u001b[0;34m)\u001b[0m\u001b[0;34m)\u001b[0m\u001b[0;34m)\u001b[0m\u001b[0;34m\u001b[0m\u001b[0;34m\u001b[0m\u001b[0m\n\u001b[1;32m    295\u001b[0m \u001b[0;34m\u001b[0m\u001b[0m\n\u001b[0;32m--> 296\u001b[0;31m         \u001b[0msuper\u001b[0m\u001b[0;34m(\u001b[0m\u001b[0;34m)\u001b[0m\u001b[0;34m.\u001b[0m\u001b[0m__init__\u001b[0m\u001b[0;34m(\u001b[0m\u001b[0mprojstring\u001b[0m\u001b[0;34m)\u001b[0m\u001b[0;34m\u001b[0m\u001b[0;34m\u001b[0m\u001b[0m\n\u001b[0m\u001b[1;32m    297\u001b[0m \u001b[0;34m\u001b[0m\u001b[0m\n\u001b[1;32m    298\u001b[0m     \u001b[0;34m@\u001b[0m\u001b[0mstaticmethod\u001b[0m\u001b[0;34m\u001b[0m\u001b[0;34m\u001b[0m\u001b[0m\n",
      "\u001b[0;32mpyproj/_crs.pyx\u001b[0m in \u001b[0;36mpyproj._crs._CRS.__init__\u001b[0;34m()\u001b[0m\n",
      "\u001b[0;31mCRSError\u001b[0m: Invalid projection: EPSG: 4326: (Internal Proj Error: proj_create: crs not found)"
     ]
    }
   ],
   "source": [
    "#load data\n",
    "data_lst8 = dc.load(product='ga_ls8c_ard_3', group_by='solar_day', **query)"
   ]
  },
  {
   "cell_type": "code",
   "execution_count": null,
   "metadata": {},
   "outputs": [],
   "source": [
    "data_lst8.isel(time=0)"
   ]
  },
  {
   "cell_type": "code",
   "execution_count": null,
   "metadata": {},
   "outputs": [],
   "source": [
    "# Total obs\n",
    "total_obs = int(len(data_lst8.time))\n",
    "total_obs"
   ]
  },
  {
   "cell_type": "code",
   "execution_count": null,
   "metadata": {},
   "outputs": [],
   "source": [
    "# Turn terrain masked values from -999 to Nan\n",
    "# Is this done already from the load_ard? original code was dc.load\n",
    "want_to_mask = (data_lst8 == -999).to_array(dim='variables').all(dim='variables')\n",
    "terrain_out = data_lst8.where(~want_to_mask,np.NaN)"
   ]
  },
  {
   "cell_type": "code",
   "execution_count": 9,
   "metadata": {},
   "outputs": [
    {
     "data": {
      "text/html": [
       "<pre>&lt;xarray.Dataset&gt;\n",
       "Dimensions:                     (time: 23, x: 1418, y: 1335)\n",
       "Coordinates:\n",
       "  * time                        (time) datetime64[ns] 2016-01-11T01:45:23.962938 ... 2016-12-28T01:45:33.675150\n",
       "  * y                           (y) float64 -2.858e+06 -2.858e+06 ... -2.891e+06\n",
       "  * x                           (x) float64 -9.662e+05 -9.662e+05 ... -9.308e+05\n",
       "Data variables:\n",
       "    nbar_coastal_aerosol        (time, y, x) int16 437 437 433 ... 435 430 424\n",
       "    nbar_blue                   (time, y, x) int16 499 499 497 ... 515 511 509\n",
       "    nbar_green                  (time, y, x) int16 842 842 845 ... 914 922 909\n",
       "    nbar_red                    (time, y, x) int16 1608 1608 1666 ... 1777 1749\n",
       "    nbar_nir                    (time, y, x) int16 2425 2425 2517 ... 2279 2258\n",
       "    nbar_swir_1                 (time, y, x) int16 3525 3525 3666 ... 3737 3667\n",
       "    nbar_swir_2                 (time, y, x) int16 3151 3151 3246 ... 2934 2897\n",
       "    nbar_panchromatic           (time, y, x) int16 1087 1114 1210 ... 1230 1193\n",
       "    nbart_coastal_aerosol       (time, y, x) int16 434 434 430 ... 429 426 422\n",
       "    nbart_blue                  (time, y, x) int16 495 495 494 ... 508 507 507\n",
       "    nbart_green                 (time, y, x) int16 835 835 840 ... 902 915 905\n",
       "    nbart_red                   (time, y, x) int16 1595 1595 1653 ... 1763 1741\n",
       "    nbart_nir                   (time, y, x) int16 2405 2405 2499 ... 2262 2248\n",
       "    nbart_swir_1                (time, y, x) int16 3494 3494 3638 ... 3708 3649\n",
       "    nbart_swir_2                (time, y, x) int16 3123 3123 3221 ... 2910 2882\n",
       "    nbart_panchromatic          (time, y, x) int16 1077 1107 1202 ... 1223 1189\n",
       "    oa_fmask                    (time, y, x) uint8 1 1 1 1 1 1 1 ... 1 1 1 1 1 1\n",
       "    oa_nbar_contiguity          (time, y, x) uint8 1 1 1 1 1 1 1 ... 1 1 1 1 1 1\n",
       "    oa_nbart_contiguity         (time, y, x) uint8 1 1 1 1 1 1 1 ... 1 1 1 1 1 1\n",
       "    oa_azimuthal_exiting        (time, y, x) float32 123.91837 ... -142.61702\n",
       "    oa_azimuthal_incident       (time, y, x) float32 155.1052 ... -108.25658\n",
       "    oa_combined_terrain_shadow  (time, y, x) uint8 1 1 1 1 1 1 1 ... 1 1 1 1 1 1\n",
       "    oa_exiting_angle            (time, y, x) float32 3.8653843 ... 0.39266902\n",
       "    oa_incident_angle           (time, y, x) float32 29.69296 ... 28.07935\n",
       "    oa_relative_azimuth         (time, y, x) float32 9.729019 ... 8.473663\n",
       "    oa_relative_slope           (time, y, x) float32 31.186821 ... 34.360443\n",
       "    oa_satellite_azimuth        (time, y, x) float32 99.130714 ... 99.15083\n",
       "    oa_satellite_view           (time, y, x) float32 4.244291 ... 0.8872468\n",
       "    oa_solar_azimuth            (time, y, x) float32 89.401695 ... 90.67717\n",
       "    oa_solar_zenith             (time, y, x) float32 30.629576 ... 28.633675\n",
       "    oa_time_delta               (time, y, x) float32 2.325597 ... 6.5816975\n",
       "Attributes:\n",
       "    crs:      EPSG: 3577</pre>"
      ],
      "text/plain": [
       "<xarray.Dataset>\n",
       "Dimensions:                     (time: 23, x: 1418, y: 1335)\n",
       "Coordinates:\n",
       "  * time                        (time) datetime64[ns] 2016-01-11T01:45:23.962938 ... 2016-12-28T01:45:33.675150\n",
       "  * y                           (y) float64 -2.858e+06 -2.858e+06 ... -2.891e+06\n",
       "  * x                           (x) float64 -9.662e+05 -9.662e+05 ... -9.308e+05\n",
       "Data variables:\n",
       "    nbar_coastal_aerosol        (time, y, x) int16 437 437 433 ... 435 430 424\n",
       "    nbar_blue                   (time, y, x) int16 499 499 497 ... 515 511 509\n",
       "    nbar_green                  (time, y, x) int16 842 842 845 ... 914 922 909\n",
       "    nbar_red                    (time, y, x) int16 1608 1608 1666 ... 1777 1749\n",
       "    nbar_nir                    (time, y, x) int16 2425 2425 2517 ... 2279 2258\n",
       "    nbar_swir_1                 (time, y, x) int16 3525 3525 3666 ... 3737 3667\n",
       "    nbar_swir_2                 (time, y, x) int16 3151 3151 3246 ... 2934 2897\n",
       "    nbar_panchromatic           (time, y, x) int16 1087 1114 1210 ... 1230 1193\n",
       "    nbart_coastal_aerosol       (time, y, x) int16 434 434 430 ... 429 426 422\n",
       "    nbart_blue                  (time, y, x) int16 495 495 494 ... 508 507 507\n",
       "    nbart_green                 (time, y, x) int16 835 835 840 ... 902 915 905\n",
       "    nbart_red                   (time, y, x) int16 1595 1595 1653 ... 1763 1741\n",
       "    nbart_nir                   (time, y, x) int16 2405 2405 2499 ... 2262 2248\n",
       "    nbart_swir_1                (time, y, x) int16 3494 3494 3638 ... 3708 3649\n",
       "    nbart_swir_2                (time, y, x) int16 3123 3123 3221 ... 2910 2882\n",
       "    nbart_panchromatic          (time, y, x) int16 1077 1107 1202 ... 1223 1189\n",
       "    oa_fmask                    (time, y, x) uint8 1 1 1 1 1 1 1 ... 1 1 1 1 1 1\n",
       "    oa_nbar_contiguity          (time, y, x) uint8 1 1 1 1 1 1 1 ... 1 1 1 1 1 1\n",
       "    oa_nbart_contiguity         (time, y, x) uint8 1 1 1 1 1 1 1 ... 1 1 1 1 1 1\n",
       "    oa_azimuthal_exiting        (time, y, x) float32 123.91837 ... -142.61702\n",
       "    oa_azimuthal_incident       (time, y, x) float32 155.1052 ... -108.25658\n",
       "    oa_combined_terrain_shadow  (time, y, x) uint8 1 1 1 1 1 1 1 ... 1 1 1 1 1 1\n",
       "    oa_exiting_angle            (time, y, x) float32 3.8653843 ... 0.39266902\n",
       "    oa_incident_angle           (time, y, x) float32 29.69296 ... 28.07935\n",
       "    oa_relative_azimuth         (time, y, x) float32 9.729019 ... 8.473663\n",
       "    oa_relative_slope           (time, y, x) float32 31.186821 ... 34.360443\n",
       "    oa_satellite_azimuth        (time, y, x) float32 99.130714 ... 99.15083\n",
       "    oa_satellite_view           (time, y, x) float32 4.244291 ... 0.8872468\n",
       "    oa_solar_azimuth            (time, y, x) float32 89.401695 ... 90.67717\n",
       "    oa_solar_zenith             (time, y, x) float32 30.629576 ... 28.633675\n",
       "    oa_time_delta               (time, y, x) float32 2.325597 ... 6.5816975\n",
       "Attributes:\n",
       "    crs:      EPSG: 3577"
      ]
     },
     "execution_count": 9,
     "metadata": {},
     "output_type": "execute_result"
    }
   ],
   "source": [
    "# Load PQ\n",
    "sensor_pq = dc.load(product='ga_ls8c_ard_3',fuse_func=ga_pq_fuser,group_by='solar_day',**query)\n",
    "sensor_pq\n"
   ]
  },
  {
   "cell_type": "code",
   "execution_count": 10,
   "metadata": {},
   "outputs": [
    {
     "data": {
      "text/html": [
       "<pre>&lt;xarray.Dataset&gt;\n",
       "Dimensions:      (time: 1, x: 1418, y: 1335)\n",
       "Coordinates:\n",
       "  * time         (time) datetime64[ns] 2016-01-01\n",
       "  * y            (y) float64 -2.858e+06 -2.858e+06 ... -2.891e+06 -2.891e+06\n",
       "  * x            (x) float64 -9.662e+05 -9.662e+05 ... -9.308e+05 -9.308e+05\n",
       "Data variables:\n",
       "    count_wet    (time, y, x) int16 0 0 0 0 0 0 0 0 0 0 ... 0 0 0 0 0 0 0 0 0 0\n",
       "    count_clear  (time, y, x) int16 27 27 26 26 26 26 26 ... 34 34 34 34 34 35\n",
       "    frequency    (time, y, x) float32 0.0 0.0 0.0 0.0 0.0 ... 0.0 0.0 0.0 0.0\n",
       "Attributes:\n",
       "    crs:      EPSG: 3577</pre>"
      ],
      "text/plain": [
       "<xarray.Dataset>\n",
       "Dimensions:      (time: 1, x: 1418, y: 1335)\n",
       "Coordinates:\n",
       "  * time         (time) datetime64[ns] 2016-01-01\n",
       "  * y            (y) float64 -2.858e+06 -2.858e+06 ... -2.891e+06 -2.891e+06\n",
       "  * x            (x) float64 -9.662e+05 -9.662e+05 ... -9.308e+05 -9.308e+05\n",
       "Data variables:\n",
       "    count_wet    (time, y, x) int16 0 0 0 0 0 0 0 0 0 0 ... 0 0 0 0 0 0 0 0 0 0\n",
       "    count_clear  (time, y, x) int16 27 27 26 26 26 26 26 ... 34 34 34 34 34 35\n",
       "    frequency    (time, y, x) float32 0.0 0.0 0.0 0.0 0.0 ... 0.0 0.0 0.0 0.0\n",
       "Attributes:\n",
       "    crs:      EPSG: 3577"
      ]
     },
     "execution_count": 10,
     "metadata": {},
     "output_type": "execute_result"
    }
   ],
   "source": [
    "# Load wofs filtered summary\n",
    "wofs_filtered_summary = dc.load(product='wofs_annual_summary',**query)\n",
    "wofs_filtered_summary"
   ]
  },
  {
   "cell_type": "code",
   "execution_count": 11,
   "metadata": {},
   "outputs": [
    {
     "ename": "AttributeError",
     "evalue": "'Dataset' object has no attribute 'pixelquality'",
     "output_type": "error",
     "traceback": [
      "\u001b[0;31m---------------------------------------------------------------------------\u001b[0m",
      "\u001b[0;31mAttributeError\u001b[0m                            Traceback (most recent call last)",
      "\u001b[0;32m<ipython-input-11-a7c14e870498>\u001b[0m in \u001b[0;36m<module>\u001b[0;34m\u001b[0m\n\u001b[1;32m      2\u001b[0m \u001b[0;34m\u001b[0m\u001b[0m\n\u001b[1;32m      3\u001b[0m \u001b[0;31m# Make mask\u001b[0m\u001b[0;34m\u001b[0m\u001b[0;34m\u001b[0m\u001b[0;34m\u001b[0m\u001b[0m\n\u001b[0;32m----> 4\u001b[0;31m good_quality = masking.make_mask(sensor_pq.pixelquality,\n\u001b[0m\u001b[1;32m      5\u001b[0m                                  \u001b[0mcloud_acca\u001b[0m\u001b[0;34m=\u001b[0m\u001b[0;34m'no_cloud'\u001b[0m\u001b[0;34m,\u001b[0m\u001b[0;34m\u001b[0m\u001b[0;34m\u001b[0m\u001b[0m\n\u001b[1;32m      6\u001b[0m                                  \u001b[0mcloud_fmask\u001b[0m\u001b[0;34m=\u001b[0m\u001b[0;34m'no_cloud'\u001b[0m\u001b[0;34m,\u001b[0m\u001b[0;34m\u001b[0m\u001b[0;34m\u001b[0m\u001b[0m\n",
      "\u001b[0;32m/usr/local/lib/python3.6/dist-packages/xarray/core/common.py\u001b[0m in \u001b[0;36m__getattr__\u001b[0;34m(self, name)\u001b[0m\n\u001b[1;32m    231\u001b[0m                     \u001b[0;32mreturn\u001b[0m \u001b[0msource\u001b[0m\u001b[0;34m[\u001b[0m\u001b[0mname\u001b[0m\u001b[0;34m]\u001b[0m\u001b[0;34m\u001b[0m\u001b[0;34m\u001b[0m\u001b[0m\n\u001b[1;32m    232\u001b[0m         raise AttributeError(\n\u001b[0;32m--> 233\u001b[0;31m             \u001b[0;34m\"{!r} object has no attribute {!r}\"\u001b[0m\u001b[0;34m.\u001b[0m\u001b[0mformat\u001b[0m\u001b[0;34m(\u001b[0m\u001b[0mtype\u001b[0m\u001b[0;34m(\u001b[0m\u001b[0mself\u001b[0m\u001b[0;34m)\u001b[0m\u001b[0;34m.\u001b[0m\u001b[0m__name__\u001b[0m\u001b[0;34m,\u001b[0m \u001b[0mname\u001b[0m\u001b[0;34m)\u001b[0m\u001b[0;34m\u001b[0m\u001b[0;34m\u001b[0m\u001b[0m\n\u001b[0m\u001b[1;32m    234\u001b[0m         )\n\u001b[1;32m    235\u001b[0m \u001b[0;34m\u001b[0m\u001b[0m\n",
      "\u001b[0;31mAttributeError\u001b[0m: 'Dataset' object has no attribute 'pixelquality'"
     ]
    }
   ],
   "source": [
    "# Mask cloud\n",
    "\n",
    "# Make mask\n",
    "good_quality = masking.make_mask(sensor_pq.pixelquality,\n",
    "                                 cloud_acca='no_cloud',\n",
    "                                 cloud_fmask='no_cloud',\n",
    "                                 cloud_shadow_acca='no_cloud_shadow',\n",
    "                                 cloud_shadow_fmask='no_cloud_shadow',\n",
    "                                 blue_saturated=False,\n",
    "                                 green_saturated=False,\n",
    "                                 red_saturated=False,\n",
    "                                 nir_saturated=False,\n",
    "                                 swir1_saturated=False,\n",
    "                                 swir2_saturated=False,\n",
    "                                 contiguous=True)\n",
    "\n",
    "# Apply mask \n",
    "Masked_lst8_data = terrain_out.where(good_quality)"
   ]
  },
  {
   "cell_type": "code",
   "execution_count": 12,
   "metadata": {},
   "outputs": [
    {
     "data": {
      "text/html": [
       "<pre>&lt;xarray.Dataset&gt;\n",
       "Dimensions:                     (x: 1418, y: 1335)\n",
       "Coordinates:\n",
       "    time                        datetime64[ns] 2016-02-28T01:45:13.360583\n",
       "  * y                           (y) float64 -2.858e+06 -2.858e+06 ... -2.891e+06\n",
       "  * x                           (x) float64 -9.662e+05 -9.662e+05 ... -9.308e+05\n",
       "Data variables:\n",
       "    nbar_coastal_aerosol        (y, x) int16 461 461 455 455 ... 416 417 410 404\n",
       "    nbar_blue                   (y, x) int16 522 522 520 529 ... 494 500 490 486\n",
       "    nbar_green                  (y, x) int16 917 917 933 947 ... 872 881 879 869\n",
       "    nbar_red                    (y, x) int16 1735 1735 1778 ... 1686 1676 1642\n",
       "    nbar_nir                    (y, x) int16 2799 2799 2802 ... 2269 2283 2251\n",
       "    nbar_swir_1                 (y, x) int16 3698 3698 3786 ... 3674 3593 3505\n",
       "    nbar_swir_2                 (y, x) int16 3249 3249 3447 ... 2811 2817 2745\n",
       "    nbar_panchromatic           (y, x) int16 1147 1163 1328 ... 1155 1133 1100\n",
       "    nbart_coastal_aerosol       (y, x) int16 454 454 450 450 ... 406 410 406 402\n",
       "    nbart_blue                  (y, x) int16 514 514 513 523 ... 482 492 485 483\n",
       "    nbart_green                 (y, x) int16 903 903 921 938 ... 852 866 870 863\n",
       "    nbart_red                   (y, x) int16 1705 1705 1752 ... 1654 1658 1631\n",
       "    nbart_nir                   (y, x) int16 2756 2756 2766 ... 2230 2260 2237\n",
       "    nbart_swir_1                (y, x) int16 3635 3635 3731 ... 3604 3553 3482\n",
       "    nbart_swir_2                (y, x) int16 3190 3190 3395 ... 2754 2784 2725\n",
       "    nbart_panchromatic          (y, x) int16 1125 1148 1310 ... 1140 1123 1095\n",
       "    oa_fmask                    (y, x) uint8 1 1 1 1 1 1 1 1 ... 1 1 1 1 1 1 1 1\n",
       "    oa_nbar_contiguity          (y, x) uint8 1 1 1 1 1 1 1 1 ... 1 1 1 1 1 1 1 1\n",
       "    oa_nbart_contiguity         (y, x) uint8 1 1 1 1 1 1 1 1 ... 1 1 1 1 1 1 1 1\n",
       "    oa_azimuthal_exiting        (y, x) float32 124.08696 ... -138.15915\n",
       "    oa_azimuthal_incident       (y, x) float32 177.83429 177.83429 ... -84.80056\n",
       "    oa_combined_terrain_shadow  (y, x) uint8 1 1 1 1 1 1 1 1 ... 1 1 1 1 1 1 1 1\n",
       "    oa_exiting_angle            (y, x) float32 3.8869057 ... 0.48132652\n",
       "    oa_incident_angle           (y, x) float32 35.984886 35.984886 ... 36.700302\n",
       "    oa_relative_azimuth         (y, x) float32 31.271477 31.271477 ... 31.975868\n",
       "    oa_relative_slope           (y, x) float32 53.74733 53.74733 ... 53.35859\n",
       "    oa_satellite_azimuth        (y, x) float32 99.13075 99.13075 ... 99.15098\n",
       "    oa_satellite_view           (y, x) float32 4.268114 4.268114 ... 0.9829216\n",
       "    oa_solar_azimuth            (y, x) float32 67.859276 67.859276 ... 67.17511\n",
       "    oa_solar_zenith             (y, x) float32 37.398277 37.398277 ... 37.24538\n",
       "    oa_time_delta               (y, x) float32 2.3331482 2.3331482 ... 6.611895\n",
       "Attributes:\n",
       "    crs:      EPSG: 3577</pre>"
      ],
      "text/plain": [
       "<xarray.Dataset>\n",
       "Dimensions:                     (x: 1418, y: 1335)\n",
       "Coordinates:\n",
       "    time                        datetime64[ns] 2016-02-28T01:45:13.360583\n",
       "  * y                           (y) float64 -2.858e+06 -2.858e+06 ... -2.891e+06\n",
       "  * x                           (x) float64 -9.662e+05 -9.662e+05 ... -9.308e+05\n",
       "Data variables:\n",
       "    nbar_coastal_aerosol        (y, x) int16 461 461 455 455 ... 416 417 410 404\n",
       "    nbar_blue                   (y, x) int16 522 522 520 529 ... 494 500 490 486\n",
       "    nbar_green                  (y, x) int16 917 917 933 947 ... 872 881 879 869\n",
       "    nbar_red                    (y, x) int16 1735 1735 1778 ... 1686 1676 1642\n",
       "    nbar_nir                    (y, x) int16 2799 2799 2802 ... 2269 2283 2251\n",
       "    nbar_swir_1                 (y, x) int16 3698 3698 3786 ... 3674 3593 3505\n",
       "    nbar_swir_2                 (y, x) int16 3249 3249 3447 ... 2811 2817 2745\n",
       "    nbar_panchromatic           (y, x) int16 1147 1163 1328 ... 1155 1133 1100\n",
       "    nbart_coastal_aerosol       (y, x) int16 454 454 450 450 ... 406 410 406 402\n",
       "    nbart_blue                  (y, x) int16 514 514 513 523 ... 482 492 485 483\n",
       "    nbart_green                 (y, x) int16 903 903 921 938 ... 852 866 870 863\n",
       "    nbart_red                   (y, x) int16 1705 1705 1752 ... 1654 1658 1631\n",
       "    nbart_nir                   (y, x) int16 2756 2756 2766 ... 2230 2260 2237\n",
       "    nbart_swir_1                (y, x) int16 3635 3635 3731 ... 3604 3553 3482\n",
       "    nbart_swir_2                (y, x) int16 3190 3190 3395 ... 2754 2784 2725\n",
       "    nbart_panchromatic          (y, x) int16 1125 1148 1310 ... 1140 1123 1095\n",
       "    oa_fmask                    (y, x) uint8 1 1 1 1 1 1 1 1 ... 1 1 1 1 1 1 1 1\n",
       "    oa_nbar_contiguity          (y, x) uint8 1 1 1 1 1 1 1 1 ... 1 1 1 1 1 1 1 1\n",
       "    oa_nbart_contiguity         (y, x) uint8 1 1 1 1 1 1 1 1 ... 1 1 1 1 1 1 1 1\n",
       "    oa_azimuthal_exiting        (y, x) float32 124.08696 ... -138.15915\n",
       "    oa_azimuthal_incident       (y, x) float32 177.83429 177.83429 ... -84.80056\n",
       "    oa_combined_terrain_shadow  (y, x) uint8 1 1 1 1 1 1 1 1 ... 1 1 1 1 1 1 1 1\n",
       "    oa_exiting_angle            (y, x) float32 3.8869057 ... 0.48132652\n",
       "    oa_incident_angle           (y, x) float32 35.984886 35.984886 ... 36.700302\n",
       "    oa_relative_azimuth         (y, x) float32 31.271477 31.271477 ... 31.975868\n",
       "    oa_relative_slope           (y, x) float32 53.74733 53.74733 ... 53.35859\n",
       "    oa_satellite_azimuth        (y, x) float32 99.13075 99.13075 ... 99.15098\n",
       "    oa_satellite_view           (y, x) float32 4.268114 4.268114 ... 0.9829216\n",
       "    oa_solar_azimuth            (y, x) float32 67.859276 67.859276 ... 67.17511\n",
       "    oa_solar_zenith             (y, x) float32 37.398277 37.398277 ... 37.24538\n",
       "    oa_time_delta               (y, x) float32 2.3331482 2.3331482 ... 6.611895\n",
       "Attributes:\n",
       "    crs:      EPSG: 3577"
      ]
     },
     "execution_count": 12,
     "metadata": {},
     "output_type": "execute_result"
    }
   ],
   "source": [
    "data_lst8_once = data_lst8.isel(time=3)\n",
    "data_lst8_once\n",
    "#data_lst8_once = Masked_lst8_data.isel(time=3)"
   ]
  },
  {
   "cell_type": "code",
   "execution_count": 13,
   "metadata": {},
   "outputs": [
    {
     "ename": "KeyError",
     "evalue": "\"not all values found in index 'color'\"",
     "output_type": "error",
     "traceback": [
      "\u001b[0;31m---------------------------------------------------------------------------\u001b[0m",
      "\u001b[0;31mKeyError\u001b[0m                                  Traceback (most recent call last)",
      "\u001b[0;32m<ipython-input-13-92dbd254d5d7>\u001b[0m in \u001b[0;36m<module>\u001b[0;34m\u001b[0m\n\u001b[1;32m      2\u001b[0m \u001b[0;34m\u001b[0m\u001b[0m\n\u001b[1;32m      3\u001b[0m rgb = data_lst8_once.to_array(dim='color').sel(color=[\n\u001b[0;32m----> 4\u001b[0;31m     'red','green', 'blue']).transpose('y', 'x', 'color')\n\u001b[0m\u001b[1;32m      5\u001b[0m \u001b[0mfake_saturation\u001b[0m \u001b[0;34m=\u001b[0m \u001b[0;36m2000.0\u001b[0m  \u001b[0;31m#you may need to adjust this to get a clear image. higher numbers will make it darker,\u001b[0m\u001b[0;34m\u001b[0m\u001b[0;34m\u001b[0m\u001b[0m\n\u001b[1;32m      6\u001b[0m                                                                             \u001b[0;31m#lower will make it ligher\u001b[0m\u001b[0;34m\u001b[0m\u001b[0;34m\u001b[0m\u001b[0;34m\u001b[0m\u001b[0m\n",
      "\u001b[0;32m/usr/local/lib/python3.6/dist-packages/xarray/core/dataarray.py\u001b[0m in \u001b[0;36msel\u001b[0;34m(self, indexers, method, tolerance, drop, **indexers_kwargs)\u001b[0m\n\u001b[1;32m   1059\u001b[0m             \u001b[0mmethod\u001b[0m\u001b[0;34m=\u001b[0m\u001b[0mmethod\u001b[0m\u001b[0;34m,\u001b[0m\u001b[0;34m\u001b[0m\u001b[0;34m\u001b[0m\u001b[0m\n\u001b[1;32m   1060\u001b[0m             \u001b[0mtolerance\u001b[0m\u001b[0;34m=\u001b[0m\u001b[0mtolerance\u001b[0m\u001b[0;34m,\u001b[0m\u001b[0;34m\u001b[0m\u001b[0;34m\u001b[0m\u001b[0m\n\u001b[0;32m-> 1061\u001b[0;31m             \u001b[0;34m**\u001b[0m\u001b[0mindexers_kwargs\u001b[0m\u001b[0;34m,\u001b[0m\u001b[0;34m\u001b[0m\u001b[0;34m\u001b[0m\u001b[0m\n\u001b[0m\u001b[1;32m   1062\u001b[0m         )\n\u001b[1;32m   1063\u001b[0m         \u001b[0;32mreturn\u001b[0m \u001b[0mself\u001b[0m\u001b[0;34m.\u001b[0m\u001b[0m_from_temp_dataset\u001b[0m\u001b[0;34m(\u001b[0m\u001b[0mds\u001b[0m\u001b[0;34m)\u001b[0m\u001b[0;34m\u001b[0m\u001b[0;34m\u001b[0m\u001b[0m\n",
      "\u001b[0;32m/usr/local/lib/python3.6/dist-packages/xarray/core/dataset.py\u001b[0m in \u001b[0;36msel\u001b[0;34m(self, indexers, method, tolerance, drop, **indexers_kwargs)\u001b[0m\n\u001b[1;32m   2055\u001b[0m         \u001b[0mindexers\u001b[0m \u001b[0;34m=\u001b[0m \u001b[0meither_dict_or_kwargs\u001b[0m\u001b[0;34m(\u001b[0m\u001b[0mindexers\u001b[0m\u001b[0;34m,\u001b[0m \u001b[0mindexers_kwargs\u001b[0m\u001b[0;34m,\u001b[0m \u001b[0;34m\"sel\"\u001b[0m\u001b[0;34m)\u001b[0m\u001b[0;34m\u001b[0m\u001b[0;34m\u001b[0m\u001b[0m\n\u001b[1;32m   2056\u001b[0m         pos_indexers, new_indexes = remap_label_indexers(\n\u001b[0;32m-> 2057\u001b[0;31m             \u001b[0mself\u001b[0m\u001b[0;34m,\u001b[0m \u001b[0mindexers\u001b[0m\u001b[0;34m=\u001b[0m\u001b[0mindexers\u001b[0m\u001b[0;34m,\u001b[0m \u001b[0mmethod\u001b[0m\u001b[0;34m=\u001b[0m\u001b[0mmethod\u001b[0m\u001b[0;34m,\u001b[0m \u001b[0mtolerance\u001b[0m\u001b[0;34m=\u001b[0m\u001b[0mtolerance\u001b[0m\u001b[0;34m\u001b[0m\u001b[0;34m\u001b[0m\u001b[0m\n\u001b[0m\u001b[1;32m   2058\u001b[0m         )\n\u001b[1;32m   2059\u001b[0m         \u001b[0mresult\u001b[0m \u001b[0;34m=\u001b[0m \u001b[0mself\u001b[0m\u001b[0;34m.\u001b[0m\u001b[0misel\u001b[0m\u001b[0;34m(\u001b[0m\u001b[0mindexers\u001b[0m\u001b[0;34m=\u001b[0m\u001b[0mpos_indexers\u001b[0m\u001b[0;34m,\u001b[0m \u001b[0mdrop\u001b[0m\u001b[0;34m=\u001b[0m\u001b[0mdrop\u001b[0m\u001b[0;34m)\u001b[0m\u001b[0;34m\u001b[0m\u001b[0;34m\u001b[0m\u001b[0m\n",
      "\u001b[0;32m/usr/local/lib/python3.6/dist-packages/xarray/core/coordinates.py\u001b[0m in \u001b[0;36mremap_label_indexers\u001b[0;34m(obj, indexers, method, tolerance, **indexers_kwargs)\u001b[0m\n\u001b[1;32m    390\u001b[0m \u001b[0;34m\u001b[0m\u001b[0m\n\u001b[1;32m    391\u001b[0m     pos_indexers, new_indexes = indexing.remap_label_indexers(\n\u001b[0;32m--> 392\u001b[0;31m         \u001b[0mobj\u001b[0m\u001b[0;34m,\u001b[0m \u001b[0mv_indexers\u001b[0m\u001b[0;34m,\u001b[0m \u001b[0mmethod\u001b[0m\u001b[0;34m=\u001b[0m\u001b[0mmethod\u001b[0m\u001b[0;34m,\u001b[0m \u001b[0mtolerance\u001b[0m\u001b[0;34m=\u001b[0m\u001b[0mtolerance\u001b[0m\u001b[0;34m\u001b[0m\u001b[0;34m\u001b[0m\u001b[0m\n\u001b[0m\u001b[1;32m    393\u001b[0m     )\n\u001b[1;32m    394\u001b[0m     \u001b[0;31m# attach indexer's coordinate to pos_indexers\u001b[0m\u001b[0;34m\u001b[0m\u001b[0;34m\u001b[0m\u001b[0;34m\u001b[0m\u001b[0m\n",
      "\u001b[0;32m/usr/local/lib/python3.6/dist-packages/xarray/core/indexing.py\u001b[0m in \u001b[0;36mremap_label_indexers\u001b[0;34m(data_obj, indexers, method, tolerance)\u001b[0m\n\u001b[1;32m    268\u001b[0m             \u001b[0mcoords_dtype\u001b[0m \u001b[0;34m=\u001b[0m \u001b[0mdata_obj\u001b[0m\u001b[0;34m.\u001b[0m\u001b[0mcoords\u001b[0m\u001b[0;34m[\u001b[0m\u001b[0mdim\u001b[0m\u001b[0;34m]\u001b[0m\u001b[0;34m.\u001b[0m\u001b[0mdtype\u001b[0m\u001b[0;34m\u001b[0m\u001b[0;34m\u001b[0m\u001b[0m\n\u001b[1;32m    269\u001b[0m             \u001b[0mlabel\u001b[0m \u001b[0;34m=\u001b[0m \u001b[0mmaybe_cast_to_coords_dtype\u001b[0m\u001b[0;34m(\u001b[0m\u001b[0mlabel\u001b[0m\u001b[0;34m,\u001b[0m \u001b[0mcoords_dtype\u001b[0m\u001b[0;34m)\u001b[0m\u001b[0;34m\u001b[0m\u001b[0;34m\u001b[0m\u001b[0m\n\u001b[0;32m--> 270\u001b[0;31m             \u001b[0midxr\u001b[0m\u001b[0;34m,\u001b[0m \u001b[0mnew_idx\u001b[0m \u001b[0;34m=\u001b[0m \u001b[0mconvert_label_indexer\u001b[0m\u001b[0;34m(\u001b[0m\u001b[0mindex\u001b[0m\u001b[0;34m,\u001b[0m \u001b[0mlabel\u001b[0m\u001b[0;34m,\u001b[0m \u001b[0mdim\u001b[0m\u001b[0;34m,\u001b[0m \u001b[0mmethod\u001b[0m\u001b[0;34m,\u001b[0m \u001b[0mtolerance\u001b[0m\u001b[0;34m)\u001b[0m\u001b[0;34m\u001b[0m\u001b[0;34m\u001b[0m\u001b[0m\n\u001b[0m\u001b[1;32m    271\u001b[0m             \u001b[0mpos_indexers\u001b[0m\u001b[0;34m[\u001b[0m\u001b[0mdim\u001b[0m\u001b[0;34m]\u001b[0m \u001b[0;34m=\u001b[0m \u001b[0midxr\u001b[0m\u001b[0;34m\u001b[0m\u001b[0;34m\u001b[0m\u001b[0m\n\u001b[1;32m    272\u001b[0m             \u001b[0;32mif\u001b[0m \u001b[0mnew_idx\u001b[0m \u001b[0;32mis\u001b[0m \u001b[0;32mnot\u001b[0m \u001b[0;32mNone\u001b[0m\u001b[0;34m:\u001b[0m\u001b[0;34m\u001b[0m\u001b[0;34m\u001b[0m\u001b[0m\n",
      "\u001b[0;32m/usr/local/lib/python3.6/dist-packages/xarray/core/indexing.py\u001b[0m in \u001b[0;36mconvert_label_indexer\u001b[0;34m(index, label, index_name, method, tolerance)\u001b[0m\n\u001b[1;32m    200\u001b[0m             \u001b[0mindexer\u001b[0m \u001b[0;34m=\u001b[0m \u001b[0mget_indexer_nd\u001b[0m\u001b[0;34m(\u001b[0m\u001b[0mindex\u001b[0m\u001b[0;34m,\u001b[0m \u001b[0mlabel\u001b[0m\u001b[0;34m,\u001b[0m \u001b[0mmethod\u001b[0m\u001b[0;34m,\u001b[0m \u001b[0mtolerance\u001b[0m\u001b[0;34m)\u001b[0m\u001b[0;34m\u001b[0m\u001b[0;34m\u001b[0m\u001b[0m\n\u001b[1;32m    201\u001b[0m             \u001b[0;32mif\u001b[0m \u001b[0mnp\u001b[0m\u001b[0;34m.\u001b[0m\u001b[0many\u001b[0m\u001b[0;34m(\u001b[0m\u001b[0mindexer\u001b[0m \u001b[0;34m<\u001b[0m \u001b[0;36m0\u001b[0m\u001b[0;34m)\u001b[0m\u001b[0;34m:\u001b[0m\u001b[0;34m\u001b[0m\u001b[0;34m\u001b[0m\u001b[0m\n\u001b[0;32m--> 202\u001b[0;31m                 \u001b[0;32mraise\u001b[0m \u001b[0mKeyError\u001b[0m\u001b[0;34m(\u001b[0m\u001b[0;34mf\"not all values found in index {index_name!r}\"\u001b[0m\u001b[0;34m)\u001b[0m\u001b[0;34m\u001b[0m\u001b[0;34m\u001b[0m\u001b[0m\n\u001b[0m\u001b[1;32m    203\u001b[0m     \u001b[0;32mreturn\u001b[0m \u001b[0mindexer\u001b[0m\u001b[0;34m,\u001b[0m \u001b[0mnew_index\u001b[0m\u001b[0;34m\u001b[0m\u001b[0;34m\u001b[0m\u001b[0m\n\u001b[1;32m    204\u001b[0m \u001b[0;34m\u001b[0m\u001b[0m\n",
      "\u001b[0;31mKeyError\u001b[0m: \"not all values found in index 'color'\""
     ]
    }
   ],
   "source": [
    "\n",
    "#Prepare geomedian imagery for plotting\n",
    "\n",
    "rgb = data_lst8_once.to_array(dim='color').sel(color=[\n",
    "    'red','green', 'blue']).transpose('y', 'x', 'color')\n",
    "fake_saturation = 2000.0  #you may need to adjust this to get a clear image. higher numbers will make it darker, \n",
    "                                                                            #lower will make it ligher\n",
    "rgb = rgb.astype('double')\n",
    "clipped_visible = rgb.where(rgb<fake_saturation).fillna(fake_saturation)\n",
    "max_val = clipped_visible.max(['y', 'x'])\n",
    "scaled = (clipped_visible / max_val)\n",
    "\n",
    "fig = plt.figure(figsize =(15,15)) #edit size of plot \n",
    "plt.subplots_adjust(left=0.05, right=0.95, top=0.95, bottom=0.05) #set border dimensions\n",
    "fig.patch.set_facecolor('white') #make border white \n",
    "fig.patch.set_alpha(0.99)#ensure border white\n",
    "plt.axis('off')#remove axis \n",
    "plt.title('True Colour') #add title\n",
    "plt.imshow(scaled, interpolation = 'nearest') #create image"
   ]
  },
  {
   "cell_type": "code",
   "execution_count": null,
   "metadata": {},
   "outputs": [],
   "source": [
    "#Do tassled Cap transformation\n",
    "TCI = BandIndices.tasseled_cap(Masked_lst8_data, tc_bands=['wetness'], drop=True)\n",
    "\n",
    "tcw = TCI['wetness']"
   ]
  },
  {
   "cell_type": "code",
   "execution_count": null,
   "metadata": {},
   "outputs": [],
   "source": [
    "# Plot an example of TCW\n",
    "tcw.isel(time=3).plot(cmap='viridis', figsize =(15,12),vmin=-300)"
   ]
  },
  {
   "cell_type": "code",
   "execution_count": null,
   "metadata": {},
   "outputs": [],
   "source": [
    "#make Fisher index\n",
    "\n",
    "lst_fisher = 1.7204 +((171*Masked_lst8_data['green'])+(3*Masked_lst8_data['red'])-(70*Masked_lst8_data['nir'])-(45*Masked_lst8_data['swir1'])-(71*Masked_lst8_data['swir2']))/10000\n",
    "lst_fisher"
   ]
  },
  {
   "cell_type": "code",
   "execution_count": null,
   "metadata": {},
   "outputs": [],
   "source": [
    "# Plot an example of Fisher Index\n",
    "lst_fisher.isel(time=3).plot(cmap='viridis', figsize =(15,12), vmin=-10)"
   ]
  },
  {
   "cell_type": "code",
   "execution_count": null,
   "metadata": {},
   "outputs": [],
   "source": [
    "inundated_veg_msk = (np.logical_and(lst_fisher>=-10,tcw>=-400))\n",
    "inundated_veg = lst_fisher.where(inundated_veg_msk==True,0)\n",
    "inundated_veg = inundated_veg.where(inundated_veg_msk==False,1)"
   ]
  },
  {
   "cell_type": "code",
   "execution_count": null,
   "metadata": {},
   "outputs": [],
   "source": [
    "# count_wet = inundated_veg.where(inundated_veg==1)\n",
    "count_wet = inundated_veg.where(inundated_veg>0).count(dim=['x','y'])"
   ]
  },
  {
   "cell_type": "code",
   "execution_count": null,
   "metadata": {},
   "outputs": [],
   "source": [
    "count_wet.plot(figsize =(15,12))"
   ]
  },
  {
   "cell_type": "code",
   "execution_count": null,
   "metadata": {},
   "outputs": [],
   "source": [
    "wet_frequency = inundated_veg.sum(dim='time')"
   ]
  },
  {
   "cell_type": "code",
   "execution_count": null,
   "metadata": {},
   "outputs": [],
   "source": [
    "# Plot inundated veg\n",
    "wet_frequency.plot(cmap='viridis', figsize =(15,12))"
   ]
  },
  {
   "cell_type": "code",
   "execution_count": 8,
   "metadata": {},
   "outputs": [],
   "source": [
    "# Plot wofs comparison\n",
    "wofs_filtered_summary.frequency.plot(cmap='viridis',figsize =(15,12),vmin=0.2,)"
   ]
  },
  {
   "cell_type": "code",
   "execution_count": null,
   "metadata": {},
   "outputs": [],
   "source": [
    "precent_threhold = total_obs*0.2\n",
    "precent_threhold"
   ]
  },
  {
   "cell_type": "code",
   "execution_count": null,
   "metadata": {},
   "outputs": [],
   "source": [
    "persistant_wet = wet_frequency.where(wet_frequency>precent_threhold,0)\n",
    "persistant_wet = persistant_wet.where(wofs_filtered_summary.frequency<0.2,0)\n",
    "persistant_wet.plot(figsize =(15,12))"
   ]
  },
  {
   "cell_type": "code",
   "execution_count": null,
   "metadata": {},
   "outputs": [],
   "source": [
    "persistant_wet"
   ]
  }
 ],
 "metadata": {
  "kernelspec": {
   "display_name": "Python 3",
   "language": "python",
   "name": "python3"
  },
  "language_info": {
   "codemirror_mode": {
    "name": "ipython",
    "version": 3
   },
   "file_extension": ".py",
   "mimetype": "text/x-python",
   "name": "python",
   "nbconvert_exporter": "python",
   "pygments_lexer": "ipython3",
   "version": "3.6.9"
  }
 },
 "nbformat": 4,
 "nbformat_minor": 4
}
