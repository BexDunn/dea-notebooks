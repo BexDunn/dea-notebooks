{
 "cells": [
  {
   "cell_type": "markdown",
   "metadata": {
    "ExecuteTime": {
     "end_time": "2018-06-28T01:35:53.336872Z",
     "start_time": "2018-06-28T01:35:53.327303Z"
    }
   },
   "source": [
    "Authors: Bex Dunn, Neil Symington, Claire Krause, Leo Lymburner"
   ]
  },
  {
   "cell_type": "markdown",
   "metadata": {
    "ExecuteTime": {
     "end_time": "2018-06-19T03:17:44.341801Z",
     "start_time": "2018-06-19T03:17:44.338622Z"
    }
   },
   "source": [
    "### get some modules"
   ]
  },
  {
   "cell_type": "code",
   "execution_count": 18,
   "metadata": {
    "ExecuteTime": {
     "end_time": "2018-07-05T02:14:19.498844Z",
     "start_time": "2018-07-05T02:14:18.680932Z"
    }
   },
   "outputs": [
    {
     "name": "stdout",
     "output_type": "stream",
     "text": [
      "The autoreload extension is already loaded. To reload it, use:\n",
      "  %reload_ext autoreload\n"
     ]
    }
   ],
   "source": [
    "%load_ext autoreload\n",
    "%autoreload 2\n",
    "\n",
    "from datetime import datetime\n",
    "import matplotlib.pyplot as plt\n",
    "\n",
    "#dealing with system commands\n",
    "import sys\n",
    "import os.path\n",
    "\n",
    "#modules for datacube\n",
    "import datacube\n",
    "from datacube.utils import geometry\n",
    "from datacube.storage.storage import write_dataset_to_netcdf\n",
    "from datacube.helpers import write_geotiff\n",
    "\n",
    "# Import external functions from dea-notebooks\n",
    "sys.path.append(os.path.expanduser('~/dea-notebooks/Scripts/'))\n",
    "from RainfallTools import load_rainfall, calculate_residual_mass_curve"
   ]
  },
  {
   "cell_type": "markdown",
   "metadata": {},
   "source": [
    "## Choose a time period and location to calculate residual mass curve.\n",
    " - Note: please select whole months here, not days, as a month with only two days may negatively affect your mass residual curve"
   ]
  },
  {
   "cell_type": "code",
   "execution_count": 114,
   "metadata": {
    "ExecuteTime": {
     "end_time": "2018-07-05T03:50:08.480326Z",
     "start_time": "2018-07-05T03:50:08.424252Z"
    }
   },
   "outputs": [],
   "source": [
    "## Choose a query area and time\n",
    "##note: datacube is inclusive of both ends of the interval.\n",
    "\n",
    "query = {\n",
    "        'lat': (-35.25, -35.35),\n",
    "        'lon': (149.05, 149.17),\n",
    "        'time':('2010-01-01', '2012-12-31')\n",
    "        }"
   ]
  },
  {
   "cell_type": "markdown",
   "metadata": {
    "ExecuteTime": {
     "end_time": "2018-06-19T03:17:55.964257Z",
     "start_time": "2018-06-19T03:17:55.960083Z"
    }
   },
   "source": [
    "### load rainfall data"
   ]
  },
  {
   "cell_type": "code",
   "execution_count": 92,
   "metadata": {
    "ExecuteTime": {
     "end_time": "2018-07-05T03:45:34.605284Z",
     "start_time": "2018-07-05T03:45:34.541258Z"
    }
   },
   "outputs": [],
   "source": [
    "#using the BoM grids to 2013. These are out by 2.5km, be aware."
   ]
  },
  {
   "cell_type": "code",
   "execution_count": 93,
   "metadata": {
    "ExecuteTime": {
     "end_time": "2018-07-05T03:45:40.786553Z",
     "start_time": "2018-07-05T03:45:34.972392Z"
    }
   },
   "outputs": [],
   "source": [
    "#rainfall = load_rainfall(query)\n",
    "dc = datacube.Datacube(app='dc-BOMrainfall')\n",
    "rainfall = dc.load(product = 'bom_rainfall_grids', **query)"
   ]
  },
  {
   "cell_type": "markdown",
   "metadata": {},
   "source": [
    "## calculate rainfall mass residual"
   ]
  },
  {
   "cell_type": "code",
   "execution_count": 94,
   "metadata": {
    "ExecuteTime": {
     "end_time": "2018-07-05T03:45:40.827659Z",
     "start_time": "2018-07-05T03:45:40.788978Z"
    }
   },
   "outputs": [],
   "source": [
    "'''This function calculates the residual mass rainfall curve ##FIXME\n",
    ":param a: '''\n",
    "import datacube\n",
    "import numpy as np\n",
    "import xarray as xr"
   ]
  },
  {
   "cell_type": "markdown",
   "metadata": {
    "ExecuteTime": {
     "end_time": "2018-06-28T23:43:28.605179Z",
     "start_time": "2018-06-28T23:43:28.351228Z"
    }
   },
   "source": [
    "## resample rainfall data to month start ##FIXME, daily option"
   ]
  },
  {
   "cell_type": "code",
   "execution_count": 95,
   "metadata": {
    "ExecuteTime": {
     "end_time": "2018-07-05T03:45:40.874245Z",
     "start_time": "2018-07-05T03:45:40.830501Z"
    }
   },
   "outputs": [],
   "source": [
    "#we have daily rainfall here."
   ]
  },
  {
   "cell_type": "code",
   "execution_count": 96,
   "metadata": {
    "ExecuteTime": {
     "end_time": "2018-07-05T03:45:40.935196Z",
     "start_time": "2018-07-05T03:45:40.877750Z"
    }
   },
   "outputs": [
    {
     "data": {
      "text/plain": [
       "<xarray.Dataset>\n",
       "Dimensions:    (latitude: 2, longitude: 3, time: 1096)\n",
       "Coordinates:\n",
       "  * time       (time) datetime64[ns] 2010-01-01 2010-01-02 2010-01-03 ...\n",
       "  * latitude   (latitude) float64 -35.27 -35.32\n",
       "  * longitude  (longitude) float64 149.1 149.1 149.2\n",
       "Data variables:\n",
       "    rainfall   (time, latitude, longitude) float32 1.0589818 1.0485023 ...\n",
       "Attributes:\n",
       "    crs:      EPSG:4326"
      ]
     },
     "execution_count": 96,
     "metadata": {},
     "output_type": "execute_result"
    }
   ],
   "source": [
    "rainfall"
   ]
  },
  {
   "cell_type": "code",
   "execution_count": 97,
   "metadata": {
    "ExecuteTime": {
     "end_time": "2018-07-05T03:45:42.311579Z",
     "start_time": "2018-07-05T03:45:42.242306Z"
    }
   },
   "outputs": [],
   "source": [
    "#cumulative_rainfall = rainfall.cumsum(dim='time',keep_attrs=True)"
   ]
  },
  {
   "cell_type": "code",
   "execution_count": 98,
   "metadata": {
    "ExecuteTime": {
     "end_time": "2018-07-05T03:45:42.498857Z",
     "start_time": "2018-07-05T03:45:42.457135Z"
    }
   },
   "outputs": [],
   "source": [
    "#daily_mean_rainfall = rainfall.groupby('time.dayofyear').mean(dim='time', keep_attrs=True)"
   ]
  },
  {
   "cell_type": "code",
   "execution_count": 99,
   "metadata": {
    "ExecuteTime": {
     "end_time": "2018-07-05T03:45:42.838821Z",
     "start_time": "2018-07-05T03:45:42.780208Z"
    }
   },
   "outputs": [],
   "source": [
    "#d#aily_mean_rainfall.plot(rainfall, time.dayofyear)"
   ]
  },
  {
   "cell_type": "code",
   "execution_count": 100,
   "metadata": {
    "ExecuteTime": {
     "end_time": "2018-07-05T03:45:43.288095Z",
     "start_time": "2018-07-05T03:45:43.183380Z"
    }
   },
   "outputs": [],
   "source": [
    "#monthly_mean_rainfall = rainfall.groupby('time.month').mean(dim='time', keep_attrs='True')"
   ]
  },
  {
   "cell_type": "code",
   "execution_count": 115,
   "metadata": {
    "ExecuteTime": {
     "end_time": "2018-07-05T03:50:18.785371Z",
     "start_time": "2018-07-05T03:50:18.736899Z"
    }
   },
   "outputs": [],
   "source": [
    "#monthly_mean_rainfall.rainfall.plot(col='month',col_wrap=3)"
   ]
  },
  {
   "cell_type": "code",
   "execution_count": 102,
   "metadata": {
    "ExecuteTime": {
     "end_time": "2018-07-05T03:45:45.583002Z",
     "start_time": "2018-07-05T03:45:45.536611Z"
    }
   },
   "outputs": [],
   "source": [
    "#monthly_mean_rainfall"
   ]
  },
  {
   "cell_type": "code",
   "execution_count": 103,
   "metadata": {
    "ExecuteTime": {
     "end_time": "2018-07-05T03:45:45.809565Z",
     "start_time": "2018-07-05T03:45:45.759647Z"
    }
   },
   "outputs": [],
   "source": [
    "#rainfall.rainfall.plot(col='time')"
   ]
  },
  {
   "cell_type": "code",
   "execution_count": 104,
   "metadata": {
    "ExecuteTime": {
     "end_time": "2018-07-05T03:45:47.204950Z",
     "start_time": "2018-07-05T03:45:47.136067Z"
    }
   },
   "outputs": [],
   "source": [
    "#cumulative_rainfall.rainfall.plot(col='time')"
   ]
  },
  {
   "cell_type": "code",
   "execution_count": 105,
   "metadata": {
    "ExecuteTime": {
     "end_time": "2018-07-05T03:45:48.586446Z",
     "start_time": "2018-07-05T03:45:48.519086Z"
    }
   },
   "outputs": [],
   "source": [
    "#monthly_mean_rainfall.rainfall[-1]"
   ]
  },
  {
   "cell_type": "code",
   "execution_count": 106,
   "metadata": {
    "ExecuteTime": {
     "end_time": "2018-07-05T03:45:48.807099Z",
     "start_time": "2018-07-05T03:45:48.766634Z"
    }
   },
   "outputs": [],
   "source": [
    "#cumulative_rainfall.rainfall[-1]"
   ]
  },
  {
   "cell_type": "code",
   "execution_count": 107,
   "metadata": {
    "ExecuteTime": {
     "end_time": "2018-07-05T03:45:49.147400Z",
     "start_time": "2018-07-05T03:45:49.102358Z"
    }
   },
   "outputs": [],
   "source": [
    "## Bex version"
   ]
  },
  {
   "cell_type": "code",
   "execution_count": 167,
   "metadata": {
    "ExecuteTime": {
     "end_time": "2018-07-05T04:29:12.400972Z",
     "start_time": "2018-07-05T04:29:12.305422Z"
    }
   },
   "outputs": [],
   "source": [
    "#resample rainfall data to month start\n",
    "monthly_rainfall = rainfall.resample(time='MS').sum('time')"
   ]
  },
  {
   "cell_type": "code",
   "execution_count": 168,
   "metadata": {
    "ExecuteTime": {
     "end_time": "2018-07-05T04:29:18.214445Z",
     "start_time": "2018-07-05T04:29:18.112871Z"
    }
   },
   "outputs": [
    {
     "data": {
      "text/plain": [
       "<xarray.Dataset>\n",
       "Dimensions:    (latitude: 2, longitude: 3, time: 36)\n",
       "Coordinates:\n",
       "  * time       (time) datetime64[ns] 2010-01-01 2010-02-01 2010-03-01 ...\n",
       "  * latitude   (latitude) float64 -35.27 -35.32\n",
       "  * longitude  (longitude) float64 149.1 149.1 149.2\n",
       "Data variables:\n",
       "    rainfall   (time, latitude, longitude) float32 6.088235 7.4755325 ..."
      ]
     },
     "execution_count": 168,
     "metadata": {},
     "output_type": "execute_result"
    }
   ],
   "source": [
    "monthly_rainfall"
   ]
  },
  {
   "cell_type": "code",
   "execution_count": 165,
   "metadata": {
    "ExecuteTime": {
     "end_time": "2018-07-05T04:28:45.176586Z",
     "start_time": "2018-07-05T04:28:45.110626Z"
    }
   },
   "outputs": [
    {
     "data": {
      "text/plain": [
       "<xarray.Dataset>\n",
       "Dimensions:   (month: 12)\n",
       "Coordinates:\n",
       "  * month     (month) int64 1 2 3 4 5 6 7 8 9 10 11 12\n",
       "Data variables:\n",
       "    rainfall  (month) float64 1.289 5.049 4.078 0.7255 1.313 0.9395 1.464 ..."
      ]
     },
     "execution_count": 165,
     "metadata": {},
     "output_type": "execute_result"
    }
   ],
   "source": [
    "monthly_rainfall_2"
   ]
  },
  {
   "cell_type": "code",
   "execution_count": 156,
   "metadata": {
    "ExecuteTime": {
     "end_time": "2018-07-05T04:27:10.501083Z",
     "start_time": "2018-07-05T04:27:10.420207Z"
    }
   },
   "outputs": [
    {
     "data": {
      "text/plain": [
       "<xarray.DataArray 'month' (time: 36)>\n",
       "array([ 1,  2,  3,  4,  5,  6,  7,  8,  9, 10, 11, 12,  1,  2,  3,  4,  5,  6,\n",
       "        7,  8,  9, 10, 11, 12,  1,  2,  3,  4,  5,  6,  7,  8,  9, 10, 11, 12])\n",
       "Coordinates:\n",
       "  * time     (time) datetime64[ns] 2010-01-01 2010-02-01 2010-03-01 ..."
      ]
     },
     "execution_count": 156,
     "metadata": {},
     "output_type": "execute_result"
    }
   ],
   "source": [
    "monthly_rainfall.time.dt.month"
   ]
  },
  {
   "cell_type": "code",
   "execution_count": 134,
   "metadata": {
    "ExecuteTime": {
     "end_time": "2018-07-05T04:16:51.345641Z",
     "start_time": "2018-07-05T04:16:49.820209Z"
    }
   },
   "outputs": [
    {
     "data": {
      "text/plain": [
       "[(1, <xarray.Dataset>\n",
       "  Dimensions:    (latitude: 2, longitude: 3)\n",
       "  Coordinates:\n",
       "    * latitude   (latitude) float64 -35.27 -35.32\n",
       "    * longitude  (longitude) float64 149.1 149.1 149.2\n",
       "      month      int64 1\n",
       "  Data variables:\n",
       "      rainfall   (latitude, longitude) float32 1.2327089 1.2016234 1.2202531 ...\n",
       "  Attributes:\n",
       "      crs:      EPSG:4326), (2, <xarray.Dataset>\n",
       "  Dimensions:    (latitude: 2, longitude: 3)\n",
       "  Coordinates:\n",
       "    * latitude   (latitude) float64 -35.27 -35.32\n",
       "    * longitude  (longitude) float64 149.1 149.1 149.2\n",
       "      month      int64 2\n",
       "  Data variables:\n",
       "      rainfall   (latitude, longitude) float32 5.166558 4.991827 4.8559637 ...\n",
       "  Attributes:\n",
       "      crs:      EPSG:4326), (3, <xarray.Dataset>\n",
       "  Dimensions:    (latitude: 2, longitude: 3)\n",
       "  Coordinates:\n",
       "    * latitude   (latitude) float64 -35.27 -35.32\n",
       "    * longitude  (longitude) float64 149.1 149.1 149.2\n",
       "      month      int64 3\n",
       "  Data variables:\n",
       "      rainfall   (latitude, longitude) float32 4.139104 3.9780073 3.7854402 ...\n",
       "  Attributes:\n",
       "      crs:      EPSG:4326), (4, <xarray.Dataset>\n",
       "  Dimensions:    (latitude: 2, longitude: 3)\n",
       "  Coordinates:\n",
       "    * latitude   (latitude) float64 -35.27 -35.32\n",
       "    * longitude  (longitude) float64 149.1 149.1 149.2\n",
       "      month      int64 4\n",
       "  Data variables:\n",
       "      rainfall   (latitude, longitude) float32 0.79731786 0.7169497 0.6380627 ...\n",
       "  Attributes:\n",
       "      crs:      EPSG:4326), (5, <xarray.Dataset>\n",
       "  Dimensions:    (latitude: 2, longitude: 3)\n",
       "  Coordinates:\n",
       "    * latitude   (latitude) float64 -35.27 -35.32\n",
       "    * longitude  (longitude) float64 149.1 149.1 149.2\n",
       "      month      int64 5\n",
       "  Data variables:\n",
       "      rainfall   (latitude, longitude) float32 1.251132 1.2921295 1.3341397 ...\n",
       "  Attributes:\n",
       "      crs:      EPSG:4326), (6, <xarray.Dataset>\n",
       "  Dimensions:    (latitude: 2, longitude: 3)\n",
       "  Coordinates:\n",
       "    * latitude   (latitude) float64 -35.27 -35.32\n",
       "    * longitude  (longitude) float64 149.1 149.1 149.2\n",
       "      month      int64 6\n",
       "  Data variables:\n",
       "      rainfall   (latitude, longitude) float32 0.9450547 0.92879725 0.8978097 ...\n",
       "  Attributes:\n",
       "      crs:      EPSG:4326), (7, <xarray.Dataset>\n",
       "  Dimensions:    (latitude: 2, longitude: 3)\n",
       "  Coordinates:\n",
       "    * latitude   (latitude) float64 -35.27 -35.32\n",
       "    * longitude  (longitude) float64 149.1 149.1 149.2\n",
       "      month      int64 7\n",
       "  Data variables:\n",
       "      rainfall   (latitude, longitude) float32 1.496931 1.4604204 1.4196259 ...\n",
       "  Attributes:\n",
       "      crs:      EPSG:4326), (8, <xarray.Dataset>\n",
       "  Dimensions:    (latitude: 2, longitude: 3)\n",
       "  Coordinates:\n",
       "    * latitude   (latitude) float64 -35.27 -35.32\n",
       "    * longitude  (longitude) float64 149.1 149.1 149.2\n",
       "      month      int64 8\n",
       "  Data variables:\n",
       "      rainfall   (latitude, longitude) float32 1.7916248 1.7248693 1.6322174 ...\n",
       "  Attributes:\n",
       "      crs:      EPSG:4326), (9, <xarray.Dataset>\n",
       "  Dimensions:    (latitude: 2, longitude: 3)\n",
       "  Coordinates:\n",
       "    * latitude   (latitude) float64 -35.27 -35.32\n",
       "    * longitude  (longitude) float64 149.1 149.1 149.2\n",
       "      month      int64 9\n",
       "  Data variables:\n",
       "      rainfall   (latitude, longitude) float32 1.7451926 1.6850349 1.6214226 ...\n",
       "  Attributes:\n",
       "      crs:      EPSG:4326), (10, <xarray.Dataset>\n",
       "  Dimensions:    (latitude: 2, longitude: 3)\n",
       "  Coordinates:\n",
       "    * latitude   (latitude) float64 -35.27 -35.32\n",
       "    * longitude  (longitude) float64 149.1 149.1 149.2\n",
       "      month      int64 10\n",
       "  Data variables:\n",
       "      rainfall   (latitude, longitude) float32 2.1041129 2.0080025 1.864031 ...\n",
       "  Attributes:\n",
       "      crs:      EPSG:4326), (11, <xarray.Dataset>\n",
       "  Dimensions:    (latitude: 2, longitude: 3)\n",
       "  Coordinates:\n",
       "    * latitude   (latitude) float64 -35.27 -35.32\n",
       "    * longitude  (longitude) float64 149.1 149.1 149.2\n",
       "      month      int64 11\n",
       "  Data variables:\n",
       "      rainfall   (latitude, longitude) float32 3.3124294 3.2282143 3.2151692 ...\n",
       "  Attributes:\n",
       "      crs:      EPSG:4326), (12, <xarray.Dataset>\n",
       "  Dimensions:    (latitude: 2, longitude: 3)\n",
       "  Coordinates:\n",
       "    * latitude   (latitude) float64 -35.27 -35.32\n",
       "    * longitude  (longitude) float64 149.1 149.1 149.2\n",
       "      month      int64 12\n",
       "  Data variables:\n",
       "      rainfall   (latitude, longitude) float32 2.9030123 2.9887676 3.0260053 ...\n",
       "  Attributes:\n",
       "      crs:      EPSG:4326)]"
      ]
     },
     "execution_count": 134,
     "metadata": {},
     "output_type": "execute_result"
    }
   ],
   "source": [
    "list(monthly_mean_rainfall.groupby('month'))"
   ]
  },
  {
   "cell_type": "code",
   "execution_count": 178,
   "metadata": {
    "ExecuteTime": {
     "end_time": "2018-07-05T04:33:03.167027Z",
     "start_time": "2018-07-05T04:33:02.001902Z"
    }
   },
   "outputs": [],
   "source": [
    "rainfall_monthly_mean_test= rainfall.groupby('time.month').mean(dim=('time'))"
   ]
  },
  {
   "cell_type": "code",
   "execution_count": 180,
   "metadata": {
    "ExecuteTime": {
     "end_time": "2018-07-05T04:33:06.221779Z",
     "start_time": "2018-07-05T04:33:06.146117Z"
    }
   },
   "outputs": [
    {
     "data": {
      "text/plain": [
       "<xarray.Dataset>\n",
       "Dimensions:    (latitude: 2, longitude: 3, month: 12)\n",
       "Coordinates:\n",
       "  * latitude   (latitude) float64 -35.27 -35.32\n",
       "  * longitude  (longitude) float64 149.1 149.1 149.2\n",
       "  * month      (month) int64 1 2 3 4 5 6 7 8 9 10 11 12\n",
       "Data variables:\n",
       "    rainfall   (month, latitude, longitude) float32 1.2327089 1.2016234 ..."
      ]
     },
     "execution_count": 180,
     "metadata": {},
     "output_type": "execute_result"
    }
   ],
   "source": [
    "rainfall_monthly_mean_test"
   ]
  },
  {
   "cell_type": "code",
   "execution_count": 181,
   "metadata": {
    "ExecuteTime": {
     "end_time": "2018-07-05T04:33:08.759788Z",
     "start_time": "2018-07-05T04:33:08.712018Z"
    }
   },
   "outputs": [
    {
     "data": {
      "text/plain": [
       "{1: 0, 2: 1, 3: 2, 4: 3, 5: 4, 6: 5, 7: 6, 8: 7, 9: 8, 10: 9, 11: 10, 12: 11}"
      ]
     },
     "execution_count": 181,
     "metadata": {},
     "output_type": "execute_result"
    }
   ],
   "source": [
    "monthly_mean_rainfall.groupby('month').groups"
   ]
  },
  {
   "cell_type": "code",
   "execution_count": 182,
   "metadata": {
    "ExecuteTime": {
     "end_time": "2018-07-05T04:33:10.920047Z",
     "start_time": "2018-07-05T04:33:10.880709Z"
    }
   },
   "outputs": [],
   "source": [
    "# find the number of years in the data\n",
    "years_in_data = len(monthly_rainfall.rainfall.time)/12"
   ]
  },
  {
   "cell_type": "code",
   "execution_count": 183,
   "metadata": {
    "ExecuteTime": {
     "end_time": "2018-07-05T04:33:14.210982Z",
     "start_time": "2018-07-05T04:33:14.164580Z"
    }
   },
   "outputs": [
    {
     "data": {
      "text/plain": [
       "3.0"
      ]
     },
     "execution_count": 183,
     "metadata": {},
     "output_type": "execute_result"
    }
   ],
   "source": [
    "years_in_data"
   ]
  },
  {
   "cell_type": "code",
   "execution_count": 145,
   "metadata": {
    "ExecuteTime": {
     "end_time": "2018-07-05T04:22:05.737536Z",
     "start_time": "2018-07-05T04:22:04.450709Z"
    }
   },
   "outputs": [],
   "source": [
    "#years_of = monthly_rainfall.groupby('time.year').apply(np.cumsum)"
   ]
  },
  {
   "cell_type": "code",
   "execution_count": 184,
   "metadata": {
    "ExecuteTime": {
     "end_time": "2018-07-05T04:34:55.604964Z",
     "start_time": "2018-07-05T04:34:54.392818Z"
    }
   },
   "outputs": [],
   "source": [
    "# def divide_by_monthly_ave(in_data):\n",
    "#     out_month = in_data.cumsum/in_ave\n",
    "#     return outmonth\n",
    "    "
   ]
  },
  {
   "cell_type": "code",
   "execution_count": null,
   "metadata": {},
   "outputs": [],
   "source": [
    "# rainfall.groupby('time.month').apply(divide_by_monthly_ave())"
   ]
  },
  {
   "cell_type": "code",
   "execution_count": 169,
   "metadata": {
    "ExecuteTime": {
     "end_time": "2018-07-05T04:31:00.765894Z",
     "start_time": "2018-07-05T04:30:59.599763Z"
    }
   },
   "outputs": [],
   "source": [
    "#years_of.rainfall.plot(col='time', col_wrap=3)"
   ]
  },
  {
   "cell_type": "code",
   "execution_count": null,
   "metadata": {},
   "outputs": [],
   "source": [
    "# First calculate a cumulative rainfall xarray from the rainfall data"
   ]
  },
  {
   "cell_type": "code",
   "execution_count": 185,
   "metadata": {
    "ExecuteTime": {
     "end_time": "2018-07-05T04:37:44.937242Z",
     "start_time": "2018-07-05T04:37:43.803607Z"
    }
   },
   "outputs": [
    {
     "data": {
      "text/plain": [
       "<xarray.Dataset>\n",
       "Dimensions:    (latitude: 2, longitude: 3, time: 36)\n",
       "Coordinates:\n",
       "  * time       (time) datetime64[ns] 2010-01-01 2010-02-01 2010-03-01 ...\n",
       "  * latitude   (latitude) float64 -35.27 -35.32\n",
       "  * longitude  (longitude) float64 149.1 149.1 149.2\n",
       "Data variables:\n",
       "    rainfall   (time, latitude, longitude) float32 6.088235 7.4755325 ..."
      ]
     },
     "execution_count": 185,
     "metadata": {},
     "output_type": "execute_result"
    }
   ],
   "source": [
    "monthly_rainfall"
   ]
  },
  {
   "cell_type": "code",
   "execution_count": 124,
   "metadata": {
    "ExecuteTime": {
     "end_time": "2018-07-05T03:56:03.622626Z",
     "start_time": "2018-07-05T03:56:03.583971Z"
    }
   },
   "outputs": [],
   "source": [
    "cumulative_rainfall = monthly_rainfall.cumsum(dim='time',keep_attrs=True)"
   ]
  },
  {
   "cell_type": "code",
   "execution_count": 127,
   "metadata": {
    "ExecuteTime": {
     "end_time": "2018-07-05T03:58:00.173356Z",
     "start_time": "2018-07-05T03:58:00.090177Z"
    }
   },
   "outputs": [],
   "source": [
    "cumulative_rainfall_test= rainfall.groupby('time.month')"
   ]
  },
  {
   "cell_type": "code",
   "execution_count": 49,
   "metadata": {
    "ExecuteTime": {
     "end_time": "2018-07-05T03:40:07.560655Z",
     "start_time": "2018-07-05T03:40:07.498774Z"
    }
   },
   "outputs": [],
   "source": [
    "\n",
    "arr = monthly_rainfall.rainfall.values\n",
    "\n",
    "cum_rf = np.cumsum(arr, axis = 0)"
   ]
  },
  {
   "cell_type": "code",
   "execution_count": 40,
   "metadata": {
    "ExecuteTime": {
     "end_time": "2018-07-05T03:30:27.028794Z",
     "start_time": "2018-07-05T03:30:26.977918Z"
    }
   },
   "outputs": [],
   "source": [
    "cum_rf_xr = xr.DataArray(cum_rf, dims = ('time', 'latitude', 'longitude'),\n",
    "                        coords = [monthly_rainfall.time, monthly_rainfall.latitude, monthly_rainfall.longitude])"
   ]
  },
  {
   "cell_type": "code",
   "execution_count": 41,
   "metadata": {
    "ExecuteTime": {
     "end_time": "2018-07-05T03:30:34.649267Z",
     "start_time": "2018-07-05T03:30:34.594226Z"
    }
   },
   "outputs": [
    {
     "data": {
      "text/plain": [
       "<xarray.DataArray (time: 37, latitude: 2, longitude: 3)>\n",
       "array([[[   6.088235,    7.475533,    8.816736],\n",
       "        [   4.850801,    6.52524 ,    8.220547]],\n",
       "\n",
       "       [[ 165.11528 ,  159.44656 ,  157.70885 ],\n",
       "        [ 169.46277 ,  162.51122 ,  159.57468 ]],\n",
       "\n",
       "       ...,\n",
       "\n",
       "       [[2438.5889  , 2377.4202  , 2314.4778  ],\n",
       "        [2580.275   , 2456.8137  , 2370.8484  ]],\n",
       "\n",
       "       [[2507.9404  , 2449.1772  , 2387.836   ],\n",
       "        [2655.5999  , 2534.4304  , 2449.6636  ]]], dtype=float32)\n",
       "Coordinates:\n",
       "  * time       (time) datetime64[ns] 2010-01-01 2010-02-01 2010-03-01 ...\n",
       "  * latitude   (latitude) float64 -35.27 -35.32\n",
       "  * longitude  (longitude) float64 149.1 149.1 149.2"
      ]
     },
     "execution_count": 41,
     "metadata": {},
     "output_type": "execute_result"
    }
   ],
   "source": [
    "cum_rf_xr"
   ]
  },
  {
   "cell_type": "code",
   "execution_count": null,
   "metadata": {},
   "outputs": [],
   "source": [
    "# NOw we will calculate a cumulative rainfall assuming average rainfall on a month by month basis\n",
    "# Find the average of all months\n",
    "ave_months = a.rainfall.groupby('time.month').mean('time').values\n",
    "\n",
    "# In the case that we are not starting from January we will need to reorder the array\n",
    "\n",
    "start_month = a.time[0].dt.month.values - 1\n",
    "\n",
    "ave_month = np.concatenate((ave_months[start_month:,:,:], ave_months[0:start_month,:,:]), axis = 0)\n",
    "\n",
    "\n",
    "# Tile an array so that we can run a cumulative sum on it\n",
    "tiled_ave = np.tile(ave_months, (round(n), 1, 1))\n",
    "\n",
    "# In the case that we have residual months remove them from the tiled array\n",
    "if (n).is_integer() == False:\n",
    "    month_remainder = int(round((n%1) * 12))\n",
    "\n",
    "    tiled_ave = tiled_ave[:int(-month_remainder),:,:]\n",
    "\n",
    "# Generate the cumulative sum of rainfall one would get assuming average rainfall every month\n",
    "cum_ave = np.cumsum(tiled_ave, axis = 0)\n",
    "\n",
    "cum_ave_xr = xr.DataArray(cum_ave, dims = ('time', 'latitude', 'longitude'),\n",
    "                          coords = [a.time, a.latitude, a.longitude])\n",
    "\n",
    "# The mass residual curve is the difference between the cumulative rainfall data and the cumulative\n",
    "# rainfall one would get iff the average always occured\n",
    "mass_res_curve = cum_rf_xr - cum_ave_xr\n",
    "\n",
    "return mass_res_curve"
   ]
  },
  {
   "cell_type": "code",
   "execution_count": 25,
   "metadata": {
    "ExecuteTime": {
     "end_time": "2018-07-05T02:15:49.405053Z",
     "start_time": "2018-07-05T02:15:48.173747Z"
    }
   },
   "outputs": [],
   "source": [
    "# def calculate_residual_mass_curve(a):\n",
    "#     '''This function calculates the residual mass rainfall curve\n",
    "#     :param a: '''\n",
    "    \n",
    "#     #resample rainfall data to month start\n",
    "#     a = a.resample('MS', dim='time', how='sum', keep_attrs=True) \n",
    "#     # find the number of time steps (ie. years)\n",
    "#     n = len(a.rainfall.time)/12\n",
    "    \n",
    "#     # First calculate a cumulative rainfall xarray from the rainfall data\n",
    "    \n",
    "#     arr = a.rainfall.values\n",
    "    \n",
    "#     cum_rf = np.cumsum(arr, axis = 0)\n",
    "    \n",
    "#     cum_rf_xr = xr.DataArray(cum_rf, dims = ('time', 'latitude', 'longitude'),\n",
    "#                             coords = [a.time, a.latitude, a.longitude])\n",
    "    \n",
    "#     # NOw we will calculate a cumulative rainfall assuming average rainfall on a month by month basis\n",
    "#     # Find the average of all months\n",
    "#     ave_months = a.rainfall.groupby('time.month').mean('time').values\n",
    "   \n",
    "#     # In the case that we are not starting from January we will need to reorder the array\n",
    "    \n",
    "#     start_month = a.time[0].dt.month.values - 1\n",
    "    \n",
    "#     ave_month = np.concatenate((ave_months[start_month:,:,:], ave_months[0:start_month,:,:]), axis = 0)\n",
    "\n",
    "    \n",
    "#     # Tile an array so that we can run a cumulative sum on it\n",
    "#     tiled_ave = np.tile(ave_months, (round(n), 1, 1))\n",
    "    \n",
    "#     # In the case that we have residual months remove them from the tiled array\n",
    "#     if (n).is_integer() == False:\n",
    "#         month_remainder = int(round((n%1) * 12))\n",
    "\n",
    "#         tiled_ave = tiled_ave[:int(-month_remainder),:,:]\n",
    "        \n",
    "#     # Generate the cumulative sum of rainfall one would get assuming average rainfall every month\n",
    "#     cum_ave = np.cumsum(tiled_ave, axis = 0)\n",
    "    \n",
    "#     cum_ave_xr = xr.DataArray(cum_ave, dims = ('time', 'latitude', 'longitude'),\n",
    "#                               coords = [a.time, a.latitude, a.longitude])\n",
    "    \n",
    "#     # The mass residual curve is the difference between the cumulative rainfall data and the cumulative\n",
    "#     # rainfall one would get iff the average always occured\n",
    "#     mass_res_curve = cum_rf_xr - cum_ave_xr\n",
    "    \n",
    "#     return mass_res_curve\n"
   ]
  },
  {
   "cell_type": "markdown",
   "metadata": {},
   "source": [
    "## calculate metrics based on rainfall\n",
    "- increasing and decreasing periods\n",
    "- wet year after dry years\n",
    "- dry year after wet years\n",
    "-"
   ]
  },
  {
   "cell_type": "markdown",
   "metadata": {},
   "source": [
    "## calculate metrics based on residual rainfall\n",
    "- increasing and decreasing periods\n",
    "- wet year after dry years\n",
    "- dry year after wet years\n"
   ]
  },
  {
   "cell_type": "markdown",
   "metadata": {
    "ExecuteTime": {
     "end_time": "2018-06-19T02:35:14.176120Z",
     "start_time": "2018-06-19T02:35:14.168390Z"
    }
   },
   "source": [
    "## calculate seasonality\n",
    "- Koppen climate region (use notebook to follow decision tree - requires climate data)\n",
    "- Summer dominant, Summer, Uniform, Winter, Winter dominant #\n",
    "- TROP SOI value\n",
    "- IOD /SAM indices\n",
    "\"During El Niño, rainfall in eastern Australian is typically below average during winter and spring. A neutral ENSO phase has little effect on Australian climate.\"Bureau of meteorology http://www.bom.gov.au/climate/enso/  "
   ]
  },
  {
   "cell_type": "code",
   "execution_count": 39,
   "metadata": {
    "ExecuteTime": {
     "end_time": "2018-06-22T01:40:17.240395Z",
     "start_time": "2018-06-22T01:40:17.195266Z"
    }
   },
   "outputs": [],
   "source": [
    "# Calculate failed wet seasons - calculate total wet season + dry season rainfalls\n",
    "# (end of wet season rainfalls?)"
   ]
  },
  {
   "cell_type": "code",
   "execution_count": 30,
   "metadata": {
    "ExecuteTime": {
     "end_time": "2018-07-05T03:17:00.893989Z",
     "start_time": "2018-07-05T03:17:00.800372Z"
    }
   },
   "outputs": [
    {
     "data": {
      "text/plain": [
       "<xarray.Dataset>\n",
       "Dimensions:    (latitude: 2, longitude: 3, time: 1127)\n",
       "Coordinates:\n",
       "  * time       (time) datetime64[ns] 2010-01-01 2010-01-02 2010-01-03 ...\n",
       "  * latitude   (latitude) float64 -35.27 -35.32\n",
       "  * longitude  (longitude) float64 149.1 149.1 149.2\n",
       "Data variables:\n",
       "    rainfall   (time, latitude, longitude) float32 1.0589818 1.0485023 ...\n",
       "Attributes:\n",
       "    crs:      EPSG:4326"
      ]
     },
     "execution_count": 30,
     "metadata": {},
     "output_type": "execute_result"
    }
   ],
   "source": [
    "rainfall"
   ]
  },
  {
   "cell_type": "code",
   "execution_count": 28,
   "metadata": {
    "ExecuteTime": {
     "end_time": "2018-07-05T03:14:52.741705Z",
     "start_time": "2018-07-05T03:14:52.645858Z"
    }
   },
   "outputs": [
    {
     "data": {
      "text/plain": [
       "'1.14.0rc1'"
      ]
     },
     "execution_count": 28,
     "metadata": {},
     "output_type": "execute_result"
    }
   ],
   "source": [
    "np.version.version\n"
   ]
  },
  {
   "cell_type": "code",
   "execution_count": null,
   "metadata": {},
   "outputs": [],
   "source": [
    "rainfall.expand_dims()"
   ]
  }
 ],
 "metadata": {
  "kernelspec": {
   "display_name": "Python 3",
   "language": "python",
   "name": "python3"
  },
  "language_info": {
   "codemirror_mode": {
    "name": "ipython",
    "version": 3
   },
   "file_extension": ".py",
   "mimetype": "text/x-python",
   "name": "python",
   "nbconvert_exporter": "python",
   "pygments_lexer": "ipython3",
   "version": "3.6.5"
  }
 },
 "nbformat": 4,
 "nbformat_minor": 2
}
