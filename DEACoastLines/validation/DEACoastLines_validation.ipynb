{
 "cells": [
  {
   "cell_type": "markdown",
   "metadata": {},
   "source": [
    "# DEA CoastLines validation\n",
    "\n",
    "To do:\n",
    "* [X] Change output CRS to Australian Albers\n",
    "* [X] Discard validation sides with multiple intersects?\n",
    "* [X] Split analysis code into:\n",
    "    * Aggregate multiple profiles and export into single file\n",
    "    * Analyse and plot single file\n",
    "* [ ] Add extraction of environmental data for each profile line"
   ]
  },
  {
   "cell_type": "markdown",
   "metadata": {},
   "source": [
    "## Load modules/functions\n"
   ]
  },
  {
   "cell_type": "code",
   "execution_count": 2,
   "metadata": {},
   "outputs": [
    {
     "name": "stdout",
     "output_type": "stream",
     "text": [
      "The line_profiler extension is already loaded. To reload it, use:\n",
      "  %reload_ext line_profiler\n",
      "The autoreload extension is already loaded. To reload it, use:\n",
      "  %reload_ext autoreload\n"
     ]
    }
   ],
   "source": [
    "%matplotlib inline\n",
    "%load_ext line_profiler\n",
    "%load_ext autoreload\n",
    "%autoreload 2\n",
    "\n",
    "import sys\n",
    "import glob\n",
    "import numpy as np\n",
    "import geopandas as gpd\n",
    "import pandas as pd\n",
    "import matplotlib.pyplot as plt\n",
    "from shapely.geometry import box\n",
    "\n",
    "sys.path.append('/g/data/r78/rt1527/dea-notebooks/DEACoastLines/')\n",
    "import deacoastlines_validation as deacl_val\n",
    "import deacoastlines_statistics as deacl_stats\n",
    "\n",
    "def to_vector(df, fname='test.shp', x='x', y='y', crs='EPSG:3577', output_crs='EPSG:3577'):\n",
    "    \n",
    "    # Convert datetimes to strings\n",
    "    is_datetime = df.dtypes == 'datetime64[ns]'\n",
    "    df.loc[:, is_datetime] = df.loc[:, is_datetime].astype(str) \n",
    "    \n",
    "    # Export to file\n",
    "    print('test')\n",
    "    gdf = gpd.GeoDataFrame(data=df.loc[:, df.dtypes != 'datetime64[ns]'],\n",
    "                     geometry=gpd.points_from_xy(x=df[x], y=df[y]),\n",
    "                     crs=crs).to_crs(output_crs).to_file(fname)\n",
    "    \n",
    "    return gdf\n",
    "\n",
    "\n",
    "def export_eval(df, output_name, output_crs='EPSG:3577'):\n",
    "    \n",
    "    from shapely.geometry import box, Point, LineString\n",
    "\n",
    "    # Extract geometries\n",
    "    val_points = gpd.points_from_xy(x=df.val_x, y=df.val_y)\n",
    "    deacl_points = gpd.points_from_xy(x=df.deacl_x, y=df.deacl_y)\n",
    "    df_profiles = df.groupby('id').first()\n",
    "    profile_lines = df_profiles.apply(\n",
    "        lambda x: LineString([(x.start_x, x.start_y), (x.end_x, x.end_y)]), axis=1)\n",
    "\n",
    "    # Export validation points\n",
    "    val_gdf = gpd.GeoDataFrame(data=df,\n",
    "                               geometry=val_points,\n",
    "                               crs=output_crs).to_crs('EPSG:4326')\n",
    "    val_gdf.to_file(f'figures/eval/{output_name}_val.geojson', driver='GeoJSON')\n",
    "\n",
    "    # Export DEACL points\n",
    "    deacl_gdf = gpd.GeoDataFrame(data=df,\n",
    "                                 geometry=deacl_points,\n",
    "                                 crs=output_crs).to_crs('EPSG:4326')\n",
    "    deacl_gdf.to_file(f'figures/eval/{output_name}_deacl.geojson', driver='GeoJSON')\n",
    "\n",
    "    # Export profiles\n",
    "    profile_gdf = gpd.GeoDataFrame(data=df_profiles,\n",
    "                                 geometry=profile_lines,\n",
    "                                 crs=output_crs).to_crs('EPSG:4326')\n",
    "    profile_gdf.to_file(f'figures/eval/{output_name}_profiles.geojson', driver='GeoJSON')\n",
    "    "
   ]
  },
  {
   "cell_type": "markdown",
   "metadata": {},
   "source": [
    "## Analysis\n",
    "To investigate:\n",
    "* [X] Outlier in Bermagui (Horseshoe Bay)\n",
    "* [X] **Multiple outliers in Boambee Beach**\n",
    "* [X] Single remaining outlier in Bogangar to Kingscliff\n",
    "* [X] **Cluster of outliers in Burgess Beach: caused by one year of channel profiles**\n",
    "* [X] Sporadic outliers in Byron Bay\n",
    "* [X] Two remaining outlier in Corindi Beach\n",
    "* [X] **Major outliers at Crowdy Head**\n",
    "* [X] **String of outliers in opposite direction at Cullendulla**\n",
    "* [X] One remaining outlier at Diamond Beach\n",
    "* [X] One remaining outlier at Eurobadalla Beaches North\n",
    "* [ ] **Cluster of outliers at Evans Head and Broadwater**\n",
    "* [X] Two outliers in Fern Bay\n",
    "* [ ] **Extreme outliers at Flynn's Beach**\n",
    "* [ ] **Skewed result at Gerringong Harbour**\n",
    "* [ ] Outliers in Hargrave's Beach\n",
    "* [ ] Remaining outliers at Jimmy's Beach\n",
    "* [X] **Remaining major outlier at Lake Illawarra**\n",
    "* [X] **Outliers in Manly Beach**\n",
    "* [X] **Outliers at Mooney Beach**\n",
    "* [X] **Major issues with offset shorelines at Narrabeen/Collory**\n",
    "* [X] Outlier at Ocean View Beach\n",
    "* [X] **Outliers in opposite direction at Park's Beach**\n",
    "* [X] Cluster of outliers at Patch's Beach\n",
    "* [X] Outliers at Port Hacking \n",
    "* [X] **Weird line of points at Rainbow Beach**\n",
    "* [X] **No relationship at Sandbar Beach**\n",
    "* [ ] Outliers at Shellharbour Little Lake\n",
    "* [X] One remaining outlier at Stuart's Point\n",
    "* [ ] **Several remaining outliers at Swansea Belmont**\n",
    "* [X] **Cluster of outliers at The Entrance**\n",
    "* [X] Single outlier at Warrain\n",
    "* [ ] **Major issues with Valla Beach**"
   ]
  },
  {
   "cell_type": "code",
   "execution_count": 5,
   "metadata": {},
   "outputs": [
    {
     "name": "stdout",
     "output_type": "stream",
     "text": [
      "output_data/cgc_seawaycentreline.csv                                            \r"
     ]
    },
    {
     "ename": "IndexError",
     "evalue": "single positional indexer is out-of-bounds",
     "output_type": "error",
     "traceback": [
      "\u001b[0;31m---------------------------------------------------------------------------\u001b[0m",
      "\u001b[0;31mIndexError\u001b[0m                                Traceback (most recent call last)",
      "\u001b[0;32m<ipython-input-5-26ee4673bd49>\u001b[0m in \u001b[0;36m<module>\u001b[0;34m\u001b[0m\n\u001b[1;32m     14\u001b[0m     output_stats = deacl_val.deacl_validation(val_path, \n\u001b[1;32m     15\u001b[0m                                               \u001b[0mdeacl_path\u001b[0m\u001b[0;34m,\u001b[0m\u001b[0;34m\u001b[0m\u001b[0;34m\u001b[0m\u001b[0m\n\u001b[0;32m---> 16\u001b[0;31m                                               datum=0)\n\u001b[0m\u001b[1;32m     17\u001b[0m     \u001b[0;31m# Close figure if plotting over 10\u001b[0m\u001b[0;34m\u001b[0m\u001b[0;34m\u001b[0m\u001b[0;34m\u001b[0m\u001b[0m\n\u001b[1;32m     18\u001b[0m     \u001b[0;32mif\u001b[0m \u001b[0mlen\u001b[0m\u001b[0;34m(\u001b[0m\u001b[0mstats_list\u001b[0m\u001b[0;34m)\u001b[0m \u001b[0;34m>\u001b[0m \u001b[0;36m10\u001b[0m\u001b[0;34m:\u001b[0m \u001b[0mplt\u001b[0m\u001b[0;34m.\u001b[0m\u001b[0mclose\u001b[0m\u001b[0;34m(\u001b[0m\u001b[0;34m)\u001b[0m\u001b[0;34m\u001b[0m\u001b[0;34m\u001b[0m\u001b[0m\n",
      "\u001b[0;32m/g/data1a/r78/rt1527/dea-notebooks/DEACoastLines/validation/deacoastlines_validation.py\u001b[0m in \u001b[0;36mdeacl_validation\u001b[0;34m(val_path, deacl_path, datum, sat_label, val_label)\u001b[0m\n\u001b[1;32m   1147\u001b[0m         \u001b[0;31m# Aggregate by year and take most common categorical\u001b[0m\u001b[0;34m\u001b[0m\u001b[0;34m\u001b[0m\u001b[0;34m\u001b[0m\u001b[0m\n\u001b[1;32m   1148\u001b[0m         modal_vals = val_df[['source', 'beach', 'section', 'profile']].agg(\n\u001b[0;32m-> 1149\u001b[0;31m             lambda x: pd.Series.mode(x).iloc[0])\n\u001b[0m\u001b[1;32m   1150\u001b[0m \u001b[0;34m\u001b[0m\u001b[0m\n\u001b[1;32m   1151\u001b[0m         \u001b[0;31m# Aggregate by year and save count number and source\u001b[0m\u001b[0;34m\u001b[0m\u001b[0;34m\u001b[0m\u001b[0;34m\u001b[0m\u001b[0m\n",
      "\u001b[0;32m/g/data/v10/public/modules/dea-env/20200612/lib/python3.6/site-packages/pandas/core/frame.py\u001b[0m in \u001b[0;36maggregate\u001b[0;34m(self, func, axis, *args, **kwargs)\u001b[0m\n\u001b[1;32m   6708\u001b[0m             \u001b[0;32mpass\u001b[0m\u001b[0;34m\u001b[0m\u001b[0;34m\u001b[0m\u001b[0m\n\u001b[1;32m   6709\u001b[0m         \u001b[0;32mif\u001b[0m \u001b[0mresult\u001b[0m \u001b[0;32mis\u001b[0m \u001b[0;32mNone\u001b[0m\u001b[0;34m:\u001b[0m\u001b[0;34m\u001b[0m\u001b[0;34m\u001b[0m\u001b[0m\n\u001b[0;32m-> 6710\u001b[0;31m             \u001b[0;32mreturn\u001b[0m \u001b[0mself\u001b[0m\u001b[0;34m.\u001b[0m\u001b[0mapply\u001b[0m\u001b[0;34m(\u001b[0m\u001b[0mfunc\u001b[0m\u001b[0;34m,\u001b[0m \u001b[0maxis\u001b[0m\u001b[0;34m=\u001b[0m\u001b[0maxis\u001b[0m\u001b[0;34m,\u001b[0m \u001b[0margs\u001b[0m\u001b[0;34m=\u001b[0m\u001b[0margs\u001b[0m\u001b[0;34m,\u001b[0m \u001b[0;34m**\u001b[0m\u001b[0mkwargs\u001b[0m\u001b[0;34m)\u001b[0m\u001b[0;34m\u001b[0m\u001b[0;34m\u001b[0m\u001b[0m\n\u001b[0m\u001b[1;32m   6711\u001b[0m         \u001b[0;32mreturn\u001b[0m \u001b[0mresult\u001b[0m\u001b[0;34m\u001b[0m\u001b[0;34m\u001b[0m\u001b[0m\n\u001b[1;32m   6712\u001b[0m \u001b[0;34m\u001b[0m\u001b[0m\n",
      "\u001b[0;32m/g/data/v10/public/modules/dea-env/20200612/lib/python3.6/site-packages/pandas/core/frame.py\u001b[0m in \u001b[0;36mapply\u001b[0;34m(self, func, axis, raw, result_type, args, **kwds)\u001b[0m\n\u001b[1;32m   6876\u001b[0m             \u001b[0mkwds\u001b[0m\u001b[0;34m=\u001b[0m\u001b[0mkwds\u001b[0m\u001b[0;34m,\u001b[0m\u001b[0;34m\u001b[0m\u001b[0;34m\u001b[0m\u001b[0m\n\u001b[1;32m   6877\u001b[0m         )\n\u001b[0;32m-> 6878\u001b[0;31m         \u001b[0;32mreturn\u001b[0m \u001b[0mop\u001b[0m\u001b[0;34m.\u001b[0m\u001b[0mget_result\u001b[0m\u001b[0;34m(\u001b[0m\u001b[0;34m)\u001b[0m\u001b[0;34m\u001b[0m\u001b[0;34m\u001b[0m\u001b[0m\n\u001b[0m\u001b[1;32m   6879\u001b[0m \u001b[0;34m\u001b[0m\u001b[0m\n\u001b[1;32m   6880\u001b[0m     \u001b[0;32mdef\u001b[0m \u001b[0mapplymap\u001b[0m\u001b[0;34m(\u001b[0m\u001b[0mself\u001b[0m\u001b[0;34m,\u001b[0m \u001b[0mfunc\u001b[0m\u001b[0;34m)\u001b[0m \u001b[0;34m->\u001b[0m \u001b[0;34m\"DataFrame\"\u001b[0m\u001b[0;34m:\u001b[0m\u001b[0;34m\u001b[0m\u001b[0;34m\u001b[0m\u001b[0m\n",
      "\u001b[0;32m/g/data/v10/public/modules/dea-env/20200612/lib/python3.6/site-packages/pandas/core/apply.py\u001b[0m in \u001b[0;36mget_result\u001b[0;34m(self)\u001b[0m\n\u001b[1;32m    184\u001b[0m             \u001b[0;32mreturn\u001b[0m \u001b[0mself\u001b[0m\u001b[0;34m.\u001b[0m\u001b[0mapply_raw\u001b[0m\u001b[0;34m(\u001b[0m\u001b[0;34m)\u001b[0m\u001b[0;34m\u001b[0m\u001b[0;34m\u001b[0m\u001b[0m\n\u001b[1;32m    185\u001b[0m \u001b[0;34m\u001b[0m\u001b[0m\n\u001b[0;32m--> 186\u001b[0;31m         \u001b[0;32mreturn\u001b[0m \u001b[0mself\u001b[0m\u001b[0;34m.\u001b[0m\u001b[0mapply_standard\u001b[0m\u001b[0;34m(\u001b[0m\u001b[0;34m)\u001b[0m\u001b[0;34m\u001b[0m\u001b[0;34m\u001b[0m\u001b[0m\n\u001b[0m\u001b[1;32m    187\u001b[0m \u001b[0;34m\u001b[0m\u001b[0m\n\u001b[1;32m    188\u001b[0m     \u001b[0;32mdef\u001b[0m \u001b[0mapply_empty_result\u001b[0m\u001b[0;34m(\u001b[0m\u001b[0mself\u001b[0m\u001b[0;34m)\u001b[0m\u001b[0;34m:\u001b[0m\u001b[0;34m\u001b[0m\u001b[0;34m\u001b[0m\u001b[0m\n",
      "\u001b[0;32m/g/data/v10/public/modules/dea-env/20200612/lib/python3.6/site-packages/pandas/core/apply.py\u001b[0m in \u001b[0;36mapply_standard\u001b[0;34m(self)\u001b[0m\n\u001b[1;32m    294\u001b[0m             \u001b[0;32mtry\u001b[0m\u001b[0;34m:\u001b[0m\u001b[0;34m\u001b[0m\u001b[0;34m\u001b[0m\u001b[0m\n\u001b[1;32m    295\u001b[0m                 result = libreduction.compute_reduction(\n\u001b[0;32m--> 296\u001b[0;31m                     \u001b[0mvalues\u001b[0m\u001b[0;34m,\u001b[0m \u001b[0mself\u001b[0m\u001b[0;34m.\u001b[0m\u001b[0mf\u001b[0m\u001b[0;34m,\u001b[0m \u001b[0maxis\u001b[0m\u001b[0;34m=\u001b[0m\u001b[0mself\u001b[0m\u001b[0;34m.\u001b[0m\u001b[0maxis\u001b[0m\u001b[0;34m,\u001b[0m \u001b[0mdummy\u001b[0m\u001b[0;34m=\u001b[0m\u001b[0mdummy\u001b[0m\u001b[0;34m,\u001b[0m \u001b[0mlabels\u001b[0m\u001b[0;34m=\u001b[0m\u001b[0mlabels\u001b[0m\u001b[0;34m\u001b[0m\u001b[0;34m\u001b[0m\u001b[0m\n\u001b[0m\u001b[1;32m    297\u001b[0m                 )\n\u001b[1;32m    298\u001b[0m             \u001b[0;32mexcept\u001b[0m \u001b[0mValueError\u001b[0m \u001b[0;32mas\u001b[0m \u001b[0merr\u001b[0m\u001b[0;34m:\u001b[0m\u001b[0;34m\u001b[0m\u001b[0;34m\u001b[0m\u001b[0m\n",
      "\u001b[0;32mpandas/_libs/reduction.pyx\u001b[0m in \u001b[0;36mpandas._libs.reduction.compute_reduction\u001b[0;34m()\u001b[0m\n",
      "\u001b[0;32mpandas/_libs/reduction.pyx\u001b[0m in \u001b[0;36mpandas._libs.reduction.Reducer.get_result\u001b[0;34m()\u001b[0m\n",
      "\u001b[0;32m/g/data1a/r78/rt1527/dea-notebooks/DEACoastLines/validation/deacoastlines_validation.py\u001b[0m in \u001b[0;36m<lambda>\u001b[0;34m(x)\u001b[0m\n\u001b[1;32m   1147\u001b[0m         \u001b[0;31m# Aggregate by year and take most common categorical\u001b[0m\u001b[0;34m\u001b[0m\u001b[0;34m\u001b[0m\u001b[0;34m\u001b[0m\u001b[0m\n\u001b[1;32m   1148\u001b[0m         modal_vals = val_df[['source', 'beach', 'section', 'profile']].agg(\n\u001b[0;32m-> 1149\u001b[0;31m             lambda x: pd.Series.mode(x).iloc[0])\n\u001b[0m\u001b[1;32m   1150\u001b[0m \u001b[0;34m\u001b[0m\u001b[0m\n\u001b[1;32m   1151\u001b[0m         \u001b[0;31m# Aggregate by year and save count number and source\u001b[0m\u001b[0;34m\u001b[0m\u001b[0;34m\u001b[0m\u001b[0;34m\u001b[0m\u001b[0m\n",
      "\u001b[0;32m/g/data/v10/public/modules/dea-env/20200612/lib/python3.6/site-packages/pandas/core/indexing.py\u001b[0m in \u001b[0;36m__getitem__\u001b[0;34m(self, key)\u001b[0m\n\u001b[1;32m   1766\u001b[0m \u001b[0;34m\u001b[0m\u001b[0m\n\u001b[1;32m   1767\u001b[0m             \u001b[0mmaybe_callable\u001b[0m \u001b[0;34m=\u001b[0m \u001b[0mcom\u001b[0m\u001b[0;34m.\u001b[0m\u001b[0mapply_if_callable\u001b[0m\u001b[0;34m(\u001b[0m\u001b[0mkey\u001b[0m\u001b[0;34m,\u001b[0m \u001b[0mself\u001b[0m\u001b[0;34m.\u001b[0m\u001b[0mobj\u001b[0m\u001b[0;34m)\u001b[0m\u001b[0;34m\u001b[0m\u001b[0;34m\u001b[0m\u001b[0m\n\u001b[0;32m-> 1768\u001b[0;31m             \u001b[0;32mreturn\u001b[0m \u001b[0mself\u001b[0m\u001b[0;34m.\u001b[0m\u001b[0m_getitem_axis\u001b[0m\u001b[0;34m(\u001b[0m\u001b[0mmaybe_callable\u001b[0m\u001b[0;34m,\u001b[0m \u001b[0maxis\u001b[0m\u001b[0;34m=\u001b[0m\u001b[0maxis\u001b[0m\u001b[0;34m)\u001b[0m\u001b[0;34m\u001b[0m\u001b[0;34m\u001b[0m\u001b[0m\n\u001b[0m\u001b[1;32m   1769\u001b[0m \u001b[0;34m\u001b[0m\u001b[0m\n\u001b[1;32m   1770\u001b[0m     \u001b[0;32mdef\u001b[0m \u001b[0m_is_scalar_access\u001b[0m\u001b[0;34m(\u001b[0m\u001b[0mself\u001b[0m\u001b[0;34m,\u001b[0m \u001b[0mkey\u001b[0m\u001b[0;34m:\u001b[0m \u001b[0mTuple\u001b[0m\u001b[0;34m)\u001b[0m\u001b[0;34m:\u001b[0m\u001b[0;34m\u001b[0m\u001b[0;34m\u001b[0m\u001b[0m\n",
      "\u001b[0;32m/g/data/v10/public/modules/dea-env/20200612/lib/python3.6/site-packages/pandas/core/indexing.py\u001b[0m in \u001b[0;36m_getitem_axis\u001b[0;34m(self, key, axis)\u001b[0m\n\u001b[1;32m   2136\u001b[0m \u001b[0;34m\u001b[0m\u001b[0m\n\u001b[1;32m   2137\u001b[0m             \u001b[0;31m# validate the location\u001b[0m\u001b[0;34m\u001b[0m\u001b[0;34m\u001b[0m\u001b[0;34m\u001b[0m\u001b[0m\n\u001b[0;32m-> 2138\u001b[0;31m             \u001b[0mself\u001b[0m\u001b[0;34m.\u001b[0m\u001b[0m_validate_integer\u001b[0m\u001b[0;34m(\u001b[0m\u001b[0mkey\u001b[0m\u001b[0;34m,\u001b[0m \u001b[0maxis\u001b[0m\u001b[0;34m)\u001b[0m\u001b[0;34m\u001b[0m\u001b[0;34m\u001b[0m\u001b[0m\n\u001b[0m\u001b[1;32m   2139\u001b[0m \u001b[0;34m\u001b[0m\u001b[0m\n\u001b[1;32m   2140\u001b[0m             \u001b[0;32mreturn\u001b[0m \u001b[0mself\u001b[0m\u001b[0;34m.\u001b[0m\u001b[0m_get_loc\u001b[0m\u001b[0;34m(\u001b[0m\u001b[0mkey\u001b[0m\u001b[0;34m,\u001b[0m \u001b[0maxis\u001b[0m\u001b[0;34m=\u001b[0m\u001b[0maxis\u001b[0m\u001b[0;34m)\u001b[0m\u001b[0;34m\u001b[0m\u001b[0;34m\u001b[0m\u001b[0m\n",
      "\u001b[0;32m/g/data/v10/public/modules/dea-env/20200612/lib/python3.6/site-packages/pandas/core/indexing.py\u001b[0m in \u001b[0;36m_validate_integer\u001b[0;34m(self, key, axis)\u001b[0m\n\u001b[1;32m   2061\u001b[0m         \u001b[0mlen_axis\u001b[0m \u001b[0;34m=\u001b[0m \u001b[0mlen\u001b[0m\u001b[0;34m(\u001b[0m\u001b[0mself\u001b[0m\u001b[0;34m.\u001b[0m\u001b[0mobj\u001b[0m\u001b[0;34m.\u001b[0m\u001b[0m_get_axis\u001b[0m\u001b[0;34m(\u001b[0m\u001b[0maxis\u001b[0m\u001b[0;34m)\u001b[0m\u001b[0;34m)\u001b[0m\u001b[0;34m\u001b[0m\u001b[0;34m\u001b[0m\u001b[0m\n\u001b[1;32m   2062\u001b[0m         \u001b[0;32mif\u001b[0m \u001b[0mkey\u001b[0m \u001b[0;34m>=\u001b[0m \u001b[0mlen_axis\u001b[0m \u001b[0;32mor\u001b[0m \u001b[0mkey\u001b[0m \u001b[0;34m<\u001b[0m \u001b[0;34m-\u001b[0m\u001b[0mlen_axis\u001b[0m\u001b[0;34m:\u001b[0m\u001b[0;34m\u001b[0m\u001b[0;34m\u001b[0m\u001b[0m\n\u001b[0;32m-> 2063\u001b[0;31m             \u001b[0;32mraise\u001b[0m \u001b[0mIndexError\u001b[0m\u001b[0;34m(\u001b[0m\u001b[0;34m\"single positional indexer is out-of-bounds\"\u001b[0m\u001b[0;34m)\u001b[0m\u001b[0;34m\u001b[0m\u001b[0;34m\u001b[0m\u001b[0m\n\u001b[0m\u001b[1;32m   2064\u001b[0m \u001b[0;34m\u001b[0m\u001b[0m\n\u001b[1;32m   2065\u001b[0m     \u001b[0;32mdef\u001b[0m \u001b[0m_getitem_tuple\u001b[0m\u001b[0;34m(\u001b[0m\u001b[0mself\u001b[0m\u001b[0;34m,\u001b[0m \u001b[0mtup\u001b[0m\u001b[0;34m:\u001b[0m \u001b[0mTuple\u001b[0m\u001b[0;34m)\u001b[0m\u001b[0;34m:\u001b[0m\u001b[0;34m\u001b[0m\u001b[0;34m\u001b[0m\u001b[0m\n",
      "\u001b[0;31mIndexError\u001b[0m: single positional indexer is out-of-bounds"
     ]
    }
   ],
   "source": [
    "from sklearn.metrics import mean_squared_error\n",
    "from sklearn.metrics import mean_absolute_error\n",
    "\n",
    "val_paths = glob.glob('output_data/cgc_*.csv')\n",
    "deacl_path = '../packages/DEACoastLines_v0.2.0/DEACoastLines_coastlines_v0.2.0.shp'\n",
    "# deacl_path = '../DEACoastLines_coastlines_v0.2.0_0.20.shp'\n",
    "\n",
    "stats_list = []\n",
    "\n",
    "for val_path in val_paths:\n",
    "    \n",
    "    # Run analysis and close resulting figure\n",
    "    print(f'{val_path:<80}', end='\\r')\n",
    "    output_stats = deacl_val.deacl_validation(val_path, \n",
    "                                              deacl_path,\n",
    "                                              datum=0)\n",
    "    # Close figure if plotting over 10\n",
    "    if len(stats_list) > 10: plt.close()\n",
    "    \n",
    "    # Append stats to list\n",
    "    stats_list.append(output_stats)\n",
    "    \n",
    "# Combine stats into a dataframe\n",
    "stats_df = pd.concat(stats_list)\n",
    "stats_df.head()\n"
   ]
  },
  {
   "cell_type": "code",
   "execution_count": 148,
   "metadata": {},
   "outputs": [],
   "source": [
    "# Export evaluation vectord\n",
    "output_name = 'stirling'\n",
    "export_eval(stats_df, output_name)\n",
    "# stats_df.groupby('beach').apply(lambda x: export_eval(x, x.beach.iloc[0]))"
   ]
  },
  {
   "cell_type": "code",
   "execution_count": 164,
   "metadata": {},
   "outputs": [
    {
     "name": "stdout",
     "output_type": "stream",
     "text": [
      "MAE: 4.86 m\n",
      "RMSE: 7.76 m\n",
      "StDev: 7.66\n",
      "Corr: 0.924\n",
      "Mean offset: 8.54 m\n",
      "50th perc diff: 9.29 m\n"
     ]
    },
    {
     "data": {
      "text/plain": [
       "<matplotlib.axes._subplots.AxesSubplot at 0x7f4f27dc7630>"
      ]
     },
     "execution_count": 164,
     "metadata": {},
     "output_type": "execute_result"
    },
    {
     "data": {
      "image/png": "[encoded data removed]",
      "text/plain": [
       "<Figure size 432x288 with 2 Axes>"
      ]
     },
     "metadata": {
      "needs_background": "light"
     },
     "output_type": "display_data"
    }
   ],
   "source": [
    "# Print stats and plot scatterplot\n",
    "stats_subset = stats_df  #.loc[stats_df.beach=='wreckpoint']\n",
    "# stats_subset['deacl_dist'] += 10\n",
    "print(f'MAE: {mean_absolute_error(stats_subset.val_dist, stats_subset.deacl_dist):.2f} m\\n'\n",
    "      f'RMSE: {mean_squared_error(stats_subset.val_dist, stats_subset.deacl_dist)**0.5:.2f} m\\n'\n",
    "      f'StDev: {stats_subset[[\"diff_dist\"]].std().iloc[0]:.2f}\\n'\n",
    "      f'Corr: {stats_subset[[\"val_dist\", \"deacl_dist\"]].corr().iloc[0, 1]:.3f}\\n'\n",
    "      f'Mean offset: {stats_subset[[\"diff_dist\"]].mean().iloc[0]:.2f} m\\n'\n",
    "      f'50th perc diff: {stats_subset[\"diff_dist\"].abs().quantile(0.50):.2f} m')\n",
    "\n",
    "stats_subset.plot.scatter(x='val_dist',\n",
    "                      y='deacl_dist',\n",
    "                      c=stats_subset.year,\n",
    "                      s=25,\n",
    "                      cmap='YlOrRd',\n",
    "#                       vmin=1987,\n",
    "#                       vmax=2018,\n",
    "                      edgecolors='black',\n",
    "                      linewidth=0.5)\n"
   ]
  },
  {
   "cell_type": "code",
   "execution_count": 162,
   "metadata": {},
   "outputs": [
    {
     "data": {
      "text/plain": [
       "[<matplotlib.lines.Line2D at 0x7f4f288e9400>]"
      ]
     },
     "execution_count": 162,
     "metadata": {},
     "output_type": "execute_result"
    },
    {
     "data": {
      "image/png": "[encoded data removed]",
      "text/plain": [
       "<Figure size 576x576 with 1 Axes>"
      ]
     },
     "metadata": {
      "needs_background": "light"
     },
     "output_type": "display_data"
    }
   ],
   "source": [
    "import seaborn as sns\n",
    "\n",
    "extent = (0, 120)\n",
    "fig, ax = plt.subplots(figsize=(8, 8))\n",
    "\n",
    "sns.kdeplot(ax=ax,\n",
    "            data=stats_df.val_dist,\n",
    "            data2=stats_df.deacl_dist, \n",
    "            cmap='magma', \n",
    "            shade=True,\n",
    "            clip=(extent, extent)\n",
    "           )\n",
    "plt.gca().plot(np.linspace(*extent), \n",
    "               np.linspace(*extent),\n",
    "               color='white',\n",
    "               linestyle='dashed')"
   ]
  },
  {
   "cell_type": "code",
   "execution_count": 745,
   "metadata": {},
   "outputs": [],
   "source": [
    "to_vector(output_stats, fname='test6.shp', x='0_x', y='0_y', crs='EPSG:3577')"
   ]
  },
  {
   "cell_type": "markdown",
   "metadata": {},
   "source": [
    "## Pre-processing\n"
   ]
  },
  {
   "cell_type": "markdown",
   "metadata": {},
   "source": [
    "### Victoria/Deakin\n",
    "* [X] Renovated"
   ]
  },
  {
   "cell_type": "code",
   "execution_count": null,
   "metadata": {},
   "outputs": [],
   "source": [
    "deacl_val.preprocess_vicdeakin(fname='input_data/vicdeakin/z_data_10cm_VIC.csv',\n",
    "                               datum=0)"
   ]
  },
  {
   "cell_type": "markdown",
   "metadata": {},
   "source": [
    "### WRL Narrabeen \n",
    "* [X] Renovated"
   ]
  },
  {
   "cell_type": "code",
   "execution_count": null,
   "metadata": {},
   "outputs": [],
   "source": [
    "deacl_val.preprocess_narrabeen(fname='input_data/wrl/Narrabeen_Profiles_2018.csv',\n",
    "                               datum=0,\n",
    "                               overwrite=True)\n"
   ]
  },
  {
   "cell_type": "markdown",
   "metadata": {},
   "source": [
    "### NSW Beach Profile Database\n",
    "* [X] Renovated"
   ]
  },
  {
   "cell_type": "code",
   "execution_count": 143,
   "metadata": {},
   "outputs": [
    {
     "name": "stdout",
     "output_type": "stream",
     "text": [
      "Processing output_data/nswbpd_lennoxhead.csv                                               \r"
     ]
    },
    {
     "name": "stderr",
     "output_type": "stream",
     "text": [
      "/g/data/v10/public/modules/dea-env/20200526/lib/python3.6/site-packages/IPython/core/interactiveshell.py:3254: DtypeWarning: Columns (1) have mixed types.Specify dtype option on import or set low_memory=False.\n",
      "  if (await self.run_code(code, result,  async_=asy)):\n"
     ]
    },
    {
     "name": "stdout",
     "output_type": "stream",
     "text": [
      "\n",
      "Dropping invalid profiles: 19                                                                              \n",
      "Processing output_data/nswbpd_brunswick.csv                                                \n",
      "Dropping invalid profiles: 1                                                                               \n",
      "Processing output_data/nswbpd_saphirebeach.csv                                             \n",
      "Dropping invalid profiles: 13                                                                              \n",
      "Processing output_data/nswbpd_ballina.csv                                                  \n",
      "Dropping invalid profiles: 1                                                                               \n",
      "Processing output_data/nswbpd_boambeebeach.csv                                             \n",
      "Dropping invalid profiles: 9                                                                               \n",
      "Processing output_data/nswbpd_saltsbay.csv                                                 \n",
      "Dropping invalid profiles: 6                                                                               \n",
      "Processing output_data/nswbpd_oldbar.csv                                                   \n",
      "Dropping invalid profiles: 4                                                                               \n",
      "Processing output_data/nswbpd_diamondbeach.csv                                             \n",
      "Dropping invalid profiles: 2                                                                               \n",
      "Processing output_data/nswbpd_kingscliff.csv                                               \n",
      "Dropping invalid profiles: 2                                                                               \n",
      "Processing output_data/nswbpd_byronbay.csv                                                 \n",
      "Dropping invalid profiles: 14                                                                              \n",
      "Processing output_data/nswbpd_minnamurra.csv                                               \n",
      "Dropping invalid profiles: 1                                                                               \n",
      "Processing output_data/nswbpd_nambucca.csv                                                 \n",
      "Dropping invalid profiles: 18                                                                              \n",
      "Processing output_data/nswbpd_uminabeach.csv                                               \n",
      "Dropping invalid profiles: 1                                                                               \n",
      "Processing output_data/nswbpd_sealrocks.csv                                                \n",
      "Dropping invalid profiles: 6                                                                               \n",
      "Processing output_data/nswbpd_fiddamansbeachheadland.csv                                   \n",
      "Dropping invalid profiles: 14                                                                              \n",
      "Processing output_data/nswbpd_macauleysbeach.csv                                           \n",
      "Dropping invalid profiles: 9                                                                               \n",
      "Processing output_data/nswbpd_kendalls.csv                                                 \n",
      "Dropping invalid profiles: 7                                                                               \n",
      "Processing output_data/nswbpd_woolibeach.csv                                               \n",
      "Dropping invalid profiles: 19                                                                              \n",
      "Processing output_data/nswbpd_swanseabelmont.csv                                           \n",
      "Dropping invalid profiles: 6                                                                               \n",
      "Processing output_data/nswbpd_mullaway.csv                                                 \n",
      "Dropping invalid profiles: 4                                                                               \n",
      "Processing output_data/nswbpd_porthacking,cornullaandkurnell.csv                           \n",
      "Dropping invalid profiles: 11                                                                              \n",
      "Processing output_data/nswbpd_flynnsbeach.csv                                              \n",
      "Dropping invalid profiles: 8                                                                               \n",
      "Processing output_data/nswbpd_yamba.csv                                                    \n",
      "Dropping invalid profiles: 11                                                                              \n",
      "Processing output_data/nswbpd_macmastersforresters.csv                                     \n",
      "Dropping invalid profiles: 6                                                                               \n",
      "Processing output_data/nswbpd_mollymook&narrawally&collers.csv                             \n",
      "Dropping invalid profiles: 8                                                                               \n",
      "Processing output_data/nswbpd_burrillakeandracecoursebeach.csv                             \n",
      "Dropping invalid profiles: 14                                                                              \n",
      "Processing output_data/nswbpd_parksbeach.csv                                               \n",
      "Dropping invalid profiles: 6                                                                               \n",
      "Processing output_data/nswbpd_eurobodallabeachessouth.csv                                  \n",
      "Dropping invalid profiles: 4                                                                               \n",
      "Processing output_data/nswbpd_patchsbeach.csv                                              \n",
      "Dropping invalid profiles: 5                                                                               \n",
      "Processing output_data/nswbpd_monavale.csv                                                 \r"
     ]
    }
   ],
   "source": [
    "for fname in glob.glob('input_data/nswbpd/*.csv'):\n",
    "    profiles_df = deacl_val.preprocess_nswbpd(fname, \n",
    "                                              datum=0, \n",
    "                                              overwrite=True)     \n"
   ]
  },
  {
   "cell_type": "markdown",
   "metadata": {},
   "source": [
    "### City of Gold Coast\n",
    "* [X] Renovated"
   ]
  },
  {
   "cell_type": "code",
   "execution_count": 4,
   "metadata": {},
   "outputs": [
    {
     "name": "stdout",
     "output_type": "stream",
     "text": [
      "Processing output_data/cgc_wholeofcoast.csv                                                \r"
     ]
    }
   ],
   "source": [
    "# List of sites to iterate over\n",
    "all_profiles = glob.glob(f'input_data/cityofgoldcoast/*.txt')\n",
    "sites = np.unique([i.split(' - ')[0].split('/')[-1] for i in all_profiles])\n",
    "# sites = ['SOUTH STRADBROKE']\n",
    "\n",
    "for site in sites:\n",
    "    deacl_val.preprocess_cgc(site=site, \n",
    "                             datum=0,\n",
    "                             overwrite=True)"
   ]
  },
  {
   "cell_type": "markdown",
   "metadata": {},
   "source": [
    "### TASMARC\n",
    "* [X] Renovated"
   ]
  },
  {
   "cell_type": "code",
   "execution_count": null,
   "metadata": {},
   "outputs": [],
   "source": [
    "# List of sites to iterate over\n",
    "sites = [i.split('/')[2] for i in glob.glob('input_data/tasmarc/*/')]\n",
    "\n",
    "for site in sites[3:4]:\n",
    "    deacl_val.preprocess_tasmarc(site, overwrite=True) \n"
   ]
  },
  {
   "cell_type": "markdown",
   "metadata": {},
   "source": [
    "### WA DoT\n",
    "* [X] Renovated"
   ]
  },
  {
   "cell_type": "code",
   "execution_count": 554,
   "metadata": {},
   "outputs": [
    {
     "name": "stdout",
     "output_type": "stream",
     "text": [
      "Processing binningup 2016                                                                                                           \r"
     ]
    }
   ],
   "source": [
    "# Read in tertiary compartment file to regionalise results\n",
    "# tertiary_gdf = gpd.read_file('input_data/WA_tertiaryCC.shp').to_crs('EPSG:3577')\n",
    "tertiary_gdf = gpd.read_file('input_data/wa_sw.geojson').to_crs('EPSG:3577')\n",
    "tertiary_gdf = tertiary_gdf.set_index('FROM_')\n",
    "\n",
    "# Extract transects and validation distances\n",
    "deacl_val.preprocess_wadot(regions_gdf=tertiary_gdf, \n",
    "                           fname='input_data/wadot/Coastline_Movements_20190819.gdb',\n",
    "                           smartline='../input_data/Smartline.gdb',\n",
    "                           aus_poly='/g/data/r78/rt1527/shapefiles/australia/australia/cstauscd_r.shp')"
   ]
  },
  {
   "cell_type": "markdown",
   "metadata": {},
   "source": [
    "### WA DoT - Stirling"
   ]
  },
  {
   "cell_type": "code",
   "execution_count": 156,
   "metadata": {},
   "outputs": [],
   "source": [
    "deacl_val.preprocess_stirling(fname_out='output_data/stirling_stirling.csv',\n",
    "                              datum=0)"
   ]
  },
  {
   "cell_type": "markdown",
   "metadata": {},
   "source": [
    "### SA Department of Environment and Water"
   ]
  },
  {
   "cell_type": "code",
   "execution_count": null,
   "metadata": {},
   "outputs": [],
   "source": [
    "import math\n",
    "from pyproj import Transformer\n",
    "\n",
    "# Load data and set nodata values to NaN\n",
    "wide_df = pd.read_csv('input_data/sadew/200011.CSV', na_values=[-9999])\n",
    "\n",
    "# Reproject coords to Albers and create geodataframe\n",
    "trans = Transformer.from_crs(\"EPSG:28354\", \"EPSG:28356\", always_xy=True)\n",
    "wide_df['EASTING'], wide_df['NORTHING'] = trans.transform(\n",
    "    wide_df.EASTING.values, wide_df.NORTHING.values)\n",
    "\n",
    "# Reshape into long format with each observation on a new row\n",
    "profile_df = pd.melt(wide_df.drop('SAMPLE_NO', axis=1), \n",
    "                     id_vars=['EASTING', 'NORTHING', 'PROFILE'],\n",
    "                     value_name='elevation').dropna()\n",
    "\n",
    "# Set column names to lower case\n",
    "profile_df.columns = profile_df.columns.str.lower()\n",
    "\n",
    "# Extract date info\n",
    "profile_df['date'] = profile_df['variable'].str[1:].str.strip()\n",
    "profile_df['date'] = pd.to_datetime(profile_df['date'], format='%d%m%Y')\n",
    "\n",
    "# Restrict to post 1987\n",
    "profile_df = profile_df[(profile_df.date.dt.year > 1987)]\n",
    "\n",
    "# Add unique ID column\n",
    "profile_df['beach'] = 'sadew'\n",
    "profile_df['section'] = 'all'\n",
    "profile_df['profile'] = profile_df['profile'].astype(str)\n",
    "profile_df['site'] = profile_df[['beach', 'section', 'profile']].apply('_'.join, 1)\n",
    "profile_df['source'] = 'sadew'\n",
    "\n",
    "# Compute origin points for each profile\n",
    "profile_df = profile_df.assign(start_x=wide_df.iloc[0, 2], \n",
    "                               start_y=wide_df.iloc[0, 3],\n",
    "                               end_x=wide_df.iloc[-1, 2],\n",
    "                               end_y=wide_df.iloc[-1, 3])\n",
    "\n",
    "# Compute chainage\n",
    "profile_df['chainage'] = profile_df.apply(\n",
    "    lambda x: math.hypot(x.easting - x.start_x, x.northing - x.start_y), axis=1)"
   ]
  },
  {
   "cell_type": "code",
   "execution_count": null,
   "metadata": {},
   "outputs": [],
   "source": [
    "# Find location and distance to water for datum height (0 m AHD)\n",
    "out = profile_df.groupby(['site', 'date']).apply(deacl_val.waterline_intercept, \n",
    "                                                  dist_col='chainage',\n",
    "                                                  x_col='easting', \n",
    "                                                  y_col='northing', \n",
    "                                                  z_col='elevation', \n",
    "                                                  z_val=0).dropna()\n",
    "\n",
    "# If the output contains data\n",
    "if len(out.index):\n",
    "\n",
    "    # Join into dataframe\n",
    "    shoreline_dist = out.join(\n",
    "        profile_df.groupby(['site', 'date']).first())\n",
    "\n",
    "    # Keep required columns\n",
    "    shoreline_dist = shoreline_dist[['beach', 'section', 'profile',  \n",
    "                                     'source', 'start_x', 'start_y', \n",
    "                                     'end_x', 'end_y', '0_dist', \n",
    "                                     '0_x', '0_y']]\n",
    "\n",
    "    # Export to file\n",
    "    shoreline_dist.to_csv(f'output_data/satest.csv')"
   ]
  },
  {
   "cell_type": "markdown",
   "metadata": {},
   "source": [
    "***\n",
    "\n",
    "## Additional information"
   ]
  },
  {
   "cell_type": "markdown",
   "metadata": {},
   "source": [
    "**License:** The code in this notebook is licensed under the [Apache License, Version 2.0](https://www.apache.org/licenses/LICENSE-2.0). \n",
    "Digital Earth Australia data is licensed under the [Creative Commons by Attribution 4.0](https://creativecommons.org/licenses/by/4.0/) license.\n",
    "\n",
    "**Contact:** If you need assistance, please post a question on the [Open Data Cube Slack channel](http://slack.opendatacube.org/) or on the [GIS Stack Exchange](https://gis.stackexchange.com/questions/ask?tags=open-data-cube) using the `open-data-cube` tag (you can view previously asked questions [here](https://gis.stackexchange.com/questions/tagged/open-data-cube)).\n",
    "If you would like to report an issue with this notebook, you can file one on [Github](https://github.com/GeoscienceAustralia/dea-notebooks).\n",
    "\n",
    "**Last modified:** May 2020"
   ]
  }
 ],
 "metadata": {
  "kernelspec": {
   "display_name": "Python 3",
   "language": "python",
   "name": "python3"
  },
  "language_info": {
   "codemirror_mode": {
    "name": "ipython",
    "version": 3
   },
   "file_extension": ".py",
   "mimetype": "text/x-python",
   "name": "python",
   "nbconvert_exporter": "python",
   "pygments_lexer": "ipython3",
   "version": "3.6.10"
  },
  "widgets": {
   "application/vnd.jupyter.widget-state+json": {
    "state": {},
    "version_major": 2,
    "version_minor": 0
   }
  }
 },
 "nbformat": 4,
 "nbformat_minor": 4
}
